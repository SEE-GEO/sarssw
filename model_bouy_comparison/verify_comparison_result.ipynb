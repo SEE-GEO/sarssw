{
 "cells": [
  {
   "attachments": {},
   "cell_type": "markdown",
   "metadata": {},
   "source": [
    "This notebook is used to check the difference between the results from different runs of the bouy-model comparison"
   ]
  },
  {
   "cell_type": "code",
   "execution_count": 1,
   "metadata": {},
   "outputs": [],
   "source": [
    "import numpy as np\n",
    "import pandas as pd\n",
    "import xarray as xr\n",
    "import os\n",
    "import datetime\n",
    "import getpass\n",
    "import pickle"
   ]
  },
  {
   "cell_type": "code",
   "execution_count": 2,
   "metadata": {},
   "outputs": [
    {
     "name": "stdout",
     "output_type": "stream",
     "text": [
      "shape of old_era5_sel: (8887233, 8)\n",
      "shape of new_era5_sel: (8887233, 8)\n",
      "equal True\n",
      "shape of old_era5_interp: (5061758, 8)\n",
      "shape of new_era5_interp: (5061758, 8)\n",
      "equal True\n"
     ]
    }
   ],
   "source": [
    "#Compare result for era5 model from updated mode-bouy comparison\n",
    "old_era5 = './model_bouy_comparison_nonzero_shorline'\n",
    "new_era5 = './model_bouy_comparison_era5'\n",
    "\n",
    "indexes = ['bouy_file_name', 'bouy_time', 'bouy_variable_name']\n",
    "result_df_fn_old = 'result_df'\n",
    "result_df_fn_new = 'result_dfs'\n",
    "\n",
    "with open(os.path.join(old_era5, result_df_fn_old),'rb') as f_r:\n",
    "    old_era5_sel, old_era5_interp = [ds.set_index(indexes).sort_index() for ds in pickle.load(f_r)]\n",
    "    \n",
    "with open(os.path.join(new_era5, result_df_fn_new),'rb') as f_r:\n",
    "    new_era5_sel, new_era5_interp = [ds.set_index(indexes).sort_index() for ds in pickle.load(f_r)]\n",
    "\n",
    "print(\"shape of old_era5_sel:\", old_era5_sel.shape)\n",
    "print(\"shape of new_era5_sel:\", new_era5_sel.shape)\n",
    "print(\"equal\", old_era5_sel.equals(new_era5_sel))\n",
    "\n",
    "\n",
    "print(\"shape of old_era5_interp:\", old_era5_interp.shape)\n",
    "print(\"shape of new_era5_interp:\", new_era5_interp.shape)\n",
    "print(\"equal\", old_era5_interp.equals(new_era5_interp))"
   ]
  },
  {
   "cell_type": "code",
   "execution_count": 3,
   "metadata": {},
   "outputs": [
    {
     "name": "stdout",
     "output_type": "stream",
     "text": [
      "shape of old_coper_sel: (1036056, 8)\n",
      "shape of new_coper_sel: (1036056, 8)\n",
      "equal True\n",
      "shape of old_coper_interp: (1036056, 8)\n",
      "shape of new_coper_interp: (1036056, 8)\n",
      "equal:  True\n"
     ]
    }
   ],
   "source": [
    "#Compare result for copernicus model from updated mode-bouy comparison\n",
    "old_coper = './model_bouy_comparison_nonzero_shorline_wspd_newModel'\n",
    "new_coper = './model_bouy_comparison_wspd_copernicus'\n",
    "\n",
    "with open(os.path.join(old_coper, result_df_fn_old),'rb') as f_r:\n",
    "    old_coper_sel, old_coper_interp = [ds.set_index(indexes).sort_index() for ds in pickle.load(f_r)]\n",
    "\n",
    "\n",
    "with open(os.path.join(new_coper, result_df_fn_new),'rb') as f_r:\n",
    "    new_coper_sel, new_coper_interp = [ds.set_index(indexes).sort_index() for ds in pickle.load(f_r)]\n",
    "\n",
    "print(\"shape of old_coper_sel:\", old_coper_sel.shape)\n",
    "print(\"shape of new_coper_sel:\", new_coper_sel.shape)\n",
    "print(\"equal\", old_coper_sel.equals(new_coper_sel))\n",
    "\n",
    "print(\"shape of old_coper_interp:\", old_coper_interp.shape)\n",
    "print(\"shape of new_coper_interp:\", new_coper_interp.shape)\n",
    "print(\"equal: \", old_coper_interp.equals(new_coper_interp))"
   ]
  }
 ],
 "metadata": {
  "kernelspec": {
   "display_name": "Python 3",
   "language": "python",
   "name": "python3"
  },
  "language_info": {
   "codemirror_mode": {
    "name": "ipython",
    "version": 3
   },
   "file_extension": ".py",
   "mimetype": "text/x-python",
   "name": "python",
   "nbconvert_exporter": "python",
   "pygments_lexer": "ipython3",
   "version": "3.10.9"
  },
  "orig_nbformat": 4
 },
 "nbformat": 4,
 "nbformat_minor": 2
}
