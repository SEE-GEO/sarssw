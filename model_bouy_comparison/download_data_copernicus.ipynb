{
 "cells": [
  {
   "attachments": {},
   "cell_type": "markdown",
   "metadata": {},
   "source": [
    "see https://help.marine.copernicus.eu/en/articles/6725319-how-to-download-data-for-a-recurring-period-over-several-years-via-the-motu-client-in-python \n",
    "for howto make this cli command into a program"
   ]
  },
  {
   "cell_type": "code",
   "execution_count": null,
   "metadata": {},
   "outputs": [],
   "source": [
    "# Base command example\n",
    "# python -m motuclient --motu https://my.cmems-du.eu/motu-web/Motu\n",
    "# --service-id WIND_GLO_PHY_L4_MY_012_006-TDS\n",
    "# --product-id cmems_obs-wind_glo_phy_my_l4_0.125deg_PT1H\n",
    "# --longitude-min -12.455343303571427 --longitude-max 16.473195982142855\n",
    "# --latitude-min 45.241023613016935 --latitude-max 62.91957539873122\n",
    "# --date-min \"2021-01-01 00:00:00\" --date-max \"2021-01-31 12:00:00\"\n",
    "# --variable eastward_wind --variable northward_wind\n",
    "# --out-dir ./ --out-name test.nc --user fborg --pwd Zx7iwpWtqKqPTCG"
   ]
  },
  {
   "cell_type": "code",
   "execution_count": null,
   "metadata": {},
   "outputs": [],
   "source": [
    "import os\n",
    "import subprocess\n",
    "from datetime import datetime, timedelta\n",
    "import getpass\n",
    "import xarray as xr\n",
    "import math\n",
    "from tqdm import tqdm"
   ]
  },
  {
   "cell_type": "code",
   "execution_count": null,
   "metadata": {},
   "outputs": [],
   "source": [
    "#Backup settings\n",
    "#out_dir = '/data/exjobb/sarssw/model/WIND_GLO_PHY'\n",
    "#lon = (-12 , 16.5)\n",
    "#lat = (45 , 63)\n",
    "#This also used the old intervals\n",
    "#sec = timedelta(seconds=1)\n",
    "#start_dates = [datetime(2021, i, 1, 0) for i in range(1, 13)]\n",
    "#end_dates = [d - sec for d in start_dates[1:]] + [datetime(2021, 12, 31, 23)]\n",
    "#date_intervals = list(zip(start_dates, end_dates))"
   ]
  },
  {
   "cell_type": "code",
   "execution_count": null,
   "metadata": {},
   "outputs": [],
   "source": [
    "# Copernicus Marine Credentials \n",
    "USERNAME = input('Enter your username: ')\n",
    "PASSWORD = getpass.getpass(\"Enter your password: \")"
   ]
  },
  {
   "cell_type": "code",
   "execution_count": null,
   "metadata": {},
   "outputs": [],
   "source": [
    "# Work directory\n",
    "out_dir = '/data/exjobb/sarssw/model/WIND_GLO_PHY_global'\n",
    "\n",
    "#Conditionally creates the folder for the result\n",
    "os.makedirs(out_dir, exist_ok=True)\n",
    "\n",
    "#Check if we alreay have files and raise exception if we dont know how to continue\n",
    "if os.path.exists(out_dir) and os.path.isdir(out_dir):\n",
    "    files = os.listdir(out_dir)\n",
    "    #Raise if we find other files than number.nc\n",
    "    if not all([file[:-3].isnumeric() for file in files]):\n",
    "        raise Exception(f\"dir {out_dir} contains unexpected files, the files {os.listdir(out_dir)} exist\")\n",
    "\n",
    "files = os.listdir(out_dir)\n",
    "\n",
    "# product and dataset IDs\n",
    "# For https://data.marine.copernicus.eu/product/WIND_GLO_PHY_L4_MY_012_006/description\n",
    "serviceID = \"WIND_GLO_PHY_L4_MY_012_006\"\n",
    "productID = \"cmems_obs-wind_glo_phy_my_l4_0.125deg_PT1H\"\n",
    "\n",
    "#coordinates\n",
    "lon = (-180 , 180)\n",
    "lat = (-80, 80)\n",
    "\n",
    "# variable \n",
    "vars = [\"eastward_wind\", \"northward_wind\"]\n",
    "\n",
    "# Boundary dates\n",
    "time_step = timedelta(days=6)\n",
    "sec = timedelta(seconds=1)\n",
    "start_date = datetime(2021, 1, 1, 0, 0)\n",
    "end_date = datetime(2021, 12, 31, 23, 59)\n",
    "n_steps = math.ceil((end_date-start_date)/time_step)\n",
    "\n",
    "start_dates = [start_date + i*time_step for i in range(n_steps)]\n",
    "end_dates = [start_date + i*time_step - sec for i in range(1,n_steps)] + [end_date]\n",
    "date_intervals = list(zip(start_dates, end_dates))\n",
    "\n",
    "all_files_req = [str(i)+'.nc' for i in range(len(date_intervals))]"
   ]
  },
  {
   "cell_type": "code",
   "execution_count": null,
   "metadata": {},
   "outputs": [],
   "source": [
    "#If download failed last time then adjust to only donwload the files that failed last time\n",
    "file_date_zip = [tup for tup in zip(all_files_req, date_intervals) if tup[0] not in files]\n",
    "print(\"Files to download:\\n\", file_date_zip)\n",
    "\n",
    "# Download loop \n",
    "for out_name, (start_date, end_date) in tqdm(file_date_zip):\n",
    "    \n",
    "    # Motuclient command line\n",
    "    cmd = f'python -m motuclient --motu https://my.cmems-du.eu/motu-web/Motu \\\n",
    "    --service-id {serviceID}-TDS --product-id {productID} \\\n",
    "    --longitude-min {lon[0]} --longitude-max {lon[1]} --latitude-min {lat[0]} --latitude-max {lat[1]}\\\n",
    "    --date-min \"{start_date}\" --date-max \"{end_date}\" \\\n",
    "    {\" \".join([f\"--variable {v}\" for v in vars])} \\\n",
    "    --out-dir {out_dir} --out-name {out_name} --user {USERNAME} --pwd {PASSWORD}'        \n",
    "\n",
    "    print(f\"============== Running request on {start_date} ==============\")\n",
    "    #print(cmd)\n",
    "    \n",
    "    # Run the command\n",
    "    if os.system(cmd) != 0:\n",
    "        raise Exception('Error')\n",
    "\n",
    "        \n",
    "print(f\"============== Download completed! All files are in your directory {out_dir} ==============\")"
   ]
  },
  {
   "cell_type": "code",
   "execution_count": null,
   "metadata": {},
   "outputs": [],
   "source": [
    "#Check that all files have been downloaded\n",
    "file_list = os.listdir(out_dir)\n",
    "if (not all(file in file_list for file in all_files_req)) or (not all(file in all_files_req for file in file_list)):\n",
    "   raise Exception('Not all necessary files was downloaded, rerun the previous cell')"
   ]
  },
  {
   "cell_type": "code",
   "execution_count": null,
   "metadata": {},
   "outputs": [],
   "source": [
    "#Test load one dataset\n",
    "cop_wind_ds = xr.open_dataset(os.path.join(out_dir, file_list[-1]))\n",
    "cop_wind_ds"
   ]
  },
  {
   "cell_type": "code",
   "execution_count": null,
   "metadata": {},
   "outputs": [],
   "source": [
    "#Check that all scale_factors and add_offsets are the same, if not rase Exception\n",
    "def scale_offset_attr(dir, file):\n",
    "    cmd_ncks = f\"ncks -m -M {os.path.join(dir, file)}\".split(' ')\n",
    "    #cmd_ncks = 'ls'\n",
    "    cmd_grep = \"grep -E scale_factor|add_offset\".split(' ')\n",
    "    #cmd_grep = \"wc\".split(' ')\n",
    "    pipe = subprocess.Popen(cmd_ncks, stdout=subprocess.PIPE)\n",
    "    try:\n",
    "        res = subprocess.check_output(cmd_grep, stdin=pipe.stdout).decode('ascii')\n",
    "    #If grep finds nothing return empty dict\n",
    "    except subprocess.CalledProcessError:\n",
    "        return ()\n",
    "\n",
    "    return tuple(sorted(res.replace(' ', '').replace('\\n', '').split(';')))\n",
    "\n",
    "unique_scale_offset = set([scale_offset_attr(out_dir, file) for file in all_files_req])\n",
    "\n",
    "#If we have 0 or 1 unique values of scale_offsets it is okay, anything else means we have different scale or offset\n",
    "if len(unique_scale_offset) > 1:\n",
    "    raise Exception(f'Scale and/or offset is not the same for all files\\n{unique_scale_offset}')"
   ]
  },
  {
   "cell_type": "code",
   "execution_count": null,
   "metadata": {},
   "outputs": [],
   "source": [
    "#Add record variable (time) to all files\n",
    "int_file_list_sorted = sorted([int(f[:-3]) for f in file_list if f[-3:] == '.nc'])\n",
    "for file_int in tqdm(int_file_list_sorted):\n",
    "    cmd = f\"ncks --mk_rec_dmn time {os.path.join(out_dir, str(file_int))}.nc -o {os.path.join(out_dir, str(file_int))}_rec.nc\"\n",
    "    #print(cmd)\n",
    "    # Run the command\n",
    "    if os.system(cmd) != 0:\n",
    "        raise Exception('Error')"
   ]
  },
  {
   "cell_type": "code",
   "execution_count": null,
   "metadata": {},
   "outputs": [],
   "source": [
    "#Join the datasets\n",
    "save_file = 'all.nc'\n",
    "cmd = f\"ncrcat {' '.join([os.path.join(out_dir, str(file_int)) + '_rec.nc' for file_int in int_file_list_sorted])} {os.path.join(out_dir,save_file)}\"\n",
    "#print(cmd)\n",
    "# Run the command\n",
    "if os.system(cmd) != 0:\n",
    "        raise Exception('Error')"
   ]
  },
  {
   "cell_type": "code",
   "execution_count": null,
   "metadata": {},
   "outputs": [],
   "source": [
    "#Show the final dataset\n",
    "ds = xr.open_dataset(os.path.join(out_dir, save_file))\n",
    "display(ds)"
   ]
  },
  {
   "cell_type": "code",
   "execution_count": null,
   "metadata": {},
   "outputs": [],
   "source": [
    "#Clean up the direcory\n",
    "rm_files = os.listdir(out_dir)\n",
    "rm_files.remove(save_file)\n",
    "rm_files\n",
    "for file in tqdm(rm_files):\n",
    "    cmd = f\"rm {os.path.join(out_dir, file)}\"\n",
    "    if os.system(cmd) != 0:\n",
    "        raise Exception('Error')"
   ]
  }
 ],
 "metadata": {
  "kernelspec": {
   "display_name": "Python 3",
   "language": "python",
   "name": "python3"
  },
  "language_info": {
   "codemirror_mode": {
    "name": "ipython",
    "version": 3
   },
   "file_extension": ".py",
   "mimetype": "text/x-python",
   "name": "python",
   "nbconvert_exporter": "python",
   "pygments_lexer": "ipython3",
   "version": "3.10.9"
  },
  "orig_nbformat": 4
 },
 "nbformat": 4,
 "nbformat_minor": 2
}
