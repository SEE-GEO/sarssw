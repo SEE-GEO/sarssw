{
 "cells": [
  {
   "cell_type": "code",
   "execution_count": 1,
   "id": "271d6b17",
   "metadata": {
    "collapsed": true
   },
   "outputs": [],
   "source": [
    "import numpy as np\n",
    "import pandas as pd\n",
    "import xarray as xr\n",
    "import os\n",
    "import asf_search as asf\n",
    "from collections import defaultdict\n",
    "import datetime\n",
    "import pickle\n",
    "from tqdm import tqdm\n",
    "from functools import reduce\n",
    "import itertools\n",
    "from shapely import Point, LineString, Polygon, MultiPolygon\n",
    "import operator\n",
    "import lxml\n",
    "from pykml.factory import KML_ElementMaker as KML\n",
    "import cartopy"
   ]
  },
  {
   "cell_type": "code",
   "execution_count": 2,
   "id": "7f4163aa",
   "metadata": {
    "collapsed": true
   },
   "outputs": [],
   "source": [
    "def valid_data_extraction(ds, time_filter, colum_names):\n",
    "    #Make sure colum_names is a list\n",
    "    if type(colum_names) is str:\n",
    "        colum_names = [colum_names]\n",
    "        \n",
    "    #Add longitude, latidude and position_qc as variables indexed by time,depth as all other variables\n",
    "    TIME = ds['TIME'].values\n",
    "    DEPTH = ds['DEPTH'].values\n",
    "    n_DEPTHS = len(DEPTH)\n",
    "\n",
    "    dataset_columns = {\n",
    "        'LONG':ds['LONGITUDE'],\n",
    "        'LAT':ds['LATITUDE'],\n",
    "        'POS_QC':ds['POSITION_QC'],\n",
    "    }\n",
    "\n",
    "    ds_pos = xr.Dataset(\n",
    "        data_vars=\n",
    "        {k:(\n",
    "            [\"TIME\", 'DEPTH'],\n",
    "            np.repeat(np.reshape(v.values, (-1,1)), n_DEPTHS, axis=1),\n",
    "            v.attrs,\n",
    "        )for (k,v) in dataset_columns.items()},\n",
    "        coords=dict(\n",
    "            TIME=TIME,\n",
    "            DEPTH=DEPTH,\n",
    "        )\n",
    "    ).drop_vars('DEPTH')\n",
    "    ds = xr.merge([ds.drop_dims(['LATITUDE', 'LONGITUDE', 'POSITION']), ds_pos])\n",
    "    \n",
    "    #Filter for time of interest and depth 0\n",
    "    if type(time_filter) is tuple:\n",
    "        ds = ds.sel(TIME=slice(time_filter[0], time_filter[1]), DEPTH=0)\n",
    "    else:\n",
    "        ds = ds.sel(TIME=time_filter, DEPTH=0)   \n",
    "    \n",
    "    #Filter only avalible columns\n",
    "    colum_names = list(set(colum_names).intersection(list(ds.data_vars)))\n",
    "    colum_names_qc = [c + '_QC' for c in colum_names]\n",
    "    \n",
    "    #Add fixed columns\n",
    "    colum_names.extend(['LONG', 'LAT'])\n",
    "    colum_names_qc.extend(['TIME_QC', 'POS_QC'])\n",
    "    \n",
    "    #Filter for columns of interest\n",
    "    ds = ds[colum_names + colum_names_qc]\n",
    "    \n",
    "    df = ds.to_dataframe()\n",
    "    QC_good = [1.0, 7.0]\n",
    "    \n",
    "    #Filter for good data only\n",
    "    filter_qc = [df[c_qc].isin(QC_good) for c_qc in colum_names_qc]\n",
    "    #Element-wise AND the filters\n",
    "    filter_qc = reduce(operator.and_, filter_qc)\n",
    "    df = df[filter_qc][colum_names]\n",
    "    \n",
    "    return df"
   ]
  },
  {
   "cell_type": "code",
   "execution_count": 3,
   "id": "6008c844",
   "metadata": {
    "collapsed": true
   },
   "outputs": [],
   "source": [
    "# Searches fro SAR images that overlaps with the data in file according to the filters:\n",
    "# Within the start and end date\n",
    "# Only for variables found in the variables argument\n",
    "# Absolute time difference between image and bouy observation is at most max_time_diff_s\n",
    "# The data is also quiality controlled and only rows containing valid data for all variables are accepted\n",
    "# The time and position fields are also quality controlled \n",
    "# It also excludes datapoints found within the land Multipolygon\n",
    "\n",
    "# The result is saved in result_df wich is automatically created with the correct column datatypes after first passing None\n",
    "def search_file(file, data_dir, start_date, end_date, variables, max_time_diff_s, result_df, land_multipolygon):\n",
    "    #Conditionally create the result dataframe\n",
    "    if result_df is None:\n",
    "        result_df = pd.DataFrame({c: pd.Series(dtype=t) for c, t in {\n",
    "            'bouy_file_name':str,\n",
    "            'bouy_longitude':float,\n",
    "            'bouy_latitude':float,\n",
    "            'bouy_time':np.dtype('<M8[ns]'), #np.datetime64\n",
    "            'bouy_variable_name':str,\n",
    "            'bouy_variable_value':float,\n",
    "            'sar_url':str,\n",
    "            'sar_mode':str,\n",
    "            'sar_polarization':str,\n",
    "            'sar_platform':str,\n",
    "            'sar_start_time':np.dtype('<M8[ns]'), #np.datetime64\n",
    "            'sar_stop_time':np.dtype('<M8[ns]'), #np.datetime64\n",
    "            'sar_coordinates':object, #List\n",
    "        }.items()})\n",
    "\n",
    "    #Load the data from the file\n",
    "    file_path = os.path.join(data_dir, file)\n",
    "    xar = xr.open_dataset(file_path)# , engine='scipy')\n",
    "    xar_vars = list(xar.data_vars)\n",
    "\n",
    "    #Clear any eventual prior asf search result\n",
    "    asf_results = None\n",
    "    \n",
    "    #Filter for variables that exist in the data\n",
    "    common_variables = set(variables).intersection(xar_vars)\n",
    "    \n",
    "    if len(common_variables) == 0:\n",
    "        print(file + \" does not have any of the variables \" + str(variables))\n",
    "        return result_df\n",
    "    \n",
    "    for var in common_variables:\n",
    "        try:\n",
    "            #extract dataframe of the correct timeinterval and variable \n",
    "            df = valid_data_extraction(xar, (start_date, end_date), var)\n",
    "        except Exception as e:\n",
    "            print(file, ': data extraction failed with:', e)\n",
    "            continue\n",
    "        \n",
    "        if df.empty:\n",
    "            print(file + \" does not have any valid data for this timeperiod\")\n",
    "            continue\n",
    "            \n",
    "        #Only search once (assume similar results in regards to min and max longitude and latitude for each variable)\n",
    "        if asf_results is None:\n",
    "            #extract long and latitude\n",
    "            long_min, lat_min = df[['LONG', 'LAT']].min()\n",
    "            long_max, lat_max = df[['LONG', 'LAT']].max()\n",
    "\n",
    "            #Create geographical search restriction\n",
    "            coord_points = list(itertools.product(set([long_min, long_max]), set([lat_min, lat_max])))\n",
    "\n",
    "            #For each possible length of coord_points set the prefix ans dufix for the asf search\n",
    "            #Also create a shapely geometry to check for overlap with the land_multipolygon\n",
    "            if len(coord_points) == 1:\n",
    "                geo_prefix = 'POINT('\n",
    "                geo_suffix = ')'\n",
    "                geo_obj = Point(*coord_points)\n",
    "            elif len(coord_points) == 2:\n",
    "                #raise Exception(\"First time we see only changes in one coordinate, debug and make sure it works porpery\")\n",
    "                geo_prefix = 'LINESTRING('\n",
    "                geo_suffix = ')'\n",
    "                geo_obj = LineString(coord_points)\n",
    "            elif len(coord_points) == 4:\n",
    "                #Double parenthesis was given from asf website export search as python function\n",
    "                geo_prefix = 'POLYGON(('\n",
    "                geo_suffix = '))'\n",
    "                #Untangle the polygon itersection\n",
    "                coord_points[2:4]=reversed(coord_points[2:4])\n",
    "                #Form closed polygon by adding adding fist point as last\n",
    "                coord_points.append(coord_points[0])\n",
    "                geo_obj = Polygon(coord_points)\n",
    "\n",
    "            #The area that of the locations in the data that is not near the shoreline\n",
    "            off_shore = geo_obj.difference(land_multipolygon)\n",
    "\n",
    "            #Check if the whole area of interest is close to shore or overlapps with land\n",
    "            #in that case return\n",
    "            if off_shore.is_empty:\n",
    "                print(file + \" is too close to land\")\n",
    "                return result_df\n",
    "\n",
    "            #Filter data of df to only include data that does not lie close to shore\n",
    "            #allow a small distance since points on the edge doeas not overlap according to shapely.overlaps \n",
    "            df_shore_filter =  df.apply(lambda row: Point([row['LONG'], row['LAT']]).distance(off_shore), axis=1) <= 0.00001\n",
    "            df = df[df_shore_filter]\n",
    "\n",
    "            geo_limit = ','.join([str(long) + ' ' + str(lat) for long,lat in coord_points])\n",
    "            geo_limit = geo_prefix + geo_limit + geo_suffix\n",
    "            \n",
    "            print(geo_limit)\n",
    "\n",
    "            #Search asf\n",
    "            options = {\n",
    "                'intersectsWith': geo_limit,\n",
    "                'platform': 'SENTINEL-1',\n",
    "                'instrument': 'C-SAR',\n",
    "                'start': start_date,\n",
    "                'end': end_date,\n",
    "                'processingLevel': [\n",
    "                    'GRD_HD',\n",
    "                    'GRD_MD',\n",
    "                    'GRD_MS',\n",
    "                    'GRD_HS'\n",
    "                ],\n",
    "                'beamSwath': [\n",
    "                    'IW',\n",
    "                    'EW'\n",
    "                ],\n",
    "            }\n",
    "\n",
    "            asf_results = asf.search(**options)\n",
    "            print(len(asf_results), ' results found')\n",
    "        \n",
    "        for asf_result in asf_results:\n",
    "            #Find mean time of image generation\n",
    "            asf_result_start = datetime.datetime.fromisoformat(asf_result.properties['startTime'][:-5])\n",
    "            asf_result_stop = datetime.datetime.fromisoformat(asf_result.properties['stopTime'][:-5])\n",
    "            asf_result_mean_time = asf_result_start + (asf_result_stop-asf_result_start)/2\n",
    "        \n",
    "            #Check the shape type\n",
    "            if asf_result.geometry['type'] != 'Polygon':\n",
    "                raise ValueError('The shape of the search result is not Polygon but instead: ' + asf_result.geometry['type'])\n",
    "            \n",
    "            #Filter for points that lie within the image\n",
    "            if geo_prefix != 'POINT(':\n",
    "                polygon = Polygon(asf_result.geometry['coordinates'][0])\n",
    "                df_dist_filter =  df.apply(lambda row: Point([row['LONG'], row['LAT']]).distance(polygon), axis=1) <= 0.0001\n",
    "                df_close = df[df_dist_filter]\n",
    "                \n",
    "                #Skip is we have no overlaping points\n",
    "                if df_close.empty:\n",
    "                    #print(\"No geographical overlap\")\n",
    "                    continue\n",
    "                    \n",
    "            #No geographical overlap check needed (point search)\n",
    "            else:\n",
    "                df_close = df\n",
    "            \n",
    "            #Find closest entry in time\n",
    "            closest_data_row = df_close.iloc[df_close.index.get_indexer([asf_result_mean_time], method='nearest')] #only one row of data\n",
    "\n",
    "            max_time_diff = datetime.timedelta(seconds=max_time_diff_s)\n",
    "            \n",
    "            #Check if it is close enough to be considered overlapping\n",
    "            if abs(closest_data_row.index[0] - asf_result_mean_time) <= max_time_diff:\n",
    "                #Save result in the dataframe\n",
    "                result_df.loc[len(result_df.index)] = [\n",
    "                    file, #'bouy_file_name':str,\n",
    "                    closest_data_row['LONG'][0], #'bouy_longitude':float,\n",
    "                    closest_data_row['LAT'][0], #'bouy_latitude':float,\n",
    "                    closest_data_row.index[0], #'bouy_time':np.dtype('<M8[ns]'), #np.datetime64\n",
    "                    var, #'bouy_variable_name':str,\n",
    "                    closest_data_row[var][0], #'bouy_variable_value':float,\n",
    "                    asf_result.properties['url'], #'sar_url':str,\n",
    "                    asf_result.properties['beamModeType'], #'sar_mode':str,\n",
    "                    asf_result.properties['polarization'].split('+'), #'sar_polarization':str,\n",
    "                    asf_result.properties['platform'], #'sar_platform':str,\n",
    "                    asf_result_start, #'sar_start_time':np.dtype('<M8[ns]'), #np.datetime64\n",
    "                    asf_result_stop, #'sar_stop_time':np.dtype('<M8[ns]'), #np.datetime64\n",
    "                    asf_result.geometry['coordinates'][0], #'sar_coordinates':list,\n",
    "                ]\n",
    "                \n",
    "            else:\n",
    "                #print('No time overlap')\n",
    "                pass\n",
    "            \n",
    "        \n",
    "    return result_df"
   ]
  },
  {
   "cell_type": "code",
   "execution_count": 4,
   "id": "eb9841e5",
   "metadata": {
    "collapsed": true
   },
   "outputs": [
    {
     "name": "stderr",
     "output_type": "stream",
     "text": [
      "  0%|          | 1/2487 [00:00<04:34,  9.06it/s]"
     ]
    },
    {
     "name": "stdout",
     "output_type": "stream",
     "text": [
      "\n",
      " NO_TS_MO_WeymouthMET.nc\n",
      "NO_TS_MO_WeymouthMET.nc does not have any valid data for this timeperiod\n",
      "\n",
      " GL_TS_MO_41056.nc\n",
      "GL_TS_MO_41056.nc does not have any valid data for this timeperiod\n",
      "POINT(-65.46399688720703 18.26099967956543)\n",
      "60  results found\n"
     ]
    },
    {
     "name": "stderr",
     "output_type": "stream",
     "text": [
      "  0%|          | 2/2487 [00:16<6:48:55,  9.87s/it]"
     ]
    },
    {
     "name": "stdout",
     "output_type": "stream",
     "text": [
      "\n",
      " GL_TS_MO_MEDS171.nc\n",
      "GL_TS_MO_MEDS171.nc does not have any valid data for this timeperiod\n",
      "\n",
      " GL_TS_MO_42023.nc\n",
      "POINT(-83.08599853515625 26.010000228881836)\n"
     ]
    },
    {
     "name": "stderr",
     "output_type": "stream",
     "text": [
      "  0%|          | 4/2487 [00:29<5:19:56,  7.73s/it]"
     ]
    },
    {
     "name": "stdout",
     "output_type": "stream",
     "text": [
      "28  results found\n",
      "\n",
      " IR_TS_MO_6200092.nc\n",
      "IR_TS_MO_6200092.nc does not have any valid data for this timeperiod\n",
      "POINT(-10.548260688781738 51.21595764160156)\n",
      "170  results found\n"
     ]
    },
    {
     "name": "stderr",
     "output_type": "stream",
     "text": [
      "  0%|          | 6/2487 [00:42<4:23:10,  6.36s/it]"
     ]
    },
    {
     "name": "stdout",
     "output_type": "stream",
     "text": [
      "\n",
      " IR_TS_MO_Bilbao-station.nc\n",
      "IR_TS_MO_Bilbao-station.nc does not have any valid data for this timeperiod\n",
      "IR_TS_MO_Bilbao-station.nc is too close to land\n",
      "\n",
      " GL_TS_MO_41065.nc\n",
      "POINT(-79.61900329589844 32.801998138427734)\n"
     ]
    },
    {
     "name": "stderr",
     "output_type": "stream",
     "text": [
      "  0%|          | 7/2487 [00:48<4:21:11,  6.32s/it]"
     ]
    },
    {
     "name": "stdout",
     "output_type": "stream",
     "text": [
      "29  results found\n",
      "\n",
      " GL_WS_MO_4100098.nc\n",
      "GL_WS_MO_4100098.nc does not have any of the variables ['VHM0', 'VAVH', 'WSPD']\n",
      "\n",
      " BS_TS_MO_37001.nc\n",
      "BS_TS_MO_37001.nc does not have any valid data for this timeperiod\n",
      "\n",
      " GL_TS_MO_MEDS032.nc\n"
     ]
    },
    {
     "name": "stderr",
     "output_type": "stream",
     "text": [
      "  0%|          | 12/2487 [00:48<1:14:46,  1.81s/it]"
     ]
    },
    {
     "name": "stdout",
     "output_type": "stream",
     "text": [
      "GL_TS_MO_MEDS032.nc does not have any valid data for this timeperiod\n",
      "\n",
      " GL_TS_MO_23005.nc\n",
      "GL_TS_MO_23005.nc does not have any valid data for this timeperiod\n",
      "\n",
      " GL_TS_MO_CapeNaturaliste02.nc\n",
      "GL_TS_MO_CapeNaturaliste02.nc does not have any valid data for this timeperiod\n",
      "\n",
      " IR_TS_MO_6201062.nc\n",
      "POINT(-8.946439743041992 42.550880432128906)\n"
     ]
    },
    {
     "name": "stderr",
     "output_type": "stream",
     "text": [
      "  0%|          | 12/2487 [01:00<1:14:46,  1.81s/it]"
     ]
    },
    {
     "name": "stdout",
     "output_type": "stream",
     "text": [
      "171  results found\n"
     ]
    },
    {
     "name": "stderr",
     "output_type": "stream",
     "text": [
      "  1%|          | 13/2487 [01:00<2:41:01,  3.91s/it]"
     ]
    },
    {
     "name": "stdout",
     "output_type": "stream",
     "text": [
      "\n",
      " GL_WS_MO_44011.nc\n",
      "GL_WS_MO_44011.nc does not have any of the variables ['VHM0', 'VAVH', 'WSPD']\n",
      "\n",
      " AR_TS_MO_Skumsjoeen-32-73.nc\n",
      "AR_TS_MO_Skumsjoeen-32-73.nc does not have any of the variables ['VHM0', 'VAVH', 'WSPD']\n",
      "\n",
      " GL_TS_MO_46105.nc\n",
      "GL_TS_MO_46105.nc does not have any valid data for this timeperiod\n",
      "\n",
      " GL_TS_MO_WEL401.nc\n",
      "GL_TS_MO_WEL401.nc does not have any valid data for this timeperiod\n",
      "\n",
      " GL_TS_MO_46002.nc\n",
      "GL_TS_MO_46002.nc does not have any valid data for this timeperiod\n",
      "POINT(-130.5019989013672 42.65800094604492)\n"
     ]
    },
    {
     "name": "stderr",
     "output_type": "stream",
     "text": [
      "  1%|          | 18/2487 [01:11<1:57:02,  2.84s/it]"
     ]
    },
    {
     "name": "stdout",
     "output_type": "stream",
     "text": [
      "0  results found\n",
      "\n",
      " GL_TS_MO_42038.nc\n",
      "GL_TS_MO_42038.nc does not have any valid data for this timeperiod\n",
      "GL_TS_MO_42038.nc does not have any valid data for this timeperiod\n",
      "\n",
      " IR_TS_MO_6200199.nc\n",
      "IR_TS_MO_6200199.nc does not have any valid data for this timeperiod\n",
      "POINT(-9.210000038146973 39.560001373291016)\n",
      "119  results found\n"
     ]
    },
    {
     "name": "stderr",
     "output_type": "stream",
     "text": [
      "  1%|          | 23/2487 [01:21<1:31:06,  2.22s/it]"
     ]
    },
    {
     "name": "stdout",
     "output_type": "stream",
     "text": [
      "\n",
      " GL_TS_MO_46030.nc\n",
      "GL_TS_MO_46030.nc does not have any valid data for this timeperiod\n",
      "GL_TS_MO_46030.nc does not have any valid data for this timeperiod\n",
      "\n",
      " IR_WS_MO_6200083.nc\n",
      "IR_WS_MO_6200083.nc does not have any of the variables ['VHM0', 'VAVH', 'WSPD']\n",
      "\n",
      " GL_WS_MO_41002.nc\n",
      "GL_WS_MO_41002.nc does not have any of the variables ['VHM0', 'VAVH', 'WSPD']\n",
      "\n",
      " GL_TS_MO_46242.nc\n",
      "GL_TS_MO_46242.nc does not have any valid data for this timeperiod\n",
      "\n",
      " GL_TS_MO_23012.nc\n"
     ]
    },
    {
     "name": "stderr",
     "output_type": "stream",
     "text": [
      "  1%|          | 26/2487 [01:21<1:01:35,  1.50s/it]"
     ]
    },
    {
     "name": "stdout",
     "output_type": "stream",
     "text": [
      "GL_TS_MO_23012.nc does not have any valid data for this timeperiod\n",
      "\n",
      " GL_TS_MO_46215.nc\n",
      "GL_TS_MO_46215.nc is too close to land\n",
      "\n",
      " GL_TS_MO_91343.nc\n",
      "GL_TS_MO_91343.nc does not have any valid data for this timeperiod\n",
      "\n",
      " GL_TS_MO_6100294.nc\n",
      "POINT(8.649999618530273 42.56919860839844)\n",
      "238  results found\n"
     ]
    },
    {
     "name": "stderr",
     "output_type": "stream",
     "text": [
      "  1%|          | 28/2487 [01:34<1:48:29,  2.65s/it]"
     ]
    },
    {
     "name": "stdout",
     "output_type": "stream",
     "text": [
      "\n",
      " GL_TS_MO_46127.nc\n",
      "GL_TS_MO_46127.nc does not have any valid data for this timeperiod\n",
      "\n",
      " GL_TS_MO_6100021.nc\n",
      "POINT(6.206999778747559 42.93000030517578)\n",
      "174  results found\n"
     ]
    },
    {
     "name": "stderr",
     "output_type": "stream",
     "text": [
      "  1%|▏         | 34/2487 [01:45<1:20:52,  1.98s/it]"
     ]
    },
    {
     "name": "stdout",
     "output_type": "stream",
     "text": [
      "\n",
      " AR_TS_MO_Moellebukta-6-20.nc\n",
      "AR_TS_MO_Moellebukta-6-20.nc does not have any of the variables ['VHM0', 'VAVH', 'WSPD']\n",
      "\n",
      " GL_WS_MO_45195.nc\n",
      "GL_WS_MO_45195.nc does not have any of the variables ['VHM0', 'VAVH', 'WSPD']\n",
      "\n",
      " GL_TS_MO_MEDS124.nc\n",
      "GL_TS_MO_MEDS124.nc does not have any valid data for this timeperiod\n",
      "\n",
      " GL_TS_MO_45171.nc\n",
      "GL_TS_MO_45171.nc does not have any valid data for this timeperiod\n",
      "GL_TS_MO_45171.nc does not have any valid data for this timeperiod\n",
      "\n",
      " AR_TS_MO_BSO2B.nc\n",
      "AR_TS_MO_BSO2B.nc does not have any of the variables ['VHM0', 'VAVH', 'WSPD']\n",
      "\n",
      " GL_TS_MO_WEL429.nc\n",
      "GL_TS_MO_WEL429.nc does not have any valid data for this timeperiod\n",
      "\n",
      " GL_TS_MO_6400777.nc\n",
      "GL_TS_MO_6400777.nc does not have any of the variables ['VHM0', 'VAVH', 'WSPD']\n",
      "\n",
      " GL_WS_MO_46183.nc\n",
      "GL_WS_MO_46183.nc does not have any of the variables ['VHM0', 'VAVH', 'WSPD']\n",
      "\n",
      " GL_TS_MO_42078.nc\n",
      "GL_TS_MO_42078.nc does not have any valid data for this timeperiod\n",
      "\n",
      " GL_TS_MO_6200080.nc\n",
      "POINT(-1.8336000442504883 45.91630172729492)\n",
      "179  results found\n"
     ]
    },
    {
     "name": "stderr",
     "output_type": "stream",
     "text": [
      "  2%|▏         | 40/2487 [01:56<1:19:12,  1.94s/it]"
     ]
    },
    {
     "name": "stdout",
     "output_type": "stream",
     "text": [
      "\n",
      " AR_TS_MO_Pollen-28-59.nc\n",
      "AR_TS_MO_Pollen-28-59.nc does not have any of the variables ['VHM0', 'VAVH', 'WSPD']\n",
      "\n",
      " BO_TS_MO_BrofjordenWR.nc\n",
      "POLYGON((11.224499702453613 58.25,11.224499702453613 58.25299835205078,11.216699600219727 58.25299835205078,11.216699600219727 58.25,11.224499702453613 58.25))\n",
      "234  results found\n"
     ]
    },
    {
     "name": "stderr",
     "output_type": "stream",
     "text": [
      "  2%|▏         | 42/2487 [04:53<12:07:33, 17.85s/it]"
     ]
    },
    {
     "name": "stdout",
     "output_type": "stream",
     "text": [
      "\n",
      " NO_TS_MO_FINO2CU.nc\n",
      "NO_TS_MO_FINO2CU.nc does not have any of the variables ['VHM0', 'VAVH', 'WSPD']\n",
      "\n",
      " GL_TS_MO_46066.nc\n",
      "GL_TS_MO_46066.nc does not have any valid data for this timeperiod\n",
      "POINT(-155.00900268554688 52.76499938964844)\n"
     ]
    },
    {
     "name": "stderr",
     "output_type": "stream",
     "text": [
      "  2%|▏         | 44/2487 [04:59<10:03:27, 14.82s/it]"
     ]
    },
    {
     "name": "stdout",
     "output_type": "stream",
     "text": [
      "0  results found\n",
      "\n",
      " GL_TS_MO_4601698.nc\n",
      "GL_TS_MO_4601698.nc does not have any of the variables ['VHM0', 'VAVH', 'WSPD']\n",
      "\n",
      " GL_WS_MO_46205.nc\n",
      "GL_WS_MO_46205.nc does not have any of the variables ['VHM0', 'VAVH', 'WSPD']\n",
      "\n",
      " GL_TS_MO_52212.nc\n",
      "GL_TS_MO_52212.nc does not have any valid data for this timeperiod\n",
      "\n",
      " GL_TS_MO_T2N110W.nc\n",
      "POINT(-110.0 2.0)\n"
     ]
    },
    {
     "name": "stderr",
     "output_type": "stream",
     "text": [
      "  2%|▏         | 48/2487 [05:06<6:44:08,  9.94s/it] "
     ]
    },
    {
     "name": "stdout",
     "output_type": "stream",
     "text": [
      "0  results found\n",
      "\n",
      " GL_WS_MO_6200079.nc\n",
      "GL_WS_MO_6200079.nc does not have any of the variables ['VHM0', 'VAVH', 'WSPD']\n",
      "\n",
      " GL_TS_MO_55033.nc\n",
      "POLYGON((151.1199951171875 -23.5,151.1199951171875 -23.299999237060547,151.07000732421875 -23.299999237060547,151.07000732421875 -23.5,151.1199951171875 -23.5))\n",
      "90  results found\n"
     ]
    },
    {
     "name": "stderr",
     "output_type": "stream",
     "text": [
      "  2%|▏         | 53/2487 [05:53<5:57:43,  8.82s/it]"
     ]
    },
    {
     "name": "stdout",
     "output_type": "stream",
     "text": [
      "\n",
      " MO_TS_MO_SKYRO.nc\n",
      "MO_TS_MO_SKYRO.nc does not have any valid data for this timeperiod\n",
      "MO_TS_MO_SKYRO.nc does not have any valid data for this timeperiod\n",
      "\n",
      " GL_TS_MO_IF000618.nc\n",
      "GL_TS_MO_IF000618.nc does not have any of the variables ['VHM0', 'VAVH', 'WSPD']\n",
      "\n",
      " MO_TS_MO_SALINES.nc\n",
      "MO_TS_MO_SALINES.nc does not have any valid data for this timeperiod\n",
      "\n",
      " GL_WS_MO_42053.nc\n",
      "GL_WS_MO_42053.nc does not have any of the variables ['VHM0', 'VAVH', 'WSPD']\n",
      "\n",
      " GL_TS_MO_UFSDeutscheBucht.nc\n",
      "POINT(7.449999809265137 54.16667175292969)\n",
      "232  results found\n"
     ]
    },
    {
     "name": "stderr",
     "output_type": "stream",
     "text": [
      "  2%|▏         | 57/2487 [06:07<4:14:18,  6.28s/it]"
     ]
    },
    {
     "name": "stdout",
     "output_type": "stream",
     "text": [
      "\n",
      " GL_TS_MO_6301004.nc\n",
      "GL_TS_MO_6301004.nc does not have any valid data for this timeperiod\n",
      "\n",
      " GL_TS_MO_45143.nc\n",
      "GL_TS_MO_45143.nc does not have any valid data for this timeperiod\n",
      "GL_TS_MO_45143.nc is too close to land\n",
      "\n",
      " GL_TS_MO_46246.nc\n",
      "POINT(-145.1699981689453 50.016998291015625)\n"
     ]
    },
    {
     "name": "stderr",
     "output_type": "stream",
     "text": [
      "  2%|▏         | 59/2487 [06:13<3:39:06,  5.41s/it]"
     ]
    },
    {
     "name": "stdout",
     "output_type": "stream",
     "text": [
      "0  results found\n",
      "\n",
      " NO_TS_MO_IJgeulstroompaal1.nc\n",
      "NO_TS_MO_IJgeulstroompaal1.nc does not have any valid data for this timeperiod\n",
      "NO_TS_MO_IJgeulstroompaal1.nc does not have any valid data for this timeperiod\n",
      "\n",
      " GL_WS_MO_46181.nc\n",
      "GL_WS_MO_46181.nc does not have any of the variables ['VHM0', 'VAVH', 'WSPD']\n",
      "\n",
      " GL_WS_MO_46059.nc\n",
      "GL_WS_MO_46059.nc does not have any of the variables ['VHM0', 'VAVH', 'WSPD']\n",
      "\n",
      " GL_TS_MO_53006.nc\n",
      "POINT(80.5 -12.0)\n"
     ]
    },
    {
     "name": "stderr",
     "output_type": "stream",
     "text": [
      "  2%|▏         | 62/2487 [06:20<2:58:10,  4.41s/it]"
     ]
    },
    {
     "name": "stdout",
     "output_type": "stream",
     "text": [
      "1  results found\n",
      "\n",
      " BS_TS_MO_17390.nc\n",
      "BS_TS_MO_17390.nc does not have any valid data for this timeperiod\n",
      "\n",
      " BO_TS_MO_Tangesund.nc\n",
      "BO_TS_MO_Tangesund.nc does not have any valid data for this timeperiod\n",
      "\n",
      " GL_TS_MO_42054.nc\n",
      "GL_TS_MO_42054.nc does not have any valid data for this timeperiod\n"
     ]
    },
    {
     "name": "stderr",
     "output_type": "stream",
     "text": [
      "  3%|▎         | 67/2487 [06:21<1:30:34,  2.25s/it]"
     ]
    },
    {
     "name": "stdout",
     "output_type": "stream",
     "text": [
      "GL_TS_MO_42054.nc does not have any valid data for this timeperiod\n",
      "\n",
      " IR_TS_MO_Penas-current-meter.nc\n",
      "IR_TS_MO_Penas-current-meter.nc does not have any of the variables ['VHM0', 'VAVH', 'WSPD']\n",
      "\n",
      " IR_TS_MO_Cadiz-coast-buoy.nc\n",
      "IR_TS_MO_Cadiz-coast-buoy.nc does not have any valid data for this timeperiod\n",
      "IR_TS_MO_Cadiz-coast-buoy.nc does not have any valid data for this timeperiod\n",
      "\n",
      " GL_TS_MO_44098.nc\n",
      "POINT(-70.1709976196289 42.79999923706055)\n",
      "57  results found\n",
      "\n",
      " NO_TS_MO_6200029.nc\n",
      "NO_TS_MO_6200029.nc does not have any valid data for this timeperiod\n",
      "POINT(-12.401000022888184 48.70100021362305)\n"
     ]
    },
    {
     "name": "stderr",
     "output_type": "stream",
     "text": [
      "  3%|▎         | 67/2487 [06:40<1:30:34,  2.25s/it]"
     ]
    },
    {
     "name": "stdout",
     "output_type": "stream",
     "text": [
      "177  results found\n"
     ]
    },
    {
     "name": "stderr",
     "output_type": "stream",
     "text": [
      "  3%|▎         | 73/2487 [06:48<2:01:38,  3.02s/it]"
     ]
    },
    {
     "name": "stdout",
     "output_type": "stream",
     "text": [
      "\n",
      " GL_WS_MO_44085.nc\n",
      "GL_WS_MO_44085.nc does not have any of the variables ['VHM0', 'VAVH', 'WSPD']\n",
      "\n",
      " GL_TS_MO_MEDS063.nc\n",
      "GL_TS_MO_MEDS063.nc does not have any valid data for this timeperiod\n",
      "\n",
      " GL_TS_MO_MEDS064.nc\n",
      "GL_TS_MO_MEDS064.nc does not have any valid data for this timeperiod\n",
      "\n",
      " GL_TS_MO_91204.nc\n",
      "GL_TS_MO_91204.nc does not have any valid data for this timeperiod\n",
      "\n",
      " GL_WS_MO_52212.nc\n",
      "GL_WS_MO_52212.nc does not have any of the variables ['VHM0', 'VAVH', 'WSPD']\n",
      "\n",
      " NO_TS_MO_6300112.nc\n",
      "POINT(1.0 61.099998474121094)\n",
      "333  results found\n"
     ]
    },
    {
     "name": "stderr",
     "output_type": "stream",
     "text": [
      "  3%|▎         | 75/2487 [07:02<2:36:29,  3.89s/it]"
     ]
    },
    {
     "name": "stdout",
     "output_type": "stream",
     "text": [
      "\n",
      " AR_TS_MO_Blakksnes.nc\n",
      "POINT(-24.778167724609375 65.69783020019531)\n",
      "448  results found\n"
     ]
    },
    {
     "name": "stderr",
     "output_type": "stream",
     "text": [
      "  3%|▎         | 76/2487 [07:20<3:57:57,  5.92s/it]/home/sarssw/miniconda3/envs/master/lib/python3.10/site-packages/xarray/core/indexes.py:205: FutureWarning: Value based partial slicing on non-monotonic DatetimeIndexes with non-existing keys is deprecated and will raise a KeyError in a future Version.\n",
      "  indexer = index.slice_indexer(\n"
     ]
    },
    {
     "name": "stdout",
     "output_type": "stream",
     "text": [
      "\n",
      " MO_TS_MO_NADR-S1.nc\n",
      "MO_TS_MO_NADR-S1.nc : data extraction failed with: \"cannot represent labeled-based slice indexer for coordinate 'TIME' with a slice over integer positions; the index is unsorted or non-unique\"\n",
      "\n",
      " GL_TS_MO_1500008.nc\n",
      "POLYGON((-14.967009544372559 -20.027000427246094,-14.967009544372559 -19.35099983215332,-9.936010360717773 -19.35099983215332,-9.936010360717773 -20.027000427246094,-14.967009544372559 -20.027000427246094))\n"
     ]
    },
    {
     "name": "stderr",
     "output_type": "stream",
     "text": [
      "  3%|▎         | 82/2487 [07:29<1:59:56,  2.99s/it]"
     ]
    },
    {
     "name": "stdout",
     "output_type": "stream",
     "text": [
      "0  results found\n",
      "\n",
      " AR_TS_MO_Sildevika-7-83.nc\n",
      "AR_TS_MO_Sildevika-7-83.nc does not have any of the variables ['VHM0', 'VAVH', 'WSPD']\n",
      "\n",
      " GL_TS_MO_46261.nc\n",
      "GL_TS_MO_46261.nc does not have any valid data for this timeperiod\n",
      "\n",
      " GL_TS_MO_SOLEMIO.nc\n",
      "GL_TS_MO_SOLEMIO.nc does not have any of the variables ['VHM0', 'VAVH', 'WSPD']\n",
      "\n",
      " GL_TS_MO_4100135.nc\n",
      "GL_TS_MO_4100135.nc does not have any of the variables ['VHM0', 'VAVH', 'WSPD']\n",
      "\n",
      " GL_TS_MO_42087.nc\n",
      "GL_TS_MO_42087.nc does not have any valid data for this timeperiod\n",
      "\n",
      " NO_TS_MO_PileSpiekeroog.nc\n"
     ]
    },
    {
     "name": "stderr",
     "output_type": "stream",
     "text": [
      "  3%|▎         | 82/2487 [07:40<1:59:56,  2.99s/it]"
     ]
    },
    {
     "name": "stdout",
     "output_type": "stream",
     "text": [
      "POINT(7.671110153198242 53.75033187866211)\n",
      "232  results found\n"
     ]
    },
    {
     "name": "stderr",
     "output_type": "stream",
     "text": [
      "  3%|▎         | 87/2487 [08:03<2:49:00,  4.23s/it]"
     ]
    },
    {
     "name": "stdout",
     "output_type": "stream",
     "text": [
      "\n",
      " GL_TS_MO_55054.nc\n",
      "GL_TS_MO_55054.nc does not have any valid data for this timeperiod\n",
      "\n",
      " GL_TS_MO_WEL444.nc\n",
      "GL_TS_MO_WEL444.nc does not have any valid data for this timeperiod\n",
      "\n",
      " GL_TS_MO_23011.nc\n",
      "GL_TS_MO_23011.nc does not have any valid data for this timeperiod\n",
      "\n",
      " NO_TS_MO_6200105.nc\n",
      "NO_TS_MO_6200105.nc does not have any valid data for this timeperiod\n",
      "NO_TS_MO_6200105.nc does not have any valid data for this timeperiod\n",
      "\n",
      " MO_TS_MO_ADN-CURRISO.nc\n",
      "MO_TS_MO_ADN-CURRISO.nc does not have any of the variables ['VHM0', 'VAVH', 'WSPD']\n",
      "\n",
      " IR_TS_MO_6100430.nc\n",
      "IR_TS_MO_6100430.nc does not have any valid data for this timeperiod\n",
      "POLYGON((2.0880000591278076 39.57619857788086,2.0880000591278076 39.55860137939453,2.0971999168395996 39.55860137939453,2.0971999168395996 39.57619857788086,2.0880000591278076 39.57619857788086))\n",
      "238  results found\n"
     ]
    },
    {
     "name": "stderr",
     "output_type": "stream",
     "text": [
      "  4%|▍         | 94/2487 [09:13<4:19:16,  6.50s/it]"
     ]
    },
    {
     "name": "stdout",
     "output_type": "stream",
     "text": [
      "\n",
      " GL_TS_MO_WEL439.nc\n",
      "GL_TS_MO_WEL439.nc does not have any valid data for this timeperiod\n",
      "\n",
      " GL_TS_MO_42375.nc\n",
      "GL_TS_MO_42375.nc does not have any valid data for this timeperiod\n",
      "GL_TS_MO_42375.nc does not have any valid data for this timeperiod\n",
      "\n",
      " GL_WS_MO_4400050.nc\n",
      "GL_WS_MO_4400050.nc does not have any of the variables ['VHM0', 'VAVH', 'WSPD']\n",
      "\n",
      " GL_TS_MO_42046.nc\n",
      "GL_TS_MO_42046.nc does not have any valid data for this timeperiod\n",
      "\n",
      " GL_TS_MO_51205.nc\n",
      "POINT(-156.4219970703125 21.018999099731445)\n",
      "169  results found\n"
     ]
    },
    {
     "name": "stderr",
     "output_type": "stream",
     "text": [
      "  4%|▍         | 97/2487 [09:24<3:42:28,  5.59s/it]"
     ]
    },
    {
     "name": "stdout",
     "output_type": "stream",
     "text": [
      "\n",
      " GL_TS_MO_31052.nc\n",
      "GL_TS_MO_31052.nc does not have any valid data for this timeperiod\n",
      "\n",
      " MO_TS_MO_PALOMA.nc\n",
      "MO_TS_MO_PALOMA.nc does not have any of the variables ['VHM0', 'VAVH', 'WSPD']\n",
      "\n",
      " GL_TS_MO_WRA007.nc\n",
      "GL_TS_MO_WRA007.nc does not have any valid data for this timeperiod\n",
      "\n",
      " GL_TS_MO_13010.nc\n",
      "POLYGON((-0.03799000009894371 -0.026000000536441803,-0.03799000009894371 0.03799999877810478,0.050999999046325684 0.03799999877810478,0.050999999046325684 -0.026000000536441803,-0.03799000009894371 -0.026000000536441803))\n"
     ]
    },
    {
     "name": "stderr",
     "output_type": "stream",
     "text": [
      "  4%|▍         | 101/2487 [09:30<2:33:25,  3.86s/it]"
     ]
    },
    {
     "name": "stdout",
     "output_type": "stream",
     "text": [
      "0  results found\n",
      "\n",
      " GL_TS_MO_52080.nc\n",
      "GL_TS_MO_52080.nc does not have any valid data for this timeperiod\n",
      "\n",
      " NO_TS_MO_IJmondstroompaal.nc\n",
      "NO_TS_MO_IJmondstroompaal.nc does not have any of the variables ['VHM0', 'VAVH', 'WSPD']\n",
      "\n",
      " GL_TS_MO_WEL451.nc\n"
     ]
    },
    {
     "name": "stderr",
     "output_type": "stream",
     "text": [
      "  4%|▍         | 103/2487 [09:30<1:55:00,  2.89s/it]"
     ]
    },
    {
     "name": "stdout",
     "output_type": "stream",
     "text": [
      "GL_TS_MO_WEL451.nc does not have any valid data for this timeperiod\n",
      "\n",
      " GL_TS_MO_52078.nc\n",
      "GL_TS_MO_52078.nc does not have any valid data for this timeperiod\n",
      "\n",
      " NO_TS_MO_AWG.nc\n",
      "POINT(5.949999809265137 53.5)\n"
     ]
    },
    {
     "name": "stderr",
     "output_type": "stream",
     "text": [
      "  4%|▍         | 103/2487 [09:40<1:55:00,  2.89s/it]"
     ]
    },
    {
     "name": "stdout",
     "output_type": "stream",
     "text": [
      "238  results found\n"
     ]
    },
    {
     "name": "stderr",
     "output_type": "stream",
     "text": [
      "  4%|▍         | 108/2487 [09:44<1:38:30,  2.48s/it]"
     ]
    },
    {
     "name": "stdout",
     "output_type": "stream",
     "text": [
      "\n",
      " BO_TS_MO_Hattan.nc\n",
      "BO_TS_MO_Hattan.nc does not have any valid data for this timeperiod\n",
      "\n",
      " GL_TS_MO_91411.nc\n",
      "GL_TS_MO_91411.nc does not have any valid data for this timeperiod\n",
      "\n",
      " GL_TS_MO_42008.nc\n",
      "GL_TS_MO_42008.nc does not have any valid data for this timeperiod\n",
      "\n",
      " AR_TS_MO_BSO4.nc\n",
      "AR_TS_MO_BSO4.nc does not have any of the variables ['VHM0', 'VAVH', 'WSPD']\n",
      "\n",
      " NO_TS_MO_6201004.nc\n",
      "NO_TS_MO_6201004.nc does not have any valid data for this timeperiod\n",
      "\n",
      " GL_TS_MO_41062.nc\n",
      "GL_TS_MO_41062.nc does not have any valid data for this timeperiod\n",
      "\n",
      " NO_TS_MO_6201576.nc\n"
     ]
    },
    {
     "name": "stderr",
     "output_type": "stream",
     "text": [
      "  5%|▍         | 112/2487 [09:44<59:29,  1.50s/it]  "
     ]
    },
    {
     "name": "stdout",
     "output_type": "stream",
     "text": [
      "NO_TS_MO_6201576.nc does not have any of the variables ['VHM0', 'VAVH', 'WSPD']\n",
      "\n",
      " GL_TS_MO_42015.nc\n",
      "GL_TS_MO_42015.nc does not have any valid data for this timeperiod\n",
      "GL_TS_MO_42015.nc does not have any valid data for this timeperiod\n",
      "\n",
      " GL_TS_MO_46113.nc\n",
      "GL_TS_MO_46113.nc does not have any valid data for this timeperiod\n",
      "\n",
      " AR_TS_MO_Storvika-45-110.nc\n",
      "AR_TS_MO_Storvika-45-110.nc does not have any of the variables ['VHM0', 'VAVH', 'WSPD']\n",
      "\n",
      " NO_TS_MO_ThorntonbankSouth.nc\n",
      "POINT(2.986999988555908 51.564998626708984)\n",
      "232  results found\n"
     ]
    },
    {
     "name": "stderr",
     "output_type": "stream",
     "text": [
      "  5%|▍         | 116/2487 [09:55<1:15:05,  1.90s/it]"
     ]
    },
    {
     "name": "stdout",
     "output_type": "stream",
     "text": [
      "\n",
      " GL_TS_MO_45003.nc\n",
      "GL_TS_MO_45003.nc does not have any valid data for this timeperiod\n",
      "GL_TS_MO_45003.nc does not have any valid data for this timeperiod\n",
      "\n",
      " GL_WS_MO_44139.nc\n",
      "GL_WS_MO_44139.nc does not have any of the variables ['VHM0', 'VAVH', 'WSPD']\n",
      "\n",
      " GL_TS_MO_T2S125W.nc\n",
      "POINT(-125.0 -2.0)\n"
     ]
    },
    {
     "name": "stderr",
     "output_type": "stream",
     "text": [
      "  5%|▍         | 118/2487 [10:03<1:36:36,  2.45s/it]"
     ]
    },
    {
     "name": "stdout",
     "output_type": "stream",
     "text": [
      "0  results found\n",
      "\n",
      " BS_TS_MO_WAVEB04.nc\n",
      "POINT(28.611600875854492 43.53919982910156)\n",
      "118  results found\n"
     ]
    },
    {
     "name": "stderr",
     "output_type": "stream",
     "text": [
      "  5%|▍         | 120/2487 [10:12<1:56:33,  2.95s/it]"
     ]
    },
    {
     "name": "stdout",
     "output_type": "stream",
     "text": [
      "\n",
      " MO_TS_MO_CNR-ISMAR-Head-office.nc\n",
      "MO_TS_MO_CNR-ISMAR-Head-office.nc does not have any of the variables ['VHM0', 'VAVH', 'WSPD']\n",
      "\n",
      " GL_TS_MO_6200074.nc\n",
      "POINT(-3.2850000858306885 47.28499984741211)\n",
      "179  results found\n"
     ]
    },
    {
     "name": "stderr",
     "output_type": "stream",
     "text": [
      "  5%|▍         | 121/2487 [10:22<2:41:27,  4.09s/it]"
     ]
    },
    {
     "name": "stdout",
     "output_type": "stream",
     "text": [
      "\n",
      " GL_WS_MO_42097.nc\n",
      "GL_WS_MO_42097.nc does not have any of the variables ['VHM0', 'VAVH', 'WSPD']\n",
      "\n",
      " GL_TS_MO_T0N95W.nc\n",
      "POINT(-95.0 0.0)\n"
     ]
    },
    {
     "name": "stderr",
     "output_type": "stream",
     "text": [
      "  5%|▍         | 124/2487 [10:31<2:16:15,  3.46s/it]"
     ]
    },
    {
     "name": "stdout",
     "output_type": "stream",
     "text": [
      "0  results found\n",
      "\n",
      " GL_TS_MO_41096.nc\n",
      "GL_TS_MO_41096.nc does not have any valid data for this timeperiod\n",
      "GL_TS_MO_41096.nc does not have any valid data for this timeperiod\n",
      "\n",
      " GL_TS_MO_MEDS316.nc\n",
      "GL_TS_MO_MEDS316.nc does not have any valid data for this timeperiod\n",
      "\n",
      " GL_TS_MO_46042.nc\n",
      "GL_TS_MO_46042.nc does not have any valid data for this timeperiod\n",
      "POINT(-122.39800262451172 36.78499984741211)\n",
      "154  results found\n"
     ]
    },
    {
     "name": "stderr",
     "output_type": "stream",
     "text": [
      "  5%|▌         | 126/2487 [10:49<3:29:14,  5.32s/it]"
     ]
    },
    {
     "name": "stdout",
     "output_type": "stream",
     "text": [
      "\n",
      " GL_TS_MO_44093.nc\n",
      "GL_TS_MO_44093.nc does not have any valid data for this timeperiod\n",
      "\n",
      " IR_TS_MO_6200083.nc\n",
      "IR_TS_MO_6200083.nc does not have any valid data for this timeperiod\n",
      "POLYGON((-9.207799911499023 43.5,-9.207799911499023 43.49319839477539,-9.213299751281738 43.49319839477539,-9.213299751281738 43.5,-9.207799911499023 43.5))\n",
      "232  results found\n"
     ]
    },
    {
     "name": "stderr",
     "output_type": "stream",
     "text": [
      "  5%|▌         | 128/2487 [12:21<12:20:21, 18.83s/it]"
     ]
    },
    {
     "name": "stdout",
     "output_type": "stream",
     "text": [
      "\n",
      " GL_TS_MO_41064.nc\n",
      "POINT(-76.9489974975586 34.207000732421875)\n"
     ]
    },
    {
     "name": "stderr",
     "output_type": "stream",
     "text": [
      "  5%|▌         | 129/2487 [12:31<11:09:35, 17.04s/it]"
     ]
    },
    {
     "name": "stdout",
     "output_type": "stream",
     "text": [
      "27  results found\n",
      "\n",
      " MO_TS_MO_CALA-MILLOR.nc\n",
      "MO_TS_MO_CALA-MILLOR.nc does not have any valid data for this timeperiod\n"
     ]
    },
    {
     "name": "stderr",
     "output_type": "stream",
     "text": [
      "  5%|▌         | 130/2487 [12:31<8:47:12, 13.42s/it] "
     ]
    },
    {
     "name": "stdout",
     "output_type": "stream",
     "text": [
      "MO_TS_MO_CALA-MILLOR.nc does not have any valid data for this timeperiod\n",
      "MO_TS_MO_CALA-MILLOR.nc does not have any valid data for this timeperiod\n",
      "\n",
      " IR_TS_MO_6200093.nc\n",
      "IR_TS_MO_6200093.nc does not have any valid data for this timeperiod\n",
      "POINT(-9.999135971069336 54.99996566772461)\n",
      "226  results found\n"
     ]
    },
    {
     "name": "stderr",
     "output_type": "stream",
     "text": [
      "  5%|▌         | 135/2487 [12:42<3:37:44,  5.55s/it]"
     ]
    },
    {
     "name": "stdout",
     "output_type": "stream",
     "text": [
      "\n",
      " GL_TS_MO_WEL276.nc\n",
      "GL_TS_MO_WEL276.nc does not have any valid data for this timeperiod\n",
      "GL_TS_MO_WEL276.nc does not have any valid data for this timeperiod\n",
      "\n",
      " GL_TS_MO_MEDS106.nc\n",
      "GL_TS_MO_MEDS106.nc does not have any valid data for this timeperiod\n",
      "\n",
      " NO_TS_MO_6201008.nc\n",
      "NO_TS_MO_6201008.nc does not have any valid data for this timeperiod\n",
      "\n",
      " MO_TS_MO_AshdodOffshore.nc\n",
      "MO_TS_MO_AshdodOffshore.nc does not have any of the variables ['VHM0', 'VAVH', 'WSPD']\n",
      "\n",
      " GL_TS_MO_44075.nc\n",
      "POINT(-70.88300323486328 40.362998962402344)\n",
      "82  results found\n"
     ]
    },
    {
     "name": "stderr",
     "output_type": "stream",
     "text": [
      "  6%|▌         | 137/2487 [12:49<3:14:36,  4.97s/it]"
     ]
    },
    {
     "name": "stdout",
     "output_type": "stream",
     "text": [
      "\n",
      " NO_TS_MO_Brouwershavensegat8.nc\n",
      "NO_TS_MO_Brouwershavensegat8.nc does not have any of the variables ['VHM0', 'VAVH', 'WSPD']\n",
      "\n",
      " GL_TS_MO_MEDS255.nc\n",
      "GL_TS_MO_MEDS255.nc does not have any valid data for this timeperiod\n",
      "\n",
      " GL_TS_MO_42094.nc\n",
      "GL_TS_MO_42094.nc does not have any valid data for this timeperiod\n",
      "\n",
      " NO_TS_MO_DomburgerRassen.nc\n",
      "POINT(3.3989999294281006 51.619998931884766)\n"
     ]
    },
    {
     "name": "stderr",
     "output_type": "stream",
     "text": [
      "  6%|▌         | 137/2487 [13:01<3:14:36,  4.97s/it]"
     ]
    },
    {
     "name": "stdout",
     "output_type": "stream",
     "text": [
      "232  results found\n"
     ]
    },
    {
     "name": "stderr",
     "output_type": "stream",
     "text": [
      "  6%|▌         | 140/2487 [13:07<3:26:21,  5.28s/it]"
     ]
    },
    {
     "name": "stdout",
     "output_type": "stream",
     "text": [
      "\n",
      " BO_TS_MO_Koster.nc\n",
      "POLYGON((11.100500106811523 58.88209915161133,11.100500106811523 58.8838996887207,11.096400260925293 58.8838996887207,11.096400260925293 58.88209915161133,11.100500106811523 58.88209915161133))\n",
      "248  results found\n"
     ]
    },
    {
     "name": "stderr",
     "output_type": "stream",
     "text": [
      "  6%|▌         | 145/2487 [14:05<4:37:56,  7.12s/it]"
     ]
    },
    {
     "name": "stdout",
     "output_type": "stream",
     "text": [
      "\n",
      " GL_WS_MO_45141.nc\n",
      "GL_WS_MO_45141.nc does not have any of the variables ['VHM0', 'VAVH', 'WSPD']\n",
      "\n",
      " GL_WS_MO_46081.nc\n",
      "GL_WS_MO_46081.nc does not have any of the variables ['VHM0', 'VAVH', 'WSPD']\n",
      "\n",
      " GL_TS_MO_41026.nc\n",
      "GL_TS_MO_41026.nc does not have any valid data for this timeperiod\n",
      "\n",
      " GL_TS_MO_23173.nc\n",
      "GL_TS_MO_23173.nc does not have any valid data for this timeperiod\n",
      "\n",
      " AR_TS_MO_Sand-53-126.nc\n",
      "AR_TS_MO_Sand-53-126.nc does not have any of the variables ['VHM0', 'VAVH', 'WSPD']\n",
      "\n",
      " BS_TS_MO_98002.nc\n",
      "BS_TS_MO_98002.nc does not have any valid data for this timeperiod\n",
      "\n",
      " GL_WS_MO_46072.nc\n",
      "GL_WS_MO_46072.nc does not have any of the variables ['VHM0', 'VAVH', 'WSPD']\n",
      "\n",
      " GL_WS_MO_44086.nc\n",
      "GL_WS_MO_44086.nc does not have any of the variables ['VHM0', 'VAVH', 'WSPD']\n",
      "\n",
      " GL_WS_MO_46240.nc\n",
      "GL_WS_MO_46240.nc does not have any of the variables ['VHM0', 'VAVH', 'WSPD']\n",
      "\n",
      " NO_TS_MO_Amelander62.nc\n"
     ]
    },
    {
     "name": "stderr",
     "output_type": "stream",
     "text": [
      "  6%|▌         | 151/2487 [14:05<2:18:47,  3.56s/it]"
     ]
    },
    {
     "name": "stdout",
     "output_type": "stream",
     "text": [
      "NO_TS_MO_Amelander62.nc does not have any valid data for this timeperiod\n",
      "NO_TS_MO_Amelander62.nc does not have any valid data for this timeperiod\n",
      "\n",
      " GL_TS_MO_45172.nc\n",
      "GL_TS_MO_45172.nc does not have any valid data for this timeperiod\n",
      "GL_TS_MO_45172.nc does not have any valid data for this timeperiod\n",
      "\n",
      " GL_TS_MO_46139.nc\n",
      "GL_TS_MO_46139.nc does not have any valid data for this timeperiod\n",
      "\n",
      " AR_TS_MO_Flateyjardufl.nc\n",
      "POINT(-23.110332489013672 65.25316619873047)\n"
     ]
    },
    {
     "name": "stderr",
     "output_type": "stream",
     "text": [
      "  6%|▌         | 151/2487 [14:21<2:18:47,  3.56s/it]"
     ]
    },
    {
     "name": "stdout",
     "output_type": "stream",
     "text": [
      "530  results found\n"
     ]
    },
    {
     "name": "stderr",
     "output_type": "stream",
     "text": [
      "  6%|▌         | 154/2487 [14:27<2:59:53,  4.63s/it]"
     ]
    },
    {
     "name": "stdout",
     "output_type": "stream",
     "text": [
      "\n",
      " GL_TS_MO_MEDS318.nc\n",
      "GL_TS_MO_MEDS318.nc does not have any valid data for this timeperiod\n",
      "\n",
      " GL_TS_MO_T0N180W.nc\n",
      "POINT(180.0 0.0)\n"
     ]
    },
    {
     "name": "stderr",
     "output_type": "stream",
     "text": [
      "  6%|▋         | 156/2487 [14:36<2:56:18,  4.54s/it]"
     ]
    },
    {
     "name": "stdout",
     "output_type": "stream",
     "text": [
      "0  results found\n",
      "\n",
      " GL_TS_MO_55026.nc\n",
      "GL_TS_MO_55026.nc does not have any valid data for this timeperiod\n",
      "GL_TS_MO_55026.nc does not have any valid data for this timeperiod\n",
      "\n",
      " MO_TS_MO_68422.nc\n",
      "MO_TS_MO_68422.nc does not have any valid data for this timeperiod\n",
      "POINT(21.606800079345703 36.828800201416016)\n",
      "180  results found\n"
     ]
    },
    {
     "name": "stderr",
     "output_type": "stream",
     "text": [
      "  6%|▋         | 161/2487 [14:45<2:00:02,  3.10s/it]"
     ]
    },
    {
     "name": "stdout",
     "output_type": "stream",
     "text": [
      "\n",
      " GL_TS_MO_46247.nc\n",
      "GL_TS_MO_46247.nc does not have any valid data for this timeperiod\n",
      "\n",
      " GL_TS_MO_MBARI-M0.nc\n",
      "GL_TS_MO_MBARI-M0.nc does not have any valid data for this timeperiod\n",
      "\n",
      " BO_TS_MO_W26CU.nc\n",
      "BO_TS_MO_W26CU.nc does not have any of the variables ['VHM0', 'VAVH', 'WSPD']\n",
      "\n",
      " GL_TS_MO_46207.nc\n",
      "GL_TS_MO_46207.nc does not have any valid data for this timeperiod\n",
      "POINT(-129.9149932861328 50.875)\n",
      "58  results found\n"
     ]
    },
    {
     "name": "stderr",
     "output_type": "stream",
     "text": [
      "  7%|▋         | 163/2487 [14:55<2:17:51,  3.56s/it]"
     ]
    },
    {
     "name": "stdout",
     "output_type": "stream",
     "text": [
      "\n",
      " GL_TS_MO_23098.nc\n",
      "GL_TS_MO_23098.nc does not have any valid data for this timeperiod\n",
      "\n",
      " GL_WS_MO_42099.nc\n",
      "GL_WS_MO_42099.nc does not have any of the variables ['VHM0', 'VAVH', 'WSPD']\n",
      "\n",
      " NO_TS_MO_IJmuidenMunitiestort.nc\n",
      "POINT(4.058332920074463 52.54999923706055)\n",
      "177  results found\n"
     ]
    },
    {
     "name": "stderr",
     "output_type": "stream",
     "text": [
      "  7%|▋         | 166/2487 [15:12<2:34:48,  4.00s/it]"
     ]
    },
    {
     "name": "stdout",
     "output_type": "stream",
     "text": [
      "\n",
      " MO_TS_MO_61141.nc\n",
      "MO_TS_MO_61141.nc does not have any valid data for this timeperiod\n",
      "MO_TS_MO_61141.nc does not have any valid data for this timeperiod\n",
      "\n",
      " GL_WS_MO_6200163.nc\n",
      "GL_WS_MO_6200163.nc does not have any of the variables ['VHM0', 'VAVH', 'WSPD']\n",
      "\n",
      " GL_TS_MO_MEDS097.nc\n",
      "GL_TS_MO_MEDS097.nc does not have any valid data for this timeperiod\n",
      "\n",
      " GL_TS_MO_46269.nc\n",
      "POINT(-122.03399658203125 36.933998107910156)\n",
      "154  results found\n"
     ]
    },
    {
     "name": "stderr",
     "output_type": "stream",
     "text": [
      "  7%|▋         | 172/2487 [15:23<1:36:26,  2.50s/it]"
     ]
    },
    {
     "name": "stdout",
     "output_type": "stream",
     "text": [
      "\n",
      " GL_TS_MO_46708A.nc\n",
      "GL_TS_MO_46708A.nc does not have any valid data for this timeperiod\n",
      "\n",
      " GL_TS_MO_JurienBay02.nc\n",
      "GL_TS_MO_JurienBay02.nc does not have any valid data for this timeperiod\n",
      "\n",
      " GL_TS_MO_44175.nc\n",
      "GL_TS_MO_44175.nc does not have any valid data for this timeperiod\n",
      "GL_TS_MO_44175.nc does not have any valid data for this timeperiod\n",
      "\n",
      " GL_TS_MO_WEL425.nc\n",
      "GL_TS_MO_WEL425.nc does not have any valid data for this timeperiod\n",
      "\n",
      " GL_TS_MO_62309.nc\n",
      "GL_TS_MO_62309.nc does not have any of the variables ['VHM0', 'VAVH', 'WSPD']\n",
      "\n",
      " GL_TS_MO_MEDS045.nc\n",
      "GL_TS_MO_MEDS045.nc does not have any valid data for this timeperiod\n",
      "\n",
      " GL_TS_MO_2300091.nc\n",
      "POLYGON((89.24700164794922 17.802000045776367,89.24700164794922 17.83300018310547,89.19499969482422 17.83300018310547,89.19499969482422 17.802000045776367,89.24700164794922 17.802000045776367))\n"
     ]
    },
    {
     "name": "stderr",
     "output_type": "stream",
     "text": [
      "  7%|▋         | 176/2487 [15:28<1:16:45,  1.99s/it]"
     ]
    },
    {
     "name": "stdout",
     "output_type": "stream",
     "text": [
      "0  results found\n",
      "\n",
      " GL_TS_MO_6200066.nc\n",
      "POINT(-1.6139999628067017 43.529998779296875)\n",
      "238  results found\n"
     ]
    },
    {
     "name": "stderr",
     "output_type": "stream",
     "text": [
      "  7%|▋         | 177/2487 [15:42<2:13:44,  3.47s/it]"
     ]
    },
    {
     "name": "stdout",
     "output_type": "stream",
     "text": [
      "\n",
      " GL_TS_MO_44024.nc\n",
      "GL_TS_MO_44024.nc does not have any valid data for this timeperiod\n",
      "POINT(-65.90899658203125 42.32500076293945)\n"
     ]
    },
    {
     "name": "stderr",
     "output_type": "stream",
     "text": [
      "  7%|▋         | 178/2487 [15:52<2:57:38,  4.62s/it]"
     ]
    },
    {
     "name": "stdout",
     "output_type": "stream",
     "text": [
      "64  results found\n",
      "\n",
      " BO_TS_MO_Trubaduren.nc\n"
     ]
    },
    {
     "name": "stderr",
     "output_type": "stream",
     "text": [
      "  7%|▋         | 179/2487 [15:53<2:26:33,  3.81s/it]"
     ]
    },
    {
     "name": "stdout",
     "output_type": "stream",
     "text": [
      "BO_TS_MO_Trubaduren.nc does not have any valid data for this timeperiod\n",
      "BO_TS_MO_Trubaduren.nc does not have any valid data for this timeperiod\n",
      "\n",
      " GL_TS_MO_IF000576.nc\n",
      "GL_TS_MO_IF000576.nc does not have any of the variables ['VHM0', 'VAVH', 'WSPD']\n",
      "\n",
      " NO_TS_MO_ScheurWielingen.nc\n",
      "POINT(3.3022000789642334 51.40140151977539)\n",
      "233  results found\n"
     ]
    },
    {
     "name": "stderr",
     "output_type": "stream",
     "text": [
      "  7%|▋         | 181/2487 [16:02<2:39:11,  4.14s/it]"
     ]
    },
    {
     "name": "stdout",
     "output_type": "stream",
     "text": [
      "NO_TS_MO_ScheurWielingen.nc does not have any valid data for this timeperiod\n",
      "\n",
      " BO_TS_MO_Laso.nc\n",
      "BO_TS_MO_Laso.nc does not have any valid data for this timeperiod\n",
      "\n",
      " NO_TS_MO_6200305.nc\n",
      "POINT(0.0 50.400001525878906)\n",
      "176  results found\n"
     ]
    },
    {
     "name": "stderr",
     "output_type": "stream",
     "text": [
      "  7%|▋         | 183/2487 [16:14<3:04:25,  4.80s/it]"
     ]
    },
    {
     "name": "stdout",
     "output_type": "stream",
     "text": [
      "\n",
      " GL_TS_MO_1401535.nc\n",
      "GL_TS_MO_1401535.nc does not have any of the variables ['VHM0', 'VAVH', 'WSPD']\n",
      "\n",
      " GL_TS_MO_WEL244.nc\n",
      "GL_TS_MO_WEL244.nc does not have any valid data for this timeperiod\n",
      "\n",
      " NO_TS_MO_Amelander52.nc\n"
     ]
    },
    {
     "name": "stderr",
     "output_type": "stream",
     "text": [
      "  7%|▋         | 186/2487 [16:15<1:49:32,  2.86s/it]"
     ]
    },
    {
     "name": "stdout",
     "output_type": "stream",
     "text": [
      "NO_TS_MO_Amelander52.nc does not have any valid data for this timeperiod\n",
      "NO_TS_MO_Amelander52.nc does not have any valid data for this timeperiod\n",
      "\n",
      " GL_TS_MO_44097.nc\n",
      "POINT(-71.1259994506836 40.96699905395508)\n",
      "82  results found\n"
     ]
    },
    {
     "name": "stderr",
     "output_type": "stream",
     "text": [
      "  8%|▊         | 188/2487 [16:24<2:01:24,  3.17s/it]"
     ]
    },
    {
     "name": "stdout",
     "output_type": "stream",
     "text": [
      "\n",
      " GL_TS_MO_52083.nc\n",
      "GL_TS_MO_52083.nc does not have any valid data for this timeperiod\n",
      "\n",
      " GL_TS_MO_45007.nc\n"
     ]
    },
    {
     "name": "stderr",
     "output_type": "stream",
     "text": [
      "  8%|▊         | 189/2487 [16:24<1:36:55,  2.53s/it]"
     ]
    },
    {
     "name": "stdout",
     "output_type": "stream",
     "text": [
      "GL_TS_MO_45007.nc does not have any valid data for this timeperiod\n",
      "GL_TS_MO_45007.nc does not have any valid data for this timeperiod\n",
      "\n",
      " GL_TS_MO_44086.nc\n",
      "POINT(-75.4209976196289 36.000999450683594)\n",
      "57  results found\n"
     ]
    },
    {
     "name": "stderr",
     "output_type": "stream",
     "text": [
      "  8%|▊         | 190/2487 [16:31<2:13:35,  3.49s/it]"
     ]
    },
    {
     "name": "stdout",
     "output_type": "stream",
     "text": [
      "\n",
      " GL_TS_MO_6801025.nc\n",
      "GL_TS_MO_6801025.nc does not have any of the variables ['VHM0', 'VAVH', 'WSPD']\n",
      "\n",
      " GL_TS_MO_1400011.nc\n",
      "GL_TS_MO_1400011.nc does not have any of the variables ['VHM0', 'VAVH', 'WSPD']\n",
      "\n",
      " GL_TS_MO_WEL427.nc\n",
      "GL_TS_MO_WEL427.nc does not have any valid data for this timeperiod\n",
      "\n",
      " GL_TS_MO_46047.nc\n",
      "GL_TS_MO_46047.nc does not have any valid data for this timeperiod\n",
      "POLYGON((-119.5250015258789 32.38800048828125,-119.5250015258789 32.40399932861328,-119.50599670410156 32.40399932861328,-119.50599670410156 32.38800048828125,-119.5250015258789 32.38800048828125))\n",
      "127  results found\n"
     ]
    },
    {
     "name": "stderr",
     "output_type": "stream",
     "text": [
      "  8%|▊         | 194/2487 [20:40<23:40:27, 37.17s/it]"
     ]
    },
    {
     "name": "stdout",
     "output_type": "stream",
     "text": [
      "\n",
      " NO_TS_MO_EurogeulE13.nc\n",
      "POINT(3.7369439601898193 52.0099983215332)\n",
      "176  results found\n"
     ]
    },
    {
     "name": "stderr",
     "output_type": "stream",
     "text": [
      "  8%|▊         | 195/2487 [20:52<20:52:29, 32.79s/it]"
     ]
    },
    {
     "name": "stdout",
     "output_type": "stream",
     "text": [
      "\n",
      " NO_TS_MO_MeetboeiWEW1.nc\n",
      "POINT(6.3679327964782715 53.61953353881836)\n",
      "208  results found\n"
     ]
    },
    {
     "name": "stderr",
     "output_type": "stream",
     "text": [
      "  8%|▊         | 196/2487 [21:01<17:54:30, 28.14s/it]"
     ]
    },
    {
     "name": "stdout",
     "output_type": "stream",
     "text": [
      "\n",
      " GL_TS_MO_Smile.nc\n",
      "POINT(-0.3073999881744385 49.34379959106445)\n",
      "236  results found\n"
     ]
    },
    {
     "name": "stderr",
     "output_type": "stream",
     "text": [
      "  8%|▊         | 197/2487 [21:13<15:38:44, 24.60s/it]"
     ]
    },
    {
     "name": "stdout",
     "output_type": "stream",
     "text": [
      "\n",
      " GL_TS_MO_2300454.nc\n",
      "POLYGON((72.58000183105469 10.307000160217285,72.58000183105469 10.329000473022461,72.60299682617188 10.329000473022461,72.60299682617188 10.307000160217285,72.58000183105469 10.307000160217285))\n"
     ]
    },
    {
     "name": "stderr",
     "output_type": "stream",
     "text": [
      "  8%|▊         | 198/2487 [21:19<12:53:48, 20.28s/it]"
     ]
    },
    {
     "name": "stdout",
     "output_type": "stream",
     "text": [
      "0  results found\n",
      "\n",
      " GL_TS_MO_46069.nc\n",
      "GL_TS_MO_46069.nc does not have any valid data for this timeperiod\n",
      "POINT(-120.21299743652344 33.676998138427734)\n",
      "176  results found\n"
     ]
    },
    {
     "name": "stderr",
     "output_type": "stream",
     "text": [
      "  8%|▊         | 199/2487 [21:30<11:28:43, 18.06s/it]"
     ]
    },
    {
     "name": "stdout",
     "output_type": "stream",
     "text": [
      "\n",
      " BS_TS_MO_37018.nc\n",
      "BS_TS_MO_37018.nc does not have any valid data for this timeperiod\n",
      "\n",
      " NO_TS_MO_OostendNorth.nc\n",
      "POINT(2.882999897003174 51.35200119018555)\n",
      "233  results found\n"
     ]
    },
    {
     "name": "stderr",
     "output_type": "stream",
     "text": [
      "  8%|▊         | 201/2487 [21:48<8:59:29, 14.16s/it] "
     ]
    },
    {
     "name": "stdout",
     "output_type": "stream",
     "text": [
      "\n",
      " GL_WS_MO_42036.nc\n",
      "GL_WS_MO_42036.nc does not have any of the variables ['VHM0', 'VAVH', 'WSPD']\n",
      "\n",
      " NO_TS_MO_FINO2.nc\n"
     ]
    },
    {
     "name": "stderr",
     "output_type": "stream",
     "text": [
      "  8%|▊         | 203/2487 [21:48<5:38:28,  8.89s/it]"
     ]
    },
    {
     "name": "stdout",
     "output_type": "stream",
     "text": [
      "NO_TS_MO_FINO2.nc does not have any valid data for this timeperiod\n",
      "\n",
      " GL_WS_MO_41023.nc\n",
      "GL_WS_MO_41023.nc does not have any of the variables ['VHM0', 'VAVH', 'WSPD']\n",
      "\n",
      " GL_TS_MO_71237.nc\n",
      "GL_TS_MO_71237.nc does not have any of the variables ['VHM0', 'VAVH', 'WSPD']\n",
      "\n",
      " BS_TS_MO_SPOT0772.nc\n",
      "POLYGON((27.99650001525879 43.18320083618164,27.99650001525879 43.18199920654297,27.994800567626953 43.18199920654297,27.994800567626953 43.18320083618164,27.99650001525879 43.18320083618164))\n",
      "177  results found\n"
     ]
    },
    {
     "name": "stderr",
     "output_type": "stream",
     "text": [
      "  8%|▊         | 207/2487 [25:48<21:12:14, 33.48s/it]"
     ]
    },
    {
     "name": "stdout",
     "output_type": "stream",
     "text": [
      "\n",
      " GL_TS_MO_45022.nc\n",
      "GL_TS_MO_45022.nc does not have any valid data for this timeperiod\n",
      "GL_TS_MO_45022.nc does not have any valid data for this timeperiod\n",
      "\n",
      " NO_TS_MO_Breezanddijkbuiten1.nc\n",
      "NO_TS_MO_Breezanddijkbuiten1.nc does not have any valid data for this timeperiod\n",
      "NO_TS_MO_Breezanddijkbuiten1.nc does not have any valid data for this timeperiod\n",
      "\n",
      " GL_TS_MO_45165.nc\n"
     ]
    },
    {
     "name": "stderr",
     "output_type": "stream",
     "text": [
      "  8%|▊         | 209/2487 [25:48<14:08:28, 22.35s/it]"
     ]
    },
    {
     "name": "stdout",
     "output_type": "stream",
     "text": [
      "GL_TS_MO_45165.nc does not have any valid data for this timeperiod\n",
      "GL_TS_MO_45165.nc is too close to land\n",
      "\n",
      " GL_TS_MO_WEL116.nc\n",
      "GL_TS_MO_WEL116.nc does not have any valid data for this timeperiod\n",
      "\n",
      " NO_TS_MO_EurogeulDWE.nc\n",
      "POINT(3.0 51.948333740234375)\n",
      "232  results found\n"
     ]
    },
    {
     "name": "stderr",
     "output_type": "stream",
     "text": [
      "  8%|▊         | 211/2487 [26:31<13:52:10, 21.94s/it]"
     ]
    },
    {
     "name": "stdout",
     "output_type": "stream",
     "text": [
      "\n",
      " GL_TS_MO_41041.nc\n",
      "GL_TS_MO_41041.nc does not have any valid data for this timeperiod\n",
      "POLYGON((-46.09299850463867 14.310999870300293,-46.09299850463867 14.45300006866455,-46.32699966430664 14.45300006866455,-46.32699966430664 14.310999870300293,-46.09299850463867 14.310999870300293))\n",
      "2  results found\n"
     ]
    },
    {
     "name": "stderr",
     "output_type": "stream",
     "text": [
      "  9%|▊         | 212/2487 [26:43<12:43:00, 20.12s/it]"
     ]
    },
    {
     "name": "stdout",
     "output_type": "stream",
     "text": [
      "\n",
      " GL_TS_MO_46081.nc\n",
      "GL_TS_MO_46081.nc does not have any valid data for this timeperiod\n",
      "POINT(-148.2830047607422 60.801998138427734)\n",
      "48  results found\n"
     ]
    },
    {
     "name": "stderr",
     "output_type": "stream",
     "text": [
      "  9%|▊         | 216/2487 [26:50<5:46:34,  9.16s/it] "
     ]
    },
    {
     "name": "stdout",
     "output_type": "stream",
     "text": [
      "\n",
      " GL_WS_MO_46061.nc\n",
      "GL_WS_MO_46061.nc does not have any of the variables ['VHM0', 'VAVH', 'WSPD']\n",
      "\n",
      " GL_WS_MO_6200054.nc\n",
      "GL_WS_MO_6200054.nc does not have any of the variables ['VHM0', 'VAVH', 'WSPD']\n",
      "\n",
      " GL_TS_MO_45163.nc\n",
      "GL_TS_MO_45163.nc does not have any valid data for this timeperiod\n",
      "GL_TS_MO_45163.nc is too close to land\n",
      "\n",
      " GL_TS_MO_44033.nc\n",
      "GL_TS_MO_44033.nc does not have any valid data for this timeperiod\n",
      "POINT(-68.99600219726562 44.05500030517578)\n",
      "116  results found\n"
     ]
    },
    {
     "name": "stderr",
     "output_type": "stream",
     "text": [
      "  9%|▊         | 217/2487 [26:59<5:44:56,  9.12s/it]"
     ]
    },
    {
     "name": "stdout",
     "output_type": "stream",
     "text": [
      "\n",
      " GL_TS_MO_44031.nc\n",
      "GL_TS_MO_44031.nc does not have any valid data for this timeperiod\n",
      "GL_TS_MO_44031.nc does not have any valid data for this timeperiod\n",
      "\n",
      " GL_TS_MO_44007.nc\n",
      "GL_TS_MO_44007.nc does not have any valid data for this timeperiod\n",
      "POINT(-70.13999938964844 43.525001525878906)\n",
      "57  results found\n"
     ]
    },
    {
     "name": "stderr",
     "output_type": "stream",
     "text": [
      "  9%|▉         | 219/2487 [27:12<5:08:30,  8.16s/it]"
     ]
    },
    {
     "name": "stdout",
     "output_type": "stream",
     "text": [
      "\n",
      " GL_TS_MO_MEDS157.nc\n",
      "GL_TS_MO_MEDS157.nc does not have any valid data for this timeperiod\n",
      "\n",
      " GL_TS_MO_41139.nc\n",
      "POINT(-38.0 20.0)\n"
     ]
    },
    {
     "name": "stderr",
     "output_type": "stream",
     "text": [
      "  9%|▉         | 221/2487 [27:20<4:14:46,  6.75s/it]"
     ]
    },
    {
     "name": "stdout",
     "output_type": "stream",
     "text": [
      "0  results found\n",
      "\n",
      " GL_WS_MO_44014.nc\n",
      "GL_WS_MO_44014.nc does not have any of the variables ['VHM0', 'VAVH', 'WSPD']\n",
      "\n",
      " GL_TS_MO_2200103.nc\n",
      "POINT(127.5 34.0)\n",
      "32  results found\n"
     ]
    },
    {
     "name": "stderr",
     "output_type": "stream",
     "text": [
      "  9%|▉         | 223/2487 [27:28<3:46:18,  6.00s/it]"
     ]
    },
    {
     "name": "stdout",
     "output_type": "stream",
     "text": [
      "\n",
      " GL_TS_MO_WEL408.nc\n",
      "GL_TS_MO_WEL408.nc does not have any valid data for this timeperiod\n",
      "\n",
      " BO_TS_MO_Havringe.nc\n",
      "BO_TS_MO_Havringe.nc does not have any valid data for this timeperiod\n",
      "\n",
      " NO_TS_MO_LichteilandGoeree2.nc\n",
      "POINT(3.669722080230713 51.92583465576172)\n",
      "176  results found\n"
     ]
    },
    {
     "name": "stderr",
     "output_type": "stream",
     "text": [
      "  9%|▉         | 226/2487 [27:50<4:05:11,  6.51s/it]"
     ]
    },
    {
     "name": "stdout",
     "output_type": "stream",
     "text": [
      "\n",
      " GL_TS_MO_46132.nc\n",
      "GL_TS_MO_46132.nc does not have any valid data for this timeperiod\n",
      "POINT(-127.93199920654297 49.737998962402344)\n",
      "87  results found\n"
     ]
    },
    {
     "name": "stderr",
     "output_type": "stream",
     "text": [
      "  9%|▉         | 227/2487 [28:03<4:44:43,  7.56s/it]"
     ]
    },
    {
     "name": "stdout",
     "output_type": "stream",
     "text": [
      "\n",
      " GL_WS_MO_6200058.nc\n",
      "GL_WS_MO_6200058.nc does not have any of the variables ['VHM0', 'VAVH', 'WSPD']\n",
      "\n",
      " GL_WS_MO_41121.nc\n",
      "GL_WS_MO_41121.nc does not have any of the variables ['VHM0', 'VAVH', 'WSPD']\n",
      "\n",
      " GL_WS_MO_46022.nc\n",
      "GL_WS_MO_46022.nc does not have any of the variables ['VHM0', 'VAVH', 'WSPD']\n",
      "\n",
      " GL_TS_MO_46759A.nc\n",
      "GL_TS_MO_46759A.nc does not have any valid data for this timeperiod\n",
      "\n",
      " BO_TS_MO_Asko.nc\n",
      "POLYGON((17.624399185180664 58.80179977416992,17.624399185180664 58.80229949951172,17.625499725341797 58.80229949951172,17.625499725341797 58.80179977416992,17.624399185180664 58.80179977416992))\n",
      "294  results found\n"
     ]
    },
    {
     "name": "stderr",
     "output_type": "stream",
     "text": [
      "  9%|▉         | 232/2487 [28:20<3:19:17,  5.30s/it]"
     ]
    },
    {
     "name": "stdout",
     "output_type": "stream",
     "text": [
      "\n",
      " NO_TS_MO_Fjaltring.nc\n",
      "POINT(8.04800033569336 56.474998474121094)\n",
      "230  results found\n"
     ]
    },
    {
     "name": "stderr",
     "output_type": "stream",
     "text": [
      "  9%|▉         | 233/2487 [28:34<4:05:29,  6.53s/it]"
     ]
    },
    {
     "name": "stdout",
     "output_type": "stream",
     "text": [
      "\n",
      " GL_WS_MO_46239.nc\n",
      "GL_WS_MO_46239.nc does not have any of the variables ['VHM0', 'VAVH', 'WSPD']\n",
      "\n",
      " GL_TS_MO_46032.nc\n",
      "GL_TS_MO_46032.nc does not have any valid data for this timeperiod\n",
      "\n",
      " GL_TS_MO_41048.nc\n",
      "GL_TS_MO_41048.nc does not have any valid data for this timeperiod\n",
      "POINT(-69.572998046875 31.83099937438965)\n"
     ]
    },
    {
     "name": "stderr",
     "output_type": "stream",
     "text": [
      "  9%|▉         | 236/2487 [28:43<3:16:29,  5.24s/it]"
     ]
    },
    {
     "name": "stdout",
     "output_type": "stream",
     "text": [
      "0  results found\n",
      "\n",
      " GL_WS_MO_46071.nc\n",
      "GL_WS_MO_46071.nc does not have any of the variables ['VHM0', 'VAVH', 'WSPD']\n",
      "\n",
      " IR_TS_MO_Pasaia-station.nc\n",
      "IR_TS_MO_Pasaia-station.nc does not have any valid data for this timeperiod\n"
     ]
    },
    {
     "name": "stderr",
     "output_type": "stream",
     "text": [
      " 10%|▉         | 238/2487 [28:44<2:26:57,  3.92s/it]"
     ]
    },
    {
     "name": "stdout",
     "output_type": "stream",
     "text": [
      "IR_TS_MO_Pasaia-station.nc is too close to land\n",
      "\n",
      " NO_TS_MO_6200303.nc\n",
      "NO_TS_MO_6200303.nc does not have any valid data for this timeperiod\n",
      "NO_TS_MO_6200303.nc does not have any valid data for this timeperiod\n",
      "\n",
      " GL_TS_MO_46185.nc\n",
      "GL_TS_MO_46185.nc does not have any valid data for this timeperiod\n",
      "POINT(-129.79200744628906 52.42499923706055)\n",
      "119  results found\n"
     ]
    },
    {
     "name": "stderr",
     "output_type": "stream",
     "text": [
      " 10%|▉         | 240/2487 [28:56<2:49:45,  4.53s/it]"
     ]
    },
    {
     "name": "stdout",
     "output_type": "stream",
     "text": [
      "\n",
      " NO_TS_MO_6200145.nc\n",
      "POINT(2.799999952316284 53.10200119018555)\n",
      "233  results found\n"
     ]
    },
    {
     "name": "stderr",
     "output_type": "stream",
     "text": [
      " 10%|▉         | 241/2487 [29:13<4:03:04,  6.49s/it]"
     ]
    },
    {
     "name": "stdout",
     "output_type": "stream",
     "text": [
      "\n",
      " GL_TS_MO_46043.nc\n",
      "GL_TS_MO_46043.nc does not have any valid data for this timeperiod\n",
      "\n",
      " GL_TS_MO_4601699.nc\n",
      "GL_TS_MO_4601699.nc does not have any of the variables ['VHM0', 'VAVH', 'WSPD']\n",
      "\n",
      " GL_TS_MO_4600036.nc\n",
      "GL_TS_MO_4600036.nc does not have any valid data for this timeperiod\n",
      "\n",
      " BO_TS_MO_HuvudskarOst.nc\n",
      "POLYGON((19.16670036315918 58.93330001831055,19.16670036315918 58.936100006103516,19.159099578857422 58.936100006103516,19.159099578857422 58.93330001831055,19.16670036315918 58.93330001831055))\n",
      "264  results found\n"
     ]
    },
    {
     "name": "stderr",
     "output_type": "stream",
     "text": [
      " 10%|▉         | 245/2487 [30:26<7:32:32, 12.11s/it]"
     ]
    },
    {
     "name": "stdout",
     "output_type": "stream",
     "text": [
      "\n",
      " GL_TS_MO_42887.nc\n",
      "GL_TS_MO_42887.nc does not have any valid data for this timeperiod\n",
      "GL_TS_MO_42887.nc does not have any valid data for this timeperiod\n",
      "\n",
      " GL_TS_MO_41010.nc\n",
      "GL_TS_MO_41010.nc does not have any valid data for this timeperiod\n",
      "POINT(-78.48500061035156 28.878000259399414)\n",
      "60  results found\n"
     ]
    },
    {
     "name": "stderr",
     "output_type": "stream",
     "text": [
      " 10%|▉         | 247/2487 [30:35<6:23:34, 10.27s/it]"
     ]
    },
    {
     "name": "stdout",
     "output_type": "stream",
     "text": [
      "\n",
      " AR_TS_MO_Valplassen-34-85.nc\n",
      "AR_TS_MO_Valplassen-34-85.nc does not have any of the variables ['VHM0', 'VAVH', 'WSPD']\n",
      "\n",
      " GL_TS_MO_EXIN0005.nc\n",
      "GL_TS_MO_EXIN0005.nc does not have any valid data for this timeperiod\n",
      "\n",
      " GL_TS_MO_46248.nc\n",
      "POINT(-124.64399719238281 46.132999420166016)\n",
      "118  results found\n"
     ]
    },
    {
     "name": "stderr",
     "output_type": "stream",
     "text": [
      " 10%|█         | 250/2487 [30:45<4:50:50,  7.80s/it]"
     ]
    },
    {
     "name": "stdout",
     "output_type": "stream",
     "text": [
      "\n",
      " NO_TS_MO_HoekVanHollandNAP.nc\n",
      "NO_TS_MO_HoekVanHollandNAP.nc does not have any of the variables ['VHM0', 'VAVH', 'WSPD']\n",
      "\n",
      " GL_TS_MO_55051.nc\n",
      "GL_TS_MO_55051.nc does not have any valid data for this timeperiod\n",
      "\n",
      " GL_TS_MO_T5S140W.nc\n"
     ]
    },
    {
     "name": "stderr",
     "output_type": "stream",
     "text": [
      " 10%|█         | 253/2487 [30:46<3:14:46,  5.23s/it]"
     ]
    },
    {
     "name": "stdout",
     "output_type": "stream",
     "text": [
      "GL_TS_MO_T5S140W.nc does not have any valid data for this timeperiod\n",
      "\n",
      " GL_TS_MO_44042.nc\n",
      "GL_TS_MO_44042.nc does not have any valid data for this timeperiod\n",
      "LINESTRING(-76.33499908447266 38.03300094604492,-76.33599853515625 38.03300094604492)\n",
      "57  results found\n"
     ]
    },
    {
     "name": "stderr",
     "output_type": "stream",
     "text": [
      " 10%|█         | 254/2487 [32:59<14:10:06, 22.84s/it]"
     ]
    },
    {
     "name": "stdout",
     "output_type": "stream",
     "text": [
      "\n",
      " GL_TS_MO_44174.nc\n",
      "GL_TS_MO_44174.nc does not have any valid data for this timeperiod\n",
      "GL_TS_MO_44174.nc does not have any valid data for this timeperiod\n",
      "\n",
      " GL_TS_MO_42039.nc\n",
      "GL_TS_MO_42039.nc does not have any valid data for this timeperiod\n",
      "POLYGON((-86.00700378417969 28.78700065612793,-86.00700378417969 28.788000106811523,-86.00800323486328 28.788000106811523,-86.00800323486328 28.78700065612793,-86.00700378417969 28.78700065612793))\n",
      "31  results found\n"
     ]
    },
    {
     "name": "stderr",
     "output_type": "stream",
     "text": [
      " 10%|█         | 256/2487 [34:06<16:03:48, 25.92s/it]"
     ]
    },
    {
     "name": "stdout",
     "output_type": "stream",
     "text": [
      "\n",
      " GL_TS_MO_T5N140W.nc\n",
      "POINT(-140.0 5.0)\n"
     ]
    },
    {
     "name": "stderr",
     "output_type": "stream",
     "text": [
      " 10%|█         | 257/2487 [34:15<14:18:37, 23.10s/it]"
     ]
    },
    {
     "name": "stdout",
     "output_type": "stream",
     "text": [
      "0  results found\n",
      "\n",
      " GL_TS_MO_56004.nc\n",
      "POINT(114.91999816894531 -30.299999237060547)\n"
     ]
    },
    {
     "name": "stderr",
     "output_type": "stream",
     "text": [
      " 11%|█         | 262/2487 [34:26<6:06:05,  9.87s/it] "
     ]
    },
    {
     "name": "stdout",
     "output_type": "stream",
     "text": [
      "28  results found\n",
      "\n",
      " GL_TS_MO_Geraldton04.nc\n",
      "GL_TS_MO_Geraldton04.nc does not have any valid data for this timeperiod\n",
      "\n",
      " BS_TS_MO_Novorossiysk.nc\n",
      "BS_TS_MO_Novorossiysk.nc does not have any valid data for this timeperiod\n",
      "\n",
      " GL_TS_MO_46250.nc\n",
      "GL_TS_MO_46250.nc does not have any valid data for this timeperiod\n",
      "\n",
      " GL_WS_MO_46222.nc\n",
      "GL_WS_MO_46222.nc does not have any of the variables ['VHM0', 'VAVH', 'WSPD']\n",
      "\n",
      " GL_TS_MO_46211.nc\n",
      "POINT(-124.24400329589844 46.856998443603516)\n"
     ]
    },
    {
     "name": "stderr",
     "output_type": "stream",
     "text": [
      " 11%|█         | 262/2487 [34:43<6:06:05,  9.87s/it]"
     ]
    },
    {
     "name": "stdout",
     "output_type": "stream",
     "text": [
      "87  results found\n"
     ]
    },
    {
     "name": "stderr",
     "output_type": "stream",
     "text": [
      " 11%|█         | 269/2487 [34:44<2:53:38,  4.70s/it]"
     ]
    },
    {
     "name": "stdout",
     "output_type": "stream",
     "text": [
      "\n",
      " GL_WS_MO_46215.nc\n",
      "GL_WS_MO_46215.nc does not have any of the variables ['VHM0', 'VAVH', 'WSPD']\n",
      "\n",
      " GL_TS_MO_MEDS192.nc\n",
      "GL_TS_MO_MEDS192.nc does not have any valid data for this timeperiod\n",
      "\n",
      " BO_TS_MO_Uusmadal.nc\n",
      "BO_TS_MO_Uusmadal.nc does not have any of the variables ['VHM0', 'VAVH', 'WSPD']\n",
      "\n",
      " AR_TS_MO_Gakorivannet-33-86.nc\n",
      "AR_TS_MO_Gakorivannet-33-86.nc does not have any of the variables ['VHM0', 'VAVH', 'WSPD']\n",
      "\n",
      " GL_TS_MO_IF000258.nc\n",
      "GL_TS_MO_IF000258.nc does not have any of the variables ['VHM0', 'VAVH', 'WSPD']\n",
      "\n",
      " MO_TS_MO_SANTO.nc\n",
      "MO_TS_MO_SANTO.nc does not have any valid data for this timeperiod\n",
      "MO_TS_MO_SANTO.nc does not have any valid data for this timeperiod\n",
      "\n",
      " NO_TS_MO_Arkona.nc\n",
      "POINT(13.866666793823242 54.883331298828125)\n"
     ]
    },
    {
     "name": "stderr",
     "output_type": "stream",
     "text": [
      " 11%|█         | 269/2487 [35:03<2:53:38,  4.70s/it]"
     ]
    },
    {
     "name": "stdout",
     "output_type": "stream",
     "text": [
      "244  results found\n"
     ]
    },
    {
     "name": "stderr",
     "output_type": "stream",
     "text": [
      " 11%|█         | 271/2487 [35:05<3:33:07,  5.77s/it]"
     ]
    },
    {
     "name": "stdout",
     "output_type": "stream",
     "text": [
      "\n",
      " GL_TS_MO_44009.nc\n",
      "GL_TS_MO_44009.nc does not have any valid data for this timeperiod\n",
      "GL_TS_MO_44009.nc does not have any valid data for this timeperiod\n",
      "\n",
      " GL_WS_MO_44099.nc\n",
      "GL_WS_MO_44099.nc does not have any of the variables ['VHM0', 'VAVH', 'WSPD']\n",
      "\n",
      " NO_TS_MO_6201011.nc\n"
     ]
    },
    {
     "name": "stderr",
     "output_type": "stream",
     "text": [
      " 11%|█         | 279/2487 [35:06<1:10:37,  1.92s/it]"
     ]
    },
    {
     "name": "stdout",
     "output_type": "stream",
     "text": [
      "NO_TS_MO_6201011.nc does not have any valid data for this timeperiod\n",
      "\n",
      " GL_TS_MO_46107.nc\n",
      "GL_TS_MO_46107.nc does not have any valid data for this timeperiod\n",
      "\n",
      " GL_TS_MO_44143.nc\n",
      "GL_TS_MO_44143.nc does not have any valid data for this timeperiod\n",
      "GL_TS_MO_44143.nc does not have any valid data for this timeperiod\n",
      "\n",
      " GL_TS_MO_48213.nc\n",
      "GL_TS_MO_48213.nc does not have any valid data for this timeperiod\n",
      "GL_TS_MO_48213.nc does not have any valid data for this timeperiod\n",
      "\n",
      " BS_TS_MO_Horly.nc\n",
      "BS_TS_MO_Horly.nc does not have any valid data for this timeperiod\n",
      "\n",
      " GL_TS_MO_45207.nc\n",
      "GL_TS_MO_45207.nc does not have any valid data for this timeperiod\n",
      "\n",
      " GL_TS_MO_MEDS169.nc\n",
      "GL_TS_MO_MEDS169.nc does not have any valid data for this timeperiod\n",
      "\n",
      " AR_TS_MO_A-Sulafjorden.nc\n"
     ]
    },
    {
     "name": "stderr",
     "output_type": "stream",
     "text": [
      " 11%|█▏        | 282/2487 [35:06<50:35,  1.38s/it]  "
     ]
    },
    {
     "name": "stdout",
     "output_type": "stream",
     "text": [
      "AR_TS_MO_A-Sulafjorden.nc does not have any valid data for this timeperiod\n",
      "\n",
      " MO_TS_MO_MURO.nc\n",
      "MO_TS_MO_MURO.nc does not have any valid data for this timeperiod\n",
      "\n",
      " GL_WS_MO_45003.nc\n",
      "GL_WS_MO_45003.nc does not have any of the variables ['VHM0', 'VAVH', 'WSPD']\n",
      "\n",
      " GL_TS_MO_46077.nc\n",
      "GL_TS_MO_46077.nc does not have any valid data for this timeperiod\n",
      "POINT(-154.17599487304688 57.902000427246094)\n",
      "53  results found\n"
     ]
    },
    {
     "name": "stderr",
     "output_type": "stream",
     "text": [
      " 12%|█▏        | 287/2487 [35:17<58:07,  1.59s/it]  "
     ]
    },
    {
     "name": "stdout",
     "output_type": "stream",
     "text": [
      "\n",
      " GL_TS_MO_42394.nc\n",
      "GL_TS_MO_42394.nc does not have any valid data for this timeperiod\n",
      "\n",
      " GL_TS_MO_46020.nc\n",
      "GL_TS_MO_46020.nc does not have any valid data for this timeperiod\n",
      "\n",
      " BO_TS_MO_Vaderoarna.nc\n",
      "BO_TS_MO_Vaderoarna.nc does not have any valid data for this timeperiod\n",
      "BO_TS_MO_Vaderoarna.nc does not have any valid data for this timeperiod\n",
      "\n",
      " GL_TS_MO_66059.nc\n",
      "GL_TS_MO_66059.nc does not have any valid data for this timeperiod\n",
      "\n",
      " GL_TS_MO_MEDS048.nc\n",
      "GL_TS_MO_MEDS048.nc does not have any valid data for this timeperiod\n",
      "\n",
      " IR_TS_MO_6100280.nc\n",
      "IR_TS_MO_6100280.nc does not have any valid data for this timeperiod\n",
      "POLYGON((1.4617999792099 40.68360137939453,1.4617999792099 40.6879997253418,1.4673000574111938 40.6879997253418,1.4673000574111938 40.68360137939453,1.4617999792099 40.68360137939453))\n",
      "238  results found\n"
     ]
    },
    {
     "name": "stderr",
     "output_type": "stream",
     "text": [
      " 12%|█▏        | 289/2487 [36:50<7:34:54, 12.42s/it]"
     ]
    },
    {
     "name": "stdout",
     "output_type": "stream",
     "text": [
      "\n",
      " GL_TS_MO_55028.nc\n",
      "POLYGON((145.7151641845703 -16.729999542236328,145.7151641845703 -17.219999313354492,146.1699981689453 -17.219999313354492,146.1699981689453 -16.729999542236328,145.7151641845703 -16.729999542236328))\n",
      "60  results found\n"
     ]
    },
    {
     "name": "stderr",
     "output_type": "stream",
     "text": [
      " 12%|█▏        | 290/2487 [37:31<10:08:39, 16.62s/it]"
     ]
    },
    {
     "name": "stdout",
     "output_type": "stream",
     "text": [
      "\n",
      " BS_TS_MO_Gelendzhik.nc\n",
      "BS_TS_MO_Gelendzhik.nc does not have any valid data for this timeperiod\n",
      "BS_TS_MO_Gelendzhik.nc does not have any valid data for this timeperiod\n",
      "\n",
      " GL_TS_MO_T5N110W.nc\n",
      "POINT(-110.0 5.0)\n"
     ]
    },
    {
     "name": "stderr",
     "output_type": "stream",
     "text": [
      " 12%|█▏        | 294/2487 [37:41<5:36:48,  9.21s/it] "
     ]
    },
    {
     "name": "stdout",
     "output_type": "stream",
     "text": [
      "0  results found\n",
      "\n",
      " GL_TS_MO_45141.nc\n",
      "GL_TS_MO_45141.nc does not have any valid data for this timeperiod\n",
      "GL_TS_MO_45141.nc is too close to land\n",
      "\n",
      " GL_WS_MO_46082.nc\n",
      "GL_WS_MO_46082.nc does not have any of the variables ['VHM0', 'VAVH', 'WSPD']\n",
      "\n",
      " GL_TS_MO_55036.nc\n",
      "POLYGON((153.42999267578125 -28.600000381469727,153.42999267578125 -27.950000762939453,153.72999572753906 -27.950000762939453,153.72999572753906 -28.600000381469727,153.42999267578125 -28.600000381469727))\n",
      "82  results found\n"
     ]
    },
    {
     "name": "stderr",
     "output_type": "stream",
     "text": [
      " 12%|█▏        | 299/2487 [38:00<3:20:07,  5.49s/it]"
     ]
    },
    {
     "name": "stdout",
     "output_type": "stream",
     "text": [
      "\n",
      " BO_TS_MO_Utklippan.nc\n",
      "BO_TS_MO_Utklippan.nc does not have any valid data for this timeperiod\n",
      "\n",
      " GL_TS_MO_46111.nc\n",
      "GL_TS_MO_46111.nc does not have any valid data for this timeperiod\n",
      "\n",
      " GL_WS_MO_46029.nc\n",
      "GL_WS_MO_46029.nc does not have any of the variables ['VHM0', 'VAVH', 'WSPD']\n",
      "\n",
      " BO_TS_MO_Orskar.nc\n",
      "BO_TS_MO_Orskar.nc does not have any valid data for this timeperiod\n",
      "\n",
      " GL_TS_MO_41011.nc\n",
      "GL_TS_MO_41011.nc does not have any valid data for this timeperiod\n",
      "GL_TS_MO_41011.nc does not have any valid data for this timeperiod\n",
      "\n",
      " IR_TS_MO_Sevilla-coast-buoy.nc\n",
      "IR_TS_MO_Sevilla-coast-buoy.nc does not have any valid data for this timeperiod\n"
     ]
    },
    {
     "name": "stderr",
     "output_type": "stream",
     "text": [
      " 12%|█▏        | 302/2487 [38:00<2:10:41,  3.59s/it]"
     ]
    },
    {
     "name": "stdout",
     "output_type": "stream",
     "text": [
      "IR_TS_MO_Sevilla-coast-buoy.nc does not have any valid data for this timeperiod\n",
      "\n",
      " GL_TS_MO_6101023.nc\n",
      "GL_TS_MO_6101023.nc does not have any of the variables ['VHM0', 'VAVH', 'WSPD']\n",
      "\n",
      " MO_TS_MO_RMNSP.nc\n",
      "MO_TS_MO_RMNSP.nc does not have any valid data for this timeperiod\n",
      "\n",
      " NO_TS_MO_Sylt.nc\n",
      "POINT(8.089300155639648 54.91889953613281)\n",
      "230  results found\n"
     ]
    },
    {
     "name": "stderr",
     "output_type": "stream",
     "text": [
      " 12%|█▏        | 305/2487 [38:09<2:02:22,  3.37s/it]"
     ]
    },
    {
     "name": "stdout",
     "output_type": "stream",
     "text": [
      "\n",
      " NO_TS_MO_6201053.nc\n",
      "NO_TS_MO_6201053.nc does not have any valid data for this timeperiod\n",
      "\n",
      " GL_TS_MO_44100.nc\n",
      "POINT(-75.59300231933594 36.257999420166016)\n",
      "56  results found\n"
     ]
    },
    {
     "name": "stderr",
     "output_type": "stream",
     "text": [
      " 13%|█▎        | 311/2487 [38:16<1:15:20,  2.08s/it]"
     ]
    },
    {
     "name": "stdout",
     "output_type": "stream",
     "text": [
      "\n",
      " GL_WS_MO_45001.nc\n",
      "GL_WS_MO_45001.nc does not have any of the variables ['VHM0', 'VAVH', 'WSPD']\n",
      "\n",
      " GL_TS_MO_MEDS503W.nc\n",
      "GL_TS_MO_MEDS503W.nc does not have any valid data for this timeperiod\n",
      "\n",
      " GL_TS_MO_Guilderton01.nc\n",
      "GL_TS_MO_Guilderton01.nc does not have any valid data for this timeperiod\n",
      "\n",
      " GL_TS_MO_MEDS257.nc\n",
      "GL_TS_MO_MEDS257.nc does not have any valid data for this timeperiod\n",
      "\n",
      " GL_TS_MO_62449.nc\n",
      "GL_TS_MO_62449.nc does not have any of the variables ['VHM0', 'VAVH', 'WSPD']\n",
      "\n",
      " GL_TS_MO_6100023.nc\n",
      "GL_TS_MO_6100023.nc does not have any of the variables ['VHM0', 'VAVH', 'WSPD']\n",
      "\n",
      " GL_TS_MO_42095.nc\n",
      "GL_TS_MO_42095.nc does not have any valid data for this timeperiod\n",
      "\n",
      " GL_TS_MO_45179.nc\n"
     ]
    },
    {
     "name": "stderr",
     "output_type": "stream",
     "text": [
      " 13%|█▎        | 315/2487 [38:17<47:55,  1.32s/it]  "
     ]
    },
    {
     "name": "stdout",
     "output_type": "stream",
     "text": [
      "GL_TS_MO_45179.nc does not have any valid data for this timeperiod\n",
      "GL_TS_MO_45179.nc does not have any valid data for this timeperiod\n",
      "\n",
      " BO_TS_MO_Ostergarn.nc\n",
      "BO_TS_MO_Ostergarn.nc does not have any valid data for this timeperiod\n",
      "\n",
      " GL_TS_MO_51201.nc\n",
      "POINT(-158.11700439453125 21.67099952697754)\n",
      "117  results found\n"
     ]
    },
    {
     "name": "stderr",
     "output_type": "stream",
     "text": [
      " 13%|█▎        | 318/2487 [38:30<1:21:03,  2.24s/it]"
     ]
    },
    {
     "name": "stdout",
     "output_type": "stream",
     "text": [
      "\n",
      " GL_TS_MO_MEDS149.nc\n",
      "GL_TS_MO_MEDS149.nc does not have any valid data for this timeperiod\n",
      "\n",
      " GL_TS_MO_4101525.nc\n",
      "GL_TS_MO_4101525.nc does not have any of the variables ['VHM0', 'VAVH', 'WSPD']\n",
      "\n",
      " GL_TS_MO_2200101.nc\n",
      "POINT(126.0199966430664 37.2400016784668)\n",
      "53  results found\n"
     ]
    },
    {
     "name": "stderr",
     "output_type": "stream",
     "text": [
      " 13%|█▎        | 319/2487 [38:37<1:39:40,  2.76s/it]"
     ]
    },
    {
     "name": "stdout",
     "output_type": "stream",
     "text": [
      "\n",
      " GL_TS_MO_WEL422.nc\n",
      "GL_TS_MO_WEL422.nc does not have any valid data for this timeperiod\n",
      "\n",
      " GL_TS_MO_46181.nc\n",
      "GL_TS_MO_46181.nc does not have any valid data for this timeperiod\n",
      "POINT(-128.83200073242188 53.83300018310547)\n",
      "118  results found\n"
     ]
    },
    {
     "name": "stderr",
     "output_type": "stream",
     "text": [
      " 13%|█▎        | 321/2487 [38:48<2:04:06,  3.44s/it]"
     ]
    },
    {
     "name": "stdout",
     "output_type": "stream",
     "text": [
      "\n",
      " GL_TS_MO_46264.nc\n",
      "POINT(-151.69500732421875 57.479000091552734)\n",
      "53  results found\n"
     ]
    },
    {
     "name": "stderr",
     "output_type": "stream",
     "text": [
      " 13%|█▎        | 324/2487 [38:56<1:44:42,  2.90s/it]"
     ]
    },
    {
     "name": "stdout",
     "output_type": "stream",
     "text": [
      "\n",
      " GL_WS_MO_buzm3.nc\n",
      "GL_WS_MO_buzm3.nc does not have any of the variables ['VHM0', 'VAVH', 'WSPD']\n",
      "\n",
      " GL_TS_MO_52082.nc\n",
      "GL_TS_MO_52082.nc does not have any valid data for this timeperiod\n",
      "\n",
      " GL_TS_MO_3100010.nc\n",
      "GL_TS_MO_3100010.nc does not have any valid data for this timeperiod\n",
      "\n",
      " AR_TS_MO_Olavsberget-7-17.nc\n",
      "AR_TS_MO_Olavsberget-7-17.nc does not have any of the variables ['VHM0', 'VAVH', 'WSPD']\n",
      "\n",
      " GL_TS_MO_44150.nc\n",
      "GL_TS_MO_44150.nc does not have any valid data for this timeperiod\n",
      "POINT(-64.01799774169922 42.505001068115234)\n",
      "57  results found\n"
     ]
    },
    {
     "name": "stderr",
     "output_type": "stream",
     "text": [
      " 13%|█▎        | 327/2487 [39:04<1:41:29,  2.82s/it]"
     ]
    },
    {
     "name": "stdout",
     "output_type": "stream",
     "text": [
      "\n",
      " BO_TS_MO_Fladen2.nc\n",
      "BO_TS_MO_Fladen2.nc does not have any valid data for this timeperiod\n",
      "BO_TS_MO_Fladen2.nc does not have any valid data for this timeperiod\n",
      "\n",
      " GL_WS_MO_52202.nc\n",
      "GL_WS_MO_52202.nc does not have any of the variables ['VHM0', 'VAVH', 'WSPD']\n",
      "\n",
      " GL_TS_MO_MEDS196.nc\n",
      "GL_TS_MO_MEDS196.nc does not have any valid data for this timeperiod\n",
      "\n",
      " GL_TS_MO_55019.nc\n",
      "POINT(152.85000610351562 -31.81999969482422)\n"
     ]
    },
    {
     "name": "stderr",
     "output_type": "stream",
     "text": [
      " 13%|█▎        | 331/2487 [39:13<1:31:02,  2.53s/it]"
     ]
    },
    {
     "name": "stdout",
     "output_type": "stream",
     "text": [
      "31  results found\n",
      "\n",
      " BO_TS_MO_KotkaKuusenkari.nc\n",
      "BO_TS_MO_KotkaKuusenkari.nc does not have any of the variables ['VHM0', 'VAVH', 'WSPD']\n",
      "\n",
      " GL_TS_MO_6200001.nc\n",
      "GL_TS_MO_6200001.nc does not have any valid data for this timeperiod\n",
      "POINT(-5.0 45.20000076293945)\n",
      "179  results found\n"
     ]
    },
    {
     "name": "stderr",
     "output_type": "stream",
     "text": [
      " 13%|█▎        | 333/2487 [39:23<1:53:42,  3.17s/it]"
     ]
    },
    {
     "name": "stdout",
     "output_type": "stream",
     "text": [
      "\n",
      " IR_TS_MO_6200200.nc\n",
      "IR_TS_MO_6200200.nc does not have any valid data for this timeperiod\n",
      "POINT(-8.068300247192383 36.39830017089844)\n",
      "170  results found\n"
     ]
    },
    {
     "name": "stderr",
     "output_type": "stream",
     "text": [
      " 14%|█▎        | 338/2487 [39:33<1:21:52,  2.29s/it]"
     ]
    },
    {
     "name": "stdout",
     "output_type": "stream",
     "text": [
      "\n",
      " IR_TS_MO_FS1-weather-buoy.nc\n",
      "IR_TS_MO_FS1-weather-buoy.nc does not have any valid data for this timeperiod\n",
      "IR_TS_MO_FS1-weather-buoy.nc does not have any valid data for this timeperiod\n",
      "\n",
      " GL_TS_MO_MEDS108.nc\n",
      "GL_TS_MO_MEDS108.nc does not have any valid data for this timeperiod\n",
      "\n",
      " GL_TS_MO_IF000257.nc\n",
      "GL_TS_MO_IF000257.nc does not have any of the variables ['VHM0', 'VAVH', 'WSPD']\n",
      "\n",
      " GL_TS_MO_91377.nc\n",
      "GL_TS_MO_91377.nc does not have any valid data for this timeperiod\n",
      "\n",
      " GL_TS_MO_T5N180W.nc\n",
      "POINT(180.0 5.0)\n",
      "0  results found\n",
      "\n",
      " GL_TS_MO_55052.nc\n",
      "POINT(145.02999877929688 -42.119998931884766)\n"
     ]
    },
    {
     "name": "stderr",
     "output_type": "stream",
     "text": [
      " 14%|█▎        | 338/2487 [39:43<1:21:52,  2.29s/it]"
     ]
    },
    {
     "name": "stdout",
     "output_type": "stream",
     "text": [
      "53  results found\n"
     ]
    },
    {
     "name": "stderr",
     "output_type": "stream",
     "text": [
      " 14%|█▎        | 340/2487 [39:49<2:11:54,  3.69s/it]"
     ]
    },
    {
     "name": "stdout",
     "output_type": "stream",
     "text": [
      "\n",
      " GL_TS_MO_46216.nc\n",
      "GL_TS_MO_46216.nc does not have any valid data for this timeperiod\n",
      "\n",
      " GL_TS_MO_1301509.nc\n",
      "GL_TS_MO_1301509.nc does not have any of the variables ['VHM0', 'VAVH', 'WSPD']\n",
      "\n",
      " GL_TS_MO_55046.nc\n",
      "POLYGON((152.5 -24.670000076293945,152.5 -25.100000381469727,152.82000732421875 -25.100000381469727,152.82000732421875 -24.670000076293945,152.5 -24.670000076293945))\n",
      "30  results found\n"
     ]
    },
    {
     "name": "stderr",
     "output_type": "stream",
     "text": [
      " 14%|█▍        | 343/2487 [40:06<2:33:06,  4.28s/it]"
     ]
    },
    {
     "name": "stdout",
     "output_type": "stream",
     "text": [
      "\n",
      " NO_TS_MO_OostendWeather.nc\n",
      "NO_TS_MO_OostendWeather.nc is too close to land\n",
      "\n",
      " MO_TS_MO_SON-BOU.nc\n",
      "MO_TS_MO_SON-BOU.nc does not have any valid data for this timeperiod\n",
      "MO_TS_MO_SON-BOU.nc does not have any valid data for this timeperiod\n"
     ]
    },
    {
     "name": "stderr",
     "output_type": "stream",
     "text": [
      " 14%|█▍        | 345/2487 [40:06<1:56:14,  3.26s/it]"
     ]
    },
    {
     "name": "stdout",
     "output_type": "stream",
     "text": [
      "MO_TS_MO_SON-BOU.nc does not have any valid data for this timeperiod\n",
      "\n",
      " NO_TS_MO_EurogeulE5.nc\n",
      "NO_TS_MO_EurogeulE5.nc does not have any valid data for this timeperiod\n",
      "NO_TS_MO_EurogeulE5.nc does not have any valid data for this timeperiod\n",
      "\n",
      " GL_TS_MO_6200078.nc\n",
      "POINT(-2.7869999408721924 47.23899841308594)\n",
      "239  results found\n"
     ]
    },
    {
     "name": "stderr",
     "output_type": "stream",
     "text": [
      " 14%|█▍        | 347/2487 [40:19<2:28:32,  4.16s/it]"
     ]
    },
    {
     "name": "stdout",
     "output_type": "stream",
     "text": [
      "\n",
      " GL_WS_MO_44007.nc\n",
      "GL_WS_MO_44007.nc does not have any of the variables ['VHM0', 'VAVH', 'WSPD']\n",
      "\n",
      " GL_TS_MO_46045.nc\n",
      "GL_TS_MO_46045.nc does not have any valid data for this timeperiod\n",
      "GL_TS_MO_46045.nc does not have any valid data for this timeperiod\n",
      "\n",
      " BO_TS_MO_NorthernBaltic.nc\n",
      "POINT(21.0 59.25)\n",
      "275  results found\n"
     ]
    },
    {
     "name": "stderr",
     "output_type": "stream",
     "text": [
      " 14%|█▍        | 350/2487 [40:33<2:33:24,  4.31s/it]"
     ]
    },
    {
     "name": "stdout",
     "output_type": "stream",
     "text": [
      "\n",
      " GL_WS_MO_41049.nc\n",
      "GL_WS_MO_41049.nc does not have any of the variables ['VHM0', 'VAVH', 'WSPD']\n",
      "\n",
      " GL_WS_MO_41035.nc\n",
      "GL_WS_MO_41035.nc does not have any of the variables ['VHM0', 'VAVH', 'WSPD']\n",
      "\n",
      " GL_WS_MO_45138.nc\n",
      "GL_WS_MO_45138.nc does not have any of the variables ['VHM0', 'VAVH', 'WSPD']\n",
      "\n",
      " GL_TS_MO_6801026.nc\n",
      "GL_TS_MO_6801026.nc does not have any of the variables ['VHM0', 'VAVH', 'WSPD']\n",
      "\n",
      " NO_TS_MO_Raversijde2.nc\n",
      "POINT(2.8127779960632324 51.23666763305664)\n",
      "234  results found\n"
     ]
    },
    {
     "name": "stderr",
     "output_type": "stream",
     "text": [
      " 14%|█▍        | 359/2487 [40:43<1:15:27,  2.13s/it]"
     ]
    },
    {
     "name": "stdout",
     "output_type": "stream",
     "text": [
      "\n",
      " GL_TS_MO_23101.nc\n",
      "GL_TS_MO_23101.nc does not have any valid data for this timeperiod\n",
      "\n",
      " GL_TS_MO_46125.nc\n",
      "GL_TS_MO_46125.nc does not have any valid data for this timeperiod\n",
      "\n",
      " GL_TS_MO_MEDS040.nc\n",
      "GL_TS_MO_MEDS040.nc does not have any valid data for this timeperiod\n",
      "\n",
      " GL_TS_MO_4600132.nc\n",
      "GL_TS_MO_4600132.nc does not have any valid data for this timeperiod\n",
      "\n",
      " BO_TS_MO_Vaderoarna1.nc\n",
      "BO_TS_MO_Vaderoarna1.nc does not have any valid data for this timeperiod\n",
      "\n",
      " GL_WS_MO_51208.nc\n",
      "GL_WS_MO_51208.nc does not have any of the variables ['VHM0', 'VAVH', 'WSPD']\n",
      "\n",
      " NO_TS_MO_Butendiek.nc\n"
     ]
    },
    {
     "name": "stderr",
     "output_type": "stream",
     "text": [
      " 14%|█▍        | 359/2487 [40:53<1:15:27,  2.13s/it]"
     ]
    },
    {
     "name": "stdout",
     "output_type": "stream",
     "text": [
      "POINT(7.783299922943115 55.016700744628906)\n",
      "230  results found\n"
     ]
    },
    {
     "name": "stderr",
     "output_type": "stream",
     "text": [
      " 15%|█▍        | 362/2487 [41:17<2:43:28,  4.62s/it]"
     ]
    },
    {
     "name": "stdout",
     "output_type": "stream",
     "text": [
      "\n",
      " GL_TS_MO_42006.nc\n",
      "GL_TS_MO_42006.nc does not have any valid data for this timeperiod\n",
      "GL_TS_MO_42006.nc does not have any valid data for this timeperiod\n",
      "\n",
      " GL_TS_MO_14041.nc\n",
      "POLYGON((53.32500076293945 -7.929999828338623,53.32500076293945 -9.04800033569336,55.0 -9.04800033569336,55.0 -7.929999828338623,53.32500076293945 -7.929999828338623))\n",
      "51  results found\n"
     ]
    },
    {
     "name": "stderr",
     "output_type": "stream",
     "text": [
      " 15%|█▍        | 367/2487 [41:25<1:50:37,  3.13s/it]"
     ]
    },
    {
     "name": "stdout",
     "output_type": "stream",
     "text": [
      "\n",
      " GL_TS_MO_46260.nc\n",
      "GL_TS_MO_46260.nc does not have any valid data for this timeperiod\n",
      "\n",
      " IR_WS_MO_6100417.nc\n",
      "IR_WS_MO_6100417.nc does not have any of the variables ['VHM0', 'VAVH', 'WSPD']\n",
      "\n",
      " GL_TS_MO_45197.nc\n",
      "GL_TS_MO_45197.nc does not have any valid data for this timeperiod\n",
      "GL_TS_MO_45197.nc is too close to land\n",
      "\n",
      " GL_TS_MO_WEL272.nc\n",
      "GL_TS_MO_WEL272.nc does not have any valid data for this timeperiod\n",
      "\n",
      " GL_TS_MO_45025.nc\n"
     ]
    },
    {
     "name": "stderr",
     "output_type": "stream",
     "text": [
      " 15%|█▍        | 369/2487 [41:25<1:26:17,  2.44s/it]"
     ]
    },
    {
     "name": "stdout",
     "output_type": "stream",
     "text": [
      "GL_TS_MO_45025.nc does not have any valid data for this timeperiod\n",
      "GL_TS_MO_45025.nc does not have any valid data for this timeperiod\n",
      "\n",
      " GL_TS_MO_MEDS313.nc\n",
      "GL_TS_MO_MEDS313.nc does not have any valid data for this timeperiod\n",
      "\n",
      " GL_TS_MO_46073.nc\n",
      "GL_TS_MO_46073.nc does not have any valid data for this timeperiod\n",
      "POINT(-172.0019989013672 55.00899887084961)\n"
     ]
    },
    {
     "name": "stderr",
     "output_type": "stream",
     "text": [
      " 15%|█▌        | 375/2487 [41:32<55:38,  1.58s/it]  "
     ]
    },
    {
     "name": "stdout",
     "output_type": "stream",
     "text": [
      "0  results found\n",
      "\n",
      " GL_TS_MO_MEDS014.nc\n",
      "GL_TS_MO_MEDS014.nc does not have any valid data for this timeperiod\n",
      "\n",
      " GL_TS_MO_RottnestIsland01.nc\n",
      "GL_TS_MO_RottnestIsland01.nc does not have any valid data for this timeperiod\n",
      "\n",
      " NO_TS_MO_Hoernum.nc\n",
      "NO_TS_MO_Hoernum.nc does not have any of the variables ['VHM0', 'VAVH', 'WSPD']\n",
      "\n",
      " GL_WS_MO_42020.nc\n",
      "GL_WS_MO_42020.nc does not have any of the variables ['VHM0', 'VAVH', 'WSPD']\n",
      "\n",
      " BO_TS_MO_Sadvajaure.nc\n",
      "BO_TS_MO_Sadvajaure.nc does not have any valid data for this timeperiod\n",
      "\n",
      " GL_TS_MO_44063.nc\n",
      "GL_TS_MO_44063.nc does not have any valid data for this timeperiod\n",
      "POINT(-76.447998046875 38.9630012512207)\n",
      "57  results found\n"
     ]
    },
    {
     "name": "stderr",
     "output_type": "stream",
     "text": [
      " 15%|█▌        | 377/2487 [41:41<1:19:29,  2.26s/it]"
     ]
    },
    {
     "name": "stdout",
     "output_type": "stream",
     "text": [
      "\n",
      " GL_TS_MO_46224.nc\n",
      "POINT(-117.47200012207031 33.178001403808594)\n",
      "115  results found\n"
     ]
    },
    {
     "name": "stderr",
     "output_type": "stream",
     "text": [
      " 15%|█▌        | 379/2487 [41:51<1:41:18,  2.88s/it]"
     ]
    },
    {
     "name": "stdout",
     "output_type": "stream",
     "text": [
      "\n",
      " GL_TS_MO_44235.nc\n",
      "GL_TS_MO_44235.nc does not have any valid data for this timeperiod\n",
      "\n",
      " GL_TS_MO_T2N180W.nc\n"
     ]
    },
    {
     "name": "stderr",
     "output_type": "stream",
     "text": [
      " 15%|█▌        | 380/2487 [41:51<1:27:51,  2.50s/it]"
     ]
    },
    {
     "name": "stdout",
     "output_type": "stream",
     "text": [
      "GL_TS_MO_T2N180W.nc does not have any valid data for this timeperiod\n",
      "\n",
      " GL_TS_MO_MEDS174.nc\n",
      "GL_TS_MO_MEDS174.nc does not have any valid data for this timeperiod\n",
      "\n",
      " NO_TS_MO_6200107.nc\n",
      "POINT(-6.099999904632568 50.10300064086914)\n",
      "178  results found\n"
     ]
    },
    {
     "name": "stderr",
     "output_type": "stream",
     "text": [
      " 15%|█▌        | 382/2487 [42:05<2:14:50,  3.84s/it]"
     ]
    },
    {
     "name": "stdout",
     "output_type": "stream",
     "text": [
      "\n",
      " GL_TS_MO_46262.nc\n",
      "GL_TS_MO_46262.nc does not have any valid data for this timeperiod\n",
      "\n",
      " AR_TS_MO_Vaulen-6-13.nc\n",
      "AR_TS_MO_Vaulen-6-13.nc does not have any of the variables ['VHM0', 'VAVH', 'WSPD']\n",
      "\n",
      " GL_TS_MO_WEL123.nc\n",
      "GL_TS_MO_WEL123.nc does not have any valid data for this timeperiod\n",
      "\n",
      " GL_TS_MO_41114.nc\n",
      "POINT(-80.21700286865234 27.551000595092773)\n",
      "59  results found\n"
     ]
    },
    {
     "name": "stderr",
     "output_type": "stream",
     "text": [
      " 16%|█▌        | 386/2487 [42:24<2:29:08,  4.26s/it]"
     ]
    },
    {
     "name": "stdout",
     "output_type": "stream",
     "text": [
      "\n",
      " BO_TS_MO_OlandsRev.nc\n",
      "BO_TS_MO_OlandsRev.nc does not have any valid data for this timeperiod\n",
      "\n",
      " GL_TS_MO_44040.nc\n",
      "GL_TS_MO_44040.nc does not have any valid data for this timeperiod\n",
      "POINT(-73.58000183105469 40.95600128173828)\n"
     ]
    },
    {
     "name": "stderr",
     "output_type": "stream",
     "text": [
      " 16%|█▌        | 388/2487 [42:33<2:30:14,  4.29s/it]"
     ]
    },
    {
     "name": "stdout",
     "output_type": "stream",
     "text": [
      "30  results found\n",
      "\n",
      " GL_TS_MO_46255.nc\n",
      "GL_TS_MO_46255.nc does not have any valid data for this timeperiod\n",
      "\n",
      " GL_TS_MO_MEDS094.nc\n",
      "GL_TS_MO_MEDS094.nc does not have any valid data for this timeperiod\n",
      "\n",
      " GL_WS_MO_4100136.nc\n"
     ]
    },
    {
     "name": "stderr",
     "output_type": "stream",
     "text": [
      " 16%|█▌        | 394/2487 [42:33<1:13:12,  2.10s/it]"
     ]
    },
    {
     "name": "stdout",
     "output_type": "stream",
     "text": [
      "GL_WS_MO_4100136.nc does not have any of the variables ['VHM0', 'VAVH', 'WSPD']\n",
      "\n",
      " GL_TS_MO_MEDS144.nc\n",
      "GL_TS_MO_MEDS144.nc does not have any valid data for this timeperiod\n",
      "\n",
      " AR_TS_MO_Boekkerkaasa-7-78.nc\n",
      "AR_TS_MO_Boekkerkaasa-7-78.nc does not have any of the variables ['VHM0', 'VAVH', 'WSPD']\n",
      "\n",
      " GL_TS_MO_41036.nc\n",
      "GL_TS_MO_41036.nc does not have any valid data for this timeperiod\n",
      "GL_TS_MO_41036.nc does not have any valid data for this timeperiod\n",
      "\n",
      " GL_TS_MO_23016.nc\n",
      "POLYGON((66.77100372314453 -1.5609999895095825,66.77100372314453 -1.6239999532699585,66.87999725341797 -1.6239999532699585,66.87999725341797 -1.5609999895095825,66.77100372314453 -1.5609999895095825))\n",
      "0  results found\n",
      "\n",
      " IR_TS_MO_Melilla-coast-buoy.nc\n",
      "POLYGON((-2.940000057220459 35.32699966430664,-2.940000057220459 35.31930160522461,-2.944000005722046 35.31930160522461,-2.944000005722046 35.32699966430664,-2.940000057220459 35.32699966430664))\n"
     ]
    },
    {
     "name": "stderr",
     "output_type": "stream",
     "text": [
      " 16%|█▌        | 394/2487 [42:44<1:13:12,  2.10s/it]"
     ]
    },
    {
     "name": "stdout",
     "output_type": "stream",
     "text": [
      "179  results found\n"
     ]
    },
    {
     "name": "stderr",
     "output_type": "stream",
     "text": [
      " 16%|█▌        | 396/2487 [44:52<8:56:06, 15.38s/it]"
     ]
    },
    {
     "name": "stdout",
     "output_type": "stream",
     "text": [
      "\n",
      " AR_TS_MO_Isfjorden-N.nc\n",
      "AR_TS_MO_Isfjorden-N.nc does not have any of the variables ['VHM0', 'VAVH', 'WSPD']\n",
      "\n",
      " BS_TS_MO_99009.nc\n",
      "BS_TS_MO_99009.nc does not have any of the variables ['VHM0', 'VAVH', 'WSPD']\n",
      "\n",
      " NO_TS_MO_FINO3.nc\n",
      "POINT(7.158332824707031 55.19499969482422)\n",
      "230  results found\n"
     ]
    },
    {
     "name": "stderr",
     "output_type": "stream",
     "text": [
      " 16%|█▌        | 399/2487 [45:03<6:53:21, 11.88s/it]"
     ]
    },
    {
     "name": "stdout",
     "output_type": "stream",
     "text": [
      "\n",
      " GL_TS_MO_31375.nc\n",
      "GL_TS_MO_31375.nc does not have any valid data for this timeperiod\n",
      "\n",
      " GL_TS_MO_C6V27.nc\n",
      "GL_TS_MO_C6V27.nc does not have any valid data for this timeperiod\n",
      "\n",
      " NO_TS_MO_6201044.nc\n",
      "NO_TS_MO_6201044.nc does not have any valid data for this timeperiod\n",
      "\n",
      " GL_TS_MO_46082.nc\n",
      "GL_TS_MO_46082.nc does not have any valid data for this timeperiod\n",
      "POINT(-143.3719940185547 59.680999755859375)\n",
      "60  results found\n"
     ]
    },
    {
     "name": "stderr",
     "output_type": "stream",
     "text": [
      " 16%|█▋        | 407/2487 [45:10<3:08:23,  5.43s/it]"
     ]
    },
    {
     "name": "stdout",
     "output_type": "stream",
     "text": [
      "\n",
      " GL_TS_MO_41118.nc\n",
      "GL_TS_MO_41118.nc does not have any valid data for this timeperiod\n",
      "\n",
      " GL_TS_MO_MEDS004.nc\n",
      "GL_TS_MO_MEDS004.nc does not have any valid data for this timeperiod\n",
      "\n",
      " GL_TS_MO_MEDS031.nc\n",
      "GL_TS_MO_MEDS031.nc does not have any valid data for this timeperiod\n",
      "\n",
      " GL_TS_MO_42042.nc\n",
      "GL_TS_MO_42042.nc does not have any valid data for this timeperiod\n",
      "GL_TS_MO_42042.nc does not have any valid data for this timeperiod\n",
      "\n",
      " AR_TS_MO_Vinnesholmen-31-70.nc\n",
      "AR_TS_MO_Vinnesholmen-31-70.nc does not have any of the variables ['VHM0', 'VAVH', 'WSPD']\n",
      "\n",
      " GL_TS_MO_55024.nc\n",
      "POLYGON((151.4199981689453 -33.77000045776367,151.4199981689453 -33.779998779296875,151.39999389648438 -33.779998779296875,151.39999389648438 -33.77000045776367,151.4199981689453 -33.77000045776367))\n",
      "88  results found\n"
     ]
    },
    {
     "name": "stderr",
     "output_type": "stream",
     "text": [
      " 17%|█▋        | 411/2487 [45:43<3:24:22,  5.91s/it]"
     ]
    },
    {
     "name": "stdout",
     "output_type": "stream",
     "text": [
      "\n",
      " GL_TS_MO_MEDS193.nc\n",
      "GL_TS_MO_MEDS193.nc does not have any valid data for this timeperiod\n",
      "\n",
      " NO_TS_MO_KornwerderzandBuiten.nc\n",
      "NO_TS_MO_KornwerderzandBuiten.nc does not have any valid data for this timeperiod\n",
      "NO_TS_MO_KornwerderzandBuiten.nc does not have any valid data for this timeperiod\n",
      "\n",
      " GL_TS_MO_EXIN0003.nc\n"
     ]
    },
    {
     "name": "stderr",
     "output_type": "stream",
     "text": [
      " 17%|█▋        | 413/2487 [45:43<2:36:30,  4.53s/it]"
     ]
    },
    {
     "name": "stdout",
     "output_type": "stream",
     "text": [
      "GL_TS_MO_EXIN0003.nc is too close to land\n",
      "\n",
      " IR_TS_MO_Coruna-coast-buoy.nc\n",
      "IR_TS_MO_Coruna-coast-buoy.nc does not have any valid data for this timeperiod\n",
      "IR_TS_MO_Coruna-coast-buoy.nc does not have any valid data for this timeperiod\n",
      "\n",
      " MO_TS_MO_CATANIA-61207.nc\n",
      "MO_TS_MO_CATANIA-61207.nc does not have any valid data for this timeperiod\n",
      "\n",
      " AR_TS_MO_Skonnordtjernet-32-74.nc\n",
      "AR_TS_MO_Skonnordtjernet-32-74.nc does not have any of the variables ['VHM0', 'VAVH', 'WSPD']\n",
      "\n",
      " GL_TS_MO_MEDS204.nc\n",
      "GL_TS_MO_MEDS204.nc does not have any valid data for this timeperiod\n",
      "\n",
      " GL_TS_MO_MEDS029.nc\n",
      "GL_TS_MO_MEDS029.nc does not have any valid data for this timeperiod\n",
      "\n",
      " GL_TS_MO_MEDS116.nc\n",
      "GL_TS_MO_MEDS116.nc does not have any valid data for this timeperiod\n",
      "\n",
      " GL_TS_MO_52081.nc\n"
     ]
    },
    {
     "name": "stderr",
     "output_type": "stream",
     "text": [
      " 17%|█▋        | 419/2487 [45:43<1:17:45,  2.26s/it]"
     ]
    },
    {
     "name": "stdout",
     "output_type": "stream",
     "text": [
      "GL_TS_MO_52081.nc does not have any valid data for this timeperiod\n",
      "\n",
      " IR_TS_MO_ValenciaII-coast-buoy.nc\n",
      "IR_TS_MO_ValenciaII-coast-buoy.nc does not have any valid data for this timeperiod\n",
      "IR_TS_MO_ValenciaII-coast-buoy.nc does not have any valid data for this timeperiod\n",
      "\n",
      " GL_TS_MO_46208.nc\n",
      "GL_TS_MO_46208.nc does not have any valid data for this timeperiod\n",
      "POINT(-132.69200134277344 52.51499938964844)\n",
      "87  results found\n",
      "\n",
      " GL_TS_MO_T5S165E.nc\n"
     ]
    },
    {
     "name": "stderr",
     "output_type": "stream",
     "text": [
      " 17%|█▋        | 419/2487 [45:54<1:17:45,  2.26s/it]"
     ]
    },
    {
     "name": "stdout",
     "output_type": "stream",
     "text": [
      "POINT(165.0 -5.0)\n"
     ]
    },
    {
     "name": "stderr",
     "output_type": "stream",
     "text": [
      " 17%|█▋        | 422/2487 [46:01<1:52:02,  3.26s/it]"
     ]
    },
    {
     "name": "stdout",
     "output_type": "stream",
     "text": [
      "0  results found\n",
      "\n",
      " GL_TS_MO_MEDS092.nc\n",
      "GL_TS_MO_MEDS092.nc does not have any valid data for this timeperiod\n",
      "\n",
      " AR_TS_MO_Gjerdesanden-29-63.nc\n",
      "AR_TS_MO_Gjerdesanden-29-63.nc does not have any of the variables ['VHM0', 'VAVH', 'WSPD']\n",
      "\n",
      " GL_TS_MO_1701619.nc\n",
      "GL_TS_MO_1701619.nc does not have any of the variables ['VHM0', 'VAVH', 'WSPD']\n",
      "\n",
      " GL_TS_MO_46243.nc\n",
      "POINT(-124.12799835205078 46.215999603271484)\n",
      "118  results found\n"
     ]
    },
    {
     "name": "stderr",
     "output_type": "stream",
     "text": [
      " 17%|█▋        | 426/2487 [46:11<1:42:55,  3.00s/it]"
     ]
    },
    {
     "name": "stdout",
     "output_type": "stream",
     "text": [
      "\n",
      " GL_TS_MO_Cockburn.nc\n",
      "GL_TS_MO_Cockburn.nc does not have any valid data for this timeperiod\n",
      "\n",
      " NO_TS_MO_Westhinder.nc\n",
      "NO_TS_MO_Westhinder.nc does not have any valid data for this timeperiod\n",
      "POINT(2.435800075531006 51.381099700927734)\n",
      "233  results found\n"
     ]
    },
    {
     "name": "stderr",
     "output_type": "stream",
     "text": [
      " 17%|█▋        | 431/2487 [46:21<1:23:04,  2.42s/it]"
     ]
    },
    {
     "name": "stdout",
     "output_type": "stream",
     "text": [
      "\n",
      " GL_TS_MO_46757B.nc\n",
      "GL_TS_MO_46757B.nc does not have any valid data for this timeperiod\n",
      "\n",
      " GL_TS_MO_33697.nc\n",
      "GL_TS_MO_33697.nc does not have any of the variables ['VHM0', 'VAVH', 'WSPD']\n",
      "\n",
      " GL_TS_MO_66060.nc\n",
      "GL_TS_MO_66060.nc does not have any valid data for this timeperiod\n",
      "\n",
      " IR_TS_MO_6100417.nc\n",
      "IR_TS_MO_6100417.nc does not have any valid data for this timeperiod\n",
      "POLYGON((-0.32350000739097595 37.661598205566406,-0.32350000739097595 37.63090133666992,-0.29789999127388 37.63090133666992,-0.29789999127388 37.661598205566406,-0.32350000739097595 37.661598205566406))\n",
      "239  results found\n"
     ]
    },
    {
     "name": "stderr",
     "output_type": "stream",
     "text": [
      " 17%|█▋        | 432/2487 [47:50<7:22:24, 12.92s/it]"
     ]
    },
    {
     "name": "stdout",
     "output_type": "stream",
     "text": [
      "\n",
      " GL_WS_MO_42084.nc\n",
      "GL_WS_MO_42084.nc does not have any of the variables ['VHM0', 'VAVH', 'WSPD']\n",
      "\n",
      " NO_TS_MO_6201006.nc\n",
      "NO_TS_MO_6201006.nc does not have any valid data for this timeperiod\n",
      "\n",
      " GL_TS_MO_31005.nc\n",
      "POLYGON((-34.0 -19.0,-34.0 -18.849000930786133,-34.66598892211914 -18.849000930786133,-34.66598892211914 -19.0,-34.0 -19.0))\n"
     ]
    },
    {
     "name": "stderr",
     "output_type": "stream",
     "text": [
      " 18%|█▊        | 440/2487 [47:56<2:52:39,  5.06s/it]"
     ]
    },
    {
     "name": "stdout",
     "output_type": "stream",
     "text": [
      "0  results found\n",
      "\n",
      " AR_TS_MO_Geilo-Badestrand-64-139.nc\n",
      "AR_TS_MO_Geilo-Badestrand-64-139.nc does not have any of the variables ['VHM0', 'VAVH', 'WSPD']\n",
      "\n",
      " GL_WS_MO_46274.nc\n",
      "GL_WS_MO_46274.nc does not have any of the variables ['VHM0', 'VAVH', 'WSPD']\n",
      "\n",
      " GL_TS_MO_MEDS142.nc\n",
      "GL_TS_MO_MEDS142.nc does not have any valid data for this timeperiod\n",
      "\n",
      " AR_TS_MO_Faaholmen-badeplass-6-133.nc\n",
      "AR_TS_MO_Faaholmen-badeplass-6-133.nc does not have any of the variables ['VHM0', 'VAVH', 'WSPD']\n",
      "\n",
      " GL_TS_MO_IF000700.nc\n",
      "GL_TS_MO_IF000700.nc does not have any of the variables ['VHM0', 'VAVH', 'WSPD']\n",
      "\n",
      " GL_TS_MO_PAP-1.nc\n",
      "GL_TS_MO_PAP-1.nc does not have any of the variables ['VHM0', 'VAVH', 'WSPD']\n",
      "\n",
      " GL_TS_MO_46268.nc\n",
      "GL_TS_MO_46268.nc does not have any valid data for this timeperiod\n",
      "\n",
      " GL_TS_MO_3100053.nc\n",
      "GL_TS_MO_3100053.nc does not have any valid data for this timeperiod\n",
      "\n",
      " GL_TS_MO_51209.nc\n",
      "POINT(-170.5 -14.27299976348877)\n",
      "30  results found\n"
     ]
    },
    {
     "name": "stderr",
     "output_type": "stream",
     "text": [
      " 18%|█▊        | 444/2487 [48:05<2:20:58,  4.14s/it]"
     ]
    },
    {
     "name": "stdout",
     "output_type": "stream",
     "text": [
      "\n",
      " GL_TS_MO_WEL165.nc\n",
      "GL_TS_MO_WEL165.nc does not have any valid data for this timeperiod\n",
      "\n",
      " GL_WS_MO_42035.nc\n",
      "GL_WS_MO_42035.nc does not have any of the variables ['VHM0', 'VAVH', 'WSPD']\n",
      "\n",
      " AR_TS_MO_BeringStrait-A3.nc\n",
      "AR_TS_MO_BeringStrait-A3.nc does not have any of the variables ['VHM0', 'VAVH', 'WSPD']\n",
      "\n",
      " GL_WS_MO_51026.nc\n",
      "GL_WS_MO_51026.nc does not have any of the variables ['VHM0', 'VAVH', 'WSPD']\n",
      "\n",
      " GL_WS_MO_44137.nc\n",
      "GL_WS_MO_44137.nc does not have any of the variables ['VHM0', 'VAVH', 'WSPD']\n",
      "\n",
      " GL_TS_MO_44077.nc\n",
      "POINT(-70.88300323486328 39.939998626708984)\n",
      "82  results found\n"
     ]
    },
    {
     "name": "stderr",
     "output_type": "stream",
     "text": [
      " 18%|█▊        | 450/2487 [48:16<1:47:02,  3.15s/it]"
     ]
    },
    {
     "name": "stdout",
     "output_type": "stream",
     "text": [
      "\n",
      " NO_TS_MO_StortemelkOost.nc\n",
      "POINT(5.102499961853027 53.3223991394043)\n",
      "236  results found\n"
     ]
    },
    {
     "name": "stderr",
     "output_type": "stream",
     "text": [
      " 18%|█▊        | 451/2487 [48:34<2:33:26,  4.52s/it]"
     ]
    },
    {
     "name": "stdout",
     "output_type": "stream",
     "text": [
      "\n",
      " GL_WS_MO_44008.nc\n",
      "GL_WS_MO_44008.nc does not have any of the variables ['VHM0', 'VAVH', 'WSPD']\n",
      "\n",
      " GL_TS_MO_IF000575.nc\n",
      "GL_TS_MO_IF000575.nc does not have any of the variables ['VHM0', 'VAVH', 'WSPD']\n",
      "\n",
      " AR_TS_MO_Straumnesdufl.nc\n",
      "POINT(-23.366666793823242 66.4383316040039)\n",
      "475  results found\n"
     ]
    },
    {
     "name": "stderr",
     "output_type": "stream",
     "text": [
      " 18%|█▊        | 454/2487 [48:55<2:56:12,  5.20s/it]"
     ]
    },
    {
     "name": "stdout",
     "output_type": "stream",
     "text": [
      "\n",
      " GL_TS_MO_WEL270.nc\n",
      "GL_TS_MO_WEL270.nc does not have any valid data for this timeperiod\n",
      "\n",
      " BO_TS_MO_BothnianBay.nc\n",
      "POINT(23.239200592041016 64.68419647216797)\n",
      "381  results found\n"
     ]
    },
    {
     "name": "stderr",
     "output_type": "stream",
     "text": [
      " 18%|█▊        | 456/2487 [49:09<3:07:54,  5.55s/it]"
     ]
    },
    {
     "name": "stdout",
     "output_type": "stream",
     "text": [
      "\n",
      " GL_TS_MO_3101000.nc\n",
      "GL_TS_MO_3101000.nc does not have any valid data for this timeperiod\n",
      "\n",
      " BO_TS_MO_Knollsgrund.nc\n",
      "POLYGON((17.614200592041016 57.515098571777344,17.614200592041016 57.51810073852539,17.619300842285156 57.51810073852539,17.619300842285156 57.515098571777344,17.614200592041016 57.515098571777344))\n",
      "279  results found\n"
     ]
    },
    {
     "name": "stderr",
     "output_type": "stream",
     "text": [
      " 18%|█▊        | 458/2487 [52:43<16:24:41, 29.12s/it]"
     ]
    },
    {
     "name": "stdout",
     "output_type": "stream",
     "text": [
      "\n",
      " BO_TS_MO_SvenskaBjorn.nc\n",
      "BO_TS_MO_SvenskaBjorn.nc does not have any valid data for this timeperiod\n",
      "\n",
      " GL_TS_MO_WEL440.nc\n",
      "GL_TS_MO_WEL440.nc does not have any valid data for this timeperiod\n",
      "\n",
      " GL_TS_MO_15002.nc\n",
      "POLYGON((-10.0 -0.012000000104308128,-10.0 0.02500000037252903,-9.834989547729492 0.02500000037252903,-9.834989547729492 -0.012000000104308128,-10.0 -0.012000000104308128))\n"
     ]
    },
    {
     "name": "stderr",
     "output_type": "stream",
     "text": [
      " 19%|█▊        | 463/2487 [52:51<8:40:51, 15.44s/it] "
     ]
    },
    {
     "name": "stdout",
     "output_type": "stream",
     "text": [
      "0  results found\n",
      "\n",
      " IR_TS_MO_ValenciaI-buoy.nc\n",
      "IR_TS_MO_ValenciaI-buoy.nc does not have any valid data for this timeperiod\n",
      "IR_TS_MO_ValenciaI-buoy.nc does not have any valid data for this timeperiod\n",
      "\n",
      " GL_TS_MO_61005.nc\n",
      "GL_TS_MO_61005.nc does not have any valid data for this timeperiod\n",
      "GL_TS_MO_61005.nc does not have any valid data for this timeperiod\n",
      "\n",
      " GL_TS_MO_WEL280.nc\n",
      "GL_TS_MO_WEL280.nc does not have any valid data for this timeperiod\n",
      "\n",
      " GL_TS_MO_IF000578.nc\n",
      "GL_TS_MO_IF000578.nc does not have any of the variables ['VHM0', 'VAVH', 'WSPD']\n",
      "\n",
      " GL_TS_MO_41006.nc\n"
     ]
    },
    {
     "name": "stderr",
     "output_type": "stream",
     "text": [
      " 19%|█▊        | 466/2487 [52:51<5:43:50, 10.21s/it]"
     ]
    },
    {
     "name": "stdout",
     "output_type": "stream",
     "text": [
      "GL_TS_MO_41006.nc does not have any valid data for this timeperiod\n",
      "GL_TS_MO_41006.nc does not have any valid data for this timeperiod\n",
      "\n",
      " GL_TS_MO_4100099.nc\n",
      "POINT(-60.93439865112305 14.17609977722168)\n"
     ]
    },
    {
     "name": "stderr",
     "output_type": "stream",
     "text": [
      " 19%|█▊        | 466/2487 [53:05<5:43:50, 10.21s/it]"
     ]
    },
    {
     "name": "stdout",
     "output_type": "stream",
     "text": [
      "145  results found\n"
     ]
    },
    {
     "name": "stderr",
     "output_type": "stream",
     "text": [
      " 19%|█▉        | 471/2487 [53:09<3:30:44,  6.27s/it]"
     ]
    },
    {
     "name": "stdout",
     "output_type": "stream",
     "text": [
      "\n",
      " AR_TS_MO_Solastranden-26-57.nc\n",
      "AR_TS_MO_Solastranden-26-57.nc does not have any of the variables ['VHM0', 'VAVH', 'WSPD']\n",
      "\n",
      " AR_TS_MO_Visundfeltet.nc\n",
      "AR_TS_MO_Visundfeltet.nc does not have any valid data for this timeperiod\n",
      "\n",
      " GL_TS_MO_6301003.nc\n",
      "GL_TS_MO_6301003.nc does not have any valid data for this timeperiod\n",
      "\n",
      " GL_TS_MO_42004.nc\n",
      "GL_TS_MO_42004.nc does not have any valid data for this timeperiod\n",
      "\n",
      " IR_TS_MO_6201039.nc\n",
      "IR_TS_MO_6201039.nc is too close to land\n",
      "\n",
      " AR_TS_MO_Soerenga-40-100.nc\n",
      "AR_TS_MO_Soerenga-40-100.nc does not have any of the variables ['VHM0', 'VAVH', 'WSPD']\n",
      "\n",
      " GL_TS_MO_44062.nc\n",
      "GL_TS_MO_44062.nc does not have any valid data for this timeperiod\n"
     ]
    },
    {
     "name": "stderr",
     "output_type": "stream",
     "text": [
      " 19%|█▉        | 474/2487 [53:09<2:24:04,  4.29s/it]"
     ]
    },
    {
     "name": "stdout",
     "output_type": "stream",
     "text": [
      "GL_TS_MO_44062.nc does not have any valid data for this timeperiod\n",
      "\n",
      " GL_TS_MO_MEDS166.nc\n",
      "GL_TS_MO_MEDS166.nc does not have any valid data for this timeperiod\n",
      "\n",
      " GL_TS_MO_23501.nc\n",
      "GL_TS_MO_23501.nc does not have any valid data for this timeperiod\n",
      "\n",
      " GL_TS_MO_56011.nc\n",
      "POINT(117.7300033569336 -35.20000076293945)\n"
     ]
    },
    {
     "name": "stderr",
     "output_type": "stream",
     "text": [
      " 19%|█▉        | 477/2487 [53:18<2:08:20,  3.83s/it]"
     ]
    },
    {
     "name": "stdout",
     "output_type": "stream",
     "text": [
      "58  results found\n",
      "\n",
      " GL_WS_MO_51201.nc\n",
      "GL_WS_MO_51201.nc does not have any of the variables ['VHM0', 'VAVH', 'WSPD']\n",
      "\n",
      " NO_TS_MO_6300105.nc\n",
      "NO_TS_MO_6300105.nc does not have any valid data for this timeperiod\n"
     ]
    },
    {
     "name": "stderr",
     "output_type": "stream",
     "text": [
      " 19%|█▉        | 480/2487 [53:18<1:28:48,  2.65s/it]"
     ]
    },
    {
     "name": "stdout",
     "output_type": "stream",
     "text": [
      "NO_TS_MO_6300105.nc does not have any valid data for this timeperiod\n",
      "\n",
      " GL_TS_MO_44140.nc\n",
      "GL_TS_MO_44140.nc does not have any valid data for this timeperiod\n",
      "GL_TS_MO_44140.nc does not have any valid data for this timeperiod\n",
      "\n",
      " GL_TS_MO_4600147.nc\n",
      "GL_TS_MO_4600147.nc does not have any valid data for this timeperiod\n",
      "\n",
      " GL_TS_MO_55020.nc\n",
      "POLYGON((150.3800048828125 -37.619998931884766,150.3800048828125 -37.16999816894531,150.07000732421875 -37.16999816894531,150.07000732421875 -37.619998931884766,150.3800048828125 -37.619998931884766))\n",
      "55  results found\n"
     ]
    },
    {
     "name": "stderr",
     "output_type": "stream",
     "text": [
      " 20%|█▉        | 485/2487 [53:41<1:45:21,  3.16s/it]"
     ]
    },
    {
     "name": "stdout",
     "output_type": "stream",
     "text": [
      "\n",
      " GL_TS_MO_44038.nc\n",
      "GL_TS_MO_44038.nc does not have any valid data for this timeperiod\n",
      "GL_TS_MO_44038.nc does not have any valid data for this timeperiod\n",
      "\n",
      " GL_TS_MO_MEDS066.nc\n",
      "GL_TS_MO_MEDS066.nc does not have any valid data for this timeperiod\n",
      "\n",
      " GL_TS_MO_46079.nc\n",
      "GL_TS_MO_46079.nc does not have any valid data for this timeperiod\n",
      "GL_TS_MO_46079.nc does not have any valid data for this timeperiod\n",
      "\n",
      " GL_WS_MO_46003.nc\n",
      "GL_WS_MO_46003.nc does not have any of the variables ['VHM0', 'VAVH', 'WSPD']\n",
      "\n",
      " NO_TS_MO_HanstholmWR.nc\n",
      "NO_TS_MO_HanstholmWR.nc does not have any valid data for this timeperiod\n",
      "NO_TS_MO_HanstholmWR.nc does not have any valid data for this timeperiod\n",
      "\n",
      " GL_TS_MO_52075.nc\n"
     ]
    },
    {
     "name": "stderr",
     "output_type": "stream",
     "text": [
      " 20%|█▉        | 488/2487 [53:41<1:12:03,  2.16s/it]"
     ]
    },
    {
     "name": "stdout",
     "output_type": "stream",
     "text": [
      "GL_TS_MO_52075.nc does not have any valid data for this timeperiod\n",
      "\n",
      " GL_TS_MO_2200104.nc\n",
      "POINT(128.89999389648438 34.77000045776367)\n",
      "86  results found\n"
     ]
    },
    {
     "name": "stderr",
     "output_type": "stream",
     "text": [
      " 20%|█▉        | 491/2487 [53:52<1:26:22,  2.60s/it]"
     ]
    },
    {
     "name": "stdout",
     "output_type": "stream",
     "text": [
      "\n",
      " NO_TS_MO_DenHelder.nc\n",
      "NO_TS_MO_DenHelder.nc does not have any of the variables ['VHM0', 'VAVH', 'WSPD']\n",
      "\n",
      " GL_TS_MO_45137.nc\n",
      "GL_TS_MO_45137.nc does not have any valid data for this timeperiod\n",
      "GL_TS_MO_45137.nc is too close to land\n",
      "\n",
      " NO_TS_MO_6400045.nc\n",
      "POINT(-11.401000022888184 59.099998474121094)\n",
      "162  results found\n"
     ]
    },
    {
     "name": "stderr",
     "output_type": "stream",
     "text": [
      " 20%|█▉        | 496/2487 [54:01<1:05:26,  1.97s/it]"
     ]
    },
    {
     "name": "stdout",
     "output_type": "stream",
     "text": [
      "\n",
      " GL_TS_MO_MEDS191.nc\n",
      "GL_TS_MO_MEDS191.nc does not have any valid data for this timeperiod\n",
      "\n",
      " GL_TS_MO_45014.nc\n",
      "GL_TS_MO_45014.nc does not have any valid data for this timeperiod\n",
      "GL_TS_MO_45014.nc does not have any valid data for this timeperiod\n",
      "\n",
      " GL_TS_MO_6101025.nc\n",
      "GL_TS_MO_6101025.nc does not have any of the variables ['VHM0', 'VAVH', 'WSPD']\n",
      "\n",
      " GL_TS_MO_MEDS186.nc\n",
      "GL_TS_MO_MEDS186.nc does not have any valid data for this timeperiod\n",
      "\n",
      " GL_TS_MO_42376.nc\n",
      "GL_TS_MO_42376.nc does not have any valid data for this timeperiod\n",
      "GL_TS_MO_42376.nc does not have any valid data for this timeperiod\n",
      "\n",
      " GL_TS_MO_52084.nc\n",
      "GL_TS_MO_52084.nc does not have any valid data for this timeperiod\n",
      "\n",
      " BO_TS_MO_HelsinkiSuomenlinna.nc\n",
      "POINT(24.97249984741211 60.12329864501953)\n"
     ]
    },
    {
     "name": "stderr",
     "output_type": "stream",
     "text": [
      " 20%|█▉        | 496/2487 [54:15<1:05:26,  1.97s/it]"
     ]
    },
    {
     "name": "stdout",
     "output_type": "stream",
     "text": [
      "335  results found\n"
     ]
    },
    {
     "name": "stderr",
     "output_type": "stream",
     "text": [
      " 20%|██        | 499/2487 [54:18<1:42:44,  3.10s/it]"
     ]
    },
    {
     "name": "stdout",
     "output_type": "stream",
     "text": [
      "\n",
      " NO_TS_MO_Oosterschelde11.nc\n",
      "POINT(3.481215000152588 51.64379119873047)\n",
      "232  results found\n"
     ]
    },
    {
     "name": "stderr",
     "output_type": "stream",
     "text": [
      " 20%|██        | 504/2487 [54:32<1:26:09,  2.61s/it]"
     ]
    },
    {
     "name": "stdout",
     "output_type": "stream",
     "text": [
      "\n",
      " GL_TS_MO_MEDS280.nc\n",
      "GL_TS_MO_MEDS280.nc does not have any valid data for this timeperiod\n",
      "\n",
      " GL_WS_MO_52200.nc\n",
      "GL_WS_MO_52200.nc does not have any of the variables ['VHM0', 'VAVH', 'WSPD']\n",
      "\n",
      " GL_TS_MO_Dawesville01.nc\n",
      "GL_TS_MO_Dawesville01.nc does not have any valid data for this timeperiod\n",
      "\n",
      " NO_TS_MO_MaeslantkeringZeezijdeNoordMeetpaal.nc\n",
      "NO_TS_MO_MaeslantkeringZeezijdeNoordMeetpaal.nc is too close to land\n",
      "\n",
      " AR_TS_MO_Gardskagadufl.nc\n",
      "POINT(-22.87700080871582 64.05249786376953)\n"
     ]
    },
    {
     "name": "stderr",
     "output_type": "stream",
     "text": [
      " 20%|██        | 504/2487 [54:45<1:26:09,  2.61s/it]"
     ]
    },
    {
     "name": "stdout",
     "output_type": "stream",
     "text": [
      "426  results found\n"
     ]
    },
    {
     "name": "stderr",
     "output_type": "stream",
     "text": [
      " 20%|██        | 508/2487 [54:50<1:39:47,  3.03s/it]"
     ]
    },
    {
     "name": "stdout",
     "output_type": "stream",
     "text": [
      "\n",
      " NO_TS_MO_6201002.nc\n",
      "NO_TS_MO_6201002.nc does not have any valid data for this timeperiod\n",
      "\n",
      " BO_TS_MO_Luro.nc\n",
      "BO_TS_MO_Luro.nc does not have any valid data for this timeperiod\n",
      "\n",
      " IR_TS_MO_Roncadoira-buoy.nc\n",
      "IR_TS_MO_Roncadoira-buoy.nc does not have any valid data for this timeperiod\n",
      "IR_TS_MO_Roncadoira-buoy.nc does not have any valid data for this timeperiod\n",
      "\n",
      " NO_TS_MO_6300117.nc\n",
      "POINT(1.100000023841858 61.400001525878906)\n"
     ]
    },
    {
     "name": "stderr",
     "output_type": "stream",
     "text": [
      " 20%|██        | 508/2487 [55:05<1:39:47,  3.03s/it]"
     ]
    },
    {
     "name": "stdout",
     "output_type": "stream",
     "text": [
      "293  results found\n"
     ]
    },
    {
     "name": "stderr",
     "output_type": "stream",
     "text": [
      " 20%|██        | 509/2487 [55:12<3:10:50,  5.79s/it]"
     ]
    },
    {
     "name": "stdout",
     "output_type": "stream",
     "text": [
      "\n",
      " GL_TS_MO_T8S155W.nc\n",
      "POINT(-155.0 -8.0)\n"
     ]
    },
    {
     "name": "stderr",
     "output_type": "stream",
     "text": [
      " 21%|██        | 510/2487 [55:20<3:23:36,  6.18s/it]"
     ]
    },
    {
     "name": "stdout",
     "output_type": "stream",
     "text": [
      "0  results found\n",
      "\n",
      " BO_TS_MO_KalajokiMaakalla.nc\n",
      "BO_TS_MO_KalajokiMaakalla.nc does not have any of the variables ['VHM0', 'VAVH', 'WSPD']\n",
      "\n",
      " GL_TS_MO_51101.nc\n",
      "GL_TS_MO_51101.nc does not have any valid data for this timeperiod\n"
     ]
    },
    {
     "name": "stderr",
     "output_type": "stream",
     "text": [
      " 21%|██        | 515/2487 [55:21<1:20:36,  2.45s/it]"
     ]
    },
    {
     "name": "stdout",
     "output_type": "stream",
     "text": [
      "GL_TS_MO_51101.nc does not have any valid data for this timeperiod\n",
      "\n",
      " NO_TS_MO_Raversijde.nc\n",
      "NO_TS_MO_Raversijde.nc is too close to land\n",
      "\n",
      " GL_TS_MO_5300041.nc\n",
      "GL_TS_MO_5300041.nc does not have any valid data for this timeperiod\n",
      "\n",
      " BO_TS_MO_Borno.nc\n",
      "BO_TS_MO_Borno.nc does not have any valid data for this timeperiod\n",
      "\n",
      " GL_TS_MO_6100289.nc\n",
      "POINT(5.230000019073486 43.20833969116211)\n",
      "233  results found\n"
     ]
    },
    {
     "name": "stderr",
     "output_type": "stream",
     "text": [
      " 21%|██        | 517/2487 [55:34<2:01:45,  3.71s/it]"
     ]
    },
    {
     "name": "stdout",
     "output_type": "stream",
     "text": [
      "\n",
      " AR_TS_MO_Sjoesanden-18-38.nc\n",
      "AR_TS_MO_Sjoesanden-18-38.nc does not have any of the variables ['VHM0', 'VAVH', 'WSPD']\n",
      "\n",
      " GL_WS_MO_46070.nc\n",
      "GL_WS_MO_46070.nc does not have any of the variables ['VHM0', 'VAVH', 'WSPD']\n",
      "\n",
      " MO_TS_MO_ADN-DWRG2.nc\n",
      "POINT(13.208999633789062 45.699501037597656)\n",
      "225  results found\n"
     ]
    },
    {
     "name": "stderr",
     "output_type": "stream",
     "text": [
      " 21%|██        | 523/2487 [55:49<1:24:52,  2.59s/it]"
     ]
    },
    {
     "name": "stdout",
     "output_type": "stream",
     "text": [
      "\n",
      " BO_TS_MO_HankoLangden.nc\n",
      "BO_TS_MO_HankoLangden.nc does not have any of the variables ['VHM0', 'VAVH', 'WSPD']\n",
      "\n",
      " GL_TS_MO_MEDS151.nc\n",
      "GL_TS_MO_MEDS151.nc does not have any valid data for this timeperiod\n",
      "\n",
      " GL_WS_MO_46229.nc\n",
      "GL_WS_MO_46229.nc does not have any of the variables ['VHM0', 'VAVH', 'WSPD']\n",
      "\n",
      " GL_TS_MO_45006.nc\n",
      "GL_TS_MO_45006.nc does not have any valid data for this timeperiod\n",
      "GL_TS_MO_45006.nc does not have any valid data for this timeperiod\n",
      "\n",
      " IR_TS_MO_Alboran-buoy.nc\n"
     ]
    },
    {
     "name": "stderr",
     "output_type": "stream",
     "text": [
      " 21%|██        | 526/2487 [55:49<57:29,  1.76s/it]  "
     ]
    },
    {
     "name": "stdout",
     "output_type": "stream",
     "text": [
      "IR_TS_MO_Alboran-buoy.nc does not have any valid data for this timeperiod\n",
      "IR_TS_MO_Alboran-buoy.nc does not have any valid data for this timeperiod\n",
      "\n",
      " GL_WS_MO_46084.nc\n",
      "GL_WS_MO_46084.nc does not have any of the variables ['VHM0', 'VAVH', 'WSPD']\n",
      "\n",
      " GL_WS_MO_41117.nc\n",
      "GL_WS_MO_41117.nc does not have any of the variables ['VHM0', 'VAVH', 'WSPD']\n",
      "\n",
      " GL_TS_MO_42093.nc\n",
      "POINT(-89.83200073242188 29.017000198364258)\n",
      "30  results found\n",
      "\n",
      " BS_TS_MO_Odessaport.nc\n",
      "BS_TS_MO_Odessaport.nc does not have any valid data for this timeperiod\n",
      "\n",
      " GL_TS_MO_44099.nc\n",
      "POINT(-75.72200012207031 36.915000915527344)\n",
      "56  results found\n"
     ]
    },
    {
     "name": "stderr",
     "output_type": "stream",
     "text": [
      " 21%|██▏       | 529/2487 [56:05<1:34:17,  2.89s/it]"
     ]
    },
    {
     "name": "stdout",
     "output_type": "stream",
     "text": [
      "\n",
      " IR_TS_MO_6200095.nc\n",
      "IR_TS_MO_6200095.nc does not have any valid data for this timeperiod\n",
      "POINT(-15.881349563598633 53.07482147216797)\n",
      "33  results found\n"
     ]
    },
    {
     "name": "stderr",
     "output_type": "stream",
     "text": [
      " 21%|██▏       | 530/2487 [56:16<2:08:00,  3.92s/it]"
     ]
    },
    {
     "name": "stdout",
     "output_type": "stream",
     "text": [
      "\n",
      " GL_TS_MO_46027.nc\n",
      "GL_TS_MO_46027.nc does not have any valid data for this timeperiod\n",
      "POINT(-124.37999725341797 41.85200119018555)\n",
      "130  results found\n"
     ]
    },
    {
     "name": "stderr",
     "output_type": "stream",
     "text": [
      " 21%|██▏       | 531/2487 [56:33<3:16:44,  6.03s/it]"
     ]
    },
    {
     "name": "stdout",
     "output_type": "stream",
     "text": [
      "\n",
      " GL_TS_MO_45209.nc\n",
      "GL_TS_MO_45209.nc does not have any valid data for this timeperiod\n",
      "GL_TS_MO_45209.nc does not have any valid data for this timeperiod\n",
      "\n",
      " GL_TS_MO_2300451.nc\n",
      "POLYGON((68.96299743652344 14.906000137329102,68.96299743652344 14.954000473022461,69.00900268554688 14.954000473022461,69.00900268554688 14.906000137329102,68.96299743652344 14.906000137329102))\n"
     ]
    },
    {
     "name": "stderr",
     "output_type": "stream",
     "text": [
      " 22%|██▏       | 537/2487 [56:41<1:33:35,  2.88s/it]"
     ]
    },
    {
     "name": "stdout",
     "output_type": "stream",
     "text": [
      "0  results found\n",
      "\n",
      " GL_TS_MO_MEDS018.nc\n",
      "GL_TS_MO_MEDS018.nc does not have any valid data for this timeperiod\n",
      "\n",
      " GL_TS_MO_MEDS091.nc\n",
      "GL_TS_MO_MEDS091.nc does not have any valid data for this timeperiod\n",
      "\n",
      " GL_TS_MO_MEDS175.nc\n",
      "GL_TS_MO_MEDS175.nc does not have any valid data for this timeperiod\n",
      "\n",
      " GL_TS_MO_41140.nc\n",
      "GL_TS_MO_41140.nc does not have any valid data for this timeperiod\n",
      "\n",
      " GL_TS_MO_51206.nc\n",
      "POINT(-154.97000122070312 19.77899932861328)\n",
      "112  results found\n",
      "\n",
      " GL_WS_MO_6200066.nc\n",
      "GL_WS_MO_6200066.nc does not have any of the variables ['VHM0', 'VAVH', 'WSPD']\n",
      "\n",
      " GL_TS_MO_T0N165E.nc\n",
      "POINT(165.0 0.0)\n"
     ]
    },
    {
     "name": "stderr",
     "output_type": "stream",
     "text": [
      " 22%|██▏       | 540/2487 [56:58<2:02:11,  3.77s/it]"
     ]
    },
    {
     "name": "stdout",
     "output_type": "stream",
     "text": [
      "0  results found\n",
      "\n",
      " GL_TS_MO_44015.nc\n",
      "GL_TS_MO_44015.nc does not have any valid data for this timeperiod\n",
      "GL_TS_MO_44015.nc does not have any valid data for this timeperiod\n",
      "\n",
      " NO_TS_MO_NO1.nc\n",
      "POINT(6.838500022888184 53.985198974609375)\n",
      "236  results found\n"
     ]
    },
    {
     "name": "stderr",
     "output_type": "stream",
     "text": [
      " 22%|██▏       | 542/2487 [57:44<4:34:23,  8.46s/it]"
     ]
    },
    {
     "name": "stdout",
     "output_type": "stream",
     "text": [
      "\n",
      " GL_WS_MO_4100135.nc\n",
      "GL_WS_MO_4100135.nc does not have any of the variables ['VHM0', 'VAVH', 'WSPD']\n",
      "\n",
      " GL_TS_MO_T8N110W.nc\n",
      "POINT(-110.0 8.0)\n"
     ]
    },
    {
     "name": "stderr",
     "output_type": "stream",
     "text": [
      " 22%|██▏       | 544/2487 [57:52<3:57:52,  7.35s/it]"
     ]
    },
    {
     "name": "stdout",
     "output_type": "stream",
     "text": [
      "30  results found\n",
      "\n",
      " GL_WS_MO_44056.nc\n",
      "GL_WS_MO_44056.nc does not have any of the variables ['VHM0', 'VAVH', 'WSPD']\n",
      "\n",
      " GL_TS_MO_MEDS117.nc\n",
      "GL_TS_MO_MEDS117.nc does not have any valid data for this timeperiod\n",
      "\n",
      " GL_TS_MO_44029.nc\n",
      "GL_TS_MO_44029.nc does not have any valid data for this timeperiod\n",
      "POINT(-70.56600189208984 42.52299880981445)\n",
      "82  results found\n"
     ]
    },
    {
     "name": "stderr",
     "output_type": "stream",
     "text": [
      " 22%|██▏       | 547/2487 [58:00<3:04:36,  5.71s/it]"
     ]
    },
    {
     "name": "stdout",
     "output_type": "stream",
     "text": [
      "\n",
      " GL_WS_MO_45137.nc\n",
      "GL_WS_MO_45137.nc does not have any of the variables ['VHM0', 'VAVH', 'WSPD']\n",
      "\n",
      " GL_TS_MO_44091.nc\n",
      "POINT(-73.7699966430664 39.768001556396484)\n",
      "30  results found\n"
     ]
    },
    {
     "name": "stderr",
     "output_type": "stream",
     "text": [
      " 22%|██▏       | 549/2487 [58:13<3:09:28,  5.87s/it]"
     ]
    },
    {
     "name": "stdout",
     "output_type": "stream",
     "text": [
      "\n",
      " GL_TS_MO_6801027.nc\n",
      "GL_TS_MO_6801027.nc does not have any of the variables ['VHM0', 'VAVH', 'WSPD']\n",
      "\n",
      " GL_TS_MO_4800400.nc\n",
      "POLYGON((-144.84649658203125 50.117950439453125,-144.84649658203125 50.138248443603516,-144.81837463378906 50.138248443603516,-144.81837463378906 50.117950439453125,-144.84649658203125 50.117950439453125))\n"
     ]
    },
    {
     "name": "stderr",
     "output_type": "stream",
     "text": [
      " 22%|██▏       | 555/2487 [58:18<1:32:08,  2.86s/it]"
     ]
    },
    {
     "name": "stdout",
     "output_type": "stream",
     "text": [
      "0  results found\n",
      "\n",
      " GL_TS_MO_1401720.nc\n",
      "GL_TS_MO_1401720.nc does not have any of the variables ['VHM0', 'VAVH', 'WSPD']\n",
      "\n",
      " GL_TS_MO_15005.nc\n",
      "GL_TS_MO_15005.nc does not have any valid data for this timeperiod\n",
      "\n",
      " NO_TS_MO_Roscoff.nc\n",
      "NO_TS_MO_Roscoff.nc does not have any of the variables ['VHM0', 'VAVH', 'WSPD']\n",
      "\n",
      " GL_TS_MO_MEDS065.nc\n",
      "GL_TS_MO_MEDS065.nc does not have any valid data for this timeperiod\n",
      "\n",
      " AR_TS_MO_Norne.nc\n",
      "AR_TS_MO_Norne.nc does not have any valid data for this timeperiod\n",
      "\n",
      " NO_TS_MO_6200166.nc\n"
     ]
    },
    {
     "name": "stderr",
     "output_type": "stream",
     "text": [
      " 23%|██▎       | 562/2487 [58:19<39:50,  1.24s/it]  "
     ]
    },
    {
     "name": "stdout",
     "output_type": "stream",
     "text": [
      "NO_TS_MO_6200166.nc does not have any of the variables ['VHM0', 'VAVH', 'WSPD']\n",
      "\n",
      " MO_PR_MO_6101020.nc\n",
      "MO_PR_MO_6101020.nc does not have any of the variables ['VHM0', 'VAVH', 'WSPD']\n",
      "\n",
      " GL_TS_MO_MEDS224.nc\n",
      "GL_TS_MO_MEDS224.nc does not have any valid data for this timeperiod\n",
      "\n",
      " GL_TS_MO_5500087.nc\n",
      "GL_TS_MO_5500087.nc does not have any of the variables ['VHM0', 'VAVH', 'WSPD']\n",
      "\n",
      " GL_TS_MO_MEDS093.nc\n",
      "GL_TS_MO_MEDS093.nc does not have any valid data for this timeperiod\n",
      "\n",
      " GL_TS_MO_45154.nc\n",
      "GL_TS_MO_45154.nc does not have any valid data for this timeperiod\n",
      "GL_TS_MO_45154.nc is too close to land\n",
      "\n",
      " GL_TS_MO_62077.nc\n",
      "GL_TS_MO_62077.nc does not have any valid data for this timeperiod\n",
      "GL_TS_MO_62077.nc does not have any valid data for this timeperiod\n"
     ]
    },
    {
     "name": "stderr",
     "output_type": "stream",
     "text": [
      " 23%|██▎       | 570/2487 [58:19<17:42,  1.80it/s]"
     ]
    },
    {
     "name": "stdout",
     "output_type": "stream",
     "text": [
      "\n",
      " GL_TS_MO_46034.nc\n",
      "GL_TS_MO_46034.nc does not have any valid data for this timeperiod\n",
      "\n",
      " GL_WS_MO_41012.nc\n",
      "GL_WS_MO_41012.nc does not have any of the variables ['VHM0', 'VAVH', 'WSPD']\n",
      "\n",
      " GL_WS_MO_46105.nc\n",
      "GL_WS_MO_46105.nc does not have any of the variables ['VHM0', 'VAVH', 'WSPD']\n",
      "\n",
      " GL_TS_MO_3100218.nc\n",
      "GL_TS_MO_3100218.nc does not have any valid data for this timeperiod\n",
      "GL_TS_MO_3100218.nc does not have any valid data for this timeperiod\n",
      "\n",
      " GL_WS_MO_45t01.nc\n",
      "GL_WS_MO_45t01.nc does not have any of the variables ['VHM0', 'VAVH', 'WSPD']\n",
      "\n",
      " GL_TS_MO_46106.nc\n",
      "GL_TS_MO_46106.nc does not have any valid data for this timeperiod\n",
      "\n",
      " AR_TS_MO_OuterIsfjorden-S.nc\n",
      "AR_TS_MO_OuterIsfjorden-S.nc does not have any of the variables ['VHM0', 'VAVH', 'WSPD']\n",
      "\n",
      " GL_TS_MO_MEDS201.nc\n",
      "GL_TS_MO_MEDS201.nc does not have any valid data for this timeperiod\n",
      "\n",
      " GL_TS_MO_41015.nc\n",
      "GL_TS_MO_41015.nc does not have any valid data for this timeperiod\n",
      "GL_TS_MO_41015.nc does not have any valid data for this timeperiod\n",
      "\n",
      " GL_TS_MO_44041.nc\n",
      "GL_TS_MO_44041.nc does not have any valid data for this timeperiod\n",
      "GL_TS_MO_44041.nc does not have any valid data for this timeperiod\n",
      "\n",
      " NO_TS_MO_Amelander42.nc\n"
     ]
    },
    {
     "name": "stderr",
     "output_type": "stream",
     "text": [
      " 23%|██▎       | 574/2487 [58:19<12:42,  2.51it/s]"
     ]
    },
    {
     "name": "stdout",
     "output_type": "stream",
     "text": [
      "NO_TS_MO_Amelander42.nc does not have any valid data for this timeperiod\n",
      "NO_TS_MO_Amelander42.nc does not have any valid data for this timeperiod\n",
      "\n",
      " NO_TS_MO_RyeBayDWR.nc\n",
      "NO_TS_MO_RyeBayDWR.nc does not have any valid data for this timeperiod\n",
      "\n",
      " GL_TS_MO_55022.nc\n",
      "POLYGON((151.39999389648438 -34.47999954223633,151.39999389648438 -33.779998779296875,151.02000427246094 -33.779998779296875,151.02000427246094 -34.47999954223633,151.39999389648438 -34.47999954223633))\n",
      "146  results found\n"
     ]
    },
    {
     "name": "stderr",
     "output_type": "stream",
     "text": [
      " 23%|██▎       | 579/2487 [58:45<1:01:57,  1.95s/it]"
     ]
    },
    {
     "name": "stdout",
     "output_type": "stream",
     "text": [
      "\n",
      " GL_TS_MO_SMART.nc\n",
      "GL_TS_MO_SMART.nc does not have any of the variables ['VHM0', 'VAVH', 'WSPD']\n",
      "\n",
      " BS_TS_MO_WAVEB01.nc\n",
      "BS_TS_MO_WAVEB01.nc is too close to land\n",
      "\n",
      " AR_TS_MO_AmundsenGulf-AT3.nc\n",
      "AR_TS_MO_AmundsenGulf-AT3.nc does not have any of the variables ['VHM0', 'VAVH', 'WSPD']\n",
      "\n",
      " GL_TS_MO_5500086.nc\n",
      "GL_TS_MO_5500086.nc does not have any valid data for this timeperiod\n",
      "\n",
      " BS_TS_MO_15428.nc\n",
      "BS_TS_MO_15428.nc does not have any of the variables ['VHM0', 'VAVH', 'WSPD']\n",
      "\n",
      " GL_TS_MO_T0N140W.nc\n",
      "POINT(-140.0 0.0)\n"
     ]
    },
    {
     "name": "stderr",
     "output_type": "stream",
     "text": [
      " 23%|██▎       | 584/2487 [58:54<56:26,  1.78s/it]  "
     ]
    },
    {
     "name": "stdout",
     "output_type": "stream",
     "text": [
      "0  results found\n",
      "\n",
      " GL_TS_MO_52086.nc\n",
      "GL_TS_MO_52086.nc does not have any valid data for this timeperiod\n",
      "\n",
      " GL_TS_MO_3101530.nc\n",
      "GL_TS_MO_3101530.nc does not have any of the variables ['VHM0', 'VAVH', 'WSPD']\n",
      "\n",
      " GL_TS_MO_46249.nc\n",
      "GL_TS_MO_46249.nc does not have any valid data for this timeperiod\n",
      "\n",
      " NO_TS_MO_A121.nc\n",
      "POINT(3.8166251182556152 55.41663360595703)\n"
     ]
    },
    {
     "name": "stderr",
     "output_type": "stream",
     "text": [
      " 23%|██▎       | 584/2487 [59:06<56:26,  1.78s/it]"
     ]
    },
    {
     "name": "stdout",
     "output_type": "stream",
     "text": [
      "223  results found\n"
     ]
    },
    {
     "name": "stderr",
     "output_type": "stream",
     "text": [
      " 24%|██▎       | 586/2487 [59:13<1:53:00,  3.57s/it]"
     ]
    },
    {
     "name": "stdout",
     "output_type": "stream",
     "text": [
      "\n",
      " GL_TS_MO_46119.nc\n",
      "GL_TS_MO_46119.nc does not have any valid data for this timeperiod\n",
      "\n",
      " GL_TS_MO_T2N165E.nc\n",
      "POINT(165.0 2.0)\n"
     ]
    },
    {
     "name": "stderr",
     "output_type": "stream",
     "text": [
      " 24%|██▍       | 592/2487 [59:26<1:19:04,  2.50s/it]"
     ]
    },
    {
     "name": "stdout",
     "output_type": "stream",
     "text": [
      "0  results found\n",
      "\n",
      " GL_TS_MO_4100066.nc\n",
      "GL_TS_MO_4100066.nc does not have any valid data for this timeperiod\n",
      "\n",
      " AR_TS_MO_Sandnessjoeen-havsbad-56-129.nc\n",
      "AR_TS_MO_Sandnessjoeen-havsbad-56-129.nc does not have any of the variables ['VHM0', 'VAVH', 'WSPD']\n",
      "\n",
      " GL_WS_MO_46258.nc\n",
      "GL_WS_MO_46258.nc does not have any of the variables ['VHM0', 'VAVH', 'WSPD']\n",
      "\n",
      " NO_TS_MO_CuxhavenFerryBox.nc\n",
      "NO_TS_MO_CuxhavenFerryBox.nc does not have any of the variables ['VHM0', 'VAVH', 'WSPD']\n",
      "\n",
      " GL_WS_MO_46047.nc\n",
      "GL_WS_MO_46047.nc does not have any of the variables ['VHM0', 'VAVH', 'WSPD']\n",
      "\n",
      " GL_WS_MO_46045.nc\n",
      "GL_WS_MO_46045.nc does not have any of the variables ['VHM0', 'VAVH', 'WSPD']\n",
      "\n",
      " GL_TS_MO_MEDS319.nc\n",
      "GL_TS_MO_MEDS319.nc does not have any valid data for this timeperiod\n",
      "\n",
      " BS_TS_MO_98004.nc\n",
      "BS_TS_MO_98004.nc does not have any valid data for this timeperiod\n",
      "\n",
      " BS_TS_MO_SPOT0776.nc\n",
      "POLYGON((27.635499954223633 42.50469970703125,27.635499954223633 42.50680160522461,27.633499145507812 42.50680160522461,27.633499145507812 42.50469970703125,27.635499954223633 42.50469970703125))\n",
      "237  results found\n"
     ]
    },
    {
     "name": "stderr",
     "output_type": "stream",
     "text": [
      " 24%|██▍       | 602/2487 [59:40<52:41,  1.68s/it]  "
     ]
    },
    {
     "name": "stdout",
     "output_type": "stream",
     "text": [
      "\n",
      " GL_TS_MO_91222.nc\n",
      "GL_TS_MO_91222.nc does not have any valid data for this timeperiod\n",
      "\n",
      " IR_WS_MO_1300130.nc\n",
      "IR_WS_MO_1300130.nc does not have any of the variables ['VHM0', 'VAVH', 'WSPD']\n",
      "\n",
      " IR_TS_MO_WestwaveWaveBuoy.nc\n",
      "IR_TS_MO_WestwaveWaveBuoy.nc does not have any valid data for this timeperiod\n",
      "\n",
      " AR_TS_MO_Mobergsvikjo-31-72.nc\n",
      "AR_TS_MO_Mobergsvikjo-31-72.nc does not have any of the variables ['VHM0', 'VAVH', 'WSPD']\n",
      "\n",
      " GL_TS_MO_BremerBay02.nc\n",
      "GL_TS_MO_BremerBay02.nc does not have any valid data for this timeperiod\n",
      "\n",
      " GL_TS_MO_T5S170W.nc\n",
      "POINT(-170.0 -5.0)\n",
      "0  results found\n",
      "\n",
      " GL_TS_MO_46219.nc\n",
      "POINT(-119.87200164794922 33.21900177001953)\n"
     ]
    },
    {
     "name": "stderr",
     "output_type": "stream",
     "text": [
      " 24%|██▍       | 602/2487 [59:56<52:41,  1.68s/it]"
     ]
    },
    {
     "name": "stdout",
     "output_type": "stream",
     "text": [
      "117  results found\n"
     ]
    },
    {
     "name": "stderr",
     "output_type": "stream",
     "text": [
      " 24%|██▍       | 604/2487 [1:00:01<1:40:51,  3.21s/it]"
     ]
    },
    {
     "name": "stdout",
     "output_type": "stream",
     "text": [
      "\n",
      " GL_TS_MO_44172.nc\n",
      "GL_TS_MO_44172.nc does not have any valid data for this timeperiod\n",
      "\n",
      " GL_TS_MO_EXCE0002.nc\n",
      "GL_TS_MO_EXCE0002.nc does not have any valid data for this timeperiod\n",
      "GL_TS_MO_EXCE0002.nc does not have any valid data for this timeperiod\n",
      "\n",
      " NO_TS_MO_Kwintebank.nc\n",
      "POINT(2.7060000896453857 51.3489990234375)\n",
      "233  results found\n"
     ]
    },
    {
     "name": "stderr",
     "output_type": "stream",
     "text": [
      " 25%|██▍       | 611/2487 [1:00:12<1:08:26,  2.19s/it]"
     ]
    },
    {
     "name": "stdout",
     "output_type": "stream",
     "text": [
      "\n",
      " GL_TS_MO_51203.nc\n",
      "GL_TS_MO_51203.nc does not have any valid data for this timeperiod\n",
      "\n",
      " GL_TS_MO_5601595.nc\n",
      "GL_TS_MO_5601595.nc does not have any of the variables ['VHM0', 'VAVH', 'WSPD']\n",
      "\n",
      " IR_WS_MO_ValenciaI-buoy.nc\n",
      "IR_WS_MO_ValenciaI-buoy.nc does not have any of the variables ['VHM0', 'VAVH', 'WSPD']\n",
      "\n",
      " NO_TS_MO_IJgeul5.nc\n",
      "NO_TS_MO_IJgeul5.nc does not have any valid data for this timeperiod\n",
      "NO_TS_MO_IJgeul5.nc does not have any valid data for this timeperiod\n",
      "\n",
      " GL_TS_MO_WEL446.nc\n",
      "GL_TS_MO_WEL446.nc does not have any valid data for this timeperiod\n",
      "\n",
      " GL_TS_MO_WEL239.nc\n",
      "GL_TS_MO_WEL239.nc does not have any valid data for this timeperiod\n",
      "\n",
      " GL_TS_MO_MEDS072.nc\n"
     ]
    },
    {
     "name": "stderr",
     "output_type": "stream",
     "text": [
      " 25%|██▍       | 617/2487 [1:00:12<39:28,  1.27s/it]  "
     ]
    },
    {
     "name": "stdout",
     "output_type": "stream",
     "text": [
      "GL_TS_MO_MEDS072.nc does not have any valid data for this timeperiod\n",
      "\n",
      " GL_TS_MO_46233.nc\n",
      "GL_TS_MO_46233.nc does not have any valid data for this timeperiod\n",
      "\n",
      " BO_TS_MO_VengeanceCU.nc\n",
      "BO_TS_MO_VengeanceCU.nc does not have any of the variables ['VHM0', 'VAVH', 'WSPD']\n",
      "\n",
      " GL_WS_MO_41021.nc\n",
      "GL_WS_MO_41021.nc does not have any of the variables ['VHM0', 'VAVH', 'WSPD']\n",
      "\n",
      " GL_TS_MO_WEL250.nc\n",
      "GL_TS_MO_WEL250.nc does not have any valid data for this timeperiod\n",
      "\n",
      " GL_TS_MO_T2S155W.nc\n",
      "POINT(-155.0 -2.0)\n"
     ]
    },
    {
     "name": "stderr",
     "output_type": "stream",
     "text": [
      " 25%|██▌       | 626/2487 [1:00:23<34:54,  1.13s/it]"
     ]
    },
    {
     "name": "stdout",
     "output_type": "stream",
     "text": [
      "0  results found\n",
      "\n",
      " GL_WS_MO_46069.nc\n",
      "GL_WS_MO_46069.nc does not have any of the variables ['VHM0', 'VAVH', 'WSPD']\n",
      "\n",
      " GL_TS_MO_71238.nc\n",
      "GL_TS_MO_71238.nc does not have any of the variables ['VHM0', 'VAVH', 'WSPD']\n",
      "\n",
      " BS_TS_MO_15480.nc\n",
      "BS_TS_MO_15480.nc does not have any of the variables ['VHM0', 'VAVH', 'WSPD']\n",
      "\n",
      " NO_TS_MO_6200042.nc\n",
      "NO_TS_MO_6200042.nc does not have any valid data for this timeperiod\n",
      "\n",
      " GL_WS_MO_41040.nc\n",
      "GL_WS_MO_41040.nc does not have any of the variables ['VHM0', 'VAVH', 'WSPD']\n",
      "\n",
      " BS_TS_MO_15552.nc\n",
      "BS_TS_MO_15552.nc does not have any of the variables ['VHM0', 'VAVH', 'WSPD']\n",
      "\n",
      " GL_TS_MO_23500.nc\n",
      "GL_TS_MO_23500.nc does not have any valid data for this timeperiod\n",
      "\n",
      " BO_TS_MO_Norrbyn.nc\n",
      "POLYGON((19.809200286865234 63.5004997253418,19.809200286865234 63.490299224853516,19.805500030517578 63.490299224853516,19.805500030517578 63.5004997253418,19.809200286865234 63.5004997253418))\n"
     ]
    },
    {
     "name": "stderr",
     "output_type": "stream",
     "text": [
      " 25%|██▌       | 626/2487 [1:00:36<34:54,  1.13s/it]"
     ]
    },
    {
     "name": "stdout",
     "output_type": "stream",
     "text": [
      "382  results found\n"
     ]
    },
    {
     "name": "stderr",
     "output_type": "stream",
     "text": [
      " 25%|██▌       | 631/2487 [1:01:14<1:53:17,  3.66s/it]"
     ]
    },
    {
     "name": "stdout",
     "output_type": "stream",
     "text": [
      "\n",
      " BS_TS_MO_37004.nc\n",
      "BS_TS_MO_37004.nc does not have any valid data for this timeperiod\n",
      "\n",
      " NO_TS_MO_Hoofdplaat.nc\n",
      "NO_TS_MO_Hoofdplaat.nc does not have any valid data for this timeperiod\n",
      "NO_TS_MO_Hoofdplaat.nc does not have any valid data for this timeperiod\n",
      "\n",
      " GL_TS_MO_WEL327.nc\n",
      "GL_TS_MO_WEL327.nc does not have any valid data for this timeperiod\n",
      "\n",
      " GL_WS_MO_42058.nc\n",
      "GL_WS_MO_42058.nc does not have any of the variables ['VHM0', 'VAVH', 'WSPD']\n",
      "\n",
      " NO_TS_MO_6201047.nc\n",
      "NO_TS_MO_6201047.nc does not have any valid data for this timeperiod\n",
      "\n",
      " GL_TS_MO_45194.nc\n",
      "GL_TS_MO_45194.nc does not have any valid data for this timeperiod\n",
      "\n",
      " GL_TS_MO_62198.nc\n"
     ]
    },
    {
     "name": "stderr",
     "output_type": "stream",
     "text": [
      " 26%|██▌       | 639/2487 [1:01:14<52:40,  1.71s/it]  "
     ]
    },
    {
     "name": "stdout",
     "output_type": "stream",
     "text": [
      "GL_TS_MO_62198.nc does not have any valid data for this timeperiod\n",
      "\n",
      " GL_WS_MO_46026.nc\n",
      "GL_WS_MO_46026.nc does not have any of the variables ['VHM0', 'VAVH', 'WSPD']\n",
      "\n",
      " NO_TS_MO_LooeBayMET.nc\n",
      "NO_TS_MO_LooeBayMET.nc does not have any valid data for this timeperiod\n",
      "\n",
      " IR_TS_MO_Silleiro2-current-meter.nc\n",
      "IR_TS_MO_Silleiro2-current-meter.nc does not have any of the variables ['VHM0', 'VAVH', 'WSPD']\n",
      "\n",
      " GL_TS_MO_91374.nc\n",
      "GL_TS_MO_91374.nc does not have any valid data for this timeperiod\n",
      "\n",
      " GL_TS_MO_46212.nc\n",
      "GL_TS_MO_46212.nc does not have any valid data for this timeperiod\n",
      "\n",
      " IR_TS_MO_Barcelona-coast-buoy.nc\n",
      "POLYGON((2.200000047683716 41.31999969482422,2.200000047683716 41.325401306152344,2.208699941635132 41.325401306152344,2.208699941635132 41.31999969482422,2.200000047683716 41.31999969482422))\n"
     ]
    },
    {
     "name": "stderr",
     "output_type": "stream",
     "text": [
      " 26%|██▌       | 639/2487 [1:01:26<52:40,  1.71s/it]"
     ]
    },
    {
     "name": "stdout",
     "output_type": "stream",
     "text": [
      "178  results found\n"
     ]
    },
    {
     "name": "stderr",
     "output_type": "stream",
     "text": [
      " 26%|██▌       | 640/2487 [1:03:32<7:56:54, 15.49s/it]"
     ]
    },
    {
     "name": "stdout",
     "output_type": "stream",
     "text": [
      "\n",
      " GL_TS_MO_44089.nc\n",
      "POINT(-75.32499694824219 37.75400161743164)\n",
      "30  results found\n"
     ]
    },
    {
     "name": "stderr",
     "output_type": "stream",
     "text": [
      " 26%|██▌       | 644/2487 [1:03:41<4:53:15,  9.55s/it]"
     ]
    },
    {
     "name": "stdout",
     "output_type": "stream",
     "text": [
      "\n",
      " GL_TS_MO_4600004.nc\n",
      "GL_TS_MO_4600004.nc does not have any valid data for this timeperiod\n",
      "\n",
      " MO_TS_MO_SARON.nc\n",
      "MO_TS_MO_SARON.nc does not have any valid data for this timeperiod\n",
      "MO_TS_MO_SARON.nc does not have any valid data for this timeperiod\n",
      "\n",
      " GL_TS_MO_EXCE0003.nc\n",
      "GL_TS_MO_EXCE0003.nc does not have any valid data for this timeperiod\n",
      "GL_TS_MO_EXCE0003.nc does not have any valid data for this timeperiod\n",
      "\n",
      " BO_TS_MO_OuluSantapankki.nc\n",
      "BO_TS_MO_OuluSantapankki.nc does not have any of the variables ['VHM0', 'VAVH', 'WSPD']\n",
      "\n",
      " GL_WS_MO_42098.nc\n",
      "GL_WS_MO_42098.nc does not have any of the variables ['VHM0', 'VAVH', 'WSPD']\n",
      "\n",
      " GL_TS_MO_EXCE0004.nc\n"
     ]
    },
    {
     "name": "stderr",
     "output_type": "stream",
     "text": [
      " 26%|██▋       | 653/2487 [1:03:41<1:42:14,  3.34s/it]"
     ]
    },
    {
     "name": "stdout",
     "output_type": "stream",
     "text": [
      "GL_TS_MO_EXCE0004.nc does not have any valid data for this timeperiod\n",
      "GL_TS_MO_EXCE0004.nc does not have any valid data for this timeperiod\n",
      "\n",
      " GL_TS_MO_46228.nc\n",
      "GL_TS_MO_46228.nc does not have any valid data for this timeperiod\n",
      "\n",
      " GL_TS_MO_MEDS017.nc\n",
      "GL_TS_MO_MEDS017.nc does not have any valid data for this timeperiod\n",
      "\n",
      " GL_TS_MO_MEDS044.nc\n",
      "GL_TS_MO_MEDS044.nc does not have any valid data for this timeperiod\n",
      "\n",
      " GL_WS_MO_51211.nc\n",
      "GL_WS_MO_51211.nc does not have any of the variables ['VHM0', 'VAVH', 'WSPD']\n",
      "\n",
      " GL_TS_MO_41017.nc\n",
      "GL_TS_MO_41017.nc does not have any valid data for this timeperiod\n",
      "GL_TS_MO_41017.nc does not have any valid data for this timeperiod\n",
      "\n",
      " GL_TS_MO_WEL267.nc\n",
      "GL_TS_MO_WEL267.nc does not have any valid data for this timeperiod\n",
      "\n",
      " IR_WS_MO_1300131.nc\n",
      "IR_WS_MO_1300131.nc does not have any of the variables ['VHM0', 'VAVH', 'WSPD']\n",
      "\n",
      " NO_TS_MO_MeetboeiPBW1.nc\n"
     ]
    },
    {
     "name": "stderr",
     "output_type": "stream",
     "text": [
      " 27%|██▋       | 662/2487 [1:03:41<44:07,  1.45s/it]  "
     ]
    },
    {
     "name": "stdout",
     "output_type": "stream",
     "text": [
      "NO_TS_MO_MeetboeiPBW1.nc does not have any valid data for this timeperiod\n",
      "\n",
      " GL_TS_MO_42010.nc\n",
      "GL_TS_MO_42010.nc does not have any valid data for this timeperiod\n",
      "\n",
      " GL_TS_MO_23100.nc\n",
      "GL_TS_MO_23100.nc does not have any valid data for this timeperiod\n",
      "\n",
      " AR_TS_MO_Levanger-Bystrand-41-105.nc\n",
      "AR_TS_MO_Levanger-Bystrand-41-105.nc does not have any of the variables ['VHM0', 'VAVH', 'WSPD']\n",
      "\n",
      " GL_TS_MO_23020.nc\n",
      "GL_TS_MO_23020.nc does not have any valid data for this timeperiod\n",
      "\n",
      " AR_TS_MO_Osebakkenstranda-7-60.nc\n",
      "AR_TS_MO_Osebakkenstranda-7-60.nc does not have any of the variables ['VHM0', 'VAVH', 'WSPD']\n",
      "\n",
      " GL_TS_MO_32012.nc\n",
      "GL_TS_MO_32012.nc does not have any valid data for this timeperiod\n",
      "\n",
      " GL_TS_MO_46257.nc\n",
      "GL_TS_MO_46257.nc does not have any valid data for this timeperiod\n",
      "\n",
      " GL_TS_MO_45177.nc\n",
      "GL_TS_MO_45177.nc does not have any valid data for this timeperiod\n",
      "\n",
      " GL_TS_MO_43010.nc\n",
      "GL_TS_MO_43010.nc does not have any valid data for this timeperiod\n",
      "\n",
      " GL_TS_MO_41044.nc\n",
      "GL_TS_MO_41044.nc does not have any valid data for this timeperiod\n",
      "POINT(-58.630001068115234 21.582000732421875)\n",
      "32  results found\n"
     ]
    },
    {
     "name": "stderr",
     "output_type": "stream",
     "text": [
      " 27%|██▋       | 666/2487 [1:03:52<55:22,  1.82s/it]"
     ]
    },
    {
     "name": "stdout",
     "output_type": "stream",
     "text": [
      "\n",
      " GL_TS_MO_45178.nc\n",
      "GL_TS_MO_45178.nc does not have any valid data for this timeperiod\n",
      "\n",
      " BS_TS_MO_WD3044A.nc\n",
      "BS_TS_MO_WD3044A.nc does not have any valid data for this timeperiod\n",
      "\n",
      " GL_TS_MO_46253.nc\n",
      "POINT(-118.18099975585938 33.57600021362305)\n",
      "173  results found\n"
     ]
    },
    {
     "name": "stderr",
     "output_type": "stream",
     "text": [
      " 27%|██▋       | 672/2487 [1:04:02<47:09,  1.56s/it]  "
     ]
    },
    {
     "name": "stdout",
     "output_type": "stream",
     "text": [
      "\n",
      " GL_WS_MO_46087.nc\n",
      "GL_WS_MO_46087.nc does not have any of the variables ['VHM0', 'VAVH', 'WSPD']\n",
      "\n",
      " GL_TS_MO_44006.nc\n",
      "GL_TS_MO_44006.nc does not have any valid data for this timeperiod\n",
      "GL_TS_MO_44006.nc does not have any valid data for this timeperiod\n",
      "\n",
      " GL_TS_MO_MEDS326.nc\n",
      "GL_TS_MO_MEDS326.nc does not have any valid data for this timeperiod\n",
      "\n",
      " GL_WS_MO_6200080.nc\n",
      "GL_WS_MO_6200080.nc does not have any of the variables ['VHM0', 'VAVH', 'WSPD']\n",
      "\n",
      " GL_TS_MO_WEL447.nc\n",
      "GL_TS_MO_WEL447.nc does not have any valid data for this timeperiod\n",
      "\n",
      " GL_TS_MO_Mesurho.nc\n",
      "GL_TS_MO_Mesurho.nc does not have any valid data for this timeperiod\n",
      "GL_TS_MO_Mesurho.nc does not have any valid data for this timeperiod\n"
     ]
    },
    {
     "name": "stderr",
     "output_type": "stream",
     "text": [
      " 27%|██▋       | 675/2487 [1:04:04<40:03,  1.33s/it]"
     ]
    },
    {
     "name": "stdout",
     "output_type": "stream",
     "text": [
      "GL_TS_MO_Mesurho.nc does not have any valid data for this timeperiod\n",
      "\n",
      " NO_TS_MO_HirtshalsWR.nc\n",
      "NO_TS_MO_HirtshalsWR.nc does not have any valid data for this timeperiod\n",
      "NO_TS_MO_HirtshalsWR.nc does not have any valid data for this timeperiod\n",
      "\n",
      " GL_TS_MO_51208.nc\n",
      "POINT(-159.57400512695312 22.28499984741211)\n",
      "113  results found\n",
      "\n",
      " GL_TS_MO_23013.nc\n",
      "POLYGON((66.68000030517578 4.0,66.68000030517578 4.23799991607666,67.0 4.23799991607666,67.0 4.0,66.68000030517578 4.0))\n"
     ]
    },
    {
     "name": "stderr",
     "output_type": "stream",
     "text": [
      " 27%|██▋       | 679/2487 [1:04:18<58:22,  1.94s/it]  "
     ]
    },
    {
     "name": "stdout",
     "output_type": "stream",
     "text": [
      "0  results found\n",
      "\n",
      " GL_TS_MO_6200058.nc\n",
      "GL_TS_MO_6200058.nc does not have any valid data for this timeperiod\n",
      "GL_TS_MO_6200058.nc does not have any valid data for this timeperiod\n",
      "\n",
      " IR_WS_MO_6100197.nc\n",
      "IR_WS_MO_6100197.nc does not have any of the variables ['VHM0', 'VAVH', 'WSPD']\n",
      "\n",
      " GL_TS_MO_55053.nc\n",
      "POINT(136.6199951171875 -36.06999969482422)\n",
      "59  results found\n"
     ]
    },
    {
     "name": "stderr",
     "output_type": "stream",
     "text": [
      " 27%|██▋       | 681/2487 [1:04:26<1:14:47,  2.48s/it]"
     ]
    },
    {
     "name": "stdout",
     "output_type": "stream",
     "text": [
      "\n",
      " GL_TS_MO_46010.nc\n",
      "GL_TS_MO_46010.nc does not have any valid data for this timeperiod\n",
      "GL_TS_MO_46010.nc does not have any valid data for this timeperiod\n",
      "\n",
      " GL_TS_MO_46005.nc\n",
      "GL_TS_MO_46005.nc does not have any valid data for this timeperiod\n",
      "POINT(-131.07899475097656 46.13399887084961)\n"
     ]
    },
    {
     "name": "stderr",
     "output_type": "stream",
     "text": [
      " 27%|██▋       | 683/2487 [1:04:34<1:25:33,  2.85s/it]"
     ]
    },
    {
     "name": "stdout",
     "output_type": "stream",
     "text": [
      "0  results found\n",
      "\n",
      " GL_TS_MO_45008.nc\n",
      "GL_TS_MO_45008.nc does not have any valid data for this timeperiod\n",
      "GL_TS_MO_45008.nc does not have any valid data for this timeperiod\n",
      "\n",
      " GL_TS_MO_6200059.nc\n",
      "POINT(-1.6200000047683716 49.69499969482422)\n",
      "237  results found\n"
     ]
    },
    {
     "name": "stderr",
     "output_type": "stream",
     "text": [
      " 28%|██▊       | 686/2487 [1:04:49<1:37:18,  3.24s/it]"
     ]
    },
    {
     "name": "stdout",
     "output_type": "stream",
     "text": [
      "\n",
      " GL_TS_MO_52079.nc\n",
      "GL_TS_MO_52079.nc does not have any valid data for this timeperiod\n",
      "\n",
      " GL_WS_MO_alsn6.nc\n",
      "GL_WS_MO_alsn6.nc does not have any of the variables ['VHM0', 'VAVH', 'WSPD']\n",
      "\n",
      " GL_WS_MO_46030.nc\n",
      "GL_WS_MO_46030.nc does not have any of the variables ['VHM0', 'VAVH', 'WSPD']\n",
      "\n",
      " GL_TS_MO_21210.nc\n",
      "GL_TS_MO_21210.nc does not have any valid data for this timeperiod\n",
      "\n",
      " NO_TS_MO_IJmuidenMunitiestort2.nc\n",
      "POINT(4.058332920074463 52.54999923706055)\n",
      "177  results found\n"
     ]
    },
    {
     "name": "stderr",
     "output_type": "stream",
     "text": [
      " 28%|██▊       | 689/2487 [1:05:03<1:55:54,  3.87s/it]"
     ]
    },
    {
     "name": "stdout",
     "output_type": "stream",
     "text": [
      "\n",
      " GL_TS_MO_51001.nc\n",
      "GL_TS_MO_51001.nc does not have any valid data for this timeperiod\n",
      "POLYGON((-162.0 24.389999389648438,-162.0 24.452999114990234,-162.1269989013672 24.452999114990234,-162.1269989013672 24.389999389648438,-162.0 24.389999389648438))\n"
     ]
    },
    {
     "name": "stderr",
     "output_type": "stream",
     "text": [
      " 28%|██▊       | 690/2487 [1:05:10<2:08:03,  4.28s/it]"
     ]
    },
    {
     "name": "stdout",
     "output_type": "stream",
     "text": [
      "0  results found\n",
      "\n",
      " GL_TS_MO_T2N170W.nc\n",
      "POINT(-170.0 2.0)\n"
     ]
    },
    {
     "name": "stderr",
     "output_type": "stream",
     "text": [
      " 28%|██▊       | 695/2487 [1:05:15<1:04:05,  2.15s/it]"
     ]
    },
    {
     "name": "stdout",
     "output_type": "stream",
     "text": [
      "0  results found\n",
      "\n",
      " GL_TS_MO_WEL273.nc\n",
      "GL_TS_MO_WEL273.nc does not have any valid data for this timeperiod\n",
      "\n",
      " GL_TS_MO_MEDS042.nc\n",
      "GL_TS_MO_MEDS042.nc does not have any valid data for this timeperiod\n",
      "\n",
      " GL_WS_MO_41018.nc\n",
      "GL_WS_MO_41018.nc does not have any of the variables ['VHM0', 'VAVH', 'WSPD']\n",
      "\n",
      " MO_TS_MO_RMNGE.nc\n",
      "MO_TS_MO_RMNGE.nc does not have any valid data for this timeperiod\n",
      "\n",
      " GL_WS_MO_41046.nc\n",
      "GL_WS_MO_41046.nc does not have any of the variables ['VHM0', 'VAVH', 'WSPD']\n",
      "\n",
      " IR_WS_MO_6100196.nc\n",
      "IR_WS_MO_6100196.nc does not have any of the variables ['VHM0', 'VAVH', 'WSPD']\n",
      "\n",
      " GL_WS_MO_46011.nc\n",
      "GL_WS_MO_46011.nc does not have any of the variables ['VHM0', 'VAVH', 'WSPD']\n"
     ]
    },
    {
     "name": "stderr",
     "output_type": "stream",
     "text": [
      " 28%|██▊       | 703/2487 [1:05:15<23:28,  1.27it/s]  "
     ]
    },
    {
     "name": "stdout",
     "output_type": "stream",
     "text": [
      "\n",
      " GL_TS_MO_MEDS158.nc\n",
      "GL_TS_MO_MEDS158.nc does not have any valid data for this timeperiod\n",
      "\n",
      " NO_TS_MO_HoofdplaatMeetpaal2.nc\n",
      "NO_TS_MO_HoofdplaatMeetpaal2.nc does not have any valid data for this timeperiod\n",
      "NO_TS_MO_HoofdplaatMeetpaal2.nc does not have any valid data for this timeperiod\n",
      "\n",
      " AR_TS_MO_Kvitebjornfeltet.nc\n",
      "AR_TS_MO_Kvitebjornfeltet.nc does not have any of the variables ['VHM0', 'VAVH', 'WSPD']\n",
      "\n",
      " GL_WS_MO_fpsn7.nc\n",
      "GL_WS_MO_fpsn7.nc does not have any of the variables ['VHM0', 'VAVH', 'WSPD']\n",
      "\n",
      " BO_TS_MO_Kristineberg2.nc\n",
      "BO_TS_MO_Kristineberg2.nc does not have any valid data for this timeperiod\n",
      "\n",
      " IR_TS_MO_6200192.nc\n",
      "IR_TS_MO_6200192.nc does not have any valid data for this timeperiod\n",
      "POINT(-9.640000343322754 39.5099983215332)\n",
      "119  results found\n"
     ]
    },
    {
     "name": "stderr",
     "output_type": "stream",
     "text": [
      " 29%|██▊       | 710/2487 [1:05:22<24:20,  1.22it/s]"
     ]
    },
    {
     "name": "stdout",
     "output_type": "stream",
     "text": [
      "\n",
      " GL_WS_MO_42065.nc\n",
      "GL_WS_MO_42065.nc does not have any of the variables ['VHM0', 'VAVH', 'WSPD']\n",
      "\n",
      " GL_TS_MO_MEDS113.nc\n",
      "GL_TS_MO_MEDS113.nc does not have any valid data for this timeperiod\n",
      "\n",
      " NO_TS_MO_6200027.nc\n",
      "NO_TS_MO_6200027.nc does not have any valid data for this timeperiod\n",
      "NO_TS_MO_6200027.nc does not have any valid data for this timeperiod\n",
      "\n",
      " GL_WS_MO_42038.nc\n",
      "GL_WS_MO_42038.nc does not have any of the variables ['VHM0', 'VAVH', 'WSPD']\n",
      "\n",
      " GL_TS_MO_62200.nc\n",
      "GL_TS_MO_62200.nc does not have any valid data for this timeperiod\n",
      "\n",
      " GL_TS_MO_MEDS278.nc\n",
      "GL_TS_MO_MEDS278.nc does not have any valid data for this timeperiod\n",
      "\n",
      " GL_WS_MO_45006.nc\n",
      "GL_WS_MO_45006.nc does not have any of the variables ['VHM0', 'VAVH', 'WSPD']\n",
      "\n",
      " IR_TS_MO_Alicante-coast-buoy.nc\n",
      "IR_TS_MO_Alicante-coast-buoy.nc does not have any valid data for this timeperiod\n",
      "IR_TS_MO_Alicante-coast-buoy.nc does not have any valid data for this timeperiod\n",
      "\n",
      " GL_TS_MO_41043.nc\n",
      "GL_TS_MO_41043.nc does not have any valid data for this timeperiod\n",
      "POINT(-64.79000091552734 21.030000686645508)\n",
      "60  results found\n"
     ]
    },
    {
     "name": "stderr",
     "output_type": "stream",
     "text": [
      " 29%|██▊       | 715/2487 [1:05:32<35:00,  1.19s/it]"
     ]
    },
    {
     "name": "stdout",
     "output_type": "stream",
     "text": [
      "\n",
      " GL_TS_MO_45019.nc\n",
      "GL_TS_MO_45019.nc does not have any valid data for this timeperiod\n",
      "\n",
      " MO_TS_MO_61499.nc\n",
      "MO_TS_MO_61499.nc does not have any valid data for this timeperiod\n",
      "MO_TS_MO_61499.nc does not have any valid data for this timeperiod\n",
      "\n",
      " GL_TS_MO_MEDS052.nc\n"
     ]
    },
    {
     "name": "stderr",
     "output_type": "stream",
     "text": [
      " 29%|██▉       | 719/2487 [1:05:32<22:18,  1.32it/s]"
     ]
    },
    {
     "name": "stdout",
     "output_type": "stream",
     "text": [
      "GL_TS_MO_MEDS052.nc does not have any valid data for this timeperiod\n",
      "\n",
      " GL_WS_MO_6100431.nc\n",
      "GL_WS_MO_6100431.nc does not have any of the variables ['VHM0', 'VAVH', 'WSPD']\n",
      "\n",
      " GL_WS_MO_6100295.nc\n",
      "GL_WS_MO_6100295.nc does not have any of the variables ['VHM0', 'VAVH', 'WSPD']\n",
      "\n",
      " IR_TS_MO_Palamos-coast-buoy.nc\n",
      "IR_TS_MO_Palamos-coast-buoy.nc does not have any valid data for this timeperiod\n",
      "IR_TS_MO_Palamos-coast-buoy.nc does not have any valid data for this timeperiod\n",
      "\n",
      " GL_TS_MO_T2N95W.nc\n",
      "POINT(-95.0 2.0)\n"
     ]
    },
    {
     "name": "stderr",
     "output_type": "stream",
     "text": [
      " 29%|██▉       | 721/2487 [1:05:41<44:34,  1.51s/it]"
     ]
    },
    {
     "name": "stdout",
     "output_type": "stream",
     "text": [
      "0  results found\n",
      "\n",
      " GL_WS_MO_6200053.nc\n",
      "GL_WS_MO_6200053.nc does not have any of the variables ['VHM0', 'VAVH', 'WSPD']\n",
      "\n",
      " MO_TS_MO_ESPORLES.nc\n",
      "MO_TS_MO_ESPORLES.nc does not have any valid data for this timeperiod\n",
      "\n",
      " GL_TS_MO_23174.nc\n",
      "GL_TS_MO_23174.nc does not have any valid data for this timeperiod\n",
      "\n",
      " IR_TS_MO_6200025.nc\n",
      "IR_TS_MO_6200025.nc does not have any valid data for this timeperiod\n",
      "POLYGON((-6.184700012207031 43.761199951171875,-6.184700012207031 43.7421989440918,-6.157199859619141 43.7421989440918,-6.157199859619141 43.761199951171875,-6.184700012207031 43.761199951171875))\n",
      "176  results found\n"
     ]
    },
    {
     "name": "stderr",
     "output_type": "stream",
     "text": [
      " 29%|██▉       | 724/2487 [1:06:47<3:52:59,  7.93s/it]"
     ]
    },
    {
     "name": "stdout",
     "output_type": "stream",
     "text": [
      "\n",
      " GL_TS_MO_Cottesloe.nc\n",
      "GL_TS_MO_Cottesloe.nc does not have any valid data for this timeperiod\n",
      "\n",
      " GL_TS_MO_42020.nc\n",
      "GL_TS_MO_42020.nc does not have any valid data for this timeperiod\n",
      "POINT(-96.69300079345703 26.968000411987305)\n",
      "60  results found\n"
     ]
    },
    {
     "name": "stderr",
     "output_type": "stream",
     "text": [
      " 29%|██▉       | 726/2487 [1:06:56<3:28:04,  7.09s/it]"
     ]
    },
    {
     "name": "stdout",
     "output_type": "stream",
     "text": [
      "\n",
      " AR_TS_MO_Badedammen-6-18.nc\n",
      "AR_TS_MO_Badedammen-6-18.nc does not have any of the variables ['VHM0', 'VAVH', 'WSPD']\n",
      "\n",
      " GL_WS_MO_42002.nc\n",
      "GL_WS_MO_42002.nc does not have any of the variables ['VHM0', 'VAVH', 'WSPD']\n",
      "\n",
      " GL_WS_MO_6100190.nc\n",
      "GL_WS_MO_6100190.nc does not have any of the variables ['VHM0', 'VAVH', 'WSPD']\n",
      "\n",
      " NO_TS_MO_K13a2.nc\n",
      "POINT(3.2200000286102295 53.217777252197266)\n",
      "216  results found\n"
     ]
    },
    {
     "name": "stderr",
     "output_type": "stream",
     "text": [
      " 29%|██▉       | 730/2487 [1:07:09<2:42:06,  5.54s/it]"
     ]
    },
    {
     "name": "stdout",
     "output_type": "stream",
     "text": [
      "\n",
      " MO_TS_MO_ADN-MAMBO3.nc\n",
      "MO_TS_MO_ADN-MAMBO3.nc does not have any valid data for this timeperiod\n",
      "\n",
      " GL_TS_MO_T2S95W.nc\n",
      "POINT(-95.0 -2.0)\n"
     ]
    },
    {
     "name": "stderr",
     "output_type": "stream",
     "text": [
      " 30%|██▉       | 734/2487 [1:07:16<1:53:29,  3.88s/it]"
     ]
    },
    {
     "name": "stdout",
     "output_type": "stream",
     "text": [
      "0  results found\n",
      "\n",
      " GL_TS_MO_45153.nc\n",
      "GL_TS_MO_45153.nc does not have any valid data for this timeperiod\n",
      "GL_TS_MO_45153.nc does not have any valid data for this timeperiod\n",
      "\n",
      " GL_TS_MO_44028.nc\n",
      "GL_TS_MO_44028.nc does not have any valid data for this timeperiod\n",
      "GL_TS_MO_44028.nc does not have any valid data for this timeperiod\n",
      "\n",
      " GL_TS_MO_MEDS114.nc\n",
      "GL_TS_MO_MEDS114.nc does not have any valid data for this timeperiod\n",
      "\n",
      " GL_TS_MO_T0N170W.nc\n"
     ]
    },
    {
     "name": "stderr",
     "output_type": "stream",
     "text": [
      " 30%|██▉       | 738/2487 [1:07:16<1:03:26,  2.18s/it]"
     ]
    },
    {
     "name": "stdout",
     "output_type": "stream",
     "text": [
      "GL_TS_MO_T0N170W.nc does not have any valid data for this timeperiod\n",
      "\n",
      " GL_TS_MO_44001.nc\n",
      "GL_TS_MO_44001.nc does not have any valid data for this timeperiod\n",
      "GL_TS_MO_44001.nc does not have any valid data for this timeperiod\n",
      "\n",
      " IR_TS_MO_LasPalmasConfital-coast-buoy.nc\n",
      "IR_TS_MO_LasPalmasConfital-coast-buoy.nc does not have any valid data for this timeperiod\n",
      "IR_TS_MO_LasPalmasConfital-coast-buoy.nc does not have any valid data for this timeperiod\n",
      "\n",
      " GL_TS_MO_51100.nc\n",
      "GL_TS_MO_51100.nc does not have any valid data for this timeperiod\n",
      "GL_TS_MO_51100.nc does not have any valid data for this timeperiod\n",
      "\n",
      " GL_TS_MO_3101564.nc\n",
      "GL_TS_MO_3101564.nc does not have any of the variables ['VHM0', 'VAVH', 'WSPD']\n",
      "\n",
      " AR_TS_MO_Hornafjardardufl.nc\n",
      "POINT(-15.18850040435791 64.19683074951172)\n"
     ]
    },
    {
     "name": "stderr",
     "output_type": "stream",
     "text": [
      " 30%|██▉       | 738/2487 [1:07:36<1:03:26,  2.18s/it]"
     ]
    },
    {
     "name": "stdout",
     "output_type": "stream",
     "text": [
      "406  results found\n"
     ]
    },
    {
     "name": "stderr",
     "output_type": "stream",
     "text": [
      " 30%|██▉       | 741/2487 [1:07:48<2:33:34,  5.28s/it]"
     ]
    },
    {
     "name": "stdout",
     "output_type": "stream",
     "text": [
      "\n",
      " MO_TS_MO_6101629.nc\n",
      "MO_TS_MO_6101629.nc does not have any valid data for this timeperiod\n",
      "\n",
      " AR_TS_MO_Banken-7-54.nc\n",
      "AR_TS_MO_Banken-7-54.nc does not have any of the variables ['VHM0', 'VAVH', 'WSPD']\n",
      "\n",
      " GL_TS_MO_44056.nc\n",
      "POINT(-75.71399688720703 36.20000076293945)\n",
      "56  results found\n"
     ]
    },
    {
     "name": "stderr",
     "output_type": "stream",
     "text": [
      " 30%|██▉       | 746/2487 [1:08:04<1:55:34,  3.98s/it]"
     ]
    },
    {
     "name": "stdout",
     "output_type": "stream",
     "text": [
      "\n",
      " GL_TS_MO_91251.nc\n",
      "GL_TS_MO_91251.nc does not have any valid data for this timeperiod\n",
      "\n",
      " NO_TS_MO_ScheurWest.nc\n",
      "NO_TS_MO_ScheurWest.nc does not have any valid data for this timeperiod\n",
      "NO_TS_MO_ScheurWest.nc does not have any valid data for this timeperiod\n",
      "\n",
      " MO_TS_MO_AcquaAltaTower.nc\n",
      "MO_TS_MO_AcquaAltaTower.nc does not have any of the variables ['VHM0', 'VAVH', 'WSPD']\n",
      "\n",
      " AR_TS_MO_Oeystese-14-26.nc\n",
      "AR_TS_MO_Oeystese-14-26.nc does not have any of the variables ['VHM0', 'VAVH', 'WSPD']\n",
      "\n",
      " GL_TS_MO_4101552.nc\n",
      "GL_TS_MO_4101552.nc does not have any of the variables ['VHM0', 'VAVH', 'WSPD']\n",
      "\n",
      " GL_WS_MO_6200074.nc\n",
      "GL_WS_MO_6200074.nc does not have any of the variables ['VHM0', 'VAVH', 'WSPD']\n",
      "\n",
      " IR_TS_MO_6201038.nc\n"
     ]
    },
    {
     "name": "stderr",
     "output_type": "stream",
     "text": [
      " 30%|███       | 751/2487 [1:08:04<1:01:50,  2.14s/it]"
     ]
    },
    {
     "name": "stdout",
     "output_type": "stream",
     "text": [
      "IR_TS_MO_6201038.nc is too close to land\n",
      "\n",
      " GL_TS_MO_45029.nc\n",
      "GL_TS_MO_45029.nc does not have any valid data for this timeperiod\n",
      "GL_TS_MO_45029.nc is too close to land\n",
      "\n",
      " GL_TS_MO_45195.nc\n"
     ]
    },
    {
     "name": "stderr",
     "output_type": "stream",
     "text": [
      " 30%|███       | 753/2487 [1:08:04<49:22,  1.71s/it]  "
     ]
    },
    {
     "name": "stdout",
     "output_type": "stream",
     "text": [
      "GL_TS_MO_45195.nc is too close to land\n",
      "\n",
      " GL_TS_MO_42003.nc\n",
      "GL_TS_MO_42003.nc does not have any valid data for this timeperiod\n",
      "POINT(-85.61499786376953 25.924999237060547)\n"
     ]
    },
    {
     "name": "stderr",
     "output_type": "stream",
     "text": [
      " 30%|███       | 754/2487 [1:08:17<1:29:12,  3.09s/it]"
     ]
    },
    {
     "name": "stdout",
     "output_type": "stream",
     "text": [
      "0  results found\n",
      "\n",
      " GL_TS_MO_MEDS155.nc\n",
      "GL_TS_MO_MEDS155.nc does not have any valid data for this timeperiod\n",
      "\n",
      " GL_TS_MO_46036.nc\n",
      "GL_TS_MO_46036.nc does not have any valid data for this timeperiod\n",
      "POINT(-133.93800354003906 48.35499954223633)\n"
     ]
    },
    {
     "name": "stderr",
     "output_type": "stream",
     "text": [
      " 30%|███       | 756/2487 [1:08:26<1:41:39,  3.52s/it]"
     ]
    },
    {
     "name": "stdout",
     "output_type": "stream",
     "text": [
      "0  results found\n",
      "\n",
      " GL_TS_MO_55030.nc\n",
      "POLYGON((153.1699981689453 -26.549999237060547,153.1699981689453 -26.93000030517578,153.3000030517578 -26.93000030517578,153.3000030517578 -26.549999237060547,153.1699981689453 -26.549999237060547))\n",
      "60  results found\n"
     ]
    },
    {
     "name": "stderr",
     "output_type": "stream",
     "text": [
      " 31%|███       | 761/2487 [1:09:14<2:40:48,  5.59s/it]"
     ]
    },
    {
     "name": "stdout",
     "output_type": "stream",
     "text": [
      "\n",
      " AR_TS_MO_Hornnes-Camping-10-24.nc\n",
      "AR_TS_MO_Hornnes-Camping-10-24.nc does not have any of the variables ['VHM0', 'VAVH', 'WSPD']\n",
      "\n",
      " NO_TS_MO_Europlatform.nc\n",
      "NO_TS_MO_Europlatform.nc does not have any of the variables ['VHM0', 'VAVH', 'WSPD']\n",
      "\n",
      " GL_TS_MO_48011.nc\n",
      "GL_TS_MO_48011.nc does not have any valid data for this timeperiod\n",
      "GL_TS_MO_48011.nc does not have any valid data for this timeperiod\n",
      "\n",
      " GL_TS_MO_44023.nc\n",
      "GL_TS_MO_44023.nc does not have any valid data for this timeperiod\n",
      "GL_TS_MO_44023.nc does not have any valid data for this timeperiod\n",
      "\n",
      " GL_TS_MO_23095.nc\n",
      "GL_TS_MO_23095.nc does not have any valid data for this timeperiod\n",
      "\n",
      " NO_TS_MO_OostendEasternPalisade.nc\n"
     ]
    },
    {
     "name": "stderr",
     "output_type": "stream",
     "text": [
      " 31%|███       | 763/2487 [1:09:14<1:59:52,  4.17s/it]"
     ]
    },
    {
     "name": "stdout",
     "output_type": "stream",
     "text": [
      "NO_TS_MO_OostendEasternPalisade.nc is too close to land\n",
      "\n",
      " GL_TS_MO_44070.nc\n",
      "GL_TS_MO_44070.nc does not have any valid data for this timeperiod\n",
      "\n",
      " GL_TS_MO_MEDS209.nc\n",
      "GL_TS_MO_MEDS209.nc does not have any valid data for this timeperiod\n",
      "\n",
      " GL_TS_MO_48400.nc\n",
      "POINT(-144.89999389648438 50.099998474121094)\n"
     ]
    },
    {
     "name": "stderr",
     "output_type": "stream",
     "text": [
      " 31%|███       | 766/2487 [1:09:26<1:57:54,  4.11s/it]"
     ]
    },
    {
     "name": "stdout",
     "output_type": "stream",
     "text": [
      "0  results found\n",
      "\n",
      " GL_TS_MO_46088.nc\n",
      "GL_TS_MO_46088.nc does not have any valid data for this timeperiod\n",
      "POLYGON((-123.17900085449219 48.332000732421875,-123.17900085449219 48.33399963378906,-123.16500091552734 48.33399963378906,-123.16500091552734 48.332000732421875,-123.17900085449219 48.332000732421875))\n",
      "119  results found\n"
     ]
    },
    {
     "name": "stderr",
     "output_type": "stream",
     "text": [
      " 31%|███       | 771/2487 [1:12:49<8:33:53, 17.97s/it] "
     ]
    },
    {
     "name": "stdout",
     "output_type": "stream",
     "text": [
      "\n",
      " IR_WS_MO_6100430.nc\n",
      "IR_WS_MO_6100430.nc does not have any of the variables ['VHM0', 'VAVH', 'WSPD']\n",
      "\n",
      " GL_TS_MO_46008.nc\n",
      "GL_TS_MO_46008.nc does not have any valid data for this timeperiod\n",
      "GL_TS_MO_46008.nc does not have any valid data for this timeperiod\n",
      "\n",
      " NO_TS_MO_6200125.nc\n",
      "NO_TS_MO_6200125.nc does not have any valid data for this timeperiod\n",
      "NO_TS_MO_6200125.nc does not have any valid data for this timeperiod\n",
      "\n",
      " GL_TS_MO_23171.nc\n",
      "GL_TS_MO_23171.nc does not have any valid data for this timeperiod\n",
      "\n",
      " GL_TS_MO_41009.nc\n",
      "GL_TS_MO_41009.nc does not have any valid data for this timeperiod\n",
      "POINT(-80.18499755859375 28.507999420166016)\n",
      "59  results found\n",
      "\n",
      " GL_TS_MO_WEL320.nc\n",
      "GL_TS_MO_WEL320.nc does not have any valid data for this timeperiod\n",
      "\n",
      " GL_TS_MO_46083.nc\n",
      "GL_TS_MO_46083.nc does not have any valid data for this timeperiod\n",
      "POINT(-138.0189971923828 58.27000045776367)\n"
     ]
    },
    {
     "name": "stderr",
     "output_type": "stream",
     "text": [
      " 31%|███       | 771/2487 [1:13:07<8:33:53, 17.97s/it]"
     ]
    },
    {
     "name": "stdout",
     "output_type": "stream",
     "text": [
      "55  results found\n"
     ]
    },
    {
     "name": "stderr",
     "output_type": "stream",
     "text": [
      " 31%|███       | 774/2487 [1:13:07<6:42:40, 14.10s/it]"
     ]
    },
    {
     "name": "stdout",
     "output_type": "stream",
     "text": [
      "\n",
      " NO_TS_MO_Europlatform3.nc\n",
      "POINT(3.2763888835906982 51.99861145019531)\n",
      "232  results found\n"
     ]
    },
    {
     "name": "stderr",
     "output_type": "stream",
     "text": [
      " 31%|███       | 776/2487 [1:13:22<5:40:22, 11.94s/it]"
     ]
    },
    {
     "name": "stdout",
     "output_type": "stream",
     "text": [
      "\n",
      " GL_TS_MO_45005.nc\n",
      "GL_TS_MO_45005.nc does not have any valid data for this timeperiod\n",
      "GL_TS_MO_45005.nc does not have any valid data for this timeperiod\n",
      "\n",
      " GL_WS_MO_6100021.nc\n",
      "GL_WS_MO_6100021.nc does not have any of the variables ['VHM0', 'VAVH', 'WSPD']\n",
      "\n",
      " GL_TS_MO_RottnestIsland02.nc\n"
     ]
    },
    {
     "name": "stderr",
     "output_type": "stream",
     "text": [
      " 31%|███▏      | 779/2487 [1:13:22<3:21:22,  7.07s/it]"
     ]
    },
    {
     "name": "stdout",
     "output_type": "stream",
     "text": [
      "GL_TS_MO_RottnestIsland02.nc does not have any valid data for this timeperiod\n",
      "\n",
      " GL_TS_MO_46017.nc\n",
      "GL_TS_MO_46017.nc does not have any valid data for this timeperiod\n",
      "\n",
      " GL_TS_MO_2200190.nc\n",
      "POINT(129.8699951171875 36.90999984741211)\n",
      "54  results found\n",
      "\n",
      " GL_TS_MO_2200297.nc\n",
      "POINT(125.20999908447266 34.029998779296875)\n"
     ]
    },
    {
     "name": "stderr",
     "output_type": "stream",
     "text": [
      " 31%|███▏      | 781/2487 [1:13:49<4:08:59,  8.76s/it]"
     ]
    },
    {
     "name": "stdout",
     "output_type": "stream",
     "text": [
      "1  results found\n",
      "\n",
      " GL_TS_MO_46735A.nc\n",
      "GL_TS_MO_46735A.nc does not have any valid data for this timeperiod\n",
      "\n",
      " AR_TS_MO_Hjertoeya-38-95.nc\n",
      "AR_TS_MO_Hjertoeya-38-95.nc does not have any of the variables ['VHM0', 'VAVH', 'WSPD']\n",
      "\n",
      " MO_TS_MO_RONSV.nc\n",
      "MO_TS_MO_RONSV.nc does not have any valid data for this timeperiod\n",
      "\n",
      " GL_TS_MO_46028.nc\n",
      "GL_TS_MO_46028.nc does not have any valid data for this timeperiod\n",
      "POINT(-121.90299987792969 35.77000045776367)\n",
      "118  results found\n"
     ]
    },
    {
     "name": "stderr",
     "output_type": "stream",
     "text": [
      " 32%|███▏      | 785/2487 [1:14:00<2:54:24,  6.15s/it]"
     ]
    },
    {
     "name": "stdout",
     "output_type": "stream",
     "text": [
      "\n",
      " GL_TS_MO_MEDS229.nc\n",
      "GL_TS_MO_MEDS229.nc does not have any valid data for this timeperiod\n",
      "\n",
      " AR_TS_MO_Langangen-7-98.nc\n",
      "AR_TS_MO_Langangen-7-98.nc does not have any of the variables ['VHM0', 'VAVH', 'WSPD']\n",
      "\n",
      " BS_TS_MO_99041.nc\n",
      "BS_TS_MO_99041.nc does not have any of the variables ['VHM0', 'VAVH', 'WSPD']\n",
      "\n",
      " GL_TS_MO_46031.nc\n",
      "GL_TS_MO_46031.nc does not have any valid data for this timeperiod\n",
      "\n",
      " AR_TS_MO_D-Breisundet.nc\n"
     ]
    },
    {
     "name": "stderr",
     "output_type": "stream",
     "text": [
      " 32%|███▏      | 790/2487 [1:14:01<1:37:42,  3.45s/it]"
     ]
    },
    {
     "name": "stdout",
     "output_type": "stream",
     "text": [
      "AR_TS_MO_D-Breisundet.nc does not have any valid data for this timeperiod\n",
      "\n",
      " AR_TS_MO_Follsjoe-20-45.nc\n",
      "AR_TS_MO_Follsjoe-20-45.nc does not have any of the variables ['VHM0', 'VAVH', 'WSPD']\n",
      "\n",
      " GL_WS_MO_46035.nc\n",
      "GL_WS_MO_46035.nc does not have any of the variables ['VHM0', 'VAVH', 'WSPD']\n",
      "\n",
      " NO_TS_MO_6300110.nc\n",
      "POINT(1.5 59.5)\n",
      "268  results found\n"
     ]
    },
    {
     "name": "stderr",
     "output_type": "stream",
     "text": [
      " 32%|███▏      | 797/2487 [1:14:14<1:09:14,  2.46s/it]"
     ]
    },
    {
     "name": "stdout",
     "output_type": "stream",
     "text": [
      "\n",
      " GL_TS_MO_3100229.nc\n",
      "GL_TS_MO_3100229.nc does not have any valid data for this timeperiod\n",
      "\n",
      " GL_TS_MO_4101526.nc\n",
      "GL_TS_MO_4101526.nc does not have any of the variables ['VHM0', 'VAVH', 'WSPD']\n",
      "\n",
      " AR_TS_MO_Oseberg-SOR.nc\n",
      "AR_TS_MO_Oseberg-SOR.nc does not have any valid data for this timeperiod\n",
      "\n",
      " GL_TS_MO_MEDS003.nc\n",
      "GL_TS_MO_MEDS003.nc does not have any valid data for this timeperiod\n",
      "\n",
      " GL_TS_MO_41053.nc\n",
      "GL_TS_MO_41053.nc does not have any valid data for this timeperiod\n",
      "GL_TS_MO_41053.nc does not have any valid data for this timeperiod\n",
      "\n",
      " GL_TS_MO_2100229.nc\n",
      "POINT(131.11000061035156 37.459999084472656)\n"
     ]
    },
    {
     "name": "stderr",
     "output_type": "stream",
     "text": [
      " 32%|███▏      | 797/2487 [1:14:27<1:09:14,  2.46s/it]"
     ]
    },
    {
     "name": "stdout",
     "output_type": "stream",
     "text": [
      "28  results found\n"
     ]
    },
    {
     "name": "stderr",
     "output_type": "stream",
     "text": [
      " 32%|███▏      | 799/2487 [1:14:27<1:30:58,  3.23s/it]"
     ]
    },
    {
     "name": "stdout",
     "output_type": "stream",
     "text": [
      "\n",
      " GL_TS_MO_4100097.nc\n",
      "POINT(-61.096900939941406 14.548100471496582)\n",
      "200  results found\n"
     ]
    },
    {
     "name": "stderr",
     "output_type": "stream",
     "text": [
      " 32%|███▏      | 803/2487 [1:14:50<1:44:29,  3.72s/it]"
     ]
    },
    {
     "name": "stdout",
     "output_type": "stream",
     "text": [
      "\n",
      " GL_WS_MO_6200069.nc\n",
      "GL_WS_MO_6200069.nc does not have any of the variables ['VHM0', 'VAVH', 'WSPD']\n",
      "\n",
      " GL_TS_MO_MEDS002.nc\n",
      "GL_TS_MO_MEDS002.nc does not have any valid data for this timeperiod\n",
      "\n",
      " NO_TS_MO_HonteSloehaven.nc\n",
      "NO_TS_MO_HonteSloehaven.nc is too close to land\n",
      "\n",
      " GL_TS_MO_WEL260.nc\n",
      "GL_TS_MO_WEL260.nc does not have any valid data for this timeperiod\n",
      "\n",
      " GL_TS_MO_6202402.nc\n",
      "POINT(-25.721330642700195 37.72549819946289)\n",
      "241  results found\n"
     ]
    },
    {
     "name": "stderr",
     "output_type": "stream",
     "text": [
      " 32%|███▏      | 808/2487 [1:15:06<1:31:51,  3.28s/it]"
     ]
    },
    {
     "name": "stdout",
     "output_type": "stream",
     "text": [
      "\n",
      " GL_WS_MO_46232.nc\n",
      "GL_WS_MO_46232.nc does not have any of the variables ['VHM0', 'VAVH', 'WSPD']\n",
      "\n",
      " GL_TS_MO_WEL257.nc\n",
      "GL_TS_MO_WEL257.nc does not have any valid data for this timeperiod\n",
      "\n",
      " GL_TS_MO_ANTARES.nc\n",
      "GL_TS_MO_ANTARES.nc does not have any of the variables ['VHM0', 'VAVH', 'WSPD']\n",
      "\n",
      " GL_TS_MO_44013.nc\n",
      "GL_TS_MO_44013.nc does not have any valid data for this timeperiod\n",
      "POINT(-70.6510009765625 42.34600067138672)\n",
      "82  results found\n"
     ]
    },
    {
     "name": "stderr",
     "output_type": "stream",
     "text": [
      " 33%|███▎      | 809/2487 [1:15:17<2:01:20,  4.34s/it]"
     ]
    },
    {
     "name": "stdout",
     "output_type": "stream",
     "text": [
      "\n",
      " GL_TS_MO_41109.nc\n",
      "GL_TS_MO_41109.nc does not have any valid data for this timeperiod\n",
      "\n",
      " GL_TS_MO_MEDS210.nc\n",
      "GL_TS_MO_MEDS210.nc does not have any valid data for this timeperiod\n",
      "\n",
      " GL_TS_MO_42012.nc\n",
      "GL_TS_MO_42012.nc does not have any valid data for this timeperiod\n",
      "POLYGON((-87.5510025024414 30.059999465942383,-87.5510025024414 30.06399917602539,-87.5479965209961 30.06399917602539,-87.5479965209961 30.059999465942383,-87.5510025024414 30.059999465942383))\n",
      "28  results found\n"
     ]
    },
    {
     "name": "stderr",
     "output_type": "stream",
     "text": [
      " 33%|███▎      | 812/2487 [1:16:19<4:57:17, 10.65s/it]"
     ]
    },
    {
     "name": "stdout",
     "output_type": "stream",
     "text": [
      "\n",
      " GL_TS_MO_ssbn7.nc\n",
      "POINT(-78.48400115966797 33.8380012512207)\n",
      "30  results found\n"
     ]
    },
    {
     "name": "stderr",
     "output_type": "stream",
     "text": [
      " 33%|███▎      | 813/2487 [1:16:27<4:45:22, 10.23s/it]"
     ]
    },
    {
     "name": "stdout",
     "output_type": "stream",
     "text": [
      "\n",
      " GL_TS_MO_2300453.nc\n",
      "POLYGON((73.25199890136719 8.156999588012695,73.25199890136719 8.185999870300293,73.2300033569336 8.185999870300293,73.2300033569336 8.156999588012695,73.25199890136719 8.156999588012695))\n"
     ]
    },
    {
     "name": "stderr",
     "output_type": "stream",
     "text": [
      " 33%|███▎      | 815/2487 [1:16:32<3:38:51,  7.85s/it]"
     ]
    },
    {
     "name": "stdout",
     "output_type": "stream",
     "text": [
      "0  results found\n",
      "\n",
      " GL_TS_MO_48216.nc\n",
      "GL_TS_MO_48216.nc does not have any valid data for this timeperiod\n",
      "GL_TS_MO_48216.nc does not have any valid data for this timeperiod\n",
      "\n",
      " AR_TS_MO_Gunnarsholmen-25-55.nc\n",
      "AR_TS_MO_Gunnarsholmen-25-55.nc does not have any of the variables ['VHM0', 'VAVH', 'WSPD']\n",
      "\n",
      " GL_TS_MO_46222.nc\n",
      "POINT(-118.31700134277344 33.61800003051758)\n",
      "173  results found\n"
     ]
    },
    {
     "name": "stderr",
     "output_type": "stream",
     "text": [
      " 33%|███▎      | 817/2487 [1:16:41<3:11:20,  6.87s/it]"
     ]
    },
    {
     "name": "stdout",
     "output_type": "stream",
     "text": [
      "\n",
      " NO_TS_MO_Haringvliet10.nc\n",
      "NO_TS_MO_Haringvliet10.nc does not have any of the variables ['VHM0', 'VAVH', 'WSPD']\n",
      "\n",
      " GL_TS_MO_MEDS143.nc\n",
      "GL_TS_MO_MEDS143.nc does not have any valid data for this timeperiod\n",
      "\n",
      " GL_TS_MO_GoodrichBank01.nc\n",
      "POLYGON((129.9999237060547 -10.417550086975098,129.9999237060547 -10.415519714355469,130.0018768310547 -10.415519714355469,130.0018768310547 -10.417550086975098,129.9999237060547 -10.417550086975098))\n",
      "29  results found\n"
     ]
    },
    {
     "name": "stderr",
     "output_type": "stream",
     "text": [
      " 33%|███▎      | 823/2487 [1:16:53<1:41:47,  3.67s/it]"
     ]
    },
    {
     "name": "stdout",
     "output_type": "stream",
     "text": [
      "\n",
      " NO_TS_MO_FINO3FerryBox.nc\n",
      "NO_TS_MO_FINO3FerryBox.nc does not have any of the variables ['VHM0', 'VAVH', 'WSPD']\n",
      "\n",
      " AR_TS_MO_Snorre-B.nc\n",
      "AR_TS_MO_Snorre-B.nc does not have any valid data for this timeperiod\n",
      "\n",
      " GL_WS_MO_42055.nc\n",
      "GL_WS_MO_42055.nc does not have any of the variables ['VHM0', 'VAVH', 'WSPD']\n",
      "\n",
      " GL_TS_MO_Esperance03.nc\n",
      "GL_TS_MO_Esperance03.nc does not have any valid data for this timeperiod\n",
      "\n",
      " AR_TS_MO_Reykjavik.nc\n",
      "AR_TS_MO_Reykjavik.nc does not have any of the variables ['VHM0', 'VAVH', 'WSPD']\n",
      "\n",
      " GL_TS_MO_7100061.nc\n",
      "GL_TS_MO_7100061.nc does not have any of the variables ['VHM0', 'VAVH', 'WSPD']\n",
      "\n",
      " GL_TS_MO_52087.nc\n",
      "POLYGON((136.48399353027344 7.883999824523926,136.48399353027344 7.86299991607666,136.50599670410156 7.86299991607666,136.50599670410156 7.883999824523926,136.48399353027344 7.883999824523926))\n"
     ]
    },
    {
     "name": "stderr",
     "output_type": "stream",
     "text": [
      " 33%|███▎      | 827/2487 [1:17:05<1:33:44,  3.39s/it]"
     ]
    },
    {
     "name": "stdout",
     "output_type": "stream",
     "text": [
      "1  results found\n",
      "\n",
      " NO_TS_MO_Schouwenbank.nc\n",
      "POINT(3.311666965484619 51.74833297729492)\n",
      "232  results found\n"
     ]
    },
    {
     "name": "stderr",
     "output_type": "stream",
     "text": [
      " 33%|███▎      | 828/2487 [1:17:23<2:23:08,  5.18s/it]"
     ]
    },
    {
     "name": "stdout",
     "output_type": "stream",
     "text": [
      "\n",
      " IR_WS_MO_6100198.nc\n",
      "IR_WS_MO_6100198.nc does not have any of the variables ['VHM0', 'VAVH', 'WSPD']\n",
      "\n",
      " GL_TS_MO_13009.nc\n",
      "GL_TS_MO_13009.nc does not have any valid data for this timeperiod\n",
      "\n",
      " GL_TS_MO_3101508.nc\n",
      "GL_TS_MO_3101508.nc does not have any of the variables ['VHM0', 'VAVH', 'WSPD']\n",
      "\n",
      " GL_TS_MO_46001.nc\n",
      "GL_TS_MO_46001.nc does not have any valid data for this timeperiod\n",
      "POLYGON((-147.9199981689453 56.231998443603516,-147.9199981689453 56.30400085449219,-147.94900512695312 56.30400085449219,-147.94900512695312 56.231998443603516,-147.9199981689453 56.231998443603516))\n"
     ]
    },
    {
     "name": "stderr",
     "output_type": "stream",
     "text": [
      " 34%|███▎      | 835/2487 [1:17:34<1:19:47,  2.90s/it]"
     ]
    },
    {
     "name": "stdout",
     "output_type": "stream",
     "text": [
      "0  results found\n",
      "\n",
      " GL_TS_MO_WEL307.nc\n",
      "GL_TS_MO_WEL307.nc does not have any valid data for this timeperiod\n",
      "\n",
      " AR_TS_MO_BSO5.nc\n",
      "AR_TS_MO_BSO5.nc does not have any of the variables ['VHM0', 'VAVH', 'WSPD']\n",
      "\n",
      " BS_TS_MO_Primorskoe.nc\n",
      "BS_TS_MO_Primorskoe.nc does not have any valid data for this timeperiod\n",
      "\n",
      " GL_TS_MO_56014.nc\n",
      "POINT(115.56999969482422 -32.45000076293945)\n"
     ]
    },
    {
     "name": "stderr",
     "output_type": "stream",
     "text": [
      " 34%|███▎      | 837/2487 [1:17:43<1:31:17,  3.32s/it]"
     ]
    },
    {
     "name": "stdout",
     "output_type": "stream",
     "text": [
      "58  results found\n",
      "\n",
      " GL_TS_MO_62444.nc\n",
      "GL_TS_MO_62444.nc does not have any of the variables ['VHM0', 'VAVH', 'WSPD']\n",
      "\n",
      " GL_TS_MO_Dawesville02.nc\n",
      "GL_TS_MO_Dawesville02.nc does not have any valid data for this timeperiod\n",
      "\n",
      " IR_TS_MO_Pasajes-coast-buoy.nc\n",
      "IR_TS_MO_Pasajes-coast-buoy.nc does not have any valid data for this timeperiod\n",
      "IR_TS_MO_Pasajes-coast-buoy.nc does not have any valid data for this timeperiod\n",
      "\n",
      " GL_TS_MO_IF000549.nc\n",
      "GL_TS_MO_IF000549.nc does not have any of the variables ['VHM0', 'VAVH', 'WSPD']\n",
      "\n",
      " GL_TS_MO_46225.nc\n",
      "POINT(-117.39099884033203 32.93299865722656)\n"
     ]
    },
    {
     "name": "stderr",
     "output_type": "stream",
     "text": [
      " 34%|███▎      | 837/2487 [1:17:57<1:31:17,  3.32s/it]"
     ]
    },
    {
     "name": "stdout",
     "output_type": "stream",
     "text": [
      "115  results found\n"
     ]
    },
    {
     "name": "stderr",
     "output_type": "stream",
     "text": [
      " 34%|███▍      | 841/2487 [1:17:58<1:34:12,  3.43s/it]"
     ]
    },
    {
     "name": "stdout",
     "output_type": "stream",
     "text": [
      "\n",
      " GL_TS_MO_WEL334.nc\n",
      "GL_TS_MO_WEL334.nc does not have any valid data for this timeperiod\n",
      "\n",
      " GL_WS_MO_41044.nc\n",
      "GL_WS_MO_41044.nc does not have any of the variables ['VHM0', 'VAVH', 'WSPD']\n",
      "\n",
      " GL_WS_MO_45004.nc\n",
      "GL_WS_MO_45004.nc does not have any of the variables ['VHM0', 'VAVH', 'WSPD']\n",
      "\n",
      " NO_TS_MO_6200170.nc\n",
      "POINT(2.0 51.2400016784668)\n",
      "234  results found\n"
     ]
    },
    {
     "name": "stderr",
     "output_type": "stream",
     "text": [
      " 34%|███▍      | 845/2487 [1:18:10<1:29:26,  3.27s/it]"
     ]
    },
    {
     "name": "stdout",
     "output_type": "stream",
     "text": [
      "\n",
      " NO_TS_MO_6200165.nc\n",
      "POINT(1.100000023841858 54.0)\n",
      "215  results found\n"
     ]
    },
    {
     "name": "stderr",
     "output_type": "stream",
     "text": [
      " 34%|███▍      | 850/2487 [1:18:23<1:12:36,  2.66s/it]"
     ]
    },
    {
     "name": "stdout",
     "output_type": "stream",
     "text": [
      "\n",
      " BO_TS_MO_Kopparstenarna.nc\n",
      "BO_TS_MO_Kopparstenarna.nc does not have any valid data for this timeperiod\n",
      "\n",
      " GL_TS_MO_Mandurah.nc\n",
      "GL_TS_MO_Mandurah.nc does not have any valid data for this timeperiod\n",
      "\n",
      " GL_TS_MO_5500061.nc\n",
      "GL_TS_MO_5500061.nc does not have any of the variables ['VHM0', 'VAVH', 'WSPD']\n",
      "\n",
      " GL_WS_MO_6200067.nc\n",
      "GL_WS_MO_6200067.nc does not have any of the variables ['VHM0', 'VAVH', 'WSPD']\n",
      "\n",
      " GL_TS_MO_IF000601.nc\n",
      "GL_TS_MO_IF000601.nc does not have any of the variables ['VHM0', 'VAVH', 'WSPD']\n",
      "\n",
      " NO_TS_MO_6200121.nc\n",
      "POINT(2.700000047683716 53.5)\n",
      "230  results found\n"
     ]
    },
    {
     "name": "stderr",
     "output_type": "stream",
     "text": [
      " 34%|███▍      | 852/2487 [1:18:34<1:30:31,  3.32s/it]"
     ]
    },
    {
     "name": "stdout",
     "output_type": "stream",
     "text": [
      "\n",
      " GL_TS_MO_41159.nc\n",
      "POINT(-76.9489974975586 34.2130012512207)\n",
      "27  results found\n"
     ]
    },
    {
     "name": "stderr",
     "output_type": "stream",
     "text": [
      " 34%|███▍      | 853/2487 [1:18:43<1:49:52,  4.03s/it]"
     ]
    },
    {
     "name": "stdout",
     "output_type": "stream",
     "text": [
      "\n",
      " GL_WS_MO_44025.nc\n",
      "GL_WS_MO_44025.nc does not have any of the variables ['VHM0', 'VAVH', 'WSPD']\n",
      "\n",
      " GL_TS_MO_31374.nc\n",
      "GL_TS_MO_31374.nc does not have any valid data for this timeperiod\n",
      "\n",
      " GL_TS_MO_41049.nc\n",
      "GL_TS_MO_41049.nc does not have any valid data for this timeperiod\n",
      "POINT(-62.9379997253418 27.489999771118164)\n"
     ]
    },
    {
     "name": "stderr",
     "output_type": "stream",
     "text": [
      " 34%|███▍      | 857/2487 [1:18:50<1:20:18,  2.96s/it]"
     ]
    },
    {
     "name": "stdout",
     "output_type": "stream",
     "text": [
      "0  results found\n",
      "\n",
      " IR_TS_MO_6200191.nc\n",
      "IR_TS_MO_6200191.nc does not have any valid data for this timeperiod\n",
      "IR_TS_MO_6200191.nc does not have any valid data for this timeperiod\n",
      "\n",
      " GL_TS_MO_MEDS200.nc\n",
      "GL_TS_MO_MEDS200.nc does not have any valid data for this timeperiod\n",
      "\n",
      " IR_TS_MO_6100198.nc\n",
      "IR_TS_MO_6100198.nc does not have any valid data for this timeperiod\n",
      "POLYGON((-2.3450000286102295 36.56439971923828,-2.3450000286102295 36.57619857788086,-2.3357999324798584 36.57619857788086,-2.3357999324798584 36.56439971923828,-2.3450000286102295 36.56439971923828))\n",
      "120  results found\n"
     ]
    },
    {
     "name": "stderr",
     "output_type": "stream",
     "text": [
      " 35%|███▍      | 862/2487 [1:19:46<2:52:04,  6.35s/it]"
     ]
    },
    {
     "name": "stdout",
     "output_type": "stream",
     "text": [
      "\n",
      " GL_TS_MO_MEDS023.nc\n",
      "GL_TS_MO_MEDS023.nc does not have any valid data for this timeperiod\n",
      "\n",
      " GL_WS_MO_51209.nc\n",
      "GL_WS_MO_51209.nc does not have any of the variables ['VHM0', 'VAVH', 'WSPD']\n",
      "\n",
      " GL_TS_MO_45140.nc\n",
      "GL_TS_MO_45140.nc does not have any valid data for this timeperiod\n",
      "GL_TS_MO_45140.nc does not have any valid data for this timeperiod\n",
      "\n",
      " GL_TS_MO_MOVE5.nc\n",
      "GL_TS_MO_MOVE5.nc does not have any of the variables ['VHM0', 'VAVH', 'WSPD']\n",
      "\n",
      " GL_TS_MO_41112.nc\n",
      "POINT(-81.29199981689453 30.708999633789062)\n",
      "29  results found\n"
     ]
    },
    {
     "name": "stderr",
     "output_type": "stream",
     "text": [
      " 35%|███▍      | 864/2487 [1:19:56<2:41:47,  5.98s/it]"
     ]
    },
    {
     "name": "stdout",
     "output_type": "stream",
     "text": [
      "\n",
      " GL_TS_MO_46094.nc\n",
      "GL_TS_MO_46094.nc does not have any valid data for this timeperiod\n",
      "\n",
      " NO_TS_MO_Trapegeer.nc\n",
      "POINT(2.5829999446868896 51.13800048828125)\n"
     ]
    },
    {
     "name": "stderr",
     "output_type": "stream",
     "text": [
      " 35%|███▍      | 864/2487 [1:20:07<2:41:47,  5.98s/it]"
     ]
    },
    {
     "name": "stdout",
     "output_type": "stream",
     "text": [
      "234  results found\n"
     ]
    },
    {
     "name": "stderr",
     "output_type": "stream",
     "text": [
      " 35%|███▍      | 868/2487 [1:20:29<2:51:03,  6.34s/it]"
     ]
    },
    {
     "name": "stdout",
     "output_type": "stream",
     "text": [
      "\n",
      " GL_WS_MO_42040.nc\n",
      "GL_WS_MO_42040.nc does not have any of the variables ['VHM0', 'VAVH', 'WSPD']\n",
      "\n",
      " GL_TS_MO_42084.nc\n",
      "GL_TS_MO_42084.nc does not have any valid data for this timeperiod\n",
      "\n",
      " GL_TS_MO_EXIN0002.nc\n",
      "GL_TS_MO_EXIN0002.nc does not have any of the variables ['VHM0', 'VAVH', 'WSPD']\n",
      "\n",
      " GL_TS_MO_MEDS103.nc\n",
      "GL_TS_MO_MEDS103.nc does not have any valid data for this timeperiod\n",
      "\n",
      " AR_TS_MO_Granefeltet.nc\n"
     ]
    },
    {
     "name": "stderr",
     "output_type": "stream",
     "text": [
      " 35%|███▌      | 871/2487 [1:20:29<1:46:27,  3.95s/it]"
     ]
    },
    {
     "name": "stdout",
     "output_type": "stream",
     "text": [
      "AR_TS_MO_Granefeltet.nc does not have any valid data for this timeperiod\n",
      "\n",
      " GL_TS_MO_4801693.nc\n",
      "GL_TS_MO_4801693.nc does not have any of the variables ['VHM0', 'VAVH', 'WSPD']\n",
      "\n",
      " GL_TS_MO_41101.nc\n",
      "GL_TS_MO_41101.nc does not have any valid data for this timeperiod\n",
      "\n",
      " NO_TS_MO_BolVanHeist.nc\n",
      "POINT(3.2005999088287354 51.39189910888672)\n"
     ]
    },
    {
     "name": "stderr",
     "output_type": "stream",
     "text": [
      " 35%|███▌      | 871/2487 [1:20:47<1:46:27,  3.95s/it]"
     ]
    },
    {
     "name": "stdout",
     "output_type": "stream",
     "text": [
      "233  results found\n"
     ]
    },
    {
     "name": "stderr",
     "output_type": "stream",
     "text": [
      " 35%|███▌      | 874/2487 [1:20:49<2:12:29,  4.93s/it]"
     ]
    },
    {
     "name": "stdout",
     "output_type": "stream",
     "text": [
      "\n",
      " NO_TS_MO_6201028.nc\n",
      "NO_TS_MO_6201028.nc does not have any valid data for this timeperiod\n",
      "\n",
      " GL_TS_MO_6801021.nc\n",
      "GL_TS_MO_6801021.nc does not have any of the variables ['VHM0', 'VAVH', 'WSPD']\n",
      "\n",
      " GL_TS_MO_WEL269.nc\n",
      "GL_TS_MO_WEL269.nc does not have any valid data for this timeperiod\n",
      "\n",
      " GL_TS_MO_51202.nc\n",
      "POINT(-157.67999267578125 21.41699981689453)\n",
      "117  results found\n"
     ]
    },
    {
     "name": "stderr",
     "output_type": "stream",
     "text": [
      " 35%|███▌      | 878/2487 [1:20:56<1:38:44,  3.68s/it]"
     ]
    },
    {
     "name": "stdout",
     "output_type": "stream",
     "text": [
      "\n",
      " GL_WS_MO_46012.nc\n",
      "GL_WS_MO_46012.nc does not have any of the variables ['VHM0', 'VAVH', 'WSPD']\n",
      "\n",
      " GL_TS_MO_46118.nc\n",
      "GL_TS_MO_46118.nc does not have any valid data for this timeperiod\n",
      "\n",
      " GL_TS_MO_42098.nc\n",
      "POINT(-82.93099975585938 27.59000015258789)\n",
      "28  results found\n"
     ]
    },
    {
     "name": "stderr",
     "output_type": "stream",
     "text": [
      " 36%|███▌      | 883/2487 [1:21:06<1:14:16,  2.78s/it]"
     ]
    },
    {
     "name": "stdout",
     "output_type": "stream",
     "text": [
      "\n",
      " GL_WS_MO_svls1.nc\n",
      "GL_WS_MO_svls1.nc does not have any of the variables ['VHM0', 'VAVH', 'WSPD']\n",
      "\n",
      " NO_TS_MO_ScheurOost.nc\n",
      "NO_TS_MO_ScheurOost.nc does not have any valid data for this timeperiod\n",
      "NO_TS_MO_ScheurOost.nc does not have any valid data for this timeperiod\n",
      "\n",
      " NO_TS_MO_6200150.nc\n",
      "POINT(0.699999988079071 53.599998474121094)\n",
      "215  results found\n"
     ]
    },
    {
     "name": "stderr",
     "output_type": "stream",
     "text": [
      " 36%|███▌      | 885/2487 [1:21:16<1:27:53,  3.29s/it]"
     ]
    },
    {
     "name": "stdout",
     "output_type": "stream",
     "text": [
      "\n",
      " GL_TS_MO_45147.nc\n",
      "GL_TS_MO_45147.nc does not have any valid data for this timeperiod\n",
      "GL_TS_MO_45147.nc is too close to land\n",
      "\n",
      " NO_TS_MO_OverloopVanValkenisse.nc\n"
     ]
    },
    {
     "name": "stderr",
     "output_type": "stream",
     "text": [
      " 36%|███▌      | 889/2487 [1:21:16<46:40,  1.75s/it]  "
     ]
    },
    {
     "name": "stdout",
     "output_type": "stream",
     "text": [
      "NO_TS_MO_OverloopVanValkenisse.nc is too close to land\n",
      "\n",
      " GL_TS_MO_46048.nc\n",
      "GL_TS_MO_46048.nc does not have any valid data for this timeperiod\n",
      "GL_TS_MO_46048.nc does not have any valid data for this timeperiod\n",
      "\n",
      " GL_TS_MO_42017.nc\n",
      "GL_TS_MO_42017.nc does not have any valid data for this timeperiod\n",
      "GL_TS_MO_42017.nc does not have any valid data for this timeperiod\n",
      "\n",
      " GL_TS_MO_MEDS265.nc\n",
      "GL_TS_MO_MEDS265.nc does not have any valid data for this timeperiod\n",
      "\n",
      " GL_WS_MO_51000.nc\n",
      "GL_WS_MO_51000.nc does not have any of the variables ['VHM0', 'VAVH', 'WSPD']\n",
      "\n",
      " GL_TS_MO_Geraldton03.nc\n",
      "GL_TS_MO_Geraldton03.nc does not have any valid data for this timeperiod\n",
      "\n",
      " GL_TS_MO_WEL412.nc\n"
     ]
    },
    {
     "name": "stderr",
     "output_type": "stream",
     "text": [
      " 36%|███▌      | 893/2487 [1:21:16<27:09,  1.02s/it]"
     ]
    },
    {
     "name": "stdout",
     "output_type": "stream",
     "text": [
      "GL_TS_MO_WEL412.nc does not have any valid data for this timeperiod\n",
      "\n",
      " AR_TS_MO_Tempelfjorden.nc\n",
      "AR_TS_MO_Tempelfjorden.nc does not have any of the variables ['VHM0', 'VAVH', 'WSPD']\n",
      "\n",
      " GL_WS_MO_46062.nc\n",
      "GL_WS_MO_46062.nc does not have any of the variables ['VHM0', 'VAVH', 'WSPD']\n",
      "\n",
      " AR_TS_MO_Almenningen-bybad-36-89.nc\n",
      "AR_TS_MO_Almenningen-bybad-36-89.nc does not have any of the variables ['VHM0', 'VAVH', 'WSPD']\n",
      "\n",
      " IR_WS_MO_6100280.nc\n",
      "IR_WS_MO_6100280.nc does not have any of the variables ['VHM0', 'VAVH', 'WSPD']\n",
      "\n",
      " GL_TS_MO_17178.nc\n",
      "GL_TS_MO_17178.nc does not have any of the variables ['VHM0', 'VAVH', 'WSPD']\n",
      "\n",
      " GL_TS_MO_46087.nc\n",
      "GL_TS_MO_46087.nc does not have any valid data for this timeperiod\n"
     ]
    },
    {
     "name": "stderr",
     "output_type": "stream",
     "text": [
      " 36%|███▌      | 898/2487 [1:21:17<15:50,  1.67it/s]"
     ]
    },
    {
     "name": "stdout",
     "output_type": "stream",
     "text": [
      "GL_TS_MO_46087.nc does not have any valid data for this timeperiod\n",
      "\n",
      " GL_TS_MO_6202404.nc\n",
      "POINT(-28.537670135498047 38.587669372558594)\n",
      "120  results found\n"
     ]
    },
    {
     "name": "stderr",
     "output_type": "stream",
     "text": [
      " 36%|███▋      | 904/2487 [1:21:27<26:02,  1.01it/s]"
     ]
    },
    {
     "name": "stdout",
     "output_type": "stream",
     "text": [
      "\n",
      " GL_TS_MO_MBARI-M2.nc\n",
      "GL_TS_MO_MBARI-M2.nc does not have any valid data for this timeperiod\n",
      "\n",
      " NO_TS_MO_6201572.nc\n",
      "NO_TS_MO_6201572.nc does not have any of the variables ['VHM0', 'VAVH', 'WSPD']\n",
      "\n",
      " BO_TS_MO_Grundkallen.nc\n",
      "BO_TS_MO_Grundkallen.nc does not have any valid data for this timeperiod\n",
      "\n",
      " NO_TS_MO_PerranporthMET.nc\n",
      "NO_TS_MO_PerranporthMET.nc does not have any valid data for this timeperiod\n",
      "\n",
      " GL_TS_MO_WEL256.nc\n",
      "GL_TS_MO_WEL256.nc does not have any valid data for this timeperiod\n",
      "\n",
      " GL_TS_MO_52085.nc\n"
     ]
    },
    {
     "name": "stderr",
     "output_type": "stream",
     "text": [
      " 37%|███▋      | 910/2487 [1:21:27<13:49,  1.90it/s]"
     ]
    },
    {
     "name": "stdout",
     "output_type": "stream",
     "text": [
      "GL_TS_MO_52085.nc does not have any valid data for this timeperiod\n",
      "\n",
      " GL_TS_MO_2600515.nc\n",
      "GL_TS_MO_2600515.nc does not have any of the variables ['VHM0', 'VAVH', 'WSPD']\n",
      "\n",
      " AR_TS_MO_Isfjorden-O.nc\n",
      "AR_TS_MO_Isfjorden-O.nc does not have any of the variables ['VHM0', 'VAVH', 'WSPD']\n",
      "\n",
      " GL_TS_MO_WEL352.nc\n",
      "GL_TS_MO_WEL352.nc does not have any valid data for this timeperiod\n",
      "\n",
      " NO_TS_MO_Amelander31.nc\n",
      "NO_TS_MO_Amelander31.nc does not have any valid data for this timeperiod\n",
      "NO_TS_MO_Amelander31.nc does not have any valid data for this timeperiod\n",
      "\n",
      " GL_TS_MO_MEDS215.nc\n",
      "GL_TS_MO_MEDS215.nc does not have any valid data for this timeperiod\n",
      "\n",
      " GL_TS_MO_5601012.nc\n",
      "GL_TS_MO_5601012.nc does not have any of the variables ['VHM0', 'VAVH', 'WSPD']\n",
      "\n",
      " BO_TS_MO_Havstensfjord.nc\n",
      "BO_TS_MO_Havstensfjord.nc does not have any valid data for this timeperiod\n",
      "\n",
      " GL_TS_MO_46100.nc\n",
      "GL_TS_MO_46100.nc does not have any valid data for this timeperiod\n",
      "POINT(-124.97200012207031 46.85100173950195)\n",
      "86  results found\n"
     ]
    },
    {
     "name": "stderr",
     "output_type": "stream",
     "text": [
      " 37%|███▋      | 913/2487 [1:21:39<40:42,  1.55s/it]"
     ]
    },
    {
     "name": "stdout",
     "output_type": "stream",
     "text": [
      "\n",
      " GL_WS_MO_41108.nc\n",
      "GL_WS_MO_41108.nc does not have any of the variables ['VHM0', 'VAVH', 'WSPD']\n",
      "\n",
      " GL_TS_MO_46041.nc\n",
      "GL_TS_MO_46041.nc does not have any valid data for this timeperiod\n",
      "POINT(-124.74199676513672 47.35300064086914)\n",
      "57  results found\n"
     ]
    },
    {
     "name": "stderr",
     "output_type": "stream",
     "text": [
      " 37%|███▋      | 915/2487 [1:21:49<1:00:14,  2.30s/it]"
     ]
    },
    {
     "name": "stdout",
     "output_type": "stream",
     "text": [
      "\n",
      " MO_TS_MO_ADN-DWRG1.nc\n",
      "POINT(13.248000144958496 45.56549835205078)\n",
      "224  results found\n"
     ]
    },
    {
     "name": "stderr",
     "output_type": "stream",
     "text": [
      " 37%|███▋      | 919/2487 [1:22:03<1:06:10,  2.53s/it]"
     ]
    },
    {
     "name": "stdout",
     "output_type": "stream",
     "text": [
      "\n",
      " GL_TS_MO_IF000997.nc\n",
      "GL_TS_MO_IF000997.nc does not have any valid data for this timeperiod\n",
      "\n",
      " MO_TS_MO_SON-BLANC.nc\n",
      "MO_TS_MO_SON-BLANC.nc does not have any valid data for this timeperiod\n",
      "\n",
      " GL_TS_MO_91328.nc\n",
      "GL_TS_MO_91328.nc does not have any valid data for this timeperiod\n",
      "\n",
      " GL_TS_MO_42053.nc\n",
      "GL_TS_MO_42053.nc does not have any valid data for this timeperiod\n",
      "GL_TS_MO_42053.nc does not have any valid data for this timeperiod\n",
      "\n",
      " MO_TS_MO_ADN-E2M3A.nc\n",
      "POINT(18.082416534423828 41.5276985168457)\n",
      "232  results found\n"
     ]
    },
    {
     "name": "stderr",
     "output_type": "stream",
     "text": [
      " 37%|███▋      | 921/2487 [1:22:14<1:25:01,  3.26s/it]"
     ]
    },
    {
     "name": "stdout",
     "output_type": "stream",
     "text": [
      "\n",
      " AR_TS_MO_Eivindsvatnet-36-103.nc\n",
      "AR_TS_MO_Eivindsvatnet-36-103.nc does not have any of the variables ['VHM0', 'VAVH', 'WSPD']\n",
      "\n",
      " AR_TS_MO_Kanalparken-9-23.nc\n",
      "AR_TS_MO_Kanalparken-9-23.nc does not have any of the variables ['VHM0', 'VAVH', 'WSPD']\n",
      "\n",
      " AR_TS_MO_BSO2.nc\n",
      "AR_TS_MO_BSO2.nc does not have any of the variables ['VHM0', 'VAVH', 'WSPD']\n",
      "\n",
      " BS_TS_MO_WAVEB05.nc\n",
      "POINT(27.906700134277344 42.6963996887207)\n",
      "177  results found\n"
     ]
    },
    {
     "name": "stderr",
     "output_type": "stream",
     "text": [
      " 37%|███▋      | 929/2487 [1:22:26<51:35,  1.99s/it]  "
     ]
    },
    {
     "name": "stdout",
     "output_type": "stream",
     "text": [
      "\n",
      " GL_TS_MO_MEDS121.nc\n",
      "GL_TS_MO_MEDS121.nc does not have any valid data for this timeperiod\n",
      "\n",
      " GL_TS_MO_MEDS127.nc\n",
      "GL_TS_MO_MEDS127.nc does not have any valid data for this timeperiod\n",
      "\n",
      " GL_WS_MO_44009.nc\n",
      "GL_WS_MO_44009.nc does not have any of the variables ['VHM0', 'VAVH', 'WSPD']\n",
      "\n",
      " GL_TS_MO_3100051.nc\n",
      "GL_TS_MO_3100051.nc does not have any valid data for this timeperiod\n",
      "\n",
      " GL_TS_MO_53056.nc\n",
      "POINT(95.0 -5.0)\n"
     ]
    },
    {
     "name": "stderr",
     "output_type": "stream",
     "text": [
      " 37%|███▋      | 932/2487 [1:22:34<56:52,  2.19s/it]"
     ]
    },
    {
     "name": "stdout",
     "output_type": "stream",
     "text": [
      "0  results found\n",
      "\n",
      " IR_WS_MO_6200024.nc\n",
      "IR_WS_MO_6200024.nc does not have any of the variables ['VHM0', 'VAVH', 'WSPD']\n",
      "\n",
      " GL_TS_MO_WEL347.nc\n",
      "GL_TS_MO_WEL347.nc does not have any valid data for this timeperiod\n",
      "\n",
      " GL_TS_MO_22498.nc\n",
      "GL_TS_MO_22498.nc does not have any valid data for this timeperiod\n",
      "\n",
      " NO_TS_MO_HoekVanHolland.nc\n",
      "NO_TS_MO_HoekVanHolland.nc does not have any of the variables ['VHM0', 'VAVH', 'WSPD']\n",
      "\n",
      " AR_TS_MO_Kjelavika-37-91.nc\n",
      "AR_TS_MO_Kjelavika-37-91.nc does not have any of the variables ['VHM0', 'VAVH', 'WSPD']\n",
      "\n",
      " BS_TS_MO_UGSB.nc\n",
      "POINT(41.599998474121094 41.63330078125)\n",
      "173  results found\n"
     ]
    },
    {
     "name": "stderr",
     "output_type": "stream",
     "text": [
      " 38%|███▊      | 940/2487 [1:22:47<43:53,  1.70s/it]  "
     ]
    },
    {
     "name": "stdout",
     "output_type": "stream",
     "text": [
      "\n",
      " GL_TS_MO_6200055.nc\n",
      "GL_TS_MO_6200055.nc does not have any of the variables ['VHM0', 'VAVH', 'WSPD']\n",
      "\n",
      " MO_TS_MO_LESVO.nc\n",
      "MO_TS_MO_LESVO.nc does not have any valid data for this timeperiod\n",
      "MO_TS_MO_LESVO.nc does not have any valid data for this timeperiod\n",
      "\n",
      " GL_WS_MO_46146.nc\n",
      "GL_WS_MO_46146.nc does not have any of the variables ['VHM0', 'VAVH', 'WSPD']\n",
      "\n",
      " GL_TS_MO_C6S62.nc\n",
      "GL_TS_MO_C6S62.nc does not have any valid data for this timeperiod\n",
      "\n",
      " NO_TS_MO_Akkaert.nc\n",
      "POINT(2.819000005722046 51.41600036621094)\n",
      "233  results found\n"
     ]
    },
    {
     "name": "stderr",
     "output_type": "stream",
     "text": [
      " 38%|███▊      | 946/2487 [1:23:02<47:39,  1.86s/it]  "
     ]
    },
    {
     "name": "stdout",
     "output_type": "stream",
     "text": [
      "\n",
      " GL_TS_MO_MEDS069.nc\n",
      "GL_TS_MO_MEDS069.nc does not have any valid data for this timeperiod\n",
      "\n",
      " GL_TS_MO_44084.nc\n",
      "GL_TS_MO_44084.nc does not have any valid data for this timeperiod\n",
      "\n",
      " GL_TS_MO_WEL409.nc\n",
      "GL_TS_MO_WEL409.nc does not have any valid data for this timeperiod\n",
      "\n",
      " GL_TS_MO_45187.nc\n",
      "GL_TS_MO_45187.nc does not have any valid data for this timeperiod\n",
      "GL_TS_MO_45187.nc does not have any valid data for this timeperiod\n",
      "\n",
      " GL_TS_MO_4100134.nc\n",
      "GL_TS_MO_4100134.nc does not have any of the variables ['VHM0', 'VAVH', 'WSPD']\n",
      "\n",
      " IR_TS_MO_6101061.nc\n",
      "POINT(-9.024328231811523 42.75634002685547)\n",
      "171  results found\n",
      "\n",
      " GL_TS_MO_2300491.nc\n",
      "POLYGON((92.59500122070312 11.592000007629395,92.59500122070312 11.586000442504883,92.5999984741211 11.586000442504883,92.5999984741211 11.592000007629395,92.59500122070312 11.592000007629395))\n"
     ]
    },
    {
     "name": "stderr",
     "output_type": "stream",
     "text": [
      " 38%|███▊      | 946/2487 [1:23:17<47:39,  1.86s/it]"
     ]
    },
    {
     "name": "stdout",
     "output_type": "stream",
     "text": [
      "30  results found\n"
     ]
    },
    {
     "name": "stderr",
     "output_type": "stream",
     "text": [
      " 38%|███▊      | 953/2487 [1:23:25<57:25,  2.25s/it]  "
     ]
    },
    {
     "name": "stdout",
     "output_type": "stream",
     "text": [
      "\n",
      " BS_TS_MO_99040.nc\n",
      "BS_TS_MO_99040.nc does not have any of the variables ['VHM0', 'VAVH', 'WSPD']\n",
      "\n",
      " GL_WS_MO_45002.nc\n",
      "GL_WS_MO_45002.nc does not have any of the variables ['VHM0', 'VAVH', 'WSPD']\n",
      "\n",
      " GL_WS_MO_46208.nc\n",
      "GL_WS_MO_46208.nc does not have any of the variables ['VHM0', 'VAVH', 'WSPD']\n",
      "\n",
      " BS_TS_MO_37006.nc\n",
      "BS_TS_MO_37006.nc does not have any valid data for this timeperiod\n",
      "\n",
      " GL_TS_MO_46109.nc\n",
      "GL_TS_MO_46109.nc does not have any valid data for this timeperiod\n",
      "\n",
      " GL_TS_MO_44012.nc\n",
      "GL_TS_MO_44012.nc does not have any valid data for this timeperiod\n",
      "GL_TS_MO_44012.nc does not have any valid data for this timeperiod\n",
      "\n",
      " GL_TS_MO_42361.nc\n",
      "GL_TS_MO_42361.nc does not have any valid data for this timeperiod\n",
      "\n",
      " GL_WS_MO_46041.nc\n"
     ]
    },
    {
     "name": "stderr",
     "output_type": "stream",
     "text": [
      " 39%|███▊      | 959/2487 [1:23:26<30:45,  1.21s/it]"
     ]
    },
    {
     "name": "stdout",
     "output_type": "stream",
     "text": [
      "GL_WS_MO_46041.nc does not have any of the variables ['VHM0', 'VAVH', 'WSPD']\n",
      "\n",
      " GL_TS_MO_46126.nc\n",
      "GL_TS_MO_46126.nc does not have any valid data for this timeperiod\n",
      "GL_TS_MO_46126.nc does not have any valid data for this timeperiod\n",
      "\n",
      " IR_WS_MO_6100281.nc\n",
      "IR_WS_MO_6100281.nc does not have any of the variables ['VHM0', 'VAVH', 'WSPD']\n",
      "\n",
      " GL_WS_MO_46025.nc\n",
      "GL_WS_MO_46025.nc does not have any of the variables ['VHM0', 'VAVH', 'WSPD']\n",
      "\n",
      " GL_TS_MO_42005.nc\n",
      "GL_TS_MO_42005.nc does not have any valid data for this timeperiod\n",
      "\n",
      " GL_TS_MO_45024.nc\n"
     ]
    },
    {
     "name": "stderr",
     "output_type": "stream",
     "text": [
      " 39%|███▊      | 962/2487 [1:23:26<22:25,  1.13it/s]"
     ]
    },
    {
     "name": "stdout",
     "output_type": "stream",
     "text": [
      "GL_TS_MO_45024.nc does not have any valid data for this timeperiod\n",
      "GL_TS_MO_45024.nc does not have any valid data for this timeperiod\n",
      "\n",
      " GL_TS_MO_MEDS261.nc\n",
      "GL_TS_MO_MEDS261.nc does not have any valid data for this timeperiod\n",
      "\n",
      " IR_TS_MO_Donostia-buoy.nc\n",
      "IR_TS_MO_Donostia-buoy.nc does not have any valid data for this timeperiod\n",
      "POLYGON((-2.0169999599456787 43.582000732421875,-2.0169999599456787 43.5629997253418,-1.9919999837875366 43.5629997253418,-1.9919999837875366 43.582000732421875,-2.0169999599456787 43.582000732421875))\n"
     ]
    },
    {
     "name": "stderr",
     "output_type": "stream",
     "text": [
      " 39%|███▊      | 962/2487 [1:23:37<22:25,  1.13it/s]"
     ]
    },
    {
     "name": "stdout",
     "output_type": "stream",
     "text": [
      "178  results found\n"
     ]
    },
    {
     "name": "stderr",
     "output_type": "stream",
     "text": [
      " 39%|███▊      | 963/2487 [1:24:44<4:14:17, 10.01s/it]"
     ]
    },
    {
     "name": "stdout",
     "output_type": "stream",
     "text": [
      "\n",
      " IR_TS_MO_Silleiro1-current-meter.nc\n",
      "IR_TS_MO_Silleiro1-current-meter.nc does not have any of the variables ['VHM0', 'VAVH', 'WSPD']\n",
      "\n",
      " GL_TS_MO_44095.nc\n",
      "POINT(-75.33000183105469 35.75)\n",
      "57  results found\n"
     ]
    },
    {
     "name": "stderr",
     "output_type": "stream",
     "text": [
      " 39%|███▉      | 968/2487 [1:24:53<2:21:51,  5.60s/it]"
     ]
    },
    {
     "name": "stdout",
     "output_type": "stream",
     "text": [
      "\n",
      " GL_TS_MO_46062.nc\n",
      "GL_TS_MO_46062.nc does not have any valid data for this timeperiod\n",
      "GL_TS_MO_46062.nc does not have any valid data for this timeperiod\n",
      "\n",
      " MO_TS_MO_LA-MOLA.nc\n",
      "MO_TS_MO_LA-MOLA.nc does not have any of the variables ['VHM0', 'VAVH', 'WSPD']\n",
      "\n",
      " GL_TS_MO_WEL277.nc\n",
      "GL_TS_MO_WEL277.nc does not have any valid data for this timeperiod\n",
      "\n",
      " GL_TS_MO_51028.nc\n",
      "GL_TS_MO_51028.nc does not have any valid data for this timeperiod\n",
      "GL_TS_MO_51028.nc does not have any valid data for this timeperiod\n",
      "\n",
      " AR_TS_MO_Oseberg-C.nc\n",
      "AR_TS_MO_Oseberg-C.nc does not have any of the variables ['VHM0', 'VAVH', 'WSPD']\n",
      "\n",
      " GL_TS_MO_41005.nc\n"
     ]
    },
    {
     "name": "stderr",
     "output_type": "stream",
     "text": [
      " 39%|███▉      | 971/2487 [1:24:53<1:34:33,  3.74s/it]"
     ]
    },
    {
     "name": "stdout",
     "output_type": "stream",
     "text": [
      "GL_TS_MO_41005.nc does not have any valid data for this timeperiod\n",
      "GL_TS_MO_41005.nc does not have any valid data for this timeperiod\n",
      "\n",
      " GL_TS_MO_4801690.nc\n",
      "GL_TS_MO_4801690.nc does not have any of the variables ['VHM0', 'VAVH', 'WSPD']\n",
      "\n",
      " GL_TS_MO_MEDS053.nc\n",
      "GL_TS_MO_MEDS053.nc does not have any valid data for this timeperiod\n",
      "\n",
      " GL_TS_MO_42060.nc\n",
      "GL_TS_MO_42060.nc does not have any valid data for this timeperiod\n",
      "POINT(-63.33100128173828 16.433000564575195)\n",
      "117  results found\n"
     ]
    },
    {
     "name": "stderr",
     "output_type": "stream",
     "text": [
      " 39%|███▉      | 977/2487 [1:25:07<1:09:33,  2.76s/it]"
     ]
    },
    {
     "name": "stdout",
     "output_type": "stream",
     "text": [
      "\n",
      " GL_WS_MO_46266.nc\n",
      "GL_WS_MO_46266.nc does not have any of the variables ['VHM0', 'VAVH', 'WSPD']\n",
      "\n",
      " GL_TS_MO_WEL406.nc\n",
      "GL_TS_MO_WEL406.nc does not have any valid data for this timeperiod\n",
      "\n",
      " GL_TS_MO_44072.nc\n",
      "GL_TS_MO_44072.nc does not have any valid data for this timeperiod\n",
      "GL_TS_MO_44072.nc does not have any valid data for this timeperiod\n",
      "\n",
      " GL_TS_MO_45205.nc\n",
      "GL_TS_MO_45205.nc does not have any valid data for this timeperiod\n",
      "GL_TS_MO_45205.nc does not have any valid data for this timeperiod\n",
      "\n",
      " GL_WS_MO_46147.nc\n",
      "GL_WS_MO_46147.nc does not have any of the variables ['VHM0', 'VAVH', 'WSPD']\n",
      "\n",
      " GL_TS_MO_55032.nc\n",
      "POLYGON((149.3102569580078 -21.450000762939453,149.3102569580078 -21.270000457763672,149.52000427246094 -21.270000457763672,149.52000427246094 -21.450000762939453,149.3102569580078 -21.450000762939453))\n",
      "29  results found\n"
     ]
    },
    {
     "name": "stderr",
     "output_type": "stream",
     "text": [
      " 39%|███▉      | 980/2487 [1:25:29<1:46:35,  4.24s/it]"
     ]
    },
    {
     "name": "stdout",
     "output_type": "stream",
     "text": [
      "\n",
      " GL_TS_MO_1500009.nc\n",
      "POLYGON((-2.6679999828338623 -0.01899999938905239,-2.6679999828338623 0.01600000075995922,-2.709019899368286 0.01600000075995922,-2.709019899368286 -0.01899999938905239,-2.6679999828338623 -0.01899999938905239))\n"
     ]
    },
    {
     "name": "stderr",
     "output_type": "stream",
     "text": [
      " 39%|███▉      | 981/2487 [1:25:36<1:53:42,  4.53s/it]"
     ]
    },
    {
     "name": "stdout",
     "output_type": "stream",
     "text": [
      "0  results found\n",
      "\n",
      " GL_WS_MO_44091.nc\n",
      "GL_WS_MO_44091.nc does not have any of the variables ['VHM0', 'VAVH', 'WSPD']\n",
      "\n",
      " IR_TS_MO_6200082.nc\n",
      "IR_TS_MO_6200082.nc does not have any valid data for this timeperiod\n",
      "POLYGON((-7.722799777984619 44.11280059814453,-7.722799777984619 44.14939880371094,-7.667900085449219 44.14939880371094,-7.667900085449219 44.11280059814453,-7.722799777984619 44.11280059814453))\n",
      "229  results found\n"
     ]
    },
    {
     "name": "stderr",
     "output_type": "stream",
     "text": [
      " 40%|███▉      | 983/2487 [1:26:56<5:52:09, 14.05s/it]"
     ]
    },
    {
     "name": "stdout",
     "output_type": "stream",
     "text": [
      "\n",
      " GL_TS_MO_T8N95W.nc\n"
     ]
    },
    {
     "name": "stderr",
     "output_type": "stream",
     "text": [
      " 40%|███▉      | 984/2487 [1:26:56<4:56:43, 11.85s/it]"
     ]
    },
    {
     "name": "stdout",
     "output_type": "stream",
     "text": [
      "GL_TS_MO_T8N95W.nc does not have any valid data for this timeperiod\n",
      "\n",
      " NO_TS_MO_HelgolandRM.nc\n",
      "NO_TS_MO_HelgolandRM.nc does not have any of the variables ['VHM0', 'VAVH', 'WSPD']\n",
      "\n",
      " GL_TS_MO_2200189.nc\n",
      "POINT(129.83999633789062 35.349998474121094)\n",
      "57  results found\n"
     ]
    },
    {
     "name": "stderr",
     "output_type": "stream",
     "text": [
      " 40%|███▉      | 989/2487 [1:27:04<2:20:50,  5.64s/it]"
     ]
    },
    {
     "name": "stdout",
     "output_type": "stream",
     "text": [
      "\n",
      " AR_TS_MO_Troll-B.nc\n",
      "AR_TS_MO_Troll-B.nc does not have any valid data for this timeperiod\n",
      "\n",
      " BO_TS_MO_Vaderobod.nc\n",
      "BO_TS_MO_Vaderobod.nc does not have any valid data for this timeperiod\n",
      "\n",
      " NO_TS_MO_6201005.nc\n",
      "NO_TS_MO_6201005.nc does not have any valid data for this timeperiod\n",
      "\n",
      " GL_TS_MO_45166.nc\n",
      "GL_TS_MO_45166.nc does not have any valid data for this timeperiod\n",
      "GL_TS_MO_45166.nc does not have any valid data for this timeperiod\n",
      "\n",
      " GL_TS_MO_46227.nc\n",
      "GL_TS_MO_46227.nc does not have any valid data for this timeperiod\n",
      "\n",
      " GL_TS_MO_T5S110W.nc\n",
      "POINT(-110.0 -5.0)\n"
     ]
    },
    {
     "name": "stderr",
     "output_type": "stream",
     "text": [
      " 40%|███▉      | 992/2487 [1:27:14<1:58:48,  4.77s/it]"
     ]
    },
    {
     "name": "stdout",
     "output_type": "stream",
     "text": [
      "0  results found\n",
      "\n",
      " GL_TS_MO_46076.nc\n",
      "GL_TS_MO_46076.nc does not have any valid data for this timeperiod\n",
      "POINT(-148.00900268554688 59.47100067138672)\n",
      "48  results found\n"
     ]
    },
    {
     "name": "stderr",
     "output_type": "stream",
     "text": [
      " 40%|███▉      | 993/2487 [1:27:23<2:12:55,  5.34s/it]"
     ]
    },
    {
     "name": "stdout",
     "output_type": "stream",
     "text": [
      "\n",
      " GL_TS_MO_6200252.nc\n",
      "GL_TS_MO_6200252.nc does not have any of the variables ['VHM0', 'VAVH', 'WSPD']\n",
      "\n",
      " GL_TS_MO_46232.nc\n",
      "POINT(-117.42500305175781 32.516998291015625)\n",
      "125  results found\n"
     ]
    },
    {
     "name": "stderr",
     "output_type": "stream",
     "text": [
      " 40%|████      | 995/2487 [1:27:34<2:14:52,  5.42s/it]"
     ]
    },
    {
     "name": "stdout",
     "output_type": "stream",
     "text": [
      "\n",
      " GL_WS_MO_44100.nc\n",
      "GL_WS_MO_44100.nc does not have any of the variables ['VHM0', 'VAVH', 'WSPD']\n",
      "\n",
      " GL_TS_MO_MEDS170.nc\n",
      "GL_TS_MO_MEDS170.nc does not have any valid data for this timeperiod\n",
      "\n",
      " NO_TS_MO_Uithuizerwad3.nc\n",
      "POINT(6.760000228881836 53.470001220703125)\n",
      "236  results found\n"
     ]
    },
    {
     "name": "stderr",
     "output_type": "stream",
     "text": [
      " 40%|████      | 998/2487 [1:27:49<2:11:41,  5.31s/it]"
     ]
    },
    {
     "name": "stdout",
     "output_type": "stream",
     "text": [
      "\n",
      " GL_TS_MO_2200183.nc\n",
      "POINT(126.23999786376953 34.72999954223633)\n",
      "60  results found\n"
     ]
    },
    {
     "name": "stderr",
     "output_type": "stream",
     "text": [
      " 40%|████      | 999/2487 [1:27:57<2:20:53,  5.68s/it]"
     ]
    },
    {
     "name": "stdout",
     "output_type": "stream",
     "text": [
      "\n",
      " GL_TS_MO_MEDS185.nc\n",
      "GL_TS_MO_MEDS185.nc does not have any valid data for this timeperiod\n",
      "\n",
      " NO_TS_MO_MeetboeiRZGN1.nc\n",
      "POINT(6.632199764251709 53.56999969482422)\n",
      "236  results found\n"
     ]
    },
    {
     "name": "stderr",
     "output_type": "stream",
     "text": [
      " 40%|████      | 1001/2487 [1:28:09<2:22:41,  5.76s/it]"
     ]
    },
    {
     "name": "stdout",
     "output_type": "stream",
     "text": [
      "\n",
      " GL_TS_MO_46033.nc\n",
      "GL_TS_MO_46033.nc does not have any valid data for this timeperiod\n",
      "\n",
      " GL_TS_MO_42013.nc\n",
      "POINT(-82.92400360107422 27.17300033569336)\n"
     ]
    },
    {
     "name": "stderr",
     "output_type": "stream",
     "text": [
      " 40%|████      | 1003/2487 [1:28:17<2:10:01,  5.26s/it]"
     ]
    },
    {
     "name": "stdout",
     "output_type": "stream",
     "text": [
      "28  results found\n",
      "\n",
      " AR_TS_MO_B-Sulafjorden.nc\n"
     ]
    },
    {
     "name": "stderr",
     "output_type": "stream",
     "text": [
      " 40%|████      | 1004/2487 [1:28:17<1:47:43,  4.36s/it]"
     ]
    },
    {
     "name": "stdout",
     "output_type": "stream",
     "text": [
      "AR_TS_MO_B-Sulafjorden.nc does not have any valid data for this timeperiod\n",
      "\n",
      " IR_TS_MO_6201040.nc\n",
      "POINT(-8.891599655151367 42.17942810058594)\n",
      "171  results found\n"
     ]
    },
    {
     "name": "stderr",
     "output_type": "stream",
     "text": [
      " 40%|████      | 1005/2487 [1:28:33<2:44:50,  6.67s/it]"
     ]
    },
    {
     "name": "stdout",
     "output_type": "stream",
     "text": [
      "\n",
      " NO_TS_MO_NOO.nc\n",
      "POINT(7.635000228881836 54.46833038330078)\n",
      "232  results found\n"
     ]
    },
    {
     "name": "stderr",
     "output_type": "stream",
     "text": [
      " 41%|████      | 1009/2487 [1:28:48<1:47:47,  4.38s/it]"
     ]
    },
    {
     "name": "stdout",
     "output_type": "stream",
     "text": [
      "\n",
      " GL_TS_MO_45010.nc\n",
      "GL_TS_MO_45010.nc does not have any valid data for this timeperiod\n",
      "GL_TS_MO_45010.nc does not have any valid data for this timeperiod\n",
      "\n",
      " NO_TS_MO_6201046.nc\n",
      "NO_TS_MO_6201046.nc does not have any valid data for this timeperiod\n",
      "\n",
      " GL_WS_MO_44013.nc\n",
      "GL_WS_MO_44013.nc does not have any of the variables ['VHM0', 'VAVH', 'WSPD']\n",
      "\n",
      " GL_TS_MO_4600183.nc\n",
      "GL_TS_MO_4600183.nc does not have any valid data for this timeperiod\n",
      "\n",
      " BS_TS_MO_VarnaBuoySURF.nc\n"
     ]
    },
    {
     "name": "stderr",
     "output_type": "stream",
     "text": [
      "/home/sarssw/miniconda3/envs/master/lib/python3.10/site-packages/xarray/core/indexes.py:205: FutureWarning: Value based partial slicing on non-monotonic DatetimeIndexes with non-existing keys is deprecated and will raise a KeyError in a future Version.\n",
      "  indexer = index.slice_indexer(\n",
      " 41%|████      | 1013/2487 [1:28:48<55:50,  2.27s/it]  "
     ]
    },
    {
     "name": "stdout",
     "output_type": "stream",
     "text": [
      "BS_TS_MO_VarnaBuoySURF.nc : data extraction failed with: \"cannot represent labeled-based slice indexer for coordinate 'TIME' with a slice over integer positions; the index is unsorted or non-unique\"\n",
      "BS_TS_MO_VarnaBuoySURF.nc : data extraction failed with: \"cannot represent labeled-based slice indexer for coordinate 'TIME' with a slice over integer positions; the index is unsorted or non-unique\"\n",
      "\n",
      " GL_TS_MO_MEDS187.nc\n",
      "GL_TS_MO_MEDS187.nc does not have any valid data for this timeperiod\n",
      "\n",
      " GL_TS_MO_MEDS202.nc\n",
      "GL_TS_MO_MEDS202.nc does not have any valid data for this timeperiod\n",
      "\n",
      " GL_WS_MO_6100191.nc\n",
      "GL_WS_MO_6100191.nc does not have any of the variables ['VHM0', 'VAVH', 'WSPD']\n",
      "\n",
      " NO_TS_MO_UFSDeutscheBucht.nc\n",
      "POINT(7.449999809265137 54.16666793823242)\n"
     ]
    },
    {
     "name": "stderr",
     "output_type": "stream",
     "text": [
      " 41%|████      | 1013/2487 [1:29:08<55:50,  2.27s/it]"
     ]
    },
    {
     "name": "stdout",
     "output_type": "stream",
     "text": [
      "232  results found\n"
     ]
    },
    {
     "name": "stderr",
     "output_type": "stream",
     "text": [
      " 41%|████      | 1015/2487 [1:29:12<1:54:21,  4.66s/it]/home/sarssw/miniconda3/envs/master/lib/python3.10/site-packages/xarray/core/indexes.py:205: FutureWarning: Value based partial slicing on non-monotonic DatetimeIndexes with non-existing keys is deprecated and will raise a KeyError in a future Version.\n",
      "  indexer = index.slice_indexer(\n",
      " 41%|████      | 1019/2487 [1:29:12<1:06:05,  2.70s/it]"
     ]
    },
    {
     "name": "stdout",
     "output_type": "stream",
     "text": [
      "\n",
      " GL_WS_MO_46006.nc\n",
      "GL_WS_MO_46006.nc does not have any of the variables ['VHM0', 'VAVH', 'WSPD']\n",
      "\n",
      " GL_TS_MO_6600022.nc\n",
      "GL_TS_MO_6600022.nc does not have any valid data for this timeperiod\n",
      "\n",
      " GL_WS_MO_42095.nc\n",
      "GL_WS_MO_42095.nc does not have any of the variables ['VHM0', 'VAVH', 'WSPD']\n",
      "\n",
      " BS_TS_MO_BurgasBuoySURF.nc\n",
      "BS_TS_MO_BurgasBuoySURF.nc : data extraction failed with: \"cannot represent labeled-based slice indexer for coordinate 'TIME' with a slice over integer positions; the index is unsorted or non-unique\"\n",
      "BS_TS_MO_BurgasBuoySURF.nc : data extraction failed with: \"cannot represent labeled-based slice indexer for coordinate 'TIME' with a slice over integer positions; the index is unsorted or non-unique\"\n",
      "\n",
      " GL_TS_MO_45199.nc\n",
      "GL_TS_MO_45199.nc does not have any valid data for this timeperiod\n",
      "GL_TS_MO_45199.nc does not have any valid data for this timeperiod\n",
      "\n",
      " GL_WS_MO_46218.nc\n",
      "GL_WS_MO_46218.nc does not have any of the variables ['VHM0', 'VAVH', 'WSPD']\n",
      "\n",
      " GL_TS_MO_46245.nc\n",
      "GL_TS_MO_46245.nc does not have any valid data for this timeperiod\n",
      "\n",
      " GL_TS_MO_46078.nc\n",
      "GL_TS_MO_46078.nc does not have any valid data for this timeperiod\n",
      "POINT(-152.58200073242188 55.555999755859375)\n"
     ]
    },
    {
     "name": "stderr",
     "output_type": "stream",
     "text": [
      " 41%|████      | 1025/2487 [1:29:18<43:36,  1.79s/it]  "
     ]
    },
    {
     "name": "stdout",
     "output_type": "stream",
     "text": [
      "0  results found\n",
      "\n",
      " GL_TS_MO_62073.nc\n",
      "GL_TS_MO_62073.nc does not have any valid data for this timeperiod\n",
      "GL_TS_MO_62073.nc does not have any valid data for this timeperiod\n",
      "\n",
      " GL_TS_MO_45180.nc\n",
      "GL_TS_MO_45180.nc is too close to land\n",
      "\n",
      " GL_TS_MO_61004.nc\n"
     ]
    },
    {
     "name": "stderr",
     "output_type": "stream",
     "text": [
      " 41%|████▏     | 1027/2487 [1:29:18<33:49,  1.39s/it]"
     ]
    },
    {
     "name": "stdout",
     "output_type": "stream",
     "text": [
      "GL_TS_MO_61004.nc does not have any valid data for this timeperiod\n",
      "GL_TS_MO_61004.nc does not have any valid data for this timeperiod\n",
      "\n",
      " GL_TS_MO_51005.nc\n",
      "GL_TS_MO_51005.nc does not have any valid data for this timeperiod\n",
      "GL_TS_MO_51005.nc does not have any valid data for this timeperiod\n",
      "\n",
      " MO_TS_MO_CIUTADELLA.nc\n",
      "MO_TS_MO_CIUTADELLA.nc does not have any of the variables ['VHM0', 'VAVH', 'WSPD']\n",
      "\n",
      " GL_TS_MO_53960.nc\n",
      "GL_TS_MO_53960.nc does not have any of the variables ['VHM0', 'VAVH', 'WSPD']\n",
      "\n",
      " GL_TS_MO_MEDS246.nc\n",
      "GL_TS_MO_MEDS246.nc does not have any valid data for this timeperiod\n",
      "\n",
      " BO_TS_MO_EspooKyto.nc\n",
      "BO_TS_MO_EspooKyto.nc does not have any of the variables ['VHM0', 'VAVH', 'WSPD']\n",
      "\n",
      " GL_TS_MO_T8N165E.nc\n",
      "POINT(165.0 8.0)\n"
     ]
    },
    {
     "name": "stderr",
     "output_type": "stream",
     "text": [
      " 41%|████▏     | 1032/2487 [1:29:26<35:19,  1.46s/it]"
     ]
    },
    {
     "name": "stdout",
     "output_type": "stream",
     "text": [
      "0  results found\n",
      "\n",
      " AR_TS_MO_Roedstjoedna-48-116.nc\n",
      "AR_TS_MO_Roedstjoedna-48-116.nc does not have any of the variables ['VHM0', 'VAVH', 'WSPD']\n",
      "\n",
      " GL_TS_MO_62063.nc\n",
      "GL_TS_MO_62063.nc does not have any of the variables ['VHM0', 'VAVH', 'WSPD']\n",
      "\n",
      " GL_TS_MO_51004.nc\n",
      "GL_TS_MO_51004.nc does not have any valid data for this timeperiod\n",
      "POINT(-152.2550048828125 17.533000946044922)\n"
     ]
    },
    {
     "name": "stderr",
     "output_type": "stream",
     "text": [
      " 42%|████▏     | 1037/2487 [1:29:34<35:21,  1.46s/it]"
     ]
    },
    {
     "name": "stdout",
     "output_type": "stream",
     "text": [
      "0  results found\n",
      "\n",
      " MO_TS_MO_CAGLIARI-61221.nc\n",
      "MO_TS_MO_CAGLIARI-61221.nc does not have any valid data for this timeperiod\n",
      "\n",
      " BO_TS_MO_Fladen.nc\n",
      "BO_TS_MO_Fladen.nc does not have any valid data for this timeperiod\n",
      "\n",
      " GL_TS_MO_MEDS085.nc\n",
      "GL_TS_MO_MEDS085.nc does not have any valid data for this timeperiod\n",
      "\n",
      " GL_TS_MO_T2N125W.nc\n",
      "POINT(-125.0 2.0)\n"
     ]
    },
    {
     "name": "stderr",
     "output_type": "stream",
     "text": [
      " 42%|████▏     | 1039/2487 [1:29:42<48:45,  2.02s/it]"
     ]
    },
    {
     "name": "stdout",
     "output_type": "stream",
     "text": [
      "0  results found\n",
      "\n",
      " GL_TS_MO_46004.nc\n",
      "GL_TS_MO_46004.nc does not have any valid data for this timeperiod\n",
      "POINT(-136.09500122070312 50.93000030517578)\n",
      "58  results found\n"
     ]
    },
    {
     "name": "stderr",
     "output_type": "stream",
     "text": [
      " 42%|████▏     | 1040/2487 [1:29:50<1:09:20,  2.88s/it]"
     ]
    },
    {
     "name": "stdout",
     "output_type": "stream",
     "text": [
      "\n",
      " GL_TS_MO_46275.nc\n",
      "GL_TS_MO_46275.nc does not have any valid data for this timeperiod\n",
      "\n",
      " GL_TS_MO_ESTOC-C.nc\n",
      "GL_TS_MO_ESTOC-C.nc does not have any of the variables ['VHM0', 'VAVH', 'WSPD']\n",
      "\n",
      " GL_WS_MO_41010.nc\n",
      "GL_WS_MO_41010.nc does not have any of the variables ['VHM0', 'VAVH', 'WSPD']\n",
      "\n",
      " NO_TS_MO_Heimdal.nc\n",
      "NO_TS_MO_Heimdal.nc does not have any valid data for this timeperiod\n",
      "POINT(2.227299928665161 59.57419967651367)\n",
      "294  results found\n"
     ]
    },
    {
     "name": "stderr",
     "output_type": "stream",
     "text": [
      " 42%|████▏     | 1048/2487 [1:30:05<47:32,  1.98s/it]  "
     ]
    },
    {
     "name": "stdout",
     "output_type": "stream",
     "text": [
      "\n",
      " BO_TS_MO_Dalbosjon.nc\n",
      "BO_TS_MO_Dalbosjon.nc does not have any of the variables ['VHM0', 'VAVH', 'WSPD']\n",
      "\n",
      " GL_TS_MO_42014.nc\n",
      "GL_TS_MO_42014.nc does not have any valid data for this timeperiod\n",
      "\n",
      " GL_WS_MO_42092.nc\n",
      "GL_WS_MO_42092.nc does not have any of the variables ['VHM0', 'VAVH', 'WSPD']\n",
      "\n",
      " BS_TS_MO_WAVEB03.nc\n",
      "BS_TS_MO_WAVEB03.nc is too close to land\n",
      "\n",
      " GL_WS_MO_44017.nc\n",
      "GL_WS_MO_44017.nc does not have any of the variables ['VHM0', 'VAVH', 'WSPD']\n",
      "\n",
      " GL_TS_MO_46252.nc\n",
      "GL_TS_MO_46252.nc does not have any valid data for this timeperiod\n",
      "\n",
      " GL_TS_MO_MEDS194.nc\n",
      "GL_TS_MO_MEDS194.nc does not have any valid data for this timeperiod\n",
      "\n",
      " GL_TS_MO_IF000550.nc\n"
     ]
    },
    {
     "name": "stderr",
     "output_type": "stream",
     "text": [
      " 42%|████▏     | 1053/2487 [1:30:05<28:21,  1.19s/it]"
     ]
    },
    {
     "name": "stdout",
     "output_type": "stream",
     "text": [
      "GL_TS_MO_IF000550.nc does not have any of the variables ['VHM0', 'VAVH', 'WSPD']\n",
      "\n",
      " NO_TS_MO_Wierumerwad2.nc\n",
      "NO_TS_MO_Wierumerwad2.nc is too close to land\n",
      "\n",
      " GL_TS_MO_300777.nc\n",
      "GL_TS_MO_300777.nc does not have any of the variables ['VHM0', 'VAVH', 'WSPD']\n",
      "\n",
      " IR_TS_MO_Matxitxako-buoy.nc\n",
      "IR_TS_MO_Matxitxako-buoy.nc does not have any valid data for this timeperiod\n",
      "IR_TS_MO_Matxitxako-buoy.nc does not have any valid data for this timeperiod\n",
      "\n",
      " GL_TS_MO_MEDS330.nc\n"
     ]
    },
    {
     "name": "stderr",
     "output_type": "stream",
     "text": [
      " 43%|████▎     | 1057/2487 [1:30:05<19:28,  1.22it/s]"
     ]
    },
    {
     "name": "stdout",
     "output_type": "stream",
     "text": [
      "GL_TS_MO_MEDS330.nc does not have any valid data for this timeperiod\n",
      "\n",
      " GL_TS_MO_MEDS147.nc\n",
      "GL_TS_MO_MEDS147.nc does not have any valid data for this timeperiod\n",
      "\n",
      " IR_TS_MO_6200084.nc\n",
      "IR_TS_MO_6200084.nc does not have any valid data for this timeperiod\n",
      "POLYGON((-9.427499771118164 42.1161994934082,-9.427499771118164 42.122100830078125,-9.432999610900879 42.122100830078125,-9.432999610900879 42.1161994934082,-9.427499771118164 42.1161994934082))\n"
     ]
    },
    {
     "name": "stderr",
     "output_type": "stream",
     "text": [
      " 43%|████▎     | 1057/2487 [1:30:18<19:28,  1.22it/s]"
     ]
    },
    {
     "name": "stdout",
     "output_type": "stream",
     "text": [
      "200  results found\n"
     ]
    },
    {
     "name": "stderr",
     "output_type": "stream",
     "text": [
      " 43%|████▎     | 1061/2487 [1:31:30<2:34:58,  6.52s/it]"
     ]
    },
    {
     "name": "stdout",
     "output_type": "stream",
     "text": [
      "\n",
      " GL_TS_MO_3100262.nc\n",
      "GL_TS_MO_3100262.nc does not have any valid data for this timeperiod\n",
      "\n",
      " GL_WS_MO_51004.nc\n",
      "GL_WS_MO_51004.nc does not have any of the variables ['VHM0', 'VAVH', 'WSPD']\n",
      "\n",
      " GL_TS_MO_IF000548.nc\n",
      "GL_TS_MO_IF000548.nc does not have any of the variables ['VHM0', 'VAVH', 'WSPD']\n",
      "\n",
      " AR_TS_MO_Nesoeyra-48-115.nc\n",
      "AR_TS_MO_Nesoeyra-48-115.nc does not have any of the variables ['VHM0', 'VAVH', 'WSPD']\n",
      "\n",
      " GL_TS_MO_44034.nc\n",
      "GL_TS_MO_44034.nc does not have any valid data for this timeperiod\n",
      "POINT(-68.11199951171875 44.10300064086914)\n",
      "59  results found\n"
     ]
    },
    {
     "name": "stderr",
     "output_type": "stream",
     "text": [
      " 43%|████▎     | 1064/2487 [1:31:38<2:07:09,  5.36s/it]"
     ]
    },
    {
     "name": "stdout",
     "output_type": "stream",
     "text": [
      "\n",
      " GL_TS_MO_DYFAMED.nc\n",
      "GL_TS_MO_DYFAMED.nc does not have any valid data for this timeperiod\n",
      "\n",
      " GL_TS_MO_6801022.nc\n",
      "GL_TS_MO_6801022.nc does not have any of the variables ['VHM0', 'VAVH', 'WSPD']\n",
      "\n",
      " NO_TS_MO_Uithuizerwad2.nc\n",
      "POINT(6.7580180168151855 53.467044830322266)\n",
      "236  results found\n"
     ]
    },
    {
     "name": "stderr",
     "output_type": "stream",
     "text": [
      " 43%|████▎     | 1066/2487 [1:31:48<2:05:15,  5.29s/it]"
     ]
    },
    {
     "name": "stdout",
     "output_type": "stream",
     "text": [
      "\n",
      " GL_TS_MO_62307.nc\n",
      "GL_TS_MO_62307.nc does not have any of the variables ['VHM0', 'VAVH', 'WSPD']\n",
      "\n",
      " NO_TS_MO_FINO1WR.nc\n",
      "POINT(6.5833330154418945 54.0)\n",
      "236  results found\n"
     ]
    },
    {
     "name": "stderr",
     "output_type": "stream",
     "text": [
      " 43%|████▎     | 1068/2487 [1:32:01<2:12:10,  5.59s/it]"
     ]
    },
    {
     "name": "stdout",
     "output_type": "stream",
     "text": [
      "\n",
      " NO_TS_MO_ArkonaWR.nc\n",
      "POINT(13.866666793823242 54.883331298828125)\n",
      "244  results found\n"
     ]
    },
    {
     "name": "stderr",
     "output_type": "stream",
     "text": [
      " 43%|████▎     | 1073/2487 [1:32:22<1:40:29,  4.26s/it]"
     ]
    },
    {
     "name": "stdout",
     "output_type": "stream",
     "text": [
      "\n",
      " GL_TS_MO_WEL297.nc\n",
      "GL_TS_MO_WEL297.nc does not have any valid data for this timeperiod\n",
      "\n",
      " GL_TS_MO_MEDS281.nc\n",
      "GL_TS_MO_MEDS281.nc does not have any valid data for this timeperiod\n",
      "\n",
      " IR_TS_MO_Salvora-buoy.nc\n",
      "IR_TS_MO_Salvora-buoy.nc does not have any valid data for this timeperiod\n",
      "IR_TS_MO_Salvora-buoy.nc does not have any valid data for this timeperiod\n",
      "\n",
      " GL_TS_MO_4400137.nc\n",
      "GL_TS_MO_4400137.nc does not have any of the variables ['VHM0', 'VAVH', 'WSPD']\n",
      "\n",
      " GL_TS_MO_51000.nc\n",
      "GL_TS_MO_51000.nc does not have any valid data for this timeperiod\n",
      "POINT(-153.79200744628906 23.527999877929688)\n",
      "28  results found\n",
      "\n",
      " GL_TS_MO_62076.nc\n",
      "GL_TS_MO_62076.nc does not have any valid data for this timeperiod\n",
      "GL_TS_MO_62076.nc does not have any valid data for this timeperiod\n",
      "\n",
      " NO_TS_MO_NsbII.nc\n",
      "NO_TS_MO_NsbII.nc does not have any valid data for this timeperiod\n",
      "POINT(6.3333330154418945 55.0)\n"
     ]
    },
    {
     "name": "stderr",
     "output_type": "stream",
     "text": [
      " 43%|████▎     | 1073/2487 [1:32:38<1:40:29,  4.26s/it]"
     ]
    },
    {
     "name": "stdout",
     "output_type": "stream",
     "text": [
      "237  results found\n"
     ]
    },
    {
     "name": "stderr",
     "output_type": "stream",
     "text": [
      " 43%|████▎     | 1079/2487 [1:32:45<1:26:49,  3.70s/it]"
     ]
    },
    {
     "name": "stdout",
     "output_type": "stream",
     "text": [
      "\n",
      " GL_WS_MO_46054.nc\n",
      "GL_WS_MO_46054.nc does not have any of the variables ['VHM0', 'VAVH', 'WSPD']\n",
      "\n",
      " GL_WS_MO_41060.nc\n",
      "GL_WS_MO_41060.nc does not have any of the variables ['VHM0', 'VAVH', 'WSPD']\n",
      "\n",
      " NO_TS_MO_Hansweert.nc\n",
      "NO_TS_MO_Hansweert.nc is too close to land\n",
      "\n",
      " GL_WS_MO_1400015.nc\n",
      "GL_WS_MO_1400015.nc does not have any of the variables ['VHM0', 'VAVH', 'WSPD']\n",
      "\n",
      " IR_TS_MO_6201031.nc\n",
      "POINT(-8.89601993560791 41.905818939208984)\n",
      "171  results found\n"
     ]
    },
    {
     "name": "stderr",
     "output_type": "stream",
     "text": [
      " 44%|████▎     | 1082/2487 [1:32:54<1:21:35,  3.48s/it]"
     ]
    },
    {
     "name": "stdout",
     "output_type": "stream",
     "text": [
      "\n",
      " GL_WS_MO_51001.nc\n",
      "GL_WS_MO_51001.nc does not have any of the variables ['VHM0', 'VAVH', 'WSPD']\n",
      "\n",
      " NO_TS_MO_VlaktevdRaan.nc\n",
      "NO_TS_MO_VlaktevdRaan.nc does not have any of the variables ['VHM0', 'VAVH', 'WSPD']\n",
      "\n",
      " GL_TS_MO_MEDS245.nc\n",
      "GL_TS_MO_MEDS245.nc does not have any valid data for this timeperiod\n",
      "\n",
      " AR_TS_MO_Landeyjahofn.nc\n",
      "AR_TS_MO_Landeyjahofn.nc does not have any valid data for this timeperiod\n",
      "\n",
      " GL_TS_MO_2200186.nc\n",
      "POINT(125.80999755859375 35.65999984741211)\n",
      "31  results found\n"
     ]
    },
    {
     "name": "stderr",
     "output_type": "stream",
     "text": [
      " 44%|████▎     | 1086/2487 [1:33:07<1:19:25,  3.40s/it]"
     ]
    },
    {
     "name": "stdout",
     "output_type": "stream",
     "text": [
      "\n",
      " GL_TS_MO_4801695.nc\n",
      "GL_TS_MO_4801695.nc does not have any of the variables ['VHM0', 'VAVH', 'WSPD']\n",
      "\n",
      " GL_TS_MO_23498.nc\n",
      "GL_TS_MO_23498.nc does not have any valid data for this timeperiod\n",
      "\n",
      " GL_TS_MO_46244.nc\n",
      "POINT(-124.35700225830078 40.895999908447266)\n",
      "130  results found\n"
     ]
    },
    {
     "name": "stderr",
     "output_type": "stream",
     "text": [
      " 44%|████▍     | 1093/2487 [1:33:21<55:40,  2.40s/it]  "
     ]
    },
    {
     "name": "stdout",
     "output_type": "stream",
     "text": [
      "\n",
      " GL_TS_MO_7101550.nc\n",
      "GL_TS_MO_7101550.nc does not have any of the variables ['VHM0', 'VAVH', 'WSPD']\n",
      "\n",
      " GL_TS_MO_WEL414.nc\n",
      "GL_TS_MO_WEL414.nc does not have any valid data for this timeperiod\n",
      "\n",
      " MO_TS_MO_MONOPOLI-61215.nc\n",
      "MO_TS_MO_MONOPOLI-61215.nc does not have any valid data for this timeperiod\n",
      "\n",
      " GL_TS_MO_46254.nc\n",
      "GL_TS_MO_46254.nc is too close to land\n",
      "\n",
      " BO_TS_MO_Varberg.nc\n",
      "BO_TS_MO_Varberg.nc does not have any valid data for this timeperiod\n",
      "\n",
      " GL_TS_MO_Esperance02.nc\n",
      "GL_TS_MO_Esperance02.nc does not have any valid data for this timeperiod\n",
      "\n",
      " BO_TS_MO_VaderoarnaWR.nc\n",
      "POLYGON((10.92959976196289 58.483299255371094,10.92959976196289 58.49039840698242,10.934200286865234 58.49039840698242,10.934200286865234 58.483299255371094,10.92959976196289 58.483299255371094))\n",
      "234  results found\n"
     ]
    },
    {
     "name": "stderr",
     "output_type": "stream",
     "text": [
      " 44%|████▍     | 1096/2487 [1:36:22<7:03:49, 18.28s/it]"
     ]
    },
    {
     "name": "stdout",
     "output_type": "stream",
     "text": [
      "\n",
      " GL_TS_MO_6200443.nc\n",
      "POINT(1.5677000284194946 50.740501403808594)\n",
      "174  results found\n"
     ]
    },
    {
     "name": "stderr",
     "output_type": "stream",
     "text": [
      " 44%|████▍     | 1097/2487 [1:36:38<6:58:25, 18.06s/it]"
     ]
    },
    {
     "name": "stdout",
     "output_type": "stream",
     "text": [
      "\n",
      " GL_TS_MO_6202401.nc\n",
      "POINT(-27.010000228881836 38.75067138671875)\n",
      "301  results found\n"
     ]
    },
    {
     "name": "stderr",
     "output_type": "stream",
     "text": [
      " 44%|████▍     | 1098/2487 [1:37:00<7:12:18, 18.67s/it]"
     ]
    },
    {
     "name": "stdout",
     "output_type": "stream",
     "text": [
      "\n",
      " GL_TS_MO_55050.nc\n",
      "GL_TS_MO_55050.nc does not have any valid data for this timeperiod\n",
      "\n",
      " GL_TS_MO_14040.nc\n",
      "POINT(67.0 -8.0)\n"
     ]
    },
    {
     "name": "stderr",
     "output_type": "stream",
     "text": [
      " 44%|████▍     | 1102/2487 [1:37:06<3:51:13, 10.02s/it]"
     ]
    },
    {
     "name": "stdout",
     "output_type": "stream",
     "text": [
      "0  results found\n",
      "\n",
      " GL_TS_MO_45139.nc\n",
      "GL_TS_MO_45139.nc does not have any valid data for this timeperiod\n",
      "GL_TS_MO_45139.nc is too close to land\n",
      "\n",
      " AR_TS_MO_Namsos-Camping-42-106.nc\n",
      "AR_TS_MO_Namsos-Camping-42-106.nc does not have any of the variables ['VHM0', 'VAVH', 'WSPD']\n",
      "\n",
      " GL_TS_MO_WEL285.nc\n",
      "GL_TS_MO_WEL285.nc does not have any valid data for this timeperiod\n",
      "\n",
      " MO_TS_MO_CETRARO-61211.nc\n",
      "MO_TS_MO_CETRARO-61211.nc does not have any valid data for this timeperiod\n",
      "\n",
      " NO_TS_MO_Helgoland-EastWR.nc\n",
      "POINT(8.100569725036621 54.2005500793457)\n"
     ]
    },
    {
     "name": "stderr",
     "output_type": "stream",
     "text": [
      " 44%|████▍     | 1102/2487 [1:37:19<3:51:13, 10.02s/it]"
     ]
    },
    {
     "name": "stdout",
     "output_type": "stream",
     "text": [
      "232  results found\n"
     ]
    },
    {
     "name": "stderr",
     "output_type": "stream",
     "text": [
      " 44%|████▍     | 1105/2487 [1:37:21<3:05:47,  8.07s/it]"
     ]
    },
    {
     "name": "stdout",
     "output_type": "stream",
     "text": [
      "\n",
      " GL_TS_MO_LedgePoint.nc\n",
      "GL_TS_MO_LedgePoint.nc does not have any valid data for this timeperiod\n",
      "\n",
      " NO_TS_MO_6200081.nc\n",
      "NO_TS_MO_6200081.nc does not have any valid data for this timeperiod\n",
      "POINT(-13.300999641418457 51.0)\n",
      "152  results found\n"
     ]
    },
    {
     "name": "stderr",
     "output_type": "stream",
     "text": [
      " 45%|████▍     | 1107/2487 [1:37:32<2:49:38,  7.38s/it]"
     ]
    },
    {
     "name": "stdout",
     "output_type": "stream",
     "text": [
      "\n",
      " GL_WS_MO_chlv2.nc\n",
      "GL_WS_MO_chlv2.nc does not have any of the variables ['VHM0', 'VAVH', 'WSPD']\n",
      "\n",
      " GL_TS_MO_42085.nc\n",
      "GL_TS_MO_42085.nc does not have any valid data for this timeperiod\n",
      "POINT(-66.53199768066406 17.868999481201172)\n",
      "83  results found\n"
     ]
    },
    {
     "name": "stderr",
     "output_type": "stream",
     "text": [
      " 45%|████▍     | 1111/2487 [1:37:42<1:50:21,  4.81s/it]"
     ]
    },
    {
     "name": "stdout",
     "output_type": "stream",
     "text": [
      "\n",
      " NO_TS_MO_Blankenberge.nc\n",
      "NO_TS_MO_Blankenberge.nc is too close to land\n",
      "\n",
      " MO_TS_MO_PLAYA-DE-PALMA.nc\n",
      "MO_TS_MO_PLAYA-DE-PALMA.nc does not have any valid data for this timeperiod\n",
      "MO_TS_MO_PLAYA-DE-PALMA.nc does not have any valid data for this timeperiod\n",
      "MO_TS_MO_PLAYA-DE-PALMA.nc does not have any valid data for this timeperiod\n",
      "\n",
      " GL_TS_MO_42011.nc\n",
      "GL_TS_MO_42011.nc does not have any valid data for this timeperiod\n"
     ]
    },
    {
     "name": "stderr",
     "output_type": "stream",
     "text": [
      " 45%|████▍     | 1113/2487 [1:37:42<1:18:50,  3.44s/it]"
     ]
    },
    {
     "name": "stdout",
     "output_type": "stream",
     "text": [
      "\n",
      " GL_TS_MO_45136.nc\n",
      "GL_TS_MO_45136.nc does not have any valid data for this timeperiod\n",
      "GL_TS_MO_45136.nc is too close to land\n",
      "\n",
      " GL_TS_MO_45176.nc\n",
      "GL_TS_MO_45176.nc does not have any valid data for this timeperiod\n",
      "GL_TS_MO_45176.nc is too close to land\n",
      "\n",
      " AR_TS_MO_Store-Stokkavannet-6-114.nc\n"
     ]
    },
    {
     "name": "stderr",
     "output_type": "stream",
     "text": [
      " 45%|████▍     | 1118/2487 [1:37:42<34:48,  1.53s/it]  "
     ]
    },
    {
     "name": "stdout",
     "output_type": "stream",
     "text": [
      "AR_TS_MO_Store-Stokkavannet-6-114.nc does not have any of the variables ['VHM0', 'VAVH', 'WSPD']\n",
      "\n",
      " NO_TS_MO_6200301.nc\n",
      "NO_TS_MO_6200301.nc does not have any valid data for this timeperiod\n",
      "NO_TS_MO_6200301.nc does not have any valid data for this timeperiod\n",
      "\n",
      " GL_TS_MO_MEDS098.nc\n",
      "GL_TS_MO_MEDS098.nc does not have any valid data for this timeperiod\n",
      "\n",
      " GL_TS_MO_45018.nc\n",
      "GL_TS_MO_45018.nc does not have any valid data for this timeperiod\n",
      "\n",
      " GL_WS_MO_44097.nc\n",
      "GL_WS_MO_44097.nc does not have any of the variables ['VHM0', 'VAVH', 'WSPD']\n",
      "\n",
      " GL_TS_MO_45144.nc\n",
      "GL_TS_MO_45144.nc does not have any valid data for this timeperiod\n",
      "GL_TS_MO_45144.nc does not have any valid data for this timeperiod\n",
      "\n",
      " GL_TS_MO_42016.nc\n",
      "GL_TS_MO_42016.nc does not have any valid data for this timeperiod\n"
     ]
    },
    {
     "name": "stderr",
     "output_type": "stream",
     "text": [
      " 45%|████▌     | 1125/2487 [1:37:43<13:45,  1.65it/s]"
     ]
    },
    {
     "name": "stdout",
     "output_type": "stream",
     "text": [
      "GL_TS_MO_42016.nc does not have any valid data for this timeperiod\n",
      "\n",
      " GL_TS_MO_MEDS189.nc\n",
      "GL_TS_MO_MEDS189.nc does not have any valid data for this timeperiod\n",
      "\n",
      " GL_TS_MO_52622.nc\n",
      "GL_TS_MO_52622.nc does not have any valid data for this timeperiod\n",
      "\n",
      " GL_TS_MO_45009.nc\n",
      "GL_TS_MO_45009.nc does not have any valid data for this timeperiod\n",
      "GL_TS_MO_45009.nc does not have any valid data for this timeperiod\n",
      "\n",
      " GL_TS_MO_MEDS137.nc\n",
      "GL_TS_MO_MEDS137.nc does not have any valid data for this timeperiod\n",
      "\n",
      " GL_WS_MO_42056.nc\n",
      "GL_WS_MO_42056.nc does not have any of the variables ['VHM0', 'VAVH', 'WSPD']\n",
      "\n",
      " GL_TS_MO_42035.nc\n",
      "GL_TS_MO_42035.nc does not have any valid data for this timeperiod\n",
      "POLYGON((-94.41300201416016 29.23200035095215,-94.41300201416016 29.21500015258789,-94.42900085449219 29.21500015258789,-94.42900085449219 29.23200035095215,-94.41300201416016 29.23200035095215))\n",
      "57  results found\n"
     ]
    },
    {
     "name": "stderr",
     "output_type": "stream",
     "text": [
      " 45%|████▌     | 1128/2487 [1:39:50<4:48:01, 12.72s/it]"
     ]
    },
    {
     "name": "stdout",
     "output_type": "stream",
     "text": [
      "\n",
      " GL_TS_MO_45135.nc\n",
      "GL_TS_MO_45135.nc does not have any valid data for this timeperiod\n",
      "GL_TS_MO_45135.nc is too close to land\n",
      "\n",
      " GL_TS_MO_41007.nc\n",
      "GL_TS_MO_41007.nc does not have any valid data for this timeperiod\n",
      "GL_TS_MO_41007.nc does not have any valid data for this timeperiod\n",
      "\n",
      " GL_WS_MO_45194.nc\n",
      "GL_WS_MO_45194.nc does not have any of the variables ['VHM0', 'VAVH', 'WSPD']\n",
      "\n",
      " NO_TS_MO_SchiermonnikoogWaggen.nc\n"
     ]
    },
    {
     "name": "stderr",
     "output_type": "stream",
     "text": [
      " 45%|████▌     | 1131/2487 [1:39:50<3:01:13,  8.02s/it]"
     ]
    },
    {
     "name": "stdout",
     "output_type": "stream",
     "text": [
      "NO_TS_MO_SchiermonnikoogWaggen.nc is too close to land\n",
      "\n",
      " BS_TS_MO_99001.nc\n",
      "BS_TS_MO_99001.nc does not have any of the variables ['VHM0', 'VAVH', 'WSPD']\n",
      "\n",
      " GL_TS_MO_31006.nc\n",
      "POINT(-23.0 4.0)\n"
     ]
    },
    {
     "name": "stderr",
     "output_type": "stream",
     "text": [
      " 46%|████▌     | 1133/2487 [1:39:57<2:34:23,  6.84s/it]"
     ]
    },
    {
     "name": "stdout",
     "output_type": "stream",
     "text": [
      "0  results found\n",
      "\n",
      " GL_TS_MO_45160.nc\n",
      "GL_TS_MO_45160.nc does not have any valid data for this timeperiod\n",
      "GL_TS_MO_45160.nc does not have any valid data for this timeperiod\n",
      "\n",
      " NO_TS_MO_6200144.nc\n",
      "POINT(1.7000000476837158 53.400001525878906)\n",
      "229  results found\n"
     ]
    },
    {
     "name": "stderr",
     "output_type": "stream",
     "text": [
      " 46%|████▌     | 1135/2487 [1:40:11<2:34:48,  6.87s/it]"
     ]
    },
    {
     "name": "stdout",
     "output_type": "stream",
     "text": [
      "\n",
      " GL_TS_MO_IF000562.nc\n",
      "GL_TS_MO_IF000562.nc does not have any of the variables ['VHM0', 'VAVH', 'WSPD']\n",
      "\n",
      " GL_TS_MO_46110.nc\n",
      "GL_TS_MO_46110.nc does not have any valid data for this timeperiod\n",
      "\n",
      " GL_TS_MO_31478.nc\n",
      "GL_TS_MO_31478.nc does not have any valid data for this timeperiod\n",
      "\n",
      " GL_TS_MO_52200.nc\n",
      "POINT(144.78799438476562 13.354000091552734)\n"
     ]
    },
    {
     "name": "stderr",
     "output_type": "stream",
     "text": [
      " 46%|████▌     | 1139/2487 [1:40:19<1:46:57,  4.76s/it]"
     ]
    },
    {
     "name": "stdout",
     "output_type": "stream",
     "text": [
      "10  results found\n",
      "\n",
      " GL_TS_MO_MEDS046.nc\n",
      "GL_TS_MO_MEDS046.nc does not have any valid data for this timeperiod\n",
      "\n",
      " NO_TS_MO_6200142.nc\n",
      "NO_TS_MO_6200142.nc does not have any valid data for this timeperiod\n",
      "NO_TS_MO_6200142.nc does not have any valid data for this timeperiod\n",
      "\n",
      " NO_TS_MO_NieuwpoortBuoy.nc\n"
     ]
    },
    {
     "name": "stderr",
     "output_type": "stream",
     "text": [
      " 46%|████▌     | 1142/2487 [1:40:20<1:13:00,  3.26s/it]"
     ]
    },
    {
     "name": "stdout",
     "output_type": "stream",
     "text": [
      "NO_TS_MO_NieuwpoortBuoy.nc is too close to land\n",
      "\n",
      " GL_TS_MO_MEDS159.nc\n",
      "GL_TS_MO_MEDS159.nc does not have any valid data for this timeperiod\n",
      "\n",
      " GL_WS_MO_44084.nc\n",
      "GL_WS_MO_44084.nc does not have any of the variables ['VHM0', 'VAVH', 'WSPD']\n",
      "\n",
      " GL_TS_MO_51027.nc\n",
      "GL_TS_MO_51027.nc does not have any valid data for this timeperiod\n",
      "GL_TS_MO_51027.nc does not have any valid data for this timeperiod\n",
      "\n",
      " GL_TS_MO_46221.nc\n",
      "POINT(-118.64099884033203 33.86000061035156)\n",
      "232  results found\n"
     ]
    },
    {
     "name": "stderr",
     "output_type": "stream",
     "text": [
      " 46%|████▌     | 1149/2487 [1:40:30<47:35,  2.13s/it]  "
     ]
    },
    {
     "name": "stdout",
     "output_type": "stream",
     "text": [
      "\n",
      " BO_TS_MO_DrogdenTS.nc\n",
      "BO_TS_MO_DrogdenTS.nc does not have any of the variables ['VHM0', 'VAVH', 'WSPD']\n",
      "\n",
      " GL_TS_MO_44141.nc\n",
      "GL_TS_MO_44141.nc does not have any valid data for this timeperiod\n",
      "GL_TS_MO_44141.nc does not have any valid data for this timeperiod\n",
      "\n",
      " BO_TS_MO_Vaderoarna2.nc\n",
      "BO_TS_MO_Vaderoarna2.nc does not have any valid data for this timeperiod\n",
      "\n",
      " GL_TS_MO_46086.nc\n",
      "GL_TS_MO_46086.nc does not have any valid data for this timeperiod\n",
      "POINT(-118.052001953125 32.499000549316406)\n",
      "144  results found\n"
     ]
    },
    {
     "name": "stderr",
     "output_type": "stream",
     "text": [
      " 46%|████▋     | 1151/2487 [1:40:40<1:00:45,  2.73s/it]"
     ]
    },
    {
     "name": "stdout",
     "output_type": "stream",
     "text": [
      "\n",
      " GL_TS_MO_MEDS027.nc\n",
      "GL_TS_MO_MEDS027.nc does not have any valid data for this timeperiod\n",
      "\n",
      " NO_TS_MO_Oosterschelde4.nc\n",
      "POINT(3.694387912750244 51.65644073486328)\n",
      "118  results found\n"
     ]
    },
    {
     "name": "stderr",
     "output_type": "stream",
     "text": [
      " 46%|████▋     | 1153/2487 [1:40:53<1:21:51,  3.68s/it]"
     ]
    },
    {
     "name": "stdout",
     "output_type": "stream",
     "text": [
      "\n",
      " GL_TS_MO_6200021.nc\n",
      "GL_TS_MO_6200021.nc does not have any valid data for this timeperiod\n",
      "\n",
      " BO_TS_MO_Grisbadarna.nc\n"
     ]
    },
    {
     "name": "stderr",
     "output_type": "stream",
     "text": [
      " 47%|████▋     | 1157/2487 [1:40:53<49:03,  2.21s/it]  "
     ]
    },
    {
     "name": "stdout",
     "output_type": "stream",
     "text": [
      "BO_TS_MO_Grisbadarna.nc does not have any valid data for this timeperiod\n",
      "\n",
      " GL_TS_MO_SouthernOcean.nc\n",
      "GL_TS_MO_SouthernOcean.nc does not have any valid data for this timeperiod\n",
      "GL_TS_MO_SouthernOcean.nc does not have any valid data for this timeperiod\n",
      "\n",
      " MO_TS_MO_ANCONA-61218.nc\n",
      "MO_TS_MO_ANCONA-61218.nc does not have any valid data for this timeperiod\n",
      "\n",
      " GL_TS_MO_MEDS184.nc\n",
      "GL_TS_MO_MEDS184.nc does not have any valid data for this timeperiod\n",
      "\n",
      " GL_TS_MO_45023.nc\n",
      "GL_TS_MO_45023.nc does not have any valid data for this timeperiod\n"
     ]
    },
    {
     "name": "stderr",
     "output_type": "stream",
     "text": [
      " 47%|████▋     | 1159/2487 [1:40:53<38:24,  1.74s/it]"
     ]
    },
    {
     "name": "stdout",
     "output_type": "stream",
     "text": [
      "GL_TS_MO_45023.nc does not have any valid data for this timeperiod\n",
      "\n",
      " AR_TS_MO_Sandoeya-7-117.nc\n",
      "AR_TS_MO_Sandoeya-7-117.nc does not have any of the variables ['VHM0', 'VAVH', 'WSPD']\n",
      "\n",
      " GL_TS_MO_44088.nc\n",
      "GL_TS_MO_44088.nc does not have any valid data for this timeperiod\n",
      "\n",
      " GL_TS_MO_3201682.nc\n",
      "GL_TS_MO_3201682.nc does not have any of the variables ['VHM0', 'VAVH', 'WSPD']\n",
      "\n",
      " AR_TS_MO_Raudvigaa-9-56.nc\n",
      "AR_TS_MO_Raudvigaa-9-56.nc does not have any of the variables ['VHM0', 'VAVH', 'WSPD']\n",
      "\n",
      " NO_TS_MO_6200149.nc\n",
      "POINT(1.100000023841858 53.70000076293945)\n",
      "157  results found\n"
     ]
    },
    {
     "name": "stderr",
     "output_type": "stream",
     "text": [
      " 47%|████▋     | 1163/2487 [1:41:05<47:35,  2.16s/it]"
     ]
    },
    {
     "name": "stdout",
     "output_type": "stream",
     "text": [
      "\n",
      " AR_TS_MO_Munkholmen-4-11.nc\n",
      "AR_TS_MO_Munkholmen-4-11.nc does not have any of the variables ['VHM0', 'VAVH', 'WSPD']\n",
      "\n",
      " GL_TS_MO_23169.nc\n",
      "GL_TS_MO_23169.nc does not have any valid data for this timeperiod\n",
      "\n",
      " GL_TS_MO_IF000255.nc\n",
      "GL_TS_MO_IF000255.nc does not have any of the variables ['VHM0', 'VAVH', 'WSPD']\n",
      "\n",
      " GL_TS_MO_6200310.nc\n",
      "POINT(-0.3073999881744385 49.34379959106445)\n",
      "236  results found\n"
     ]
    },
    {
     "name": "stderr",
     "output_type": "stream",
     "text": [
      " 47%|████▋     | 1167/2487 [1:41:18<57:04,  2.59s/it]"
     ]
    },
    {
     "name": "stdout",
     "output_type": "stream",
     "text": [
      "\n",
      " NO_TS_MO_Roompotsluis.nc\n",
      "POINT(3.6823999881744385 51.62049865722656)\n",
      "118  results found\n"
     ]
    },
    {
     "name": "stderr",
     "output_type": "stream",
     "text": [
      " 47%|████▋     | 1171/2487 [1:41:30<54:05,  2.47s/it]  "
     ]
    },
    {
     "name": "stdout",
     "output_type": "stream",
     "text": [
      "\n",
      " GL_TS_MO_MEDS095.nc\n",
      "GL_TS_MO_MEDS095.nc does not have any valid data for this timeperiod\n",
      "\n",
      " AR_TS_MO_Statfjord-B.nc\n",
      "AR_TS_MO_Statfjord-B.nc does not have any valid data for this timeperiod\n",
      "\n",
      " GL_TS_MO_45203.nc\n",
      "GL_TS_MO_45203.nc does not have any valid data for this timeperiod\n",
      "GL_TS_MO_45203.nc does not have any valid data for this timeperiod\n",
      "\n",
      " GL_TS_MO_4600204.nc\n",
      "GL_TS_MO_4600204.nc does not have any valid data for this timeperiod\n",
      "\n",
      " GL_TS_MO_62199.nc\n",
      "GL_TS_MO_62199.nc does not have any valid data for this timeperiod\n",
      "\n",
      " GL_TS_MO_WEL420.nc\n"
     ]
    },
    {
     "name": "stderr",
     "output_type": "stream",
     "text": [
      " 47%|████▋     | 1174/2487 [1:41:30<37:02,  1.69s/it]"
     ]
    },
    {
     "name": "stdout",
     "output_type": "stream",
     "text": [
      "GL_TS_MO_WEL420.nc does not have any valid data for this timeperiod\n",
      "\n",
      " NO_TS_MO_6200127.nc\n",
      "POINT(0.699999988079071 54.0)\n",
      "215  results found\n"
     ]
    },
    {
     "name": "stderr",
     "output_type": "stream",
     "text": [
      " 47%|████▋     | 1177/2487 [1:41:39<46:14,  2.12s/it]"
     ]
    },
    {
     "name": "stdout",
     "output_type": "stream",
     "text": [
      "NO_TS_MO_6200127.nc does not have any valid data for this timeperiod\n",
      "\n",
      " GL_TS_MO_MEDS057.nc\n",
      "GL_TS_MO_MEDS057.nc does not have any valid data for this timeperiod\n",
      "\n",
      " GL_TS_MO_44030.nc\n",
      "GL_TS_MO_44030.nc does not have any valid data for this timeperiod\n",
      "GL_TS_MO_44030.nc does not have any valid data for this timeperiod\n",
      "\n",
      " GL_TS_MO_6200079.nc\n"
     ]
    },
    {
     "name": "stderr",
     "output_type": "stream",
     "text": [
      " 48%|████▊     | 1182/2487 [1:41:40<24:15,  1.11s/it]"
     ]
    },
    {
     "name": "stdout",
     "output_type": "stream",
     "text": [
      "GL_TS_MO_6200079.nc is too close to land\n",
      "\n",
      " GL_WS_MO_45150.nc\n",
      "GL_WS_MO_45150.nc does not have any of the variables ['VHM0', 'VAVH', 'WSPD']\n",
      "\n",
      " IR_TS_MO_Bilbao-current-meter.nc\n",
      "IR_TS_MO_Bilbao-current-meter.nc does not have any of the variables ['VHM0', 'VAVH', 'WSPD']\n",
      "\n",
      " MO_TS_MO_ZAKYN.nc\n",
      "MO_TS_MO_ZAKYN.nc does not have any valid data for this timeperiod\n",
      "MO_TS_MO_ZAKYN.nc does not have any valid data for this timeperiod\n",
      "\n",
      " NO_TS_MO_WestonBayMET.nc\n",
      "NO_TS_MO_WestonBayMET.nc does not have any valid data for this timeperiod\n",
      "\n",
      " IR_TS_MO_6100196.nc\n",
      "IR_TS_MO_6100196.nc does not have any valid data for this timeperiod\n",
      "POLYGON((3.6700000762939453 41.89649963378906,3.6700000762939453 41.91999816894531,3.6261000633239746 41.91999816894531,3.6261000633239746 41.89649963378906,3.6700000762939453 41.89649963378906))\n",
      "176  results found\n"
     ]
    },
    {
     "name": "stderr",
     "output_type": "stream",
     "text": [
      " 48%|████▊     | 1183/2487 [1:42:43<3:26:21,  9.50s/it]"
     ]
    },
    {
     "name": "stdout",
     "output_type": "stream",
     "text": [
      "\n",
      " GL_WS_MO_41025.nc\n",
      "GL_WS_MO_41025.nc does not have any of the variables ['VHM0', 'VAVH', 'WSPD']\n",
      "\n",
      " GL_TS_MO_46080.nc\n",
      "GL_TS_MO_46080.nc does not have any valid data for this timeperiod\n",
      "POINT(-150.04200744628906 57.946998596191406)\n"
     ]
    },
    {
     "name": "stderr",
     "output_type": "stream",
     "text": [
      " 48%|████▊     | 1188/2487 [1:43:00<2:06:31,  5.84s/it]"
     ]
    },
    {
     "name": "stdout",
     "output_type": "stream",
     "text": [
      "0  results found\n",
      "\n",
      " GL_TS_MO_WEL298.nc\n",
      "GL_TS_MO_WEL298.nc does not have any valid data for this timeperiod\n",
      "\n",
      " GL_TS_MO_EXCE0006.nc\n",
      "GL_TS_MO_EXCE0006.nc does not have any valid data for this timeperiod\n",
      "GL_TS_MO_EXCE0006.nc does not have any valid data for this timeperiod\n",
      "\n",
      " GL_TS_MO_44035.nc\n",
      "GL_TS_MO_44035.nc does not have any valid data for this timeperiod\n",
      "GL_TS_MO_44035.nc does not have any valid data for this timeperiod\n",
      "\n",
      " GL_WS_MO_42003.nc\n",
      "GL_WS_MO_42003.nc does not have any of the variables ['VHM0', 'VAVH', 'WSPD']\n",
      "\n",
      " IR_TS_MO_SmartBayWaveBuoy.nc\n",
      "POINT(-9.262277603149414 53.22833251953125)\n"
     ]
    },
    {
     "name": "stderr",
     "output_type": "stream",
     "text": [
      " 48%|████▊     | 1188/2487 [1:43:19<2:06:31,  5.84s/it]"
     ]
    },
    {
     "name": "stdout",
     "output_type": "stream",
     "text": [
      "227  results found\n"
     ]
    },
    {
     "name": "stderr",
     "output_type": "stream",
     "text": [
      " 48%|████▊     | 1193/2487 [1:43:29<1:50:38,  5.13s/it]"
     ]
    },
    {
     "name": "stdout",
     "output_type": "stream",
     "text": [
      "\n",
      " GL_TS_MO_SOG-1.nc\n",
      "GL_TS_MO_SOG-1.nc does not have any of the variables ['VHM0', 'VAVH', 'WSPD']\n",
      "\n",
      " GL_TS_MO_6200056.nc\n",
      "GL_TS_MO_6200056.nc is too close to land\n",
      "\n",
      " GL_TS_MO_EXEM0001.nc\n",
      "GL_TS_MO_EXEM0001.nc does not have any of the variables ['VHM0', 'VAVH', 'WSPD']\n",
      "\n",
      " GL_TS_MO_46112.nc\n",
      "GL_TS_MO_46112.nc does not have any valid data for this timeperiod\n",
      "\n",
      " GL_TS_MO_23017.nc\n",
      "POINT(67.0 -4.0)\n"
     ]
    },
    {
     "name": "stderr",
     "output_type": "stream",
     "text": [
      " 48%|████▊     | 1195/2487 [1:43:41<1:57:36,  5.46s/it]"
     ]
    },
    {
     "name": "stdout",
     "output_type": "stream",
     "text": [
      "0  results found\n",
      "\n",
      " GL_WS_MO_45143.nc\n",
      "GL_WS_MO_45143.nc does not have any of the variables ['VHM0', 'VAVH', 'WSPD']\n",
      "\n",
      " GL_TS_MO_T5N165E.nc\n",
      "POINT(165.0 5.0)\n"
     ]
    },
    {
     "name": "stderr",
     "output_type": "stream",
     "text": [
      " 48%|████▊     | 1197/2487 [1:43:55<2:06:17,  5.87s/it]"
     ]
    },
    {
     "name": "stdout",
     "output_type": "stream",
     "text": [
      "0  results found\n",
      "\n",
      " GL_TS_MO_46061.nc\n",
      "GL_TS_MO_46061.nc does not have any valid data for this timeperiod\n",
      "POINT(-146.83299255371094 60.237998962402344)\n",
      "54  results found\n"
     ]
    },
    {
     "name": "stderr",
     "output_type": "stream",
     "text": [
      " 48%|████▊     | 1198/2487 [1:44:12<2:43:56,  7.63s/it]"
     ]
    },
    {
     "name": "stdout",
     "output_type": "stream",
     "text": [
      "\n",
      " GL_TS_MO_46096.nc\n",
      "GL_TS_MO_46096.nc does not have any valid data for this timeperiod\n",
      "\n",
      " NO_TS_MO_6201050.nc\n",
      "NO_TS_MO_6201050.nc does not have any valid data for this timeperiod\n",
      "\n",
      " GL_TS_MO_MEDS076.nc\n",
      "GL_TS_MO_MEDS076.nc does not have any valid data for this timeperiod\n",
      "\n",
      " GL_TS_MO_2200188.nc\n",
      "POINT(128.22999572753906 34.38999938964844)\n",
      "116  results found\n"
     ]
    },
    {
     "name": "stderr",
     "output_type": "stream",
     "text": [
      " 48%|████▊     | 1202/2487 [1:44:31<2:12:11,  6.17s/it]"
     ]
    },
    {
     "name": "stdout",
     "output_type": "stream",
     "text": [
      "\n",
      " MO_TS_MO_FORM.nc\n",
      "MO_TS_MO_FORM.nc does not have any valid data for this timeperiod\n",
      "\n",
      " GL_TS_MO_2200187.nc\n",
      "POINT(127.0199966430664 33.130001068115234)\n",
      "29  results found\n"
     ]
    },
    {
     "name": "stderr",
     "output_type": "stream",
     "text": [
      " 48%|████▊     | 1204/2487 [1:44:47<2:23:54,  6.73s/it]"
     ]
    },
    {
     "name": "stdout",
     "output_type": "stream",
     "text": [
      "\n",
      " GL_TS_MO_46235.nc\n",
      "POINT(-117.16899871826172 32.56999969482422)\n",
      "176  results found\n"
     ]
    },
    {
     "name": "stderr",
     "output_type": "stream",
     "text": [
      " 49%|████▊     | 1208/2487 [1:45:06<1:50:09,  5.17s/it]"
     ]
    },
    {
     "name": "stdout",
     "output_type": "stream",
     "text": [
      "\n",
      " AR_TS_MO_Riskedalsvatnet-37-92.nc\n",
      "AR_TS_MO_Riskedalsvatnet-37-92.nc does not have any of the variables ['VHM0', 'VAVH', 'WSPD']\n",
      "\n",
      " GL_TS_MO_46021.nc\n",
      "GL_TS_MO_46021.nc does not have any valid data for this timeperiod\n",
      "\n",
      " MO_TS_MO_BARBARIA.nc\n",
      "MO_TS_MO_BARBARIA.nc does not have any valid data for this timeperiod\n",
      "\n",
      " GL_TS_MO_T2S170W.nc\n",
      "POINT(-170.0 -2.0)\n"
     ]
    },
    {
     "name": "stderr",
     "output_type": "stream",
     "text": [
      " 49%|████▉     | 1215/2487 [1:45:17<58:33,  2.76s/it]  "
     ]
    },
    {
     "name": "stdout",
     "output_type": "stream",
     "text": [
      "0  results found\n",
      "\n",
      " NO_TS_MO_6201574.nc\n",
      "NO_TS_MO_6201574.nc does not have any of the variables ['VHM0', 'VAVH', 'WSPD']\n",
      "\n",
      " GL_WS_MO_46078.nc\n",
      "GL_WS_MO_46078.nc does not have any of the variables ['VHM0', 'VAVH', 'WSPD']\n",
      "\n",
      " GL_WS_MO_42057.nc\n",
      "GL_WS_MO_42057.nc does not have any of the variables ['VHM0', 'VAVH', 'WSPD']\n",
      "\n",
      " GL_TS_MO_MEDS022.nc\n",
      "GL_TS_MO_MEDS022.nc does not have any valid data for this timeperiod\n",
      "\n",
      " NO_TS_MO_6201009.nc\n",
      "NO_TS_MO_6201009.nc does not have any valid data for this timeperiod\n",
      "\n",
      " GL_WS_MO_46273.nc\n",
      "GL_WS_MO_46273.nc does not have any of the variables ['VHM0', 'VAVH', 'WSPD']\n",
      "\n",
      " GL_TS_MO_46003.nc\n",
      "GL_TS_MO_46003.nc does not have any valid data for this timeperiod\n",
      "GL_TS_MO_46003.nc does not have any valid data for this timeperiod\n",
      "\n",
      " GL_TS_MO_WEL278.nc\n",
      "GL_TS_MO_WEL278.nc does not have any valid data for this timeperiod\n",
      "GL_TS_MO_WEL278.nc does not have any valid data for this timeperiod\n",
      "\n",
      " GL_TS_MO_2200105.nc\n",
      "POINT(130.0 37.540000915527344)\n"
     ]
    },
    {
     "name": "stderr",
     "output_type": "stream",
     "text": [
      " 49%|████▉     | 1215/2487 [1:45:29<58:33,  2.76s/it]"
     ]
    },
    {
     "name": "stdout",
     "output_type": "stream",
     "text": [
      "54  results found\n"
     ]
    },
    {
     "name": "stderr",
     "output_type": "stream",
     "text": [
      " 49%|████▉     | 1218/2487 [1:45:33<1:14:53,  3.54s/it]"
     ]
    },
    {
     "name": "stdout",
     "output_type": "stream",
     "text": [
      "\n",
      " GL_TS_MO_42390.nc\n",
      "GL_TS_MO_42390.nc does not have any valid data for this timeperiod\n",
      "\n",
      " BO_TS_MO_OlandWaverider.nc\n",
      "BO_TS_MO_OlandWaverider.nc does not have any valid data for this timeperiod\n",
      "\n",
      " GL_TS_MO_41052.nc\n",
      "GL_TS_MO_41052.nc does not have any valid data for this timeperiod\n",
      "POINT(-64.76300048828125 18.249000549316406)\n",
      "60  results found\n"
     ]
    },
    {
     "name": "stderr",
     "output_type": "stream",
     "text": [
      " 49%|████▉     | 1221/2487 [1:45:49<1:26:22,  4.09s/it]"
     ]
    },
    {
     "name": "stdout",
     "output_type": "stream",
     "text": [
      "\n",
      " GL_TS_MO_46239.nc\n",
      "POINT(-122.10399627685547 36.334999084472656)\n",
      "148  results found\n"
     ]
    },
    {
     "name": "stderr",
     "output_type": "stream",
     "text": [
      " 49%|████▉     | 1222/2487 [1:46:02<1:49:54,  5.21s/it]"
     ]
    },
    {
     "name": "stdout",
     "output_type": "stream",
     "text": [
      "\n",
      " BO_TS_MO_FinngrundetWR.nc\n",
      "POLYGON((18.606700897216797 60.898799896240234,18.606700897216797 60.901798248291016,18.61669921875 60.901798248291016,18.61669921875 60.898799896240234,18.606700897216797 60.898799896240234))\n",
      "285  results found\n"
     ]
    },
    {
     "name": "stderr",
     "output_type": "stream",
     "text": [
      " 49%|████▉     | 1223/2487 [1:48:52<10:38:51, 30.33s/it]"
     ]
    },
    {
     "name": "stdout",
     "output_type": "stream",
     "text": [
      "\n",
      " GL_TS_MO_42040.nc\n",
      "GL_TS_MO_42040.nc does not have any valid data for this timeperiod\n",
      "POLYGON((-88.23699951171875 29.211999893188477,-88.23699951171875 29.207000732421875,-88.20700073242188 29.207000732421875,-88.20700073242188 29.211999893188477,-88.23699951171875 29.211999893188477))\n",
      "28  results found\n"
     ]
    },
    {
     "name": "stderr",
     "output_type": "stream",
     "text": [
      " 49%|████▉     | 1224/2487 [1:49:41<11:48:46, 33.67s/it]"
     ]
    },
    {
     "name": "stdout",
     "output_type": "stream",
     "text": [
      "\n",
      " MO_TS_MO_6101628.nc\n",
      "POINT(13.671699523925781 45.60329818725586)\n",
      "176  results found\n"
     ]
    },
    {
     "name": "stderr",
     "output_type": "stream",
     "text": [
      " 49%|████▉     | 1228/2487 [1:49:52<5:26:00, 15.54s/it] "
     ]
    },
    {
     "name": "stdout",
     "output_type": "stream",
     "text": [
      "\n",
      " NO_TS_MO_Amelander32.nc\n",
      "NO_TS_MO_Amelander32.nc does not have any valid data for this timeperiod\n",
      "NO_TS_MO_Amelander32.nc does not have any valid data for this timeperiod\n",
      "\n",
      " GL_TS_MO_WEL302.nc\n",
      "GL_TS_MO_WEL302.nc does not have any valid data for this timeperiod\n",
      "\n",
      " GL_TS_MO_MEDS070.nc\n",
      "GL_TS_MO_MEDS070.nc does not have any valid data for this timeperiod\n",
      "\n",
      " GL_TS_MO_23003.nc\n",
      "GL_TS_MO_23003.nc does not have any valid data for this timeperiod\n",
      "\n",
      " NO_TS_MO_LTKiel.nc\n",
      "POINT(10.266667366027832 54.5)\n",
      "231  results found\n"
     ]
    },
    {
     "name": "stderr",
     "output_type": "stream",
     "text": [
      " 50%|████▉     | 1233/2487 [1:50:09<2:55:18,  8.39s/it]"
     ]
    },
    {
     "name": "stdout",
     "output_type": "stream",
     "text": [
      "\n",
      " GL_TS_MO_MEDS104.nc\n",
      "GL_TS_MO_MEDS104.nc does not have any valid data for this timeperiod\n",
      "\n",
      " NO_TS_MO_IJmondstroompaal2.nc\n",
      "NO_TS_MO_IJmondstroompaal2.nc does not have any of the variables ['VHM0', 'VAVH', 'WSPD']\n",
      "\n",
      " GL_TS_MO_44061.nc\n",
      "GL_TS_MO_44061.nc does not have any valid data for this timeperiod\n",
      "\n",
      " GL_WS_MO_46211.nc\n",
      "GL_WS_MO_46211.nc does not have any of the variables ['VHM0', 'VAVH', 'WSPD']\n",
      "\n",
      " GL_TS_MO_45015.nc\n",
      "GL_TS_MO_45015.nc does not have any valid data for this timeperiod\n",
      "\n",
      " GL_TS_MO_EMSO-Azores-Borel.nc\n",
      "POINT(-32.276588439941406 37.30134963989258)\n",
      "118  results found\n"
     ]
    },
    {
     "name": "stderr",
     "output_type": "stream",
     "text": [
      " 50%|████▉     | 1236/2487 [1:50:18<2:12:48,  6.37s/it]"
     ]
    },
    {
     "name": "stdout",
     "output_type": "stream",
     "text": [
      "\n",
      " GL_TS_MO_4701716.nc\n",
      "GL_TS_MO_4701716.nc does not have any of the variables ['VHM0', 'VAVH', 'WSPD']\n",
      "\n",
      " GL_TS_MO_56010.nc\n",
      "POINT(121.9000015258789 -34.0)\n"
     ]
    },
    {
     "name": "stderr",
     "output_type": "stream",
     "text": [
      " 50%|████▉     | 1238/2487 [1:50:28<2:04:24,  5.98s/it]"
     ]
    },
    {
     "name": "stdout",
     "output_type": "stream",
     "text": [
      "29  results found\n",
      "\n",
      " GL_WS_MO_42019.nc\n",
      "GL_WS_MO_42019.nc does not have any of the variables ['VHM0', 'VAVH', 'WSPD']\n",
      "\n",
      " GL_TS_MO_2300099.nc\n",
      "POLYGON((80.31400299072266 13.10099983215332,80.31400299072266 13.095999717712402,80.31700134277344 13.095999717712402,80.31700134277344 13.10099983215332,80.31400299072266 13.10099983215332))\n",
      "29  results found\n"
     ]
    },
    {
     "name": "stderr",
     "output_type": "stream",
     "text": [
      " 50%|████▉     | 1240/2487 [1:50:38<1:59:22,  5.74s/it]"
     ]
    },
    {
     "name": "stdout",
     "output_type": "stream",
     "text": [
      "\n",
      " GL_TS_MO_44137.nc\n",
      "GL_TS_MO_44137.nc does not have any valid data for this timeperiod\n",
      "POINT(-61.99800109863281 42.262001037597656)\n",
      "58  results found\n"
     ]
    },
    {
     "name": "stderr",
     "output_type": "stream",
     "text": [
      " 50%|████▉     | 1241/2487 [1:50:50<2:20:29,  6.77s/it]"
     ]
    },
    {
     "name": "stdout",
     "output_type": "stream",
     "text": [
      "\n",
      " GL_TS_MO_41002.nc\n",
      "GL_TS_MO_41002.nc does not have any valid data for this timeperiod\n",
      "POLYGON((-74.94499969482422 31.761999130249023,-74.94499969482422 31.760000228881836,-74.95700073242188 31.760000228881836,-74.95700073242188 31.761999130249023,-74.94499969482422 31.761999130249023))\n",
      "28  results found\n"
     ]
    },
    {
     "name": "stderr",
     "output_type": "stream",
     "text": [
      " 50%|████▉     | 1242/2487 [1:51:34<4:45:11, 13.74s/it]"
     ]
    },
    {
     "name": "stdout",
     "output_type": "stream",
     "text": [
      "\n",
      " GL_TS_MO_46019.nc\n",
      "GL_TS_MO_46019.nc does not have any valid data for this timeperiod\n",
      "\n",
      " GL_TS_MO_23503.nc\n",
      "GL_TS_MO_23503.nc does not have any of the variables ['VHM0', 'VAVH', 'WSPD']\n",
      "\n",
      " GL_TS_MO_SCENES.nc\n",
      "POINT(0.03200000151991844 49.48099899291992)\n",
      "203  results found\n"
     ]
    },
    {
     "name": "stderr",
     "output_type": "stream",
     "text": [
      " 50%|█████     | 1245/2487 [1:51:48<3:20:05,  9.67s/it]"
     ]
    },
    {
     "name": "stdout",
     "output_type": "stream",
     "text": [
      "\n",
      " GL_TS_MO_55057.nc\n",
      "GL_TS_MO_55057.nc does not have any valid data for this timeperiod\n",
      "\n",
      " GL_TS_MO_T2N155W.nc\n",
      "POINT(-155.0 2.0)\n"
     ]
    },
    {
     "name": "stderr",
     "output_type": "stream",
     "text": [
      " 50%|█████     | 1247/2487 [1:51:57<2:48:20,  8.15s/it]"
     ]
    },
    {
     "name": "stdout",
     "output_type": "stream",
     "text": [
      "0  results found\n",
      "\n",
      " GL_WS_MO_41009.nc\n",
      "GL_WS_MO_41009.nc does not have any of the variables ['VHM0', 'VAVH', 'WSPD']\n",
      "\n",
      " GL_TS_MO_42036.nc\n",
      "GL_TS_MO_42036.nc does not have any valid data for this timeperiod\n",
      "LINESTRING(-84.50800323486328 28.500999450683594,-84.51599884033203 28.500999450683594)\n",
      "28  results found\n"
     ]
    },
    {
     "name": "stderr",
     "output_type": "stream",
     "text": [
      " 50%|█████     | 1249/2487 [1:53:05<5:29:32, 15.97s/it]"
     ]
    },
    {
     "name": "stdout",
     "output_type": "stream",
     "text": [
      "\n",
      " BS_TS_MO_33917.nc\n",
      "BS_TS_MO_33917.nc does not have any valid data for this timeperiod\n",
      "\n",
      " GL_TS_MO_55029.nc\n",
      "POLYGON((147.059326171875 -19.159170150756836,147.059326171875 -19.280000686645508,147.1199951171875 -19.280000686645508,147.1199951171875 -19.159170150756836,147.059326171875 -19.159170150756836))\n",
      "30  results found\n"
     ]
    },
    {
     "name": "stderr",
     "output_type": "stream",
     "text": [
      " 50%|█████     | 1251/2487 [1:53:28<5:00:48, 14.60s/it]"
     ]
    },
    {
     "name": "stdout",
     "output_type": "stream",
     "text": [
      "\n",
      " GL_TS_MO_WEL435.nc\n",
      "GL_TS_MO_WEL435.nc does not have any valid data for this timeperiod\n",
      "\n",
      " GL_TS_MO_14042.nc\n",
      "GL_TS_MO_14042.nc does not have any valid data for this timeperiod\n",
      "\n",
      " GL_TS_MO_46706A.nc\n",
      "GL_TS_MO_46706A.nc does not have any valid data for this timeperiod\n",
      "\n",
      " IR_TS_MO_6201070.nc\n",
      "IR_TS_MO_6201070.nc does not have any valid data for this timeperiod\n",
      "IR_TS_MO_6201070.nc does not have any valid data for this timeperiod\n",
      "POINT(-8.56149959564209 43.349998474121094)\n",
      "111  results found\n"
     ]
    },
    {
     "name": "stderr",
     "output_type": "stream",
     "text": [
      " 51%|█████     | 1256/2487 [1:53:39<2:40:51,  7.84s/it]"
     ]
    },
    {
     "name": "stdout",
     "output_type": "stream",
     "text": [
      "\n",
      " GL_TS_MO_45026.nc\n",
      "GL_TS_MO_45026.nc does not have any valid data for this timeperiod\n",
      "GL_TS_MO_45026.nc is too close to land\n",
      "\n",
      " AR_TS_MO_Ekofisk.nc\n"
     ]
    },
    {
     "name": "stderr",
     "output_type": "stream",
     "text": [
      " 51%|█████     | 1258/2487 [1:53:39<1:54:45,  5.60s/it]"
     ]
    },
    {
     "name": "stdout",
     "output_type": "stream",
     "text": [
      "AR_TS_MO_Ekofisk.nc does not have any valid data for this timeperiod\n",
      "\n",
      " GL_TS_MO_6801032.nc\n",
      "GL_TS_MO_6801032.nc does not have any of the variables ['VHM0', 'VAVH', 'WSPD']\n",
      "\n",
      " GL_WS_MO_46080.nc\n",
      "GL_WS_MO_46080.nc does not have any of the variables ['VHM0', 'VAVH', 'WSPD']\n",
      "\n",
      " GL_TS_MO_MEDS078.nc\n",
      "GL_TS_MO_MEDS078.nc does not have any valid data for this timeperiod\n",
      "\n",
      " NO_TS_MO_DarsserS.nc\n",
      "POINT(12.699999809265137 54.70000076293945)\n"
     ]
    },
    {
     "name": "stderr",
     "output_type": "stream",
     "text": [
      " 51%|█████     | 1258/2487 [1:53:50<1:54:45,  5.60s/it]"
     ]
    },
    {
     "name": "stdout",
     "output_type": "stream",
     "text": [
      "237  results found\n"
     ]
    },
    {
     "name": "stderr",
     "output_type": "stream",
     "text": [
      " 51%|█████     | 1261/2487 [1:53:55<1:53:03,  5.53s/it]"
     ]
    },
    {
     "name": "stdout",
     "output_type": "stream",
     "text": [
      "\n",
      " GL_TS_MO_6100191.nc\n",
      "POINT(3.124500036239624 42.91619873046875)\n",
      "176  results found\n"
     ]
    },
    {
     "name": "stderr",
     "output_type": "stream",
     "text": [
      " 51%|█████     | 1262/2487 [1:54:06<2:09:04,  6.32s/it]"
     ]
    },
    {
     "name": "stdout",
     "output_type": "stream",
     "text": [
      "\n",
      " GL_TS_MO_42022.nc\n",
      "POINT(-83.74099731445312 27.5049991607666)\n"
     ]
    },
    {
     "name": "stderr",
     "output_type": "stream",
     "text": [
      " 51%|█████     | 1263/2487 [1:54:13<2:11:21,  6.44s/it]"
     ]
    },
    {
     "name": "stdout",
     "output_type": "stream",
     "text": [
      "28  results found\n",
      "\n",
      " GL_TS_MO_MEDS073.nc\n",
      "GL_TS_MO_MEDS073.nc does not have any valid data for this timeperiod\n",
      "\n",
      " AR_TS_MO_Norheimsund-14-25.nc\n",
      "AR_TS_MO_Norheimsund-14-25.nc does not have any of the variables ['VHM0', 'VAVH', 'WSPD']\n",
      "\n",
      " MO_TS_MO_OOCS.nc\n",
      "MO_TS_MO_OOCS.nc does not have any valid data for this timeperiod\n",
      "\n",
      " GL_TS_MO_T5S95W.nc\n",
      "POINT(-95.0 -5.0)\n"
     ]
    },
    {
     "name": "stderr",
     "output_type": "stream",
     "text": [
      " 51%|█████     | 1267/2487 [1:54:22<1:27:50,  4.32s/it]"
     ]
    },
    {
     "name": "stdout",
     "output_type": "stream",
     "text": [
      "0  results found\n",
      "\n",
      " GL_TS_MO_MEDS285.nc\n",
      "GL_TS_MO_MEDS285.nc does not have any valid data for this timeperiod\n",
      "\n",
      " GL_TS_MO_56055.nc\n",
      "GL_TS_MO_56055.nc does not have any valid data for this timeperiod\n",
      "\n",
      " GL_TS_MO_52121.nc\n",
      "POLYGON((141.67999267578125 -13.130000114440918,141.67999267578125 -12.680000305175781,142.1300048828125 -12.680000305175781,142.1300048828125 -13.130000114440918,141.67999267578125 -13.130000114440918))\n",
      "58  results found\n"
     ]
    },
    {
     "name": "stderr",
     "output_type": "stream",
     "text": [
      " 51%|█████     | 1272/2487 [1:54:42<1:17:08,  3.81s/it]"
     ]
    },
    {
     "name": "stdout",
     "output_type": "stream",
     "text": [
      "\n",
      " GL_TS_MO_42021.nc\n",
      "GL_TS_MO_42021.nc does not have any valid data for this timeperiod\n",
      "\n",
      " NO_TS_MO_Amelander11.nc\n",
      "NO_TS_MO_Amelander11.nc does not have any valid data for this timeperiod\n",
      "NO_TS_MO_Amelander11.nc does not have any valid data for this timeperiod\n",
      "\n",
      " NO_TS_MO_DarsserSCU.nc\n",
      "NO_TS_MO_DarsserSCU.nc does not have any of the variables ['VHM0', 'VAVH', 'WSPD']\n",
      "\n",
      " GL_TS_MO_4601636.nc\n",
      "GL_TS_MO_4601636.nc does not have any of the variables ['VHM0', 'VAVH', 'WSPD']\n",
      "\n",
      " GL_TS_MO_6100284.nc\n",
      "GL_TS_MO_6100284.nc does not have any valid data for this timeperiod\n",
      "GL_TS_MO_6100284.nc does not have any valid data for this timeperiod\n"
     ]
    },
    {
     "name": "stderr",
     "output_type": "stream",
     "text": [
      " 51%|█████▏    | 1275/2487 [1:54:44<54:34,  2.70s/it]  "
     ]
    },
    {
     "name": "stdout",
     "output_type": "stream",
     "text": [
      "GL_TS_MO_6100284.nc does not have any valid data for this timeperiod\n",
      "\n",
      " MO_TS_MO_NADR-SNG.nc\n",
      "MO_TS_MO_NADR-SNG.nc does not have any valid data for this timeperiod\n",
      "\n",
      " NO_TS_MO_NsbIII.nc\n",
      "NO_TS_MO_NsbIII.nc does not have any valid data for this timeperiod\n",
      "POINT(6.783332824707031 54.68333435058594)\n",
      "236  results found\n"
     ]
    },
    {
     "name": "stderr",
     "output_type": "stream",
     "text": [
      " 52%|█████▏    | 1282/2487 [1:55:02<45:46,  2.28s/it]  "
     ]
    },
    {
     "name": "stdout",
     "output_type": "stream",
     "text": [
      "\n",
      " GL_TS_MO_WEL450.nc\n",
      "GL_TS_MO_WEL450.nc does not have any valid data for this timeperiod\n",
      "\n",
      " GL_TS_MO_MEDS241.nc\n",
      "GL_TS_MO_MEDS241.nc does not have any valid data for this timeperiod\n",
      "\n",
      " MO_TS_MO_PONZA-61214.nc\n",
      "MO_TS_MO_PONZA-61214.nc does not have any valid data for this timeperiod\n",
      "\n",
      " GL_TS_MO_WEL445.nc\n",
      "GL_TS_MO_WEL445.nc does not have any valid data for this timeperiod\n",
      "\n",
      " GL_TS_MO_CapeNaturaliste01.nc\n",
      "GL_TS_MO_CapeNaturaliste01.nc does not have any valid data for this timeperiod\n",
      "\n",
      " GL_WS_MO_42042.nc\n",
      "GL_WS_MO_42042.nc does not have any of the variables ['VHM0', 'VAVH', 'WSPD']\n",
      "\n",
      " MO_TS_MO_Olympiada.nc\n",
      "MO_TS_MO_Olympiada.nc does not have any of the variables ['VHM0', 'VAVH', 'WSPD']\n",
      "\n",
      " GL_WS_MO_45180.nc\n",
      "GL_WS_MO_45180.nc does not have any of the variables ['VHM0', 'VAVH', 'WSPD']\n",
      "\n",
      " GL_TS_MO_23014.nc\n",
      "POLYGON((66.71499633789062 0.949999988079071,66.71499633789062 2.26200008392334,62.47600173950195 2.26200008392334,62.47600173950195 0.949999988079071,66.71499633789062 0.949999988079071))\n"
     ]
    },
    {
     "name": "stderr",
     "output_type": "stream",
     "text": [
      " 52%|█████▏    | 1286/2487 [1:55:08<39:51,  1.99s/it]"
     ]
    },
    {
     "name": "stdout",
     "output_type": "stream",
     "text": [
      "0  results found\n",
      "\n",
      " GL_TS_MO_46259.nc\n",
      "POINT(-121.49800109863281 34.766998291015625)\n",
      "119  results found\n",
      "\n",
      " GL_TS_MO_T8S180W.nc\n"
     ]
    },
    {
     "name": "stderr",
     "output_type": "stream",
     "text": [
      " 52%|█████▏    | 1286/2487 [1:55:20<39:51,  1.99s/it]"
     ]
    },
    {
     "name": "stdout",
     "output_type": "stream",
     "text": [
      "POINT(180.0 -8.0)\n"
     ]
    },
    {
     "name": "stderr",
     "output_type": "stream",
     "text": [
      " 52%|█████▏    | 1288/2487 [1:55:27<1:11:20,  3.57s/it]"
     ]
    },
    {
     "name": "stdout",
     "output_type": "stream",
     "text": [
      "0  results found\n",
      "\n",
      " GL_TS_MO_4601822.nc\n",
      "GL_TS_MO_4601822.nc does not have any of the variables ['VHM0', 'VAVH', 'WSPD']\n",
      "\n",
      " GL_WS_MO_48011.nc\n",
      "GL_WS_MO_48011.nc does not have any of the variables ['VHM0', 'VAVH', 'WSPD']\n",
      "\n",
      " GL_TS_MO_6202400.nc\n",
      "POINT(-27.962200164794922 39.086830139160156)\n",
      "120  results found\n"
     ]
    },
    {
     "name": "stderr",
     "output_type": "stream",
     "text": [
      " 52%|█████▏    | 1291/2487 [1:55:47<1:28:53,  4.46s/it]"
     ]
    },
    {
     "name": "stdout",
     "output_type": "stream",
     "text": [
      "\n",
      " NO_TS_MO_6201584.nc\n",
      "NO_TS_MO_6201584.nc does not have any of the variables ['VHM0', 'VAVH', 'WSPD']\n",
      "\n",
      " GL_TS_MO_1300009.nc\n",
      "GL_TS_MO_1300009.nc does not have any valid data for this timeperiod\n",
      "\n",
      " GL_TS_MO_4101589.nc\n",
      "GL_TS_MO_4101589.nc does not have any of the variables ['VHM0', 'VAVH', 'WSPD']\n",
      "\n",
      " GL_TS_MO_IF000619.nc\n",
      "GL_TS_MO_IF000619.nc does not have any of the variables ['VHM0', 'VAVH', 'WSPD']\n",
      "\n",
      " GL_TS_MO_6200450.nc\n"
     ]
    },
    {
     "name": "stderr",
     "output_type": "stream",
     "text": [
      " 52%|█████▏    | 1298/2487 [1:55:47<42:18,  2.13s/it]  "
     ]
    },
    {
     "name": "stdout",
     "output_type": "stream",
     "text": [
      "GL_TS_MO_6200450.nc is too close to land\n",
      "\n",
      " GL_WS_MO_46053.nc\n",
      "GL_WS_MO_46053.nc does not have any of the variables ['VHM0', 'VAVH', 'WSPD']\n",
      "\n",
      " GL_TS_MO_6100002.nc\n",
      "GL_TS_MO_6100002.nc does not have any valid data for this timeperiod\n",
      "GL_TS_MO_6100002.nc does not have any valid data for this timeperiod\n",
      "\n",
      " GL_TS_MO_EXCE0005.nc\n",
      "GL_TS_MO_EXCE0005.nc does not have any valid data for this timeperiod\n",
      "GL_TS_MO_EXCE0005.nc does not have any valid data for this timeperiod\n",
      "\n",
      " AR_TS_MO_Kremmerodden-32-77.nc\n",
      "AR_TS_MO_Kremmerodden-32-77.nc does not have any of the variables ['VHM0', 'VAVH', 'WSPD']\n",
      "\n",
      " GL_TS_MO_2300492.nc\n",
      "POLYGON((72.20899963378906 10.866999626159668,72.20899963378906 10.875,72.20999908447266 10.875,72.20999908447266 10.866999626159668,72.20899963378906 10.866999626159668))\n"
     ]
    },
    {
     "name": "stderr",
     "output_type": "stream",
     "text": [
      " 52%|█████▏    | 1301/2487 [1:55:52<39:37,  2.00s/it]"
     ]
    },
    {
     "name": "stdout",
     "output_type": "stream",
     "text": [
      "0  results found\n",
      "\n",
      " GL_TS_MO_46183.nc\n",
      "GL_TS_MO_46183.nc does not have any valid data for this timeperiod\n",
      "POINT(-131.10499572753906 53.617000579833984)\n",
      "118  results found\n"
     ]
    },
    {
     "name": "stderr",
     "output_type": "stream",
     "text": [
      " 52%|█████▏    | 1304/2487 [1:56:03<44:21,  2.25s/it]"
     ]
    },
    {
     "name": "stdout",
     "output_type": "stream",
     "text": [
      "\n",
      " IR_TS_MO_Langosteira-buoy.nc\n",
      "IR_TS_MO_Langosteira-buoy.nc does not have any valid data for this timeperiod\n",
      "\n",
      " GL_TS_MO_55031.nc\n",
      "GL_TS_MO_55031.nc does not have any valid data for this timeperiod\n",
      "\n",
      " GL_WS_MO_46001.nc\n",
      "GL_WS_MO_46001.nc does not have any of the variables ['VHM0', 'VAVH', 'WSPD']\n",
      "\n",
      " NO_TS_MO_J61.nc\n",
      "POINT(2.950000047683716 53.81663131713867)\n",
      "216  results found\n"
     ]
    },
    {
     "name": "stderr",
     "output_type": "stream",
     "text": [
      " 53%|█████▎    | 1311/2487 [1:56:21<40:33,  2.07s/it]  "
     ]
    },
    {
     "name": "stdout",
     "output_type": "stream",
     "text": [
      "\n",
      " GL_WS_MO_46131.nc\n",
      "GL_WS_MO_46131.nc does not have any of the variables ['VHM0', 'VAVH', 'WSPD']\n",
      "\n",
      " BS_TS_MO_Sochi.nc\n",
      "BS_TS_MO_Sochi.nc does not have any valid data for this timeperiod\n",
      "\n",
      " GL_TS_MO_51204.nc\n",
      "GL_TS_MO_51204.nc does not have any valid data for this timeperiod\n",
      "\n",
      " GL_TS_MO_44067.nc\n",
      "GL_TS_MO_44067.nc does not have any valid data for this timeperiod\n",
      "\n",
      " GL_TS_MO_WEL428.nc\n",
      "GL_TS_MO_WEL428.nc does not have any valid data for this timeperiod\n",
      "\n",
      " GL_TS_MO_41058.nc\n",
      "GL_TS_MO_41058.nc does not have any valid data for this timeperiod\n",
      "GL_TS_MO_41058.nc does not have any valid data for this timeperiod\n",
      "\n",
      " GL_TS_MO_6100188.nc\n"
     ]
    },
    {
     "name": "stderr",
     "output_type": "stream",
     "text": [
      " 53%|█████▎    | 1314/2487 [1:56:21<28:50,  1.48s/it]"
     ]
    },
    {
     "name": "stdout",
     "output_type": "stream",
     "text": [
      "GL_TS_MO_6100188.nc is too close to land\n",
      "\n",
      " GL_WS_MO_41115.nc\n",
      "GL_WS_MO_41115.nc does not have any of the variables ['VHM0', 'VAVH', 'WSPD']\n",
      "\n",
      " GL_TS_MO_41120.nc\n",
      "POINT(-75.28600311279297 35.25899887084961)\n",
      "57  results found\n"
     ]
    },
    {
     "name": "stderr",
     "output_type": "stream",
     "text": [
      " 53%|█████▎    | 1316/2487 [1:56:30<41:36,  2.13s/it]"
     ]
    },
    {
     "name": "stdout",
     "output_type": "stream",
     "text": [
      "\n",
      " GL_TS_MO_46018.nc\n",
      "GL_TS_MO_46018.nc does not have any valid data for this timeperiod\n",
      "\n",
      " NO_TS_MO_HelgolandWR.nc\n",
      "POINT(7.891110897064209 54.17972183227539)\n",
      "232  results found\n"
     ]
    },
    {
     "name": "stderr",
     "output_type": "stream",
     "text": [
      " 53%|█████▎    | 1322/2487 [1:56:44<37:58,  1.96s/it]  "
     ]
    },
    {
     "name": "stdout",
     "output_type": "stream",
     "text": [
      "\n",
      " NO_TS_MO_6200050.nc\n",
      "NO_TS_MO_6200050.nc does not have any valid data for this timeperiod\n",
      "NO_TS_MO_6200050.nc does not have any valid data for this timeperiod\n",
      "\n",
      " GL_TS_MO_MEDS148.nc\n",
      "GL_TS_MO_MEDS148.nc does not have any valid data for this timeperiod\n",
      "\n",
      " GL_TS_MO_MEDS309.nc\n",
      "GL_TS_MO_MEDS309.nc does not have any valid data for this timeperiod\n",
      "\n",
      " NO_TS_MO_6201014.nc\n",
      "NO_TS_MO_6201014.nc does not have any valid data for this timeperiod\n",
      "\n",
      " GL_TS_MO_55055.nc\n",
      "GL_TS_MO_55055.nc does not have any valid data for this timeperiod\n",
      "\n",
      " GL_TS_MO_MEDS084.nc\n",
      "GL_TS_MO_MEDS084.nc does not have any valid data for this timeperiod\n",
      "\n",
      " GL_WS_MO_46002.nc\n"
     ]
    },
    {
     "name": "stderr",
     "output_type": "stream",
     "text": [
      " 53%|█████▎    | 1326/2487 [1:56:44<24:08,  1.25s/it]"
     ]
    },
    {
     "name": "stdout",
     "output_type": "stream",
     "text": [
      "GL_WS_MO_46002.nc does not have any of the variables ['VHM0', 'VAVH', 'WSPD']\n",
      "\n",
      " GL_WS_MO_41047.nc\n",
      "GL_WS_MO_41047.nc does not have any of the variables ['VHM0', 'VAVH', 'WSPD']\n",
      "\n",
      " BO_TS_MO_HuvudskarOstWR.nc\n",
      "BO_TS_MO_HuvudskarOstWR.nc does not have any valid data for this timeperiod\n",
      "\n",
      " GL_TS_MO_31260.nc\n",
      "GL_TS_MO_31260.nc does not have any valid data for this timeperiod\n",
      "\n",
      " NO_TS_MO_Sleipner-A.nc\n",
      "NO_TS_MO_Sleipner-A.nc does not have any valid data for this timeperiod\n",
      "POINT(1.90910005569458 58.37110137939453)\n",
      "293  results found\n"
     ]
    },
    {
     "name": "stderr",
     "output_type": "stream",
     "text": [
      " 54%|█████▎    | 1331/2487 [1:56:56<31:37,  1.64s/it]"
     ]
    },
    {
     "name": "stdout",
     "output_type": "stream",
     "text": [
      "\n",
      " GL_TS_MO_42369.nc\n",
      "GL_TS_MO_42369.nc does not have any valid data for this timeperiod\n",
      "GL_TS_MO_42369.nc does not have any valid data for this timeperiod\n",
      "\n",
      " MO_TS_MO_MAZARA-61208.nc\n",
      "MO_TS_MO_MAZARA-61208.nc does not have any valid data for this timeperiod\n",
      "\n",
      " GL_TS_MO_45174.nc\n",
      "GL_TS_MO_45174.nc does not have any valid data for this timeperiod\n",
      "GL_TS_MO_45174.nc does not have any valid data for this timeperiod\n",
      "\n",
      " GL_TS_MO_42056.nc\n",
      "GL_TS_MO_42056.nc does not have any valid data for this timeperiod\n",
      "POINT(-84.94499969482422 19.81999969482422)\n"
     ]
    },
    {
     "name": "stderr",
     "output_type": "stream",
     "text": [
      " 54%|█████▎    | 1334/2487 [1:57:04<35:58,  1.87s/it]"
     ]
    },
    {
     "name": "stdout",
     "output_type": "stream",
     "text": [
      "0  results found\n",
      "\n",
      " GL_TS_MO_CapeBridgewater01.nc\n",
      "GL_TS_MO_CapeBridgewater01.nc does not have any valid data for this timeperiod\n",
      "\n",
      " IR_TS_MO_Granadilla-coast-buoy.nc\n",
      "IR_TS_MO_Granadilla-coast-buoy.nc does not have any valid data for this timeperiod\n",
      "IR_TS_MO_Granadilla-coast-buoy.nc does not have any valid data for this timeperiod\n",
      "\n",
      " AR_TS_MO_Ringshaugstranda-21-49.nc\n",
      "AR_TS_MO_Ringshaugstranda-21-49.nc does not have any of the variables ['VHM0', 'VAVH', 'WSPD']\n",
      "\n",
      " GL_TS_MO_53048.nc\n",
      "POINT(130.0 -10.699999809265137)\n"
     ]
    },
    {
     "name": "stderr",
     "output_type": "stream",
     "text": [
      " 54%|█████▎    | 1336/2487 [1:57:12<45:21,  2.36s/it]"
     ]
    },
    {
     "name": "stdout",
     "output_type": "stream",
     "text": [
      "29  results found\n",
      "\n",
      " GL_TS_MO_46231.nc\n",
      "GL_TS_MO_46231.nc does not have any valid data for this timeperiod\n",
      "\n",
      " GL_TS_MO_T8N125W.nc\n",
      "POINT(-125.0 8.0)\n"
     ]
    },
    {
     "name": "stderr",
     "output_type": "stream",
     "text": [
      " 54%|█████▍    | 1338/2487 [1:57:23<1:00:07,  3.14s/it]"
     ]
    },
    {
     "name": "stdout",
     "output_type": "stream",
     "text": [
      "0  results found\n",
      "\n",
      " GL_TS_MO_31261.nc\n",
      "GL_TS_MO_31261.nc does not have any valid data for this timeperiod\n",
      "\n",
      " GL_TS_MO_5102658.nc\n",
      "GL_TS_MO_5102658.nc does not have any of the variables ['VHM0', 'VAVH', 'WSPD']\n",
      "\n",
      " GL_TS_MO_4400050.nc\n",
      "POINT(-56.18333053588867 46.70000076293945)\n",
      "152  results found\n"
     ]
    },
    {
     "name": "stderr",
     "output_type": "stream",
     "text": [
      " 54%|█████▍    | 1341/2487 [1:57:38<1:12:19,  3.79s/it]"
     ]
    },
    {
     "name": "stdout",
     "output_type": "stream",
     "text": [
      "\n",
      " GL_TS_MO_46699A.nc\n",
      "GL_TS_MO_46699A.nc does not have any valid data for this timeperiod\n",
      "\n",
      " GL_TS_MO_MEDS172.nc\n",
      "GL_TS_MO_MEDS172.nc does not have any valid data for this timeperiod\n",
      "\n",
      " GL_TS_MO_Tantabiddi01.nc\n",
      "POLYGON((113.9259033203125 -21.896099090576172,113.9259033203125 -21.894899368286133,113.92720031738281 -21.894899368286133,113.92720031738281 -21.896099090576172,113.9259033203125 -21.896099090576172))\n",
      "30  results found\n"
     ]
    },
    {
     "name": "stderr",
     "output_type": "stream",
     "text": [
      " 54%|█████▍    | 1344/2487 [1:57:50<1:14:53,  3.93s/it]"
     ]
    },
    {
     "name": "stdout",
     "output_type": "stream",
     "text": [
      "\n",
      " GL_TS_MO_2200185.nc\n",
      "POINT(125.43000030517578 37.09000015258789)\n",
      "31  results found\n"
     ]
    },
    {
     "name": "stderr",
     "output_type": "stream",
     "text": [
      " 54%|█████▍    | 1345/2487 [1:57:59<1:27:39,  4.61s/it]"
     ]
    },
    {
     "name": "stdout",
     "output_type": "stream",
     "text": [
      "\n",
      " GL_TS_MO_MEDS131.nc\n",
      "GL_TS_MO_MEDS131.nc does not have any valid data for this timeperiod\n",
      "\n",
      " GL_TS_MO_46184.nc\n",
      "GL_TS_MO_46184.nc does not have any valid data for this timeperiod\n",
      "POINT(-138.85000610351562 53.915000915527344)\n",
      "28  results found\n"
     ]
    },
    {
     "name": "stderr",
     "output_type": "stream",
     "text": [
      " 54%|█████▍    | 1351/2487 [1:58:09<48:41,  2.57s/it]  "
     ]
    },
    {
     "name": "stdout",
     "output_type": "stream",
     "text": [
      "\n",
      " GL_TS_MO_62060.nc\n",
      "GL_TS_MO_62060.nc does not have any of the variables ['VHM0', 'VAVH', 'WSPD']\n",
      "\n",
      " NO_TS_MO_OostendBuoy.nc\n",
      "NO_TS_MO_OostendBuoy.nc is too close to land\n",
      "\n",
      " GL_TS_MO_WEL335.nc\n",
      "GL_TS_MO_WEL335.nc does not have any valid data for this timeperiod\n",
      "\n",
      " GL_TS_MO_MEDS275.nc\n",
      "GL_TS_MO_MEDS275.nc does not have any valid data for this timeperiod\n",
      "\n",
      " BS_TS_MO_Karantina.nc\n",
      "BS_TS_MO_Karantina.nc does not have any of the variables ['VHM0', 'VAVH', 'WSPD']\n",
      "\n",
      " GL_WS_MO_42091.nc\n",
      "GL_WS_MO_42091.nc does not have any of the variables ['VHM0', 'VAVH', 'WSPD']\n",
      "\n",
      " BO_TS_MO_Visby1.nc\n",
      "BO_TS_MO_Visby1.nc does not have any valid data for this timeperiod\n",
      "\n",
      " NO_TS_MO_Ijmuiden.nc\n",
      "NO_TS_MO_Ijmuiden.nc does not have any of the variables ['VHM0', 'VAVH', 'WSPD']\n",
      "\n",
      " BO_TS_MO_BothnianSea.nc\n",
      "POINT(20.233299255371094 61.79999923706055)\n"
     ]
    },
    {
     "name": "stderr",
     "output_type": "stream",
     "text": [
      " 54%|█████▍    | 1351/2487 [1:58:20<48:41,  2.57s/it]"
     ]
    },
    {
     "name": "stdout",
     "output_type": "stream",
     "text": [
      "269  results found\n"
     ]
    },
    {
     "name": "stderr",
     "output_type": "stream",
     "text": [
      " 55%|█████▍    | 1360/2487 [1:58:27<38:30,  2.05s/it]"
     ]
    },
    {
     "name": "stdout",
     "output_type": "stream",
     "text": [
      "\n",
      " GL_TS_MO_44068.nc\n",
      "GL_TS_MO_44068.nc does not have any valid data for this timeperiod\n",
      "\n",
      " GL_TS_MO_MEDS020.nc\n",
      "GL_TS_MO_MEDS020.nc does not have any valid data for this timeperiod\n",
      "\n",
      " AR_TS_MO_Kvalsvik-bad-og-friluftsomraade-36-101.nc\n",
      "AR_TS_MO_Kvalsvik-bad-og-friluftsomraade-36-101.nc does not have any of the variables ['VHM0', 'VAVH', 'WSPD']\n",
      "\n",
      " GL_TS_MO_45208.nc\n",
      "GL_TS_MO_45208.nc does not have any valid data for this timeperiod\n",
      "GL_TS_MO_45208.nc does not have any valid data for this timeperiod\n",
      "\n",
      " GL_WS_MO_46013.nc\n",
      "GL_WS_MO_46013.nc does not have any of the variables ['VHM0', 'VAVH', 'WSPD']\n",
      "\n",
      " GL_TS_MO_55017.nc\n",
      "POLYGON((153.47000122070312 -29.1200008392334,153.47000122070312 -28.8700008392334,153.6999969482422 -28.8700008392334,153.6999969482422 -29.1200008392334,153.47000122070312 -29.1200008392334))\n",
      "30  results found\n"
     ]
    },
    {
     "name": "stderr",
     "output_type": "stream",
     "text": [
      " 55%|█████▍    | 1362/2487 [1:58:43<58:54,  3.14s/it]"
     ]
    },
    {
     "name": "stdout",
     "output_type": "stream",
     "text": [
      "\n",
      " GL_TS_MO_6200067.nc\n",
      "POINT(-2.2950000762939453 46.83319854736328)\n",
      "239  results found\n"
     ]
    },
    {
     "name": "stderr",
     "output_type": "stream",
     "text": [
      " 55%|█████▍    | 1363/2487 [1:58:56<1:22:52,  4.42s/it]"
     ]
    },
    {
     "name": "stdout",
     "output_type": "stream",
     "text": [
      "\n",
      " GL_TS_MO_MEDS112.nc\n",
      "GL_TS_MO_MEDS112.nc does not have any valid data for this timeperiod\n",
      "\n",
      " MO_TS_MO_MYKON.nc\n",
      "MO_TS_MO_MYKON.nc does not have any valid data for this timeperiod\n",
      "POINT(25.459699630737305 37.51940155029297)\n"
     ]
    },
    {
     "name": "stderr",
     "output_type": "stream",
     "text": [
      " 55%|█████▍    | 1365/2487 [1:59:05<1:21:40,  4.37s/it]"
     ]
    },
    {
     "name": "stdout",
     "output_type": "stream",
     "text": [
      "120  results found\n",
      "\n",
      " NO_TS_MO_ElbeWR.nc\n",
      "POINT(8.113670349121094 53.996498107910156)\n",
      "232  results found\n"
     ]
    },
    {
     "name": "stderr",
     "output_type": "stream",
     "text": [
      " 55%|█████▍    | 1366/2487 [1:59:22<1:58:50,  6.36s/it]"
     ]
    },
    {
     "name": "stdout",
     "output_type": "stream",
     "text": [
      "\n",
      " GL_TS_MO_23460.nc\n",
      "GL_TS_MO_23460.nc does not have any valid data for this timeperiod\n",
      "\n",
      " AR_TS_MO_Stora-Stokkavatnet-6-114.nc\n",
      "AR_TS_MO_Stora-Stokkavatnet-6-114.nc does not have any of the variables ['VHM0', 'VAVH', 'WSPD']\n",
      "\n",
      " GL_TS_MO_46234.nc\n",
      "GL_TS_MO_46234.nc does not have any valid data for this timeperiod\n",
      "\n",
      " NO_TS_MO_ZeebruggePortBuoy.nc\n",
      "POINT(3.193000078201294 51.35599899291992)\n",
      "233  results found\n"
     ]
    },
    {
     "name": "stderr",
     "output_type": "stream",
     "text": [
      " 55%|█████▌    | 1370/2487 [1:59:36<1:33:58,  5.05s/it]"
     ]
    },
    {
     "name": "stdout",
     "output_type": "stream",
     "text": [
      "\n",
      " GL_TS_MO_MEDS009.nc\n",
      "GL_TS_MO_MEDS009.nc does not have any valid data for this timeperiod\n",
      "\n",
      " AR_TS_MO_Grimseyjarsund.nc\n",
      "POINT(-18.191667556762695 66.29166412353516)\n",
      "462  results found\n"
     ]
    },
    {
     "name": "stderr",
     "output_type": "stream",
     "text": [
      " 55%|█████▌    | 1372/2487 [2:00:11<2:30:42,  8.11s/it]"
     ]
    },
    {
     "name": "stdout",
     "output_type": "stream",
     "text": [
      "\n",
      " GL_TS_MO_MEDS082.nc\n",
      "GL_TS_MO_MEDS082.nc does not have any valid data for this timeperiod\n",
      "\n",
      " AR_TS_MO_C-Sulafjorden.nc\n"
     ]
    },
    {
     "name": "stderr",
     "output_type": "stream",
     "text": [
      " 55%|█████▌    | 1374/2487 [2:00:11<1:51:44,  6.02s/it]"
     ]
    },
    {
     "name": "stdout",
     "output_type": "stream",
     "text": [
      "AR_TS_MO_C-Sulafjorden.nc does not have any valid data for this timeperiod\n",
      "\n",
      " BO_TS_MO_FaaRodkobb.nc\n",
      "BO_TS_MO_FaaRodkobb.nc does not have any valid data for this timeperiod\n",
      "\n",
      " GL_TS_MO_IF000582.nc\n",
      "GL_TS_MO_IF000582.nc does not have any of the variables ['VHM0', 'VAVH', 'WSPD']\n",
      "\n",
      " GL_TS_MO_46131.nc\n",
      "GL_TS_MO_46131.nc does not have any valid data for this timeperiod\n",
      "POINT(-124.98500061035156 49.90700149536133)\n",
      "121  results found\n"
     ]
    },
    {
     "name": "stderr",
     "output_type": "stream",
     "text": [
      " 55%|█████▌    | 1377/2487 [2:00:25<1:42:45,  5.55s/it]"
     ]
    },
    {
     "name": "stdout",
     "output_type": "stream",
     "text": [
      "\n",
      " GL_TS_MO_6200086.nc\n",
      "GL_TS_MO_6200086.nc does not have any valid data for this timeperiod\n",
      "\n",
      " GL_TS_MO_44060.nc\n",
      "GL_TS_MO_44060.nc does not have any valid data for this timeperiod\n",
      "\n",
      " GL_TS_MO_13002.nc\n",
      "POINT(-23.0 21.0)\n",
      "115  results found\n"
     ]
    },
    {
     "name": "stderr",
     "output_type": "stream",
     "text": [
      " 55%|█████▌    | 1380/2487 [2:00:35<1:28:34,  4.80s/it]"
     ]
    },
    {
     "name": "stdout",
     "output_type": "stream",
     "text": [
      "\n",
      " GL_TS_MO_53005.nc\n",
      "GL_TS_MO_53005.nc does not have any valid data for this timeperiod\n",
      "\n",
      " GL_WS_MO_46t29.nc\n",
      "GL_WS_MO_46t29.nc does not have any of the variables ['VHM0', 'VAVH', 'WSPD']\n",
      "\n",
      " NO_TS_MO_Helgoland-NorthWR.nc\n",
      "POINT(7.818299770355225 54.21929931640625)\n",
      "232  results found\n"
     ]
    },
    {
     "name": "stderr",
     "output_type": "stream",
     "text": [
      " 56%|█████▌    | 1383/2487 [2:00:48<1:25:28,  4.65s/it]"
     ]
    },
    {
     "name": "stdout",
     "output_type": "stream",
     "text": [
      "\n",
      " GL_TS_MO_MEDS226.nc\n",
      "GL_TS_MO_MEDS226.nc does not have any valid data for this timeperiod\n",
      "\n",
      " GL_WS_MO_46204.nc\n",
      "GL_WS_MO_46204.nc does not have any of the variables ['VHM0', 'VAVH', 'WSPD']\n",
      "\n",
      " GL_TS_MO_51210.nc\n",
      "POINT(-157.75599670410156 21.476999282836914)\n",
      "117  results found\n"
     ]
    },
    {
     "name": "stderr",
     "output_type": "stream",
     "text": [
      " 56%|█████▌    | 1388/2487 [2:01:03<1:06:52,  3.65s/it]"
     ]
    },
    {
     "name": "stdout",
     "output_type": "stream",
     "text": [
      "\n",
      " NO_TS_MO_D151.nc\n",
      "NO_TS_MO_D151.nc does not have any valid data for this timeperiod\n",
      "NO_TS_MO_D151.nc does not have any valid data for this timeperiod\n",
      "\n",
      " GL_TS_MO_44022.nc\n",
      "GL_TS_MO_44022.nc does not have any valid data for this timeperiod\n",
      "\n",
      " GL_TS_MO_62075.nc\n"
     ]
    },
    {
     "name": "stderr",
     "output_type": "stream",
     "text": [
      " 56%|█████▌    | 1390/2487 [2:01:03<50:40,  2.77s/it]  "
     ]
    },
    {
     "name": "stdout",
     "output_type": "stream",
     "text": [
      "GL_TS_MO_62075.nc does not have any valid data for this timeperiod\n",
      "GL_TS_MO_62075.nc does not have any valid data for this timeperiod\n",
      "\n",
      " MO_TS_MO_KOPER.nc\n",
      "MO_TS_MO_KOPER.nc does not have any valid data for this timeperiod\n",
      "\n",
      " GL_TS_MO_46015.nc\n",
      "GL_TS_MO_46015.nc does not have any valid data for this timeperiod\n",
      "POINT(-124.84400177001953 42.75199890136719)\n",
      "159  results found\n",
      "\n",
      " GL_TS_MO_46237.nc\n",
      "POINT(-122.63200378417969 37.78799819946289)\n"
     ]
    },
    {
     "name": "stderr",
     "output_type": "stream",
     "text": [
      " 56%|█████▌    | 1390/2487 [2:01:20<50:40,  2.77s/it]"
     ]
    },
    {
     "name": "stdout",
     "output_type": "stream",
     "text": [
      "95  results found\n"
     ]
    },
    {
     "name": "stderr",
     "output_type": "stream",
     "text": [
      " 56%|█████▌    | 1395/2487 [2:01:30<1:03:52,  3.51s/it]"
     ]
    },
    {
     "name": "stdout",
     "output_type": "stream",
     "text": [
      "\n",
      " AR_TS_MO_Mule-Varde-7-82.nc\n",
      "AR_TS_MO_Mule-Varde-7-82.nc does not have any of the variables ['VHM0', 'VAVH', 'WSPD']\n",
      "\n",
      " GL_TS_MO_41060.nc\n",
      "GL_TS_MO_41060.nc does not have any valid data for this timeperiod\n",
      "GL_TS_MO_41060.nc does not have any valid data for this timeperiod\n",
      "\n",
      " GL_TS_MO_48214.nc\n",
      "GL_TS_MO_48214.nc does not have any valid data for this timeperiod\n",
      "GL_TS_MO_48214.nc does not have any valid data for this timeperiod\n",
      "\n",
      " GL_TS_MO_41119.nc\n",
      "GL_TS_MO_41119.nc does not have any valid data for this timeperiod\n",
      "\n",
      " GL_TS_MO_45138.nc\n",
      "GL_TS_MO_45138.nc does not have any valid data for this timeperiod\n",
      "GL_TS_MO_45138.nc does not have any valid data for this timeperiod\n"
     ]
    },
    {
     "name": "stderr",
     "output_type": "stream",
     "text": [
      " 56%|█████▌    | 1398/2487 [2:01:30<42:29,  2.34s/it]  "
     ]
    },
    {
     "name": "stdout",
     "output_type": "stream",
     "text": [
      "\n",
      " IR_TS_MO_Bilbao-coast-buoy.nc\n",
      "IR_TS_MO_Bilbao-coast-buoy.nc is too close to land\n",
      "\n",
      " NO_TS_MO_Troll-A.nc\n",
      "NO_TS_MO_Troll-A.nc does not have any valid data for this timeperiod\n",
      "POINT(3.7193000316619873 60.64350128173828)\n"
     ]
    },
    {
     "name": "stderr",
     "output_type": "stream",
     "text": [
      " 56%|█████▌    | 1398/2487 [2:01:40<42:29,  2.34s/it]"
     ]
    },
    {
     "name": "stdout",
     "output_type": "stream",
     "text": [
      "237  results found\n"
     ]
    },
    {
     "name": "stderr",
     "output_type": "stream",
     "text": [
      " 56%|█████▋    | 1402/2487 [2:01:51<57:05,  3.16s/it]  "
     ]
    },
    {
     "name": "stdout",
     "output_type": "stream",
     "text": [
      "\n",
      " GL_TS_MO_63004.nc\n",
      "GL_TS_MO_63004.nc does not have any of the variables ['VHM0', 'VAVH', 'WSPD']\n",
      "\n",
      " GL_TS_MO_IRMINGSEA-1.nc\n",
      "GL_TS_MO_IRMINGSEA-1.nc does not have any of the variables ['VHM0', 'VAVH', 'WSPD']\n",
      "\n",
      " GL_TS_MO_MEDS317.nc\n",
      "GL_TS_MO_MEDS317.nc does not have any valid data for this timeperiod\n",
      "\n",
      " GL_WS_MO_41114.nc\n",
      "GL_WS_MO_41114.nc does not have any of the variables ['VHM0', 'VAVH', 'WSPD']\n",
      "\n",
      " GL_WS_MO_44004.nc\n",
      "GL_WS_MO_44004.nc does not have any of the variables ['VHM0', 'VAVH', 'WSPD']\n",
      "\n",
      " GL_TS_MO_15006.nc\n",
      "POINT(-10.0 -6.0)\n"
     ]
    },
    {
     "name": "stderr",
     "output_type": "stream",
     "text": [
      " 56%|█████▋    | 1405/2487 [2:01:58<50:31,  2.80s/it]"
     ]
    },
    {
     "name": "stdout",
     "output_type": "stream",
     "text": [
      "0  results found\n",
      "\n",
      " GL_TS_MO_15003.nc\n",
      "GL_TS_MO_15003.nc does not have any valid data for this timeperiod\n",
      "\n",
      " GL_TS_MO_MEDS310.nc\n",
      "GL_TS_MO_MEDS310.nc does not have any valid data for this timeperiod\n",
      "\n",
      " GL_TS_MO_55045.nc\n",
      "POLYGON((153.14999389648438 -27.399999618530273,153.14999389648438 -26.829999923706055,153.25 -26.829999923706055,153.25 -27.399999618530273,153.14999389648438 -27.399999618530273))\n",
      "60  results found\n"
     ]
    },
    {
     "name": "stderr",
     "output_type": "stream",
     "text": [
      " 57%|█████▋    | 1408/2487 [2:02:14<1:06:02,  3.67s/it]"
     ]
    },
    {
     "name": "stdout",
     "output_type": "stream",
     "text": [
      "\n",
      " GL_WS_MO_51206.nc\n",
      "GL_WS_MO_51206.nc does not have any of the variables ['VHM0', 'VAVH', 'WSPD']\n",
      "\n",
      " GL_TS_MO_6101024.nc\n",
      "GL_TS_MO_6101024.nc does not have any of the variables ['VHM0', 'VAVH', 'WSPD']\n",
      "\n",
      " GL_WS_MO_46219.nc\n",
      "GL_WS_MO_46219.nc does not have any of the variables ['VHM0', 'VAVH', 'WSPD']\n",
      "\n",
      " GL_TS_MO_EMSO-Azores-SeamonWest.nc\n",
      "GL_TS_MO_EMSO-Azores-SeamonWest.nc does not have any of the variables ['VHM0', 'VAVH', 'WSPD']\n",
      "\n",
      " MO_TS_MO_61277.nc\n",
      "MO_TS_MO_61277.nc does not have any valid data for this timeperiod\n",
      "POINT(25.130699157714844 35.72629928588867)\n",
      "210  results found\n"
     ]
    },
    {
     "name": "stderr",
     "output_type": "stream",
     "text": [
      " 57%|█████▋    | 1416/2487 [2:02:27<41:47,  2.34s/it]  "
     ]
    },
    {
     "name": "stdout",
     "output_type": "stream",
     "text": [
      "\n",
      " GL_TS_MO_44026.nc\n",
      "GL_TS_MO_44026.nc does not have any valid data for this timeperiod\n",
      "GL_TS_MO_44026.nc does not have any valid data for this timeperiod\n",
      "\n",
      " GL_TS_MO_45201.nc\n",
      "GL_TS_MO_45201.nc does not have any valid data for this timeperiod\n",
      "GL_TS_MO_45201.nc does not have any valid data for this timeperiod\n",
      "\n",
      " GL_TS_MO_55059.nc\n",
      "GL_TS_MO_55059.nc does not have any valid data for this timeperiod\n",
      "\n",
      " GL_TS_MO_6200163.nc\n",
      "GL_TS_MO_6200163.nc does not have any valid data for this timeperiod\n",
      "POINT(-8.399999618530273 47.5)\n",
      "233  results found\n"
     ]
    },
    {
     "name": "stderr",
     "output_type": "stream",
     "text": [
      " 57%|█████▋    | 1418/2487 [2:02:37<51:18,  2.88s/it]"
     ]
    },
    {
     "name": "stdout",
     "output_type": "stream",
     "text": [
      "\n",
      " GL_TS_MO_4101527.nc\n",
      "GL_TS_MO_4101527.nc does not have any of the variables ['VHM0', 'VAVH', 'WSPD']\n",
      "\n",
      " GL_WS_MO_41006.nc\n",
      "GL_WS_MO_41006.nc does not have any of the variables ['VHM0', 'VAVH', 'WSPD']\n",
      "\n",
      " GL_TS_MO_44010.nc\n",
      "GL_TS_MO_44010.nc does not have any valid data for this timeperiod\n",
      "GL_TS_MO_44010.nc does not have any valid data for this timeperiod\n",
      "\n",
      " GL_TS_MO_55058.nc\n",
      "POINT(148.5800018310547 -42.869998931884766)\n",
      "26  results found\n"
     ]
    },
    {
     "name": "stderr",
     "output_type": "stream",
     "text": [
      " 57%|█████▋    | 1421/2487 [2:02:47<53:36,  3.02s/it]"
     ]
    },
    {
     "name": "stdout",
     "output_type": "stream",
     "text": [
      "\n",
      " GL_WS_MO_6200064.nc\n",
      "GL_WS_MO_6200064.nc does not have any of the variables ['VHM0', 'VAVH', 'WSPD']\n",
      "\n",
      " GL_TS_MO_MEDS068.nc\n",
      "GL_TS_MO_MEDS068.nc does not have any valid data for this timeperiod\n",
      "\n",
      " GL_WS_MO_46185.nc\n",
      "GL_WS_MO_46185.nc does not have any of the variables ['VHM0', 'VAVH', 'WSPD']\n",
      "\n",
      " GL_WS_MO_44028.nc\n",
      "GL_WS_MO_44028.nc does not have any of the variables ['VHM0', 'VAVH', 'WSPD']\n",
      "\n",
      " GL_TS_MO_21987.nc\n",
      "GL_TS_MO_21987.nc does not have any valid data for this timeperiod\n",
      "\n",
      " NO_TS_MO_Nymindegab.nc\n",
      "POINT(7.940999984741211 55.810001373291016)\n",
      "230  results found\n"
     ]
    },
    {
     "name": "stderr",
     "output_type": "stream",
     "text": [
      " 57%|█████▋    | 1427/2487 [2:03:04<50:57,  2.88s/it]"
     ]
    },
    {
     "name": "stdout",
     "output_type": "stream",
     "text": [
      "\n",
      " GL_WS_MO_44t14.nc\n",
      "GL_WS_MO_44t14.nc does not have any of the variables ['VHM0', 'VAVH', 'WSPD']\n",
      "\n",
      " BO_TS_MO_Kristineberg3.nc\n",
      "BO_TS_MO_Kristineberg3.nc does not have any valid data for this timeperiod\n",
      "\n",
      " GL_WS_MO_46028.nc\n",
      "GL_WS_MO_46028.nc does not have any of the variables ['VHM0', 'VAVH', 'WSPD']\n",
      "\n",
      " GL_TS_MO_46054.nc\n",
      "GL_TS_MO_46054.nc does not have any valid data for this timeperiod\n",
      "POINT(-120.47000122070312 34.27299880981445)\n",
      "236  results found\n"
     ]
    },
    {
     "name": "stderr",
     "output_type": "stream",
     "text": [
      " 58%|█████▊    | 1435/2487 [2:03:19<39:05,  2.23s/it]"
     ]
    },
    {
     "name": "stdout",
     "output_type": "stream",
     "text": [
      "\n",
      " GL_TS_MO_MEDS043.nc\n",
      "GL_TS_MO_MEDS043.nc does not have any valid data for this timeperiod\n",
      "\n",
      " GL_TS_MO_64071.nc\n",
      "GL_TS_MO_64071.nc does not have any valid data for this timeperiod\n",
      "\n",
      " BO_TS_MO_Kristineberg1.nc\n",
      "BO_TS_MO_Kristineberg1.nc does not have any valid data for this timeperiod\n",
      "\n",
      " GL_WS_MO_51003.nc\n",
      "GL_WS_MO_51003.nc does not have any of the variables ['VHM0', 'VAVH', 'WSPD']\n",
      "\n",
      " GL_WS_MO_46015.nc\n",
      "GL_WS_MO_46015.nc does not have any of the variables ['VHM0', 'VAVH', 'WSPD']\n",
      "\n",
      " BO_TS_MO_Kalkgrundet.nc\n",
      "BO_TS_MO_Kalkgrundet.nc does not have any valid data for this timeperiod\n",
      "\n",
      " GL_TS_MO_44039.nc\n",
      "GL_TS_MO_44039.nc does not have any valid data for this timeperiod\n",
      "POINT(-72.65499877929688 41.13800048828125)\n",
      "55  results found\n"
     ]
    },
    {
     "name": "stderr",
     "output_type": "stream",
     "text": [
      " 58%|█████▊    | 1440/2487 [2:03:28<34:16,  1.96s/it]"
     ]
    },
    {
     "name": "stdout",
     "output_type": "stream",
     "text": [
      "\n",
      " NO_TS_MO_BuoyBunkerHill1.nc\n",
      "NO_TS_MO_BuoyBunkerHill1.nc does not have any valid data for this timeperiod\n",
      "\n",
      " GL_TS_MO_52088.nc\n",
      "GL_TS_MO_52088.nc does not have any valid data for this timeperiod\n",
      "\n",
      " GL_TS_MO_6100295.nc\n",
      "POINT(9.64330005645752 42.26169967651367)\n",
      "180  results found\n"
     ]
    },
    {
     "name": "stderr",
     "output_type": "stream",
     "text": [
      " 58%|█████▊    | 1441/2487 [2:03:41<57:12,  3.28s/it]"
     ]
    },
    {
     "name": "stdout",
     "output_type": "stream",
     "text": [
      "\n",
      " MO_TS_MO_CROTONE-61210.nc\n",
      "MO_TS_MO_CROTONE-61210.nc does not have any valid data for this timeperiod\n",
      "\n",
      " GL_TS_MO_46120.nc\n",
      "GL_TS_MO_46120.nc does not have any valid data for this timeperiod\n",
      "\n",
      " GL_TS_MO_T8N180W.nc\n"
     ]
    },
    {
     "name": "stderr",
     "output_type": "stream",
     "text": [
      " 58%|█████▊    | 1444/2487 [2:03:42<38:35,  2.22s/it]"
     ]
    },
    {
     "name": "stdout",
     "output_type": "stream",
     "text": [
      "GL_TS_MO_T8N180W.nc does not have any valid data for this timeperiod\n",
      "\n",
      " GL_TS_MO_23096.nc\n",
      "GL_TS_MO_23096.nc does not have any valid data for this timeperiod\n",
      "\n",
      " GL_TS_MO_MEDS162.nc\n",
      "GL_TS_MO_MEDS162.nc does not have any valid data for this timeperiod\n",
      "\n",
      " GL_TS_MO_T9N140W.nc\n",
      "POINT(-140.0 9.0)\n"
     ]
    },
    {
     "name": "stderr",
     "output_type": "stream",
     "text": [
      " 58%|█████▊    | 1447/2487 [2:03:50<41:13,  2.38s/it]"
     ]
    },
    {
     "name": "stdout",
     "output_type": "stream",
     "text": [
      "0  results found\n",
      "\n",
      " GL_TS_MO_2200184.nc\n",
      "POINT(126.13999938964844 33.790000915527344)\n",
      "30  results found\n"
     ]
    },
    {
     "name": "stderr",
     "output_type": "stream",
     "text": [
      " 58%|█████▊    | 1448/2487 [2:04:00<58:09,  3.36s/it]"
     ]
    },
    {
     "name": "stdout",
     "output_type": "stream",
     "text": [
      "\n",
      " GL_TS_MO_42044.nc\n",
      "GL_TS_MO_42044.nc does not have any valid data for this timeperiod\n",
      "\n",
      " GL_TS_MO_52076.nc\n",
      "GL_TS_MO_52076.nc does not have any of the variables ['VHM0', 'VAVH', 'WSPD']\n",
      "\n",
      " GL_TS_MO_41001.nc\n",
      "GL_TS_MO_41001.nc does not have any valid data for this timeperiod\n",
      "POLYGON((-72.52200317382812 34.50199890136719,-72.52200317382812 34.7239990234375,-72.31700134277344 34.7239990234375,-72.31700134277344 34.50199890136719,-72.52200317382812 34.50199890136719))\n",
      "31  results found\n"
     ]
    },
    {
     "name": "stderr",
     "output_type": "stream",
     "text": [
      " 58%|█████▊    | 1451/2487 [2:04:25<1:30:32,  5.24s/it]"
     ]
    },
    {
     "name": "stdout",
     "output_type": "stream",
     "text": [
      "\n",
      " GL_TS_MO_MBARI-M1.nc\n",
      "POINT(-122.02899932861328 36.750999450683594)\n",
      "154  results found\n"
     ]
    },
    {
     "name": "stderr",
     "output_type": "stream",
     "text": [
      " 58%|█████▊    | 1452/2487 [2:04:35<1:42:57,  5.97s/it]"
     ]
    },
    {
     "name": "stdout",
     "output_type": "stream",
     "text": [
      "\n",
      " GL_TS_MO_23093.nc\n",
      "GL_TS_MO_23093.nc does not have any valid data for this timeperiod\n",
      "\n",
      " GL_TS_MO_46013.nc\n",
      "GL_TS_MO_46013.nc does not have any valid data for this timeperiod\n",
      "POLYGON((-123.3030014038086 38.25299835205078,-123.3030014038086 38.242000579833984,-123.3010025024414 38.242000579833984,-123.3010025024414 38.25299835205078,-123.3030014038086 38.25299835205078))\n",
      "129  results found\n"
     ]
    },
    {
     "name": "stderr",
     "output_type": "stream",
     "text": [
      " 58%|█████▊    | 1454/2487 [2:05:03<2:22:21,  8.27s/it]"
     ]
    },
    {
     "name": "stdout",
     "output_type": "stream",
     "text": [
      "\n",
      " GL_TS_MO_31003.nc\n",
      "POLYGON((-31.155000686645508 -8.244000434875488,-31.155000686645508 -7.927000045776367,-30.42300033569336 -7.927000045776367,-30.42300033569336 -8.244000434875488,-31.155000686645508 -8.244000434875488))\n"
     ]
    },
    {
     "name": "stderr",
     "output_type": "stream",
     "text": [
      " 59%|█████▊    | 1457/2487 [2:05:09<1:31:04,  5.31s/it]"
     ]
    },
    {
     "name": "stdout",
     "output_type": "stream",
     "text": [
      "0  results found\n",
      "\n",
      " GL_TS_MO_6801023.nc\n",
      "GL_TS_MO_6801023.nc does not have any of the variables ['VHM0', 'VAVH', 'WSPD']\n",
      "\n",
      " GL_TS_MO_14047.nc\n",
      "GL_TS_MO_14047.nc does not have any valid data for this timeperiod\n",
      "\n",
      " GL_TS_MO_WEL416.nc\n",
      "GL_TS_MO_WEL416.nc does not have any valid data for this timeperiod\n",
      "\n",
      " GL_TS_MO_ARCACHON.nc\n",
      "GL_TS_MO_ARCACHON.nc does not have any of the variables ['VHM0', 'VAVH', 'WSPD']\n",
      "\n",
      " GL_TS_MO_42041.nc\n"
     ]
    },
    {
     "name": "stderr",
     "output_type": "stream",
     "text": [
      " 59%|█████▊    | 1460/2487 [2:05:09<53:12,  3.11s/it]  "
     ]
    },
    {
     "name": "stdout",
     "output_type": "stream",
     "text": [
      "GL_TS_MO_42041.nc does not have any valid data for this timeperiod\n",
      "GL_TS_MO_42041.nc does not have any valid data for this timeperiod\n",
      "\n",
      " AR_TS_MO_Kogurdufl.nc\n",
      "POINT(-13.626500129699707 65.6481704711914)\n"
     ]
    },
    {
     "name": "stderr",
     "output_type": "stream",
     "text": [
      " 59%|█████▊    | 1460/2487 [2:05:20<53:12,  3.11s/it]"
     ]
    },
    {
     "name": "stdout",
     "output_type": "stream",
     "text": [
      "323  results found\n"
     ]
    },
    {
     "name": "stderr",
     "output_type": "stream",
     "text": [
      " 59%|█████▊    | 1461/2487 [2:05:25<1:28:37,  5.18s/it]"
     ]
    },
    {
     "name": "stdout",
     "output_type": "stream",
     "text": [
      "\n",
      " NO_TS_MO_StortemelkBoei.nc\n",
      "POINT(4.988999843597412 53.323001861572266)\n",
      "236  results found\n"
     ]
    },
    {
     "name": "stderr",
     "output_type": "stream",
     "text": [
      " 59%|█████▉    | 1464/2487 [2:05:42<1:21:16,  4.77s/it]"
     ]
    },
    {
     "name": "stdout",
     "output_type": "stream",
     "text": [
      "\n",
      " NO_TS_MO_Amelander21.nc\n",
      "NO_TS_MO_Amelander21.nc does not have any valid data for this timeperiod\n",
      "NO_TS_MO_Amelander21.nc does not have any valid data for this timeperiod\n",
      "\n",
      " GL_TS_MO_MEDS283.nc\n",
      "GL_TS_MO_MEDS283.nc does not have any valid data for this timeperiod\n",
      "\n",
      " GL_TS_MO_WEL328.nc\n",
      "GL_TS_MO_WEL328.nc does not have any valid data for this timeperiod\n",
      "\n",
      " IR_WS_MO_Alboran-buoy.nc\n",
      "IR_WS_MO_Alboran-buoy.nc does not have any of the variables ['VHM0', 'VAVH', 'WSPD']\n",
      "\n",
      " GL_TS_MO_41016.nc\n",
      "GL_TS_MO_41016.nc does not have any valid data for this timeperiod\n",
      "GL_TS_MO_41016.nc does not have any valid data for this timeperiod\n",
      "\n",
      " BS_TS_MO_98027.nc\n"
     ]
    },
    {
     "name": "stderr",
     "output_type": "stream",
     "text": [
      " 59%|█████▉    | 1468/2487 [2:05:42<40:29,  2.38s/it]  "
     ]
    },
    {
     "name": "stdout",
     "output_type": "stream",
     "text": [
      "BS_TS_MO_98027.nc does not have any valid data for this timeperiod\n",
      "\n",
      " GL_TS_MO_46251.nc\n",
      "POINT(-119.56500244140625 33.76900100708008)\n",
      "117  results found\n"
     ]
    },
    {
     "name": "stderr",
     "output_type": "stream",
     "text": [
      " 59%|█████▉    | 1471/2487 [2:05:51<44:09,  2.61s/it]"
     ]
    },
    {
     "name": "stdout",
     "output_type": "stream",
     "text": [
      "\n",
      " GL_WS_MO_46075.nc\n",
      "GL_WS_MO_46075.nc does not have any of the variables ['VHM0', 'VAVH', 'WSPD']\n",
      "\n",
      " GL_WS_MO_46225.nc\n",
      "GL_WS_MO_46225.nc does not have any of the variables ['VHM0', 'VAVH', 'WSPD']\n",
      "\n",
      " GL_TS_MO_MEDS228.nc\n",
      "GL_TS_MO_MEDS228.nc does not have any valid data for this timeperiod\n",
      "\n",
      " GL_TS_MO_55038.nc\n",
      "POLYGON((151.8300018310547 -24.479999542236328,151.8300018310547 -23.895610809326172,151.5 -23.895610809326172,151.5 -24.479999542236328,151.8300018310547 -24.479999542236328))\n",
      "120  results found\n"
     ]
    },
    {
     "name": "stderr",
     "output_type": "stream",
     "text": [
      " 59%|█████▉    | 1475/2487 [2:06:48<1:52:40,  6.68s/it]"
     ]
    },
    {
     "name": "stdout",
     "output_type": "stream",
     "text": [
      "\n",
      " NO_TS_MO_MeetboeiUHW1.nc\n",
      "NO_TS_MO_MeetboeiUHW1.nc does not have any valid data for this timeperiod\n",
      "\n",
      " GL_TS_MO_45196.nc\n",
      "GL_TS_MO_45196.nc does not have any valid data for this timeperiod\n",
      "GL_TS_MO_45196.nc is too close to land\n",
      "\n",
      " GL_WS_MO_44089.nc\n",
      "GL_WS_MO_44089.nc does not have any of the variables ['VHM0', 'VAVH', 'WSPD']\n",
      "\n",
      " NO_TS_MO_6200114.nc\n",
      "POINT(0.0 58.29999923706055)\n",
      "234  results found\n"
     ]
    },
    {
     "name": "stderr",
     "output_type": "stream",
     "text": [
      " 60%|█████▉    | 1481/2487 [2:07:01<1:02:46,  3.74s/it]"
     ]
    },
    {
     "name": "stdout",
     "output_type": "stream",
     "text": [
      "\n",
      " GL_WS_MO_51028.nc\n",
      "GL_WS_MO_51028.nc does not have any of the variables ['VHM0', 'VAVH', 'WSPD']\n",
      "\n",
      " GL_WS_MO_46235.nc\n",
      "GL_WS_MO_46235.nc does not have any of the variables ['VHM0', 'VAVH', 'WSPD']\n",
      "\n",
      " GL_TS_MO_91338.nc\n",
      "GL_TS_MO_91338.nc does not have any valid data for this timeperiod\n",
      "\n",
      " GL_TS_MO_23010.nc\n",
      "GL_TS_MO_23010.nc does not have any valid data for this timeperiod\n",
      "\n",
      " GL_TS_MO_46778A.nc\n",
      "GL_TS_MO_46778A.nc does not have any valid data for this timeperiod\n",
      "\n",
      " GL_TS_MO_MEDS222.nc\n",
      "GL_TS_MO_MEDS222.nc does not have any valid data for this timeperiod\n",
      "\n",
      " GL_TS_MO_EXIN0001.nc\n",
      "GL_TS_MO_EXIN0001.nc does not have any of the variables ['VHM0', 'VAVH', 'WSPD']\n",
      "\n",
      " GL_TS_MO_5500048.nc\n"
     ]
    },
    {
     "name": "stderr",
     "output_type": "stream",
     "text": [
      " 60%|█████▉    | 1486/2487 [2:07:01<35:11,  2.11s/it]  "
     ]
    },
    {
     "name": "stdout",
     "output_type": "stream",
     "text": [
      "GL_TS_MO_5500048.nc does not have any valid data for this timeperiod\n",
      "\n",
      " MO_TS_MO_SardiniaChannel.nc\n",
      "MO_TS_MO_SardiniaChannel.nc does not have any of the variables ['VHM0', 'VAVH', 'WSPD']\n",
      "\n",
      " GL_TS_MO_46274.nc\n",
      "GL_TS_MO_46274.nc does not have any valid data for this timeperiod\n",
      "\n",
      " GL_TS_MO_44087.nc\n",
      "LINESTRING(-76.1510009765625 37.0260009765625,-76.1510009765625 37.025001525878906)\n",
      "56  results found\n"
     ]
    },
    {
     "name": "stderr",
     "output_type": "stream",
     "text": [
      " 60%|█████▉    | 1488/2487 [2:07:54<1:57:18,  7.05s/it]"
     ]
    },
    {
     "name": "stdout",
     "output_type": "stream",
     "text": [
      "\n",
      " GL_TS_MO_MEDS086.nc\n",
      "GL_TS_MO_MEDS086.nc does not have any valid data for this timeperiod\n",
      "\n",
      " GL_TS_MO_44139.nc\n",
      "GL_TS_MO_44139.nc does not have any valid data for this timeperiod\n",
      "POINT(-57.10300064086914 44.2400016784668)\n",
      "131  results found\n"
     ]
    },
    {
     "name": "stderr",
     "output_type": "stream",
     "text": [
      " 60%|█████▉    | 1490/2487 [2:08:04<1:48:35,  6.53s/it]"
     ]
    },
    {
     "name": "stdout",
     "output_type": "stream",
     "text": [
      "\n",
      " NO_TS_MO_F161.nc\n",
      "NO_TS_MO_F161.nc does not have any valid data for this timeperiod\n",
      "NO_TS_MO_F161.nc does not have any valid data for this timeperiod\n",
      "\n",
      " NO_TS_MO_SchiermonnikoogWestgat.nc\n",
      "POINT(6.165131092071533 53.52854919433594)\n",
      "238  results found\n"
     ]
    },
    {
     "name": "stderr",
     "output_type": "stream",
     "text": [
      " 60%|█████▉    | 1492/2487 [2:08:21<1:56:05,  7.00s/it]"
     ]
    },
    {
     "name": "stdout",
     "output_type": "stream",
     "text": [
      "\n",
      " GL_TS_MO_WEL436.nc\n",
      "GL_TS_MO_WEL436.nc does not have any valid data for this timeperiod\n",
      "\n",
      " GL_WS_MO_42001.nc\n",
      "GL_WS_MO_42001.nc does not have any of the variables ['VHM0', 'VAVH', 'WSPD']\n",
      "\n",
      " NO_TS_MO_FINO1.nc\n",
      "POINT(6.5833330154418945 54.0)\n",
      "236  results found\n"
     ]
    },
    {
     "name": "stderr",
     "output_type": "stream",
     "text": [
      " 60%|██████    | 1495/2487 [2:08:36<1:44:51,  6.34s/it]"
     ]
    },
    {
     "name": "stdout",
     "output_type": "stream",
     "text": [
      "\n",
      " NO_TS_MO_ZeebruggeDam.nc\n",
      "POINT(3.171999931335449 51.354000091552734)\n",
      "233  results found\n"
     ]
    },
    {
     "name": "stderr",
     "output_type": "stream",
     "text": [
      " 60%|██████    | 1500/2487 [2:08:56<1:16:14,  4.63s/it]"
     ]
    },
    {
     "name": "stdout",
     "output_type": "stream",
     "text": [
      "\n",
      " GL_WS_MO_4100097.nc\n",
      "GL_WS_MO_4100097.nc does not have any of the variables ['VHM0', 'VAVH', 'WSPD']\n",
      "\n",
      " AR_TS_MO_Isfjorden-S.nc\n",
      "AR_TS_MO_Isfjorden-S.nc does not have any of the variables ['VHM0', 'VAVH', 'WSPD']\n",
      "\n",
      " MO_TS_MO_RMNIM.nc\n",
      "MO_TS_MO_RMNIM.nc does not have any valid data for this timeperiod\n",
      "\n",
      " BS_TS_MO_Nikolaev.nc\n",
      "BS_TS_MO_Nikolaev.nc does not have any valid data for this timeperiod\n",
      "\n",
      " GL_TS_MO_MEDS001.nc\n",
      "GL_TS_MO_MEDS001.nc does not have any valid data for this timeperiod\n",
      "\n",
      " NO_TS_MO_Pannengat1.nc\n",
      "NO_TS_MO_Pannengat1.nc does not have any valid data for this timeperiod\n",
      "NO_TS_MO_Pannengat1.nc does not have any valid data for this timeperiod\n",
      "\n",
      " GL_TS_MO_46075.nc\n",
      "GL_TS_MO_46075.nc does not have any valid data for this timeperiod\n",
      "POINT(-160.79400634765625 53.96900177001953)\n"
     ]
    },
    {
     "name": "stderr",
     "output_type": "stream",
     "text": [
      " 60%|██████    | 1503/2487 [2:09:06<1:07:38,  4.12s/it]"
     ]
    },
    {
     "name": "stdout",
     "output_type": "stream",
     "text": [
      "27  results found\n",
      "\n",
      " GL_TS_MO_55035.nc\n",
      "GL_TS_MO_55035.nc does not have any valid data for this timeperiod\n"
     ]
    },
    {
     "name": "stderr",
     "output_type": "stream",
     "text": [
      " 61%|██████    | 1505/2487 [2:09:06<52:04,  3.18s/it]  "
     ]
    },
    {
     "name": "stdout",
     "output_type": "stream",
     "text": [
      "\n",
      " NO_TS_MO_Wierumerwad3.nc\n",
      "NO_TS_MO_Wierumerwad3.nc is too close to land\n",
      "\n",
      " BS_TS_MO_SPOT1624.nc\n",
      "BS_TS_MO_SPOT1624.nc does not have any valid data for this timeperiod\n",
      "\n",
      " GL_TS_MO_28401.nc\n"
     ]
    },
    {
     "name": "stderr",
     "output_type": "stream",
     "text": [
      " 61%|██████    | 1507/2487 [2:09:06<39:13,  2.40s/it]"
     ]
    },
    {
     "name": "stdout",
     "output_type": "stream",
     "text": [
      "GL_TS_MO_28401.nc does not have any valid data for this timeperiod\n",
      "\n",
      " BO_TS_MO_HarsfjardenWR.nc\n",
      "BO_TS_MO_HarsfjardenWR.nc does not have any valid data for this timeperiod\n",
      "\n",
      " GL_TS_MO_1401500.nc\n",
      "GL_TS_MO_1401500.nc does not have any of the variables ['VHM0', 'VAVH', 'WSPD']\n",
      "\n",
      " GL_TS_MO_46714D.nc\n",
      "GL_TS_MO_46714D.nc does not have any valid data for this timeperiod\n",
      "\n",
      " GL_TS_MO_2201593.nc\n",
      "GL_TS_MO_2201593.nc does not have any of the variables ['VHM0', 'VAVH', 'WSPD']\n",
      "\n",
      " GL_TS_MO_6200069.nc\n",
      "POINT(-4.968299865722656 48.29029846191406)\n",
      "228  results found\n"
     ]
    },
    {
     "name": "stderr",
     "output_type": "stream",
     "text": [
      " 61%|██████    | 1516/2487 [2:09:24<30:51,  1.91s/it]"
     ]
    },
    {
     "name": "stdout",
     "output_type": "stream",
     "text": [
      "\n",
      " AR_TS_MO_Grindafjord-feriesenter-3-104.nc\n",
      "AR_TS_MO_Grindafjord-feriesenter-3-104.nc does not have any of the variables ['VHM0', 'VAVH', 'WSPD']\n",
      "\n",
      " BS_TS_MO_33994.nc\n",
      "BS_TS_MO_33994.nc does not have any valid data for this timeperiod\n",
      "\n",
      " BO_TS_MO_Finngrundet.nc\n",
      "BO_TS_MO_Finngrundet.nc does not have any valid data for this timeperiod\n",
      "\n",
      " GL_TS_MO_56053.nc\n",
      "GL_TS_MO_56053.nc does not have any valid data for this timeperiod\n",
      "\n",
      " GL_TS_MO_52201.nc\n",
      "POINT(171.39199829101562 7.083000183105469)\n"
     ]
    },
    {
     "name": "stderr",
     "output_type": "stream",
     "text": [
      " 61%|██████    | 1518/2487 [2:09:30<34:36,  2.14s/it]"
     ]
    },
    {
     "name": "stdout",
     "output_type": "stream",
     "text": [
      "0  results found\n",
      "\n",
      " GL_TS_MO_MEDS090.nc\n",
      "GL_TS_MO_MEDS090.nc does not have any valid data for this timeperiod\n",
      "\n",
      " GL_TS_MO_46122.nc\n",
      "GL_TS_MO_46122.nc does not have any of the variables ['VHM0', 'VAVH', 'WSPD']\n",
      "\n",
      " GL_TS_MO_23170.nc\n",
      "GL_TS_MO_23170.nc does not have any valid data for this timeperiod\n",
      "\n",
      " GL_TS_MO_T5N125W.nc\n",
      "POINT(-125.0 5.0)\n"
     ]
    },
    {
     "name": "stderr",
     "output_type": "stream",
     "text": [
      " 61%|██████    | 1521/2487 [2:09:38<37:08,  2.31s/it]"
     ]
    },
    {
     "name": "stdout",
     "output_type": "stream",
     "text": [
      "0  results found\n",
      "\n",
      " GL_TS_MO_T5S125W.nc\n",
      "POINT(-125.0 -5.0)\n"
     ]
    },
    {
     "name": "stderr",
     "output_type": "stream",
     "text": [
      " 61%|██████▏   | 1525/2487 [2:09:46<31:53,  1.99s/it]"
     ]
    },
    {
     "name": "stdout",
     "output_type": "stream",
     "text": [
      "0  results found\n",
      "\n",
      " BO_TS_MO_Svinbadan.nc\n",
      "BO_TS_MO_Svinbadan.nc does not have any valid data for this timeperiod\n",
      "\n",
      " BO_TS_MO_Hoburg1.nc\n",
      "BO_TS_MO_Hoburg1.nc does not have any valid data for this timeperiod\n",
      "\n",
      " GL_TS_MO_44085.nc\n",
      "GL_TS_MO_44085.nc does not have any valid data for this timeperiod\n",
      "\n",
      " NO_TS_MO_HappisburghMET.nc\n",
      "NO_TS_MO_HappisburghMET.nc does not have any valid data for this timeperiod\n",
      "\n",
      " GL_TS_MO_45188.nc\n",
      "GL_TS_MO_45188.nc does not have any valid data for this timeperiod\n",
      "\n",
      " GL_TS_MO_3100380.nc\n",
      "GL_TS_MO_3100380.nc does not have any valid data for this timeperiod\n",
      "\n",
      " NO_TS_MO_K13a3.nc\n",
      "POINT(3.2200000286102295 53.217777252197266)\n",
      "216  results found\n"
     ]
    },
    {
     "name": "stderr",
     "output_type": "stream",
     "text": [
      " 61%|██████▏   | 1529/2487 [2:09:57<37:00,  2.32s/it]"
     ]
    },
    {
     "name": "stdout",
     "output_type": "stream",
     "text": [
      "\n",
      " GL_TS_MO_5201690.nc\n",
      "GL_TS_MO_5201690.nc does not have any of the variables ['VHM0', 'VAVH', 'WSPD']\n",
      "\n",
      " AR_TS_MO_Svingen-20-44.nc\n",
      "AR_TS_MO_Svingen-20-44.nc does not have any of the variables ['VHM0', 'VAVH', 'WSPD']\n",
      "\n",
      " AR_TS_MO_BeringStrait-A2.nc\n",
      "AR_TS_MO_BeringStrait-A2.nc does not have any of the variables ['VHM0', 'VAVH', 'WSPD']\n",
      "\n",
      " BO_TS_MO_Sopot.nc\n",
      "BO_TS_MO_Sopot.nc does not have any of the variables ['VHM0', 'VAVH', 'WSPD']\n",
      "\n",
      " AR_TS_MO_Verdal-Bystrand-43-108.nc\n",
      "AR_TS_MO_Verdal-Bystrand-43-108.nc does not have any of the variables ['VHM0', 'VAVH', 'WSPD']\n",
      "\n",
      " GL_TS_MO_T8S125W.nc\n",
      "POINT(-125.0 -8.0)\n"
     ]
    },
    {
     "name": "stderr",
     "output_type": "stream",
     "text": [
      " 62%|██████▏   | 1536/2487 [2:10:05<26:11,  1.65s/it]"
     ]
    },
    {
     "name": "stdout",
     "output_type": "stream",
     "text": [
      "0  results found\n",
      "\n",
      " GL_TS_MO_45002.nc\n",
      "GL_TS_MO_45002.nc does not have any valid data for this timeperiod\n",
      "GL_TS_MO_45002.nc does not have any valid data for this timeperiod\n",
      "\n",
      " GL_TS_MO_Geraldton05.nc\n",
      "GL_TS_MO_Geraldton05.nc does not have any valid data for this timeperiod\n",
      "\n",
      " NO_TS_MO_PenzanceMET.nc\n",
      "NO_TS_MO_PenzanceMET.nc does not have any valid data for this timeperiod\n",
      "\n",
      " GL_TS_MO_46206.nc\n",
      "GL_TS_MO_46206.nc does not have any valid data for this timeperiod\n",
      "POINT(-125.99800109863281 48.834999084472656)\n",
      "119  results found\n"
     ]
    },
    {
     "name": "stderr",
     "output_type": "stream",
     "text": [
      " 62%|██████▏   | 1542/2487 [2:10:15<24:33,  1.56s/it]"
     ]
    },
    {
     "name": "stdout",
     "output_type": "stream",
     "text": [
      "\n",
      " IR_WS_MO_6200085.nc\n",
      "IR_WS_MO_6200085.nc does not have any of the variables ['VHM0', 'VAVH', 'WSPD']\n",
      "\n",
      " GL_TS_MO_51212.nc\n",
      "GL_TS_MO_51212.nc does not have any valid data for this timeperiod\n",
      "\n",
      " GL_WS_MO_44020.nc\n",
      "GL_WS_MO_44020.nc does not have any of the variables ['VHM0', 'VAVH', 'WSPD']\n",
      "\n",
      " GL_TS_MO_44018.nc\n",
      "GL_TS_MO_44018.nc does not have any valid data for this timeperiod\n",
      "POINT(-70.14299774169922 42.20600128173828)\n",
      "86  results found\n"
     ]
    },
    {
     "name": "stderr",
     "output_type": "stream",
     "text": [
      " 62%|██████▏   | 1544/2487 [2:10:24<33:28,  2.13s/it]"
     ]
    },
    {
     "name": "stdout",
     "output_type": "stream",
     "text": [
      "\n",
      " GL_TS_MO_55085.nc\n",
      "GL_TS_MO_55085.nc does not have any of the variables ['VHM0', 'VAVH', 'WSPD']\n",
      "\n",
      " IR_WS_MO_6200084.nc\n",
      "IR_WS_MO_6200084.nc does not have any of the variables ['VHM0', 'VAVH', 'WSPD']\n",
      "\n",
      " GL_TS_MO_44073.nc\n",
      "POINT(-70.54000091552734 43.02000045776367)\n",
      "57  results found\n"
     ]
    },
    {
     "name": "stderr",
     "output_type": "stream",
     "text": [
      " 62%|██████▏   | 1550/2487 [2:10:30<21:38,  1.39s/it]"
     ]
    },
    {
     "name": "stdout",
     "output_type": "stream",
     "text": [
      "\n",
      " GL_TS_MO_MEDS167.nc\n",
      "GL_TS_MO_MEDS167.nc does not have any valid data for this timeperiod\n",
      "\n",
      " GL_WS_MO_41004.nc\n",
      "GL_WS_MO_41004.nc does not have any of the variables ['VHM0', 'VAVH', 'WSPD']\n",
      "\n",
      " GL_WS_MO_44005.nc\n",
      "GL_WS_MO_44005.nc does not have any of the variables ['VHM0', 'VAVH', 'WSPD']\n",
      "\n",
      " BO_TS_MO_Oskarsgrundet.nc\n",
      "BO_TS_MO_Oskarsgrundet.nc does not have any valid data for this timeperiod\n",
      "\n",
      " GL_TS_MO_44005.nc\n",
      "GL_TS_MO_44005.nc does not have any valid data for this timeperiod\n",
      "POINT(-69.12699890136719 43.20100021362305)\n",
      "116  results found\n"
     ]
    },
    {
     "name": "stderr",
     "output_type": "stream",
     "text": [
      " 62%|██████▏   | 1552/2487 [2:10:39<33:04,  2.12s/it]"
     ]
    },
    {
     "name": "stdout",
     "output_type": "stream",
     "text": [
      "\n",
      " GL_TS_MO_23008.nc\n",
      "GL_TS_MO_23008.nc does not have any valid data for this timeperiod\n",
      "\n",
      " AR_TS_MO_BeringStrait-A4.nc\n",
      "AR_TS_MO_BeringStrait-A4.nc does not have any of the variables ['VHM0', 'VAVH', 'WSPD']\n",
      "\n",
      " AR_TS_MO_Blekktjern-16-32.nc\n",
      "AR_TS_MO_Blekktjern-16-32.nc does not have any of the variables ['VHM0', 'VAVH', 'WSPD']\n",
      "\n",
      " GL_TS_MO_46060.nc\n",
      "GL_TS_MO_46060.nc does not have any valid data for this timeperiod\n",
      "POLYGON((-146.78399658203125 60.58399963378906,-146.78399658203125 60.58700180053711,-146.81900024414062 60.58700180053711,-146.81900024414062 60.58399963378906,-146.78399658203125 60.58399963378906))\n",
      "54  results found\n"
     ]
    },
    {
     "name": "stderr",
     "output_type": "stream",
     "text": [
      " 63%|██████▎   | 1555/2487 [2:10:56<51:40,  3.33s/it]"
     ]
    },
    {
     "name": "stdout",
     "output_type": "stream",
     "text": [
      "\n",
      " GL_TS_MO_WEL441.nc\n",
      "GL_TS_MO_WEL441.nc does not have any valid data for this timeperiod\n",
      "\n",
      " GL_TS_MO_MEDS133.nc\n",
      "GL_TS_MO_MEDS133.nc does not have any valid data for this timeperiod\n",
      "\n",
      " GL_TS_MO_41004.nc\n",
      "GL_TS_MO_41004.nc does not have any valid data for this timeperiod\n",
      "LINESTRING(-79.0989990234375 32.500999450683594,-79.0989990234375 32.50199890136719)\n",
      "60  results found\n"
     ]
    },
    {
     "name": "stderr",
     "output_type": "stream",
     "text": [
      " 63%|██████▎   | 1562/2487 [2:12:42<2:09:39,  8.41s/it]"
     ]
    },
    {
     "name": "stdout",
     "output_type": "stream",
     "text": [
      "\n",
      " GL_TS_MO_45011.nc\n",
      "GL_TS_MO_45011.nc does not have any valid data for this timeperiod\n",
      "GL_TS_MO_45011.nc does not have any valid data for this timeperiod\n",
      "\n",
      " GL_TS_MO_3301541.nc\n",
      "GL_TS_MO_3301541.nc does not have any of the variables ['VHM0', 'VAVH', 'WSPD']\n",
      "\n",
      " NO_TS_MO_6201026.nc\n",
      "NO_TS_MO_6201026.nc does not have any valid data for this timeperiod\n",
      "\n",
      " IR_TS_MO_Alboran-current-meter.nc\n",
      "IR_TS_MO_Alboran-current-meter.nc does not have any of the variables ['VHM0', 'VAVH', 'WSPD']\n",
      "\n",
      " GL_TS_MO_MEDS227.nc\n",
      "GL_TS_MO_MEDS227.nc does not have any valid data for this timeperiod\n",
      "\n",
      " GL_TS_MO_T8S95W.nc\n"
     ]
    },
    {
     "name": "stderr",
     "output_type": "stream",
     "text": [
      " 63%|██████▎   | 1564/2487 [2:12:43<1:42:28,  6.66s/it]"
     ]
    },
    {
     "name": "stdout",
     "output_type": "stream",
     "text": [
      "GL_TS_MO_T8S95W.nc does not have any valid data for this timeperiod\n",
      "\n",
      " GL_TS_MO_46022.nc\n",
      "GL_TS_MO_46022.nc does not have any valid data for this timeperiod\n",
      "POINT(-124.5270004272461 40.74800109863281)\n",
      "130  results found\n"
     ]
    },
    {
     "name": "stderr",
     "output_type": "stream",
     "text": [
      " 63%|██████▎   | 1571/2487 [2:12:56<55:04,  3.61s/it]  "
     ]
    },
    {
     "name": "stdout",
     "output_type": "stream",
     "text": [
      "\n",
      " GL_TS_MO_48114.nc\n",
      "GL_TS_MO_48114.nc does not have any valid data for this timeperiod\n",
      "\n",
      " GL_TS_MO_MEDS213.nc\n",
      "GL_TS_MO_MEDS213.nc does not have any valid data for this timeperiod\n",
      "\n",
      " GL_TS_MO_MEDS146.nc\n",
      "GL_TS_MO_MEDS146.nc does not have any valid data for this timeperiod\n",
      "\n",
      " GL_TS_MO_31008.nc\n",
      "GL_TS_MO_31008.nc does not have any of the variables ['VHM0', 'VAVH', 'WSPD']\n",
      "\n",
      " GL_WS_MO_44018.nc\n",
      "GL_WS_MO_44018.nc does not have any of the variables ['VHM0', 'VAVH', 'WSPD']\n",
      "\n",
      " MO_TS_MO_KALAM.nc\n",
      "MO_TS_MO_KALAM.nc does not have any valid data for this timeperiod\n",
      "MO_TS_MO_KALAM.nc does not have any valid data for this timeperiod\n",
      "\n",
      " GL_TS_MO_MEDS160.nc\n",
      "GL_TS_MO_MEDS160.nc does not have any valid data for this timeperiod\n",
      "\n",
      " GL_TS_MO_T2S165E.nc\n",
      "POINT(165.0 -2.0)\n"
     ]
    },
    {
     "name": "stderr",
     "output_type": "stream",
     "text": [
      " 63%|██████▎   | 1573/2487 [2:13:04<56:28,  3.71s/it]"
     ]
    },
    {
     "name": "stdout",
     "output_type": "stream",
     "text": [
      "0  results found\n",
      "\n",
      " GL_TS_MO_T5S155W.nc\n",
      "POINT(-155.0 -5.0)\n",
      "0  results found\n",
      "\n",
      " GL_TS_MO_46085.nc\n",
      "GL_TS_MO_46085.nc does not have any valid data for this timeperiod\n",
      "POLYGON((-142.8820037841797 55.882999420166016,-142.8820037841797 55.86800003051758,-142.49200439453125 55.86800003051758,-142.49200439453125 55.882999420166016,-142.8820037841797 55.882999420166016))\n"
     ]
    },
    {
     "name": "stderr",
     "output_type": "stream",
     "text": [
      " 63%|██████▎   | 1575/2487 [2:13:19<1:10:30,  4.64s/it]"
     ]
    },
    {
     "name": "stdout",
     "output_type": "stream",
     "text": [
      "0  results found\n",
      "\n",
      " GL_WS_MO_45008.nc\n",
      "GL_WS_MO_45008.nc does not have any of the variables ['VHM0', 'VAVH', 'WSPD']\n",
      "\n",
      " GL_TS_MO_52202.nc\n",
      "POINT(144.80599975585938 13.682000160217285)\n"
     ]
    },
    {
     "name": "stderr",
     "output_type": "stream",
     "text": [
      " 64%|██████▎   | 1581/2487 [2:13:31<43:48,  2.90s/it]  "
     ]
    },
    {
     "name": "stdout",
     "output_type": "stream",
     "text": [
      "10  results found\n",
      "\n",
      " BO_TS_MO_VengeanceTS.nc\n",
      "BO_TS_MO_VengeanceTS.nc does not have any of the variables ['VHM0', 'VAVH', 'WSPD']\n",
      "\n",
      " GL_WS_MO_46076.nc\n",
      "GL_WS_MO_46076.nc does not have any of the variables ['VHM0', 'VAVH', 'WSPD']\n",
      "\n",
      " GL_WS_MO_42080.nc\n",
      "GL_WS_MO_42080.nc does not have any of the variables ['VHM0', 'VAVH', 'WSPD']\n",
      "\n",
      " GL_TS_MO_MEDS333.nc\n",
      "GL_TS_MO_MEDS333.nc does not have any valid data for this timeperiod\n",
      "\n",
      " GL_TS_MO_45198.nc\n",
      "GL_TS_MO_45198.nc does not have any valid data for this timeperiod\n"
     ]
    },
    {
     "name": "stderr",
     "output_type": "stream",
     "text": [
      " 64%|██████▎   | 1584/2487 [2:13:31<30:29,  2.03s/it]"
     ]
    },
    {
     "name": "stdout",
     "output_type": "stream",
     "text": [
      "GL_TS_MO_45198.nc does not have any valid data for this timeperiod\n",
      "\n",
      " GL_TS_MO_41141.nc\n",
      "GL_TS_MO_41141.nc does not have any valid data for this timeperiod\n",
      "\n",
      " GL_TS_MO_44053.nc\n",
      "GL_TS_MO_44053.nc does not have any valid data for this timeperiod\n",
      "GL_TS_MO_44053.nc does not have any valid data for this timeperiod\n",
      "\n",
      " BS_TS_MO_EUXRo01.nc\n",
      "POINT(30.77899932861328 44.70000076293945)\n",
      "177  results found\n"
     ]
    },
    {
     "name": "stderr",
     "output_type": "stream",
     "text": [
      " 64%|██████▍   | 1587/2487 [2:13:45<42:33,  2.84s/it]/home/sarssw/miniconda3/envs/master/lib/python3.10/site-packages/xarray/core/indexes.py:205: FutureWarning: Value based partial slicing on non-monotonic DatetimeIndexes with non-existing keys is deprecated and will raise a KeyError in a future Version.\n",
      "  indexer = index.slice_indexer(\n",
      " 64%|██████▍   | 1591/2487 [2:13:45<27:00,  1.81s/it]"
     ]
    },
    {
     "name": "stdout",
     "output_type": "stream",
     "text": [
      "\n",
      " GL_TS_MO_45158.nc\n",
      "GL_TS_MO_45158.nc does not have any valid data for this timeperiod\n",
      "GL_TS_MO_45158.nc does not have any valid data for this timeperiod\n",
      "\n",
      " IR_WS_MO_6200025.nc\n",
      "IR_WS_MO_6200025.nc does not have any of the variables ['VHM0', 'VAVH', 'WSPD']\n",
      "\n",
      " BO_TS_MO_Karlskrona.nc\n",
      "BO_TS_MO_Karlskrona.nc does not have any valid data for this timeperiod\n",
      "\n",
      " MO_TS_MO_Molo-Bandiera.nc\n",
      "MO_TS_MO_Molo-Bandiera.nc : data extraction failed with: \"cannot represent labeled-based slice indexer for coordinate 'TIME' with a slice over integer positions; the index is unsorted or non-unique\"\n",
      "\n",
      " GL_TS_MO_TorbayWest01.nc\n",
      "GL_TS_MO_TorbayWest01.nc does not have any valid data for this timeperiod\n",
      "\n",
      " BO_TS_MO_Sydostbrotten.nc\n",
      "BO_TS_MO_Sydostbrotten.nc does not have any valid data for this timeperiod\n",
      "\n",
      " GL_TS_MO_T8S165E.nc\n",
      "POINT(165.0 -8.0)\n",
      "0  results found\n",
      "\n",
      " GL_TS_MO_46089.nc\n",
      "GL_TS_MO_46089.nc does not have any valid data for this timeperiod\n",
      "POLYGON((-125.81900024414062 45.9370002746582,-125.81900024414062 45.893001556396484,-125.78500366210938 45.893001556396484,-125.78500366210938 45.9370002746582,-125.81900024414062 45.9370002746582))\n"
     ]
    },
    {
     "name": "stderr",
     "output_type": "stream",
     "text": [
      " 64%|██████▍   | 1591/2487 [2:14:01<27:00,  1.81s/it]"
     ]
    },
    {
     "name": "stdout",
     "output_type": "stream",
     "text": [
      "116  results found\n"
     ]
    },
    {
     "name": "stderr",
     "output_type": "stream",
     "text": [
      " 64%|██████▍   | 1593/2487 [2:16:12<4:08:30, 16.68s/it]"
     ]
    },
    {
     "name": "stdout",
     "output_type": "stream",
     "text": [
      "\n",
      " GL_TS_MO_23459.nc\n",
      "GL_TS_MO_23459.nc does not have any valid data for this timeperiod\n",
      "\n",
      " GL_TS_MO_MEDS008.nc\n",
      "GL_TS_MO_MEDS008.nc does not have any valid data for this timeperiod\n",
      "\n",
      " GL_TS_MO_42059.nc\n",
      "GL_TS_MO_42059.nc does not have any valid data for this timeperiod\n",
      "POLYGON((-67.49500274658203 15.298999786376953,-67.49500274658203 15.286999702453613,-67.47699737548828 15.286999702453613,-67.47699737548828 15.298999786376953,-67.49500274658203 15.298999786376953))\n",
      "108  results found\n"
     ]
    },
    {
     "name": "stderr",
     "output_type": "stream",
     "text": [
      " 64%|██████▍   | 1596/2487 [2:18:21<6:08:22, 24.81s/it]"
     ]
    },
    {
     "name": "stdout",
     "output_type": "stream",
     "text": [
      "\n",
      " NO_TS_MO_Fanoebugt.nc\n",
      "POINT(8.229999542236328 55.34600067138672)\n",
      "230  results found\n"
     ]
    },
    {
     "name": "stderr",
     "output_type": "stream",
     "text": [
      " 64%|██████▍   | 1597/2487 [2:18:50<6:16:05, 25.35s/it]"
     ]
    },
    {
     "name": "stdout",
     "output_type": "stream",
     "text": [
      "\n",
      " GL_TS_MO_55082.nc\n",
      "GL_TS_MO_55082.nc does not have any of the variables ['VHM0', 'VAVH', 'WSPD']\n",
      "\n",
      " MO_TS_MO_HERAKLION.nc\n",
      "MO_TS_MO_HERAKLION.nc does not have any valid data for this timeperiod\n",
      "POINT(25.079200744628906 35.434200286865234)\n",
      "210  results found\n"
     ]
    },
    {
     "name": "stderr",
     "output_type": "stream",
     "text": [
      " 64%|██████▍   | 1599/2487 [2:19:15<5:23:34, 21.86s/it]"
     ]
    },
    {
     "name": "stdout",
     "output_type": "stream",
     "text": [
      "\n",
      " GL_TS_MO_44025.nc\n",
      "GL_TS_MO_44025.nc does not have any valid data for this timeperiod\n",
      "POINT(-73.16400146484375 40.250999450683594)\n",
      "30  results found\n"
     ]
    },
    {
     "name": "stderr",
     "output_type": "stream",
     "text": [
      " 64%|██████▍   | 1603/2487 [2:19:31<3:02:45, 12.40s/it]"
     ]
    },
    {
     "name": "stdout",
     "output_type": "stream",
     "text": [
      "\n",
      " GL_TS_MO_MEDS334.nc\n",
      "GL_TS_MO_MEDS334.nc does not have any valid data for this timeperiod\n",
      "\n",
      " GL_TS_MO_6100290.nc\n",
      "GL_TS_MO_6100290.nc does not have any of the variables ['VHM0', 'VAVH', 'WSPD']\n",
      "\n",
      " GL_TS_MO_45167.nc\n",
      "GL_TS_MO_45167.nc does not have any valid data for this timeperiod\n",
      "GL_TS_MO_45167.nc does not have any valid data for this timeperiod\n",
      "\n",
      " GL_TS_MO_46039.nc\n",
      "GL_TS_MO_46039.nc does not have any valid data for this timeperiod\n",
      "GL_TS_MO_46039.nc does not have any valid data for this timeperiod\n",
      "\n",
      " GL_TS_MO_WEL411.nc\n",
      "GL_TS_MO_WEL411.nc does not have any valid data for this timeperiod\n",
      "\n",
      " NO_TS_MO_6200304.nc\n",
      "POINT(1.7999999523162842 51.10300064086914)\n"
     ]
    },
    {
     "name": "stderr",
     "output_type": "stream",
     "text": [
      " 64%|██████▍   | 1603/2487 [2:19:42<3:02:45, 12.40s/it]"
     ]
    },
    {
     "name": "stdout",
     "output_type": "stream",
     "text": [
      "176  results found\n"
     ]
    },
    {
     "name": "stderr",
     "output_type": "stream",
     "text": [
      " 65%|██████▍   | 1606/2487 [2:19:48<2:25:25,  9.90s/it]"
     ]
    },
    {
     "name": "stdout",
     "output_type": "stream",
     "text": [
      "\n",
      " GL_TS_MO_46070.nc\n",
      "GL_TS_MO_46070.nc does not have any valid data for this timeperiod\n",
      "POINT(175.18299865722656 55.007999420166016)\n"
     ]
    },
    {
     "name": "stderr",
     "output_type": "stream",
     "text": [
      " 65%|██████▍   | 1607/2487 [2:19:57<2:22:41,  9.73s/it]"
     ]
    },
    {
     "name": "stdout",
     "output_type": "stream",
     "text": [
      "0  results found\n",
      "\n",
      " AR_TS_MO_Grindavikurdufl.nc\n",
      "POINT(-22.460500717163086 63.813331604003906)\n"
     ]
    },
    {
     "name": "stderr",
     "output_type": "stream",
     "text": [
      " 65%|██████▍   | 1607/2487 [2:20:12<2:22:41,  9.73s/it]"
     ]
    },
    {
     "name": "stdout",
     "output_type": "stream",
     "text": [
      "459  results found\n"
     ]
    },
    {
     "name": "stderr",
     "output_type": "stream",
     "text": [
      " 65%|██████▍   | 1608/2487 [2:20:32<3:28:12, 14.21s/it]"
     ]
    },
    {
     "name": "stdout",
     "output_type": "stream",
     "text": [
      "\n",
      " GL_TS_MO_4100098.nc\n",
      "POINT(-61.11439895629883 14.890299797058105)\n",
      "197  results found\n"
     ]
    },
    {
     "name": "stderr",
     "output_type": "stream",
     "text": [
      " 65%|██████▍   | 1609/2487 [2:20:44<3:22:40, 13.85s/it]"
     ]
    },
    {
     "name": "stdout",
     "output_type": "stream",
     "text": [
      "\n",
      " GL_TS_MO_23168.nc\n",
      "GL_TS_MO_23168.nc does not have any valid data for this timeperiod\n",
      "\n",
      " NO_TS_MO_6201003.nc\n",
      "NO_TS_MO_6201003.nc does not have any valid data for this timeperiod\n",
      "\n",
      " GL_WS_MO_44090.nc\n",
      "GL_WS_MO_44090.nc does not have any of the variables ['VHM0', 'VAVH', 'WSPD']\n",
      "\n",
      " NO_TS_MO_MeetboeiWEO1.nc\n",
      "POINT(6.518016815185547 53.61745071411133)\n",
      "236  results found\n"
     ]
    },
    {
     "name": "stderr",
     "output_type": "stream",
     "text": [
      " 65%|██████▍   | 1616/2487 [2:20:59<1:17:19,  5.33s/it]"
     ]
    },
    {
     "name": "stdout",
     "output_type": "stream",
     "text": [
      "\n",
      " GL_WS_MO_42059.nc\n",
      "GL_WS_MO_42059.nc does not have any of the variables ['VHM0', 'VAVH', 'WSPD']\n",
      "\n",
      " GL_TS_MO_42025.nc\n",
      "GL_TS_MO_42025.nc does not have any valid data for this timeperiod\n",
      "\n",
      " GL_TS_MO_46226.nc\n",
      "GL_TS_MO_46226.nc does not have any valid data for this timeperiod\n",
      "\n",
      " GL_TS_MO_14046.nc\n",
      "GL_TS_MO_14046.nc does not have any valid data for this timeperiod\n",
      "\n",
      " GL_WS_MO_51205.nc\n",
      "GL_WS_MO_51205.nc does not have any of the variables ['VHM0', 'VAVH', 'WSPD']\n",
      "\n",
      " GL_TS_MO_3100260.nc\n"
     ]
    },
    {
     "name": "stderr",
     "output_type": "stream",
     "text": [
      " 65%|██████▌   | 1622/2487 [2:20:59<34:14,  2.38s/it]  "
     ]
    },
    {
     "name": "stdout",
     "output_type": "stream",
     "text": [
      "GL_TS_MO_3100260.nc does not have any valid data for this timeperiod\n",
      "\n",
      " GL_TS_MO_6801034.nc\n",
      "GL_TS_MO_6801034.nc does not have any of the variables ['VHM0', 'VAVH', 'WSPD']\n",
      "\n",
      " GL_TS_MO_MEDS163.nc\n",
      "GL_TS_MO_MEDS163.nc does not have any valid data for this timeperiod\n",
      "\n",
      " NO_TS_MO_Amelander61.nc\n",
      "NO_TS_MO_Amelander61.nc does not have any valid data for this timeperiod\n",
      "NO_TS_MO_Amelander61.nc does not have any valid data for this timeperiod\n",
      "\n",
      " GL_TS_MO_55040.nc\n",
      "GL_TS_MO_55040.nc does not have any valid data for this timeperiod\n",
      "GL_TS_MO_55040.nc does not have any valid data for this timeperiod\n",
      "\n",
      " GL_TS_MO_6200064.nc\n",
      "POINT(-1.4478000402450562 44.650299072265625)\n",
      "238  results found\n"
     ]
    },
    {
     "name": "stderr",
     "output_type": "stream",
     "text": [
      " 65%|██████▌   | 1627/2487 [2:21:15<34:49,  2.43s/it]"
     ]
    },
    {
     "name": "stdout",
     "output_type": "stream",
     "text": [
      "\n",
      " GL_TS_MO_3100219.nc\n",
      "GL_TS_MO_3100219.nc does not have any valid data for this timeperiod\n",
      "GL_TS_MO_3100219.nc does not have any valid data for this timeperiod\n",
      "\n",
      " GL_TS_MO_MEDS294.nc\n",
      "GL_TS_MO_MEDS294.nc does not have any valid data for this timeperiod\n",
      "\n",
      " BS_TS_MO_33835.nc\n",
      "BS_TS_MO_33835.nc does not have any valid data for this timeperiod\n",
      "\n",
      " BS_TS_MO_33830.nc\n",
      "BS_TS_MO_33830.nc does not have any valid data for this timeperiod\n",
      "\n",
      " GL_TS_MO_41018.nc\n",
      "GL_TS_MO_41018.nc does not have any valid data for this timeperiod\n",
      "GL_TS_MO_41018.nc does not have any valid data for this timeperiod\n",
      "\n",
      " GL_TS_MO_55014.nc\n",
      "LINESTRING(150.3300018310547 -35.72999954223633,150.32000732421875 -35.72999954223633)\n",
      "55  results found\n"
     ]
    },
    {
     "name": "stderr",
     "output_type": "stream",
     "text": [
      " 66%|██████▌   | 1630/2487 [2:21:39<1:01:19,  4.29s/it]"
     ]
    },
    {
     "name": "stdout",
     "output_type": "stream",
     "text": [
      "\n",
      " GL_WS_MO_45148.nc\n",
      "GL_WS_MO_45148.nc does not have any of the variables ['VHM0', 'VAVH', 'WSPD']\n",
      "\n",
      " GL_TS_MO_6100431.nc\n",
      "POINT(4.133299827575684 43.42499923706055)\n",
      "175  results found\n"
     ]
    },
    {
     "name": "stderr",
     "output_type": "stream",
     "text": [
      " 66%|██████▌   | 1635/2487 [2:22:02<56:49,  4.00s/it]  "
     ]
    },
    {
     "name": "stdout",
     "output_type": "stream",
     "text": [
      "\n",
      " GL_TS_MO_6801028.nc\n",
      "GL_TS_MO_6801028.nc does not have any of the variables ['VHM0', 'VAVH', 'WSPD']\n",
      "\n",
      " NO_TS_MO_Borkum.nc\n",
      "NO_TS_MO_Borkum.nc does not have any of the variables ['VHM0', 'VAVH', 'WSPD']\n",
      "\n",
      " NO_TS_MO_Amelander12.nc\n",
      "NO_TS_MO_Amelander12.nc does not have any valid data for this timeperiod\n",
      "NO_TS_MO_Amelander12.nc does not have any valid data for this timeperiod\n",
      "\n",
      " GL_TS_MO_K276.nc\n",
      "GL_TS_MO_K276.nc does not have any of the variables ['VHM0', 'VAVH', 'WSPD']\n",
      "\n",
      " NO_TS_MO_A2.nc\n",
      "POINT(3.1189329624176025 51.359718322753906)\n",
      "233  results found\n"
     ]
    },
    {
     "name": "stderr",
     "output_type": "stream",
     "text": [
      " 66%|██████▌   | 1638/2487 [2:22:18<1:02:11,  4.40s/it]"
     ]
    },
    {
     "name": "stdout",
     "output_type": "stream",
     "text": [
      "\n",
      " GL_TS_MO_6301007.nc\n",
      "GL_TS_MO_6301007.nc does not have any of the variables ['VHM0', 'VAVH', 'WSPD']\n",
      "\n",
      " GL_TS_MO_61187.nc\n",
      "GL_TS_MO_61187.nc does not have any valid data for this timeperiod\n",
      "GL_TS_MO_61187.nc does not have any valid data for this timeperiod\n",
      "\n",
      " GL_TS_MO_41024.nc\n",
      "POINT(-78.47699737548828 33.83700180053711)\n"
     ]
    },
    {
     "name": "stderr",
     "output_type": "stream",
     "text": [
      " 66%|██████▌   | 1640/2487 [2:22:26<1:01:24,  4.35s/it]"
     ]
    },
    {
     "name": "stdout",
     "output_type": "stream",
     "text": [
      "30  results found\n",
      "\n",
      " GL_WS_MO_46246.nc\n"
     ]
    },
    {
     "name": "stderr",
     "output_type": "stream",
     "text": [
      " 66%|██████▌   | 1643/2487 [2:22:26<40:50,  2.90s/it]  "
     ]
    },
    {
     "name": "stdout",
     "output_type": "stream",
     "text": [
      "GL_WS_MO_46246.nc does not have any of the variables ['VHM0', 'VAVH', 'WSPD']\n",
      "\n",
      " GL_TS_MO_2301713.nc\n",
      "GL_TS_MO_2301713.nc does not have any of the variables ['VHM0', 'VAVH', 'WSPD']\n",
      "\n",
      " GL_TS_MO_44057.nc\n",
      "GL_TS_MO_44057.nc does not have any valid data for this timeperiod\n",
      "\n",
      " AR_TS_MO_BSO1.nc\n",
      "AR_TS_MO_BSO1.nc does not have any of the variables ['VHM0', 'VAVH', 'WSPD']\n",
      "\n",
      " AR_TS_MO_Midtsandtangen-47-112.nc\n",
      "AR_TS_MO_Midtsandtangen-47-112.nc does not have any of the variables ['VHM0', 'VAVH', 'WSPD']\n",
      "\n",
      " GL_TS_MO_23172.nc\n",
      "GL_TS_MO_23172.nc does not have any valid data for this timeperiod\n",
      "\n",
      " GL_TS_MO_MEDS165.nc\n"
     ]
    },
    {
     "name": "stderr",
     "output_type": "stream",
     "text": [
      " 66%|██████▋   | 1652/2487 [2:22:27<14:44,  1.06s/it]"
     ]
    },
    {
     "name": "stdout",
     "output_type": "stream",
     "text": [
      "GL_TS_MO_MEDS165.nc does not have any valid data for this timeperiod\n",
      "\n",
      " GL_TS_MO_7401500.nc\n",
      "GL_TS_MO_7401500.nc does not have any of the variables ['VHM0', 'VAVH', 'WSPD']\n",
      "\n",
      " GL_TS_MO_WEL426.nc\n",
      "GL_TS_MO_WEL426.nc does not have any valid data for this timeperiod\n",
      "\n",
      " GL_TS_MO_MEDS051.nc\n",
      "GL_TS_MO_MEDS051.nc does not have any valid data for this timeperiod\n",
      "\n",
      " BO_TS_MO_SodraOstersjon.nc\n",
      "BO_TS_MO_SodraOstersjon.nc does not have any valid data for this timeperiod\n",
      "\n",
      " GL_WS_MO_46083.nc\n",
      "GL_WS_MO_46083.nc does not have any of the variables ['VHM0', 'VAVH', 'WSPD']\n",
      "\n",
      " IR_TS_MO_Capdepera-coast-buoy.nc\n",
      "IR_TS_MO_Capdepera-coast-buoy.nc does not have any valid data for this timeperiod\n",
      "IR_TS_MO_Capdepera-coast-buoy.nc does not have any valid data for this timeperiod\n",
      "\n",
      " GL_WS_MO_44087.nc\n"
     ]
    },
    {
     "name": "stderr",
     "output_type": "stream",
     "text": [
      " 67%|██████▋   | 1661/2487 [2:22:27<06:23,  2.15it/s]"
     ]
    },
    {
     "name": "stdout",
     "output_type": "stream",
     "text": [
      "GL_WS_MO_44087.nc does not have any of the variables ['VHM0', 'VAVH', 'WSPD']\n",
      "\n",
      " GL_TS_MO_53009.nc\n",
      "GL_TS_MO_53009.nc does not have any valid data for this timeperiod\n",
      "\n",
      " GL_WS_MO_46207.nc\n",
      "GL_WS_MO_46207.nc does not have any of the variables ['VHM0', 'VAVH', 'WSPD']\n",
      "\n",
      " GL_TS_MO_5501001.nc\n",
      "GL_TS_MO_5501001.nc does not have any of the variables ['VHM0', 'VAVH', 'WSPD']\n",
      "\n",
      " GL_WS_MO_42039.nc\n",
      "GL_WS_MO_42039.nc does not have any of the variables ['VHM0', 'VAVH', 'WSPD']\n",
      "\n",
      " GL_TS_MO_44052.nc\n",
      "GL_TS_MO_44052.nc does not have any valid data for this timeperiod\n",
      "\n",
      " GL_TS_MO_MEDS071.nc\n",
      "GL_TS_MO_MEDS071.nc does not have any valid data for this timeperiod\n",
      "\n",
      " BO_TS_MO_DrogdenCU.nc\n",
      "BO_TS_MO_DrogdenCU.nc does not have any of the variables ['VHM0', 'VAVH', 'WSPD']\n",
      "\n",
      " GL_TS_MO_6100022.nc\n",
      "POINT(7.4261698722839355 43.71358108520508)\n",
      "204  results found\n"
     ]
    },
    {
     "name": "stderr",
     "output_type": "stream",
     "text": [
      " 67%|██████▋   | 1665/2487 [2:22:41<18:51,  1.38s/it]"
     ]
    },
    {
     "name": "stdout",
     "output_type": "stream",
     "text": [
      "\n",
      " GL_TS_MO_IF000600.nc\n",
      "GL_TS_MO_IF000600.nc does not have any of the variables ['VHM0', 'VAVH', 'WSPD']\n",
      "\n",
      " GL_TS_MO_42362.nc\n",
      "GL_TS_MO_42362.nc does not have any valid data for this timeperiod\n",
      "\n",
      " GL_TS_MO_MEDS173.nc\n",
      "GL_TS_MO_MEDS173.nc does not have any valid data for this timeperiod\n",
      "\n",
      " GL_TS_MO_45204.nc\n",
      "GL_TS_MO_45204.nc does not have any valid data for this timeperiod\n",
      "GL_TS_MO_45204.nc does not have any valid data for this timeperiod\n",
      "\n",
      " GL_TS_MO_45161.nc\n",
      "GL_TS_MO_45161.nc does not have any valid data for this timeperiod\n"
     ]
    },
    {
     "name": "stderr",
     "output_type": "stream",
     "text": [
      " 67%|██████▋   | 1671/2487 [2:22:42<10:40,  1.27it/s]"
     ]
    },
    {
     "name": "stdout",
     "output_type": "stream",
     "text": [
      "GL_TS_MO_45161.nc is too close to land\n",
      "\n",
      " GL_TS_MO_46182.nc\n",
      "GL_TS_MO_46182.nc does not have any valid data for this timeperiod\n",
      "GL_TS_MO_46182.nc does not have any valid data for this timeperiod\n",
      "\n",
      " GL_TS_MO_WEL434.nc\n",
      "GL_TS_MO_WEL434.nc does not have any valid data for this timeperiod\n",
      "\n",
      " GL_WS_MO_46275.nc\n",
      "GL_WS_MO_46275.nc does not have any of the variables ['VHM0', 'VAVH', 'WSPD']\n",
      "\n",
      " NO_TS_MO_6201025.nc\n",
      "NO_TS_MO_6201025.nc does not have any valid data for this timeperiod\n",
      "\n",
      " NO_TS_MO_Q11.nc\n",
      "POINT(4.150000095367432 52.92535400390625)\n"
     ]
    },
    {
     "name": "stderr",
     "output_type": "stream",
     "text": [
      " 67%|██████▋   | 1671/2487 [2:22:52<10:40,  1.27it/s]"
     ]
    },
    {
     "name": "stdout",
     "output_type": "stream",
     "text": [
      "177  results found\n"
     ]
    },
    {
     "name": "stderr",
     "output_type": "stream",
     "text": [
      " 67%|██████▋   | 1675/2487 [2:23:01<25:07,  1.86s/it]"
     ]
    },
    {
     "name": "stdout",
     "output_type": "stream",
     "text": [
      "\n",
      " MO_TS_MO_VENEZIA-61220.nc\n",
      "MO_TS_MO_VENEZIA-61220.nc does not have any valid data for this timeperiod\n",
      "\n",
      " GL_TS_MO_MEDS269.nc\n",
      "GL_TS_MO_MEDS269.nc does not have any valid data for this timeperiod\n",
      "\n",
      " GL_TS_MO_23007.nc\n",
      "GL_TS_MO_23007.nc does not have any valid data for this timeperiod\n",
      "\n",
      " GL_TS_MO_42080.nc\n",
      "GL_TS_MO_42080.nc does not have any valid data for this timeperiod\n",
      "GL_TS_MO_42080.nc does not have any valid data for this timeperiod\n",
      "\n",
      " GL_TS_MO_46072.nc\n",
      "GL_TS_MO_46072.nc does not have any valid data for this timeperiod\n",
      "POINT(-172.08799743652344 51.672000885009766)\n",
      "44  results found\n"
     ]
    },
    {
     "name": "stderr",
     "output_type": "stream",
     "text": [
      " 68%|██████▊   | 1679/2487 [2:23:10<27:49,  2.07s/it]"
     ]
    },
    {
     "name": "stdout",
     "output_type": "stream",
     "text": [
      "\n",
      " IR_TS_MO_Tenerife-coast-buoy.nc\n",
      "IR_TS_MO_Tenerife-coast-buoy.nc is too close to land\n",
      "\n",
      " GL_TS_MO_62072.nc\n",
      "GL_TS_MO_62072.nc does not have any valid data for this timeperiod\n",
      "GL_TS_MO_62072.nc does not have any valid data for this timeperiod\n",
      "\n",
      " NO_TS_MO_6200135.nc\n"
     ]
    },
    {
     "name": "stderr",
     "output_type": "stream",
     "text": [
      " 68%|██████▊   | 1683/2487 [2:23:10<18:12,  1.36s/it]"
     ]
    },
    {
     "name": "stdout",
     "output_type": "stream",
     "text": [
      "NO_TS_MO_6200135.nc does not have any valid data for this timeperiod\n",
      "\n",
      " GL_TS_MO_41100.nc\n",
      "GL_TS_MO_41100.nc does not have any valid data for this timeperiod\n",
      "\n",
      " GL_WS_MO_6100002.nc\n",
      "GL_WS_MO_6100002.nc does not have any of the variables ['VHM0', 'VAVH', 'WSPD']\n",
      "\n",
      " GL_WS_MO_44098.nc\n",
      "GL_WS_MO_44098.nc does not have any of the variables ['VHM0', 'VAVH', 'WSPD']\n",
      "\n",
      " GL_TS_MO_MEDS350.nc\n",
      "GL_TS_MO_MEDS350.nc does not have any valid data for this timeperiod\n",
      "\n",
      " NO_TS_MO_FelixstoweMET.nc\n",
      "NO_TS_MO_FelixstoweMET.nc does not have any valid data for this timeperiod\n",
      "\n",
      " GL_TS_MO_42058.nc\n",
      "GL_TS_MO_42058.nc does not have any valid data for this timeperiod\n",
      "POLYGON((-74.8030014038086 14.388999938964844,-74.8030014038086 14.92300033569336,-74.91799926757812 14.92300033569336,-74.91799926757812 14.388999938964844,-74.8030014038086 14.388999938964844))\n",
      "30  results found\n"
     ]
    },
    {
     "name": "stderr",
     "output_type": "stream",
     "text": [
      " 68%|██████▊   | 1686/2487 [2:23:46<56:08,  4.21s/it]"
     ]
    },
    {
     "name": "stdout",
     "output_type": "stream",
     "text": [
      "\n",
      " GL_TS_MO_45016.nc\n",
      "GL_TS_MO_45016.nc does not have any valid data for this timeperiod\n",
      "\n",
      " GL_TS_MO_51207.nc\n",
      "POINT(-157.7519989013672 21.476999282836914)\n",
      "117  results found\n"
     ]
    },
    {
     "name": "stderr",
     "output_type": "stream",
     "text": [
      " 68%|██████▊   | 1688/2487 [2:23:57<1:00:17,  4.53s/it]/home/sarssw/miniconda3/envs/master/lib/python3.10/site-packages/xarray/core/indexes.py:205: FutureWarning: Value based partial slicing on non-monotonic DatetimeIndexes with non-existing keys is deprecated and will raise a KeyError in a future Version.\n",
      "  indexer = index.slice_indexer(\n",
      " 68%|██████▊   | 1690/2487 [2:23:58<46:43,  3.52s/it]  "
     ]
    },
    {
     "name": "stdout",
     "output_type": "stream",
     "text": [
      "\n",
      " IR_TS_MO_PasaiaII-coast-buoy.nc\n",
      "IR_TS_MO_PasaiaII-coast-buoy.nc does not have any valid data for this timeperiod\n",
      "IR_TS_MO_PasaiaII-coast-buoy.nc does not have any valid data for this timeperiod\n",
      "\n",
      " MO_TS_MO_VIDA.nc\n",
      "MO_TS_MO_VIDA.nc : data extraction failed with: \"cannot represent labeled-based slice indexer for coordinate 'TIME' with a slice over integer positions; the index is unsorted or non-unique\"\n",
      "\n",
      " GL_TS_MO_41022.nc\n",
      "GL_TS_MO_41022.nc does not have any valid data for this timeperiod\n",
      "GL_TS_MO_41022.nc does not have any valid data for this timeperiod\n",
      "\n",
      " GL_TS_MO_Oakagee02.nc\n",
      "GL_TS_MO_Oakagee02.nc does not have any valid data for this timeperiod\n"
     ]
    },
    {
     "name": "stderr",
     "output_type": "stream",
     "text": [
      " 68%|██████▊   | 1694/2487 [2:23:58<28:22,  2.15s/it]"
     ]
    },
    {
     "name": "stdout",
     "output_type": "stream",
     "text": [
      "\n",
      " GL_TS_MO_WEL238.nc\n",
      "GL_TS_MO_WEL238.nc does not have any valid data for this timeperiod\n",
      "\n",
      " AR_TS_MO_Landeyjahafnardufl.nc\n",
      "AR_TS_MO_Landeyjahafnardufl.nc does not have any valid data for this timeperiod\n",
      "\n",
      " GL_TS_MO_62308.nc\n",
      "GL_TS_MO_62308.nc does not have any of the variables ['VHM0', 'VAVH', 'WSPD']\n",
      "\n",
      " GL_TS_MO_1301561.nc\n",
      "GL_TS_MO_1301561.nc does not have any of the variables ['VHM0', 'VAVH', 'WSPD']\n",
      "\n",
      " GL_TS_MO_IF000617.nc\n",
      "GL_TS_MO_IF000617.nc does not have any of the variables ['VHM0', 'VAVH', 'WSPD']\n",
      "\n",
      " NO_TS_MO_6201015.nc\n",
      "NO_TS_MO_6201015.nc does not have any valid data for this timeperiod\n",
      "\n",
      " GL_TS_MO_14043.nc\n",
      "POINT(67.0 -12.0)\n"
     ]
    },
    {
     "name": "stderr",
     "output_type": "stream",
     "text": [
      " 68%|██████▊   | 1699/2487 [2:24:04<22:53,  1.74s/it]"
     ]
    },
    {
     "name": "stdout",
     "output_type": "stream",
     "text": [
      "0  results found\n",
      "\n",
      " GL_TS_MO_51213.nc\n",
      "POINT(-157.0030059814453 20.75)\n",
      "175  results found\n"
     ]
    },
    {
     "name": "stderr",
     "output_type": "stream",
     "text": [
      " 68%|██████▊   | 1701/2487 [2:24:14<31:15,  2.39s/it]"
     ]
    },
    {
     "name": "stdout",
     "output_type": "stream",
     "text": [
      "\n",
      " BS_TS_MO_WD3044B.nc\n",
      "BS_TS_MO_WD3044B.nc is too close to land\n",
      "\n",
      " GL_WS_MO_45140.nc\n",
      "GL_WS_MO_45140.nc does not have any of the variables ['VHM0', 'VAVH', 'WSPD']\n",
      "\n",
      " NO_TS_MO_Anasuria.nc\n",
      "NO_TS_MO_Anasuria.nc does not have any valid data for this timeperiod\n",
      "\n",
      " GL_TS_MO_3732621.nc\n",
      "GL_TS_MO_3732621.nc does not have any valid data for this timeperiod\n"
     ]
    },
    {
     "name": "stderr",
     "output_type": "stream",
     "text": [
      " 69%|██████▊   | 1707/2487 [2:24:14<15:54,  1.22s/it]"
     ]
    },
    {
     "name": "stdout",
     "output_type": "stream",
     "text": [
      "\n",
      " GL_TS_MO_45142.nc\n",
      "GL_TS_MO_45142.nc does not have any valid data for this timeperiod\n",
      "GL_TS_MO_45142.nc is too close to land\n",
      "\n",
      " GL_TS_MO_44138.nc\n",
      "GL_TS_MO_44138.nc does not have any valid data for this timeperiod\n",
      "GL_TS_MO_44138.nc does not have any valid data for this timeperiod\n",
      "\n",
      " GL_WS_MO_46221.nc\n",
      "GL_WS_MO_46221.nc does not have any of the variables ['VHM0', 'VAVH', 'WSPD']\n",
      "\n",
      " GL_TS_MO_T2N140W.nc\n"
     ]
    },
    {
     "name": "stderr",
     "output_type": "stream",
     "text": [
      " 69%|██████▊   | 1709/2487 [2:24:14<12:55,  1.00it/s]"
     ]
    },
    {
     "name": "stdout",
     "output_type": "stream",
     "text": [
      "GL_TS_MO_T2N140W.nc does not have any valid data for this timeperiod\n",
      "\n",
      " GL_TS_MO_ASTAN.nc\n",
      "GL_TS_MO_ASTAN.nc does not have any valid data for this timeperiod\n",
      "\n",
      " GL_TS_MO_31004.nc\n",
      "POLYGON((-32.640018463134766 -13.545000076293945,-32.640018463134766 -13.517000198364258,-32.58401870727539 -13.517000198364258,-32.58401870727539 -13.545000076293945,-32.640018463134766 -13.545000076293945))\n"
     ]
    },
    {
     "name": "stderr",
     "output_type": "stream",
     "text": [
      " 69%|██████▉   | 1711/2487 [2:24:19<17:06,  1.32s/it]"
     ]
    },
    {
     "name": "stdout",
     "output_type": "stream",
     "text": [
      "0  results found\n",
      "\n",
      " GL_TS_MO_MEDS047.nc\n",
      "GL_TS_MO_MEDS047.nc does not have any valid data for this timeperiod\n",
      "\n",
      " GL_TS_MO_MEDS083.nc\n",
      "GL_TS_MO_MEDS083.nc does not have any valid data for this timeperiod\n",
      "\n",
      " GL_TS_MO_Albany04.nc\n",
      "GL_TS_MO_Albany04.nc does not have any valid data for this timeperiod\n",
      "\n",
      " GL_TS_MO_46097.nc\n",
      "GL_TS_MO_46097.nc does not have any valid data for this timeperiod\n",
      "POINT(-124.30400085449219 44.638999938964844)\n",
      "95  results found\n"
     ]
    },
    {
     "name": "stderr",
     "output_type": "stream",
     "text": [
      " 69%|██████▉   | 1714/2487 [2:24:32<30:12,  2.34s/it]"
     ]
    },
    {
     "name": "stdout",
     "output_type": "stream",
     "text": [
      "\n",
      " GL_TS_MO_44032.nc\n",
      "GL_TS_MO_44032.nc does not have any valid data for this timeperiod\n",
      "POINT(-69.3550033569336 43.71500015258789)\n",
      "116  results found\n"
     ]
    },
    {
     "name": "stderr",
     "output_type": "stream",
     "text": [
      " 69%|██████▉   | 1715/2487 [2:24:41<41:58,  3.26s/it]"
     ]
    },
    {
     "name": "stdout",
     "output_type": "stream",
     "text": [
      "\n",
      " BO_TS_MO_LasoOstWR.nc\n",
      "BO_TS_MO_LasoOstWR.nc does not have any valid data for this timeperiod\n",
      "\n",
      " IR_TS_MO_6200024.nc\n",
      "IR_TS_MO_6200024.nc does not have any valid data for this timeperiod\n",
      "POLYGON((-3.037100076675415 43.63999938964844,-3.037100076675415 43.632301330566406,-3.051800012588501 43.632301330566406,-3.051800012588501 43.63999938964844,-3.037100076675415 43.63999938964844))\n",
      "240  results found\n"
     ]
    },
    {
     "name": "stderr",
     "output_type": "stream",
     "text": [
      " 69%|██████▉   | 1720/2487 [2:26:17<2:06:39,  9.91s/it]"
     ]
    },
    {
     "name": "stdout",
     "output_type": "stream",
     "text": [
      "\n",
      " GL_TS_MO_MEDS260.nc\n",
      "GL_TS_MO_MEDS260.nc does not have any valid data for this timeperiod\n",
      "\n",
      " GL_TS_MO_MEDS089.nc\n",
      "GL_TS_MO_MEDS089.nc does not have any valid data for this timeperiod\n",
      "\n",
      " GL_TS_MO_44021.nc\n",
      "GL_TS_MO_44021.nc does not have any valid data for this timeperiod\n",
      "GL_TS_MO_44021.nc does not have any valid data for this timeperiod\n",
      "\n",
      " GL_TS_MO_52073.nc\n"
     ]
    },
    {
     "name": "stderr",
     "output_type": "stream",
     "text": [
      " 69%|██████▉   | 1722/2487 [2:26:17<1:33:14,  7.31s/it]"
     ]
    },
    {
     "name": "stdout",
     "output_type": "stream",
     "text": [
      "GL_TS_MO_52073.nc does not have any valid data for this timeperiod\n",
      "\n",
      " GL_TS_MO_53057.nc\n",
      "GL_TS_MO_53057.nc does not have any valid data for this timeperiod\n",
      "\n",
      " GL_TS_MO_MEDS138.nc\n",
      "GL_TS_MO_MEDS138.nc does not have any valid data for this timeperiod\n",
      "\n",
      " GL_WS_MO_6200001.nc\n",
      "GL_WS_MO_6200001.nc does not have any of the variables ['VHM0', 'VAVH', 'WSPD']\n",
      "\n",
      " GL_WS_MO_46t85.nc\n",
      "GL_WS_MO_46t85.nc does not have any of the variables ['VHM0', 'VAVH', 'WSPD']\n",
      "\n",
      " GL_TS_MO_45028.nc\n"
     ]
    },
    {
     "name": "stderr",
     "output_type": "stream",
     "text": [
      " 69%|██████▉   | 1726/2487 [2:26:17<53:02,  4.18s/it]  "
     ]
    },
    {
     "name": "stdout",
     "output_type": "stream",
     "text": [
      "GL_TS_MO_45028.nc does not have any valid data for this timeperiod\n",
      "GL_TS_MO_45028.nc does not have any valid data for this timeperiod\n",
      "\n",
      " GL_WS_MO_42054.nc\n",
      "GL_WS_MO_42054.nc does not have any of the variables ['VHM0', 'VAVH', 'WSPD']\n",
      "\n",
      " GL_TS_MO_46240.nc\n",
      "POINT(-121.90699768066406 36.625999450683594)\n",
      "118  results found\n"
     ]
    },
    {
     "name": "stderr",
     "output_type": "stream",
     "text": [
      " 70%|██████▉   | 1729/2487 [2:26:28<48:06,  3.81s/it]"
     ]
    },
    {
     "name": "stdout",
     "output_type": "stream",
     "text": [
      "\n",
      " GL_TS_MO_45132.nc\n",
      "GL_TS_MO_45132.nc does not have any valid data for this timeperiod\n",
      "GL_TS_MO_45132.nc is too close to land\n",
      "\n",
      " BO_TS_MO_KeriCable.nc\n",
      "BO_TS_MO_KeriCable.nc does not have any of the variables ['VHM0', 'VAVH', 'WSPD']\n",
      "\n",
      " GL_TS_MO_46694A.nc\n",
      "GL_TS_MO_46694A.nc does not have any valid data for this timeperiod\n",
      "\n",
      " GL_TS_MO_2200106.nc\n",
      "POINT(129.77999877929688 36.349998474121094)\n",
      "56  results found\n"
     ]
    },
    {
     "name": "stderr",
     "output_type": "stream",
     "text": [
      " 70%|██████▉   | 1732/2487 [2:26:36<42:37,  3.39s/it]"
     ]
    },
    {
     "name": "stdout",
     "output_type": "stream",
     "text": [
      "\n",
      " GL_TS_MO_6100190.nc\n",
      "POINT(3.7797000408172607 43.371498107910156)\n",
      "117  results found\n"
     ]
    },
    {
     "name": "stderr",
     "output_type": "stream",
     "text": [
      " 70%|██████▉   | 1734/2487 [2:26:50<51:00,  4.06s/it]  "
     ]
    },
    {
     "name": "stdout",
     "output_type": "stream",
     "text": [
      "\n",
      " GL_TS_MO_45170.nc\n",
      "GL_TS_MO_45170.nc does not have any valid data for this timeperiod\n",
      "GL_TS_MO_45170.nc is too close to land\n",
      "\n",
      " GL_TS_MO_42091.nc\n",
      "POINT(-92.50599670410156 29.086999893188477)\n",
      "59  results found\n"
     ]
    },
    {
     "name": "stderr",
     "output_type": "stream",
     "text": [
      " 70%|██████▉   | 1735/2487 [2:26:58<1:01:34,  4.91s/it]"
     ]
    },
    {
     "name": "stdout",
     "output_type": "stream",
     "text": [
      "\n",
      " GL_TS_MO_46006.nc\n",
      "GL_TS_MO_46006.nc does not have any valid data for this timeperiod\n",
      "POINT(-137.37899780273438 40.76599884033203)\n"
     ]
    },
    {
     "name": "stderr",
     "output_type": "stream",
     "text": [
      " 70%|██████▉   | 1736/2487 [2:27:04<1:05:11,  5.21s/it]"
     ]
    },
    {
     "name": "stdout",
     "output_type": "stream",
     "text": [
      "0  results found\n",
      "\n",
      " GL_WS_MO_44027.nc\n",
      "GL_WS_MO_44027.nc does not have any of the variables ['VHM0', 'VAVH', 'WSPD']\n",
      "\n",
      " GL_WS_MO_41001.nc\n",
      "GL_WS_MO_41001.nc does not have any of the variables ['VHM0', 'VAVH', 'WSPD']\n",
      "\n",
      " GL_TS_MO_42026.nc\n",
      "POINT(-83.4749984741211 25.17099952697754)\n"
     ]
    },
    {
     "name": "stderr",
     "output_type": "stream",
     "text": [
      " 70%|██████▉   | 1739/2487 [2:27:12<49:40,  3.98s/it]  "
     ]
    },
    {
     "name": "stdout",
     "output_type": "stream",
     "text": [
      "28  results found\n",
      "\n",
      " BS_TS_MO_37099.nc\n",
      "BS_TS_MO_37099.nc does not have any valid data for this timeperiod\n",
      "\n",
      " GL_TS_MO_MEDS206.nc\n",
      "GL_TS_MO_MEDS206.nc does not have any valid data for this timeperiod\n",
      "\n",
      " GL_TS_MO_2200107.nc\n",
      "POINT(126.02999877929688 33.08000183105469)\n",
      "30  results found\n"
     ]
    },
    {
     "name": "stderr",
     "output_type": "stream",
     "text": [
      " 70%|███████   | 1742/2487 [2:27:19<40:52,  3.29s/it]"
     ]
    },
    {
     "name": "stdout",
     "output_type": "stream",
     "text": [
      "\n",
      " IR_TS_MO_Gijon-coast-buoy.nc\n",
      "POLYGON((-5.664000034332275 43.619998931884766,-5.664000034332275 43.6150016784668,-5.659999847412109 43.6150016784668,-5.659999847412109 43.619998931884766,-5.664000034332275 43.619998931884766))\n",
      "237  results found\n"
     ]
    },
    {
     "name": "stderr",
     "output_type": "stream",
     "text": [
      " 70%|███████   | 1746/2487 [2:30:31<4:08:09, 20.09s/it]"
     ]
    },
    {
     "name": "stdout",
     "output_type": "stream",
     "text": [
      "\n",
      " GL_WS_MO_41036.nc\n",
      "GL_WS_MO_41036.nc does not have any of the variables ['VHM0', 'VAVH', 'WSPD']\n",
      "\n",
      " BS_TS_MO_Charegradskoegirlo.nc\n",
      "BS_TS_MO_Charegradskoegirlo.nc does not have any valid data for this timeperiod\n",
      "\n",
      " GL_TS_MO_45169.nc\n",
      "GL_TS_MO_45169.nc does not have any valid data for this timeperiod\n",
      "GL_TS_MO_45169.nc does not have any valid data for this timeperiod\n",
      "\n",
      " GL_TS_MO_MEDS282.nc\n",
      "GL_TS_MO_MEDS282.nc does not have any valid data for this timeperiod\n",
      "\n",
      " GL_TS_MO_MEDS207.nc\n",
      "GL_TS_MO_MEDS207.nc does not have any valid data for this timeperiod\n",
      "\n",
      " GL_WS_MO_41008.nc\n",
      "GL_WS_MO_41008.nc does not have any of the variables ['VHM0', 'VAVH', 'WSPD']\n",
      "\n",
      " GL_TS_MO_42097.nc\n",
      "POINT(-83.6500015258789 25.701000213623047)\n",
      "28  results found\n"
     ]
    },
    {
     "name": "stderr",
     "output_type": "stream",
     "text": [
      " 70%|███████   | 1750/2487 [2:30:39<2:29:48, 12.20s/it]"
     ]
    },
    {
     "name": "stdout",
     "output_type": "stream",
     "text": [
      "\n",
      " BS_TS_MO_CG.nc\n",
      "POINT(28.605499267578125 43.80220031738281)\n",
      "118  results found\n"
     ]
    },
    {
     "name": "stderr",
     "output_type": "stream",
     "text": [
      " 70%|███████   | 1751/2487 [2:30:53<2:31:52, 12.38s/it]"
     ]
    },
    {
     "name": "stdout",
     "output_type": "stream",
     "text": [
      "\n",
      " GL_TS_MO_51003.nc\n",
      "GL_TS_MO_51003.nc does not have any valid data for this timeperiod\n",
      "POINT(-160.63900756835938 19.195999145507812)\n",
      "111  results found\n"
     ]
    },
    {
     "name": "stderr",
     "output_type": "stream",
     "text": [
      " 70%|███████   | 1752/2487 [2:31:06<2:32:23, 12.44s/it]"
     ]
    },
    {
     "name": "stdout",
     "output_type": "stream",
     "text": [
      "\n",
      " GL_TS_MO_23493.nc\n",
      "GL_TS_MO_23493.nc does not have any valid data for this timeperiod\n",
      "\n",
      " GL_WS_MO_6200059.nc\n",
      "GL_WS_MO_6200059.nc does not have any of the variables ['VHM0', 'VAVH', 'WSPD']\n",
      "\n",
      " NO_TS_MO_6200148.nc\n",
      "NO_TS_MO_6200148.nc does not have any valid data for this timeperiod\n",
      "POINT(1.5 53.599998474121094)\n",
      "215  results found\n"
     ]
    },
    {
     "name": "stderr",
     "output_type": "stream",
     "text": [
      " 71%|███████   | 1755/2487 [2:31:21<1:54:52,  9.42s/it]"
     ]
    },
    {
     "name": "stdout",
     "output_type": "stream",
     "text": [
      "\n",
      " GL_TS_MO_41046.nc\n",
      "GL_TS_MO_41046.nc does not have any valid data for this timeperiod\n",
      "POINT(-68.38400268554688 23.82200050354004)\n"
     ]
    },
    {
     "name": "stderr",
     "output_type": "stream",
     "text": [
      " 71%|███████   | 1756/2487 [2:31:29<1:51:13,  9.13s/it]"
     ]
    },
    {
     "name": "stdout",
     "output_type": "stream",
     "text": [
      "0  results found\n",
      "\n",
      " GL_TS_MO_WEL410.nc\n",
      "GL_TS_MO_WEL410.nc does not have any valid data for this timeperiod\n",
      "\n",
      " GL_TS_MO_46229.nc\n",
      "LINESTRING(-124.54900360107422 43.77199935913086,-124.54900360107422 43.77000045776367)\n",
      "125  results found\n"
     ]
    },
    {
     "name": "stderr",
     "output_type": "stream",
     "text": [
      " 71%|███████   | 1761/2487 [2:32:56<2:24:45, 11.96s/it]"
     ]
    },
    {
     "name": "stdout",
     "output_type": "stream",
     "text": [
      "\n",
      " MO_TS_MO_Kariani.nc\n",
      "MO_TS_MO_Kariani.nc does not have any valid data for this timeperiod\n",
      "MO_TS_MO_Kariani.nc does not have any valid data for this timeperiod\n",
      "\n",
      " GL_TS_MO_TENATSO.nc\n",
      "GL_TS_MO_TENATSO.nc does not have any of the variables ['VHM0', 'VAVH', 'WSPD']\n",
      "\n",
      " GL_WS_MO_46085.nc\n",
      "GL_WS_MO_46085.nc does not have any of the variables ['VHM0', 'VAVH', 'WSPD']\n",
      "\n",
      " NO_TS_MO_6201000.nc\n",
      "NO_TS_MO_6201000.nc does not have any valid data for this timeperiod\n",
      "\n",
      " GL_TS_MO_45206.nc\n",
      "GL_TS_MO_45206.nc does not have any valid data for this timeperiod\n",
      "GL_TS_MO_45206.nc does not have any valid data for this timeperiod\n",
      "\n",
      " GL_WS_MO_46036.nc\n",
      "GL_WS_MO_46036.nc does not have any of the variables ['VHM0', 'VAVH', 'WSPD']\n",
      "\n",
      " GL_TS_MO_MEDS122.nc\n"
     ]
    },
    {
     "name": "stderr",
     "output_type": "stream",
     "text": [
      " 71%|███████   | 1765/2487 [2:32:56<1:21:21,  6.76s/it]"
     ]
    },
    {
     "name": "stdout",
     "output_type": "stream",
     "text": [
      "GL_TS_MO_MEDS122.nc does not have any valid data for this timeperiod\n",
      "\n",
      " IR_TS_MO_AMETSBerthBWaveBuoy.nc\n",
      "POINT(-10.150989532470703 54.225101470947266)\n",
      "226  results found\n"
     ]
    },
    {
     "name": "stderr",
     "output_type": "stream",
     "text": [
      " 71%|███████   | 1767/2487 [2:33:09<1:19:41,  6.64s/it]"
     ]
    },
    {
     "name": "stdout",
     "output_type": "stream",
     "text": [
      "\n",
      " GL_TS_MO_44255.nc\n",
      "GL_TS_MO_44255.nc does not have any valid data for this timeperiod\n",
      "GL_TS_MO_44255.nc does not have any valid data for this timeperiod\n",
      "\n",
      " GL_TS_MO_41027.nc\n",
      "GL_TS_MO_41027.nc does not have any valid data for this timeperiod\n",
      "\n",
      " GL_TS_MO_31978.nc\n",
      "GL_TS_MO_31978.nc does not have any valid data for this timeperiod\n",
      "\n",
      " BS_TS_MO_Anapa.nc\n",
      "BS_TS_MO_Anapa.nc does not have any valid data for this timeperiod\n",
      "\n",
      " AR_TS_MO_Geitvaagen-Camping-8-37.nc\n",
      "AR_TS_MO_Geitvaagen-Camping-8-37.nc does not have any of the variables ['VHM0', 'VAVH', 'WSPD']\n",
      "\n",
      " NO_TS_MO_CadzandBoei.nc\n",
      "POINT(3.369800090789795 51.392601013183594)\n",
      "233  results found\n"
     ]
    },
    {
     "name": "stderr",
     "output_type": "stream",
     "text": [
      " 71%|███████▏  | 1776/2487 [2:33:25<39:53,  3.37s/it]  "
     ]
    },
    {
     "name": "stdout",
     "output_type": "stream",
     "text": [
      "\n",
      " GL_WS_MO_46004.nc\n",
      "GL_WS_MO_46004.nc does not have any of the variables ['VHM0', 'VAVH', 'WSPD']\n",
      "\n",
      " GL_TS_MO_23094.nc\n",
      "GL_TS_MO_23094.nc does not have any valid data for this timeperiod\n",
      "\n",
      " GL_WS_MO_44095.nc\n",
      "GL_WS_MO_44095.nc does not have any of the variables ['VHM0', 'VAVH', 'WSPD']\n",
      "\n",
      " GL_TS_MO_ljpc1.nc\n",
      "GL_TS_MO_ljpc1.nc does not have any valid data for this timeperiod\n",
      "GL_TS_MO_ljpc1.nc does not have any valid data for this timeperiod\n",
      "\n",
      " GL_TS_MO_55027.nc\n",
      "POLYGON((153.27000427246094 -27.479999542236328,153.27000427246094 -26.898500442504883,153.47000122070312 -26.898500442504883,153.47000122070312 -27.479999542236328,153.27000427246094 -27.479999542236328))\n",
      "60  results found\n"
     ]
    },
    {
     "name": "stderr",
     "output_type": "stream",
     "text": [
      " 72%|███████▏  | 1780/2487 [2:33:58<52:45,  4.48s/it]  "
     ]
    },
    {
     "name": "stdout",
     "output_type": "stream",
     "text": [
      "\n",
      " GL_TS_MO_IF000552.nc\n",
      "GL_TS_MO_IF000552.nc does not have any of the variables ['VHM0', 'VAVH', 'WSPD']\n",
      "\n",
      " GL_TS_MO_46016.nc\n",
      "GL_TS_MO_46016.nc does not have any valid data for this timeperiod\n",
      "\n",
      " GL_TS_MO_41063.nc\n",
      "GL_TS_MO_41063.nc does not have any valid data for this timeperiod\n",
      "\n",
      " NO_TS_MO_6201045.nc\n",
      "NO_TS_MO_6201045.nc does not have any valid data for this timeperiod\n",
      "\n",
      " GL_TS_MO_23499.nc\n",
      "GL_TS_MO_23499.nc does not have any valid data for this timeperiod\n",
      "\n",
      " GL_WS_MO_41013.nc\n"
     ]
    },
    {
     "name": "stderr",
     "output_type": "stream",
     "text": [
      " 72%|███████▏  | 1784/2487 [2:33:58<32:44,  2.80s/it]"
     ]
    },
    {
     "name": "stdout",
     "output_type": "stream",
     "text": [
      "GL_WS_MO_41013.nc does not have any of the variables ['VHM0', 'VAVH', 'WSPD']\n",
      "\n",
      " NO_TS_MO_6201571.nc\n",
      "NO_TS_MO_6201571.nc does not have any of the variables ['VHM0', 'VAVH', 'WSPD']\n",
      "\n",
      " GL_TS_MO_MEDS075.nc\n",
      "GL_TS_MO_MEDS075.nc does not have any valid data for this timeperiod\n",
      "\n",
      " GL_WS_MO_46244.nc\n",
      "GL_WS_MO_46244.nc does not have any of the variables ['VHM0', 'VAVH', 'WSPD']\n",
      "\n",
      " IR_TS_MO_6201030.nc\n",
      "IR_TS_MO_6201030.nc does not have any valid data for this timeperiod\n",
      "POLYGON((-3.7493999004364014 43.819801330566406,-3.7493999004364014 43.784698486328125,-3.80430006980896 43.784698486328125,-3.80430006980896 43.819801330566406,-3.7493999004364014 43.819801330566406))\n",
      "240  results found\n"
     ]
    },
    {
     "name": "stderr",
     "output_type": "stream",
     "text": [
      " 72%|███████▏  | 1787/2487 [2:34:58<1:30:34,  7.76s/it]"
     ]
    },
    {
     "name": "stdout",
     "output_type": "stream",
     "text": [
      "\n",
      " GL_TS_MO_46099.nc\n",
      "GL_TS_MO_46099.nc does not have any valid data for this timeperiod\n",
      "POINT(-124.56600189208984 46.986000061035156)\n",
      "87  results found\n"
     ]
    },
    {
     "name": "stderr",
     "output_type": "stream",
     "text": [
      " 72%|███████▏  | 1788/2487 [2:35:08<1:33:45,  8.05s/it]"
     ]
    },
    {
     "name": "stdout",
     "output_type": "stream",
     "text": [
      "\n",
      " GL_TS_MO_45017.nc\n",
      "GL_TS_MO_45017.nc does not have any valid data for this timeperiod\n",
      "\n",
      " IR_TS_MO_Tarifa-coast-buoy.nc\n",
      "POLYGON((-5.593200206756592 36.0,-5.593200206756592 36.005001068115234,-5.587100028991699 36.005001068115234,-5.587100028991699 36.0,-5.593200206756592 36.0))\n",
      "229  results found\n"
     ]
    },
    {
     "name": "stderr",
     "output_type": "stream",
     "text": [
      " 72%|███████▏  | 1792/2487 [2:36:12<1:59:51, 10.35s/it]"
     ]
    },
    {
     "name": "stdout",
     "output_type": "stream",
     "text": [
      "\n",
      " BO_TS_MO_Almagrundet.nc\n",
      "BO_TS_MO_Almagrundet.nc does not have any valid data for this timeperiod\n",
      "BO_TS_MO_Almagrundet.nc does not have any valid data for this timeperiod\n",
      "\n",
      " GL_TS_MO_6801024.nc\n",
      "GL_TS_MO_6801024.nc does not have any of the variables ['VHM0', 'VAVH', 'WSPD']\n",
      "\n",
      " GL_TS_MO_IF000584.nc\n",
      "GL_TS_MO_IF000584.nc does not have any of the variables ['VHM0', 'VAVH', 'WSPD']\n",
      "\n",
      " GL_TS_MO_48021.nc\n",
      "GL_TS_MO_48021.nc does not have any valid data for this timeperiod\n",
      "GL_TS_MO_48021.nc does not have any valid data for this timeperiod\n",
      "\n",
      " AR_TS_MO_Sota-fjordpark-16-34.nc\n",
      "AR_TS_MO_Sota-fjordpark-16-34.nc does not have any of the variables ['VHM0', 'VAVH', 'WSPD']\n",
      "\n",
      " GL_TS_MO_46084.nc\n",
      "GL_TS_MO_46084.nc does not have any valid data for this timeperiod\n",
      "POINT(-136.1020050048828 56.62200164794922)\n",
      "56  results found\n"
     ]
    },
    {
     "name": "stderr",
     "output_type": "stream",
     "text": [
      " 72%|███████▏  | 1796/2487 [2:36:21<1:18:51,  6.85s/it]"
     ]
    },
    {
     "name": "stdout",
     "output_type": "stream",
     "text": [
      "\n",
      " GL_TS_MO_46205.nc\n",
      "GL_TS_MO_46205.nc does not have any valid data for this timeperiod\n",
      "POINT(-134.322998046875 54.185001373291016)\n",
      "87  results found\n"
     ]
    },
    {
     "name": "stderr",
     "output_type": "stream",
     "text": [
      " 72%|███████▏  | 1801/2487 [2:36:28<46:33,  4.07s/it]  "
     ]
    },
    {
     "name": "stdout",
     "output_type": "stream",
     "text": [
      "\n",
      " GL_WS_MO_42012.nc\n",
      "GL_WS_MO_42012.nc does not have any of the variables ['VHM0', 'VAVH', 'WSPD']\n",
      "\n",
      " GL_TS_MO_MEDS134.nc\n",
      "GL_TS_MO_MEDS134.nc does not have any valid data for this timeperiod\n",
      "\n",
      " GL_WS_MO_46077.nc\n",
      "GL_WS_MO_46077.nc does not have any of the variables ['VHM0', 'VAVH', 'WSPD']\n",
      "\n",
      " GL_TS_MO_45013.nc\n",
      "GL_TS_MO_45013.nc does not have any valid data for this timeperiod\n",
      "GL_TS_MO_45013.nc does not have any valid data for this timeperiod\n",
      "\n",
      " GL_TS_MO_46218.nc\n",
      "POINT(-120.77999877929688 34.45199966430664)\n",
      "236  results found\n",
      "\n",
      " GL_TS_MO_2300452.nc\n",
      "POLYGON((68.5979995727539 11.98799991607666,68.5979995727539 12.093000411987305,68.67900085449219 12.093000411987305,68.67900085449219 11.98799991607666,68.5979995727539 11.98799991607666))\n"
     ]
    },
    {
     "name": "stderr",
     "output_type": "stream",
     "text": [
      " 73%|███████▎  | 1804/2487 [2:36:45<49:10,  4.32s/it]"
     ]
    },
    {
     "name": "stdout",
     "output_type": "stream",
     "text": [
      "0  results found\n",
      "\n",
      " GL_TS_MO_45149.nc\n",
      "GL_TS_MO_45149.nc does not have any valid data for this timeperiod\n",
      "GL_TS_MO_45149.nc is too close to land\n",
      "\n",
      " BS_TS_MO_EUXRo03.nc\n",
      "POINT(29.93600082397461 43.97999954223633)\n",
      "236  results found\n"
     ]
    },
    {
     "name": "stderr",
     "output_type": "stream",
     "text": [
      " 73%|███████▎  | 1809/2487 [2:36:55<32:00,  2.83s/it]"
     ]
    },
    {
     "name": "stdout",
     "output_type": "stream",
     "text": [
      "\n",
      " BO_TS_MO_SvenskaBjorn2.nc\n",
      "BO_TS_MO_SvenskaBjorn2.nc does not have any valid data for this timeperiod\n",
      "BO_TS_MO_SvenskaBjorn2.nc does not have any valid data for this timeperiod\n",
      "\n",
      " GL_TS_MO_44251.nc\n",
      "GL_TS_MO_44251.nc does not have any valid data for this timeperiod\n",
      "GL_TS_MO_44251.nc does not have any valid data for this timeperiod\n",
      "\n",
      " AR_TS_MO_Sundssanden-44-109.nc\n",
      "AR_TS_MO_Sundssanden-44-109.nc does not have any of the variables ['VHM0', 'VAVH', 'WSPD']\n",
      "\n",
      " GL_TS_MO_4600181.nc\n",
      "GL_TS_MO_4600181.nc does not have any valid data for this timeperiod\n",
      "\n",
      " GL_WS_MO_ljpc1.nc\n"
     ]
    },
    {
     "name": "stderr",
     "output_type": "stream",
     "text": [
      " 73%|███████▎  | 1812/2487 [2:36:56<20:37,  1.83s/it]"
     ]
    },
    {
     "name": "stdout",
     "output_type": "stream",
     "text": [
      "GL_WS_MO_ljpc1.nc does not have any of the variables ['VHM0', 'VAVH', 'WSPD']\n",
      "\n",
      " GL_TS_MO_42018.nc\n",
      "GL_TS_MO_42018.nc does not have any valid data for this timeperiod\n",
      "GL_TS_MO_42018.nc does not have any valid data for this timeperiod\n",
      "\n",
      " GL_TS_MO_MEDS079.nc\n",
      "GL_TS_MO_MEDS079.nc does not have any valid data for this timeperiod\n",
      "\n",
      " NO_TS_MO_N7S.nc\n",
      "POINT(6.356229782104492 54.26205062866211)\n",
      "237  results found\n",
      "\n",
      " GL_TS_MO_46029.nc\n",
      "GL_TS_MO_46029.nc does not have any valid data for this timeperiod\n",
      "POLYGON((-124.48500061035156 46.16299819946289,-124.48500061035156 46.143001556396484,-124.51399993896484 46.143001556396484,-124.51399993896484 46.16299819946289,-124.48500061035156 46.16299819946289))\n"
     ]
    },
    {
     "name": "stderr",
     "output_type": "stream",
     "text": [
      " 73%|███████▎  | 1812/2487 [2:37:13<20:37,  1.83s/it]"
     ]
    },
    {
     "name": "stdout",
     "output_type": "stream",
     "text": [
      "118  results found\n"
     ]
    },
    {
     "name": "stderr",
     "output_type": "stream",
     "text": [
      " 73%|███████▎  | 1814/2487 [2:40:37<5:30:19, 29.45s/it]"
     ]
    },
    {
     "name": "stdout",
     "output_type": "stream",
     "text": [
      "\n",
      " AR_TS_MO_Volsdalsberga-55-128.nc\n",
      "AR_TS_MO_Volsdalsberga-55-128.nc does not have any of the variables ['VHM0', 'VAVH', 'WSPD']\n",
      "\n",
      " GL_TS_MO_42019.nc\n",
      "GL_TS_MO_42019.nc does not have any valid data for this timeperiod\n",
      "POINT(-95.34500122070312 27.90999984741211)\n",
      "30  results found\n"
     ]
    },
    {
     "name": "stderr",
     "output_type": "stream",
     "text": [
      " 73%|███████▎  | 1816/2487 [2:40:45<4:14:17, 22.74s/it]"
     ]
    },
    {
     "name": "stdout",
     "output_type": "stream",
     "text": [
      "\n",
      " GL_TS_MO_46053.nc\n",
      "GL_TS_MO_46053.nc does not have any valid data for this timeperiod\n",
      "POINT(-119.83899688720703 34.24100112915039)\n",
      "117  results found\n"
     ]
    },
    {
     "name": "stderr",
     "output_type": "stream",
     "text": [
      " 73%|███████▎  | 1818/2487 [2:40:56<3:19:21, 17.88s/it]"
     ]
    },
    {
     "name": "stdout",
     "output_type": "stream",
     "text": [
      "\n",
      " GL_TS_MO_42392.nc\n",
      "GL_TS_MO_42392.nc does not have any valid data for this timeperiod\n",
      "\n",
      " BS_TS_MO_Illichevsk.nc\n",
      "BS_TS_MO_Illichevsk.nc does not have any valid data for this timeperiod\n",
      "\n",
      " GL_TS_MO_T2S180W.nc\n",
      "POINT(180.0 -2.0)\n"
     ]
    },
    {
     "name": "stderr",
     "output_type": "stream",
     "text": [
      " 73%|███████▎  | 1820/2487 [2:41:03<2:34:11, 13.87s/it]"
     ]
    },
    {
     "name": "stdout",
     "output_type": "stream",
     "text": [
      "0  results found\n",
      "\n",
      " GL_TS_MO_23009.nc\n",
      "POLYGON((89.1050033569336 15.071000099182129,89.1050033569336 15.019000053405762,89.0250015258789 15.019000053405762,89.0250015258789 15.071000099182129,89.1050033569336 15.071000099182129))\n"
     ]
    },
    {
     "name": "stderr",
     "output_type": "stream",
     "text": [
      " 73%|███████▎  | 1822/2487 [2:41:08<1:50:29,  9.97s/it]"
     ]
    },
    {
     "name": "stdout",
     "output_type": "stream",
     "text": [
      "0  results found\n",
      "\n",
      " GL_TS_MO_45148.nc\n",
      "GL_TS_MO_45148.nc does not have any valid data for this timeperiod\n",
      "GL_TS_MO_45148.nc is too close to land\n",
      "\n",
      " GL_TS_MO_46145.nc\n",
      "GL_TS_MO_46145.nc does not have any valid data for this timeperiod\n",
      "POINT(-132.4429931640625 54.367000579833984)\n",
      "117  results found\n"
     ]
    },
    {
     "name": "stderr",
     "output_type": "stream",
     "text": [
      " 73%|███████▎  | 1823/2487 [2:41:15<1:44:00,  9.40s/it]"
     ]
    },
    {
     "name": "stdout",
     "output_type": "stream",
     "text": [
      "\n",
      " GL_TS_MO_6801020.nc\n",
      "GL_TS_MO_6801020.nc does not have any of the variables ['VHM0', 'VAVH', 'WSPD']\n",
      "\n",
      " GL_TS_MO_23496.nc\n",
      "GL_TS_MO_23496.nc does not have any valid data for this timeperiod\n",
      "\n",
      " NO_TS_MO_Brouwershavensegat.nc\n",
      "POINT(3.617302894592285 51.7685661315918)\n",
      "176  results found\n"
     ]
    },
    {
     "name": "stderr",
     "output_type": "stream",
     "text": [
      " 73%|███████▎  | 1826/2487 [2:41:24<1:09:55,  6.35s/it]"
     ]
    },
    {
     "name": "stdout",
     "output_type": "stream",
     "text": [
      "\n",
      " MO_TS_MO_PALERMO-61209.nc\n",
      "MO_TS_MO_PALERMO-61209.nc does not have any valid data for this timeperiod\n",
      "\n",
      " GL_TS_MO_MEDS264.nc\n",
      "GL_TS_MO_MEDS264.nc does not have any valid data for this timeperiod\n",
      "\n",
      " GL_TS_MO_44055.nc\n",
      "GL_TS_MO_44055.nc does not have any valid data for this timeperiod\n",
      "\n",
      " NO_TS_MO_6200164.nc\n",
      "POINT(0.800000011920929 57.20000076293945)\n",
      "234  results found\n"
     ]
    },
    {
     "name": "stderr",
     "output_type": "stream",
     "text": [
      " 74%|███████▎  | 1831/2487 [2:41:38<46:40,  4.27s/it]  "
     ]
    },
    {
     "name": "stdout",
     "output_type": "stream",
     "text": [
      "\n",
      " NO_TS_MO_FehmarnBelt.nc\n",
      "NO_TS_MO_FehmarnBelt.nc does not have any valid data for this timeperiod\n",
      "\n",
      " GL_WS_MO_42060.nc\n",
      "GL_WS_MO_42060.nc does not have any of the variables ['VHM0', 'VAVH', 'WSPD']\n",
      "\n",
      " GL_TS_MO_2200108.nc\n",
      "POINT(125.75 36.25)\n",
      "31  results found\n"
     ]
    },
    {
     "name": "stderr",
     "output_type": "stream",
     "text": [
      " 74%|███████▎  | 1833/2487 [2:41:44<42:35,  3.91s/it]"
     ]
    },
    {
     "name": "stdout",
     "output_type": "stream",
     "text": [
      "\n",
      " GL_TS_MO_T0N110W.nc\n",
      "POINT(-110.0 0.0)\n"
     ]
    },
    {
     "name": "stderr",
     "output_type": "stream",
     "text": [
      " 74%|███████▍  | 1837/2487 [2:41:51<26:49,  2.48s/it]"
     ]
    },
    {
     "name": "stdout",
     "output_type": "stream",
     "text": [
      "0  results found\n",
      "\n",
      " GL_TS_MO_MEDS026.nc\n",
      "GL_TS_MO_MEDS026.nc does not have any valid data for this timeperiod\n",
      "\n",
      " GL_TS_MO_42067.nc\n",
      "GL_TS_MO_42067.nc does not have any valid data for this timeperiod\n",
      "GL_TS_MO_42067.nc does not have any valid data for this timeperiod\n",
      "\n",
      " GL_TS_MO_46266.nc\n",
      "GL_TS_MO_46266.nc does not have any valid data for this timeperiod\n",
      "\n",
      " GL_TS_MO_91355.nc\n",
      "GL_TS_MO_91355.nc does not have any valid data for this timeperiod\n",
      "\n",
      " GL_TS_MO_BremerBay01.nc\n"
     ]
    },
    {
     "name": "stderr",
     "output_type": "stream",
     "text": [
      " 74%|███████▍  | 1840/2487 [2:41:51<16:51,  1.56s/it]"
     ]
    },
    {
     "name": "stdout",
     "output_type": "stream",
     "text": [
      "GL_TS_MO_BremerBay01.nc does not have any valid data for this timeperiod\n",
      "\n",
      " IR_TS_MO_Ceuta-coast-buoy.nc\n",
      "IR_TS_MO_Ceuta-coast-buoy.nc is too close to land\n",
      "\n",
      " GL_TS_MO_WEL262.nc\n",
      "GL_TS_MO_WEL262.nc does not have any valid data for this timeperiod\n",
      "\n",
      " GL_TS_MO_MEDS077.nc\n",
      "GL_TS_MO_MEDS077.nc does not have any valid data for this timeperiod\n",
      "\n",
      " GL_TS_MO_42089.nc\n"
     ]
    },
    {
     "name": "stderr",
     "output_type": "stream",
     "text": [
      " 74%|███████▍  | 1848/2487 [2:41:51<06:13,  1.71it/s]"
     ]
    },
    {
     "name": "stdout",
     "output_type": "stream",
     "text": [
      "GL_TS_MO_42089.nc does not have any valid data for this timeperiod\n",
      "\n",
      " GL_TS_MO_46787A.nc\n",
      "GL_TS_MO_46787A.nc does not have any valid data for this timeperiod\n",
      "\n",
      " GL_TS_MO_EXAMP001.nc\n",
      "GL_TS_MO_EXAMP001.nc does not have any of the variables ['VHM0', 'VAVH', 'WSPD']\n",
      "\n",
      " GL_TS_MO_46108.nc\n",
      "GL_TS_MO_46108.nc does not have any valid data for this timeperiod\n",
      "\n",
      " GL_TS_MO_MEDS188.nc\n",
      "GL_TS_MO_MEDS188.nc does not have any valid data for this timeperiod\n",
      "\n",
      " GL_TS_MO_6200442.nc\n",
      "GL_TS_MO_6200442.nc does not have any of the variables ['VHM0', 'VAVH', 'WSPD']\n",
      "\n",
      " GL_TS_MO_6200057.nc\n",
      "GL_TS_MO_6200057.nc is too close to land\n",
      "\n",
      " GL_TS_MO_44078.nc\n",
      "GL_TS_MO_44078.nc does not have any valid data for this timeperiod\n",
      "POINT(-39.52000045776367 59.939998626708984)\n",
      "313  results found\n"
     ]
    },
    {
     "name": "stderr",
     "output_type": "stream",
     "text": [
      " 74%|███████▍  | 1850/2487 [2:42:05<20:02,  1.89s/it]"
     ]
    },
    {
     "name": "stdout",
     "output_type": "stream",
     "text": [
      "\n",
      " GL_TS_MO_23004.nc\n",
      "GL_TS_MO_23004.nc does not have any valid data for this timeperiod\n",
      "\n",
      " GL_TS_MO_MEDS067.nc\n",
      "GL_TS_MO_MEDS067.nc does not have any valid data for this timeperiod\n",
      "\n",
      " MO_TS_MO_OBSEA.nc\n",
      "MO_TS_MO_OBSEA.nc does not have any valid data for this timeperiod\n"
     ]
    },
    {
     "name": "stderr",
     "output_type": "stream",
     "text": [
      " 75%|███████▍  | 1853/2487 [2:42:05<14:06,  1.33s/it]"
     ]
    },
    {
     "name": "stdout",
     "output_type": "stream",
     "text": [
      "MO_TS_MO_OBSEA.nc does not have any valid data for this timeperiod\n",
      "MO_TS_MO_OBSEA.nc does not have any valid data for this timeperiod\n",
      "\n",
      " GL_TS_MO_41033.nc\n",
      "POINT(-80.40599822998047 32.27899932861328)\n"
     ]
    },
    {
     "name": "stderr",
     "output_type": "stream",
     "text": [
      " 75%|███████▍  | 1856/2487 [2:42:13<18:25,  1.75s/it]"
     ]
    },
    {
     "name": "stdout",
     "output_type": "stream",
     "text": [
      "30  results found\n",
      "\n",
      " GL_TS_MO_1301000.nc\n",
      "GL_TS_MO_1301000.nc does not have any of the variables ['VHM0', 'VAVH', 'WSPD']\n",
      "\n",
      " GL_TS_MO_48012.nc\n",
      "GL_TS_MO_48012.nc does not have any valid data for this timeperiod\n",
      "\n",
      " AR_TS_MO_Heistadstranda-7-79.nc\n"
     ]
    },
    {
     "name": "stderr",
     "output_type": "stream",
     "text": [
      " 75%|███████▍  | 1860/2487 [2:42:13<11:38,  1.11s/it]"
     ]
    },
    {
     "name": "stdout",
     "output_type": "stream",
     "text": [
      "AR_TS_MO_Heistadstranda-7-79.nc does not have any of the variables ['VHM0', 'VAVH', 'WSPD']\n",
      "\n",
      " GL_WS_MO_41043.nc\n",
      "GL_WS_MO_41043.nc does not have any of the variables ['VHM0', 'VAVH', 'WSPD']\n",
      "\n",
      " GL_TS_MO_MEDS021.nc\n",
      "GL_TS_MO_MEDS021.nc does not have any valid data for this timeperiod\n",
      "\n",
      " GL_TS_MO_23015.nc\n",
      "GL_TS_MO_23015.nc does not have any valid data for this timeperiod\n",
      "\n",
      " BO_TS_MO_LysekilWR.nc\n",
      "BO_TS_MO_LysekilWR.nc does not have any valid data for this timeperiod\n",
      "\n",
      " GL_TS_MO_31262.nc\n",
      "GL_TS_MO_31262.nc does not have any valid data for this timeperiod\n",
      "\n",
      " GL_TS_MO_MEDS111.nc\n",
      "GL_TS_MO_MEDS111.nc does not have any valid data for this timeperiod\n",
      "\n",
      " GL_TS_MO_41012.nc\n"
     ]
    },
    {
     "name": "stderr",
     "output_type": "stream",
     "text": [
      " 75%|███████▍  | 1864/2487 [2:42:13<07:41,  1.35it/s]"
     ]
    },
    {
     "name": "stdout",
     "output_type": "stream",
     "text": [
      "GL_TS_MO_41012.nc does not have any valid data for this timeperiod\n",
      "GL_TS_MO_41012.nc does not have any valid data for this timeperiod\n",
      "\n",
      " GL_TS_MO_44096.nc\n",
      "GL_TS_MO_44096.nc does not have any valid data for this timeperiod\n",
      "\n",
      " GL_TS_MO_46026.nc\n",
      "GL_TS_MO_46026.nc does not have any valid data for this timeperiod\n",
      "POINT(-122.83899688720703 37.75400161743164)\n"
     ]
    },
    {
     "name": "stderr",
     "output_type": "stream",
     "text": [
      " 75%|███████▍  | 1864/2487 [2:42:23<07:41,  1.35it/s]"
     ]
    },
    {
     "name": "stdout",
     "output_type": "stream",
     "text": [
      "95  results found\n"
     ]
    },
    {
     "name": "stderr",
     "output_type": "stream",
     "text": [
      " 75%|███████▌  | 1866/2487 [2:42:25<18:15,  1.76s/it]"
     ]
    },
    {
     "name": "stdout",
     "output_type": "stream",
     "text": [
      "\n",
      " GL_WS_MO_46060.nc\n",
      "GL_WS_MO_46060.nc does not have any of the variables ['VHM0', 'VAVH', 'WSPD']\n",
      "\n",
      " GL_TS_MO_T0N125W.nc\n",
      "POINT(-125.0 0.0)\n"
     ]
    },
    {
     "name": "stderr",
     "output_type": "stream",
     "text": [
      " 75%|███████▌  | 1868/2487 [2:42:34<24:09,  2.34s/it]"
     ]
    },
    {
     "name": "stdout",
     "output_type": "stream",
     "text": [
      "0  results found\n",
      "\n",
      " GL_TS_MO_MEDS118.nc\n",
      "GL_TS_MO_MEDS118.nc does not have any valid data for this timeperiod\n",
      "\n",
      " GL_TS_MO_13011.nc\n",
      "GL_TS_MO_13011.nc does not have any valid data for this timeperiod\n",
      "\n",
      " AR_TS_MO_Perlaa-9-22.nc\n",
      "AR_TS_MO_Perlaa-9-22.nc does not have any of the variables ['VHM0', 'VAVH', 'WSPD']\n",
      "\n",
      " GL_TS_MO_T8S110W.nc\n",
      "POINT(-110.0 -8.0)\n"
     ]
    },
    {
     "name": "stderr",
     "output_type": "stream",
     "text": [
      " 75%|███████▌  | 1872/2487 [2:42:41<21:43,  2.12s/it]"
     ]
    },
    {
     "name": "stdout",
     "output_type": "stream",
     "text": [
      "0  results found\n",
      "\n",
      " GL_TS_MO_42088.nc\n",
      "GL_TS_MO_42088.nc does not have any valid data for this timeperiod\n",
      "\n",
      " AR_TS_MO_Klovsteinstjoedna-48-113.nc\n",
      "AR_TS_MO_Klovsteinstjoedna-48-113.nc does not have any of the variables ['VHM0', 'VAVH', 'WSPD']\n",
      "\n",
      " GL_TS_MO_T5N155W.nc\n",
      "POINT(-155.0 5.0)\n"
     ]
    },
    {
     "name": "stderr",
     "output_type": "stream",
     "text": [
      " 75%|███████▌  | 1877/2487 [2:42:49<18:16,  1.80s/it]"
     ]
    },
    {
     "name": "stdout",
     "output_type": "stream",
     "text": [
      "0  results found\n",
      "\n",
      " BO_TS_MO_Hanobukten2BS.nc\n",
      "BO_TS_MO_Hanobukten2BS.nc does not have any of the variables ['VHM0', 'VAVH', 'WSPD']\n",
      "\n",
      " GL_TS_MO_46121.nc\n",
      "GL_TS_MO_46121.nc does not have any valid data for this timeperiod\n",
      "\n",
      " GL_WS_MO_dsln7.nc\n",
      "GL_WS_MO_dsln7.nc does not have any of the variables ['VHM0', 'VAVH', 'WSPD']\n",
      "\n",
      " GL_TS_MO_51200.nc\n",
      "GL_TS_MO_51200.nc does not have any valid data for this timeperiod\n",
      "\n",
      " AR_TS_MO_Oppsjoe-63-138.nc\n",
      "AR_TS_MO_Oppsjoe-63-138.nc does not have any of the variables ['VHM0', 'VAVH', 'WSPD']\n",
      "\n",
      " AR_TS_MO_Draugen.nc\n"
     ]
    },
    {
     "name": "stderr",
     "output_type": "stream",
     "text": [
      " 76%|███████▌  | 1884/2487 [2:42:49<08:05,  1.24it/s]"
     ]
    },
    {
     "name": "stdout",
     "output_type": "stream",
     "text": [
      "AR_TS_MO_Draugen.nc does not have any valid data for this timeperiod\n",
      "\n",
      " GL_TS_MO_32301.nc\n",
      "GL_TS_MO_32301.nc does not have any valid data for this timeperiod\n",
      "GL_TS_MO_32301.nc does not have any valid data for this timeperiod\n",
      "\n",
      " MO_TS_MO_CAPOMELE.nc\n",
      "MO_TS_MO_CAPOMELE.nc does not have any valid data for this timeperiod\n",
      "MO_TS_MO_CAPOMELE.nc does not have any valid data for this timeperiod\n",
      "\n",
      " GL_TS_MO_62306.nc\n",
      "GL_TS_MO_62306.nc does not have any of the variables ['VHM0', 'VAVH', 'WSPD']\n",
      "\n",
      " GL_TS_MO_44054.nc\n",
      "GL_TS_MO_44054.nc does not have any valid data for this timeperiod\n",
      "\n",
      " GL_TS_MO_41008.nc\n",
      "GL_TS_MO_41008.nc does not have any valid data for this timeperiod\n",
      "POINT(-80.86599731445312 31.399999618530273)\n",
      "59  results found\n"
     ]
    },
    {
     "name": "stderr",
     "output_type": "stream",
     "text": [
      " 76%|███████▌  | 1889/2487 [2:42:57<09:53,  1.01it/s]"
     ]
    },
    {
     "name": "stdout",
     "output_type": "stream",
     "text": [
      "\n",
      " BO_TS_MO_LasoOst.nc\n",
      "BO_TS_MO_LasoOst.nc does not have any valid data for this timeperiod\n",
      "BO_TS_MO_LasoOst.nc does not have any valid data for this timeperiod\n",
      "\n",
      " GL_TS_MO_4100136.nc\n",
      "GL_TS_MO_4100136.nc does not have any of the variables ['VHM0', 'VAVH', 'WSPD']\n",
      "\n",
      " GL_WS_MO_46023.nc\n",
      "GL_WS_MO_46023.nc does not have any of the variables ['VHM0', 'VAVH', 'WSPD']\n",
      "\n",
      " AR_TS_MO_AmundsenGulf-AT1.nc\n",
      "AR_TS_MO_AmundsenGulf-AT1.nc does not have any of the variables ['VHM0', 'VAVH', 'WSPD']\n",
      "\n",
      " GL_WS_MO_6100022.nc\n",
      "GL_WS_MO_6100022.nc does not have any of the variables ['VHM0', 'VAVH', 'WSPD']\n",
      "\n",
      " GL_TS_MO_1301640.nc\n",
      "GL_TS_MO_1301640.nc does not have any valid data for this timeperiod\n"
     ]
    },
    {
     "name": "stderr",
     "output_type": "stream",
     "text": [
      " 76%|███████▋  | 1898/2487 [2:42:57<03:47,  2.59it/s]"
     ]
    },
    {
     "name": "stdout",
     "output_type": "stream",
     "text": [
      "GL_TS_MO_1301640.nc does not have any valid data for this timeperiod\n",
      "\n",
      " GL_WS_MO_41041.nc\n",
      "GL_WS_MO_41041.nc does not have any of the variables ['VHM0', 'VAVH', 'WSPD']\n",
      "\n",
      " GL_TS_MO_WEL310.nc\n",
      "GL_TS_MO_WEL310.nc does not have any valid data for this timeperiod\n",
      "\n",
      " GL_TS_MO_MEDS208.nc\n",
      "GL_TS_MO_MEDS208.nc does not have any valid data for this timeperiod\n",
      "\n",
      " GL_TS_MO_34002.nc\n",
      "GL_TS_MO_34002.nc does not have any valid data for this timeperiod\n",
      "\n",
      " GL_TS_MO_MEDS152.nc\n",
      "GL_TS_MO_MEDS152.nc does not have any valid data for this timeperiod\n",
      "\n",
      " GL_TS_MO_23502.nc\n",
      "GL_TS_MO_23502.nc does not have any valid data for this timeperiod\n",
      "\n",
      " NO_TS_MO_6201007.nc\n",
      "NO_TS_MO_6201007.nc does not have any valid data for this timeperiod\n",
      "\n",
      " GL_TS_MO_52077.nc\n"
     ]
    },
    {
     "name": "stderr",
     "output_type": "stream",
     "text": [
      " 77%|███████▋  | 1905/2487 [2:42:57<02:03,  4.71it/s]"
     ]
    },
    {
     "name": "stdout",
     "output_type": "stream",
     "text": [
      "GL_TS_MO_52077.nc does not have any valid data for this timeperiod\n",
      "\n",
      " IR_WS_MO_6200082.nc\n",
      "IR_WS_MO_6200082.nc does not have any of the variables ['VHM0', 'VAVH', 'WSPD']\n",
      "\n",
      " GL_TS_MO_55047.nc\n",
      "GL_TS_MO_55047.nc is too close to land\n",
      "\n",
      " GL_TS_MO_MEDS190.nc\n",
      "GL_TS_MO_MEDS190.nc does not have any valid data for this timeperiod\n",
      "\n",
      " GL_WS_MO_6200057.nc\n",
      "GL_WS_MO_6200057.nc does not have any of the variables ['VHM0', 'VAVH', 'WSPD']\n",
      "\n",
      " MO_TS_MO_PARC-BIT.nc\n",
      "MO_TS_MO_PARC-BIT.nc does not have any valid data for this timeperiod\n",
      "\n",
      " GL_TS_MO_MEDS279.nc\n",
      "GL_TS_MO_MEDS279.nc does not have any valid data for this timeperiod\n",
      "\n",
      " GL_TS_MO_5102660.nc\n",
      "GL_TS_MO_5102660.nc does not have any of the variables ['VHM0', 'VAVH', 'WSPD']\n",
      "\n",
      " GL_TS_MO_45183.nc\n",
      "GL_TS_MO_45183.nc does not have any valid data for this timeperiod\n",
      "GL_TS_MO_45183.nc does not have any valid data for this timeperiod\n",
      "\n",
      " BS_TS_MO_WAVEB06.nc\n",
      "POINT(28.343799591064453 43.371700286865234)\n",
      "118  results found\n"
     ]
    },
    {
     "name": "stderr",
     "output_type": "stream",
     "text": [
      " 77%|███████▋  | 1909/2487 [2:43:06<08:16,  1.16it/s]"
     ]
    },
    {
     "name": "stdout",
     "output_type": "stream",
     "text": [
      "\n",
      " NO_TS_MO_L91.nc\n",
      "POINT(4.960700035095215 53.613800048828125)\n",
      "236  results found\n"
     ]
    },
    {
     "name": "stderr",
     "output_type": "stream",
     "text": [
      " 77%|███████▋  | 1911/2487 [2:43:22<20:38,  2.15s/it]"
     ]
    },
    {
     "name": "stdout",
     "output_type": "stream",
     "text": [
      "\n",
      " NO_TS_MO_6201001.nc\n",
      "NO_TS_MO_6201001.nc does not have any valid data for this timeperiod\n",
      "\n",
      " GL_TS_MO_41023.nc\n",
      "GL_TS_MO_41023.nc does not have any valid data for this timeperiod\n",
      "GL_TS_MO_41023.nc does not have any valid data for this timeperiod\n",
      "\n",
      " GL_TS_MO_44014.nc\n",
      "GL_TS_MO_44014.nc does not have any valid data for this timeperiod\n",
      "POINT(-74.84200286865234 36.60900115966797)\n",
      "30  results found\n"
     ]
    },
    {
     "name": "stderr",
     "output_type": "stream",
     "text": [
      " 77%|███████▋  | 1916/2487 [2:43:30<17:03,  1.79s/it]"
     ]
    },
    {
     "name": "stdout",
     "output_type": "stream",
     "text": [
      "\n",
      " AR_TS_MO_Snorre-A.nc\n",
      "AR_TS_MO_Snorre-A.nc does not have any of the variables ['VHM0', 'VAVH', 'WSPD']\n",
      "\n",
      " GL_TS_MO_46051.nc\n",
      "GL_TS_MO_46051.nc does not have any valid data for this timeperiod\n",
      "GL_TS_MO_46051.nc does not have any valid data for this timeperiod\n",
      "\n",
      " GL_TS_MO_4600205.nc\n",
      "GL_TS_MO_4600205.nc does not have any valid data for this timeperiod\n",
      "\n",
      " GL_TS_MO_46007.nc\n",
      "GL_TS_MO_46007.nc does not have any valid data for this timeperiod\n",
      "GL_TS_MO_46007.nc does not have any valid data for this timeperiod\n",
      "\n",
      " GL_WS_MO_42041.nc\n",
      "GL_WS_MO_42041.nc does not have any of the variables ['VHM0', 'VAVH', 'WSPD']\n",
      "\n",
      " GL_TS_MO_MEDS074.nc\n",
      "GL_TS_MO_MEDS074.nc does not have any valid data for this timeperiod\n",
      "\n",
      " IR_TS_MO_Santander-current-meter.nc\n",
      "IR_TS_MO_Santander-current-meter.nc does not have any of the variables ['VHM0', 'VAVH', 'WSPD']\n",
      "\n",
      " GL_WS_MO_46089.nc\n"
     ]
    },
    {
     "name": "stderr",
     "output_type": "stream",
     "text": [
      " 77%|███████▋  | 1921/2487 [2:43:31<09:49,  1.04s/it]"
     ]
    },
    {
     "name": "stdout",
     "output_type": "stream",
     "text": [
      "GL_WS_MO_46089.nc does not have any of the variables ['VHM0', 'VAVH', 'WSPD']\n",
      "\n",
      " GL_WS_MO_46027.nc\n",
      "GL_WS_MO_46027.nc does not have any of the variables ['VHM0', 'VAVH', 'WSPD']\n",
      "\n",
      " GL_TS_MO_6801029.nc\n",
      "GL_TS_MO_6801029.nc does not have any of the variables ['VHM0', 'VAVH', 'WSPD']\n",
      "\n",
      " GL_TS_MO_4600146.nc\n",
      "GL_TS_MO_4600146.nc does not have any valid data for this timeperiod\n",
      "\n",
      " MO_TS_MO_ADN-DWRG3.nc\n",
      "POINT(13.521315574645996 45.68826675415039)\n",
      "176  results found\n"
     ]
    },
    {
     "name": "stderr",
     "output_type": "stream",
     "text": [
      " 77%|███████▋  | 1925/2487 [2:43:43<16:03,  1.71s/it]"
     ]
    },
    {
     "name": "stdout",
     "output_type": "stream",
     "text": [
      "\n",
      " GL_TS_MO_45186.nc\n"
     ]
    },
    {
     "name": "stderr",
     "output_type": "stream",
     "text": [
      " 77%|███████▋  | 1926/2487 [2:43:43<14:37,  1.56s/it]"
     ]
    },
    {
     "name": "stdout",
     "output_type": "stream",
     "text": [
      "GL_TS_MO_45186.nc does not have any valid data for this timeperiod\n",
      "GL_TS_MO_45186.nc does not have any valid data for this timeperiod\n",
      "\n",
      " GL_WS_MO_6100001.nc\n",
      "GL_WS_MO_6100001.nc does not have any of the variables ['VHM0', 'VAVH', 'WSPD']\n",
      "\n",
      " NO_TS_MO_Schouwenbank2.nc\n",
      "POINT(3.306299924850464 51.74470138549805)\n"
     ]
    },
    {
     "name": "stderr",
     "output_type": "stream",
     "text": [
      " 77%|███████▋  | 1926/2487 [2:43:53<14:37,  1.56s/it]"
     ]
    },
    {
     "name": "stdout",
     "output_type": "stream",
     "text": [
      "232  results found\n"
     ]
    },
    {
     "name": "stderr",
     "output_type": "stream",
     "text": [
      " 78%|███████▊  | 1929/2487 [2:44:04<28:21,  3.05s/it]"
     ]
    },
    {
     "name": "stdout",
     "output_type": "stream",
     "text": [
      "\n",
      " GL_TS_MO_45001.nc\n",
      "GL_TS_MO_45001.nc does not have any valid data for this timeperiod\n",
      "GL_TS_MO_45001.nc does not have any valid data for this timeperiod\n",
      "\n",
      " MO_TS_MO_ESTELLENCS.nc\n"
     ]
    },
    {
     "name": "stderr",
     "output_type": "stream",
     "text": [
      "/home/sarssw/miniconda3/envs/master/lib/python3.10/site-packages/xarray/core/indexes.py:205: FutureWarning: Value based partial slicing on non-monotonic DatetimeIndexes with non-existing keys is deprecated and will raise a KeyError in a future Version.\n",
      "  indexer = index.slice_indexer(\n",
      " 78%|███████▊  | 1935/2487 [2:44:04<11:11,  1.22s/it]"
     ]
    },
    {
     "name": "stdout",
     "output_type": "stream",
     "text": [
      "MO_TS_MO_ESTELLENCS.nc : data extraction failed with: \"cannot represent labeled-based slice indexer for coordinate 'TIME' with a slice over integer positions; the index is unsorted or non-unique\"\n",
      "\n",
      " GL_TS_MO_46238.nc\n",
      "GL_TS_MO_46238.nc does not have any valid data for this timeperiod\n",
      "\n",
      " MO_TS_MO_CIVITAVECCHIA-61216.nc\n",
      "MO_TS_MO_CIVITAVECCHIA-61216.nc does not have any valid data for this timeperiod\n",
      "\n",
      " AR_TS_MO_Dragavika-3-4.nc\n",
      "AR_TS_MO_Dragavika-3-4.nc does not have any of the variables ['VHM0', 'VAVH', 'WSPD']\n",
      "\n",
      " GL_WS_MO_42007.nc\n",
      "GL_WS_MO_42007.nc does not have any of the variables ['VHM0', 'VAVH', 'WSPD']\n",
      "\n",
      " GL_TS_MO_45173.nc\n",
      "GL_TS_MO_45173.nc does not have any valid data for this timeperiod\n",
      "GL_TS_MO_45173.nc does not have any valid data for this timeperiod\n",
      "\n",
      " AR_TS_MO_AmundsenGulf-AT2.nc\n",
      "AR_TS_MO_AmundsenGulf-AT2.nc does not have any of the variables ['VHM0', 'VAVH', 'WSPD']\n",
      "\n",
      " NO_TS_MO_Deurlo.nc\n",
      "POINT(3.242086887359619 51.50422668457031)\n",
      "233  results found\n"
     ]
    },
    {
     "name": "stderr",
     "output_type": "stream",
     "text": [
      " 78%|███████▊  | 1938/2487 [2:44:17<20:57,  2.29s/it]"
     ]
    },
    {
     "name": "stdout",
     "output_type": "stream",
     "text": [
      "\n",
      " GL_TS_MO_WEL403.nc\n",
      "GL_TS_MO_WEL403.nc does not have any valid data for this timeperiod\n",
      "\n",
      " GL_WS_MO_46265.nc\n",
      "GL_WS_MO_46265.nc does not have any of the variables ['VHM0', 'VAVH', 'WSPD']\n",
      "\n",
      " AR_TS_MO_Mobrua-24-52.nc\n",
      "AR_TS_MO_Mobrua-24-52.nc does not have any of the variables ['VHM0', 'VAVH', 'WSPD']\n",
      "\n",
      " GL_TS_MO_MEDS136.nc\n",
      "GL_TS_MO_MEDS136.nc does not have any valid data for this timeperiod\n",
      "\n",
      " GL_TS_MO_44065.nc\n",
      "GL_TS_MO_44065.nc does not have any valid data for this timeperiod\n",
      "POINT(-73.7030029296875 40.36899948120117)\n",
      "30  results found\n"
     ]
    },
    {
     "name": "stderr",
     "output_type": "stream",
     "text": [
      " 78%|███████▊  | 1944/2487 [2:44:26<15:58,  1.77s/it]"
     ]
    },
    {
     "name": "stdout",
     "output_type": "stream",
     "text": [
      "\n",
      " GL_TS_MO_42057.nc\n",
      "GL_TS_MO_42057.nc does not have any valid data for this timeperiod\n",
      "GL_TS_MO_42057.nc does not have any valid data for this timeperiod\n",
      "\n",
      " GL_TS_MO_CCE1.nc\n",
      "GL_TS_MO_CCE1.nc does not have any of the variables ['VHM0', 'VAVH', 'WSPD']\n",
      "\n",
      " NO_TS_MO_AlphaVentus.nc\n",
      "NO_TS_MO_AlphaVentus.nc does not have any valid data for this timeperiod\n",
      "\n",
      " NO_TS_MO_Bath.nc\n"
     ]
    },
    {
     "name": "stderr",
     "output_type": "stream",
     "text": [
      " 78%|███████▊  | 1946/2487 [2:44:26<12:22,  1.37s/it]"
     ]
    },
    {
     "name": "stdout",
     "output_type": "stream",
     "text": [
      "NO_TS_MO_Bath.nc is too close to land\n",
      "\n",
      " MO_TS_MO_ATHOS.nc\n",
      "MO_TS_MO_ATHOS.nc does not have any valid data for this timeperiod\n",
      "POINT(24.729400634765625 39.974998474121094)\n",
      "224  results found\n"
     ]
    },
    {
     "name": "stderr",
     "output_type": "stream",
     "text": [
      " 78%|███████▊  | 1950/2487 [2:44:35<14:31,  1.62s/it]"
     ]
    },
    {
     "name": "stdout",
     "output_type": "stream",
     "text": [
      "\n",
      " GL_TS_MO_44044.nc\n",
      "GL_TS_MO_44044.nc does not have any valid data for this timeperiod\n",
      "\n",
      " GL_TS_MO_46223.nc\n",
      "GL_TS_MO_46223.nc does not have any valid data for this timeperiod\n",
      "\n",
      " MO_TS_MO_ADN-MAMBO2.nc\n",
      "MO_TS_MO_ADN-MAMBO2.nc does not have any valid data for this timeperiod\n",
      "\n",
      " BO_TS_MO_Laholmsbukten.nc\n",
      "BO_TS_MO_Laholmsbukten.nc does not have any valid data for this timeperiod\n",
      "\n",
      " GL_TS_MO_42374.nc\n"
     ]
    },
    {
     "name": "stderr",
     "output_type": "stream",
     "text": [
      " 79%|███████▊  | 1954/2487 [2:44:36<08:25,  1.06it/s]"
     ]
    },
    {
     "name": "stdout",
     "output_type": "stream",
     "text": [
      "GL_TS_MO_42374.nc does not have any valid data for this timeperiod\n",
      "GL_TS_MO_42374.nc does not have any valid data for this timeperiod\n",
      "\n",
      " GL_WS_MO_44150.nc\n",
      "GL_WS_MO_44150.nc does not have any of the variables ['VHM0', 'VAVH', 'WSPD']\n",
      "\n",
      " NO_TS_MO_MaeslantkeringZeezijdeZuidMeetpaal.nc\n",
      "NO_TS_MO_MaeslantkeringZeezijdeZuidMeetpaal.nc is too close to land\n",
      "\n",
      " GL_TS_MO_55018.nc\n",
      "POLYGON((153.22999572753906 -30.3700008392334,153.22999572753906 -29.81999969482422,153.5 -29.81999969482422,153.5 -30.3700008392334,153.22999572753906 -30.3700008392334))\n",
      "31  results found\n"
     ]
    },
    {
     "name": "stderr",
     "output_type": "stream",
     "text": [
      " 79%|███████▊  | 1956/2487 [2:44:49<20:20,  2.30s/it]"
     ]
    },
    {
     "name": "stdout",
     "output_type": "stream",
     "text": [
      "\n",
      " NO_TS_MO_Neustadt.nc\n",
      "NO_TS_MO_Neustadt.nc does not have any of the variables ['VHM0', 'VAVH', 'WSPD']\n",
      "\n",
      " IR_TS_MO_Tarragona-coast-buoy.nc\n",
      "POLYGON((1.190000057220459 41.06999969482422,1.190000057220459 41.071998596191406,1.194100022315979 41.071998596191406,1.194100022315979 41.06999969482422,1.190000057220459 41.06999969482422))\n",
      "179  results found\n"
     ]
    },
    {
     "name": "stderr",
     "output_type": "stream",
     "text": [
      " 79%|███████▉  | 1961/2487 [2:47:05<1:43:45, 11.84s/it]"
     ]
    },
    {
     "name": "stdout",
     "output_type": "stream",
     "text": [
      "\n",
      " GL_TS_MO_48211.nc\n",
      "GL_TS_MO_48211.nc does not have any valid data for this timeperiod\n",
      "GL_TS_MO_48211.nc does not have any valid data for this timeperiod\n",
      "\n",
      " GL_WS_MO_46063.nc\n",
      "GL_WS_MO_46063.nc does not have any of the variables ['VHM0', 'VAVH', 'WSPD']\n",
      "\n",
      " GL_TS_MO_55056.nc\n",
      "GL_TS_MO_55056.nc does not have any valid data for this timeperiod\n",
      "\n",
      " GL_TS_MO_Dawesville03.nc\n",
      "GL_TS_MO_Dawesville03.nc does not have any valid data for this timeperiod\n",
      "\n",
      " AR_TS_MO_Myklebust-Sjoebad-26-61.nc\n",
      "AR_TS_MO_Myklebust-Sjoebad-26-61.nc does not have any of the variables ['VHM0', 'VAVH', 'WSPD']\n",
      "\n",
      " GL_TS_MO_MEDS221.nc\n",
      "GL_TS_MO_MEDS221.nc does not have any valid data for this timeperiod\n",
      "\n",
      " BO_TS_MO_HelsinkiBuoy.nc\n",
      "POINT(25.235000610351562 59.96500015258789)\n",
      "335  results found\n"
     ]
    },
    {
     "name": "stderr",
     "output_type": "stream",
     "text": [
      " 79%|███████▉  | 1968/2487 [2:47:18<50:01,  5.78s/it]  "
     ]
    },
    {
     "name": "stdout",
     "output_type": "stream",
     "text": [
      "\n",
      " AR_TS_MO_Aksdalsvatnet-3-5.nc\n",
      "AR_TS_MO_Aksdalsvatnet-3-5.nc does not have any of the variables ['VHM0', 'VAVH', 'WSPD']\n",
      "\n",
      " GL_WS_MO_46253.nc\n",
      "GL_WS_MO_46253.nc does not have any of the variables ['VHM0', 'VAVH', 'WSPD']\n",
      "\n",
      " NO_TS_MO_Malzwin1.nc\n",
      "NO_TS_MO_Malzwin1.nc does not have any valid data for this timeperiod\n",
      "NO_TS_MO_Malzwin1.nc does not have any valid data for this timeperiod\n",
      "\n",
      " BO_TS_MO_GustavDahlen.nc\n",
      "BO_TS_MO_GustavDahlen.nc does not have any valid data for this timeperiod\n",
      "BO_TS_MO_GustavDahlen.nc does not have any valid data for this timeperiod\n",
      "\n",
      " GL_TS_MO_Albany02.nc\n",
      "GL_TS_MO_Albany02.nc does not have any valid data for this timeperiod\n",
      "\n",
      " GL_TS_MO_MEDS153.nc\n",
      "GL_TS_MO_MEDS153.nc does not have any valid data for this timeperiod\n",
      "\n",
      " GL_TS_MO_45027.nc\n"
     ]
    },
    {
     "name": "stderr",
     "output_type": "stream",
     "text": [
      " 79%|███████▉  | 1971/2487 [2:47:18<35:25,  4.12s/it]"
     ]
    },
    {
     "name": "stdout",
     "output_type": "stream",
     "text": [
      "GL_TS_MO_45027.nc does not have any valid data for this timeperiod\n",
      "GL_TS_MO_45027.nc is too close to land\n",
      "\n",
      " GL_TS_MO_EXIN0006.nc\n",
      "GL_TS_MO_EXIN0006.nc is too close to land\n",
      "\n",
      " GL_TS_MO_2200102.nc\n",
      "POINT(125.77999877929688 34.790000915527344)\n",
      "60  results found\n",
      "\n",
      " BS_TS_MO_URSS.nc\n",
      "POINT(39.900001525878906 43.43330001831055)\n"
     ]
    },
    {
     "name": "stderr",
     "output_type": "stream",
     "text": [
      " 79%|███████▉  | 1971/2487 [2:47:33<35:25,  4.12s/it]"
     ]
    },
    {
     "name": "stdout",
     "output_type": "stream",
     "text": [
      "235  results found\n"
     ]
    },
    {
     "name": "stderr",
     "output_type": "stream",
     "text": [
      " 79%|███████▉  | 1974/2487 [2:47:38<41:32,  4.86s/it]"
     ]
    },
    {
     "name": "stdout",
     "output_type": "stream",
     "text": [
      "\n",
      " GL_TS_MO_42055.nc\n",
      "GL_TS_MO_42055.nc does not have any valid data for this timeperiod\n",
      "POINT(-93.94100189208984 22.124000549316406)\n",
      "58  results found\n"
     ]
    },
    {
     "name": "stderr",
     "output_type": "stream",
     "text": [
      " 79%|███████▉  | 1975/2487 [2:47:50<48:19,  5.66s/it]"
     ]
    },
    {
     "name": "stdout",
     "output_type": "stream",
     "text": [
      "\n",
      " GL_TS_MO_MEDS129.nc\n",
      "GL_TS_MO_MEDS129.nc does not have any valid data for this timeperiod\n",
      "\n",
      " GL_TS_MO_MEDS223.nc\n",
      "GL_TS_MO_MEDS223.nc does not have any valid data for this timeperiod\n",
      "\n",
      " GL_WS_MO_51101.nc\n",
      "GL_WS_MO_51101.nc does not have any of the variables ['VHM0', 'VAVH', 'WSPD']\n",
      "\n",
      " AR_TS_MO_AmundsenGulf-WC.nc\n",
      "AR_TS_MO_AmundsenGulf-WC.nc does not have any of the variables ['VHM0', 'VAVH', 'WSPD']\n",
      "\n",
      " GL_TS_MO_41047.nc\n",
      "GL_TS_MO_41047.nc does not have any valid data for this timeperiod\n",
      "POLYGON((-71.49400329589844 27.517000198364258,-71.49400329589844 27.46299934387207,-71.46600341796875 27.46299934387207,-71.46600341796875 27.517000198364258,-71.49400329589844 27.517000198364258))\n"
     ]
    },
    {
     "name": "stderr",
     "output_type": "stream",
     "text": [
      " 80%|███████▉  | 1982/2487 [2:47:56<24:17,  2.89s/it]"
     ]
    },
    {
     "name": "stdout",
     "output_type": "stream",
     "text": [
      "0  results found\n",
      "\n",
      " GL_TS_MO_32302.nc\n",
      "GL_TS_MO_32302.nc does not have any valid data for this timeperiod\n",
      "GL_TS_MO_32302.nc does not have any valid data for this timeperiod\n",
      "\n",
      " GL_TS_MO_28400.nc\n",
      "GL_TS_MO_28400.nc does not have any valid data for this timeperiod\n",
      "\n",
      " BS_TS_MO_15360.nc\n",
      "BS_TS_MO_15360.nc does not have any of the variables ['VHM0', 'VAVH', 'WSPD']\n",
      "\n",
      " GL_TS_MO_62062.nc\n",
      "GL_TS_MO_62062.nc does not have any of the variables ['VHM0', 'VAVH', 'WSPD']\n",
      "\n",
      " GL_TS_MO_MEDS164.nc\n",
      "GL_TS_MO_MEDS164.nc does not have any valid data for this timeperiod\n",
      "\n",
      " NO_TS_MO_6201018.nc\n",
      "NO_TS_MO_6201018.nc does not have any valid data for this timeperiod\n",
      "\n",
      " GL_WS_MO_44088.nc\n",
      "GL_WS_MO_44088.nc does not have any of the variables ['VHM0', 'VAVH', 'WSPD']\n",
      "\n",
      " IR_TS_MO_Malaga-coast-buoy.nc\n",
      "POLYGON((-4.444399833679199 36.657100677490234,-4.444399833679199 36.708499908447266,-4.414999961853027 36.708499908447266,-4.414999961853027 36.657100677490234,-4.444399833679199 36.657100677490234))\n",
      "147  results found\n"
     ]
    },
    {
     "name": "stderr",
     "output_type": "stream",
     "text": [
      " 80%|████████  | 1991/2487 [2:49:53<1:06:30,  8.04s/it]"
     ]
    },
    {
     "name": "stdout",
     "output_type": "stream",
     "text": [
      "\n",
      " AR_TS_MO_Vik-23-87.nc\n",
      "AR_TS_MO_Vik-23-87.nc does not have any of the variables ['VHM0', 'VAVH', 'WSPD']\n",
      "\n",
      " GL_TS_MO_45020.nc\n",
      "GL_TS_MO_45020.nc does not have any valid data for this timeperiod\n",
      "GL_TS_MO_45020.nc does not have any valid data for this timeperiod\n",
      "\n",
      " NO_TS_MO_NieuwpoortWind.nc\n",
      "NO_TS_MO_NieuwpoortWind.nc is too close to land\n",
      "\n",
      " IR_TS_MO_6200091.nc\n",
      "IR_TS_MO_6200091.nc does not have any valid data for this timeperiod\n",
      "POINT(-5.430200099945068 53.48360061645508)\n"
     ]
    },
    {
     "name": "stderr",
     "output_type": "stream",
     "text": [
      " 80%|████████  | 1991/2487 [2:50:04<1:06:30,  8.04s/it]"
     ]
    },
    {
     "name": "stdout",
     "output_type": "stream",
     "text": [
      "237  results found\n"
     ]
    },
    {
     "name": "stderr",
     "output_type": "stream",
     "text": [
      " 80%|████████  | 1992/2487 [2:50:10<1:14:23,  9.02s/it]"
     ]
    },
    {
     "name": "stdout",
     "output_type": "stream",
     "text": [
      "\n",
      " NO_TS_MO_K141.nc\n",
      "POINT(3.633268117904663 53.26670455932617)\n",
      "236  results found\n"
     ]
    },
    {
     "name": "stderr",
     "output_type": "stream",
     "text": [
      " 80%|████████  | 1993/2487 [2:50:28<1:23:47, 10.18s/it]"
     ]
    },
    {
     "name": "stdout",
     "output_type": "stream",
     "text": [
      "\n",
      " GL_WS_MO_46132.nc\n",
      "GL_WS_MO_46132.nc does not have any of the variables ['VHM0', 'VAVH', 'WSPD']\n",
      "\n",
      " GL_TS_MO_6202405.nc\n",
      "POINT(-25.16699981689453 36.920169830322266)\n",
      "184  results found\n"
     ]
    },
    {
     "name": "stderr",
     "output_type": "stream",
     "text": [
      " 80%|████████  | 1995/2487 [2:50:44<1:18:05,  9.52s/it]"
     ]
    },
    {
     "name": "stdout",
     "output_type": "stream",
     "text": [
      "\n",
      " GL_TS_MO_42043.nc\n",
      "POINT(-94.89900207519531 28.98200035095215)\n",
      "118  results found\n"
     ]
    },
    {
     "name": "stderr",
     "output_type": "stream",
     "text": [
      " 80%|████████  | 2001/2487 [2:50:55<36:26,  4.50s/it]  "
     ]
    },
    {
     "name": "stdout",
     "output_type": "stream",
     "text": [
      "\n",
      " NO_TS_MO_6201052.nc\n",
      "NO_TS_MO_6201052.nc does not have any valid data for this timeperiod\n",
      "\n",
      " AR_TS_MO_Nesvik-37-90.nc\n",
      "AR_TS_MO_Nesvik-37-90.nc does not have any of the variables ['VHM0', 'VAVH', 'WSPD']\n",
      "\n",
      " GL_TS_MO_41300.nc\n",
      "GL_TS_MO_41300.nc does not have any valid data for this timeperiod\n",
      "\n",
      " GL_TS_MO_MEDS218.nc\n",
      "GL_TS_MO_MEDS218.nc does not have any valid data for this timeperiod\n",
      "\n",
      " GL_TS_MO_46128.nc\n",
      "GL_TS_MO_46128.nc does not have any valid data for this timeperiod\n",
      "\n",
      " BO_TS_MO_KemionsaariKalvoren.nc\n",
      "BO_TS_MO_KemionsaariKalvoren.nc does not have any of the variables ['VHM0', 'VAVH', 'WSPD']\n",
      "\n",
      " GL_TS_MO_Esperance04.nc\n",
      "GL_TS_MO_Esperance04.nc does not have any valid data for this timeperiod\n"
     ]
    },
    {
     "name": "stderr",
     "output_type": "stream",
     "text": [
      " 81%|████████  | 2005/2487 [2:50:55<22:26,  2.79s/it]"
     ]
    },
    {
     "name": "stdout",
     "output_type": "stream",
     "text": [
      "\n",
      " NO_TS_MO_6201017.nc\n",
      "NO_TS_MO_6201017.nc does not have any valid data for this timeperiod\n",
      "\n",
      " GL_TS_MO_41061.nc\n",
      "GL_TS_MO_41061.nc does not have any valid data for this timeperiod\n",
      "\n",
      " GL_TS_MO_55037.nc\n",
      "POLYGON((153.5800018310547 -28.18000030517578,153.5800018310547 -28.280000686645508,153.9499969482422 -28.280000686645508,153.9499969482422 -28.18000030517578,153.5800018310547 -28.18000030517578))\n",
      "56  results found\n"
     ]
    },
    {
     "name": "stderr",
     "output_type": "stream",
     "text": [
      " 81%|████████  | 2006/2487 [2:51:23<47:02,  5.87s/it]"
     ]
    },
    {
     "name": "stdout",
     "output_type": "stream",
     "text": [
      "\n",
      " BO_TS_MO_VilsandiOuter.nc\n",
      "BO_TS_MO_VilsandiOuter.nc does not have any valid data for this timeperiod\n",
      "\n",
      " GL_TS_MO_LION.nc\n",
      "GL_TS_MO_LION.nc does not have any of the variables ['VHM0', 'VAVH', 'WSPD']\n",
      "\n",
      " GL_TS_MO_46035.nc\n",
      "GL_TS_MO_46035.nc does not have any valid data for this timeperiod\n",
      "POINT(-177.7030029296875 57.01599884033203)\n",
      "44  results found\n"
     ]
    },
    {
     "name": "stderr",
     "output_type": "stream",
     "text": [
      " 81%|████████  | 2009/2487 [2:51:31<37:49,  4.75s/it]"
     ]
    },
    {
     "name": "stdout",
     "output_type": "stream",
     "text": [
      "\n",
      " GL_TS_MO_MEDS183.nc\n",
      "GL_TS_MO_MEDS183.nc does not have any valid data for this timeperiod\n",
      "\n",
      " GL_TS_MO_48212.nc\n",
      "GL_TS_MO_48212.nc does not have any valid data for this timeperiod\n",
      "\n",
      " NO_TS_MO_Q1.nc\n",
      "POINT(4.150599956512451 52.92639923095703)\n",
      "177  results found\n"
     ]
    },
    {
     "name": "stderr",
     "output_type": "stream",
     "text": [
      " 81%|████████  | 2014/2487 [2:51:46<28:45,  3.65s/it]"
     ]
    },
    {
     "name": "stdout",
     "output_type": "stream",
     "text": [
      "\n",
      " NO_TS_MO_Amelander41.nc\n",
      "NO_TS_MO_Amelander41.nc does not have any valid data for this timeperiod\n",
      "NO_TS_MO_Amelander41.nc does not have any valid data for this timeperiod\n",
      "\n",
      " MO_TS_MO_NADR-E1.nc\n",
      "MO_TS_MO_NADR-E1.nc does not have any valid data for this timeperiod\n",
      "\n",
      " GL_TS_MO_MEDS028.nc\n",
      "GL_TS_MO_MEDS028.nc does not have any valid data for this timeperiod\n",
      "\n",
      " GL_TS_MO_44008.nc\n",
      "GL_TS_MO_44008.nc does not have any valid data for this timeperiod\n",
      "POLYGON((-69.2509994506836 40.49800109863281,-69.2509994506836 40.50400161743164,-69.24800109863281 40.50400161743164,-69.24800109863281 40.49800109863281,-69.2509994506836 40.49800109863281))\n",
      "57  results found\n"
     ]
    },
    {
     "name": "stderr",
     "output_type": "stream",
     "text": [
      " 81%|████████  | 2016/2487 [2:53:48<2:22:38, 18.17s/it]"
     ]
    },
    {
     "name": "stdout",
     "output_type": "stream",
     "text": [
      "\n",
      " GL_TS_MO_MOVE4.nc\n",
      "GL_TS_MO_MOVE4.nc does not have any of the variables ['VHM0', 'VAVH', 'WSPD']\n",
      "\n",
      " NO_TS_MO_LTKielWR.nc\n",
      "POINT(10.266667366027832 54.5)\n",
      "231  results found\n"
     ]
    },
    {
     "name": "stderr",
     "output_type": "stream",
     "text": [
      " 81%|████████▏ | 2024/2487 [2:54:07<57:41,  7.48s/it]  "
     ]
    },
    {
     "name": "stdout",
     "output_type": "stream",
     "text": [
      "\n",
      " NO_TS_MO_6201577.nc\n",
      "NO_TS_MO_6201577.nc does not have any of the variables ['VHM0', 'VAVH', 'WSPD']\n",
      "\n",
      " AR_TS_MO_Fastland-32-75.nc\n",
      "AR_TS_MO_Fastland-32-75.nc does not have any of the variables ['VHM0', 'VAVH', 'WSPD']\n",
      "\n",
      " GL_TS_MO_WEL421.nc\n",
      "GL_TS_MO_WEL421.nc does not have any valid data for this timeperiod\n",
      "\n",
      " GL_TS_MO_IF000612.nc\n",
      "GL_TS_MO_IF000612.nc does not have any of the variables ['VHM0', 'VAVH', 'WSPD']\n",
      "\n",
      " GL_TS_MO_WEL415.nc\n",
      "GL_TS_MO_WEL415.nc does not have any valid data for this timeperiod\n",
      "\n",
      " NO_TS_MO_GreifswalderOie.nc\n",
      "NO_TS_MO_GreifswalderOie.nc does not have any of the variables ['VHM0', 'VAVH', 'WSPD']\n",
      "\n",
      " GL_TS_MO_MEDS037.nc\n",
      "GL_TS_MO_MEDS037.nc does not have any valid data for this timeperiod\n",
      "\n",
      " GL_TS_MO_WEL419.nc\n",
      "GL_TS_MO_WEL419.nc does not have any valid data for this timeperiod\n",
      "\n",
      " GL_TS_MO_MEDS168.nc\n"
     ]
    },
    {
     "name": "stderr",
     "output_type": "stream",
     "text": [
      " 82%|████████▏ | 2027/2487 [2:54:08<41:35,  5.43s/it]"
     ]
    },
    {
     "name": "stdout",
     "output_type": "stream",
     "text": [
      "GL_TS_MO_MEDS168.nc does not have any valid data for this timeperiod\n",
      "\n",
      " BS_TS_MO_Tuapse.nc\n",
      "BS_TS_MO_Tuapse.nc does not have any valid data for this timeperiod\n",
      "\n",
      " IR_TS_MO_LasPalmas-coast-buoy.nc\n",
      "POLYGON((-15.397500038146973 28.049999237060547,-15.397500038146973 28.0531005859375,-15.390000343322754 28.0531005859375,-15.390000343322754 28.049999237060547,-15.397500038146973 28.049999237060547))\n",
      "177  results found\n"
     ]
    },
    {
     "name": "stderr",
     "output_type": "stream",
     "text": [
      " 82%|████████▏ | 2029/2487 [2:56:17<2:15:21, 17.73s/it]"
     ]
    },
    {
     "name": "stdout",
     "output_type": "stream",
     "text": [
      "\n",
      " GL_TS_MO_6301001.nc\n",
      "GL_TS_MO_6301001.nc does not have any valid data for this timeperiod\n",
      "\n",
      " GL_TS_MO_EMSO-Azores-SeamonEast.nc\n",
      "GL_TS_MO_EMSO-Azores-SeamonEast.nc does not have any of the variables ['VHM0', 'VAVH', 'WSPD']\n",
      "\n",
      " GL_TS_MO_46267.nc\n",
      "POINT(-123.60700225830078 48.17300033569336)\n",
      "118  results found\n"
     ]
    },
    {
     "name": "stderr",
     "output_type": "stream",
     "text": [
      " 82%|████████▏ | 2032/2487 [2:56:29<1:42:18, 13.49s/it]"
     ]
    },
    {
     "name": "stdout",
     "output_type": "stream",
     "text": [
      "\n",
      " GL_TS_MO_31007.nc\n",
      "POINT(-23.0 0.0)\n"
     ]
    },
    {
     "name": "stderr",
     "output_type": "stream",
     "text": [
      " 82%|████████▏ | 2033/2487 [2:56:38<1:37:56, 12.94s/it]"
     ]
    },
    {
     "name": "stdout",
     "output_type": "stream",
     "text": [
      "0  results found\n",
      "\n",
      " GL_TS_MO_4400150.nc\n",
      "GL_TS_MO_4400150.nc does not have any valid data for this timeperiod\n",
      "\n",
      " IR_TS_MO_1300130.nc\n",
      "IR_TS_MO_1300130.nc does not have any valid data for this timeperiod\n",
      "POLYGON((-15.808699607849121 28.15920066833496,-15.808699607849121 28.20170021057129,-15.409500122070312 28.20170021057129,-15.409500122070312 28.15920066833496,-15.808699607849121 28.15920066833496))\n",
      "177  results found\n"
     ]
    },
    {
     "name": "stderr",
     "output_type": "stream",
     "text": [
      " 82%|████████▏ | 2039/2487 [2:57:50<1:20:45, 10.82s/it]"
     ]
    },
    {
     "name": "stdout",
     "output_type": "stream",
     "text": [
      "\n",
      " GL_TS_MO_23092.nc\n",
      "GL_TS_MO_23092.nc does not have any valid data for this timeperiod\n",
      "\n",
      " GL_TS_MO_23006.nc\n",
      "GL_TS_MO_23006.nc does not have any valid data for this timeperiod\n",
      "\n",
      " GL_TS_MO_MEDS019.nc\n",
      "GL_TS_MO_MEDS019.nc does not have any valid data for this timeperiod\n",
      "\n",
      " NO_TS_MO_WaddenSchiermonnikoog.nc\n",
      "NO_TS_MO_WaddenSchiermonnikoog.nc does not have any valid data for this timeperiod\n",
      "NO_TS_MO_WaddenSchiermonnikoog.nc does not have any valid data for this timeperiod\n",
      "\n",
      " NO_TS_MO_6400046.nc\n",
      "POINT(-4.5 60.70100021362305)\n",
      "238  results found\n",
      "\n",
      " GL_TS_MO_56005.nc\n",
      "LINESTRING(115.41999816894531 -32.099998474121094,115.4000015258789 -32.099998474121094)\n"
     ]
    },
    {
     "name": "stderr",
     "output_type": "stream",
     "text": [
      " 82%|████████▏ | 2039/2487 [2:58:04<1:20:45, 10.82s/it]"
     ]
    },
    {
     "name": "stdout",
     "output_type": "stream",
     "text": [
      "58  results found\n"
     ]
    },
    {
     "name": "stderr",
     "output_type": "stream",
     "text": [
      " 82%|████████▏ | 2047/2487 [2:58:13<40:08,  5.47s/it]  "
     ]
    },
    {
     "name": "stdout",
     "output_type": "stream",
     "text": [
      "\n",
      " GL_WS_MO_46051.nc\n",
      "GL_WS_MO_46051.nc does not have any of the variables ['VHM0', 'VAVH', 'WSPD']\n",
      "\n",
      " GL_WS_MO_46214.nc\n",
      "GL_WS_MO_46214.nc does not have any of the variables ['VHM0', 'VAVH', 'WSPD']\n",
      "\n",
      " GL_WS_MO_46106.nc\n",
      "GL_WS_MO_46106.nc does not have any of the variables ['VHM0', 'VAVH', 'WSPD']\n",
      "\n",
      " AR_TS_MO_Retiro-38-94.nc\n",
      "AR_TS_MO_Retiro-38-94.nc does not have any of the variables ['VHM0', 'VAVH', 'WSPD']\n",
      "\n",
      " GL_TS_MO_WEL449.nc\n",
      "GL_TS_MO_WEL449.nc does not have any valid data for this timeperiod\n",
      "\n",
      " GL_TS_MO_MEDS329.nc\n",
      "GL_TS_MO_MEDS329.nc does not have any valid data for this timeperiod\n",
      "\n",
      " NO_TS_MO_ArkonaCU.nc\n",
      "NO_TS_MO_ArkonaCU.nc does not have any of the variables ['VHM0', 'VAVH', 'WSPD']\n",
      "\n",
      " GL_TS_MO_WEL430.nc\n",
      "GL_TS_MO_WEL430.nc does not have any valid data for this timeperiod\n",
      "\n",
      " GL_TS_MO_MEDS016.nc\n"
     ]
    },
    {
     "name": "stderr",
     "output_type": "stream",
     "text": [
      " 83%|████████▎ | 2055/2487 [2:58:13<18:19,  2.55s/it]"
     ]
    },
    {
     "name": "stdout",
     "output_type": "stream",
     "text": [
      "GL_TS_MO_MEDS016.nc does not have any valid data for this timeperiod\n",
      "\n",
      " GL_WS_MO_41113.nc\n",
      "GL_WS_MO_41113.nc does not have any of the variables ['VHM0', 'VAVH', 'WSPD']\n",
      "\n",
      " GL_TS_MO_23097.nc\n",
      "GL_TS_MO_23097.nc does not have any valid data for this timeperiod\n",
      "\n",
      " NO_TS_MO_6201024.nc\n",
      "NO_TS_MO_6201024.nc does not have any valid data for this timeperiod\n",
      "\n",
      " GL_WS_MO_51002.nc\n",
      "GL_WS_MO_51002.nc does not have any of the variables ['VHM0', 'VAVH', 'WSPD']\n",
      "\n",
      " BO_TS_MO_Landsort.nc\n",
      "BO_TS_MO_Landsort.nc does not have any valid data for this timeperiod\n",
      "\n",
      " NO_TS_MO_BuoyHoernumTief1.nc\n",
      "NO_TS_MO_BuoyHoernumTief1.nc does not have any valid data for this timeperiod\n",
      "\n",
      " GL_TS_MO_46050.nc\n",
      "GL_TS_MO_46050.nc does not have any valid data for this timeperiod\n",
      "POINT(-124.5459976196289 44.66899871826172)\n"
     ]
    },
    {
     "name": "stderr",
     "output_type": "stream",
     "text": [
      " 83%|████████▎ | 2055/2487 [2:58:24<18:19,  2.55s/it]"
     ]
    },
    {
     "name": "stdout",
     "output_type": "stream",
     "text": [
      "124  results found\n"
     ]
    },
    {
     "name": "stderr",
     "output_type": "stream",
     "text": [
      " 83%|████████▎ | 2057/2487 [2:58:36<29:42,  4.15s/it]"
     ]
    },
    {
     "name": "stdout",
     "output_type": "stream",
     "text": [
      "\n",
      " BO_TS_MO_OlandOst.nc\n",
      "BO_TS_MO_OlandOst.nc does not have any valid data for this timeperiod\n",
      "\n",
      " GL_TS_MO_MEDS025.nc\n",
      "GL_TS_MO_MEDS025.nc does not have any valid data for this timeperiod\n",
      "\n",
      " GL_TS_MO_44058.nc\n",
      "GL_TS_MO_44058.nc does not have any valid data for this timeperiod\n",
      "POINT(-76.25700378417969 37.56700134277344)\n",
      "57  results found\n"
     ]
    },
    {
     "name": "stderr",
     "output_type": "stream",
     "text": [
      " 83%|████████▎ | 2060/2487 [2:58:44<26:54,  3.78s/it]"
     ]
    },
    {
     "name": "stdout",
     "output_type": "stream",
     "text": [
      "\n",
      " BO_TS_MO_Falsterborev.nc\n",
      "BO_TS_MO_Falsterborev.nc does not have any valid data for this timeperiod\n",
      "\n",
      " GL_TS_MO_31001.nc\n",
      "GL_TS_MO_31001.nc does not have any valid data for this timeperiod\n",
      "\n",
      " GL_TS_MO_T8N155W.nc\n",
      "POINT(-155.0 8.0)\n"
     ]
    },
    {
     "name": "stderr",
     "output_type": "stream",
     "text": [
      " 83%|████████▎ | 2063/2487 [2:58:53<24:47,  3.51s/it]"
     ]
    },
    {
     "name": "stdout",
     "output_type": "stream",
     "text": [
      "0  results found\n",
      "\n",
      " GL_TS_MO_46241.nc\n",
      "GL_TS_MO_46241.nc does not have any valid data for this timeperiod\n",
      "\n",
      " NO_TS_MO_KeetenBoei.nc\n",
      "POINT(3.9660000801086426 51.608001708984375)\n",
      "236  results found\n"
     ]
    },
    {
     "name": "stderr",
     "output_type": "stream",
     "text": [
      " 83%|████████▎ | 2068/2487 [2:59:10<21:50,  3.13s/it]"
     ]
    },
    {
     "name": "stdout",
     "output_type": "stream",
     "text": [
      "\n",
      " GL_TS_MO_41037.nc\n",
      "GL_TS_MO_41037.nc does not have any valid data for this timeperiod\n",
      "\n",
      " GL_TS_MO_23456.nc\n",
      "GL_TS_MO_23456.nc does not have any valid data for this timeperiod\n",
      "\n",
      " GL_TS_MO_4600185.nc\n",
      "GL_TS_MO_4600185.nc does not have any valid data for this timeperiod\n",
      "\n",
      " GL_WS_MO_46050.nc\n",
      "GL_WS_MO_46050.nc does not have any of the variables ['VHM0', 'VAVH', 'WSPD']\n",
      "\n",
      " GL_TS_MO_45168.nc\n"
     ]
    },
    {
     "name": "stderr",
     "output_type": "stream",
     "text": [
      " 83%|████████▎ | 2074/2487 [2:59:10<10:08,  1.47s/it]"
     ]
    },
    {
     "name": "stdout",
     "output_type": "stream",
     "text": [
      "GL_TS_MO_45168.nc does not have any valid data for this timeperiod\n",
      "GL_TS_MO_45168.nc is too close to land\n",
      "\n",
      " NO_TS_MO_Kuehlungsborn.nc\n",
      "NO_TS_MO_Kuehlungsborn.nc does not have any of the variables ['VHM0', 'VAVH', 'WSPD']\n",
      "\n",
      " GL_WS_MO_45012.nc\n",
      "GL_WS_MO_45012.nc does not have any of the variables ['VHM0', 'VAVH', 'WSPD']\n",
      "\n",
      " GL_WS_MO_6200078.nc\n",
      "GL_WS_MO_6200078.nc does not have any of the variables ['VHM0', 'VAVH', 'WSPD']\n",
      "\n",
      " GL_TS_MO_46040.nc\n",
      "GL_TS_MO_46040.nc does not have any valid data for this timeperiod\n",
      "GL_TS_MO_46040.nc does not have any valid data for this timeperiod\n",
      "\n",
      " GL_WS_MO_46224.nc\n",
      "GL_WS_MO_46224.nc does not have any of the variables ['VHM0', 'VAVH', 'WSPD']\n"
     ]
    },
    {
     "name": "stderr",
     "output_type": "stream",
     "text": [
      " 84%|████████▎ | 2079/2487 [2:59:10<05:54,  1.15it/s]"
     ]
    },
    {
     "name": "stdout",
     "output_type": "stream",
     "text": [
      "\n",
      " BO_TS_MO_W26TS.nc\n",
      "BO_TS_MO_W26TS.nc does not have any of the variables ['VHM0', 'VAVH', 'WSPD']\n",
      "\n",
      " GL_TS_MO_MEDS102.nc\n",
      "GL_TS_MO_MEDS102.nc does not have any valid data for this timeperiod\n",
      "\n",
      " BO_TS_MO_L9BS.nc\n",
      "BO_TS_MO_L9BS.nc does not have any of the variables ['VHM0', 'VAVH', 'WSPD']\n",
      "\n",
      " GL_TS_MO_32488.nc\n",
      "GL_TS_MO_32488.nc does not have any valid data for this timeperiod\n",
      "\n",
      " NO_TS_MO_6200146.nc\n",
      "POINT(2.0999999046325684 57.20000076293945)\n",
      "292  results found\n"
     ]
    },
    {
     "name": "stderr",
     "output_type": "stream",
     "text": [
      " 84%|████████▎ | 2080/2487 [2:59:26<16:41,  2.46s/it]"
     ]
    },
    {
     "name": "stdout",
     "output_type": "stream",
     "text": [
      "\n",
      " GL_WS_MO_46184.nc\n",
      "GL_WS_MO_46184.nc does not have any of the variables ['VHM0', 'VAVH', 'WSPD']\n",
      "\n",
      " GL_TS_MO_44076.nc\n",
      "GL_TS_MO_44076.nc does not have any valid data for this timeperiod\n",
      "POINT(-70.7750015258789 40.137001037597656)\n",
      "82  results found\n"
     ]
    },
    {
     "name": "stderr",
     "output_type": "stream",
     "text": [
      " 84%|████████▎ | 2082/2487 [2:59:35<19:51,  2.94s/it]"
     ]
    },
    {
     "name": "stdout",
     "output_type": "stream",
     "text": [
      "\n",
      " GL_TS_MO_13008.nc\n",
      "POINT(-38.0 15.0)\n",
      "1  results found\n",
      "\n",
      " GL_TS_MO_MEDS015.nc\n",
      "GL_TS_MO_MEDS015.nc does not have any valid data for this timeperiod\n",
      "\n",
      " GL_TS_MO_T5N170W.nc\n",
      "POINT(-170.0 5.0)\n"
     ]
    },
    {
     "name": "stderr",
     "output_type": "stream",
     "text": [
      " 84%|████████▍ | 2086/2487 [2:59:46<18:29,  2.77s/it]"
     ]
    },
    {
     "name": "stdout",
     "output_type": "stream",
     "text": [
      "0  results found\n",
      "\n",
      " GL_TS_MO_45151.nc\n",
      "GL_TS_MO_45151.nc does not have any valid data for this timeperiod\n",
      "GL_TS_MO_45151.nc is too close to land\n",
      "\n",
      " GL_TS_MO_6801035.nc\n",
      "GL_TS_MO_6801035.nc does not have any of the variables ['VHM0', 'VAVH', 'WSPD']\n",
      "\n",
      " AR_TS_MO_Kringstadbukta-38-96.nc\n",
      "AR_TS_MO_Kringstadbukta-38-96.nc does not have any of the variables ['VHM0', 'VAVH', 'WSPD']\n",
      "\n",
      " GL_TS_MO_WEL448.nc\n"
     ]
    },
    {
     "name": "stderr",
     "output_type": "stream",
     "text": [
      " 84%|████████▍ | 2091/2487 [2:59:46<09:18,  1.41s/it]"
     ]
    },
    {
     "name": "stdout",
     "output_type": "stream",
     "text": [
      "GL_TS_MO_WEL448.nc does not have any valid data for this timeperiod\n",
      "\n",
      " GL_TS_MO_5100838.nc\n",
      "GL_TS_MO_5100838.nc does not have any of the variables ['VHM0', 'VAVH', 'WSPD']\n",
      "\n",
      " GL_TS_MO_IF000611.nc\n",
      "GL_TS_MO_IF000611.nc does not have any of the variables ['VHM0', 'VAVH', 'WSPD']\n",
      "\n",
      " GL_TS_MO_41110.nc\n",
      "POINT(-77.71499633789062 34.141998291015625)\n",
      "57  results found\n"
     ]
    },
    {
     "name": "stderr",
     "output_type": "stream",
     "text": [
      " 84%|████████▍ | 2097/2487 [2:59:55<08:32,  1.31s/it]"
     ]
    },
    {
     "name": "stdout",
     "output_type": "stream",
     "text": [
      "\n",
      " GL_TS_MO_WEL437.nc\n",
      "GL_TS_MO_WEL437.nc does not have any valid data for this timeperiod\n",
      "\n",
      " BO_TS_MO_Hanobukten3BS.nc\n",
      "BO_TS_MO_Hanobukten3BS.nc does not have any of the variables ['VHM0', 'VAVH', 'WSPD']\n",
      "\n",
      " GL_WS_MO_46005.nc\n",
      "GL_WS_MO_46005.nc does not have any of the variables ['VHM0', 'VAVH', 'WSPD']\n",
      "\n",
      " GL_TS_MO_EXIN0004.nc\n",
      "GL_TS_MO_EXIN0004.nc does not have any of the variables ['VHM0', 'VAVH', 'WSPD']\n",
      "\n",
      " GL_TS_MO_WEL240.nc\n",
      "GL_TS_MO_WEL240.nc does not have any valid data for this timeperiod\n",
      "\n",
      " GL_TS_MO_5401567.nc\n",
      "GL_TS_MO_5401567.nc does not have any of the variables ['VHM0', 'VAVH', 'WSPD']\n",
      "\n",
      " BO_TS_MO_Oskarsgrundet2.nc\n"
     ]
    },
    {
     "name": "stderr",
     "output_type": "stream",
     "text": [
      " 85%|████████▍ | 2104/2487 [2:59:55<03:51,  1.65it/s]"
     ]
    },
    {
     "name": "stdout",
     "output_type": "stream",
     "text": [
      "BO_TS_MO_Oskarsgrundet2.nc does not have any valid data for this timeperiod\n",
      "BO_TS_MO_Oskarsgrundet2.nc does not have any valid data for this timeperiod\n",
      "\n",
      " NO_TS_MO_6201059.nc\n",
      "NO_TS_MO_6201059.nc does not have any valid data for this timeperiod\n",
      "\n",
      " GL_TS_MO_15007.nc\n",
      "GL_TS_MO_15007.nc does not have any valid data for this timeperiod\n",
      "\n",
      " GL_TS_MO_55078.nc\n",
      "GL_TS_MO_55078.nc does not have any of the variables ['VHM0', 'VAVH', 'WSPD']\n",
      "\n",
      " BS_TS_MO_15655.nc\n",
      "BS_TS_MO_15655.nc does not have any of the variables ['VHM0', 'VAVH', 'WSPD']\n",
      "\n",
      " GL_WS_MO_4100099.nc\n",
      "GL_WS_MO_4100099.nc does not have any of the variables ['VHM0', 'VAVH', 'WSPD']\n",
      "\n",
      " GL_TS_MO_CoralBay.nc\n",
      "GL_TS_MO_CoralBay.nc does not have any valid data for this timeperiod\n",
      "\n",
      " NO_TS_MO_6300113.nc\n"
     ]
    },
    {
     "name": "stderr",
     "output_type": "stream",
     "text": [
      " 85%|████████▍ | 2107/2487 [2:59:55<02:49,  2.24it/s]"
     ]
    },
    {
     "name": "stdout",
     "output_type": "stream",
     "text": [
      "NO_TS_MO_6300113.nc does not have any valid data for this timeperiod\n",
      "NO_TS_MO_6300113.nc does not have any valid data for this timeperiod\n",
      "\n",
      " GL_WS_MO_45005.nc\n",
      "GL_WS_MO_45005.nc does not have any of the variables ['VHM0', 'VAVH', 'WSPD']\n",
      "\n",
      " GL_WS_MO_46251.nc\n",
      "GL_WS_MO_46251.nc does not have any of the variables ['VHM0', 'VAVH', 'WSPD']\n",
      "\n",
      " IR_TS_MO_AMETSBerthAWaveBuoy.nc\n",
      "POINT(-10.297369956970215 54.275299072265625)\n",
      "226  results found\n"
     ]
    },
    {
     "name": "stderr",
     "output_type": "stream",
     "text": [
      " 85%|████████▍ | 2110/2487 [3:00:11<11:14,  1.79s/it]"
     ]
    },
    {
     "name": "stdout",
     "output_type": "stream",
     "text": [
      "\n",
      " AR_TS_MO_Aaletjern-51-122.nc\n",
      "AR_TS_MO_Aaletjern-51-122.nc does not have any of the variables ['VHM0', 'VAVH', 'WSPD']\n",
      "\n",
      " GL_WS_MO_44066.nc\n",
      "GL_WS_MO_44066.nc does not have any of the variables ['VHM0', 'VAVH', 'WSPD']\n",
      "\n",
      " NO_TS_MO_A122.nc\n",
      "POINT(3.816999912261963 55.417999267578125)\n",
      "223  results found\n"
     ]
    },
    {
     "name": "stderr",
     "output_type": "stream",
     "text": [
      " 85%|████████▌ | 2115/2487 [3:00:27<13:31,  2.18s/it]"
     ]
    },
    {
     "name": "stdout",
     "output_type": "stream",
     "text": [
      "\n",
      " MO_TS_MO_W1M3A.nc\n",
      "MO_TS_MO_W1M3A.nc does not have any valid data for this timeperiod\n",
      "\n",
      " GL_TS_MO_MEDS107.nc\n",
      "GL_TS_MO_MEDS107.nc does not have any valid data for this timeperiod\n",
      "\n",
      " GL_TS_MO_44019.nc\n",
      "GL_TS_MO_44019.nc does not have any valid data for this timeperiod\n",
      "GL_TS_MO_44019.nc does not have any valid data for this timeperiod\n",
      "\n",
      " GL_TS_MO_6200251.nc\n",
      "GL_TS_MO_6200251.nc does not have any of the variables ['VHM0', 'VAVH', 'WSPD']\n",
      "\n",
      " GL_TS_MO_WEL413.nc\n",
      "GL_TS_MO_WEL413.nc does not have any valid data for this timeperiod\n",
      "\n",
      " GL_WS_MO_46256.nc\n",
      "GL_WS_MO_46256.nc does not have any of the variables ['VHM0', 'VAVH', 'WSPD']\n",
      "\n",
      " NO_TS_MO_OostendPoortens.nc\n",
      "POINT(2.86299991607666 51.28900146484375)\n",
      "234  results found\n"
     ]
    },
    {
     "name": "stderr",
     "output_type": "stream",
     "text": [
      " 85%|████████▌ | 2119/2487 [3:00:40<15:25,  2.52s/it]"
     ]
    },
    {
     "name": "stdout",
     "output_type": "stream",
     "text": [
      "\n",
      " GL_TS_MO_4100300.nc\n",
      "POLYGON((-57.439998626708984 15.880000114440918,-57.439998626708984 15.819999694824219,-57.4900016784668 15.819999694824219,-57.4900016784668 15.880000114440918,-57.439998626708984 15.880000114440918))\n",
      "62  results found\n"
     ]
    },
    {
     "name": "stderr",
     "output_type": "stream",
     "text": [
      " 85%|████████▌ | 2120/2487 [3:01:01<29:06,  4.76s/it]"
     ]
    },
    {
     "name": "stdout",
     "output_type": "stream",
     "text": [
      "\n",
      " GL_TS_MO_41133.nc\n",
      "GL_TS_MO_41133.nc does not have any valid data for this timeperiod\n",
      "GL_TS_MO_41133.nc does not have any valid data for this timeperiod\n",
      "\n",
      " GL_TS_MO_44020.nc\n",
      "GL_TS_MO_44020.nc does not have any valid data for this timeperiod\n",
      "POINT(-70.27899932861328 41.49300003051758)\n",
      "110  results found\n"
     ]
    },
    {
     "name": "stderr",
     "output_type": "stream",
     "text": [
      " 85%|████████▌ | 2122/2487 [3:01:12<29:35,  4.86s/it]"
     ]
    },
    {
     "name": "stdout",
     "output_type": "stream",
     "text": [
      "\n",
      " GL_TS_MO_41108.nc\n",
      "POINT(-78.01599884033203 33.72200012207031)\n",
      "30  results found\n"
     ]
    },
    {
     "name": "stderr",
     "output_type": "stream",
     "text": [
      " 85%|████████▌ | 2123/2487 [3:01:21<33:21,  5.50s/it]"
     ]
    },
    {
     "name": "stdout",
     "output_type": "stream",
     "text": [
      "\n",
      " GL_TS_MO_MEDS150.nc\n",
      "GL_TS_MO_MEDS150.nc does not have any valid data for this timeperiod\n",
      "\n",
      " GL_TS_MO_42363.nc\n",
      "GL_TS_MO_42363.nc does not have any valid data for this timeperiod\n",
      "\n",
      " GL_TS_MO_42002.nc\n",
      "GL_TS_MO_42002.nc does not have any valid data for this timeperiod\n",
      "POINT(-93.64600372314453 26.05500030517578)\n",
      "29  results found\n"
     ]
    },
    {
     "name": "stderr",
     "output_type": "stream",
     "text": [
      " 86%|████████▌ | 2129/2487 [3:01:29<17:06,  2.87s/it]"
     ]
    },
    {
     "name": "stdout",
     "output_type": "stream",
     "text": [
      "\n",
      " NO_TS_MO_6200041.nc\n",
      "NO_TS_MO_6200041.nc does not have any valid data for this timeperiod\n",
      "\n",
      " GL_TS_MO_C6W08.nc\n",
      "GL_TS_MO_C6W08.nc does not have any valid data for this timeperiod\n",
      "\n",
      " GL_TS_MO_42079.nc\n",
      "GL_TS_MO_42079.nc does not have any valid data for this timeperiod\n",
      "\n",
      " GL_TS_MO_41076.nc\n",
      "GL_TS_MO_41076.nc does not have any valid data for this timeperiod\n",
      "\n",
      " GL_TS_MO_42099.nc\n",
      "LINESTRING(-84.2750015258789 27.349000930786133,-84.2750015258789 27.344999313354492)\n",
      "28  results found\n"
     ]
    },
    {
     "name": "stderr",
     "output_type": "stream",
     "text": [
      " 86%|████████▌ | 2131/2487 [3:01:54<31:20,  5.28s/it]"
     ]
    },
    {
     "name": "stdout",
     "output_type": "stream",
     "text": [
      "\n",
      " GL_WS_MO_6100188.nc\n",
      "GL_WS_MO_6100188.nc does not have any of the variables ['VHM0', 'VAVH', 'WSPD']\n",
      "\n",
      " GL_TS_MO_Exmouth.nc\n",
      "GL_TS_MO_Exmouth.nc does not have any valid data for this timeperiod\n",
      "\n",
      " GL_TS_MO_MEDS299.nc\n",
      "GL_TS_MO_MEDS299.nc does not have any valid data for this timeperiod\n",
      "\n",
      " GL_TS_MO_41040.nc\n",
      "GL_TS_MO_41040.nc does not have any valid data for this timeperiod\n",
      "POLYGON((-53.340999603271484 14.541999816894531,-53.340999603271484 14.553999900817871,-53.04499816894531 14.553999900817871,-53.04499816894531 14.541999816894531,-53.340999603271484 14.541999816894531))\n"
     ]
    },
    {
     "name": "stderr",
     "output_type": "stream",
     "text": [
      " 86%|████████▌ | 2135/2487 [3:02:00<21:55,  3.74s/it]"
     ]
    },
    {
     "name": "stdout",
     "output_type": "stream",
     "text": [
      "0  results found\n",
      "\n",
      " GL_TS_MO_23167.nc\n",
      "GL_TS_MO_23167.nc does not have any valid data for this timeperiod\n",
      "\n",
      " AR_TS_MO_Surtseyjardufl.nc\n",
      "POINT(-20.344999313354492 63.285667419433594)\n",
      "343  results found\n"
     ]
    },
    {
     "name": "stderr",
     "output_type": "stream",
     "text": [
      " 86%|████████▌ | 2137/2487 [3:02:16<27:32,  4.72s/it]"
     ]
    },
    {
     "name": "stdout",
     "output_type": "stream",
     "text": [
      "\n",
      " GL_TS_MO_WEL233.nc\n",
      "GL_TS_MO_WEL233.nc does not have any valid data for this timeperiod\n",
      "\n",
      " GL_TS_MO_2200191.nc\n",
      "POINT(124.05999755859375 36.130001068115234)\n",
      "29  results found\n"
     ]
    },
    {
     "name": "stderr",
     "output_type": "stream",
     "text": [
      " 86%|████████▌ | 2140/2487 [3:02:23<21:35,  3.73s/it]"
     ]
    },
    {
     "name": "stdout",
     "output_type": "stream",
     "text": [
      "\n",
      " GL_TS_MO_46217.nc\n",
      "GL_TS_MO_46217.nc does not have any valid data for this timeperiod\n",
      "\n",
      " GL_WS_MO_51213.nc\n",
      "GL_WS_MO_51213.nc does not have any of the variables ['VHM0', 'VAVH', 'WSPD']\n",
      "\n",
      " GL_TS_MO_MEDS058.nc\n",
      "GL_TS_MO_MEDS058.nc does not have any valid data for this timeperiod\n",
      "\n",
      " GL_TS_MO_13001.nc\n",
      "POINT(-23.0 12.0)\n"
     ]
    },
    {
     "name": "stderr",
     "output_type": "stream",
     "text": [
      " 86%|████████▋ | 2146/2487 [3:02:28<10:43,  1.89s/it]"
     ]
    },
    {
     "name": "stdout",
     "output_type": "stream",
     "text": [
      "0  results found\n",
      "\n",
      " AR_TS_MO_BSO3B.nc\n",
      "AR_TS_MO_BSO3B.nc does not have any of the variables ['VHM0', 'VAVH', 'WSPD']\n",
      "\n",
      " GL_TS_MO_MEDS060.nc\n",
      "GL_TS_MO_MEDS060.nc does not have any valid data for this timeperiod\n",
      "\n",
      " GL_TS_MO_44069.nc\n",
      "GL_TS_MO_44069.nc does not have any valid data for this timeperiod\n",
      "\n",
      " GL_TS_MO_46230.nc\n",
      "GL_TS_MO_46230.nc does not have any valid data for this timeperiod\n",
      "\n",
      " GL_TS_MO_42001.nc\n",
      "GL_TS_MO_42001.nc does not have any valid data for this timeperiod\n",
      "POLYGON((-89.65699768066406 25.89699935913086,-89.65699768066406 25.941999435424805,-89.66799926757812 25.941999435424805,-89.66799926757812 25.89699935913086,-89.65699768066406 25.89699935913086))\n",
      "30  results found\n"
     ]
    },
    {
     "name": "stderr",
     "output_type": "stream",
     "text": [
      " 86%|████████▋ | 2148/2487 [3:02:54<26:10,  4.63s/it]"
     ]
    },
    {
     "name": "stdout",
     "output_type": "stream",
     "text": [
      "\n",
      " GL_WS_MO_45149.nc\n",
      "GL_WS_MO_45149.nc does not have any of the variables ['VHM0', 'VAVH', 'WSPD']\n",
      "\n",
      " BS_TS_MO_99007.nc\n",
      "BS_TS_MO_99007.nc does not have any of the variables ['VHM0', 'VAVH', 'WSPD']\n",
      "\n",
      " GL_TS_MO_44027.nc\n",
      "GL_TS_MO_44027.nc does not have any valid data for this timeperiod\n",
      "POLYGON((-67.31400299072266 44.27299880981445,-67.31400299072266 44.28300094604492,-67.30000305175781 44.28300094604492,-67.30000305175781 44.27299880981445,-67.31400299072266 44.27299880981445))\n",
      "153  results found\n"
     ]
    },
    {
     "name": "stderr",
     "output_type": "stream",
     "text": [
      " 86%|████████▋ | 2151/2487 [3:03:49<53:33,  9.56s/it]"
     ]
    },
    {
     "name": "stdout",
     "output_type": "stream",
     "text": [
      "\n",
      " NO_TS_MO_TWEms.nc\n",
      "POINT(6.349999904632568 54.16666793823242)\n",
      "237  results found\n"
     ]
    },
    {
     "name": "stderr",
     "output_type": "stream",
     "text": [
      " 87%|████████▋ | 2152/2487 [3:04:04<57:03, 10.22s/it]"
     ]
    },
    {
     "name": "stdout",
     "output_type": "stream",
     "text": [
      "\n",
      " GL_WS_MO_46237.nc\n",
      "GL_WS_MO_46237.nc does not have any of the variables ['VHM0', 'VAVH', 'WSPD']\n",
      "\n",
      " GL_TS_MO_23001.nc\n",
      "GL_TS_MO_23001.nc does not have any valid data for this timeperiod\n",
      "\n",
      " GL_TS_MO_T0N155W.nc\n",
      "POINT(-155.0 0.0)\n"
     ]
    },
    {
     "name": "stderr",
     "output_type": "stream",
     "text": [
      " 87%|████████▋ | 2155/2487 [3:04:10<39:26,  7.13s/it]"
     ]
    },
    {
     "name": "stdout",
     "output_type": "stream",
     "text": [
      "0  results found\n",
      "\n",
      " GL_TS_MO_44094.nc\n",
      "GL_TS_MO_44094.nc does not have any valid data for this timeperiod\n",
      "\n",
      " BS_TS_MO_15499.nc\n",
      "BS_TS_MO_15499.nc does not have any of the variables ['VHM0', 'VAVH', 'WSPD']\n",
      "\n",
      " BO_TS_MO_Flinten7BS.nc\n",
      "BO_TS_MO_Flinten7BS.nc does not have any of the variables ['VHM0', 'VAVH', 'WSPD']\n",
      "\n",
      " GL_TS_MO_45162.nc\n",
      "GL_TS_MO_45162.nc does not have any valid data for this timeperiod\n"
     ]
    },
    {
     "name": "stderr",
     "output_type": "stream",
     "text": [
      " 87%|████████▋ | 2159/2487 [3:04:10<22:41,  4.15s/it]"
     ]
    },
    {
     "name": "stdout",
     "output_type": "stream",
     "text": [
      "GL_TS_MO_45162.nc is too close to land\n",
      "\n",
      " GL_TS_MO_WEL438.nc\n",
      "GL_TS_MO_WEL438.nc does not have any valid data for this timeperiod\n",
      "\n",
      " GL_TS_MO_Carnot.nc\n",
      "POINT(1.5677000284194946 50.740501403808594)\n",
      "174  results found\n"
     ]
    },
    {
     "name": "stderr",
     "output_type": "stream",
     "text": [
      " 87%|████████▋ | 2161/2487 [3:04:20<23:40,  4.36s/it]"
     ]
    },
    {
     "name": "stdout",
     "output_type": "stream",
     "text": [
      "\n",
      " NO_TS_MO_Oseberg-A.nc\n",
      "NO_TS_MO_Oseberg-A.nc does not have any valid data for this timeperiod\n",
      "POINT(2.825700044631958 60.49129867553711)\n",
      "354  results found\n"
     ]
    },
    {
     "name": "stderr",
     "output_type": "stream",
     "text": [
      " 87%|████████▋ | 2162/2487 [3:04:38<33:36,  6.21s/it]"
     ]
    },
    {
     "name": "stdout",
     "output_type": "stream",
     "text": [
      "\n",
      " MO_TS_MO_MEDA2.nc\n",
      "MO_TS_MO_MEDA2.nc does not have any of the variables ['VHM0', 'VAVH', 'WSPD']\n",
      "\n",
      " NO_TS_MO_6201019.nc\n",
      "NO_TS_MO_6201019.nc does not have any valid data for this timeperiod\n",
      "\n",
      " GL_TS_MO_41193.nc\n",
      "GL_TS_MO_41193.nc does not have any valid data for this timeperiod\n",
      "\n",
      " NO_TS_MO_WielingenNoord.nc\n",
      "POINT(3.4154999256134033 51.43339920043945)\n",
      "233  results found\n"
     ]
    },
    {
     "name": "stderr",
     "output_type": "stream",
     "text": [
      " 87%|████████▋ | 2166/2487 [3:04:56<29:14,  5.47s/it]"
     ]
    },
    {
     "name": "stdout",
     "output_type": "stream",
     "text": [
      "\n",
      " NO_TS_MO_6201027.nc\n",
      "NO_TS_MO_6201027.nc does not have any valid data for this timeperiod\n",
      "\n",
      " GL_WS_MO_46079.nc\n",
      "GL_WS_MO_46079.nc does not have any of the variables ['VHM0', 'VAVH', 'WSPD']\n",
      "\n",
      " IR_TS_MO_6100281.nc\n",
      "IR_TS_MO_6100281.nc does not have any valid data for this timeperiod\n",
      "POLYGON((0.20020000636577606 39.51459884643555,0.20020000636577606 39.51029968261719,0.20569999516010284 39.51029968261719,0.20569999516010284 39.51459884643555,0.20020000636577606 39.51459884643555))\n",
      "120  results found\n"
     ]
    },
    {
     "name": "stderr",
     "output_type": "stream",
     "text": [
      " 87%|████████▋ | 2171/2487 [3:05:42<35:12,  6.68s/it]"
     ]
    },
    {
     "name": "stdout",
     "output_type": "stream",
     "text": [
      "\n",
      " GL_WS_MO_46269.nc\n",
      "GL_WS_MO_46269.nc does not have any of the variables ['VHM0', 'VAVH', 'WSPD']\n",
      "\n",
      " GL_TS_MO_44064.nc\n",
      "GL_TS_MO_44064.nc does not have any valid data for this timeperiod\n",
      "GL_TS_MO_44064.nc does not have any valid data for this timeperiod\n",
      "\n",
      " GL_TS_MO_Iroise.nc\n",
      "GL_TS_MO_Iroise.nc is too close to land\n",
      "\n",
      " NO_TS_MO_F3platform.nc\n",
      "POINT(4.727499961853027 54.85388946533203)\n",
      "289  results found\n"
     ]
    },
    {
     "name": "stderr",
     "output_type": "stream",
     "text": [
      " 87%|████████▋ | 2173/2487 [3:05:55<34:43,  6.64s/it]"
     ]
    },
    {
     "name": "stdout",
     "output_type": "stream",
     "text": [
      "\n",
      " GL_TS_MO_42045.nc\n",
      "POINT(-96.5 26.216999053955078)\n",
      "90  results found\n"
     ]
    },
    {
     "name": "stderr",
     "output_type": "stream",
     "text": [
      " 87%|████████▋ | 2174/2487 [3:06:04<36:09,  6.93s/it]"
     ]
    },
    {
     "name": "stdout",
     "output_type": "stream",
     "text": [
      "\n",
      " GL_TS_MO_6200054.nc\n",
      "GL_TS_MO_6200054.nc does not have any valid data for this timeperiod\n",
      "GL_TS_MO_6200054.nc does not have any valid data for this timeperiod\n",
      "\n",
      " GL_TS_MO_7401503.nc\n",
      "GL_TS_MO_7401503.nc does not have any of the variables ['VHM0', 'VAVH', 'WSPD']\n",
      "\n",
      " AR_TS_MO_Kraakeskarvet-23-51.nc\n",
      "AR_TS_MO_Kraakeskarvet-23-51.nc does not have any of the variables ['VHM0', 'VAVH', 'WSPD']\n",
      "\n",
      " GL_TS_MO_T5N95W.nc\n",
      "POINT(-95.0 5.0)\n"
     ]
    },
    {
     "name": "stderr",
     "output_type": "stream",
     "text": [
      " 88%|████████▊ | 2178/2487 [3:06:12<23:38,  4.59s/it]"
     ]
    },
    {
     "name": "stdout",
     "output_type": "stream",
     "text": [
      "0  results found\n",
      "\n",
      " GL_TS_MO_41013.nc\n",
      "GL_TS_MO_41013.nc does not have any valid data for this timeperiod\n",
      "POINT(-77.76399993896484 33.441001892089844)\n",
      "30  results found\n"
     ]
    },
    {
     "name": "stderr",
     "output_type": "stream",
     "text": [
      " 88%|████████▊ | 2183/2487 [3:06:21<14:41,  2.90s/it]"
     ]
    },
    {
     "name": "stdout",
     "output_type": "stream",
     "text": [
      "\n",
      " GL_TS_MO_MEDS080.nc\n",
      "GL_TS_MO_MEDS080.nc does not have any valid data for this timeperiod\n",
      "\n",
      " BS_TS_MO_33836.nc\n",
      "BS_TS_MO_33836.nc does not have any valid data for this timeperiod\n",
      "\n",
      " GL_TS_MO_41035.nc\n",
      "GL_TS_MO_41035.nc does not have any valid data for this timeperiod\n",
      "GL_TS_MO_41035.nc does not have any valid data for this timeperiod\n",
      "\n",
      " GL_TS_MO_41116.nc\n",
      "GL_TS_MO_41116.nc does not have any valid data for this timeperiod\n",
      "\n",
      " NO_TS_MO_6200147.nc\n",
      "NO_TS_MO_6200147.nc does not have any of the variables ['VHM0', 'VAVH', 'WSPD']\n",
      "\n",
      " GL_WS_MO_46014.nc\n",
      "GL_WS_MO_46014.nc does not have any of the variables ['VHM0', 'VAVH', 'WSPD']\n",
      "\n",
      " GL_TS_MO_Augusta03.nc\n",
      "GL_TS_MO_Augusta03.nc does not have any valid data for this timeperiod\n",
      "\n",
      " GL_TS_MO_45164.nc\n"
     ]
    },
    {
     "name": "stderr",
     "output_type": "stream",
     "text": [
      " 88%|████████▊ | 2192/2487 [3:06:21<05:11,  1.06s/it]"
     ]
    },
    {
     "name": "stdout",
     "output_type": "stream",
     "text": [
      "GL_TS_MO_45164.nc does not have any valid data for this timeperiod\n",
      "GL_TS_MO_45164.nc does not have any valid data for this timeperiod\n",
      "\n",
      " GL_TS_MO_41003.nc\n",
      "GL_TS_MO_41003.nc does not have any valid data for this timeperiod\n",
      "GL_TS_MO_41003.nc does not have any valid data for this timeperiod\n",
      "\n",
      " GL_TS_MO_44299.nc\n",
      "GL_TS_MO_44299.nc does not have any valid data for this timeperiod\n",
      "\n",
      " GL_TS_MO_NOG1-1.nc\n",
      "GL_TS_MO_NOG1-1.nc does not have any of the variables ['VHM0', 'VAVH', 'WSPD']\n",
      "\n",
      " GL_TS_MO_MEDS502W.nc\n",
      "GL_TS_MO_MEDS502W.nc does not have any valid data for this timeperiod\n",
      "\n",
      " BO_TS_MO_Dynekil.nc\n",
      "BO_TS_MO_Dynekil.nc does not have any valid data for this timeperiod\n",
      "\n",
      " NO_TS_MO_LichteilandGoeree1.nc\n",
      "POINT(3.669722080230713 51.92583465576172)\n",
      "176  results found\n",
      "\n",
      " GL_TS_MO_31217.nc\n",
      "GL_TS_MO_31217.nc does not have any valid data for this timeperiod\n",
      "GL_TS_MO_31217.nc does not have any valid data for this timeperiod\n",
      "\n",
      " GL_TS_MO_44017.nc\n",
      "GL_TS_MO_44017.nc does not have any valid data for this timeperiod\n"
     ]
    },
    {
     "name": "stderr",
     "output_type": "stream",
     "text": [
      " 88%|████████▊ | 2192/2487 [3:06:35<05:11,  1.06s/it]"
     ]
    },
    {
     "name": "stdout",
     "output_type": "stream",
     "text": [
      "POINT(-72.04900360107422 40.69300079345703)\n",
      "53  results found\n"
     ]
    },
    {
     "name": "stderr",
     "output_type": "stream",
     "text": [
      " 88%|████████▊ | 2195/2487 [3:06:42<12:27,  2.56s/it]"
     ]
    },
    {
     "name": "stdout",
     "output_type": "stream",
     "text": [
      "\n",
      " BO_TS_MO_MysingenWR.nc\n",
      "BO_TS_MO_MysingenWR.nc does not have any valid data for this timeperiod\n",
      "\n",
      " GL_TS_MO_46025.nc\n",
      "GL_TS_MO_46025.nc does not have any valid data for this timeperiod\n",
      "POINT(-119.04399871826172 33.757999420166016)\n",
      "175  results found\n"
     ]
    },
    {
     "name": "stderr",
     "output_type": "stream",
     "text": [
      " 88%|████████▊ | 2197/2487 [3:06:53<15:31,  3.21s/it]"
     ]
    },
    {
     "name": "stdout",
     "output_type": "stream",
     "text": [
      "\n",
      " GL_TS_MO_CIS-1.nc\n",
      "GL_TS_MO_CIS-1.nc does not have any of the variables ['VHM0', 'VAVH', 'WSPD']\n",
      "\n",
      " GL_WS_MO_46248.nc\n",
      "GL_WS_MO_46248.nc does not have any of the variables ['VHM0', 'VAVH', 'WSPD']\n",
      "\n",
      " NO_TS_MO_K13a.nc\n",
      "POINT(3.2200000286102295 53.217777252197266)\n",
      "216  results found\n"
     ]
    },
    {
     "name": "stderr",
     "output_type": "stream",
     "text": [
      " 88%|████████▊ | 2200/2487 [3:07:05<16:17,  3.41s/it]"
     ]
    },
    {
     "name": "stdout",
     "output_type": "stream",
     "text": [
      "\n",
      " GL_TS_MO_41025.nc\n",
      "GL_TS_MO_41025.nc does not have any valid data for this timeperiod\n",
      "POLYGON((-75.4540023803711 35.025001525878906,-75.4540023803711 35.0099983215332,-75.36299896240234 35.0099983215332,-75.36299896240234 35.025001525878906,-75.4540023803711 35.025001525878906))\n",
      "57  results found\n"
     ]
    },
    {
     "name": "stderr",
     "output_type": "stream",
     "text": [
      " 89%|████████▊ | 2203/2487 [3:08:35<49:48, 10.52s/it]  "
     ]
    },
    {
     "name": "stdout",
     "output_type": "stream",
     "text": [
      "\n",
      " GL_TS_MO_1401803.nc\n",
      "GL_TS_MO_1401803.nc does not have any of the variables ['VHM0', 'VAVH', 'WSPD']\n",
      "\n",
      " NO_TS_MO_Amelander51.nc\n",
      "NO_TS_MO_Amelander51.nc does not have any valid data for this timeperiod\n",
      "NO_TS_MO_Amelander51.nc does not have any valid data for this timeperiod\n",
      "\n",
      " GL_TS_MO_4801656.nc\n",
      "GL_TS_MO_4801656.nc does not have any of the variables ['VHM0', 'VAVH', 'WSPD']\n",
      "\n",
      " AR_TS_MO_Randsfjord-Badepark-27-58.nc\n",
      "AR_TS_MO_Randsfjord-Badepark-27-58.nc does not have any of the variables ['VHM0', 'VAVH', 'WSPD']\n",
      "\n",
      " GL_TS_MO_MEDS161.nc\n",
      "GL_TS_MO_MEDS161.nc does not have any valid data for this timeperiod\n",
      "\n",
      " GL_TS_MO_MEDS332.nc\n",
      "GL_TS_MO_MEDS332.nc does not have any valid data for this timeperiod\n",
      "\n",
      " MO_TS_MO_6101022.nc\n",
      "MO_TS_MO_6101022.nc does not have any of the variables ['VHM0', 'VAVH', 'WSPD']\n",
      "\n",
      " GL_TS_MO_MEDS325.nc\n"
     ]
    },
    {
     "name": "stderr",
     "output_type": "stream",
     "text": [
      " 89%|████████▉ | 2209/2487 [3:08:36<22:59,  4.96s/it]"
     ]
    },
    {
     "name": "stdout",
     "output_type": "stream",
     "text": [
      "GL_TS_MO_MEDS325.nc does not have any valid data for this timeperiod\n",
      "\n",
      " GL_TS_MO_46037.nc\n",
      "GL_TS_MO_46037.nc does not have any valid data for this timeperiod\n",
      "\n",
      " GL_TS_MO_46273.nc\n",
      "POINT(-117.2770004272461 32.92599868774414)\n",
      "176  results found\n"
     ]
    },
    {
     "name": "stderr",
     "output_type": "stream",
     "text": [
      " 89%|████████▉ | 2213/2487 [3:08:44<18:25,  4.04s/it]"
     ]
    },
    {
     "name": "stdout",
     "output_type": "stream",
     "text": [
      "\n",
      " GL_TS_MO_NW3.nc\n",
      "GL_TS_MO_NW3.nc does not have any of the variables ['VHM0', 'VAVH', 'WSPD']\n",
      "\n",
      " IR_TS_MO_6201081.nc\n",
      "IR_TS_MO_6201081.nc does not have any valid data for this timeperiod\n",
      "IR_TS_MO_6201081.nc does not have any valid data for this timeperiod\n",
      "\n",
      " GL_TS_MO_MEDS126.nc\n",
      "GL_TS_MO_MEDS126.nc does not have any valid data for this timeperiod\n",
      "\n",
      " GL_TS_MO_46256.nc\n",
      "POINT(-118.20099639892578 33.70000076293945)\n"
     ]
    },
    {
     "name": "stderr",
     "output_type": "stream",
     "text": [
      " 89%|████████▉ | 2213/2487 [3:08:55<18:25,  4.04s/it]"
     ]
    },
    {
     "name": "stdout",
     "output_type": "stream",
     "text": [
      "173  results found\n"
     ]
    },
    {
     "name": "stderr",
     "output_type": "stream",
     "text": [
      " 89%|████████▉ | 2218/2487 [3:09:01<15:31,  3.46s/it]"
     ]
    },
    {
     "name": "stdout",
     "output_type": "stream",
     "text": [
      "\n",
      " BO_TS_MO_GreatBeltBridgeEastCU.nc\n",
      "BO_TS_MO_GreatBeltBridgeEastCU.nc does not have any of the variables ['VHM0', 'VAVH', 'WSPD']\n",
      "\n",
      " AR_TS_MO_Mosvatnet-53-130.nc\n",
      "AR_TS_MO_Mosvatnet-53-130.nc does not have any of the variables ['VHM0', 'VAVH', 'WSPD']\n",
      "\n",
      " GL_TS_MO_44059.nc\n",
      "GL_TS_MO_44059.nc does not have any valid data for this timeperiod\n",
      "\n",
      " GL_TS_MO_MEDS198.nc\n",
      "GL_TS_MO_MEDS198.nc does not have any valid data for this timeperiod\n",
      "\n",
      " GL_TS_MO_62052.nc\n",
      "GL_TS_MO_62052.nc does not have any valid data for this timeperiod\n",
      "\n",
      " BO_TS_MO_HavstensfjordBS.nc\n",
      "BO_TS_MO_HavstensfjordBS.nc does not have any of the variables ['VHM0', 'VAVH', 'WSPD']\n",
      "\n",
      " GL_TS_MO_46059.nc\n",
      "GL_TS_MO_46059.nc does not have any valid data for this timeperiod\n",
      "POINT(-129.9510040283203 38.09400177001953)\n"
     ]
    },
    {
     "name": "stderr",
     "output_type": "stream",
     "text": [
      " 89%|████████▉ | 2222/2487 [3:09:07<12:11,  2.76s/it]"
     ]
    },
    {
     "name": "stdout",
     "output_type": "stream",
     "text": [
      "0  results found\n",
      "\n",
      " NO_TS_MO_6200103.nc\n",
      "POINT(-2.9000000953674316 49.900001525878906)\n",
      "179  results found\n"
     ]
    },
    {
     "name": "stderr",
     "output_type": "stream",
     "text": [
      " 90%|████████▉ | 2228/2487 [3:09:22<10:08,  2.35s/it]"
     ]
    },
    {
     "name": "stdout",
     "output_type": "stream",
     "text": [
      "\n",
      " GL_TS_MO_44161.nc\n",
      "GL_TS_MO_44161.nc does not have any valid data for this timeperiod\n",
      "GL_TS_MO_44161.nc does not have any valid data for this timeperiod\n",
      "\n",
      " GL_WS_MO_51100.nc\n",
      "GL_WS_MO_51100.nc does not have any of the variables ['VHM0', 'VAVH', 'WSPD']\n",
      "\n",
      " GL_TS_MO_MEDS081.nc\n",
      "GL_TS_MO_MEDS081.nc does not have any valid data for this timeperiod\n",
      "\n",
      " IR_TS_MO_AMETS-weather-buoy.nc\n",
      "IR_TS_MO_AMETS-weather-buoy.nc does not have any valid data for this timeperiod\n",
      "IR_TS_MO_AMETS-weather-buoy.nc does not have any valid data for this timeperiod\n",
      "\n",
      " BO_TS_MO_Kristianopel.nc\n",
      "BO_TS_MO_Kristianopel.nc does not have any valid data for this timeperiod\n",
      "\n",
      " GL_TS_MO_45152.nc\n",
      "GL_TS_MO_45152.nc does not have any valid data for this timeperiod\n"
     ]
    },
    {
     "name": "stderr",
     "output_type": "stream",
     "text": [
      " 90%|████████▉ | 2234/2487 [3:09:22<05:09,  1.22s/it]"
     ]
    },
    {
     "name": "stdout",
     "output_type": "stream",
     "text": [
      "GL_TS_MO_45152.nc is too close to land\n",
      "\n",
      " GL_TS_MO_45150.nc\n",
      "GL_TS_MO_45150.nc does not have any valid data for this timeperiod\n",
      "GL_TS_MO_45150.nc is too close to land\n",
      "\n",
      " GL_TS_MO_MEDS256.nc\n",
      "GL_TS_MO_MEDS256.nc does not have any valid data for this timeperiod\n",
      "\n",
      " NO_TS_MO_6201012.nc\n",
      "NO_TS_MO_6201012.nc does not have any valid data for this timeperiod\n",
      "\n",
      " GL_TS_MO_4400139.nc\n",
      "GL_TS_MO_4400139.nc does not have any of the variables ['VHM0', 'VAVH', 'WSPD']\n",
      "\n",
      " MO_TS_MO_SOLLER.nc\n",
      "MO_TS_MO_SOLLER.nc does not have any valid data for this timeperiod\n",
      "MO_TS_MO_SOLLER.nc does not have any valid data for this timeperiod\n",
      "\n",
      " GL_TS_MO_Ningaloo.nc\n",
      "GL_TS_MO_Ningaloo.nc does not have any valid data for this timeperiod\n",
      "\n",
      " GL_TS_MO_44011.nc\n",
      "GL_TS_MO_44011.nc does not have any valid data for this timeperiod\n",
      "POINT(-66.56199645996094 41.09299850463867)\n",
      "68  results found\n"
     ]
    },
    {
     "name": "stderr",
     "output_type": "stream",
     "text": [
      " 90%|█████████ | 2239/2487 [3:09:35<06:45,  1.64s/it]"
     ]
    },
    {
     "name": "stdout",
     "output_type": "stream",
     "text": [
      "\n",
      " NO_TS_MO_6201029.nc\n",
      "NO_TS_MO_6201029.nc does not have any valid data for this timeperiod\n",
      "\n",
      " BO_TS_MO_PaterNoster.nc\n",
      "BO_TS_MO_PaterNoster.nc does not have any valid data for this timeperiod\n",
      "\n",
      " GL_TS_MO_44043.nc\n",
      "GL_TS_MO_44043.nc does not have any valid data for this timeperiod\n",
      "GL_TS_MO_44043.nc does not have any valid data for this timeperiod\n",
      "\n",
      " GL_TS_MO_Guilderton02.nc\n"
     ]
    },
    {
     "name": "stderr",
     "output_type": "stream",
     "text": [
      " 90%|█████████ | 2243/2487 [3:09:35<04:09,  1.02s/it]"
     ]
    },
    {
     "name": "stdout",
     "output_type": "stream",
     "text": [
      "GL_TS_MO_Guilderton02.nc does not have any valid data for this timeperiod\n",
      "\n",
      " GL_TS_MO_23455.nc\n",
      "GL_TS_MO_23455.nc does not have any valid data for this timeperiod\n",
      "\n",
      " BS_TS_MO_Gelendzhik-A.nc\n",
      "BS_TS_MO_Gelendzhik-A.nc does not have any valid data for this timeperiod\n",
      "BS_TS_MO_Gelendzhik-A.nc does not have any valid data for this timeperiod\n",
      "\n",
      " GL_WS_MO_46088.nc\n",
      "GL_WS_MO_46088.nc does not have any of the variables ['VHM0', 'VAVH', 'WSPD']\n",
      "\n",
      " GL_TS_MO_41117.nc\n",
      "GL_TS_MO_41117.nc does not have any valid data for this timeperiod\n",
      "\n",
      " GL_TS_MO_46098.nc\n",
      "GL_TS_MO_46098.nc does not have any valid data for this timeperiod\n",
      "POINT(-124.95600128173828 44.38100051879883)\n",
      "125  results found\n"
     ]
    },
    {
     "name": "stderr",
     "output_type": "stream",
     "text": [
      " 90%|█████████ | 2248/2487 [3:09:47<05:33,  1.40s/it]"
     ]
    },
    {
     "name": "stdout",
     "output_type": "stream",
     "text": [
      "\n",
      " GL_TS_MO_44153.nc\n",
      "GL_TS_MO_44153.nc does not have any valid data for this timeperiod\n",
      "GL_TS_MO_44153.nc does not have any valid data for this timeperiod\n",
      "\n",
      " GL_TS_MO_31002.nc\n",
      "GL_TS_MO_31002.nc does not have any valid data for this timeperiod\n",
      "\n",
      " GL_TS_MO_46263.nc\n",
      "GL_TS_MO_46263.nc does not have any valid data for this timeperiod\n",
      "\n",
      " AR_TS_MO_Vaage-57-131.nc\n",
      "AR_TS_MO_Vaage-57-131.nc does not have any of the variables ['VHM0', 'VAVH', 'WSPD']\n",
      "\n",
      " GL_WS_MO_41112.nc\n",
      "GL_WS_MO_41112.nc does not have any of the variables ['VHM0', 'VAVH', 'WSPD']\n",
      "\n",
      " GL_TS_MO_MEDS154.nc\n",
      "GL_TS_MO_MEDS154.nc does not have any valid data for this timeperiod\n",
      "\n",
      " GL_TS_MO_62447.nc\n",
      "GL_TS_MO_62447.nc does not have any of the variables ['VHM0', 'VAVH', 'WSPD']\n",
      "\n",
      " GL_TS_MO_91442.nc\n"
     ]
    },
    {
     "name": "stderr",
     "output_type": "stream",
     "text": [
      " 91%|█████████ | 2254/2487 [3:09:47<02:53,  1.35it/s]"
     ]
    },
    {
     "name": "stdout",
     "output_type": "stream",
     "text": [
      "GL_TS_MO_91442.nc does not have any valid data for this timeperiod\n",
      "\n",
      " GL_WS_MO_46267.nc\n",
      "GL_WS_MO_46267.nc does not have any of the variables ['VHM0', 'VAVH', 'WSPD']\n",
      "\n",
      " GL_TS_MO_1301001.nc\n",
      "GL_TS_MO_1301001.nc does not have any of the variables ['VHM0', 'VAVH', 'WSPD']\n",
      "\n",
      " GL_TS_MO_46024.nc\n",
      "GL_TS_MO_46024.nc does not have any valid data for this timeperiod\n",
      "GL_TS_MO_46024.nc does not have any valid data for this timeperiod\n",
      "\n",
      " GL_TS_MO_T2S110W.nc\n",
      "POINT(-110.0 -2.0)\n"
     ]
    },
    {
     "name": "stderr",
     "output_type": "stream",
     "text": [
      " 91%|█████████ | 2258/2487 [3:09:55<04:32,  1.19s/it]"
     ]
    },
    {
     "name": "stdout",
     "output_type": "stream",
     "text": [
      "0  results found\n",
      "\n",
      " GL_TS_MO_45175.nc\n",
      "GL_TS_MO_45175.nc does not have any valid data for this timeperiod\n",
      "GL_TS_MO_45175.nc does not have any valid data for this timeperiod\n",
      "\n",
      " GL_TS_MO_EXCE0001.nc\n"
     ]
    },
    {
     "name": "stderr",
     "output_type": "stream",
     "text": [
      " 91%|█████████ | 2261/2487 [3:09:56<03:24,  1.11it/s]"
     ]
    },
    {
     "name": "stdout",
     "output_type": "stream",
     "text": [
      "GL_TS_MO_EXCE0001.nc does not have any valid data for this timeperiod\n",
      "GL_TS_MO_EXCE0001.nc does not have any valid data for this timeperiod\n",
      "\n",
      " NO_TS_MO_ElbeUFS.nc\n",
      "NO_TS_MO_ElbeUFS.nc does not have any of the variables ['VHM0', 'VAVH', 'WSPD']\n",
      "\n",
      " GL_WS_MO_46114.nc\n",
      "GL_WS_MO_46114.nc does not have any of the variables ['VHM0', 'VAVH', 'WSPD']\n",
      "\n",
      " MO_TS_MO_ADN-MAMBO1.nc\n",
      "MO_TS_MO_ADN-MAMBO1.nc is too close to land\n",
      "\n",
      " GL_TS_MO_NW2.nc\n",
      "GL_TS_MO_NW2.nc does not have any of the variables ['VHM0', 'VAVH', 'WSPD']\n",
      "\n",
      " GL_TS_MO_46236.nc\n"
     ]
    },
    {
     "name": "stderr",
     "output_type": "stream",
     "text": [
      " 91%|█████████ | 2264/2487 [3:09:56<02:31,  1.47it/s]"
     ]
    },
    {
     "name": "stdout",
     "output_type": "stream",
     "text": [
      "GL_TS_MO_46236.nc does not have any valid data for this timeperiod\n",
      "\n",
      " GL_TS_MO_46011.nc\n",
      "GL_TS_MO_46011.nc does not have any valid data for this timeperiod\n",
      "POINT(-121.01899719238281 34.95600128173828)\n",
      "236  results found\n",
      "\n",
      " GL_TS_MO_46014.nc\n",
      "GL_TS_MO_46014.nc does not have any valid data for this timeperiod\n",
      "POINT(-123.9739990234375 39.23099899291992)\n"
     ]
    },
    {
     "name": "stderr",
     "output_type": "stream",
     "text": [
      " 91%|█████████ | 2264/2487 [3:10:15<02:31,  1.47it/s]"
     ]
    },
    {
     "name": "stdout",
     "output_type": "stream",
     "text": [
      "165  results found\n"
     ]
    },
    {
     "name": "stderr",
     "output_type": "stream",
     "text": [
      " 91%|█████████ | 2269/2487 [3:10:22<08:00,  2.21s/it]"
     ]
    },
    {
     "name": "stdout",
     "output_type": "stream",
     "text": [
      "\n",
      " GL_TS_MO_MEDS132.nc\n",
      "GL_TS_MO_MEDS132.nc does not have any valid data for this timeperiod\n",
      "\n",
      " GL_TS_MO_WEL405.nc\n",
      "GL_TS_MO_WEL405.nc does not have any valid data for this timeperiod\n",
      "\n",
      " GL_TS_MO_42047.nc\n",
      "GL_TS_MO_42047.nc does not have any valid data for this timeperiod\n",
      "\n",
      " GL_TS_MO_EXCE0007.nc\n",
      "GL_TS_MO_EXCE0007.nc does not have any valid data for this timeperiod\n",
      "GL_TS_MO_EXCE0007.nc does not have any valid data for this timeperiod\n",
      "\n",
      " GL_TS_MO_MEDS010.nc\n",
      "GL_TS_MO_MEDS010.nc does not have any valid data for this timeperiod\n",
      "\n",
      " GL_TS_MO_45159.nc\n"
     ]
    },
    {
     "name": "stderr",
     "output_type": "stream",
     "text": [
      " 92%|█████████▏| 2276/2487 [3:10:22<03:31,  1.00s/it]"
     ]
    },
    {
     "name": "stdout",
     "output_type": "stream",
     "text": [
      "GL_TS_MO_45159.nc does not have any valid data for this timeperiod\n",
      "GL_TS_MO_45159.nc is too close to land\n",
      "\n",
      " NO_TS_MO_Breesem1.nc\n",
      "NO_TS_MO_Breesem1.nc does not have any valid data for this timeperiod\n",
      "NO_TS_MO_Breesem1.nc does not have any valid data for this timeperiod\n",
      "\n",
      " GL_TS_MO_42370.nc\n",
      "GL_TS_MO_42370.nc does not have any valid data for this timeperiod\n",
      "GL_TS_MO_42370.nc does not have any valid data for this timeperiod\n",
      "\n",
      " GL_WS_MO_41110.nc\n",
      "GL_WS_MO_41110.nc does not have any of the variables ['VHM0', 'VAVH', 'WSPD']\n",
      "\n",
      " GL_TS_MO_23494.nc\n",
      "GL_TS_MO_23494.nc does not have any valid data for this timeperiod\n",
      "\n",
      " GL_TS_MO_WEL424.nc\n",
      "GL_TS_MO_WEL424.nc does not have any valid data for this timeperiod\n",
      "\n",
      " GL_WS_MO_6100289.nc\n",
      "GL_WS_MO_6100289.nc does not have any of the variables ['VHM0', 'VAVH', 'WSPD']\n",
      "\n",
      " GL_TS_MO_21178.nc\n",
      "GL_TS_MO_21178.nc does not have any of the variables ['VHM0', 'VAVH', 'WSPD']\n",
      "\n",
      " NO_TS_MO_Oderbank.nc\n",
      "POINT(14.166666984558105 54.08333206176758)\n",
      "233  results found\n"
     ]
    },
    {
     "name": "stderr",
     "output_type": "stream",
     "text": [
      " 92%|█████████▏| 2281/2487 [3:10:35<05:22,  1.56s/it]"
     ]
    },
    {
     "name": "stdout",
     "output_type": "stream",
     "text": [
      "\n",
      " GL_TS_MO_6100001.nc\n",
      "GL_TS_MO_6100001.nc does not have any valid data for this timeperiod\n",
      "GL_TS_MO_6100001.nc does not have any valid data for this timeperiod\n",
      "\n",
      " GL_TS_MO_44258.nc\n",
      "GL_TS_MO_44258.nc does not have any valid data for this timeperiod\n",
      "POINT(-63.40299987792969 44.50199890136719)\n",
      "120  results found\n",
      "\n",
      " GL_TS_MO_2200192.nc\n",
      "POINT(123.26000213623047 34.0)\n"
     ]
    },
    {
     "name": "stderr",
     "output_type": "stream",
     "text": [
      " 92%|█████████▏| 2283/2487 [3:10:52<11:07,  3.27s/it]"
     ]
    },
    {
     "name": "stdout",
     "output_type": "stream",
     "text": [
      "1  results found\n",
      "\n",
      " GL_TS_MO_44037.nc\n",
      "GL_TS_MO_44037.nc does not have any valid data for this timeperiod\n",
      "POINT(-67.8759994506836 43.49700164794922)\n",
      "59  results found\n"
     ]
    },
    {
     "name": "stderr",
     "output_type": "stream",
     "text": [
      " 92%|█████████▏| 2284/2487 [3:11:01<13:36,  4.02s/it]"
     ]
    },
    {
     "name": "stdout",
     "output_type": "stream",
     "text": [
      "\n",
      " GL_TS_MO_3301515.nc\n",
      "GL_TS_MO_3301515.nc does not have any of the variables ['VHM0', 'VAVH', 'WSPD']\n",
      "\n",
      " GL_WS_MO_46254.nc\n",
      "GL_WS_MO_46254.nc does not have any of the variables ['VHM0', 'VAVH', 'WSPD']\n",
      "\n",
      " GL_TS_MO_52211.nc\n",
      "POINT(145.66200256347656 15.267999649047852)\n",
      "29  results found\n"
     ]
    },
    {
     "name": "stderr",
     "output_type": "stream",
     "text": [
      " 92%|█████████▏| 2287/2487 [3:11:09<11:46,  3.53s/it]"
     ]
    },
    {
     "name": "stdout",
     "output_type": "stream",
     "text": [
      "\n",
      " GL_TS_MO_41029.nc\n",
      "GL_TS_MO_41029.nc does not have any valid data for this timeperiod\n",
      "POINT(-79.6240005493164 32.803001403808594)\n"
     ]
    },
    {
     "name": "stderr",
     "output_type": "stream",
     "text": [
      " 92%|█████████▏| 2288/2487 [3:11:16<13:39,  4.12s/it]"
     ]
    },
    {
     "name": "stdout",
     "output_type": "stream",
     "text": [
      "29  results found\n",
      "\n",
      " GL_TS_MO_44142.nc\n"
     ]
    },
    {
     "name": "stderr",
     "output_type": "stream",
     "text": [
      " 92%|█████████▏| 2291/2487 [3:11:16<08:09,  2.50s/it]"
     ]
    },
    {
     "name": "stdout",
     "output_type": "stream",
     "text": [
      "GL_TS_MO_44142.nc does not have any valid data for this timeperiod\n",
      "GL_TS_MO_44142.nc does not have any valid data for this timeperiod\n",
      "\n",
      " GL_TS_MO_IF000256.nc\n",
      "GL_TS_MO_IF000256.nc does not have any of the variables ['VHM0', 'VAVH', 'WSPD']\n",
      "\n",
      " NO_TS_MO_zdv8-2d-MMND.nc\n",
      "NO_TS_MO_zdv8-2d-MMND.nc does not have any valid data for this timeperiod\n",
      "NO_TS_MO_zdv8-2d-MMND.nc does not have any valid data for this timeperiod\n",
      "\n",
      " GL_TS_MO_42395.nc\n",
      "GL_TS_MO_42395.nc does not have any valid data for this timeperiod\n",
      "POINT(-90.79199981689453 26.40399932861328)\n",
      "30  results found\n",
      "\n",
      " GL_TS_MO_55081.nc\n",
      "GL_TS_MO_55081.nc does not have any of the variables ['VHM0', 'VAVH', 'WSPD']\n"
     ]
    },
    {
     "name": "stderr",
     "output_type": "stream",
     "text": [
      " 92%|█████████▏| 2294/2487 [3:11:24<07:35,  2.36s/it]"
     ]
    },
    {
     "name": "stdout",
     "output_type": "stream",
     "text": [
      "\n",
      " GL_TS_MO_45012.nc\n",
      "GL_TS_MO_45012.nc does not have any valid data for this timeperiod\n",
      "GL_TS_MO_45012.nc does not have any valid data for this timeperiod\n",
      "\n",
      " AR_TS_MO_Statfjord-A.nc\n",
      "POINT(1.8522000312805176 61.25529861450195)\n",
      "235  results found\n"
     ]
    },
    {
     "name": "stderr",
     "output_type": "stream",
     "text": [
      " 92%|█████████▏| 2295/2487 [3:11:36<13:28,  4.21s/it]"
     ]
    },
    {
     "name": "stdout",
     "output_type": "stream",
     "text": [
      "\n",
      " GL_TS_MO_6200053.nc\n",
      "POINT(-4.071670055389404 48.728328704833984)\n",
      "228  results found\n"
     ]
    },
    {
     "name": "stderr",
     "output_type": "stream",
     "text": [
      " 92%|█████████▏| 2296/2487 [3:11:55<23:48,  7.48s/it]"
     ]
    },
    {
     "name": "stdout",
     "output_type": "stream",
     "text": [
      "\n",
      " GL_TS_MO_44090.nc\n",
      "POINT(-70.3290023803711 41.84000015258789)\n",
      "81  results found\n"
     ]
    },
    {
     "name": "stderr",
     "output_type": "stream",
     "text": [
      " 92%|█████████▏| 2297/2487 [3:12:04<24:10,  7.64s/it]"
     ]
    },
    {
     "name": "stdout",
     "output_type": "stream",
     "text": [
      "\n",
      " GL_TS_MO_41021.nc\n",
      "GL_TS_MO_41021.nc does not have any valid data for this timeperiod\n",
      "GL_TS_MO_41021.nc does not have any valid data for this timeperiod\n",
      "\n",
      " GL_TS_MO_WEL271.nc\n",
      "GL_TS_MO_WEL271.nc does not have any valid data for this timeperiod\n",
      "\n",
      " GL_TS_MO_2300497.nc\n",
      "POLYGON((72.27300262451172 10.58899974822998,72.27300262451172 10.619000434875488,72.30500030517578 10.619000434875488,72.30500030517578 10.58899974822998,72.27300262451172 10.58899974822998))\n"
     ]
    },
    {
     "name": "stderr",
     "output_type": "stream",
     "text": [
      " 92%|█████████▏| 2300/2487 [3:12:09<14:32,  4.66s/it]"
     ]
    },
    {
     "name": "stdout",
     "output_type": "stream",
     "text": [
      "0  results found\n",
      "\n",
      " GL_TS_MO_WEL443.nc\n",
      "GL_TS_MO_WEL443.nc does not have any valid data for this timeperiod\n",
      "\n",
      " GL_WS_MO_46108.nc\n",
      "GL_WS_MO_46108.nc does not have any of the variables ['VHM0', 'VAVH', 'WSPD']\n",
      "\n",
      " NO_TS_MO_Wandelaar.nc\n",
      "POINT(3.050600051879883 51.3922004699707)\n",
      "233  results found\n"
     ]
    },
    {
     "name": "stderr",
     "output_type": "stream",
     "text": [
      " 93%|█████████▎| 2306/2487 [3:12:23<08:57,  2.97s/it]"
     ]
    },
    {
     "name": "stdout",
     "output_type": "stream",
     "text": [
      "\n",
      " GL_TS_MO_41194.nc\n",
      "GL_TS_MO_41194.nc does not have any valid data for this timeperiod\n",
      "\n",
      " GL_WS_MO_51207.nc\n",
      "GL_WS_MO_51207.nc does not have any of the variables ['VHM0', 'VAVH', 'WSPD']\n",
      "\n",
      " GL_TS_MO_TorbayEast01.nc\n",
      "GL_TS_MO_TorbayEast01.nc is too close to land\n",
      "\n",
      " GL_TS_MO_41051.nc\n",
      "GL_TS_MO_41051.nc does not have any valid data for this timeperiod\n",
      "GL_TS_MO_41051.nc does not have any valid data for this timeperiod\n",
      "\n",
      " GL_TS_MO_46213.nc\n",
      "POINT(-124.73200225830078 40.29499816894531)\n",
      "71  results found\n"
     ]
    },
    {
     "name": "stderr",
     "output_type": "stream",
     "text": [
      " 93%|█████████▎| 2308/2487 [3:12:33<10:17,  3.45s/it]"
     ]
    },
    {
     "name": "stdout",
     "output_type": "stream",
     "text": [
      "\n",
      " GL_TS_MO_42037.nc\n",
      "GL_TS_MO_42037.nc does not have any valid data for this timeperiod\n",
      "GL_TS_MO_42037.nc does not have any valid data for this timeperiod\n",
      "\n",
      " GL_TS_MO_53040.nc\n",
      "POLYGON((95.1018295288086 -8.232170104980469,95.1018295288086 -8.0,95.0 -8.0,95.0 -8.232170104980469,95.1018295288086 -8.232170104980469))\n"
     ]
    },
    {
     "name": "stderr",
     "output_type": "stream",
     "text": [
      " 93%|█████████▎| 2310/2487 [3:12:39<10:06,  3.43s/it]"
     ]
    },
    {
     "name": "stdout",
     "output_type": "stream",
     "text": [
      "0  results found\n",
      "\n",
      " GL_TS_MO_45202.nc\n",
      "GL_TS_MO_45202.nc does not have any valid data for this timeperiod\n",
      "GL_TS_MO_45202.nc does not have any valid data for this timeperiod\n",
      "\n",
      " NO_TS_MO_PasVanTerneuzenBoei.nc\n"
     ]
    },
    {
     "name": "stderr",
     "output_type": "stream",
     "text": [
      " 93%|█████████▎| 2312/2487 [3:12:40<07:19,  2.51s/it]"
     ]
    },
    {
     "name": "stdout",
     "output_type": "stream",
     "text": [
      "NO_TS_MO_PasVanTerneuzenBoei.nc is too close to land\n",
      "\n",
      " IR_TS_MO_6100197.nc\n",
      "IR_TS_MO_6100197.nc does not have any valid data for this timeperiod\n",
      "POLYGON((4.415299892425537 39.71390151977539,4.415299892425537 39.70650100708008,4.426300048828125 39.70650100708008,4.426300048828125 39.71390151977539,4.415299892425537 39.71390151977539))\n",
      "116  results found\n"
     ]
    },
    {
     "name": "stderr",
     "output_type": "stream",
     "text": [
      " 93%|█████████▎| 2313/2487 [3:13:30<30:26, 10.50s/it]"
     ]
    },
    {
     "name": "stdout",
     "output_type": "stream",
     "text": [
      "\n",
      " NO_TS_MO_NorthCormorant.nc\n",
      "NO_TS_MO_NorthCormorant.nc does not have any valid data for this timeperiod\n",
      "NO_TS_MO_NorthCormorant.nc does not have any valid data for this timeperiod\n",
      "\n",
      " GL_TS_MO_56008.nc\n",
      "POINT(115.68000030517578 -31.979999542236328)\n",
      "58  results found\n"
     ]
    },
    {
     "name": "stderr",
     "output_type": "stream",
     "text": [
      " 93%|█████████▎| 2320/2487 [3:13:37<10:41,  3.84s/it]"
     ]
    },
    {
     "name": "stdout",
     "output_type": "stream",
     "text": [
      "\n",
      " GL_WS_MO_46206.nc\n",
      "GL_WS_MO_46206.nc does not have any of the variables ['VHM0', 'VAVH', 'WSPD']\n",
      "\n",
      " GL_WS_MO_46243.nc\n",
      "GL_WS_MO_46243.nc does not have any of the variables ['VHM0', 'VAVH', 'WSPD']\n",
      "\n",
      " GL_TS_MO_3100374.nc\n",
      "GL_TS_MO_3100374.nc does not have any valid data for this timeperiod\n",
      "\n",
      " GL_WS_MO_46107.nc\n",
      "GL_WS_MO_46107.nc does not have any of the variables ['VHM0', 'VAVH', 'WSPD']\n",
      "\n",
      " BO_TS_MO_OlandsSodraGrund.nc\n",
      "BO_TS_MO_OlandsSodraGrund.nc does not have any valid data for this timeperiod\n",
      "BO_TS_MO_OlandsSodraGrund.nc does not have any valid data for this timeperiod\n",
      "\n",
      " GL_TS_MO_MEDS205.nc\n",
      "GL_TS_MO_MEDS205.nc does not have any valid data for this timeperiod\n",
      "\n",
      " GL_WS_MO_44070.nc\n"
     ]
    },
    {
     "name": "stderr",
     "output_type": "stream",
     "text": [
      " 93%|█████████▎| 2324/2487 [3:13:37<06:30,  2.39s/it]"
     ]
    },
    {
     "name": "stdout",
     "output_type": "stream",
     "text": [
      "GL_WS_MO_44070.nc does not have any of the variables ['VHM0', 'VAVH', 'WSPD']\n",
      "\n",
      " NO_TS_MO_6201013.nc\n",
      "NO_TS_MO_6201013.nc does not have any valid data for this timeperiod\n",
      "\n",
      " GL_TS_MO_42360.nc\n",
      "GL_TS_MO_42360.nc does not have any valid data for this timeperiod\n",
      "GL_TS_MO_42360.nc does not have any valid data for this timeperiod\n",
      "\n",
      " NO_TS_MO_MarollegatMeetpaal.nc\n",
      "NO_TS_MO_MarollegatMeetpaal.nc does not have any valid data for this timeperiod\n",
      "NO_TS_MO_MarollegatMeetpaal.nc does not have any valid data for this timeperiod\n",
      "\n",
      " GL_TS_MO_55481.nc\n",
      "POINT(154.4499969482422 -27.649999618530273)\n"
     ]
    },
    {
     "name": "stderr",
     "output_type": "stream",
     "text": [
      " 94%|█████████▎| 2326/2487 [3:13:44<06:54,  2.57s/it]"
     ]
    },
    {
     "name": "stdout",
     "output_type": "stream",
     "text": [
      "30  results found\n",
      "\n",
      " GL_TS_MO_MEDS501W.nc\n",
      "GL_TS_MO_MEDS501W.nc does not have any valid data for this timeperiod\n",
      "\n",
      " GL_TS_MO_41115.nc\n",
      "POINT(-67.27999877929688 18.375999450683594)\n",
      "53  results found\n"
     ]
    },
    {
     "name": "stderr",
     "output_type": "stream",
     "text": [
      " 94%|█████████▎| 2328/2487 [3:13:51<07:33,  2.85s/it]"
     ]
    },
    {
     "name": "stdout",
     "output_type": "stream",
     "text": [
      "\n",
      " GL_TS_MO_23002.nc\n",
      "GL_TS_MO_23002.nc does not have any valid data for this timeperiod\n",
      "\n",
      " GL_TS_MO_46114.nc\n",
      "POINT(-122.34300231933594 36.70000076293945)\n",
      "154  results found\n"
     ]
    },
    {
     "name": "stderr",
     "output_type": "stream",
     "text": [
      " 94%|█████████▍| 2333/2487 [3:14:02<05:52,  2.29s/it]"
     ]
    },
    {
     "name": "stdout",
     "output_type": "stream",
     "text": [
      "\n",
      " GL_TS_MO_41030.nc\n",
      "GL_TS_MO_41030.nc does not have any valid data for this timeperiod\n",
      "GL_TS_MO_41030.nc does not have any valid data for this timeperiod\n",
      "\n",
      " GL_TS_MO_MEDS262.nc\n",
      "GL_TS_MO_MEDS262.nc does not have any valid data for this timeperiod\n",
      "\n",
      " GL_TS_MO_46044.nc\n",
      "GL_TS_MO_46044.nc does not have any valid data for this timeperiod\n",
      "GL_TS_MO_46044.nc does not have any valid data for this timeperiod\n",
      "\n",
      " GL_WS_MO_3100219.nc\n",
      "GL_WS_MO_3100219.nc does not have any of the variables ['VHM0', 'VAVH', 'WSPD']\n",
      "\n",
      " GL_TS_MO_46009.nc\n",
      "GL_TS_MO_46009.nc does not have any valid data for this timeperiod\n",
      "\n",
      " GL_WS_MO_ducn7.nc\n",
      "GL_WS_MO_ducn7.nc does not have any of the variables ['VHM0', 'VAVH', 'WSPD']\n",
      "\n",
      " GL_WS_MO_43010.nc\n",
      "GL_WS_MO_43010.nc does not have any of the variables ['VHM0', 'VAVH', 'WSPD']\n",
      "\n",
      " NO_TS_MO_SchiermonnikoogNoord.nc\n",
      "POINT(6.1666998863220215 53.59550094604492)\n",
      "238  results found\n"
     ]
    },
    {
     "name": "stderr",
     "output_type": "stream",
     "text": [
      " 94%|█████████▍| 2338/2487 [3:14:14<05:40,  2.28s/it]"
     ]
    },
    {
     "name": "stdout",
     "output_type": "stream",
     "text": [
      "\n",
      " NO_TS_MO_6200130.nc\n",
      "POINT(1.2999999523162842 58.70000076293945)\n",
      "282  results found\n"
     ]
    },
    {
     "name": "stderr",
     "output_type": "stream",
     "text": [
      " 94%|█████████▍| 2339/2487 [3:14:26<08:35,  3.48s/it]"
     ]
    },
    {
     "name": "stdout",
     "output_type": "stream",
     "text": [
      "\n",
      " GL_TS_MO_T5S180W.nc\n",
      "POINT(180.0 -5.0)\n"
     ]
    },
    {
     "name": "stderr",
     "output_type": "stream",
     "text": [
      " 94%|█████████▍| 2342/2487 [3:14:34<06:53,  2.85s/it]"
     ]
    },
    {
     "name": "stdout",
     "output_type": "stream",
     "text": [
      "0  results found\n",
      "\n",
      " GL_TS_MO_45145.nc\n",
      "GL_TS_MO_45145.nc does not have any valid data for this timeperiod\n",
      "GL_TS_MO_45145.nc does not have any valid data for this timeperiod\n",
      "\n",
      " GL_WS_MO_46066.nc\n",
      "GL_WS_MO_46066.nc does not have any of the variables ['VHM0', 'VAVH', 'WSPD']\n",
      "\n",
      " NO_TS_MO_DarsserSWR.nc\n"
     ]
    },
    {
     "name": "stderr",
     "output_type": "stream",
     "text": [
      " 94%|█████████▍| 2344/2487 [3:14:34<04:52,  2.05s/it]"
     ]
    },
    {
     "name": "stdout",
     "output_type": "stream",
     "text": [
      "NO_TS_MO_DarsserSWR.nc does not have any valid data for this timeperiod\n",
      "\n",
      " GL_TS_MO_46063.nc\n",
      "GL_TS_MO_46063.nc does not have any valid data for this timeperiod\n",
      "GL_TS_MO_46063.nc does not have any valid data for this timeperiod\n",
      "\n",
      " GL_TS_MO_51026.nc\n",
      "GL_TS_MO_51026.nc does not have any valid data for this timeperiod\n",
      "GL_TS_MO_51026.nc does not have any valid data for this timeperiod\n",
      "\n",
      " GL_TS_MO_46204.nc\n",
      "GL_TS_MO_46204.nc does not have any valid data for this timeperiod\n",
      "POINT(-128.76699829101562 51.382999420166016)\n",
      "117  results found\n"
     ]
    },
    {
     "name": "stderr",
     "output_type": "stream",
     "text": [
      " 94%|█████████▍| 2346/2487 [3:14:42<06:08,  2.61s/it]"
     ]
    },
    {
     "name": "stdout",
     "output_type": "stream",
     "text": [
      "\n",
      " GL_WS_MO_44065.nc\n",
      "GL_WS_MO_44065.nc does not have any of the variables ['VHM0', 'VAVH', 'WSPD']\n",
      "\n",
      " GL_TS_MO_T2S140W.nc\n"
     ]
    },
    {
     "name": "stderr",
     "output_type": "stream",
     "text": [
      " 94%|█████████▍| 2348/2487 [3:14:42<04:24,  1.91s/it]"
     ]
    },
    {
     "name": "stdout",
     "output_type": "stream",
     "text": [
      "GL_TS_MO_T2S140W.nc does not have any valid data for this timeperiod\n",
      "\n",
      " GL_WS_MO_46086.nc\n",
      "GL_WS_MO_46086.nc does not have any of the variables ['VHM0', 'VAVH', 'WSPD']\n",
      "\n",
      " AR_TS_MO_Tinnemyra-20-43.nc\n",
      "AR_TS_MO_Tinnemyra-20-43.nc does not have any of the variables ['VHM0', 'VAVH', 'WSPD']\n",
      "\n",
      " GL_TS_MO_WEL404.nc\n",
      "GL_TS_MO_WEL404.nc does not have any valid data for this timeperiod\n",
      "\n",
      " GL_TS_MO_41113.nc\n",
      "POINT(-80.53299713134766 28.399999618530273)\n",
      "59  results found\n"
     ]
    },
    {
     "name": "stderr",
     "output_type": "stream",
     "text": [
      " 95%|█████████▍| 2352/2487 [3:14:49<04:10,  1.85s/it]"
     ]
    },
    {
     "name": "stdout",
     "output_type": "stream",
     "text": [
      "\n",
      " BO_TS_MO_OlandSodraBS.nc\n",
      "BO_TS_MO_OlandSodraBS.nc does not have any of the variables ['VHM0', 'VAVH', 'WSPD']\n",
      "\n",
      " GL_TS_MO_MEDS180.nc\n",
      "GL_TS_MO_MEDS180.nc does not have any valid data for this timeperiod\n",
      "\n",
      " NO_TS_MO_Gullfaks-C.nc\n",
      "NO_TS_MO_Gullfaks-C.nc does not have any valid data for this timeperiod\n",
      "POINT(2.268699884414673 61.204200744628906)\n",
      "288  results found\n"
     ]
    },
    {
     "name": "stderr",
     "output_type": "stream",
     "text": [
      " 95%|█████████▍| 2355/2487 [3:15:05<06:32,  2.97s/it]"
     ]
    },
    {
     "name": "stdout",
     "output_type": "stream",
     "text": [
      "\n",
      " GL_TS_MO_3100231.nc\n",
      "GL_TS_MO_3100231.nc does not have any valid data for this timeperiod\n",
      "\n",
      " AR_TS_MO_F-Vartdalsfjorden.nc\n"
     ]
    },
    {
     "name": "stderr",
     "output_type": "stream",
     "text": [
      " 95%|█████████▍| 2358/2487 [3:15:05<04:15,  1.98s/it]"
     ]
    },
    {
     "name": "stdout",
     "output_type": "stream",
     "text": [
      "AR_TS_MO_F-Vartdalsfjorden.nc does not have any valid data for this timeperiod\n",
      "\n",
      " NO_TS_MO_HansweertPunt2.nc\n",
      "NO_TS_MO_HansweertPunt2.nc does not have any valid data for this timeperiod\n",
      "NO_TS_MO_HansweertPunt2.nc does not have any valid data for this timeperiod\n",
      "\n",
      " GL_TS_MO_T8S170W.nc\n",
      "POINT(-170.0 -8.0)\n"
     ]
    },
    {
     "name": "stderr",
     "output_type": "stream",
     "text": [
      " 95%|█████████▍| 2361/2487 [3:15:11<03:34,  1.71s/it]"
     ]
    },
    {
     "name": "stdout",
     "output_type": "stream",
     "text": [
      "0  results found\n",
      "\n",
      " BS_TS_MO_BelgorodDnestrovskiy.nc\n",
      "BS_TS_MO_BelgorodDnestrovskiy.nc does not have any valid data for this timeperiod\n",
      "\n",
      " NO_TS_MO_Amelander22.nc\n",
      "NO_TS_MO_Amelander22.nc does not have any valid data for this timeperiod\n",
      "NO_TS_MO_Amelander22.nc does not have any valid data for this timeperiod\n",
      "\n",
      " GL_WS_MO_46268.nc\n",
      "GL_WS_MO_46268.nc does not have any of the variables ['VHM0', 'VAVH', 'WSPD']\n",
      "\n",
      " AR_TS_MO_Sandebukta-37-93.nc\n",
      "AR_TS_MO_Sandebukta-37-93.nc does not have any of the variables ['VHM0', 'VAVH', 'WSPD']\n",
      "\n",
      " GL_TS_MO_MEDS308.nc\n"
     ]
    },
    {
     "name": "stderr",
     "output_type": "stream",
     "text": [
      " 95%|█████████▌| 2367/2487 [3:15:11<01:26,  1.39it/s]"
     ]
    },
    {
     "name": "stdout",
     "output_type": "stream",
     "text": [
      "GL_TS_MO_MEDS308.nc does not have any valid data for this timeperiod\n",
      "\n",
      " BO_TS_MO_Flinten7.nc\n",
      "BO_TS_MO_Flinten7.nc does not have any of the variables ['VHM0', 'VAVH', 'WSPD']\n",
      "\n",
      " GL_TS_MO_1400015.nc\n",
      "GL_TS_MO_1400015.nc does not have any of the variables ['VHM0', 'VAVH', 'WSPD']\n",
      "\n",
      " GL_TS_MO_55079.nc\n",
      "GL_TS_MO_55079.nc does not have any of the variables ['VHM0', 'VAVH', 'WSPD']\n",
      "\n",
      " GL_TS_MO_6202403.nc\n",
      "GL_TS_MO_6202403.nc is too close to land\n",
      "\n",
      " GL_TS_MO_4101553.nc\n",
      "GL_TS_MO_4101553.nc does not have any of the variables ['VHM0', 'VAVH', 'WSPD']\n",
      "\n",
      " NO_TS_MO_ZwinBuoy.nc\n"
     ]
    },
    {
     "name": "stderr",
     "output_type": "stream",
     "text": [
      " 95%|█████████▌| 2374/2487 [3:15:11<00:39,  2.86it/s]"
     ]
    },
    {
     "name": "stdout",
     "output_type": "stream",
     "text": [
      "NO_TS_MO_ZwinBuoy.nc is too close to land\n",
      "\n",
      " GL_TS_MO_MEDS036.nc\n",
      "GL_TS_MO_MEDS036.nc does not have any valid data for this timeperiod\n",
      "\n",
      " GL_TS_MO_WEL234.nc\n",
      "GL_TS_MO_WEL234.nc does not have any valid data for this timeperiod\n",
      "\n",
      " GL_TS_MO_31201.nc\n",
      "GL_TS_MO_31201.nc does not have any valid data for this timeperiod\n",
      "\n",
      " GL_TS_MO_91352.nc\n",
      "GL_TS_MO_91352.nc does not have any valid data for this timeperiod\n",
      "\n",
      " IR_TS_MO_CaboDePalos-coast-buoy.nc\n",
      "IR_TS_MO_CaboDePalos-coast-buoy.nc does not have any valid data for this timeperiod\n"
     ]
    },
    {
     "name": "stderr",
     "output_type": "stream",
     "text": [
      " 96%|█████████▌| 2377/2487 [3:15:11<00:29,  3.72it/s]"
     ]
    },
    {
     "name": "stdout",
     "output_type": "stream",
     "text": [
      "IR_TS_MO_CaboDePalos-coast-buoy.nc does not have any valid data for this timeperiod\n",
      "\n",
      " BO_TS_MO_Kalmarsund.nc\n",
      "BO_TS_MO_Kalmarsund.nc does not have any of the variables ['VHM0', 'VAVH', 'WSPD']\n",
      "\n",
      " NO_TS_MO_ZeebruggeWeatherStation.nc\n",
      "NO_TS_MO_ZeebruggeWeatherStation.nc is too close to land\n",
      "\n",
      " IR_TS_MO_ValenciaI-coast-buoy.nc\n",
      "IR_TS_MO_ValenciaI-coast-buoy.nc does not have any valid data for this timeperiod\n",
      "IR_TS_MO_ValenciaI-coast-buoy.nc does not have any valid data for this timeperiod\n",
      "\n",
      " GL_TS_MO_WEL345.nc\n",
      "GL_TS_MO_WEL345.nc does not have any valid data for this timeperiod\n",
      "\n",
      " GL_WS_MO_51202.nc\n"
     ]
    },
    {
     "name": "stderr",
     "output_type": "stream",
     "text": [
      " 96%|█████████▌| 2381/2487 [3:15:11<00:20,  5.25it/s]"
     ]
    },
    {
     "name": "stdout",
     "output_type": "stream",
     "text": [
      "GL_WS_MO_51202.nc does not have any of the variables ['VHM0', 'VAVH', 'WSPD']\n",
      "\n",
      " IR_TS_MO_CaboDeGata-coast-buoy.nc\n",
      "IR_TS_MO_CaboDeGata-coast-buoy.nc does not have any valid data for this timeperiod\n",
      "IR_TS_MO_CaboDeGata-coast-buoy.nc does not have any valid data for this timeperiod\n",
      "\n",
      " GL_TS_MO_42092.nc\n",
      "POINT(-96.97899627685547 27.766000747680664)\n",
      "30  results found\n"
     ]
    },
    {
     "name": "stderr",
     "output_type": "stream",
     "text": [
      " 96%|█████████▌| 2384/2487 [3:15:19<01:21,  1.26it/s]"
     ]
    },
    {
     "name": "stdout",
     "output_type": "stream",
     "text": [
      "\n",
      " GL_TS_MO_MEDS062.nc\n",
      "GL_TS_MO_MEDS062.nc does not have any valid data for this timeperiod\n",
      "\n",
      " MO_TS_MO_ALGHERO-61213.nc\n",
      "MO_TS_MO_ALGHERO-61213.nc does not have any valid data for this timeperiod\n",
      "\n",
      " GL_WS_MO_45136.nc\n",
      "GL_WS_MO_45136.nc does not have any of the variables ['VHM0', 'VAVH', 'WSPD']\n",
      "\n",
      " GL_WS_MO_6100294.nc\n",
      "GL_WS_MO_6100294.nc does not have any of the variables ['VHM0', 'VAVH', 'WSPD']\n",
      "\n",
      " GL_TS_MO_56006.nc\n",
      "POINT(114.7699966430664 -33.52000045776367)\n",
      "30  results found\n"
     ]
    },
    {
     "name": "stderr",
     "output_type": "stream",
     "text": [
      " 96%|█████████▌| 2387/2487 [3:15:24<01:45,  1.05s/it]"
     ]
    },
    {
     "name": "stdout",
     "output_type": "stream",
     "text": [
      "\n",
      " GL_TS_MO_44066.nc\n",
      "GL_TS_MO_44066.nc does not have any valid data for this timeperiod\n",
      "POINT(-72.64399719238281 39.61800003051758)\n",
      "82  results found\n"
     ]
    },
    {
     "name": "stderr",
     "output_type": "stream",
     "text": [
      " 96%|█████████▌| 2389/2487 [3:15:31<02:35,  1.59s/it]"
     ]
    },
    {
     "name": "stdout",
     "output_type": "stream",
     "text": [
      "\n",
      " GL_TS_MO_6801033.nc\n",
      "GL_TS_MO_6801033.nc does not have any of the variables ['VHM0', 'VAVH', 'WSPD']\n",
      "\n",
      " GL_TS_MO_52074.nc\n",
      "GL_TS_MO_52074.nc does not have any of the variables ['VHM0', 'VAVH', 'WSPD']\n",
      "\n",
      " GL_TS_MO_46147.nc\n",
      "GL_TS_MO_46147.nc does not have any valid data for this timeperiod\n",
      "POINT(-131.22500610351562 51.827999114990234)\n",
      "118  results found\n"
     ]
    },
    {
     "name": "stderr",
     "output_type": "stream",
     "text": [
      " 96%|█████████▌| 2391/2487 [3:15:40<03:33,  2.23s/it]"
     ]
    },
    {
     "name": "stdout",
     "output_type": "stream",
     "text": [
      "\n",
      " NO_TS_MO_FINO2WR.nc\n",
      "NO_TS_MO_FINO2WR.nc does not have any valid data for this timeperiod\n",
      "\n",
      " AR_TS_MO_Groennavigaa-6-7.nc\n",
      "AR_TS_MO_Groennavigaa-6-7.nc does not have any of the variables ['VHM0', 'VAVH', 'WSPD']\n",
      "\n",
      " GL_TS_MO_45004.nc\n",
      "GL_TS_MO_45004.nc does not have any valid data for this timeperiod\n"
     ]
    },
    {
     "name": "stderr",
     "output_type": "stream",
     "text": [
      " 96%|█████████▋| 2394/2487 [3:15:40<02:20,  1.51s/it]"
     ]
    },
    {
     "name": "stdout",
     "output_type": "stream",
     "text": [
      "GL_TS_MO_45004.nc does not have any valid data for this timeperiod\n",
      "\n",
      " GL_TS_MO_61189.nc\n",
      "GL_TS_MO_61189.nc does not have any of the variables ['VHM0', 'VAVH', 'WSPD']\n",
      "\n",
      " GL_WS_MO_6200056.nc\n",
      "GL_WS_MO_6200056.nc does not have any of the variables ['VHM0', 'VAVH', 'WSPD']\n",
      "\n",
      " AR_TS_MO_Drangsnes.nc\n",
      "POINT(-21.137666702270508 65.76983642578125)\n",
      "455  results found\n"
     ]
    },
    {
     "name": "stderr",
     "output_type": "stream",
     "text": [
      " 96%|█████████▋| 2399/2487 [3:15:58<03:22,  2.30s/it]"
     ]
    },
    {
     "name": "stdout",
     "output_type": "stream",
     "text": [
      "\n",
      " GL_TS_MO_46038.nc\n",
      "GL_TS_MO_46038.nc does not have any valid data for this timeperiod\n",
      "GL_TS_MO_46038.nc does not have any valid data for this timeperiod\n",
      "\n",
      " GL_TS_MO_42007.nc\n",
      "GL_TS_MO_42007.nc does not have any valid data for this timeperiod\n",
      "GL_TS_MO_42007.nc does not have any valid data for this timeperiod\n",
      "\n",
      " GL_WS_MO_52211.nc\n",
      "GL_WS_MO_52211.nc does not have any of the variables ['VHM0', 'VAVH', 'WSPD']\n",
      "\n",
      " GL_TS_MO_46138.nc\n",
      "GL_TS_MO_46138.nc does not have any valid data for this timeperiod\n",
      "\n",
      " GL_TS_MO_51002.nc\n",
      "GL_TS_MO_51002.nc does not have any valid data for this timeperiod\n",
      "POINT(-157.74200439453125 17.042999267578125)\n",
      "31  results found\n"
     ]
    },
    {
     "name": "stderr",
     "output_type": "stream",
     "text": [
      " 97%|█████████▋| 2404/2487 [3:16:07<02:36,  1.88s/it]"
     ]
    },
    {
     "name": "stdout",
     "output_type": "stream",
     "text": [
      "\n",
      " BS_TS_MO_Hersones.nc\n",
      "BS_TS_MO_Hersones.nc does not have any valid data for this timeperiod\n",
      "\n",
      " GL_TS_MO_46134.nc\n",
      "GL_TS_MO_46134.nc does not have any valid data for this timeperiod\n",
      "GL_TS_MO_46134.nc does not have any valid data for this timeperiod\n",
      "\n",
      " GL_TS_MO_62448.nc\n",
      "GL_TS_MO_62448.nc does not have any of the variables ['VHM0', 'VAVH', 'WSPD']\n",
      "\n",
      " GL_TS_MO_15001.nc\n",
      "POINT(-10.0 -10.0)\n"
     ]
    },
    {
     "name": "stderr",
     "output_type": "stream",
     "text": [
      " 97%|█████████▋| 2406/2487 [3:16:11<02:40,  1.98s/it]"
     ]
    },
    {
     "name": "stdout",
     "output_type": "stream",
     "text": [
      "0  results found\n",
      "\n",
      " IR_TS_MO_1300131.nc\n",
      "IR_TS_MO_1300131.nc does not have any valid data for this timeperiod\n",
      "POLYGON((-16.649200439453125 27.983400344848633,-16.649200439453125 28.005399703979492,-16.5447998046875 28.005399703979492,-16.5447998046875 27.983400344848633,-16.649200439453125 27.983400344848633))\n",
      "176  results found\n"
     ]
    },
    {
     "name": "stderr",
     "output_type": "stream",
     "text": [
      " 97%|█████████▋| 2408/2487 [3:17:14<12:12,  9.28s/it]"
     ]
    },
    {
     "name": "stdout",
     "output_type": "stream",
     "text": [
      "\n",
      " IR_TS_MO_6101404.nc\n",
      "IR_TS_MO_6101404.nc does not have any valid data for this timeperiod\n",
      "IR_TS_MO_6101404.nc does not have any valid data for this timeperiod\n",
      "IR_TS_MO_6101404.nc does not have any valid data for this timeperiod\n",
      "\n",
      " NO_TS_MO_LTKielCU.nc\n",
      "NO_TS_MO_LTKielCU.nc does not have any of the variables ['VHM0', 'VAVH', 'WSPD']\n",
      "\n",
      " GL_TS_MO_62068.nc\n"
     ]
    },
    {
     "name": "stderr",
     "output_type": "stream",
     "text": [
      " 97%|█████████▋| 2411/2487 [3:17:14<06:38,  5.24s/it]"
     ]
    },
    {
     "name": "stdout",
     "output_type": "stream",
     "text": [
      "GL_TS_MO_62068.nc does not have any valid data for this timeperiod\n",
      "GL_TS_MO_62068.nc does not have any valid data for this timeperiod\n",
      "\n",
      " GL_TS_MO_46124.nc\n",
      "GL_TS_MO_46124.nc does not have any of the variables ['VHM0', 'VAVH', 'WSPD']\n",
      "\n",
      " AR_TS_MO_Telegrafbukta-50-118.nc\n",
      "AR_TS_MO_Telegrafbukta-50-118.nc does not have any of the variables ['VHM0', 'VAVH', 'WSPD']\n",
      "\n",
      " AR_TS_MO_Godalen-6-15.nc\n",
      "AR_TS_MO_Godalen-6-15.nc does not have any of the variables ['VHM0', 'VAVH', 'WSPD']\n",
      "\n",
      " GL_TS_MO_2200298.nc\n",
      "POINT(125.25 34.75)\n"
     ]
    },
    {
     "name": "stderr",
     "output_type": "stream",
     "text": [
      " 97%|█████████▋| 2414/2487 [3:17:19<04:42,  3.86s/it]"
     ]
    },
    {
     "name": "stdout",
     "output_type": "stream",
     "text": [
      "1  results found\n",
      "\n",
      " GL_TS_MO_MEDS135.nc\n",
      "GL_TS_MO_MEDS135.nc does not have any valid data for this timeperiod\n",
      "\n",
      " AR_TS_MO_Bakkestranda-51-123.nc\n",
      "AR_TS_MO_Bakkestranda-51-123.nc does not have any of the variables ['VHM0', 'VAVH', 'WSPD']\n",
      "\n",
      " NO_TS_MO_WaddenEierlandseGat.nc\n",
      "POINT(4.6616668701171875 53.27694320678711)\n",
      "236  results found\n"
     ]
    },
    {
     "name": "stderr",
     "output_type": "stream",
     "text": [
      " 97%|█████████▋| 2417/2487 [3:17:36<05:13,  4.48s/it]"
     ]
    },
    {
     "name": "stdout",
     "output_type": "stream",
     "text": [
      "\n",
      " BO_TS_MO_HanobuktenBS.nc\n",
      "BO_TS_MO_HanobuktenBS.nc does not have any of the variables ['VHM0', 'VAVH', 'WSPD']\n",
      "\n",
      " GL_TS_MO_46146.nc\n",
      "GL_TS_MO_46146.nc does not have any valid data for this timeperiod\n",
      "POINT(-123.72699737548828 49.34000015258789)\n",
      "127  results found\n"
     ]
    },
    {
     "name": "stderr",
     "output_type": "stream",
     "text": [
      " 97%|█████████▋| 2423/2487 [3:17:45<02:49,  2.64s/it]"
     ]
    },
    {
     "name": "stdout",
     "output_type": "stream",
     "text": [
      "\n",
      " GL_TS_MO_MEDS156.nc\n",
      "GL_TS_MO_MEDS156.nc does not have any valid data for this timeperiod\n",
      "\n",
      " GL_TS_MO_6801031.nc\n",
      "GL_TS_MO_6801031.nc does not have any of the variables ['VHM0', 'VAVH', 'WSPD']\n",
      "\n",
      " GL_TS_MO_4600145.nc\n",
      "GL_TS_MO_4600145.nc does not have any valid data for this timeperiod\n",
      "\n",
      " NO_TS_MO_6201051.nc\n",
      "NO_TS_MO_6201051.nc does not have any valid data for this timeperiod\n",
      "\n",
      " GL_TS_MO_T8N170W.nc\n",
      "POINT(-170.0 8.0)\n"
     ]
    },
    {
     "name": "stderr",
     "output_type": "stream",
     "text": [
      " 98%|█████████▊| 2429/2487 [3:17:51<01:35,  1.64s/it]"
     ]
    },
    {
     "name": "stdout",
     "output_type": "stream",
     "text": [
      "0  results found\n",
      "\n",
      " GL_TS_MO_46220.nc\n",
      "GL_TS_MO_46220.nc does not have any valid data for this timeperiod\n",
      "\n",
      " GL_TS_MO_WEL323.nc\n",
      "GL_TS_MO_WEL323.nc does not have any valid data for this timeperiod\n",
      "\n",
      " AR_TS_MO_Gaasodden-51-121.nc\n",
      "AR_TS_MO_Gaasodden-51-121.nc does not have any of the variables ['VHM0', 'VAVH', 'WSPD']\n",
      "\n",
      " GL_WS_MO_41159.nc\n",
      "GL_WS_MO_41159.nc does not have any of the variables ['VHM0', 'VAVH', 'WSPD']\n",
      "\n",
      " GL_WS_MO_32012.nc\n",
      "GL_WS_MO_32012.nc does not have any of the variables ['VHM0', 'VAVH', 'WSPD']\n",
      "\n",
      " GL_TS_MO_MEDS115.nc\n",
      "GL_TS_MO_MEDS115.nc does not have any valid data for this timeperiod\n",
      "\n",
      " GL_TS_MO_62061.nc\n"
     ]
    },
    {
     "name": "stderr",
     "output_type": "stream",
     "text": [
      " 98%|█████████▊| 2432/2487 [3:17:51<01:04,  1.17s/it]"
     ]
    },
    {
     "name": "stdout",
     "output_type": "stream",
     "text": [
      "GL_TS_MO_62061.nc does not have any valid data for this timeperiod\n",
      "GL_TS_MO_62061.nc does not have any valid data for this timeperiod\n",
      "\n",
      " BO_TS_MO_Vinga.nc\n",
      "BO_TS_MO_Vinga.nc does not have any valid data for this timeperiod\n",
      "\n",
      " GL_TS_MO_91365.nc\n",
      "GL_TS_MO_91365.nc does not have any valid data for this timeperiod\n",
      "\n",
      " GL_TS_MO_44004.nc\n",
      "GL_TS_MO_44004.nc does not have any valid data for this timeperiod\n",
      "GL_TS_MO_44004.nc does not have any valid data for this timeperiod\n",
      "\n",
      " GL_TS_MO_46071.nc\n"
     ]
    },
    {
     "name": "stderr",
     "output_type": "stream",
     "text": [
      " 98%|█████████▊| 2435/2487 [3:17:51<00:43,  1.20it/s]"
     ]
    },
    {
     "name": "stdout",
     "output_type": "stream",
     "text": [
      "GL_TS_MO_46071.nc does not have any valid data for this timeperiod\n",
      "GL_TS_MO_46071.nc does not have any valid data for this timeperiod\n",
      "\n",
      " GL_TS_MO_46023.nc\n",
      "GL_TS_MO_46023.nc does not have any valid data for this timeperiod\n",
      "GL_TS_MO_46023.nc does not have any valid data for this timeperiod\n",
      "\n",
      " GL_TS_MO_46012.nc\n",
      "GL_TS_MO_46012.nc does not have any valid data for this timeperiod\n",
      "POINT(-122.88099670410156 37.35599899291992)\n",
      "124  results found\n"
     ]
    },
    {
     "name": "stderr",
     "output_type": "stream",
     "text": [
      " 98%|█████████▊| 2437/2487 [3:18:02<01:29,  1.79s/it]"
     ]
    },
    {
     "name": "stdout",
     "output_type": "stream",
     "text": [
      "\n",
      " BS_TS_MO_URKA.nc\n",
      "POINT(37.28329849243164 44.88330078125)\n",
      "177  results found\n"
     ]
    },
    {
     "name": "stderr",
     "output_type": "stream",
     "text": [
      " 98%|█████████▊| 2438/2487 [3:18:12<02:28,  3.04s/it]"
     ]
    },
    {
     "name": "stdout",
     "output_type": "stream",
     "text": [
      "\n",
      " NO_TS_MO_6201010.nc\n",
      "NO_TS_MO_6201010.nc does not have any valid data for this timeperiod\n",
      "\n",
      " BS_TS_MO_SPOT0773.nc\n",
      "POLYGON((27.90999984741211 42.957698822021484,27.90999984741211 42.959598541259766,27.908100128173828 42.959598541259766,27.908100128173828 42.957698822021484,27.90999984741211 42.957698822021484))\n",
      "177  results found\n"
     ]
    },
    {
     "name": "stderr",
     "output_type": "stream",
     "text": [
      " 98%|█████████▊| 2440/2487 [3:21:47<25:20, 32.36s/it]"
     ]
    },
    {
     "name": "stdout",
     "output_type": "stream",
     "text": [
      "\n",
      " GL_TS_MO_51211.nc\n",
      "POINT(-157.95899963378906 21.297000885009766)\n",
      "117  results found\n"
     ]
    },
    {
     "name": "stderr",
     "output_type": "stream",
     "text": [
      " 98%|█████████▊| 2445/2487 [3:21:58<10:18, 14.72s/it]"
     ]
    },
    {
     "name": "stdout",
     "output_type": "stream",
     "text": [
      "\n",
      " GL_TS_MO_41057.nc\n",
      "GL_TS_MO_41057.nc does not have any valid data for this timeperiod\n",
      "\n",
      " GL_WS_MO_41022.nc\n",
      "GL_WS_MO_41022.nc does not have any of the variables ['VHM0', 'VAVH', 'WSPD']\n",
      "\n",
      " GL_TS_MO_46265.nc\n",
      "GL_TS_MO_46265.nc does not have any valid data for this timeperiod\n",
      "\n",
      " GL_TS_MO_MEDS123.nc\n",
      "GL_TS_MO_MEDS123.nc does not have any valid data for this timeperiod\n",
      "\n",
      " GL_TS_MO_42090.nc\n",
      "GL_TS_MO_42090.nc does not have any valid data for this timeperiod\n",
      "\n",
      " GL_TS_MO_MEDS140.nc\n",
      "GL_TS_MO_MEDS140.nc does not have any valid data for this timeperiod\n",
      "\n",
      " GL_TS_MO_63005.nc\n",
      "GL_TS_MO_63005.nc does not have any of the variables ['VHM0', 'VAVH', 'WSPD']\n",
      "\n",
      " GL_TS_MO_23102.nc\n"
     ]
    },
    {
     "name": "stderr",
     "output_type": "stream",
     "text": [
      " 98%|█████████▊| 2449/2487 [3:21:58<05:29,  8.68s/it]"
     ]
    },
    {
     "name": "stdout",
     "output_type": "stream",
     "text": [
      "GL_TS_MO_23102.nc does not have any valid data for this timeperiod\n",
      "\n",
      " IR_TS_MO_6200094.nc\n",
      "IR_TS_MO_6200094.nc does not have any valid data for this timeperiod\n",
      "POINT(-6.704336166381836 51.690425872802734)\n",
      "227  results found\n",
      "\n",
      " GL_TS_MO_44131.nc\n",
      "GL_TS_MO_44131.nc does not have any valid data for this timeperiod\n",
      "GL_TS_MO_44131.nc does not have any valid data for this timeperiod\n",
      "\n",
      " IR_TS_MO_6200085.nc\n",
      "IR_TS_MO_6200085.nc does not have any valid data for this timeperiod\n",
      "POLYGON((-6.966599941253662 36.4838981628418,-6.966599941253662 36.492698669433594,-6.953700065612793 36.492698669433594,-6.953700065612793 36.4838981628418,-6.966599941253662 36.4838981628418))\n"
     ]
    },
    {
     "name": "stderr",
     "output_type": "stream",
     "text": [
      " 98%|█████████▊| 2449/2487 [3:22:16<05:29,  8.68s/it]"
     ]
    },
    {
     "name": "stdout",
     "output_type": "stream",
     "text": [
      "170  results found\n"
     ]
    },
    {
     "name": "stderr",
     "output_type": "stream",
     "text": [
      " 99%|█████████▊| 2455/2487 [3:23:28<05:37, 10.54s/it]"
     ]
    },
    {
     "name": "stdout",
     "output_type": "stream",
     "text": [
      "\n",
      " GL_TS_MO_42364.nc\n",
      "GL_TS_MO_42364.nc does not have any valid data for this timeperiod\n",
      "\n",
      " GL_WS_MO_46042.nc\n",
      "GL_WS_MO_46042.nc does not have any of the variables ['VHM0', 'VAVH', 'WSPD']\n",
      "\n",
      " GL_WS_MO_41120.nc\n",
      "GL_WS_MO_41120.nc does not have any of the variables ['VHM0', 'VAVH', 'WSPD']\n",
      "\n",
      " GL_TS_MO_42065.nc\n",
      "GL_TS_MO_42065.nc does not have any valid data for this timeperiod\n",
      "GL_TS_MO_42065.nc does not have any valid data for this timeperiod\n",
      "\n",
      " GL_TS_MO_61015.nc\n",
      "GL_TS_MO_61015.nc does not have any of the variables ['VHM0', 'VAVH', 'WSPD']\n",
      "\n",
      " GL_WS_MO_46073.nc\n",
      "GL_WS_MO_46073.nc does not have any of the variables ['VHM0', 'VAVH', 'WSPD']\n",
      "\n",
      " GL_TS_MO_6801030.nc\n",
      "GL_TS_MO_6801030.nc does not have any of the variables ['VHM0', 'VAVH', 'WSPD']\n",
      "\n",
      " BS_TS_MO_WAVEB02.nc\n",
      "POINT(27.55620002746582 42.51169967651367)\n",
      "237  results found\n"
     ]
    },
    {
     "name": "stderr",
     "output_type": "stream",
     "text": [
      " 99%|█████████▉| 2460/2487 [3:23:46<03:26,  7.65s/it]"
     ]
    },
    {
     "name": "stdout",
     "output_type": "stream",
     "text": [
      "\n",
      " GL_TS_MO_5501000.nc\n",
      "GL_TS_MO_5501000.nc does not have any of the variables ['VHM0', 'VAVH', 'WSPD']\n",
      "\n",
      " GL_TS_MO_4401621.nc\n",
      "GL_TS_MO_4401621.nc does not have any of the variables ['VHM0', 'VAVH', 'WSPD']\n",
      "\n",
      " IR_TS_MO_AMETSBerthCWaveBuoy.nc\n",
      "IR_TS_MO_AMETSBerthCWaveBuoy.nc does not have any valid data for this timeperiod\n",
      "\n",
      " GL_TS_MO_46258.nc\n",
      "POINT(-117.5009994506836 32.75199890136719)\n",
      "115  results found\n"
     ]
    },
    {
     "name": "stderr",
     "output_type": "stream",
     "text": [
      " 99%|█████████▉| 2464/2487 [3:23:59<02:22,  6.19s/it]"
     ]
    },
    {
     "name": "stdout",
     "output_type": "stream",
     "text": [
      "\n",
      " GL_WS_MO_51212.nc\n",
      "GL_WS_MO_51212.nc does not have any of the variables ['VHM0', 'VAVH', 'WSPD']\n",
      "\n",
      " GL_WS_MO_46145.nc\n",
      "GL_WS_MO_46145.nc does not have any of the variables ['VHM0', 'VAVH', 'WSPD']\n",
      "\n",
      " NO_TS_MO_NOR.nc\n",
      "POINT(8.168054580688477 53.834999084472656)\n",
      "232  results found\n"
     ]
    },
    {
     "name": "stderr",
     "output_type": "stream",
     "text": [
      " 99%|█████████▉| 2467/2487 [3:24:37<02:37,  7.88s/it]"
     ]
    },
    {
     "name": "stdout",
     "output_type": "stream",
     "text": [
      "\n",
      " MO_TS_MO_LASPEZIA-61219.nc\n",
      "MO_TS_MO_LASPEZIA-61219.nc does not have any valid data for this timeperiod\n",
      "\n",
      " BO_TS_MO_PoriKaijakari.nc\n",
      "BO_TS_MO_PoriKaijakari.nc does not have any of the variables ['VHM0', 'VAVH', 'WSPD']\n",
      "\n",
      " AR_TS_MO_Rambekkvika-32-76.nc\n",
      "AR_TS_MO_Rambekkvika-32-76.nc does not have any of the variables ['VHM0', 'VAVH', 'WSPD']\n",
      "\n",
      " GL_TS_MO_46214.nc\n",
      "POINT(-123.46299743652344 37.9370002746582)\n",
      "131  results found\n"
     ]
    },
    {
     "name": "stderr",
     "output_type": "stream",
     "text": [
      " 99%|█████████▉| 2471/2487 [3:24:49<01:40,  6.27s/it]"
     ]
    },
    {
     "name": "stdout",
     "output_type": "stream",
     "text": [
      "\n",
      " AR_TS_MO_Grimsey.nc\n",
      "AR_TS_MO_Grimsey.nc does not have any of the variables ['VHM0', 'VAVH', 'WSPD']\n",
      "\n",
      " GL_TS_MO_41038.nc\n",
      "POINT(-77.71499633789062 34.14099884033203)\n",
      "57  results found\n"
     ]
    },
    {
     "name": "stderr",
     "output_type": "stream",
     "text": [
      "100%|█████████▉| 2477/2487 [3:24:57<00:38,  3.81s/it]"
     ]
    },
    {
     "name": "stdout",
     "output_type": "stream",
     "text": [
      "\n",
      " GL_WS_MO_46259.nc\n",
      "GL_WS_MO_46259.nc does not have any of the variables ['VHM0', 'VAVH', 'WSPD']\n",
      "\n",
      " GL_TS_MO_32487.nc\n",
      "GL_TS_MO_32487.nc does not have any valid data for this timeperiod\n",
      "\n",
      " NO_TS_MO_FolkestoneMET.nc\n",
      "NO_TS_MO_FolkestoneMET.nc does not have any valid data for this timeperiod\n",
      "\n",
      " GL_TS_MO_44176.nc\n",
      "GL_TS_MO_44176.nc does not have any valid data for this timeperiod\n",
      "\n",
      " GL_TS_MO_44092.nc\n",
      "GL_TS_MO_44092.nc does not have any valid data for this timeperiod\n",
      "\n",
      " GL_WS_MO_46213.nc\n",
      "GL_WS_MO_46213.nc does not have any of the variables ['VHM0', 'VAVH', 'WSPD']\n",
      "\n",
      " GL_WS_MO_45007.nc\n",
      "GL_WS_MO_45007.nc does not have any of the variables ['VHM0', 'VAVH', 'WSPD']\n",
      "\n",
      " BO_TS_MO_FinskaEnskar.nc\n",
      "BO_TS_MO_FinskaEnskar.nc does not have any valid data for this timeperiod\n",
      "\n",
      " GL_WS_MO_41048.nc\n"
     ]
    },
    {
     "name": "stderr",
     "output_type": "stream",
     "text": [
      "100%|█████████▉| 2486/2487 [3:24:57<00:01,  1.64s/it]"
     ]
    },
    {
     "name": "stdout",
     "output_type": "stream",
     "text": [
      "GL_WS_MO_41048.nc does not have any of the variables ['VHM0', 'VAVH', 'WSPD']\n",
      "\n",
      " AR_TS_MO_Toke-Brygge-30-81.nc\n",
      "AR_TS_MO_Toke-Brygge-30-81.nc does not have any of the variables ['VHM0', 'VAVH', 'WSPD']\n",
      "\n",
      " BS_TS_MO_EUXRo02.nc\n",
      "BS_TS_MO_EUXRo02.nc does not have any valid data for this timeperiod\n",
      "\n",
      " AR_TS_MO_BSO3.nc\n",
      "AR_TS_MO_BSO3.nc does not have any of the variables ['VHM0', 'VAVH', 'WSPD']\n",
      "\n",
      " GL_TS_MO_CampbellIsland.nc\n",
      "GL_TS_MO_CampbellIsland.nc does not have any valid data for this timeperiod\n",
      "GL_TS_MO_CampbellIsland.nc does not have any valid data for this timeperiod\n",
      "\n",
      " NO_TS_MO_Europlatform2.nc\n",
      "POINT(3.2763888835906982 51.99861145019531)\n",
      "232  results found\n"
     ]
    },
    {
     "name": "stderr",
     "output_type": "stream",
     "text": [
      "100%|██████████| 2487/2487 [3:25:17<00:00,  4.95s/it]\n"
     ]
    }
   ],
   "source": [
    "data_dir = '/data/exjobb/sarssw/bouy/INSITU_GLO_PHYBGCWAV_DISCRETE_MYNRT_013_030/MO'\n",
    "start_date = '2021-01-01'\n",
    "end_date = '2021-12-31'\n",
    "variables = ['VHM0', 'VAVH', 'WSPD']#['VHM0', 'VAVH', 'WSPD']\n",
    "max_time_diff_s = 60*60\n",
    "\n",
    "write_folder = './1h_survey'\n",
    "result_df_fn = 'result_df'\n",
    "kml_pinmap_fn = 'kml_pinmap'\n",
    "\n",
    "#Dataframe where the results is saved, automatically created in search_file\n",
    "result_df = None\n",
    "\n",
    "#Load and create land multipolygon, buffered (expanded) to limit distance to shore\n",
    "land_list = list(cartopy.feature.NaturalEarthFeature('physical', 'land', '50m').geometries())\n",
    "polygon_list = []\n",
    "for p  in land_list:\n",
    "    if type(p) == MultiPolygon:\n",
    "        polygon_list.extend(p.geoms)\n",
    "    else:\n",
    "        polygon_list.append(p)\n",
    "land_multipolygon = MultiPolygon([p.buffer(0.01) for p in polygon_list])\n",
    "\n",
    "# Create search_file function with only necessary parameters for the file loop below\n",
    "def search_file_fixed_params(file, result_df):\n",
    "    return search_file(file, data_dir, start_date, end_date, variables, max_time_diff_s, result_df, land_multipolygon)\n",
    "\n",
    "files = os.listdir(data_dir)\n",
    "#print(files)\n",
    "#TODO reset to all files\n",
    "\"\"\"\n",
    "files = ['GL_TS_MO_23014.nc', 'GL_TS_MO_13010.nc',\n",
    "       'IR_TS_MO_Tenerife-coast-buoy.nc', 'GL_TS_MO_23009.nc',\n",
    "       'IR_TS_MO_Malaga-coast-buoy.nc', 'GL_TS_MO_55018.nc',\n",
    "       'GL_TS_MO_55036.nc', 'GL_TS_MO_1500008.nc', 'GL_TS_MO_4100300.nc',\n",
    "       'GL_TS_MO_55020.nc', 'MO_TS_MO_NADR-S1.nc', 'GL_TS_MO_55032.nc',\n",
    "       'GL_TS_MO_55029.nc', 'BO_TS_MO_Norrbyn.nc', 'GL_TS_MO_55022.nc',\n",
    "       'GL_TS_MO_55033.nc', 'GL_TS_MO_55046.nc', 'GL_TS_MO_55017.nc',\n",
    "       'GL_TS_MO_41121.nc', 'GL_TS_MO_31004.nc', 'GL_TS_MO_55027.nc',\n",
    "       'GL_TS_MO_55045.nc', 'GL_TS_MO_1500009.nc', 'GL_TS_MO_2300453.nc',\n",
    "       'GL_TS_MO_55028.nc', 'GL_TS_MO_55037.nc', 'GL_TS_MO_55030.nc',\n",
    "       'GL_TS_MO_23016.nc', 'GL_TS_MO_53040.nc', 'GL_TS_MO_14041.nc',\n",
    "       'GL_TS_MO_2300452.nc', 'GL_TS_MO_2300091.nc', 'GL_TS_MO_23013.nc',\n",
    "       'GL_TS_MO_55038.nc', 'GL_TS_MO_2300454.nc', 'GL_TS_MO_56005.nc',\n",
    "       'GL_TS_MO_31003.nc', 'GL_TS_MO_4800400.nc', 'GL_TS_MO_52121.nc',\n",
    "       'GL_TS_MO_2300451.nc', 'GL_TS_MO_31005.nc', 'GL_TS_MO_52087.nc',\n",
    "       'GL_TS_MO_15002.nc', 'GL_TS_MO_2300497.nc', 'GL_TS_MO_55024.nc']\n",
    "\"\"\"\n",
    "#files = ['BO_TS_MO_Norrbyn.nc']\n",
    "file_filter = [\n",
    "    'GL_TS_MO_41121.nc', #Flips longitude sign in the middle of the data, from 66 to -66???! resutlts in asf search with over 7000 matches.\n",
    "]\n",
    "\n",
    "for file in tqdm(set(files).difference(file_filter)):\n",
    "    print('\\n',file)\n",
    "    result_df = search_file_fixed_params(file, result_df)\n",
    "\n",
    "#Conditionally creates the folder for the result\n",
    "os.makedirs(write_folder, exist_ok=True)\n",
    "\n",
    "with open(os.path.join(write_folder, result_df_fn),'wb') as f_w:\n",
    "    pickle.dump(result_df,f_w)\n"
   ]
  },
  {
   "cell_type": "code",
   "execution_count": 5,
   "id": "3afb8bd7",
   "metadata": {
    "collapsed": true
   },
   "outputs": [
    {
     "data": {
      "text/html": [
       "<div>\n",
       "<style scoped>\n",
       "    .dataframe tbody tr th:only-of-type {\n",
       "        vertical-align: middle;\n",
       "    }\n",
       "\n",
       "    .dataframe tbody tr th {\n",
       "        vertical-align: top;\n",
       "    }\n",
       "\n",
       "    .dataframe thead th {\n",
       "        text-align: right;\n",
       "    }\n",
       "</style>\n",
       "<table border=\"1\" class=\"dataframe\">\n",
       "  <thead>\n",
       "    <tr style=\"text-align: right;\">\n",
       "      <th></th>\n",
       "      <th>bouy_file_name</th>\n",
       "      <th>bouy_longitude</th>\n",
       "      <th>bouy_latitude</th>\n",
       "      <th>bouy_time</th>\n",
       "      <th>bouy_variable_name</th>\n",
       "      <th>bouy_variable_value</th>\n",
       "      <th>sar_url</th>\n",
       "      <th>sar_mode</th>\n",
       "      <th>sar_polarization</th>\n",
       "      <th>sar_platform</th>\n",
       "      <th>sar_start_time</th>\n",
       "      <th>sar_stop_time</th>\n",
       "      <th>sar_coordinates</th>\n",
       "    </tr>\n",
       "  </thead>\n",
       "  <tbody>\n",
       "    <tr>\n",
       "      <th>0</th>\n",
       "      <td>GL_TS_MO_41056.nc</td>\n",
       "      <td>-65.463997</td>\n",
       "      <td>18.261000</td>\n",
       "      <td>2021-12-29 10:09:59.999999744</td>\n",
       "      <td>WSPD</td>\n",
       "      <td>6.799</td>\n",
       "      <td>https://datapool.asf.alaska.edu/GRD_HD/SA/S1A_...</td>\n",
       "      <td>IW</td>\n",
       "      <td>[VV, VH]</td>\n",
       "      <td>Sentinel-1A</td>\n",
       "      <td>2021-12-29 10:14:46</td>\n",
       "      <td>2021-12-29 10:15:11</td>\n",
       "      <td>[[-64.408401, 17.459696], [-64.094124, 18.9706...</td>\n",
       "    </tr>\n",
       "    <tr>\n",
       "      <th>1</th>\n",
       "      <td>GL_TS_MO_41056.nc</td>\n",
       "      <td>-65.463997</td>\n",
       "      <td>18.261000</td>\n",
       "      <td>2021-12-19 22:30:00.000000000</td>\n",
       "      <td>WSPD</td>\n",
       "      <td>7.799</td>\n",
       "      <td>https://datapool.asf.alaska.edu/GRD_HD/SA/S1A_...</td>\n",
       "      <td>IW</td>\n",
       "      <td>[VV, VH]</td>\n",
       "      <td>Sentinel-1A</td>\n",
       "      <td>2021-12-19 22:28:35</td>\n",
       "      <td>2021-12-19 22:29:00</td>\n",
       "      <td>[[-66.193626, 18.813972], [-65.879509, 17.3031...</td>\n",
       "    </tr>\n",
       "    <tr>\n",
       "      <th>2</th>\n",
       "      <td>GL_TS_MO_41056.nc</td>\n",
       "      <td>-65.463997</td>\n",
       "      <td>18.261000</td>\n",
       "      <td>2021-12-17 10:09:59.999999744</td>\n",
       "      <td>WSPD</td>\n",
       "      <td>7.299</td>\n",
       "      <td>https://datapool.asf.alaska.edu/GRD_HD/SA/S1A_...</td>\n",
       "      <td>IW</td>\n",
       "      <td>[VV, VH]</td>\n",
       "      <td>Sentinel-1A</td>\n",
       "      <td>2021-12-17 10:14:47</td>\n",
       "      <td>2021-12-17 10:15:12</td>\n",
       "      <td>[[-64.40966, 17.459682], [-64.095413, 18.97060...</td>\n",
       "    </tr>\n",
       "    <tr>\n",
       "      <th>3</th>\n",
       "      <td>GL_TS_MO_41056.nc</td>\n",
       "      <td>-65.463997</td>\n",
       "      <td>18.261000</td>\n",
       "      <td>2021-12-07 22:30:00.000000000</td>\n",
       "      <td>WSPD</td>\n",
       "      <td>7.399</td>\n",
       "      <td>https://datapool.asf.alaska.edu/GRD_HD/SA/S1A_...</td>\n",
       "      <td>IW</td>\n",
       "      <td>[VV, VH]</td>\n",
       "      <td>Sentinel-1A</td>\n",
       "      <td>2021-12-07 22:28:35</td>\n",
       "      <td>2021-12-07 22:29:00</td>\n",
       "      <td>[[-66.194122, 18.814003], [-65.879982, 17.3031...</td>\n",
       "    </tr>\n",
       "    <tr>\n",
       "      <th>4</th>\n",
       "      <td>GL_TS_MO_41056.nc</td>\n",
       "      <td>-65.463997</td>\n",
       "      <td>18.261000</td>\n",
       "      <td>2021-12-05 10:09:59.999999744</td>\n",
       "      <td>WSPD</td>\n",
       "      <td>6.299</td>\n",
       "      <td>https://datapool.asf.alaska.edu/GRD_HD/SA/S1A_...</td>\n",
       "      <td>IW</td>\n",
       "      <td>[VV, VH]</td>\n",
       "      <td>Sentinel-1A</td>\n",
       "      <td>2021-12-05 10:14:47</td>\n",
       "      <td>2021-12-05 10:15:12</td>\n",
       "      <td>[[-64.409782, 17.459616], [-64.095543, 18.9705...</td>\n",
       "    </tr>\n",
       "    <tr>\n",
       "      <th>...</th>\n",
       "      <td>...</td>\n",
       "      <td>...</td>\n",
       "      <td>...</td>\n",
       "      <td>...</td>\n",
       "      <td>...</td>\n",
       "      <td>...</td>\n",
       "      <td>...</td>\n",
       "      <td>...</td>\n",
       "      <td>...</td>\n",
       "      <td>...</td>\n",
       "      <td>...</td>\n",
       "      <td>...</td>\n",
       "      <td>...</td>\n",
       "    </tr>\n",
       "    <tr>\n",
       "      <th>67648</th>\n",
       "      <td>NO_TS_MO_Europlatform2.nc</td>\n",
       "      <td>3.276389</td>\n",
       "      <td>51.998611</td>\n",
       "      <td>2021-01-08 06:10:00.000000000</td>\n",
       "      <td>VAVH</td>\n",
       "      <td>1.470</td>\n",
       "      <td>https://datapool.asf.alaska.edu/GRD_HD/SB/S1B_...</td>\n",
       "      <td>IW</td>\n",
       "      <td>[VV, VH]</td>\n",
       "      <td>Sentinel-1B</td>\n",
       "      <td>2021-01-08 06:05:54</td>\n",
       "      <td>2021-01-08 06:06:19</td>\n",
       "      <td>[[3.625535, 51.564022], [4.13135, 53.056099], ...</td>\n",
       "    </tr>\n",
       "    <tr>\n",
       "      <th>67649</th>\n",
       "      <td>NO_TS_MO_Europlatform2.nc</td>\n",
       "      <td>3.276389</td>\n",
       "      <td>51.998611</td>\n",
       "      <td>2021-01-06 17:30:00.000000000</td>\n",
       "      <td>VAVH</td>\n",
       "      <td>1.280</td>\n",
       "      <td>https://datapool.asf.alaska.edu/GRD_HD/SB/S1B_...</td>\n",
       "      <td>IW</td>\n",
       "      <td>[VV, VH]</td>\n",
       "      <td>Sentinel-1B</td>\n",
       "      <td>2021-01-06 17:32:29</td>\n",
       "      <td>2021-01-06 17:32:54</td>\n",
       "      <td>[[1.747713, 51.907463], [2.236964, 50.414387],...</td>\n",
       "    </tr>\n",
       "    <tr>\n",
       "      <th>67650</th>\n",
       "      <td>NO_TS_MO_Europlatform2.nc</td>\n",
       "      <td>3.276389</td>\n",
       "      <td>51.998611</td>\n",
       "      <td>2021-01-05 17:39:59.999999744</td>\n",
       "      <td>VAVH</td>\n",
       "      <td>1.820</td>\n",
       "      <td>https://datapool.asf.alaska.edu/GRD_HD/SA/S1A_...</td>\n",
       "      <td>IW</td>\n",
       "      <td>[VV, VH]</td>\n",
       "      <td>Sentinel-1A</td>\n",
       "      <td>2021-01-05 17:41:27</td>\n",
       "      <td>2021-01-05 17:41:52</td>\n",
       "      <td>[[-0.343658, 52.013187], [0.143647, 50.519848]...</td>\n",
       "    </tr>\n",
       "    <tr>\n",
       "      <th>67651</th>\n",
       "      <td>NO_TS_MO_Europlatform2.nc</td>\n",
       "      <td>3.276389</td>\n",
       "      <td>51.998611</td>\n",
       "      <td>2021-01-03 06:00:00.000000000</td>\n",
       "      <td>VAVH</td>\n",
       "      <td>0.820</td>\n",
       "      <td>https://datapool.asf.alaska.edu/GRD_HD/SB/S1B_...</td>\n",
       "      <td>IW</td>\n",
       "      <td>[VV, VH]</td>\n",
       "      <td>Sentinel-1B</td>\n",
       "      <td>2021-01-03 05:58:01</td>\n",
       "      <td>2021-01-03 05:58:26</td>\n",
       "      <td>[[5.282145, 50.341362], [5.773809, 51.834118],...</td>\n",
       "    </tr>\n",
       "    <tr>\n",
       "      <th>67652</th>\n",
       "      <td>NO_TS_MO_Europlatform2.nc</td>\n",
       "      <td>3.276389</td>\n",
       "      <td>51.998611</td>\n",
       "      <td>2021-01-02 06:10:00.000000000</td>\n",
       "      <td>VAVH</td>\n",
       "      <td>0.970</td>\n",
       "      <td>https://datapool.asf.alaska.edu/GRD_HD/SA/S1A_...</td>\n",
       "      <td>IW</td>\n",
       "      <td>[VV, VH]</td>\n",
       "      <td>Sentinel-1A</td>\n",
       "      <td>2021-01-02 06:06:41</td>\n",
       "      <td>2021-01-02 06:07:06</td>\n",
       "      <td>[[3.497958, 51.225922], [3.998028, 52.718288],...</td>\n",
       "    </tr>\n",
       "  </tbody>\n",
       "</table>\n",
       "<p>67653 rows × 13 columns</p>\n",
       "</div>"
      ],
      "text/plain": [
       "                  bouy_file_name  bouy_longitude  bouy_latitude  \\\n",
       "0              GL_TS_MO_41056.nc      -65.463997      18.261000   \n",
       "1              GL_TS_MO_41056.nc      -65.463997      18.261000   \n",
       "2              GL_TS_MO_41056.nc      -65.463997      18.261000   \n",
       "3              GL_TS_MO_41056.nc      -65.463997      18.261000   \n",
       "4              GL_TS_MO_41056.nc      -65.463997      18.261000   \n",
       "...                          ...             ...            ...   \n",
       "67648  NO_TS_MO_Europlatform2.nc        3.276389      51.998611   \n",
       "67649  NO_TS_MO_Europlatform2.nc        3.276389      51.998611   \n",
       "67650  NO_TS_MO_Europlatform2.nc        3.276389      51.998611   \n",
       "67651  NO_TS_MO_Europlatform2.nc        3.276389      51.998611   \n",
       "67652  NO_TS_MO_Europlatform2.nc        3.276389      51.998611   \n",
       "\n",
       "                          bouy_time bouy_variable_name  bouy_variable_value  \\\n",
       "0     2021-12-29 10:09:59.999999744               WSPD                6.799   \n",
       "1     2021-12-19 22:30:00.000000000               WSPD                7.799   \n",
       "2     2021-12-17 10:09:59.999999744               WSPD                7.299   \n",
       "3     2021-12-07 22:30:00.000000000               WSPD                7.399   \n",
       "4     2021-12-05 10:09:59.999999744               WSPD                6.299   \n",
       "...                             ...                ...                  ...   \n",
       "67648 2021-01-08 06:10:00.000000000               VAVH                1.470   \n",
       "67649 2021-01-06 17:30:00.000000000               VAVH                1.280   \n",
       "67650 2021-01-05 17:39:59.999999744               VAVH                1.820   \n",
       "67651 2021-01-03 06:00:00.000000000               VAVH                0.820   \n",
       "67652 2021-01-02 06:10:00.000000000               VAVH                0.970   \n",
       "\n",
       "                                                 sar_url sar_mode  \\\n",
       "0      https://datapool.asf.alaska.edu/GRD_HD/SA/S1A_...       IW   \n",
       "1      https://datapool.asf.alaska.edu/GRD_HD/SA/S1A_...       IW   \n",
       "2      https://datapool.asf.alaska.edu/GRD_HD/SA/S1A_...       IW   \n",
       "3      https://datapool.asf.alaska.edu/GRD_HD/SA/S1A_...       IW   \n",
       "4      https://datapool.asf.alaska.edu/GRD_HD/SA/S1A_...       IW   \n",
       "...                                                  ...      ...   \n",
       "67648  https://datapool.asf.alaska.edu/GRD_HD/SB/S1B_...       IW   \n",
       "67649  https://datapool.asf.alaska.edu/GRD_HD/SB/S1B_...       IW   \n",
       "67650  https://datapool.asf.alaska.edu/GRD_HD/SA/S1A_...       IW   \n",
       "67651  https://datapool.asf.alaska.edu/GRD_HD/SB/S1B_...       IW   \n",
       "67652  https://datapool.asf.alaska.edu/GRD_HD/SA/S1A_...       IW   \n",
       "\n",
       "      sar_polarization sar_platform      sar_start_time       sar_stop_time  \\\n",
       "0             [VV, VH]  Sentinel-1A 2021-12-29 10:14:46 2021-12-29 10:15:11   \n",
       "1             [VV, VH]  Sentinel-1A 2021-12-19 22:28:35 2021-12-19 22:29:00   \n",
       "2             [VV, VH]  Sentinel-1A 2021-12-17 10:14:47 2021-12-17 10:15:12   \n",
       "3             [VV, VH]  Sentinel-1A 2021-12-07 22:28:35 2021-12-07 22:29:00   \n",
       "4             [VV, VH]  Sentinel-1A 2021-12-05 10:14:47 2021-12-05 10:15:12   \n",
       "...                ...          ...                 ...                 ...   \n",
       "67648         [VV, VH]  Sentinel-1B 2021-01-08 06:05:54 2021-01-08 06:06:19   \n",
       "67649         [VV, VH]  Sentinel-1B 2021-01-06 17:32:29 2021-01-06 17:32:54   \n",
       "67650         [VV, VH]  Sentinel-1A 2021-01-05 17:41:27 2021-01-05 17:41:52   \n",
       "67651         [VV, VH]  Sentinel-1B 2021-01-03 05:58:01 2021-01-03 05:58:26   \n",
       "67652         [VV, VH]  Sentinel-1A 2021-01-02 06:06:41 2021-01-02 06:07:06   \n",
       "\n",
       "                                         sar_coordinates  \n",
       "0      [[-64.408401, 17.459696], [-64.094124, 18.9706...  \n",
       "1      [[-66.193626, 18.813972], [-65.879509, 17.3031...  \n",
       "2      [[-64.40966, 17.459682], [-64.095413, 18.97060...  \n",
       "3      [[-66.194122, 18.814003], [-65.879982, 17.3031...  \n",
       "4      [[-64.409782, 17.459616], [-64.095543, 18.9705...  \n",
       "...                                                  ...  \n",
       "67648  [[3.625535, 51.564022], [4.13135, 53.056099], ...  \n",
       "67649  [[1.747713, 51.907463], [2.236964, 50.414387],...  \n",
       "67650  [[-0.343658, 52.013187], [0.143647, 50.519848]...  \n",
       "67651  [[5.282145, 50.341362], [5.773809, 51.834118],...  \n",
       "67652  [[3.497958, 51.225922], [3.998028, 52.718288],...  \n",
       "\n",
       "[67653 rows x 13 columns]"
      ]
     },
     "execution_count": 5,
     "metadata": {},
     "output_type": "execute_result"
    }
   ],
   "source": [
    "result_df"
   ]
  },
  {
   "cell_type": "code",
   "execution_count": 6,
   "id": "34afc4fa",
   "metadata": {
    "collapsed": true
   },
   "outputs": [],
   "source": [
    "#Save KML pin maps, one for each variable\n",
    "\n",
    "#Total number of datapoints per variable type\n",
    "var_total = result_df['bouy_variable_name'].value_counts()\n",
    " \n",
    "#pandas series for count of unique variable name, file name pairs\n",
    "var_file_count = list(result_df.value_counts(subset=['bouy_variable_name', 'bouy_file_name']).items())\n",
    "\n",
    "#dataframe for coordinates of unique variable name, file name pairs\n",
    "var_file_coord = (result_df.groupby(['bouy_variable_name', 'bouy_file_name'])[['bouy_longitude', 'bouy_latitude']].first())\n",
    "\n",
    "\n",
    "#Create separate kml maps for each variable name\n",
    "KML_fldrs = {}\n",
    "for var_name in np.unique(result_df['bouy_variable_name']):\n",
    "    KML_fldrs[var_name] = KML.Folder(\n",
    "        KML.name(var_name + \" \" + write_folder[write_folder.find('/')+1:]),\n",
    "        KML.description('Total datapoints: ' + str(var_total[var_name])),\n",
    "    )\n",
    "\n",
    "#iterate over all unique variable name, file name pairs\n",
    "for ((var_name, file_name), count) in var_file_count:\n",
    "    #extract longitude and latitude\n",
    "    long, lat = var_file_coord.loc[(var_name, file_name)][['bouy_longitude', 'bouy_latitude']]\n",
    "    \n",
    "    #Create the pin\n",
    "    pin = KML.Placemark(\n",
    "        KML.name(str(count)),\n",
    "        KML.description(file_name),\n",
    "        KML.Point(\n",
    "            KML.coordinates(str(long) + \",\" + str(lat))\n",
    "        )\n",
    "    )\n",
    "    KML_fldrs[var_name].append(pin)\n",
    "    \n",
    "for var_name, KML_fld in KML_fldrs.items():\n",
    "    with open(os.path.join(write_folder, kml_pinmap_fn + '_' + var_name + '.kml'), 'w') as f_w:\n",
    "        f_w.write(lxml.etree.tostring(KML_fld, pretty_print=True).decode())"
   ]
  },
  {
   "cell_type": "code",
   "execution_count": 7,
   "id": "5c2eb241",
   "metadata": {},
   "outputs": [],
   "source": [
    "#Save KML pin map if we have all the variables ['VHM0', 'VAVH', 'WSPD']\n",
    "if all([v in variables for v in ['VHM0', 'VAVH', 'WSPD']]):\n",
    "    #Number of  overlaps\n",
    "    mult_var = result_df.groupby(['sar_url', 'bouy_file_name', 'bouy_longitude', 'bouy_latitude'])[['bouy_variable_name']].aggregate(lambda tdf: tdf.unique().tolist())\n",
    "    mult_var['len'] = mult_var['bouy_variable_name'].apply(len)\n",
    "    mult_var['contains_wind'] = mult_var['bouy_variable_name'].apply(lambda x: 'WSPD' in x)\n",
    "    mult_var['also_VAVH'] = mult_var['bouy_variable_name'].apply(lambda x: 'VAVH' in x)\n",
    "    mult_var['also_VHM0'] = mult_var['bouy_variable_name'].apply(lambda x: 'VHM0' in x)\n",
    "    mult_var = mult_var[(mult_var['len'] > 1) & mult_var['contains_wind']].drop(labels='contains_wind', axis=1)\n",
    "\n",
    "    wind_and_VAVH = mult_var[mult_var['also_VAVH']].drop(labels=['also_VAVH', 'also_VHM0'], axis=1).groupby(['bouy_file_name', 'bouy_longitude', 'bouy_latitude'])['len'].count()\n",
    "    wind_and_VHM0 = mult_var[mult_var['also_VHM0']].drop(labels=['also_VAVH', 'also_VHM0'], axis=1).groupby(['bouy_file_name', 'bouy_longitude', 'bouy_latitude'])['len'].count()\n",
    "\n",
    "    #Save overlapping wind and wave info to KML maps\n",
    "    for kml_pinmap_fn, data_var in [('WSPD_and_VHM0', wind_and_VHM0), ('WSPD_and_VAVH', wind_and_VAVH)]:\n",
    "        KML_fldr = KML.Folder(\n",
    "            KML.name(kml_pinmap_fn + \" \" + write_folder[write_folder.find('/')+1:]),\n",
    "            KML.description('Total datapoints: ' + str(data_var.sum())),\n",
    "        )\n",
    "\n",
    "        #iterate over all unique variable name, file name pairs\n",
    "        for ((file_name, long, lat), count) in data_var.items():\n",
    "            #Create the pin\n",
    "            pin = KML.Placemark(\n",
    "                KML.name(str(count)),\n",
    "                KML.description(file_name),\n",
    "                KML.Point(\n",
    "                    KML.coordinates(str(long) + \",\" + str(lat))\n",
    "                )\n",
    "            )\n",
    "            KML_fldr.append(pin)\n",
    "\n",
    "        with open(os.path.join(write_folder, kml_pinmap_fn + '_' + var_name + '.kml'), 'w') as f_w:\n",
    "            f_w.write(lxml.etree.tostring(KML_fldr, pretty_print=True).decode())"
   ]
  }
 ],
 "metadata": {
  "kernelspec": {
   "display_name": "Python 3.10.9",
   "language": "python",
   "name": "python3"
  },
  "language_info": {
   "codemirror_mode": {
    "name": "ipython",
    "version": 3
   },
   "file_extension": ".py",
   "mimetype": "text/x-python",
   "name": "python",
   "nbconvert_exporter": "python",
   "pygments_lexer": "ipython3",
   "version": "3.10.9"
  },
  "vscode": {
   "interpreter": {
    "hash": "40bfc0d3c9c7ef61b829322f934671b287025ad156098ea4a38fed0ccd45344b"
   }
  }
 },
 "nbformat": 4,
 "nbformat_minor": 5
}
