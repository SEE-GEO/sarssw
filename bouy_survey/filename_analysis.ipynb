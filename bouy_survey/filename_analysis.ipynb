{
 "cells": [
  {
   "cell_type": "markdown",
   "metadata": {},
   "source": [
    "This files check is used to check if the files found in the 7 different INSITU poducts overlaps, especially the global one\n",
    "\n",
    "Observation for MO: There are some unique entries (23) in the non global datasets but way more in the global one (1530).\n",
    "\n",
    "Conclution: just use the global dataset"
   ]
  },
  {
   "cell_type": "code",
   "execution_count": 1,
   "metadata": {},
   "outputs": [],
   "source": [
    "import numpy as np\n",
    "import pandas as pd\n",
    "import xarray as xr\n",
    "import os\n",
    "from collections import defaultdict"
   ]
  },
  {
   "cell_type": "code",
   "execution_count": 26,
   "metadata": {},
   "outputs": [
    {
     "name": "stdout",
     "output_type": "stream",
     "text": [
      "\n",
      "\n",
      "\n",
      " MO\n",
      "The number of files in each dataset:\n",
      " {'INSITU_IBI_PHYBGCWAV_DISCRETE_MYNRT_013_033': 418, 'INSITU_BAL_PHYBGCWAV_DISCRETE_MYNRT_013_032': 132, 'INSITU_ARC_PHYBGCWAV_DISCRETE_MYNRT_013_031': 225, 'INSITU_MED_PHYBGCWAV_DISCRETE_MYNRT_013_035': 152, 'INSITU_BLK_PHYBGCWAV_DISCRETE_MYNRT_013_034': 69, 'INSITU_NWS_PHYBGCWAV_DISCRETE_MYNRT_013_036': 485, 'INSITU_GLO_PHYBGCWAV_DISCRETE_MYNRT_013_030': 2488}\n",
      "Number of unbique entries not found in the global dataset:\n",
      " {'INSITU_IBI_PHYBGCWAV_DISCRETE_MYNRT_013_033': 0, 'INSITU_BAL_PHYBGCWAV_DISCRETE_MYNRT_013_032': 0, 'INSITU_ARC_PHYBGCWAV_DISCRETE_MYNRT_013_031': 0, 'INSITU_MED_PHYBGCWAV_DISCRETE_MYNRT_013_035': 1, 'INSITU_BLK_PHYBGCWAV_DISCRETE_MYNRT_013_034': 21, 'INSITU_NWS_PHYBGCWAV_DISCRETE_MYNRT_013_036': 1, 'INSITU_GLO_PHYBGCWAV_DISCRETE_MYNRT_013_030': 0}\n",
      "Entries only found in  NWS: {'AR_TS_MO_G-Halsafjorden.nc'}\n",
      "Number of unique entries found in the global dataset but not in the rest:  1530\n",
      "\n",
      "\n",
      "\n",
      " DB\n",
      "The number of files in each dataset:\n",
      " {'INSITU_IBI_PHYBGCWAV_DISCRETE_MYNRT_013_033': 3457, 'INSITU_BAL_PHYBGCWAV_DISCRETE_MYNRT_013_032': 21, 'INSITU_ARC_PHYBGCWAV_DISCRETE_MYNRT_013_031': 1815, 'INSITU_MED_PHYBGCWAV_DISCRETE_MYNRT_013_035': 885, 'INSITU_BLK_PHYBGCWAV_DISCRETE_MYNRT_013_034': 20, 'INSITU_NWS_PHYBGCWAV_DISCRETE_MYNRT_013_036': 2286, 'INSITU_GLO_PHYBGCWAV_DISCRETE_MYNRT_013_030': 25157}\n",
      "Number of unbique entries not found in the global dataset:\n",
      " {'INSITU_IBI_PHYBGCWAV_DISCRETE_MYNRT_013_033': 0, 'INSITU_BAL_PHYBGCWAV_DISCRETE_MYNRT_013_032': 0, 'INSITU_ARC_PHYBGCWAV_DISCRETE_MYNRT_013_031': 0, 'INSITU_MED_PHYBGCWAV_DISCRETE_MYNRT_013_035': 3, 'INSITU_BLK_PHYBGCWAV_DISCRETE_MYNRT_013_034': 0, 'INSITU_NWS_PHYBGCWAV_DISCRETE_MYNRT_013_036': 4, 'INSITU_GLO_PHYBGCWAV_DISCRETE_MYNRT_013_030': 0}\n",
      "Entries only found in  NWS: {'GL_TS_DB_6200087.nc', 'GL_TS_DB_6200252.nc', 'GL_TS_DB_6200086.nc', 'GL_TS_DB_6600023.nc'}\n",
      "Number of unique entries found in the global dataset but not in the rest:  19930\n",
      "\n",
      "\n",
      "\n",
      " TG\n",
      "The number of files in each dataset:\n",
      " {'INSITU_IBI_PHYBGCWAV_DISCRETE_MYNRT_013_033': 415, 'INSITU_BAL_PHYBGCWAV_DISCRETE_MYNRT_013_032': 222, 'INSITU_ARC_PHYBGCWAV_DISCRETE_MYNRT_013_031': 18, 'INSITU_MED_PHYBGCWAV_DISCRETE_MYNRT_013_035': 180, 'INSITU_BLK_PHYBGCWAV_DISCRETE_MYNRT_013_034': 19, 'INSITU_NWS_PHYBGCWAV_DISCRETE_MYNRT_013_036': 361, 'INSITU_GLO_PHYBGCWAV_DISCRETE_MYNRT_013_030': 976}\n",
      "Number of unbique entries not found in the global dataset:\n",
      " {'INSITU_IBI_PHYBGCWAV_DISCRETE_MYNRT_013_033': 0, 'INSITU_BAL_PHYBGCWAV_DISCRETE_MYNRT_013_032': 0, 'INSITU_ARC_PHYBGCWAV_DISCRETE_MYNRT_013_031': 0, 'INSITU_MED_PHYBGCWAV_DISCRETE_MYNRT_013_035': 0, 'INSITU_BLK_PHYBGCWAV_DISCRETE_MYNRT_013_034': 0, 'INSITU_NWS_PHYBGCWAV_DISCRETE_MYNRT_013_036': 0, 'INSITU_GLO_PHYBGCWAV_DISCRETE_MYNRT_013_030': 0}\n",
      "Entries only found in  NWS: set()\n",
      "Number of unique entries found in the global dataset but not in the rest:  138\n"
     ]
    }
   ],
   "source": [
    "data_dir = '/data/exjobb/sarssw/bouy'\n",
    "data_dtypes = ['MO', 'DB', 'TG']\n",
    "\n",
    "for data_type in data_dtypes:\n",
    "    print(\"\\n\\n\\n\", data_type)\n",
    "    all_files = {}\n",
    "    for dir in os.listdir(data_dir):\n",
    "        all_files[dir] = []\n",
    "        tot_outer_dir = os.path.join(data_dir, dir)\n",
    "        tot_inner_dir = os.path.join(tot_outer_dir, data_type)\n",
    "        if not os.path.isdir(tot_inner_dir):\n",
    "            print(tot_inner_dir, ' is not a folder')\n",
    "            continue\n",
    "        all_files[dir].extend(os.listdir(tot_inner_dir))\n",
    "\n",
    "    all_files_len = {k:len(v) for k,v in all_files.items()}\n",
    "    print(\"The number of files in each dataset:\\n\", all_files_len)\n",
    "\n",
    "    #Extract separate dicts for the global and rest\n",
    "    glob_name = 'INSITU_GLO_PHYBGCWAV_DISCRETE_MYNRT_013_030'\n",
    "    glob = all_files[glob_name]\n",
    "    rest = []\n",
    "    [rest.extend(v) for k,v in all_files.items() if k != glob_name]\n",
    "\n",
    "    #Get the intersection\n",
    "    rest_glob_inters = set(rest).intersection(glob)\n",
    "\n",
    "    #Find unique entries that is not found in the global dataset\n",
    "    unique = {k:set(v).difference(glob) for k,v in all_files.items()}\n",
    "    unique_len = {k:len(set(v).difference(glob)) for k,v in all_files.items()}\n",
    "    print(\"Number of unbique entries not found in the global dataset:\\n\", unique_len)\n",
    "\n",
    "    print(\"Entries only found in  NWS:\" , unique['INSITU_NWS_PHYBGCWAV_DISCRETE_MYNRT_013_036'])\n",
    "\n",
    "    print(\"Number of unique entries found in the global dataset but not in the rest: \", len(set(glob).difference(rest)))\n"
   ]
  }
 ],
 "metadata": {
  "kernelspec": {
   "display_name": "Python 3 (ipykernel)",
   "language": "python",
   "name": "python3"
  },
  "language_info": {
   "codemirror_mode": {
    "name": "ipython",
    "version": 3
   },
   "file_extension": ".py",
   "mimetype": "text/x-python",
   "name": "python",
   "nbconvert_exporter": "python",
   "pygments_lexer": "ipython3",
   "version": "3.10.9"
  },
  "vscode": {
   "interpreter": {
    "hash": "40bfc0d3c9c7ef61b829322f934671b287025ad156098ea4a38fed0ccd45344b"
   }
  }
 },
 "nbformat": 4,
 "nbformat_minor": 2
}
