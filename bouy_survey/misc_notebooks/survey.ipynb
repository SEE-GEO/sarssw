{
 "cells": [
  {
   "cell_type": "code",
   "execution_count": 1,
   "id": "271d6b17",
   "metadata": {
    "collapsed": true
   },
   "outputs": [],
   "source": [
    "import numpy as np\n",
    "import pandas as pd\n",
    "import xarray as xr\n",
    "import os\n",
    "import asf_search as asf\n",
    "from collections import defaultdict\n",
    "import datetime\n",
    "import pickle\n",
    "from tqdm import tqdm\n",
    "from functools import reduce\n",
    "import itertools\n",
    "from shapely import Point, LineString, Polygon, MultiPolygon\n",
    "import operator\n",
    "import lxml\n",
    "from pykml.factory import KML_ElementMaker as KML\n",
    "import cartopy"
   ]
  },
  {
   "cell_type": "code",
   "execution_count": 2,
   "id": "7f4163aa",
   "metadata": {
    "collapsed": true
   },
   "outputs": [],
   "source": [
    "#Extracts data from the dataset ds within the time_filter (tuple or timespan) interval for the \n",
    "#variable var_name found in the deph range deph_range in meters, positive is under water, negative above water\n",
    "#It can be either a tuble (min,max) or a value it needs to equal\n",
    "#Quality controll is made for position, deph, time, and the variable\n",
    "#Note depth is the coordinate index while deph (without t) is the actual depth in meters \n",
    "def valid_data_extraction(ds, time_filter, var_name, deph_range):\n",
    "    if var_name not in ds.data_vars:\n",
    "        raise ValueError(var_name, ' Not found')\n",
    "\n",
    "    #Add longitude, latidude and position_qc as variables indexed by time,depth as all other variables\n",
    "    TIME = ds['TIME'].values\n",
    "    DEPTH = ds['DEPTH'].values\n",
    "    n_DEPTHS = len(DEPTH)\n",
    "\n",
    "    dataset_columns = {\n",
    "        'LONG':ds['LONGITUDE'],\n",
    "        'LAT':ds['LATITUDE'],\n",
    "        'POS_QC':ds['POSITION_QC'],\n",
    "    }\n",
    "\n",
    "    ds_pos = xr.Dataset(\n",
    "        data_vars=\n",
    "        {k:(\n",
    "            [\"TIME\", 'DEPTH'],\n",
    "            np.repeat(np.reshape(v.values, (-1,1)), n_DEPTHS, axis=1),\n",
    "            v.attrs,\n",
    "        )for (k,v) in dataset_columns.items()},\n",
    "        coords=dict(\n",
    "            TIME=TIME,\n",
    "            DEPTH=DEPTH,\n",
    "        )\n",
    "    ).drop_vars('DEPTH')\n",
    "    ds = xr.merge([ds.drop_dims(['LATITUDE', 'LONGITUDE', 'POSITION']), ds_pos])\n",
    "    \n",
    "    #Filter for time of interest\n",
    "    if type(time_filter) is tuple:\n",
    "        ds = ds.sel(TIME=slice(time_filter[0], time_filter[1]))\n",
    "    else:\n",
    "        ds = ds.sel(TIME=time_filter)\n",
    "    \n",
    "    #Filter only avalible columns\n",
    "    colum_names = [var_name]\n",
    "    colum_names_qc = [var_name + '_QC']\n",
    "    \n",
    "    #Add fixed columns\n",
    "    colum_names.extend(['LONG', 'LAT', 'DEPH'])\n",
    "    colum_names_qc.extend(['DEPH_QC'])\n",
    "    time_pos_qc = ['TIME_QC', 'POS_QC']\n",
    "    \n",
    "    #Filter for columns of interest\n",
    "    ds = ds[colum_names + colum_names_qc + time_pos_qc]\n",
    "\n",
    "    df = ds.to_dataframe()\n",
    "    \n",
    "    QC_good = [1.0, 7.0]\n",
    "    #QC control for time and pos uses all of these values according to https://doi.org/10.13155/59938\n",
    "    QC_time_pos_good = [1, 2, 5, 7, 8]\n",
    "    \n",
    "    #Filter the variable and depth for good quality data \n",
    "    filter_qc = [df[c_qc].isin(QC_good) for c_qc in colum_names_qc]\n",
    "    #Filter for good time and pos \n",
    "    filter_qc.extend([df[c_qc].isin(QC_time_pos_good) for c_qc in time_pos_qc])\n",
    "    #Add filter for deph value\n",
    "    if type(deph_range) == tuple:\n",
    "        filter_qc.append((deph_range[0] <= df['DEPH']) & (df['DEPH'] <= deph_range[1]))\n",
    "    else:\n",
    "        filter_qc.append(df['DEPH'] == deph_range)\n",
    "    #Element-wise AND the filter\n",
    "    filter_qc = reduce(operator.and_, filter_qc)\n",
    "    df = df[filter_qc][colum_names]\n",
    "\n",
    "    #Remove any duplicated measurements on different depths\n",
    "    #To do so, first remove the depth from the index and then filter for unique time index by keeing the first\n",
    "    df = df.reset_index('DEPTH')\n",
    "    df = df[~df.index.duplicated(keep='first')]\n",
    "\n",
    "    return df"
   ]
  },
  {
   "cell_type": "code",
   "execution_count": 3,
   "id": "80611f0b",
   "metadata": {},
   "outputs": [
    {
     "data": {
      "text/html": [
       "<div><svg style=\"position: absolute; width: 0; height: 0; overflow: hidden\">\n",
       "<defs>\n",
       "<symbol id=\"icon-database\" viewBox=\"0 0 32 32\">\n",
       "<path d=\"M16 0c-8.837 0-16 2.239-16 5v4c0 2.761 7.163 5 16 5s16-2.239 16-5v-4c0-2.761-7.163-5-16-5z\"></path>\n",
       "<path d=\"M16 17c-8.837 0-16-2.239-16-5v6c0 2.761 7.163 5 16 5s16-2.239 16-5v-6c0 2.761-7.163 5-16 5z\"></path>\n",
       "<path d=\"M16 26c-8.837 0-16-2.239-16-5v6c0 2.761 7.163 5 16 5s16-2.239 16-5v-6c0 2.761-7.163 5-16 5z\"></path>\n",
       "</symbol>\n",
       "<symbol id=\"icon-file-text2\" viewBox=\"0 0 32 32\">\n",
       "<path d=\"M28.681 7.159c-0.694-0.947-1.662-2.053-2.724-3.116s-2.169-2.030-3.116-2.724c-1.612-1.182-2.393-1.319-2.841-1.319h-15.5c-1.378 0-2.5 1.121-2.5 2.5v27c0 1.378 1.122 2.5 2.5 2.5h23c1.378 0 2.5-1.122 2.5-2.5v-19.5c0-0.448-0.137-1.23-1.319-2.841zM24.543 5.457c0.959 0.959 1.712 1.825 2.268 2.543h-4.811v-4.811c0.718 0.556 1.584 1.309 2.543 2.268zM28 29.5c0 0.271-0.229 0.5-0.5 0.5h-23c-0.271 0-0.5-0.229-0.5-0.5v-27c0-0.271 0.229-0.5 0.5-0.5 0 0 15.499-0 15.5 0v7c0 0.552 0.448 1 1 1h7v19.5z\"></path>\n",
       "<path d=\"M23 26h-14c-0.552 0-1-0.448-1-1s0.448-1 1-1h14c0.552 0 1 0.448 1 1s-0.448 1-1 1z\"></path>\n",
       "<path d=\"M23 22h-14c-0.552 0-1-0.448-1-1s0.448-1 1-1h14c0.552 0 1 0.448 1 1s-0.448 1-1 1z\"></path>\n",
       "<path d=\"M23 18h-14c-0.552 0-1-0.448-1-1s0.448-1 1-1h14c0.552 0 1 0.448 1 1s-0.448 1-1 1z\"></path>\n",
       "</symbol>\n",
       "</defs>\n",
       "</svg>\n",
       "<style>/* CSS stylesheet for displaying xarray objects in jupyterlab.\n",
       " *\n",
       " */\n",
       "\n",
       ":root {\n",
       "  --xr-font-color0: var(--jp-content-font-color0, rgba(0, 0, 0, 1));\n",
       "  --xr-font-color2: var(--jp-content-font-color2, rgba(0, 0, 0, 0.54));\n",
       "  --xr-font-color3: var(--jp-content-font-color3, rgba(0, 0, 0, 0.38));\n",
       "  --xr-border-color: var(--jp-border-color2, #e0e0e0);\n",
       "  --xr-disabled-color: var(--jp-layout-color3, #bdbdbd);\n",
       "  --xr-background-color: var(--jp-layout-color0, white);\n",
       "  --xr-background-color-row-even: var(--jp-layout-color1, white);\n",
       "  --xr-background-color-row-odd: var(--jp-layout-color2, #eeeeee);\n",
       "}\n",
       "\n",
       "html[theme=dark],\n",
       "body[data-theme=dark],\n",
       "body.vscode-dark {\n",
       "  --xr-font-color0: rgba(255, 255, 255, 1);\n",
       "  --xr-font-color2: rgba(255, 255, 255, 0.54);\n",
       "  --xr-font-color3: rgba(255, 255, 255, 0.38);\n",
       "  --xr-border-color: #1F1F1F;\n",
       "  --xr-disabled-color: #515151;\n",
       "  --xr-background-color: #111111;\n",
       "  --xr-background-color-row-even: #111111;\n",
       "  --xr-background-color-row-odd: #313131;\n",
       "}\n",
       "\n",
       ".xr-wrap {\n",
       "  display: block !important;\n",
       "  min-width: 300px;\n",
       "  max-width: 700px;\n",
       "}\n",
       "\n",
       ".xr-text-repr-fallback {\n",
       "  /* fallback to plain text repr when CSS is not injected (untrusted notebook) */\n",
       "  display: none;\n",
       "}\n",
       "\n",
       ".xr-header {\n",
       "  padding-top: 6px;\n",
       "  padding-bottom: 6px;\n",
       "  margin-bottom: 4px;\n",
       "  border-bottom: solid 1px var(--xr-border-color);\n",
       "}\n",
       "\n",
       ".xr-header > div,\n",
       ".xr-header > ul {\n",
       "  display: inline;\n",
       "  margin-top: 0;\n",
       "  margin-bottom: 0;\n",
       "}\n",
       "\n",
       ".xr-obj-type,\n",
       ".xr-array-name {\n",
       "  margin-left: 2px;\n",
       "  margin-right: 10px;\n",
       "}\n",
       "\n",
       ".xr-obj-type {\n",
       "  color: var(--xr-font-color2);\n",
       "}\n",
       "\n",
       ".xr-sections {\n",
       "  padding-left: 0 !important;\n",
       "  display: grid;\n",
       "  grid-template-columns: 150px auto auto 1fr 20px 20px;\n",
       "}\n",
       "\n",
       ".xr-section-item {\n",
       "  display: contents;\n",
       "}\n",
       "\n",
       ".xr-section-item input {\n",
       "  display: none;\n",
       "}\n",
       "\n",
       ".xr-section-item input + label {\n",
       "  color: var(--xr-disabled-color);\n",
       "}\n",
       "\n",
       ".xr-section-item input:enabled + label {\n",
       "  cursor: pointer;\n",
       "  color: var(--xr-font-color2);\n",
       "}\n",
       "\n",
       ".xr-section-item input:enabled + label:hover {\n",
       "  color: var(--xr-font-color0);\n",
       "}\n",
       "\n",
       ".xr-section-summary {\n",
       "  grid-column: 1;\n",
       "  color: var(--xr-font-color2);\n",
       "  font-weight: 500;\n",
       "}\n",
       "\n",
       ".xr-section-summary > span {\n",
       "  display: inline-block;\n",
       "  padding-left: 0.5em;\n",
       "}\n",
       "\n",
       ".xr-section-summary-in:disabled + label {\n",
       "  color: var(--xr-font-color2);\n",
       "}\n",
       "\n",
       ".xr-section-summary-in + label:before {\n",
       "  display: inline-block;\n",
       "  content: '►';\n",
       "  font-size: 11px;\n",
       "  width: 15px;\n",
       "  text-align: center;\n",
       "}\n",
       "\n",
       ".xr-section-summary-in:disabled + label:before {\n",
       "  color: var(--xr-disabled-color);\n",
       "}\n",
       "\n",
       ".xr-section-summary-in:checked + label:before {\n",
       "  content: '▼';\n",
       "}\n",
       "\n",
       ".xr-section-summary-in:checked + label > span {\n",
       "  display: none;\n",
       "}\n",
       "\n",
       ".xr-section-summary,\n",
       ".xr-section-inline-details {\n",
       "  padding-top: 4px;\n",
       "  padding-bottom: 4px;\n",
       "}\n",
       "\n",
       ".xr-section-inline-details {\n",
       "  grid-column: 2 / -1;\n",
       "}\n",
       "\n",
       ".xr-section-details {\n",
       "  display: none;\n",
       "  grid-column: 1 / -1;\n",
       "  margin-bottom: 5px;\n",
       "}\n",
       "\n",
       ".xr-section-summary-in:checked ~ .xr-section-details {\n",
       "  display: contents;\n",
       "}\n",
       "\n",
       ".xr-array-wrap {\n",
       "  grid-column: 1 / -1;\n",
       "  display: grid;\n",
       "  grid-template-columns: 20px auto;\n",
       "}\n",
       "\n",
       ".xr-array-wrap > label {\n",
       "  grid-column: 1;\n",
       "  vertical-align: top;\n",
       "}\n",
       "\n",
       ".xr-preview {\n",
       "  color: var(--xr-font-color3);\n",
       "}\n",
       "\n",
       ".xr-array-preview,\n",
       ".xr-array-data {\n",
       "  padding: 0 5px !important;\n",
       "  grid-column: 2;\n",
       "}\n",
       "\n",
       ".xr-array-data,\n",
       ".xr-array-in:checked ~ .xr-array-preview {\n",
       "  display: none;\n",
       "}\n",
       "\n",
       ".xr-array-in:checked ~ .xr-array-data,\n",
       ".xr-array-preview {\n",
       "  display: inline-block;\n",
       "}\n",
       "\n",
       ".xr-dim-list {\n",
       "  display: inline-block !important;\n",
       "  list-style: none;\n",
       "  padding: 0 !important;\n",
       "  margin: 0;\n",
       "}\n",
       "\n",
       ".xr-dim-list li {\n",
       "  display: inline-block;\n",
       "  padding: 0;\n",
       "  margin: 0;\n",
       "}\n",
       "\n",
       ".xr-dim-list:before {\n",
       "  content: '(';\n",
       "}\n",
       "\n",
       ".xr-dim-list:after {\n",
       "  content: ')';\n",
       "}\n",
       "\n",
       ".xr-dim-list li:not(:last-child):after {\n",
       "  content: ',';\n",
       "  padding-right: 5px;\n",
       "}\n",
       "\n",
       ".xr-has-index {\n",
       "  font-weight: bold;\n",
       "}\n",
       "\n",
       ".xr-var-list,\n",
       ".xr-var-item {\n",
       "  display: contents;\n",
       "}\n",
       "\n",
       ".xr-var-item > div,\n",
       ".xr-var-item label,\n",
       ".xr-var-item > .xr-var-name span {\n",
       "  background-color: var(--xr-background-color-row-even);\n",
       "  margin-bottom: 0;\n",
       "}\n",
       "\n",
       ".xr-var-item > .xr-var-name:hover span {\n",
       "  padding-right: 5px;\n",
       "}\n",
       "\n",
       ".xr-var-list > li:nth-child(odd) > div,\n",
       ".xr-var-list > li:nth-child(odd) > label,\n",
       ".xr-var-list > li:nth-child(odd) > .xr-var-name span {\n",
       "  background-color: var(--xr-background-color-row-odd);\n",
       "}\n",
       "\n",
       ".xr-var-name {\n",
       "  grid-column: 1;\n",
       "}\n",
       "\n",
       ".xr-var-dims {\n",
       "  grid-column: 2;\n",
       "}\n",
       "\n",
       ".xr-var-dtype {\n",
       "  grid-column: 3;\n",
       "  text-align: right;\n",
       "  color: var(--xr-font-color2);\n",
       "}\n",
       "\n",
       ".xr-var-preview {\n",
       "  grid-column: 4;\n",
       "}\n",
       "\n",
       ".xr-index-preview {\n",
       "  grid-column: 2 / 5;\n",
       "  color: var(--xr-font-color2);\n",
       "}\n",
       "\n",
       ".xr-var-name,\n",
       ".xr-var-dims,\n",
       ".xr-var-dtype,\n",
       ".xr-preview,\n",
       ".xr-attrs dt {\n",
       "  white-space: nowrap;\n",
       "  overflow: hidden;\n",
       "  text-overflow: ellipsis;\n",
       "  padding-right: 10px;\n",
       "}\n",
       "\n",
       ".xr-var-name:hover,\n",
       ".xr-var-dims:hover,\n",
       ".xr-var-dtype:hover,\n",
       ".xr-attrs dt:hover {\n",
       "  overflow: visible;\n",
       "  width: auto;\n",
       "  z-index: 1;\n",
       "}\n",
       "\n",
       ".xr-var-attrs,\n",
       ".xr-var-data,\n",
       ".xr-index-data {\n",
       "  display: none;\n",
       "  background-color: var(--xr-background-color) !important;\n",
       "  padding-bottom: 5px !important;\n",
       "}\n",
       "\n",
       ".xr-var-attrs-in:checked ~ .xr-var-attrs,\n",
       ".xr-var-data-in:checked ~ .xr-var-data,\n",
       ".xr-index-data-in:checked ~ .xr-index-data {\n",
       "  display: block;\n",
       "}\n",
       "\n",
       ".xr-var-data > table {\n",
       "  float: right;\n",
       "}\n",
       "\n",
       ".xr-var-name span,\n",
       ".xr-var-data,\n",
       ".xr-index-name div,\n",
       ".xr-index-data,\n",
       ".xr-attrs {\n",
       "  padding-left: 25px !important;\n",
       "}\n",
       "\n",
       ".xr-attrs,\n",
       ".xr-var-attrs,\n",
       ".xr-var-data,\n",
       ".xr-index-data {\n",
       "  grid-column: 1 / -1;\n",
       "}\n",
       "\n",
       "dl.xr-attrs {\n",
       "  padding: 0;\n",
       "  margin: 0;\n",
       "  display: grid;\n",
       "  grid-template-columns: 125px auto;\n",
       "}\n",
       "\n",
       ".xr-attrs dt,\n",
       ".xr-attrs dd {\n",
       "  padding: 0;\n",
       "  margin: 0;\n",
       "  float: left;\n",
       "  padding-right: 10px;\n",
       "  width: auto;\n",
       "}\n",
       "\n",
       ".xr-attrs dt {\n",
       "  font-weight: normal;\n",
       "  grid-column: 1;\n",
       "}\n",
       "\n",
       ".xr-attrs dt:hover span {\n",
       "  display: inline-block;\n",
       "  background: var(--xr-background-color);\n",
       "  padding-right: 10px;\n",
       "}\n",
       "\n",
       ".xr-attrs dd {\n",
       "  grid-column: 2;\n",
       "  white-space: pre-wrap;\n",
       "  word-break: break-all;\n",
       "}\n",
       "\n",
       ".xr-icon-database,\n",
       ".xr-icon-file-text2,\n",
       ".xr-no-icon {\n",
       "  display: inline-block;\n",
       "  vertical-align: middle;\n",
       "  width: 1em;\n",
       "  height: 1.5em !important;\n",
       "  stroke-width: 0;\n",
       "  stroke: currentColor;\n",
       "  fill: currentColor;\n",
       "}\n",
       "</style><pre class='xr-text-repr-fallback'>&lt;xarray.Dataset&gt;\n",
       "Dimensions:       (TIME: 304956, LATITUDE: 304956, LONGITUDE: 304956,\n",
       "                   POSITION: 304956, DEPTH: 5)\n",
       "Coordinates:\n",
       "  * TIME          (TIME) datetime64[ns] 1978-12-16T12:00:00 ... 2023-01-31T23...\n",
       "  * LATITUDE      (LATITUDE) float32 43.18 43.18 43.18 43.18 ... 43.2 43.2 43.2\n",
       "  * LONGITUDE     (LONGITUDE) float32 -69.18 -69.18 -69.18 ... -69.13 -69.13\n",
       "Dimensions without coordinates: POSITION, DEPTH\n",
       "Data variables: (12/29)\n",
       "    TIME_QC       (TIME) float32 ...\n",
       "    POSITION_QC   (POSITION) float32 ...\n",
       "    DC_REFERENCE  (TIME) object ...\n",
       "    DEPH          (TIME, DEPTH) float32 ...\n",
       "    DEPH_QC       (TIME, DEPTH) float32 ...\n",
       "    TEMP          (TIME, DEPTH) float64 ...\n",
       "    ...            ...\n",
       "    VTPK          (TIME, DEPTH) float64 ...\n",
       "    VTPK_QC       (TIME, DEPTH) float32 ...\n",
       "    WDIR          (TIME, DEPTH) float64 ...\n",
       "    WDIR_QC       (TIME, DEPTH) float32 ...\n",
       "    WSPD          (TIME, DEPTH) float64 ...\n",
       "    WSPD_QC       (TIME, DEPTH) float32 ...\n",
       "Attributes: (12/49)\n",
       "    data_type:                      OceanSITES time-series data\n",
       "    format_version:                 1.4\n",
       "    platform_code:                  44005\n",
       "    institution:                    National Data Buoy Center (NDBC) ; Nation...\n",
       "    institution_edmo_code:          1463\n",
       "    site_code:                       \n",
       "    ...                             ...\n",
       "    last_date_observation:          2023-01-31T23:50:00Z\n",
       "    last_latitude_observation:      43.20100\n",
       "    last_longitude_observation:     -69.12800\n",
       "    date_update:                    2023-02-07T19:28:46Z\n",
       "    history:                        2023-02-07T19:28:46Z : Creation\n",
       "    data_mode:                      R</pre><div class='xr-wrap' style='display:none'><div class='xr-header'><div class='xr-obj-type'>xarray.Dataset</div></div><ul class='xr-sections'><li class='xr-section-item'><input id='section-3f08012a-5797-4470-aad3-a5557991044e' class='xr-section-summary-in' type='checkbox' disabled ><label for='section-3f08012a-5797-4470-aad3-a5557991044e' class='xr-section-summary'  title='Expand/collapse section'>Dimensions:</label><div class='xr-section-inline-details'><ul class='xr-dim-list'><li><span class='xr-has-index'>TIME</span>: 304956</li><li><span class='xr-has-index'>LATITUDE</span>: 304956</li><li><span class='xr-has-index'>LONGITUDE</span>: 304956</li><li><span>POSITION</span>: 304956</li><li><span>DEPTH</span>: 5</li></ul></div><div class='xr-section-details'></div></li><li class='xr-section-item'><input id='section-85444436-3df0-4402-b5cf-85150fd5c76d' class='xr-section-summary-in' type='checkbox'  checked><label for='section-85444436-3df0-4402-b5cf-85150fd5c76d' class='xr-section-summary' >Coordinates: <span>(3)</span></label><div class='xr-section-inline-details'></div><div class='xr-section-details'><ul class='xr-var-list'><li class='xr-var-item'><div class='xr-var-name'><span class='xr-has-index'>TIME</span></div><div class='xr-var-dims'>(TIME)</div><div class='xr-var-dtype'>datetime64[ns]</div><div class='xr-var-preview xr-preview'>1978-12-16T12:00:00 ... 2023-01-...</div><input id='attrs-0c593b5c-5ff3-496a-b4ca-4c805b6e0cea' class='xr-var-attrs-in' type='checkbox' ><label for='attrs-0c593b5c-5ff3-496a-b4ca-4c805b6e0cea' title='Show/Hide attributes'><svg class='icon xr-icon-file-text2'><use xlink:href='#icon-file-text2'></use></svg></label><input id='data-e4aef4a1-3ab5-4be3-be6b-acc4a83e6566' class='xr-var-data-in' type='checkbox'><label for='data-e4aef4a1-3ab5-4be3-be6b-acc4a83e6566' title='Show/Hide data repr'><svg class='icon xr-icon-database'><use xlink:href='#icon-database'></use></svg></label><div class='xr-var-attrs'><dl class='xr-attrs'><dt><span>long_name :</span></dt><dd>Time</dd><dt><span>standard_name :</span></dt><dd>time</dd><dt><span>valid_min :</span></dt><dd>-90000.0</dd><dt><span>valid_max :</span></dt><dd>90000.0</dd><dt><span>uncertainty :</span></dt><dd> </dd><dt><span>comment :</span></dt><dd> </dd><dt><span>axis :</span></dt><dd>T</dd><dt><span>ancillary_variables :</span></dt><dd>TIME_QC</dd></dl></div><div class='xr-var-data'><pre>array([&#x27;1978-12-16T12:00:00.000000000&#x27;, &#x27;1978-12-16T13:00:00.000000000&#x27;,\n",
       "       &#x27;1978-12-16T14:00:00.000000000&#x27;, ..., &#x27;2023-01-31T21:50:00.000000000&#x27;,\n",
       "       &#x27;2023-01-31T22:50:00.000000000&#x27;, &#x27;2023-01-31T23:50:00.000000000&#x27;],\n",
       "      dtype=&#x27;datetime64[ns]&#x27;)</pre></div></li><li class='xr-var-item'><div class='xr-var-name'><span class='xr-has-index'>LATITUDE</span></div><div class='xr-var-dims'>(LATITUDE)</div><div class='xr-var-dtype'>float32</div><div class='xr-var-preview xr-preview'>43.18 43.18 43.18 ... 43.2 43.2</div><input id='attrs-cc74debc-7563-4f77-800d-798a78662d77' class='xr-var-attrs-in' type='checkbox' ><label for='attrs-cc74debc-7563-4f77-800d-798a78662d77' title='Show/Hide attributes'><svg class='icon xr-icon-file-text2'><use xlink:href='#icon-file-text2'></use></svg></label><input id='data-40129fb8-0063-438c-823f-8e37cd4318f5' class='xr-var-data-in' type='checkbox'><label for='data-40129fb8-0063-438c-823f-8e37cd4318f5' title='Show/Hide data repr'><svg class='icon xr-icon-database'><use xlink:href='#icon-database'></use></svg></label><div class='xr-var-attrs'><dl class='xr-attrs'><dt><span>standard_name :</span></dt><dd>latitude</dd><dt><span>long_name :</span></dt><dd>Latitude of each location</dd><dt><span>units :</span></dt><dd>degree_north</dd><dt><span>valid_min :</span></dt><dd>-90.0</dd><dt><span>valid_max :</span></dt><dd>90.0</dd><dt><span>uncertainty :</span></dt><dd> </dd><dt><span>comment :</span></dt><dd> </dd><dt><span>axis :</span></dt><dd>Y</dd><dt><span>ancillary_variables :</span></dt><dd>POSITION_QC</dd></dl></div><div class='xr-var-data'><pre>array([43.18 , 43.18 , 43.18 , ..., 43.201, 43.201, 43.201], dtype=float32)</pre></div></li><li class='xr-var-item'><div class='xr-var-name'><span class='xr-has-index'>LONGITUDE</span></div><div class='xr-var-dims'>(LONGITUDE)</div><div class='xr-var-dtype'>float32</div><div class='xr-var-preview xr-preview'>-69.18 -69.18 ... -69.13 -69.13</div><input id='attrs-720980aa-59f3-4377-93b6-7cafdaa035c9' class='xr-var-attrs-in' type='checkbox' ><label for='attrs-720980aa-59f3-4377-93b6-7cafdaa035c9' title='Show/Hide attributes'><svg class='icon xr-icon-file-text2'><use xlink:href='#icon-file-text2'></use></svg></label><input id='data-9cf995d5-6c76-4270-aeb6-8a2736761b65' class='xr-var-data-in' type='checkbox'><label for='data-9cf995d5-6c76-4270-aeb6-8a2736761b65' title='Show/Hide data repr'><svg class='icon xr-icon-database'><use xlink:href='#icon-database'></use></svg></label><div class='xr-var-attrs'><dl class='xr-attrs'><dt><span>standard_name :</span></dt><dd>longitude</dd><dt><span>long_name :</span></dt><dd>Longitude of each location</dd><dt><span>units :</span></dt><dd>degree_east</dd><dt><span>valid_min :</span></dt><dd>-180.0</dd><dt><span>valid_max :</span></dt><dd>180.0</dd><dt><span>uncertainty :</span></dt><dd> </dd><dt><span>comment :</span></dt><dd> </dd><dt><span>axis :</span></dt><dd>X</dd><dt><span>ancillary_variables :</span></dt><dd>POSITION_QC</dd></dl></div><div class='xr-var-data'><pre>array([-69.18 , -69.18 , -69.18 , ..., -69.128, -69.128, -69.128],\n",
       "      dtype=float32)</pre></div></li></ul></div></li><li class='xr-section-item'><input id='section-db353225-4b31-45e5-84f9-fd4ed4d887c2' class='xr-section-summary-in' type='checkbox'  ><label for='section-db353225-4b31-45e5-84f9-fd4ed4d887c2' class='xr-section-summary' >Data variables: <span>(29)</span></label><div class='xr-section-inline-details'></div><div class='xr-section-details'><ul class='xr-var-list'><li class='xr-var-item'><div class='xr-var-name'><span>TIME_QC</span></div><div class='xr-var-dims'>(TIME)</div><div class='xr-var-dtype'>float32</div><div class='xr-var-preview xr-preview'>...</div><input id='attrs-8df7029c-8f23-4124-91e6-8e1ef1faebdf' class='xr-var-attrs-in' type='checkbox' ><label for='attrs-8df7029c-8f23-4124-91e6-8e1ef1faebdf' title='Show/Hide attributes'><svg class='icon xr-icon-file-text2'><use xlink:href='#icon-file-text2'></use></svg></label><input id='data-91d37bd2-5276-4bed-b372-daf94db58225' class='xr-var-data-in' type='checkbox'><label for='data-91d37bd2-5276-4bed-b372-daf94db58225' title='Show/Hide data repr'><svg class='icon xr-icon-database'><use xlink:href='#icon-database'></use></svg></label><div class='xr-var-attrs'><dl class='xr-attrs'><dt><span>long_name :</span></dt><dd>Time quality flag</dd><dt><span>conventions :</span></dt><dd>Copernicus Marine In Situ reference table 2</dd><dt><span>flag_meanings :</span></dt><dd>no_qc_performed good_data probably_good_data bad_data_that_are_potentially_correctable bad_data value_changed value_below_detection nominal_value interpolated_value missing_value</dd><dt><span>valid_min :</span></dt><dd>0</dd><dt><span>valid_max :</span></dt><dd>9</dd><dt><span>flag_values :</span></dt><dd>[0 1 2 3 4 5 6 7 8 9]</dd></dl></div><div class='xr-var-data'><pre>[304956 values with dtype=float32]</pre></div></li><li class='xr-var-item'><div class='xr-var-name'><span>POSITION_QC</span></div><div class='xr-var-dims'>(POSITION)</div><div class='xr-var-dtype'>float32</div><div class='xr-var-preview xr-preview'>...</div><input id='attrs-cf01c407-c6ef-428e-899d-7a8faff70b7b' class='xr-var-attrs-in' type='checkbox' ><label for='attrs-cf01c407-c6ef-428e-899d-7a8faff70b7b' title='Show/Hide attributes'><svg class='icon xr-icon-file-text2'><use xlink:href='#icon-file-text2'></use></svg></label><input id='data-e5ac0908-d81e-43e1-8647-288352048f8d' class='xr-var-data-in' type='checkbox'><label for='data-e5ac0908-d81e-43e1-8647-288352048f8d' title='Show/Hide data repr'><svg class='icon xr-icon-database'><use xlink:href='#icon-database'></use></svg></label><div class='xr-var-attrs'><dl class='xr-attrs'><dt><span>long_name :</span></dt><dd>Position quality flag</dd><dt><span>conventions :</span></dt><dd>Copernicus Marine In Situ reference table 2</dd><dt><span>flag_meanings :</span></dt><dd>no_qc_performed good_data probably_good_data bad_data_that_are_potentially_correctable bad_data value_changed value_below_detection nominal_value interpolated_value missing_value</dd><dt><span>valid_min :</span></dt><dd>0</dd><dt><span>valid_max :</span></dt><dd>9</dd><dt><span>flag_values :</span></dt><dd>[0 1 2 3 4 5 6 7 8 9]</dd></dl></div><div class='xr-var-data'><pre>[304956 values with dtype=float32]</pre></div></li><li class='xr-var-item'><div class='xr-var-name'><span>DC_REFERENCE</span></div><div class='xr-var-dims'>(TIME)</div><div class='xr-var-dtype'>object</div><div class='xr-var-preview xr-preview'>...</div><input id='attrs-2134eefb-e25f-4c77-a967-1814fcca9c6e' class='xr-var-attrs-in' type='checkbox' ><label for='attrs-2134eefb-e25f-4c77-a967-1814fcca9c6e' title='Show/Hide attributes'><svg class='icon xr-icon-file-text2'><use xlink:href='#icon-file-text2'></use></svg></label><input id='data-fcf13408-6fe1-497d-973b-e140a22f6b33' class='xr-var-data-in' type='checkbox'><label for='data-fcf13408-6fe1-497d-973b-e140a22f6b33' title='Show/Hide data repr'><svg class='icon xr-icon-database'><use xlink:href='#icon-database'></use></svg></label><div class='xr-var-attrs'><dl class='xr-attrs'><dt><span>long_name :</span></dt><dd>Station/Location unique identifier in data centre</dd><dt><span>conventions :</span></dt><dd>Data centre convention</dd></dl></div><div class='xr-var-data'><pre>[304956 values with dtype=object]</pre></div></li><li class='xr-var-item'><div class='xr-var-name'><span>DEPH</span></div><div class='xr-var-dims'>(TIME, DEPTH)</div><div class='xr-var-dtype'>float32</div><div class='xr-var-preview xr-preview'>...</div><input id='attrs-1f454d0d-6c6a-4afd-8cf5-0f04ce68556f' class='xr-var-attrs-in' type='checkbox' ><label for='attrs-1f454d0d-6c6a-4afd-8cf5-0f04ce68556f' title='Show/Hide attributes'><svg class='icon xr-icon-file-text2'><use xlink:href='#icon-file-text2'></use></svg></label><input id='data-e6f7034b-0193-422d-8fb1-5bd507081279' class='xr-var-data-in' type='checkbox'><label for='data-e6f7034b-0193-422d-8fb1-5bd507081279' title='Show/Hide data repr'><svg class='icon xr-icon-database'><use xlink:href='#icon-database'></use></svg></label><div class='xr-var-attrs'><dl class='xr-attrs'><dt><span>standard_name :</span></dt><dd>depth</dd><dt><span>long_name :</span></dt><dd>Depth</dd><dt><span>units :</span></dt><dd>m</dd><dt><span>valid_min :</span></dt><dd>-12000.0</dd><dt><span>valid_max :</span></dt><dd>12000.0</dd><dt><span>axis :</span></dt><dd>Z</dd><dt><span>positive :</span></dt><dd>down</dd><dt><span>uncertainty :</span></dt><dd> </dd><dt><span>reference :</span></dt><dd>sea_level</dd><dt><span>data_mode :</span></dt><dd>R</dd><dt><span>ancillary_variables :</span></dt><dd>DEPH_QC</dd></dl></div><div class='xr-var-data'><pre>[1524780 values with dtype=float32]</pre></div></li><li class='xr-var-item'><div class='xr-var-name'><span>DEPH_QC</span></div><div class='xr-var-dims'>(TIME, DEPTH)</div><div class='xr-var-dtype'>float32</div><div class='xr-var-preview xr-preview'>...</div><input id='attrs-159a6715-d7c2-4b6d-ac36-8d3fca78d8af' class='xr-var-attrs-in' type='checkbox' ><label for='attrs-159a6715-d7c2-4b6d-ac36-8d3fca78d8af' title='Show/Hide attributes'><svg class='icon xr-icon-file-text2'><use xlink:href='#icon-file-text2'></use></svg></label><input id='data-fc493d77-9304-4248-bbbd-555ce8f4fcab' class='xr-var-data-in' type='checkbox'><label for='data-fc493d77-9304-4248-bbbd-555ce8f4fcab' title='Show/Hide data repr'><svg class='icon xr-icon-database'><use xlink:href='#icon-database'></use></svg></label><div class='xr-var-attrs'><dl class='xr-attrs'><dt><span>long_name :</span></dt><dd>Depth quality flag</dd><dt><span>conventions :</span></dt><dd>Copernicus Marine In Situ reference table 2</dd><dt><span>flag_meanings :</span></dt><dd>no_qc_performed good_data probably_good_data bad_data_that_are_potentially_correctable bad_data value_changed value_below_detection nominal_value interpolated_value missing_value</dd><dt><span>valid_min :</span></dt><dd>0</dd><dt><span>valid_max :</span></dt><dd>9</dd><dt><span>flag_values :</span></dt><dd>[0 1 2 3 4 5 6 7 8 9]</dd></dl></div><div class='xr-var-data'><pre>[1524780 values with dtype=float32]</pre></div></li><li class='xr-var-item'><div class='xr-var-name'><span>TEMP</span></div><div class='xr-var-dims'>(TIME, DEPTH)</div><div class='xr-var-dtype'>float64</div><div class='xr-var-preview xr-preview'>...</div><input id='attrs-2c673352-96c5-4a57-b4fc-e0dc552c5b85' class='xr-var-attrs-in' type='checkbox' ><label for='attrs-2c673352-96c5-4a57-b4fc-e0dc552c5b85' title='Show/Hide attributes'><svg class='icon xr-icon-file-text2'><use xlink:href='#icon-file-text2'></use></svg></label><input id='data-29750c99-1a8d-4b76-99bb-698e0ee4a87a' class='xr-var-data-in' type='checkbox'><label for='data-29750c99-1a8d-4b76-99bb-698e0ee4a87a' title='Show/Hide data repr'><svg class='icon xr-icon-database'><use xlink:href='#icon-database'></use></svg></label><div class='xr-var-attrs'><dl class='xr-attrs'><dt><span>standard_name :</span></dt><dd>sea_water_temperature</dd><dt><span>long_name :</span></dt><dd>Sea temperature</dd><dt><span>units :</span></dt><dd>degrees_C</dd><dt><span>data_mode :</span></dt><dd>R</dd><dt><span>ancillary_variables :</span></dt><dd>TEMP_QC</dd></dl></div><div class='xr-var-data'><pre>[1524780 values with dtype=float64]</pre></div></li><li class='xr-var-item'><div class='xr-var-name'><span>TEMP_QC</span></div><div class='xr-var-dims'>(TIME, DEPTH)</div><div class='xr-var-dtype'>float32</div><div class='xr-var-preview xr-preview'>...</div><input id='attrs-4c144409-23fe-404b-9ab4-c31777c0ade6' class='xr-var-attrs-in' type='checkbox' ><label for='attrs-4c144409-23fe-404b-9ab4-c31777c0ade6' title='Show/Hide attributes'><svg class='icon xr-icon-file-text2'><use xlink:href='#icon-file-text2'></use></svg></label><input id='data-7bac6a88-d699-42b3-b153-f9733af5903e' class='xr-var-data-in' type='checkbox'><label for='data-7bac6a88-d699-42b3-b153-f9733af5903e' title='Show/Hide data repr'><svg class='icon xr-icon-database'><use xlink:href='#icon-database'></use></svg></label><div class='xr-var-attrs'><dl class='xr-attrs'><dt><span>long_name :</span></dt><dd>Sea temperature quality flag</dd><dt><span>conventions :</span></dt><dd>Copernicus Marine In Situ reference table 2</dd><dt><span>flag_meanings :</span></dt><dd>no_qc_performed good_data probably_good_data bad_data_that_are_potentially_correctable bad_data value_changed value_below_detection nominal_value interpolated_value missing_value</dd><dt><span>valid_min :</span></dt><dd>0</dd><dt><span>valid_max :</span></dt><dd>9</dd><dt><span>flag_values :</span></dt><dd>[0 1 2 3 4 5 6 7 8 9]</dd></dl></div><div class='xr-var-data'><pre>[1524780 values with dtype=float32]</pre></div></li><li class='xr-var-item'><div class='xr-var-name'><span>ATMP</span></div><div class='xr-var-dims'>(TIME, DEPTH)</div><div class='xr-var-dtype'>float64</div><div class='xr-var-preview xr-preview'>...</div><input id='attrs-66b550f9-4494-461f-b492-67256b2a6345' class='xr-var-attrs-in' type='checkbox' ><label for='attrs-66b550f9-4494-461f-b492-67256b2a6345' title='Show/Hide attributes'><svg class='icon xr-icon-file-text2'><use xlink:href='#icon-file-text2'></use></svg></label><input id='data-82da32c6-f710-451f-8d1e-b1bc8d703dfe' class='xr-var-data-in' type='checkbox'><label for='data-82da32c6-f710-451f-8d1e-b1bc8d703dfe' title='Show/Hide data repr'><svg class='icon xr-icon-database'><use xlink:href='#icon-database'></use></svg></label><div class='xr-var-attrs'><dl class='xr-attrs'><dt><span>standard_name :</span></dt><dd>air_pressure</dd><dt><span>long_name :</span></dt><dd>Atmospheric pressure at altitude</dd><dt><span>units :</span></dt><dd>hPa</dd><dt><span>data_mode :</span></dt><dd>R</dd><dt><span>ancillary_variables :</span></dt><dd>ATMP_QC</dd></dl></div><div class='xr-var-data'><pre>[1524780 values with dtype=float64]</pre></div></li><li class='xr-var-item'><div class='xr-var-name'><span>ATMP_QC</span></div><div class='xr-var-dims'>(TIME, DEPTH)</div><div class='xr-var-dtype'>float32</div><div class='xr-var-preview xr-preview'>...</div><input id='attrs-9cfd1868-8579-4e8f-b8a2-8aa0b9544586' class='xr-var-attrs-in' type='checkbox' ><label for='attrs-9cfd1868-8579-4e8f-b8a2-8aa0b9544586' title='Show/Hide attributes'><svg class='icon xr-icon-file-text2'><use xlink:href='#icon-file-text2'></use></svg></label><input id='data-8544c634-d459-4138-b4ef-cd64d00cee10' class='xr-var-data-in' type='checkbox'><label for='data-8544c634-d459-4138-b4ef-cd64d00cee10' title='Show/Hide data repr'><svg class='icon xr-icon-database'><use xlink:href='#icon-database'></use></svg></label><div class='xr-var-attrs'><dl class='xr-attrs'><dt><span>long_name :</span></dt><dd>Atmospheric pressure at altitude quality flag</dd><dt><span>conventions :</span></dt><dd>Copernicus Marine In Situ reference table 2</dd><dt><span>flag_meanings :</span></dt><dd>no_qc_performed good_data probably_good_data bad_data_that_are_potentially_correctable bad_data value_changed value_below_detection nominal_value interpolated_value missing_value</dd><dt><span>valid_min :</span></dt><dd>0</dd><dt><span>valid_max :</span></dt><dd>9</dd><dt><span>flag_values :</span></dt><dd>[0 1 2 3 4 5 6 7 8 9]</dd></dl></div><div class='xr-var-data'><pre>[1524780 values with dtype=float32]</pre></div></li><li class='xr-var-item'><div class='xr-var-name'><span>ATMS</span></div><div class='xr-var-dims'>(TIME, DEPTH)</div><div class='xr-var-dtype'>float64</div><div class='xr-var-preview xr-preview'>...</div><input id='attrs-eff44db8-f304-4396-aa86-c39fe0424477' class='xr-var-attrs-in' type='checkbox' ><label for='attrs-eff44db8-f304-4396-aa86-c39fe0424477' title='Show/Hide attributes'><svg class='icon xr-icon-file-text2'><use xlink:href='#icon-file-text2'></use></svg></label><input id='data-aa4cdf21-d965-4742-8c85-e7f74b6d5056' class='xr-var-data-in' type='checkbox'><label for='data-aa4cdf21-d965-4742-8c85-e7f74b6d5056' title='Show/Hide data repr'><svg class='icon xr-icon-database'><use xlink:href='#icon-database'></use></svg></label><div class='xr-var-attrs'><dl class='xr-attrs'><dt><span>standard_name :</span></dt><dd>air_pressure_at_sea_level</dd><dt><span>long_name :</span></dt><dd>Atmospheric pressure at sea level</dd><dt><span>units :</span></dt><dd>hPa</dd><dt><span>data_mode :</span></dt><dd>R</dd><dt><span>ancillary_variables :</span></dt><dd>ATMS_QC</dd></dl></div><div class='xr-var-data'><pre>[1524780 values with dtype=float64]</pre></div></li><li class='xr-var-item'><div class='xr-var-name'><span>ATMS_QC</span></div><div class='xr-var-dims'>(TIME, DEPTH)</div><div class='xr-var-dtype'>float32</div><div class='xr-var-preview xr-preview'>...</div><input id='attrs-8479f06e-ff35-49ed-b7cf-1a4bf7c06c30' class='xr-var-attrs-in' type='checkbox' ><label for='attrs-8479f06e-ff35-49ed-b7cf-1a4bf7c06c30' title='Show/Hide attributes'><svg class='icon xr-icon-file-text2'><use xlink:href='#icon-file-text2'></use></svg></label><input id='data-a85260b1-c59b-4a10-a436-3937090822a3' class='xr-var-data-in' type='checkbox'><label for='data-a85260b1-c59b-4a10-a436-3937090822a3' title='Show/Hide data repr'><svg class='icon xr-icon-database'><use xlink:href='#icon-database'></use></svg></label><div class='xr-var-attrs'><dl class='xr-attrs'><dt><span>long_name :</span></dt><dd>Atmospheric pressure at sea level quality flag</dd><dt><span>conventions :</span></dt><dd>Copernicus Marine In Situ reference table 2</dd><dt><span>flag_meanings :</span></dt><dd>no_qc_performed good_data probably_good_data bad_data_that_are_potentially_correctable bad_data value_changed value_below_detection nominal_value interpolated_value missing_value</dd><dt><span>valid_min :</span></dt><dd>0</dd><dt><span>valid_max :</span></dt><dd>9</dd><dt><span>flag_values :</span></dt><dd>[0 1 2 3 4 5 6 7 8 9]</dd></dl></div><div class='xr-var-data'><pre>[1524780 values with dtype=float32]</pre></div></li><li class='xr-var-item'><div class='xr-var-name'><span>DEWT</span></div><div class='xr-var-dims'>(TIME, DEPTH)</div><div class='xr-var-dtype'>float64</div><div class='xr-var-preview xr-preview'>...</div><input id='attrs-f874ca9a-7e6d-4ab9-ae10-057596339047' class='xr-var-attrs-in' type='checkbox' ><label for='attrs-f874ca9a-7e6d-4ab9-ae10-057596339047' title='Show/Hide attributes'><svg class='icon xr-icon-file-text2'><use xlink:href='#icon-file-text2'></use></svg></label><input id='data-8e8837ed-986e-44fc-9033-2cacf1e67225' class='xr-var-data-in' type='checkbox'><label for='data-8e8837ed-986e-44fc-9033-2cacf1e67225' title='Show/Hide data repr'><svg class='icon xr-icon-database'><use xlink:href='#icon-database'></use></svg></label><div class='xr-var-attrs'><dl class='xr-attrs'><dt><span>standard_name :</span></dt><dd>dew_point_temperature</dd><dt><span>long_name :</span></dt><dd>Dew point temperature</dd><dt><span>units :</span></dt><dd>degrees_C</dd><dt><span>data_mode :</span></dt><dd>R</dd><dt><span>ancillary_variables :</span></dt><dd>DEWT_QC</dd></dl></div><div class='xr-var-data'><pre>[1524780 values with dtype=float64]</pre></div></li><li class='xr-var-item'><div class='xr-var-name'><span>DEWT_QC</span></div><div class='xr-var-dims'>(TIME, DEPTH)</div><div class='xr-var-dtype'>float32</div><div class='xr-var-preview xr-preview'>...</div><input id='attrs-a525e159-6fe2-4a5b-9898-898fb593c853' class='xr-var-attrs-in' type='checkbox' ><label for='attrs-a525e159-6fe2-4a5b-9898-898fb593c853' title='Show/Hide attributes'><svg class='icon xr-icon-file-text2'><use xlink:href='#icon-file-text2'></use></svg></label><input id='data-a9b46911-5e72-4f14-b1f3-ef61ce817328' class='xr-var-data-in' type='checkbox'><label for='data-a9b46911-5e72-4f14-b1f3-ef61ce817328' title='Show/Hide data repr'><svg class='icon xr-icon-database'><use xlink:href='#icon-database'></use></svg></label><div class='xr-var-attrs'><dl class='xr-attrs'><dt><span>long_name :</span></dt><dd>Dew point temperature quality flag</dd><dt><span>conventions :</span></dt><dd>Copernicus Marine In Situ reference table 2</dd><dt><span>flag_meanings :</span></dt><dd>no_qc_performed good_data probably_good_data bad_data_that_are_potentially_correctable bad_data value_changed value_below_detection nominal_value interpolated_value missing_value</dd><dt><span>valid_min :</span></dt><dd>0</dd><dt><span>valid_max :</span></dt><dd>9</dd><dt><span>flag_values :</span></dt><dd>[0 1 2 3 4 5 6 7 8 9]</dd></dl></div><div class='xr-var-data'><pre>[1524780 values with dtype=float32]</pre></div></li><li class='xr-var-item'><div class='xr-var-name'><span>DRYT</span></div><div class='xr-var-dims'>(TIME, DEPTH)</div><div class='xr-var-dtype'>float64</div><div class='xr-var-preview xr-preview'>...</div><input id='attrs-4607c94b-e5a2-4dee-a57a-cc9d83cd32cf' class='xr-var-attrs-in' type='checkbox' ><label for='attrs-4607c94b-e5a2-4dee-a57a-cc9d83cd32cf' title='Show/Hide attributes'><svg class='icon xr-icon-file-text2'><use xlink:href='#icon-file-text2'></use></svg></label><input id='data-e17ff183-c1b2-456c-b027-08c3b711d093' class='xr-var-data-in' type='checkbox'><label for='data-e17ff183-c1b2-456c-b027-08c3b711d093' title='Show/Hide data repr'><svg class='icon xr-icon-database'><use xlink:href='#icon-database'></use></svg></label><div class='xr-var-attrs'><dl class='xr-attrs'><dt><span>standard_name :</span></dt><dd>air_temperature</dd><dt><span>long_name :</span></dt><dd>Air temperature in dry bulb</dd><dt><span>units :</span></dt><dd>degrees_C</dd><dt><span>data_mode :</span></dt><dd>R</dd><dt><span>ancillary_variables :</span></dt><dd>DRYT_QC</dd></dl></div><div class='xr-var-data'><pre>[1524780 values with dtype=float64]</pre></div></li><li class='xr-var-item'><div class='xr-var-name'><span>DRYT_QC</span></div><div class='xr-var-dims'>(TIME, DEPTH)</div><div class='xr-var-dtype'>float32</div><div class='xr-var-preview xr-preview'>...</div><input id='attrs-46b46fbd-6a51-42c9-8b39-9baaf6e22f60' class='xr-var-attrs-in' type='checkbox' ><label for='attrs-46b46fbd-6a51-42c9-8b39-9baaf6e22f60' title='Show/Hide attributes'><svg class='icon xr-icon-file-text2'><use xlink:href='#icon-file-text2'></use></svg></label><input id='data-e4f76cf8-2994-4814-af7b-5a0a4fa2f661' class='xr-var-data-in' type='checkbox'><label for='data-e4f76cf8-2994-4814-af7b-5a0a4fa2f661' title='Show/Hide data repr'><svg class='icon xr-icon-database'><use xlink:href='#icon-database'></use></svg></label><div class='xr-var-attrs'><dl class='xr-attrs'><dt><span>long_name :</span></dt><dd>Air temperature in dry bulb quality flag</dd><dt><span>conventions :</span></dt><dd>Copernicus Marine In Situ reference table 2</dd><dt><span>flag_meanings :</span></dt><dd>no_qc_performed good_data probably_good_data bad_data_that_are_potentially_correctable bad_data value_changed value_below_detection nominal_value interpolated_value missing_value</dd><dt><span>valid_min :</span></dt><dd>0</dd><dt><span>valid_max :</span></dt><dd>9</dd><dt><span>flag_values :</span></dt><dd>[0 1 2 3 4 5 6 7 8 9]</dd></dl></div><div class='xr-var-data'><pre>[1524780 values with dtype=float32]</pre></div></li><li class='xr-var-item'><div class='xr-var-name'><span>GSPD</span></div><div class='xr-var-dims'>(TIME, DEPTH)</div><div class='xr-var-dtype'>float64</div><div class='xr-var-preview xr-preview'>...</div><input id='attrs-26a71a6c-e4ae-4015-bb0b-648b7fe3072c' class='xr-var-attrs-in' type='checkbox' ><label for='attrs-26a71a6c-e4ae-4015-bb0b-648b7fe3072c' title='Show/Hide attributes'><svg class='icon xr-icon-file-text2'><use xlink:href='#icon-file-text2'></use></svg></label><input id='data-f6b8f30d-1351-418c-8ec5-d37919a8997e' class='xr-var-data-in' type='checkbox'><label for='data-f6b8f30d-1351-418c-8ec5-d37919a8997e' title='Show/Hide data repr'><svg class='icon xr-icon-database'><use xlink:href='#icon-database'></use></svg></label><div class='xr-var-attrs'><dl class='xr-attrs'><dt><span>standard_name :</span></dt><dd>wind_speed_of_gust</dd><dt><span>long_name :</span></dt><dd>Gust wind speed</dd><dt><span>units :</span></dt><dd>m s-1</dd><dt><span>data_mode :</span></dt><dd>R</dd><dt><span>ancillary_variables :</span></dt><dd>GSPD_QC</dd></dl></div><div class='xr-var-data'><pre>[1524780 values with dtype=float64]</pre></div></li><li class='xr-var-item'><div class='xr-var-name'><span>GSPD_QC</span></div><div class='xr-var-dims'>(TIME, DEPTH)</div><div class='xr-var-dtype'>float32</div><div class='xr-var-preview xr-preview'>...</div><input id='attrs-07fd962c-74d0-4539-9afb-044a425c3af0' class='xr-var-attrs-in' type='checkbox' ><label for='attrs-07fd962c-74d0-4539-9afb-044a425c3af0' title='Show/Hide attributes'><svg class='icon xr-icon-file-text2'><use xlink:href='#icon-file-text2'></use></svg></label><input id='data-087dccbb-6ff6-4e13-b914-ec9dd665fdbb' class='xr-var-data-in' type='checkbox'><label for='data-087dccbb-6ff6-4e13-b914-ec9dd665fdbb' title='Show/Hide data repr'><svg class='icon xr-icon-database'><use xlink:href='#icon-database'></use></svg></label><div class='xr-var-attrs'><dl class='xr-attrs'><dt><span>long_name :</span></dt><dd>Gust wind speed quality flag</dd><dt><span>conventions :</span></dt><dd>Copernicus Marine In Situ reference table 2</dd><dt><span>flag_meanings :</span></dt><dd>no_qc_performed good_data probably_good_data bad_data_that_are_potentially_correctable bad_data value_changed value_below_detection nominal_value interpolated_value missing_value</dd><dt><span>valid_min :</span></dt><dd>0</dd><dt><span>valid_max :</span></dt><dd>9</dd><dt><span>flag_values :</span></dt><dd>[0 1 2 3 4 5 6 7 8 9]</dd></dl></div><div class='xr-var-data'><pre>[1524780 values with dtype=float32]</pre></div></li><li class='xr-var-item'><div class='xr-var-name'><span>VHM0</span></div><div class='xr-var-dims'>(TIME, DEPTH)</div><div class='xr-var-dtype'>float64</div><div class='xr-var-preview xr-preview'>...</div><input id='attrs-4093c849-7510-4bff-a125-423dce0bf051' class='xr-var-attrs-in' type='checkbox' ><label for='attrs-4093c849-7510-4bff-a125-423dce0bf051' title='Show/Hide attributes'><svg class='icon xr-icon-file-text2'><use xlink:href='#icon-file-text2'></use></svg></label><input id='data-88337a1f-4d66-46eb-8ee6-97a9a50110d2' class='xr-var-data-in' type='checkbox'><label for='data-88337a1f-4d66-46eb-8ee6-97a9a50110d2' title='Show/Hide data repr'><svg class='icon xr-icon-database'><use xlink:href='#icon-database'></use></svg></label><div class='xr-var-attrs'><dl class='xr-attrs'><dt><span>standard_name :</span></dt><dd>sea_surface_wave_significant_height</dd><dt><span>long_name :</span></dt><dd>Spectral significant wave height (Hm0)</dd><dt><span>units :</span></dt><dd>m</dd><dt><span>type_of_analysis :</span></dt><dd>spectral analysis</dd><dt><span>data_mode :</span></dt><dd>R</dd><dt><span>ancillary_variables :</span></dt><dd>VHM0_QC</dd></dl></div><div class='xr-var-data'><pre>[1524780 values with dtype=float64]</pre></div></li><li class='xr-var-item'><div class='xr-var-name'><span>VHM0_QC</span></div><div class='xr-var-dims'>(TIME, DEPTH)</div><div class='xr-var-dtype'>float32</div><div class='xr-var-preview xr-preview'>...</div><input id='attrs-6c90d87c-905b-4865-a263-aa8105b94fcb' class='xr-var-attrs-in' type='checkbox' ><label for='attrs-6c90d87c-905b-4865-a263-aa8105b94fcb' title='Show/Hide attributes'><svg class='icon xr-icon-file-text2'><use xlink:href='#icon-file-text2'></use></svg></label><input id='data-3f2a682b-804c-4287-b05a-7b871b322b77' class='xr-var-data-in' type='checkbox'><label for='data-3f2a682b-804c-4287-b05a-7b871b322b77' title='Show/Hide data repr'><svg class='icon xr-icon-database'><use xlink:href='#icon-database'></use></svg></label><div class='xr-var-attrs'><dl class='xr-attrs'><dt><span>long_name :</span></dt><dd>Spectral significant wave height (Hm0) quality flag</dd><dt><span>conventions :</span></dt><dd>Copernicus Marine In Situ reference table 2</dd><dt><span>flag_meanings :</span></dt><dd>no_qc_performed good_data probably_good_data bad_data_that_are_potentially_correctable bad_data value_changed value_below_detection nominal_value interpolated_value missing_value</dd><dt><span>valid_min :</span></dt><dd>0</dd><dt><span>valid_max :</span></dt><dd>9</dd><dt><span>flag_values :</span></dt><dd>[0 1 2 3 4 5 6 7 8 9]</dd></dl></div><div class='xr-var-data'><pre>[1524780 values with dtype=float32]</pre></div></li><li class='xr-var-item'><div class='xr-var-name'><span>VMDR</span></div><div class='xr-var-dims'>(TIME, DEPTH)</div><div class='xr-var-dtype'>float64</div><div class='xr-var-preview xr-preview'>...</div><input id='attrs-71caad6c-8c00-4fe0-babc-6838dab147f3' class='xr-var-attrs-in' type='checkbox' ><label for='attrs-71caad6c-8c00-4fe0-babc-6838dab147f3' title='Show/Hide attributes'><svg class='icon xr-icon-file-text2'><use xlink:href='#icon-file-text2'></use></svg></label><input id='data-d48b4000-504d-4e96-8f8c-c6182ab0fdf3' class='xr-var-data-in' type='checkbox'><label for='data-d48b4000-504d-4e96-8f8c-c6182ab0fdf3' title='Show/Hide data repr'><svg class='icon xr-icon-database'><use xlink:href='#icon-database'></use></svg></label><div class='xr-var-attrs'><dl class='xr-attrs'><dt><span>standard_name :</span></dt><dd>sea_surface_wave_from_direction</dd><dt><span>long_name :</span></dt><dd>Mean wave direction from (Mdir)</dd><dt><span>units :</span></dt><dd>degree</dd><dt><span>type_of_analysis :</span></dt><dd>spectral analysis</dd><dt><span>data_mode :</span></dt><dd>R</dd><dt><span>ancillary_variables :</span></dt><dd>VMDR_QC</dd></dl></div><div class='xr-var-data'><pre>[1524780 values with dtype=float64]</pre></div></li><li class='xr-var-item'><div class='xr-var-name'><span>VMDR_QC</span></div><div class='xr-var-dims'>(TIME, DEPTH)</div><div class='xr-var-dtype'>float32</div><div class='xr-var-preview xr-preview'>...</div><input id='attrs-d030db72-fc44-46ad-84ec-060e7a3e14e8' class='xr-var-attrs-in' type='checkbox' ><label for='attrs-d030db72-fc44-46ad-84ec-060e7a3e14e8' title='Show/Hide attributes'><svg class='icon xr-icon-file-text2'><use xlink:href='#icon-file-text2'></use></svg></label><input id='data-f9e15902-b057-4330-8a82-f24f948e6f6c' class='xr-var-data-in' type='checkbox'><label for='data-f9e15902-b057-4330-8a82-f24f948e6f6c' title='Show/Hide data repr'><svg class='icon xr-icon-database'><use xlink:href='#icon-database'></use></svg></label><div class='xr-var-attrs'><dl class='xr-attrs'><dt><span>long_name :</span></dt><dd>Mean wave direction from (Mdir) quality flag</dd><dt><span>conventions :</span></dt><dd>Copernicus Marine In Situ reference table 2</dd><dt><span>flag_meanings :</span></dt><dd>no_qc_performed good_data probably_good_data bad_data_that_are_potentially_correctable bad_data value_changed value_below_detection nominal_value interpolated_value missing_value</dd><dt><span>valid_min :</span></dt><dd>0</dd><dt><span>valid_max :</span></dt><dd>9</dd><dt><span>flag_values :</span></dt><dd>[0 1 2 3 4 5 6 7 8 9]</dd></dl></div><div class='xr-var-data'><pre>[1524780 values with dtype=float32]</pre></div></li><li class='xr-var-item'><div class='xr-var-name'><span>VTM02</span></div><div class='xr-var-dims'>(TIME, DEPTH)</div><div class='xr-var-dtype'>float64</div><div class='xr-var-preview xr-preview'>...</div><input id='attrs-1cedcc54-8236-4d9e-9710-abcabe5971f5' class='xr-var-attrs-in' type='checkbox' ><label for='attrs-1cedcc54-8236-4d9e-9710-abcabe5971f5' title='Show/Hide attributes'><svg class='icon xr-icon-file-text2'><use xlink:href='#icon-file-text2'></use></svg></label><input id='data-8f93fc4b-7834-4fa2-a134-3f069ed82102' class='xr-var-data-in' type='checkbox'><label for='data-8f93fc4b-7834-4fa2-a134-3f069ed82102' title='Show/Hide data repr'><svg class='icon xr-icon-database'><use xlink:href='#icon-database'></use></svg></label><div class='xr-var-attrs'><dl class='xr-attrs'><dt><span>standard_name :</span></dt><dd>sea_surface_wave_mean_period_from_variance_spectral_density_second_frequency_moment</dd><dt><span>long_name :</span></dt><dd>Spectral moments (0,2) wave period (Tm02)</dd><dt><span>units :</span></dt><dd>s</dd><dt><span>type_of_analysis :</span></dt><dd>spectral analysis</dd><dt><span>data_mode :</span></dt><dd>R</dd><dt><span>ancillary_variables :</span></dt><dd>VTM02_QC</dd></dl></div><div class='xr-var-data'><pre>[1524780 values with dtype=float64]</pre></div></li><li class='xr-var-item'><div class='xr-var-name'><span>VTM02_QC</span></div><div class='xr-var-dims'>(TIME, DEPTH)</div><div class='xr-var-dtype'>float32</div><div class='xr-var-preview xr-preview'>...</div><input id='attrs-809a18dd-e983-45a1-a124-5f586e843e70' class='xr-var-attrs-in' type='checkbox' ><label for='attrs-809a18dd-e983-45a1-a124-5f586e843e70' title='Show/Hide attributes'><svg class='icon xr-icon-file-text2'><use xlink:href='#icon-file-text2'></use></svg></label><input id='data-c553e06e-960a-460c-9035-72d9a523708e' class='xr-var-data-in' type='checkbox'><label for='data-c553e06e-960a-460c-9035-72d9a523708e' title='Show/Hide data repr'><svg class='icon xr-icon-database'><use xlink:href='#icon-database'></use></svg></label><div class='xr-var-attrs'><dl class='xr-attrs'><dt><span>long_name :</span></dt><dd>Spectral moments (0,2) wave period (Tm02) quality flag</dd><dt><span>conventions :</span></dt><dd>Copernicus Marine In Situ reference table 2</dd><dt><span>flag_meanings :</span></dt><dd>no_qc_performed good_data probably_good_data bad_data_that_are_potentially_correctable bad_data value_changed value_below_detection nominal_value interpolated_value missing_value</dd><dt><span>valid_min :</span></dt><dd>0</dd><dt><span>valid_max :</span></dt><dd>9</dd><dt><span>flag_values :</span></dt><dd>[0 1 2 3 4 5 6 7 8 9]</dd></dl></div><div class='xr-var-data'><pre>[1524780 values with dtype=float32]</pre></div></li><li class='xr-var-item'><div class='xr-var-name'><span>VTPK</span></div><div class='xr-var-dims'>(TIME, DEPTH)</div><div class='xr-var-dtype'>float64</div><div class='xr-var-preview xr-preview'>...</div><input id='attrs-e9e52742-8d63-4ad4-be95-6cc63e5144fb' class='xr-var-attrs-in' type='checkbox' ><label for='attrs-e9e52742-8d63-4ad4-be95-6cc63e5144fb' title='Show/Hide attributes'><svg class='icon xr-icon-file-text2'><use xlink:href='#icon-file-text2'></use></svg></label><input id='data-8c64ec2c-b83b-4715-9add-593bdc63f6c8' class='xr-var-data-in' type='checkbox'><label for='data-8c64ec2c-b83b-4715-9add-593bdc63f6c8' title='Show/Hide data repr'><svg class='icon xr-icon-database'><use xlink:href='#icon-database'></use></svg></label><div class='xr-var-attrs'><dl class='xr-attrs'><dt><span>standard_name :</span></dt><dd>sea_surface_wave_period_at_variance_spectral_density_maximum</dd><dt><span>long_name :</span></dt><dd>Wave period at spectral peak / peak period (Tp)</dd><dt><span>units :</span></dt><dd>s</dd><dt><span>type_of_analysis :</span></dt><dd>spectral analysis</dd><dt><span>data_mode :</span></dt><dd>R</dd><dt><span>ancillary_variables :</span></dt><dd>VTPK_QC</dd></dl></div><div class='xr-var-data'><pre>[1524780 values with dtype=float64]</pre></div></li><li class='xr-var-item'><div class='xr-var-name'><span>VTPK_QC</span></div><div class='xr-var-dims'>(TIME, DEPTH)</div><div class='xr-var-dtype'>float32</div><div class='xr-var-preview xr-preview'>...</div><input id='attrs-d04206be-aaf7-4828-b04f-4563686c737f' class='xr-var-attrs-in' type='checkbox' ><label for='attrs-d04206be-aaf7-4828-b04f-4563686c737f' title='Show/Hide attributes'><svg class='icon xr-icon-file-text2'><use xlink:href='#icon-file-text2'></use></svg></label><input id='data-8ac092a9-f3e1-4544-84c5-56896313755b' class='xr-var-data-in' type='checkbox'><label for='data-8ac092a9-f3e1-4544-84c5-56896313755b' title='Show/Hide data repr'><svg class='icon xr-icon-database'><use xlink:href='#icon-database'></use></svg></label><div class='xr-var-attrs'><dl class='xr-attrs'><dt><span>long_name :</span></dt><dd>Wave period at spectral peak / peak period (Tp) quality flag</dd><dt><span>conventions :</span></dt><dd>Copernicus Marine In Situ reference table 2</dd><dt><span>flag_meanings :</span></dt><dd>no_qc_performed good_data probably_good_data bad_data_that_are_potentially_correctable bad_data value_changed value_below_detection nominal_value interpolated_value missing_value</dd><dt><span>valid_min :</span></dt><dd>0</dd><dt><span>valid_max :</span></dt><dd>9</dd><dt><span>flag_values :</span></dt><dd>[0 1 2 3 4 5 6 7 8 9]</dd></dl></div><div class='xr-var-data'><pre>[1524780 values with dtype=float32]</pre></div></li><li class='xr-var-item'><div class='xr-var-name'><span>WDIR</span></div><div class='xr-var-dims'>(TIME, DEPTH)</div><div class='xr-var-dtype'>float64</div><div class='xr-var-preview xr-preview'>...</div><input id='attrs-05c2e96d-a289-4e71-8091-ebe36f60ddca' class='xr-var-attrs-in' type='checkbox' ><label for='attrs-05c2e96d-a289-4e71-8091-ebe36f60ddca' title='Show/Hide attributes'><svg class='icon xr-icon-file-text2'><use xlink:href='#icon-file-text2'></use></svg></label><input id='data-c38d4770-2fda-4800-987a-f1a8a3fddfbf' class='xr-var-data-in' type='checkbox'><label for='data-c38d4770-2fda-4800-987a-f1a8a3fddfbf' title='Show/Hide data repr'><svg class='icon xr-icon-database'><use xlink:href='#icon-database'></use></svg></label><div class='xr-var-attrs'><dl class='xr-attrs'><dt><span>standard_name :</span></dt><dd>wind_from_direction</dd><dt><span>long_name :</span></dt><dd>Wind from direction relative true north</dd><dt><span>units :</span></dt><dd>degree</dd><dt><span>data_mode :</span></dt><dd>R</dd><dt><span>ancillary_variables :</span></dt><dd>WDIR_QC</dd></dl></div><div class='xr-var-data'><pre>[1524780 values with dtype=float64]</pre></div></li><li class='xr-var-item'><div class='xr-var-name'><span>WDIR_QC</span></div><div class='xr-var-dims'>(TIME, DEPTH)</div><div class='xr-var-dtype'>float32</div><div class='xr-var-preview xr-preview'>...</div><input id='attrs-2cf0c81c-a23d-4a84-b28d-9079d2038a3b' class='xr-var-attrs-in' type='checkbox' ><label for='attrs-2cf0c81c-a23d-4a84-b28d-9079d2038a3b' title='Show/Hide attributes'><svg class='icon xr-icon-file-text2'><use xlink:href='#icon-file-text2'></use></svg></label><input id='data-25a13292-e047-4d3a-8beb-d121ff395b37' class='xr-var-data-in' type='checkbox'><label for='data-25a13292-e047-4d3a-8beb-d121ff395b37' title='Show/Hide data repr'><svg class='icon xr-icon-database'><use xlink:href='#icon-database'></use></svg></label><div class='xr-var-attrs'><dl class='xr-attrs'><dt><span>long_name :</span></dt><dd>Wind from direction relative true north quality flag</dd><dt><span>conventions :</span></dt><dd>Copernicus Marine In Situ reference table 2</dd><dt><span>flag_meanings :</span></dt><dd>no_qc_performed good_data probably_good_data bad_data_that_are_potentially_correctable bad_data value_changed value_below_detection nominal_value interpolated_value missing_value</dd><dt><span>valid_min :</span></dt><dd>0</dd><dt><span>valid_max :</span></dt><dd>9</dd><dt><span>flag_values :</span></dt><dd>[0 1 2 3 4 5 6 7 8 9]</dd></dl></div><div class='xr-var-data'><pre>[1524780 values with dtype=float32]</pre></div></li><li class='xr-var-item'><div class='xr-var-name'><span>WSPD</span></div><div class='xr-var-dims'>(TIME, DEPTH)</div><div class='xr-var-dtype'>float64</div><div class='xr-var-preview xr-preview'>...</div><input id='attrs-ed57988a-cc97-4bf0-9bda-42b397b9775e' class='xr-var-attrs-in' type='checkbox' ><label for='attrs-ed57988a-cc97-4bf0-9bda-42b397b9775e' title='Show/Hide attributes'><svg class='icon xr-icon-file-text2'><use xlink:href='#icon-file-text2'></use></svg></label><input id='data-d2572318-8f68-45ed-bbee-9d6ff642eb84' class='xr-var-data-in' type='checkbox'><label for='data-d2572318-8f68-45ed-bbee-9d6ff642eb84' title='Show/Hide data repr'><svg class='icon xr-icon-database'><use xlink:href='#icon-database'></use></svg></label><div class='xr-var-attrs'><dl class='xr-attrs'><dt><span>standard_name :</span></dt><dd>wind_speed</dd><dt><span>long_name :</span></dt><dd>Horizontal wind speed</dd><dt><span>units :</span></dt><dd>m s-1</dd><dt><span>data_mode :</span></dt><dd>R</dd><dt><span>ancillary_variables :</span></dt><dd>WSPD_QC</dd></dl></div><div class='xr-var-data'><pre>[1524780 values with dtype=float64]</pre></div></li><li class='xr-var-item'><div class='xr-var-name'><span>WSPD_QC</span></div><div class='xr-var-dims'>(TIME, DEPTH)</div><div class='xr-var-dtype'>float32</div><div class='xr-var-preview xr-preview'>...</div><input id='attrs-e275860c-3fb3-4186-b102-d8943452673f' class='xr-var-attrs-in' type='checkbox' ><label for='attrs-e275860c-3fb3-4186-b102-d8943452673f' title='Show/Hide attributes'><svg class='icon xr-icon-file-text2'><use xlink:href='#icon-file-text2'></use></svg></label><input id='data-fa86da3a-0dca-44f0-9cd3-8bd7f3df2123' class='xr-var-data-in' type='checkbox'><label for='data-fa86da3a-0dca-44f0-9cd3-8bd7f3df2123' title='Show/Hide data repr'><svg class='icon xr-icon-database'><use xlink:href='#icon-database'></use></svg></label><div class='xr-var-attrs'><dl class='xr-attrs'><dt><span>long_name :</span></dt><dd>Horizontal wind speed quality flag</dd><dt><span>conventions :</span></dt><dd>Copernicus Marine In Situ reference table 2</dd><dt><span>flag_meanings :</span></dt><dd>no_qc_performed good_data probably_good_data bad_data_that_are_potentially_correctable bad_data value_changed value_below_detection nominal_value interpolated_value missing_value</dd><dt><span>valid_min :</span></dt><dd>0</dd><dt><span>valid_max :</span></dt><dd>9</dd><dt><span>flag_values :</span></dt><dd>[0 1 2 3 4 5 6 7 8 9]</dd></dl></div><div class='xr-var-data'><pre>[1524780 values with dtype=float32]</pre></div></li></ul></div></li><li class='xr-section-item'><input id='section-13919c33-2feb-405a-9d53-2ab21c1bd3b7' class='xr-section-summary-in' type='checkbox'  ><label for='section-13919c33-2feb-405a-9d53-2ab21c1bd3b7' class='xr-section-summary' >Indexes: <span>(3)</span></label><div class='xr-section-inline-details'></div><div class='xr-section-details'><ul class='xr-var-list'><li class='xr-var-item'><div class='xr-index-name'><div>TIME</div></div><div class='xr-index-preview'>PandasIndex</div><div></div><input id='index-4f924a4e-8659-4e74-9b51-8996bd4de6eb' class='xr-index-data-in' type='checkbox'/><label for='index-4f924a4e-8659-4e74-9b51-8996bd4de6eb' title='Show/Hide index repr'><svg class='icon xr-icon-database'><use xlink:href='#icon-database'></use></svg></label><div class='xr-index-data'><pre>PandasIndex(DatetimeIndex([&#x27;1978-12-16 12:00:00&#x27;, &#x27;1978-12-16 13:00:00&#x27;,\n",
       "               &#x27;1978-12-16 14:00:00&#x27;, &#x27;1978-12-16 15:00:00&#x27;,\n",
       "               &#x27;1978-12-16 16:00:00&#x27;, &#x27;1978-12-16 17:00:00&#x27;,\n",
       "               &#x27;1978-12-16 18:00:00&#x27;, &#x27;1978-12-16 19:00:00&#x27;,\n",
       "               &#x27;1978-12-16 20:00:00&#x27;, &#x27;1978-12-16 21:00:00&#x27;,\n",
       "               ...\n",
       "               &#x27;2023-01-31 14:50:00&#x27;, &#x27;2023-01-31 15:50:00&#x27;,\n",
       "               &#x27;2023-01-31 16:50:00&#x27;, &#x27;2023-01-31 17:50:00&#x27;,\n",
       "               &#x27;2023-01-31 18:50:00&#x27;, &#x27;2023-01-31 19:50:00&#x27;,\n",
       "               &#x27;2023-01-31 20:50:00&#x27;, &#x27;2023-01-31 21:50:00&#x27;,\n",
       "               &#x27;2023-01-31 22:50:00&#x27;, &#x27;2023-01-31 23:50:00&#x27;],\n",
       "              dtype=&#x27;datetime64[ns]&#x27;, name=&#x27;TIME&#x27;, length=304956, freq=None))</pre></div></li><li class='xr-var-item'><div class='xr-index-name'><div>LATITUDE</div></div><div class='xr-index-preview'>PandasIndex</div><div></div><input id='index-7b0b7870-7ed6-4214-aa2a-aec84d76293d' class='xr-index-data-in' type='checkbox'/><label for='index-7b0b7870-7ed6-4214-aa2a-aec84d76293d' title='Show/Hide index repr'><svg class='icon xr-icon-database'><use xlink:href='#icon-database'></use></svg></label><div class='xr-index-data'><pre>PandasIndex(Float64Index([43.18000030517578, 43.18000030517578, 43.18000030517578,\n",
       "              43.18000030517578, 43.18000030517578, 43.18000030517578,\n",
       "              43.18000030517578, 43.18000030517578, 43.18000030517578,\n",
       "              43.18000030517578,\n",
       "              ...\n",
       "              43.20100021362305, 43.20100021362305, 43.20100021362305,\n",
       "              43.20100021362305, 43.20100021362305, 43.20100021362305,\n",
       "              43.20100021362305, 43.20100021362305, 43.20100021362305,\n",
       "              43.20100021362305],\n",
       "             dtype=&#x27;float64&#x27;, name=&#x27;LATITUDE&#x27;, length=304956))</pre></div></li><li class='xr-var-item'><div class='xr-index-name'><div>LONGITUDE</div></div><div class='xr-index-preview'>PandasIndex</div><div></div><input id='index-59f4d909-2f45-46fd-a023-baa2987681b7' class='xr-index-data-in' type='checkbox'/><label for='index-59f4d909-2f45-46fd-a023-baa2987681b7' title='Show/Hide index repr'><svg class='icon xr-icon-database'><use xlink:href='#icon-database'></use></svg></label><div class='xr-index-data'><pre>PandasIndex(Float64Index([-69.18000030517578, -69.18000030517578, -69.18000030517578,\n",
       "              -69.18000030517578, -69.18000030517578, -69.18000030517578,\n",
       "              -69.18000030517578, -69.18000030517578, -69.18000030517578,\n",
       "              -69.18000030517578,\n",
       "              ...\n",
       "              -69.12799835205078, -69.12799835205078, -69.12799835205078,\n",
       "              -69.12799835205078, -69.12799835205078, -69.12799835205078,\n",
       "              -69.12799835205078, -69.12799835205078, -69.12799835205078,\n",
       "              -69.12799835205078],\n",
       "             dtype=&#x27;float64&#x27;, name=&#x27;LONGITUDE&#x27;, length=304956))</pre></div></li></ul></div></li><li class='xr-section-item'><input id='section-22bcea94-ac39-448a-82fd-48d49c6bfe33' class='xr-section-summary-in' type='checkbox'  ><label for='section-22bcea94-ac39-448a-82fd-48d49c6bfe33' class='xr-section-summary' >Attributes: <span>(49)</span></label><div class='xr-section-inline-details'></div><div class='xr-section-details'><dl class='xr-attrs'><dt><span>data_type :</span></dt><dd>OceanSITES time-series data</dd><dt><span>format_version :</span></dt><dd>1.4</dd><dt><span>platform_code :</span></dt><dd>44005</dd><dt><span>institution :</span></dt><dd>National Data Buoy Center (NDBC) ; National Oceanic and Atmospheric Administration (NOAA)</dd><dt><span>institution_edmo_code :</span></dt><dd>1463</dd><dt><span>site_code :</span></dt><dd> </dd><dt><span>wmo_platform_code :</span></dt><dd>44005</dd><dt><span>coriolis_platform_code :</span></dt><dd>44005</dd><dt><span>platform_name :</span></dt><dd>Gulf of Maine</dd><dt><span>ices_platform_code :</span></dt><dd> </dd><dt><span>source :</span></dt><dd>moored surface buoy</dd><dt><span>source_platform_category_code :</span></dt><dd>41</dd><dt><span>wmo_inst_type :</span></dt><dd> </dd><dt><span>references :</span></dt><dd>http://marine.copernicus.eu http://www.marineinsitu.eu</dd><dt><span>comment :</span></dt><dd> </dd><dt><span>Conventions :</span></dt><dd>CF-1.6 Copernicus-InSituTAC-FormatManual-1.42 Copernicus-InSituTAC-SRD-1.5 Copernicus-InSituTAC-ParametersList-3.2.1</dd><dt><span>netcdf_version :</span></dt><dd>netCDF-4 classic model</dd><dt><span>title :</span></dt><dd>Global Ocean - In Situ Observation Copernicus</dd><dt><span>summary :</span></dt><dd> </dd><dt><span>naming_authority :</span></dt><dd>Copernicus Marine In Situ</dd><dt><span>author :</span></dt><dd> </dd><dt><span>id :</span></dt><dd>GL_TS_MO_44005</dd><dt><span>cdm_data_type :</span></dt><dd>timeSeries</dd><dt><span>area :</span></dt><dd>Global Ocean</dd><dt><span>bottom_depth :</span></dt><dd> </dd><dt><span>institution_references :</span></dt><dd> </dd><dt><span>contact :</span></dt><dd>cmems-service@ifremer.fr</dd><dt><span>data_assembly_center :</span></dt><dd>Ifremer</dd><dt><span>pi_name :</span></dt><dd> </dd><dt><span>distribution_statement :</span></dt><dd>These data follow Copernicus standards; they are public and free of charge. User assumes all risk for use of data. User must display citation in any publication or product using data. User must contact PI prior to any commercial use of data.</dd><dt><span>citation :</span></dt><dd>These data were collected and made freely available by the Copernicus project and the programs that contribute to it. </dd><dt><span>update_interval :</span></dt><dd>P1D</dd><dt><span>qc_manual :</span></dt><dd>Recommendations for in-situ data Near Real Time Quality Control https://doi.org/10.13155/36230</dd><dt><span>doi :</span></dt><dd>https://doi.org/10.13155/59938 https://doi.org/10.13155/40846 https://doi.org/10.13155/53381 https://doi.org/10.13155/36230 https://doi.org/10.13155/43494</dd><dt><span>license :</span></dt><dd>https://marine.copernicus.eu/user-corner/service-commitments-and-licence</dd><dt><span>geospatial_lat_min :</span></dt><dd>43.18000</dd><dt><span>geospatial_lat_max :</span></dt><dd>43.20400</dd><dt><span>geospatial_lon_min :</span></dt><dd>-69.18000</dd><dt><span>geospatial_lon_max :</span></dt><dd>-69.12700</dd><dt><span>geospatial_vertical_min :</span></dt><dd>-4.90</dd><dt><span>geospatial_vertical_max :</span></dt><dd>1.00</dd><dt><span>time_coverage_start :</span></dt><dd>1978-12-16T12:00:00Z</dd><dt><span>time_coverage_end :</span></dt><dd>2023-01-31T23:50:00Z</dd><dt><span>last_date_observation :</span></dt><dd>2023-01-31T23:50:00Z</dd><dt><span>last_latitude_observation :</span></dt><dd>43.20100</dd><dt><span>last_longitude_observation :</span></dt><dd>-69.12800</dd><dt><span>date_update :</span></dt><dd>2023-02-07T19:28:46Z</dd><dt><span>history :</span></dt><dd>2023-02-07T19:28:46Z : Creation</dd><dt><span>data_mode :</span></dt><dd>R</dd></dl></div></li></ul></div></div>"
      ],
      "text/plain": [
       "<xarray.Dataset>\n",
       "Dimensions:       (TIME: 304956, LATITUDE: 304956, LONGITUDE: 304956,\n",
       "                   POSITION: 304956, DEPTH: 5)\n",
       "Coordinates:\n",
       "  * TIME          (TIME) datetime64[ns] 1978-12-16T12:00:00 ... 2023-01-31T23...\n",
       "  * LATITUDE      (LATITUDE) float32 43.18 43.18 43.18 43.18 ... 43.2 43.2 43.2\n",
       "  * LONGITUDE     (LONGITUDE) float32 -69.18 -69.18 -69.18 ... -69.13 -69.13\n",
       "Dimensions without coordinates: POSITION, DEPTH\n",
       "Data variables: (12/29)\n",
       "    TIME_QC       (TIME) float32 ...\n",
       "    POSITION_QC   (POSITION) float32 ...\n",
       "    DC_REFERENCE  (TIME) object ...\n",
       "    DEPH          (TIME, DEPTH) float32 ...\n",
       "    DEPH_QC       (TIME, DEPTH) float32 ...\n",
       "    TEMP          (TIME, DEPTH) float64 ...\n",
       "    ...            ...\n",
       "    VTPK          (TIME, DEPTH) float64 ...\n",
       "    VTPK_QC       (TIME, DEPTH) float32 ...\n",
       "    WDIR          (TIME, DEPTH) float64 ...\n",
       "    WDIR_QC       (TIME, DEPTH) float32 ...\n",
       "    WSPD          (TIME, DEPTH) float64 ...\n",
       "    WSPD_QC       (TIME, DEPTH) float32 ...\n",
       "Attributes: (12/49)\n",
       "    data_type:                      OceanSITES time-series data\n",
       "    format_version:                 1.4\n",
       "    platform_code:                  44005\n",
       "    institution:                    National Data Buoy Center (NDBC) ; Nation...\n",
       "    institution_edmo_code:          1463\n",
       "    site_code:                       \n",
       "    ...                             ...\n",
       "    last_date_observation:          2023-01-31T23:50:00Z\n",
       "    last_latitude_observation:      43.20100\n",
       "    last_longitude_observation:     -69.12800\n",
       "    date_update:                    2023-02-07T19:28:46Z\n",
       "    history:                        2023-02-07T19:28:46Z : Creation\n",
       "    data_mode:                      R"
      ]
     },
     "execution_count": 3,
     "metadata": {},
     "output_type": "execute_result"
    }
   ],
   "source": [
    "data_dir = '/data/exjobb/sarssw/bouy/INSITU_GLO_PHYBGCWAV_DISCRETE_MYNRT_013_030/MO'\n",
    "\n",
    "start_date = '2000-01-01'\n",
    "end_date = '2021-12-31'\n",
    "variables = ['VHM0', 'VAVH', 'WSPD']#['VHM0', 'VAVH', 'WSPD']\n",
    "\n",
    "files = os.listdir(data_dir)\n",
    "test_ds = xr.open_dataset(os.path.join(data_dir, 'GL_TS_MO_44005.nc')) #IR_TS_MO_6201039\n",
    "test_ds"
   ]
  },
  {
   "cell_type": "code",
   "execution_count": 4,
   "id": "0a2ecb4d",
   "metadata": {},
   "outputs": [
    {
     "data": {
      "text/html": [
       "<div>\n",
       "<style scoped>\n",
       "    .dataframe tbody tr th:only-of-type {\n",
       "        vertical-align: middle;\n",
       "    }\n",
       "\n",
       "    .dataframe tbody tr th {\n",
       "        vertical-align: top;\n",
       "    }\n",
       "\n",
       "    .dataframe thead th {\n",
       "        text-align: right;\n",
       "    }\n",
       "</style>\n",
       "<table border=\"1\" class=\"dataframe\">\n",
       "  <thead>\n",
       "    <tr style=\"text-align: right;\">\n",
       "      <th></th>\n",
       "      <th>DEPTH</th>\n",
       "      <th>WSPD</th>\n",
       "      <th>LONG</th>\n",
       "      <th>LAT</th>\n",
       "      <th>DEPH</th>\n",
       "    </tr>\n",
       "    <tr>\n",
       "      <th>TIME</th>\n",
       "      <th></th>\n",
       "      <th></th>\n",
       "      <th></th>\n",
       "      <th></th>\n",
       "      <th></th>\n",
       "    </tr>\n",
       "  </thead>\n",
       "  <tbody>\n",
       "    <tr>\n",
       "      <th>2000-01-01 00:00:00.000000000</th>\n",
       "      <td>0</td>\n",
       "      <td>3.199</td>\n",
       "      <td>-69.180000</td>\n",
       "      <td>43.180</td>\n",
       "      <td>-4.9</td>\n",
       "    </tr>\n",
       "    <tr>\n",
       "      <th>2000-01-01 01:00:00.000000000</th>\n",
       "      <td>0</td>\n",
       "      <td>2.999</td>\n",
       "      <td>-69.180000</td>\n",
       "      <td>43.180</td>\n",
       "      <td>-4.9</td>\n",
       "    </tr>\n",
       "    <tr>\n",
       "      <th>2000-01-01 02:00:00.000000000</th>\n",
       "      <td>0</td>\n",
       "      <td>2.999</td>\n",
       "      <td>-69.180000</td>\n",
       "      <td>43.180</td>\n",
       "      <td>-4.9</td>\n",
       "    </tr>\n",
       "    <tr>\n",
       "      <th>2000-01-01 03:00:00.000000000</th>\n",
       "      <td>0</td>\n",
       "      <td>2.699</td>\n",
       "      <td>-69.180000</td>\n",
       "      <td>43.180</td>\n",
       "      <td>-4.9</td>\n",
       "    </tr>\n",
       "    <tr>\n",
       "      <th>2000-01-01 04:00:00.000000000</th>\n",
       "      <td>0</td>\n",
       "      <td>1.999</td>\n",
       "      <td>-69.180000</td>\n",
       "      <td>43.180</td>\n",
       "      <td>-4.9</td>\n",
       "    </tr>\n",
       "    <tr>\n",
       "      <th>...</th>\n",
       "      <td>...</td>\n",
       "      <td>...</td>\n",
       "      <td>...</td>\n",
       "      <td>...</td>\n",
       "      <td>...</td>\n",
       "    </tr>\n",
       "    <tr>\n",
       "      <th>2021-12-31 19:50:00.000000256</th>\n",
       "      <td>0</td>\n",
       "      <td>1.099</td>\n",
       "      <td>-69.126999</td>\n",
       "      <td>43.201</td>\n",
       "      <td>-4.9</td>\n",
       "    </tr>\n",
       "    <tr>\n",
       "      <th>2021-12-31 20:50:00.000000000</th>\n",
       "      <td>0</td>\n",
       "      <td>1.199</td>\n",
       "      <td>-69.126999</td>\n",
       "      <td>43.201</td>\n",
       "      <td>-4.9</td>\n",
       "    </tr>\n",
       "    <tr>\n",
       "      <th>2021-12-31 21:50:00.000000000</th>\n",
       "      <td>0</td>\n",
       "      <td>2.199</td>\n",
       "      <td>-69.126999</td>\n",
       "      <td>43.201</td>\n",
       "      <td>-4.9</td>\n",
       "    </tr>\n",
       "    <tr>\n",
       "      <th>2021-12-31 22:50:00.000000256</th>\n",
       "      <td>0</td>\n",
       "      <td>2.399</td>\n",
       "      <td>-69.126999</td>\n",
       "      <td>43.201</td>\n",
       "      <td>-4.9</td>\n",
       "    </tr>\n",
       "    <tr>\n",
       "      <th>2021-12-31 23:50:00.000000000</th>\n",
       "      <td>0</td>\n",
       "      <td>2.899</td>\n",
       "      <td>-69.126999</td>\n",
       "      <td>43.201</td>\n",
       "      <td>-4.9</td>\n",
       "    </tr>\n",
       "  </tbody>\n",
       "</table>\n",
       "<p>124528 rows × 5 columns</p>\n",
       "</div>"
      ],
      "text/plain": [
       "                               DEPTH   WSPD       LONG     LAT  DEPH\n",
       "TIME                                                                \n",
       "2000-01-01 00:00:00.000000000      0  3.199 -69.180000  43.180  -4.9\n",
       "2000-01-01 01:00:00.000000000      0  2.999 -69.180000  43.180  -4.9\n",
       "2000-01-01 02:00:00.000000000      0  2.999 -69.180000  43.180  -4.9\n",
       "2000-01-01 03:00:00.000000000      0  2.699 -69.180000  43.180  -4.9\n",
       "2000-01-01 04:00:00.000000000      0  1.999 -69.180000  43.180  -4.9\n",
       "...                              ...    ...        ...     ...   ...\n",
       "2021-12-31 19:50:00.000000256      0  1.099 -69.126999  43.201  -4.9\n",
       "2021-12-31 20:50:00.000000000      0  1.199 -69.126999  43.201  -4.9\n",
       "2021-12-31 21:50:00.000000000      0  2.199 -69.126999  43.201  -4.9\n",
       "2021-12-31 22:50:00.000000256      0  2.399 -69.126999  43.201  -4.9\n",
       "2021-12-31 23:50:00.000000000      0  2.899 -69.126999  43.201  -4.9\n",
       "\n",
       "[124528 rows x 5 columns]"
      ]
     },
     "execution_count": 4,
     "metadata": {},
     "output_type": "execute_result"
    }
   ],
   "source": [
    "df = valid_data_extraction(test_ds, (start_date, end_date), 'WSPD', (-30,0))\n",
    "df"
   ]
  },
  {
   "cell_type": "code",
   "execution_count": 5,
   "id": "6008c844",
   "metadata": {
    "collapsed": true
   },
   "outputs": [],
   "source": [
    "# Searches for SAR images that overlaps with the data in file according to the filters specified by the arguments:\n",
    "\n",
    "# file: specifies the file name of the bouy data\n",
    "\n",
    "# data_dir: is the directory\n",
    "\n",
    "# start_date & end_date: are the time filters for the data\n",
    "\n",
    "# variables_dephs: The keys are the variable to extract data for while the values are the accepted depth ranges \n",
    "# (in meters) for the corresponding variable negative values are depth under surface while positive is above \n",
    "\n",
    "# max_time_diff_s: Is the absolute time difference between image and bouy observation in seconds\n",
    "\n",
    "# land_multipolygon: is the shapely multipolygon object that describes the land and close to shore map of earth\n",
    "# observations from these areas are filtered\n",
    "\n",
    "# result_df: is the dataframe where the result is saved, if it is passed as None it is automatically created with the correct columns\n",
    "\n",
    "# The data is also quiality controlled and only rows containing valid in regards to the variable, time, position and depth are accepted\n",
    "def search_file(file, data_dir, start_date, end_date, variables_dephs, max_time_diff_s, land_multipolygon, result_df):\n",
    "    #Conditionally create the result dataframe\n",
    "    if result_df is None:\n",
    "        result_df = pd.DataFrame({c: pd.Series(dtype=t) for c, t in {\n",
    "            'bouy_file_name':str,\n",
    "            'bouy_longitude':float,\n",
    "            'bouy_latitude':float,\n",
    "            'bouy_time':np.dtype('<M8[ns]'), #np.datetime64\n",
    "            'bouy_depth_index':int, #The depth index\n",
    "            'bouy_depth':float, #The deph (depth) value in meters, positive is under water\n",
    "            'bouy_variable_name':str,\n",
    "            'bouy_variable_value':float,\n",
    "            'sar_url':str,\n",
    "            'sar_mode':str,\n",
    "            'sar_polarization':str,\n",
    "            'sar_platform':str,\n",
    "            'sar_start_time':np.dtype('<M8[ns]'), #np.datetime64\n",
    "            'sar_stop_time':np.dtype('<M8[ns]'), #np.datetime64\n",
    "            'sar_coordinates':object, #List\n",
    "        }.items()})\n",
    "\n",
    "    #Load the data from the file\n",
    "    file_path = os.path.join(data_dir, file)\n",
    "    xar = xr.open_dataset(file_path)# , engine='scipy')\n",
    "    xar_vars = list(xar.data_vars)\n",
    "\n",
    "    #Clear any eventual prior asf search result\n",
    "    asf_results = None\n",
    "    \n",
    "    #Filter for variables that exist in the data\n",
    "    common_variables = set(variables_dephs.keys()).intersection(xar_vars)\n",
    "    \n",
    "    if len(common_variables) == 0:\n",
    "        print(file + \" does not have any of the variables \" + str(variables))\n",
    "        return result_df\n",
    "    \n",
    "    for var in common_variables:\n",
    "        try:\n",
    "            #extract dataframe of the correct timeinterval and variable \n",
    "            df = valid_data_extraction(xar, (start_date, end_date), var, variables_dephs[var])\n",
    "        except Exception as e:\n",
    "            print(file, ': data extraction failed with:', e)\n",
    "            continue\n",
    "        \n",
    "        if df.empty:\n",
    "            print(file + \" does not have any valid data for this timeperiod\")\n",
    "            continue\n",
    "            \n",
    "        #Only search once (assume similar results in regards to min and max longitude and latitude for each variable)\n",
    "        if asf_results is None:\n",
    "            #extract long and latitude\n",
    "            long_min, lat_min = df[['LONG', 'LAT']].min()\n",
    "            long_max, lat_max = df[['LONG', 'LAT']].max()\n",
    "\n",
    "            #Create geographical search restriction\n",
    "            coord_points = list(itertools.product(set([long_min, long_max]), set([lat_min, lat_max])))\n",
    "\n",
    "            #For each possible length of coord_points set the prefix ans dufix for the asf search\n",
    "            #Also create a shapely geometry to check for overlap with the land_multipolygon\n",
    "            if len(coord_points) == 1:\n",
    "                geo_prefix = 'POINT('\n",
    "                geo_suffix = ')'\n",
    "                geo_obj = Point(*coord_points)\n",
    "            elif len(coord_points) == 2:\n",
    "                #raise Exception(\"First time we see only changes in one coordinate, debug and make sure it works porpery\")\n",
    "                geo_prefix = 'LINESTRING('\n",
    "                geo_suffix = ')'\n",
    "                geo_obj = LineString(coord_points)\n",
    "            elif len(coord_points) == 4:\n",
    "                #Double parenthesis was given from asf website export search as python function\n",
    "                geo_prefix = 'POLYGON(('\n",
    "                geo_suffix = '))'\n",
    "                #Untangle the polygon itersection\n",
    "                coord_points[2:4]=reversed(coord_points[2:4])\n",
    "                #Form closed polygon by adding adding fist point as last\n",
    "                coord_points.append(coord_points[0])\n",
    "                geo_obj = Polygon(coord_points)\n",
    "\n",
    "            #The area that of the locations in the data that is not near the shoreline\n",
    "            off_shore = geo_obj.difference(land_multipolygon)\n",
    "\n",
    "            #Check if the whole area of interest is close to shore or overlapps with land\n",
    "            #in that case return\n",
    "            if off_shore.is_empty:\n",
    "                print(file + \" is too close to land\")\n",
    "                return result_df\n",
    "\n",
    "            #Filter data of df to only include data that does not lie close to shore\n",
    "            #allow a small distance since points on the edge doeas not overlap according to shapely.overlaps \n",
    "            df_shore_filter =  df.apply(lambda row: Point([row['LONG'], row['LAT']]).distance(off_shore), axis=1) <= 0.00001\n",
    "            df = df[df_shore_filter]\n",
    "\n",
    "            geo_limit = ','.join([str(long) + ' ' + str(lat) for long,lat in coord_points])\n",
    "            geo_limit = geo_prefix + geo_limit + geo_suffix\n",
    "            \n",
    "            print(geo_limit)\n",
    "\n",
    "            #Search asf\n",
    "            options = {\n",
    "                'intersectsWith': geo_limit,\n",
    "                'platform': 'SENTINEL-1',\n",
    "                'instrument': 'C-SAR',\n",
    "                'start': start_date,\n",
    "                'end': end_date,\n",
    "                'processingLevel': [\n",
    "                    'GRD_HD',\n",
    "                    'GRD_MD',\n",
    "                    'GRD_MS',\n",
    "                    'GRD_HS'\n",
    "                ],\n",
    "                'beamSwath': [\n",
    "                    'IW',\n",
    "                    'EW'\n",
    "                ],\n",
    "            }\n",
    "\n",
    "            asf_results = asf.search(**options)\n",
    "            print(len(asf_results), ' results found')\n",
    "        \n",
    "        for asf_result in asf_results:\n",
    "            #Find mean time of image generation\n",
    "            asf_result_start = datetime.datetime.fromisoformat(asf_result.properties['startTime'][:-5])\n",
    "            asf_result_stop = datetime.datetime.fromisoformat(asf_result.properties['stopTime'][:-5])\n",
    "            asf_result_mean_time = asf_result_start + (asf_result_stop-asf_result_start)/2\n",
    "        \n",
    "            #Check the shape type\n",
    "            if asf_result.geometry['type'] != 'Polygon':\n",
    "                raise ValueError('The shape of the search result is not Polygon but instead: ' + asf_result.geometry['type'])\n",
    "            \n",
    "            #Filter for points that lie within the image\n",
    "            if geo_prefix != 'POINT(':\n",
    "                polygon = Polygon(asf_result.geometry['coordinates'][0])\n",
    "                df_dist_filter =  df.apply(lambda row: Point([row['LONG'], row['LAT']]).distance(polygon), axis=1) <= 0.0001\n",
    "                df_close = df[df_dist_filter]\n",
    "                \n",
    "                #Skip is we have no overlaping points\n",
    "                if df_close.empty:\n",
    "                    #print(\"No geographical overlap\")\n",
    "                    continue\n",
    "                    \n",
    "            #No geographical overlap check needed (point search)\n",
    "            else:\n",
    "                df_close = df\n",
    "            \n",
    "            #Find closest entry in time\n",
    "            closest_data_row = df_close.iloc[df_close.index.get_indexer([asf_result_mean_time], method='nearest')] #only one row of data\n",
    "\n",
    "            max_time_diff = datetime.timedelta(seconds=max_time_diff_s)\n",
    "            \n",
    "            #Check if it is close enough to be considered overlapping\n",
    "            if abs(closest_data_row.index[0] - asf_result_mean_time) <= max_time_diff:\n",
    "                #Save result in the dataframe\n",
    "                result_df.loc[len(result_df.index)] = [\n",
    "                    file, #'bouy_file_name':str,\n",
    "                    closest_data_row['LONG'][0], #'bouy_longitude':float,\n",
    "                    closest_data_row['LAT'][0], #'bouy_latitude':float,\n",
    "                    closest_data_row.index[0], #'bouy_time':np.dtype('<M8[ns]'), #np.datetime64\n",
    "                    closest_data_row['DEPTH'][0], #'bouy_depth_index':int, #The depth index\n",
    "                    closest_data_row['DEPH'][0], #'bouy_depth':float,\n",
    "                    var, #'bouy_variable_name':str,\n",
    "                    closest_data_row[var][0], #'bouy_variable_value':float,\n",
    "                    asf_result.properties['url'], #'sar_url':str,\n",
    "                    asf_result.properties['beamModeType'], #'sar_mode':str,\n",
    "                    asf_result.properties['polarization'].split('+'), #'sar_polarization':str,\n",
    "                    asf_result.properties['platform'], #'sar_platform':str,\n",
    "                    asf_result_start, #'sar_start_time':np.dtype('<M8[ns]'), #np.datetime64\n",
    "                    asf_result_stop, #'sar_stop_time':np.dtype('<M8[ns]'), #np.datetime64\n",
    "                    asf_result.geometry['coordinates'][0], #'sar_coordinates':list,\n",
    "                ]\n",
    "                \n",
    "            else:\n",
    "                #print('No time overlap')\n",
    "                pass\n",
    "            \n",
    "        \n",
    "    return result_df"
   ]
  },
  {
   "cell_type": "code",
   "execution_count": 6,
   "id": "eb9841e5",
   "metadata": {
    "collapsed": true
   },
   "outputs": [
    {
     "name": "stderr",
     "output_type": "stream",
     "text": [
      "  0%|          | 0/2487 [00:00<?, ?it/s]"
     ]
    },
    {
     "name": "stdout",
     "output_type": "stream",
     "text": [
      "\n",
      " GL_WS_MO_46041.nc\n",
      "GL_WS_MO_46041.nc does not have any of the variables ['VHM0', 'VAVH', 'WSPD']\n",
      "\n",
      " GL_TS_MO_41159.nc\n",
      "POINT(-76.9489974975586 34.2130012512207)\n"
     ]
    },
    {
     "name": "stderr",
     "output_type": "stream",
     "text": [
      "  0%|          | 2/2487 [00:08<3:03:50,  4.44s/it]"
     ]
    },
    {
     "name": "stdout",
     "output_type": "stream",
     "text": [
      "27  results found\n",
      "\n",
      " GL_TS_MO_48011.nc\n"
     ]
    },
    {
     "name": "stderr",
     "output_type": "stream",
     "text": [
      "  0%|          | 5/2487 [00:08<59:24,  1.44s/it]  "
     ]
    },
    {
     "name": "stdout",
     "output_type": "stream",
     "text": [
      "GL_TS_MO_48011.nc does not have any valid data for this timeperiod\n",
      "GL_TS_MO_48011.nc does not have any valid data for this timeperiod\n",
      "\n",
      " GL_TS_MO_Geraldton05.nc\n",
      "GL_TS_MO_Geraldton05.nc does not have any valid data for this timeperiod\n",
      "\n",
      " GL_TS_MO_46032.nc\n",
      "GL_TS_MO_46032.nc does not have any valid data for this timeperiod\n",
      "\n",
      " MO_TS_MO_ALGHERO-61213.nc\n",
      "MO_TS_MO_ALGHERO-61213.nc does not have any valid data for this timeperiod\n",
      "\n",
      " BO_TS_MO_NorthernBaltic.nc\n",
      "POINT(21.0 59.25)\n"
     ]
    },
    {
     "name": "stderr",
     "output_type": "stream",
     "text": [
      "  0%|          | 5/2487 [00:19<59:24,  1.44s/it]"
     ]
    },
    {
     "name": "stdout",
     "output_type": "stream",
     "text": [
      "275  results found\n"
     ]
    },
    {
     "name": "stderr",
     "output_type": "stream",
     "text": [
      "  0%|          | 7/2487 [00:22<2:24:05,  3.49s/it]"
     ]
    },
    {
     "name": "stdout",
     "output_type": "stream",
     "text": [
      "\n",
      " GL_TS_MO_46132.nc\n",
      "GL_TS_MO_46132.nc does not have any valid data for this timeperiod\n",
      "POINT(-127.93199920654297 49.737998962402344)\n",
      "87  results found\n"
     ]
    },
    {
     "name": "stderr",
     "output_type": "stream",
     "text": [
      "  0%|          | 12/2487 [00:29<1:19:03,  1.92s/it]"
     ]
    },
    {
     "name": "stdout",
     "output_type": "stream",
     "text": [
      "\n",
      " GL_TS_MO_48021.nc\n",
      "GL_TS_MO_48021.nc does not have any valid data for this timeperiod\n",
      "GL_TS_MO_48021.nc does not have any valid data for this timeperiod\n",
      "\n",
      " BS_TS_MO_98027.nc\n",
      "BS_TS_MO_98027.nc does not have any valid data for this timeperiod\n",
      "\n",
      " GL_TS_MO_MEDS186.nc\n",
      "GL_TS_MO_MEDS186.nc does not have any valid data for this timeperiod\n",
      "\n",
      " GL_TS_MO_MEDS071.nc\n",
      "GL_TS_MO_MEDS071.nc does not have any valid data for this timeperiod\n",
      "\n",
      " GL_TS_MO_EXCE0001.nc\n",
      "GL_TS_MO_EXCE0001.nc does not have any valid data for this timeperiod\n",
      "GL_TS_MO_EXCE0001.nc does not have any valid data for this timeperiod\n",
      "\n",
      " GL_TS_MO_55020.nc\n",
      "POLYGON((150.3800048828125 -37.619998931884766,150.3800048828125 -37.16999816894531,150.07000732421875 -37.16999816894531,150.07000732421875 -37.619998931884766,150.3800048828125 -37.619998931884766))\n",
      "55  results found\n"
     ]
    },
    {
     "name": "stderr",
     "output_type": "stream",
     "text": [
      "  1%|          | 14/2487 [00:51<3:07:27,  4.55s/it]"
     ]
    },
    {
     "name": "stdout",
     "output_type": "stream",
     "text": [
      "\n",
      " GL_TS_MO_2200108.nc\n",
      "POINT(125.75 36.25)\n",
      "31  results found\n"
     ]
    },
    {
     "name": "stderr",
     "output_type": "stream",
     "text": [
      "  1%|          | 15/2487 [00:58<3:23:31,  4.94s/it]"
     ]
    },
    {
     "name": "stdout",
     "output_type": "stream",
     "text": [
      "\n",
      " NO_TS_MO_ZwinBuoy.nc\n",
      "NO_TS_MO_ZwinBuoy.nc is too close to land\n",
      "\n",
      " GL_TS_MO_14043.nc\n",
      "POINT(67.0 -12.0)\n"
     ]
    },
    {
     "name": "stderr",
     "output_type": "stream",
     "text": [
      "  1%|          | 20/2487 [01:04<1:44:13,  2.53s/it]"
     ]
    },
    {
     "name": "stdout",
     "output_type": "stream",
     "text": [
      "0  results found\n",
      "\n",
      " GL_TS_MO_WEL302.nc\n",
      "GL_TS_MO_WEL302.nc does not have any valid data for this timeperiod\n",
      "\n",
      " GL_TS_MO_52212.nc\n",
      "GL_TS_MO_52212.nc does not have any valid data for this timeperiod\n",
      "\n",
      " AR_TS_MO_Oseberg-SOR.nc\n",
      "AR_TS_MO_Oseberg-SOR.nc does not have any valid data for this timeperiod\n",
      "\n",
      " GL_WS_MO_44066.nc\n",
      "GL_WS_MO_44066.nc does not have any of the variables ['VHM0', 'VAVH', 'WSPD']\n",
      "\n",
      " GL_TS_MO_4101589.nc\n",
      "GL_TS_MO_4101589.nc does not have any of the variables ['VHM0', 'VAVH', 'WSPD']\n",
      "\n",
      " GL_TS_MO_MEDS153.nc\n",
      "GL_TS_MO_MEDS153.nc does not have any valid data for this timeperiod\n",
      "\n",
      " NO_TS_MO_PileSpiekeroog.nc\n"
     ]
    },
    {
     "name": "stderr",
     "output_type": "stream",
     "text": [
      "  1%|          | 20/2487 [01:20<1:44:13,  2.53s/it]"
     ]
    },
    {
     "name": "stdout",
     "output_type": "stream",
     "text": [
      "POINT(7.671110153198242 53.75033187866211)\n",
      "232  results found\n"
     ]
    },
    {
     "name": "stderr",
     "output_type": "stream",
     "text": [
      "  1%|          | 24/2487 [01:34<3:12:06,  4.68s/it]"
     ]
    },
    {
     "name": "stdout",
     "output_type": "stream",
     "text": [
      "\n",
      " MO_TS_MO_MURO.nc\n",
      "MO_TS_MO_MURO.nc does not have any valid data for this timeperiod\n",
      "\n",
      " GL_TS_MO_MEDS180.nc\n",
      "GL_TS_MO_MEDS180.nc does not have any valid data for this timeperiod\n",
      "\n",
      " GL_TS_MO_T8S95W.nc\n"
     ]
    },
    {
     "name": "stderr",
     "output_type": "stream",
     "text": [
      "  1%|          | 27/2487 [01:34<2:12:09,  3.22s/it]"
     ]
    },
    {
     "name": "stdout",
     "output_type": "stream",
     "text": [
      "GL_TS_MO_T8S95W.nc does not have any valid data for this timeperiod\n",
      "\n",
      " GL_TS_MO_44058.nc\n",
      "POINT(-76.25700378417969 37.56700134277344)\n",
      "57  results found\n",
      "\n",
      " GL_TS_MO_46145.nc\n",
      "GL_TS_MO_46145.nc does not have any valid data for this timeperiod\n",
      "POINT(-132.4429931640625 54.367000579833984)\n"
     ]
    },
    {
     "name": "stderr",
     "output_type": "stream",
     "text": [
      "  1%|          | 27/2487 [01:50<2:12:09,  3.22s/it]"
     ]
    },
    {
     "name": "stdout",
     "output_type": "stream",
     "text": [
      "117  results found\n"
     ]
    },
    {
     "name": "stderr",
     "output_type": "stream",
     "text": [
      "  1%|          | 31/2487 [01:52<2:18:31,  3.38s/it]"
     ]
    },
    {
     "name": "stdout",
     "output_type": "stream",
     "text": [
      "\n",
      " GL_TS_MO_52088.nc\n",
      "GL_TS_MO_52088.nc does not have any valid data for this timeperiod\n",
      "\n",
      " GL_TS_MO_46121.nc\n",
      "GL_TS_MO_46121.nc does not have any valid data for this timeperiod\n",
      "\n",
      " GL_WS_MO_42084.nc\n",
      "GL_WS_MO_42084.nc does not have any of the variables ['VHM0', 'VAVH', 'WSPD']\n",
      "\n",
      " GL_TS_MO_91411.nc\n",
      "GL_TS_MO_91411.nc does not have any valid data for this timeperiod\n",
      "\n",
      " GL_TS_MO_41076.nc\n",
      "GL_TS_MO_41076.nc does not have any valid data for this timeperiod\n",
      "\n",
      " NO_TS_MO_ArkonaWR.nc\n",
      "POINT(13.866666793823242 54.883331298828125)\n",
      "244  results found\n"
     ]
    },
    {
     "name": "stderr",
     "output_type": "stream",
     "text": [
      "  2%|▏         | 38/2487 [02:05<1:35:13,  2.33s/it]"
     ]
    },
    {
     "name": "stdout",
     "output_type": "stream",
     "text": [
      "\n",
      " GL_WS_MO_6100431.nc\n",
      "GL_WS_MO_6100431.nc does not have any of the variables ['VHM0', 'VAVH', 'WSPD']\n",
      "\n",
      " GL_TS_MO_44006.nc\n",
      "GL_TS_MO_44006.nc does not have any valid data for this timeperiod\n",
      "GL_TS_MO_44006.nc does not have any valid data for this timeperiod\n",
      "\n",
      " GL_TS_MO_91338.nc\n",
      "GL_TS_MO_91338.nc does not have any valid data for this timeperiod\n",
      "\n",
      " NO_TS_MO_MeetboeiPBW1.nc\n",
      "NO_TS_MO_MeetboeiPBW1.nc does not have any valid data for this timeperiod\n",
      "\n",
      " GL_TS_MO_51203.nc\n",
      "GL_TS_MO_51203.nc does not have any valid data for this timeperiod\n"
     ]
    },
    {
     "name": "stderr",
     "output_type": "stream",
     "text": [
      "  2%|▏         | 41/2487 [02:05<1:06:30,  1.63s/it]"
     ]
    },
    {
     "name": "stdout",
     "output_type": "stream",
     "text": [
      "\n",
      " GL_WS_MO_42057.nc\n",
      "GL_WS_MO_42057.nc does not have any of the variables ['VHM0', 'VAVH', 'WSPD']\n",
      "\n",
      " GL_TS_MO_46009.nc\n",
      "GL_TS_MO_46009.nc does not have any valid data for this timeperiod\n",
      "\n",
      " NO_TS_MO_Arkona.nc\n",
      "POINT(13.866666793823242 54.883331298828125)\n",
      "244  results found\n"
     ]
    },
    {
     "name": "stderr",
     "output_type": "stream",
     "text": [
      "  2%|▏         | 43/2487 [02:19<1:54:55,  2.82s/it]"
     ]
    },
    {
     "name": "stdout",
     "output_type": "stream",
     "text": [
      "\n",
      " GL_TS_MO_46122.nc\n",
      "GL_TS_MO_46122.nc does not have any of the variables ['VHM0', 'VAVH', 'WSPD']\n",
      "\n",
      " GL_TS_MO_46096.nc\n",
      "GL_TS_MO_46096.nc does not have any valid data for this timeperiod\n",
      "\n",
      " GL_TS_MO_46012.nc\n",
      "POINT(-122.88099670410156 37.35599899291992)\n",
      "124  results found\n"
     ]
    },
    {
     "name": "stderr",
     "output_type": "stream",
     "text": [
      "  2%|▏         | 46/2487 [02:31<2:09:41,  3.19s/it]"
     ]
    },
    {
     "name": "stdout",
     "output_type": "stream",
     "text": [
      "\n",
      " GL_TS_MO_41002.nc\n",
      "POLYGON((-74.94499969482422 31.761999130249023,-74.94499969482422 31.760000228881836,-74.95700073242188 31.760000228881836,-74.95700073242188 31.761999130249023,-74.94499969482422 31.761999130249023))\n",
      "28  results found\n"
     ]
    },
    {
     "name": "stderr",
     "output_type": "stream",
     "text": [
      "  2%|▏         | 47/2487 [03:11<5:34:31,  8.23s/it]"
     ]
    },
    {
     "name": "stdout",
     "output_type": "stream",
     "text": [
      "\n",
      " GL_TS_MO_T5S110W.nc\n",
      "POINT(-110.0 -5.0)\n"
     ]
    },
    {
     "name": "stderr",
     "output_type": "stream",
     "text": [
      "  2%|▏         | 50/2487 [03:22<4:00:51,  5.93s/it]"
     ]
    },
    {
     "name": "stdout",
     "output_type": "stream",
     "text": [
      "0  results found\n",
      "\n",
      " GL_TS_MO_WEL439.nc\n",
      "GL_TS_MO_WEL439.nc does not have any valid data for this timeperiod\n",
      "\n",
      " GL_TS_MO_41006.nc\n",
      "GL_TS_MO_41006.nc does not have any valid data for this timeperiod\n",
      "GL_TS_MO_41006.nc does not have any valid data for this timeperiod\n",
      "\n",
      " GL_TS_MO_IF000552.nc\n",
      "GL_TS_MO_IF000552.nc does not have any of the variables ['VHM0', 'VAVH', 'WSPD']\n",
      "\n",
      " AR_TS_MO_Groennavigaa-6-7.nc\n",
      "AR_TS_MO_Groennavigaa-6-7.nc does not have any of the variables ['VHM0', 'VAVH', 'WSPD']\n",
      "\n",
      " GL_TS_MO_62075.nc\n",
      "GL_TS_MO_62075.nc does not have any valid data for this timeperiod\n",
      "GL_TS_MO_62075.nc does not have any valid data for this timeperiod\n",
      "\n",
      " BO_TS_MO_FinngrundetWR.nc\n",
      "POLYGON((18.606700897216797 60.898799896240234,18.606700897216797 60.901798248291016,18.61669921875 60.901798248291016,18.61669921875 60.898799896240234,18.606700897216797 60.898799896240234))\n",
      "285  results found\n"
     ]
    },
    {
     "name": "stderr",
     "output_type": "stream",
     "text": [
      "  2%|▏         | 54/2487 [06:06<15:10:51, 22.46s/it]"
     ]
    },
    {
     "name": "stdout",
     "output_type": "stream",
     "text": [
      "\n",
      " GL_TS_MO_46131.nc\n",
      "GL_TS_MO_46131.nc does not have any valid data for this timeperiod\n",
      "POINT(-124.98500061035156 49.90700149536133)\n",
      "121  results found\n"
     ]
    },
    {
     "name": "stderr",
     "output_type": "stream",
     "text": [
      "  2%|▏         | 58/2487 [06:15<8:33:25, 12.68s/it] "
     ]
    },
    {
     "name": "stdout",
     "output_type": "stream",
     "text": [
      "\n",
      " GL_TS_MO_MEDS170.nc\n",
      "GL_TS_MO_MEDS170.nc does not have any valid data for this timeperiod\n",
      "\n",
      " GL_TS_MO_TorbayEast01.nc\n",
      "GL_TS_MO_TorbayEast01.nc is too close to land\n",
      "\n",
      " GL_TS_MO_45169.nc\n",
      "GL_TS_MO_45169.nc does not have any valid data for this timeperiod\n",
      "GL_TS_MO_45169.nc does not have any valid data for this timeperiod\n",
      "\n",
      " GL_TS_MO_55481.nc\n",
      "POINT(154.4499969482422 -27.649999618530273)\n"
     ]
    },
    {
     "name": "stderr",
     "output_type": "stream",
     "text": [
      "  2%|▏         | 60/2487 [06:22<6:55:39, 10.28s/it]"
     ]
    },
    {
     "name": "stdout",
     "output_type": "stream",
     "text": [
      "30  results found\n",
      "\n",
      " BO_TS_MO_Grisbadarna.nc\n",
      "BO_TS_MO_Grisbadarna.nc does not have any valid data for this timeperiod\n",
      "\n",
      " GL_WS_MO_46222.nc\n",
      "GL_WS_MO_46222.nc does not have any of the variables ['VHM0', 'VAVH', 'WSPD']\n",
      "\n",
      " GL_TS_MO_46220.nc\n",
      "GL_TS_MO_46220.nc does not have any valid data for this timeperiod\n",
      "\n",
      " AR_TS_MO_Kringstadbukta-38-96.nc\n",
      "AR_TS_MO_Kringstadbukta-38-96.nc does not have any of the variables ['VHM0', 'VAVH', 'WSPD']\n",
      "\n",
      " NO_TS_MO_6201572.nc\n",
      "NO_TS_MO_6201572.nc does not have any of the variables ['VHM0', 'VAVH', 'WSPD']\n",
      "\n",
      " BO_TS_MO_OlandSodraBS.nc\n"
     ]
    },
    {
     "name": "stderr",
     "output_type": "stream",
     "text": [
      "  3%|▎         | 69/2487 [06:22<2:20:33,  3.49s/it]"
     ]
    },
    {
     "name": "stdout",
     "output_type": "stream",
     "text": [
      "BO_TS_MO_OlandSodraBS.nc does not have any of the variables ['VHM0', 'VAVH', 'WSPD']\n",
      "\n",
      " GL_TS_MO_MEDS009.nc\n",
      "GL_TS_MO_MEDS009.nc does not have any valid data for this timeperiod\n",
      "\n",
      " GL_TS_MO_66060.nc\n",
      "GL_TS_MO_66060.nc does not have any valid data for this timeperiod\n",
      "\n",
      " GL_TS_MO_61189.nc\n",
      "GL_TS_MO_61189.nc does not have any of the variables ['VHM0', 'VAVH', 'WSPD']\n",
      "\n",
      " GL_TS_MO_MEDS275.nc\n",
      "GL_TS_MO_MEDS275.nc does not have any valid data for this timeperiod\n",
      "\n",
      " GL_TS_MO_41133.nc\n",
      "GL_TS_MO_41133.nc does not have any valid data for this timeperiod\n",
      "GL_TS_MO_41133.nc does not have any valid data for this timeperiod\n"
     ]
    },
    {
     "name": "stderr",
     "output_type": "stream",
     "text": [
      "  3%|▎         | 72/2487 [06:22<1:41:04,  2.51s/it]"
     ]
    },
    {
     "name": "stdout",
     "output_type": "stream",
     "text": [
      "\n",
      " GL_TS_MO_MEDS116.nc\n",
      "GL_TS_MO_MEDS116.nc does not have any valid data for this timeperiod\n",
      "\n",
      " GL_TS_MO_42005.nc\n",
      "GL_TS_MO_42005.nc does not have any valid data for this timeperiod\n",
      "\n",
      " GL_WS_MO_42036.nc\n",
      "GL_WS_MO_42036.nc does not have any of the variables ['VHM0', 'VAVH', 'WSPD']\n",
      "\n",
      " GL_TS_MO_T8N125W.nc\n",
      "POINT(-125.0 8.0)\n"
     ]
    },
    {
     "name": "stderr",
     "output_type": "stream",
     "text": [
      "  3%|▎         | 75/2487 [06:29<1:37:33,  2.43s/it]"
     ]
    },
    {
     "name": "stdout",
     "output_type": "stream",
     "text": [
      "0  results found\n",
      "\n",
      " GL_TS_MO_55055.nc\n",
      "GL_TS_MO_55055.nc does not have any valid data for this timeperiod\n",
      "\n",
      " NO_TS_MO_Roompotsluis.nc\n",
      "POINT(3.6823999881744385 51.62049865722656)\n",
      "118  results found\n"
     ]
    },
    {
     "name": "stderr",
     "output_type": "stream",
     "text": [
      "  3%|▎         | 79/2487 [06:40<1:34:42,  2.36s/it]"
     ]
    },
    {
     "name": "stdout",
     "output_type": "stream",
     "text": [
      "\n",
      " IR_TS_MO_Salvora-buoy.nc\n",
      "IR_TS_MO_Salvora-buoy.nc does not have any valid data for this timeperiod\n",
      "IR_TS_MO_Salvora-buoy.nc does not have any valid data for this timeperiod\n",
      "\n",
      " BS_TS_MO_BelgorodDnestrovskiy.nc\n",
      "BS_TS_MO_BelgorodDnestrovskiy.nc does not have any valid data for this timeperiod\n",
      "\n",
      " GL_TS_MO_52078.nc\n",
      "GL_TS_MO_52078.nc does not have any valid data for this timeperiod\n",
      "\n",
      " AR_TS_MO_Roedstjoedna-48-116.nc\n",
      "AR_TS_MO_Roedstjoedna-48-116.nc does not have any of the variables ['VHM0', 'VAVH', 'WSPD']\n",
      "\n",
      " GL_TS_MO_IRMINGSEA-1.nc\n",
      "GL_TS_MO_IRMINGSEA-1.nc does not have any of the variables ['VHM0', 'VAVH', 'WSPD']\n",
      "\n",
      " GL_TS_MO_WEL444.nc\n",
      "GL_TS_MO_WEL444.nc does not have any valid data for this timeperiod\n",
      "\n",
      " GL_TS_MO_44077.nc\n",
      "POINT(-70.88300323486328 39.939998626708984)\n"
     ]
    },
    {
     "name": "stderr",
     "output_type": "stream",
     "text": [
      "  3%|▎         | 83/2487 [06:49<1:33:17,  2.33s/it]"
     ]
    },
    {
     "name": "stdout",
     "output_type": "stream",
     "text": [
      "82  results found\n",
      "\n",
      " GL_TS_MO_MEDS104.nc\n",
      "GL_TS_MO_MEDS104.nc does not have any valid data for this timeperiod\n",
      "\n",
      " GL_TS_MO_45160.nc\n",
      "GL_TS_MO_45160.nc does not have any valid data for this timeperiod\n",
      "GL_TS_MO_45160.nc does not have any valid data for this timeperiod\n",
      "\n",
      " IR_TS_MO_6200192.nc\n",
      "POINT(-9.640000343322754 39.5099983215332)\n",
      "119  results found\n"
     ]
    },
    {
     "name": "stderr",
     "output_type": "stream",
     "text": [
      "  4%|▎         | 90/2487 [06:58<1:04:11,  1.61s/it]"
     ]
    },
    {
     "name": "stdout",
     "output_type": "stream",
     "text": [
      "\n",
      " GL_TS_MO_MEDS074.nc\n",
      "GL_TS_MO_MEDS074.nc does not have any valid data for this timeperiod\n",
      "\n",
      " BO_TS_MO_Vaderoarna1.nc\n",
      "BO_TS_MO_Vaderoarna1.nc does not have any valid data for this timeperiod\n",
      "\n",
      " BS_TS_MO_SPOT1624.nc\n",
      "BS_TS_MO_SPOT1624.nc does not have any valid data for this timeperiod\n",
      "\n",
      " GL_TS_MO_23007.nc\n",
      "GL_TS_MO_23007.nc does not have any valid data for this timeperiod\n",
      "\n",
      " AR_TS_MO_Norheimsund-14-25.nc\n",
      "AR_TS_MO_Norheimsund-14-25.nc does not have any of the variables ['VHM0', 'VAVH', 'WSPD']\n",
      "\n",
      " GL_TS_MO_46119.nc\n",
      "GL_TS_MO_46119.nc does not have any valid data for this timeperiod\n",
      "\n",
      " NO_TS_MO_6201004.nc\n",
      "NO_TS_MO_6201004.nc does not have any valid data for this timeperiod\n",
      "\n",
      " GL_TS_MO_MEDS164.nc\n",
      "GL_TS_MO_MEDS164.nc does not have any valid data for this timeperiod\n",
      "\n",
      " GL_TS_MO_2300453.nc\n",
      "POLYGON((73.25199890136719 8.156999588012695,73.25199890136719 8.185999870300293,73.2300033569336 8.185999870300293,73.2300033569336 8.156999588012695,73.25199890136719 8.156999588012695))\n"
     ]
    },
    {
     "name": "stderr",
     "output_type": "stream",
     "text": [
      "  4%|▍         | 95/2487 [07:05<1:01:37,  1.55s/it]"
     ]
    },
    {
     "name": "stdout",
     "output_type": "stream",
     "text": [
      "0  results found\n",
      "\n",
      " GL_TS_MO_6801034.nc\n",
      "GL_TS_MO_6801034.nc does not have any of the variables ['VHM0', 'VAVH', 'WSPD']\n",
      "\n",
      " GL_TS_MO_46014.nc\n",
      "POINT(-123.9739990234375 39.23099899291992)\n",
      "165  results found\n"
     ]
    },
    {
     "name": "stderr",
     "output_type": "stream",
     "text": [
      "  4%|▍         | 101/2487 [07:17<1:00:32,  1.52s/it]"
     ]
    },
    {
     "name": "stdout",
     "output_type": "stream",
     "text": [
      "\n",
      " BO_TS_MO_Varberg.nc\n",
      "BO_TS_MO_Varberg.nc does not have any valid data for this timeperiod\n",
      "\n",
      " AR_TS_MO_BSO2.nc\n",
      "AR_TS_MO_BSO2.nc does not have any of the variables ['VHM0', 'VAVH', 'WSPD']\n",
      "\n",
      " GL_WS_MO_46206.nc\n",
      "GL_WS_MO_46206.nc does not have any of the variables ['VHM0', 'VAVH', 'WSPD']\n",
      "\n",
      " GL_TS_MO_MEDS269.nc\n",
      "GL_TS_MO_MEDS269.nc does not have any valid data for this timeperiod\n",
      "\n",
      " GL_WS_MO_41113.nc\n",
      "GL_WS_MO_41113.nc does not have any of the variables ['VHM0', 'VAVH', 'WSPD']\n",
      "\n",
      " GL_TS_MO_MEDS121.nc\n",
      "GL_TS_MO_MEDS121.nc does not have any valid data for this timeperiod\n",
      "\n",
      " BO_TS_MO_VilsandiOuter.nc\n",
      "BO_TS_MO_VilsandiOuter.nc does not have any valid data for this timeperiod\n",
      "\n",
      " NO_TS_MO_Amelander51.nc\n"
     ]
    },
    {
     "name": "stderr",
     "output_type": "stream",
     "text": [
      "  4%|▍         | 105/2487 [07:17<40:56,  1.03s/it]  "
     ]
    },
    {
     "name": "stdout",
     "output_type": "stream",
     "text": [
      "NO_TS_MO_Amelander51.nc does not have any valid data for this timeperiod\n",
      "NO_TS_MO_Amelander51.nc does not have any valid data for this timeperiod\n",
      "\n",
      " GL_TS_MO_2200190.nc\n",
      "POINT(129.8699951171875 36.90999984741211)\n",
      "54  results found\n",
      "\n",
      " GL_TS_MO_45026.nc\n",
      "GL_TS_MO_45026.nc is too close to land\n",
      "\n",
      " NO_TS_MO_MeetboeiWEO1.nc\n",
      "POINT(6.518016815185547 53.61745071411133)\n"
     ]
    },
    {
     "name": "stderr",
     "output_type": "stream",
     "text": [
      "  4%|▍         | 105/2487 [07:30<40:56,  1.03s/it]"
     ]
    },
    {
     "name": "stdout",
     "output_type": "stream",
     "text": [
      "236  results found\n"
     ]
    },
    {
     "name": "stderr",
     "output_type": "stream",
     "text": [
      "  4%|▍         | 108/2487 [07:34<1:29:50,  2.27s/it]"
     ]
    },
    {
     "name": "stdout",
     "output_type": "stream",
     "text": [
      "\n",
      " GL_TS_MO_45145.nc\n",
      "GL_TS_MO_45145.nc does not have any valid data for this timeperiod\n",
      "GL_TS_MO_45145.nc does not have any valid data for this timeperiod\n",
      "\n",
      " NO_TS_MO_FINO2.nc\n"
     ]
    },
    {
     "name": "stderr",
     "output_type": "stream",
     "text": [
      "  4%|▍         | 110/2487 [07:35<1:13:36,  1.86s/it]"
     ]
    },
    {
     "name": "stdout",
     "output_type": "stream",
     "text": [
      "NO_TS_MO_FINO2.nc does not have any valid data for this timeperiod\n",
      "\n",
      " IR_TS_MO_6200082.nc\n",
      "POLYGON((-7.722799777984619 44.11280059814453,-7.722799777984619 44.14939880371094,-7.667900085449219 44.14939880371094,-7.667900085449219 44.11280059814453,-7.722799777984619 44.11280059814453))\n"
     ]
    },
    {
     "name": "stderr",
     "output_type": "stream",
     "text": [
      "  4%|▍         | 110/2487 [07:50<1:13:36,  1.86s/it]"
     ]
    },
    {
     "name": "stdout",
     "output_type": "stream",
     "text": [
      "229  results found\n"
     ]
    },
    {
     "name": "stderr",
     "output_type": "stream",
     "text": [
      "  5%|▍         | 112/2487 [10:22<12:34:59, 19.07s/it]"
     ]
    },
    {
     "name": "stdout",
     "output_type": "stream",
     "text": [
      "\n",
      " NO_TS_MO_DarsserSWR.nc\n",
      "NO_TS_MO_DarsserSWR.nc does not have any valid data for this timeperiod\n",
      "\n",
      " GL_TS_MO_31260.nc\n",
      "GL_TS_MO_31260.nc does not have any valid data for this timeperiod\n",
      "\n",
      " GL_WS_MO_44007.nc\n",
      "GL_WS_MO_44007.nc does not have any of the variables ['VHM0', 'VAVH', 'WSPD']\n",
      "\n",
      " BS_TS_MO_99007.nc\n"
     ]
    },
    {
     "name": "stderr",
     "output_type": "stream",
     "text": [
      "  5%|▍         | 118/2487 [10:22<5:04:47,  7.72s/it] "
     ]
    },
    {
     "name": "stdout",
     "output_type": "stream",
     "text": [
      "BS_TS_MO_99007.nc does not have any of the variables ['VHM0', 'VAVH', 'WSPD']\n",
      "\n",
      " MO_TS_MO_VENEZIA-61220.nc\n",
      "MO_TS_MO_VENEZIA-61220.nc does not have any valid data for this timeperiod\n",
      "\n",
      " GL_TS_MO_42007.nc\n",
      "GL_TS_MO_42007.nc does not have any valid data for this timeperiod\n",
      "GL_TS_MO_42007.nc does not have any valid data for this timeperiod\n",
      "\n",
      " GL_TS_MO_WRA007.nc\n",
      "GL_TS_MO_WRA007.nc does not have any valid data for this timeperiod\n",
      "\n",
      " GL_TS_MO_5500087.nc\n",
      "GL_TS_MO_5500087.nc does not have any of the variables ['VHM0', 'VAVH', 'WSPD']\n",
      "\n",
      " GL_TS_MO_WEL447.nc\n",
      "GL_TS_MO_WEL447.nc does not have any valid data for this timeperiod\n"
     ]
    },
    {
     "name": "stderr",
     "output_type": "stream",
     "text": [
      "  5%|▍         | 123/2487 [10:22<2:41:36,  4.10s/it]"
     ]
    },
    {
     "name": "stdout",
     "output_type": "stream",
     "text": [
      "\n",
      " IR_WS_MO_Alboran-buoy.nc\n",
      "IR_WS_MO_Alboran-buoy.nc does not have any of the variables ['VHM0', 'VAVH', 'WSPD']\n",
      "\n",
      " NO_TS_MO_6201029.nc\n",
      "NO_TS_MO_6201029.nc does not have any valid data for this timeperiod\n",
      "\n",
      " BO_TS_MO_Kristineberg3.nc\n",
      "BO_TS_MO_Kristineberg3.nc does not have any valid data for this timeperiod\n",
      "\n",
      " IR_TS_MO_6101061.nc\n",
      "POINT(-9.024328231811523 42.75634002685547)\n",
      "171  results found\n",
      "\n",
      " GL_TS_MO_T0N95W.nc\n",
      "POINT(-95.0 0.0)\n"
     ]
    },
    {
     "name": "stderr",
     "output_type": "stream",
     "text": [
      "  5%|▌         | 125/2487 [10:42<3:30:06,  5.34s/it]"
     ]
    },
    {
     "name": "stdout",
     "output_type": "stream",
     "text": [
      "0  results found\n",
      "\n",
      " GL_WS_MO_45195.nc\n",
      "GL_WS_MO_45195.nc does not have any of the variables ['VHM0', 'VAVH', 'WSPD']\n",
      "\n",
      " IR_TS_MO_6200095.nc\n",
      "POINT(-15.881349563598633 53.07482147216797)\n",
      "33  results found\n"
     ]
    },
    {
     "name": "stderr",
     "output_type": "stream",
     "text": [
      "  5%|▌         | 127/2487 [10:49<3:09:53,  4.83s/it]"
     ]
    },
    {
     "name": "stdout",
     "output_type": "stream",
     "text": [
      "\n",
      " AR_TS_MO_Eivindsvatnet-36-103.nc\n",
      "AR_TS_MO_Eivindsvatnet-36-103.nc does not have any of the variables ['VHM0', 'VAVH', 'WSPD']\n",
      "\n",
      " GL_TS_MO_NW2.nc\n",
      "GL_TS_MO_NW2.nc does not have any of the variables ['VHM0', 'VAVH', 'WSPD']\n",
      "\n",
      " GL_TS_MO_63004.nc\n",
      "GL_TS_MO_63004.nc does not have any of the variables ['VHM0', 'VAVH', 'WSPD']\n",
      "\n",
      " GL_TS_MO_46071.nc\n",
      "POINT(179.01199340820312 51.125)\n",
      "81  results found\n"
     ]
    },
    {
     "name": "stderr",
     "output_type": "stream",
     "text": [
      "  5%|▌         | 134/2487 [10:57<1:42:58,  2.63s/it]"
     ]
    },
    {
     "name": "stdout",
     "output_type": "stream",
     "text": [
      "GL_TS_MO_46071.nc does not have any valid data for this timeperiod\n",
      "\n",
      " BO_TS_MO_PoriKaijakari.nc\n",
      "BO_TS_MO_PoriKaijakari.nc does not have any of the variables ['VHM0', 'VAVH', 'WSPD']\n",
      "\n",
      " NO_TS_MO_Amelander42.nc\n",
      "NO_TS_MO_Amelander42.nc does not have any valid data for this timeperiod\n",
      "NO_TS_MO_Amelander42.nc does not have any valid data for this timeperiod\n",
      "\n",
      " GL_TS_MO_45209.nc\n",
      "GL_TS_MO_45209.nc does not have any valid data for this timeperiod\n",
      "GL_TS_MO_45209.nc does not have any valid data for this timeperiod\n",
      "\n",
      " GL_TS_MO_48114.nc\n",
      "GL_TS_MO_48114.nc does not have any valid data for this timeperiod\n",
      "\n",
      " AR_TS_MO_Kanalparken-9-23.nc\n",
      "AR_TS_MO_Kanalparken-9-23.nc does not have any of the variables ['VHM0', 'VAVH', 'WSPD']\n",
      "\n",
      " GL_TS_MO_46205.nc\n",
      "GL_TS_MO_46205.nc does not have any valid data for this timeperiod\n",
      "POINT(-134.322998046875 54.185001373291016)\n",
      "87  results found\n"
     ]
    },
    {
     "name": "stderr",
     "output_type": "stream",
     "text": [
      "  6%|▌         | 142/2487 [11:04<57:53,  1.48s/it]  "
     ]
    },
    {
     "name": "stdout",
     "output_type": "stream",
     "text": [
      "\n",
      " GL_WS_MO_6100289.nc\n",
      "GL_WS_MO_6100289.nc does not have any of the variables ['VHM0', 'VAVH', 'WSPD']\n",
      "\n",
      " BO_TS_MO_KotkaKuusenkari.nc\n",
      "BO_TS_MO_KotkaKuusenkari.nc does not have any of the variables ['VHM0', 'VAVH', 'WSPD']\n",
      "\n",
      " GL_TS_MO_6100023.nc\n",
      "GL_TS_MO_6100023.nc does not have any of the variables ['VHM0', 'VAVH', 'WSPD']\n",
      "\n",
      " BO_TS_MO_Kristineberg2.nc\n",
      "BO_TS_MO_Kristineberg2.nc does not have any valid data for this timeperiod\n",
      "\n",
      " GL_TS_MO_46714D.nc\n",
      "GL_TS_MO_46714D.nc does not have any valid data for this timeperiod\n",
      "\n",
      " GL_TS_MO_23096.nc\n",
      "GL_TS_MO_23096.nc does not have any valid data for this timeperiod\n",
      "\n",
      " GL_TS_MO_1301000.nc\n",
      "GL_TS_MO_1301000.nc does not have any of the variables ['VHM0', 'VAVH', 'WSPD']\n",
      "\n",
      " GL_TS_MO_WEL438.nc\n",
      "GL_TS_MO_WEL438.nc does not have any valid data for this timeperiod\n",
      "\n",
      " AR_TS_MO_Gjerdesanden-29-63.nc\n",
      "AR_TS_MO_Gjerdesanden-29-63.nc does not have any of the variables ['VHM0', 'VAVH', 'WSPD']\n",
      "\n",
      " GL_TS_MO_MEDS020.nc\n"
     ]
    },
    {
     "name": "stderr",
     "output_type": "stream",
     "text": [
      "  6%|▌         | 147/2487 [11:04<36:31,  1.07it/s]"
     ]
    },
    {
     "name": "stdout",
     "output_type": "stream",
     "text": [
      "GL_TS_MO_MEDS020.nc does not have any valid data for this timeperiod\n",
      "\n",
      " GL_TS_MO_44139.nc\n",
      "GL_TS_MO_44139.nc does not have any valid data for this timeperiod\n",
      "POINT(-57.10300064086914 44.2400016784668)\n",
      "131  results found\n",
      "\n",
      " GL_TS_MO_MEDS053.nc\n",
      "GL_TS_MO_MEDS053.nc does not have any valid data for this timeperiod\n",
      "\n",
      " AR_TS_MO_Statfjord-A.nc\n",
      "POINT(1.8522000312805176 61.25529861450195)\n"
     ]
    },
    {
     "name": "stderr",
     "output_type": "stream",
     "text": [
      "  6%|▌         | 147/2487 [11:20<36:31,  1.07it/s]"
     ]
    },
    {
     "name": "stdout",
     "output_type": "stream",
     "text": [
      "235  results found\n"
     ]
    },
    {
     "name": "stderr",
     "output_type": "stream",
     "text": [
      "  6%|▌         | 150/2487 [11:22<1:23:30,  2.14s/it]"
     ]
    },
    {
     "name": "stdout",
     "output_type": "stream",
     "text": [
      "\n",
      " GL_TS_MO_46100.nc\n",
      "POINT(-124.97200012207031 46.85100173950195)\n",
      "86  results found\n"
     ]
    },
    {
     "name": "stderr",
     "output_type": "stream",
     "text": [
      "  6%|▌         | 151/2487 [11:43<2:39:06,  4.09s/it]/home/sarssw/miniconda3/envs/master/lib/python3.10/site-packages/xarray/core/indexes.py:205: FutureWarning: Value based partial slicing on non-monotonic DatetimeIndexes with non-existing keys is deprecated and will raise a KeyError in a future Version.\n",
      "  indexer = index.slice_indexer(\n"
     ]
    },
    {
     "name": "stdout",
     "output_type": "stream",
     "text": [
      "\n",
      " GL_TS_MO_MEDS064.nc\n",
      "GL_TS_MO_MEDS064.nc does not have any valid data for this timeperiod\n",
      "\n",
      " BS_TS_MO_BurgasBuoySURF.nc\n",
      "BS_TS_MO_BurgasBuoySURF.nc : data extraction failed with: \"cannot represent labeled-based slice indexer for coordinate 'TIME' with a slice over integer positions; the index is unsorted or non-unique\"\n",
      "BS_TS_MO_BurgasBuoySURF.nc : data extraction failed with: \"cannot represent labeled-based slice indexer for coordinate 'TIME' with a slice over integer positions; the index is unsorted or non-unique\"\n",
      "\n",
      " GL_WS_MO_41120.nc\n",
      "GL_WS_MO_41120.nc does not have any of the variables ['VHM0', 'VAVH', 'WSPD']\n",
      "\n",
      " GL_TS_MO_42093.nc\n",
      "POINT(-89.83200073242188 29.017000198364258)\n"
     ]
    },
    {
     "name": "stderr",
     "output_type": "stream",
     "text": [
      "  6%|▌         | 155/2487 [11:50<2:06:22,  3.25s/it]"
     ]
    },
    {
     "name": "stdout",
     "output_type": "stream",
     "text": [
      "30  results found\n",
      "\n",
      " AR_TS_MO_D-Breisundet.nc\n"
     ]
    },
    {
     "name": "stderr",
     "output_type": "stream",
     "text": [
      "  6%|▋         | 158/2487 [11:50<1:31:24,  2.35s/it]"
     ]
    },
    {
     "name": "stdout",
     "output_type": "stream",
     "text": [
      "AR_TS_MO_D-Breisundet.nc does not have any valid data for this timeperiod\n",
      "\n",
      " GL_WS_MO_46251.nc\n",
      "GL_WS_MO_46251.nc does not have any of the variables ['VHM0', 'VAVH', 'WSPD']\n",
      "\n",
      " GL_TS_MO_WEL328.nc\n",
      "GL_TS_MO_WEL328.nc does not have any valid data for this timeperiod\n",
      "\n",
      " NO_TS_MO_PerranporthMET.nc\n",
      "NO_TS_MO_PerranporthMET.nc does not have any valid data for this timeperiod\n",
      "\n",
      " GL_WS_MO_41108.nc\n",
      "GL_WS_MO_41108.nc does not have any of the variables ['VHM0', 'VAVH', 'WSPD']\n",
      "\n",
      " GL_TS_MO_2201593.nc\n",
      "GL_TS_MO_2201593.nc does not have any of the variables ['VHM0', 'VAVH', 'WSPD']\n",
      "\n",
      " BO_TS_MO_Tangesund.nc\n",
      "BO_TS_MO_Tangesund.nc does not have any valid data for this timeperiod\n",
      "\n",
      " NO_TS_MO_6200148.nc\n",
      "NO_TS_MO_6200148.nc does not have any valid data for this timeperiod\n",
      "POINT(1.5 53.599998474121094)\n"
     ]
    },
    {
     "name": "stderr",
     "output_type": "stream",
     "text": [
      "  6%|▋         | 158/2487 [12:00<1:31:24,  2.35s/it]"
     ]
    },
    {
     "name": "stdout",
     "output_type": "stream",
     "text": [
      "215  results found\n"
     ]
    },
    {
     "name": "stderr",
     "output_type": "stream",
     "text": [
      "  7%|▋         | 163/2487 [12:09<1:52:00,  2.89s/it]"
     ]
    },
    {
     "name": "stdout",
     "output_type": "stream",
     "text": [
      "\n",
      " GL_TS_MO_6801029.nc\n",
      "GL_TS_MO_6801029.nc does not have any of the variables ['VHM0', 'VAVH', 'WSPD']\n",
      "\n",
      " GL_TS_MO_MEDS205.nc\n",
      "GL_TS_MO_MEDS205.nc does not have any valid data for this timeperiod\n",
      "\n",
      " GL_TS_MO_T5N125W.nc\n",
      "POINT(-125.0 5.0)\n"
     ]
    },
    {
     "name": "stderr",
     "output_type": "stream",
     "text": [
      "  7%|▋         | 166/2487 [12:18<1:54:19,  2.96s/it]"
     ]
    },
    {
     "name": "stdout",
     "output_type": "stream",
     "text": [
      "0  results found\n",
      "\n",
      " NO_TS_MO_6400045.nc\n",
      "POINT(-11.401000022888184 59.099998474121094)\n",
      "162  results found\n"
     ]
    },
    {
     "name": "stderr",
     "output_type": "stream",
     "text": [
      "  7%|▋         | 172/2487 [12:29<1:23:57,  2.18s/it]"
     ]
    },
    {
     "name": "stdout",
     "output_type": "stream",
     "text": [
      "\n",
      " GL_WS_MO_44020.nc\n",
      "GL_WS_MO_44020.nc does not have any of the variables ['VHM0', 'VAVH', 'WSPD']\n",
      "\n",
      " AR_TS_MO_Moellebukta-6-20.nc\n",
      "AR_TS_MO_Moellebukta-6-20.nc does not have any of the variables ['VHM0', 'VAVH', 'WSPD']\n",
      "\n",
      " NO_TS_MO_VlaktevdRaan.nc\n",
      "NO_TS_MO_VlaktevdRaan.nc does not have any of the variables ['VHM0', 'VAVH', 'WSPD']\n",
      "\n",
      " GL_TS_MO_46109.nc\n",
      "GL_TS_MO_46109.nc does not have any valid data for this timeperiod\n",
      "\n",
      " GL_TS_MO_MEDS332.nc\n",
      "GL_TS_MO_MEDS332.nc does not have any valid data for this timeperiod\n",
      "\n",
      " GL_TS_MO_14040.nc\n",
      "POINT(67.0 -8.0)\n"
     ]
    },
    {
     "name": "stderr",
     "output_type": "stream",
     "text": [
      "  7%|▋         | 178/2487 [12:35<58:52,  1.53s/it]  "
     ]
    },
    {
     "name": "stdout",
     "output_type": "stream",
     "text": [
      "0  results found\n",
      "\n",
      " GL_WS_MO_44088.nc\n",
      "GL_WS_MO_44088.nc does not have any of the variables ['VHM0', 'VAVH', 'WSPD']\n",
      "\n",
      " MO_TS_MO_NADR-E1.nc\n",
      "MO_TS_MO_NADR-E1.nc does not have any valid data for this timeperiod\n",
      "\n",
      " GL_TS_MO_MEDS191.nc\n",
      "GL_TS_MO_MEDS191.nc does not have any valid data for this timeperiod\n",
      "\n",
      " GL_WS_MO_6100002.nc\n",
      "GL_WS_MO_6100002.nc does not have any of the variables ['VHM0', 'VAVH', 'WSPD']\n",
      "\n",
      " GL_TS_MO_44026.nc\n",
      "GL_TS_MO_44026.nc does not have any valid data for this timeperiod\n",
      "GL_TS_MO_44026.nc does not have any valid data for this timeperiod\n",
      "\n",
      " GL_TS_MO_44137.nc\n",
      "GL_TS_MO_44137.nc does not have any valid data for this timeperiod\n",
      "POINT(-61.99800109863281 42.262001037597656)\n",
      "58  results found\n"
     ]
    },
    {
     "name": "stderr",
     "output_type": "stream",
     "text": [
      "  7%|▋         | 184/2487 [12:44<51:05,  1.33s/it]  "
     ]
    },
    {
     "name": "stdout",
     "output_type": "stream",
     "text": [
      "\n",
      " AR_TS_MO_Visundfeltet.nc\n",
      "AR_TS_MO_Visundfeltet.nc does not have any valid data for this timeperiod\n",
      "\n",
      " MO_TS_MO_CIVITAVECCHIA-61216.nc\n",
      "MO_TS_MO_CIVITAVECCHIA-61216.nc does not have any valid data for this timeperiod\n",
      "\n",
      " GL_TS_MO_MEDS282.nc\n",
      "GL_TS_MO_MEDS282.nc does not have any valid data for this timeperiod\n",
      "\n",
      " GL_TS_MO_5300041.nc\n",
      "GL_TS_MO_5300041.nc does not have any valid data for this timeperiod\n",
      "\n",
      " MO_TS_MO_CATANIA-61207.nc\n",
      "MO_TS_MO_CATANIA-61207.nc does not have any valid data for this timeperiod\n",
      "\n",
      " GL_TS_MO_C6S62.nc\n",
      "GL_TS_MO_C6S62.nc does not have any valid data for this timeperiod\n",
      "\n",
      " GL_TS_MO_51201.nc\n",
      "POINT(-158.11700439453125 21.67099952697754)\n",
      "117  results found\n"
     ]
    },
    {
     "name": "stderr",
     "output_type": "stream",
     "text": [
      "  8%|▊         | 190/2487 [12:53<48:01,  1.25s/it]  "
     ]
    },
    {
     "name": "stdout",
     "output_type": "stream",
     "text": [
      "\n",
      " BO_TS_MO_Borno.nc\n",
      "BO_TS_MO_Borno.nc does not have any valid data for this timeperiod\n",
      "\n",
      " GL_TS_MO_MEDS227.nc\n",
      "GL_TS_MO_MEDS227.nc does not have any valid data for this timeperiod\n",
      "\n",
      " GL_TS_MO_MEDS117.nc\n",
      "GL_TS_MO_MEDS117.nc does not have any valid data for this timeperiod\n",
      "\n",
      " GL_TS_MO_WEL434.nc\n",
      "GL_TS_MO_WEL434.nc does not have any valid data for this timeperiod\n",
      "\n",
      " GL_TS_MO_IF000600.nc\n",
      "GL_TS_MO_IF000600.nc does not have any of the variables ['VHM0', 'VAVH', 'WSPD']\n",
      "\n",
      " NO_TS_MO_FINO1.nc\n",
      "POINT(6.5833330154418945 54.0)\n",
      "236  results found\n"
     ]
    },
    {
     "name": "stderr",
     "output_type": "stream",
     "text": [
      "  8%|▊         | 193/2487 [13:08<1:29:12,  2.33s/it]"
     ]
    },
    {
     "name": "stdout",
     "output_type": "stream",
     "text": [
      "\n",
      " GL_TS_MO_46694A.nc\n",
      "GL_TS_MO_46694A.nc does not have any valid data for this timeperiod\n",
      "\n",
      " GL_TS_MO_46075.nc\n",
      "POINT(-160.79400634765625 53.96900177001953)\n"
     ]
    },
    {
     "name": "stderr",
     "output_type": "stream",
     "text": [
      "  8%|▊         | 194/2487 [13:15<1:48:08,  2.83s/it]"
     ]
    },
    {
     "name": "stdout",
     "output_type": "stream",
     "text": [
      "27  results found\n",
      "\n",
      " NO_TS_MO_AWG.nc\n",
      "POINT(5.949999809265137 53.5)\n",
      "238  results found\n"
     ]
    },
    {
     "name": "stderr",
     "output_type": "stream",
     "text": [
      "  8%|▊         | 196/2487 [13:29<2:29:33,  3.92s/it]"
     ]
    },
    {
     "name": "stdout",
     "output_type": "stream",
     "text": [
      "\n",
      " GL_WS_MO_6100294.nc\n",
      "GL_WS_MO_6100294.nc does not have any of the variables ['VHM0', 'VAVH', 'WSPD']\n",
      "\n",
      " BS_TS_MO_33917.nc\n",
      "BS_TS_MO_33917.nc does not have any valid data for this timeperiod\n",
      "\n",
      " GL_TS_MO_45201.nc\n",
      "GL_TS_MO_45201.nc does not have any valid data for this timeperiod\n",
      "GL_TS_MO_45201.nc does not have any valid data for this timeperiod\n",
      "\n",
      " GL_TS_MO_42020.nc\n",
      "POINT(-96.69300079345703 26.968000411987305)\n",
      "60  results found\n"
     ]
    },
    {
     "name": "stderr",
     "output_type": "stream",
     "text": [
      "  8%|▊         | 199/2487 [13:36<2:11:14,  3.44s/it]"
     ]
    },
    {
     "name": "stdout",
     "output_type": "stream",
     "text": [
      "\n",
      " GL_TS_MO_6202401.nc\n",
      "POINT(-27.010000228881836 38.75067138671875)\n",
      "301  results found\n"
     ]
    },
    {
     "name": "stderr",
     "output_type": "stream",
     "text": [
      "  8%|▊         | 200/2487 [13:51<3:12:38,  5.05s/it]"
     ]
    },
    {
     "name": "stdout",
     "output_type": "stream",
     "text": [
      "\n",
      " GL_TS_MO_WEL116.nc\n",
      "GL_TS_MO_WEL116.nc does not have any valid data for this timeperiod\n",
      "\n",
      " GL_TS_MO_46041.nc\n",
      "POINT(-124.74199676513672 47.35300064086914)\n",
      "57  results found\n"
     ]
    },
    {
     "name": "stderr",
     "output_type": "stream",
     "text": [
      "  8%|▊         | 202/2487 [14:00<3:08:23,  4.95s/it]"
     ]
    },
    {
     "name": "stdout",
     "output_type": "stream",
     "text": [
      "\n",
      " GL_TS_MO_T8S110W.nc\n",
      "POINT(-110.0 -8.0)\n"
     ]
    },
    {
     "name": "stderr",
     "output_type": "stream",
     "text": [
      "  8%|▊         | 203/2487 [14:08<3:27:05,  5.44s/it]"
     ]
    },
    {
     "name": "stdout",
     "output_type": "stream",
     "text": [
      "0  results found\n",
      "\n",
      " GL_TS_MO_55026.nc\n",
      "GL_TS_MO_55026.nc does not have any valid data for this timeperiod\n",
      "GL_TS_MO_55026.nc does not have any valid data for this timeperiod\n"
     ]
    },
    {
     "name": "stderr",
     "output_type": "stream",
     "text": [
      "  8%|▊         | 204/2487 [14:08<2:47:30,  4.40s/it]"
     ]
    },
    {
     "name": "stdout",
     "output_type": "stream",
     "text": [
      "\n",
      " GL_TS_MO_4100099.nc\n",
      "POINT(-60.93439865112305 14.17609977722168)\n",
      "145  results found\n"
     ]
    },
    {
     "name": "stderr",
     "output_type": "stream",
     "text": [
      "  8%|▊         | 205/2487 [14:17<3:18:56,  5.23s/it]"
     ]
    },
    {
     "name": "stdout",
     "output_type": "stream",
     "text": [
      "\n",
      " GL_WS_MO_45005.nc\n",
      "GL_WS_MO_45005.nc does not have any of the variables ['VHM0', 'VAVH', 'WSPD']\n",
      "\n",
      " GL_TS_MO_42045.nc\n",
      "POINT(-96.5 26.216999053955078)\n",
      "90  results found\n"
     ]
    },
    {
     "name": "stderr",
     "output_type": "stream",
     "text": [
      "  8%|▊         | 207/2487 [14:24<2:54:03,  4.58s/it]"
     ]
    },
    {
     "name": "stdout",
     "output_type": "stream",
     "text": [
      "\n",
      " GL_TS_MO_6100001.nc\n",
      "POLYGON((7.829999923706055 43.381500244140625,7.829999923706055 43.380001068115234,7.820000171661377 43.380001068115234,7.820000171661377 43.381500244140625,7.829999923706055 43.381500244140625))\n",
      "117  results found\n"
     ]
    },
    {
     "name": "stderr",
     "output_type": "stream",
     "text": [
      "  8%|▊         | 208/2487 [14:46<5:21:01,  8.45s/it]"
     ]
    },
    {
     "name": "stdout",
     "output_type": "stream",
     "text": [
      "\n",
      " NO_TS_MO_6201044.nc\n",
      "NO_TS_MO_6201044.nc does not have any valid data for this timeperiod\n",
      "\n",
      " GL_TS_MO_MEDS134.nc\n",
      "GL_TS_MO_MEDS134.nc does not have any valid data for this timeperiod\n",
      "\n",
      " GL_TS_MO_41048.nc\n",
      "POINT(-69.572998046875 31.83099937438965)\n"
     ]
    },
    {
     "name": "stderr",
     "output_type": "stream",
     "text": [
      "  8%|▊         | 211/2487 [14:52<3:20:12,  5.28s/it]"
     ]
    },
    {
     "name": "stdout",
     "output_type": "stream",
     "text": [
      "0  results found\n",
      "\n",
      " GL_TS_MO_46044.nc\n"
     ]
    },
    {
     "name": "stderr",
     "output_type": "stream",
     "text": [
      "  9%|▊         | 212/2487 [14:52<2:44:40,  4.34s/it]"
     ]
    },
    {
     "name": "stdout",
     "output_type": "stream",
     "text": [
      "GL_TS_MO_46044.nc does not have any valid data for this timeperiod\n",
      "GL_TS_MO_46044.nc does not have any valid data for this timeperiod\n",
      "\n",
      " GL_TS_MO_41053.nc\n"
     ]
    },
    {
     "name": "stderr",
     "output_type": "stream",
     "text": [
      "  9%|▊         | 213/2487 [14:52<2:12:19,  3.49s/it]"
     ]
    },
    {
     "name": "stdout",
     "output_type": "stream",
     "text": [
      "GL_TS_MO_41053.nc is too close to land\n",
      "\n",
      " NO_TS_MO_NOO.nc\n",
      "POINT(7.635000228881836 54.46833038330078)\n",
      "232  results found\n"
     ]
    },
    {
     "name": "stderr",
     "output_type": "stream",
     "text": [
      "  9%|▊         | 214/2487 [15:02<3:06:23,  4.92s/it]"
     ]
    },
    {
     "name": "stdout",
     "output_type": "stream",
     "text": [
      "\n",
      " AR_TS_MO_Hornafjardardufl.nc\n",
      "POINT(-15.18850040435791 64.19683074951172)\n",
      "406  results found\n"
     ]
    },
    {
     "name": "stderr",
     "output_type": "stream",
     "text": [
      "  9%|▊         | 215/2487 [15:20<5:04:50,  8.05s/it]"
     ]
    },
    {
     "name": "stdout",
     "output_type": "stream",
     "text": [
      "\n",
      " GL_TS_MO_42036.nc\n",
      "LINESTRING(-84.50800323486328 28.500999450683594,-84.51599884033203 28.500999450683594)\n",
      "28  results found\n"
     ]
    },
    {
     "name": "stderr",
     "output_type": "stream",
     "text": [
      "  9%|▉         | 218/2487 [16:34<9:11:15, 14.58s/it] "
     ]
    },
    {
     "name": "stdout",
     "output_type": "stream",
     "text": [
      "\n",
      " NO_TS_MO_WaddenSchiermonnikoog.nc\n",
      "NO_TS_MO_WaddenSchiermonnikoog.nc does not have any valid data for this timeperiod\n",
      "NO_TS_MO_WaddenSchiermonnikoog.nc does not have any valid data for this timeperiod\n",
      "\n",
      " GL_TS_MO_46249.nc\n",
      "GL_TS_MO_46249.nc does not have any valid data for this timeperiod\n",
      "\n",
      " IR_TS_MO_Bilbao-current-meter.nc\n",
      "IR_TS_MO_Bilbao-current-meter.nc does not have any of the variables ['VHM0', 'VAVH', 'WSPD']\n",
      "\n",
      " GL_TS_MO_55078.nc\n",
      "GL_TS_MO_55078.nc does not have any of the variables ['VHM0', 'VAVH', 'WSPD']\n",
      "\n",
      " GL_TS_MO_52085.nc\n"
     ]
    },
    {
     "name": "stderr",
     "output_type": "stream",
     "text": [
      "  9%|▉         | 224/2487 [16:34<2:51:52,  4.56s/it]"
     ]
    },
    {
     "name": "stdout",
     "output_type": "stream",
     "text": [
      "GL_TS_MO_52085.nc does not have any valid data for this timeperiod\n",
      "\n",
      " GL_TS_MO_MEDS107.nc\n",
      "GL_TS_MO_MEDS107.nc does not have any valid data for this timeperiod\n",
      "\n",
      " GL_TS_MO_46778A.nc\n",
      "GL_TS_MO_46778A.nc does not have any valid data for this timeperiod\n",
      "\n",
      " NO_TS_MO_D151.nc\n",
      "NO_TS_MO_D151.nc does not have any valid data for this timeperiod\n",
      "NO_TS_MO_D151.nc does not have any valid data for this timeperiod\n",
      "\n",
      " GL_TS_MO_22498.nc\n",
      "GL_TS_MO_22498.nc does not have any valid data for this timeperiod\n",
      "\n",
      " GL_TS_MO_MEDS040.nc\n",
      "GL_TS_MO_MEDS040.nc does not have any valid data for this timeperiod\n",
      "\n",
      " NO_TS_MO_6201002.nc\n"
     ]
    },
    {
     "name": "stderr",
     "output_type": "stream",
     "text": [
      "  9%|▉         | 228/2487 [16:35<1:37:22,  2.59s/it]"
     ]
    },
    {
     "name": "stdout",
     "output_type": "stream",
     "text": [
      "NO_TS_MO_6201002.nc does not have any valid data for this timeperiod\n",
      "\n",
      " NO_TS_MO_Amelander61.nc\n",
      "NO_TS_MO_Amelander61.nc does not have any valid data for this timeperiod\n",
      "NO_TS_MO_Amelander61.nc does not have any valid data for this timeperiod\n",
      "\n",
      " GL_WS_MO_6200064.nc\n",
      "GL_WS_MO_6200064.nc does not have any of the variables ['VHM0', 'VAVH', 'WSPD']\n",
      "\n",
      " GL_TS_MO_6202400.nc\n",
      "POINT(-27.962200164794922 39.086830139160156)\n",
      "120  results found\n"
     ]
    },
    {
     "name": "stderr",
     "output_type": "stream",
     "text": [
      "  9%|▉         | 230/2487 [16:46<2:03:34,  3.29s/it]"
     ]
    },
    {
     "name": "stdout",
     "output_type": "stream",
     "text": [
      "\n",
      " GL_WS_MO_46078.nc\n",
      "GL_WS_MO_46078.nc does not have any of the variables ['VHM0', 'VAVH', 'WSPD']\n",
      "\n",
      " NO_TS_MO_Trapegeer.nc\n",
      "POINT(2.5829999446868896 51.13800048828125)\n",
      "234  results found\n"
     ]
    },
    {
     "name": "stderr",
     "output_type": "stream",
     "text": [
      "  9%|▉         | 232/2487 [16:57<2:23:42,  3.82s/it]"
     ]
    },
    {
     "name": "stdout",
     "output_type": "stream",
     "text": [
      "\n",
      " NO_TS_MO_HoekVanHollandNAP.nc\n",
      "NO_TS_MO_HoekVanHollandNAP.nc does not have any of the variables ['VHM0', 'VAVH', 'WSPD']\n",
      "\n",
      " GL_TS_MO_44032.nc\n",
      "POINT(-69.3550033569336 43.71500015258789)\n",
      "116  results found\n"
     ]
    },
    {
     "name": "stderr",
     "output_type": "stream",
     "text": [
      " 10%|▉         | 237/2487 [17:05<1:35:45,  2.55s/it]"
     ]
    },
    {
     "name": "stdout",
     "output_type": "stream",
     "text": [
      "\n",
      " GL_TS_MO_42065.nc\n",
      "GL_TS_MO_42065.nc does not have any valid data for this timeperiod\n",
      "GL_TS_MO_42065.nc does not have any valid data for this timeperiod\n",
      "\n",
      " GL_TS_MO_MEDS143.nc\n",
      "GL_TS_MO_MEDS143.nc does not have any valid data for this timeperiod\n",
      "\n",
      " GL_TS_MO_Cockburn.nc\n",
      "GL_TS_MO_Cockburn.nc does not have any valid data for this timeperiod\n",
      "\n",
      " BO_TS_MO_Svinbadan.nc\n",
      "BO_TS_MO_Svinbadan.nc does not have any valid data for this timeperiod\n",
      "\n",
      " GL_TS_MO_MEDS280.nc\n",
      "GL_TS_MO_MEDS280.nc does not have any valid data for this timeperiod\n",
      "\n",
      " GL_TS_MO_2200102.nc\n",
      "POINT(125.77999877929688 34.790000915527344)\n",
      "60  results found\n"
     ]
    },
    {
     "name": "stderr",
     "output_type": "stream",
     "text": [
      " 10%|▉         | 240/2487 [17:14<1:39:34,  2.66s/it]"
     ]
    },
    {
     "name": "stdout",
     "output_type": "stream",
     "text": [
      "\n",
      " AR_TS_MO_Sildevika-7-83.nc\n",
      "AR_TS_MO_Sildevika-7-83.nc does not have any of the variables ['VHM0', 'VAVH', 'WSPD']\n",
      "\n",
      " IR_TS_MO_Malaga-coast-buoy.nc\n",
      "POLYGON((-4.444399833679199 36.657100677490234,-4.444399833679199 36.708499908447266,-4.414999961853027 36.708499908447266,-4.414999961853027 36.657100677490234,-4.444399833679199 36.657100677490234))\n",
      "147  results found\n"
     ]
    },
    {
     "name": "stderr",
     "output_type": "stream",
     "text": [
      " 10%|▉         | 245/2487 [19:08<6:31:00, 10.46s/it]"
     ]
    },
    {
     "name": "stdout",
     "output_type": "stream",
     "text": [
      "\n",
      " GL_TS_MO_3301541.nc\n",
      "GL_TS_MO_3301541.nc does not have any of the variables ['VHM0', 'VAVH', 'WSPD']\n",
      "\n",
      " GL_TS_MO_46759A.nc\n",
      "GL_TS_MO_46759A.nc does not have any valid data for this timeperiod\n",
      "\n",
      " GL_TS_MO_45165.nc\n",
      "GL_TS_MO_45165.nc is too close to land\n",
      "\n",
      " GL_TS_MO_44041.nc\n"
     ]
    },
    {
     "name": "stderr",
     "output_type": "stream",
     "text": [
      " 10%|▉         | 247/2487 [19:08<4:55:05,  7.90s/it]"
     ]
    },
    {
     "name": "stdout",
     "output_type": "stream",
     "text": [
      "GL_TS_MO_44041.nc does not have any valid data for this timeperiod\n",
      "GL_TS_MO_44041.nc does not have any valid data for this timeperiod\n",
      "\n",
      " GL_TS_MO_42079.nc\n",
      "GL_TS_MO_42079.nc does not have any valid data for this timeperiod\n",
      "\n",
      " GL_TS_MO_46017.nc\n",
      "GL_TS_MO_46017.nc does not have any valid data for this timeperiod\n",
      "\n",
      " GL_TS_MO_46244.nc\n",
      "POINT(-124.35700225830078 40.895999908447266)\n",
      "130  results found\n"
     ]
    },
    {
     "name": "stderr",
     "output_type": "stream",
     "text": [
      " 10%|█         | 254/2487 [19:18<2:17:58,  3.71s/it]"
     ]
    },
    {
     "name": "stdout",
     "output_type": "stream",
     "text": [
      "\n",
      " GL_TS_MO_5500061.nc\n",
      "GL_TS_MO_5500061.nc does not have any of the variables ['VHM0', 'VAVH', 'WSPD']\n",
      "\n",
      " GL_WS_MO_41036.nc\n",
      "GL_WS_MO_41036.nc does not have any of the variables ['VHM0', 'VAVH', 'WSPD']\n",
      "\n",
      " GL_TS_MO_MEDS062.nc\n",
      "GL_TS_MO_MEDS062.nc does not have any valid data for this timeperiod\n",
      "\n",
      " GL_WS_MO_51001.nc\n",
      "GL_WS_MO_51001.nc does not have any of the variables ['VHM0', 'VAVH', 'WSPD']\n",
      "\n",
      " GL_TS_MO_MEDS070.nc\n",
      "GL_TS_MO_MEDS070.nc does not have any valid data for this timeperiod\n",
      "\n",
      " NO_TS_MO_SchiermonnikoogWestgat.nc\n",
      "POINT(6.165131092071533 53.52854919433594)\n"
     ]
    },
    {
     "name": "stderr",
     "output_type": "stream",
     "text": [
      " 10%|█         | 254/2487 [19:31<2:17:58,  3.71s/it]"
     ]
    },
    {
     "name": "stdout",
     "output_type": "stream",
     "text": [
      "238  results found\n"
     ]
    },
    {
     "name": "stderr",
     "output_type": "stream",
     "text": [
      " 10%|█         | 255/2487 [19:41<3:43:50,  6.02s/it]"
     ]
    },
    {
     "name": "stdout",
     "output_type": "stream",
     "text": [
      "\n",
      " GL_TS_MO_MEDS213.nc\n",
      "GL_TS_MO_MEDS213.nc does not have any valid data for this timeperiod\n",
      "\n",
      " GL_TS_MO_MEDS077.nc\n",
      "GL_TS_MO_MEDS077.nc does not have any valid data for this timeperiod\n",
      "\n",
      " GL_TS_MO_55014.nc\n",
      "LINESTRING(150.3300018310547 -35.72999954223633,150.32000732421875 -35.72999954223633)\n",
      "55  results found\n"
     ]
    },
    {
     "name": "stderr",
     "output_type": "stream",
     "text": [
      " 10%|█         | 258/2487 [20:06<4:12:38,  6.80s/it]"
     ]
    },
    {
     "name": "stdout",
     "output_type": "stream",
     "text": [
      "\n",
      " GL_TS_MO_6801021.nc\n",
      "GL_TS_MO_6801021.nc does not have any of the variables ['VHM0', 'VAVH', 'WSPD']\n",
      "\n",
      " MO_TS_MO_6101629.nc\n",
      "MO_TS_MO_6101629.nc does not have any valid data for this timeperiod\n",
      "\n",
      " NO_TS_MO_KeetenBoei.nc\n",
      "POINT(3.9660000801086426 51.608001708984375)\n",
      "236  results found\n"
     ]
    },
    {
     "name": "stderr",
     "output_type": "stream",
     "text": [
      " 10%|█         | 261/2487 [20:26<4:13:11,  6.82s/it]"
     ]
    },
    {
     "name": "stdout",
     "output_type": "stream",
     "text": [
      "\n",
      " NO_TS_MO_Sleipner-A.nc\n",
      "POINT(1.90910005569458 58.37110137939453)\n",
      "293  results found\n"
     ]
    },
    {
     "name": "stderr",
     "output_type": "stream",
     "text": [
      " 11%|█         | 262/2487 [20:42<4:56:25,  7.99s/it]"
     ]
    },
    {
     "name": "stdout",
     "output_type": "stream",
     "text": [
      "\n",
      " IR_TS_MO_6200092.nc\n",
      "POINT(-10.548260688781738 51.21595764160156)\n",
      "170  results found\n"
     ]
    },
    {
     "name": "stderr",
     "output_type": "stream",
     "text": [
      " 11%|█         | 267/2487 [20:57<2:54:31,  4.72s/it]"
     ]
    },
    {
     "name": "stdout",
     "output_type": "stream",
     "text": [
      "\n",
      " GL_TS_MO_CapeNaturaliste01.nc\n",
      "GL_TS_MO_CapeNaturaliste01.nc does not have any valid data for this timeperiod\n",
      "\n",
      " GL_TS_MO_WEL415.nc\n",
      "GL_TS_MO_WEL415.nc does not have any valid data for this timeperiod\n",
      "\n",
      " GL_TS_MO_41057.nc\n",
      "GL_TS_MO_41057.nc does not have any valid data for this timeperiod\n",
      "\n",
      " BO_TS_MO_Laholmsbukten.nc\n",
      "BO_TS_MO_Laholmsbukten.nc does not have any valid data for this timeperiod\n",
      "\n",
      " BO_TS_MO_Karlskrona.nc\n",
      "BO_TS_MO_Karlskrona.nc does not have any valid data for this timeperiod\n",
      "\n",
      " BO_TS_MO_Fladen.nc\n",
      "BO_TS_MO_Fladen.nc does not have any valid data for this timeperiod\n",
      "\n",
      " GL_TS_MO_46254.nc\n"
     ]
    },
    {
     "name": "stderr",
     "output_type": "stream",
     "text": [
      " 11%|█         | 270/2487 [20:57<1:55:46,  3.13s/it]"
     ]
    },
    {
     "name": "stdout",
     "output_type": "stream",
     "text": [
      "GL_TS_MO_46254.nc is too close to land\n",
      "\n",
      " BS_TS_MO_33830.nc\n",
      "BS_TS_MO_33830.nc does not have any valid data for this timeperiod\n",
      "\n",
      " GL_TS_MO_4100098.nc\n",
      "POINT(-61.11439895629883 14.890299797058105)\n",
      "197  results found\n"
     ]
    },
    {
     "name": "stderr",
     "output_type": "stream",
     "text": [
      " 11%|█         | 273/2487 [21:12<2:13:53,  3.63s/it]"
     ]
    },
    {
     "name": "stdout",
     "output_type": "stream",
     "text": [
      "\n",
      " IR_TS_MO_Bilbao-station.nc\n",
      "IR_TS_MO_Bilbao-station.nc is too close to land\n",
      "\n",
      " GL_TS_MO_52622.nc\n",
      "GL_TS_MO_52622.nc does not have any valid data for this timeperiod\n",
      "\n",
      " GL_TS_MO_91251.nc\n"
     ]
    },
    {
     "name": "stderr",
     "output_type": "stream",
     "text": [
      " 11%|█         | 277/2487 [21:12<1:12:56,  1.98s/it]"
     ]
    },
    {
     "name": "stdout",
     "output_type": "stream",
     "text": [
      "GL_TS_MO_91251.nc does not have any valid data for this timeperiod\n",
      "\n",
      " AR_TS_MO_Randsfjord-Badepark-27-58.nc\n",
      "AR_TS_MO_Randsfjord-Badepark-27-58.nc does not have any of the variables ['VHM0', 'VAVH', 'WSPD']\n",
      "\n",
      " GL_TS_MO_46268.nc\n",
      "GL_TS_MO_46268.nc is too close to land\n",
      "\n",
      " GL_TS_MO_IF000582.nc\n",
      "GL_TS_MO_IF000582.nc does not have any of the variables ['VHM0', 'VAVH', 'WSPD']\n",
      "\n",
      " GL_WS_MO_42092.nc\n",
      "GL_WS_MO_42092.nc does not have any of the variables ['VHM0', 'VAVH', 'WSPD']\n",
      "\n",
      " GL_TS_MO_45149.nc\n",
      "GL_TS_MO_45149.nc does not have any valid data for this timeperiod\n"
     ]
    },
    {
     "name": "stderr",
     "output_type": "stream",
     "text": [
      " 11%|█▏        | 280/2487 [21:12<49:23,  1.34s/it]  "
     ]
    },
    {
     "name": "stdout",
     "output_type": "stream",
     "text": [
      "GL_TS_MO_45149.nc is too close to land\n",
      "\n",
      " GL_TS_MO_13001.nc\n",
      "POINT(-23.0 12.0)\n"
     ]
    },
    {
     "name": "stderr",
     "output_type": "stream",
     "text": [
      " 11%|█▏        | 283/2487 [21:25<1:22:20,  2.24s/it]"
     ]
    },
    {
     "name": "stdout",
     "output_type": "stream",
     "text": [
      "0  results found\n",
      "\n",
      " GL_TS_MO_23002.nc\n",
      "GL_TS_MO_23002.nc does not have any valid data for this timeperiod\n",
      "\n",
      " GL_TS_MO_3100229.nc\n",
      "GL_TS_MO_3100229.nc does not have any valid data for this timeperiod\n",
      "\n",
      " GL_TS_MO_45132.nc\n",
      "GL_TS_MO_45132.nc does not have any valid data for this timeperiod\n"
     ]
    },
    {
     "name": "stderr",
     "output_type": "stream",
     "text": [
      " 12%|█▏        | 287/2487 [21:25<46:23,  1.27s/it]  "
     ]
    },
    {
     "name": "stdout",
     "output_type": "stream",
     "text": [
      "GL_TS_MO_45132.nc is too close to land\n",
      "\n",
      " GL_TS_MO_IF000549.nc\n",
      "GL_TS_MO_IF000549.nc does not have any of the variables ['VHM0', 'VAVH', 'WSPD']\n",
      "\n",
      " GL_TS_MO_46182.nc\n",
      "GL_TS_MO_46182.nc does not have any valid data for this timeperiod\n",
      "GL_TS_MO_46182.nc does not have any valid data for this timeperiod\n",
      "\n",
      " GL_TS_MO_4600183.nc\n",
      "GL_TS_MO_4600183.nc does not have any valid data for this timeperiod\n",
      "\n",
      " GL_TS_MO_32487.nc\n",
      "GL_TS_MO_32487.nc does not have any valid data for this timeperiod\n",
      "\n",
      " GL_TS_MO_44069.nc\n",
      "GL_TS_MO_44069.nc does not have any valid data for this timeperiod\n",
      "\n",
      " GL_TS_MO_T8N180W.nc\n"
     ]
    },
    {
     "name": "stderr",
     "output_type": "stream",
     "text": [
      " 12%|█▏        | 290/2487 [21:26<32:51,  1.11it/s]"
     ]
    },
    {
     "name": "stdout",
     "output_type": "stream",
     "text": [
      "GL_TS_MO_T8N180W.nc does not have any valid data for this timeperiod\n",
      "\n",
      " GL_TS_MO_45180.nc\n",
      "GL_TS_MO_45180.nc is too close to land\n",
      "\n",
      " GL_TS_MO_46027.nc\n",
      "POINT(-124.37999725341797 41.85200119018555)\n",
      "130  results found\n"
     ]
    },
    {
     "name": "stderr",
     "output_type": "stream",
     "text": [
      " 12%|█▏        | 292/2487 [21:40<1:29:11,  2.44s/it]"
     ]
    },
    {
     "name": "stdout",
     "output_type": "stream",
     "text": [
      "\n",
      " GL_TS_MO_91374.nc\n",
      "GL_TS_MO_91374.nc does not have any valid data for this timeperiod\n",
      "\n",
      " GL_TS_MO_MEDS093.nc\n",
      "GL_TS_MO_MEDS093.nc does not have any valid data for this timeperiod\n",
      "\n",
      " BO_TS_MO_W26TS.nc\n",
      "BO_TS_MO_W26TS.nc does not have any of the variables ['VHM0', 'VAVH', 'WSPD']\n",
      "\n",
      " BO_TS_MO_Sopot.nc\n",
      "BO_TS_MO_Sopot.nc does not have any of the variables ['VHM0', 'VAVH', 'WSPD']\n",
      "\n",
      " BS_TS_MO_WAVEB02.nc\n",
      "POINT(27.55620002746582 42.51169967651367)\n",
      "237  results found\n"
     ]
    },
    {
     "name": "stderr",
     "output_type": "stream",
     "text": [
      " 12%|█▏        | 297/2487 [21:52<1:28:22,  2.42s/it]"
     ]
    },
    {
     "name": "stdout",
     "output_type": "stream",
     "text": [
      "\n",
      " GL_TS_MO_SMART.nc\n",
      "GL_TS_MO_SMART.nc does not have any of the variables ['VHM0', 'VAVH', 'WSPD']\n",
      "\n",
      " MO_TS_MO_ADN-DWRG1.nc\n",
      "POINT(13.248000144958496 45.56549835205078)\n",
      "224  results found\n"
     ]
    },
    {
     "name": "stderr",
     "output_type": "stream",
     "text": [
      " 12%|█▏        | 299/2487 [22:03<1:50:36,  3.03s/it]/home/sarssw/miniconda3/envs/master/lib/python3.10/site-packages/xarray/core/indexes.py:205: FutureWarning: Value based partial slicing on non-monotonic DatetimeIndexes with non-existing keys is deprecated and will raise a KeyError in a future Version.\n",
      "  indexer = index.slice_indexer(\n",
      " 12%|█▏        | 302/2487 [22:03<1:16:30,  2.10s/it]"
     ]
    },
    {
     "name": "stdout",
     "output_type": "stream",
     "text": [
      "\n",
      " GL_TS_MO_23001.nc\n",
      "GL_TS_MO_23001.nc does not have any valid data for this timeperiod\n",
      "\n",
      " AR_TS_MO_Ringshaugstranda-21-49.nc\n",
      "AR_TS_MO_Ringshaugstranda-21-49.nc does not have any of the variables ['VHM0', 'VAVH', 'WSPD']\n",
      "\n",
      " MO_TS_MO_Molo-Bandiera.nc\n",
      "MO_TS_MO_Molo-Bandiera.nc : data extraction failed with: \"cannot represent labeled-based slice indexer for coordinate 'TIME' with a slice over integer positions; the index is unsorted or non-unique\"\n",
      "\n",
      " NO_TS_MO_6200166.nc\n",
      "NO_TS_MO_6200166.nc does not have any of the variables ['VHM0', 'VAVH', 'WSPD']\n",
      "\n",
      " GL_TS_MO_NW3.nc\n",
      "GL_TS_MO_NW3.nc does not have any of the variables ['VHM0', 'VAVH', 'WSPD']\n",
      "\n",
      " GL_TS_MO_51001.nc\n",
      "POLYGON((-162.0 24.389999389648438,-162.0 24.452999114990234,-162.1269989013672 24.452999114990234,-162.1269989013672 24.389999389648438,-162.0 24.389999389648438))\n"
     ]
    },
    {
     "name": "stderr",
     "output_type": "stream",
     "text": [
      " 12%|█▏        | 305/2487 [22:10<1:17:58,  2.14s/it]"
     ]
    },
    {
     "name": "stdout",
     "output_type": "stream",
     "text": [
      "0  results found\n",
      "\n",
      " GL_TS_MO_62063.nc\n",
      "GL_TS_MO_62063.nc does not have any of the variables ['VHM0', 'VAVH', 'WSPD']\n",
      "\n",
      " BO_TS_MO_Hoburg1.nc\n",
      "BO_TS_MO_Hoburg1.nc does not have any valid data for this timeperiod\n",
      "\n",
      " NO_TS_MO_6201024.nc\n"
     ]
    },
    {
     "name": "stderr",
     "output_type": "stream",
     "text": [
      " 13%|█▎        | 312/2487 [22:10<35:44,  1.01it/s]  "
     ]
    },
    {
     "name": "stdout",
     "output_type": "stream",
     "text": [
      "NO_TS_MO_6201024.nc does not have any valid data for this timeperiod\n",
      "\n",
      " NO_TS_MO_6201059.nc\n",
      "NO_TS_MO_6201059.nc does not have any valid data for this timeperiod\n",
      "\n",
      " IR_TS_MO_PasaiaII-coast-buoy.nc\n",
      "IR_TS_MO_PasaiaII-coast-buoy.nc does not have any valid data for this timeperiod\n",
      "IR_TS_MO_PasaiaII-coast-buoy.nc does not have any valid data for this timeperiod\n",
      "\n",
      " GL_TS_MO_44172.nc\n",
      "GL_TS_MO_44172.nc does not have any valid data for this timeperiod\n",
      "\n",
      " GL_TS_MO_WEL408.nc\n",
      "GL_TS_MO_WEL408.nc does not have any valid data for this timeperiod\n",
      "\n",
      " GL_WS_MO_46224.nc\n",
      "GL_WS_MO_46224.nc does not have any of the variables ['VHM0', 'VAVH', 'WSPD']\n",
      "\n",
      " GL_TS_MO_MEDS308.nc\n",
      "GL_TS_MO_MEDS308.nc does not have any valid data for this timeperiod\n",
      "\n",
      " GL_WS_MO_6100022.nc\n",
      "GL_WS_MO_6100022.nc does not have any of the variables ['VHM0', 'VAVH', 'WSPD']\n",
      "\n",
      " GL_TS_MO_EMSO-Azores-Borel.nc\n",
      "POINT(-32.276588439941406 37.30134963989258)\n",
      "118  results found\n"
     ]
    },
    {
     "name": "stderr",
     "output_type": "stream",
     "text": [
      " 13%|█▎        | 319/2487 [22:21<42:01,  1.16s/it]"
     ]
    },
    {
     "name": "stdout",
     "output_type": "stream",
     "text": [
      "\n",
      " BO_TS_MO_LasoOstWR.nc\n",
      "BO_TS_MO_LasoOstWR.nc does not have any valid data for this timeperiod\n",
      "\n",
      " BO_TS_MO_Sydostbrotten.nc\n",
      "BO_TS_MO_Sydostbrotten.nc does not have any valid data for this timeperiod\n",
      "\n",
      " GL_TS_MO_MEDS333.nc\n",
      "GL_TS_MO_MEDS333.nc does not have any valid data for this timeperiod\n",
      "\n",
      " BS_TS_MO_33835.nc\n",
      "BS_TS_MO_33835.nc does not have any valid data for this timeperiod\n",
      "\n",
      " AR_TS_MO_Geitvaagen-Camping-8-37.nc\n",
      "AR_TS_MO_Geitvaagen-Camping-8-37.nc does not have any of the variables ['VHM0', 'VAVH', 'WSPD']\n",
      "\n",
      " GL_TS_MO_55046.nc\n",
      "POLYGON((152.5 -24.670000076293945,152.5 -25.100000381469727,152.82000732421875 -25.100000381469727,152.82000732421875 -24.670000076293945,152.5 -24.670000076293945))\n",
      "30  results found\n"
     ]
    },
    {
     "name": "stderr",
     "output_type": "stream",
     "text": [
      " 13%|█▎        | 322/2487 [22:39<1:32:06,  2.55s/it]"
     ]
    },
    {
     "name": "stdout",
     "output_type": "stream",
     "text": [
      "\n",
      " GL_TS_MO_23167.nc\n",
      "GL_TS_MO_23167.nc does not have any valid data for this timeperiod\n",
      "\n",
      " GL_TS_MO_55051.nc\n",
      "GL_TS_MO_55051.nc does not have any valid data for this timeperiod\n",
      "\n",
      " GL_TS_MO_1401500.nc\n",
      "GL_TS_MO_1401500.nc does not have any of the variables ['VHM0', 'VAVH', 'WSPD']\n",
      "\n",
      " GL_TS_MO_44034.nc\n",
      "POINT(-68.11199951171875 44.10300064086914)\n",
      "59  results found\n"
     ]
    },
    {
     "name": "stderr",
     "output_type": "stream",
     "text": [
      " 13%|█▎        | 326/2487 [22:47<1:24:42,  2.35s/it]"
     ]
    },
    {
     "name": "stdout",
     "output_type": "stream",
     "text": [
      "\n",
      " GL_TS_MO_3100380.nc\n",
      "GL_TS_MO_3100380.nc does not have any valid data for this timeperiod\n",
      "\n",
      " GL_TS_MO_44009.nc\n",
      "POLYGON((-74.68399810791016 38.457000732421875,-74.68399810791016 38.45100021362305,-74.7020034790039 38.45100021362305,-74.7020034790039 38.457000732421875,-74.68399810791016 38.457000732421875))\n",
      "30  results found\n"
     ]
    },
    {
     "name": "stderr",
     "output_type": "stream",
     "text": [
      " 13%|█▎        | 331/2487 [23:33<2:42:16,  4.52s/it]"
     ]
    },
    {
     "name": "stdout",
     "output_type": "stream",
     "text": [
      "\n",
      " GL_TS_MO_42053.nc\n",
      "GL_TS_MO_42053.nc does not have any valid data for this timeperiod\n",
      "GL_TS_MO_42053.nc does not have any valid data for this timeperiod\n",
      "\n",
      " GL_TS_MO_Mandurah.nc\n",
      "GL_TS_MO_Mandurah.nc does not have any valid data for this timeperiod\n",
      "\n",
      " GL_TS_MO_MEDS026.nc\n",
      "GL_TS_MO_MEDS026.nc does not have any valid data for this timeperiod\n",
      "\n",
      " NO_TS_MO_Nymindegab.nc\n",
      "POINT(7.940999984741211 55.810001373291016)\n",
      "230  results found\n"
     ]
    },
    {
     "name": "stderr",
     "output_type": "stream",
     "text": [
      " 13%|█▎        | 333/2487 [23:45<2:55:28,  4.89s/it]"
     ]
    },
    {
     "name": "stdout",
     "output_type": "stream",
     "text": [
      "\n",
      " GL_TS_MO_4801656.nc\n",
      "GL_TS_MO_4801656.nc does not have any of the variables ['VHM0', 'VAVH', 'WSPD']\n",
      "\n",
      " GL_TS_MO_23092.nc\n",
      "GL_TS_MO_23092.nc does not have any valid data for this timeperiod\n",
      "\n",
      " GL_TS_MO_46097.nc\n",
      "POINT(-124.30400085449219 44.638999938964844)\n",
      "95  results found\n"
     ]
    },
    {
     "name": "stderr",
     "output_type": "stream",
     "text": [
      " 14%|█▎        | 338/2487 [23:56<2:00:18,  3.36s/it]"
     ]
    },
    {
     "name": "stdout",
     "output_type": "stream",
     "text": [
      "\n",
      " BS_TS_MO_Tuapse.nc\n",
      "BS_TS_MO_Tuapse.nc does not have any valid data for this timeperiod\n",
      "\n",
      " GL_TS_MO_64071.nc\n",
      "GL_TS_MO_64071.nc does not have any valid data for this timeperiod\n",
      "\n",
      " NO_TS_MO_6200301.nc\n",
      "NO_TS_MO_6200301.nc does not have any valid data for this timeperiod\n",
      "NO_TS_MO_6200301.nc does not have any valid data for this timeperiod\n",
      "\n",
      " GL_TS_MO_MEDS086.nc\n",
      "GL_TS_MO_MEDS086.nc does not have any valid data for this timeperiod\n",
      "\n",
      " GL_TS_MO_62308.nc\n",
      "GL_TS_MO_62308.nc does not have any of the variables ['VHM0', 'VAVH', 'WSPD']\n"
     ]
    },
    {
     "name": "stderr",
     "output_type": "stream",
     "text": [
      " 14%|█▍        | 343/2487 [23:57<1:06:56,  1.87s/it]"
     ]
    },
    {
     "name": "stdout",
     "output_type": "stream",
     "text": [
      "\n",
      " GL_TS_MO_6200055.nc\n",
      "GL_TS_MO_6200055.nc does not have any of the variables ['VHM0', 'VAVH', 'WSPD']\n",
      "\n",
      " GL_WS_MO_46079.nc\n",
      "GL_WS_MO_46079.nc does not have any of the variables ['VHM0', 'VAVH', 'WSPD']\n",
      "\n",
      " GL_TS_MO_44059.nc\n",
      "GL_TS_MO_44059.nc does not have any valid data for this timeperiod\n",
      "\n",
      " GL_TS_MO_42364.nc\n",
      "GL_TS_MO_42364.nc does not have any valid data for this timeperiod\n",
      "\n",
      " GL_TS_MO_1400015.nc\n"
     ]
    },
    {
     "name": "stderr",
     "output_type": "stream",
     "text": [
      " 14%|█▍        | 350/2487 [23:57<32:12,  1.11it/s]  "
     ]
    },
    {
     "name": "stdout",
     "output_type": "stream",
     "text": [
      "GL_TS_MO_1400015.nc does not have any of the variables ['VHM0', 'VAVH', 'WSPD']\n",
      "\n",
      " BS_TS_MO_EUXRo02.nc\n",
      "BS_TS_MO_EUXRo02.nc does not have any valid data for this timeperiod\n",
      "\n",
      " GL_TS_MO_41062.nc\n",
      "GL_TS_MO_41062.nc does not have any valid data for this timeperiod\n",
      "\n",
      " BS_TS_MO_37001.nc\n",
      "BS_TS_MO_37001.nc does not have any valid data for this timeperiod\n",
      "\n",
      " GL_WS_MO_45008.nc\n",
      "GL_WS_MO_45008.nc does not have any of the variables ['VHM0', 'VAVH', 'WSPD']\n",
      "\n",
      " GL_WS_MO_51213.nc\n",
      "GL_WS_MO_51213.nc does not have any of the variables ['VHM0', 'VAVH', 'WSPD']\n",
      "\n",
      " NO_TS_MO_6400046.nc\n",
      "POINT(-4.5 60.70100021362305)\n",
      "238  results found\n",
      "\n",
      " GL_TS_MO_46237.nc\n",
      "POINT(-122.63200378417969 37.78799819946289)\n"
     ]
    },
    {
     "name": "stderr",
     "output_type": "stream",
     "text": [
      " 14%|█▍        | 350/2487 [24:11<32:12,  1.11it/s]"
     ]
    },
    {
     "name": "stdout",
     "output_type": "stream",
     "text": [
      "95  results found\n"
     ]
    },
    {
     "name": "stderr",
     "output_type": "stream",
     "text": [
      " 14%|█▍        | 355/2487 [24:16<1:05:52,  1.85s/it]"
     ]
    },
    {
     "name": "stdout",
     "output_type": "stream",
     "text": [
      "\n",
      " GL_TS_MO_45194.nc\n",
      "GL_TS_MO_45194.nc is too close to land\n",
      "\n",
      " GL_WS_MO_48011.nc\n",
      "GL_WS_MO_48011.nc does not have any of the variables ['VHM0', 'VAVH', 'WSPD']\n",
      "\n",
      " AR_TS_MO_Boekkerkaasa-7-78.nc\n",
      "AR_TS_MO_Boekkerkaasa-7-78.nc does not have any of the variables ['VHM0', 'VAVH', 'WSPD']\n",
      "\n",
      " BS_TS_MO_Hersones.nc\n",
      "BS_TS_MO_Hersones.nc does not have any valid data for this timeperiod\n",
      "\n",
      " IR_TS_MO_Tenerife-coast-buoy.nc\n",
      "IR_TS_MO_Tenerife-coast-buoy.nc is too close to land\n",
      "\n",
      " GL_TS_MO_ssbn7.nc\n",
      "POINT(-78.48400115966797 33.8380012512207)\n"
     ]
    },
    {
     "name": "stderr",
     "output_type": "stream",
     "text": [
      " 14%|█▍        | 358/2487 [24:24<1:12:28,  2.04s/it]"
     ]
    },
    {
     "name": "stdout",
     "output_type": "stream",
     "text": [
      "30  results found\n",
      "\n",
      " GL_WS_MO_44087.nc\n",
      "GL_WS_MO_44087.nc does not have any of the variables ['VHM0', 'VAVH', 'WSPD']\n",
      "\n",
      " GL_WS_MO_52211.nc\n"
     ]
    },
    {
     "name": "stderr",
     "output_type": "stream",
     "text": [
      " 15%|█▍        | 362/2487 [24:24<46:29,  1.31s/it]  "
     ]
    },
    {
     "name": "stdout",
     "output_type": "stream",
     "text": [
      "GL_WS_MO_52211.nc does not have any of the variables ['VHM0', 'VAVH', 'WSPD']\n",
      "\n",
      " GL_TS_MO_41109.nc\n",
      "GL_TS_MO_41109.nc does not have any valid data for this timeperiod\n",
      "\n",
      " BO_TS_MO_Grundkallen.nc\n",
      "BO_TS_MO_Grundkallen.nc does not have any valid data for this timeperiod\n",
      "\n",
      " GL_TS_MO_42099.nc\n",
      "LINESTRING(-84.2750015258789 27.349000930786133,-84.2750015258789 27.344999313354492)\n",
      "28  results found\n"
     ]
    },
    {
     "name": "stderr",
     "output_type": "stream",
     "text": [
      " 15%|█▍        | 364/2487 [24:50<2:08:26,  3.63s/it]"
     ]
    },
    {
     "name": "stdout",
     "output_type": "stream",
     "text": [
      "\n",
      " GL_TS_MO_ANTARES.nc\n",
      "GL_TS_MO_ANTARES.nc does not have any of the variables ['VHM0', 'VAVH', 'WSPD']\n",
      "\n",
      " GL_TS_MO_46059.nc\n",
      "POLYGON((-129.9510040283203 38.09400177001953,-129.9510040283203 38.05799865722656,-129.9929962158203 38.05799865722656,-129.9929962158203 38.09400177001953,-129.9510040283203 38.09400177001953))\n"
     ]
    },
    {
     "name": "stderr",
     "output_type": "stream",
     "text": [
      " 15%|█▍        | 366/2487 [24:56<1:58:38,  3.36s/it]"
     ]
    },
    {
     "name": "stdout",
     "output_type": "stream",
     "text": [
      "0  results found\n",
      "\n",
      " GL_WS_MO_46181.nc\n",
      "GL_WS_MO_46181.nc does not have any of the variables ['VHM0', 'VAVH', 'WSPD']\n",
      "\n",
      " GL_TS_MO_41015.nc\n",
      "GL_TS_MO_41015.nc does not have any valid data for this timeperiod\n",
      "GL_TS_MO_41015.nc does not have any valid data for this timeperiod\n",
      "\n",
      " GL_TS_MO_T8N165E.nc\n",
      "POINT(165.0 8.0)\n"
     ]
    },
    {
     "name": "stderr",
     "output_type": "stream",
     "text": [
      " 15%|█▍        | 368/2487 [25:02<1:55:32,  3.27s/it]"
     ]
    },
    {
     "name": "stdout",
     "output_type": "stream",
     "text": [
      "0  results found\n",
      "\n",
      " AR_TS_MO_Grindavikurdufl.nc\n",
      "POINT(-22.460500717163086 63.813331604003906)\n",
      "459  results found\n"
     ]
    },
    {
     "name": "stderr",
     "output_type": "stream",
     "text": [
      " 15%|█▍        | 369/2487 [25:18<3:12:04,  5.44s/it]"
     ]
    },
    {
     "name": "stdout",
     "output_type": "stream",
     "text": [
      "\n",
      " GL_TS_MO_42060.nc\n",
      "POINT(-63.33100128173828 16.433000564575195)\n",
      "117  results found\n"
     ]
    },
    {
     "name": "stderr",
     "output_type": "stream",
     "text": [
      " 15%|█▍        | 370/2487 [25:28<3:44:53,  6.37s/it]"
     ]
    },
    {
     "name": "stdout",
     "output_type": "stream",
     "text": [
      "\n",
      " GL_WS_MO_44011.nc\n",
      "GL_WS_MO_44011.nc does not have any of the variables ['VHM0', 'VAVH', 'WSPD']\n",
      "\n",
      " GL_TS_MO_41118.nc\n",
      "GL_TS_MO_41118.nc does not have any valid data for this timeperiod\n",
      "\n",
      " BO_TS_MO_BrofjordenWR.nc\n",
      "POLYGON((11.224499702453613 58.25,11.224499702453613 58.25299835205078,11.216699600219727 58.25299835205078,11.216699600219727 58.25,11.224499702453613 58.25))\n",
      "234  results found\n"
     ]
    },
    {
     "name": "stderr",
     "output_type": "stream",
     "text": [
      " 15%|█▌        | 376/2487 [28:24<10:46:49, 18.38s/it]"
     ]
    },
    {
     "name": "stdout",
     "output_type": "stream",
     "text": [
      "\n",
      " GL_WS_MO_42056.nc\n",
      "GL_WS_MO_42056.nc does not have any of the variables ['VHM0', 'VAVH', 'WSPD']\n",
      "\n",
      " GL_WS_MO_51000.nc\n",
      "GL_WS_MO_51000.nc does not have any of the variables ['VHM0', 'VAVH', 'WSPD']\n",
      "\n",
      " GL_TS_MO_45143.nc\n",
      "GL_TS_MO_45143.nc does not have any valid data for this timeperiod\n",
      "GL_TS_MO_45143.nc is too close to land\n",
      "\n",
      " NO_TS_MO_WielingenNoord.nc\n",
      "POINT(3.4154999256134033 51.43339920043945)\n",
      "233  results found\n"
     ]
    },
    {
     "name": "stderr",
     "output_type": "stream",
     "text": [
      " 15%|█▌        | 377/2487 [28:42<10:41:42, 18.25s/it]"
     ]
    },
    {
     "name": "stdout",
     "output_type": "stream",
     "text": [
      "\n",
      " GL_TS_MO_44057.nc\n",
      "GL_TS_MO_44057.nc does not have any valid data for this timeperiod\n",
      "\n",
      " AR_TS_MO_Bakkestranda-51-123.nc\n",
      "AR_TS_MO_Bakkestranda-51-123.nc does not have any of the variables ['VHM0', 'VAVH', 'WSPD']\n",
      "\n",
      " GL_TS_MO_46053.nc\n",
      "POINT(-119.83899688720703 34.24100112915039)\n",
      "117  results found\n"
     ]
    },
    {
     "name": "stderr",
     "output_type": "stream",
     "text": [
      " 15%|█▌        | 382/2487 [28:51<5:07:10,  8.76s/it] "
     ]
    },
    {
     "name": "stdout",
     "output_type": "stream",
     "text": [
      "\n",
      " GL_TS_MO_52077.nc\n",
      "GL_TS_MO_52077.nc does not have any valid data for this timeperiod\n",
      "\n",
      " GL_TS_MO_46118.nc\n",
      "GL_TS_MO_46118.nc does not have any valid data for this timeperiod\n",
      "\n",
      " GL_TS_MO_2200184.nc\n",
      "POINT(126.13999938964844 33.790000915527344)\n",
      "30  results found\n"
     ]
    },
    {
     "name": "stderr",
     "output_type": "stream",
     "text": [
      " 15%|█▌        | 385/2487 [28:58<3:29:37,  5.98s/it]"
     ]
    },
    {
     "name": "stdout",
     "output_type": "stream",
     "text": [
      "\n",
      " GL_TS_MO_WEL450.nc\n",
      "GL_TS_MO_WEL450.nc does not have any valid data for this timeperiod\n",
      "\n",
      " GL_TS_MO_45174.nc\n",
      "GL_TS_MO_45174.nc is too close to land\n",
      "\n",
      " GL_TS_MO_2300091.nc\n",
      "POLYGON((89.24700164794922 17.802000045776367,89.24700164794922 17.83300018310547,89.19499969482422 17.83300018310547,89.19499969482422 17.802000045776367,89.24700164794922 17.802000045776367))\n"
     ]
    },
    {
     "name": "stderr",
     "output_type": "stream",
     "text": [
      " 16%|█▌        | 389/2487 [29:02<1:48:40,  3.11s/it]"
     ]
    },
    {
     "name": "stdout",
     "output_type": "stream",
     "text": [
      "0  results found\n",
      "\n",
      " AR_TS_MO_Oeystese-14-26.nc\n",
      "AR_TS_MO_Oeystese-14-26.nc does not have any of the variables ['VHM0', 'VAVH', 'WSPD']\n",
      "\n",
      " GL_TS_MO_3732621.nc\n",
      "GL_TS_MO_3732621.nc does not have any valid data for this timeperiod\n",
      "\n",
      " GL_WS_MO_46001.nc\n",
      "GL_WS_MO_46001.nc does not have any of the variables ['VHM0', 'VAVH', 'WSPD']\n",
      "\n",
      " NO_TS_MO_SchiermonnikoogNoord.nc\n",
      "POINT(6.1666998863220215 53.59550094604492)\n",
      "238  results found\n",
      "\n",
      " GL_TS_MO_41046.nc\n",
      "POINT(-68.38400268554688 23.82200050354004)\n"
     ]
    },
    {
     "name": "stderr",
     "output_type": "stream",
     "text": [
      " 16%|█▌        | 391/2487 [29:19<2:43:52,  4.69s/it]"
     ]
    },
    {
     "name": "stdout",
     "output_type": "stream",
     "text": [
      "0  results found\n",
      "\n",
      " GL_TS_MO_41114.nc\n",
      "POINT(-80.21700286865234 27.551000595092773)\n",
      "59  results found\n"
     ]
    },
    {
     "name": "stderr",
     "output_type": "stream",
     "text": [
      " 16%|█▌        | 394/2487 [29:26<1:59:48,  3.43s/it]"
     ]
    },
    {
     "name": "stdout",
     "output_type": "stream",
     "text": [
      "\n",
      " NO_TS_MO_Amelander41.nc\n",
      "NO_TS_MO_Amelander41.nc does not have any valid data for this timeperiod\n",
      "NO_TS_MO_Amelander41.nc does not have any valid data for this timeperiod\n",
      "\n",
      " GL_WS_MO_42020.nc\n",
      "GL_WS_MO_42020.nc does not have any of the variables ['VHM0', 'VAVH', 'WSPD']\n",
      "\n",
      " GL_TS_MO_45011.nc\n",
      "GL_TS_MO_45011.nc does not have any valid data for this timeperiod\n",
      "GL_TS_MO_45011.nc does not have any valid data for this timeperiod\n",
      "\n",
      " GL_TS_MO_6200069.nc\n",
      "POINT(-4.968299865722656 48.29029846191406)\n",
      "228  results found\n"
     ]
    },
    {
     "name": "stderr",
     "output_type": "stream",
     "text": [
      " 16%|█▌        | 396/2487 [29:41<2:46:44,  4.78s/it]"
     ]
    },
    {
     "name": "stdout",
     "output_type": "stream",
     "text": [
      "\n",
      " GL_TS_MO_MEDS028.nc\n",
      "GL_TS_MO_MEDS028.nc does not have any valid data for this timeperiod\n",
      "\n",
      " GL_TS_MO_MEDS163.nc\n",
      "GL_TS_MO_MEDS163.nc does not have any valid data for this timeperiod\n",
      "\n",
      " GL_TS_MO_46235.nc\n",
      "POINT(-117.16899871826172 32.56999969482422)\n",
      "176  results found\n"
     ]
    },
    {
     "name": "stderr",
     "output_type": "stream",
     "text": [
      " 16%|█▌        | 401/2487 [29:52<1:47:25,  3.09s/it]"
     ]
    },
    {
     "name": "stdout",
     "output_type": "stream",
     "text": [
      "\n",
      " GL_WS_MO_46237.nc\n",
      "GL_WS_MO_46237.nc does not have any of the variables ['VHM0', 'VAVH', 'WSPD']\n",
      "\n",
      " NO_TS_MO_Roscoff.nc\n",
      "NO_TS_MO_Roscoff.nc does not have any of the variables ['VHM0', 'VAVH', 'WSPD']\n",
      "\n",
      " BO_TS_MO_Koster.nc\n",
      "POLYGON((11.100500106811523 58.88209915161133,11.100500106811523 58.8838996887207,11.096400260925293 58.8838996887207,11.096400260925293 58.88209915161133,11.100500106811523 58.88209915161133))\n",
      "248  results found\n"
     ]
    },
    {
     "name": "stderr",
     "output_type": "stream",
     "text": [
      " 16%|█▌        | 403/2487 [30:57<6:17:37, 10.87s/it]"
     ]
    },
    {
     "name": "stdout",
     "output_type": "stream",
     "text": [
      "\n",
      " GL_TS_MO_31375.nc\n",
      "GL_TS_MO_31375.nc does not have any valid data for this timeperiod\n",
      "\n",
      " MO_TS_MO_ADN-CURRISO.nc\n"
     ]
    },
    {
     "name": "stderr",
     "output_type": "stream",
     "text": [
      " 16%|█▋        | 405/2487 [30:57<4:04:07,  7.04s/it]"
     ]
    },
    {
     "name": "stdout",
     "output_type": "stream",
     "text": [
      "MO_TS_MO_ADN-CURRISO.nc does not have any of the variables ['VHM0', 'VAVH', 'WSPD']\n",
      "\n",
      " NO_TS_MO_6201026.nc\n",
      "NO_TS_MO_6201026.nc does not have any valid data for this timeperiod\n",
      "\n",
      " IR_TS_MO_6201039.nc\n",
      "IR_TS_MO_6201039.nc is too close to land\n",
      "\n",
      " GL_TS_MO_6200079.nc\n"
     ]
    },
    {
     "name": "stderr",
     "output_type": "stream",
     "text": [
      " 16%|█▋        | 410/2487 [30:59<1:38:09,  2.84s/it]"
     ]
    },
    {
     "name": "stdout",
     "output_type": "stream",
     "text": [
      "GL_TS_MO_6200079.nc is too close to land\n",
      "\n",
      " GL_WS_MO_6100001.nc\n",
      "GL_WS_MO_6100001.nc does not have any of the variables ['VHM0', 'VAVH', 'WSPD']\n",
      "\n",
      " GL_TS_MO_4600147.nc\n",
      "GL_TS_MO_4600147.nc does not have any valid data for this timeperiod\n",
      "\n",
      " GL_TS_MO_MEDS048.nc\n",
      "GL_TS_MO_MEDS048.nc does not have any valid data for this timeperiod\n",
      "\n",
      " GL_TS_MO_42094.nc\n",
      "GL_TS_MO_42094.nc does not have any valid data for this timeperiod\n",
      "\n",
      " NO_TS_MO_HelgolandWR.nc\n",
      "POINT(7.891110897064209 54.17972183227539)\n",
      "232  results found\n"
     ]
    },
    {
     "name": "stderr",
     "output_type": "stream",
     "text": [
      " 17%|█▋        | 414/2487 [31:09<1:24:24,  2.44s/it]"
     ]
    },
    {
     "name": "stdout",
     "output_type": "stream",
     "text": [
      "\n",
      " GL_TS_MO_44070.nc\n",
      "GL_TS_MO_44070.nc does not have any valid data for this timeperiod\n",
      "\n",
      " GL_WS_MO_46253.nc\n",
      "GL_WS_MO_46253.nc does not have any of the variables ['VHM0', 'VAVH', 'WSPD']\n",
      "\n",
      " GL_TS_MO_2200185.nc\n",
      "POINT(125.43000030517578 37.09000015258789)\n",
      "31  results found\n",
      "\n",
      " GL_TS_MO_2300492.nc\n",
      "POLYGON((72.20899963378906 10.866999626159668,72.20899963378906 10.875,72.20999908447266 10.875,72.20999908447266 10.866999626159668,72.20899963378906 10.866999626159668))\n"
     ]
    },
    {
     "name": "stderr",
     "output_type": "stream",
     "text": [
      " 17%|█▋        | 416/2487 [31:21<2:02:40,  3.55s/it]"
     ]
    },
    {
     "name": "stdout",
     "output_type": "stream",
     "text": [
      "0  results found\n",
      "\n",
      " GL_TS_MO_CoralBay.nc\n",
      "GL_TS_MO_CoralBay.nc does not have any valid data for this timeperiod\n",
      "\n",
      " GL_TS_MO_46231.nc\n"
     ]
    },
    {
     "name": "stderr",
     "output_type": "stream",
     "text": [
      " 17%|█▋        | 420/2487 [31:21<1:02:16,  1.81s/it]"
     ]
    },
    {
     "name": "stdout",
     "output_type": "stream",
     "text": [
      "GL_TS_MO_46231.nc does not have any valid data for this timeperiod\n",
      "\n",
      " GL_TS_MO_WEL123.nc\n",
      "GL_TS_MO_WEL123.nc does not have any valid data for this timeperiod\n",
      "\n",
      " GL_TS_MO_Cottesloe.nc\n",
      "GL_TS_MO_Cottesloe.nc does not have any valid data for this timeperiod\n",
      "\n",
      " GL_TS_MO_41009.nc\n",
      "POINT(-80.18499755859375 28.507999420166016)\n",
      "59  results found\n"
     ]
    },
    {
     "name": "stderr",
     "output_type": "stream",
     "text": [
      " 17%|█▋        | 422/2487 [31:32<1:37:54,  2.84s/it]"
     ]
    },
    {
     "name": "stdout",
     "output_type": "stream",
     "text": [
      "\n",
      " GL_TS_MO_42067.nc\n",
      "GL_TS_MO_42067.nc does not have any valid data for this timeperiod\n",
      "GL_TS_MO_42067.nc does not have any valid data for this timeperiod\n",
      "\n",
      " NO_TS_MO_6201008.nc\n",
      "NO_TS_MO_6201008.nc does not have any valid data for this timeperiod\n",
      "\n",
      " GL_TS_MO_42001.nc\n",
      "POLYGON((-89.65699768066406 25.89699935913086,-89.65699768066406 25.941999435424805,-89.66799926757812 25.941999435424805,-89.66799926757812 25.89699935913086,-89.65699768066406 25.89699935913086))\n",
      "30  results found\n"
     ]
    },
    {
     "name": "stderr",
     "output_type": "stream",
     "text": [
      " 17%|█▋        | 425/2487 [32:02<3:02:40,  5.32s/it]"
     ]
    },
    {
     "name": "stdout",
     "output_type": "stream",
     "text": [
      "\n",
      " GL_TS_MO_WEL429.nc\n",
      "GL_TS_MO_WEL429.nc does not have any valid data for this timeperiod\n",
      "\n",
      " GL_TS_MO_53040.nc\n",
      "POLYGON((95.1018295288086 -8.232170104980469,95.1018295288086 -8.0,95.0 -8.0,95.0 -8.232170104980469,95.1018295288086 -8.232170104980469))\n"
     ]
    },
    {
     "name": "stderr",
     "output_type": "stream",
     "text": [
      " 17%|█▋        | 427/2487 [32:08<2:25:50,  4.25s/it]"
     ]
    },
    {
     "name": "stdout",
     "output_type": "stream",
     "text": [
      "0  results found\n",
      "\n",
      " GL_TS_MO_ljpc1.nc\n",
      "GL_TS_MO_ljpc1.nc is too close to land\n",
      "\n",
      " IR_TS_MO_Pasaia-station.nc\n"
     ]
    },
    {
     "name": "stderr",
     "output_type": "stream",
     "text": [
      " 17%|█▋        | 430/2487 [32:10<1:14:53,  2.18s/it]"
     ]
    },
    {
     "name": "stdout",
     "output_type": "stream",
     "text": [
      "IR_TS_MO_Pasaia-station.nc is too close to land\n",
      "\n",
      " GL_TS_MO_MEDS173.nc\n",
      "GL_TS_MO_MEDS173.nc does not have any valid data for this timeperiod\n",
      "\n",
      " GL_TS_MO_WEL285.nc\n",
      "GL_TS_MO_WEL285.nc does not have any valid data for this timeperiod\n",
      "\n",
      " GL_TS_MO_55054.nc\n"
     ]
    },
    {
     "name": "stderr",
     "output_type": "stream",
     "text": [
      " 17%|█▋        | 432/2487 [32:10<47:56,  1.40s/it]  "
     ]
    },
    {
     "name": "stdout",
     "output_type": "stream",
     "text": [
      "GL_TS_MO_55054.nc does not have any valid data for this timeperiod\n",
      "\n",
      " GL_TS_MO_1301509.nc\n",
      "GL_TS_MO_1301509.nc does not have any of the variables ['VHM0', 'VAVH', 'WSPD']\n",
      "\n",
      " GL_TS_MO_44066.nc\n",
      "POINT(-72.64399719238281 39.61800003051758)\n",
      "82  results found\n"
     ]
    },
    {
     "name": "stderr",
     "output_type": "stream",
     "text": [
      " 17%|█▋        | 434/2487 [32:17<1:12:11,  2.11s/it]"
     ]
    },
    {
     "name": "stdout",
     "output_type": "stream",
     "text": [
      "\n",
      " GL_WS_MO_51201.nc\n",
      "GL_WS_MO_51201.nc does not have any of the variables ['VHM0', 'VAVH', 'WSPD']\n",
      "\n",
      " GL_TS_MO_44153.nc\n",
      "GL_TS_MO_44153.nc does not have any valid data for this timeperiod\n",
      "GL_TS_MO_44153.nc does not have any valid data for this timeperiod\n",
      "\n",
      " NO_TS_MO_Troll-A.nc\n",
      "POINT(3.7193000316619873 60.64350128173828)\n",
      "237  results found\n"
     ]
    },
    {
     "name": "stderr",
     "output_type": "stream",
     "text": [
      " 18%|█▊        | 438/2487 [32:32<1:30:38,  2.65s/it]"
     ]
    },
    {
     "name": "stdout",
     "output_type": "stream",
     "text": [
      "\n",
      " GL_TS_MO_WEL262.nc\n",
      "GL_TS_MO_WEL262.nc does not have any valid data for this timeperiod\n",
      "\n",
      " AR_TS_MO_Retiro-38-94.nc\n",
      "AR_TS_MO_Retiro-38-94.nc does not have any of the variables ['VHM0', 'VAVH', 'WSPD']\n",
      "\n",
      " GL_TS_MO_6301003.nc\n",
      "GL_TS_MO_6301003.nc does not have any valid data for this timeperiod\n",
      "\n",
      " BO_TS_MO_Luro.nc\n",
      "BO_TS_MO_Luro.nc does not have any valid data for this timeperiod\n"
     ]
    },
    {
     "name": "stderr",
     "output_type": "stream",
     "text": [
      " 18%|█▊        | 441/2487 [32:32<54:30,  1.60s/it]  "
     ]
    },
    {
     "name": "stdout",
     "output_type": "stream",
     "text": [
      "\n",
      " GL_TS_MO_46252.nc\n",
      "GL_TS_MO_46252.nc does not have any valid data for this timeperiod\n",
      "\n",
      " GL_TS_MO_42055.nc\n",
      "POINT(-93.94100189208984 22.124000549316406)\n",
      "58  results found\n",
      "\n",
      " GL_TS_MO_46085.nc\n",
      "POLYGON((-142.8820037841797 55.882999420166016,-142.8820037841797 55.86800003051758,-142.49200439453125 55.86800003051758,-142.49200439453125 55.882999420166016,-142.8820037841797 55.882999420166016))\n"
     ]
    },
    {
     "name": "stderr",
     "output_type": "stream",
     "text": [
      " 18%|█▊        | 443/2487 [32:48<1:54:31,  3.36s/it]"
     ]
    },
    {
     "name": "stdout",
     "output_type": "stream",
     "text": [
      "0  results found\n",
      "\n",
      " GL_TS_MO_46124.nc\n"
     ]
    },
    {
     "name": "stderr",
     "output_type": "stream",
     "text": [
      " 18%|█▊        | 445/2487 [32:48<1:22:30,  2.42s/it]"
     ]
    },
    {
     "name": "stdout",
     "output_type": "stream",
     "text": [
      "GL_TS_MO_46124.nc does not have any of the variables ['VHM0', 'VAVH', 'WSPD']\n",
      "\n",
      " GL_TS_MO_6801026.nc\n",
      "GL_TS_MO_6801026.nc does not have any of the variables ['VHM0', 'VAVH', 'WSPD']\n",
      "\n",
      " NO_TS_MO_Kuehlungsborn.nc\n",
      "NO_TS_MO_Kuehlungsborn.nc does not have any of the variables ['VHM0', 'VAVH', 'WSPD']\n",
      "\n",
      " MO_TS_MO_ATHOS.nc\n",
      "POINT(24.729400634765625 39.974998474121094)\n",
      "224  results found\n"
     ]
    },
    {
     "name": "stderr",
     "output_type": "stream",
     "text": [
      " 18%|█▊        | 448/2487 [32:57<1:25:51,  2.53s/it]"
     ]
    },
    {
     "name": "stdout",
     "output_type": "stream",
     "text": [
      "\n",
      " IR_TS_MO_Alboran-current-meter.nc\n",
      "IR_TS_MO_Alboran-current-meter.nc does not have any of the variables ['VHM0', 'VAVH', 'WSPD']\n",
      "\n",
      " AR_TS_MO_Aaletjern-51-122.nc\n",
      "AR_TS_MO_Aaletjern-51-122.nc does not have any of the variables ['VHM0', 'VAVH', 'WSPD']\n",
      "\n",
      " GL_TS_MO_MEDS076.nc\n",
      "GL_TS_MO_MEDS076.nc does not have any valid data for this timeperiod\n",
      "\n",
      " NO_TS_MO_6201051.nc\n",
      "NO_TS_MO_6201051.nc does not have any valid data for this timeperiod\n",
      "\n",
      " GL_TS_MO_300777.nc\n"
     ]
    },
    {
     "name": "stderr",
     "output_type": "stream",
     "text": [
      " 18%|█▊        | 452/2487 [32:57<43:49,  1.29s/it]  "
     ]
    },
    {
     "name": "stdout",
     "output_type": "stream",
     "text": [
      "GL_TS_MO_300777.nc does not have any of the variables ['VHM0', 'VAVH', 'WSPD']\n",
      "\n",
      " GL_WS_MO_45180.nc\n",
      "GL_WS_MO_45180.nc does not have any of the variables ['VHM0', 'VAVH', 'WSPD']\n",
      "\n",
      " GL_TS_MO_2200103.nc\n",
      "POINT(127.5 34.0)\n",
      "32  results found\n"
     ]
    },
    {
     "name": "stderr",
     "output_type": "stream",
     "text": [
      " 18%|█▊        | 454/2487 [33:05<1:05:34,  1.94s/it]"
     ]
    },
    {
     "name": "stdout",
     "output_type": "stream",
     "text": [
      "\n",
      " NO_TS_MO_ElbeWR.nc\n",
      "POINT(8.113670349121094 53.996498107910156)\n",
      "232  results found\n",
      "\n",
      " NO_TS_MO_6200107.nc\n",
      "POINT(-6.099999904632568 50.10300064086914)\n"
     ]
    },
    {
     "name": "stderr",
     "output_type": "stream",
     "text": [
      " 18%|█▊        | 454/2487 [33:21<1:05:34,  1.94s/it]"
     ]
    },
    {
     "name": "stdout",
     "output_type": "stream",
     "text": [
      "178  results found\n"
     ]
    },
    {
     "name": "stderr",
     "output_type": "stream",
     "text": [
      " 18%|█▊        | 457/2487 [33:26<2:03:22,  3.65s/it]"
     ]
    },
    {
     "name": "stdout",
     "output_type": "stream",
     "text": [
      "\n",
      " GL_TS_MO_44023.nc\n",
      "GL_TS_MO_44023.nc does not have any valid data for this timeperiod\n",
      "GL_TS_MO_44023.nc does not have any valid data for this timeperiod\n",
      "\n",
      " GL_TS_MO_6200450.nc\n"
     ]
    },
    {
     "name": "stderr",
     "output_type": "stream",
     "text": [
      " 18%|█▊        | 459/2487 [33:27<1:27:21,  2.58s/it]"
     ]
    },
    {
     "name": "stdout",
     "output_type": "stream",
     "text": [
      "GL_TS_MO_6200450.nc is too close to land\n",
      "\n",
      " AR_TS_MO_Solastranden-26-57.nc\n",
      "AR_TS_MO_Solastranden-26-57.nc does not have any of the variables ['VHM0', 'VAVH', 'WSPD']\n",
      "\n",
      " AR_TS_MO_Raudvigaa-9-56.nc\n",
      "AR_TS_MO_Raudvigaa-9-56.nc does not have any of the variables ['VHM0', 'VAVH', 'WSPD']\n",
      "\n",
      " GL_TS_MO_MEDS193.nc\n",
      "GL_TS_MO_MEDS193.nc does not have any valid data for this timeperiod\n",
      "\n",
      " GL_WS_MO_42002.nc\n"
     ]
    },
    {
     "name": "stderr",
     "output_type": "stream",
     "text": [
      " 19%|█▊        | 465/2487 [33:27<34:07,  1.01s/it]  "
     ]
    },
    {
     "name": "stdout",
     "output_type": "stream",
     "text": [
      "GL_WS_MO_42002.nc does not have any of the variables ['VHM0', 'VAVH', 'WSPD']\n",
      "\n",
      " GL_TS_MO_3101564.nc\n",
      "GL_TS_MO_3101564.nc does not have any of the variables ['VHM0', 'VAVH', 'WSPD']\n",
      "\n",
      " GL_TS_MO_MEDS031.nc\n",
      "GL_TS_MO_MEDS031.nc does not have any valid data for this timeperiod\n",
      "\n",
      " GL_WS_MO_44098.nc\n",
      "GL_WS_MO_44098.nc does not have any of the variables ['VHM0', 'VAVH', 'WSPD']\n",
      "\n",
      " GL_TS_MO_44033.nc\n",
      "POINT(-68.99600219726562 44.05500030517578)\n",
      "116  results found\n"
     ]
    },
    {
     "name": "stderr",
     "output_type": "stream",
     "text": [
      " 19%|█▉        | 467/2487 [33:36<1:01:56,  1.84s/it]"
     ]
    },
    {
     "name": "stdout",
     "output_type": "stream",
     "text": [
      "\n",
      " NO_TS_MO_FehmarnBelt.nc\n",
      "NO_TS_MO_FehmarnBelt.nc does not have any valid data for this timeperiod\n",
      "\n",
      " GL_WS_MO_46013.nc\n"
     ]
    },
    {
     "name": "stderr",
     "output_type": "stream",
     "text": [
      " 19%|█▉        | 470/2487 [33:36<37:13,  1.11s/it]  "
     ]
    },
    {
     "name": "stdout",
     "output_type": "stream",
     "text": [
      "GL_WS_MO_46013.nc does not have any of the variables ['VHM0', 'VAVH', 'WSPD']\n",
      "\n",
      " BS_TS_MO_WD3044A.nc\n",
      "BS_TS_MO_WD3044A.nc does not have any valid data for this timeperiod\n",
      "\n",
      " GL_TS_MO_MEDS169.nc\n",
      "GL_TS_MO_MEDS169.nc does not have any valid data for this timeperiod\n",
      "\n",
      " BS_TS_MO_Horly.nc\n",
      "BS_TS_MO_Horly.nc does not have any valid data for this timeperiod\n",
      "\n",
      " GL_TS_MO_WEL273.nc\n",
      "GL_TS_MO_WEL273.nc does not have any valid data for this timeperiod\n",
      "\n",
      " IR_TS_MO_6100198.nc\n",
      "POLYGON((-2.348599910736084 36.56439971923828,-2.348599910736084 36.57619857788086,-2.3357999324798584 36.57619857788086,-2.3357999324798584 36.56439971923828,-2.348599910736084 36.56439971923828))\n",
      "120  results found\n"
     ]
    },
    {
     "name": "stderr",
     "output_type": "stream",
     "text": [
      " 19%|█▉        | 473/2487 [35:18<7:58:50, 14.27s/it]"
     ]
    },
    {
     "name": "stdout",
     "output_type": "stream",
     "text": [
      "\n",
      " GL_TS_MO_WEL401.nc\n",
      "GL_TS_MO_WEL401.nc does not have any valid data for this timeperiod\n",
      "\n",
      " GL_TS_MO_42039.nc\n",
      "POLYGON((-86.00700378417969 28.78700065612793,-86.00700378417969 28.788000106811523,-86.00800323486328 28.788000106811523,-86.00800323486328 28.78700065612793,-86.00700378417969 28.78700065612793))\n",
      "31  results found\n"
     ]
    },
    {
     "name": "stderr",
     "output_type": "stream",
     "text": [
      " 19%|█▉        | 475/2487 [36:28<11:05:41, 19.85s/it]"
     ]
    },
    {
     "name": "stdout",
     "output_type": "stream",
     "text": [
      "\n",
      " BO_TS_MO_HarsfjardenWR.nc\n",
      "BO_TS_MO_HarsfjardenWR.nc does not have any valid data for this timeperiod\n",
      "\n",
      " GL_TS_MO_T2N110W.nc\n",
      "POINT(-110.0 2.0)\n"
     ]
    },
    {
     "name": "stderr",
     "output_type": "stream",
     "text": [
      " 19%|█▉        | 478/2487 [36:35<7:06:36, 12.74s/it] "
     ]
    },
    {
     "name": "stdout",
     "output_type": "stream",
     "text": [
      "0  results found\n",
      "\n",
      " IR_TS_MO_ValenciaI-coast-buoy.nc\n",
      "IR_TS_MO_ValenciaI-coast-buoy.nc does not have any valid data for this timeperiod\n",
      "IR_TS_MO_ValenciaI-coast-buoy.nc does not have any valid data for this timeperiod\n",
      "\n",
      " GL_TS_MO_41005.nc\n",
      "GL_TS_MO_41005.nc does not have any valid data for this timeperiod\n",
      "GL_TS_MO_41005.nc does not have any valid data for this timeperiod\n",
      "\n",
      " AR_TS_MO_Drangsnes.nc\n",
      "POINT(-21.137666702270508 65.76983642578125)\n",
      "455  results found\n"
     ]
    },
    {
     "name": "stderr",
     "output_type": "stream",
     "text": [
      " 19%|█▉        | 481/2487 [36:57<5:29:51,  9.87s/it]"
     ]
    },
    {
     "name": "stdout",
     "output_type": "stream",
     "text": [
      "\n",
      " GL_TS_MO_42038.nc\n",
      "GL_TS_MO_42038.nc does not have any valid data for this timeperiod\n",
      "GL_TS_MO_42038.nc does not have any valid data for this timeperiod\n",
      "\n",
      " NO_TS_MO_6201007.nc\n",
      "NO_TS_MO_6201007.nc does not have any valid data for this timeperiod\n",
      "\n",
      " MO_TS_MO_PONZA-61214.nc\n"
     ]
    },
    {
     "name": "stderr",
     "output_type": "stream",
     "text": [
      " 19%|█▉        | 483/2487 [36:57<3:35:06,  6.44s/it]"
     ]
    },
    {
     "name": "stdout",
     "output_type": "stream",
     "text": [
      "MO_TS_MO_PONZA-61214.nc does not have any valid data for this timeperiod\n",
      "\n",
      " GL_TS_MO_31003.nc\n",
      "POLYGON((-31.155000686645508 -8.244000434875488,-31.155000686645508 -7.927000045776367,-30.42300033569336 -7.927000045776367,-30.42300033569336 -8.244000434875488,-31.155000686645508 -8.244000434875488))\n",
      "0  results found\n",
      "\n",
      " GL_TS_MO_42059.nc\n",
      "POLYGON((-67.49500274658203 15.298999786376953,-67.49500274658203 15.286999702453613,-67.47699737548828 15.286999702453613,-67.47699737548828 15.298999786376953,-67.49500274658203 15.298999786376953))\n",
      "108  results found\n"
     ]
    },
    {
     "name": "stderr",
     "output_type": "stream",
     "text": [
      " 20%|█▉        | 485/2487 [39:54<18:46:31, 33.76s/it]"
     ]
    },
    {
     "name": "stdout",
     "output_type": "stream",
     "text": [
      "\n",
      " MO_TS_MO_ADN-MAMBO1.nc\n"
     ]
    },
    {
     "name": "stderr",
     "output_type": "stream",
     "text": [
      " 20%|█▉        | 486/2487 [39:54<15:11:15, 27.32s/it]"
     ]
    },
    {
     "name": "stdout",
     "output_type": "stream",
     "text": [
      "MO_TS_MO_ADN-MAMBO1.nc is too close to land\n",
      "\n",
      " GL_TS_MO_44099.nc\n",
      "POINT(-75.72200012207031 36.915000915527344)\n",
      "56  results found\n"
     ]
    },
    {
     "name": "stderr",
     "output_type": "stream",
     "text": [
      " 20%|█▉        | 487/2487 [40:03<12:57:06, 23.31s/it]"
     ]
    },
    {
     "name": "stdout",
     "output_type": "stream",
     "text": [
      "\n",
      " GL_TS_MO_6200252.nc\n",
      "GL_TS_MO_6200252.nc does not have any of the variables ['VHM0', 'VAVH', 'WSPD']\n",
      "\n",
      " GL_TS_MO_44150.nc\n",
      "GL_TS_MO_44150.nc does not have any valid data for this timeperiod\n",
      "POINT(-64.01799774169922 42.505001068115234)\n",
      "57  results found\n"
     ]
    },
    {
     "name": "stderr",
     "output_type": "stream",
     "text": [
      " 20%|█▉        | 489/2487 [40:11<8:54:59, 16.07s/it] "
     ]
    },
    {
     "name": "stdout",
     "output_type": "stream",
     "text": [
      "\n",
      " NO_TS_MO_Helgoland-NorthWR.nc\n",
      "POINT(7.818299770355225 54.21929931640625)\n",
      "232  results found\n"
     ]
    },
    {
     "name": "stderr",
     "output_type": "stream",
     "text": [
      " 20%|█▉        | 492/2487 [40:22<5:08:16,  9.27s/it]"
     ]
    },
    {
     "name": "stdout",
     "output_type": "stream",
     "text": [
      "\n",
      " GL_TS_MO_7100061.nc\n",
      "GL_TS_MO_7100061.nc does not have any of the variables ['VHM0', 'VAVH', 'WSPD']\n",
      "\n",
      " GL_TS_MO_45172.nc\n",
      "GL_TS_MO_45172.nc does not have any valid data for this timeperiod\n",
      "GL_TS_MO_45172.nc does not have any valid data for this timeperiod\n",
      "\n",
      " GL_TS_MO_6100188.nc\n"
     ]
    },
    {
     "name": "stderr",
     "output_type": "stream",
     "text": [
      " 20%|█▉        | 493/2487 [40:22<4:04:15,  7.35s/it]"
     ]
    },
    {
     "name": "stdout",
     "output_type": "stream",
     "text": [
      "GL_TS_MO_6100188.nc is too close to land\n",
      "\n",
      " NO_TS_MO_6201012.nc\n",
      "NO_TS_MO_6201012.nc does not have any valid data for this timeperiod\n",
      "\n",
      " GL_WS_MO_51212.nc\n",
      "GL_WS_MO_51212.nc does not have any of the variables ['VHM0', 'VAVH', 'WSPD']\n",
      "\n",
      " NO_TS_MO_F161.nc\n"
     ]
    },
    {
     "name": "stderr",
     "output_type": "stream",
     "text": [
      " 20%|██        | 498/2487 [40:23<1:28:59,  2.68s/it]"
     ]
    },
    {
     "name": "stdout",
     "output_type": "stream",
     "text": [
      "NO_TS_MO_F161.nc does not have any valid data for this timeperiod\n",
      "NO_TS_MO_F161.nc does not have any valid data for this timeperiod\n",
      "\n",
      " GL_TS_MO_EMSO-Azores-SeamonEast.nc\n",
      "GL_TS_MO_EMSO-Azores-SeamonEast.nc does not have any of the variables ['VHM0', 'VAVH', 'WSPD']\n",
      "\n",
      " GL_TS_MO_Ningaloo.nc\n",
      "GL_TS_MO_Ningaloo.nc does not have any valid data for this timeperiod\n",
      "\n",
      " GL_TS_MO_48214.nc\n"
     ]
    },
    {
     "name": "stderr",
     "output_type": "stream",
     "text": [
      " 20%|██        | 500/2487 [40:23<1:02:06,  1.88s/it]"
     ]
    },
    {
     "name": "stdout",
     "output_type": "stream",
     "text": [
      "GL_TS_MO_48214.nc does not have any valid data for this timeperiod\n",
      "GL_TS_MO_48214.nc does not have any valid data for this timeperiod\n",
      "\n",
      " GL_TS_MO_MEDS019.nc\n",
      "GL_TS_MO_MEDS019.nc does not have any valid data for this timeperiod\n",
      "\n",
      " GL_WS_MO_46066.nc\n",
      "GL_WS_MO_46066.nc does not have any of the variables ['VHM0', 'VAVH', 'WSPD']\n",
      "\n",
      " GL_WS_MO_45141.nc\n"
     ]
    },
    {
     "name": "stderr",
     "output_type": "stream",
     "text": [
      " 20%|██        | 502/2487 [40:23<44:13,  1.34s/it]  "
     ]
    },
    {
     "name": "stdout",
     "output_type": "stream",
     "text": [
      "GL_WS_MO_45141.nc does not have any of the variables ['VHM0', 'VAVH', 'WSPD']\n",
      "\n",
      " GL_TS_MO_44138.nc\n",
      "GL_TS_MO_44138.nc does not have any valid data for this timeperiod\n",
      "GL_TS_MO_44138.nc does not have any valid data for this timeperiod\n",
      "\n",
      " IR_TS_MO_Melilla-coast-buoy.nc\n",
      "POLYGON((-2.940000057220459 35.32699966430664,-2.940000057220459 35.31930160522461,-2.944000005722046 35.31930160522461,-2.944000005722046 35.32699966430664,-2.940000057220459 35.32699966430664))\n",
      "179  results found\n"
     ]
    },
    {
     "name": "stderr",
     "output_type": "stream",
     "text": [
      " 20%|██        | 505/2487 [42:48<10:24:12, 18.90s/it]"
     ]
    },
    {
     "name": "stdout",
     "output_type": "stream",
     "text": [
      "\n",
      " NO_TS_MO_Wierumerwad3.nc\n",
      "NO_TS_MO_Wierumerwad3.nc is too close to land\n",
      "\n",
      " GL_TS_MO_4100097.nc\n",
      "POINT(-61.096900939941406 14.548100471496582)\n",
      "200  results found\n"
     ]
    },
    {
     "name": "stderr",
     "output_type": "stream",
     "text": [
      " 20%|██        | 508/2487 [43:00<6:03:23, 11.02s/it] "
     ]
    },
    {
     "name": "stdout",
     "output_type": "stream",
     "text": [
      "\n",
      " GL_WS_MO_4100097.nc\n",
      "GL_WS_MO_4100097.nc does not have any of the variables ['VHM0', 'VAVH', 'WSPD']\n",
      "\n",
      " GL_TS_MO_23003.nc\n",
      "GL_TS_MO_23003.nc does not have any valid data for this timeperiod\n",
      "\n",
      " GL_TS_MO_6801020.nc\n"
     ]
    },
    {
     "name": "stderr",
     "output_type": "stream",
     "text": [
      " 21%|██        | 510/2487 [43:00<3:43:09,  6.77s/it]"
     ]
    },
    {
     "name": "stdout",
     "output_type": "stream",
     "text": [
      "GL_TS_MO_6801020.nc does not have any of the variables ['VHM0', 'VAVH', 'WSPD']\n",
      "\n",
      " GL_WS_MO_46005.nc\n",
      "GL_WS_MO_46005.nc does not have any of the variables ['VHM0', 'VAVH', 'WSPD']\n",
      "\n",
      " AR_TS_MO_Levanger-Bystrand-41-105.nc\n",
      "AR_TS_MO_Levanger-Bystrand-41-105.nc does not have any of the variables ['VHM0', 'VAVH', 'WSPD']\n",
      "\n",
      " AR_TS_MO_Mosvatnet-53-130.nc\n"
     ]
    },
    {
     "name": "stderr",
     "output_type": "stream",
     "text": [
      " 21%|██        | 514/2487 [43:00<1:27:17,  2.65s/it]"
     ]
    },
    {
     "name": "stdout",
     "output_type": "stream",
     "text": [
      "AR_TS_MO_Mosvatnet-53-130.nc does not have any of the variables ['VHM0', 'VAVH', 'WSPD']\n",
      "\n",
      " NO_TS_MO_6201015.nc\n",
      "NO_TS_MO_6201015.nc does not have any valid data for this timeperiod\n",
      "\n",
      " IR_TS_MO_AMETSBerthCWaveBuoy.nc\n",
      "IR_TS_MO_AMETSBerthCWaveBuoy.nc does not have any valid data for this timeperiod\n",
      "\n",
      " GL_TS_MO_44073.nc\n",
      "POINT(-70.54000091552734 43.02000045776367)\n",
      "57  results found\n",
      "\n",
      " IR_TS_MO_Tarifa-coast-buoy.nc\n",
      "POLYGON((-5.593200206756592 36.0,-5.593200206756592 36.005001068115234,-5.587100028991699 36.005001068115234,-5.587100028991699 36.0,-5.593200206756592 36.0))\n"
     ]
    },
    {
     "name": "stderr",
     "output_type": "stream",
     "text": [
      " 21%|██        | 514/2487 [43:12<1:27:17,  2.65s/it]"
     ]
    },
    {
     "name": "stdout",
     "output_type": "stream",
     "text": [
      "229  results found\n"
     ]
    },
    {
     "name": "stderr",
     "output_type": "stream",
     "text": [
      " 21%|██        | 516/2487 [44:14<7:48:32, 14.26s/it]"
     ]
    },
    {
     "name": "stdout",
     "output_type": "stream",
     "text": [
      "\n",
      " GL_TS_MO_44161.nc\n",
      "GL_TS_MO_44161.nc does not have any valid data for this timeperiod\n",
      "GL_TS_MO_44161.nc does not have any valid data for this timeperiod\n",
      "\n",
      " GL_WS_MO_41049.nc\n"
     ]
    },
    {
     "name": "stderr",
     "output_type": "stream",
     "text": [
      " 21%|██        | 518/2487 [44:14<5:16:58,  9.66s/it]"
     ]
    },
    {
     "name": "stdout",
     "output_type": "stream",
     "text": [
      "GL_WS_MO_41049.nc does not have any of the variables ['VHM0', 'VAVH', 'WSPD']\n",
      "\n",
      " GL_TS_MO_T8N95W.nc\n",
      "GL_TS_MO_T8N95W.nc does not have any valid data for this timeperiod\n",
      "\n",
      " GL_TS_MO_5501000.nc\n"
     ]
    },
    {
     "name": "stderr",
     "output_type": "stream",
     "text": [
      " 21%|██        | 522/2487 [44:16<2:34:51,  4.73s/it]"
     ]
    },
    {
     "name": "stdout",
     "output_type": "stream",
     "text": [
      "GL_TS_MO_5501000.nc does not have any of the variables ['VHM0', 'VAVH', 'WSPD']\n",
      "\n",
      " AR_TS_MO_Sundssanden-44-109.nc\n",
      "AR_TS_MO_Sundssanden-44-109.nc does not have any of the variables ['VHM0', 'VAVH', 'WSPD']\n",
      "\n",
      " GL_TS_MO_MEDS144.nc\n",
      "GL_TS_MO_MEDS144.nc does not have any valid data for this timeperiod\n",
      "\n",
      " GL_WS_MO_46132.nc\n",
      "GL_WS_MO_46132.nc does not have any of the variables ['VHM0', 'VAVH', 'WSPD']\n",
      "\n",
      " GL_WS_MO_46084.nc\n"
     ]
    },
    {
     "name": "stderr",
     "output_type": "stream",
     "text": [
      " 21%|██        | 524/2487 [44:16<1:49:38,  3.35s/it]"
     ]
    },
    {
     "name": "stdout",
     "output_type": "stream",
     "text": [
      "GL_WS_MO_46084.nc does not have any of the variables ['VHM0', 'VAVH', 'WSPD']\n",
      "\n",
      " GL_TS_MO_2200191.nc\n",
      "POINT(124.05999755859375 36.130001068115234)\n",
      "29  results found\n"
     ]
    },
    {
     "name": "stderr",
     "output_type": "stream",
     "text": [
      " 21%|██        | 526/2487 [44:23<1:42:57,  3.15s/it]"
     ]
    },
    {
     "name": "stdout",
     "output_type": "stream",
     "text": [
      "\n",
      " GL_TS_MO_44085.nc\n",
      "GL_TS_MO_44085.nc does not have any valid data for this timeperiod\n",
      "\n",
      " GL_TS_MO_T2N125W.nc\n",
      "POINT(-125.0 2.0)\n"
     ]
    },
    {
     "name": "stderr",
     "output_type": "stream",
     "text": [
      " 21%|██        | 527/2487 [44:33<2:33:16,  4.69s/it]"
     ]
    },
    {
     "name": "stdout",
     "output_type": "stream",
     "text": [
      "0  results found\n",
      "\n",
      " GL_TS_MO_42361.nc\n"
     ]
    },
    {
     "name": "stderr",
     "output_type": "stream",
     "text": [
      " 21%|██▏       | 529/2487 [44:33<1:28:51,  2.72s/it]"
     ]
    },
    {
     "name": "stdout",
     "output_type": "stream",
     "text": [
      "GL_TS_MO_42361.nc does not have any valid data for this timeperiod\n",
      "\n",
      " GL_WS_MO_46063.nc\n",
      "GL_WS_MO_46063.nc does not have any of the variables ['VHM0', 'VAVH', 'WSPD']\n",
      "\n",
      " GL_TS_MO_45006.nc\n"
     ]
    },
    {
     "name": "stderr",
     "output_type": "stream",
     "text": [
      " 21%|██▏       | 533/2487 [44:34<32:18,  1.01it/s]  "
     ]
    },
    {
     "name": "stdout",
     "output_type": "stream",
     "text": [
      "GL_TS_MO_45006.nc is too close to land\n",
      "\n",
      " AR_TS_MO_Blekktjern-16-32.nc\n",
      "AR_TS_MO_Blekktjern-16-32.nc does not have any of the variables ['VHM0', 'VAVH', 'WSPD']\n",
      "\n",
      " AR_TS_MO_BSO3B.nc\n",
      "AR_TS_MO_BSO3B.nc does not have any of the variables ['VHM0', 'VAVH', 'WSPD']\n",
      "\n",
      " GL_WS_MO_44139.nc\n",
      "GL_WS_MO_44139.nc does not have any of the variables ['VHM0', 'VAVH', 'WSPD']\n",
      "\n",
      " GL_TS_MO_46078.nc\n",
      "POINT(-152.58200073242188 55.555999755859375)\n"
     ]
    },
    {
     "name": "stderr",
     "output_type": "stream",
     "text": [
      " 22%|██▏       | 535/2487 [44:39<50:43,  1.56s/it]"
     ]
    },
    {
     "name": "stdout",
     "output_type": "stream",
     "text": [
      "0  results found\n",
      "\n",
      " GL_TS_MO_MEDS126.nc\n",
      "GL_TS_MO_MEDS126.nc does not have any valid data for this timeperiod\n",
      "\n",
      " GL_WS_MO_44095.nc\n",
      "GL_WS_MO_44095.nc does not have any of the variables ['VHM0', 'VAVH', 'WSPD']\n",
      "\n",
      " IR_TS_MO_6200084.nc\n",
      "POLYGON((-9.427499771118164 42.1161994934082,-9.427499771118164 42.122100830078125,-9.432999610900879 42.122100830078125,-9.432999610900879 42.1161994934082,-9.427499771118164 42.1161994934082))\n",
      "200  results found\n"
     ]
    },
    {
     "name": "stderr",
     "output_type": "stream",
     "text": [
      " 22%|██▏       | 537/2487 [47:20<14:45:30, 27.25s/it]"
     ]
    },
    {
     "name": "stdout",
     "output_type": "stream",
     "text": [
      "\n",
      " GL_TS_MO_6801025.nc\n"
     ]
    },
    {
     "name": "stderr",
     "output_type": "stream",
     "text": [
      " 22%|██▏       | 538/2487 [47:21<12:00:48, 22.19s/it]"
     ]
    },
    {
     "name": "stdout",
     "output_type": "stream",
     "text": [
      "GL_TS_MO_6801025.nc does not have any of the variables ['VHM0', 'VAVH', 'WSPD']\n",
      "\n",
      " IR_WS_MO_6100430.nc\n"
     ]
    },
    {
     "name": "stderr",
     "output_type": "stream",
     "text": [
      " 22%|██▏       | 540/2487 [47:21<7:17:31, 13.48s/it] "
     ]
    },
    {
     "name": "stdout",
     "output_type": "stream",
     "text": [
      "IR_WS_MO_6100430.nc does not have any of the variables ['VHM0', 'VAVH', 'WSPD']\n",
      "\n",
      " GL_WS_MO_45194.nc\n",
      "GL_WS_MO_45194.nc does not have any of the variables ['VHM0', 'VAVH', 'WSPD']\n",
      "\n",
      " GL_TS_MO_46256.nc\n",
      "POINT(-118.20099639892578 33.70000076293945)\n",
      "173  results found\n"
     ]
    },
    {
     "name": "stderr",
     "output_type": "stream",
     "text": [
      " 22%|██▏       | 543/2487 [47:34<4:12:16,  7.79s/it]"
     ]
    },
    {
     "name": "stdout",
     "output_type": "stream",
     "text": [
      "\n",
      " GL_TS_MO_MEDS081.nc\n",
      "GL_TS_MO_MEDS081.nc does not have any valid data for this timeperiod\n",
      "\n",
      " GL_TS_MO_WEL267.nc\n",
      "GL_TS_MO_WEL267.nc does not have any valid data for this timeperiod\n",
      "\n",
      " BO_TS_MO_Hattan.nc\n",
      "BO_TS_MO_Hattan.nc does not have any valid data for this timeperiod\n",
      "\n",
      " GL_TS_MO_41112.nc\n",
      "POINT(-81.29199981689453 30.708999633789062)\n",
      "29  results found\n"
     ]
    },
    {
     "name": "stderr",
     "output_type": "stream",
     "text": [
      " 22%|██▏       | 547/2487 [47:41<2:12:24,  4.09s/it]"
     ]
    },
    {
     "name": "stdout",
     "output_type": "stream",
     "text": [
      "\n",
      " GL_TS_MO_6400777.nc\n",
      "GL_TS_MO_6400777.nc does not have any of the variables ['VHM0', 'VAVH', 'WSPD']\n",
      "\n",
      " BO_TS_MO_Falsterborev.nc\n",
      "BO_TS_MO_Falsterborev.nc does not have any valid data for this timeperiod\n",
      "\n",
      " GL_WS_MO_6100021.nc\n"
     ]
    },
    {
     "name": "stderr",
     "output_type": "stream",
     "text": [
      " 22%|██▏       | 548/2487 [47:41<1:47:00,  3.31s/it]"
     ]
    },
    {
     "name": "stdout",
     "output_type": "stream",
     "text": [
      "GL_WS_MO_6100021.nc does not have any of the variables ['VHM0', 'VAVH', 'WSPD']\n",
      "\n",
      " BO_TS_MO_HavstensfjordBS.nc\n",
      "BO_TS_MO_HavstensfjordBS.nc does not have any of the variables ['VHM0', 'VAVH', 'WSPD']\n",
      "\n",
      " GL_TS_MO_2100229.nc\n",
      "POINT(131.11000061035156 37.459999084472656)\n",
      "28  results found\n"
     ]
    },
    {
     "name": "stderr",
     "output_type": "stream",
     "text": [
      " 22%|██▏       | 551/2487 [47:51<1:38:12,  3.04s/it]"
     ]
    },
    {
     "name": "stdout",
     "output_type": "stream",
     "text": [
      "\n",
      " BO_TS_MO_VengeanceCU.nc\n",
      "BO_TS_MO_VengeanceCU.nc does not have any of the variables ['VHM0', 'VAVH', 'WSPD']\n",
      "\n",
      " GL_TS_MO_46207.nc\n",
      "GL_TS_MO_46207.nc does not have any valid data for this timeperiod\n",
      "POINT(-129.9149932861328 50.875)\n",
      "58  results found\n"
     ]
    },
    {
     "name": "stderr",
     "output_type": "stream",
     "text": [
      " 22%|██▏       | 552/2487 [47:59<2:16:03,  4.22s/it]"
     ]
    },
    {
     "name": "stdout",
     "output_type": "stream",
     "text": [
      "\n",
      " GL_TS_MO_IF000562.nc\n",
      "GL_TS_MO_IF000562.nc does not have any of the variables ['VHM0', 'VAVH', 'WSPD']\n",
      "\n",
      " GL_TS_MO_46084.nc\n",
      "POINT(-136.1020050048828 56.62200164794922)\n",
      "56  results found\n"
     ]
    },
    {
     "name": "stderr",
     "output_type": "stream",
     "text": [
      " 22%|██▏       | 554/2487 [48:09<2:28:22,  4.61s/it]"
     ]
    },
    {
     "name": "stdout",
     "output_type": "stream",
     "text": [
      "\n",
      " GL_WS_MO_46028.nc\n",
      "GL_WS_MO_46028.nc does not have any of the variables ['VHM0', 'VAVH', 'WSPD']\n",
      "\n",
      " GL_TS_MO_45171.nc\n"
     ]
    },
    {
     "name": "stderr",
     "output_type": "stream",
     "text": [
      " 22%|██▏       | 556/2487 [48:10<1:37:43,  3.04s/it]"
     ]
    },
    {
     "name": "stdout",
     "output_type": "stream",
     "text": [
      "GL_TS_MO_45171.nc does not have any valid data for this timeperiod\n",
      "GL_TS_MO_45171.nc does not have any valid data for this timeperiod\n",
      "\n",
      " GL_TS_MO_41007.nc\n",
      "GL_TS_MO_41007.nc does not have any valid data for this timeperiod\n",
      "GL_TS_MO_41007.nc does not have any valid data for this timeperiod\n",
      "\n",
      " GL_TS_MO_41056.nc\n",
      "POINT(-65.46399688720703 18.26099967956543)\n",
      "60  results found\n"
     ]
    },
    {
     "name": "stderr",
     "output_type": "stream",
     "text": [
      " 22%|██▏       | 558/2487 [48:22<2:08:56,  4.01s/it]"
     ]
    },
    {
     "name": "stdout",
     "output_type": "stream",
     "text": [
      "\n",
      " GL_TS_MO_45017.nc\n",
      "GL_TS_MO_45017.nc does not have any valid data for this timeperiod\n",
      "\n",
      " GL_TS_MO_44020.nc\n",
      "POINT(-70.27899932861328 41.49300003051758)\n",
      "110  results found\n"
     ]
    },
    {
     "name": "stderr",
     "output_type": "stream",
     "text": [
      " 23%|██▎       | 560/2487 [48:31<2:13:43,  4.16s/it]"
     ]
    },
    {
     "name": "stdout",
     "output_type": "stream",
     "text": [
      "\n",
      " GL_TS_MO_MBARI-M1.nc\n",
      "POINT(-122.02899932861328 36.750999450683594)\n",
      "154  results found\n"
     ]
    },
    {
     "name": "stderr",
     "output_type": "stream",
     "text": [
      " 23%|██▎       | 563/2487 [48:40<1:45:28,  3.29s/it]"
     ]
    },
    {
     "name": "stdout",
     "output_type": "stream",
     "text": [
      "\n",
      " GL_TS_MO_6301007.nc\n",
      "GL_TS_MO_6301007.nc does not have any of the variables ['VHM0', 'VAVH', 'WSPD']\n",
      "\n",
      " GL_TS_MO_46043.nc\n",
      "GL_TS_MO_46043.nc does not have any valid data for this timeperiod\n",
      "\n",
      " GL_TS_MO_42080.nc\n"
     ]
    },
    {
     "name": "stderr",
     "output_type": "stream",
     "text": [
      " 23%|██▎       | 565/2487 [48:40<1:10:54,  2.21s/it]"
     ]
    },
    {
     "name": "stdout",
     "output_type": "stream",
     "text": [
      "GL_TS_MO_42080.nc does not have any valid data for this timeperiod\n",
      "GL_TS_MO_42080.nc does not have any valid data for this timeperiod\n",
      "\n",
      " GL_TS_MO_6600022.nc\n",
      "GL_TS_MO_6600022.nc does not have any valid data for this timeperiod\n",
      "\n",
      " GL_TS_MO_53005.nc\n",
      "GL_TS_MO_53005.nc does not have any valid data for this timeperiod\n",
      "\n",
      " GL_WS_MO_41040.nc\n"
     ]
    },
    {
     "name": "stderr",
     "output_type": "stream",
     "text": [
      " 23%|██▎       | 569/2487 [48:40<34:10,  1.07s/it]  "
     ]
    },
    {
     "name": "stdout",
     "output_type": "stream",
     "text": [
      "GL_WS_MO_41040.nc does not have any of the variables ['VHM0', 'VAVH', 'WSPD']\n",
      "\n",
      " GL_TS_MO_45202.nc\n",
      "GL_TS_MO_45202.nc does not have any valid data for this timeperiod\n",
      "GL_TS_MO_45202.nc does not have any valid data for this timeperiod\n",
      "\n",
      " BO_TS_MO_Vaderoarna.nc\n",
      "BO_TS_MO_Vaderoarna.nc does not have any valid data for this timeperiod\n",
      "BO_TS_MO_Vaderoarna.nc does not have any valid data for this timeperiod\n",
      "\n",
      " GL_TS_MO_6200021.nc\n"
     ]
    },
    {
     "name": "stderr",
     "output_type": "stream",
     "text": [
      " 23%|██▎       | 571/2487 [48:41<26:03,  1.23it/s]"
     ]
    },
    {
     "name": "stdout",
     "output_type": "stream",
     "text": [
      "GL_TS_MO_6200021.nc does not have any valid data for this timeperiod\n",
      "\n",
      " GL_TS_MO_52081.nc\n",
      "GL_TS_MO_52081.nc does not have any valid data for this timeperiod\n",
      "\n",
      " GL_TS_MO_91343.nc\n",
      "GL_TS_MO_91343.nc does not have any valid data for this timeperiod\n",
      "\n",
      " GL_WS_MO_46275.nc\n"
     ]
    },
    {
     "name": "stderr",
     "output_type": "stream",
     "text": [
      " 23%|██▎       | 577/2487 [48:41<10:44,  2.96it/s]"
     ]
    },
    {
     "name": "stdout",
     "output_type": "stream",
     "text": [
      "GL_WS_MO_46275.nc does not have any of the variables ['VHM0', 'VAVH', 'WSPD']\n",
      "\n",
      " GL_TS_MO_6801027.nc\n",
      "GL_TS_MO_6801027.nc does not have any of the variables ['VHM0', 'VAVH', 'WSPD']\n",
      "\n",
      " GL_TS_MO_23012.nc\n",
      "GL_TS_MO_23012.nc does not have any valid data for this timeperiod\n",
      "\n",
      " BS_TS_MO_15499.nc\n",
      "BS_TS_MO_15499.nc does not have any of the variables ['VHM0', 'VAVH', 'WSPD']\n",
      "\n",
      " GL_TS_MO_MEDS168.nc\n",
      "GL_TS_MO_MEDS168.nc does not have any valid data for this timeperiod\n",
      "\n",
      " GL_TS_MO_C6V27.nc\n",
      "GL_TS_MO_C6V27.nc does not have any valid data for this timeperiod\n",
      "\n",
      " IR_TS_MO_6100280.nc\n",
      "POLYGON((1.4617999792099 40.68360137939453,1.4617999792099 40.6879997253418,1.4673000574111938 40.6879997253418,1.4673000574111938 40.68360137939453,1.4617999792099 40.68360137939453))\n"
     ]
    },
    {
     "name": "stderr",
     "output_type": "stream",
     "text": [
      " 23%|██▎       | 577/2487 [48:52<10:44,  2.96it/s]"
     ]
    },
    {
     "name": "stdout",
     "output_type": "stream",
     "text": [
      "238  results found\n"
     ]
    },
    {
     "name": "stderr",
     "output_type": "stream",
     "text": [
      " 23%|██▎       | 579/2487 [51:36<12:05:43, 22.82s/it]"
     ]
    },
    {
     "name": "stdout",
     "output_type": "stream",
     "text": [
      "\n",
      " AR_TS_MO_Telegrafbukta-50-118.nc\n",
      "AR_TS_MO_Telegrafbukta-50-118.nc does not have any of the variables ['VHM0', 'VAVH', 'WSPD']\n",
      "\n",
      " GL_TS_MO_53006.nc\n",
      "POINT(80.5 -12.0)\n"
     ]
    },
    {
     "name": "stderr",
     "output_type": "stream",
     "text": [
      " 23%|██▎       | 583/2487 [51:43<6:42:36, 12.69s/it] "
     ]
    },
    {
     "name": "stdout",
     "output_type": "stream",
     "text": [
      "1  results found\n",
      "\n",
      " AR_TS_MO_Perlaa-9-22.nc\n",
      "AR_TS_MO_Perlaa-9-22.nc does not have any of the variables ['VHM0', 'VAVH', 'WSPD']\n",
      "\n",
      " BO_TS_MO_DrogdenCU.nc\n",
      "BO_TS_MO_DrogdenCU.nc does not have any of the variables ['VHM0', 'VAVH', 'WSPD']\n",
      "\n",
      " GL_TS_MO_44001.nc\n"
     ]
    },
    {
     "name": "stderr",
     "output_type": "stream",
     "text": [
      " 24%|██▎       | 585/2487 [51:43<4:48:43,  9.11s/it]"
     ]
    },
    {
     "name": "stdout",
     "output_type": "stream",
     "text": [
      "GL_TS_MO_44001.nc does not have any valid data for this timeperiod\n",
      "GL_TS_MO_44001.nc does not have any valid data for this timeperiod\n",
      "\n",
      " GL_TS_MO_MBARI-M0.nc\n",
      "GL_TS_MO_MBARI-M0.nc does not have any valid data for this timeperiod\n",
      "\n",
      " GL_TS_MO_45014.nc\n",
      "GL_TS_MO_45014.nc is too close to land\n",
      "\n",
      " GL_TS_MO_46094.nc\n"
     ]
    },
    {
     "name": "stderr",
     "output_type": "stream",
     "text": [
      " 24%|██▎       | 587/2487 [51:43<3:26:23,  6.52s/it]"
     ]
    },
    {
     "name": "stdout",
     "output_type": "stream",
     "text": [
      "GL_TS_MO_46094.nc does not have any valid data for this timeperiod\n",
      "\n",
      " NO_TS_MO_F3platform.nc\n",
      "POINT(4.727499961853027 54.85388946533203)\n",
      "289  results found\n",
      "\n",
      " GL_TS_MO_44014.nc\n",
      "POINT(-74.84200286865234 36.60900115966797)\n",
      "30  results found\n"
     ]
    },
    {
     "name": "stderr",
     "output_type": "stream",
     "text": [
      " 24%|██▎       | 589/2487 [52:00<3:44:19,  7.09s/it]"
     ]
    },
    {
     "name": "stdout",
     "output_type": "stream",
     "text": [
      "\n",
      " GL_TS_MO_46060.nc\n",
      "POLYGON((-146.78399658203125 60.58399963378906,-146.78399658203125 60.58700180053711,-146.81900024414062 60.58700180053711,-146.81900024414062 60.58399963378906,-146.78399658203125 60.58399963378906))\n",
      "54  results found\n"
     ]
    },
    {
     "name": "stderr",
     "output_type": "stream",
     "text": [
      " 24%|██▎       | 590/2487 [52:28<5:38:27, 10.70s/it]"
     ]
    },
    {
     "name": "stdout",
     "output_type": "stream",
     "text": [
      "\n",
      " AR_TS_MO_Nesoeyra-48-115.nc\n",
      "AR_TS_MO_Nesoeyra-48-115.nc does not have any of the variables ['VHM0', 'VAVH', 'WSPD']\n",
      "\n",
      " GL_TS_MO_45167.nc\n"
     ]
    },
    {
     "name": "stderr",
     "output_type": "stream",
     "text": [
      " 24%|██▍       | 594/2487 [52:29<2:35:20,  4.92s/it]"
     ]
    },
    {
     "name": "stdout",
     "output_type": "stream",
     "text": [
      "GL_TS_MO_45167.nc is too close to land\n",
      "\n",
      " GL_TS_MO_46699A.nc\n",
      "GL_TS_MO_46699A.nc does not have any valid data for this timeperiod\n",
      "\n",
      " GL_TS_MO_15007.nc\n",
      "GL_TS_MO_15007.nc does not have any valid data for this timeperiod\n",
      "\n",
      " GL_TS_MO_EXCE0004.nc\n",
      "GL_TS_MO_EXCE0004.nc does not have any valid data for this timeperiod\n",
      "GL_TS_MO_EXCE0004.nc does not have any valid data for this timeperiod\n",
      "\n",
      " IR_TS_MO_6200085.nc\n",
      "POLYGON((-6.964700222015381 36.48540115356445,-6.964700222015381 36.492698669433594,-6.953700065612793 36.492698669433594,-6.953700065612793 36.48540115356445,-6.964700222015381 36.48540115356445))\n",
      "170  results found\n"
     ]
    },
    {
     "name": "stderr",
     "output_type": "stream",
     "text": [
      " 24%|██▍       | 598/2487 [54:34<8:21:33, 15.93s/it] "
     ]
    },
    {
     "name": "stdout",
     "output_type": "stream",
     "text": [
      "\n",
      " AR_TS_MO_AmundsenGulf-AT2.nc\n",
      "AR_TS_MO_AmundsenGulf-AT2.nc does not have any of the variables ['VHM0', 'VAVH', 'WSPD']\n",
      "\n",
      " GL_WS_MO_svls1.nc\n",
      "GL_WS_MO_svls1.nc does not have any of the variables ['VHM0', 'VAVH', 'WSPD']\n",
      "\n",
      " NO_TS_MO_Oderbank.nc\n",
      "POINT(14.166666984558105 54.08333206176758)\n",
      "233  results found\n"
     ]
    },
    {
     "name": "stderr",
     "output_type": "stream",
     "text": [
      " 24%|██▍       | 600/2487 [54:46<6:44:32, 12.86s/it]"
     ]
    },
    {
     "name": "stdout",
     "output_type": "stream",
     "text": [
      "\n",
      " GL_TS_MO_46062.nc\n",
      "GL_TS_MO_46062.nc does not have any valid data for this timeperiod\n",
      "GL_TS_MO_46062.nc does not have any valid data for this timeperiod\n",
      "\n",
      " GL_TS_MO_MEDS080.nc\n"
     ]
    },
    {
     "name": "stderr",
     "output_type": "stream",
     "text": [
      " 24%|██▍       | 602/2487 [54:46<4:41:32,  8.96s/it]"
     ]
    },
    {
     "name": "stdout",
     "output_type": "stream",
     "text": [
      "GL_TS_MO_MEDS080.nc does not have any valid data for this timeperiod\n",
      "\n",
      " GL_TS_MO_4600204.nc\n",
      "GL_TS_MO_4600204.nc does not have any valid data for this timeperiod\n",
      "\n",
      " IR_WS_MO_6200082.nc\n",
      "IR_WS_MO_6200082.nc does not have any of the variables ['VHM0', 'VAVH', 'WSPD']\n",
      "\n",
      " GL_TS_MO_13010.nc\n",
      "POLYGON((-0.03799000009894371 -0.026000000536441803,-0.03799000009894371 0.03799999877810478,0.050999999046325684 0.03799999877810478,0.050999999046325684 -0.026000000536441803,-0.03799000009894371 -0.026000000536441803))\n"
     ]
    },
    {
     "name": "stderr",
     "output_type": "stream",
     "text": [
      " 24%|██▍       | 606/2487 [54:52<2:37:41,  5.03s/it]"
     ]
    },
    {
     "name": "stdout",
     "output_type": "stream",
     "text": [
      "0  results found\n",
      "\n",
      " GL_TS_MO_Esperance04.nc\n",
      "GL_TS_MO_Esperance04.nc does not have any valid data for this timeperiod\n",
      "\n",
      " GL_WS_MO_41121.nc\n",
      "GL_WS_MO_41121.nc does not have any of the variables ['VHM0', 'VAVH', 'WSPD']\n",
      "\n",
      " GL_TS_MO_MEDS090.nc\n",
      "GL_TS_MO_MEDS090.nc does not have any valid data for this timeperiod\n",
      "\n",
      " NO_TS_MO_OostendEasternPalisade.nc\n"
     ]
    },
    {
     "name": "stderr",
     "output_type": "stream",
     "text": [
      " 24%|██▍       | 608/2487 [54:52<1:50:37,  3.53s/it]"
     ]
    },
    {
     "name": "stdout",
     "output_type": "stream",
     "text": [
      "NO_TS_MO_OostendEasternPalisade.nc is too close to land\n",
      "\n",
      " GL_WS_MO_46036.nc\n",
      "GL_WS_MO_46036.nc does not have any of the variables ['VHM0', 'VAVH', 'WSPD']\n",
      "\n",
      " GL_TS_MO_2300099.nc\n",
      "POLYGON((80.31400299072266 13.10099983215332,80.31400299072266 13.095999717712402,80.31700134277344 13.095999717712402,80.31700134277344 13.10099983215332,80.31400299072266 13.10099983215332))\n"
     ]
    },
    {
     "name": "stderr",
     "output_type": "stream",
     "text": [
      " 24%|██▍       | 608/2487 [55:03<1:50:37,  3.53s/it]"
     ]
    },
    {
     "name": "stdout",
     "output_type": "stream",
     "text": [
      "29  results found\n"
     ]
    },
    {
     "name": "stderr",
     "output_type": "stream",
     "text": [
      " 25%|██▍       | 610/2487 [55:08<2:31:26,  4.84s/it]"
     ]
    },
    {
     "name": "stdout",
     "output_type": "stream",
     "text": [
      "\n",
      " MO_TS_MO_PALERMO-61209.nc\n",
      "MO_TS_MO_PALERMO-61209.nc does not have any valid data for this timeperiod\n",
      "\n",
      " GL_TS_MO_56005.nc\n",
      "LINESTRING(115.41999816894531 -32.099998474121094,115.4000015258789 -32.099998474121094)\n",
      "58  results found\n"
     ]
    },
    {
     "name": "stderr",
     "output_type": "stream",
     "text": [
      " 25%|██▍       | 612/2487 [55:23<2:55:35,  5.62s/it]"
     ]
    },
    {
     "name": "stdout",
     "output_type": "stream",
     "text": [
      "\n",
      " GL_TS_MO_45003.nc\n"
     ]
    },
    {
     "name": "stderr",
     "output_type": "stream",
     "text": [
      " 25%|██▍       | 613/2487 [55:23<2:25:54,  4.67s/it]"
     ]
    },
    {
     "name": "stdout",
     "output_type": "stream",
     "text": [
      "GL_TS_MO_45003.nc is too close to land\n",
      "\n",
      " GL_TS_MO_MEDS222.nc\n",
      "GL_TS_MO_MEDS222.nc does not have any valid data for this timeperiod\n",
      "\n",
      " GL_TS_MO_55022.nc\n",
      "POLYGON((151.39999389648438 -34.47999954223633,151.39999389648438 -33.779998779296875,151.02000427246094 -33.779998779296875,151.02000427246094 -34.47999954223633,151.39999389648438 -34.47999954223633))\n",
      "146  results found\n"
     ]
    },
    {
     "name": "stderr",
     "output_type": "stream",
     "text": [
      " 25%|██▍       | 615/2487 [55:54<4:20:16,  8.34s/it]"
     ]
    },
    {
     "name": "stdout",
     "output_type": "stream",
     "text": [
      "\n",
      " NO_TS_MO_ScheurWielingen.nc\n",
      "NO_TS_MO_ScheurWielingen.nc does not have any valid data for this timeperiod\n",
      "POINT(3.3022000789642334 51.40140151977539)\n",
      "233  results found\n"
     ]
    },
    {
     "name": "stderr",
     "output_type": "stream",
     "text": [
      " 25%|██▍       | 618/2487 [56:11<3:20:58,  6.45s/it]"
     ]
    },
    {
     "name": "stdout",
     "output_type": "stream",
     "text": [
      "\n",
      " GL_WS_MO_46023.nc\n",
      "GL_WS_MO_46023.nc does not have any of the variables ['VHM0', 'VAVH', 'WSPD']\n",
      "\n",
      " GL_WS_MO_42035.nc\n",
      "GL_WS_MO_42035.nc does not have any of the variables ['VHM0', 'VAVH', 'WSPD']\n",
      "\n",
      " GL_TS_MO_WEL260.nc\n"
     ]
    },
    {
     "name": "stderr",
     "output_type": "stream",
     "text": [
      " 25%|██▌       | 623/2487 [56:12<1:18:04,  2.51s/it]"
     ]
    },
    {
     "name": "stdout",
     "output_type": "stream",
     "text": [
      "GL_TS_MO_WEL260.nc does not have any valid data for this timeperiod\n",
      "\n",
      " GL_TS_MO_MEDS196.nc\n",
      "GL_TS_MO_MEDS196.nc does not have any valid data for this timeperiod\n",
      "\n",
      " GL_TS_MO_MEDS229.nc\n",
      "GL_TS_MO_MEDS229.nc does not have any valid data for this timeperiod\n",
      "\n",
      " GL_TS_MO_MEDS060.nc\n",
      "GL_TS_MO_MEDS060.nc does not have any valid data for this timeperiod\n",
      "\n",
      " GL_TS_MO_42392.nc\n",
      "GL_TS_MO_42392.nc does not have any valid data for this timeperiod\n",
      "\n",
      " GL_WS_MO_46075.nc\n"
     ]
    },
    {
     "name": "stderr",
     "output_type": "stream",
     "text": [
      " 25%|██▌       | 625/2487 [56:12<56:32,  1.82s/it]  "
     ]
    },
    {
     "name": "stdout",
     "output_type": "stream",
     "text": [
      "GL_WS_MO_46075.nc does not have any of the variables ['VHM0', 'VAVH', 'WSPD']\n",
      "\n",
      " NO_TS_MO_MeetboeiUHW1.nc\n",
      "NO_TS_MO_MeetboeiUHW1.nc does not have any valid data for this timeperiod\n",
      "\n",
      " GL_TS_MO_44093.nc\n",
      "GL_TS_MO_44093.nc does not have any valid data for this timeperiod\n",
      "\n",
      " GL_TS_MO_WEL233.nc\n"
     ]
    },
    {
     "name": "stderr",
     "output_type": "stream",
     "text": [
      " 25%|██▌       | 627/2487 [56:12<40:44,  1.31s/it]"
     ]
    },
    {
     "name": "stdout",
     "output_type": "stream",
     "text": [
      "GL_TS_MO_WEL233.nc does not have any valid data for this timeperiod\n",
      "\n",
      " GL_TS_MO_42363.nc\n",
      "GL_TS_MO_42363.nc does not have any valid data for this timeperiod\n",
      "\n",
      " NO_TS_MO_NsbIII.nc\n",
      "NO_TS_MO_NsbIII.nc does not have any valid data for this timeperiod\n",
      "POINT(6.783332824707031 54.68333435058594)\n"
     ]
    },
    {
     "name": "stderr",
     "output_type": "stream",
     "text": [
      " 25%|██▌       | 627/2487 [56:23<40:44,  1.31s/it]"
     ]
    },
    {
     "name": "stdout",
     "output_type": "stream",
     "text": [
      "236  results found\n"
     ]
    },
    {
     "name": "stderr",
     "output_type": "stream",
     "text": [
      " 25%|██▌       | 629/2487 [56:25<1:28:54,  2.87s/it]"
     ]
    },
    {
     "name": "stdout",
     "output_type": "stream",
     "text": [
      "\n",
      " GL_TS_MO_T2N170W.nc\n",
      "POINT(-170.0 2.0)\n"
     ]
    },
    {
     "name": "stderr",
     "output_type": "stream",
     "text": [
      " 25%|██▌       | 630/2487 [56:32<1:49:17,  3.53s/it]"
     ]
    },
    {
     "name": "stdout",
     "output_type": "stream",
     "text": [
      "0  results found\n",
      "\n",
      " GL_WS_MO_46050.nc\n",
      "GL_WS_MO_46050.nc does not have any of the variables ['VHM0', 'VAVH', 'WSPD']\n",
      "\n",
      " GL_TS_MO_6100294.nc\n",
      "POINT(8.649999618530273 42.56919860839844)\n"
     ]
    },
    {
     "name": "stderr",
     "output_type": "stream",
     "text": [
      " 25%|██▌       | 630/2487 [56:43<1:49:17,  3.53s/it]"
     ]
    },
    {
     "name": "stdout",
     "output_type": "stream",
     "text": [
      "238  results found\n"
     ]
    },
    {
     "name": "stderr",
     "output_type": "stream",
     "text": [
      " 26%|██▌       | 635/2487 [56:45<1:22:40,  2.68s/it]"
     ]
    },
    {
     "name": "stdout",
     "output_type": "stream",
     "text": [
      "\n",
      " GL_TS_MO_MEDS283.nc\n",
      "GL_TS_MO_MEDS283.nc does not have any valid data for this timeperiod\n",
      "\n",
      " BO_TS_MO_FaaRodkobb.nc\n",
      "BO_TS_MO_FaaRodkobb.nc does not have any valid data for this timeperiod\n",
      "\n",
      " GL_TS_MO_EXIN0005.nc\n",
      "GL_TS_MO_EXIN0005.nc does not have any valid data for this timeperiod\n",
      "\n",
      " GL_TS_MO_42058.nc\n",
      "POLYGON((-74.8030014038086 14.388999938964844,-74.8030014038086 14.92300033569336,-74.91799926757812 14.92300033569336,-74.91799926757812 14.388999938964844,-74.8030014038086 14.388999938964844))\n",
      "30  results found\n"
     ]
    },
    {
     "name": "stderr",
     "output_type": "stream",
     "text": [
      " 26%|██▌       | 636/2487 [57:22<4:15:08,  8.27s/it]"
     ]
    },
    {
     "name": "stdout",
     "output_type": "stream",
     "text": [
      "\n",
      " GL_TS_MO_41300.nc\n",
      "GL_TS_MO_41300.nc does not have any valid data for this timeperiod\n",
      "\n",
      " NO_TS_MO_A2.nc\n",
      "POINT(3.1189329624176025 51.359718322753906)\n",
      "233  results found\n"
     ]
    },
    {
     "name": "stderr",
     "output_type": "stream",
     "text": [
      " 26%|██▌       | 638/2487 [57:35<3:57:08,  7.70s/it]"
     ]
    },
    {
     "name": "stdout",
     "output_type": "stream",
     "text": [
      "\n",
      " GL_TS_MO_56014.nc\n",
      "POINT(115.56999969482422 -32.45000076293945)\n"
     ]
    },
    {
     "name": "stderr",
     "output_type": "stream",
     "text": [
      " 26%|██▌       | 639/2487 [57:41<3:47:50,  7.40s/it]"
     ]
    },
    {
     "name": "stdout",
     "output_type": "stream",
     "text": [
      "58  results found\n",
      "\n",
      " GL_TS_MO_4100136.nc\n"
     ]
    },
    {
     "name": "stderr",
     "output_type": "stream",
     "text": [
      " 26%|██▌       | 641/2487 [57:41<2:29:17,  4.85s/it]"
     ]
    },
    {
     "name": "stdout",
     "output_type": "stream",
     "text": [
      "GL_TS_MO_4100136.nc does not have any of the variables ['VHM0', 'VAVH', 'WSPD']\n",
      "\n",
      " GL_TS_MO_WEL403.nc\n",
      "GL_TS_MO_WEL403.nc does not have any valid data for this timeperiod\n",
      "\n",
      " GL_WS_MO_6200057.nc\n",
      "GL_WS_MO_6200057.nc does not have any of the variables ['VHM0', 'VAVH', 'WSPD']\n",
      "\n",
      " GL_TS_MO_T2N155W.nc\n",
      "POINT(-155.0 2.0)\n"
     ]
    },
    {
     "name": "stderr",
     "output_type": "stream",
     "text": [
      " 26%|██▌       | 643/2487 [57:51<2:28:01,  4.82s/it]"
     ]
    },
    {
     "name": "stdout",
     "output_type": "stream",
     "text": [
      "0  results found\n",
      "\n",
      " AR_TS_MO_Badedammen-6-18.nc\n",
      "AR_TS_MO_Badedammen-6-18.nc does not have any of the variables ['VHM0', 'VAVH', 'WSPD']\n",
      "\n",
      " GL_WS_MO_41008.nc\n"
     ]
    },
    {
     "name": "stderr",
     "output_type": "stream",
     "text": [
      " 26%|██▌       | 647/2487 [57:51<1:10:07,  2.29s/it]"
     ]
    },
    {
     "name": "stdout",
     "output_type": "stream",
     "text": [
      "GL_WS_MO_41008.nc does not have any of the variables ['VHM0', 'VAVH', 'WSPD']\n",
      "\n",
      " GL_WS_MO_42095.nc\n",
      "GL_WS_MO_42095.nc does not have any of the variables ['VHM0', 'VAVH', 'WSPD']\n",
      "\n",
      " GL_WS_MO_42059.nc\n",
      "GL_WS_MO_42059.nc does not have any of the variables ['VHM0', 'VAVH', 'WSPD']\n",
      "\n",
      " GL_TS_MO_6101023.nc\n",
      "GL_TS_MO_6101023.nc does not have any of the variables ['VHM0', 'VAVH', 'WSPD']\n",
      "\n",
      " GL_WS_MO_52200.nc\n"
     ]
    },
    {
     "name": "stderr",
     "output_type": "stream",
     "text": [
      " 26%|██▋       | 653/2487 [57:51<27:24,  1.12it/s]  "
     ]
    },
    {
     "name": "stdout",
     "output_type": "stream",
     "text": [
      "GL_WS_MO_52200.nc does not have any of the variables ['VHM0', 'VAVH', 'WSPD']\n",
      "\n",
      " GL_TS_MO_MEDS045.nc\n",
      "GL_TS_MO_MEDS045.nc does not have any valid data for this timeperiod\n",
      "\n",
      " NO_TS_MO_6201011.nc\n",
      "NO_TS_MO_6201011.nc does not have any valid data for this timeperiod\n",
      "\n",
      " AR_TS_MO_BeringStrait-A3.nc\n",
      "AR_TS_MO_BeringStrait-A3.nc does not have any of the variables ['VHM0', 'VAVH', 'WSPD']\n",
      "\n",
      " MO_TS_MO_ZAKYN.nc\n",
      "MO_TS_MO_ZAKYN.nc does not have any valid data for this timeperiod\n",
      "MO_TS_MO_ZAKYN.nc does not have any valid data for this timeperiod\n",
      "\n",
      " NO_TS_MO_Hoernum.nc\n",
      "NO_TS_MO_Hoernum.nc does not have any of the variables ['VHM0', 'VAVH', 'WSPD']\n",
      "\n",
      " GL_TS_MO_44011.nc\n",
      "POINT(-66.56199645996094 41.09299850463867)\n",
      "68  results found\n"
     ]
    },
    {
     "name": "stderr",
     "output_type": "stream",
     "text": [
      " 26%|██▋       | 655/2487 [58:02<1:02:34,  2.05s/it]"
     ]
    },
    {
     "name": "stdout",
     "output_type": "stream",
     "text": [
      "\n",
      " NO_TS_MO_6201052.nc\n",
      "NO_TS_MO_6201052.nc does not have any valid data for this timeperiod\n",
      "\n",
      " AR_TS_MO_Verdal-Bystrand-43-108.nc\n",
      "AR_TS_MO_Verdal-Bystrand-43-108.nc does not have any of the variables ['VHM0', 'VAVH', 'WSPD']\n",
      "\n",
      " GL_TS_MO_SCENES.nc\n",
      "POINT(0.03200000151991844 49.48099899291992)\n",
      "203  results found\n"
     ]
    },
    {
     "name": "stderr",
     "output_type": "stream",
     "text": [
      " 26%|██▋       | 659/2487 [58:14<1:11:51,  2.36s/it]"
     ]
    },
    {
     "name": "stdout",
     "output_type": "stream",
     "text": [
      "\n",
      " IR_TS_MO_Alboran-buoy.nc\n",
      "IR_TS_MO_Alboran-buoy.nc does not have any valid data for this timeperiod\n",
      "IR_TS_MO_Alboran-buoy.nc does not have any valid data for this timeperiod\n",
      "\n",
      " GL_TS_MO_WEL277.nc\n",
      "GL_TS_MO_WEL277.nc does not have any valid data for this timeperiod\n",
      "\n",
      " GL_TS_MO_31002.nc\n"
     ]
    },
    {
     "name": "stderr",
     "output_type": "stream",
     "text": [
      " 27%|██▋       | 661/2487 [58:14<51:18,  1.69s/it]  "
     ]
    },
    {
     "name": "stdout",
     "output_type": "stream",
     "text": [
      "GL_TS_MO_31002.nc does not have any valid data for this timeperiod\n",
      "\n",
      " MO_TS_MO_61277.nc\n",
      "POINT(25.130699157714844 35.72629928588867)\n",
      "210  results found\n"
     ]
    },
    {
     "name": "stderr",
     "output_type": "stream",
     "text": [
      " 27%|██▋       | 663/2487 [58:23<1:17:40,  2.56s/it]"
     ]
    },
    {
     "name": "stdout",
     "output_type": "stream",
     "text": [
      "\n",
      " GL_WS_MO_44065.nc\n",
      "GL_WS_MO_44065.nc does not have any of the variables ['VHM0', 'VAVH', 'WSPD']\n",
      "\n",
      " GL_TS_MO_52076.nc\n"
     ]
    },
    {
     "name": "stderr",
     "output_type": "stream",
     "text": [
      " 27%|██▋       | 667/2487 [58:24<37:31,  1.24s/it]  "
     ]
    },
    {
     "name": "stdout",
     "output_type": "stream",
     "text": [
      "GL_TS_MO_52076.nc does not have any of the variables ['VHM0', 'VAVH', 'WSPD']\n",
      "\n",
      " GL_TS_MO_WEL422.nc\n",
      "GL_TS_MO_WEL422.nc does not have any valid data for this timeperiod\n",
      "\n",
      " GL_TS_MO_MEDS279.nc\n",
      "GL_TS_MO_MEDS279.nc does not have any valid data for this timeperiod\n",
      "\n",
      " GL_WS_MO_41022.nc\n",
      "GL_WS_MO_41022.nc does not have any of the variables ['VHM0', 'VAVH', 'WSPD']\n",
      "\n",
      " GL_TS_MO_91352.nc\n",
      "GL_TS_MO_91352.nc does not have any valid data for this timeperiod\n",
      "\n",
      " AR_TS_MO_AmundsenGulf-AT3.nc\n"
     ]
    },
    {
     "name": "stderr",
     "output_type": "stream",
     "text": [
      " 27%|██▋       | 672/2487 [58:24<17:15,  1.75it/s]"
     ]
    },
    {
     "name": "stdout",
     "output_type": "stream",
     "text": [
      "AR_TS_MO_AmundsenGulf-AT3.nc does not have any of the variables ['VHM0', 'VAVH', 'WSPD']\n",
      "\n",
      " MO_TS_MO_ESPORLES.nc\n",
      "MO_TS_MO_ESPORLES.nc does not have any valid data for this timeperiod\n",
      "\n",
      " MO_TS_MO_RMNGE.nc\n",
      "MO_TS_MO_RMNGE.nc does not have any valid data for this timeperiod\n",
      "\n",
      " GL_TS_MO_MEDS187.nc\n",
      "GL_TS_MO_MEDS187.nc does not have any valid data for this timeperiod\n",
      "\n",
      " GL_TS_MO_62307.nc\n"
     ]
    },
    {
     "name": "stderr",
     "output_type": "stream",
     "text": [
      " 27%|██▋       | 676/2487 [58:24<09:59,  3.02it/s]"
     ]
    },
    {
     "name": "stdout",
     "output_type": "stream",
     "text": [
      "GL_TS_MO_62307.nc does not have any of the variables ['VHM0', 'VAVH', 'WSPD']\n",
      "\n",
      " GL_TS_MO_MEDS115.nc\n",
      "GL_TS_MO_MEDS115.nc does not have any valid data for this timeperiod\n",
      "\n",
      " GL_TS_MO_21987.nc\n",
      "GL_TS_MO_21987.nc does not have any valid data for this timeperiod\n",
      "\n",
      " GL_WS_MO_46t29.nc\n",
      "GL_WS_MO_46t29.nc does not have any of the variables ['VHM0', 'VAVH', 'WSPD']\n",
      "\n",
      " GL_WS_MO_45138.nc\n",
      "GL_WS_MO_45138.nc does not have any of the variables ['VHM0', 'VAVH', 'WSPD']\n",
      "\n",
      " GL_TS_MO_42043.nc\n",
      "POINT(-94.89900207519531 28.98200035095215)\n",
      "118  results found\n"
     ]
    },
    {
     "name": "stderr",
     "output_type": "stream",
     "text": [
      " 27%|██▋       | 678/2487 [58:33<44:12,  1.47s/it]"
     ]
    },
    {
     "name": "stdout",
     "output_type": "stream",
     "text": [
      "\n",
      " GL_TS_MO_62062.nc\n",
      "GL_TS_MO_62062.nc does not have any of the variables ['VHM0', 'VAVH', 'WSPD']\n",
      "\n",
      " GL_TS_MO_31005.nc\n",
      "POLYGON((-34.0 -19.0,-34.0 -18.849000930786133,-34.66598892211914 -18.849000930786133,-34.66598892211914 -19.0,-34.0 -19.0))\n"
     ]
    },
    {
     "name": "stderr",
     "output_type": "stream",
     "text": [
      " 27%|██▋       | 681/2487 [58:39<46:59,  1.56s/it]"
     ]
    },
    {
     "name": "stdout",
     "output_type": "stream",
     "text": [
      "0  results found\n",
      "\n",
      " GL_TS_MO_41096.nc\n",
      "GL_TS_MO_41096.nc does not have any valid data for this timeperiod\n",
      "GL_TS_MO_41096.nc does not have any valid data for this timeperiod\n",
      "\n",
      " GL_TS_MO_MEDS278.nc\n"
     ]
    },
    {
     "name": "stderr",
     "output_type": "stream",
     "text": [
      " 28%|██▊       | 684/2487 [58:39<27:41,  1.09it/s]"
     ]
    },
    {
     "name": "stdout",
     "output_type": "stream",
     "text": [
      "GL_TS_MO_MEDS278.nc does not have any valid data for this timeperiod\n",
      "\n",
      " GL_TS_MO_42390.nc\n",
      "GL_TS_MO_42390.nc does not have any valid data for this timeperiod\n",
      "\n",
      " GL_WS_MO_45t01.nc\n",
      "GL_WS_MO_45t01.nc does not have any of the variables ['VHM0', 'VAVH', 'WSPD']\n",
      "\n",
      " GL_TS_MO_SOG-1.nc\n",
      "GL_TS_MO_SOG-1.nc does not have any of the variables ['VHM0', 'VAVH', 'WSPD']\n",
      "\n",
      " MO_TS_MO_LESVO.nc\n",
      "MO_TS_MO_LESVO.nc does not have any valid data for this timeperiod\n",
      "MO_TS_MO_LESVO.nc does not have any valid data for this timeperiod\n",
      "\n",
      " MO_TS_MO_ADN-DWRG3.nc\n",
      "POINT(13.521315574645996 45.68826675415039)\n",
      "176  results found\n"
     ]
    },
    {
     "name": "stderr",
     "output_type": "stream",
     "text": [
      " 28%|██▊       | 689/2487 [58:53<52:37,  1.76s/it]  "
     ]
    },
    {
     "name": "stdout",
     "output_type": "stream",
     "text": [
      "\n",
      " BO_TS_MO_Finngrundet.nc\n",
      "BO_TS_MO_Finngrundet.nc does not have any valid data for this timeperiod\n",
      "\n",
      " IR_TS_MO_Roncadoira-buoy.nc\n",
      "IR_TS_MO_Roncadoira-buoy.nc does not have any valid data for this timeperiod\n",
      "IR_TS_MO_Roncadoira-buoy.nc does not have any valid data for this timeperiod\n",
      "\n",
      " NO_TS_MO_6200149.nc\n",
      "POINT(1.100000023841858 53.70000076293945)\n",
      "157  results found\n",
      "\n",
      " GL_TS_MO_41010.nc\n",
      "POINT(-78.48500061035156 28.878000259399414)\n",
      "60  results found\n"
     ]
    },
    {
     "name": "stderr",
     "output_type": "stream",
     "text": [
      " 28%|██▊       | 692/2487 [59:12<1:35:47,  3.20s/it]"
     ]
    },
    {
     "name": "stdout",
     "output_type": "stream",
     "text": [
      "\n",
      " GL_TS_MO_WEL416.nc\n",
      "GL_TS_MO_WEL416.nc does not have any valid data for this timeperiod\n",
      "\n",
      " GL_WS_MO_51209.nc\n",
      "GL_WS_MO_51209.nc does not have any of the variables ['VHM0', 'VAVH', 'WSPD']\n",
      "\n",
      " GL_TS_MO_WEL239.nc\n",
      "GL_TS_MO_WEL239.nc does not have any valid data for this timeperiod\n",
      "\n",
      " NO_TS_MO_6200127.nc\n",
      "POINT(0.699999988079071 54.0)\n"
     ]
    },
    {
     "name": "stderr",
     "output_type": "stream",
     "text": [
      " 28%|██▊       | 692/2487 [59:23<1:35:47,  3.20s/it]"
     ]
    },
    {
     "name": "stdout",
     "output_type": "stream",
     "text": [
      "215  results found\n"
     ]
    },
    {
     "name": "stderr",
     "output_type": "stream",
     "text": [
      " 28%|██▊       | 696/2487 [59:25<1:32:40,  3.10s/it]"
     ]
    },
    {
     "name": "stdout",
     "output_type": "stream",
     "text": [
      "NO_TS_MO_6200127.nc does not have any valid data for this timeperiod\n",
      "\n",
      " GL_TS_MO_32488.nc\n",
      "GL_TS_MO_32488.nc does not have any valid data for this timeperiod\n",
      "\n",
      " GL_TS_MO_21210.nc\n",
      "GL_TS_MO_21210.nc does not have any valid data for this timeperiod\n",
      "\n",
      " NO_TS_MO_K141.nc\n",
      "POINT(3.633268117904663 53.26670455932617)\n",
      "236  results found\n"
     ]
    },
    {
     "name": "stderr",
     "output_type": "stream",
     "text": [
      " 28%|██▊       | 699/2487 [59:40<1:51:06,  3.73s/it]"
     ]
    },
    {
     "name": "stdout",
     "output_type": "stream",
     "text": [
      "\n",
      " NO_TS_MO_EurogeulE5.nc\n",
      "NO_TS_MO_EurogeulE5.nc does not have any valid data for this timeperiod\n",
      "NO_TS_MO_EurogeulE5.nc does not have any valid data for this timeperiod\n",
      "\n",
      " GL_TS_MO_MEDS037.nc\n"
     ]
    },
    {
     "name": "stderr",
     "output_type": "stream",
     "text": [
      " 28%|██▊       | 701/2487 [59:41<1:14:00,  2.49s/it]"
     ]
    },
    {
     "name": "stdout",
     "output_type": "stream",
     "text": [
      "GL_TS_MO_MEDS037.nc does not have any valid data for this timeperiod\n",
      "\n",
      " MO_TS_MO_CALA-MILLOR.nc\n",
      "MO_TS_MO_CALA-MILLOR.nc does not have any valid data for this timeperiod\n",
      "MO_TS_MO_CALA-MILLOR.nc does not have any valid data for this timeperiod\n",
      "MO_TS_MO_CALA-MILLOR.nc does not have any valid data for this timeperiod\n",
      "\n",
      " NO_TS_MO_Helgoland-EastWR.nc\n",
      "POINT(8.100569725036621 54.2005500793457)\n",
      "232  results found\n"
     ]
    },
    {
     "name": "stderr",
     "output_type": "stream",
     "text": [
      " 28%|██▊       | 704/2487 [59:54<1:27:14,  2.94s/it]"
     ]
    },
    {
     "name": "stdout",
     "output_type": "stream",
     "text": [
      "\n",
      " AR_TS_MO_Valplassen-34-85.nc\n",
      "AR_TS_MO_Valplassen-34-85.nc does not have any of the variables ['VHM0', 'VAVH', 'WSPD']\n",
      "\n",
      " GL_WS_MO_46030.nc\n",
      "GL_WS_MO_46030.nc does not have any of the variables ['VHM0', 'VAVH', 'WSPD']\n",
      "\n",
      " MO_TS_MO_RMNIM.nc\n",
      "MO_TS_MO_RMNIM.nc does not have any valid data for this timeperiod\n",
      "\n",
      " NO_TS_MO_6200145.nc\n",
      "POINT(2.799999952316284 53.10200119018555)\n",
      "233  results found\n"
     ]
    },
    {
     "name": "stderr",
     "output_type": "stream",
     "text": [
      " 28%|██▊       | 706/2487 [1:00:06<1:57:19,  3.95s/it]"
     ]
    },
    {
     "name": "stdout",
     "output_type": "stream",
     "text": [
      "\n",
      " GL_TS_MO_MEDS079.nc\n",
      "GL_TS_MO_MEDS079.nc does not have any valid data for this timeperiod\n",
      "\n",
      " GL_TS_MO_51213.nc\n",
      "POINT(-157.0030059814453 20.75)\n",
      "175  results found\n"
     ]
    },
    {
     "name": "stderr",
     "output_type": "stream",
     "text": [
      " 29%|██▊       | 709/2487 [1:00:16<1:43:29,  3.49s/it]"
     ]
    },
    {
     "name": "stdout",
     "output_type": "stream",
     "text": [
      "\n",
      " GL_WS_MO_6200069.nc\n",
      "GL_WS_MO_6200069.nc does not have any of the variables ['VHM0', 'VAVH', 'WSPD']\n",
      "\n",
      " GL_TS_MO_T5N170W.nc\n",
      "POINT(-170.0 5.0)\n"
     ]
    },
    {
     "name": "stderr",
     "output_type": "stream",
     "text": [
      " 29%|██▊       | 711/2487 [1:00:23<1:37:54,  3.31s/it]"
     ]
    },
    {
     "name": "stdout",
     "output_type": "stream",
     "text": [
      "0  results found\n",
      "\n",
      " GL_TS_MO_6801024.nc\n",
      "GL_TS_MO_6801024.nc does not have any of the variables ['VHM0', 'VAVH', 'WSPD']\n",
      "\n",
      " GL_TS_MO_6801028.nc\n"
     ]
    },
    {
     "name": "stderr",
     "output_type": "stream",
     "text": [
      " 29%|██▊       | 714/2487 [1:00:23<44:09,  1.49s/it]  "
     ]
    },
    {
     "name": "stdout",
     "output_type": "stream",
     "text": [
      "GL_TS_MO_6801028.nc does not have any of the variables ['VHM0', 'VAVH', 'WSPD']\n",
      "\n",
      " GL_TS_MO_41060.nc\n",
      "GL_TS_MO_41060.nc does not have any valid data for this timeperiod\n",
      "GL_TS_MO_41060.nc does not have any valid data for this timeperiod\n",
      "\n",
      " BO_TS_MO_Flinten7BS.nc\n",
      "BO_TS_MO_Flinten7BS.nc does not have any of the variables ['VHM0', 'VAVH', 'WSPD']\n",
      "\n",
      " NO_TS_MO_MeetboeiWEW1.nc\n",
      "POINT(6.3679327964782715 53.61953353881836)\n",
      "208  results found\n"
     ]
    },
    {
     "name": "stderr",
     "output_type": "stream",
     "text": [
      " 29%|██▉       | 716/2487 [1:00:35<1:26:36,  2.93s/it]"
     ]
    },
    {
     "name": "stdout",
     "output_type": "stream",
     "text": [
      "\n",
      " GL_TS_MO_44028.nc\n",
      "GL_TS_MO_44028.nc does not have any valid data for this timeperiod\n",
      "GL_TS_MO_44028.nc does not have any valid data for this timeperiod\n",
      "\n",
      " GL_WS_MO_41041.nc\n",
      "GL_WS_MO_41041.nc does not have any of the variables ['VHM0', 'VAVH', 'WSPD']\n",
      "\n",
      " GL_TS_MO_6202405.nc\n",
      "POINT(-25.16699981689453 36.920169830322266)\n",
      "184  results found\n"
     ]
    },
    {
     "name": "stderr",
     "output_type": "stream",
     "text": [
      " 29%|██▉       | 720/2487 [1:00:46<1:12:24,  2.46s/it]"
     ]
    },
    {
     "name": "stdout",
     "output_type": "stream",
     "text": [
      "\n",
      " GL_TS_MO_3301515.nc\n",
      "GL_TS_MO_3301515.nc does not have any of the variables ['VHM0', 'VAVH', 'WSPD']\n",
      "\n",
      " GL_TS_MO_52074.nc\n",
      "GL_TS_MO_52074.nc does not have any of the variables ['VHM0', 'VAVH', 'WSPD']\n",
      "\n",
      " GL_TS_MO_T8S170W.nc\n",
      "POINT(-170.0 -8.0)\n"
     ]
    },
    {
     "name": "stderr",
     "output_type": "stream",
     "text": [
      " 29%|██▉       | 722/2487 [1:00:53<1:27:02,  2.96s/it]"
     ]
    },
    {
     "name": "stdout",
     "output_type": "stream",
     "text": [
      "0  results found\n",
      "\n",
      " GL_TS_MO_WEL445.nc\n",
      "GL_TS_MO_WEL445.nc does not have any valid data for this timeperiod\n",
      "\n",
      " GL_TS_MO_44251.nc\n"
     ]
    },
    {
     "name": "stderr",
     "output_type": "stream",
     "text": [
      " 29%|██▉       | 725/2487 [1:00:54<45:49,  1.56s/it]  "
     ]
    },
    {
     "name": "stdout",
     "output_type": "stream",
     "text": [
      "GL_TS_MO_44251.nc does not have any valid data for this timeperiod\n",
      "GL_TS_MO_44251.nc does not have any valid data for this timeperiod\n",
      "\n",
      " GL_WS_MO_44137.nc\n",
      "GL_WS_MO_44137.nc does not have any of the variables ['VHM0', 'VAVH', 'WSPD']\n",
      "\n",
      " GL_TS_MO_6200056.nc\n",
      "GL_TS_MO_6200056.nc is too close to land\n",
      "\n",
      " GL_TS_MO_51212.nc\n",
      "POINT(-158.1490020751953 21.322999954223633)\n",
      "117  results found\n"
     ]
    },
    {
     "name": "stderr",
     "output_type": "stream",
     "text": [
      " 29%|██▉       | 726/2487 [1:01:03<1:32:49,  3.16s/it]"
     ]
    },
    {
     "name": "stdout",
     "output_type": "stream",
     "text": [
      "\n",
      " NO_TS_MO_Westhinder.nc\n",
      "POINT(2.435800075531006 51.381099700927734)\n",
      "233  results found\n"
     ]
    },
    {
     "name": "stderr",
     "output_type": "stream",
     "text": [
      " 29%|██▉       | 727/2487 [1:01:14<2:26:33,  5.00s/it]"
     ]
    },
    {
     "name": "stdout",
     "output_type": "stream",
     "text": [
      "\n",
      " GL_TS_MO_T5N95W.nc\n",
      "POINT(-95.0 5.0)\n"
     ]
    },
    {
     "name": "stderr",
     "output_type": "stream",
     "text": [
      " 29%|██▉       | 728/2487 [1:01:23<2:51:06,  5.84s/it]"
     ]
    },
    {
     "name": "stdout",
     "output_type": "stream",
     "text": [
      "0  results found\n",
      "\n",
      " GL_TS_MO_55033.nc\n",
      "POLYGON((151.1199951171875 -23.5,151.1199951171875 -23.299999237060547,151.07000732421875 -23.299999237060547,151.07000732421875 -23.5,151.1199951171875 -23.5))\n",
      "90  results found\n"
     ]
    },
    {
     "name": "stderr",
     "output_type": "stream",
     "text": [
      " 29%|██▉       | 729/2487 [1:02:13<8:30:22, 17.42s/it]"
     ]
    },
    {
     "name": "stdout",
     "output_type": "stream",
     "text": [
      "\n",
      " GL_WS_MO_44086.nc\n",
      "GL_WS_MO_44086.nc does not have any of the variables ['VHM0', 'VAVH', 'WSPD']\n",
      "\n",
      " GL_TS_MO_4101553.nc\n",
      "GL_TS_MO_4101553.nc does not have any of the variables ['VHM0', 'VAVH', 'WSPD']\n",
      "\n",
      " GL_TS_MO_44072.nc\n",
      "POINT(-76.26599884033203 37.20100021362305)\n",
      "56  results found\n"
     ]
    },
    {
     "name": "stderr",
     "output_type": "stream",
     "text": [
      " 29%|██▉       | 732/2487 [1:02:22<4:47:56,  9.84s/it]"
     ]
    },
    {
     "name": "stdout",
     "output_type": "stream",
     "text": [
      "\n",
      " GL_TS_MO_46240.nc\n",
      "POINT(-121.90699768066406 36.625999450683594)\n",
      "118  results found\n"
     ]
    },
    {
     "name": "stderr",
     "output_type": "stream",
     "text": [
      " 29%|██▉       | 733/2487 [1:02:34<4:56:56, 10.16s/it]"
     ]
    },
    {
     "name": "stdout",
     "output_type": "stream",
     "text": [
      "\n",
      " GL_TS_MO_56010.nc\n",
      "POINT(121.9000015258789 -34.0)\n"
     ]
    },
    {
     "name": "stderr",
     "output_type": "stream",
     "text": [
      " 30%|██▉       | 734/2487 [1:02:40<4:28:43,  9.20s/it]"
     ]
    },
    {
     "name": "stdout",
     "output_type": "stream",
     "text": [
      "29  results found\n",
      "\n",
      " GL_TS_MO_46113.nc\n",
      "GL_TS_MO_46113.nc does not have any valid data for this timeperiod\n",
      "\n",
      " AR_TS_MO_Kogurdufl.nc\n",
      "POINT(-13.626500129699707 65.6481704711914)\n",
      "323  results found\n"
     ]
    },
    {
     "name": "stderr",
     "output_type": "stream",
     "text": [
      " 30%|██▉       | 737/2487 [1:02:53<3:09:04,  6.48s/it]"
     ]
    },
    {
     "name": "stdout",
     "output_type": "stream",
     "text": [
      "\n",
      " AR_TS_MO_BSO1.nc\n",
      "AR_TS_MO_BSO1.nc does not have any of the variables ['VHM0', 'VAVH', 'WSPD']\n",
      "\n",
      " GL_TS_MO_46233.nc\n",
      "GL_TS_MO_46233.nc does not have any valid data for this timeperiod\n",
      "\n",
      " NO_TS_MO_6200142.nc\n"
     ]
    },
    {
     "name": "stderr",
     "output_type": "stream",
     "text": [
      " 30%|██▉       | 739/2487 [1:02:53<1:57:08,  4.02s/it]"
     ]
    },
    {
     "name": "stdout",
     "output_type": "stream",
     "text": [
      "NO_TS_MO_6200142.nc does not have any valid data for this timeperiod\n",
      "NO_TS_MO_6200142.nc does not have any valid data for this timeperiod\n",
      "\n",
      " NO_TS_MO_6200130.nc\n",
      "POINT(1.2999999523162842 58.70000076293945)\n",
      "282  results found\n"
     ]
    },
    {
     "name": "stderr",
     "output_type": "stream",
     "text": [
      " 30%|██▉       | 741/2487 [1:03:06<2:09:35,  4.45s/it]"
     ]
    },
    {
     "name": "stdout",
     "output_type": "stream",
     "text": [
      "\n",
      " NO_TS_MO_NorthCormorant.nc\n",
      "NO_TS_MO_NorthCormorant.nc does not have any valid data for this timeperiod\n",
      "NO_TS_MO_NorthCormorant.nc does not have any valid data for this timeperiod\n",
      "\n",
      " IR_TS_MO_Ceuta-coast-buoy.nc\n"
     ]
    },
    {
     "name": "stderr",
     "output_type": "stream",
     "text": [
      " 30%|██▉       | 744/2487 [1:03:06<57:49,  1.99s/it]  "
     ]
    },
    {
     "name": "stdout",
     "output_type": "stream",
     "text": [
      "IR_TS_MO_Ceuta-coast-buoy.nc is too close to land\n",
      "\n",
      " GL_TS_MO_CampbellIsland.nc\n",
      "GL_TS_MO_CampbellIsland.nc does not have any valid data for this timeperiod\n",
      "GL_TS_MO_CampbellIsland.nc does not have any valid data for this timeperiod\n",
      "\n",
      " GL_TS_MO_MEDS261.nc\n",
      "GL_TS_MO_MEDS261.nc does not have any valid data for this timeperiod\n",
      "\n",
      " GL_TS_MO_42003.nc\n",
      "POINT(-85.61499786376953 25.924999237060547)\n",
      "0  results found\n",
      "\n",
      " GL_WS_MO_6200058.nc\n"
     ]
    },
    {
     "name": "stderr",
     "output_type": "stream",
     "text": [
      " 30%|███       | 749/2487 [1:03:12<38:31,  1.33s/it]  "
     ]
    },
    {
     "name": "stdout",
     "output_type": "stream",
     "text": [
      "GL_WS_MO_6200058.nc does not have any of the variables ['VHM0', 'VAVH', 'WSPD']\n",
      "\n",
      " GL_TS_MO_6301004.nc\n",
      "GL_TS_MO_6301004.nc does not have any valid data for this timeperiod\n",
      "\n",
      " GL_WS_MO_6200163.nc\n",
      "GL_WS_MO_6200163.nc does not have any of the variables ['VHM0', 'VAVH', 'WSPD']\n",
      "\n",
      " GL_TS_MO_4101525.nc\n",
      "GL_TS_MO_4101525.nc does not have any of the variables ['VHM0', 'VAVH', 'WSPD']\n",
      "\n",
      " GL_TS_MO_5500086.nc\n",
      "GL_TS_MO_5500086.nc does not have any valid data for this timeperiod\n",
      "\n",
      " GL_TS_MO_6100191.nc\n",
      "POINT(3.124500036239624 42.91619873046875)\n"
     ]
    },
    {
     "name": "stderr",
     "output_type": "stream",
     "text": [
      " 30%|███       | 749/2487 [1:03:23<38:31,  1.33s/it]"
     ]
    },
    {
     "name": "stdout",
     "output_type": "stream",
     "text": [
      "176  results found\n"
     ]
    },
    {
     "name": "stderr",
     "output_type": "stream",
     "text": [
      " 30%|███       | 751/2487 [1:03:26<1:27:41,  3.03s/it]"
     ]
    },
    {
     "name": "stdout",
     "output_type": "stream",
     "text": [
      "\n",
      " GL_TS_MO_45028.nc\n"
     ]
    },
    {
     "name": "stderr",
     "output_type": "stream",
     "text": [
      " 30%|███       | 752/2487 [1:03:26<1:13:22,  2.54s/it]"
     ]
    },
    {
     "name": "stdout",
     "output_type": "stream",
     "text": [
      "GL_TS_MO_45028.nc is too close to land\n",
      "\n",
      " GL_WS_MO_42098.nc\n",
      "GL_WS_MO_42098.nc does not have any of the variables ['VHM0', 'VAVH', 'WSPD']\n",
      "\n",
      " GL_TS_MO_46050.nc\n",
      "POINT(-124.5459976196289 44.66899871826172)\n",
      "124  results found\n"
     ]
    },
    {
     "name": "stderr",
     "output_type": "stream",
     "text": [
      " 30%|███       | 754/2487 [1:03:36<1:36:47,  3.35s/it]"
     ]
    },
    {
     "name": "stdout",
     "output_type": "stream",
     "text": [
      "\n",
      " GL_TS_MO_45148.nc\n",
      "GL_TS_MO_45148.nc does not have any valid data for this timeperiod\n"
     ]
    },
    {
     "name": "stderr",
     "output_type": "stream",
     "text": [
      " 30%|███       | 755/2487 [1:03:37<1:19:15,  2.75s/it]"
     ]
    },
    {
     "name": "stdout",
     "output_type": "stream",
     "text": [
      "GL_TS_MO_45148.nc is too close to land\n",
      "\n",
      " GL_TS_MO_44065.nc\n",
      "POINT(-73.7030029296875 40.36899948120117)\n",
      "30  results found\n"
     ]
    },
    {
     "name": "stderr",
     "output_type": "stream",
     "text": [
      " 30%|███       | 757/2487 [1:03:44<1:25:14,  2.96s/it]"
     ]
    },
    {
     "name": "stdout",
     "output_type": "stream",
     "text": [
      "\n",
      " GL_WS_MO_46042.nc\n",
      "GL_WS_MO_46042.nc does not have any of the variables ['VHM0', 'VAVH', 'WSPD']\n",
      "\n",
      " GL_TS_MO_6200442.nc\n"
     ]
    },
    {
     "name": "stderr",
     "output_type": "stream",
     "text": [
      " 31%|███       | 760/2487 [1:03:45<43:08,  1.50s/it]  "
     ]
    },
    {
     "name": "stdout",
     "output_type": "stream",
     "text": [
      "GL_TS_MO_6200442.nc does not have any of the variables ['VHM0', 'VAVH', 'WSPD']\n",
      "\n",
      " GL_TS_MO_MEDS014.nc\n",
      "GL_TS_MO_MEDS014.nc does not have any valid data for this timeperiod\n",
      "\n",
      " GL_TS_MO_MEDS133.nc\n",
      "GL_TS_MO_MEDS133.nc does not have any valid data for this timeperiod\n",
      "\n",
      " GL_TS_MO_41113.nc\n",
      "POINT(-80.53299713134766 28.399999618530273)\n",
      "59  results found\n"
     ]
    },
    {
     "name": "stderr",
     "output_type": "stream",
     "text": [
      " 31%|███       | 763/2487 [1:03:55<59:13,  2.06s/it]  "
     ]
    },
    {
     "name": "stdout",
     "output_type": "stream",
     "text": [
      "\n",
      " GL_TS_MO_MEDS319.nc\n",
      "GL_TS_MO_MEDS319.nc does not have any valid data for this timeperiod\n",
      "\n",
      " GL_TS_MO_46265.nc\n",
      "GL_TS_MO_46265.nc does not have any valid data for this timeperiod\n",
      "\n",
      " GL_WS_MO_44004.nc\n",
      "GL_WS_MO_44004.nc does not have any of the variables ['VHM0', 'VAVH', 'WSPD']\n",
      "\n",
      " MO_TS_MO_AshdodOffshore.nc\n"
     ]
    },
    {
     "name": "stderr",
     "output_type": "stream",
     "text": [
      " 31%|███       | 765/2487 [1:03:55<39:47,  1.39s/it]"
     ]
    },
    {
     "name": "stdout",
     "output_type": "stream",
     "text": [
      "MO_TS_MO_AshdodOffshore.nc does not have any of the variables ['VHM0', 'VAVH', 'WSPD']\n",
      "\n",
      " BO_TS_MO_Hanobukten3BS.nc\n",
      "BO_TS_MO_Hanobukten3BS.nc does not have any of the variables ['VHM0', 'VAVH', 'WSPD']\n",
      "\n",
      " GL_TS_MO_MEDS241.nc\n",
      "GL_TS_MO_MEDS241.nc does not have any valid data for this timeperiod\n",
      "\n",
      " GL_TS_MO_WEL451.nc\n",
      "GL_TS_MO_WEL451.nc does not have any valid data for this timeperiod\n",
      "\n",
      " MO_TS_MO_SON-BOU.nc\n"
     ]
    },
    {
     "name": "stderr",
     "output_type": "stream",
     "text": [
      " 31%|███       | 769/2487 [1:03:55<21:17,  1.35it/s]"
     ]
    },
    {
     "name": "stdout",
     "output_type": "stream",
     "text": [
      "MO_TS_MO_SON-BOU.nc does not have any valid data for this timeperiod\n",
      "MO_TS_MO_SON-BOU.nc does not have any valid data for this timeperiod\n",
      "MO_TS_MO_SON-BOU.nc does not have any valid data for this timeperiod\n",
      "\n",
      " GL_WS_MO_41002.nc\n",
      "GL_WS_MO_41002.nc does not have any of the variables ['VHM0', 'VAVH', 'WSPD']\n",
      "\n",
      " GL_TS_MO_23004.nc\n"
     ]
    },
    {
     "name": "stderr",
     "output_type": "stream",
     "text": [
      " 31%|███       | 771/2487 [1:03:55<16:30,  1.73it/s]"
     ]
    },
    {
     "name": "stdout",
     "output_type": "stream",
     "text": [
      "GL_TS_MO_23004.nc does not have any valid data for this timeperiod\n",
      "\n",
      " GL_TS_MO_23020.nc\n",
      "GL_TS_MO_23020.nc does not have any valid data for this timeperiod\n",
      "\n",
      " NO_TS_MO_6300117.nc\n",
      "POINT(1.100000023841858 61.400001525878906)\n",
      "293  results found\n"
     ]
    },
    {
     "name": "stderr",
     "output_type": "stream",
     "text": [
      " 31%|███       | 775/2487 [1:04:08<43:32,  1.53s/it]"
     ]
    },
    {
     "name": "stdout",
     "output_type": "stream",
     "text": [
      "\n",
      " GL_WS_MO_46108.nc\n",
      "GL_WS_MO_46108.nc does not have any of the variables ['VHM0', 'VAVH', 'WSPD']\n",
      "\n",
      " GL_TS_MO_1400011.nc\n",
      "GL_TS_MO_1400011.nc does not have any of the variables ['VHM0', 'VAVH', 'WSPD']\n",
      "\n",
      " GL_TS_MO_3101530.nc\n",
      "GL_TS_MO_3101530.nc does not have any of the variables ['VHM0', 'VAVH', 'WSPD']\n",
      "\n",
      " GL_TS_MO_42018.nc\n",
      "GL_TS_MO_42018.nc does not have any valid data for this timeperiod\n",
      "GL_TS_MO_42018.nc does not have any valid data for this timeperiod\n",
      "\n",
      " GL_WS_MO_46072.nc\n"
     ]
    },
    {
     "name": "stderr",
     "output_type": "stream",
     "text": [
      " 31%|███▏      | 778/2487 [1:04:08<27:51,  1.02it/s]"
     ]
    },
    {
     "name": "stdout",
     "output_type": "stream",
     "text": [
      "GL_WS_MO_46072.nc does not have any of the variables ['VHM0', 'VAVH', 'WSPD']\n",
      "\n",
      " NO_TS_MO_Uithuizerwad3.nc\n",
      "POINT(6.760000228881836 53.470001220703125)\n",
      "236  results found\n"
     ]
    },
    {
     "name": "stderr",
     "output_type": "stream",
     "text": [
      " 31%|███▏      | 780/2487 [1:04:20<1:06:14,  2.33s/it]"
     ]
    },
    {
     "name": "stdout",
     "output_type": "stream",
     "text": [
      "\n",
      " IR_TS_MO_Sevilla-coast-buoy.nc\n",
      "IR_TS_MO_Sevilla-coast-buoy.nc does not have any valid data for this timeperiod\n",
      "IR_TS_MO_Sevilla-coast-buoy.nc does not have any valid data for this timeperiod\n",
      "\n",
      " GL_TS_MO_1401720.nc\n",
      "GL_TS_MO_1401720.nc does not have any of the variables ['VHM0', 'VAVH', 'WSPD']\n",
      "\n",
      " MO_TS_MO_HERAKLION.nc\n",
      "POINT(25.079200744628906 35.434200286865234)\n",
      "210  results found\n"
     ]
    },
    {
     "name": "stderr",
     "output_type": "stream",
     "text": [
      " 31%|███▏      | 783/2487 [1:04:31<1:14:47,  2.63s/it]"
     ]
    },
    {
     "name": "stdout",
     "output_type": "stream",
     "text": [
      "\n",
      " GL_WS_MO_41009.nc\n",
      "GL_WS_MO_41009.nc does not have any of the variables ['VHM0', 'VAVH', 'WSPD']\n",
      "\n",
      " BS_TS_MO_SPOT0772.nc\n",
      "POLYGON((27.99650001525879 43.18320083618164,27.99650001525879 43.18199920654297,27.994800567626953 43.18199920654297,27.994800567626953 43.18320083618164,27.99650001525879 43.18320083618164))\n"
     ]
    },
    {
     "name": "stderr",
     "output_type": "stream",
     "text": [
      " 31%|███▏      | 783/2487 [1:04:43<1:14:47,  2.63s/it]"
     ]
    },
    {
     "name": "stdout",
     "output_type": "stream",
     "text": [
      "177  results found\n"
     ]
    },
    {
     "name": "stderr",
     "output_type": "stream",
     "text": [
      " 32%|███▏      | 784/2487 [1:09:14<26:16:02, 55.53s/it]"
     ]
    },
    {
     "name": "stdout",
     "output_type": "stream",
     "text": [
      "\n",
      " BO_TS_MO_Knollsgrund.nc\n",
      "POLYGON((17.614200592041016 57.515098571777344,17.614200592041016 57.51810073852539,17.619300842285156 57.51810073852539,17.619300842285156 57.515098571777344,17.614200592041016 57.515098571777344))\n",
      "279  results found\n"
     ]
    },
    {
     "name": "stderr",
     "output_type": "stream",
     "text": [
      " 32%|███▏      | 786/2487 [1:13:20<34:48:17, 73.66s/it]"
     ]
    },
    {
     "name": "stdout",
     "output_type": "stream",
     "text": [
      "\n",
      " AR_TS_MO_Draugen.nc\n",
      "AR_TS_MO_Draugen.nc does not have any valid data for this timeperiod\n",
      "\n",
      " GL_TS_MO_41026.nc\n",
      "GL_TS_MO_41026.nc does not have any valid data for this timeperiod\n",
      "\n",
      " GL_TS_MO_UFSDeutscheBucht.nc\n",
      "POINT(7.449999809265137 54.16667175292969)\n",
      "232  results found\n"
     ]
    },
    {
     "name": "stderr",
     "output_type": "stream",
     "text": [
      " 32%|███▏      | 788/2487 [1:13:33<22:07:23, 46.88s/it]"
     ]
    },
    {
     "name": "stdout",
     "output_type": "stream",
     "text": [
      "\n",
      " GL_TS_MO_46110.nc\n",
      "GL_TS_MO_46110.nc does not have any valid data for this timeperiod\n",
      "\n",
      " GL_TS_MO_44042.nc\n",
      "POINT(-76.33499908447266 38.03300094604492)\n",
      "57  results found\n"
     ]
    },
    {
     "name": "stderr",
     "output_type": "stream",
     "text": [
      " 32%|███▏      | 790/2487 [1:13:42<14:52:00, 31.54s/it]"
     ]
    },
    {
     "name": "stdout",
     "output_type": "stream",
     "text": [
      "\n",
      " GL_TS_MO_46211.nc\n",
      "POINT(-124.24400329589844 46.856998443603516)\n",
      "87  results found\n"
     ]
    },
    {
     "name": "stderr",
     "output_type": "stream",
     "text": [
      " 32%|███▏      | 792/2487 [1:13:52<9:49:50, 20.88s/it] "
     ]
    },
    {
     "name": "stdout",
     "output_type": "stream",
     "text": [
      "\n",
      " GL_TS_MO_ARCACHON.nc\n",
      "GL_TS_MO_ARCACHON.nc does not have any of the variables ['VHM0', 'VAVH', 'WSPD']\n",
      "\n",
      " GL_TS_MO_41027.nc\n",
      "GL_TS_MO_41027.nc does not have any valid data for this timeperiod\n",
      "\n",
      " GL_WS_MO_44014.nc\n"
     ]
    },
    {
     "name": "stderr",
     "output_type": "stream",
     "text": [
      " 32%|███▏      | 794/2487 [1:13:52<5:57:51, 12.68s/it]"
     ]
    },
    {
     "name": "stdout",
     "output_type": "stream",
     "text": [
      "GL_WS_MO_44014.nc does not have any of the variables ['VHM0', 'VAVH', 'WSPD']\n",
      "\n",
      " GL_TS_MO_EXIN0006.nc\n"
     ]
    },
    {
     "name": "stderr",
     "output_type": "stream",
     "text": [
      " 32%|███▏      | 795/2487 [1:13:53<4:43:20, 10.05s/it]"
     ]
    },
    {
     "name": "stdout",
     "output_type": "stream",
     "text": [
      "GL_TS_MO_EXIN0006.nc is too close to land\n",
      "\n",
      " NO_TS_MO_6200029.nc\n",
      "NO_TS_MO_6200029.nc does not have any valid data for this timeperiod\n",
      "POINT(-12.401000022888184 48.70100021362305)\n",
      "177  results found\n"
     ]
    },
    {
     "name": "stderr",
     "output_type": "stream",
     "text": [
      " 32%|███▏      | 796/2487 [1:14:04<4:50:06, 10.29s/it]"
     ]
    },
    {
     "name": "stdout",
     "output_type": "stream",
     "text": [
      "\n",
      " NO_TS_MO_MaeslantkeringZeezijdeNoordMeetpaal.nc\n"
     ]
    },
    {
     "name": "stderr",
     "output_type": "stream",
     "text": [
      " 32%|███▏      | 797/2487 [1:14:04<3:37:51,  7.73s/it]"
     ]
    },
    {
     "name": "stdout",
     "output_type": "stream",
     "text": [
      "NO_TS_MO_MaeslantkeringZeezijdeNoordMeetpaal.nc is too close to land\n",
      "\n",
      " GL_TS_MO_46208.nc\n",
      "GL_TS_MO_46208.nc does not have any valid data for this timeperiod\n",
      "POINT(-132.69200134277344 52.51499938964844)\n",
      "87  results found\n"
     ]
    },
    {
     "name": "stderr",
     "output_type": "stream",
     "text": [
      " 32%|███▏      | 798/2487 [1:14:11<3:31:40,  7.52s/it]"
     ]
    },
    {
     "name": "stdout",
     "output_type": "stream",
     "text": [
      "\n",
      " MO_TS_MO_CNR-ISMAR-Head-office.nc\n",
      "MO_TS_MO_CNR-ISMAR-Head-office.nc does not have any of the variables ['VHM0', 'VAVH', 'WSPD']\n",
      "\n",
      " GL_TS_MO_MEDS091.nc\n",
      "GL_TS_MO_MEDS091.nc does not have any valid data for this timeperiod\n",
      "\n",
      " NO_TS_MO_K13a2.nc\n",
      "POINT(3.2200000286102295 53.217777252197266)\n",
      "216  results found\n"
     ]
    },
    {
     "name": "stderr",
     "output_type": "stream",
     "text": [
      " 32%|███▏      | 801/2487 [1:14:24<2:44:52,  5.87s/it]"
     ]
    },
    {
     "name": "stdout",
     "output_type": "stream",
     "text": [
      "\n",
      " GL_TS_MO_T2S110W.nc\n",
      "POINT(-110.0 -2.0)\n"
     ]
    },
    {
     "name": "stderr",
     "output_type": "stream",
     "text": [
      " 32%|███▏      | 804/2487 [1:14:31<1:49:57,  3.92s/it]"
     ]
    },
    {
     "name": "stdout",
     "output_type": "stream",
     "text": [
      "0  results found\n",
      "\n",
      " BO_TS_MO_OlandsRev.nc\n",
      "BO_TS_MO_OlandsRev.nc does not have any valid data for this timeperiod\n",
      "\n",
      " GL_WS_MO_51207.nc\n",
      "GL_WS_MO_51207.nc does not have any of the variables ['VHM0', 'VAVH', 'WSPD']\n",
      "\n",
      " AR_TS_MO_B-Sulafjorden.nc\n"
     ]
    },
    {
     "name": "stderr",
     "output_type": "stream",
     "text": [
      " 32%|███▏      | 805/2487 [1:14:32<1:29:41,  3.20s/it]"
     ]
    },
    {
     "name": "stdout",
     "output_type": "stream",
     "text": [
      "AR_TS_MO_B-Sulafjorden.nc does not have any valid data for this timeperiod\n",
      "\n",
      " GL_TS_MO_4101552.nc\n",
      "GL_TS_MO_4101552.nc does not have any of the variables ['VHM0', 'VAVH', 'WSPD']\n",
      "\n",
      " GL_TS_MO_2200107.nc\n",
      "POINT(126.02999877929688 33.08000183105469)\n",
      "30  results found\n"
     ]
    },
    {
     "name": "stderr",
     "output_type": "stream",
     "text": [
      " 33%|███▎      | 809/2487 [1:14:38<58:20,  2.09s/it]  "
     ]
    },
    {
     "name": "stdout",
     "output_type": "stream",
     "text": [
      "\n",
      " BO_TS_MO_Laso.nc\n",
      "BO_TS_MO_Laso.nc does not have any valid data for this timeperiod\n",
      "\n",
      " GL_TS_MO_56053.nc\n",
      "GL_TS_MO_56053.nc does not have any valid data for this timeperiod\n",
      "\n",
      " GL_TS_MO_6200054.nc\n",
      "GL_TS_MO_6200054.nc does not have any valid data for this timeperiod\n",
      "GL_TS_MO_6200054.nc does not have any valid data for this timeperiod\n",
      "\n",
      " IR_TS_MO_6200200.nc\n",
      "POINT(-8.068300247192383 36.39830017089844)\n",
      "170  results found\n"
     ]
    },
    {
     "name": "stderr",
     "output_type": "stream",
     "text": [
      " 33%|███▎      | 812/2487 [1:14:49<1:12:29,  2.60s/it]"
     ]
    },
    {
     "name": "stdout",
     "output_type": "stream",
     "text": [
      "\n",
      " GL_WS_MO_41047.nc\n",
      "GL_WS_MO_41047.nc does not have any of the variables ['VHM0', 'VAVH', 'WSPD']\n",
      "\n",
      " GL_TS_MO_42087.nc\n"
     ]
    },
    {
     "name": "stderr",
     "output_type": "stream",
     "text": [
      " 33%|███▎      | 813/2487 [1:14:49<57:34,  2.06s/it]  "
     ]
    },
    {
     "name": "stdout",
     "output_type": "stream",
     "text": [
      "GL_TS_MO_42087.nc does not have any valid data for this timeperiod\n",
      "\n",
      " NO_TS_MO_6201001.nc\n",
      "NO_TS_MO_6201001.nc does not have any valid data for this timeperiod\n",
      "\n",
      " GL_TS_MO_41044.nc\n",
      "POINT(-58.630001068115234 21.582000732421875)\n",
      "32  results found\n"
     ]
    },
    {
     "name": "stderr",
     "output_type": "stream",
     "text": [
      " 33%|███▎      | 816/2487 [1:14:59<1:07:33,  2.43s/it]"
     ]
    },
    {
     "name": "stdout",
     "output_type": "stream",
     "text": [
      "\n",
      " GL_TS_MO_45162.nc\n",
      "GL_TS_MO_45162.nc is too close to land\n",
      "\n",
      " GL_TS_MO_46086.nc\n",
      "POINT(-118.052001953125 32.499000549316406)\n",
      "144  results found\n"
     ]
    },
    {
     "name": "stderr",
     "output_type": "stream",
     "text": [
      " 33%|███▎      | 817/2487 [1:15:09<1:59:13,  4.28s/it]"
     ]
    },
    {
     "name": "stdout",
     "output_type": "stream",
     "text": [
      "\n",
      " GL_TS_MO_42092.nc\n",
      "POINT(-96.97899627685547 27.766000747680664)\n"
     ]
    },
    {
     "name": "stderr",
     "output_type": "stream",
     "text": [
      " 33%|███▎      | 818/2487 [1:15:15<2:12:11,  4.75s/it]"
     ]
    },
    {
     "name": "stdout",
     "output_type": "stream",
     "text": [
      "30  results found\n",
      "\n",
      " GL_TS_MO_45140.nc\n"
     ]
    },
    {
     "name": "stderr",
     "output_type": "stream",
     "text": [
      " 33%|███▎      | 819/2487 [1:15:15<1:38:22,  3.54s/it]"
     ]
    },
    {
     "name": "stdout",
     "output_type": "stream",
     "text": [
      "GL_TS_MO_45140.nc does not have any valid data for this timeperiod\n",
      "GL_TS_MO_45140.nc does not have any valid data for this timeperiod\n",
      "\n",
      " NO_TS_MO_FINO3.nc\n",
      "POINT(7.158332824707031 55.19499969482422)\n",
      "230  results found\n"
     ]
    },
    {
     "name": "stderr",
     "output_type": "stream",
     "text": [
      " 33%|███▎      | 820/2487 [1:15:31<3:11:02,  6.88s/it]"
     ]
    },
    {
     "name": "stdout",
     "output_type": "stream",
     "text": [
      "\n",
      " NO_TS_MO_DarsserS.nc\n",
      "POINT(12.699999809265137 54.70000076293945)\n",
      "237  results found\n"
     ]
    },
    {
     "name": "stderr",
     "output_type": "stream",
     "text": [
      " 33%|███▎      | 821/2487 [1:15:45<4:07:40,  8.92s/it]"
     ]
    },
    {
     "name": "stdout",
     "output_type": "stream",
     "text": [
      "\n",
      " GL_TS_MO_53048.nc\n",
      "POINT(130.0 -10.699999809265137)\n"
     ]
    },
    {
     "name": "stderr",
     "output_type": "stream",
     "text": [
      " 33%|███▎      | 822/2487 [1:15:52<3:52:22,  8.37s/it]"
     ]
    },
    {
     "name": "stdout",
     "output_type": "stream",
     "text": [
      "29  results found\n",
      "\n",
      " GL_WS_MO_44005.nc\n"
     ]
    },
    {
     "name": "stderr",
     "output_type": "stream",
     "text": [
      " 33%|███▎      | 824/2487 [1:15:52<1:58:06,  4.26s/it]"
     ]
    },
    {
     "name": "stdout",
     "output_type": "stream",
     "text": [
      "GL_WS_MO_44005.nc does not have any of the variables ['VHM0', 'VAVH', 'WSPD']\n",
      "\n",
      " NO_TS_MO_6201018.nc\n",
      "NO_TS_MO_6201018.nc does not have any valid data for this timeperiod\n",
      "\n",
      " GL_WS_MO_buzm3.nc\n",
      "GL_WS_MO_buzm3.nc does not have any of the variables ['VHM0', 'VAVH', 'WSPD']\n",
      "\n",
      " GL_TS_MO_EMSO-Azores-SeamonWest.nc\n"
     ]
    },
    {
     "name": "stderr",
     "output_type": "stream",
     "text": [
      " 33%|███▎      | 829/2487 [1:15:53<33:42,  1.22s/it]  "
     ]
    },
    {
     "name": "stdout",
     "output_type": "stream",
     "text": [
      "GL_TS_MO_EMSO-Azores-SeamonWest.nc does not have any of the variables ['VHM0', 'VAVH', 'WSPD']\n",
      "\n",
      " AR_TS_MO_Mobrua-24-52.nc\n",
      "AR_TS_MO_Mobrua-24-52.nc does not have any of the variables ['VHM0', 'VAVH', 'WSPD']\n",
      "\n",
      " AR_TS_MO_Munkholmen-4-11.nc\n",
      "AR_TS_MO_Munkholmen-4-11.nc does not have any of the variables ['VHM0', 'VAVH', 'WSPD']\n",
      "\n",
      " GL_WS_MO_46085.nc\n",
      "GL_WS_MO_46085.nc does not have any of the variables ['VHM0', 'VAVH', 'WSPD']\n",
      "\n",
      " GL_TS_MO_T0N170W.nc\n",
      "GL_TS_MO_T0N170W.nc does not have any valid data for this timeperiod\n",
      "\n",
      " IR_TS_MO_6101404.nc\n",
      "POLYGON((-5.420000076293945 36.066001892089844,-5.420000076293945 36.06999969482422,-5.414599895477295 36.06999969482422,-5.414599895477295 36.066001892089844,-5.420000076293945 36.066001892089844))\n",
      "229  results found\n"
     ]
    },
    {
     "name": "stderr",
     "output_type": "stream",
     "text": [
      " 33%|███▎      | 831/2487 [1:20:57<22:44:12, 49.43s/it]"
     ]
    },
    {
     "name": "stdout",
     "output_type": "stream",
     "text": [
      "IR_TS_MO_6101404.nc does not have any valid data for this timeperiod\n",
      "\n",
      " GL_TS_MO_MEDS146.nc\n"
     ]
    },
    {
     "name": "stderr",
     "output_type": "stream",
     "text": [
      " 33%|███▎      | 832/2487 [1:20:59<18:41:27, 40.66s/it]"
     ]
    },
    {
     "name": "stdout",
     "output_type": "stream",
     "text": [
      "GL_TS_MO_MEDS146.nc does not have any valid data for this timeperiod\n",
      "\n",
      " GL_TS_MO_44131.nc\n"
     ]
    },
    {
     "name": "stderr",
     "output_type": "stream",
     "text": [
      " 33%|███▎      | 833/2487 [1:21:00<14:53:05, 32.40s/it]"
     ]
    },
    {
     "name": "stdout",
     "output_type": "stream",
     "text": [
      "GL_TS_MO_44131.nc does not have any valid data for this timeperiod\n",
      "GL_TS_MO_44131.nc does not have any valid data for this timeperiod\n",
      "\n",
      " GL_TS_MO_MEDS183.nc\n"
     ]
    },
    {
     "name": "stderr",
     "output_type": "stream",
     "text": [
      " 34%|███▎      | 834/2487 [1:21:01<11:33:33, 25.17s/it]"
     ]
    },
    {
     "name": "stdout",
     "output_type": "stream",
     "text": [
      "GL_TS_MO_MEDS183.nc does not have any valid data for this timeperiod\n",
      "\n",
      " GL_TS_MO_46261.nc\n"
     ]
    },
    {
     "name": "stderr",
     "output_type": "stream",
     "text": [
      " 34%|███▎      | 837/2487 [1:21:03<5:10:30, 11.29s/it] "
     ]
    },
    {
     "name": "stdout",
     "output_type": "stream",
     "text": [
      "GL_TS_MO_46261.nc does not have any valid data for this timeperiod\n",
      "\n",
      " MO_TS_MO_FORM.nc\n",
      "MO_TS_MO_FORM.nc does not have any valid data for this timeperiod\n",
      "\n",
      " GL_TS_MO_14042.nc\n",
      "GL_TS_MO_14042.nc does not have any valid data for this timeperiod\n",
      "\n",
      " AR_TS_MO_Aksdalsvatnet-3-5.nc\n",
      "AR_TS_MO_Aksdalsvatnet-3-5.nc does not have any of the variables ['VHM0', 'VAVH', 'WSPD']\n",
      "\n",
      " GL_TS_MO_41001.nc\n",
      "POLYGON((-72.52200317382812 34.50199890136719,-72.52200317382812 34.7239990234375,-72.31700134277344 34.7239990234375,-72.31700134277344 34.50199890136719,-72.52200317382812 34.50199890136719))\n",
      "31  results found\n"
     ]
    },
    {
     "name": "stderr",
     "output_type": "stream",
     "text": [
      " 34%|███▎      | 839/2487 [1:21:28<5:23:30, 11.78s/it]"
     ]
    },
    {
     "name": "stdout",
     "output_type": "stream",
     "text": [
      "\n",
      " GL_TS_MO_2200183.nc\n",
      "POINT(126.23999786376953 34.72999954223633)\n",
      "60  results found\n"
     ]
    },
    {
     "name": "stderr",
     "output_type": "stream",
     "text": [
      " 34%|███▍      | 840/2487 [1:21:46<5:58:07, 13.05s/it]"
     ]
    },
    {
     "name": "stdout",
     "output_type": "stream",
     "text": [
      "\n",
      " IR_TS_MO_AMETSBerthBWaveBuoy.nc\n",
      "POINT(-10.150989532470703 54.225101470947266)\n",
      "226  results found\n"
     ]
    },
    {
     "name": "stderr",
     "output_type": "stream",
     "text": [
      " 34%|███▍      | 842/2487 [1:22:02<4:44:25, 10.37s/it]"
     ]
    },
    {
     "name": "stdout",
     "output_type": "stream",
     "text": [
      "\n",
      " BO_TS_MO_Vinga.nc\n",
      "BO_TS_MO_Vinga.nc does not have any valid data for this timeperiod\n",
      "\n",
      " NO_TS_MO_IJmuidenMunitiestort.nc\n",
      "POINT(4.058332920074463 52.54999923706055)\n",
      "177  results found\n"
     ]
    },
    {
     "name": "stderr",
     "output_type": "stream",
     "text": [
      " 34%|███▍      | 843/2487 [1:22:17<5:18:01, 11.61s/it]"
     ]
    },
    {
     "name": "stdout",
     "output_type": "stream",
     "text": [
      "\n",
      " GL_TS_MO_46034.nc\n",
      "GL_TS_MO_46034.nc does not have any valid data for this timeperiod\n",
      "\n",
      " GL_TS_MO_44012.nc\n",
      "GL_TS_MO_44012.nc does not have any valid data for this timeperiod\n"
     ]
    },
    {
     "name": "stderr",
     "output_type": "stream",
     "text": [
      " 34%|███▍      | 845/2487 [1:22:17<3:03:03,  6.69s/it]"
     ]
    },
    {
     "name": "stdout",
     "output_type": "stream",
     "text": [
      "GL_TS_MO_44012.nc does not have any valid data for this timeperiod\n",
      "\n",
      " GL_TS_MO_44037.nc\n",
      "POINT(-67.8759994506836 43.49700164794922)\n",
      "59  results found\n"
     ]
    },
    {
     "name": "stderr",
     "output_type": "stream",
     "text": [
      " 34%|███▍      | 847/2487 [1:22:26<2:26:18,  5.35s/it]"
     ]
    },
    {
     "name": "stdout",
     "output_type": "stream",
     "text": [
      "\n",
      " GL_TS_MO_45173.nc\n",
      "GL_TS_MO_45173.nc does not have any valid data for this timeperiod\n",
      "GL_TS_MO_45173.nc does not have any valid data for this timeperiod\n",
      "\n",
      " NO_TS_MO_6200081.nc\n",
      "NO_TS_MO_6200081.nc does not have any valid data for this timeperiod\n",
      "POINT(-13.300999641418457 51.0)\n",
      "152  results found\n"
     ]
    },
    {
     "name": "stderr",
     "output_type": "stream",
     "text": [
      " 34%|███▍      | 849/2487 [1:22:38<2:24:03,  5.28s/it]"
     ]
    },
    {
     "name": "stdout",
     "output_type": "stream",
     "text": [
      "\n",
      " GL_WS_MO_42001.nc\n",
      "GL_WS_MO_42001.nc does not have any of the variables ['VHM0', 'VAVH', 'WSPD']\n",
      "\n",
      " GL_TS_MO_T5S125W.nc\n",
      "POINT(-125.0 -5.0)\n"
     ]
    },
    {
     "name": "stderr",
     "output_type": "stream",
     "text": [
      " 34%|███▍      | 851/2487 [1:22:47<2:01:20,  4.45s/it]"
     ]
    },
    {
     "name": "stdout",
     "output_type": "stream",
     "text": [
      "0  results found\n",
      "\n",
      " GL_TS_MO_IF000576.nc\n",
      "GL_TS_MO_IF000576.nc does not have any of the variables ['VHM0', 'VAVH', 'WSPD']\n",
      "\n",
      " AR_TS_MO_Sandebukta-37-93.nc\n",
      "AR_TS_MO_Sandebukta-37-93.nc does not have any of the variables ['VHM0', 'VAVH', 'WSPD']\n",
      "\n",
      " BO_TS_MO_Trubaduren.nc\n"
     ]
    },
    {
     "name": "stderr",
     "output_type": "stream",
     "text": [
      " 34%|███▍      | 853/2487 [1:22:47<1:07:31,  2.48s/it]"
     ]
    },
    {
     "name": "stdout",
     "output_type": "stream",
     "text": [
      "BO_TS_MO_Trubaduren.nc does not have any valid data for this timeperiod\n",
      "BO_TS_MO_Trubaduren.nc does not have any valid data for this timeperiod\n",
      "\n",
      " GL_TS_MO_6801031.nc\n",
      "GL_TS_MO_6801031.nc does not have any of the variables ['VHM0', 'VAVH', 'WSPD']\n",
      "\n",
      " IR_TS_MO_6200024.nc\n",
      "POLYGON((-3.037100076675415 43.63999938964844,-3.037100076675415 43.632301330566406,-3.051800012588501 43.632301330566406,-3.051800012588501 43.63999938964844,-3.037100076675415 43.63999938964844))\n",
      "240  results found\n"
     ]
    },
    {
     "name": "stderr",
     "output_type": "stream",
     "text": [
      " 34%|███▍      | 856/2487 [1:25:45<12:52:42, 28.43s/it]"
     ]
    },
    {
     "name": "stdout",
     "output_type": "stream",
     "text": [
      "\n",
      " GL_TS_MO_6200057.nc\n",
      "GL_TS_MO_6200057.nc is too close to land\n",
      "\n",
      " BS_TS_MO_URSS.nc\n",
      "POINT(39.900001525878906 43.43330001831055)\n",
      "235  results found\n"
     ]
    },
    {
     "name": "stderr",
     "output_type": "stream",
     "text": [
      " 34%|███▍      | 857/2487 [1:25:57<11:07:11, 24.56s/it]"
     ]
    },
    {
     "name": "stdout",
     "output_type": "stream",
     "text": [
      "\n",
      " GL_TS_MO_45151.nc\n",
      "GL_TS_MO_45151.nc does not have any valid data for this timeperiod\n"
     ]
    },
    {
     "name": "stderr",
     "output_type": "stream",
     "text": [
      " 34%|███▍      | 858/2487 [1:25:58<8:19:11, 18.39s/it] "
     ]
    },
    {
     "name": "stdout",
     "output_type": "stream",
     "text": [
      "GL_TS_MO_45151.nc is too close to land\n",
      "\n",
      " NO_TS_MO_OostendPoortens.nc\n",
      "POINT(2.86299991607666 51.28900146484375)\n",
      "234  results found\n"
     ]
    },
    {
     "name": "stderr",
     "output_type": "stream",
     "text": [
      " 35%|███▍      | 861/2487 [1:26:08<4:11:04,  9.26s/it]"
     ]
    },
    {
     "name": "stdout",
     "output_type": "stream",
     "text": [
      "\n",
      " GL_TS_MO_44235.nc\n",
      "GL_TS_MO_44235.nc does not have any valid data for this timeperiod\n",
      "\n",
      " BS_TS_MO_15428.nc\n",
      "BS_TS_MO_15428.nc does not have any of the variables ['VHM0', 'VAVH', 'WSPD']\n",
      "\n",
      " IR_TS_MO_Silleiro2-current-meter.nc\n",
      "IR_TS_MO_Silleiro2-current-meter.nc does not have any of the variables ['VHM0', 'VAVH', 'WSPD']\n",
      "\n",
      " GL_TS_MO_44018.nc\n",
      "POINT(-70.14299774169922 42.20600128173828)\n",
      "86  results found\n"
     ]
    },
    {
     "name": "stderr",
     "output_type": "stream",
     "text": [
      " 35%|███▍      | 864/2487 [1:26:16<2:34:15,  5.70s/it]"
     ]
    },
    {
     "name": "stdout",
     "output_type": "stream",
     "text": [
      "\n",
      " GL_TS_MO_45138.nc\n",
      "GL_TS_MO_45138.nc does not have any valid data for this timeperiod\n",
      "GL_TS_MO_45138.nc does not have any valid data for this timeperiod\n",
      "\n",
      " GL_TS_MO_6202403.nc\n"
     ]
    },
    {
     "name": "stderr",
     "output_type": "stream",
     "text": [
      " 35%|███▍      | 868/2487 [1:26:16<59:56,  2.22s/it]  "
     ]
    },
    {
     "name": "stdout",
     "output_type": "stream",
     "text": [
      "GL_TS_MO_6202403.nc is too close to land\n",
      "\n",
      " NO_TS_MO_zdv8-2d-MMND.nc\n",
      "NO_TS_MO_zdv8-2d-MMND.nc does not have any valid data for this timeperiod\n",
      "NO_TS_MO_zdv8-2d-MMND.nc does not have any valid data for this timeperiod\n",
      "\n",
      " BS_TS_MO_Karantina.nc\n",
      "BS_TS_MO_Karantina.nc does not have any of the variables ['VHM0', 'VAVH', 'WSPD']\n",
      "\n",
      " GL_TS_MO_4400137.nc\n",
      "GL_TS_MO_4400137.nc does not have any of the variables ['VHM0', 'VAVH', 'WSPD']\n",
      "\n",
      " GL_TS_MO_31478.nc\n",
      "GL_TS_MO_31478.nc does not have any valid data for this timeperiod\n",
      "\n",
      " GL_TS_MO_31006.nc\n",
      "POINT(-23.0 4.0)\n"
     ]
    },
    {
     "name": "stderr",
     "output_type": "stream",
     "text": [
      " 35%|███▌      | 872/2487 [1:26:21<43:12,  1.61s/it]  "
     ]
    },
    {
     "name": "stdout",
     "output_type": "stream",
     "text": [
      "0  results found\n",
      "\n",
      " GL_TS_MO_46706A.nc\n",
      "GL_TS_MO_46706A.nc does not have any valid data for this timeperiod\n",
      "\n",
      " GL_WS_MO_4100099.nc\n",
      "GL_WS_MO_4100099.nc does not have any of the variables ['VHM0', 'VAVH', 'WSPD']\n",
      "\n",
      " NO_TS_MO_CadzandBoei.nc\n",
      "POINT(3.369800090789795 51.392601013183594)\n",
      "233  results found\n"
     ]
    },
    {
     "name": "stderr",
     "output_type": "stream",
     "text": [
      " 35%|███▌      | 873/2487 [1:26:34<1:37:03,  3.61s/it]"
     ]
    },
    {
     "name": "stdout",
     "output_type": "stream",
     "text": [
      "\n",
      " NO_TS_MO_DarsserSCU.nc\n",
      "NO_TS_MO_DarsserSCU.nc does not have any of the variables ['VHM0', 'VAVH', 'WSPD']\n",
      "\n",
      " GL_TS_MO_51209.nc\n",
      "POINT(-170.5 -14.27299976348877)\n",
      "30  results found\n"
     ]
    },
    {
     "name": "stderr",
     "output_type": "stream",
     "text": [
      " 35%|███▌      | 877/2487 [1:26:41<1:04:49,  2.42s/it]"
     ]
    },
    {
     "name": "stdout",
     "output_type": "stream",
     "text": [
      "\n",
      " GL_TS_MO_44019.nc\n",
      "GL_TS_MO_44019.nc does not have any valid data for this timeperiod\n",
      "GL_TS_MO_44019.nc does not have any valid data for this timeperiod\n",
      "\n",
      " AR_TS_MO_AmundsenGulf-AT1.nc\n",
      "AR_TS_MO_AmundsenGulf-AT1.nc does not have any of the variables ['VHM0', 'VAVH', 'WSPD']\n",
      "\n",
      " BO_TS_MO_Flinten7.nc\n",
      "BO_TS_MO_Flinten7.nc does not have any of the variables ['VHM0', 'VAVH', 'WSPD']\n",
      "\n",
      " AR_TS_MO_Oseberg-C.nc\n"
     ]
    },
    {
     "name": "stderr",
     "output_type": "stream",
     "text": [
      " 35%|███▌      | 880/2487 [1:26:41<38:19,  1.43s/it]  "
     ]
    },
    {
     "name": "stdout",
     "output_type": "stream",
     "text": [
      "AR_TS_MO_Oseberg-C.nc does not have any of the variables ['VHM0', 'VAVH', 'WSPD']\n",
      "\n",
      " GL_TS_MO_Guilderton01.nc\n",
      "GL_TS_MO_Guilderton01.nc does not have any valid data for this timeperiod\n",
      "\n",
      " GL_TS_MO_46081.nc\n",
      "POINT(-148.2830047607422 60.801998138427734)\n",
      "48  results found\n"
     ]
    },
    {
     "name": "stderr",
     "output_type": "stream",
     "text": [
      " 35%|███▌      | 882/2487 [1:26:49<56:01,  2.09s/it]"
     ]
    },
    {
     "name": "stdout",
     "output_type": "stream",
     "text": [
      "\n",
      " GL_WS_MO_41046.nc\n",
      "GL_WS_MO_41046.nc does not have any of the variables ['VHM0', 'VAVH', 'WSPD']\n",
      "\n",
      " GL_TS_MO_3100053.nc\n"
     ]
    },
    {
     "name": "stderr",
     "output_type": "stream",
     "text": [
      " 36%|███▌      | 883/2487 [1:26:49<47:12,  1.77s/it]"
     ]
    },
    {
     "name": "stdout",
     "output_type": "stream",
     "text": [
      "GL_TS_MO_3100053.nc does not have any valid data for this timeperiod\n",
      "\n",
      " GL_TS_MO_42013.nc\n",
      "POINT(-82.92400360107422 27.17300033569336)\n"
     ]
    },
    {
     "name": "stderr",
     "output_type": "stream",
     "text": [
      " 36%|███▌      | 884/2487 [1:26:55<1:07:59,  2.54s/it]"
     ]
    },
    {
     "name": "stdout",
     "output_type": "stream",
     "text": [
      "28  results found\n",
      "\n",
      " GL_TS_MO_46735A.nc\n",
      "GL_TS_MO_46735A.nc does not have any valid data for this timeperiod\n",
      "\n",
      " MO_TS_MO_68422.nc\n",
      "POINT(21.606800079345703 36.828800201416016)\n",
      "180  results found\n"
     ]
    },
    {
     "name": "stderr",
     "output_type": "stream",
     "text": [
      " 36%|███▌      | 886/2487 [1:27:04<1:26:32,  3.24s/it]"
     ]
    },
    {
     "name": "stdout",
     "output_type": "stream",
     "text": [
      "\n",
      " GL_TS_MO_23456.nc\n",
      "GL_TS_MO_23456.nc does not have any valid data for this timeperiod\n",
      "\n",
      " GL_TS_MO_55040.nc\n"
     ]
    },
    {
     "name": "stderr",
     "output_type": "stream",
     "text": [
      " 36%|███▌      | 888/2487 [1:27:04<58:58,  2.21s/it]  "
     ]
    },
    {
     "name": "stdout",
     "output_type": "stream",
     "text": [
      "GL_TS_MO_55040.nc does not have any valid data for this timeperiod\n",
      "GL_TS_MO_55040.nc does not have any valid data for this timeperiod\n",
      "\n",
      " GL_TS_MO_6200067.nc\n",
      "POINT(-2.2950000762939453 46.83319854736328)\n",
      "239  results found\n"
     ]
    },
    {
     "name": "stderr",
     "output_type": "stream",
     "text": [
      " 36%|███▌      | 889/2487 [1:27:17<1:54:13,  4.29s/it]"
     ]
    },
    {
     "name": "stdout",
     "output_type": "stream",
     "text": [
      "\n",
      " GL_TS_MO_51210.nc\n",
      "POINT(-157.75599670410156 21.476999282836914)\n",
      "117  results found\n"
     ]
    },
    {
     "name": "stderr",
     "output_type": "stream",
     "text": [
      " 36%|███▌      | 890/2487 [1:27:24<2:12:18,  4.97s/it]"
     ]
    },
    {
     "name": "stdout",
     "output_type": "stream",
     "text": [
      "\n",
      " GL_TS_MO_55024.nc\n",
      "POLYGON((151.4199981689453 -33.77000045776367,151.4199981689453 -33.779998779296875,151.39999389648438 -33.779998779296875,151.39999389648438 -33.77000045776367,151.4199981689453 -33.77000045776367))\n",
      "88  results found\n"
     ]
    },
    {
     "name": "stderr",
     "output_type": "stream",
     "text": [
      " 36%|███▌      | 891/2487 [1:27:56<5:02:27, 11.37s/it]"
     ]
    },
    {
     "name": "stdout",
     "output_type": "stream",
     "text": [
      "\n",
      " GL_TS_MO_46022.nc\n",
      "POINT(-124.5270004272461 40.74800109863281)\n",
      "130  results found\n"
     ]
    },
    {
     "name": "stderr",
     "output_type": "stream",
     "text": [
      " 36%|███▌      | 893/2487 [1:28:20<4:41:55, 10.61s/it]"
     ]
    },
    {
     "name": "stdout",
     "output_type": "stream",
     "text": [
      "\n",
      " GL_TS_MO_46010.nc\n",
      "GL_TS_MO_46010.nc does not have any valid data for this timeperiod\n",
      "GL_TS_MO_46010.nc does not have any valid data for this timeperiod\n",
      "\n",
      " GL_TS_MO_3100219.nc\n",
      "GL_TS_MO_3100219.nc does not have any valid data for this timeperiod\n",
      "GL_TS_MO_3100219.nc does not have any valid data for this timeperiod\n",
      "\n",
      " GL_TS_MO_55037.nc\n",
      "POLYGON((153.5800018310547 -28.18000030517578,153.5800018310547 -28.280000686645508,153.9499969482422 -28.280000686645508,153.9499969482422 -28.18000030517578,153.5800018310547 -28.18000030517578))\n",
      "56  results found\n"
     ]
    },
    {
     "name": "stderr",
     "output_type": "stream",
     "text": [
      " 36%|███▌      | 897/2487 [1:28:57<3:50:53,  8.71s/it]"
     ]
    },
    {
     "name": "stdout",
     "output_type": "stream",
     "text": [
      "\n",
      " GL_TS_MO_41023.nc\n",
      "GL_TS_MO_41023.nc does not have any valid data for this timeperiod\n",
      "GL_TS_MO_41023.nc does not have any valid data for this timeperiod\n",
      "\n",
      " GL_TS_MO_MEDS124.nc\n",
      "GL_TS_MO_MEDS124.nc does not have any valid data for this timeperiod\n",
      "\n",
      " GL_WS_MO_6200001.nc\n",
      "GL_WS_MO_6200001.nc does not have any of the variables ['VHM0', 'VAVH', 'WSPD']\n",
      "\n",
      " GL_TS_MO_T5N140W.nc\n",
      "POINT(-140.0 5.0)\n"
     ]
    },
    {
     "name": "stderr",
     "output_type": "stream",
     "text": [
      " 36%|███▌      | 899/2487 [1:29:11<3:31:58,  8.01s/it]"
     ]
    },
    {
     "name": "stdout",
     "output_type": "stream",
     "text": [
      "0  results found\n",
      "\n",
      " GL_TS_MO_41018.nc\n",
      "GL_TS_MO_41018.nc does not have any valid data for this timeperiod\n",
      "GL_TS_MO_41018.nc does not have any valid data for this timeperiod\n",
      "\n",
      " GL_WS_MO_46011.nc\n"
     ]
    },
    {
     "name": "stderr",
     "output_type": "stream",
     "text": [
      " 36%|███▌      | 901/2487 [1:29:11<2:21:45,  5.36s/it]"
     ]
    },
    {
     "name": "stdout",
     "output_type": "stream",
     "text": [
      "GL_WS_MO_46011.nc does not have any of the variables ['VHM0', 'VAVH', 'WSPD']\n",
      "\n",
      " GL_WS_MO_42054.nc\n",
      "GL_WS_MO_42054.nc does not have any of the variables ['VHM0', 'VAVH', 'WSPD']\n",
      "\n",
      " NO_TS_MO_K13a3.nc\n",
      "POINT(3.2200000286102295 53.217777252197266)\n",
      "216  results found\n"
     ]
    },
    {
     "name": "stderr",
     "output_type": "stream",
     "text": [
      " 36%|███▋      | 905/2487 [1:29:29<1:59:36,  4.54s/it]"
     ]
    },
    {
     "name": "stdout",
     "output_type": "stream",
     "text": [
      "\n",
      " GL_WS_MO_42040.nc\n",
      "GL_WS_MO_42040.nc does not have any of the variables ['VHM0', 'VAVH', 'WSPD']\n",
      "\n",
      " GL_TS_MO_WEL165.nc\n",
      "GL_TS_MO_WEL165.nc does not have any valid data for this timeperiod\n",
      "\n",
      " GL_TS_MO_45158.nc\n"
     ]
    },
    {
     "name": "stderr",
     "output_type": "stream",
     "text": [
      " 36%|███▋      | 907/2487 [1:29:29<1:22:57,  3.15s/it]"
     ]
    },
    {
     "name": "stdout",
     "output_type": "stream",
     "text": [
      "GL_TS_MO_45158.nc does not have any valid data for this timeperiod\n",
      "GL_TS_MO_45158.nc does not have any valid data for this timeperiod\n",
      "\n",
      " GL_TS_MO_45153.nc\n",
      "GL_TS_MO_45153.nc does not have any valid data for this timeperiod\n",
      "GL_TS_MO_45153.nc does not have any valid data for this timeperiod\n",
      "\n",
      " GL_TS_MO_6801033.nc\n",
      "GL_TS_MO_6801033.nc does not have any of the variables ['VHM0', 'VAVH', 'WSPD']\n",
      "\n",
      " GL_TS_MO_41041.nc\n",
      "POLYGON((-46.09299850463867 14.310999870300293,-46.09299850463867 14.45300006866455,-46.32699966430664 14.45300006866455,-46.32699966430664 14.310999870300293,-46.09299850463867 14.310999870300293))\n",
      "2  results found\n"
     ]
    },
    {
     "name": "stderr",
     "output_type": "stream",
     "text": [
      " 37%|███▋      | 911/2487 [1:29:42<1:16:08,  2.90s/it]"
     ]
    },
    {
     "name": "stdout",
     "output_type": "stream",
     "text": [
      "\n",
      " GL_TS_MO_MEDS310.nc\n",
      "GL_TS_MO_MEDS310.nc does not have any valid data for this timeperiod\n",
      "\n",
      " BS_TS_MO_37018.nc\n",
      "BS_TS_MO_37018.nc does not have any valid data for this timeperiod\n",
      "\n",
      " GL_TS_MO_62449.nc\n"
     ]
    },
    {
     "name": "stderr",
     "output_type": "stream",
     "text": [
      " 37%|███▋      | 916/2487 [1:29:43<32:46,  1.25s/it]  "
     ]
    },
    {
     "name": "stdout",
     "output_type": "stream",
     "text": [
      "GL_TS_MO_62449.nc does not have any of the variables ['VHM0', 'VAVH', 'WSPD']\n",
      "\n",
      " GL_TS_MO_MEDS078.nc\n",
      "GL_TS_MO_MEDS078.nc does not have any valid data for this timeperiod\n",
      "\n",
      " GL_TS_MO_42394.nc\n",
      "GL_TS_MO_42394.nc does not have any valid data for this timeperiod\n",
      "\n",
      " NO_TS_MO_IJmondstroompaal2.nc\n",
      "NO_TS_MO_IJmondstroompaal2.nc does not have any of the variables ['VHM0', 'VAVH', 'WSPD']\n",
      "\n",
      " GL_WS_MO_42038.nc\n",
      "GL_WS_MO_42038.nc does not have any of the variables ['VHM0', 'VAVH', 'WSPD']\n",
      "\n",
      " GL_TS_MO_MEDS285.nc\n",
      "GL_TS_MO_MEDS285.nc does not have any valid data for this timeperiod\n",
      "\n",
      " GL_TS_MO_61005.nc\n"
     ]
    },
    {
     "name": "stderr",
     "output_type": "stream",
     "text": [
      " 37%|███▋      | 918/2487 [1:29:43<24:10,  1.08it/s]"
     ]
    },
    {
     "name": "stdout",
     "output_type": "stream",
     "text": [
      "GL_TS_MO_61005.nc does not have any valid data for this timeperiod\n",
      "GL_TS_MO_61005.nc does not have any valid data for this timeperiod\n",
      "\n",
      " NO_TS_MO_Ijmuiden.nc\n",
      "NO_TS_MO_Ijmuiden.nc does not have any of the variables ['VHM0', 'VAVH', 'WSPD']\n",
      "\n",
      " GL_TS_MO_42097.nc\n",
      "POINT(-83.6500015258789 25.701000213623047)\n"
     ]
    },
    {
     "name": "stderr",
     "output_type": "stream",
     "text": [
      " 37%|███▋      | 918/2487 [1:29:55<24:10,  1.08it/s]"
     ]
    },
    {
     "name": "stdout",
     "output_type": "stream",
     "text": [
      "28  results found\n"
     ]
    },
    {
     "name": "stderr",
     "output_type": "stream",
     "text": [
      " 37%|███▋      | 920/2487 [1:29:56<1:06:40,  2.55s/it]"
     ]
    },
    {
     "name": "stdout",
     "output_type": "stream",
     "text": [
      "\n",
      " GL_WS_MO_44150.nc\n",
      "GL_WS_MO_44150.nc does not have any of the variables ['VHM0', 'VAVH', 'WSPD']\n",
      "\n",
      " NO_TS_MO_Deurlo.nc\n",
      "POINT(3.242086887359619 51.50422668457031)\n",
      "233  results found\n"
     ]
    },
    {
     "name": "stderr",
     "output_type": "stream",
     "text": [
      " 37%|███▋      | 923/2487 [1:30:24<2:05:39,  4.82s/it]"
     ]
    },
    {
     "name": "stdout",
     "output_type": "stream",
     "text": [
      "\n",
      " GL_TS_MO_MOVE4.nc\n",
      "GL_TS_MO_MOVE4.nc does not have any of the variables ['VHM0', 'VAVH', 'WSPD']\n",
      "\n",
      " NO_TS_MO_WeymouthMET.nc\n",
      "NO_TS_MO_WeymouthMET.nc does not have any valid data for this timeperiod\n",
      "\n",
      " GL_TS_MO_WEL414.nc\n",
      "GL_TS_MO_WEL414.nc does not have any valid data for this timeperiod\n",
      "\n",
      " IR_TS_MO_Gijon-coast-buoy.nc\n",
      "POLYGON((-5.664000034332275 43.619998931884766,-5.664000034332275 43.6150016784668,-5.659999847412109 43.6150016784668,-5.659999847412109 43.619998931884766,-5.664000034332275 43.619998931884766))\n"
     ]
    },
    {
     "name": "stderr",
     "output_type": "stream",
     "text": [
      " 37%|███▋      | 923/2487 [1:30:35<2:05:39,  4.82s/it]"
     ]
    },
    {
     "name": "stdout",
     "output_type": "stream",
     "text": [
      "237  results found\n"
     ]
    },
    {
     "name": "stderr",
     "output_type": "stream",
     "text": [
      " 37%|███▋      | 926/2487 [1:33:54<14:01:08, 32.33s/it]"
     ]
    },
    {
     "name": "stdout",
     "output_type": "stream",
     "text": [
      "\n",
      " BS_TS_MO_SPOT0773.nc\n",
      "POLYGON((27.90999984741211 42.957698822021484,27.90999984741211 42.959598541259766,27.908100128173828 42.959598541259766,27.908100128173828 42.957698822021484,27.90999984741211 42.957698822021484))\n",
      "177  results found\n"
     ]
    },
    {
     "name": "stderr",
     "output_type": "stream",
     "text": [
      " 37%|███▋      | 927/2487 [1:37:17<26:20:12, 60.78s/it]"
     ]
    },
    {
     "name": "stdout",
     "output_type": "stream",
     "text": [
      "\n",
      " GL_TS_MO_48012.nc\n"
     ]
    },
    {
     "name": "stderr",
     "output_type": "stream",
     "text": [
      " 37%|███▋      | 928/2487 [1:37:18<21:20:32, 49.28s/it]"
     ]
    },
    {
     "name": "stdout",
     "output_type": "stream",
     "text": [
      "GL_TS_MO_48012.nc does not have any valid data for this timeperiod\n",
      "\n",
      " IR_TS_MO_Barcelona-coast-buoy.nc\n",
      "POLYGON((2.200000047683716 41.31999969482422,2.200000047683716 41.325401306152344,2.208699941635132 41.325401306152344,2.208699941635132 41.31999969482422,2.200000047683716 41.31999969482422))\n",
      "178  results found\n"
     ]
    },
    {
     "name": "stderr",
     "output_type": "stream",
     "text": [
      " 37%|███▋      | 930/2487 [1:39:33<22:25:35, 51.85s/it]"
     ]
    },
    {
     "name": "stdout",
     "output_type": "stream",
     "text": [
      "\n",
      " GL_TS_MO_66059.nc\n",
      "GL_TS_MO_66059.nc does not have any valid data for this timeperiod\n",
      "\n",
      " GL_WS_MO_51026.nc\n",
      "GL_WS_MO_51026.nc does not have any of the variables ['VHM0', 'VAVH', 'WSPD']\n",
      "\n",
      " GL_TS_MO_T5S165E.nc\n",
      "POINT(165.0 -5.0)\n"
     ]
    },
    {
     "name": "stderr",
     "output_type": "stream",
     "text": [
      " 38%|███▊      | 934/2487 [1:39:41<8:53:37, 20.62s/it] "
     ]
    },
    {
     "name": "stdout",
     "output_type": "stream",
     "text": [
      "0  results found\n",
      "\n",
      " GL_WS_MO_46060.nc\n",
      "GL_WS_MO_46060.nc does not have any of the variables ['VHM0', 'VAVH', 'WSPD']\n",
      "\n",
      " GL_TS_MO_15005.nc\n",
      "GL_TS_MO_15005.nc does not have any valid data for this timeperiod\n",
      "\n",
      " BO_TS_MO_W26CU.nc\n",
      "BO_TS_MO_W26CU.nc does not have any of the variables ['VHM0', 'VAVH', 'WSPD']\n",
      "\n",
      " GL_TS_MO_44061.nc\n"
     ]
    },
    {
     "name": "stderr",
     "output_type": "stream",
     "text": [
      " 38%|███▊      | 936/2487 [1:39:41<5:51:09, 13.58s/it]"
     ]
    },
    {
     "name": "stdout",
     "output_type": "stream",
     "text": [
      "GL_TS_MO_44061.nc does not have any valid data for this timeperiod\n",
      "\n",
      " GL_TS_MO_41033.nc\n",
      "POINT(-80.40599822998047 32.27899932861328)\n"
     ]
    },
    {
     "name": "stderr",
     "output_type": "stream",
     "text": [
      " 38%|███▊      | 937/2487 [1:39:48<5:16:36, 12.26s/it]"
     ]
    },
    {
     "name": "stdout",
     "output_type": "stream",
     "text": [
      "30  results found\n",
      "\n",
      " GL_TS_MO_MEDS138.nc\n",
      "GL_TS_MO_MEDS138.nc does not have any valid data for this timeperiod\n",
      "\n",
      " NO_TS_MO_6200304.nc\n",
      "POINT(1.7999999523162842 51.10300064086914)\n",
      "176  results found\n"
     ]
    },
    {
     "name": "stderr",
     "output_type": "stream",
     "text": [
      " 38%|███▊      | 939/2487 [1:40:01<4:23:07, 10.20s/it]"
     ]
    },
    {
     "name": "stdout",
     "output_type": "stream",
     "text": [
      "\n",
      " MO_TS_MO_ADN-DWRG2.nc\n",
      "POINT(13.208999633789062 45.699501037597656)\n",
      "225  results found\n"
     ]
    },
    {
     "name": "stderr",
     "output_type": "stream",
     "text": [
      " 38%|███▊      | 940/2487 [1:40:20<5:10:20, 12.04s/it]"
     ]
    },
    {
     "name": "stdout",
     "output_type": "stream",
     "text": [
      "\n",
      " GL_TS_MO_46005.nc\n",
      "POINT(-131.07899475097656 46.13399887084961)\n"
     ]
    },
    {
     "name": "stderr",
     "output_type": "stream",
     "text": [
      " 38%|███▊      | 941/2487 [1:40:24<4:26:18, 10.34s/it]"
     ]
    },
    {
     "name": "stdout",
     "output_type": "stream",
     "text": [
      "0  results found\n",
      "\n",
      " GL_TS_MO_46042.nc\n",
      "POINT(-122.39800262451172 36.78499984741211)\n",
      "154  results found\n"
     ]
    },
    {
     "name": "stderr",
     "output_type": "stream",
     "text": [
      " 38%|███▊      | 942/2487 [1:40:35<4:24:11, 10.26s/it]"
     ]
    },
    {
     "name": "stdout",
     "output_type": "stream",
     "text": [
      "\n",
      " GL_TS_MO_23098.nc\n"
     ]
    },
    {
     "name": "stderr",
     "output_type": "stream",
     "text": [
      " 38%|███▊      | 943/2487 [1:40:35<3:17:19,  7.67s/it]"
     ]
    },
    {
     "name": "stdout",
     "output_type": "stream",
     "text": [
      "GL_TS_MO_23098.nc does not have any valid data for this timeperiod\n",
      "\n",
      " GL_TS_MO_MEDS097.nc\n",
      "GL_TS_MO_MEDS097.nc does not have any valid data for this timeperiod\n",
      "\n",
      " AR_TS_MO_Vaulen-6-13.nc\n",
      "AR_TS_MO_Vaulen-6-13.nc does not have any of the variables ['VHM0', 'VAVH', 'WSPD']\n",
      "\n",
      " GL_TS_MO_2200104.nc\n",
      "POINT(128.89999389648438 34.77000045776367)\n",
      "86  results found\n"
     ]
    },
    {
     "name": "stderr",
     "output_type": "stream",
     "text": [
      " 38%|███▊      | 947/2487 [1:40:45<1:53:38,  4.43s/it]"
     ]
    },
    {
     "name": "stdout",
     "output_type": "stream",
     "text": [
      "\n",
      " GL_TS_MO_46030.nc\n",
      "GL_TS_MO_46030.nc does not have any valid data for this timeperiod\n",
      "GL_TS_MO_46030.nc does not have any valid data for this timeperiod\n",
      "\n",
      " GL_TS_MO_MEDS318.nc\n",
      "GL_TS_MO_MEDS318.nc does not have any valid data for this timeperiod\n",
      "\n",
      " GL_TS_MO_42360.nc\n",
      "POINT(-90.45899963378906 26.68899917602539)\n",
      "60  results found\n"
     ]
    },
    {
     "name": "stderr",
     "output_type": "stream",
     "text": [
      " 38%|███▊      | 949/2487 [1:40:57<2:04:24,  4.85s/it]"
     ]
    },
    {
     "name": "stdout",
     "output_type": "stream",
     "text": [
      "\n",
      " GL_TS_MO_55019.nc\n",
      "POINT(152.85000610351562 -31.81999969482422)\n",
      "31  results found\n"
     ]
    },
    {
     "name": "stderr",
     "output_type": "stream",
     "text": [
      " 38%|███▊      | 951/2487 [1:41:03<1:41:06,  3.95s/it]"
     ]
    },
    {
     "name": "stdout",
     "output_type": "stream",
     "text": [
      "\n",
      " GL_WS_MO_44008.nc\n",
      "GL_WS_MO_44008.nc does not have any of the variables ['VHM0', 'VAVH', 'WSPD']\n",
      "\n",
      " GL_TS_MO_T2S125W.nc\n",
      "POINT(-125.0 -2.0)\n"
     ]
    },
    {
     "name": "stderr",
     "output_type": "stream",
     "text": [
      " 38%|███▊      | 953/2487 [1:41:09<1:27:43,  3.43s/it]"
     ]
    },
    {
     "name": "stdout",
     "output_type": "stream",
     "text": [
      "0  results found\n",
      "\n",
      " GL_TS_MO_43010.nc\n",
      "GL_TS_MO_43010.nc does not have any valid data for this timeperiod\n",
      "\n",
      " MO_TS_MO_6101022.nc\n",
      "MO_TS_MO_6101022.nc does not have any of the variables ['VHM0', 'VAVH', 'WSPD']\n",
      "\n",
      " BO_TS_MO_Oskarsgrundet.nc\n"
     ]
    },
    {
     "name": "stderr",
     "output_type": "stream",
     "text": [
      " 38%|███▊      | 955/2487 [1:41:10<51:00,  2.00s/it]  "
     ]
    },
    {
     "name": "stdout",
     "output_type": "stream",
     "text": [
      "BO_TS_MO_Oskarsgrundet.nc does not have any valid data for this timeperiod\n",
      "\n",
      " GL_WS_MO_46274.nc\n",
      "GL_WS_MO_46274.nc does not have any of the variables ['VHM0', 'VAVH', 'WSPD']\n",
      "\n",
      " NO_TS_MO_IJmuidenMunitiestort2.nc\n",
      "POINT(4.058332920074463 52.54999923706055)\n",
      "177  results found\n"
     ]
    },
    {
     "name": "stderr",
     "output_type": "stream",
     "text": [
      " 39%|███▊      | 958/2487 [1:41:24<1:18:37,  3.09s/it]"
     ]
    },
    {
     "name": "stdout",
     "output_type": "stream",
     "text": [
      "\n",
      " GL_WS_MO_42007.nc\n",
      "GL_WS_MO_42007.nc does not have any of the variables ['VHM0', 'VAVH', 'WSPD']\n",
      "\n",
      " NO_TS_MO_HoofdplaatMeetpaal2.nc\n"
     ]
    },
    {
     "name": "stderr",
     "output_type": "stream",
     "text": [
      " 39%|███▊      | 959/2487 [1:41:24<1:00:54,  2.39s/it]"
     ]
    },
    {
     "name": "stdout",
     "output_type": "stream",
     "text": [
      "NO_TS_MO_HoofdplaatMeetpaal2.nc does not have any valid data for this timeperiod\n",
      "NO_TS_MO_HoofdplaatMeetpaal2.nc does not have any valid data for this timeperiod\n",
      "\n",
      " GL_TS_MO_Guilderton02.nc\n",
      "GL_TS_MO_Guilderton02.nc does not have any valid data for this timeperiod\n",
      "\n",
      " NO_TS_MO_StortemelkOost.nc\n",
      "POINT(5.102499961853027 53.3223991394043)\n",
      "236  results found\n"
     ]
    },
    {
     "name": "stderr",
     "output_type": "stream",
     "text": [
      " 39%|███▊      | 963/2487 [1:41:41<1:19:51,  3.14s/it]"
     ]
    },
    {
     "name": "stdout",
     "output_type": "stream",
     "text": [
      "\n",
      " GL_TS_MO_5201690.nc\n",
      "GL_TS_MO_5201690.nc does not have any of the variables ['VHM0', 'VAVH', 'WSPD']\n",
      "\n",
      " GL_TS_MO_MEDS175.nc\n",
      "GL_TS_MO_MEDS175.nc does not have any valid data for this timeperiod\n",
      "\n",
      " GL_TS_MO_23503.nc\n",
      "GL_TS_MO_23503.nc does not have any of the variables ['VHM0', 'VAVH', 'WSPD']\n",
      "\n",
      " GL_TS_MO_WEL413.nc\n"
     ]
    },
    {
     "name": "stderr",
     "output_type": "stream",
     "text": [
      " 39%|███▉      | 966/2487 [1:41:41<45:16,  1.79s/it]  "
     ]
    },
    {
     "name": "stdout",
     "output_type": "stream",
     "text": [
      "GL_TS_MO_WEL413.nc does not have any valid data for this timeperiod\n",
      "\n",
      " GL_TS_MO_MEDS167.nc\n",
      "GL_TS_MO_MEDS167.nc does not have any valid data for this timeperiod\n",
      "\n",
      " NO_TS_MO_OverloopVanValkenisse.nc\n",
      "NO_TS_MO_OverloopVanValkenisse.nc is too close to land\n",
      "\n",
      " GL_TS_MO_MEDS334.nc\n"
     ]
    },
    {
     "name": "stderr",
     "output_type": "stream",
     "text": [
      " 39%|███▉      | 968/2487 [1:41:42<32:39,  1.29s/it]"
     ]
    },
    {
     "name": "stdout",
     "output_type": "stream",
     "text": [
      "GL_TS_MO_MEDS334.nc does not have any valid data for this timeperiod\n",
      "\n",
      " GL_TS_MO_46259.nc\n",
      "POINT(-121.49800109863281 34.766998291015625)\n",
      "119  results found\n"
     ]
    },
    {
     "name": "stderr",
     "output_type": "stream",
     "text": [
      " 39%|███▉      | 970/2487 [1:41:50<52:39,  2.08s/it]"
     ]
    },
    {
     "name": "stdout",
     "output_type": "stream",
     "text": [
      "\n",
      " GL_TS_MO_61015.nc\n",
      "GL_TS_MO_61015.nc does not have any of the variables ['VHM0', 'VAVH', 'WSPD']\n",
      "\n",
      " GL_TS_MO_52083.nc\n"
     ]
    },
    {
     "name": "stderr",
     "output_type": "stream",
     "text": [
      " 39%|███▉      | 971/2487 [1:41:50<44:26,  1.76s/it]"
     ]
    },
    {
     "name": "stdout",
     "output_type": "stream",
     "text": [
      "GL_TS_MO_52083.nc does not have any valid data for this timeperiod\n",
      "\n",
      " GL_WS_MO_6100191.nc\n",
      "GL_WS_MO_6100191.nc does not have any of the variables ['VHM0', 'VAVH', 'WSPD']\n",
      "\n",
      " GL_TS_MO_28401.nc\n"
     ]
    },
    {
     "name": "stderr",
     "output_type": "stream",
     "text": [
      " 39%|███▉      | 974/2487 [1:41:50<25:27,  1.01s/it]"
     ]
    },
    {
     "name": "stdout",
     "output_type": "stream",
     "text": [
      "GL_TS_MO_28401.nc does not have any valid data for this timeperiod\n",
      "\n",
      " NO_TS_MO_6201047.nc\n",
      "NO_TS_MO_6201047.nc does not have any valid data for this timeperiod\n",
      "\n",
      " GL_WS_MO_46026.nc\n",
      "GL_WS_MO_46026.nc does not have any of the variables ['VHM0', 'VAVH', 'WSPD']\n",
      "\n",
      " GL_TS_MO_41058.nc\n"
     ]
    },
    {
     "name": "stderr",
     "output_type": "stream",
     "text": [
      " 39%|███▉      | 979/2487 [1:41:50<10:12,  2.46it/s]"
     ]
    },
    {
     "name": "stdout",
     "output_type": "stream",
     "text": [
      "GL_TS_MO_41058.nc does not have any valid data for this timeperiod\n",
      "GL_TS_MO_41058.nc does not have any valid data for this timeperiod\n",
      "\n",
      " GL_TS_MO_Oakagee02.nc\n",
      "GL_TS_MO_Oakagee02.nc does not have any valid data for this timeperiod\n",
      "\n",
      " GL_TS_MO_MEDS098.nc\n",
      "GL_TS_MO_MEDS098.nc does not have any valid data for this timeperiod\n",
      "\n",
      " BS_TS_MO_99041.nc\n",
      "BS_TS_MO_99041.nc does not have any of the variables ['VHM0', 'VAVH', 'WSPD']\n",
      "\n",
      " GL_TS_MO_23094.nc\n",
      "GL_TS_MO_23094.nc does not have any valid data for this timeperiod\n",
      "\n",
      " GL_TS_MO_44027.nc\n",
      "POINT(-67.30000305175781 44.28300094604492)\n",
      "124  results found\n"
     ]
    },
    {
     "name": "stderr",
     "output_type": "stream",
     "text": [
      " 39%|███▉      | 981/2487 [1:41:59<39:48,  1.59s/it]"
     ]
    },
    {
     "name": "stdout",
     "output_type": "stream",
     "text": [
      "\n",
      " MO_TS_MO_MYKON.nc\n",
      "POINT(25.459699630737305 37.51940155029297)\n",
      "120  results found\n"
     ]
    },
    {
     "name": "stderr",
     "output_type": "stream",
     "text": [
      " 40%|███▉      | 984/2487 [1:42:09<50:10,  2.00s/it]  "
     ]
    },
    {
     "name": "stdout",
     "output_type": "stream",
     "text": [
      "\n",
      " GL_WS_MO_42012.nc\n",
      "GL_WS_MO_42012.nc does not have any of the variables ['VHM0', 'VAVH', 'WSPD']\n",
      "\n",
      " AR_TS_MO_Pollen-28-59.nc\n",
      "AR_TS_MO_Pollen-28-59.nc does not have any of the variables ['VHM0', 'VAVH', 'WSPD']\n",
      "\n",
      " GL_TS_MO_41011.nc\n",
      "GL_TS_MO_41011.nc does not have any valid data for this timeperiod\n",
      "GL_TS_MO_41011.nc does not have any valid data for this timeperiod\n",
      "\n",
      " GL_TS_MO_46269.nc\n",
      "POINT(-122.03399658203125 36.933998107910156)\n",
      "154  results found\n"
     ]
    },
    {
     "name": "stderr",
     "output_type": "stream",
     "text": [
      " 40%|███▉      | 986/2487 [1:42:18<1:11:38,  2.86s/it]"
     ]
    },
    {
     "name": "stdout",
     "output_type": "stream",
     "text": [
      "\n",
      " NO_TS_MO_6300110.nc\n",
      "POINT(1.5 59.5)\n",
      "268  results found\n"
     ]
    },
    {
     "name": "stderr",
     "output_type": "stream",
     "text": [
      " 40%|███▉      | 989/2487 [1:42:37<1:33:40,  3.75s/it]"
     ]
    },
    {
     "name": "stdout",
     "output_type": "stream",
     "text": [
      "\n",
      " GL_TS_MO_4600132.nc\n",
      "GL_TS_MO_4600132.nc does not have any valid data for this timeperiod\n",
      "\n",
      " GL_TS_MO_WEL409.nc\n",
      "GL_TS_MO_WEL409.nc does not have any valid data for this timeperiod\n",
      "\n",
      " NO_TS_MO_LooeBayMET.nc\n"
     ]
    },
    {
     "name": "stderr",
     "output_type": "stream",
     "text": [
      " 40%|███▉      | 992/2487 [1:42:37<54:03,  2.17s/it]  "
     ]
    },
    {
     "name": "stdout",
     "output_type": "stream",
     "text": [
      "NO_TS_MO_LooeBayMET.nc does not have any valid data for this timeperiod\n",
      "\n",
      " GL_TS_MO_13009.nc\n",
      "GL_TS_MO_13009.nc does not have any valid data for this timeperiod\n",
      "\n",
      " NO_TS_MO_HappisburghMET.nc\n",
      "NO_TS_MO_HappisburghMET.nc does not have any valid data for this timeperiod\n",
      "\n",
      " BO_TS_MO_Havstensfjord.nc\n",
      "BO_TS_MO_Havstensfjord.nc does not have any valid data for this timeperiod\n",
      "\n",
      " GL_TS_MO_MEDS017.nc\n",
      "GL_TS_MO_MEDS017.nc does not have any valid data for this timeperiod\n",
      "\n",
      " GL_TS_MO_MEDS136.nc\n"
     ]
    },
    {
     "name": "stderr",
     "output_type": "stream",
     "text": [
      " 40%|████      | 997/2487 [1:42:37<25:21,  1.02s/it]"
     ]
    },
    {
     "name": "stdout",
     "output_type": "stream",
     "text": [
      "GL_TS_MO_MEDS136.nc does not have any valid data for this timeperiod\n",
      "\n",
      " GL_TS_MO_MEDS042.nc\n",
      "GL_TS_MO_MEDS042.nc does not have any valid data for this timeperiod\n",
      "\n",
      " GL_TS_MO_6200058.nc\n",
      "GL_TS_MO_6200058.nc does not have any valid data for this timeperiod\n",
      "GL_TS_MO_6200058.nc does not have any valid data for this timeperiod\n",
      "\n",
      " GL_TS_MO_46020.nc\n",
      "GL_TS_MO_46020.nc does not have any valid data for this timeperiod\n",
      "\n",
      " AR_TS_MO_Statfjord-B.nc\n"
     ]
    },
    {
     "name": "stderr",
     "output_type": "stream",
     "text": [
      " 40%|████      | 999/2487 [1:42:37<18:46,  1.32it/s]"
     ]
    },
    {
     "name": "stdout",
     "output_type": "stream",
     "text": [
      "AR_TS_MO_Statfjord-B.nc does not have any valid data for this timeperiod\n",
      "\n",
      " BO_TS_MO_Ostergarn.nc\n",
      "BO_TS_MO_Ostergarn.nc does not have any valid data for this timeperiod\n",
      "\n",
      " GL_TS_MO_45175.nc\n"
     ]
    },
    {
     "name": "stderr",
     "output_type": "stream",
     "text": [
      " 40%|████      | 1004/2487 [1:42:38<09:20,  2.65it/s]"
     ]
    },
    {
     "name": "stdout",
     "output_type": "stream",
     "text": [
      "GL_TS_MO_45175.nc is too close to land\n",
      "\n",
      " GL_TS_MO_IF000548.nc\n",
      "GL_TS_MO_IF000548.nc does not have any of the variables ['VHM0', 'VAVH', 'WSPD']\n",
      "\n",
      " NO_TS_MO_ElbeUFS.nc\n",
      "NO_TS_MO_ElbeUFS.nc does not have any of the variables ['VHM0', 'VAVH', 'WSPD']\n",
      "\n",
      " GL_TS_MO_23101.nc\n",
      "GL_TS_MO_23101.nc does not have any valid data for this timeperiod\n",
      "\n",
      " GL_TS_MO_41035.nc\n"
     ]
    },
    {
     "name": "stderr",
     "output_type": "stream",
     "text": [
      " 41%|████      | 1009/2487 [1:42:38<04:59,  4.93it/s]"
     ]
    },
    {
     "name": "stdout",
     "output_type": "stream",
     "text": [
      "GL_TS_MO_41035.nc does not have any valid data for this timeperiod\n",
      "GL_TS_MO_41035.nc does not have any valid data for this timeperiod\n",
      "\n",
      " GL_WS_MO_44085.nc\n",
      "GL_WS_MO_44085.nc does not have any of the variables ['VHM0', 'VAVH', 'WSPD']\n",
      "\n",
      " NO_TS_MO_IJmondstroompaal.nc\n",
      "NO_TS_MO_IJmondstroompaal.nc does not have any of the variables ['VHM0', 'VAVH', 'WSPD']\n",
      "\n",
      " GL_TS_MO_WEL327.nc\n",
      "GL_TS_MO_WEL327.nc does not have any valid data for this timeperiod\n",
      "\n",
      " GL_TS_MO_MEDS084.nc\n",
      "GL_TS_MO_MEDS084.nc does not have any valid data for this timeperiod\n",
      "\n",
      " GL_TS_MO_MEDS085.nc\n",
      "GL_TS_MO_MEDS085.nc does not have any valid data for this timeperiod\n",
      "\n",
      " GL_WS_MO_46089.nc\n"
     ]
    },
    {
     "name": "stderr",
     "output_type": "stream",
     "text": [
      " 41%|████      | 1013/2487 [1:42:38<03:23,  7.24it/s]"
     ]
    },
    {
     "name": "stdout",
     "output_type": "stream",
     "text": [
      "GL_WS_MO_46089.nc does not have any of the variables ['VHM0', 'VAVH', 'WSPD']\n",
      "\n",
      " GL_TS_MO_WEL436.nc\n",
      "GL_TS_MO_WEL436.nc does not have any valid data for this timeperiod\n",
      "\n",
      " BS_TS_MO_37004.nc\n",
      "BS_TS_MO_37004.nc does not have any valid data for this timeperiod\n",
      "\n",
      " BO_TS_MO_BothnianBay.nc\n",
      "POINT(23.239200592041016 64.68419647216797)\n",
      "381  results found\n"
     ]
    },
    {
     "name": "stderr",
     "output_type": "stream",
     "text": [
      " 41%|████      | 1015/2487 [1:42:51<45:11,  1.84s/it]"
     ]
    },
    {
     "name": "stdout",
     "output_type": "stream",
     "text": [
      "\n",
      " GL_TS_MO_52084.nc\n",
      "GL_TS_MO_52084.nc does not have any valid data for this timeperiod\n",
      "\n",
      " GL_TS_MO_42035.nc\n",
      "POINT(-94.42900085449219 29.21500015258789)\n",
      "29  results found\n"
     ]
    },
    {
     "name": "stderr",
     "output_type": "stream",
     "text": [
      " 41%|████      | 1016/2487 [1:42:57<1:04:27,  2.63s/it]"
     ]
    },
    {
     "name": "stdout",
     "output_type": "stream",
     "text": [
      "\n",
      " NO_TS_MO_Brouwershavensegat.nc\n",
      "POINT(3.617302894592285 51.7685661315918)\n",
      "176  results found\n"
     ]
    },
    {
     "name": "stderr",
     "output_type": "stream",
     "text": [
      " 41%|████      | 1018/2487 [1:43:06<1:17:40,  3.17s/it]"
     ]
    },
    {
     "name": "stdout",
     "output_type": "stream",
     "text": [
      "\n",
      " MO_TS_MO_SANTO.nc\n",
      "MO_TS_MO_SANTO.nc does not have any valid data for this timeperiod\n",
      "MO_TS_MO_SANTO.nc does not have any valid data for this timeperiod\n",
      "\n",
      " GL_TS_MO_MEDS131.nc\n",
      "GL_TS_MO_MEDS131.nc does not have any valid data for this timeperiod\n",
      "\n",
      " GL_TS_MO_44064.nc\n"
     ]
    },
    {
     "name": "stderr",
     "output_type": "stream",
     "text": [
      " 41%|████      | 1023/2487 [1:43:06<32:37,  1.34s/it]  "
     ]
    },
    {
     "name": "stdout",
     "output_type": "stream",
     "text": [
      "GL_TS_MO_44064.nc does not have any valid data for this timeperiod\n",
      "GL_TS_MO_44064.nc does not have any valid data for this timeperiod\n",
      "\n",
      " GL_WS_MO_1400015.nc\n",
      "GL_WS_MO_1400015.nc does not have any of the variables ['VHM0', 'VAVH', 'WSPD']\n",
      "\n",
      " MO_TS_MO_CROTONE-61210.nc\n",
      "MO_TS_MO_CROTONE-61210.nc does not have any valid data for this timeperiod\n",
      "\n",
      " GL_TS_MO_42090.nc\n",
      "GL_TS_MO_42090.nc does not have any valid data for this timeperiod\n",
      "\n",
      " GL_TS_MO_41100.nc\n"
     ]
    },
    {
     "name": "stderr",
     "output_type": "stream",
     "text": [
      " 41%|████▏     | 1027/2487 [1:43:07<17:29,  1.39it/s]"
     ]
    },
    {
     "name": "stdout",
     "output_type": "stream",
     "text": [
      "GL_TS_MO_41100.nc does not have any valid data for this timeperiod\n",
      "\n",
      " AR_TS_MO_Fastland-32-75.nc\n",
      "AR_TS_MO_Fastland-32-75.nc does not have any of the variables ['VHM0', 'VAVH', 'WSPD']\n",
      "\n",
      " AR_TS_MO_Geilo-Badestrand-64-139.nc\n",
      "AR_TS_MO_Geilo-Badestrand-64-139.nc does not have any of the variables ['VHM0', 'VAVH', 'WSPD']\n",
      "\n",
      " GL_TS_MO_44031.nc\n",
      "GL_TS_MO_44031.nc does not have any valid data for this timeperiod\n",
      "GL_TS_MO_44031.nc does not have any valid data for this timeperiod\n",
      "\n",
      " MO_TS_MO_SON-BLANC.nc\n",
      "MO_TS_MO_SON-BLANC.nc does not have any valid data for this timeperiod\n",
      "\n",
      " GL_TS_MO_4400139.nc\n"
     ]
    },
    {
     "name": "stderr",
     "output_type": "stream",
     "text": [
      " 41%|████▏     | 1032/2487 [1:43:07<08:43,  2.78it/s]"
     ]
    },
    {
     "name": "stdout",
     "output_type": "stream",
     "text": [
      "GL_TS_MO_4400139.nc does not have any of the variables ['VHM0', 'VAVH', 'WSPD']\n",
      "\n",
      " GL_TS_MO_46040.nc\n",
      "GL_TS_MO_46040.nc does not have any valid data for this timeperiod\n",
      "GL_TS_MO_46040.nc does not have any valid data for this timeperiod\n",
      "\n",
      " GL_TS_MO_46112.nc\n",
      "GL_TS_MO_46112.nc does not have any valid data for this timeperiod\n",
      "\n",
      " GL_TS_MO_42044.nc\n",
      "GL_TS_MO_42044.nc does not have any valid data for this timeperiod\n",
      "\n",
      " GL_TS_MO_42089.nc\n"
     ]
    },
    {
     "name": "stderr",
     "output_type": "stream",
     "text": [
      " 42%|████▏     | 1034/2487 [1:43:07<06:51,  3.53it/s]"
     ]
    },
    {
     "name": "stdout",
     "output_type": "stream",
     "text": [
      "GL_TS_MO_42089.nc does not have any valid data for this timeperiod\n",
      "\n",
      " BO_TS_MO_OlandsSodraGrund.nc\n",
      "BO_TS_MO_OlandsSodraGrund.nc does not have any valid data for this timeperiod\n",
      "BO_TS_MO_OlandsSodraGrund.nc does not have any valid data for this timeperiod\n",
      "\n",
      " GL_WS_MO_41035.nc\n",
      "GL_WS_MO_41035.nc does not have any of the variables ['VHM0', 'VAVH', 'WSPD']\n",
      "\n",
      " GL_TS_MO_6100295.nc\n",
      "POINT(9.64330005645752 42.26169967651367)\n",
      "180  results found\n"
     ]
    },
    {
     "name": "stderr",
     "output_type": "stream",
     "text": [
      " 42%|████▏     | 1036/2487 [1:43:19<44:29,  1.84s/it]"
     ]
    },
    {
     "name": "stdout",
     "output_type": "stream",
     "text": [
      "\n",
      " GL_TS_MO_46083.nc\n",
      "POINT(-138.0189971923828 58.27000045776367)\n",
      "55  results found\n"
     ]
    },
    {
     "name": "stderr",
     "output_type": "stream",
     "text": [
      " 42%|████▏     | 1037/2487 [1:43:26<1:05:26,  2.71s/it]"
     ]
    },
    {
     "name": "stdout",
     "output_type": "stream",
     "text": [
      "\n",
      " GL_TS_MO_T5N165E.nc\n",
      "POINT(165.0 5.0)\n"
     ]
    },
    {
     "name": "stderr",
     "output_type": "stream",
     "text": [
      " 42%|████▏     | 1039/2487 [1:43:32<1:09:03,  2.86s/it]"
     ]
    },
    {
     "name": "stdout",
     "output_type": "stream",
     "text": [
      "0  results found\n",
      "\n",
      " GL_WS_MO_46080.nc\n",
      "GL_WS_MO_46080.nc does not have any of the variables ['VHM0', 'VAVH', 'WSPD']\n",
      "\n",
      " NO_TS_MO_6200042.nc\n",
      "NO_TS_MO_6200042.nc does not have any valid data for this timeperiod\n",
      "\n",
      " AR_TS_MO_Grindafjord-feriesenter-3-104.nc\n",
      "AR_TS_MO_Grindafjord-feriesenter-3-104.nc does not have any of the variables ['VHM0', 'VAVH', 'WSPD']\n",
      "\n",
      " GL_TS_MO_41115.nc\n",
      "POINT(-67.27999877929688 18.375999450683594)\n",
      "53  results found\n"
     ]
    },
    {
     "name": "stderr",
     "output_type": "stream",
     "text": [
      " 42%|████▏     | 1042/2487 [1:43:41<1:08:47,  2.86s/it]"
     ]
    },
    {
     "name": "stdout",
     "output_type": "stream",
     "text": [
      "\n",
      " GL_TS_MO_55057.nc\n",
      "GL_TS_MO_55057.nc does not have any valid data for this timeperiod\n",
      "\n",
      " GL_TS_MO_Smile.nc\n",
      "POINT(-0.3073999881744385 49.34379959106445)\n",
      "236  results found\n"
     ]
    },
    {
     "name": "stderr",
     "output_type": "stream",
     "text": [
      " 42%|████▏     | 1046/2487 [1:43:53<1:05:18,  2.72s/it]"
     ]
    },
    {
     "name": "stdout",
     "output_type": "stream",
     "text": [
      "\n",
      " GL_TS_MO_MEDS194.nc\n",
      "GL_TS_MO_MEDS194.nc does not have any valid data for this timeperiod\n",
      "\n",
      " GL_TS_MO_Albany04.nc\n",
      "GL_TS_MO_Albany04.nc does not have any valid data for this timeperiod\n",
      "\n",
      " GL_TS_MO_WEL427.nc\n",
      "GL_TS_MO_WEL427.nc does not have any valid data for this timeperiod\n",
      "\n",
      " GL_TS_MO_46082.nc\n",
      "POINT(-143.3719940185547 59.680999755859375)\n",
      "60  results found\n"
     ]
    },
    {
     "name": "stderr",
     "output_type": "stream",
     "text": [
      " 42%|████▏     | 1048/2487 [1:44:02<1:16:13,  3.18s/it]"
     ]
    },
    {
     "name": "stdout",
     "output_type": "stream",
     "text": [
      "\n",
      " GL_TS_MO_44022.nc\n",
      "POINT(-73.72799682617188 40.882999420166016)\n"
     ]
    },
    {
     "name": "stderr",
     "output_type": "stream",
     "text": [
      " 42%|████▏     | 1049/2487 [1:44:09<1:32:03,  3.84s/it]"
     ]
    },
    {
     "name": "stdout",
     "output_type": "stream",
     "text": [
      "30  results found\n",
      "\n",
      " GL_WS_MO_46059.nc\n"
     ]
    },
    {
     "name": "stderr",
     "output_type": "stream",
     "text": [
      " 42%|████▏     | 1050/2487 [1:44:09<1:14:35,  3.11s/it]"
     ]
    },
    {
     "name": "stdout",
     "output_type": "stream",
     "text": [
      "GL_WS_MO_46059.nc does not have any of the variables ['VHM0', 'VAVH', 'WSPD']\n",
      "\n",
      " GL_TS_MO_46011.nc\n",
      "POINT(-121.01899719238281 34.95600128173828)\n",
      "236  results found\n"
     ]
    },
    {
     "name": "stderr",
     "output_type": "stream",
     "text": [
      " 42%|████▏     | 1051/2487 [1:44:25<2:23:41,  6.00s/it]"
     ]
    },
    {
     "name": "stdout",
     "output_type": "stream",
     "text": [
      "\n",
      " GL_TS_MO_62073.nc\n",
      "GL_TS_MO_62073.nc does not have any valid data for this timeperiod\n",
      "GL_TS_MO_62073.nc does not have any valid data for this timeperiod\n",
      "\n",
      " GL_TS_MO_T5N110W.nc\n",
      "POINT(-110.0 5.0)\n"
     ]
    },
    {
     "name": "stderr",
     "output_type": "stream",
     "text": [
      " 42%|████▏     | 1054/2487 [1:44:35<1:46:47,  4.47s/it]"
     ]
    },
    {
     "name": "stdout",
     "output_type": "stream",
     "text": [
      "0  results found\n",
      "\n",
      " GL_TS_MO_62448.nc\n",
      "GL_TS_MO_62448.nc does not have any of the variables ['VHM0', 'VAVH', 'WSPD']\n",
      "\n",
      " GL_TS_MO_46213.nc\n",
      "POINT(-124.73200225830078 40.29499816894531)\n",
      "71  results found\n"
     ]
    },
    {
     "name": "stderr",
     "output_type": "stream",
     "text": [
      " 42%|████▏     | 1056/2487 [1:44:44<1:36:57,  4.07s/it]"
     ]
    },
    {
     "name": "stdout",
     "output_type": "stream",
     "text": [
      "\n",
      " GL_WS_MO_51003.nc\n",
      "GL_WS_MO_51003.nc does not have any of the variables ['VHM0', 'VAVH', 'WSPD']\n",
      "\n",
      " GL_TS_MO_45019.nc\n",
      "GL_TS_MO_45019.nc does not have any valid data for this timeperiod\n",
      "\n",
      " IR_TS_MO_6100417.nc\n",
      "POLYGON((-0.32350000739097595 37.661598205566406,-0.32350000739097595 37.63090133666992,-0.29789999127388 37.63090133666992,-0.29789999127388 37.661598205566406,-0.32350000739097595 37.661598205566406))\n",
      "239  results found\n"
     ]
    },
    {
     "name": "stderr",
     "output_type": "stream",
     "text": [
      " 43%|████▎     | 1060/2487 [1:48:10<11:15:56, 28.42s/it]"
     ]
    },
    {
     "name": "stdout",
     "output_type": "stream",
     "text": [
      "\n",
      " GL_TS_MO_MEDS127.nc\n",
      "GL_TS_MO_MEDS127.nc does not have any valid data for this timeperiod\n",
      "\n",
      " BO_TS_MO_Havringe.nc\n",
      "BO_TS_MO_Havringe.nc does not have any valid data for this timeperiod\n",
      "\n",
      " GL_TS_MO_MEDS015.nc\n",
      "GL_TS_MO_MEDS015.nc does not have any valid data for this timeperiod\n",
      "\n",
      " GL_TS_MO_44053.nc\n"
     ]
    },
    {
     "name": "stderr",
     "output_type": "stream",
     "text": [
      " 43%|████▎     | 1063/2487 [1:48:10<6:14:46, 15.79s/it] "
     ]
    },
    {
     "name": "stdout",
     "output_type": "stream",
     "text": [
      "GL_TS_MO_44053.nc does not have any valid data for this timeperiod\n",
      "GL_TS_MO_44053.nc does not have any valid data for this timeperiod\n",
      "\n",
      " AR_TS_MO_Toke-Brygge-30-81.nc\n",
      "AR_TS_MO_Toke-Brygge-30-81.nc does not have any of the variables ['VHM0', 'VAVH', 'WSPD']\n",
      "\n",
      " GL_TS_MO_45001.nc\n"
     ]
    },
    {
     "name": "stderr",
     "output_type": "stream",
     "text": [
      " 43%|████▎     | 1067/2487 [1:48:10<3:05:08,  7.82s/it]"
     ]
    },
    {
     "name": "stdout",
     "output_type": "stream",
     "text": [
      "GL_TS_MO_45001.nc is too close to land\n",
      "\n",
      " GL_WS_MO_45149.nc\n",
      "GL_WS_MO_45149.nc does not have any of the variables ['VHM0', 'VAVH', 'WSPD']\n",
      "\n",
      " GL_TS_MO_IF000256.nc\n",
      "GL_TS_MO_IF000256.nc does not have any of the variables ['VHM0', 'VAVH', 'WSPD']\n",
      "\n",
      " GL_WS_MO_4100135.nc\n",
      "GL_WS_MO_4100135.nc does not have any of the variables ['VHM0', 'VAVH', 'WSPD']\n",
      "\n",
      " AR_TS_MO_Nesvik-37-90.nc\n"
     ]
    },
    {
     "name": "stderr",
     "output_type": "stream",
     "text": [
      " 43%|████▎     | 1069/2487 [1:48:10<2:10:00,  5.50s/it]"
     ]
    },
    {
     "name": "stdout",
     "output_type": "stream",
     "text": [
      "AR_TS_MO_Nesvik-37-90.nc does not have any of the variables ['VHM0', 'VAVH', 'WSPD']\n",
      "\n",
      " GL_TS_MO_71237.nc\n",
      "GL_TS_MO_71237.nc does not have any of the variables ['VHM0', 'VAVH', 'WSPD']\n",
      "\n",
      " NO_TS_MO_Oseberg-A.nc\n",
      "POINT(2.825700044631958 60.49129867553711)\n",
      "354  results found\n"
     ]
    },
    {
     "name": "stderr",
     "output_type": "stream",
     "text": [
      " 43%|████▎     | 1072/2487 [1:48:28<2:00:43,  5.12s/it]"
     ]
    },
    {
     "name": "stdout",
     "output_type": "stream",
     "text": [
      "\n",
      " GL_TS_MO_BremerBay01.nc\n",
      "GL_TS_MO_BremerBay01.nc does not have any valid data for this timeperiod\n",
      "\n",
      " GL_TS_MO_MOVE5.nc\n",
      "GL_TS_MO_MOVE5.nc does not have any of the variables ['VHM0', 'VAVH', 'WSPD']\n",
      "\n",
      " GL_TS_MO_2200186.nc\n",
      "POINT(125.80999755859375 35.65999984741211)\n",
      "31  results found\n",
      "\n",
      " GL_TS_MO_46035.nc\n",
      "POINT(-177.7030029296875 57.01599884033203)\n",
      "44  results found\n"
     ]
    },
    {
     "name": "stderr",
     "output_type": "stream",
     "text": [
      " 43%|████▎     | 1074/2487 [1:48:41<2:09:47,  5.51s/it]"
     ]
    },
    {
     "name": "stdout",
     "output_type": "stream",
     "text": [
      "\n",
      " MO_TS_MO_OBSEA.nc\n",
      "POINT(1.7525700330734253 41.18212127685547)\n",
      "238  results found\n"
     ]
    },
    {
     "name": "stderr",
     "output_type": "stream",
     "text": [
      " 43%|████▎     | 1077/2487 [1:48:51<1:38:03,  4.17s/it]"
     ]
    },
    {
     "name": "stdout",
     "output_type": "stream",
     "text": [
      "MO_TS_MO_OBSEA.nc does not have any valid data for this timeperiod\n",
      "\n",
      " GL_WS_MO_42097.nc\n",
      "GL_WS_MO_42097.nc does not have any of the variables ['VHM0', 'VAVH', 'WSPD']\n",
      "\n",
      " GL_WS_MO_46244.nc\n",
      "GL_WS_MO_46244.nc does not have any of the variables ['VHM0', 'VAVH', 'WSPD']\n",
      "\n",
      " GL_TS_MO_T2S155W.nc\n",
      "POINT(-155.0 -2.0)\n"
     ]
    },
    {
     "name": "stderr",
     "output_type": "stream",
     "text": [
      " 43%|████▎     | 1081/2487 [1:48:57<59:17,  2.53s/it]  "
     ]
    },
    {
     "name": "stdout",
     "output_type": "stream",
     "text": [
      "0  results found\n",
      "\n",
      " GL_TS_MO_MEDS171.nc\n",
      "GL_TS_MO_MEDS171.nc does not have any valid data for this timeperiod\n",
      "\n",
      " GL_TS_MO_2600515.nc\n",
      "GL_TS_MO_2600515.nc does not have any of the variables ['VHM0', 'VAVH', 'WSPD']\n",
      "\n",
      " GL_WS_MO_46070.nc\n",
      "GL_WS_MO_46070.nc does not have any of the variables ['VHM0', 'VAVH', 'WSPD']\n",
      "\n",
      " GL_TS_MO_WEL307.nc\n",
      "GL_TS_MO_WEL307.nc does not have any valid data for this timeperiod\n",
      "\n",
      " GL_TS_MO_45147.nc\n",
      "GL_TS_MO_45147.nc does not have any valid data for this timeperiod\n",
      "GL_TS_MO_45147.nc is too close to land\n"
     ]
    },
    {
     "name": "stderr",
     "output_type": "stream",
     "text": [
      " 44%|████▎     | 1083/2487 [1:48:57<41:30,  1.77s/it]"
     ]
    },
    {
     "name": "stdout",
     "output_type": "stream",
     "text": [
      "\n",
      " GL_TS_MO_21178.nc\n",
      "GL_TS_MO_21178.nc does not have any of the variables ['VHM0', 'VAVH', 'WSPD']\n",
      "\n",
      " GL_WS_MO_46219.nc\n",
      "GL_WS_MO_46219.nc does not have any of the variables ['VHM0', 'VAVH', 'WSPD']\n",
      "\n",
      " GL_TS_MO_MEDS161.nc\n",
      "GL_TS_MO_MEDS161.nc does not have any valid data for this timeperiod\n",
      "\n",
      " NO_TS_MO_LichteilandGoeree2.nc\n",
      "POINT(3.669722080230713 51.92583465576172)\n",
      "176  results found\n"
     ]
    },
    {
     "name": "stderr",
     "output_type": "stream",
     "text": [
      " 44%|████▍     | 1089/2487 [1:49:06<36:02,  1.55s/it]"
     ]
    },
    {
     "name": "stdout",
     "output_type": "stream",
     "text": [
      "\n",
      " GL_TS_MO_6100290.nc\n",
      "GL_TS_MO_6100290.nc does not have any of the variables ['VHM0', 'VAVH', 'WSPD']\n",
      "\n",
      " GL_TS_MO_62052.nc\n",
      "GL_TS_MO_62052.nc does not have any valid data for this timeperiod\n",
      "\n",
      " GL_TS_MO_46015.nc\n",
      "POINT(-124.84400177001953 42.75199890136719)\n",
      "159  results found\n"
     ]
    },
    {
     "name": "stderr",
     "output_type": "stream",
     "text": [
      " 44%|████▍     | 1091/2487 [1:49:16<54:05,  2.33s/it]  "
     ]
    },
    {
     "name": "stdout",
     "output_type": "stream",
     "text": [
      "\n",
      " NO_TS_MO_6201009.nc\n",
      "NO_TS_MO_6201009.nc does not have any valid data for this timeperiod\n",
      "\n",
      " AR_TS_MO_Flateyjardufl.nc\n",
      "POINT(-23.110332489013672 65.25316619873047)\n",
      "530  results found\n"
     ]
    },
    {
     "name": "stderr",
     "output_type": "stream",
     "text": [
      " 44%|████▍     | 1092/2487 [1:49:34<2:05:19,  5.39s/it]"
     ]
    },
    {
     "name": "stdout",
     "output_type": "stream",
     "text": [
      "\n",
      " IR_TS_MO_6200093.nc\n",
      "POINT(-9.999135971069336 54.99996566772461)\n",
      "226  results found\n"
     ]
    },
    {
     "name": "stderr",
     "output_type": "stream",
     "text": [
      " 44%|████▍     | 1094/2487 [1:49:46<2:02:26,  5.27s/it]"
     ]
    },
    {
     "name": "stdout",
     "output_type": "stream",
     "text": [
      "\n",
      " GL_TS_MO_3100262.nc\n",
      "GL_TS_MO_3100262.nc does not have any valid data for this timeperiod\n",
      "\n",
      " GL_WS_MO_41117.nc\n",
      "GL_WS_MO_41117.nc does not have any of the variables ['VHM0', 'VAVH', 'WSPD']\n",
      "\n",
      " AR_TS_MO_Tinnemyra-20-43.nc\n"
     ]
    },
    {
     "name": "stderr",
     "output_type": "stream",
     "text": [
      " 44%|████▍     | 1098/2487 [1:49:46<46:23,  2.00s/it]  "
     ]
    },
    {
     "name": "stdout",
     "output_type": "stream",
     "text": [
      "AR_TS_MO_Tinnemyra-20-43.nc does not have any of the variables ['VHM0', 'VAVH', 'WSPD']\n",
      "\n",
      " GL_TS_MO_45009.nc\n",
      "GL_TS_MO_45009.nc does not have any valid data for this timeperiod\n",
      "GL_TS_MO_45009.nc does not have any valid data for this timeperiod\n",
      "\n",
      " GL_TS_MO_32012.nc\n",
      "GL_TS_MO_32012.nc does not have any valid data for this timeperiod\n",
      "\n",
      " GL_TS_MO_6200078.nc\n",
      "POINT(-2.7869999408721924 47.23899841308594)\n",
      "239  results found\n",
      "\n",
      " GL_TS_MO_42040.nc\n",
      "POINT(-88.23699951171875 29.207000732421875)\n"
     ]
    },
    {
     "name": "stderr",
     "output_type": "stream",
     "text": [
      " 44%|████▍     | 1098/2487 [1:50:06<46:23,  2.00s/it]"
     ]
    },
    {
     "name": "stdout",
     "output_type": "stream",
     "text": [
      "28  results found\n"
     ]
    },
    {
     "name": "stderr",
     "output_type": "stream",
     "text": [
      " 44%|████▍     | 1100/2487 [1:50:06<1:50:39,  4.79s/it]"
     ]
    },
    {
     "name": "stdout",
     "output_type": "stream",
     "text": [
      "\n",
      " GL_TS_MO_2300454.nc\n",
      "POLYGON((72.58000183105469 10.307000160217285,72.58000183105469 10.329000473022461,72.60299682617188 10.329000473022461,72.60299682617188 10.307000160217285,72.58000183105469 10.307000160217285))\n"
     ]
    },
    {
     "name": "stderr",
     "output_type": "stream",
     "text": [
      " 44%|████▍     | 1102/2487 [1:50:11<1:25:04,  3.69s/it]"
     ]
    },
    {
     "name": "stdout",
     "output_type": "stream",
     "text": [
      "0  results found\n",
      "\n",
      " GL_TS_MO_46242.nc\n",
      "GL_TS_MO_46242.nc does not have any valid data for this timeperiod\n",
      "\n",
      " GL_WS_MO_46266.nc\n",
      "GL_WS_MO_46266.nc does not have any of the variables ['VHM0', 'VAVH', 'WSPD']\n",
      "\n",
      " AR_TS_MO_Olavsberget-7-17.nc\n",
      "AR_TS_MO_Olavsberget-7-17.nc does not have any of the variables ['VHM0', 'VAVH', 'WSPD']\n",
      "\n",
      " GL_TS_MO_46029.nc\n",
      "POLYGON((-124.48500061035156 46.16299819946289,-124.48500061035156 46.143001556396484,-124.51399993896484 46.143001556396484,-124.51399993896484 46.16299819946289,-124.48500061035156 46.16299819946289))\n",
      "118  results found\n"
     ]
    },
    {
     "name": "stderr",
     "output_type": "stream",
     "text": [
      " 44%|████▍     | 1106/2487 [1:53:57<12:00:13, 31.29s/it]"
     ]
    },
    {
     "name": "stdout",
     "output_type": "stream",
     "text": [
      "\n",
      " GL_TS_MO_46120.nc\n",
      "GL_TS_MO_46120.nc does not have any valid data for this timeperiod\n",
      "\n",
      " GL_TS_MO_45186.nc\n"
     ]
    },
    {
     "name": "stderr",
     "output_type": "stream",
     "text": [
      " 45%|████▍     | 1111/2487 [1:53:57<4:16:46, 11.20s/it] "
     ]
    },
    {
     "name": "stdout",
     "output_type": "stream",
     "text": [
      "GL_TS_MO_45186.nc is too close to land\n",
      "\n",
      " GL_WS_MO_51208.nc\n",
      "GL_WS_MO_51208.nc does not have any of the variables ['VHM0', 'VAVH', 'WSPD']\n",
      "\n",
      " GL_TS_MO_6101024.nc\n",
      "GL_TS_MO_6101024.nc does not have any of the variables ['VHM0', 'VAVH', 'WSPD']\n",
      "\n",
      " NO_TS_MO_6201005.nc\n",
      "NO_TS_MO_6201005.nc does not have any valid data for this timeperiod\n",
      "\n",
      " GL_WS_MO_46232.nc\n",
      "GL_WS_MO_46232.nc does not have any of the variables ['VHM0', 'VAVH', 'WSPD']\n",
      "\n",
      " GL_WS_MO_6200067.nc\n",
      "GL_WS_MO_6200067.nc does not have any of the variables ['VHM0', 'VAVH', 'WSPD']\n",
      "\n",
      " GL_TS_MO_55056.nc\n"
     ]
    },
    {
     "name": "stderr",
     "output_type": "stream",
     "text": [
      " 45%|████▍     | 1114/2487 [1:53:57<2:42:04,  7.08s/it]"
     ]
    },
    {
     "name": "stdout",
     "output_type": "stream",
     "text": [
      "GL_TS_MO_55056.nc does not have any valid data for this timeperiod\n",
      "\n",
      " GL_TS_MO_62199.nc\n",
      "GL_TS_MO_62199.nc does not have any valid data for this timeperiod\n",
      "\n",
      " GL_TS_MO_23459.nc\n",
      "GL_TS_MO_23459.nc does not have any valid data for this timeperiod\n",
      "\n",
      " GL_WS_MO_3100219.nc\n"
     ]
    },
    {
     "name": "stderr",
     "output_type": "stream",
     "text": [
      " 45%|████▌     | 1120/2487 [1:53:58<1:11:17,  3.13s/it]"
     ]
    },
    {
     "name": "stdout",
     "output_type": "stream",
     "text": [
      "GL_WS_MO_3100219.nc does not have any of the variables ['VHM0', 'VAVH', 'WSPD']\n",
      "\n",
      " GL_TS_MO_C6W08.nc\n",
      "GL_TS_MO_C6W08.nc does not have any valid data for this timeperiod\n",
      "\n",
      " GL_TS_MO_46139.nc\n",
      "GL_TS_MO_46139.nc does not have any valid data for this timeperiod\n",
      "\n",
      " BS_TS_MO_98004.nc\n",
      "BS_TS_MO_98004.nc does not have any valid data for this timeperiod\n",
      "\n",
      " GL_TS_MO_IF000700.nc\n",
      "GL_TS_MO_IF000700.nc does not have any of the variables ['VHM0', 'VAVH', 'WSPD']\n",
      "\n",
      " NO_TS_MO_6201045.nc\n",
      "NO_TS_MO_6201045.nc does not have any valid data for this timeperiod\n",
      "\n",
      " GL_TS_MO_SOLEMIO.nc\n",
      "GL_TS_MO_SOLEMIO.nc does not have any of the variables ['VHM0', 'VAVH', 'WSPD']\n",
      "\n",
      " GL_TS_MO_44039.nc\n",
      "POINT(-72.65499877929688 41.13800048828125)\n",
      "55  results found\n"
     ]
    },
    {
     "name": "stderr",
     "output_type": "stream",
     "text": [
      " 45%|████▌     | 1123/2487 [1:54:04<1:04:36,  2.84s/it]"
     ]
    },
    {
     "name": "stdout",
     "output_type": "stream",
     "text": [
      "\n",
      " AR_TS_MO_Ekofisk.nc\n",
      "AR_TS_MO_Ekofisk.nc does not have any valid data for this timeperiod\n",
      "\n",
      " GL_TS_MO_WEL334.nc\n"
     ]
    },
    {
     "name": "stderr",
     "output_type": "stream",
     "text": [
      " 45%|████▌     | 1125/2487 [1:54:05<49:59,  2.20s/it]  "
     ]
    },
    {
     "name": "stdout",
     "output_type": "stream",
     "text": [
      "GL_TS_MO_WEL334.nc does not have any valid data for this timeperiod\n",
      "\n",
      " NO_TS_MO_NOR.nc\n"
     ]
    },
    {
     "name": "stderr",
     "output_type": "stream",
     "text": [
      " 45%|████▌     | 1125/2487 [1:54:16<49:59,  2.20s/it]"
     ]
    },
    {
     "name": "stdout",
     "output_type": "stream",
     "text": [
      "POINT(8.168054580688477 53.834999084472656)\n",
      "232  results found\n"
     ]
    },
    {
     "name": "stderr",
     "output_type": "stream",
     "text": [
      " 45%|████▌     | 1127/2487 [1:54:39<2:08:30,  5.67s/it]"
     ]
    },
    {
     "name": "stdout",
     "output_type": "stream",
     "text": [
      "\n",
      " GL_WS_MO_46012.nc\n",
      "GL_WS_MO_46012.nc does not have any of the variables ['VHM0', 'VAVH', 'WSPD']\n",
      "\n",
      " GL_TS_MO_46111.nc\n",
      "GL_TS_MO_46111.nc does not have any valid data for this timeperiod\n",
      "\n",
      " GL_TS_MO_6801035.nc\n"
     ]
    },
    {
     "name": "stderr",
     "output_type": "stream",
     "text": [
      " 45%|████▌     | 1131/2487 [1:54:39<59:53,  2.65s/it]  "
     ]
    },
    {
     "name": "stdout",
     "output_type": "stream",
     "text": [
      "GL_TS_MO_6801035.nc does not have any of the variables ['VHM0', 'VAVH', 'WSPD']\n",
      "\n",
      " BO_TS_MO_Hanobukten2BS.nc\n",
      "BO_TS_MO_Hanobukten2BS.nc does not have any of the variables ['VHM0', 'VAVH', 'WSPD']\n",
      "\n",
      " GL_WS_MO_42003.nc\n",
      "GL_WS_MO_42003.nc does not have any of the variables ['VHM0', 'VAVH', 'WSPD']\n"
     ]
    },
    {
     "name": "stderr",
     "output_type": "stream",
     "text": [
      " 46%|████▌     | 1133/2487 [1:54:40<41:35,  1.84s/it]"
     ]
    },
    {
     "name": "stdout",
     "output_type": "stream",
     "text": [
      "\n",
      " GL_TS_MO_MEDS209.nc\n",
      "GL_TS_MO_MEDS209.nc does not have any valid data for this timeperiod\n",
      "\n",
      " NO_TS_MO_6200027.nc\n",
      "NO_TS_MO_6200027.nc does not have any valid data for this timeperiod\n",
      "NO_TS_MO_6200027.nc does not have any valid data for this timeperiod\n",
      "\n",
      " GL_TS_MO_MEDS502W.nc\n",
      "GL_TS_MO_MEDS502W.nc does not have any valid data for this timeperiod\n",
      "\n",
      " BO_TS_MO_Visby1.nc\n"
     ]
    },
    {
     "name": "stderr",
     "output_type": "stream",
     "text": [
      " 46%|████▌     | 1136/2487 [1:54:40<25:18,  1.12s/it]"
     ]
    },
    {
     "name": "stdout",
     "output_type": "stream",
     "text": [
      "BO_TS_MO_Visby1.nc does not have any valid data for this timeperiod\n",
      "\n",
      " AR_TS_MO_Reykjavik.nc\n",
      "AR_TS_MO_Reykjavik.nc does not have any of the variables ['VHM0', 'VAVH', 'WSPD']\n",
      "\n",
      " GL_WS_MO_45140.nc\n",
      "GL_WS_MO_45140.nc does not have any of the variables ['VHM0', 'VAVH', 'WSPD']\n",
      "\n",
      " GL_TS_MO_46273.nc\n",
      "POINT(-117.2770004272461 32.92599868774414)\n",
      "176  results found\n"
     ]
    },
    {
     "name": "stderr",
     "output_type": "stream",
     "text": [
      " 46%|████▌     | 1138/2487 [1:54:49<45:40,  2.03s/it]"
     ]
    },
    {
     "name": "stdout",
     "output_type": "stream",
     "text": [
      "\n",
      " GL_TS_MO_3100218.nc\n",
      "GL_TS_MO_3100218.nc does not have any valid data for this timeperiod\n",
      "GL_TS_MO_3100218.nc does not have any valid data for this timeperiod\n",
      "\n",
      " NO_TS_MO_CuxhavenFerryBox.nc\n"
     ]
    },
    {
     "name": "stderr",
     "output_type": "stream",
     "text": [
      " 46%|████▌     | 1140/2487 [1:54:49<33:24,  1.49s/it]"
     ]
    },
    {
     "name": "stdout",
     "output_type": "stream",
     "text": [
      "NO_TS_MO_CuxhavenFerryBox.nc does not have any of the variables ['VHM0', 'VAVH', 'WSPD']\n",
      "\n",
      " IR_TS_MO_6201062.nc\n",
      "POINT(-8.946439743041992 42.550880432128906)\n",
      "171  results found\n"
     ]
    },
    {
     "name": "stderr",
     "output_type": "stream",
     "text": [
      " 46%|████▌     | 1143/2487 [1:54:58<42:59,  1.92s/it]  "
     ]
    },
    {
     "name": "stdout",
     "output_type": "stream",
     "text": [
      "\n",
      " GL_TS_MO_MEDS206.nc\n",
      "GL_TS_MO_MEDS206.nc does not have any valid data for this timeperiod\n",
      "\n",
      " GL_TS_MO_MEDS198.nc\n",
      "GL_TS_MO_MEDS198.nc does not have any valid data for this timeperiod\n",
      "\n",
      " GL_TS_MO_46025.nc\n",
      "POINT(-119.04399871826172 33.757999420166016)\n",
      "175  results found\n",
      "\n",
      " GL_TS_MO_46054.nc\n",
      "POINT(-120.47000122070312 34.27299880981445)\n"
     ]
    },
    {
     "name": "stderr",
     "output_type": "stream",
     "text": [
      " 46%|████▌     | 1143/2487 [1:55:16<42:59,  1.92s/it]"
     ]
    },
    {
     "name": "stdout",
     "output_type": "stream",
     "text": [
      "236  results found\n"
     ]
    },
    {
     "name": "stderr",
     "output_type": "stream",
     "text": [
      " 46%|████▌     | 1145/2487 [1:55:23<1:56:20,  5.20s/it]"
     ]
    },
    {
     "name": "stdout",
     "output_type": "stream",
     "text": [
      "\n",
      " GL_TS_MO_15006.nc\n",
      "POINT(-10.0 -6.0)\n"
     ]
    },
    {
     "name": "stderr",
     "output_type": "stream",
     "text": [
      " 46%|████▌     | 1146/2487 [1:55:29<1:59:19,  5.34s/it]"
     ]
    },
    {
     "name": "stdout",
     "output_type": "stream",
     "text": [
      "0  results found\n",
      "\n",
      " GL_TS_MO_55029.nc\n",
      "POLYGON((147.059326171875 -19.159170150756836,147.059326171875 -19.280000686645508,147.1199951171875 -19.280000686645508,147.1199951171875 -19.159170150756836,147.059326171875 -19.159170150756836))\n",
      "30  results found\n"
     ]
    },
    {
     "name": "stderr",
     "output_type": "stream",
     "text": [
      " 46%|████▌     | 1147/2487 [1:55:50<3:11:30,  8.58s/it]"
     ]
    },
    {
     "name": "stdout",
     "output_type": "stream",
     "text": [
      "\n",
      " GL_TS_MO_23498.nc\n",
      "GL_TS_MO_23498.nc does not have any valid data for this timeperiod\n",
      "\n",
      " MO_TS_MO_ADN-MAMBO3.nc\n"
     ]
    },
    {
     "name": "stderr",
     "output_type": "stream",
     "text": [
      " 46%|████▌     | 1150/2487 [1:55:50<1:35:56,  4.31s/it]"
     ]
    },
    {
     "name": "stdout",
     "output_type": "stream",
     "text": [
      "MO_TS_MO_ADN-MAMBO3.nc does not have any valid data for this timeperiod\n",
      "\n",
      " GL_WS_MO_45001.nc\n",
      "GL_WS_MO_45001.nc does not have any of the variables ['VHM0', 'VAVH', 'WSPD']\n",
      "\n",
      " GL_TS_MO_45142.nc\n"
     ]
    },
    {
     "name": "stderr",
     "output_type": "stream",
     "text": [
      " 46%|████▋     | 1153/2487 [1:55:50<45:28,  2.05s/it]  "
     ]
    },
    {
     "name": "stdout",
     "output_type": "stream",
     "text": [
      "GL_TS_MO_45142.nc does not have any valid data for this timeperiod\n",
      "GL_TS_MO_45142.nc is too close to land\n",
      "\n",
      " NO_TS_MO_RyeBayDWR.nc\n",
      "NO_TS_MO_RyeBayDWR.nc does not have any valid data for this timeperiod\n",
      "\n",
      " GL_TS_MO_14047.nc\n",
      "GL_TS_MO_14047.nc does not have any valid data for this timeperiod\n",
      "\n",
      " GL_TS_MO_56006.nc\n",
      "POINT(114.7699966430664 -33.52000045776367)\n"
     ]
    },
    {
     "name": "stderr",
     "output_type": "stream",
     "text": [
      " 46%|████▋     | 1154/2487 [1:55:56<1:01:21,  2.76s/it]"
     ]
    },
    {
     "name": "stdout",
     "output_type": "stream",
     "text": [
      "30  results found\n",
      "\n",
      " GL_TS_MO_61187.nc\n"
     ]
    },
    {
     "name": "stderr",
     "output_type": "stream",
     "text": [
      " 46%|████▋     | 1155/2487 [1:55:56<47:09,  2.12s/it]  "
     ]
    },
    {
     "name": "stdout",
     "output_type": "stream",
     "text": [
      "GL_TS_MO_61187.nc does not have any valid data for this timeperiod\n",
      "GL_TS_MO_61187.nc does not have any valid data for this timeperiod\n",
      "\n",
      " GL_TS_MO_MEDS210.nc\n",
      "GL_TS_MO_MEDS210.nc does not have any valid data for this timeperiod\n",
      "\n",
      " NO_TS_MO_Q11.nc\n",
      "POINT(4.150000095367432 52.92535400390625)\n",
      "177  results found\n"
     ]
    },
    {
     "name": "stderr",
     "output_type": "stream",
     "text": [
      " 47%|████▋     | 1157/2487 [1:56:08<1:24:19,  3.80s/it]"
     ]
    },
    {
     "name": "stdout",
     "output_type": "stream",
     "text": [
      "\n",
      " IR_TS_MO_Bilbao-coast-buoy.nc\n"
     ]
    },
    {
     "name": "stderr",
     "output_type": "stream",
     "text": [
      " 47%|████▋     | 1161/2487 [1:56:09<34:08,  1.54s/it]  "
     ]
    },
    {
     "name": "stdout",
     "output_type": "stream",
     "text": [
      "IR_TS_MO_Bilbao-coast-buoy.nc is too close to land\n",
      "\n",
      " GL_WS_MO_44084.nc\n",
      "GL_WS_MO_44084.nc does not have any of the variables ['VHM0', 'VAVH', 'WSPD']\n",
      "\n",
      " GL_TS_MO_31217.nc\n",
      "GL_TS_MO_31217.nc does not have any valid data for this timeperiod\n",
      "GL_TS_MO_31217.nc does not have any valid data for this timeperiod\n",
      "\n",
      " GL_TS_MO_MEDS113.nc\n",
      "GL_TS_MO_MEDS113.nc does not have any valid data for this timeperiod\n",
      "\n",
      " GL_TS_MO_45025.nc\n"
     ]
    },
    {
     "name": "stderr",
     "output_type": "stream",
     "text": [
      " 47%|████▋     | 1165/2487 [1:56:09<17:11,  1.28it/s]"
     ]
    },
    {
     "name": "stdout",
     "output_type": "stream",
     "text": [
      "GL_TS_MO_45025.nc is too close to land\n",
      "\n",
      " GL_TS_MO_5102660.nc\n",
      "GL_TS_MO_5102660.nc does not have any of the variables ['VHM0', 'VAVH', 'WSPD']\n",
      "\n",
      " GL_TS_MO_3101508.nc\n",
      "GL_TS_MO_3101508.nc does not have any of the variables ['VHM0', 'VAVH', 'WSPD']\n",
      "\n",
      " GL_WS_MO_45004.nc\n",
      "GL_WS_MO_45004.nc does not have any of the variables ['VHM0', 'VAVH', 'WSPD']\n",
      "\n",
      " GL_TS_MO_IF000618.nc\n"
     ]
    },
    {
     "name": "stderr",
     "output_type": "stream",
     "text": [
      " 47%|████▋     | 1167/2487 [1:56:09<12:25,  1.77it/s]"
     ]
    },
    {
     "name": "stdout",
     "output_type": "stream",
     "text": [
      "GL_TS_MO_IF000618.nc does not have any of the variables ['VHM0', 'VAVH', 'WSPD']\n",
      "\n",
      " GL_TS_MO_91222.nc\n",
      "GL_TS_MO_91222.nc does not have any valid data for this timeperiod\n",
      "\n",
      " GL_TS_MO_T8S125W.nc\n",
      "POINT(-125.0 -8.0)\n"
     ]
    },
    {
     "name": "stderr",
     "output_type": "stream",
     "text": [
      " 47%|████▋     | 1171/2487 [1:56:16<22:26,  1.02s/it]"
     ]
    },
    {
     "name": "stdout",
     "output_type": "stream",
     "text": [
      "0  results found\n",
      "\n",
      " BS_TS_MO_33994.nc\n",
      "BS_TS_MO_33994.nc does not have any valid data for this timeperiod\n",
      "\n",
      " BO_TS_MO_KeriCable.nc\n",
      "BO_TS_MO_KeriCable.nc does not have any of the variables ['VHM0', 'VAVH', 'WSPD']\n",
      "\n",
      " GL_TS_MO_IF000575.nc\n",
      "GL_TS_MO_IF000575.nc does not have any of the variables ['VHM0', 'VAVH', 'WSPD']\n",
      "\n",
      " BO_TS_MO_Kristianopel.nc\n"
     ]
    },
    {
     "name": "stderr",
     "output_type": "stream",
     "text": [
      " 47%|████▋     | 1174/2487 [1:56:16<13:55,  1.57it/s]"
     ]
    },
    {
     "name": "stdout",
     "output_type": "stream",
     "text": [
      "BO_TS_MO_Kristianopel.nc does not have any valid data for this timeperiod\n",
      "\n",
      " MO_TS_MO_RONSV.nc\n",
      "MO_TS_MO_RONSV.nc does not have any valid data for this timeperiod\n",
      "\n",
      " GL_TS_MO_1401803.nc\n",
      "GL_TS_MO_1401803.nc does not have any of the variables ['VHM0', 'VAVH', 'WSPD']\n",
      "\n",
      " GL_TS_MO_45144.nc\n",
      "GL_TS_MO_45144.nc does not have any valid data for this timeperiod\n",
      "GL_TS_MO_45144.nc does not have any valid data for this timeperiod\n",
      "\n",
      " BO_TS_MO_Vaderoarna2.nc\n",
      "BO_TS_MO_Vaderoarna2.nc does not have any valid data for this timeperiod\n",
      "\n",
      " GL_TS_MO_46039.nc\n"
     ]
    },
    {
     "name": "stderr",
     "output_type": "stream",
     "text": [
      " 47%|████▋     | 1179/2487 [1:56:17<07:22,  2.96it/s]"
     ]
    },
    {
     "name": "stdout",
     "output_type": "stream",
     "text": [
      "GL_TS_MO_46039.nc does not have any valid data for this timeperiod\n",
      "GL_TS_MO_46039.nc does not have any valid data for this timeperiod\n",
      "\n",
      " AR_TS_MO_Troll-B.nc\n",
      "AR_TS_MO_Troll-B.nc does not have any valid data for this timeperiod\n",
      "\n",
      " GL_TS_MO_48211.nc\n",
      "GL_TS_MO_48211.nc does not have any valid data for this timeperiod\n",
      "GL_TS_MO_48211.nc does not have any valid data for this timeperiod\n",
      "\n",
      " GL_TS_MO_WEL270.nc\n",
      "GL_TS_MO_WEL270.nc does not have any valid data for this timeperiod\n",
      "\n",
      " GL_TS_MO_41040.nc\n",
      "POLYGON((-53.340999603271484 14.541999816894531,-53.340999603271484 14.553999900817871,-53.04499816894531 14.553999900817871,-53.04499816894531 14.541999816894531,-53.340999603271484 14.541999816894531))\n"
     ]
    },
    {
     "name": "stderr",
     "output_type": "stream",
     "text": [
      " 47%|████▋     | 1181/2487 [1:56:23<24:07,  1.11s/it]"
     ]
    },
    {
     "name": "stdout",
     "output_type": "stream",
     "text": [
      "0  results found\n",
      "\n",
      " GL_TS_MO_MEDS066.nc\n"
     ]
    },
    {
     "name": "stderr",
     "output_type": "stream",
     "text": [
      " 48%|████▊     | 1185/2487 [1:56:23<13:05,  1.66it/s]"
     ]
    },
    {
     "name": "stdout",
     "output_type": "stream",
     "text": [
      "GL_TS_MO_MEDS066.nc does not have any valid data for this timeperiod\n",
      "\n",
      " GL_TS_MO_45016.nc\n",
      "GL_TS_MO_45016.nc does not have any valid data for this timeperiod\n",
      "\n",
      " GL_TS_MO_EXCE0006.nc\n",
      "GL_TS_MO_EXCE0006.nc does not have any valid data for this timeperiod\n",
      "GL_TS_MO_EXCE0006.nc does not have any valid data for this timeperiod\n",
      "\n",
      " GL_TS_MO_41022.nc\n",
      "GL_TS_MO_41022.nc does not have any valid data for this timeperiod\n",
      "GL_TS_MO_41022.nc does not have any valid data for this timeperiod\n",
      "\n",
      " GL_TS_MO_46214.nc\n",
      "POINT(-123.46299743652344 37.9370002746582)\n"
     ]
    },
    {
     "name": "stderr",
     "output_type": "stream",
     "text": [
      " 48%|████▊     | 1185/2487 [1:56:36<13:05,  1.66it/s]"
     ]
    },
    {
     "name": "stdout",
     "output_type": "stream",
     "text": [
      "131  results found\n"
     ]
    },
    {
     "name": "stderr",
     "output_type": "stream",
     "text": [
      " 48%|████▊     | 1186/2487 [1:56:42<1:18:19,  3.61s/it]"
     ]
    },
    {
     "name": "stdout",
     "output_type": "stream",
     "text": [
      "\n",
      " GL_TS_MO_51101.nc\n",
      "POINT(-162.0749969482422 24.361000061035156)\n"
     ]
    },
    {
     "name": "stderr",
     "output_type": "stream",
     "text": [
      " 48%|████▊     | 1187/2487 [1:56:50<1:38:04,  4.53s/it]"
     ]
    },
    {
     "name": "stdout",
     "output_type": "stream",
     "text": [
      "0  results found\n",
      "\n",
      " MO_TS_MO_BARBARIA.nc\n"
     ]
    },
    {
     "name": "stderr",
     "output_type": "stream",
     "text": [
      " 48%|████▊     | 1192/2487 [1:56:50<36:24,  1.69s/it]  "
     ]
    },
    {
     "name": "stdout",
     "output_type": "stream",
     "text": [
      "MO_TS_MO_BARBARIA.nc does not have any valid data for this timeperiod\n",
      "\n",
      " GL_WS_MO_44091.nc\n",
      "GL_WS_MO_44091.nc does not have any of the variables ['VHM0', 'VAVH', 'WSPD']\n",
      "\n",
      " GL_TS_MO_41017.nc\n",
      "GL_TS_MO_41017.nc does not have any valid data for this timeperiod\n",
      "GL_TS_MO_41017.nc does not have any valid data for this timeperiod\n",
      "\n",
      " GL_TS_MO_MEDS072.nc\n",
      "GL_TS_MO_MEDS072.nc does not have any valid data for this timeperiod\n",
      "\n",
      " GL_TS_MO_3100231.nc\n",
      "GL_TS_MO_3100231.nc does not have any valid data for this timeperiod\n",
      "\n",
      " GL_TS_MO_42057.nc\n"
     ]
    },
    {
     "name": "stderr",
     "output_type": "stream",
     "text": [
      " 48%|████▊     | 1194/2487 [1:56:51<26:19,  1.22s/it]"
     ]
    },
    {
     "name": "stdout",
     "output_type": "stream",
     "text": [
      "GL_TS_MO_42057.nc does not have any valid data for this timeperiod\n",
      "GL_TS_MO_42057.nc does not have any valid data for this timeperiod\n",
      "\n",
      " GL_TS_MO_23173.nc\n",
      "GL_TS_MO_23173.nc does not have any valid data for this timeperiod\n",
      "\n",
      " GL_TS_MO_46077.nc\n",
      "POINT(-154.17599487304688 57.902000427246094)\n",
      "53  results found\n"
     ]
    },
    {
     "name": "stderr",
     "output_type": "stream",
     "text": [
      " 48%|████▊     | 1196/2487 [1:57:01<51:09,  2.38s/it]"
     ]
    },
    {
     "name": "stdout",
     "output_type": "stream",
     "text": [
      "\n",
      " AR_TS_MO_BSO5.nc\n",
      "AR_TS_MO_BSO5.nc does not have any of the variables ['VHM0', 'VAVH', 'WSPD']\n",
      "\n",
      " GL_TS_MO_41139.nc\n",
      "POINT(-38.0 20.0)\n"
     ]
    },
    {
     "name": "stderr",
     "output_type": "stream",
     "text": [
      " 48%|████▊     | 1198/2487 [1:57:06<50:40,  2.36s/it]  "
     ]
    },
    {
     "name": "stdout",
     "output_type": "stream",
     "text": [
      "0  results found\n",
      "\n",
      " NO_TS_MO_Amelander62.nc\n",
      "NO_TS_MO_Amelander62.nc does not have any valid data for this timeperiod\n",
      "NO_TS_MO_Amelander62.nc does not have any valid data for this timeperiod\n",
      "\n",
      " BS_TS_MO_15552.nc\n",
      "BS_TS_MO_15552.nc does not have any of the variables ['VHM0', 'VAVH', 'WSPD']\n",
      "\n",
      " AR_TS_MO_Blakksnes.nc\n",
      "POINT(-24.778167724609375 65.69783020019531)\n",
      "448  results found\n"
     ]
    },
    {
     "name": "stderr",
     "output_type": "stream",
     "text": [
      " 48%|████▊     | 1200/2487 [1:57:33<2:13:41,  6.23s/it]"
     ]
    },
    {
     "name": "stdout",
     "output_type": "stream",
     "text": [
      "\n",
      " BO_TS_MO_HelsinkiBuoy.nc\n",
      "POINT(25.235000610351562 59.96500015258789)\n",
      "335  results found\n"
     ]
    },
    {
     "name": "stderr",
     "output_type": "stream",
     "text": [
      " 48%|████▊     | 1203/2487 [1:57:48<1:48:43,  5.08s/it]"
     ]
    },
    {
     "name": "stdout",
     "output_type": "stream",
     "text": [
      "\n",
      " NO_TS_MO_Brouwershavensegat8.nc\n",
      "NO_TS_MO_Brouwershavensegat8.nc does not have any of the variables ['VHM0', 'VAVH', 'WSPD']\n",
      "\n",
      " BO_TS_MO_Fladen2.nc\n",
      "BO_TS_MO_Fladen2.nc does not have any valid data for this timeperiod\n",
      "BO_TS_MO_Fladen2.nc does not have any valid data for this timeperiod\n",
      "\n",
      " GL_TS_MO_4601636.nc\n",
      "GL_TS_MO_4601636.nc does not have any of the variables ['VHM0', 'VAVH', 'WSPD']\n",
      "\n",
      " BO_TS_MO_BothnianSea.nc\n",
      "POINT(20.233299255371094 61.79999923706055)\n",
      "269  results found\n"
     ]
    },
    {
     "name": "stderr",
     "output_type": "stream",
     "text": [
      " 48%|████▊     | 1205/2487 [1:58:03<2:08:35,  6.02s/it]"
     ]
    },
    {
     "name": "stdout",
     "output_type": "stream",
     "text": [
      "\n",
      " GL_TS_MO_46230.nc\n",
      "GL_TS_MO_46230.nc does not have any valid data for this timeperiod\n",
      "\n",
      " AR_TS_MO_Follsjoe-20-45.nc\n",
      "AR_TS_MO_Follsjoe-20-45.nc does not have any of the variables ['VHM0', 'VAVH', 'WSPD']\n",
      "\n",
      " GL_TS_MO_T8N110W.nc\n",
      "POINT(-110.0 8.0)\n"
     ]
    },
    {
     "name": "stderr",
     "output_type": "stream",
     "text": [
      " 49%|████▊     | 1208/2487 [1:58:13<1:42:33,  4.81s/it]"
     ]
    },
    {
     "name": "stdout",
     "output_type": "stream",
     "text": [
      "30  results found\n",
      "\n",
      " GL_TS_MO_3100374.nc\n",
      "GL_TS_MO_3100374.nc does not have any valid data for this timeperiod\n",
      "\n",
      " GL_TS_MO_MEDS166.nc\n"
     ]
    },
    {
     "name": "stderr",
     "output_type": "stream",
     "text": [
      " 49%|████▊     | 1212/2487 [1:58:13<52:11,  2.46s/it]  "
     ]
    },
    {
     "name": "stdout",
     "output_type": "stream",
     "text": [
      "GL_TS_MO_MEDS166.nc does not have any valid data for this timeperiod\n",
      "\n",
      " GL_TS_MO_42374.nc\n",
      "GL_TS_MO_42374.nc does not have any valid data for this timeperiod\n",
      "GL_TS_MO_42374.nc does not have any valid data for this timeperiod\n",
      "\n",
      " GL_TS_MO_46127.nc\n",
      "GL_TS_MO_46127.nc does not have any valid data for this timeperiod\n",
      "\n",
      " BO_TS_MO_Dynekil.nc\n",
      "BO_TS_MO_Dynekil.nc does not have any valid data for this timeperiod\n",
      "\n",
      " GL_TS_MO_44029.nc\n",
      "POINT(-70.56600189208984 42.52299880981445)\n",
      "82  results found\n"
     ]
    },
    {
     "name": "stderr",
     "output_type": "stream",
     "text": [
      " 49%|████▉     | 1215/2487 [1:58:22<52:54,  2.50s/it]  "
     ]
    },
    {
     "name": "stdout",
     "output_type": "stream",
     "text": [
      "\n",
      " AR_TS_MO_Isfjorden-S.nc\n",
      "AR_TS_MO_Isfjorden-S.nc does not have any of the variables ['VHM0', 'VAVH', 'WSPD']\n",
      "\n",
      " IR_TS_MO_CaboDeGata-coast-buoy.nc\n"
     ]
    },
    {
     "name": "stderr",
     "output_type": "stream",
     "text": [
      " 49%|████▉     | 1218/2487 [1:58:22<27:46,  1.31s/it]"
     ]
    },
    {
     "name": "stdout",
     "output_type": "stream",
     "text": [
      "IR_TS_MO_CaboDeGata-coast-buoy.nc does not have any valid data for this timeperiod\n",
      "IR_TS_MO_CaboDeGata-coast-buoy.nc does not have any valid data for this timeperiod\n",
      "\n",
      " GL_TS_MO_MEDS313.nc\n",
      "GL_TS_MO_MEDS313.nc does not have any valid data for this timeperiod\n",
      "\n",
      " NO_TS_MO_6201013.nc\n",
      "NO_TS_MO_6201013.nc does not have any valid data for this timeperiod\n",
      "\n",
      " BS_TS_MO_99040.nc\n",
      "BS_TS_MO_99040.nc does not have any of the variables ['VHM0', 'VAVH', 'WSPD']\n",
      "\n",
      " GL_TS_MO_MEDS158.nc\n",
      "GL_TS_MO_MEDS158.nc does not have any valid data for this timeperiod\n",
      "\n",
      " NO_TS_MO_BuoyHoernumTief1.nc\n",
      "NO_TS_MO_BuoyHoernumTief1.nc does not have any valid data for this timeperiod\n",
      "\n",
      " GL_TS_MO_46248.nc\n",
      "POINT(-124.64399719238281 46.132999420166016)\n",
      "118  results found\n"
     ]
    },
    {
     "name": "stderr",
     "output_type": "stream",
     "text": [
      " 49%|████▉     | 1225/2487 [1:58:32<26:57,  1.28s/it]"
     ]
    },
    {
     "name": "stdout",
     "output_type": "stream",
     "text": [
      "\n",
      " BS_TS_MO_Anapa.nc\n",
      "BS_TS_MO_Anapa.nc does not have any valid data for this timeperiod\n",
      "\n",
      " GL_TS_MO_WEL250.nc\n",
      "GL_TS_MO_WEL250.nc does not have any valid data for this timeperiod\n",
      "\n",
      " GL_TS_MO_WEL238.nc\n",
      "GL_TS_MO_WEL238.nc does not have any valid data for this timeperiod\n",
      "\n",
      " GL_WS_MO_42080.nc\n",
      "GL_WS_MO_42080.nc does not have any of the variables ['VHM0', 'VAVH', 'WSPD']\n",
      "\n",
      " GL_TS_MO_2200192.nc\n",
      "POINT(123.26000213623047 34.0)\n"
     ]
    },
    {
     "name": "stderr",
     "output_type": "stream",
     "text": [
      " 49%|████▉     | 1229/2487 [1:58:38<25:36,  1.22s/it]"
     ]
    },
    {
     "name": "stdout",
     "output_type": "stream",
     "text": [
      "1  results found\n",
      "\n",
      " GL_TS_MO_91355.nc\n",
      "GL_TS_MO_91355.nc does not have any valid data for this timeperiod\n",
      "\n",
      " GL_TS_MO_41063.nc\n",
      "GL_TS_MO_41063.nc does not have any valid data for this timeperiod\n",
      "\n",
      " IR_TS_MO_Granadilla-coast-buoy.nc\n"
     ]
    },
    {
     "name": "stderr",
     "output_type": "stream",
     "text": [
      " 49%|████▉     | 1231/2487 [1:58:38<19:01,  1.10it/s]"
     ]
    },
    {
     "name": "stdout",
     "output_type": "stream",
     "text": [
      "IR_TS_MO_Granadilla-coast-buoy.nc does not have any valid data for this timeperiod\n",
      "IR_TS_MO_Granadilla-coast-buoy.nc does not have any valid data for this timeperiod\n",
      "\n",
      " GL_TS_MO_41101.nc\n",
      "GL_TS_MO_41101.nc does not have any valid data for this timeperiod\n",
      "\n",
      " GL_TS_MO_RottnestIsland02.nc\n",
      "GL_TS_MO_RottnestIsland02.nc does not have any valid data for this timeperiod\n",
      "\n",
      " GL_TS_MO_91365.nc\n"
     ]
    },
    {
     "name": "stderr",
     "output_type": "stream",
     "text": [
      " 50%|████▉     | 1233/2487 [1:58:38<14:00,  1.49it/s]"
     ]
    },
    {
     "name": "stdout",
     "output_type": "stream",
     "text": [
      "GL_TS_MO_91365.nc does not have any valid data for this timeperiod\n",
      "\n",
      " GL_TS_MO_46247.nc\n",
      "GL_TS_MO_46247.nc does not have any valid data for this timeperiod\n",
      "\n",
      " GL_TS_MO_17178.nc\n",
      "GL_TS_MO_17178.nc does not have any of the variables ['VHM0', 'VAVH', 'WSPD']\n",
      "\n",
      " NO_TS_MO_FINO1WR.nc\n",
      "POINT(6.5833330154418945 54.0)\n",
      "236  results found\n"
     ]
    },
    {
     "name": "stderr",
     "output_type": "stream",
     "text": [
      " 50%|████▉     | 1236/2487 [1:58:50<38:49,  1.86s/it]"
     ]
    },
    {
     "name": "stdout",
     "output_type": "stream",
     "text": [
      "\n",
      " GL_TS_MO_GoodrichBank01.nc\n",
      "POLYGON((129.9999237060547 -10.417550086975098,129.9999237060547 -10.415519714355469,130.0018768310547 -10.415519714355469,130.0018768310547 -10.417550086975098,129.9999237060547 -10.417550086975098))\n",
      "29  results found\n"
     ]
    },
    {
     "name": "stderr",
     "output_type": "stream",
     "text": [
      " 50%|████▉     | 1237/2487 [1:59:00<1:05:51,  3.16s/it]"
     ]
    },
    {
     "name": "stdout",
     "output_type": "stream",
     "text": [
      "\n",
      " GL_TS_MO_4601698.nc\n",
      "GL_TS_MO_4601698.nc does not have any of the variables ['VHM0', 'VAVH', 'WSPD']\n",
      "\n",
      " AR_TS_MO_Dragavika-3-4.nc\n",
      "AR_TS_MO_Dragavika-3-4.nc does not have any of the variables ['VHM0', 'VAVH', 'WSPD']\n",
      "\n",
      " GL_TS_MO_46253.nc\n",
      "POINT(-118.18099975585938 33.57600021362305)\n",
      "173  results found\n"
     ]
    },
    {
     "name": "stderr",
     "output_type": "stream",
     "text": [
      " 50%|████▉     | 1241/2487 [1:59:09<54:19,  2.62s/it]  "
     ]
    },
    {
     "name": "stdout",
     "output_type": "stream",
     "text": [
      "\n",
      " GL_WS_MO_6100190.nc\n",
      "GL_WS_MO_6100190.nc does not have any of the variables ['VHM0', 'VAVH', 'WSPD']\n",
      "\n",
      " NO_TS_MO_L91.nc\n",
      "POINT(4.960700035095215 53.613800048828125)\n",
      "236  results found\n"
     ]
    },
    {
     "name": "stderr",
     "output_type": "stream",
     "text": [
      " 50%|█████     | 1244/2487 [1:59:24<1:07:19,  3.25s/it]"
     ]
    },
    {
     "name": "stdout",
     "output_type": "stream",
     "text": [
      "\n",
      " GL_TS_MO_IF000257.nc\n",
      "GL_TS_MO_IF000257.nc does not have any of the variables ['VHM0', 'VAVH', 'WSPD']\n",
      "\n",
      " GL_TS_MO_MEDS118.nc\n",
      "GL_TS_MO_MEDS118.nc does not have any valid data for this timeperiod\n",
      "\n",
      " GL_TS_MO_4600185.nc\n",
      "GL_TS_MO_4600185.nc does not have any valid data for this timeperiod\n",
      "\n",
      " NO_TS_MO_Amelander52.nc\n"
     ]
    },
    {
     "name": "stderr",
     "output_type": "stream",
     "text": [
      " 50%|█████     | 1248/2487 [1:59:25<31:28,  1.52s/it]  "
     ]
    },
    {
     "name": "stdout",
     "output_type": "stream",
     "text": [
      "NO_TS_MO_Amelander52.nc does not have any valid data for this timeperiod\n",
      "NO_TS_MO_Amelander52.nc does not have any valid data for this timeperiod\n",
      "\n",
      " GL_WS_MO_46211.nc\n",
      "GL_WS_MO_46211.nc does not have any of the variables ['VHM0', 'VAVH', 'WSPD']\n",
      "\n",
      " NO_TS_MO_KornwerderzandBuiten.nc\n",
      "NO_TS_MO_KornwerderzandBuiten.nc does not have any valid data for this timeperiod\n",
      "NO_TS_MO_KornwerderzandBuiten.nc does not have any valid data for this timeperiod\n",
      "\n",
      " NO_TS_MO_Borkum.nc\n"
     ]
    },
    {
     "name": "stderr",
     "output_type": "stream",
     "text": [
      " 50%|█████     | 1251/2487 [1:59:25<19:02,  1.08it/s]"
     ]
    },
    {
     "name": "stdout",
     "output_type": "stream",
     "text": [
      "NO_TS_MO_Borkum.nc does not have any of the variables ['VHM0', 'VAVH', 'WSPD']\n",
      "\n",
      " GL_TS_MO_MEDS299.nc\n",
      "GL_TS_MO_MEDS299.nc does not have any valid data for this timeperiod\n",
      "\n",
      " GL_WS_MO_41012.nc\n",
      "GL_WS_MO_41012.nc does not have any of the variables ['VHM0', 'VAVH', 'WSPD']\n",
      "\n",
      " AR_TS_MO_C-Sulafjorden.nc\n"
     ]
    },
    {
     "name": "stderr",
     "output_type": "stream",
     "text": [
      " 50%|█████     | 1253/2487 [1:59:25<15:09,  1.36it/s]"
     ]
    },
    {
     "name": "stdout",
     "output_type": "stream",
     "text": [
      "AR_TS_MO_C-Sulafjorden.nc does not have any valid data for this timeperiod\n",
      "\n",
      " BO_TS_MO_EspooKyto.nc\n",
      "BO_TS_MO_EspooKyto.nc does not have any of the variables ['VHM0', 'VAVH', 'WSPD']\n",
      "\n",
      " GL_TS_MO_MEDS162.nc\n",
      "GL_TS_MO_MEDS162.nc does not have any valid data for this timeperiod\n",
      "\n",
      " MO_TS_MO_SKYRO.nc\n",
      "MO_TS_MO_SKYRO.nc does not have any valid data for this timeperiod\n"
     ]
    },
    {
     "name": "stderr",
     "output_type": "stream",
     "text": [
      " 51%|█████     | 1258/2487 [1:59:26<07:18,  2.80it/s]"
     ]
    },
    {
     "name": "stdout",
     "output_type": "stream",
     "text": [
      "MO_TS_MO_SKYRO.nc does not have any valid data for this timeperiod\n",
      "\n",
      " GL_WS_MO_41110.nc\n",
      "GL_WS_MO_41110.nc does not have any of the variables ['VHM0', 'VAVH', 'WSPD']\n",
      "\n",
      " BS_TS_MO_15480.nc\n",
      "BS_TS_MO_15480.nc does not have any of the variables ['VHM0', 'VAVH', 'WSPD']\n",
      "\n",
      " MO_TS_MO_PALOMA.nc\n",
      "MO_TS_MO_PALOMA.nc does not have any of the variables ['VHM0', 'VAVH', 'WSPD']\n",
      "\n",
      " GL_WS_MO_46035.nc\n",
      "GL_WS_MO_46035.nc does not have any of the variables ['VHM0', 'VAVH', 'WSPD']\n",
      "\n",
      " GL_TS_MO_T2S165E.nc\n",
      "POINT(165.0 -2.0)\n"
     ]
    },
    {
     "name": "stderr",
     "output_type": "stream",
     "text": [
      " 51%|█████     | 1260/2487 [1:59:33<26:05,  1.28s/it]"
     ]
    },
    {
     "name": "stdout",
     "output_type": "stream",
     "text": [
      "0  results found\n",
      "\n",
      " NO_TS_MO_6200170.nc\n",
      "POINT(2.0 51.2400016784668)\n",
      "234  results found\n",
      "\n",
      " GL_TS_MO_23014.nc\n",
      "POLYGON((66.71499633789062 0.949999988079071,66.71499633789062 2.26200008392334,62.47600173950195 2.26200008392334,62.47600173950195 0.949999988079071,66.71499633789062 0.949999988079071))\n"
     ]
    },
    {
     "name": "stderr",
     "output_type": "stream",
     "text": [
      " 51%|█████     | 1262/2487 [1:59:48<1:01:16,  3.00s/it]"
     ]
    },
    {
     "name": "stdout",
     "output_type": "stream",
     "text": [
      "0  results found\n",
      "\n",
      " GL_TS_MO_46251.nc\n",
      "POINT(-119.56500244140625 33.76900100708008)\n",
      "117  results found\n"
     ]
    },
    {
     "name": "stderr",
     "output_type": "stream",
     "text": [
      " 51%|█████     | 1263/2487 [1:59:56<1:17:42,  3.81s/it]"
     ]
    },
    {
     "name": "stdout",
     "output_type": "stream",
     "text": [
      "\n",
      " GL_TS_MO_41110.nc\n",
      "POINT(-77.71499633789062 34.141998291015625)\n",
      "57  results found\n"
     ]
    },
    {
     "name": "stderr",
     "output_type": "stream",
     "text": [
      " 51%|█████     | 1264/2487 [2:00:06<1:39:33,  4.88s/it]"
     ]
    },
    {
     "name": "stdout",
     "output_type": "stream",
     "text": [
      "\n",
      " GL_WS_MO_4100098.nc\n",
      "GL_WS_MO_4100098.nc does not have any of the variables ['VHM0', 'VAVH', 'WSPD']\n",
      "\n",
      " GL_TS_MO_41120.nc\n",
      "POINT(-75.28600311279297 35.25899887084961)\n",
      "57  results found\n"
     ]
    },
    {
     "name": "stderr",
     "output_type": "stream",
     "text": [
      " 51%|█████     | 1266/2487 [2:00:13<1:30:24,  4.44s/it]"
     ]
    },
    {
     "name": "stdout",
     "output_type": "stream",
     "text": [
      "\n",
      " IR_TS_MO_SmartBayWaveBuoy.nc\n",
      "POINT(-9.262277603149414 53.22833251953125)\n",
      "227  results found\n"
     ]
    },
    {
     "name": "stderr",
     "output_type": "stream",
     "text": [
      " 51%|█████     | 1269/2487 [2:00:26<1:20:22,  3.96s/it]"
     ]
    },
    {
     "name": "stdout",
     "output_type": "stream",
     "text": [
      "\n",
      " GL_WS_MO_46061.nc\n",
      "GL_WS_MO_46061.nc does not have any of the variables ['VHM0', 'VAVH', 'WSPD']\n",
      "\n",
      " NO_TS_MO_Raversijde.nc\n",
      "NO_TS_MO_Raversijde.nc is too close to land\n",
      "\n",
      " GL_TS_MO_MEDS025.nc\n",
      "GL_TS_MO_MEDS025.nc does not have any valid data for this timeperiod\n",
      "\n",
      " NO_TS_MO_ArkonaCU.nc\n"
     ]
    },
    {
     "name": "stderr",
     "output_type": "stream",
     "text": [
      " 51%|█████     | 1272/2487 [2:00:27<45:20,  2.24s/it]  "
     ]
    },
    {
     "name": "stdout",
     "output_type": "stream",
     "text": [
      "NO_TS_MO_ArkonaCU.nc does not have any of the variables ['VHM0', 'VAVH', 'WSPD']\n",
      "\n",
      " BO_TS_MO_HankoLangden.nc\n",
      "BO_TS_MO_HankoLangden.nc does not have any of the variables ['VHM0', 'VAVH', 'WSPD']\n",
      "\n",
      " BS_TS_MO_Sochi.nc\n",
      "BS_TS_MO_Sochi.nc does not have any valid data for this timeperiod\n",
      "\n",
      " GL_TS_MO_44067.nc\n",
      "GL_TS_MO_44067.nc does not have any valid data for this timeperiod\n",
      "\n",
      " GL_TS_MO_2200101.nc\n",
      "POINT(126.0199966430664 37.2400016784668)\n",
      "53  results found\n"
     ]
    },
    {
     "name": "stderr",
     "output_type": "stream",
     "text": [
      " 51%|█████▏    | 1276/2487 [2:00:34<38:56,  1.93s/it]"
     ]
    },
    {
     "name": "stdout",
     "output_type": "stream",
     "text": [
      "\n",
      " BO_TS_MO_GustavDahlen.nc\n",
      "BO_TS_MO_GustavDahlen.nc does not have any valid data for this timeperiod\n",
      "BO_TS_MO_GustavDahlen.nc does not have any valid data for this timeperiod\n",
      "\n",
      " GL_TS_MO_46098.nc\n",
      "POINT(-124.95600128173828 44.38100051879883)\n",
      "125  results found\n"
     ]
    },
    {
     "name": "stderr",
     "output_type": "stream",
     "text": [
      " 51%|█████▏    | 1279/2487 [2:00:43<42:54,  2.13s/it]  "
     ]
    },
    {
     "name": "stdout",
     "output_type": "stream",
     "text": [
      "\n",
      " GL_TS_MO_MEDS174.nc\n",
      "GL_TS_MO_MEDS174.nc does not have any valid data for this timeperiod\n",
      "\n",
      " BO_TS_MO_Kopparstenarna.nc\n",
      "BO_TS_MO_Kopparstenarna.nc does not have any valid data for this timeperiod\n",
      "\n",
      " IR_TS_MO_Alicante-coast-buoy.nc\n"
     ]
    },
    {
     "name": "stderr",
     "output_type": "stream",
     "text": [
      " 51%|█████▏    | 1280/2487 [2:00:43<34:56,  1.74s/it]"
     ]
    },
    {
     "name": "stdout",
     "output_type": "stream",
     "text": [
      "IR_TS_MO_Alicante-coast-buoy.nc does not have any valid data for this timeperiod\n",
      "IR_TS_MO_Alicante-coast-buoy.nc does not have any valid data for this timeperiod\n",
      "\n",
      " AR_TS_MO_Kremmerodden-32-77.nc\n",
      "AR_TS_MO_Kremmerodden-32-77.nc does not have any of the variables ['VHM0', 'VAVH', 'WSPD']\n",
      "\n",
      " NO_TS_MO_StortemelkBoei.nc\n",
      "POINT(4.988999843597412 53.323001861572266)\n",
      "236  results found\n"
     ]
    },
    {
     "name": "stderr",
     "output_type": "stream",
     "text": [
      " 52%|█████▏    | 1284/2487 [2:00:59<53:07,  2.65s/it]  "
     ]
    },
    {
     "name": "stdout",
     "output_type": "stream",
     "text": [
      "\n",
      " AR_TS_MO_Vaage-57-131.nc\n",
      "AR_TS_MO_Vaage-57-131.nc does not have any of the variables ['VHM0', 'VAVH', 'WSPD']\n",
      "\n",
      " GL_WS_MO_6200080.nc\n",
      "GL_WS_MO_6200080.nc does not have any of the variables ['VHM0', 'VAVH', 'WSPD']\n",
      "\n",
      " AR_TS_MO_Landeyjahafnardufl.nc\n"
     ]
    },
    {
     "name": "stderr",
     "output_type": "stream",
     "text": [
      " 52%|█████▏    | 1286/2487 [2:00:59<36:09,  1.81s/it]"
     ]
    },
    {
     "name": "stdout",
     "output_type": "stream",
     "text": [
      "AR_TS_MO_Landeyjahafnardufl.nc does not have any valid data for this timeperiod\n",
      "\n",
      " GL_WS_MO_6200078.nc\n",
      "GL_WS_MO_6200078.nc does not have any of the variables ['VHM0', 'VAVH', 'WSPD']\n",
      "\n",
      " GL_TS_MO_2200187.nc\n",
      "POINT(127.0199966430664 33.130001068115234)\n",
      "29  results found\n"
     ]
    },
    {
     "name": "stderr",
     "output_type": "stream",
     "text": [
      " 52%|█████▏    | 1288/2487 [2:01:06<47:07,  2.36s/it]"
     ]
    },
    {
     "name": "stdout",
     "output_type": "stream",
     "text": [
      "\n",
      " BS_TS_MO_Nikolaev.nc\n",
      "BS_TS_MO_Nikolaev.nc does not have any valid data for this timeperiod\n",
      "\n",
      " GL_TS_MO_2300491.nc\n",
      "POLYGON((92.59500122070312 11.592000007629395,92.59500122070312 11.586000442504883,92.5999984741211 11.586000442504883,92.5999984741211 11.592000007629395,92.59500122070312 11.592000007629395))\n",
      "30  results found\n"
     ]
    },
    {
     "name": "stderr",
     "output_type": "stream",
     "text": [
      " 52%|█████▏    | 1290/2487 [2:01:19<1:08:48,  3.45s/it]"
     ]
    },
    {
     "name": "stdout",
     "output_type": "stream",
     "text": [
      "\n",
      " GL_WS_MO_46082.nc\n",
      "GL_WS_MO_46082.nc does not have any of the variables ['VHM0', 'VAVH', 'WSPD']\n",
      "\n",
      " GL_TS_MO_42362.nc\n"
     ]
    },
    {
     "name": "stderr",
     "output_type": "stream",
     "text": [
      " 52%|█████▏    | 1294/2487 [2:01:19<27:18,  1.37s/it]  "
     ]
    },
    {
     "name": "stdout",
     "output_type": "stream",
     "text": [
      "GL_TS_MO_42362.nc does not have any valid data for this timeperiod\n",
      "\n",
      " BO_TS_MO_OuluSantapankki.nc\n",
      "BO_TS_MO_OuluSantapankki.nc does not have any of the variables ['VHM0', 'VAVH', 'WSPD']\n",
      "\n",
      " GL_TS_MO_MEDS044.nc\n",
      "GL_TS_MO_MEDS044.nc does not have any valid data for this timeperiod\n",
      "\n",
      " BS_TS_MO_33836.nc\n",
      "BS_TS_MO_33836.nc does not have any valid data for this timeperiod\n",
      "\n",
      " GL_TS_MO_IF000617.nc\n",
      "GL_TS_MO_IF000617.nc does not have any of the variables ['VHM0', 'VAVH', 'WSPD']\n",
      "\n",
      " GL_TS_MO_EXAMP001.nc\n",
      "GL_TS_MO_EXAMP001.nc does not have any of the variables ['VHM0', 'VAVH', 'WSPD']\n",
      "\n",
      " BO_TS_MO_LasoOst.nc\n"
     ]
    },
    {
     "name": "stderr",
     "output_type": "stream",
     "text": [
      " 52%|█████▏    | 1297/2487 [2:01:20<16:29,  1.20it/s]"
     ]
    },
    {
     "name": "stdout",
     "output_type": "stream",
     "text": [
      "BO_TS_MO_LasoOst.nc does not have any valid data for this timeperiod\n",
      "BO_TS_MO_LasoOst.nc does not have any valid data for this timeperiod\n",
      "\n",
      " GL_TS_MO_44140.nc\n",
      "GL_TS_MO_44140.nc does not have any valid data for this timeperiod\n",
      "GL_TS_MO_44140.nc does not have any valid data for this timeperiod\n",
      "\n",
      " GL_TS_MO_41024.nc\n",
      "POINT(-78.47699737548828 33.83700180053711)\n"
     ]
    },
    {
     "name": "stderr",
     "output_type": "stream",
     "text": [
      " 52%|█████▏    | 1299/2487 [2:01:26<28:55,  1.46s/it]"
     ]
    },
    {
     "name": "stdout",
     "output_type": "stream",
     "text": [
      "30  results found\n",
      "\n",
      " GL_WS_MO_42041.nc\n"
     ]
    },
    {
     "name": "stderr",
     "output_type": "stream",
     "text": [
      " 52%|█████▏    | 1302/2487 [2:01:26<18:24,  1.07it/s]"
     ]
    },
    {
     "name": "stdout",
     "output_type": "stream",
     "text": [
      "GL_WS_MO_42041.nc does not have any of the variables ['VHM0', 'VAVH', 'WSPD']\n",
      "\n",
      " GL_WS_MO_42053.nc\n",
      "GL_WS_MO_42053.nc does not have any of the variables ['VHM0', 'VAVH', 'WSPD']\n",
      "\n",
      " GL_TS_MO_46045.nc\n",
      "GL_TS_MO_46045.nc does not have any valid data for this timeperiod\n",
      "GL_TS_MO_46045.nc does not have any valid data for this timeperiod\n",
      "\n",
      " GL_TS_MO_55047.nc\n",
      "GL_TS_MO_55047.nc is too close to land\n",
      "\n",
      " GL_TS_MO_6202404.nc\n",
      "POINT(-28.537670135498047 38.587669372558594)\n",
      "120  results found\n"
     ]
    },
    {
     "name": "stderr",
     "output_type": "stream",
     "text": [
      " 53%|█████▎    | 1306/2487 [2:01:36<28:12,  1.43s/it]"
     ]
    },
    {
     "name": "stdout",
     "output_type": "stream",
     "text": [
      "\n",
      " NO_TS_MO_OostendBuoy.nc\n",
      "NO_TS_MO_OostendBuoy.nc is too close to land\n",
      "\n",
      " IR_TS_MO_CaboDePalos-coast-buoy.nc\n",
      "IR_TS_MO_CaboDePalos-coast-buoy.nc does not have any valid data for this timeperiod\n",
      "IR_TS_MO_CaboDePalos-coast-buoy.nc does not have any valid data for this timeperiod\n",
      "\n",
      " GL_WS_MO_6200053.nc\n"
     ]
    },
    {
     "name": "stderr",
     "output_type": "stream",
     "text": [
      " 53%|█████▎    | 1307/2487 [2:01:36<23:59,  1.22s/it]"
     ]
    },
    {
     "name": "stdout",
     "output_type": "stream",
     "text": [
      "GL_WS_MO_6200053.nc does not have any of the variables ['VHM0', 'VAVH', 'WSPD']\n",
      "\n",
      " GL_WS_MO_51002.nc\n",
      "GL_WS_MO_51002.nc does not have any of the variables ['VHM0', 'VAVH', 'WSPD']\n",
      "\n",
      " GL_TS_MO_41049.nc\n",
      "POINT(-62.9379997253418 27.489999771118164)\n"
     ]
    },
    {
     "name": "stderr",
     "output_type": "stream",
     "text": [
      " 53%|█████▎    | 1309/2487 [2:01:41<32:52,  1.67s/it]"
     ]
    },
    {
     "name": "stdout",
     "output_type": "stream",
     "text": [
      "0  results found\n",
      "\n",
      " NO_TS_MO_PenzanceMET.nc\n",
      "NO_TS_MO_PenzanceMET.nc does not have any valid data for this timeperiod\n",
      "\n",
      " GL_TS_MO_MEDS108.nc\n"
     ]
    },
    {
     "name": "stderr",
     "output_type": "stream",
     "text": [
      " 53%|█████▎    | 1311/2487 [2:01:41<22:51,  1.17s/it]"
     ]
    },
    {
     "name": "stdout",
     "output_type": "stream",
     "text": [
      "GL_TS_MO_MEDS108.nc does not have any valid data for this timeperiod\n",
      "\n",
      " GL_TS_MO_6100002.nc\n",
      "POLYGON((4.640999794006348 42.051700592041016,4.640999794006348 42.0817985534668,4.679999828338623 42.0817985534668,4.679999828338623 42.051700592041016,4.640999794006348 42.051700592041016))\n",
      "233  results found\n"
     ]
    },
    {
     "name": "stderr",
     "output_type": "stream",
     "text": [
      " 53%|█████▎    | 1313/2487 [2:02:15<1:50:09,  5.63s/it]"
     ]
    },
    {
     "name": "stdout",
     "output_type": "stream",
     "text": [
      "\n",
      " NO_TS_MO_HansweertPunt2.nc\n",
      "NO_TS_MO_HansweertPunt2.nc does not have any valid data for this timeperiod\n",
      "NO_TS_MO_HansweertPunt2.nc does not have any valid data for this timeperiod\n",
      "\n",
      " GL_TS_MO_46212.nc\n"
     ]
    },
    {
     "name": "stderr",
     "output_type": "stream",
     "text": [
      " 53%|█████▎    | 1314/2487 [2:02:15<1:25:29,  4.37s/it]"
     ]
    },
    {
     "name": "stdout",
     "output_type": "stream",
     "text": [
      "GL_TS_MO_46212.nc does not have any valid data for this timeperiod\n",
      "\n",
      " GL_TS_MO_WEL240.nc\n",
      "GL_TS_MO_WEL240.nc does not have any valid data for this timeperiod\n",
      "\n",
      " GL_TS_MO_MEDS151.nc\n",
      "GL_TS_MO_MEDS151.nc does not have any valid data for this timeperiod\n",
      "\n",
      " IR_TS_MO_6200199.nc\n",
      "POINT(-9.210000038146973 39.560001373291016)\n",
      "119  results found\n"
     ]
    },
    {
     "name": "stderr",
     "output_type": "stream",
     "text": [
      " 53%|█████▎    | 1317/2487 [2:02:23<1:09:13,  3.55s/it]"
     ]
    },
    {
     "name": "stdout",
     "output_type": "stream",
     "text": [
      "\n",
      " GL_TS_MO_MEDS264.nc\n",
      "GL_TS_MO_MEDS264.nc does not have any valid data for this timeperiod\n",
      "\n",
      " GL_TS_MO_15002.nc\n",
      "POLYGON((-10.0 -0.012000000104308128,-10.0 0.02500000037252903,-9.834989547729492 0.02500000037252903,-9.834989547729492 -0.012000000104308128,-10.0 -0.012000000104308128))\n"
     ]
    },
    {
     "name": "stderr",
     "output_type": "stream",
     "text": [
      " 53%|█████▎    | 1319/2487 [2:02:28<1:03:00,  3.24s/it]"
     ]
    },
    {
     "name": "stdout",
     "output_type": "stream",
     "text": [
      "0  results found\n",
      "\n",
      " IR_TS_MO_6201070.nc\n",
      "POLYGON((-8.564499855041504 43.349998474121094,-8.564499855041504 43.347198486328125,-8.558799743652344 43.347198486328125,-8.558799743652344 43.349998474121094,-8.564499855041504 43.349998474121094))\n",
      "111  results found\n"
     ]
    },
    {
     "name": "stderr",
     "output_type": "stream",
     "text": [
      " 53%|█████▎    | 1320/2487 [2:03:44<5:24:48, 16.70s/it]"
     ]
    },
    {
     "name": "stdout",
     "output_type": "stream",
     "text": [
      "\n",
      " GL_TS_MO_51211.nc\n",
      "POINT(-157.95899963378906 21.297000885009766)\n",
      "117  results found\n"
     ]
    },
    {
     "name": "stderr",
     "output_type": "stream",
     "text": [
      " 53%|█████▎    | 1325/2487 [2:04:11<2:47:27,  8.65s/it]"
     ]
    },
    {
     "name": "stdout",
     "output_type": "stream",
     "text": [
      "\n",
      " MO_TS_MO_MEDA2.nc\n",
      "MO_TS_MO_MEDA2.nc does not have any of the variables ['VHM0', 'VAVH', 'WSPD']\n",
      "\n",
      " AR_TS_MO_Midtsandtangen-47-112.nc\n",
      "AR_TS_MO_Midtsandtangen-47-112.nc does not have any of the variables ['VHM0', 'VAVH', 'WSPD']\n",
      "\n",
      " GL_TS_MO_MEDS021.nc\n",
      "GL_TS_MO_MEDS021.nc does not have any valid data for this timeperiod\n",
      "\n",
      " IR_TS_MO_ValenciaI-buoy.nc\n",
      "IR_TS_MO_ValenciaI-buoy.nc does not have any valid data for this timeperiod\n",
      "IR_TS_MO_ValenciaI-buoy.nc does not have any valid data for this timeperiod\n",
      "\n",
      " NO_TS_MO_FelixstoweMET.nc\n",
      "NO_TS_MO_FelixstoweMET.nc does not have any valid data for this timeperiod\n",
      "\n",
      " GL_TS_MO_55030.nc\n",
      "POLYGON((153.1699981689453 -26.549999237060547,153.1699981689453 -26.93000030517578,153.3000030517578 -26.93000030517578,153.3000030517578 -26.549999237060547,153.1699981689453 -26.549999237060547))\n",
      "60  results found\n"
     ]
    },
    {
     "name": "stderr",
     "output_type": "stream",
     "text": [
      " 53%|█████▎    | 1327/2487 [2:05:01<4:15:32, 13.22s/it]"
     ]
    },
    {
     "name": "stdout",
     "output_type": "stream",
     "text": [
      "\n",
      " GL_WS_MO_dsln7.nc\n",
      "GL_WS_MO_dsln7.nc does not have any of the variables ['VHM0', 'VAVH', 'WSPD']\n",
      "\n",
      " AR_TS_MO_Sjoesanden-18-38.nc\n"
     ]
    },
    {
     "name": "stderr",
     "output_type": "stream",
     "text": [
      " 53%|█████▎    | 1329/2487 [2:05:02<3:03:10,  9.49s/it]"
     ]
    },
    {
     "name": "stdout",
     "output_type": "stream",
     "text": [
      "AR_TS_MO_Sjoesanden-18-38.nc does not have any of the variables ['VHM0', 'VAVH', 'WSPD']\n",
      "\n",
      " GL_TS_MO_61004.nc\n",
      "GL_TS_MO_61004.nc does not have any valid data for this timeperiod\n",
      "GL_TS_MO_61004.nc does not have any valid data for this timeperiod\n"
     ]
    },
    {
     "name": "stderr",
     "output_type": "stream",
     "text": [
      " 54%|█████▎    | 1331/2487 [2:05:02<2:03:14,  6.40s/it]"
     ]
    },
    {
     "name": "stdout",
     "output_type": "stream",
     "text": [
      "\n",
      " GL_TS_MO_MEDS503W.nc\n",
      "GL_TS_MO_MEDS503W.nc does not have any valid data for this timeperiod\n",
      "\n",
      " NO_TS_MO_Amelander11.nc\n"
     ]
    },
    {
     "name": "stderr",
     "output_type": "stream",
     "text": [
      " 54%|█████▎    | 1332/2487 [2:05:02<1:37:56,  5.09s/it]"
     ]
    },
    {
     "name": "stdout",
     "output_type": "stream",
     "text": [
      "NO_TS_MO_Amelander11.nc does not have any valid data for this timeperiod\n",
      "NO_TS_MO_Amelander11.nc does not have any valid data for this timeperiod\n",
      "\n",
      " AR_TS_MO_Grimsey.nc\n",
      "AR_TS_MO_Grimsey.nc does not have any of the variables ['VHM0', 'VAVH', 'WSPD']\n"
     ]
    },
    {
     "name": "stderr",
     "output_type": "stream",
     "text": [
      " 54%|█████▎    | 1333/2487 [2:05:02<1:15:14,  3.91s/it]"
     ]
    },
    {
     "name": "stdout",
     "output_type": "stream",
     "text": [
      "\n",
      " GL_TS_MO_45159.nc\n",
      "GL_TS_MO_45159.nc does not have any valid data for this timeperiod\n"
     ]
    },
    {
     "name": "stderr",
     "output_type": "stream",
     "text": [
      " 54%|█████▎    | 1334/2487 [2:05:03<57:10,  2.97s/it]  "
     ]
    },
    {
     "name": "stdout",
     "output_type": "stream",
     "text": [
      "GL_TS_MO_45159.nc is too close to land\n",
      "\n",
      " BO_TS_MO_Uusmadal.nc\n",
      "BO_TS_MO_Uusmadal.nc does not have any of the variables ['VHM0', 'VAVH', 'WSPD']\n",
      "\n",
      " GL_TS_MO_WEL446.nc\n",
      "GL_TS_MO_WEL446.nc does not have any valid data for this timeperiod\n",
      "\n",
      " NO_TS_MO_ScheurWest.nc\n"
     ]
    },
    {
     "name": "stderr",
     "output_type": "stream",
     "text": [
      " 54%|█████▍    | 1337/2487 [2:05:03<28:24,  1.48s/it]"
     ]
    },
    {
     "name": "stdout",
     "output_type": "stream",
     "text": [
      "NO_TS_MO_ScheurWest.nc does not have any valid data for this timeperiod\n",
      "NO_TS_MO_ScheurWest.nc does not have any valid data for this timeperiod\n",
      "\n",
      " BO_TS_MO_Dalbosjon.nc\n",
      "BO_TS_MO_Dalbosjon.nc does not have any of the variables ['VHM0', 'VAVH', 'WSPD']\n",
      "\n",
      " GL_TS_MO_41064.nc\n",
      "POINT(-76.9489974975586 34.207000732421875)\n"
     ]
    },
    {
     "name": "stderr",
     "output_type": "stream",
     "text": [
      " 54%|█████▍    | 1339/2487 [2:05:14<55:17,  2.89s/it]"
     ]
    },
    {
     "name": "stdout",
     "output_type": "stream",
     "text": [
      "27  results found\n",
      "\n",
      " NO_TS_MO_6200103.nc\n",
      "POINT(-2.9000000953674316 49.900001525878906)\n",
      "179  results found\n"
     ]
    },
    {
     "name": "stderr",
     "output_type": "stream",
     "text": [
      " 54%|█████▍    | 1340/2487 [2:05:35<2:00:28,  6.30s/it]"
     ]
    },
    {
     "name": "stdout",
     "output_type": "stream",
     "text": [
      "\n",
      " GL_TS_MO_44044.nc\n",
      "GL_TS_MO_44044.nc does not have any valid data for this timeperiod\n",
      "\n",
      " GL_TS_MO_44176.nc\n"
     ]
    },
    {
     "name": "stderr",
     "output_type": "stream",
     "text": [
      " 54%|█████▍    | 1342/2487 [2:05:35<1:18:31,  4.11s/it]"
     ]
    },
    {
     "name": "stdout",
     "output_type": "stream",
     "text": [
      "GL_TS_MO_44176.nc does not have any valid data for this timeperiod\n",
      "\n",
      " GL_TS_MO_31004.nc\n",
      "POLYGON((-32.640018463134766 -13.545000076293945,-32.640018463134766 -13.517000198364258,-32.58401870727539 -13.517000198364258,-32.58401870727539 -13.545000076293945,-32.640018463134766 -13.545000076293945))\n"
     ]
    },
    {
     "name": "stderr",
     "output_type": "stream",
     "text": [
      " 54%|█████▍    | 1344/2487 [2:05:46<1:21:25,  4.27s/it]"
     ]
    },
    {
     "name": "stdout",
     "output_type": "stream",
     "text": [
      "0  results found\n",
      "\n",
      " GL_WS_MO_46258.nc\n",
      "GL_WS_MO_46258.nc does not have any of the variables ['VHM0', 'VAVH', 'WSPD']\n",
      "\n",
      " GL_TS_MO_BremerBay02.nc\n"
     ]
    },
    {
     "name": "stderr",
     "output_type": "stream",
     "text": [
      " 54%|█████▍    | 1346/2487 [2:05:47<46:52,  2.46s/it]  "
     ]
    },
    {
     "name": "stdout",
     "output_type": "stream",
     "text": [
      "GL_TS_MO_BremerBay02.nc does not have any valid data for this timeperiod\n",
      "\n",
      " NO_TS_MO_6201017.nc\n",
      "NO_TS_MO_6201017.nc does not have any valid data for this timeperiod\n",
      "\n",
      " GL_TS_MO_46263.nc\n",
      "GL_TS_MO_46263.nc does not have any valid data for this timeperiod\n",
      "\n",
      " GL_TS_MO_48400.nc\n",
      "POINT(-144.89999389648438 50.099998474121094)\n"
     ]
    },
    {
     "name": "stderr",
     "output_type": "stream",
     "text": [
      " 54%|█████▍    | 1350/2487 [2:05:57<43:36,  2.30s/it]  "
     ]
    },
    {
     "name": "stdout",
     "output_type": "stream",
     "text": [
      "0  results found\n",
      "\n",
      " IR_TS_MO_WestwaveWaveBuoy.nc\n",
      "IR_TS_MO_WestwaveWaveBuoy.nc does not have any valid data for this timeperiod\n",
      "\n",
      " GL_TS_MO_7101550.nc\n",
      "GL_TS_MO_7101550.nc does not have any of the variables ['VHM0', 'VAVH', 'WSPD']\n",
      "\n",
      " GL_TS_MO_55027.nc\n",
      "POLYGON((153.27000427246094 -27.479999542236328,153.27000427246094 -26.898500442504883,153.47000122070312 -26.898500442504883,153.47000122070312 -27.479999542236328,153.27000427246094 -27.479999542236328))\n",
      "60  results found\n"
     ]
    },
    {
     "name": "stderr",
     "output_type": "stream",
     "text": [
      " 54%|█████▍    | 1354/2487 [2:06:35<1:36:16,  5.10s/it]"
     ]
    },
    {
     "name": "stdout",
     "output_type": "stream",
     "text": [
      "\n",
      " GL_TS_MO_7401500.nc\n",
      "GL_TS_MO_7401500.nc does not have any of the variables ['VHM0', 'VAVH', 'WSPD']\n",
      "\n",
      " GL_TS_MO_MEDS073.nc\n",
      "GL_TS_MO_MEDS073.nc does not have any valid data for this timeperiod\n",
      "\n",
      " NO_TS_MO_6201006.nc\n",
      "NO_TS_MO_6201006.nc does not have any valid data for this timeperiod\n",
      "\n",
      " GL_TS_MO_52121.nc\n",
      "POLYGON((141.67999267578125 -13.130000114440918,141.67999267578125 -12.680000305175781,142.1300048828125 -12.680000305175781,142.1300048828125 -13.130000114440918,141.67999267578125 -13.130000114440918))\n",
      "58  results found\n"
     ]
    },
    {
     "name": "stderr",
     "output_type": "stream",
     "text": [
      " 55%|█████▍    | 1356/2487 [2:06:57<2:03:10,  6.53s/it]"
     ]
    },
    {
     "name": "stdout",
     "output_type": "stream",
     "text": [
      "\n",
      " IR_TS_MO_Matxitxako-buoy.nc\n",
      "IR_TS_MO_Matxitxako-buoy.nc does not have any valid data for this timeperiod\n",
      "IR_TS_MO_Matxitxako-buoy.nc does not have any valid data for this timeperiod\n",
      "\n",
      " GL_TS_MO_4800400.nc\n",
      "GL_TS_MO_4800400.nc does not have any valid data for this timeperiod\n",
      "\n",
      " GL_TS_MO_42023.nc\n",
      "POINT(-83.08599853515625 26.010000228881836)\n"
     ]
    },
    {
     "name": "stderr",
     "output_type": "stream",
     "text": [
      " 55%|█████▍    | 1358/2487 [2:07:08<1:56:57,  6.22s/it]"
     ]
    },
    {
     "name": "stdout",
     "output_type": "stream",
     "text": [
      "28  results found\n",
      "\n",
      " BS_TS_MO_37006.nc\n"
     ]
    },
    {
     "name": "stderr",
     "output_type": "stream",
     "text": [
      " 55%|█████▍    | 1360/2487 [2:07:08<1:12:19,  3.85s/it]"
     ]
    },
    {
     "name": "stdout",
     "output_type": "stream",
     "text": [
      "BS_TS_MO_37006.nc does not have any valid data for this timeperiod\n",
      "\n",
      " GL_TS_MO_MEDS022.nc\n",
      "GL_TS_MO_MEDS022.nc does not have any valid data for this timeperiod\n",
      "\n",
      " NO_TS_MO_MeetboeiRZGN1.nc\n",
      "POINT(6.632199764251709 53.56999969482422)\n",
      "236  results found\n"
     ]
    },
    {
     "name": "stderr",
     "output_type": "stream",
     "text": [
      " 55%|█████▍    | 1362/2487 [2:07:18<1:14:15,  3.96s/it]"
     ]
    },
    {
     "name": "stdout",
     "output_type": "stream",
     "text": [
      "\n",
      " NO_TS_MO_ZeebruggeWeatherStation.nc\n",
      "NO_TS_MO_ZeebruggeWeatherStation.nc is too close to land\n",
      "\n",
      " GL_WS_MO_46062.nc\n"
     ]
    },
    {
     "name": "stderr",
     "output_type": "stream",
     "text": [
      " 55%|█████▍    | 1364/2487 [2:07:19<42:58,  2.30s/it]  "
     ]
    },
    {
     "name": "stdout",
     "output_type": "stream",
     "text": [
      "GL_WS_MO_46062.nc does not have any of the variables ['VHM0', 'VAVH', 'WSPD']\n",
      "\n",
      " GL_TS_MO_42006.nc\n",
      "GL_TS_MO_42006.nc does not have any valid data for this timeperiod\n",
      "GL_TS_MO_42006.nc does not have any valid data for this timeperiod\n",
      "\n",
      " GL_TS_MO_T2N95W.nc\n",
      "POINT(-95.0 2.0)\n"
     ]
    },
    {
     "name": "stderr",
     "output_type": "stream",
     "text": [
      " 55%|█████▍    | 1367/2487 [2:08:14<2:44:10,  8.79s/it]"
     ]
    },
    {
     "name": "stdout",
     "output_type": "stream",
     "text": [
      "0  results found\n",
      "\n",
      " BO_TS_MO_PaterNoster.nc\n",
      "BO_TS_MO_PaterNoster.nc does not have any valid data for this timeperiod\n",
      "\n",
      " GL_TS_MO_WEL437.nc\n",
      "GL_TS_MO_WEL437.nc does not have any valid data for this timeperiod\n",
      "\n",
      " BS_TS_MO_Charegradskoegirlo.nc\n",
      "BS_TS_MO_Charegradskoegirlo.nc does not have any valid data for this timeperiod\n",
      "\n",
      " GL_TS_MO_MEDS036.nc\n",
      "GL_TS_MO_MEDS036.nc does not have any valid data for this timeperiod\n",
      "\n",
      " GL_TS_MO_46246.nc\n",
      "POINT(-145.1699981689453 50.016998291015625)\n"
     ]
    },
    {
     "name": "stderr",
     "output_type": "stream",
     "text": [
      " 55%|█████▌    | 1370/2487 [2:08:22<1:52:59,  6.07s/it]"
     ]
    },
    {
     "name": "stdout",
     "output_type": "stream",
     "text": [
      "0  results found\n",
      "\n",
      " GL_TS_MO_41065.nc\n",
      "POINT(-79.61900329589844 32.801998138427734)\n"
     ]
    },
    {
     "name": "stderr",
     "output_type": "stream",
     "text": [
      " 55%|█████▌    | 1371/2487 [2:08:30<1:58:26,  6.37s/it]"
     ]
    },
    {
     "name": "stdout",
     "output_type": "stream",
     "text": [
      "29  results found\n",
      "\n",
      " GL_TS_MO_MEDS149.nc\n",
      "GL_TS_MO_MEDS149.nc does not have any valid data for this timeperiod\n",
      "\n",
      " NO_TS_MO_6201014.nc\n",
      "NO_TS_MO_6201014.nc does not have any valid data for this timeperiod\n",
      "\n",
      " BS_TS_MO_SPOT0776.nc\n",
      "POLYGON((27.635499954223633 42.50469970703125,27.635499954223633 42.50680160522461,27.633499145507812 42.50680160522461,27.633499145507812 42.50469970703125,27.635499954223633 42.50469970703125))\n",
      "237  results found\n"
     ]
    },
    {
     "name": "stderr",
     "output_type": "stream",
     "text": [
      " 55%|█████▌    | 1374/2487 [2:08:47<1:52:38,  6.07s/it]"
     ]
    },
    {
     "name": "stdout",
     "output_type": "stream",
     "text": [
      "\n",
      " NO_TS_MO_Kwintebank.nc\n",
      "POINT(2.7060000896453857 51.3489990234375)\n",
      "233  results found\n"
     ]
    },
    {
     "name": "stderr",
     "output_type": "stream",
     "text": [
      " 55%|█████▌    | 1376/2487 [2:09:00<1:48:56,  5.88s/it]"
     ]
    },
    {
     "name": "stdout",
     "output_type": "stream",
     "text": [
      "\n",
      " GL_TS_MO_45187.nc\n",
      "GL_TS_MO_45187.nc is too close to land\n",
      "\n",
      " GL_TS_MO_42012.nc\n",
      "POLYGON((-87.5510025024414 30.059999465942383,-87.5510025024414 30.06399917602539,-87.5479965209961 30.06399917602539,-87.5479965209961 30.059999465942383,-87.5510025024414 30.059999465942383))\n",
      "28  results found\n"
     ]
    },
    {
     "name": "stderr",
     "output_type": "stream",
     "text": [
      " 55%|█████▌    | 1377/2487 [2:10:09<6:04:50, 19.72s/it]"
     ]
    },
    {
     "name": "stdout",
     "output_type": "stream",
     "text": [
      "\n",
      " GL_TS_MO_T8N155W.nc\n",
      "POINT(-155.0 8.0)\n"
     ]
    },
    {
     "name": "stderr",
     "output_type": "stream",
     "text": [
      " 55%|█████▌    | 1380/2487 [2:10:17<3:05:51, 10.07s/it]"
     ]
    },
    {
     "name": "stdout",
     "output_type": "stream",
     "text": [
      "0  results found\n",
      "\n",
      " GL_WS_MO_42065.nc\n",
      "GL_WS_MO_42065.nc does not have any of the variables ['VHM0', 'VAVH', 'WSPD']\n",
      "\n",
      " GL_TS_MO_WEL297.nc\n",
      "GL_TS_MO_WEL297.nc does not have any valid data for this timeperiod\n",
      "\n",
      " GL_TS_MO_41043.nc\n",
      "POINT(-64.79000091552734 21.030000686645508)\n",
      "60  results found\n"
     ]
    },
    {
     "name": "stderr",
     "output_type": "stream",
     "text": [
      " 56%|█████▌    | 1383/2487 [2:10:29<1:57:21,  6.38s/it]"
     ]
    },
    {
     "name": "stdout",
     "output_type": "stream",
     "text": [
      "\n",
      " GL_TS_MO_23169.nc\n",
      "GL_TS_MO_23169.nc does not have any valid data for this timeperiod\n",
      "\n",
      " GL_TS_MO_6200251.nc\n",
      "GL_TS_MO_6200251.nc does not have any of the variables ['VHM0', 'VAVH', 'WSPD']\n",
      "\n",
      " GL_TS_MO_MEDS147.nc\n",
      "GL_TS_MO_MEDS147.nc does not have any valid data for this timeperiod\n",
      "\n",
      " GL_TS_MO_1401535.nc\n"
     ]
    },
    {
     "name": "stderr",
     "output_type": "stream",
     "text": [
      " 56%|█████▌    | 1388/2487 [2:10:29<44:58,  2.46s/it]  "
     ]
    },
    {
     "name": "stdout",
     "output_type": "stream",
     "text": [
      "GL_TS_MO_1401535.nc does not have any of the variables ['VHM0', 'VAVH', 'WSPD']\n",
      "\n",
      " GL_TS_MO_23171.nc\n",
      "GL_TS_MO_23171.nc does not have any valid data for this timeperiod\n",
      "\n",
      " GL_TS_MO_WEL244.nc\n",
      "GL_TS_MO_WEL244.nc does not have any valid data for this timeperiod\n",
      "\n",
      " NO_TS_MO_ScheurOost.nc\n",
      "NO_TS_MO_ScheurOost.nc does not have any valid data for this timeperiod\n",
      "NO_TS_MO_ScheurOost.nc does not have any valid data for this timeperiod\n",
      "\n",
      " GL_WS_MO_6200074.nc\n"
     ]
    },
    {
     "name": "stderr",
     "output_type": "stream",
     "text": [
      " 56%|█████▌    | 1390/2487 [2:10:30<31:53,  1.74s/it]"
     ]
    },
    {
     "name": "stdout",
     "output_type": "stream",
     "text": [
      "GL_WS_MO_6200074.nc does not have any of the variables ['VHM0', 'VAVH', 'WSPD']\n",
      "\n",
      " GL_TS_MO_45178.nc\n",
      "GL_TS_MO_45178.nc does not have any valid data for this timeperiod\n",
      "\n",
      " GL_TS_MO_44004.nc\n"
     ]
    },
    {
     "name": "stderr",
     "output_type": "stream",
     "text": [
      " 56%|█████▌    | 1396/2487 [2:10:30<12:25,  1.46it/s]"
     ]
    },
    {
     "name": "stdout",
     "output_type": "stream",
     "text": [
      "GL_TS_MO_44004.nc does not have any valid data for this timeperiod\n",
      "GL_TS_MO_44004.nc does not have any valid data for this timeperiod\n",
      "\n",
      " GL_TS_MO_WEL412.nc\n",
      "GL_TS_MO_WEL412.nc does not have any valid data for this timeperiod\n",
      "\n",
      " GL_TS_MO_MEDS032.nc\n",
      "GL_TS_MO_MEDS032.nc does not have any valid data for this timeperiod\n",
      "\n",
      " GL_TS_MO_46250.nc\n",
      "GL_TS_MO_46250.nc does not have any valid data for this timeperiod\n",
      "\n",
      " AR_TS_MO_Langangen-7-98.nc\n",
      "AR_TS_MO_Langangen-7-98.nc does not have any of the variables ['VHM0', 'VAVH', 'WSPD']\n",
      "\n",
      " GL_TS_MO_MEDS089.nc\n",
      "GL_TS_MO_MEDS089.nc does not have any valid data for this timeperiod\n",
      "\n",
      " GL_TS_MO_5500048.nc\n",
      "GL_TS_MO_5500048.nc does not have any valid data for this timeperiod\n",
      "\n",
      " GL_TS_MO_46105.nc\n",
      "GL_TS_MO_46105.nc does not have any valid data for this timeperiod\n",
      "\n",
      " BS_TS_MO_CG.nc\n",
      "POINT(28.605499267578125 43.80220031738281)\n",
      "118  results found\n"
     ]
    },
    {
     "name": "stderr",
     "output_type": "stream",
     "text": [
      " 56%|█████▋    | 1399/2487 [2:10:39<26:10,  1.44s/it]"
     ]
    },
    {
     "name": "stdout",
     "output_type": "stream",
     "text": [
      "\n",
      " BS_TS_MO_99001.nc\n",
      "BS_TS_MO_99001.nc does not have any of the variables ['VHM0', 'VAVH', 'WSPD']\n",
      "\n",
      " GL_TS_MO_WEL419.nc\n",
      "GL_TS_MO_WEL419.nc does not have any valid data for this timeperiod\n",
      "\n",
      " GL_TS_MO_IF000550.nc\n"
     ]
    },
    {
     "name": "stderr",
     "output_type": "stream",
     "text": [
      " 56%|█████▋    | 1404/2487 [2:10:39<14:04,  1.28it/s]"
     ]
    },
    {
     "name": "stdout",
     "output_type": "stream",
     "text": [
      "GL_TS_MO_IF000550.nc does not have any of the variables ['VHM0', 'VAVH', 'WSPD']\n",
      "\n",
      " GL_TS_MO_WEL298.nc\n",
      "GL_TS_MO_WEL298.nc does not have any valid data for this timeperiod\n",
      "\n",
      " GL_TS_MO_42369.nc\n",
      "GL_TS_MO_42369.nc does not have any valid data for this timeperiod\n",
      "GL_TS_MO_42369.nc does not have any valid data for this timeperiod\n",
      "\n",
      " NO_TS_MO_6300112.nc\n",
      "POINT(1.0 61.099998474121094)\n",
      "333  results found\n",
      "\n",
      " GL_TS_MO_46215.nc\n"
     ]
    },
    {
     "name": "stderr",
     "output_type": "stream",
     "text": [
      " 57%|█████▋    | 1409/2487 [2:10:55<29:54,  1.66s/it]"
     ]
    },
    {
     "name": "stdout",
     "output_type": "stream",
     "text": [
      "GL_TS_MO_46215.nc is too close to land\n",
      "\n",
      " AR_TS_MO_Godalen-6-15.nc\n",
      "AR_TS_MO_Godalen-6-15.nc does not have any of the variables ['VHM0', 'VAVH', 'WSPD']\n",
      "\n",
      " GL_TS_MO_WEL424.nc\n",
      "GL_TS_MO_WEL424.nc does not have any valid data for this timeperiod\n",
      "\n",
      " GL_TS_MO_IF000612.nc\n",
      "GL_TS_MO_IF000612.nc does not have any of the variables ['VHM0', 'VAVH', 'WSPD']\n",
      "\n",
      " GL_TS_MO_MEDS326.nc\n",
      "GL_TS_MO_MEDS326.nc does not have any valid data for this timeperiod\n",
      "\n",
      " GL_WS_MO_45148.nc\n",
      "GL_WS_MO_45148.nc does not have any of the variables ['VHM0', 'VAVH', 'WSPD']\n",
      "\n",
      " NO_TS_MO_Wierumerwad2.nc\n"
     ]
    },
    {
     "name": "stderr",
     "output_type": "stream",
     "text": [
      " 57%|█████▋    | 1415/2487 [2:10:55<13:59,  1.28it/s]"
     ]
    },
    {
     "name": "stdout",
     "output_type": "stream",
     "text": [
      "NO_TS_MO_Wierumerwad2.nc is too close to land\n",
      "\n",
      " AR_TS_MO_Banken-7-54.nc\n",
      "AR_TS_MO_Banken-7-54.nc does not have any of the variables ['VHM0', 'VAVH', 'WSPD']\n",
      "\n",
      " GL_TS_MO_MEDS058.nc\n",
      "GL_TS_MO_MEDS058.nc does not have any valid data for this timeperiod\n",
      "\n",
      " GL_TS_MO_TENATSO.nc\n",
      "GL_TS_MO_TENATSO.nc does not have any of the variables ['VHM0', 'VAVH', 'WSPD']\n",
      "\n",
      " MO_TS_MO_NADR-SNG.nc\n"
     ]
    },
    {
     "name": "stderr",
     "output_type": "stream",
     "text": [
      " 57%|█████▋    | 1417/2487 [2:10:55<11:05,  1.61it/s]"
     ]
    },
    {
     "name": "stdout",
     "output_type": "stream",
     "text": [
      "MO_TS_MO_NADR-SNG.nc does not have any valid data for this timeperiod\n",
      "\n",
      " GL_TS_MO_IF000997.nc\n",
      "GL_TS_MO_IF000997.nc does not have any valid data for this timeperiod\n",
      "\n",
      " GL_TS_MO_MEDS132.nc\n",
      "GL_TS_MO_MEDS132.nc does not have any valid data for this timeperiod\n",
      "\n",
      " AR_TS_MO_Straumnesdufl.nc\n",
      "POINT(-23.366666793823242 66.4383316040039)\n",
      "475  results found\n"
     ]
    },
    {
     "name": "stderr",
     "output_type": "stream",
     "text": [
      " 57%|█████▋    | 1419/2487 [2:11:12<45:49,  2.57s/it]"
     ]
    },
    {
     "name": "stdout",
     "output_type": "stream",
     "text": [
      "\n",
      " GL_TS_MO_6200064.nc\n",
      "POINT(-1.4478000402450562 44.650299072265625)\n",
      "238  results found\n"
     ]
    },
    {
     "name": "stderr",
     "output_type": "stream",
     "text": [
      " 57%|█████▋    | 1420/2487 [2:11:26<1:17:27,  4.36s/it]"
     ]
    },
    {
     "name": "stdout",
     "output_type": "stream",
     "text": [
      "\n",
      " GL_TS_MO_4100300.nc\n",
      "POLYGON((-57.47999954223633 15.869999885559082,-57.47999954223633 15.84000015258789,-57.4900016784668 15.84000015258789,-57.4900016784668 15.869999885559082,-57.47999954223633 15.869999885559082))\n",
      "62  results found\n"
     ]
    },
    {
     "name": "stderr",
     "output_type": "stream",
     "text": [
      " 57%|█████▋    | 1421/2487 [2:11:39<1:44:03,  5.86s/it]"
     ]
    },
    {
     "name": "stdout",
     "output_type": "stream",
     "text": [
      "\n",
      " GL_WS_MO_46087.nc\n",
      "GL_WS_MO_46087.nc does not have any of the variables ['VHM0', 'VAVH', 'WSPD']\n",
      "\n",
      " GL_TS_MO_31007.nc\n",
      "POINT(-23.0 0.0)\n"
     ]
    },
    {
     "name": "stderr",
     "output_type": "stream",
     "text": [
      " 57%|█████▋    | 1423/2487 [2:11:46<1:28:35,  5.00s/it]"
     ]
    },
    {
     "name": "stdout",
     "output_type": "stream",
     "text": [
      "0  results found\n",
      "\n",
      " GL_TS_MO_T5N180W.nc\n",
      "POINT(180.0 5.0)\n"
     ]
    },
    {
     "name": "stderr",
     "output_type": "stream",
     "text": [
      " 57%|█████▋    | 1425/2487 [2:11:54<1:22:14,  4.65s/it]"
     ]
    },
    {
     "name": "stdout",
     "output_type": "stream",
     "text": [
      "0  results found\n",
      "\n",
      " GL_WS_MO_46269.nc\n",
      "GL_WS_MO_46269.nc does not have any of the variables ['VHM0', 'VAVH', 'WSPD']\n",
      "\n",
      " NO_TS_MO_6200135.nc\n",
      "NO_TS_MO_6200135.nc does not have any valid data for this timeperiod\n",
      "\n",
      " GL_TS_MO_4600205.nc\n"
     ]
    },
    {
     "name": "stderr",
     "output_type": "stream",
     "text": [
      " 57%|█████▋    | 1427/2487 [2:11:54<56:27,  3.20s/it]  "
     ]
    },
    {
     "name": "stdout",
     "output_type": "stream",
     "text": [
      "GL_TS_MO_4600205.nc does not have any valid data for this timeperiod\n",
      "\n",
      " GL_WS_MO_6200066.nc\n",
      "GL_WS_MO_6200066.nc does not have any of the variables ['VHM0', 'VAVH', 'WSPD']\n",
      "\n",
      " NO_TS_MO_LTKiel.nc\n"
     ]
    },
    {
     "name": "stderr",
     "output_type": "stream",
     "text": [
      " 57%|█████▋    | 1429/2487 [2:11:54<40:16,  2.28s/it]"
     ]
    },
    {
     "name": "stdout",
     "output_type": "stream",
     "text": [
      "NO_TS_MO_LTKiel.nc does not have any valid data for this timeperiod\n",
      "\n",
      " GL_TS_MO_52087.nc\n",
      "POLYGON((136.48399353027344 7.883999824523926,136.48399353027344 7.86299991607666,136.50599670410156 7.86299991607666,136.50599670410156 7.883999824523926,136.48399353027344 7.883999824523926))\n"
     ]
    },
    {
     "name": "stderr",
     "output_type": "stream",
     "text": [
      " 57%|█████▋    | 1430/2487 [2:12:00<52:27,  2.98s/it]"
     ]
    },
    {
     "name": "stdout",
     "output_type": "stream",
     "text": [
      "1  results found\n",
      "\n",
      " GL_WS_MO_46204.nc\n",
      "GL_WS_MO_46204.nc does not have any of the variables ['VHM0', 'VAVH', 'WSPD']\n",
      "\n",
      " IR_TS_MO_1300130.nc\n",
      "POLYGON((-15.808699607849121 28.15920066833496,-15.808699607849121 28.20170021057129,-15.409500122070312 28.20170021057129,-15.409500122070312 28.15920066833496,-15.808699607849121 28.15920066833496))\n",
      "177  results found\n"
     ]
    },
    {
     "name": "stderr",
     "output_type": "stream",
     "text": [
      " 58%|█████▊    | 1433/2487 [2:14:09<5:38:16, 19.26s/it]"
     ]
    },
    {
     "name": "stdout",
     "output_type": "stream",
     "text": [
      "\n",
      " GL_TS_MO_41140.nc\n",
      "GL_TS_MO_41140.nc does not have any valid data for this timeperiod\n",
      "\n",
      " GL_TS_MO_46033.nc\n",
      "GL_TS_MO_46033.nc does not have any valid data for this timeperiod\n",
      "\n",
      " GL_TS_MO_44142.nc\n"
     ]
    },
    {
     "name": "stderr",
     "output_type": "stream",
     "text": [
      " 58%|█████▊    | 1438/2487 [2:14:09<2:02:29,  7.01s/it]"
     ]
    },
    {
     "name": "stdout",
     "output_type": "stream",
     "text": [
      "GL_TS_MO_44142.nc does not have any valid data for this timeperiod\n",
      "GL_TS_MO_44142.nc does not have any valid data for this timeperiod\n",
      "\n",
      " GL_TS_MO_Dawesville01.nc\n",
      "GL_TS_MO_Dawesville01.nc does not have any valid data for this timeperiod\n",
      "\n",
      " GL_TS_MO_WEL234.nc\n",
      "GL_TS_MO_WEL234.nc does not have any valid data for this timeperiod\n",
      "\n",
      " GL_TS_MO_MEDS016.nc\n",
      "GL_TS_MO_MEDS016.nc does not have any valid data for this timeperiod\n",
      "\n",
      " GL_TS_MO_91328.nc\n",
      "GL_TS_MO_91328.nc does not have any valid data for this timeperiod\n",
      "\n",
      " GL_TS_MO_MEDS069.nc\n",
      "GL_TS_MO_MEDS069.nc does not have any valid data for this timeperiod\n",
      "\n",
      " GL_TS_MO_14041.nc\n",
      "POLYGON((53.32500076293945 -7.929999828338623,53.32500076293945 -9.04800033569336,55.0 -9.04800033569336,55.0 -7.929999828338623,53.32500076293945 -7.929999828338623))\n",
      "51  results found\n"
     ]
    },
    {
     "name": "stderr",
     "output_type": "stream",
     "text": [
      " 58%|█████▊    | 1443/2487 [2:14:19<1:10:38,  4.06s/it]"
     ]
    },
    {
     "name": "stdout",
     "output_type": "stream",
     "text": [
      "\n",
      " GL_WS_MO_43010.nc\n",
      "GL_WS_MO_43010.nc does not have any of the variables ['VHM0', 'VAVH', 'WSPD']\n",
      "\n",
      " GL_TS_MO_Geraldton04.nc\n",
      "GL_TS_MO_Geraldton04.nc does not have any valid data for this timeperiod\n",
      "\n",
      " GL_TS_MO_WEL425.nc\n",
      "GL_TS_MO_WEL425.nc does not have any valid data for this timeperiod\n",
      "\n",
      " NO_TS_MO_6300105.nc\n"
     ]
    },
    {
     "name": "stderr",
     "output_type": "stream",
     "text": [
      " 58%|█████▊    | 1445/2487 [2:14:19<51:19,  2.96s/it]  "
     ]
    },
    {
     "name": "stdout",
     "output_type": "stream",
     "text": [
      "NO_TS_MO_6300105.nc does not have any valid data for this timeperiod\n",
      "NO_TS_MO_6300105.nc does not have any valid data for this timeperiod\n",
      "\n",
      " IR_TS_MO_6200094.nc\n",
      "POINT(-6.704336166381836 51.690425872802734)\n",
      "227  results found\n"
     ]
    },
    {
     "name": "stderr",
     "output_type": "stream",
     "text": [
      " 58%|█████▊    | 1446/2487 [2:14:36<1:30:27,  5.21s/it]"
     ]
    },
    {
     "name": "stdout",
     "output_type": "stream",
     "text": [
      "\n",
      " GL_TS_MO_41008.nc\n",
      "POINT(-80.86599731445312 31.399999618530273)\n",
      "59  results found\n"
     ]
    },
    {
     "name": "stderr",
     "output_type": "stream",
     "text": [
      " 58%|█████▊    | 1449/2487 [2:14:44<1:04:17,  3.72s/it]"
     ]
    },
    {
     "name": "stdout",
     "output_type": "stream",
     "text": [
      "\n",
      " GL_TS_MO_MEDS330.nc\n",
      "GL_TS_MO_MEDS330.nc does not have any valid data for this timeperiod\n",
      "\n",
      " GL_WS_MO_46213.nc\n",
      "GL_WS_MO_46213.nc does not have any of the variables ['VHM0', 'VAVH', 'WSPD']\n",
      "\n",
      " NO_TS_MO_6200165.nc\n",
      "POINT(1.100000023841858 54.0)\n",
      "215  results found\n"
     ]
    },
    {
     "name": "stderr",
     "output_type": "stream",
     "text": [
      " 58%|█████▊    | 1452/2487 [2:14:57<1:02:04,  3.60s/it]"
     ]
    },
    {
     "name": "stdout",
     "output_type": "stream",
     "text": [
      "\n",
      " GL_TS_MO_MEDS262.nc\n",
      "GL_TS_MO_MEDS262.nc does not have any valid data for this timeperiod\n",
      "\n",
      " GL_WS_MO_52212.nc\n",
      "GL_WS_MO_52212.nc does not have any of the variables ['VHM0', 'VAVH', 'WSPD']\n",
      "\n",
      " GL_WS_MO_44025.nc\n"
     ]
    },
    {
     "name": "stderr",
     "output_type": "stream",
     "text": [
      " 58%|█████▊    | 1454/2487 [2:14:57<41:17,  2.40s/it]  "
     ]
    },
    {
     "name": "stdout",
     "output_type": "stream",
     "text": [
      "GL_WS_MO_44025.nc does not have any of the variables ['VHM0', 'VAVH', 'WSPD']\n",
      "\n",
      " GL_WS_MO_4100136.nc\n",
      "GL_WS_MO_4100136.nc does not have any of the variables ['VHM0', 'VAVH', 'WSPD']\n",
      "\n",
      " GL_TS_MO_44255.nc\n"
     ]
    },
    {
     "name": "stderr",
     "output_type": "stream",
     "text": [
      " 59%|█████▊    | 1456/2487 [2:14:57<28:16,  1.65s/it]"
     ]
    },
    {
     "name": "stdout",
     "output_type": "stream",
     "text": [
      "GL_TS_MO_44255.nc does not have any valid data for this timeperiod\n",
      "GL_TS_MO_44255.nc does not have any valid data for this timeperiod\n",
      "\n",
      " NO_TS_MO_AlphaVentus.nc\n",
      "NO_TS_MO_AlphaVentus.nc does not have any valid data for this timeperiod\n",
      "\n",
      " BO_TS_MO_VaderoarnaWR.nc\n",
      "POLYGON((10.92959976196289 58.483299255371094,10.92959976196289 58.49039840698242,10.934200286865234 58.49039840698242,10.934200286865234 58.483299255371094,10.92959976196289 58.483299255371094))\n",
      "234  results found\n"
     ]
    },
    {
     "name": "stderr",
     "output_type": "stream",
     "text": [
      " 59%|█████▊    | 1457/2487 [2:17:57<10:08:01, 35.42s/it]"
     ]
    },
    {
     "name": "stdout",
     "output_type": "stream",
     "text": [
      "\n",
      " GL_TS_MO_T8S180W.nc\n",
      "POINT(180.0 -8.0)\n"
     ]
    },
    {
     "name": "stderr",
     "output_type": "stream",
     "text": [
      " 59%|█████▊    | 1460/2487 [2:18:04<5:12:57, 18.28s/it] "
     ]
    },
    {
     "name": "stdout",
     "output_type": "stream",
     "text": [
      "0  results found\n",
      "\n",
      " GL_TS_MO_WEL256.nc\n",
      "GL_TS_MO_WEL256.nc does not have any valid data for this timeperiod\n",
      "\n",
      " GL_WS_MO_46256.nc\n",
      "GL_WS_MO_46256.nc does not have any of the variables ['VHM0', 'VAVH', 'WSPD']\n",
      "\n",
      " MO_TS_MO_CAPOMELE.nc\n",
      "MO_TS_MO_CAPOMELE.nc does not have any valid data for this timeperiod\n",
      "MO_TS_MO_CAPOMELE.nc does not have any valid data for this timeperiod\n",
      "\n",
      " AR_TS_MO_Isfjorden-N.nc\n"
     ]
    },
    {
     "name": "stderr",
     "output_type": "stream",
     "text": [
      " 59%|█████▉    | 1462/2487 [2:18:04<3:22:58, 11.88s/it]"
     ]
    },
    {
     "name": "stdout",
     "output_type": "stream",
     "text": [
      "AR_TS_MO_Isfjorden-N.nc does not have any of the variables ['VHM0', 'VAVH', 'WSPD']\n",
      "\n",
      " NO_TS_MO_Wandelaar.nc\n",
      "POINT(3.050600051879883 51.3922004699707)\n",
      "233  results found\n"
     ]
    },
    {
     "name": "stderr",
     "output_type": "stream",
     "text": [
      " 59%|█████▉    | 1465/2487 [2:18:16<2:09:13,  7.59s/it]"
     ]
    },
    {
     "name": "stdout",
     "output_type": "stream",
     "text": [
      "\n",
      " GL_WS_MO_44090.nc\n",
      "GL_WS_MO_44090.nc does not have any of the variables ['VHM0', 'VAVH', 'WSPD']\n",
      "\n",
      " GL_TS_MO_42375.nc\n",
      "GL_TS_MO_42375.nc does not have any valid data for this timeperiod\n",
      "GL_TS_MO_42375.nc does not have any valid data for this timeperiod\n",
      "\n",
      " GL_TS_MO_3100260.nc\n",
      "GL_TS_MO_3100260.nc does not have any valid data for this timeperiod\n",
      "\n",
      " GL_WS_MO_46t85.nc\n"
     ]
    },
    {
     "name": "stderr",
     "output_type": "stream",
     "text": [
      " 59%|█████▉    | 1468/2487 [2:18:16<1:12:38,  4.28s/it]"
     ]
    },
    {
     "name": "stdout",
     "output_type": "stream",
     "text": [
      "GL_WS_MO_46t85.nc does not have any of the variables ['VHM0', 'VAVH', 'WSPD']\n",
      "\n",
      " AR_TS_MO_Skonnordtjernet-32-74.nc\n",
      "AR_TS_MO_Skonnordtjernet-32-74.nc does not have any of the variables ['VHM0', 'VAVH', 'WSPD']\n",
      "\n",
      " GL_TS_MO_T2S95W.nc\n",
      "POINT(-95.0 -2.0)\n",
      "0  results found\n",
      "\n",
      " GL_TS_MO_46206.nc\n",
      "GL_TS_MO_46206.nc does not have any valid data for this timeperiod\n",
      "POINT(-125.99800109863281 48.834999084472656)\n",
      "119  results found\n"
     ]
    },
    {
     "name": "stderr",
     "output_type": "stream",
     "text": [
      " 59%|█████▉    | 1472/2487 [2:18:32<1:04:14,  3.80s/it]"
     ]
    },
    {
     "name": "stdout",
     "output_type": "stream",
     "text": [
      "\n",
      " GL_TS_MO_WEL335.nc\n",
      "GL_TS_MO_WEL335.nc does not have any valid data for this timeperiod\n",
      "\n",
      " GL_TS_MO_MEDS083.nc\n",
      "GL_TS_MO_MEDS083.nc does not have any valid data for this timeperiod\n",
      "\n",
      " GL_TS_MO_MEDS215.nc\n",
      "GL_TS_MO_MEDS215.nc does not have any valid data for this timeperiod\n",
      "\n",
      " GL_TS_MO_6200074.nc\n",
      "POINT(-3.2850000858306885 47.28499984741211)\n",
      "179  results found\n"
     ]
    },
    {
     "name": "stderr",
     "output_type": "stream",
     "text": [
      " 59%|█████▉    | 1476/2487 [2:18:44<52:14,  3.10s/it]  "
     ]
    },
    {
     "name": "stdout",
     "output_type": "stream",
     "text": [
      "\n",
      " GL_TS_MO_51200.nc\n",
      "GL_TS_MO_51200.nc does not have any valid data for this timeperiod\n",
      "\n",
      " GL_WS_MO_41021.nc\n",
      "GL_WS_MO_41021.nc does not have any of the variables ['VHM0', 'VAVH', 'WSPD']\n",
      "\n",
      " NO_TS_MO_6200164.nc\n",
      "POINT(0.800000011920929 57.20000076293945)\n",
      "234  results found\n"
     ]
    },
    {
     "name": "stderr",
     "output_type": "stream",
     "text": [
      " 59%|█████▉    | 1478/2487 [2:18:55<1:03:57,  3.80s/it]"
     ]
    },
    {
     "name": "stdout",
     "output_type": "stream",
     "text": [
      "\n",
      " GL_WS_MO_46243.nc\n",
      "GL_WS_MO_46243.nc does not have any of the variables ['VHM0', 'VAVH', 'WSPD']\n",
      "\n",
      " GL_TS_MO_41029.nc\n",
      "GL_TS_MO_41029.nc does not have any valid data for this timeperiod\n",
      "POINT(-79.6240005493164 32.803001403808594)\n"
     ]
    },
    {
     "name": "stderr",
     "output_type": "stream",
     "text": [
      " 59%|█████▉    | 1479/2487 [2:19:01<1:09:13,  4.12s/it]"
     ]
    },
    {
     "name": "stdout",
     "output_type": "stream",
     "text": [
      "29  results found\n",
      "\n",
      " GL_TS_MO_IF000255.nc\n",
      "GL_TS_MO_IF000255.nc does not have any of the variables ['VHM0', 'VAVH', 'WSPD']\n",
      "\n",
      " GL_WS_MO_41006.nc\n"
     ]
    },
    {
     "name": "stderr",
     "output_type": "stream",
     "text": [
      " 60%|█████▉    | 1481/2487 [2:19:01<46:24,  2.77s/it]  "
     ]
    },
    {
     "name": "stdout",
     "output_type": "stream",
     "text": [
      "GL_WS_MO_41006.nc does not have any of the variables ['VHM0', 'VAVH', 'WSPD']\n",
      "\n",
      " IR_TS_MO_6200091.nc\n",
      "POINT(-5.430200099945068 53.48360061645508)\n",
      "237  results found\n"
     ]
    },
    {
     "name": "stderr",
     "output_type": "stream",
     "text": [
      " 60%|█████▉    | 1481/2487 [2:19:16<46:24,  2.77s/it]"
     ]
    },
    {
     "name": "stdout",
     "output_type": "stream",
     "text": [
      "\n",
      " GL_TS_MO_4400050.nc\n",
      "POINT(-56.18333053588867 46.70000076293945)\n",
      "152  results found\n"
     ]
    },
    {
     "name": "stderr",
     "output_type": "stream",
     "text": [
      " 60%|█████▉    | 1483/2487 [2:19:26<1:39:57,  5.97s/it]"
     ]
    },
    {
     "name": "stdout",
     "output_type": "stream",
     "text": [
      "\n",
      " GL_TS_MO_6200163.nc\n",
      "POINT(-8.399999618530273 47.5)\n",
      "233  results found\n"
     ]
    },
    {
     "name": "stderr",
     "output_type": "stream",
     "text": [
      " 60%|█████▉    | 1486/2487 [2:19:39<1:19:42,  4.78s/it]"
     ]
    },
    {
     "name": "stdout",
     "output_type": "stream",
     "text": [
      "\n",
      " GL_TS_MO_4100135.nc\n",
      "GL_TS_MO_4100135.nc does not have any of the variables ['VHM0', 'VAVH', 'WSPD']\n",
      "\n",
      " GL_TS_MO_42025.nc\n",
      "GL_TS_MO_42025.nc does not have any valid data for this timeperiod\n",
      "\n",
      " GL_TS_MO_44025.nc\n",
      "POINT(-73.16400146484375 40.250999450683594)\n",
      "30  results found\n"
     ]
    },
    {
     "name": "stderr",
     "output_type": "stream",
     "text": [
      " 60%|█████▉    | 1488/2487 [2:19:46<1:12:03,  4.33s/it]"
     ]
    },
    {
     "name": "stdout",
     "output_type": "stream",
     "text": [
      "\n",
      " GL_WS_MO_51202.nc\n",
      "GL_WS_MO_51202.nc does not have any of the variables ['VHM0', 'VAVH', 'WSPD']\n",
      "\n",
      " GL_TS_MO_MEDS223.nc\n",
      "GL_TS_MO_MEDS223.nc does not have any valid data for this timeperiod\n",
      "\n",
      " GL_TS_MO_2200105.nc\n",
      "POINT(130.0 37.540000915527344)\n",
      "54  results found\n"
     ]
    },
    {
     "name": "stderr",
     "output_type": "stream",
     "text": [
      " 60%|█████▉    | 1490/2487 [2:19:53<1:06:23,  4.00s/it]"
     ]
    },
    {
     "name": "stdout",
     "output_type": "stream",
     "text": [
      "\n",
      " GL_TS_MO_32301.nc\n",
      "GL_TS_MO_32301.nc does not have any valid data for this timeperiod\n",
      "GL_TS_MO_32301.nc does not have any valid data for this timeperiod\n",
      "\n",
      " AR_TS_MO_BSO3.nc\n"
     ]
    },
    {
     "name": "stderr",
     "output_type": "stream",
     "text": [
      " 60%|██████    | 1494/2487 [2:19:53<31:57,  1.93s/it]  "
     ]
    },
    {
     "name": "stdout",
     "output_type": "stream",
     "text": [
      "AR_TS_MO_BSO3.nc does not have any of the variables ['VHM0', 'VAVH', 'WSPD']\n",
      "\n",
      " GL_TS_MO_1301001.nc\n",
      "GL_TS_MO_1301001.nc does not have any of the variables ['VHM0', 'VAVH', 'WSPD']\n",
      "\n",
      " GL_TS_MO_62076.nc\n",
      "GL_TS_MO_62076.nc does not have any valid data for this timeperiod\n",
      "GL_TS_MO_62076.nc does not have any valid data for this timeperiod\n",
      "\n",
      " GL_TS_MO_1301640.nc\n",
      "GL_TS_MO_1301640.nc does not have any valid data for this timeperiod\n",
      "GL_TS_MO_1301640.nc does not have any valid data for this timeperiod\n",
      "\n",
      " AR_TS_MO_Svingen-20-44.nc\n",
      "AR_TS_MO_Svingen-20-44.nc does not have any of the variables ['VHM0', 'VAVH', 'WSPD']\n",
      "\n",
      " GL_TS_MO_23174.nc\n"
     ]
    },
    {
     "name": "stderr",
     "output_type": "stream",
     "text": [
      " 60%|██████    | 1497/2487 [2:19:53<19:24,  1.18s/it]"
     ]
    },
    {
     "name": "stdout",
     "output_type": "stream",
     "text": [
      "GL_TS_MO_23174.nc does not have any valid data for this timeperiod\n",
      "\n",
      " BS_TS_MO_Odessaport.nc\n",
      "BS_TS_MO_Odessaport.nc does not have any valid data for this timeperiod\n",
      "\n",
      " GL_TS_MO_6200001.nc\n",
      "POINT(-5.0 45.20000076293945)\n",
      "179  results found\n"
     ]
    },
    {
     "name": "stderr",
     "output_type": "stream",
     "text": [
      " 60%|██████    | 1499/2487 [2:20:04<39:12,  2.38s/it]"
     ]
    },
    {
     "name": "stdout",
     "output_type": "stream",
     "text": [
      "\n",
      " GL_TS_MO_2301713.nc\n",
      "GL_TS_MO_2301713.nc does not have any of the variables ['VHM0', 'VAVH', 'WSPD']\n",
      "\n",
      " GL_TS_MO_46047.nc\n",
      "POLYGON((-119.5250015258789 32.38800048828125,-119.5250015258789 32.40399932861328,-119.50599670410156 32.40399932861328,-119.50599670410156 32.38800048828125,-119.5250015258789 32.38800048828125))\n",
      "127  results found\n"
     ]
    },
    {
     "name": "stderr",
     "output_type": "stream",
     "text": [
      " 60%|██████    | 1503/2487 [2:24:54<8:17:30, 30.34s/it] "
     ]
    },
    {
     "name": "stdout",
     "output_type": "stream",
     "text": [
      "\n",
      " AR_TS_MO_Klovsteinstjoedna-48-113.nc\n",
      "AR_TS_MO_Klovsteinstjoedna-48-113.nc does not have any of the variables ['VHM0', 'VAVH', 'WSPD']\n",
      "\n",
      " GL_TS_MO_23502.nc\n",
      "GL_TS_MO_23502.nc does not have any valid data for this timeperiod\n",
      "\n",
      " GL_TS_MO_Augusta03.nc\n",
      "GL_TS_MO_Augusta03.nc does not have any valid data for this timeperiod\n",
      "\n",
      " GL_TS_MO_56055.nc\n",
      "GL_TS_MO_56055.nc does not have any valid data for this timeperiod\n"
     ]
    },
    {
     "name": "stderr",
     "output_type": "stream",
     "text": [
      " 61%|██████    | 1508/2487 [2:24:54<3:36:30, 13.27s/it]"
     ]
    },
    {
     "name": "stdout",
     "output_type": "stream",
     "text": [
      "\n",
      " GL_TS_MO_6200086.nc\n",
      "GL_TS_MO_6200086.nc does not have any valid data for this timeperiod\n",
      "\n",
      " GL_TS_MO_46787A.nc\n",
      "GL_TS_MO_46787A.nc does not have any valid data for this timeperiod\n",
      "\n",
      " GL_TS_MO_WEL271.nc\n",
      "GL_TS_MO_WEL271.nc does not have any valid data for this timeperiod\n",
      "\n",
      " GL_TS_MO_MEDS150.nc\n",
      "GL_TS_MO_MEDS150.nc does not have any valid data for this timeperiod\n",
      "\n",
      " GL_WS_MO_46054.nc\n"
     ]
    },
    {
     "name": "stderr",
     "output_type": "stream",
     "text": [
      " 61%|██████    | 1513/2487 [2:24:54<1:40:38,  6.20s/it]"
     ]
    },
    {
     "name": "stdout",
     "output_type": "stream",
     "text": [
      "GL_WS_MO_46054.nc does not have any of the variables ['VHM0', 'VAVH', 'WSPD']\n",
      "\n",
      " GL_TS_MO_41119.nc\n",
      "GL_TS_MO_41119.nc does not have any valid data for this timeperiod\n",
      "\n",
      " BS_TS_MO_Illichevsk.nc\n",
      "BS_TS_MO_Illichevsk.nc does not have any valid data for this timeperiod\n",
      "\n",
      " IR_TS_MO_Langosteira-buoy.nc\n",
      "IR_TS_MO_Langosteira-buoy.nc does not have any valid data for this timeperiod\n",
      "\n",
      " GL_TS_MO_MEDS189.nc\n",
      "GL_TS_MO_MEDS189.nc does not have any valid data for this timeperiod\n",
      "\n",
      " NO_TS_MO_Schouwenbank.nc\n",
      "POINT(3.311666965484619 51.74833297729492)\n",
      "232  results found\n"
     ]
    },
    {
     "name": "stderr",
     "output_type": "stream",
     "text": [
      " 61%|██████    | 1516/2487 [2:25:10<1:31:30,  5.65s/it]"
     ]
    },
    {
     "name": "stdout",
     "output_type": "stream",
     "text": [
      "\n",
      " NO_TS_MO_Amelander21.nc\n",
      "NO_TS_MO_Amelander21.nc does not have any valid data for this timeperiod\n",
      "NO_TS_MO_Amelander21.nc does not have any valid data for this timeperiod\n",
      "\n",
      " BO_TS_MO_Kristineberg1.nc\n",
      "BO_TS_MO_Kristineberg1.nc does not have any valid data for this timeperiod\n",
      "\n",
      " GL_WS_MO_46107.nc\n",
      "GL_WS_MO_46107.nc does not have any of the variables ['VHM0', 'VAVH', 'WSPD']\n",
      "\n",
      " GL_TS_MO_46004.nc\n",
      "GL_TS_MO_46004.nc does not have any valid data for this timeperiod\n",
      "POINT(-136.09500122070312 50.93000030517578)\n",
      "58  results found\n"
     ]
    },
    {
     "name": "stderr",
     "output_type": "stream",
     "text": [
      " 61%|██████    | 1519/2487 [2:25:18<1:10:49,  4.39s/it]"
     ]
    },
    {
     "name": "stdout",
     "output_type": "stream",
     "text": [
      "\n",
      " GL_TS_MO_MEDS057.nc\n",
      "GL_TS_MO_MEDS057.nc does not have any valid data for this timeperiod\n",
      "\n",
      " GL_TS_MO_46267.nc\n",
      "POINT(-123.60700225830078 48.17300033569336)\n",
      "118  results found\n"
     ]
    },
    {
     "name": "stderr",
     "output_type": "stream",
     "text": [
      " 61%|██████    | 1521/2487 [2:25:28<1:14:40,  4.64s/it]"
     ]
    },
    {
     "name": "stdout",
     "output_type": "stream",
     "text": [
      "\n",
      " GL_TS_MO_WEL269.nc\n",
      "GL_TS_MO_WEL269.nc does not have any valid data for this timeperiod\n",
      "\n",
      " GL_TS_MO_41108.nc\n",
      "POINT(-78.01599884033203 33.72200012207031)\n",
      "30  results found\n"
     ]
    },
    {
     "name": "stderr",
     "output_type": "stream",
     "text": [
      " 61%|██████    | 1523/2487 [2:25:37<1:13:14,  4.56s/it]"
     ]
    },
    {
     "name": "stdout",
     "output_type": "stream",
     "text": [
      "\n",
      " GL_TS_MO_44043.nc\n",
      "GL_TS_MO_44043.nc does not have any valid data for this timeperiod\n"
     ]
    },
    {
     "name": "stderr",
     "output_type": "stream",
     "text": [
      " 61%|██████▏   | 1527/2487 [2:25:37<35:56,  2.25s/it]  "
     ]
    },
    {
     "name": "stdout",
     "output_type": "stream",
     "text": [
      "GL_TS_MO_44043.nc does not have any valid data for this timeperiod\n",
      "\n",
      " GL_TS_MO_MEDS002.nc\n",
      "GL_TS_MO_MEDS002.nc does not have any valid data for this timeperiod\n",
      "\n",
      " GL_TS_MO_4100134.nc\n",
      "GL_TS_MO_4100134.nc does not have any of the variables ['VHM0', 'VAVH', 'WSPD']\n",
      "\n",
      " NO_TS_MO_DenHelder.nc\n",
      "NO_TS_MO_DenHelder.nc does not have any of the variables ['VHM0', 'VAVH', 'WSPD']\n",
      "\n",
      " GL_TS_MO_46126.nc\n"
     ]
    },
    {
     "name": "stderr",
     "output_type": "stream",
     "text": [
      " 61%|██████▏   | 1529/2487 [2:25:38<26:08,  1.64s/it]"
     ]
    },
    {
     "name": "stdout",
     "output_type": "stream",
     "text": [
      "GL_TS_MO_46126.nc does not have any valid data for this timeperiod\n",
      "GL_TS_MO_46126.nc does not have any valid data for this timeperiod\n",
      "\n",
      " IR_TS_MO_Palamos-coast-buoy.nc\n",
      "IR_TS_MO_Palamos-coast-buoy.nc does not have any valid data for this timeperiod\n",
      "IR_TS_MO_Palamos-coast-buoy.nc does not have any valid data for this timeperiod\n",
      "\n",
      " NO_TS_MO_6200050.nc\n",
      "NO_TS_MO_6200050.nc does not have any valid data for this timeperiod\n"
     ]
    },
    {
     "name": "stderr",
     "output_type": "stream",
     "text": [
      " 62%|██████▏   | 1531/2487 [2:25:38<18:51,  1.18s/it]"
     ]
    },
    {
     "name": "stdout",
     "output_type": "stream",
     "text": [
      "NO_TS_MO_6200050.nc does not have any valid data for this timeperiod\n",
      "\n",
      " NO_TS_MO_6201028.nc\n",
      "NO_TS_MO_6201028.nc does not have any valid data for this timeperiod\n",
      "\n",
      " GL_TS_MO_45018.nc\n",
      "GL_TS_MO_45018.nc does not have any valid data for this timeperiod\n",
      "\n",
      " GL_TS_MO_WEL426.nc\n",
      "GL_TS_MO_WEL426.nc does not have any valid data for this timeperiod\n",
      "\n",
      " GL_TS_MO_46099.nc\n",
      "POINT(-124.56600189208984 46.986000061035156)\n",
      "87  results found\n"
     ]
    },
    {
     "name": "stderr",
     "output_type": "stream",
     "text": [
      " 62%|██████▏   | 1535/2487 [2:25:47<24:50,  1.57s/it]"
     ]
    },
    {
     "name": "stdout",
     "output_type": "stream",
     "text": [
      "\n",
      " GL_TS_MO_42014.nc\n",
      "GL_TS_MO_42014.nc does not have any valid data for this timeperiod\n",
      "\n",
      " GL_TS_MO_45002.nc\n"
     ]
    },
    {
     "name": "stderr",
     "output_type": "stream",
     "text": [
      " 62%|██████▏   | 1536/2487 [2:25:47<21:05,  1.33s/it]"
     ]
    },
    {
     "name": "stdout",
     "output_type": "stream",
     "text": [
      "GL_TS_MO_45002.nc is too close to land\n",
      "\n",
      " GL_TS_MO_42085.nc\n",
      "POINT(-66.53199768066406 17.868999481201172)\n",
      "83  results found\n"
     ]
    },
    {
     "name": "stderr",
     "output_type": "stream",
     "text": [
      " 62%|██████▏   | 1537/2487 [2:25:56<47:42,  3.01s/it]"
     ]
    },
    {
     "name": "stdout",
     "output_type": "stream",
     "text": [
      "\n",
      " GL_TS_MO_MEDS010.nc\n",
      "GL_TS_MO_MEDS010.nc does not have any valid data for this timeperiod\n",
      "\n",
      " GL_TS_MO_41038.nc\n",
      "POINT(-77.71499633789062 34.14099884033203)\n",
      "57  results found\n"
     ]
    },
    {
     "name": "stderr",
     "output_type": "stream",
     "text": [
      " 62%|██████▏   | 1539/2487 [2:26:04<52:23,  3.32s/it]"
     ]
    },
    {
     "name": "stdout",
     "output_type": "stream",
     "text": [
      "\n",
      " GL_TS_MO_4601699.nc\n",
      "GL_TS_MO_4601699.nc does not have any of the variables ['VHM0', 'VAVH', 'WSPD']\n",
      "\n",
      " GL_TS_MO_44075.nc\n",
      "POINT(-70.88300323486328 40.362998962402344)\n",
      "82  results found\n"
     ]
    },
    {
     "name": "stderr",
     "output_type": "stream",
     "text": [
      " 62%|██████▏   | 1541/2487 [2:26:15<1:03:14,  4.01s/it]"
     ]
    },
    {
     "name": "stdout",
     "output_type": "stream",
     "text": [
      "\n",
      " GL_TS_MO_42056.nc\n",
      "POINT(-84.94499969482422 19.81999969482422)\n"
     ]
    },
    {
     "name": "stderr",
     "output_type": "stream",
     "text": [
      " 62%|██████▏   | 1542/2487 [2:26:22<1:12:56,  4.63s/it]"
     ]
    },
    {
     "name": "stdout",
     "output_type": "stream",
     "text": [
      "0  results found\n",
      "\n",
      " GL_TS_MO_46063.nc\n"
     ]
    },
    {
     "name": "stderr",
     "output_type": "stream",
     "text": [
      " 62%|██████▏   | 1544/2487 [2:26:22<44:06,  2.81s/it]  "
     ]
    },
    {
     "name": "stdout",
     "output_type": "stream",
     "text": [
      "GL_TS_MO_46063.nc does not have any valid data for this timeperiod\n",
      "GL_TS_MO_46063.nc does not have any valid data for this timeperiod\n",
      "\n",
      " GL_WS_MO_51101.nc\n",
      "GL_WS_MO_51101.nc does not have any of the variables ['VHM0', 'VAVH', 'WSPD']\n",
      "\n",
      " NO_TS_MO_Europlatform3.nc\n",
      "POINT(3.2763888835906982 51.99861145019531)\n",
      "232  results found\n"
     ]
    },
    {
     "name": "stderr",
     "output_type": "stream",
     "text": [
      " 62%|██████▏   | 1545/2487 [2:26:42<1:51:23,  7.10s/it]"
     ]
    },
    {
     "name": "stdout",
     "output_type": "stream",
     "text": [
      "\n",
      " NO_TS_MO_6200125.nc\n",
      "NO_TS_MO_6200125.nc does not have any valid data for this timeperiod\n",
      "NO_TS_MO_6200125.nc does not have any valid data for this timeperiod\n",
      "\n",
      " GL_TS_MO_46125.nc\n"
     ]
    },
    {
     "name": "stderr",
     "output_type": "stream",
     "text": [
      " 62%|██████▏   | 1549/2487 [2:26:42<40:55,  2.62s/it]  "
     ]
    },
    {
     "name": "stdout",
     "output_type": "stream",
     "text": [
      "GL_TS_MO_46125.nc does not have any valid data for this timeperiod\n",
      "\n",
      " GL_TS_MO_MEDS004.nc\n",
      "GL_TS_MO_MEDS004.nc does not have any valid data for this timeperiod\n",
      "\n",
      " GL_WS_MO_46025.nc\n",
      "GL_WS_MO_46025.nc does not have any of the variables ['VHM0', 'VAVH', 'WSPD']\n",
      "\n",
      " GL_TS_MO_13011.nc\n",
      "GL_TS_MO_13011.nc does not have any valid data for this timeperiod\n",
      "\n",
      " NO_TS_MO_Uithuizerwad2.nc\n",
      "POINT(6.7580180168151855 53.467044830322266)\n",
      "236  results found\n"
     ]
    },
    {
     "name": "stderr",
     "output_type": "stream",
     "text": [
      " 62%|██████▏   | 1552/2487 [2:26:58<56:19,  3.61s/it]  "
     ]
    },
    {
     "name": "stdout",
     "output_type": "stream",
     "text": [
      "\n",
      " GL_WS_MO_51028.nc\n",
      "GL_WS_MO_51028.nc does not have any of the variables ['VHM0', 'VAVH', 'WSPD']\n",
      "\n",
      " MO_TS_MO_ADN-E2M3A.nc\n",
      "POINT(18.082416534423828 41.5276985168457)\n",
      "232  results found\n"
     ]
    },
    {
     "name": "stderr",
     "output_type": "stream",
     "text": [
      " 63%|██████▎   | 1555/2487 [2:27:08<47:22,  3.05s/it]  "
     ]
    },
    {
     "name": "stdout",
     "output_type": "stream",
     "text": [
      "\n",
      " GL_TS_MO_48213.nc\n",
      "GL_TS_MO_48213.nc does not have any valid data for this timeperiod\n",
      "GL_TS_MO_48213.nc does not have any valid data for this timeperiod\n",
      "\n",
      " GL_WS_MO_45143.nc\n",
      "GL_WS_MO_45143.nc does not have any of the variables ['VHM0', 'VAVH', 'WSPD']\n",
      "\n",
      " GL_WS_MO_41114.nc\n",
      "GL_WS_MO_41114.nc does not have any of the variables ['VHM0', 'VAVH', 'WSPD']\n",
      "\n",
      " GL_TS_MO_5501001.nc\n"
     ]
    },
    {
     "name": "stderr",
     "output_type": "stream",
     "text": [
      " 63%|██████▎   | 1558/2487 [2:27:08<26:10,  1.69s/it]"
     ]
    },
    {
     "name": "stdout",
     "output_type": "stream",
     "text": [
      "GL_TS_MO_5501001.nc does not have any of the variables ['VHM0', 'VAVH', 'WSPD']\n",
      "\n",
      " GL_TS_MO_42042.nc\n",
      "GL_TS_MO_42042.nc does not have any valid data for this timeperiod\n",
      "GL_TS_MO_42042.nc does not have any valid data for this timeperiod\n",
      "\n",
      " GL_TS_MO_46018.nc\n",
      "GL_TS_MO_46018.nc does not have any valid data for this timeperiod\n",
      "\n",
      " GL_TS_MO_62061.nc\n",
      "GL_TS_MO_62061.nc does not have any valid data for this timeperiod\n"
     ]
    },
    {
     "name": "stderr",
     "output_type": "stream",
     "text": [
      " 63%|██████▎   | 1560/2487 [2:27:08<18:33,  1.20s/it]"
     ]
    },
    {
     "name": "stdout",
     "output_type": "stream",
     "text": [
      "GL_TS_MO_62061.nc does not have any valid data for this timeperiod\n",
      "\n",
      " NO_TS_MO_6201050.nc\n",
      "NO_TS_MO_6201050.nc does not have any valid data for this timeperiod\n",
      "\n",
      " GL_TS_MO_46108.nc\n",
      "POINT(-151.82899475097656 59.59600067138672)\n",
      "53  results found\n"
     ]
    },
    {
     "name": "stderr",
     "output_type": "stream",
     "text": [
      " 63%|██████▎   | 1564/2487 [2:27:17<23:23,  1.52s/it]"
     ]
    },
    {
     "name": "stdout",
     "output_type": "stream",
     "text": [
      "\n",
      " GL_TS_MO_MEDS142.nc\n",
      "GL_TS_MO_MEDS142.nc does not have any valid data for this timeperiod\n",
      "\n",
      " GL_TS_MO_MEDS106.nc\n",
      "GL_TS_MO_MEDS106.nc does not have any valid data for this timeperiod\n",
      "\n",
      " NO_TS_MO_GreifswalderOie.nc\n",
      "NO_TS_MO_GreifswalderOie.nc does not have any of the variables ['VHM0', 'VAVH', 'WSPD']\n",
      "\n",
      " GL_TS_MO_48212.nc\n"
     ]
    },
    {
     "name": "stderr",
     "output_type": "stream",
     "text": [
      " 63%|██████▎   | 1566/2487 [2:27:17<16:37,  1.08s/it]"
     ]
    },
    {
     "name": "stdout",
     "output_type": "stream",
     "text": [
      "GL_TS_MO_48212.nc does not have any valid data for this timeperiod\n",
      "\n",
      " NO_TS_MO_Gullfaks-C.nc\n",
      "POINT(2.268699884414673 61.204200744628906)\n",
      "288  results found\n"
     ]
    },
    {
     "name": "stderr",
     "output_type": "stream",
     "text": [
      " 63%|██████▎   | 1570/2487 [2:27:37<37:58,  2.48s/it]  "
     ]
    },
    {
     "name": "stdout",
     "output_type": "stream",
     "text": [
      "\n",
      " AR_TS_MO_Gakorivannet-33-86.nc\n",
      "AR_TS_MO_Gakorivannet-33-86.nc does not have any of the variables ['VHM0', 'VAVH', 'WSPD']\n",
      "\n",
      " GL_WS_MO_41023.nc\n",
      "GL_WS_MO_41023.nc does not have any of the variables ['VHM0', 'VAVH', 'WSPD']\n",
      "\n",
      " GL_WS_MO_46081.nc\n",
      "GL_WS_MO_46081.nc does not have any of the variables ['VHM0', 'VAVH', 'WSPD']\n",
      "\n",
      " GL_TS_MO_MEDS157.nc\n",
      "GL_TS_MO_MEDS157.nc does not have any valid data for this timeperiod\n",
      "\n",
      " GL_TS_MO_42095.nc\n",
      "POINT(-81.96700286865234 24.406999588012695)\n",
      "28  results found\n"
     ]
    },
    {
     "name": "stderr",
     "output_type": "stream",
     "text": [
      " 63%|██████▎   | 1572/2487 [2:27:44<42:02,  2.76s/it]"
     ]
    },
    {
     "name": "stdout",
     "output_type": "stream",
     "text": [
      "\n",
      " GL_TS_MO_55018.nc\n",
      "POLYGON((153.22999572753906 -30.3700008392334,153.22999572753906 -29.81999969482422,153.5 -29.81999969482422,153.5 -30.3700008392334,153.22999572753906 -30.3700008392334))\n",
      "31  results found\n"
     ]
    },
    {
     "name": "stderr",
     "output_type": "stream",
     "text": [
      " 63%|██████▎   | 1573/2487 [2:27:59<1:14:59,  4.92s/it]"
     ]
    },
    {
     "name": "stdout",
     "output_type": "stream",
     "text": [
      "\n",
      " GL_TS_MO_46066.nc\n",
      "POINT(-155.00900268554688 52.76499938964844)\n"
     ]
    },
    {
     "name": "stderr",
     "output_type": "stream",
     "text": [
      " 63%|██████▎   | 1574/2487 [2:28:06<1:20:21,  5.28s/it]"
     ]
    },
    {
     "name": "stdout",
     "output_type": "stream",
     "text": [
      "0  results found\n",
      "\n",
      " GL_TS_MO_46216.nc\n"
     ]
    },
    {
     "name": "stderr",
     "output_type": "stream",
     "text": [
      " 63%|██████▎   | 1575/2487 [2:28:06<1:03:13,  4.16s/it]"
     ]
    },
    {
     "name": "stdout",
     "output_type": "stream",
     "text": [
      "GL_TS_MO_46216.nc does not have any valid data for this timeperiod\n",
      "\n",
      " GL_TS_MO_6200053.nc\n",
      "POINT(-4.071670055389404 48.728328704833984)\n",
      "228  results found\n"
     ]
    },
    {
     "name": "stderr",
     "output_type": "stream",
     "text": [
      " 63%|██████▎   | 1576/2487 [2:28:20<1:41:10,  6.66s/it]"
     ]
    },
    {
     "name": "stdout",
     "output_type": "stream",
     "text": [
      "\n",
      " GL_TS_MO_55079.nc\n"
     ]
    },
    {
     "name": "stderr",
     "output_type": "stream",
     "text": [
      " 63%|██████▎   | 1577/2487 [2:28:21<1:16:29,  5.04s/it]"
     ]
    },
    {
     "name": "stdout",
     "output_type": "stream",
     "text": [
      "GL_TS_MO_55079.nc does not have any of the variables ['VHM0', 'VAVH', 'WSPD']\n",
      "\n",
      " MO_TS_MO_6101628.nc\n",
      "MO_TS_MO_6101628.nc does not have any valid data for this timeperiod\n"
     ]
    },
    {
     "name": "stderr",
     "output_type": "stream",
     "text": [
      " 64%|██████▎   | 1582/2487 [2:28:21<22:43,  1.51s/it]  "
     ]
    },
    {
     "name": "stdout",
     "output_type": "stream",
     "text": [
      "\n",
      " MO_TS_MO_Olympiada.nc\n",
      "MO_TS_MO_Olympiada.nc does not have any of the variables ['VHM0', 'VAVH', 'WSPD']\n",
      "\n",
      " GL_TS_MO_4801690.nc\n",
      "GL_TS_MO_4801690.nc does not have any of the variables ['VHM0', 'VAVH', 'WSPD']\n",
      "\n",
      " NO_TS_MO_FINO2CU.nc\n",
      "NO_TS_MO_FINO2CU.nc does not have any of the variables ['VHM0', 'VAVH', 'WSPD']\n",
      "\n",
      " GL_TS_MO_41116.nc\n",
      "GL_TS_MO_41116.nc does not have any valid data for this timeperiod\n",
      "\n",
      " GL_TS_MO_23172.nc\n",
      "GL_TS_MO_23172.nc does not have any valid data for this timeperiod\n",
      "\n",
      " GL_TS_MO_23168.nc\n"
     ]
    },
    {
     "name": "stderr",
     "output_type": "stream",
     "text": [
      " 64%|██████▎   | 1585/2487 [2:28:21<14:07,  1.06it/s]"
     ]
    },
    {
     "name": "stdout",
     "output_type": "stream",
     "text": [
      "GL_TS_MO_23168.nc does not have any valid data for this timeperiod\n",
      "\n",
      " GL_WS_MO_42058.nc\n",
      "GL_WS_MO_42058.nc does not have any of the variables ['VHM0', 'VAVH', 'WSPD']\n",
      "\n",
      " GL_TS_MO_WEL411.nc\n"
     ]
    },
    {
     "name": "stderr",
     "output_type": "stream",
     "text": [
      " 64%|██████▍   | 1587/2487 [2:28:22<10:43,  1.40it/s]"
     ]
    },
    {
     "name": "stdout",
     "output_type": "stream",
     "text": [
      "GL_TS_MO_WEL411.nc does not have any valid data for this timeperiod\n",
      "\n",
      " GL_TS_MO_CapeNaturaliste02.nc\n",
      "GL_TS_MO_CapeNaturaliste02.nc does not have any valid data for this timeperiod\n",
      "\n",
      " NO_TS_MO_WaddenEierlandseGat.nc\n",
      "POINT(4.6616668701171875 53.27694320678711)\n",
      "236  results found\n"
     ]
    },
    {
     "name": "stderr",
     "output_type": "stream",
     "text": [
      " 64%|██████▍   | 1588/2487 [2:28:36<44:37,  2.98s/it]"
     ]
    },
    {
     "name": "stdout",
     "output_type": "stream",
     "text": [
      "\n",
      " GL_TS_MO_6200080.nc\n",
      "POINT(-1.8336000442504883 45.91630172729492)\n",
      "179  results found\n"
     ]
    },
    {
     "name": "stderr",
     "output_type": "stream",
     "text": [
      " 64%|██████▍   | 1589/2487 [2:28:49<1:13:47,  4.93s/it]"
     ]
    },
    {
     "name": "stdout",
     "output_type": "stream",
     "text": [
      "\n",
      " GL_TS_MO_EXCE0002.nc\n",
      "GL_TS_MO_EXCE0002.nc does not have any valid data for this timeperiod\n",
      "GL_TS_MO_EXCE0002.nc does not have any valid data for this timeperiod\n",
      "\n",
      " GL_TS_MO_45164.nc\n"
     ]
    },
    {
     "name": "stderr",
     "output_type": "stream",
     "text": [
      " 64%|██████▍   | 1593/2487 [2:28:50<32:33,  2.19s/it]  "
     ]
    },
    {
     "name": "stdout",
     "output_type": "stream",
     "text": [
      "GL_TS_MO_45164.nc is too close to land\n",
      "\n",
      " NO_TS_MO_HirtshalsWR.nc\n",
      "NO_TS_MO_HirtshalsWR.nc does not have any valid data for this timeperiod\n",
      "NO_TS_MO_HirtshalsWR.nc does not have any valid data for this timeperiod\n",
      "\n",
      " GL_TS_MO_MBARI-M2.nc\n",
      "GL_TS_MO_MBARI-M2.nc does not have any valid data for this timeperiod\n",
      "\n",
      " GL_TS_MO_MEDS046.nc\n",
      "GL_TS_MO_MEDS046.nc does not have any valid data for this timeperiod\n",
      "\n",
      " GL_WS_MO_46267.nc\n",
      "GL_WS_MO_46267.nc does not have any of the variables ['VHM0', 'VAVH', 'WSPD']\n",
      "\n",
      " GL_TS_MO_23095.nc\n"
     ]
    },
    {
     "name": "stderr",
     "output_type": "stream",
     "text": [
      " 64%|██████▍   | 1596/2487 [2:28:50<19:08,  1.29s/it]"
     ]
    },
    {
     "name": "stdout",
     "output_type": "stream",
     "text": [
      "GL_TS_MO_23095.nc does not have any valid data for this timeperiod\n",
      "\n",
      " AR_TS_MO_Gardskagadufl.nc\n",
      "POINT(-22.87700080871582 64.05249786376953)\n",
      "426  results found\n"
     ]
    },
    {
     "name": "stderr",
     "output_type": "stream",
     "text": [
      " 64%|██████▍   | 1599/2487 [2:29:08<40:44,  2.75s/it]"
     ]
    },
    {
     "name": "stdout",
     "output_type": "stream",
     "text": [
      "\n",
      " GL_TS_MO_WEL272.nc\n",
      "GL_TS_MO_WEL272.nc does not have any valid data for this timeperiod\n",
      "\n",
      " GL_WS_MO_46073.nc\n",
      "GL_WS_MO_46073.nc does not have any of the variables ['VHM0', 'VAVH', 'WSPD']\n",
      "\n",
      " BS_TS_MO_Gelendzhik-A.nc\n"
     ]
    },
    {
     "name": "stderr",
     "output_type": "stream",
     "text": [
      " 64%|██████▍   | 1601/2487 [2:29:08<28:37,  1.94s/it]"
     ]
    },
    {
     "name": "stdout",
     "output_type": "stream",
     "text": [
      "BS_TS_MO_Gelendzhik-A.nc does not have any valid data for this timeperiod\n",
      "BS_TS_MO_Gelendzhik-A.nc does not have any valid data for this timeperiod\n",
      "\n",
      " AR_TS_MO_BSO2B.nc\n",
      "AR_TS_MO_BSO2B.nc does not have any of the variables ['VHM0', 'VAVH', 'WSPD']\n",
      "\n",
      " GL_TS_MO_46228.nc\n",
      "GL_TS_MO_46228.nc does not have any valid data for this timeperiod\n",
      "\n",
      " IR_TS_MO_Donostia-buoy.nc\n",
      "POLYGON((-2.0169999599456787 43.582000732421875,-2.0169999599456787 43.5629997253418,-1.9919999837875366 43.5629997253418,-1.9919999837875366 43.582000732421875,-2.0169999599456787 43.582000732421875))\n",
      "178  results found\n"
     ]
    },
    {
     "name": "stderr",
     "output_type": "stream",
     "text": [
      " 64%|██████▍   | 1603/2487 [2:31:42<6:10:29, 25.15s/it]"
     ]
    },
    {
     "name": "stdout",
     "output_type": "stream",
     "text": [
      "\n",
      " GL_TS_MO_46006.nc\n",
      "POINT(-137.37899780273438 40.76599884033203)\n"
     ]
    },
    {
     "name": "stderr",
     "output_type": "stream",
     "text": [
      " 64%|██████▍   | 1604/2487 [2:31:48<5:20:12, 21.76s/it]"
     ]
    },
    {
     "name": "stdout",
     "output_type": "stream",
     "text": [
      "0  results found\n",
      "\n",
      " GL_WS_MO_46259.nc\n"
     ]
    },
    {
     "name": "stderr",
     "output_type": "stream",
     "text": [
      " 65%|██████▍   | 1606/2487 [2:31:48<3:30:53, 14.36s/it]"
     ]
    },
    {
     "name": "stdout",
     "output_type": "stream",
     "text": [
      "GL_WS_MO_46259.nc does not have any of the variables ['VHM0', 'VAVH', 'WSPD']\n",
      "\n",
      " GL_WS_MO_42060.nc\n",
      "GL_WS_MO_42060.nc does not have any of the variables ['VHM0', 'VAVH', 'WSPD']\n",
      "\n",
      " GL_WS_MO_46221.nc\n",
      "GL_WS_MO_46221.nc does not have any of the variables ['VHM0', 'VAVH', 'WSPD']\n",
      "\n",
      " GL_TS_MO_52211.nc\n",
      "POINT(145.66200256347656 15.267999649047852)\n",
      "29  results found\n"
     ]
    },
    {
     "name": "stderr",
     "output_type": "stream",
     "text": [
      " 65%|██████▍   | 1608/2487 [2:32:00<2:48:41, 11.51s/it]"
     ]
    },
    {
     "name": "stdout",
     "output_type": "stream",
     "text": [
      "\n",
      " GL_TS_MO_6100289.nc\n",
      "POINT(5.230000019073486 43.20833969116211)\n",
      "233  results found\n"
     ]
    },
    {
     "name": "stderr",
     "output_type": "stream",
     "text": [
      " 65%|██████▍   | 1610/2487 [2:32:19<2:29:07, 10.20s/it]"
     ]
    },
    {
     "name": "stdout",
     "output_type": "stream",
     "text": [
      "\n",
      " GL_TS_MO_41037.nc\n",
      "GL_TS_MO_41037.nc does not have any valid data for this timeperiod\n",
      "\n",
      " BO_TS_MO_FinskaEnskar.nc\n",
      "BO_TS_MO_FinskaEnskar.nc does not have any valid data for this timeperiod\n",
      "\n",
      " GL_TS_MO_46262.nc\n"
     ]
    },
    {
     "name": "stderr",
     "output_type": "stream",
     "text": [
      " 65%|██████▍   | 1613/2487 [2:32:19<1:18:04,  5.36s/it]"
     ]
    },
    {
     "name": "stdout",
     "output_type": "stream",
     "text": [
      "GL_TS_MO_46262.nc does not have any valid data for this timeperiod\n",
      "\n",
      " GL_TS_MO_JurienBay02.nc\n",
      "GL_TS_MO_JurienBay02.nc does not have any valid data for this timeperiod\n",
      "\n",
      " IR_TS_MO_6200025.nc\n",
      "POLYGON((-6.184700012207031 43.761199951171875,-6.184700012207031 43.7421989440918,-6.157199859619141 43.7421989440918,-6.157199859619141 43.761199951171875,-6.184700012207031 43.761199951171875))\n",
      "176  results found\n"
     ]
    },
    {
     "name": "stderr",
     "output_type": "stream",
     "text": [
      " 65%|██████▍   | 1614/2487 [2:34:57<8:09:15, 33.63s/it]"
     ]
    },
    {
     "name": "stdout",
     "output_type": "stream",
     "text": [
      "\n",
      " AR_TS_MO_Kjelavika-37-91.nc\n",
      "AR_TS_MO_Kjelavika-37-91.nc does not have any of the variables ['VHM0', 'VAVH', 'WSPD']\n",
      "\n",
      " GL_TS_MO_2200298.nc\n",
      "POINT(125.25 34.75)\n"
     ]
    },
    {
     "name": "stderr",
     "output_type": "stream",
     "text": [
      " 65%|██████▌   | 1618/2487 [2:35:03<3:43:19, 15.42s/it]"
     ]
    },
    {
     "name": "stdout",
     "output_type": "stream",
     "text": [
      "1  results found\n",
      "\n",
      " GL_WS_MO_46239.nc\n",
      "GL_WS_MO_46239.nc does not have any of the variables ['VHM0', 'VAVH', 'WSPD']\n",
      "\n",
      " GL_TS_MO_MEDS260.nc\n",
      "GL_TS_MO_MEDS260.nc does not have any valid data for this timeperiod\n",
      "\n",
      " NO_TS_MO_EurogeulE13.nc\n",
      "POINT(3.7369439601898193 52.0099983215332)\n",
      "176  results found\n"
     ]
    },
    {
     "name": "stderr",
     "output_type": "stream",
     "text": [
      " 65%|██████▌   | 1620/2487 [2:35:16<3:00:13, 12.47s/it]/home/sarssw/miniconda3/envs/master/lib/python3.10/site-packages/xarray/core/indexes.py:205: FutureWarning: Value based partial slicing on non-monotonic DatetimeIndexes with non-existing keys is deprecated and will raise a KeyError in a future Version.\n",
      "  indexer = index.slice_indexer(\n",
      " 65%|██████▌   | 1621/2487 [2:35:16<2:26:50, 10.17s/it]"
     ]
    },
    {
     "name": "stdout",
     "output_type": "stream",
     "text": [
      "\n",
      " GL_TS_MO_31052.nc\n",
      "GL_TS_MO_31052.nc does not have any valid data for this timeperiod\n",
      "\n",
      " MO_TS_MO_NADR-S1.nc\n",
      "MO_TS_MO_NADR-S1.nc : data extraction failed with: \"cannot represent labeled-based slice indexer for coordinate 'TIME' with a slice over integer positions; the index is unsorted or non-unique\"\n",
      "\n",
      " GL_TS_MO_15003.nc\n"
     ]
    },
    {
     "name": "stderr",
     "output_type": "stream",
     "text": [
      " 65%|██████▌   | 1623/2487 [2:35:16<1:35:49,  6.65s/it]"
     ]
    },
    {
     "name": "stdout",
     "output_type": "stream",
     "text": [
      "GL_TS_MO_15003.nc does not have any valid data for this timeperiod\n",
      "\n",
      " GL_TS_MO_Albany02.nc\n",
      "GL_TS_MO_Albany02.nc does not have any valid data for this timeperiod\n",
      "\n",
      " GL_WS_MO_42039.nc\n",
      "GL_WS_MO_42039.nc does not have any of the variables ['VHM0', 'VAVH', 'WSPD']\n",
      "\n",
      " GL_TS_MO_ASTAN.nc\n"
     ]
    },
    {
     "name": "stderr",
     "output_type": "stream",
     "text": [
      " 65%|██████▌   | 1625/2487 [2:35:16<1:04:24,  4.48s/it]"
     ]
    },
    {
     "name": "stdout",
     "output_type": "stream",
     "text": [
      "GL_TS_MO_ASTAN.nc does not have any valid data for this timeperiod\n",
      "\n",
      " GL_TS_MO_6100022.nc\n",
      "POINT(7.4261698722839355 43.71358108520508)\n",
      "204  results found\n"
     ]
    },
    {
     "name": "stderr",
     "output_type": "stream",
     "text": [
      " 65%|██████▌   | 1626/2487 [2:35:27<1:23:02,  5.79s/it]"
     ]
    },
    {
     "name": "stdout",
     "output_type": "stream",
     "text": [
      "\n",
      " GL_TS_MO_44013.nc\n",
      "POINT(-70.6510009765625 42.34600067138672)\n",
      "82  results found\n"
     ]
    },
    {
     "name": "stderr",
     "output_type": "stream",
     "text": [
      " 65%|██████▌   | 1628/2487 [2:35:38<1:15:33,  5.28s/it]"
     ]
    },
    {
     "name": "stdout",
     "output_type": "stream",
     "text": [
      "\n",
      " GL_TS_MO_46128.nc\n",
      "GL_TS_MO_46128.nc does not have any valid data for this timeperiod\n",
      "\n",
      " GL_TS_MO_45150.nc\n"
     ]
    },
    {
     "name": "stderr",
     "output_type": "stream",
     "text": [
      " 66%|██████▌   | 1631/2487 [2:35:38<33:21,  2.34s/it]  "
     ]
    },
    {
     "name": "stdout",
     "output_type": "stream",
     "text": [
      "GL_TS_MO_45150.nc does not have any valid data for this timeperiod\n",
      "GL_TS_MO_45150.nc is too close to land\n",
      "\n",
      " AR_TS_MO_Myklebust-Sjoebad-26-61.nc\n",
      "AR_TS_MO_Myklebust-Sjoebad-26-61.nc does not have any of the variables ['VHM0', 'VAVH', 'WSPD']\n",
      "\n",
      " NO_TS_MO_6201027.nc\n",
      "NO_TS_MO_6201027.nc does not have any valid data for this timeperiod\n",
      "\n",
      " GL_TS_MO_44091.nc\n",
      "POINT(-73.7699966430664 39.768001556396484)\n",
      "30  results found\n",
      "\n",
      " GL_TS_MO_45027.nc\n"
     ]
    },
    {
     "name": "stderr",
     "output_type": "stream",
     "text": [
      " 66%|██████▌   | 1637/2487 [2:35:46<20:20,  1.44s/it]"
     ]
    },
    {
     "name": "stdout",
     "output_type": "stream",
     "text": [
      "GL_TS_MO_45027.nc is too close to land\n",
      "\n",
      " BS_TS_MO_15360.nc\n",
      "BS_TS_MO_15360.nc does not have any of the variables ['VHM0', 'VAVH', 'WSPD']\n",
      "\n",
      " NO_TS_MO_WestonBayMET.nc\n",
      "NO_TS_MO_WestonBayMET.nc does not have any valid data for this timeperiod\n",
      "\n",
      " GL_TS_MO_MEDS068.nc\n",
      "GL_TS_MO_MEDS068.nc does not have any valid data for this timeperiod\n",
      "\n",
      " IR_WS_MO_6100198.nc\n",
      "IR_WS_MO_6100198.nc does not have any of the variables ['VHM0', 'VAVH', 'WSPD']\n"
     ]
    },
    {
     "name": "stderr",
     "output_type": "stream",
     "text": [
      " 66%|██████▌   | 1639/2487 [2:35:47<15:06,  1.07s/it]"
     ]
    },
    {
     "name": "stdout",
     "output_type": "stream",
     "text": [
      "\n",
      " GL_TS_MO_WEL345.nc\n",
      "GL_TS_MO_WEL345.nc does not have any valid data for this timeperiod\n",
      "\n",
      " GL_WS_MO_41004.nc\n",
      "GL_WS_MO_41004.nc does not have any of the variables ['VHM0', 'VAVH', 'WSPD']\n",
      "\n",
      " GL_TS_MO_WEL323.nc\n",
      "GL_TS_MO_WEL323.nc does not have any valid data for this timeperiod\n",
      "\n",
      " NO_TS_MO_6200144.nc\n",
      "POINT(1.7000000476837158 53.400001525878906)\n",
      "229  results found\n"
     ]
    },
    {
     "name": "stderr",
     "output_type": "stream",
     "text": [
      " 66%|██████▌   | 1643/2487 [2:36:01<28:32,  2.03s/it]"
     ]
    },
    {
     "name": "stdout",
     "output_type": "stream",
     "text": [
      "\n",
      " GL_TS_MO_46016.nc\n",
      "GL_TS_MO_46016.nc does not have any valid data for this timeperiod\n",
      "\n",
      " AR_TS_MO_Sand-53-126.nc\n",
      "AR_TS_MO_Sand-53-126.nc does not have any of the variables ['VHM0', 'VAVH', 'WSPD']\n",
      "\n",
      " AR_TS_MO_A-Sulafjorden.nc\n"
     ]
    },
    {
     "name": "stderr",
     "output_type": "stream",
     "text": [
      " 66%|██████▌   | 1647/2487 [2:36:02<15:10,  1.08s/it]"
     ]
    },
    {
     "name": "stdout",
     "output_type": "stream",
     "text": [
      "AR_TS_MO_A-Sulafjorden.nc does not have any valid data for this timeperiod\n",
      "\n",
      " AR_TS_MO_Rambekkvika-32-76.nc\n",
      "AR_TS_MO_Rambekkvika-32-76.nc does not have any of the variables ['VHM0', 'VAVH', 'WSPD']\n",
      "\n",
      " GL_WS_MO_42099.nc\n",
      "GL_WS_MO_42099.nc does not have any of the variables ['VHM0', 'VAVH', 'WSPD']\n",
      "\n",
      " GL_TS_MO_4101527.nc\n",
      "GL_TS_MO_4101527.nc does not have any of the variables ['VHM0', 'VAVH', 'WSPD']\n",
      "\n",
      " AR_TS_MO_Granefeltet.nc\n",
      "AR_TS_MO_Granefeltet.nc does not have any valid data for this timeperiod\n",
      "\n",
      " GL_TS_MO_13008.nc\n",
      "POINT(-38.0 15.0)\n"
     ]
    },
    {
     "name": "stderr",
     "output_type": "stream",
     "text": [
      " 66%|██████▋   | 1651/2487 [2:36:07<15:32,  1.12s/it]"
     ]
    },
    {
     "name": "stdout",
     "output_type": "stream",
     "text": [
      "1  results found\n",
      "\n",
      " GL_TS_MO_EXIN0001.nc\n",
      "GL_TS_MO_EXIN0001.nc does not have any of the variables ['VHM0', 'VAVH', 'WSPD']\n",
      "\n",
      " AR_TS_MO_Skumsjoeen-32-73.nc\n",
      "AR_TS_MO_Skumsjoeen-32-73.nc does not have any of the variables ['VHM0', 'VAVH', 'WSPD']\n",
      "\n",
      " IR_TS_MO_6201040.nc\n",
      "POINT(-8.891599655151367 42.17942810058594)\n",
      "171  results found\n",
      "\n",
      " GL_TS_MO_44063.nc\n",
      "POINT(-76.447998046875 38.9630012512207)\n",
      "57  results found\n"
     ]
    },
    {
     "name": "stderr",
     "output_type": "stream",
     "text": [
      " 67%|██████▋   | 1656/2487 [2:36:25<29:14,  2.11s/it]"
     ]
    },
    {
     "name": "stdout",
     "output_type": "stream",
     "text": [
      "\n",
      " GL_TS_MO_MEDS094.nc\n",
      "GL_TS_MO_MEDS094.nc does not have any valid data for this timeperiod\n",
      "\n",
      " GL_TS_MO_MEDS208.nc\n",
      "GL_TS_MO_MEDS208.nc does not have any valid data for this timeperiod\n",
      "\n",
      " GL_TS_MO_46260.nc\n",
      "GL_TS_MO_46260.nc does not have any valid data for this timeperiod\n",
      "\n",
      " NO_TS_MO_6201571.nc\n",
      "NO_TS_MO_6201571.nc does not have any of the variables ['VHM0', 'VAVH', 'WSPD']\n",
      "\n",
      " GL_WS_MO_46105.nc\n"
     ]
    },
    {
     "name": "stderr",
     "output_type": "stream",
     "text": [
      " 67%|██████▋   | 1660/2487 [2:36:25<16:55,  1.23s/it]"
     ]
    },
    {
     "name": "stdout",
     "output_type": "stream",
     "text": [
      "GL_WS_MO_46105.nc does not have any of the variables ['VHM0', 'VAVH', 'WSPD']\n",
      "\n",
      " NO_TS_MO_6200147.nc\n",
      "NO_TS_MO_6200147.nc does not have any of the variables ['VHM0', 'VAVH', 'WSPD']\n",
      "\n",
      " GL_TS_MO_41193.nc\n",
      "GL_TS_MO_41193.nc does not have any valid data for this timeperiod\n",
      "\n",
      " GL_TS_MO_45199.nc\n",
      "GL_TS_MO_45199.nc does not have any valid data for this timeperiod\n",
      "GL_TS_MO_45199.nc does not have any valid data for this timeperiod\n",
      "\n",
      " GL_TS_MO_46232.nc\n",
      "POINT(-117.42500305175781 32.516998291015625)\n",
      "125  results found\n"
     ]
    },
    {
     "name": "stderr",
     "output_type": "stream",
     "text": [
      " 67%|██████▋   | 1662/2487 [2:36:35<28:26,  2.07s/it]"
     ]
    },
    {
     "name": "stdout",
     "output_type": "stream",
     "text": [
      "\n",
      " IR_TS_MO_Santander-current-meter.nc\n",
      "IR_TS_MO_Santander-current-meter.nc does not have any of the variables ['VHM0', 'VAVH', 'WSPD']\n",
      "\n",
      " GL_WS_MO_6200056.nc\n",
      "GL_WS_MO_6200056.nc does not have any of the variables ['VHM0', 'VAVH', 'WSPD']\n",
      "\n",
      " NO_TS_MO_Blankenberge.nc\n"
     ]
    },
    {
     "name": "stderr",
     "output_type": "stream",
     "text": [
      " 67%|██████▋   | 1665/2487 [2:36:35<19:16,  1.41s/it]"
     ]
    },
    {
     "name": "stdout",
     "output_type": "stream",
     "text": [
      "NO_TS_MO_Blankenberge.nc is too close to land\n",
      "\n",
      " IR_WS_MO_ValenciaI-buoy.nc\n",
      "IR_WS_MO_ValenciaI-buoy.nc does not have any of the variables ['VHM0', 'VAVH', 'WSPD']\n",
      "\n",
      " GL_TS_MO_41052.nc\n",
      "POINT(-64.76300048828125 18.249000549316406)\n",
      "60  results found\n"
     ]
    },
    {
     "name": "stderr",
     "output_type": "stream",
     "text": [
      " 67%|██████▋   | 1667/2487 [2:36:44<28:41,  2.10s/it]"
     ]
    },
    {
     "name": "stdout",
     "output_type": "stream",
     "text": [
      "\n",
      " NO_TS_MO_Fjaltring.nc\n",
      "POINT(8.04800033569336 56.474998474121094)\n",
      "230  results found\n"
     ]
    },
    {
     "name": "stderr",
     "output_type": "stream",
     "text": [
      " 67%|██████▋   | 1668/2487 [2:36:57<50:17,  3.68s/it]"
     ]
    },
    {
     "name": "stdout",
     "output_type": "stream",
     "text": [
      "\n",
      " GL_TS_MO_Esperance03.nc\n",
      "GL_TS_MO_Esperance03.nc does not have any valid data for this timeperiod\n",
      "\n",
      " GL_WS_MO_51004.nc\n"
     ]
    },
    {
     "name": "stderr",
     "output_type": "stream",
     "text": [
      " 67%|██████▋   | 1670/2487 [2:36:57<35:47,  2.63s/it]"
     ]
    },
    {
     "name": "stdout",
     "output_type": "stream",
     "text": [
      "GL_WS_MO_51004.nc does not have any of the variables ['VHM0', 'VAVH', 'WSPD']\n",
      "\n",
      " MO_TS_MO_CETRARO-61211.nc\n",
      "MO_TS_MO_CETRARO-61211.nc does not have any valid data for this timeperiod\n",
      "\n",
      " GL_TS_MO_32302.nc\n"
     ]
    },
    {
     "name": "stderr",
     "output_type": "stream",
     "text": [
      " 67%|██████▋   | 1672/2487 [2:36:57<25:33,  1.88s/it]"
     ]
    },
    {
     "name": "stdout",
     "output_type": "stream",
     "text": [
      "GL_TS_MO_32302.nc does not have any valid data for this timeperiod\n",
      "GL_TS_MO_32302.nc does not have any valid data for this timeperiod\n",
      "\n",
      " GL_TS_MO_46107.nc\n",
      "GL_TS_MO_46107.nc does not have any valid data for this timeperiod\n",
      "\n",
      " GL_TS_MO_6801023.nc\n"
     ]
    },
    {
     "name": "stderr",
     "output_type": "stream",
     "text": [
      " 67%|██████▋   | 1676/2487 [2:36:58<13:08,  1.03it/s]"
     ]
    },
    {
     "name": "stdout",
     "output_type": "stream",
     "text": [
      "GL_TS_MO_6801023.nc does not have any of the variables ['VHM0', 'VAVH', 'WSPD']\n",
      "\n",
      " BO_TS_MO_Vaderobod.nc\n",
      "BO_TS_MO_Vaderobod.nc does not have any valid data for this timeperiod\n",
      "\n",
      " AR_TS_MO_BeringStrait-A2.nc\n",
      "AR_TS_MO_BeringStrait-A2.nc does not have any of the variables ['VHM0', 'VAVH', 'WSPD']\n",
      "\n",
      " GL_TS_MO_MEDS156.nc\n",
      "GL_TS_MO_MEDS156.nc does not have any valid data for this timeperiod\n",
      "\n",
      " IR_TS_MO_6100281.nc\n",
      "POLYGON((0.19529999792575836 39.51459884643555,0.19529999792575836 39.51029968261719,0.20569999516010284 39.51029968261719,0.20569999516010284 39.51459884643555,0.19529999792575836 39.51459884643555))\n",
      "120  results found\n"
     ]
    },
    {
     "name": "stderr",
     "output_type": "stream",
     "text": [
      " 67%|██████▋   | 1678/2487 [2:38:39<3:32:28, 15.76s/it]"
     ]
    },
    {
     "name": "stdout",
     "output_type": "stream",
     "text": [
      "\n",
      " GL_TS_MO_T8N170W.nc\n",
      "POINT(-170.0 8.0)\n"
     ]
    },
    {
     "name": "stderr",
     "output_type": "stream",
     "text": [
      " 68%|██████▊   | 1679/2487 [2:38:48<3:16:35, 14.60s/it]"
     ]
    },
    {
     "name": "stdout",
     "output_type": "stream",
     "text": [
      "0  results found\n",
      "\n",
      " AR_TS_MO_Oppsjoe-63-138.nc\n",
      "AR_TS_MO_Oppsjoe-63-138.nc does not have any of the variables ['VHM0', 'VAVH', 'WSPD']\n",
      "\n",
      " GL_TS_MO_46239.nc\n",
      "POINT(-122.10399627685547 36.334999084472656)\n",
      "148  results found\n"
     ]
    },
    {
     "name": "stderr",
     "output_type": "stream",
     "text": [
      " 68%|██████▊   | 1681/2487 [2:39:11<3:02:25, 13.58s/it]"
     ]
    },
    {
     "name": "stdout",
     "output_type": "stream",
     "text": [
      "\n",
      " GL_TS_MO_WEL443.nc\n",
      "GL_TS_MO_WEL443.nc does not have any valid data for this timeperiod\n",
      "\n",
      " GL_TS_MO_T2N180W.nc\n"
     ]
    },
    {
     "name": "stderr",
     "output_type": "stream",
     "text": [
      " 68%|██████▊   | 1685/2487 [2:39:12<1:25:33,  6.40s/it]"
     ]
    },
    {
     "name": "stdout",
     "output_type": "stream",
     "text": [
      "GL_TS_MO_T2N180W.nc does not have any valid data for this timeperiod\n",
      "\n",
      " GL_TS_MO_WEL320.nc\n",
      "GL_TS_MO_WEL320.nc does not have any valid data for this timeperiod\n",
      "\n",
      " AR_TS_MO_Sandoeya-7-117.nc\n",
      "AR_TS_MO_Sandoeya-7-117.nc does not have any of the variables ['VHM0', 'VAVH', 'WSPD']\n",
      "\n",
      " GL_TS_MO_53009.nc\n",
      "GL_TS_MO_53009.nc does not have any valid data for this timeperiod\n",
      "\n",
      " NO_TS_MO_UFSDeutscheBucht.nc\n",
      "POINT(7.449999809265137 54.16666793823242)\n",
      "232  results found\n"
     ]
    },
    {
     "name": "stderr",
     "output_type": "stream",
     "text": [
      " 68%|██████▊   | 1687/2487 [2:39:30<1:37:11,  7.29s/it]"
     ]
    },
    {
     "name": "stdout",
     "output_type": "stream",
     "text": [
      "\n",
      " GL_TS_MO_55081.nc\n",
      "GL_TS_MO_55081.nc does not have any of the variables ['VHM0', 'VAVH', 'WSPD']\n",
      "\n",
      " IR_TS_MO_6201031.nc\n",
      "POINT(-8.89601993560791 41.905818939208984)\n",
      "171  results found\n"
     ]
    },
    {
     "name": "stderr",
     "output_type": "stream",
     "text": [
      " 68%|██████▊   | 1691/2487 [2:40:10<1:42:57,  7.76s/it]"
     ]
    },
    {
     "name": "stdout",
     "output_type": "stream",
     "text": [
      "\n",
      " GL_TS_MO_46238.nc\n",
      "GL_TS_MO_46238.nc does not have any valid data for this timeperiod\n",
      "\n",
      " GL_TS_MO_46051.nc\n",
      "GL_TS_MO_46051.nc does not have any valid data for this timeperiod\n",
      "GL_TS_MO_46051.nc does not have any valid data for this timeperiod\n",
      "\n",
      " IR_TS_MO_Capdepera-coast-buoy.nc\n"
     ]
    },
    {
     "name": "stderr",
     "output_type": "stream",
     "text": [
      " 68%|██████▊   | 1692/2487 [2:40:10<1:24:39,  6.39s/it]"
     ]
    },
    {
     "name": "stdout",
     "output_type": "stream",
     "text": [
      "IR_TS_MO_Capdepera-coast-buoy.nc does not have any valid data for this timeperiod\n",
      "IR_TS_MO_Capdepera-coast-buoy.nc does not have any valid data for this timeperiod\n",
      "\n",
      " GL_TS_MO_23016.nc\n",
      "POLYGON((66.77100372314453 -1.5609999895095825,66.77100372314453 -1.6239999532699585,66.87999725341797 -1.6239999532699585,66.87999725341797 -1.5609999895095825,66.77100372314453 -1.5609999895095825))\n"
     ]
    },
    {
     "name": "stderr",
     "output_type": "stream",
     "text": [
      " 68%|██████▊   | 1695/2487 [2:40:17<54:38,  4.14s/it]  "
     ]
    },
    {
     "name": "stdout",
     "output_type": "stream",
     "text": [
      "0  results found\n",
      "\n",
      " GL_TS_MO_MEDS122.nc\n",
      "GL_TS_MO_MEDS122.nc does not have any valid data for this timeperiod\n",
      "\n",
      " GL_TS_MO_14046.nc\n",
      "GL_TS_MO_14046.nc does not have any valid data for this timeperiod\n",
      "\n",
      " GL_WS_MO_46248.nc\n"
     ]
    },
    {
     "name": "stderr",
     "output_type": "stream",
     "text": [
      " 68%|██████▊   | 1697/2487 [2:40:17<36:07,  2.74s/it]"
     ]
    },
    {
     "name": "stdout",
     "output_type": "stream",
     "text": [
      "GL_WS_MO_46248.nc does not have any of the variables ['VHM0', 'VAVH', 'WSPD']\n",
      "\n",
      " GL_TS_MO_45163.nc\n",
      "GL_TS_MO_45163.nc is too close to land\n",
      "\n",
      " GL_WS_MO_45002.nc\n"
     ]
    },
    {
     "name": "stderr",
     "output_type": "stream",
     "text": [
      " 68%|██████▊   | 1701/2487 [2:40:18<16:02,  1.22s/it]"
     ]
    },
    {
     "name": "stdout",
     "output_type": "stream",
     "text": [
      "GL_WS_MO_45002.nc does not have any of the variables ['VHM0', 'VAVH', 'WSPD']\n",
      "\n",
      " GL_WS_MO_46147.nc\n",
      "GL_WS_MO_46147.nc does not have any of the variables ['VHM0', 'VAVH', 'WSPD']\n",
      "\n",
      " GL_TS_MO_41016.nc\n",
      "GL_TS_MO_41016.nc does not have any valid data for this timeperiod\n",
      "GL_TS_MO_41016.nc does not have any valid data for this timeperiod\n",
      "\n",
      " MO_TS_MO_CIUTADELLA.nc\n",
      "MO_TS_MO_CIUTADELLA.nc does not have any of the variables ['VHM0', 'VAVH', 'WSPD']\n",
      "\n",
      " GL_TS_MO_MEDS065.nc\n",
      "GL_TS_MO_MEDS065.nc does not have any valid data for this timeperiod\n",
      "\n",
      " GL_TS_MO_51202.nc\n",
      "POINT(-157.67999267578125 21.41699981689453)\n",
      "117  results found\n"
     ]
    },
    {
     "name": "stderr",
     "output_type": "stream",
     "text": [
      " 69%|██████▊   | 1704/2487 [2:40:27<24:41,  1.89s/it]"
     ]
    },
    {
     "name": "stdout",
     "output_type": "stream",
     "text": [
      "\n",
      " AR_TS_MO_Norne.nc\n",
      "AR_TS_MO_Norne.nc does not have any valid data for this timeperiod\n",
      "\n",
      " GL_TS_MO_45024.nc\n"
     ]
    },
    {
     "name": "stderr",
     "output_type": "stream",
     "text": [
      " 69%|██████▊   | 1706/2487 [2:40:27<15:58,  1.23s/it]"
     ]
    },
    {
     "name": "stdout",
     "output_type": "stream",
     "text": [
      "GL_TS_MO_45024.nc is too close to land\n",
      "\n",
      " GL_TS_MO_23010.nc\n",
      "GL_TS_MO_23010.nc does not have any valid data for this timeperiod\n",
      "\n",
      " NO_TS_MO_6201003.nc\n",
      "NO_TS_MO_6201003.nc does not have any valid data for this timeperiod\n",
      "\n",
      " BO_TS_MO_Orskar.nc\n",
      "BO_TS_MO_Orskar.nc does not have any valid data for this timeperiod\n",
      "\n",
      " NO_TS_MO_Neustadt.nc\n"
     ]
    },
    {
     "name": "stderr",
     "output_type": "stream",
     "text": [
      " 69%|██████▉   | 1711/2487 [2:40:28<05:57,  2.17it/s]"
     ]
    },
    {
     "name": "stdout",
     "output_type": "stream",
     "text": [
      "NO_TS_MO_Neustadt.nc does not have any of the variables ['VHM0', 'VAVH', 'WSPD']\n",
      "\n",
      " MO_TS_MO_W1M3A.nc\n",
      "MO_TS_MO_W1M3A.nc does not have any valid data for this timeperiod\n",
      "\n",
      " GL_WS_MO_42055.nc\n",
      "GL_WS_MO_42055.nc does not have any of the variables ['VHM0', 'VAVH', 'WSPD']\n",
      "\n",
      " GL_TS_MO_44040.nc\n",
      "GL_TS_MO_44040.nc does not have any valid data for this timeperiod\n",
      "POINT(-73.58000183105469 40.95600128173828)\n",
      "30  results found\n"
     ]
    },
    {
     "name": "stderr",
     "output_type": "stream",
     "text": [
      " 69%|██████▉   | 1713/2487 [2:40:40<29:51,  2.31s/it]"
     ]
    },
    {
     "name": "stdout",
     "output_type": "stream",
     "text": [
      "\n",
      " GL_TS_MO_WEL405.nc\n",
      "GL_TS_MO_WEL405.nc does not have any valid data for this timeperiod\n",
      "\n",
      " AR_TS_MO_Tempelfjorden.nc\n",
      "AR_TS_MO_Tempelfjorden.nc does not have any of the variables ['VHM0', 'VAVH', 'WSPD']\n",
      "\n",
      " GL_TS_MO_6200310.nc\n",
      "POINT(-0.3073999881744385 49.34379959106445)\n",
      "236  results found\n"
     ]
    },
    {
     "name": "stderr",
     "output_type": "stream",
     "text": [
      " 69%|██████▉   | 1715/2487 [2:40:59<57:40,  4.48s/it]"
     ]
    },
    {
     "name": "stdout",
     "output_type": "stream",
     "text": [
      "\n",
      " GL_TS_MO_55031.nc\n"
     ]
    },
    {
     "name": "stderr",
     "output_type": "stream",
     "text": [
      " 69%|██████▉   | 1719/2487 [2:40:59<27:03,  2.11s/it]"
     ]
    },
    {
     "name": "stdout",
     "output_type": "stream",
     "text": [
      "GL_TS_MO_55031.nc does not have any valid data for this timeperiod\n",
      "\n",
      " AR_TS_MO_Kvitebjornfeltet.nc\n",
      "AR_TS_MO_Kvitebjornfeltet.nc does not have any of the variables ['VHM0', 'VAVH', 'WSPD']\n",
      "\n",
      " GL_TS_MO_MEDS218.nc\n",
      "GL_TS_MO_MEDS218.nc does not have any valid data for this timeperiod\n",
      "\n",
      " GL_TS_MO_42011.nc\n",
      "GL_TS_MO_42011.nc does not have any valid data for this timeperiod\n",
      "\n",
      " GL_TS_MO_46021.nc\n"
     ]
    },
    {
     "name": "stderr",
     "output_type": "stream",
     "text": [
      " 69%|██████▉   | 1721/2487 [2:41:00<19:17,  1.51s/it]"
     ]
    },
    {
     "name": "stdout",
     "output_type": "stream",
     "text": [
      "GL_TS_MO_46021.nc does not have any valid data for this timeperiod\n",
      "\n",
      " GL_TS_MO_41141.nc\n",
      "GL_TS_MO_41141.nc does not have any valid data for this timeperiod\n",
      "\n",
      " GL_TS_MO_Mesurho.nc\n",
      "GL_TS_MO_Mesurho.nc does not have any valid data for this timeperiod\n",
      "POINT(4.866199970245361 43.31890106201172)\n",
      "233  results found\n"
     ]
    },
    {
     "name": "stderr",
     "output_type": "stream",
     "text": [
      " 69%|██████▉   | 1723/2487 [2:41:16<44:07,  3.46s/it]"
     ]
    },
    {
     "name": "stdout",
     "output_type": "stream",
     "text": [
      "\n",
      " GL_WS_MO_41159.nc\n",
      "GL_WS_MO_41159.nc does not have any of the variables ['VHM0', 'VAVH', 'WSPD']\n",
      "\n",
      " GL_TS_MO_MEDS003.nc\n",
      "GL_TS_MO_MEDS003.nc does not have any valid data for this timeperiod\n",
      "\n",
      " IR_TS_MO_Coruna-coast-buoy.nc\n"
     ]
    },
    {
     "name": "stderr",
     "output_type": "stream",
     "text": [
      " 69%|██████▉   | 1725/2487 [2:41:16<31:33,  2.48s/it]"
     ]
    },
    {
     "name": "stdout",
     "output_type": "stream",
     "text": [
      "IR_TS_MO_Coruna-coast-buoy.nc does not have any valid data for this timeperiod\n",
      "IR_TS_MO_Coruna-coast-buoy.nc does not have any valid data for this timeperiod\n",
      "\n",
      " GL_TS_MO_44090.nc\n",
      "POINT(-70.3290023803711 41.84000015258789)\n",
      "81  results found\n"
     ]
    },
    {
     "name": "stderr",
     "output_type": "stream",
     "text": [
      " 69%|██████▉   | 1726/2487 [2:41:28<51:12,  4.04s/it]"
     ]
    },
    {
     "name": "stdout",
     "output_type": "stream",
     "text": [
      "\n",
      " GL_WS_MO_46051.nc\n",
      "GL_WS_MO_46051.nc does not have any of the variables ['VHM0', 'VAVH', 'WSPD']\n",
      "\n",
      " GL_TS_MO_52200.nc\n",
      "POINT(144.78799438476562 13.354000091552734)\n",
      "10  results found\n"
     ]
    },
    {
     "name": "stderr",
     "output_type": "stream",
     "text": [
      " 69%|██████▉   | 1728/2487 [2:41:35<48:56,  3.87s/it]"
     ]
    },
    {
     "name": "stdout",
     "output_type": "stream",
     "text": [
      "\n",
      " GL_WS_MO_46045.nc\n",
      "GL_WS_MO_46045.nc does not have any of the variables ['VHM0', 'VAVH', 'WSPD']\n",
      "\n",
      " BS_TS_MO_WAVEB04.nc\n",
      "POINT(28.611600875854492 43.53919982910156)\n",
      "118  results found\n"
     ]
    },
    {
     "name": "stderr",
     "output_type": "stream",
     "text": [
      " 70%|██████▉   | 1732/2487 [2:41:42<33:38,  2.67s/it]"
     ]
    },
    {
     "name": "stdout",
     "output_type": "stream",
     "text": [
      "\n",
      " IR_WS_MO_6100417.nc\n",
      "IR_WS_MO_6100417.nc does not have any of the variables ['VHM0', 'VAVH', 'WSPD']\n",
      "\n",
      " GL_TS_MO_MEDS221.nc\n",
      "GL_TS_MO_MEDS221.nc does not have any valid data for this timeperiod\n",
      "\n",
      " GL_TS_MO_Exmouth.nc\n",
      "GL_TS_MO_Exmouth.nc does not have any valid data for this timeperiod\n",
      "\n",
      " GL_TS_MO_T2S140W.nc\n"
     ]
    },
    {
     "name": "stderr",
     "output_type": "stream",
     "text": [
      " 70%|██████▉   | 1734/2487 [2:41:43<24:20,  1.94s/it]"
     ]
    },
    {
     "name": "stdout",
     "output_type": "stream",
     "text": [
      "GL_TS_MO_T2S140W.nc does not have any valid data for this timeperiod\n",
      "\n",
      " MO_TS_MO_ADN-MAMBO2.nc\n"
     ]
    },
    {
     "name": "stderr",
     "output_type": "stream",
     "text": [
      " 70%|██████▉   | 1737/2487 [2:41:43<13:40,  1.09s/it]"
     ]
    },
    {
     "name": "stdout",
     "output_type": "stream",
     "text": [
      "MO_TS_MO_ADN-MAMBO2.nc does not have any valid data for this timeperiod\n",
      "\n",
      " GL_TS_MO_46048.nc\n",
      "GL_TS_MO_46048.nc does not have any valid data for this timeperiod\n",
      "GL_TS_MO_46048.nc does not have any valid data for this timeperiod\n",
      "\n",
      " GL_WS_MO_alsn6.nc\n",
      "GL_WS_MO_alsn6.nc does not have any of the variables ['VHM0', 'VAVH', 'WSPD']\n",
      "\n",
      " GL_TS_MO_2200188.nc\n",
      "POINT(128.22999572753906 34.38999938964844)\n",
      "116  results found\n"
     ]
    },
    {
     "name": "stderr",
     "output_type": "stream",
     "text": [
      " 70%|██████▉   | 1738/2487 [2:41:54<36:02,  2.89s/it]"
     ]
    },
    {
     "name": "stdout",
     "output_type": "stream",
     "text": [
      "\n",
      " GL_TS_MO_44088.nc\n",
      "POINT(-74.84100341796875 36.611000061035156)\n",
      "30  results found\n"
     ]
    },
    {
     "name": "stderr",
     "output_type": "stream",
     "text": [
      " 70%|██████▉   | 1739/2487 [2:42:05<59:30,  4.77s/it]"
     ]
    },
    {
     "name": "stdout",
     "output_type": "stream",
     "text": [
      "\n",
      " GL_WS_MO_6200054.nc\n",
      "GL_WS_MO_6200054.nc does not have any of the variables ['VHM0', 'VAVH', 'WSPD']\n",
      "\n",
      " GL_TS_MO_EXEM0001.nc\n"
     ]
    },
    {
     "name": "stderr",
     "output_type": "stream",
     "text": [
      " 70%|███████   | 1741/2487 [2:42:05<37:02,  2.98s/it]"
     ]
    },
    {
     "name": "stdout",
     "output_type": "stream",
     "text": [
      "GL_TS_MO_EXEM0001.nc does not have any of the variables ['VHM0', 'VAVH', 'WSPD']\n",
      "\n",
      " GL_TS_MO_53057.nc\n"
     ]
    },
    {
     "name": "stderr",
     "output_type": "stream",
     "text": [
      " 70%|███████   | 1742/2487 [2:42:06<29:34,  2.38s/it]"
     ]
    },
    {
     "name": "stdout",
     "output_type": "stream",
     "text": [
      "GL_TS_MO_53057.nc does not have any valid data for this timeperiod\n",
      "\n",
      " GL_TS_MO_51205.nc\n",
      "POINT(-156.4219970703125 21.018999099731445)\n",
      "169  results found\n"
     ]
    },
    {
     "name": "stderr",
     "output_type": "stream",
     "text": [
      " 70%|███████   | 1744/2487 [2:42:17<40:46,  3.29s/it]"
     ]
    },
    {
     "name": "stdout",
     "output_type": "stream",
     "text": [
      "\n",
      " GL_TS_MO_23008.nc\n",
      "GL_TS_MO_23008.nc does not have any valid data for this timeperiod\n",
      "\n",
      " GL_WS_MO_44017.nc\n"
     ]
    },
    {
     "name": "stderr",
     "output_type": "stream",
     "text": [
      " 70%|███████   | 1745/2487 [2:42:17<30:20,  2.45s/it]"
     ]
    },
    {
     "name": "stdout",
     "output_type": "stream",
     "text": [
      "GL_WS_MO_44017.nc does not have any of the variables ['VHM0', 'VAVH', 'WSPD']\n",
      "\n",
      " GL_TS_MO_46222.nc\n",
      "POINT(-118.31700134277344 33.61800003051758)\n",
      "173  results found\n"
     ]
    },
    {
     "name": "stderr",
     "output_type": "stream",
     "text": [
      " 70%|███████   | 1746/2487 [2:42:27<56:21,  4.56s/it]"
     ]
    },
    {
     "name": "stdout",
     "output_type": "stream",
     "text": [
      "\n",
      " GL_TS_MO_51208.nc\n",
      "POINT(-159.57400512695312 22.28499984741211)\n",
      "113  results found\n"
     ]
    },
    {
     "name": "stderr",
     "output_type": "stream",
     "text": [
      " 70%|███████   | 1747/2487 [2:42:39<1:22:11,  6.66s/it]"
     ]
    },
    {
     "name": "stdout",
     "output_type": "stream",
     "text": [
      "\n",
      " BS_TS_MO_Novorossiysk.nc\n",
      "BS_TS_MO_Novorossiysk.nc does not have any valid data for this timeperiod\n",
      "\n",
      " GL_TS_MO_46185.nc\n",
      "GL_TS_MO_46185.nc does not have any valid data for this timeperiod\n",
      "POINT(-129.79200744628906 52.42499923706055)\n",
      "119  results found\n"
     ]
    },
    {
     "name": "stderr",
     "output_type": "stream",
     "text": [
      " 70%|███████   | 1751/2487 [2:42:51<47:46,  3.90s/it]  "
     ]
    },
    {
     "name": "stdout",
     "output_type": "stream",
     "text": [
      "\n",
      " GL_TS_MO_MEDS309.nc\n",
      "GL_TS_MO_MEDS309.nc does not have any valid data for this timeperiod\n",
      "\n",
      " GL_TS_MO_MEDS008.nc\n",
      "GL_TS_MO_MEDS008.nc does not have any valid data for this timeperiod\n",
      "\n",
      " GL_TS_MO_MEDS188.nc\n",
      "GL_TS_MO_MEDS188.nc does not have any valid data for this timeperiod\n",
      "\n",
      " GL_TS_MO_NOG1-1.nc\n"
     ]
    },
    {
     "name": "stderr",
     "output_type": "stream",
     "text": [
      " 70%|███████   | 1753/2487 [2:42:51<30:54,  2.53s/it]"
     ]
    },
    {
     "name": "stdout",
     "output_type": "stream",
     "text": [
      "GL_TS_MO_NOG1-1.nc does not have any of the variables ['VHM0', 'VAVH', 'WSPD']\n",
      "\n",
      " GL_TS_MO_51026.nc\n"
     ]
    },
    {
     "name": "stderr",
     "output_type": "stream",
     "text": [
      " 71%|███████   | 1755/2487 [2:42:51<21:02,  1.72s/it]"
     ]
    },
    {
     "name": "stdout",
     "output_type": "stream",
     "text": [
      "GL_TS_MO_51026.nc does not have any valid data for this timeperiod\n",
      "GL_TS_MO_51026.nc does not have any valid data for this timeperiod\n",
      "\n",
      " AR_TS_MO_Landeyjahofn.nc\n",
      "AR_TS_MO_Landeyjahofn.nc does not have any valid data for this timeperiod\n",
      "\n",
      " GL_TS_MO_MEDS137.nc\n",
      "GL_TS_MO_MEDS137.nc does not have any valid data for this timeperiod\n",
      "\n",
      " GL_TS_MO_46274.nc\n",
      "GL_TS_MO_46274.nc does not have any valid data for this timeperiod\n"
     ]
    },
    {
     "name": "stderr",
     "output_type": "stream",
     "text": [
      " 71%|███████   | 1757/2487 [2:42:51<14:24,  1.18s/it]"
     ]
    },
    {
     "name": "stdout",
     "output_type": "stream",
     "text": [
      "\n",
      " GL_TS_MO_44015.nc\n",
      "GL_TS_MO_44015.nc does not have any valid data for this timeperiod\n",
      "GL_TS_MO_44015.nc does not have any valid data for this timeperiod\n",
      "\n",
      " GL_TS_MO_51004.nc\n",
      "POINT(-152.2550048828125 17.533000946044922)\n",
      "0  results found\n"
     ]
    },
    {
     "name": "stderr",
     "output_type": "stream",
     "text": [
      " 71%|███████   | 1759/2487 [2:42:58<22:15,  1.83s/it]"
     ]
    },
    {
     "name": "stdout",
     "output_type": "stream",
     "text": [
      "\n",
      " GL_TS_MO_31201.nc\n",
      "GL_TS_MO_31201.nc does not have any valid data for this timeperiod\n",
      "\n",
      " AR_TS_MO_Snorre-A.nc\n"
     ]
    },
    {
     "name": "stderr",
     "output_type": "stream",
     "text": [
      " 71%|███████   | 1761/2487 [2:42:58<15:39,  1.29s/it]"
     ]
    },
    {
     "name": "stdout",
     "output_type": "stream",
     "text": [
      "AR_TS_MO_Snorre-A.nc does not have any of the variables ['VHM0', 'VAVH', 'WSPD']\n",
      "\n",
      " GL_TS_MO_1500008.nc\n",
      "POLYGON((-14.967009544372559 -20.027000427246094,-14.967009544372559 -19.35099983215332,-9.936010360717773 -19.35099983215332,-9.936010360717773 -20.027000427246094,-14.967009544372559 -20.027000427246094))\n"
     ]
    },
    {
     "name": "stderr",
     "output_type": "stream",
     "text": [
      " 71%|███████   | 1762/2487 [2:43:03<24:17,  2.01s/it]"
     ]
    },
    {
     "name": "stdout",
     "output_type": "stream",
     "text": [
      "0  results found\n",
      "\n",
      " GL_TS_MO_44299.nc\n",
      "GL_TS_MO_44299.nc does not have any valid data for this timeperiod\n",
      "\n",
      " GL_TS_MO_42002.nc\n",
      "POINT(-93.64600372314453 26.05500030517578)\n",
      "29  results found\n"
     ]
    },
    {
     "name": "stderr",
     "output_type": "stream",
     "text": [
      " 71%|███████   | 1766/2487 [2:43:12<22:33,  1.88s/it]"
     ]
    },
    {
     "name": "stdout",
     "output_type": "stream",
     "text": [
      "\n",
      " GL_TS_MO_Geraldton03.nc\n",
      "GL_TS_MO_Geraldton03.nc does not have any valid data for this timeperiod\n",
      "\n",
      " AR_TS_MO_Namsos-Camping-42-106.nc\n",
      "AR_TS_MO_Namsos-Camping-42-106.nc does not have any of the variables ['VHM0', 'VAVH', 'WSPD']\n",
      "\n",
      " GL_TS_MO_RottnestIsland01.nc\n",
      "GL_TS_MO_RottnestIsland01.nc does not have any valid data for this timeperiod\n",
      "\n",
      " MO_TS_MO_RMNSP.nc\n",
      "MO_TS_MO_RMNSP.nc does not have any valid data for this timeperiod\n",
      "\n",
      " IR_TS_MO_LasPalmasConfital-coast-buoy.nc\n"
     ]
    },
    {
     "name": "stderr",
     "output_type": "stream",
     "text": [
      " 71%|███████   | 1769/2487 [2:43:12<13:27,  1.12s/it]"
     ]
    },
    {
     "name": "stdout",
     "output_type": "stream",
     "text": [
      "IR_TS_MO_LasPalmasConfital-coast-buoy.nc does not have any valid data for this timeperiod\n",
      "IR_TS_MO_LasPalmasConfital-coast-buoy.nc does not have any valid data for this timeperiod\n",
      "\n",
      " GL_TS_MO_45197.nc\n",
      "GL_TS_MO_45197.nc is too close to land\n",
      "\n",
      " GL_TS_MO_46236.nc\n"
     ]
    },
    {
     "name": "stderr",
     "output_type": "stream",
     "text": [
      " 71%|███████   | 1771/2487 [2:43:12<09:58,  1.20it/s]"
     ]
    },
    {
     "name": "stdout",
     "output_type": "stream",
     "text": [
      "GL_TS_MO_46236.nc does not have any valid data for this timeperiod\n",
      "\n",
      " GL_TS_MO_55035.nc\n",
      "GL_TS_MO_55035.nc does not have any valid data for this timeperiod\n",
      "\n",
      " NO_TS_MO_HanstholmWR.nc\n",
      "NO_TS_MO_HanstholmWR.nc does not have any valid data for this timeperiod\n"
     ]
    },
    {
     "name": "stderr",
     "output_type": "stream",
     "text": [
      " 71%|███████▏  | 1775/2487 [2:43:13<05:34,  2.13it/s]"
     ]
    },
    {
     "name": "stdout",
     "output_type": "stream",
     "text": [
      "NO_TS_MO_HanstholmWR.nc does not have any valid data for this timeperiod\n",
      "\n",
      " GL_TS_MO_62444.nc\n",
      "GL_TS_MO_62444.nc does not have any of the variables ['VHM0', 'VAVH', 'WSPD']\n",
      "\n",
      " GL_TS_MO_45166.nc\n",
      "GL_TS_MO_45166.nc does not have any valid data for this timeperiod\n",
      "GL_TS_MO_45166.nc does not have any valid data for this timeperiod\n",
      "\n",
      " GL_TS_MO_44005.nc\n",
      "POINT(-69.12699890136719 43.20100021362305)\n",
      "116  results found\n"
     ]
    },
    {
     "name": "stderr",
     "output_type": "stream",
     "text": [
      " 71%|███████▏  | 1777/2487 [2:43:29<30:43,  2.60s/it]"
     ]
    },
    {
     "name": "stdout",
     "output_type": "stream",
     "text": [
      "\n",
      " GL_TS_MO_42016.nc\n",
      "GL_TS_MO_42016.nc does not have any valid data for this timeperiod\n",
      "GL_TS_MO_42016.nc does not have any valid data for this timeperiod\n",
      "\n",
      " GL_TS_MO_TorbayWest01.nc\n",
      "GL_TS_MO_TorbayWest01.nc does not have any valid data for this timeperiod\n",
      "\n",
      " GL_WS_MO_51206.nc\n"
     ]
    },
    {
     "name": "stderr",
     "output_type": "stream",
     "text": [
      " 72%|███████▏  | 1781/2487 [2:43:29<13:23,  1.14s/it]"
     ]
    },
    {
     "name": "stdout",
     "output_type": "stream",
     "text": [
      "GL_WS_MO_51206.nc does not have any of the variables ['VHM0', 'VAVH', 'WSPD']\n",
      "\n",
      " GL_WS_MO_46185.nc\n",
      "GL_WS_MO_46185.nc does not have any of the variables ['VHM0', 'VAVH', 'WSPD']\n",
      "\n",
      " GL_WS_MO_46053.nc\n",
      "GL_WS_MO_46053.nc does not have any of the variables ['VHM0', 'VAVH', 'WSPD']\n",
      "\n",
      " GL_TS_MO_MEDS256.nc\n"
     ]
    },
    {
     "name": "stderr",
     "output_type": "stream",
     "text": [
      " 72%|███████▏  | 1783/2487 [2:43:29<09:16,  1.27it/s]"
     ]
    },
    {
     "name": "stdout",
     "output_type": "stream",
     "text": [
      "GL_TS_MO_MEDS256.nc does not have any valid data for this timeperiod\n",
      "\n",
      " GL_TS_MO_42041.nc\n",
      "GL_TS_MO_42041.nc does not have any valid data for this timeperiod\n",
      "GL_TS_MO_42041.nc does not have any valid data for this timeperiod\n",
      "\n",
      " GL_TS_MO_46225.nc\n",
      "POINT(-117.39099884033203 32.93299865722656)\n",
      "115  results found\n"
     ]
    },
    {
     "name": "stderr",
     "output_type": "stream",
     "text": [
      " 72%|███████▏  | 1785/2487 [2:43:39<24:20,  2.08s/it]"
     ]
    },
    {
     "name": "stdout",
     "output_type": "stream",
     "text": [
      "\n",
      " GL_TS_MO_WEL310.nc\n",
      "GL_TS_MO_WEL310.nc does not have any valid data for this timeperiod\n",
      "\n",
      " NO_TS_MO_MarollegatMeetpaal.nc\n"
     ]
    },
    {
     "name": "stderr",
     "output_type": "stream",
     "text": [
      " 72%|███████▏  | 1787/2487 [2:43:39<16:10,  1.39s/it]"
     ]
    },
    {
     "name": "stdout",
     "output_type": "stream",
     "text": [
      "NO_TS_MO_MarollegatMeetpaal.nc does not have any valid data for this timeperiod\n",
      "NO_TS_MO_MarollegatMeetpaal.nc does not have any valid data for this timeperiod\n",
      "\n",
      " IR_TS_MO_Cadiz-coast-buoy.nc\n",
      "IR_TS_MO_Cadiz-coast-buoy.nc does not have any valid data for this timeperiod\n",
      "IR_TS_MO_Cadiz-coast-buoy.nc does not have any valid data for this timeperiod\n",
      "\n",
      " NO_TS_MO_SchiermonnikoogWaggen.nc\n"
     ]
    },
    {
     "name": "stderr",
     "output_type": "stream",
     "text": [
      " 72%|███████▏  | 1788/2487 [2:43:40<12:50,  1.10s/it]"
     ]
    },
    {
     "name": "stdout",
     "output_type": "stream",
     "text": [
      "NO_TS_MO_SchiermonnikoogWaggen.nc is too close to land\n",
      "\n",
      " GL_TS_MO_44095.nc\n",
      "POINT(-75.33000183105469 35.75)\n",
      "57  results found\n"
     ]
    },
    {
     "name": "stderr",
     "output_type": "stream",
     "text": [
      " 72%|███████▏  | 1791/2487 [2:43:48<19:13,  1.66s/it]"
     ]
    },
    {
     "name": "stdout",
     "output_type": "stream",
     "text": [
      "\n",
      " IR_TS_MO_Silleiro1-current-meter.nc\n",
      "IR_TS_MO_Silleiro1-current-meter.nc does not have any of the variables ['VHM0', 'VAVH', 'WSPD']\n",
      "\n",
      " NO_TS_MO_6201576.nc\n",
      "NO_TS_MO_6201576.nc does not have any of the variables ['VHM0', 'VAVH', 'WSPD']\n",
      "\n",
      " GL_TS_MO_MEDS102.nc\n",
      "GL_TS_MO_MEDS102.nc does not have any valid data for this timeperiod\n",
      "\n",
      " MO_TS_MO_VIDA.nc\n"
     ]
    },
    {
     "name": "stderr",
     "output_type": "stream",
     "text": [
      "/home/sarssw/miniconda3/envs/master/lib/python3.10/site-packages/xarray/core/indexes.py:205: FutureWarning: Value based partial slicing on non-monotonic DatetimeIndexes with non-existing keys is deprecated and will raise a KeyError in a future Version.\n",
      "  indexer = index.slice_indexer(\n",
      " 72%|███████▏  | 1794/2487 [2:43:48<10:13,  1.13it/s]"
     ]
    },
    {
     "name": "stdout",
     "output_type": "stream",
     "text": [
      "MO_TS_MO_VIDA.nc : data extraction failed with: \"cannot represent labeled-based slice indexer for coordinate 'TIME' with a slice over integer positions; the index is unsorted or non-unique\"\n",
      "\n",
      " GL_TS_MO_PAP-1.nc\n",
      "GL_TS_MO_PAP-1.nc does not have any of the variables ['VHM0', 'VAVH', 'WSPD']\n",
      "\n",
      " AR_TS_MO_Sota-fjordpark-16-34.nc\n",
      "AR_TS_MO_Sota-fjordpark-16-34.nc does not have any of the variables ['VHM0', 'VAVH', 'WSPD']\n",
      "\n",
      " IR_TS_MO_FS1-weather-buoy.nc\n",
      "IR_TS_MO_FS1-weather-buoy.nc does not have any valid data for this timeperiod\n",
      "IR_TS_MO_FS1-weather-buoy.nc does not have any valid data for this timeperiod\n",
      "\n",
      " GL_TS_MO_45141.nc\n"
     ]
    },
    {
     "name": "stderr",
     "output_type": "stream",
     "text": [
      " 72%|███████▏  | 1797/2487 [2:43:48<05:42,  2.01it/s]"
     ]
    },
    {
     "name": "stdout",
     "output_type": "stream",
     "text": [
      "GL_TS_MO_45141.nc does not have any valid data for this timeperiod\n",
      "GL_TS_MO_45141.nc is too close to land\n",
      "\n",
      " GL_TS_MO_41003.nc\n",
      "GL_TS_MO_41003.nc does not have any valid data for this timeperiod\n",
      "GL_TS_MO_41003.nc does not have any valid data for this timeperiod\n",
      "\n",
      " MO_TS_MO_LA-MOLA.nc\n"
     ]
    },
    {
     "name": "stderr",
     "output_type": "stream",
     "text": [
      " 72%|███████▏  | 1802/2487 [2:43:49<02:44,  4.16it/s]"
     ]
    },
    {
     "name": "stdout",
     "output_type": "stream",
     "text": [
      "MO_TS_MO_LA-MOLA.nc does not have any of the variables ['VHM0', 'VAVH', 'WSPD']\n",
      "\n",
      " GL_TS_MO_45179.nc\n",
      "GL_TS_MO_45179.nc does not have any valid data for this timeperiod\n",
      "GL_TS_MO_45179.nc does not have any valid data for this timeperiod\n",
      "\n",
      " BS_TS_MO_15655.nc\n",
      "BS_TS_MO_15655.nc does not have any of the variables ['VHM0', 'VAVH', 'WSPD']\n",
      "\n",
      " GL_TS_MO_MEDS154.nc\n",
      "GL_TS_MO_MEDS154.nc does not have any valid data for this timeperiod\n",
      "\n",
      " GL_TS_MO_IF000578.nc\n",
      "GL_TS_MO_IF000578.nc does not have any of the variables ['VHM0', 'VAVH', 'WSPD']\n",
      "\n",
      " GL_TS_MO_46061.nc\n",
      "POINT(-146.83299255371094 60.237998962402344)\n",
      "54  results found\n"
     ]
    },
    {
     "name": "stderr",
     "output_type": "stream",
     "text": [
      " 73%|███████▎  | 1804/2487 [2:43:56<13:12,  1.16s/it]"
     ]
    },
    {
     "name": "stdout",
     "output_type": "stream",
     "text": [
      "\n",
      " NO_TS_MO_Haringvliet10.nc\n",
      "NO_TS_MO_Haringvliet10.nc does not have any of the variables ['VHM0', 'VAVH', 'WSPD']\n",
      "\n",
      " GL_TS_MO_1701619.nc\n",
      "GL_TS_MO_1701619.nc does not have any of the variables ['VHM0', 'VAVH', 'WSPD']\n",
      "\n",
      " GL_TS_MO_45013.nc\n"
     ]
    },
    {
     "name": "stderr",
     "output_type": "stream",
     "text": [
      " 73%|███████▎  | 1807/2487 [2:43:56<08:34,  1.32it/s]"
     ]
    },
    {
     "name": "stdout",
     "output_type": "stream",
     "text": [
      "GL_TS_MO_45013.nc is too close to land\n",
      "\n",
      " GL_TS_MO_46243.nc\n",
      "POINT(-124.12799835205078 46.215999603271484)\n"
     ]
    },
    {
     "name": "stderr",
     "output_type": "stream",
     "text": [
      " 73%|███████▎  | 1807/2487 [2:44:07<08:34,  1.32it/s]"
     ]
    },
    {
     "name": "stdout",
     "output_type": "stream",
     "text": [
      "118  results found\n"
     ]
    },
    {
     "name": "stderr",
     "output_type": "stream",
     "text": [
      " 73%|███████▎  | 1810/2487 [2:44:10<21:56,  1.94s/it]"
     ]
    },
    {
     "name": "stdout",
     "output_type": "stream",
     "text": [
      "\n",
      " GL_TS_MO_EXIN0002.nc\n",
      "GL_TS_MO_EXIN0002.nc does not have any of the variables ['VHM0', 'VAVH', 'WSPD']\n",
      "\n",
      " IR_TS_MO_Penas-current-meter.nc\n",
      "IR_TS_MO_Penas-current-meter.nc does not have any of the variables ['VHM0', 'VAVH', 'WSPD']\n",
      "\n",
      " GL_TS_MO_46023.nc\n"
     ]
    },
    {
     "name": "stderr",
     "output_type": "stream",
     "text": [
      " 73%|███████▎  | 1812/2487 [2:44:10<15:59,  1.42s/it]"
     ]
    },
    {
     "name": "stdout",
     "output_type": "stream",
     "text": [
      "GL_TS_MO_46023.nc does not have any valid data for this timeperiod\n",
      "GL_TS_MO_46023.nc does not have any valid data for this timeperiod\n",
      "\n",
      " GL_WS_MO_46208.nc\n",
      "GL_WS_MO_46208.nc does not have any of the variables ['VHM0', 'VAVH', 'WSPD']\n",
      "\n",
      " GL_WS_MO_41048.nc\n",
      "GL_WS_MO_41048.nc does not have any of the variables ['VHM0', 'VAVH', 'WSPD']\n",
      "\n",
      " GL_WS_MO_46047.nc\n"
     ]
    },
    {
     "name": "stderr",
     "output_type": "stream",
     "text": [
      " 73%|███████▎  | 1814/2487 [2:44:11<11:28,  1.02s/it]"
     ]
    },
    {
     "name": "stdout",
     "output_type": "stream",
     "text": [
      "GL_WS_MO_46047.nc does not have any of the variables ['VHM0', 'VAVH', 'WSPD']\n",
      "\n",
      " GL_TS_MO_41051.nc\n",
      "GL_TS_MO_41051.nc does not have any valid data for this timeperiod\n"
     ]
    },
    {
     "name": "stderr",
     "output_type": "stream",
     "text": [
      " 73%|███████▎  | 1816/2487 [2:44:11<08:27,  1.32it/s]"
     ]
    },
    {
     "name": "stdout",
     "output_type": "stream",
     "text": [
      "GL_TS_MO_41051.nc does not have any valid data for this timeperiod\n",
      "\n",
      " GL_TS_MO_51027.nc\n",
      "GL_TS_MO_51027.nc does not have any valid data for this timeperiod\n",
      "GL_TS_MO_51027.nc does not have any valid data for this timeperiod\n",
      "\n",
      " GL_TS_MO_6100190.nc\n",
      "POINT(3.7797000408172607 43.371498107910156)\n",
      "117  results found\n"
     ]
    },
    {
     "name": "stderr",
     "output_type": "stream",
     "text": [
      " 73%|███████▎  | 1819/2487 [2:44:25<22:36,  2.03s/it]"
     ]
    },
    {
     "name": "stdout",
     "output_type": "stream",
     "text": [
      "\n",
      " GL_TS_MO_46024.nc\n",
      "GL_TS_MO_46024.nc does not have any valid data for this timeperiod\n",
      "GL_TS_MO_46024.nc does not have any valid data for this timeperiod\n",
      "\n",
      " GL_WS_MO_46131.nc\n",
      "GL_WS_MO_46131.nc does not have any of the variables ['VHM0', 'VAVH', 'WSPD']\n",
      "\n",
      " GL_TS_MO_T5N155W.nc\n",
      "POINT(-155.0 5.0)\n"
     ]
    },
    {
     "name": "stderr",
     "output_type": "stream",
     "text": [
      " 73%|███████▎  | 1821/2487 [2:44:32<29:13,  2.63s/it]"
     ]
    },
    {
     "name": "stdout",
     "output_type": "stream",
     "text": [
      "0  results found\n",
      "\n",
      " BS_TS_MO_98002.nc\n",
      "BS_TS_MO_98002.nc does not have any valid data for this timeperiod\n",
      "\n",
      " NO_TS_MO_6201025.nc\n",
      "NO_TS_MO_6201025.nc does not have any valid data for this timeperiod\n",
      "\n",
      " GL_TS_MO_46070.nc\n",
      "POINT(175.18299865722656 55.007999420166016)\n"
     ]
    },
    {
     "name": "stderr",
     "output_type": "stream",
     "text": [
      " 73%|███████▎  | 1823/2487 [2:44:38<30:12,  2.73s/it]"
     ]
    },
    {
     "name": "stdout",
     "output_type": "stream",
     "text": [
      "0  results found\n",
      "\n",
      " GL_TS_MO_T2N165E.nc\n",
      "POINT(165.0 2.0)\n"
     ]
    },
    {
     "name": "stderr",
     "output_type": "stream",
     "text": [
      " 73%|███████▎  | 1824/2487 [2:44:47<41:23,  3.75s/it]"
     ]
    },
    {
     "name": "stdout",
     "output_type": "stream",
     "text": [
      "0  results found\n",
      "\n",
      " GL_TS_MO_53056.nc\n",
      "POINT(95.0 -5.0)\n"
     ]
    },
    {
     "name": "stderr",
     "output_type": "stream",
     "text": [
      " 73%|███████▎  | 1825/2487 [2:44:52<45:38,  4.14s/it]"
     ]
    },
    {
     "name": "stdout",
     "output_type": "stream",
     "text": [
      "0  results found\n",
      "\n",
      " GL_TS_MO_3101000.nc\n",
      "GL_TS_MO_3101000.nc does not have any valid data for this timeperiod\n",
      "\n",
      " GL_TS_MO_55038.nc\n",
      "POLYGON((151.8300018310547 -24.479999542236328,151.8300018310547 -23.895610809326172,151.5 -23.895610809326172,151.5 -24.479999542236328,151.8300018310547 -24.479999542236328))\n",
      "120  results found\n"
     ]
    },
    {
     "name": "stderr",
     "output_type": "stream",
     "text": [
      " 73%|███████▎  | 1827/2487 [2:45:58<2:42:49, 14.80s/it]"
     ]
    },
    {
     "name": "stdout",
     "output_type": "stream",
     "text": [
      "\n",
      " GL_TS_MO_T5S170W.nc\n",
      "POINT(-170.0 -5.0)\n"
     ]
    },
    {
     "name": "stderr",
     "output_type": "stream",
     "text": [
      " 74%|███████▎  | 1829/2487 [2:46:05<1:51:32, 10.17s/it]"
     ]
    },
    {
     "name": "stdout",
     "output_type": "stream",
     "text": [
      "0  results found\n",
      "\n",
      " GL_TS_MO_23460.nc\n",
      "GL_TS_MO_23460.nc does not have any valid data for this timeperiod\n",
      "\n",
      " GL_WS_MO_46240.nc\n",
      "GL_WS_MO_46240.nc does not have any of the variables ['VHM0', 'VAVH', 'WSPD']\n",
      "\n",
      " GL_TS_MO_WEL257.nc\n",
      "GL_TS_MO_WEL257.nc does not have any valid data for this timeperiod\n",
      "\n",
      " GL_TS_MO_45188.nc\n"
     ]
    },
    {
     "name": "stderr",
     "output_type": "stream",
     "text": [
      " 74%|███████▎  | 1832/2487 [2:46:05<55:57,  5.13s/it]  "
     ]
    },
    {
     "name": "stdout",
     "output_type": "stream",
     "text": [
      "GL_TS_MO_45188.nc does not have any valid data for this timeperiod\n",
      "\n",
      " IR_TS_MO_6100196.nc\n",
      "POLYGON((3.6700000762939453 41.89649963378906,3.6700000762939453 41.91999816894531,3.6261000633239746 41.91999816894531,3.6261000633239746 41.89649963378906,3.6700000762939453 41.89649963378906))\n",
      "176  results found\n"
     ]
    },
    {
     "name": "stderr",
     "output_type": "stream",
     "text": [
      " 74%|███████▎  | 1833/2487 [2:48:25<5:36:38, 30.89s/it]"
     ]
    },
    {
     "name": "stdout",
     "output_type": "stream",
     "text": [
      "\n",
      " GL_TS_MO_T9N140W.nc\n",
      "POINT(-140.0 9.0)\n"
     ]
    },
    {
     "name": "stderr",
     "output_type": "stream",
     "text": [
      " 74%|███████▍  | 1835/2487 [2:48:34<3:38:40, 20.12s/it]"
     ]
    },
    {
     "name": "stdout",
     "output_type": "stream",
     "text": [
      "0  results found\n",
      "\n",
      " NO_TS_MO_IJgeul5.nc\n",
      "NO_TS_MO_IJgeul5.nc does not have any valid data for this timeperiod\n",
      "NO_TS_MO_IJgeul5.nc does not have any valid data for this timeperiod\n",
      "\n",
      " IR_WS_MO_6200025.nc\n"
     ]
    },
    {
     "name": "stderr",
     "output_type": "stream",
     "text": [
      " 74%|███████▍  | 1836/2487 [2:48:34<2:43:50, 15.10s/it]"
     ]
    },
    {
     "name": "stdout",
     "output_type": "stream",
     "text": [
      "IR_WS_MO_6200025.nc does not have any of the variables ['VHM0', 'VAVH', 'WSPD']\n",
      "\n",
      " GL_TS_MO_42376.nc\n",
      "GL_TS_MO_42376.nc does not have any valid data for this timeperiod\n",
      "GL_TS_MO_42376.nc does not have any valid data for this timeperiod\n",
      "\n",
      " MO_TS_MO_61499.nc\n"
     ]
    },
    {
     "name": "stderr",
     "output_type": "stream",
     "text": [
      " 74%|███████▍  | 1838/2487 [2:48:35<1:36:04,  8.88s/it]"
     ]
    },
    {
     "name": "stdout",
     "output_type": "stream",
     "text": [
      "MO_TS_MO_61499.nc does not have any valid data for this timeperiod\n",
      "MO_TS_MO_61499.nc does not have any valid data for this timeperiod\n",
      "\n",
      " NO_TS_MO_N7S.nc\n",
      "POINT(6.356229782104492 54.26205062866211)\n",
      "237  results found\n"
     ]
    },
    {
     "name": "stderr",
     "output_type": "stream",
     "text": [
      " 74%|███████▍  | 1839/2487 [2:48:44<1:37:33,  9.03s/it]"
     ]
    },
    {
     "name": "stdout",
     "output_type": "stream",
     "text": [
      "\n",
      " GL_TS_MO_T5S155W.nc\n",
      "POINT(-155.0 -5.0)\n"
     ]
    },
    {
     "name": "stderr",
     "output_type": "stream",
     "text": [
      " 74%|███████▍  | 1840/2487 [2:48:53<1:36:25,  8.94s/it]"
     ]
    },
    {
     "name": "stdout",
     "output_type": "stream",
     "text": [
      "0  results found\n",
      "\n",
      " GL_WS_MO_46002.nc\n"
     ]
    },
    {
     "name": "stderr",
     "output_type": "stream",
     "text": [
      " 74%|███████▍  | 1841/2487 [2:48:53<1:12:20,  6.72s/it]"
     ]
    },
    {
     "name": "stdout",
     "output_type": "stream",
     "text": [
      "GL_WS_MO_46002.nc does not have any of the variables ['VHM0', 'VAVH', 'WSPD']\n",
      "\n",
      " GL_TS_MO_4801693.nc\n"
     ]
    },
    {
     "name": "stderr",
     "output_type": "stream",
     "text": [
      " 74%|███████▍  | 1842/2487 [2:48:54<53:43,  5.00s/it]  "
     ]
    },
    {
     "name": "stdout",
     "output_type": "stream",
     "text": [
      "GL_TS_MO_4801693.nc does not have any of the variables ['VHM0', 'VAVH', 'WSPD']\n",
      "\n",
      " GL_TS_MO_45022.nc\n"
     ]
    },
    {
     "name": "stderr",
     "output_type": "stream",
     "text": [
      " 74%|███████▍  | 1843/2487 [2:48:55<42:02,  3.92s/it]"
     ]
    },
    {
     "name": "stdout",
     "output_type": "stream",
     "text": [
      "GL_TS_MO_45022.nc is too close to land\n",
      "\n",
      " GL_TS_MO_MEDS316.nc\n"
     ]
    },
    {
     "name": "stderr",
     "output_type": "stream",
     "text": [
      " 74%|███████▍  | 1844/2487 [2:48:55<31:05,  2.90s/it]"
     ]
    },
    {
     "name": "stdout",
     "output_type": "stream",
     "text": [
      "GL_TS_MO_MEDS316.nc does not have any valid data for this timeperiod\n",
      "\n",
      " GL_TS_MO_46134.nc\n"
     ]
    },
    {
     "name": "stderr",
     "output_type": "stream",
     "text": [
      " 74%|███████▍  | 1845/2487 [2:48:56<25:53,  2.42s/it]"
     ]
    },
    {
     "name": "stdout",
     "output_type": "stream",
     "text": [
      "GL_TS_MO_46134.nc does not have any valid data for this timeperiod\n",
      "GL_TS_MO_46134.nc does not have any valid data for this timeperiod\n",
      "\n",
      " NO_TS_MO_6300113.nc\n"
     ]
    },
    {
     "name": "stderr",
     "output_type": "stream",
     "text": [
      " 74%|███████▍  | 1846/2487 [2:48:57<19:13,  1.80s/it]"
     ]
    },
    {
     "name": "stdout",
     "output_type": "stream",
     "text": [
      "NO_TS_MO_6300113.nc does not have any valid data for this timeperiod\n",
      "NO_TS_MO_6300113.nc does not have any valid data for this timeperiod\n",
      "\n",
      " MO_TS_MO_KALAM.nc\n"
     ]
    },
    {
     "name": "stderr",
     "output_type": "stream",
     "text": [
      " 74%|███████▍  | 1847/2487 [2:48:58<16:15,  1.52s/it]"
     ]
    },
    {
     "name": "stdout",
     "output_type": "stream",
     "text": [
      "MO_TS_MO_KALAM.nc does not have any valid data for this timeperiod\n",
      "MO_TS_MO_KALAM.nc does not have any valid data for this timeperiod\n",
      "\n",
      " GL_TS_MO_4600145.nc\n"
     ]
    },
    {
     "name": "stderr",
     "output_type": "stream",
     "text": [
      " 74%|███████▍  | 1849/2487 [2:48:58<09:18,  1.14it/s]"
     ]
    },
    {
     "name": "stdout",
     "output_type": "stream",
     "text": [
      "GL_TS_MO_4600145.nc does not have any valid data for this timeperiod\n",
      "\n",
      " GL_WS_MO_46083.nc\n",
      "GL_WS_MO_46083.nc does not have any of the variables ['VHM0', 'VAVH', 'WSPD']\n",
      "\n",
      " GL_TS_MO_EXCE0005.nc\n"
     ]
    },
    {
     "name": "stderr",
     "output_type": "stream",
     "text": [
      " 74%|███████▍  | 1850/2487 [2:48:59<08:30,  1.25it/s]"
     ]
    },
    {
     "name": "stdout",
     "output_type": "stream",
     "text": [
      "GL_TS_MO_EXCE0005.nc does not have any valid data for this timeperiod\n",
      "GL_TS_MO_EXCE0005.nc does not have any valid data for this timeperiod\n",
      "\n",
      " GL_TS_MO_33697.nc\n"
     ]
    },
    {
     "name": "stderr",
     "output_type": "stream",
     "text": [
      " 74%|███████▍  | 1851/2487 [2:48:59<07:20,  1.44it/s]"
     ]
    },
    {
     "name": "stdout",
     "output_type": "stream",
     "text": [
      "GL_TS_MO_33697.nc does not have any of the variables ['VHM0', 'VAVH', 'WSPD']\n",
      "\n",
      " GL_TS_MO_44174.nc\n"
     ]
    },
    {
     "name": "stderr",
     "output_type": "stream",
     "text": [
      " 74%|███████▍  | 1852/2487 [2:48:59<05:49,  1.82it/s]"
     ]
    },
    {
     "name": "stdout",
     "output_type": "stream",
     "text": [
      "GL_TS_MO_44174.nc does not have any valid data for this timeperiod\n",
      "GL_TS_MO_44174.nc does not have any valid data for this timeperiod\n",
      "\n",
      " GL_TS_MO_62198.nc\n"
     ]
    },
    {
     "name": "stderr",
     "output_type": "stream",
     "text": [
      " 75%|███████▍  | 1853/2487 [2:49:00<06:10,  1.71it/s]"
     ]
    },
    {
     "name": "stdout",
     "output_type": "stream",
     "text": [
      "GL_TS_MO_62198.nc does not have any valid data for this timeperiod\n",
      "\n",
      " GL_TS_MO_23494.nc\n"
     ]
    },
    {
     "name": "stderr",
     "output_type": "stream",
     "text": [
      " 75%|███████▍  | 1854/2487 [2:49:00<05:27,  1.93it/s]"
     ]
    },
    {
     "name": "stdout",
     "output_type": "stream",
     "text": [
      "GL_TS_MO_23494.nc does not have any valid data for this timeperiod\n",
      "\n",
      " AR_TS_MO_Gunnarsholmen-25-55.nc\n"
     ]
    },
    {
     "name": "stderr",
     "output_type": "stream",
     "text": [
      " 75%|███████▍  | 1855/2487 [2:49:01<04:48,  2.19it/s]"
     ]
    },
    {
     "name": "stdout",
     "output_type": "stream",
     "text": [
      "AR_TS_MO_Gunnarsholmen-25-55.nc does not have any of the variables ['VHM0', 'VAVH', 'WSPD']\n",
      "\n",
      " GL_TS_MO_44141.nc\n"
     ]
    },
    {
     "name": "stderr",
     "output_type": "stream",
     "text": [
      " 75%|███████▍  | 1856/2487 [2:49:02<06:01,  1.74it/s]"
     ]
    },
    {
     "name": "stdout",
     "output_type": "stream",
     "text": [
      "GL_TS_MO_44141.nc does not have any valid data for this timeperiod\n",
      "GL_TS_MO_44141.nc does not have any valid data for this timeperiod\n",
      "\n",
      " GL_TS_MO_31978.nc\n"
     ]
    },
    {
     "name": "stderr",
     "output_type": "stream",
     "text": [
      " 75%|███████▍  | 1857/2487 [2:49:02<05:15,  2.00it/s]"
     ]
    },
    {
     "name": "stdout",
     "output_type": "stream",
     "text": [
      "GL_TS_MO_31978.nc does not have any valid data for this timeperiod\n",
      "\n",
      " IR_TS_MO_AMETS-weather-buoy.nc\n"
     ]
    },
    {
     "name": "stderr",
     "output_type": "stream",
     "text": [
      " 75%|███████▍  | 1858/2487 [2:49:02<04:30,  2.32it/s]"
     ]
    },
    {
     "name": "stdout",
     "output_type": "stream",
     "text": [
      "IR_TS_MO_AMETS-weather-buoy.nc does not have any valid data for this timeperiod\n",
      "IR_TS_MO_AMETS-weather-buoy.nc does not have any valid data for this timeperiod\n",
      "\n",
      " GL_TS_MO_WEL352.nc\n"
     ]
    },
    {
     "name": "stderr",
     "output_type": "stream",
     "text": [
      " 75%|███████▍  | 1860/2487 [2:49:03<03:16,  3.19it/s]"
     ]
    },
    {
     "name": "stdout",
     "output_type": "stream",
     "text": [
      "GL_TS_MO_WEL352.nc does not have any valid data for this timeperiod\n",
      "\n",
      " GL_TS_MO_23170.nc\n",
      "GL_TS_MO_23170.nc does not have any valid data for this timeperiod\n",
      "\n",
      " GL_TS_MO_31262.nc\n"
     ]
    },
    {
     "name": "stderr",
     "output_type": "stream",
     "text": [
      " 75%|███████▍  | 1863/2487 [2:49:03<01:45,  5.90it/s]"
     ]
    },
    {
     "name": "stdout",
     "output_type": "stream",
     "text": [
      "GL_TS_MO_31262.nc does not have any valid data for this timeperiod\n",
      "\n",
      " MO_TS_MO_AcquaAltaTower.nc\n",
      "MO_TS_MO_AcquaAltaTower.nc does not have any of the variables ['VHM0', 'VAVH', 'WSPD']\n",
      "\n",
      " GL_TS_MO_WEL347.nc\n",
      "GL_TS_MO_WEL347.nc does not have any valid data for this timeperiod\n",
      "\n",
      " AR_TS_MO_Stora-Stokkavatnet-6-114.nc\n"
     ]
    },
    {
     "name": "stderr",
     "output_type": "stream",
     "text": [
      " 75%|███████▍  | 1865/2487 [2:49:03<01:35,  6.54it/s]"
     ]
    },
    {
     "name": "stdout",
     "output_type": "stream",
     "text": [
      "AR_TS_MO_Stora-Stokkavatnet-6-114.nc does not have any of the variables ['VHM0', 'VAVH', 'WSPD']\n",
      "\n",
      " GL_WS_MO_45012.nc\n",
      "GL_WS_MO_45012.nc does not have any of the variables ['VHM0', 'VAVH', 'WSPD']\n",
      "\n",
      " GL_TS_MO_46223.nc\n"
     ]
    },
    {
     "name": "stderr",
     "output_type": "stream",
     "text": [
      " 75%|███████▌  | 1866/2487 [2:49:04<02:31,  4.10it/s]"
     ]
    },
    {
     "name": "stdout",
     "output_type": "stream",
     "text": [
      "GL_TS_MO_46223.nc does not have any valid data for this timeperiod\n",
      "\n",
      " GL_WS_MO_41112.nc\n",
      "GL_WS_MO_41112.nc does not have any of the variables ['VHM0', 'VAVH', 'WSPD']\n",
      "\n",
      " GL_TS_MO_91204.nc\n"
     ]
    },
    {
     "name": "stderr",
     "output_type": "stream",
     "text": [
      " 75%|███████▌  | 1868/2487 [2:49:04<01:58,  5.22it/s]"
     ]
    },
    {
     "name": "stdout",
     "output_type": "stream",
     "text": [
      "GL_TS_MO_91204.nc does not have any valid data for this timeperiod\n",
      "\n",
      " MO_TS_MO_PARC-BIT.nc\n"
     ]
    },
    {
     "name": "stderr",
     "output_type": "stream",
     "text": [
      " 75%|███████▌  | 1871/2487 [2:49:04<01:47,  5.71it/s]"
     ]
    },
    {
     "name": "stdout",
     "output_type": "stream",
     "text": [
      "MO_TS_MO_PARC-BIT.nc does not have any valid data for this timeperiod\n",
      "\n",
      " GL_TS_MO_WEL410.nc\n",
      "GL_TS_MO_WEL410.nc does not have any valid data for this timeperiod\n",
      "\n",
      " IR_TS_MO_ValenciaII-coast-buoy.nc\n",
      "IR_TS_MO_ValenciaII-coast-buoy.nc does not have any valid data for this timeperiod\n",
      "IR_TS_MO_ValenciaII-coast-buoy.nc does not have any valid data for this timeperiod\n",
      "\n",
      " GL_TS_MO_4401621.nc\n"
     ]
    },
    {
     "name": "stderr",
     "output_type": "stream",
     "text": [
      " 75%|███████▌  | 1872/2487 [2:49:05<01:44,  5.88it/s]"
     ]
    },
    {
     "name": "stdout",
     "output_type": "stream",
     "text": [
      "GL_TS_MO_4401621.nc does not have any of the variables ['VHM0', 'VAVH', 'WSPD']\n",
      "\n",
      " IR_WS_MO_6200085.nc\n",
      "IR_WS_MO_6200085.nc does not have any of the variables ['VHM0', 'VAVH', 'WSPD']\n",
      "\n",
      " NO_TS_MO_NO1.nc\n",
      "POINT(6.838500022888184 53.985198974609375)\n",
      "236  results found\n"
     ]
    },
    {
     "name": "stderr",
     "output_type": "stream",
     "text": [
      " 75%|███████▌  | 1874/2487 [2:49:45<1:19:16,  7.76s/it]"
     ]
    },
    {
     "name": "stdout",
     "output_type": "stream",
     "text": [
      "\n",
      " NO_TS_MO_Pannengat1.nc\n",
      "NO_TS_MO_Pannengat1.nc does not have any valid data for this timeperiod\n",
      "NO_TS_MO_Pannengat1.nc does not have any valid data for this timeperiod\n",
      "\n",
      " GL_TS_MO_45005.nc\n"
     ]
    },
    {
     "name": "stderr",
     "output_type": "stream",
     "text": [
      " 75%|███████▌  | 1876/2487 [2:49:45<51:55,  5.10s/it]  "
     ]
    },
    {
     "name": "stdout",
     "output_type": "stream",
     "text": [
      "GL_TS_MO_45005.nc is too close to land\n",
      "\n",
      " NO_TS_MO_6201000.nc\n",
      "NO_TS_MO_6201000.nc does not have any valid data for this timeperiod\n",
      "\n",
      " GL_TS_MO_46258.nc\n",
      "POINT(-117.5009994506836 32.75199890136719)\n",
      "115  results found\n"
     ]
    },
    {
     "name": "stderr",
     "output_type": "stream",
     "text": [
      " 76%|███████▌  | 1879/2487 [2:49:56<43:16,  4.27s/it]"
     ]
    },
    {
     "name": "stdout",
     "output_type": "stream",
     "text": [
      "\n",
      " BS_TS_MO_WAVEB01.nc\n",
      "BS_TS_MO_WAVEB01.nc is too close to land\n",
      "\n",
      " GL_TS_MO_23017.nc\n",
      "POINT(67.0 -4.0)\n"
     ]
    },
    {
     "name": "stderr",
     "output_type": "stream",
     "text": [
      " 76%|███████▌  | 1880/2487 [2:50:01<44:23,  4.39s/it]"
     ]
    },
    {
     "name": "stdout",
     "output_type": "stream",
     "text": [
      "0  results found\n",
      "\n",
      " GL_TS_MO_46013.nc\n",
      "POLYGON((-123.3030014038086 38.25299835205078,-123.3030014038086 38.242000579833984,-123.3010025024414 38.242000579833984,-123.3010025024414 38.25299835205078,-123.3030014038086 38.25299835205078))\n",
      "129  results found\n"
     ]
    },
    {
     "name": "stderr",
     "output_type": "stream",
     "text": [
      " 76%|███████▌  | 1881/2487 [2:50:34<1:51:11, 11.01s/it]"
     ]
    },
    {
     "name": "stdout",
     "output_type": "stream",
     "text": [
      "\n",
      " GL_TS_MO_MEDS325.nc\n",
      "GL_TS_MO_MEDS325.nc does not have any valid data for this timeperiod\n",
      "\n",
      " GL_TS_MO_45203.nc\n",
      "GL_TS_MO_45203.nc does not have any valid data for this timeperiod\n"
     ]
    },
    {
     "name": "stderr",
     "output_type": "stream",
     "text": [
      " 76%|███████▌  | 1883/2487 [2:50:34<1:06:39,  6.62s/it]"
     ]
    },
    {
     "name": "stdout",
     "output_type": "stream",
     "text": [
      "GL_TS_MO_45203.nc does not have any valid data for this timeperiod\n",
      "\n",
      " NO_TS_MO_Heimdal.nc\n",
      "POINT(2.227299928665161 59.57419967651367)\n",
      "294  results found\n"
     ]
    },
    {
     "name": "stderr",
     "output_type": "stream",
     "text": [
      " 76%|███████▌  | 1884/2487 [2:50:50<1:26:38,  8.62s/it]"
     ]
    },
    {
     "name": "stdout",
     "output_type": "stream",
     "text": [
      "\n",
      " GL_TS_MO_WEL421.nc\n",
      "GL_TS_MO_WEL421.nc does not have any valid data for this timeperiod\n",
      "\n",
      " GL_TS_MO_46072.nc\n",
      "POINT(-172.08799743652344 51.672000885009766)\n",
      "44  results found\n"
     ]
    },
    {
     "name": "stderr",
     "output_type": "stream",
     "text": [
      " 76%|███████▌  | 1887/2487 [2:50:58<53:46,  5.38s/it]  "
     ]
    },
    {
     "name": "stdout",
     "output_type": "stream",
     "text": [
      "\n",
      " MO_PR_MO_6101020.nc\n",
      "MO_PR_MO_6101020.nc does not have any of the variables ['VHM0', 'VAVH', 'WSPD']\n",
      "\n",
      " GL_TS_MO_46229.nc\n",
      "LINESTRING(-124.54900360107422 43.77199935913086,-124.54900360107422 43.77000045776367)\n",
      "125  results found\n"
     ]
    },
    {
     "name": "stderr",
     "output_type": "stream",
     "text": [
      " 76%|███████▌  | 1888/2487 [2:52:36<4:33:27, 27.39s/it]"
     ]
    },
    {
     "name": "stdout",
     "output_type": "stream",
     "text": [
      "\n",
      " NO_TS_MO_Sylt.nc\n",
      "POINT(8.089300155639648 54.91889953613281)\n",
      "230  results found\n"
     ]
    },
    {
     "name": "stderr",
     "output_type": "stream",
     "text": [
      " 76%|███████▌  | 1889/2487 [2:52:49<3:56:47, 23.76s/it]"
     ]
    },
    {
     "name": "stdout",
     "output_type": "stream",
     "text": [
      "\n",
      " GL_TS_MO_62068.nc\n"
     ]
    },
    {
     "name": "stderr",
     "output_type": "stream",
     "text": [
      " 76%|███████▌  | 1890/2487 [2:52:49<2:54:19, 17.52s/it]"
     ]
    },
    {
     "name": "stdout",
     "output_type": "stream",
     "text": [
      "GL_TS_MO_62068.nc does not have any valid data for this timeperiod\n",
      "GL_TS_MO_62068.nc does not have any valid data for this timeperiod\n",
      "\n",
      " GL_TS_MO_41047.nc\n",
      "POLYGON((-71.49400329589844 27.517000198364258,-71.49400329589844 27.46299934387207,-71.46600341796875 27.46299934387207,-71.46600341796875 27.517000198364258,-71.49400329589844 27.517000198364258))\n"
     ]
    },
    {
     "name": "stderr",
     "output_type": "stream",
     "text": [
      " 76%|███████▌  | 1891/2487 [2:52:55<2:21:45, 14.27s/it]"
     ]
    },
    {
     "name": "stdout",
     "output_type": "stream",
     "text": [
      "0  results found\n",
      "\n",
      " GL_TS_MO_T5S140W.nc\n"
     ]
    },
    {
     "name": "stderr",
     "output_type": "stream",
     "text": [
      " 76%|███████▌  | 1894/2487 [2:52:56<58:12,  5.89s/it]  "
     ]
    },
    {
     "name": "stdout",
     "output_type": "stream",
     "text": [
      "GL_TS_MO_T5S140W.nc does not have any valid data for this timeperiod\n",
      "\n",
      " AR_TS_MO_Kvalsvik-bad-og-friluftsomraade-36-101.nc\n",
      "AR_TS_MO_Kvalsvik-bad-og-friluftsomraade-36-101.nc does not have any of the variables ['VHM0', 'VAVH', 'WSPD']\n",
      "\n",
      " NO_TS_MO_Anasuria.nc\n",
      "NO_TS_MO_Anasuria.nc does not have any valid data for this timeperiod\n",
      "\n",
      " GL_WS_MO_44027.nc\n"
     ]
    },
    {
     "name": "stderr",
     "output_type": "stream",
     "text": [
      " 76%|███████▌  | 1896/2487 [2:52:56<35:43,  3.63s/it]"
     ]
    },
    {
     "name": "stdout",
     "output_type": "stream",
     "text": [
      "GL_WS_MO_44027.nc does not have any of the variables ['VHM0', 'VAVH', 'WSPD']\n",
      "\n",
      " NO_TS_MO_LTKielCU.nc\n",
      "NO_TS_MO_LTKielCU.nc does not have any of the variables ['VHM0', 'VAVH', 'WSPD']\n",
      "\n",
      " NO_TS_MO_6201577.nc\n",
      "NO_TS_MO_6201577.nc does not have any of the variables ['VHM0', 'VAVH', 'WSPD']\n",
      "\n",
      " GL_TS_MO_44087.nc\n",
      "LINESTRING(-76.1510009765625 37.0260009765625,-76.1510009765625 37.025001525878906)\n",
      "56  results found\n"
     ]
    },
    {
     "name": "stderr",
     "output_type": "stream",
     "text": [
      " 76%|███████▋  | 1899/2487 [2:53:43<1:23:35,  8.53s/it]"
     ]
    },
    {
     "name": "stdout",
     "output_type": "stream",
     "text": [
      "\n",
      " MO_TS_MO_SARON.nc\n",
      "MO_TS_MO_SARON.nc does not have any valid data for this timeperiod\n",
      "MO_TS_MO_SARON.nc does not have any valid data for this timeperiod\n",
      "\n",
      " GL_TS_MO_23493.nc\n"
     ]
    },
    {
     "name": "stderr",
     "output_type": "stream",
     "text": [
      " 76%|███████▋  | 1901/2487 [2:53:43<52:58,  5.42s/it]  "
     ]
    },
    {
     "name": "stdout",
     "output_type": "stream",
     "text": [
      "GL_TS_MO_23493.nc does not have any valid data for this timeperiod\n",
      "\n",
      " NO_TS_MO_FINO2WR.nc\n",
      "NO_TS_MO_FINO2WR.nc does not have any valid data for this timeperiod\n",
      "\n",
      " NO_TS_MO_NieuwpoortWind.nc\n"
     ]
    },
    {
     "name": "stderr",
     "output_type": "stream",
     "text": [
      " 76%|███████▋  | 1902/2487 [2:53:44<42:08,  4.32s/it]"
     ]
    },
    {
     "name": "stdout",
     "output_type": "stream",
     "text": [
      "NO_TS_MO_NieuwpoortWind.nc is too close to land\n",
      "\n",
      " GL_TS_MO_3100051.nc\n",
      "GL_TS_MO_3100051.nc does not have any valid data for this timeperiod\n",
      "\n",
      " GL_TS_MO_T0N165E.nc\n",
      "POINT(165.0 0.0)\n"
     ]
    },
    {
     "name": "stderr",
     "output_type": "stream",
     "text": [
      " 77%|███████▋  | 1904/2487 [2:53:51<40:36,  4.18s/it]"
     ]
    },
    {
     "name": "stdout",
     "output_type": "stream",
     "text": [
      "0  results found\n",
      "\n",
      " GL_TS_MO_44100.nc\n",
      "POINT(-75.59300231933594 36.257999420166016)\n",
      "56  results found\n"
     ]
    },
    {
     "name": "stderr",
     "output_type": "stream",
     "text": [
      " 77%|███████▋  | 1905/2487 [2:54:00<48:59,  5.05s/it]"
     ]
    },
    {
     "name": "stdout",
     "output_type": "stream",
     "text": [
      "\n",
      " GL_TS_MO_6100431.nc\n",
      "POINT(4.133299827575684 43.42499923706055)\n",
      "175  results found\n"
     ]
    },
    {
     "name": "stderr",
     "output_type": "stream",
     "text": [
      " 77%|███████▋  | 1906/2487 [2:54:11<1:03:51,  6.59s/it]"
     ]
    },
    {
     "name": "stdout",
     "output_type": "stream",
     "text": [
      "\n",
      " GL_WS_MO_46273.nc\n",
      "GL_WS_MO_46273.nc does not have any of the variables ['VHM0', 'VAVH', 'WSPD']\n",
      "\n",
      " NO_TS_MO_Akkaert.nc\n",
      "POINT(2.819000005722046 51.41600036621094)\n",
      "233  results found\n"
     ]
    },
    {
     "name": "stderr",
     "output_type": "stream",
     "text": [
      " 77%|███████▋  | 1910/2487 [2:54:23<38:38,  4.02s/it]  "
     ]
    },
    {
     "name": "stdout",
     "output_type": "stream",
     "text": [
      "\n",
      " GL_TS_MO_MEDS226.nc\n",
      "GL_TS_MO_MEDS226.nc does not have any valid data for this timeperiod\n",
      "\n",
      " GL_TS_MO_34002.nc\n",
      "GL_TS_MO_34002.nc does not have any valid data for this timeperiod\n",
      "\n",
      " NO_TS_MO_BolVanHeist.nc\n",
      "POINT(3.2005999088287354 51.39189910888672)\n",
      "233  results found\n"
     ]
    },
    {
     "name": "stderr",
     "output_type": "stream",
     "text": [
      " 77%|███████▋  | 1912/2487 [2:54:35<42:10,  4.40s/it]"
     ]
    },
    {
     "name": "stdout",
     "output_type": "stream",
     "text": [
      "\n",
      " GL_WS_MO_46207.nc\n",
      "GL_WS_MO_46207.nc does not have any of the variables ['VHM0', 'VAVH', 'WSPD']\n",
      "\n",
      " GL_TS_MO_2300452.nc\n",
      "POLYGON((68.5979995727539 11.98799991607666,68.5979995727539 12.093000411987305,68.67900085449219 12.093000411987305,68.67900085449219 11.98799991607666,68.5979995727539 11.98799991607666))\n"
     ]
    },
    {
     "name": "stderr",
     "output_type": "stream",
     "text": [
      " 77%|███████▋  | 1915/2487 [2:54:39<24:26,  2.56s/it]"
     ]
    },
    {
     "name": "stdout",
     "output_type": "stream",
     "text": [
      "0  results found\n",
      "\n",
      " GL_TS_MO_46227.nc\n",
      "GL_TS_MO_46227.nc does not have any valid data for this timeperiod\n",
      "\n",
      " GL_TS_MO_MEDS152.nc\n",
      "GL_TS_MO_MEDS152.nc does not have any valid data for this timeperiod\n",
      "\n",
      " GL_TS_MO_56011.nc\n",
      "POINT(117.7300033569336 -35.20000076293945)\n",
      "58  results found\n"
     ]
    },
    {
     "name": "stderr",
     "output_type": "stream",
     "text": [
      " 77%|███████▋  | 1916/2487 [2:54:45<30:50,  3.24s/it]"
     ]
    },
    {
     "name": "stdout",
     "output_type": "stream",
     "text": [
      "\n",
      " GL_TS_MO_T2S170W.nc\n",
      "POINT(-170.0 -2.0)\n"
     ]
    },
    {
     "name": "stderr",
     "output_type": "stream",
     "text": [
      " 77%|███████▋  | 1919/2487 [2:54:52<23:20,  2.47s/it]"
     ]
    },
    {
     "name": "stdout",
     "output_type": "stream",
     "text": [
      "0  results found\n",
      "\n",
      " GL_WS_MO_46265.nc\n",
      "GL_WS_MO_46265.nc does not have any of the variables ['VHM0', 'VAVH', 'WSPD']\n",
      "\n",
      " GL_TS_MO_MEDS051.nc\n",
      "GL_TS_MO_MEDS051.nc does not have any valid data for this timeperiod\n",
      "\n",
      " GL_WS_MO_45007.nc\n"
     ]
    },
    {
     "name": "stderr",
     "output_type": "stream",
     "text": [
      " 77%|███████▋  | 1920/2487 [2:54:52<18:15,  1.93s/it]"
     ]
    },
    {
     "name": "stdout",
     "output_type": "stream",
     "text": [
      "GL_WS_MO_45007.nc does not have any of the variables ['VHM0', 'VAVH', 'WSPD']\n",
      "\n",
      " GL_TS_MO_45023.nc\n"
     ]
    },
    {
     "name": "stderr",
     "output_type": "stream",
     "text": [
      " 77%|███████▋  | 1921/2487 [2:54:52<14:28,  1.53s/it]"
     ]
    },
    {
     "name": "stdout",
     "output_type": "stream",
     "text": [
      "GL_TS_MO_45023.nc is too close to land\n",
      "\n",
      " GL_TS_MO_52086.nc\n"
     ]
    },
    {
     "name": "stderr",
     "output_type": "stream",
     "text": [
      " 77%|███████▋  | 1925/2487 [2:54:53<05:29,  1.71it/s]"
     ]
    },
    {
     "name": "stdout",
     "output_type": "stream",
     "text": [
      "GL_TS_MO_52086.nc does not have any valid data for this timeperiod\n",
      "\n",
      " GL_TS_MO_1301561.nc\n",
      "GL_TS_MO_1301561.nc does not have any of the variables ['VHM0', 'VAVH', 'WSPD']\n",
      "\n",
      " GL_WS_MO_45136.nc\n",
      "GL_WS_MO_45136.nc does not have any of the variables ['VHM0', 'VAVH', 'WSPD']\n",
      "\n",
      " AR_TS_MO_Mule-Varde-7-82.nc\n",
      "AR_TS_MO_Mule-Varde-7-82.nc does not have any of the variables ['VHM0', 'VAVH', 'WSPD']\n",
      "\n",
      " GL_TS_MO_46087.nc\n"
     ]
    },
    {
     "name": "stderr",
     "output_type": "stream",
     "text": [
      " 77%|███████▋  | 1927/2487 [2:54:53<03:55,  2.38it/s]"
     ]
    },
    {
     "name": "stdout",
     "output_type": "stream",
     "text": [
      "GL_TS_MO_46087.nc does not have any valid data for this timeperiod\n",
      "GL_TS_MO_46087.nc does not have any valid data for this timeperiod\n",
      "\n",
      " AR_TS_MO_OuterIsfjorden-S.nc\n",
      "AR_TS_MO_OuterIsfjorden-S.nc does not have any of the variables ['VHM0', 'VAVH', 'WSPD']\n",
      "\n",
      " BO_TS_MO_DrogdenTS.nc\n",
      "BO_TS_MO_DrogdenTS.nc does not have any of the variables ['VHM0', 'VAVH', 'WSPD']\n",
      "\n",
      " GL_TS_MO_44030.nc\n",
      "POINT(-70.4260025024414 43.17900085449219)\n",
      "57  results found\n"
     ]
    },
    {
     "name": "stderr",
     "output_type": "stream",
     "text": [
      " 78%|███████▊  | 1929/2487 [2:55:00<13:09,  1.41s/it]"
     ]
    },
    {
     "name": "stdout",
     "output_type": "stream",
     "text": [
      "\n",
      " GL_TS_MO_T0N140W.nc\n",
      "POINT(-140.0 0.0)\n"
     ]
    },
    {
     "name": "stderr",
     "output_type": "stream",
     "text": [
      " 78%|███████▊  | 1931/2487 [2:55:07<17:43,  1.91s/it]"
     ]
    },
    {
     "name": "stdout",
     "output_type": "stream",
     "text": [
      "0  results found\n",
      "\n",
      " GL_TS_MO_45195.nc\n",
      "GL_TS_MO_45195.nc is too close to land\n",
      "\n",
      " GL_TS_MO_52075.nc\n"
     ]
    },
    {
     "name": "stderr",
     "output_type": "stream",
     "text": [
      " 78%|███████▊  | 1933/2487 [2:55:07<10:44,  1.16s/it]"
     ]
    },
    {
     "name": "stdout",
     "output_type": "stream",
     "text": [
      "GL_TS_MO_52075.nc does not have any valid data for this timeperiod\n",
      "\n",
      " GL_TS_MO_42047.nc\n",
      "GL_TS_MO_42047.nc does not have any valid data for this timeperiod\n",
      "\n",
      " GL_TS_MO_Tantabiddi01.nc\n",
      "POLYGON((113.9259033203125 -21.896099090576172,113.9259033203125 -21.894899368286133,113.92720031738281 -21.894899368286133,113.92720031738281 -21.896099090576172,113.9259033203125 -21.896099090576172))\n",
      "30  results found\n"
     ]
    },
    {
     "name": "stderr",
     "output_type": "stream",
     "text": [
      " 78%|███████▊  | 1935/2487 [2:55:19<27:23,  2.98s/it]"
     ]
    },
    {
     "name": "stdout",
     "output_type": "stream",
     "text": [
      "\n",
      " BO_TS_MO_SodraOstersjon.nc\n",
      "BO_TS_MO_SodraOstersjon.nc does not have any valid data for this timeperiod\n",
      "\n",
      " IR_TS_MO_6200191.nc\n"
     ]
    },
    {
     "name": "stderr",
     "output_type": "stream",
     "text": [
      " 78%|███████▊  | 1937/2487 [2:55:20<14:33,  1.59s/it]"
     ]
    },
    {
     "name": "stdout",
     "output_type": "stream",
     "text": [
      "IR_TS_MO_6200191.nc does not have any valid data for this timeperiod\n",
      "IR_TS_MO_6200191.nc does not have any valid data for this timeperiod\n",
      "\n",
      " GL_TS_MO_46217.nc\n",
      "GL_TS_MO_46217.nc does not have any valid data for this timeperiod\n",
      "\n",
      " GL_TS_MO_46226.nc\n",
      "GL_TS_MO_46226.nc does not have any valid data for this timeperiod\n",
      "\n",
      " GL_TS_MO_44092.nc\n",
      "GL_TS_MO_44092.nc does not have any valid data for this timeperiod\n",
      "\n",
      " GL_TS_MO_46221.nc\n",
      "POINT(-118.64099884033203 33.86000061035156)\n",
      "232  results found\n"
     ]
    },
    {
     "name": "stderr",
     "output_type": "stream",
     "text": [
      " 78%|███████▊  | 1940/2487 [2:55:31<26:15,  2.88s/it]"
     ]
    },
    {
     "name": "stdout",
     "output_type": "stream",
     "text": [
      "\n",
      " GL_TS_MO_45007.nc\n"
     ]
    },
    {
     "name": "stderr",
     "output_type": "stream",
     "text": [
      " 78%|███████▊  | 1941/2487 [2:55:32<21:18,  2.34s/it]"
     ]
    },
    {
     "name": "stdout",
     "output_type": "stream",
     "text": [
      "GL_TS_MO_45007.nc is too close to land\n",
      "\n",
      " GL_TS_MO_1300009.nc\n",
      "GL_TS_MO_1300009.nc does not have any valid data for this timeperiod\n",
      "\n",
      " AR_TS_MO_F-Vartdalsfjorden.nc\n"
     ]
    },
    {
     "name": "stderr",
     "output_type": "stream",
     "text": [
      " 78%|███████▊  | 1944/2487 [2:55:32<11:37,  1.28s/it]"
     ]
    },
    {
     "name": "stdout",
     "output_type": "stream",
     "text": [
      "AR_TS_MO_F-Vartdalsfjorden.nc does not have any valid data for this timeperiod\n",
      "\n",
      " GL_TS_MO_EXIN0004.nc\n",
      "GL_TS_MO_EXIN0004.nc does not have any of the variables ['VHM0', 'VAVH', 'WSPD']\n",
      "\n",
      " GL_TS_MO_23005.nc\n",
      "GL_TS_MO_23005.nc does not have any valid data for this timeperiod\n",
      "\n",
      " GL_TS_MO_23499.nc\n",
      "GL_TS_MO_23499.nc does not have any valid data for this timeperiod\n",
      "\n",
      " GL_TS_MO_T0N125W.nc\n",
      "POINT(-125.0 0.0)\n"
     ]
    },
    {
     "name": "stderr",
     "output_type": "stream",
     "text": [
      " 78%|███████▊  | 1948/2487 [2:55:41<14:53,  1.66s/it]"
     ]
    },
    {
     "name": "stdout",
     "output_type": "stream",
     "text": [
      "0  results found\n",
      "\n",
      " IR_WS_MO_6200083.nc\n",
      "IR_WS_MO_6200083.nc does not have any of the variables ['VHM0', 'VAVH', 'WSPD']\n",
      "\n",
      " MO_TS_MO_ESTELLENCS.nc\n"
     ]
    },
    {
     "name": "stderr",
     "output_type": "stream",
     "text": [
      "/home/sarssw/miniconda3/envs/master/lib/python3.10/site-packages/xarray/core/indexes.py:205: FutureWarning: Value based partial slicing on non-monotonic DatetimeIndexes with non-existing keys is deprecated and will raise a KeyError in a future Version.\n",
      "  indexer = index.slice_indexer(\n",
      " 78%|███████▊  | 1952/2487 [2:55:41<06:36,  1.35it/s]"
     ]
    },
    {
     "name": "stdout",
     "output_type": "stream",
     "text": [
      "MO_TS_MO_ESTELLENCS.nc : data extraction failed with: \"cannot represent labeled-based slice indexer for coordinate 'TIME' with a slice over integer positions; the index is unsorted or non-unique\"\n",
      "\n",
      " GL_WS_MO_46225.nc\n",
      "GL_WS_MO_46225.nc does not have any of the variables ['VHM0', 'VAVH', 'WSPD']\n",
      "\n",
      " GL_TS_MO_MEDS202.nc\n",
      "GL_TS_MO_MEDS202.nc does not have any valid data for this timeperiod\n",
      "\n",
      " NO_TS_MO_FolkestoneMET.nc\n",
      "NO_TS_MO_FolkestoneMET.nc does not have any valid data for this timeperiod\n",
      "\n",
      " NO_TS_MO_Amelander12.nc\n",
      "NO_TS_MO_Amelander12.nc does not have any valid data for this timeperiod\n"
     ]
    },
    {
     "name": "stderr",
     "output_type": "stream",
     "text": [
      " 79%|███████▊  | 1954/2487 [2:55:42<04:48,  1.85it/s]"
     ]
    },
    {
     "name": "stdout",
     "output_type": "stream",
     "text": [
      "NO_TS_MO_Amelander12.nc does not have any valid data for this timeperiod\n",
      "\n",
      " GL_TS_MO_46245.nc\n",
      "GL_TS_MO_46245.nc does not have any valid data for this timeperiod\n",
      "\n",
      " GL_TS_MO_44056.nc\n",
      "POINT(-75.71399688720703 36.20000076293945)\n",
      "56  results found\n"
     ]
    },
    {
     "name": "stderr",
     "output_type": "stream",
     "text": [
      " 79%|███████▊  | 1958/2487 [2:55:50<10:16,  1.17s/it]"
     ]
    },
    {
     "name": "stdout",
     "output_type": "stream",
     "text": [
      "\n",
      " GL_WS_MO_ducn7.nc\n",
      "GL_WS_MO_ducn7.nc does not have any of the variables ['VHM0', 'VAVH', 'WSPD']\n",
      "\n",
      " GL_TS_MO_MEDS350.nc\n",
      "GL_TS_MO_MEDS350.nc does not have any valid data for this timeperiod\n",
      "\n",
      " AR_TS_MO_Soerenga-40-100.nc\n",
      "AR_TS_MO_Soerenga-40-100.nc does not have any of the variables ['VHM0', 'VAVH', 'WSPD']\n",
      "\n",
      " NO_TS_MO_K13a.nc\n",
      "POINT(3.2200000286102295 53.217777252197266)\n",
      "216  results found\n",
      "\n",
      " GL_TS_MO_45029.nc\n"
     ]
    },
    {
     "name": "stderr",
     "output_type": "stream",
     "text": [
      " 79%|███████▉  | 1962/2487 [2:56:00<14:34,  1.67s/it]"
     ]
    },
    {
     "name": "stdout",
     "output_type": "stream",
     "text": [
      "GL_TS_MO_45029.nc is too close to land\n",
      "\n",
      " GL_TS_MO_23500.nc\n",
      "GL_TS_MO_23500.nc does not have any valid data for this timeperiod\n",
      "\n",
      " GL_WS_MO_41001.nc\n",
      "GL_WS_MO_41001.nc does not have any of the variables ['VHM0', 'VAVH', 'WSPD']\n",
      "\n",
      " AR_TS_MO_Isfjorden-O.nc\n"
     ]
    },
    {
     "name": "stderr",
     "output_type": "stream",
     "text": [
      " 79%|███████▉  | 1964/2487 [2:56:00<10:18,  1.18s/it]"
     ]
    },
    {
     "name": "stdout",
     "output_type": "stream",
     "text": [
      "AR_TS_MO_Isfjorden-O.nc does not have any of the variables ['VHM0', 'VAVH', 'WSPD']\n",
      "\n",
      " GL_TS_MO_MEDS001.nc\n",
      "GL_TS_MO_MEDS001.nc does not have any valid data for this timeperiod\n",
      "\n",
      " GL_WS_MO_52202.nc\n",
      "GL_WS_MO_52202.nc does not have any of the variables ['VHM0', 'VAVH', 'WSPD']\n",
      "\n",
      " GL_WS_MO_42042.nc\n",
      "GL_WS_MO_42042.nc does not have any of the variables ['VHM0', 'VAVH', 'WSPD']\n",
      "\n",
      " NO_TS_MO_A121.nc\n",
      "POINT(3.8166251182556152 55.41663360595703)\n",
      "223  results found\n"
     ]
    },
    {
     "name": "stderr",
     "output_type": "stream",
     "text": [
      " 79%|███████▉  | 1968/2487 [2:56:18<21:58,  2.54s/it]"
     ]
    },
    {
     "name": "stdout",
     "output_type": "stream",
     "text": [
      "\n",
      " BO_TS_MO_SvenskaBjorn2.nc\n",
      "BO_TS_MO_SvenskaBjorn2.nc does not have any valid data for this timeperiod\n",
      "BO_TS_MO_SvenskaBjorn2.nc does not have any valid data for this timeperiod\n",
      "\n",
      " GL_TS_MO_23501.nc\n",
      "GL_TS_MO_23501.nc does not have any valid data for this timeperiod\n",
      "\n",
      " GL_TS_MO_45152.nc\n"
     ]
    },
    {
     "name": "stderr",
     "output_type": "stream",
     "text": [
      " 79%|███████▉  | 1970/2487 [2:56:18<15:22,  1.78s/it]"
     ]
    },
    {
     "name": "stdout",
     "output_type": "stream",
     "text": [
      "GL_TS_MO_45152.nc does not have any valid data for this timeperiod\n",
      "GL_TS_MO_45152.nc is too close to land\n",
      "\n",
      " GL_TS_MO_MEDS207.nc\n",
      "GL_TS_MO_MEDS207.nc does not have any valid data for this timeperiod\n",
      "\n",
      " GL_TS_MO_MEDS245.nc\n",
      "GL_TS_MO_MEDS245.nc does not have any valid data for this timeperiod\n",
      "\n",
      " GL_WS_MO_51100.nc\n",
      "GL_WS_MO_51100.nc does not have any of the variables ['VHM0', 'VAVH', 'WSPD']\n"
     ]
    },
    {
     "name": "stderr",
     "output_type": "stream",
     "text": [
      " 79%|███████▉  | 1975/2487 [2:56:18<06:52,  1.24it/s]"
     ]
    },
    {
     "name": "stdout",
     "output_type": "stream",
     "text": [
      "\n",
      " GL_WS_MO_41010.nc\n",
      "GL_WS_MO_41010.nc does not have any of the variables ['VHM0', 'VAVH', 'WSPD']\n",
      "\n",
      " AR_TS_MO_Sandnessjoeen-havsbad-56-129.nc\n",
      "AR_TS_MO_Sandnessjoeen-havsbad-56-129.nc does not have any of the variables ['VHM0', 'VAVH', 'WSPD']\n",
      "\n",
      " GL_TS_MO_42010.nc\n",
      "GL_TS_MO_42010.nc does not have any valid data for this timeperiod\n",
      "\n",
      " IR_TS_MO_1300131.nc\n",
      "POLYGON((-16.649200439453125 27.983400344848633,-16.649200439453125 28.005399703979492,-16.5447998046875 28.005399703979492,-16.5447998046875 27.983400344848633,-16.649200439453125 27.983400344848633))\n",
      "176  results found\n"
     ]
    },
    {
     "name": "stderr",
     "output_type": "stream",
     "text": [
      " 80%|███████▉  | 1979/2487 [2:58:27<1:52:52, 13.33s/it]"
     ]
    },
    {
     "name": "stdout",
     "output_type": "stream",
     "text": [
      "\n",
      " GL_TS_MO_45207.nc\n",
      "GL_TS_MO_45207.nc does not have any valid data for this timeperiod\n",
      "\n",
      " GL_WS_MO_46069.nc\n",
      "GL_WS_MO_46069.nc does not have any of the variables ['VHM0', 'VAVH', 'WSPD']\n",
      "\n",
      " GL_TS_MO_41012.nc\n"
     ]
    },
    {
     "name": "stderr",
     "output_type": "stream",
     "text": [
      " 80%|███████▉  | 1981/2487 [2:58:27<1:19:59,  9.49s/it]"
     ]
    },
    {
     "name": "stdout",
     "output_type": "stream",
     "text": [
      "GL_TS_MO_41012.nc does not have any valid data for this timeperiod\n",
      "GL_TS_MO_41012.nc does not have any valid data for this timeperiod\n",
      "\n",
      " GL_TS_MO_44175.nc\n",
      "GL_TS_MO_44175.nc does not have any valid data for this timeperiod\n",
      "GL_TS_MO_44175.nc does not have any valid data for this timeperiod\n",
      "\n",
      " GL_TS_MO_44052.nc\n",
      "GL_TS_MO_44052.nc does not have any valid data for this timeperiod\n",
      "\n",
      " GL_TS_MO_2300451.nc\n",
      "POLYGON((68.96299743652344 14.906000137329102,68.96299743652344 14.954000473022461,69.00900268554688 14.954000473022461,69.00900268554688 14.906000137329102,68.96299743652344 14.906000137329102))\n"
     ]
    },
    {
     "name": "stderr",
     "output_type": "stream",
     "text": [
      " 80%|███████▉  | 1983/2487 [2:58:33<1:03:11,  7.52s/it]"
     ]
    },
    {
     "name": "stdout",
     "output_type": "stream",
     "text": [
      "0  results found\n",
      "\n",
      " GL_TS_MO_46088.nc\n",
      "POLYGON((-123.17900085449219 48.332000732421875,-123.17900085449219 48.33399963378906,-123.16500091552734 48.33399963378906,-123.16500091552734 48.332000732421875,-123.17900085449219 48.332000732421875))\n",
      "119  results found\n"
     ]
    },
    {
     "name": "stderr",
     "output_type": "stream",
     "text": [
      " 80%|███████▉  | 1984/2487 [3:03:13<7:39:13, 54.78s/it]"
     ]
    },
    {
     "name": "stdout",
     "output_type": "stream",
     "text": [
      "\n",
      " GL_TS_MO_46002.nc\n",
      "POINT(-130.5019989013672 42.65800094604492)\n",
      "0  results found\n"
     ]
    },
    {
     "name": "stderr",
     "output_type": "stream",
     "text": [
      " 80%|███████▉  | 1985/2487 [3:03:22<6:22:48, 45.75s/it]"
     ]
    },
    {
     "name": "stdout",
     "output_type": "stream",
     "text": [
      "\n",
      " MO_TS_MO_MONOPOLI-61215.nc\n"
     ]
    },
    {
     "name": "stderr",
     "output_type": "stream",
     "text": [
      " 80%|███████▉  | 1986/2487 [3:03:22<4:58:14, 35.72s/it]"
     ]
    },
    {
     "name": "stdout",
     "output_type": "stream",
     "text": [
      "MO_TS_MO_MONOPOLI-61215.nc does not have any valid data for this timeperiod\n",
      "\n",
      " GL_TS_MO_51207.nc\n",
      "POINT(-157.7519989013672 21.476999282836914)\n",
      "117  results found\n"
     ]
    },
    {
     "name": "stderr",
     "output_type": "stream",
     "text": [
      " 80%|███████▉  | 1987/2487 [3:03:32<4:06:46, 29.61s/it]"
     ]
    },
    {
     "name": "stdout",
     "output_type": "stream",
     "text": [
      "\n",
      " GL_TS_MO_46080.nc\n",
      "POINT(-150.04200744628906 57.946998596191406)\n",
      "0  results found\n"
     ]
    },
    {
     "name": "stderr",
     "output_type": "stream",
     "text": [
      " 80%|███████▉  | 1988/2487 [3:03:38<3:15:57, 23.56s/it]"
     ]
    },
    {
     "name": "stdout",
     "output_type": "stream",
     "text": [
      "\n",
      " NO_TS_MO_HonteSloehaven.nc\n"
     ]
    },
    {
     "name": "stderr",
     "output_type": "stream",
     "text": [
      " 80%|████████  | 1990/2487 [3:03:39<1:44:36, 12.63s/it]"
     ]
    },
    {
     "name": "stdout",
     "output_type": "stream",
     "text": [
      "NO_TS_MO_HonteSloehaven.nc is too close to land\n",
      "\n",
      " GL_TS_MO_MEDS023.nc\n",
      "GL_TS_MO_MEDS023.nc does not have any valid data for this timeperiod\n",
      "\n",
      " GL_TS_MO_44084.nc\n"
     ]
    },
    {
     "name": "stderr",
     "output_type": "stream",
     "text": [
      " 80%|████████  | 1991/2487 [3:03:39<1:15:30,  9.13s/it]"
     ]
    },
    {
     "name": "stdout",
     "output_type": "stream",
     "text": [
      "GL_TS_MO_44084.nc does not have any valid data for this timeperiod\n",
      "\n",
      " GL_TS_MO_WEL406.nc\n",
      "GL_TS_MO_WEL406.nc does not have any valid data for this timeperiod\n",
      "\n",
      " GL_TS_MO_46114.nc\n",
      "POINT(-122.34300231933594 36.70000076293945)\n",
      "154  results found\n"
     ]
    },
    {
     "name": "stderr",
     "output_type": "stream",
     "text": [
      " 80%|████████  | 1993/2487 [3:03:50<1:00:36,  7.36s/it]"
     ]
    },
    {
     "name": "stdout",
     "output_type": "stream",
     "text": [
      "\n",
      " GL_TS_MO_62447.nc\n"
     ]
    },
    {
     "name": "stderr",
     "output_type": "stream",
     "text": [
      " 80%|████████  | 1994/2487 [3:03:50<47:09,  5.74s/it]  "
     ]
    },
    {
     "name": "stdout",
     "output_type": "stream",
     "text": [
      "GL_TS_MO_62447.nc does not have any of the variables ['VHM0', 'VAVH', 'WSPD']\n",
      "\n",
      " BS_TS_MO_EUXRo03.nc\n",
      "POINT(29.93600082397461 43.97999954223633)\n",
      "236  results found\n"
     ]
    },
    {
     "name": "stderr",
     "output_type": "stream",
     "text": [
      " 80%|████████  | 1995/2487 [3:04:00<56:12,  6.86s/it]"
     ]
    },
    {
     "name": "stdout",
     "output_type": "stream",
     "text": [
      "\n",
      " GL_TS_MO_45135.nc\n"
     ]
    },
    {
     "name": "stderr",
     "output_type": "stream",
     "text": [
      " 80%|████████  | 1996/2487 [3:04:01<42:36,  5.21s/it]"
     ]
    },
    {
     "name": "stdout",
     "output_type": "stream",
     "text": [
      "GL_TS_MO_45135.nc does not have any valid data for this timeperiod\n",
      "GL_TS_MO_45135.nc is too close to land\n",
      "\n",
      " GL_TS_MO_WEL428.nc\n",
      "GL_TS_MO_WEL428.nc does not have any valid data for this timeperiod\n",
      "\n",
      " GL_TS_MO_MEDS224.nc\n"
     ]
    },
    {
     "name": "stderr",
     "output_type": "stream",
     "text": [
      " 80%|████████  | 1998/2487 [3:04:01<24:19,  2.98s/it]"
     ]
    },
    {
     "name": "stdout",
     "output_type": "stream",
     "text": [
      "GL_TS_MO_MEDS224.nc does not have any valid data for this timeperiod\n",
      "\n",
      " GL_TS_MO_T8S165E.nc\n",
      "POINT(165.0 -8.0)\n"
     ]
    },
    {
     "name": "stderr",
     "output_type": "stream",
     "text": [
      " 80%|████████  | 1999/2487 [3:04:11<37:01,  4.55s/it]"
     ]
    },
    {
     "name": "stdout",
     "output_type": "stream",
     "text": [
      "0  results found\n",
      "\n",
      " GL_TS_MO_48216.nc\n"
     ]
    },
    {
     "name": "stderr",
     "output_type": "stream",
     "text": [
      " 80%|████████  | 2000/2487 [3:04:11<28:04,  3.46s/it]"
     ]
    },
    {
     "name": "stdout",
     "output_type": "stream",
     "text": [
      "GL_TS_MO_48216.nc does not have any valid data for this timeperiod\n",
      "GL_TS_MO_48216.nc does not have any valid data for this timeperiod\n",
      "\n",
      " GL_TS_MO_51206.nc\n",
      "POINT(-154.97000122070312 19.77899932861328)\n",
      "112  results found\n"
     ]
    },
    {
     "name": "stderr",
     "output_type": "stream",
     "text": [
      " 80%|████████  | 2001/2487 [3:04:20<39:46,  4.91s/it]"
     ]
    },
    {
     "name": "stdout",
     "output_type": "stream",
     "text": [
      "\n",
      " GL_TS_MO_45139.nc\n"
     ]
    },
    {
     "name": "stderr",
     "output_type": "stream",
     "text": [
      " 80%|████████  | 2002/2487 [3:04:20<29:45,  3.68s/it]"
     ]
    },
    {
     "name": "stdout",
     "output_type": "stream",
     "text": [
      "GL_TS_MO_45139.nc does not have any valid data for this timeperiod\n",
      "GL_TS_MO_45139.nc is too close to land\n",
      "\n",
      " GL_TS_MO_EXCE0003.nc\n"
     ]
    },
    {
     "name": "stderr",
     "output_type": "stream",
     "text": [
      " 81%|████████  | 2004/2487 [3:04:21<15:43,  1.95s/it]"
     ]
    },
    {
     "name": "stdout",
     "output_type": "stream",
     "text": [
      "GL_TS_MO_EXCE0003.nc does not have any valid data for this timeperiod\n",
      "GL_TS_MO_EXCE0003.nc does not have any valid data for this timeperiod\n",
      "\n",
      " GL_WS_MO_6100295.nc\n",
      "GL_WS_MO_6100295.nc does not have any of the variables ['VHM0', 'VAVH', 'WSPD']\n",
      "\n",
      " GL_TS_MO_4600004.nc\n",
      "GL_TS_MO_4600004.nc does not have any valid data for this timeperiod\n",
      "\n",
      " GL_WS_MO_51211.nc\n"
     ]
    },
    {
     "name": "stderr",
     "output_type": "stream",
     "text": [
      " 81%|████████  | 2007/2487 [3:04:21<06:52,  1.16it/s]"
     ]
    },
    {
     "name": "stdout",
     "output_type": "stream",
     "text": [
      "GL_WS_MO_51211.nc does not have any of the variables ['VHM0', 'VAVH', 'WSPD']\n",
      "\n",
      " GL_TS_MO_CCE1.nc\n",
      "GL_TS_MO_CCE1.nc does not have any of the variables ['VHM0', 'VAVH', 'WSPD']\n",
      "\n",
      " GL_WS_MO_41025.nc\n"
     ]
    },
    {
     "name": "stderr",
     "output_type": "stream",
     "text": [
      " 81%|████████  | 2008/2487 [3:04:21<05:18,  1.50it/s]"
     ]
    },
    {
     "name": "stdout",
     "output_type": "stream",
     "text": [
      "GL_WS_MO_41025.nc does not have any of the variables ['VHM0', 'VAVH', 'WSPD']\n",
      "\n",
      " GL_WS_MO_46145.nc\n",
      "GL_WS_MO_46145.nc does not have any of the variables ['VHM0', 'VAVH', 'WSPD']\n",
      "\n",
      " GL_TS_MO_46028.nc\n",
      "POINT(-121.90299987792969 35.77000045776367)\n",
      "118  results found\n"
     ]
    },
    {
     "name": "stderr",
     "output_type": "stream",
     "text": [
      " 81%|████████  | 2010/2487 [3:04:36<28:18,  3.56s/it]"
     ]
    },
    {
     "name": "stdout",
     "output_type": "stream",
     "text": [
      "\n",
      " GL_WS_MO_44099.nc\n",
      "GL_WS_MO_44099.nc does not have any of the variables ['VHM0', 'VAVH', 'WSPD']\n",
      "\n",
      " GL_TS_MO_62306.nc\n"
     ]
    },
    {
     "name": "stderr",
     "output_type": "stream",
     "text": [
      " 81%|████████  | 2012/2487 [3:04:36<17:51,  2.26s/it]"
     ]
    },
    {
     "name": "stdout",
     "output_type": "stream",
     "text": [
      "GL_TS_MO_62306.nc does not have any of the variables ['VHM0', 'VAVH', 'WSPD']\n",
      "\n",
      " GL_TS_MO_6801032.nc\n",
      "GL_TS_MO_6801032.nc does not have any of the variables ['VHM0', 'VAVH', 'WSPD']\n",
      "\n",
      " AR_TS_MO_Kraakeskarvet-23-51.nc\n"
     ]
    },
    {
     "name": "stderr",
     "output_type": "stream",
     "text": [
      " 81%|████████  | 2014/2487 [3:04:36<11:52,  1.51s/it]"
     ]
    },
    {
     "name": "stdout",
     "output_type": "stream",
     "text": [
      "AR_TS_MO_Kraakeskarvet-23-51.nc does not have any of the variables ['VHM0', 'VAVH', 'WSPD']\n",
      "\n",
      " GL_TS_MO_46069.nc\n",
      "POINT(-120.21299743652344 33.676998138427734)\n",
      "176  results found\n"
     ]
    },
    {
     "name": "stderr",
     "output_type": "stream",
     "text": [
      " 81%|████████  | 2017/2487 [3:04:51<20:18,  2.59s/it]"
     ]
    },
    {
     "name": "stdout",
     "output_type": "stream",
     "text": [
      "\n",
      " GL_WS_MO_46218.nc\n",
      "GL_WS_MO_46218.nc does not have any of the variables ['VHM0', 'VAVH', 'WSPD']\n",
      "\n",
      " NO_TS_MO_Hoofdplaat.nc\n",
      "NO_TS_MO_Hoofdplaat.nc does not have any valid data for this timeperiod\n",
      "NO_TS_MO_Hoofdplaat.nc does not have any valid data for this timeperiod\n",
      "\n",
      " GL_TS_MO_6801022.nc\n"
     ]
    },
    {
     "name": "stderr",
     "output_type": "stream",
     "text": [
      " 81%|████████  | 2019/2487 [3:04:51<13:33,  1.74s/it]"
     ]
    },
    {
     "name": "stdout",
     "output_type": "stream",
     "text": [
      "GL_TS_MO_6801022.nc does not have any of the variables ['VHM0', 'VAVH', 'WSPD']\n",
      "\n",
      " AR_TS_MO_Almenningen-bybad-36-89.nc\n",
      "AR_TS_MO_Almenningen-bybad-36-89.nc does not have any of the variables ['VHM0', 'VAVH', 'WSPD']\n",
      "\n",
      " GL_TS_MO_46708A.nc\n",
      "GL_TS_MO_46708A.nc does not have any valid data for this timeperiod\n",
      "\n",
      " GL_TS_MO_44008.nc\n",
      "POLYGON((-69.2509994506836 40.49800109863281,-69.2509994506836 40.50400161743164,-69.24800109863281 40.50400161743164,-69.24800109863281 40.49800109863281,-69.2509994506836 40.49800109863281))\n",
      "57  results found\n"
     ]
    },
    {
     "name": "stderr",
     "output_type": "stream",
     "text": [
      " 81%|████████▏ | 2021/2487 [3:07:23<3:23:01, 26.14s/it]"
     ]
    },
    {
     "name": "stdout",
     "output_type": "stream",
     "text": [
      "\n",
      " GL_TS_MO_ESTOC-C.nc\n"
     ]
    },
    {
     "name": "stderr",
     "output_type": "stream",
     "text": [
      " 81%|████████▏ | 2023/2487 [3:07:25<2:11:15, 16.97s/it]"
     ]
    },
    {
     "name": "stdout",
     "output_type": "stream",
     "text": [
      "GL_TS_MO_ESTOC-C.nc does not have any of the variables ['VHM0', 'VAVH', 'WSPD']\n",
      "\n",
      " IR_TS_MO_6201081.nc\n",
      "IR_TS_MO_6201081.nc does not have any valid data for this timeperiod\n",
      "IR_TS_MO_6201081.nc does not have any valid data for this timeperiod\n",
      "\n",
      " BO_TS_MO_Kalmarsund.nc\n",
      "BO_TS_MO_Kalmarsund.nc does not have any of the variables ['VHM0', 'VAVH', 'WSPD']\n",
      "\n",
      " NO_TS_MO_OostendWeather.nc\n"
     ]
    },
    {
     "name": "stderr",
     "output_type": "stream",
     "text": [
      " 81%|████████▏ | 2025/2487 [3:07:25<1:21:24, 10.57s/it]"
     ]
    },
    {
     "name": "stdout",
     "output_type": "stream",
     "text": [
      "NO_TS_MO_OostendWeather.nc is too close to land\n",
      "\n",
      " BS_TS_MO_Primorskoe.nc\n",
      "BS_TS_MO_Primorskoe.nc does not have any valid data for this timeperiod\n",
      "\n",
      " GL_TS_MO_44055.nc\n"
     ]
    },
    {
     "name": "stderr",
     "output_type": "stream",
     "text": [
      " 82%|████████▏ | 2027/2487 [3:07:26<53:32,  6.98s/it]  "
     ]
    },
    {
     "name": "stdout",
     "output_type": "stream",
     "text": [
      "GL_TS_MO_44055.nc does not have any valid data for this timeperiod\n",
      "\n",
      " BO_TS_MO_HanobuktenBS.nc\n",
      "BO_TS_MO_HanobuktenBS.nc does not have any of the variables ['VHM0', 'VAVH', 'WSPD']\n",
      "\n",
      " GL_TS_MO_41117.nc\n",
      "POINT(-81.08000183105469 30.0)\n",
      "29  results found\n"
     ]
    },
    {
     "name": "stderr",
     "output_type": "stream",
     "text": [
      " 82%|████████▏ | 2031/2487 [3:07:35<32:05,  4.22s/it]"
     ]
    },
    {
     "name": "stdout",
     "output_type": "stream",
     "text": [
      "\n",
      " GL_WS_MO_46184.nc\n",
      "GL_WS_MO_46184.nc does not have any of the variables ['VHM0', 'VAVH', 'WSPD']\n",
      "\n",
      " GL_TS_MO_EXCE0007.nc\n",
      "GL_TS_MO_EXCE0007.nc does not have any valid data for this timeperiod\n",
      "GL_TS_MO_EXCE0007.nc does not have any valid data for this timeperiod\n",
      "\n",
      " GL_TS_MO_WEL435.nc\n"
     ]
    },
    {
     "name": "stderr",
     "output_type": "stream",
     "text": [
      " 82%|████████▏ | 2034/2487 [3:07:36<19:02,  2.52s/it]"
     ]
    },
    {
     "name": "stdout",
     "output_type": "stream",
     "text": [
      "GL_TS_MO_WEL435.nc does not have any valid data for this timeperiod\n",
      "\n",
      " GL_TS_MO_45177.nc\n",
      "GL_TS_MO_45177.nc does not have any valid data for this timeperiod\n",
      "\n",
      " NO_TS_MO_6200105.nc\n",
      "NO_TS_MO_6200105.nc does not have any valid data for this timeperiod\n",
      "NO_TS_MO_6200105.nc does not have any valid data for this timeperiod\n",
      "\n",
      " GL_TS_MO_46026.nc\n",
      "POINT(-122.83899688720703 37.75400161743164)\n",
      "95  results found\n"
     ]
    },
    {
     "name": "stderr",
     "output_type": "stream",
     "text": [
      " 82%|████████▏ | 2036/2487 [3:07:50<27:35,  3.67s/it]"
     ]
    },
    {
     "name": "stdout",
     "output_type": "stream",
     "text": [
      "\n",
      " BS_TS_MO_Gelendzhik.nc\n",
      "BS_TS_MO_Gelendzhik.nc does not have any valid data for this timeperiod\n",
      "BS_TS_MO_Gelendzhik.nc does not have any valid data for this timeperiod\n",
      "\n",
      " GL_TS_MO_MEDS095.nc\n",
      "GL_TS_MO_MEDS095.nc does not have any valid data for this timeperiod\n",
      "\n",
      " BO_TS_MO_OlandOst.nc\n"
     ]
    },
    {
     "name": "stderr",
     "output_type": "stream",
     "text": [
      " 82%|████████▏ | 2038/2487 [3:07:51<18:01,  2.41s/it]"
     ]
    },
    {
     "name": "stdout",
     "output_type": "stream",
     "text": [
      "BO_TS_MO_OlandOst.nc does not have any valid data for this timeperiod\n",
      "\n",
      " BO_TS_MO_Asko.nc\n",
      "POLYGON((17.624399185180664 58.80179977416992,17.624399185180664 58.80229949951172,17.625499725341797 58.80229949951172,17.625499725341797 58.80179977416992,17.624399185180664 58.80179977416992))\n",
      "294  results found\n"
     ]
    },
    {
     "name": "stderr",
     "output_type": "stream",
     "text": [
      " 82%|████████▏ | 2039/2487 [3:08:11<44:31,  5.96s/it]"
     ]
    },
    {
     "name": "stdout",
     "output_type": "stream",
     "text": [
      "\n",
      " GL_TS_MO_46183.nc\n",
      "GL_TS_MO_46183.nc does not have any valid data for this timeperiod\n",
      "POINT(-131.10499572753906 53.617000579833984)\n",
      "118  results found\n"
     ]
    },
    {
     "name": "stderr",
     "output_type": "stream",
     "text": [
      " 82%|████████▏ | 2040/2487 [3:08:32<1:09:19,  9.31s/it]"
     ]
    },
    {
     "name": "stdout",
     "output_type": "stream",
     "text": [
      "\n",
      " IR_TS_MO_6201038.nc\n"
     ]
    },
    {
     "name": "stderr",
     "output_type": "stream",
     "text": [
      " 82%|████████▏ | 2042/2487 [3:08:32<39:58,  5.39s/it]  "
     ]
    },
    {
     "name": "stdout",
     "output_type": "stream",
     "text": [
      "IR_TS_MO_6201038.nc is too close to land\n",
      "\n",
      " IR_WS_MO_6200084.nc\n",
      "IR_WS_MO_6200084.nc does not have any of the variables ['VHM0', 'VAVH', 'WSPD']\n",
      "\n",
      " GL_TS_MO_T8S155W.nc\n",
      "POINT(-155.0 -8.0)\n"
     ]
    },
    {
     "name": "stderr",
     "output_type": "stream",
     "text": [
      " 82%|████████▏ | 2043/2487 [3:08:40<44:06,  5.96s/it]"
     ]
    },
    {
     "name": "stdout",
     "output_type": "stream",
     "text": [
      "0  results found\n",
      "\n",
      " GL_TS_MO_44076.nc\n",
      "POINT(-70.7750015258789 40.137001037597656)\n",
      "82  results found\n"
     ]
    },
    {
     "name": "stderr",
     "output_type": "stream",
     "text": [
      " 82%|████████▏ | 2046/2487 [3:08:50<29:38,  4.03s/it]"
     ]
    },
    {
     "name": "stdout",
     "output_type": "stream",
     "text": [
      "\n",
      " GL_TS_MO_44143.nc\n",
      "GL_TS_MO_44143.nc does not have any valid data for this timeperiod\n",
      "GL_TS_MO_44143.nc does not have any valid data for this timeperiod\n",
      "\n",
      " GL_TS_MO_41061.nc\n",
      "GL_TS_MO_41061.nc does not have any valid data for this timeperiod\n",
      "\n",
      " GL_WS_MO_45150.nc\n"
     ]
    },
    {
     "name": "stderr",
     "output_type": "stream",
     "text": [
      " 82%|████████▏ | 2048/2487 [3:08:51<18:14,  2.49s/it]"
     ]
    },
    {
     "name": "stdout",
     "output_type": "stream",
     "text": [
      "GL_WS_MO_45150.nc does not have any of the variables ['VHM0', 'VAVH', 'WSPD']\n",
      "\n",
      " GL_TS_MO_46031.nc\n",
      "GL_TS_MO_46031.nc does not have any valid data for this timeperiod\n",
      "\n",
      " GL_WS_MO_6100188.nc\n",
      "GL_WS_MO_6100188.nc does not have any of the variables ['VHM0', 'VAVH', 'WSPD']\n",
      "\n",
      " GL_TS_MO_MEDS047.nc\n"
     ]
    },
    {
     "name": "stderr",
     "output_type": "stream",
     "text": [
      " 82%|████████▏ | 2050/2487 [3:08:51<11:55,  1.64s/it]"
     ]
    },
    {
     "name": "stdout",
     "output_type": "stream",
     "text": [
      "GL_TS_MO_MEDS047.nc does not have any valid data for this timeperiod\n",
      "\n",
      " GL_TS_MO_42046.nc\n",
      "GL_TS_MO_42046.nc does not have any valid data for this timeperiod\n",
      "\n",
      " GL_WS_MO_44009.nc\n"
     ]
    },
    {
     "name": "stderr",
     "output_type": "stream",
     "text": [
      " 83%|████████▎ | 2054/2487 [3:08:51<05:41,  1.27it/s]"
     ]
    },
    {
     "name": "stdout",
     "output_type": "stream",
     "text": [
      "GL_WS_MO_44009.nc does not have any of the variables ['VHM0', 'VAVH', 'WSPD']\n",
      "\n",
      " GL_TS_MO_MEDS255.nc\n",
      "GL_TS_MO_MEDS255.nc does not have any valid data for this timeperiod\n",
      "\n",
      " GL_TS_MO_46234.nc\n",
      "GL_TS_MO_46234.nc does not have any valid data for this timeperiod\n",
      "\n",
      " AR_TS_MO_Gaasodden-51-121.nc\n",
      "AR_TS_MO_Gaasodden-51-121.nc does not have any of the variables ['VHM0', 'VAVH', 'WSPD']\n",
      "\n",
      " BO_TS_MO_HelsinkiSuomenlinna.nc\n",
      "POINT(24.97249984741211 60.12329864501953)\n",
      "335  results found\n"
     ]
    },
    {
     "name": "stderr",
     "output_type": "stream",
     "text": [
      " 83%|████████▎ | 2056/2487 [3:09:05<20:01,  2.79s/it]"
     ]
    },
    {
     "name": "stdout",
     "output_type": "stream",
     "text": [
      "\n",
      " GL_TS_MO_46757B.nc\n",
      "GL_TS_MO_46757B.nc does not have any valid data for this timeperiod\n",
      "\n",
      " NO_TS_MO_IJgeulstroompaal1.nc\n"
     ]
    },
    {
     "name": "stderr",
     "output_type": "stream",
     "text": [
      " 83%|████████▎ | 2058/2487 [3:09:06<14:09,  1.98s/it]"
     ]
    },
    {
     "name": "stdout",
     "output_type": "stream",
     "text": [
      "NO_TS_MO_IJgeulstroompaal1.nc does not have any valid data for this timeperiod\n",
      "NO_TS_MO_IJgeulstroompaal1.nc does not have any valid data for this timeperiod\n",
      "\n",
      " GL_TS_MO_45004.nc\n"
     ]
    },
    {
     "name": "stderr",
     "output_type": "stream",
     "text": [
      " 83%|████████▎ | 2059/2487 [3:09:08<14:39,  2.05s/it]"
     ]
    },
    {
     "name": "stdout",
     "output_type": "stream",
     "text": [
      "GL_TS_MO_45004.nc is too close to land\n",
      "\n",
      " GL_TS_MO_91442.nc\n"
     ]
    },
    {
     "name": "stderr",
     "output_type": "stream",
     "text": [
      " 83%|████████▎ | 2060/2487 [3:09:09<12:31,  1.76s/it]"
     ]
    },
    {
     "name": "stdout",
     "output_type": "stream",
     "text": [
      "GL_TS_MO_91442.nc does not have any valid data for this timeperiod\n",
      "\n",
      " GL_TS_MO_46138.nc\n"
     ]
    },
    {
     "name": "stderr",
     "output_type": "stream",
     "text": [
      " 83%|████████▎ | 2061/2487 [3:09:09<10:18,  1.45s/it]"
     ]
    },
    {
     "name": "stdout",
     "output_type": "stream",
     "text": [
      "GL_TS_MO_46138.nc does not have any valid data for this timeperiod\n",
      "\n",
      " NO_TS_MO_6201010.nc\n"
     ]
    },
    {
     "name": "stderr",
     "output_type": "stream",
     "text": [
      " 83%|████████▎ | 2062/2487 [3:09:10<08:31,  1.20s/it]"
     ]
    },
    {
     "name": "stdout",
     "output_type": "stream",
     "text": [
      "NO_TS_MO_6201010.nc does not have any valid data for this timeperiod\n",
      "\n",
      " NO_TS_MO_Schouwenbank2.nc\n",
      "POINT(3.306299924850464 51.74470138549805)\n",
      "232  results found\n"
     ]
    },
    {
     "name": "stderr",
     "output_type": "stream",
     "text": [
      " 83%|████████▎ | 2063/2487 [3:09:26<37:10,  5.26s/it]"
     ]
    },
    {
     "name": "stdout",
     "output_type": "stream",
     "text": [
      "\n",
      " GL_TS_MO_51204.nc\n"
     ]
    },
    {
     "name": "stderr",
     "output_type": "stream",
     "text": [
      " 83%|████████▎ | 2064/2487 [3:09:28<29:09,  4.14s/it]"
     ]
    },
    {
     "name": "stdout",
     "output_type": "stream",
     "text": [
      "GL_TS_MO_51204.nc does not have any valid data for this timeperiod\n",
      "\n",
      " GL_TS_MO_44094.nc\n"
     ]
    },
    {
     "name": "stderr",
     "output_type": "stream",
     "text": [
      " 83%|████████▎ | 2065/2487 [3:09:28<21:53,  3.11s/it]"
     ]
    },
    {
     "name": "stdout",
     "output_type": "stream",
     "text": [
      "GL_TS_MO_44094.nc does not have any valid data for this timeperiod\n",
      "\n",
      " GL_TS_MO_MEDS092.nc\n"
     ]
    },
    {
     "name": "stderr",
     "output_type": "stream",
     "text": [
      " 83%|████████▎ | 2066/2487 [3:09:28<16:05,  2.29s/it]"
     ]
    },
    {
     "name": "stdout",
     "output_type": "stream",
     "text": [
      "GL_TS_MO_MEDS092.nc does not have any valid data for this timeperiod\n",
      "\n",
      " IR_TS_MO_Pasajes-coast-buoy.nc\n"
     ]
    },
    {
     "name": "stderr",
     "output_type": "stream",
     "text": [
      " 83%|████████▎ | 2067/2487 [3:09:29<12:10,  1.74s/it]"
     ]
    },
    {
     "name": "stdout",
     "output_type": "stream",
     "text": [
      "IR_TS_MO_Pasajes-coast-buoy.nc does not have any valid data for this timeperiod\n",
      "IR_TS_MO_Pasajes-coast-buoy.nc does not have any valid data for this timeperiod\n",
      "\n",
      " GL_TS_MO_23009.nc\n",
      "POLYGON((89.1050033569336 15.071000099182129,89.1050033569336 15.019000053405762,89.0250015258789 15.019000053405762,89.0250015258789 15.071000099182129,89.1050033569336 15.071000099182129))\n"
     ]
    },
    {
     "name": "stderr",
     "output_type": "stream",
     "text": [
      " 83%|████████▎ | 2068/2487 [3:09:34<19:16,  2.76s/it]"
     ]
    },
    {
     "name": "stdout",
     "output_type": "stream",
     "text": [
      "0  results found\n",
      "\n",
      " IR_TS_MO_6201030.nc\n",
      "POLYGON((-3.7439000606536865 43.819801330566406,-3.7439000606536865 43.784698486328125,-3.80430006980896 43.784698486328125,-3.80430006980896 43.819801330566406,-3.7439000606536865 43.819801330566406))\n",
      "240  results found\n"
     ]
    },
    {
     "name": "stderr",
     "output_type": "stream",
     "text": [
      " 83%|████████▎ | 2071/2487 [3:11:46<2:33:49, 22.19s/it]"
     ]
    },
    {
     "name": "stdout",
     "output_type": "stream",
     "text": [
      "\n",
      " GL_TS_MO_4801695.nc\n",
      "GL_TS_MO_4801695.nc does not have any of the variables ['VHM0', 'VAVH', 'WSPD']\n",
      "\n",
      " GL_TS_MO_MEDS129.nc\n",
      "GL_TS_MO_MEDS129.nc does not have any valid data for this timeperiod\n",
      "\n",
      " GL_TS_MO_LION.nc\n"
     ]
    },
    {
     "name": "stderr",
     "output_type": "stream",
     "text": [
      " 83%|████████▎ | 2072/2487 [3:11:46<1:56:08, 16.79s/it]"
     ]
    },
    {
     "name": "stdout",
     "output_type": "stream",
     "text": [
      "GL_TS_MO_LION.nc does not have any of the variables ['VHM0', 'VAVH', 'WSPD']\n",
      "\n",
      " GL_TS_MO_15001.nc\n",
      "POINT(-10.0 -10.0)\n"
     ]
    },
    {
     "name": "stderr",
     "output_type": "stream",
     "text": [
      " 83%|████████▎ | 2073/2487 [3:11:54<1:39:24, 14.41s/it]"
     ]
    },
    {
     "name": "stdout",
     "output_type": "stream",
     "text": [
      "0  results found\n",
      "\n",
      " NO_TS_MO_Oosterschelde11.nc\n",
      "POINT(3.481215000152588 51.64379119873047)\n",
      "232  results found\n"
     ]
    },
    {
     "name": "stderr",
     "output_type": "stream",
     "text": [
      " 83%|████████▎ | 2074/2487 [3:12:05<1:33:10, 13.54s/it]"
     ]
    },
    {
     "name": "stdout",
     "output_type": "stream",
     "text": [
      "\n",
      " GL_TS_MO_WEL449.nc\n",
      "GL_TS_MO_WEL449.nc does not have any valid data for this timeperiod\n",
      "\n",
      " GL_TS_MO_44086.nc\n",
      "POINT(-75.4209976196289 36.000999450683594)\n",
      "57  results found\n"
     ]
    },
    {
     "name": "stderr",
     "output_type": "stream",
     "text": [
      " 83%|████████▎ | 2076/2487 [3:12:13<1:04:29,  9.41s/it]"
     ]
    },
    {
     "name": "stdout",
     "output_type": "stream",
     "text": [
      "\n",
      " BS_TS_MO_WAVEB06.nc\n",
      "POINT(28.343799591064453 43.371700286865234)\n",
      "118  results found\n"
     ]
    },
    {
     "name": "stderr",
     "output_type": "stream",
     "text": [
      " 84%|████████▎ | 2077/2487 [3:12:22<1:03:19,  9.27s/it]"
     ]
    },
    {
     "name": "stdout",
     "output_type": "stream",
     "text": [
      "\n",
      " GL_TS_MO_46001.nc\n",
      "POLYGON((-147.9199981689453 56.231998443603516,-147.9199981689453 56.30400085449219,-147.94900512695312 56.30400085449219,-147.94900512695312 56.231998443603516,-147.9199981689453 56.231998443603516))\n"
     ]
    },
    {
     "name": "stderr",
     "output_type": "stream",
     "text": [
      " 84%|████████▎ | 2078/2487 [3:12:28<58:17,  8.55s/it]  "
     ]
    },
    {
     "name": "stdout",
     "output_type": "stream",
     "text": [
      "0  results found\n",
      "\n",
      " GL_TS_MO_4600036.nc\n"
     ]
    },
    {
     "name": "stderr",
     "output_type": "stream",
     "text": [
      " 84%|████████▎ | 2079/2487 [3:12:29<43:01,  6.33s/it]"
     ]
    },
    {
     "name": "stdout",
     "output_type": "stream",
     "text": [
      "GL_TS_MO_4600036.nc does not have any valid data for this timeperiod\n",
      "\n",
      " GL_TS_MO_46007.nc\n"
     ]
    },
    {
     "name": "stderr",
     "output_type": "stream",
     "text": [
      " 84%|████████▎ | 2080/2487 [3:12:29<31:49,  4.69s/it]"
     ]
    },
    {
     "name": "stdout",
     "output_type": "stream",
     "text": [
      "GL_TS_MO_46007.nc does not have any valid data for this timeperiod\n",
      "GL_TS_MO_46007.nc does not have any valid data for this timeperiod\n",
      "\n",
      " GL_TS_MO_55032.nc\n",
      "POLYGON((149.3102569580078 -21.450000762939453,149.3102569580078 -21.270000457763672,149.52000427246094 -21.270000457763672,149.52000427246094 -21.450000762939453,149.3102569580078 -21.450000762939453))\n",
      "29  results found\n"
     ]
    },
    {
     "name": "stderr",
     "output_type": "stream",
     "text": [
      " 84%|████████▎ | 2081/2487 [3:12:52<1:07:38, 10.00s/it]"
     ]
    },
    {
     "name": "stdout",
     "output_type": "stream",
     "text": [
      "\n",
      " GL_TS_MO_45198.nc\n"
     ]
    },
    {
     "name": "stderr",
     "output_type": "stream",
     "text": [
      " 84%|████████▎ | 2082/2487 [3:12:53<48:47,  7.23s/it]  "
     ]
    },
    {
     "name": "stdout",
     "output_type": "stream",
     "text": [
      "GL_TS_MO_45198.nc is too close to land\n",
      "\n",
      " BO_TS_MO_VengeanceTS.nc\n"
     ]
    },
    {
     "name": "stderr",
     "output_type": "stream",
     "text": [
      " 84%|████████▍ | 2083/2487 [3:12:54<36:01,  5.35s/it]"
     ]
    },
    {
     "name": "stdout",
     "output_type": "stream",
     "text": [
      "BO_TS_MO_VengeanceTS.nc does not have any of the variables ['VHM0', 'VAVH', 'WSPD']\n",
      "\n",
      " BO_TS_MO_LysekilWR.nc\n"
     ]
    },
    {
     "name": "stderr",
     "output_type": "stream",
     "text": [
      " 84%|████████▍ | 2084/2487 [3:12:54<26:44,  3.98s/it]"
     ]
    },
    {
     "name": "stdout",
     "output_type": "stream",
     "text": [
      "BO_TS_MO_LysekilWR.nc does not have any valid data for this timeperiod\n",
      "\n",
      " BS_TS_MO_URKA.nc\n",
      "POINT(37.28329849243164 44.88330078125)\n",
      "177  results found\n"
     ]
    },
    {
     "name": "stderr",
     "output_type": "stream",
     "text": [
      " 84%|████████▍ | 2085/2487 [3:13:34<1:37:38, 14.57s/it]"
     ]
    },
    {
     "name": "stdout",
     "output_type": "stream",
     "text": [
      "\n",
      " GL_TS_MO_T5S180W.nc\n",
      "POINT(180.0 -5.0)\n"
     ]
    },
    {
     "name": "stderr",
     "output_type": "stream",
     "text": [
      " 84%|████████▍ | 2087/2487 [3:13:48<1:07:11, 10.08s/it]"
     ]
    },
    {
     "name": "stdout",
     "output_type": "stream",
     "text": [
      "0  results found\n",
      "\n",
      " GL_WS_MO_chlv2.nc\n",
      "GL_WS_MO_chlv2.nc does not have any of the variables ['VHM0', 'VAVH', 'WSPD']\n",
      "\n",
      " BO_TS_MO_Almagrundet.nc\n"
     ]
    },
    {
     "name": "stderr",
     "output_type": "stream",
     "text": [
      " 84%|████████▍ | 2088/2487 [3:13:48<47:25,  7.13s/it]  "
     ]
    },
    {
     "name": "stdout",
     "output_type": "stream",
     "text": [
      "BO_TS_MO_Almagrundet.nc does not have any valid data for this timeperiod\n",
      "BO_TS_MO_Almagrundet.nc does not have any valid data for this timeperiod\n",
      "\n",
      " GL_TS_MO_46219.nc\n",
      "POINT(-119.87200164794922 33.21900177001953)\n",
      "117  results found\n"
     ]
    },
    {
     "name": "stderr",
     "output_type": "stream",
     "text": [
      " 84%|████████▍ | 2089/2487 [3:14:07<1:11:24, 10.77s/it]"
     ]
    },
    {
     "name": "stdout",
     "output_type": "stream",
     "text": [
      "\n",
      " AR_TS_MO_Grimseyjarsund.nc\n",
      "POINT(-18.191667556762695 66.29166412353516)\n",
      "462  results found\n"
     ]
    },
    {
     "name": "stderr",
     "output_type": "stream",
     "text": [
      " 84%|████████▍ | 2090/2487 [3:14:41<1:55:45, 17.50s/it]"
     ]
    },
    {
     "name": "stdout",
     "output_type": "stream",
     "text": [
      "\n",
      " GL_TS_MO_WEL276.nc\n"
     ]
    },
    {
     "name": "stderr",
     "output_type": "stream",
     "text": [
      " 84%|████████▍ | 2091/2487 [3:14:41<1:22:16, 12.47s/it]"
     ]
    },
    {
     "name": "stdout",
     "output_type": "stream",
     "text": [
      "GL_TS_MO_WEL276.nc does not have any valid data for this timeperiod\n",
      "GL_TS_MO_WEL276.nc does not have any valid data for this timeperiod\n",
      "\n",
      " GL_TS_MO_WEL448.nc\n"
     ]
    },
    {
     "name": "stderr",
     "output_type": "stream",
     "text": [
      " 84%|████████▍ | 2092/2487 [3:14:42<59:17,  9.01s/it]  "
     ]
    },
    {
     "name": "stdout",
     "output_type": "stream",
     "text": [
      "GL_TS_MO_WEL448.nc does not have any valid data for this timeperiod\n",
      "\n",
      " GL_TS_MO_51000.nc\n",
      "POINT(-153.79200744628906 23.527999877929688)\n",
      "28  results found\n"
     ]
    },
    {
     "name": "stderr",
     "output_type": "stream",
     "text": [
      " 84%|████████▍ | 2093/2487 [3:14:56<1:08:45, 10.47s/it]"
     ]
    },
    {
     "name": "stdout",
     "output_type": "stream",
     "text": [
      "\n",
      " GL_TS_MO_4600146.nc\n",
      "GL_TS_MO_4600146.nc does not have any valid data for this timeperiod\n",
      "\n",
      " GL_TS_MO_56008.nc\n",
      "POINT(115.68000030517578 -31.979999542236328)\n",
      "58  results found\n"
     ]
    },
    {
     "name": "stderr",
     "output_type": "stream",
     "text": [
      " 84%|████████▍ | 2097/2487 [3:15:10<34:16,  5.27s/it]  "
     ]
    },
    {
     "name": "stdout",
     "output_type": "stream",
     "text": [
      "\n",
      " GL_TS_MO_WEL280.nc\n",
      "GL_TS_MO_WEL280.nc does not have any valid data for this timeperiod\n",
      "\n",
      " GL_TS_MO_41021.nc\n",
      "GL_TS_MO_41021.nc does not have any valid data for this timeperiod\n",
      "GL_TS_MO_41021.nc does not have any valid data for this timeperiod\n",
      "\n",
      " GL_WS_MO_44028.nc\n",
      "GL_WS_MO_44028.nc does not have any of the variables ['VHM0', 'VAVH', 'WSPD']\n",
      "\n",
      " BO_TS_MO_Sadvajaure.nc\n"
     ]
    },
    {
     "name": "stderr",
     "output_type": "stream",
     "text": [
      " 84%|████████▍ | 2100/2487 [3:15:10<18:29,  2.87s/it]"
     ]
    },
    {
     "name": "stdout",
     "output_type": "stream",
     "text": [
      "BO_TS_MO_Sadvajaure.nc does not have any valid data for this timeperiod\n",
      "\n",
      " GL_TS_MO_4100066.nc\n",
      "GL_TS_MO_4100066.nc does not have any valid data for this timeperiod\n",
      "\n",
      " GL_TS_MO_46255.nc\n",
      "GL_TS_MO_46255.nc does not have any valid data for this timeperiod\n",
      "\n",
      " MO_TS_MO_61141.nc\n"
     ]
    },
    {
     "name": "stderr",
     "output_type": "stream",
     "text": [
      " 85%|████████▍ | 2102/2487 [3:15:10<13:06,  2.04s/it]"
     ]
    },
    {
     "name": "stdout",
     "output_type": "stream",
     "text": [
      "MO_TS_MO_61141.nc does not have any valid data for this timeperiod\n",
      "MO_TS_MO_61141.nc does not have any valid data for this timeperiod\n",
      "\n",
      " BS_TS_MO_WAVEB03.nc\n",
      "BS_TS_MO_WAVEB03.nc is too close to land\n",
      "\n",
      " GL_WS_MO_46254.nc\n"
     ]
    },
    {
     "name": "stderr",
     "output_type": "stream",
     "text": [
      " 85%|████████▍ | 2104/2487 [3:15:10<09:16,  1.45s/it]"
     ]
    },
    {
     "name": "stdout",
     "output_type": "stream",
     "text": [
      "GL_WS_MO_46254.nc does not have any of the variables ['VHM0', 'VAVH', 'WSPD']\n",
      "\n",
      " GL_TS_MO_31001.nc\n",
      "GL_TS_MO_31001.nc does not have any valid data for this timeperiod\n",
      "\n",
      " GL_TS_MO_44078.nc\n",
      "POINT(-39.52000045776367 59.939998626708984)\n"
     ]
    },
    {
     "name": "stderr",
     "output_type": "stream",
     "text": [
      " 85%|████████▍ | 2104/2487 [3:15:28<09:16,  1.45s/it]"
     ]
    },
    {
     "name": "stdout",
     "output_type": "stream",
     "text": [
      "313  results found\n"
     ]
    },
    {
     "name": "stderr",
     "output_type": "stream",
     "text": [
      " 85%|████████▍ | 2107/2487 [3:15:42<30:17,  4.78s/it]"
     ]
    },
    {
     "name": "stdout",
     "output_type": "stream",
     "text": [
      "\n",
      " GL_TS_MO_45010.nc\n",
      "GL_TS_MO_45010.nc does not have any valid data for this timeperiod\n",
      "GL_TS_MO_45010.nc does not have any valid data for this timeperiod\n",
      "\n",
      " BO_TS_MO_GreatBeltBridgeEastCU.nc\n",
      "BO_TS_MO_GreatBeltBridgeEastCU.nc does not have any of the variables ['VHM0', 'VAVH', 'WSPD']\n",
      "\n",
      " IR_WS_MO_6200024.nc\n"
     ]
    },
    {
     "name": "stderr",
     "output_type": "stream",
     "text": [
      " 85%|████████▍ | 2109/2487 [3:15:42<20:08,  3.20s/it]"
     ]
    },
    {
     "name": "stdout",
     "output_type": "stream",
     "text": [
      "IR_WS_MO_6200024.nc does not have any of the variables ['VHM0', 'VAVH', 'WSPD']\n",
      "\n",
      " GL_TS_MO_45161.nc\n",
      "GL_TS_MO_45161.nc is too close to land\n",
      "\n",
      " GL_TS_MO_MEDS228.nc\n"
     ]
    },
    {
     "name": "stderr",
     "output_type": "stream",
     "text": [
      " 85%|████████▍ | 2111/2487 [3:15:42<13:45,  2.20s/it]"
     ]
    },
    {
     "name": "stdout",
     "output_type": "stream",
     "text": [
      "GL_TS_MO_MEDS228.nc does not have any valid data for this timeperiod\n",
      "\n",
      " GL_TS_MO_5401567.nc\n",
      "GL_TS_MO_5401567.nc does not have any of the variables ['VHM0', 'VAVH', 'WSPD']\n",
      "\n",
      " GL_TS_MO_MEDS165.nc\n",
      "GL_TS_MO_MEDS165.nc does not have any valid data for this timeperiod\n",
      "\n",
      " MO_TS_MO_SardiniaChannel.nc\n",
      "MO_TS_MO_SardiniaChannel.nc does not have any of the variables ['VHM0', 'VAVH', 'WSPD']\n",
      "\n",
      " NO_TS_MO_6200305.nc\n",
      "POINT(0.0 50.400001525878906)\n"
     ]
    },
    {
     "name": "stderr",
     "output_type": "stream",
     "text": [
      " 85%|████████▍ | 2111/2487 [3:15:58<13:45,  2.20s/it]"
     ]
    },
    {
     "name": "stdout",
     "output_type": "stream",
     "text": [
      "176  results found\n"
     ]
    },
    {
     "name": "stderr",
     "output_type": "stream",
     "text": [
      " 85%|████████▌ | 2115/2487 [3:16:10<27:52,  4.50s/it]"
     ]
    },
    {
     "name": "stdout",
     "output_type": "stream",
     "text": [
      "\n",
      " GL_TS_MO_41030.nc\n",
      "GL_TS_MO_41030.nc does not have any valid data for this timeperiod\n",
      "GL_TS_MO_41030.nc does not have any valid data for this timeperiod\n",
      "\n",
      " GL_TS_MO_2200189.nc\n",
      "POINT(129.83999633789062 35.349998474121094)\n",
      "57  results found\n"
     ]
    },
    {
     "name": "stderr",
     "output_type": "stream",
     "text": [
      " 85%|████████▌ | 2117/2487 [3:16:20<28:37,  4.64s/it]"
     ]
    },
    {
     "name": "stdout",
     "output_type": "stream",
     "text": [
      "\n",
      " BO_TS_MO_OlandWaverider.nc\n",
      "BO_TS_MO_OlandWaverider.nc does not have any valid data for this timeperiod\n",
      "\n",
      " GL_WS_MO_6200059.nc\n"
     ]
    },
    {
     "name": "stderr",
     "output_type": "stream",
     "text": [
      " 85%|████████▌ | 2119/2487 [3:16:20<21:01,  3.43s/it]"
     ]
    },
    {
     "name": "stdout",
     "output_type": "stream",
     "text": [
      "GL_WS_MO_6200059.nc does not have any of the variables ['VHM0', 'VAVH', 'WSPD']\n",
      "\n",
      " GL_TS_MO_44062.nc\n",
      "POINT(-76.41500091552734 38.555999755859375)\n",
      "57  results found\n"
     ]
    },
    {
     "name": "stderr",
     "output_type": "stream",
     "text": [
      " 85%|████████▌ | 2121/2487 [3:16:31<24:21,  3.99s/it]"
     ]
    },
    {
     "name": "stdout",
     "output_type": "stream",
     "text": [
      "\n",
      " GL_TS_MO_MEDS329.nc\n",
      "GL_TS_MO_MEDS329.nc does not have any valid data for this timeperiod\n",
      "\n",
      " MO_TS_MO_Kariani.nc\n"
     ]
    },
    {
     "name": "stderr",
     "output_type": "stream",
     "text": [
      " 85%|████████▌ | 2122/2487 [3:16:32<20:28,  3.37s/it]"
     ]
    },
    {
     "name": "stdout",
     "output_type": "stream",
     "text": [
      "MO_TS_MO_Kariani.nc does not have any valid data for this timeperiod\n",
      "MO_TS_MO_Kariani.nc does not have any valid data for this timeperiod\n",
      "\n",
      " BS_TS_MO_99009.nc\n",
      "BS_TS_MO_99009.nc does not have any of the variables ['VHM0', 'VAVH', 'WSPD']\n",
      "\n",
      " GL_TS_MO_6100021.nc\n",
      "POINT(6.206999778747559 42.93000030517578)\n",
      "174  results found\n"
     ]
    },
    {
     "name": "stderr",
     "output_type": "stream",
     "text": [
      " 85%|████████▌ | 2124/2487 [3:16:48<30:08,  4.98s/it]"
     ]
    },
    {
     "name": "stdout",
     "output_type": "stream",
     "text": [
      "\n",
      " GL_TS_MO_62060.nc\n",
      "GL_TS_MO_62060.nc does not have any of the variables ['VHM0', 'VAVH', 'WSPD']\n",
      "\n",
      " GL_TS_MO_45154.nc\n"
     ]
    },
    {
     "name": "stderr",
     "output_type": "stream",
     "text": [
      " 85%|████████▌ | 2126/2487 [3:16:49<20:50,  3.47s/it]"
     ]
    },
    {
     "name": "stdout",
     "output_type": "stream",
     "text": [
      "GL_TS_MO_45154.nc does not have any valid data for this timeperiod\n",
      "GL_TS_MO_45154.nc is too close to land\n",
      "\n",
      " NO_TS_MO_MaeslantkeringZeezijdeZuidMeetpaal.nc\n"
     ]
    },
    {
     "name": "stderr",
     "output_type": "stream",
     "text": [
      " 86%|████████▌ | 2127/2487 [3:16:49<17:10,  2.86s/it]"
     ]
    },
    {
     "name": "stdout",
     "output_type": "stream",
     "text": [
      "NO_TS_MO_MaeslantkeringZeezijdeZuidMeetpaal.nc is too close to land\n",
      "\n",
      " NO_TS_MO_EurogeulDWE.nc\n",
      "POINT(3.0 51.948333740234375)\n",
      "232  results found\n"
     ]
    },
    {
     "name": "stderr",
     "output_type": "stream",
     "text": [
      " 86%|████████▌ | 2130/2487 [3:17:19<32:12,  5.41s/it]"
     ]
    },
    {
     "name": "stdout",
     "output_type": "stream",
     "text": [
      "\n",
      " AR_TS_MO_Faaholmen-badeplass-6-133.nc\n",
      "AR_TS_MO_Faaholmen-badeplass-6-133.nc does not have any of the variables ['VHM0', 'VAVH', 'WSPD']\n",
      "\n",
      " GL_TS_MO_23102.nc\n",
      "GL_TS_MO_23102.nc does not have any valid data for this timeperiod\n",
      "\n",
      " GL_WS_MO_46006.nc\n"
     ]
    },
    {
     "name": "stderr",
     "output_type": "stream",
     "text": [
      " 86%|████████▌ | 2131/2487 [3:17:20<25:29,  4.30s/it]"
     ]
    },
    {
     "name": "stdout",
     "output_type": "stream",
     "text": [
      "GL_WS_MO_46006.nc does not have any of the variables ['VHM0', 'VAVH', 'WSPD']\n",
      "\n",
      " NO_TS_MO_Fanoebugt.nc\n",
      "POINT(8.229999542236328 55.34600067138672)\n",
      "230  results found\n"
     ]
    },
    {
     "name": "stderr",
     "output_type": "stream",
     "text": [
      " 86%|████████▌ | 2132/2487 [3:17:36<41:59,  7.10s/it]"
     ]
    },
    {
     "name": "stdout",
     "output_type": "stream",
     "text": [
      "\n",
      " GL_WS_MO_46077.nc\n",
      "GL_WS_MO_46077.nc does not have any of the variables ['VHM0', 'VAVH', 'WSPD']\n",
      "\n",
      " GL_TS_MO_41036.nc\n"
     ]
    },
    {
     "name": "stderr",
     "output_type": "stream",
     "text": [
      " 86%|████████▌ | 2137/2487 [3:17:36<13:45,  2.36s/it]"
     ]
    },
    {
     "name": "stdout",
     "output_type": "stream",
     "text": [
      "GL_TS_MO_41036.nc does not have any valid data for this timeperiod\n",
      "GL_TS_MO_41036.nc does not have any valid data for this timeperiod\n",
      "\n",
      " GL_TS_MO_MEDS112.nc\n",
      "GL_TS_MO_MEDS112.nc does not have any valid data for this timeperiod\n",
      "\n",
      " AR_TS_MO_Hjertoeya-38-95.nc\n",
      "AR_TS_MO_Hjertoeya-38-95.nc does not have any of the variables ['VHM0', 'VAVH', 'WSPD']\n",
      "\n",
      " GL_TS_MO_46106.nc\n",
      "GL_TS_MO_46106.nc does not have any valid data for this timeperiod\n",
      "\n",
      " GL_TS_MO_T0N180W.nc\n",
      "POINT(180.0 0.0)\n",
      "0  results found\n",
      "\n",
      " GL_TS_MO_44007.nc\n",
      "POINT(-70.13999938964844 43.525001525878906)\n"
     ]
    },
    {
     "name": "stderr",
     "output_type": "stream",
     "text": [
      " 86%|████████▌ | 2137/2487 [3:17:48<13:45,  2.36s/it]"
     ]
    },
    {
     "name": "stdout",
     "output_type": "stream",
     "text": [
      "57  results found\n"
     ]
    },
    {
     "name": "stderr",
     "output_type": "stream",
     "text": [
      " 86%|████████▌ | 2139/2487 [3:17:53<23:57,  4.13s/it]"
     ]
    },
    {
     "name": "stdout",
     "output_type": "stream",
     "text": [
      "\n",
      " GL_TS_MO_MEDS148.nc\n",
      "GL_TS_MO_MEDS148.nc does not have any valid data for this timeperiod\n",
      "\n",
      " GL_TS_MO_46146.nc\n",
      "GL_TS_MO_46146.nc does not have any valid data for this timeperiod\n",
      "POINT(-123.72699737548828 49.34000015258789)\n",
      "127  results found\n"
     ]
    },
    {
     "name": "stderr",
     "output_type": "stream",
     "text": [
      " 86%|████████▌ | 2143/2487 [3:18:04<18:16,  3.19s/it]"
     ]
    },
    {
     "name": "stdout",
     "output_type": "stream",
     "text": [
      "\n",
      " GL_TS_MO_23097.nc\n",
      "GL_TS_MO_23097.nc does not have any valid data for this timeperiod\n",
      "\n",
      " GL_TS_MO_42370.nc\n",
      "GL_TS_MO_42370.nc does not have any valid data for this timeperiod\n",
      "GL_TS_MO_42370.nc does not have any valid data for this timeperiod\n",
      "\n",
      " NO_TS_MO_6200146.nc\n",
      "POINT(2.0999999046325684 57.20000076293945)\n"
     ]
    },
    {
     "name": "stderr",
     "output_type": "stream",
     "text": [
      " 86%|████████▌ | 2143/2487 [3:18:18<18:16,  3.19s/it]"
     ]
    },
    {
     "name": "stdout",
     "output_type": "stream",
     "text": [
      "292  results found\n"
     ]
    },
    {
     "name": "stderr",
     "output_type": "stream",
     "text": [
      " 86%|████████▌ | 2144/2487 [3:18:31<42:04,  7.36s/it]"
     ]
    },
    {
     "name": "stdout",
     "output_type": "stream",
     "text": [
      "\n",
      " NO_TS_MO_NsbII.nc\n",
      "NO_TS_MO_NsbII.nc does not have any valid data for this timeperiod\n",
      "POINT(6.3333330154418945 55.0)\n",
      "237  results found\n"
     ]
    },
    {
     "name": "stderr",
     "output_type": "stream",
     "text": [
      " 86%|████████▋ | 2147/2487 [3:18:42<29:07,  5.14s/it]"
     ]
    },
    {
     "name": "stdout",
     "output_type": "stream",
     "text": [
      "\n",
      " AR_TS_MO_Riskedalsvatnet-37-92.nc\n",
      "AR_TS_MO_Riskedalsvatnet-37-92.nc does not have any of the variables ['VHM0', 'VAVH', 'WSPD']\n",
      "\n",
      " GL_TS_MO_51100.nc\n",
      "GL_TS_MO_51100.nc does not have any valid data for this timeperiod\n",
      "GL_TS_MO_51100.nc does not have any valid data for this timeperiod\n",
      "\n",
      " NO_TS_MO_6201019.nc\n"
     ]
    },
    {
     "name": "stderr",
     "output_type": "stream",
     "text": [
      " 86%|████████▋ | 2149/2487 [3:18:42<19:07,  3.40s/it]"
     ]
    },
    {
     "name": "stdout",
     "output_type": "stream",
     "text": [
      "NO_TS_MO_6201019.nc does not have any valid data for this timeperiod\n",
      "\n",
      " NO_TS_MO_FINO3FerryBox.nc\n",
      "NO_TS_MO_FINO3FerryBox.nc does not have any of the variables ['VHM0', 'VAVH', 'WSPD']\n",
      "\n",
      " GL_WS_MO_44070.nc\n",
      "GL_WS_MO_44070.nc does not have any of the variables ['VHM0', 'VAVH', 'WSPD']\n",
      "\n",
      " GL_TS_MO_6200066.nc\n",
      "POINT(-1.6139999628067017 43.529998779296875)\n",
      "238  results found\n"
     ]
    },
    {
     "name": "stderr",
     "output_type": "stream",
     "text": [
      " 87%|████████▋ | 2153/2487 [3:18:54<16:18,  2.93s/it]"
     ]
    },
    {
     "name": "stdout",
     "output_type": "stream",
     "text": [
      "\n",
      " GL_WS_MO_46004.nc\n",
      "GL_WS_MO_46004.nc does not have any of the variables ['VHM0', 'VAVH', 'WSPD']\n",
      "\n",
      " NO_TS_MO_6201574.nc\n",
      "NO_TS_MO_6201574.nc does not have any of the variables ['VHM0', 'VAVH', 'WSPD']\n",
      "\n",
      " GL_TS_MO_55053.nc\n",
      "POINT(136.6199951171875 -36.06999969482422)\n",
      "59  results found\n"
     ]
    },
    {
     "name": "stderr",
     "output_type": "stream",
     "text": [
      " 87%|████████▋ | 2155/2487 [3:19:06<21:47,  3.94s/it]"
     ]
    },
    {
     "name": "stdout",
     "output_type": "stream",
     "text": [
      "\n",
      " GL_TS_MO_MEDS111.nc\n",
      "GL_TS_MO_MEDS111.nc does not have any valid data for this timeperiod\n",
      "\n",
      " GL_TS_MO_44097.nc\n",
      "POINT(-71.1259994506836 40.96699905395508)\n",
      "82  results found\n"
     ]
    },
    {
     "name": "stderr",
     "output_type": "stream",
     "text": [
      " 87%|████████▋ | 2158/2487 [3:19:15<17:25,  3.18s/it]"
     ]
    },
    {
     "name": "stdout",
     "output_type": "stream",
     "text": [
      "\n",
      " GL_TS_MO_MEDS246.nc\n",
      "GL_TS_MO_MEDS246.nc does not have any valid data for this timeperiod\n",
      "\n",
      " MO_TS_MO_CAGLIARI-61221.nc\n",
      "MO_TS_MO_CAGLIARI-61221.nc does not have any valid data for this timeperiod\n",
      "\n",
      " NO_TS_MO_Europlatform2.nc\n",
      "POINT(3.2763888835906982 51.99861145019531)\n",
      "232  results found\n"
     ]
    },
    {
     "name": "stderr",
     "output_type": "stream",
     "text": [
      " 87%|████████▋ | 2159/2487 [3:19:34<34:12,  6.26s/it]"
     ]
    },
    {
     "name": "stdout",
     "output_type": "stream",
     "text": [
      "\n",
      " GL_TS_MO_42054.nc\n"
     ]
    },
    {
     "name": "stderr",
     "output_type": "stream",
     "text": [
      " 87%|████████▋ | 2161/2487 [3:19:35<20:50,  3.84s/it]"
     ]
    },
    {
     "name": "stdout",
     "output_type": "stream",
     "text": [
      "GL_TS_MO_42054.nc does not have any valid data for this timeperiod\n",
      "GL_TS_MO_42054.nc does not have any valid data for this timeperiod\n",
      "\n",
      " GL_TS_MO_45206.nc\n",
      "GL_TS_MO_45206.nc does not have any valid data for this timeperiod\n",
      "GL_TS_MO_45206.nc does not have any valid data for this timeperiod\n",
      "\n",
      " GL_TS_MO_55085.nc\n",
      "GL_TS_MO_55085.nc does not have any of the variables ['VHM0', 'VAVH', 'WSPD']\n",
      "\n",
      " GL_TS_MO_46073.nc\n",
      "POINT(-172.0019989013672 55.00899887084961)\n"
     ]
    },
    {
     "name": "stderr",
     "output_type": "stream",
     "text": [
      " 87%|████████▋ | 2163/2487 [3:19:40<18:01,  3.34s/it]"
     ]
    },
    {
     "name": "stdout",
     "output_type": "stream",
     "text": [
      "0  results found\n",
      "\n",
      " AR_TS_MO_Snorre-B.nc\n"
     ]
    },
    {
     "name": "stderr",
     "output_type": "stream",
     "text": [
      " 87%|████████▋ | 2164/2487 [3:19:40<14:21,  2.67s/it]"
     ]
    },
    {
     "name": "stdout",
     "output_type": "stream",
     "text": [
      "AR_TS_MO_Snorre-B.nc does not have any valid data for this timeperiod\n",
      "\n",
      " GL_TS_MO_MEDS082.nc\n",
      "GL_TS_MO_MEDS082.nc does not have any valid data for this timeperiod\n",
      "\n",
      " BO_TS_MO_Norrbyn.nc\n",
      "POLYGON((19.809200286865234 63.5004997253418,19.809200286865234 63.490299224853516,19.805500030517578 63.490299224853516,19.805500030517578 63.5004997253418,19.809200286865234 63.5004997253418))\n",
      "382  results found\n"
     ]
    },
    {
     "name": "stderr",
     "output_type": "stream",
     "text": [
      " 87%|████████▋ | 2166/2487 [3:20:29<59:30, 11.12s/it]"
     ]
    },
    {
     "name": "stdout",
     "output_type": "stream",
     "text": [
      "\n",
      " GL_TS_MO_23013.nc\n",
      "POLYGON((66.68000030517578 4.0,66.68000030517578 4.23799991607666,67.0 4.23799991607666,67.0 4.0,66.68000030517578 4.0))\n"
     ]
    },
    {
     "name": "stderr",
     "output_type": "stream",
     "text": [
      " 87%|████████▋ | 2167/2487 [3:20:36<54:40, 10.25s/it]"
     ]
    },
    {
     "name": "stdout",
     "output_type": "stream",
     "text": [
      "0  results found\n",
      "\n",
      " NO_TS_MO_HoekVanHolland.nc\n",
      "NO_TS_MO_HoekVanHolland.nc does not have any of the variables ['VHM0', 'VAVH', 'WSPD']\n",
      "\n",
      " GL_TS_MO_41004.nc\n",
      "LINESTRING(-79.0989990234375 32.500999450683594,-79.0989990234375 32.50199890136719)\n",
      "60  results found\n"
     ]
    },
    {
     "name": "stderr",
     "output_type": "stream",
     "text": [
      " 87%|████████▋ | 2169/2487 [3:22:04<2:03:17, 23.26s/it]"
     ]
    },
    {
     "name": "stdout",
     "output_type": "stream",
     "text": [
      "\n",
      " GL_TS_MO_55052.nc\n",
      "POINT(145.02999877929688 -42.119998931884766)\n",
      "53  results found\n"
     ]
    },
    {
     "name": "stderr",
     "output_type": "stream",
     "text": [
      " 87%|████████▋ | 2171/2487 [3:22:11<1:19:59, 15.19s/it]"
     ]
    },
    {
     "name": "stdout",
     "output_type": "stream",
     "text": [
      "\n",
      " GL_TS_MO_44010.nc\n",
      "GL_TS_MO_44010.nc does not have any valid data for this timeperiod\n",
      "GL_TS_MO_44010.nc does not have any valid data for this timeperiod\n",
      "\n",
      " GL_TS_MO_42395.nc\n",
      "POINT(-90.79199981689453 26.40399932861328)\n",
      "30  results found\n"
     ]
    },
    {
     "name": "stderr",
     "output_type": "stream",
     "text": [
      " 87%|████████▋ | 2172/2487 [3:22:17<1:07:20, 12.83s/it]"
     ]
    },
    {
     "name": "stdout",
     "output_type": "stream",
     "text": [
      "\n",
      " GL_TS_MO_CapeBridgewater01.nc\n"
     ]
    },
    {
     "name": "stderr",
     "output_type": "stream",
     "text": [
      " 87%|████████▋ | 2175/2487 [3:22:18<28:20,  5.45s/it]  "
     ]
    },
    {
     "name": "stdout",
     "output_type": "stream",
     "text": [
      "GL_TS_MO_CapeBridgewater01.nc does not have any valid data for this timeperiod\n",
      "\n",
      " GL_WS_MO_46246.nc\n",
      "GL_WS_MO_46246.nc does not have any of the variables ['VHM0', 'VAVH', 'WSPD']\n",
      "\n",
      " GL_TS_MO_55059.nc\n",
      "GL_TS_MO_55059.nc does not have any valid data for this timeperiod\n",
      "\n",
      " GL_TS_MO_41194.nc\n",
      "GL_TS_MO_41194.nc does not have any valid data for this timeperiod\n",
      "\n",
      " NO_TS_MO_6201053.nc\n"
     ]
    },
    {
     "name": "stderr",
     "output_type": "stream",
     "text": [
      " 88%|████████▊ | 2178/2487 [3:22:18<14:43,  2.86s/it]"
     ]
    },
    {
     "name": "stdout",
     "output_type": "stream",
     "text": [
      "NO_TS_MO_6201053.nc does not have any valid data for this timeperiod\n",
      "\n",
      " GL_TS_MO_51005.nc\n",
      "GL_TS_MO_51005.nc does not have any valid data for this timeperiod\n",
      "GL_TS_MO_51005.nc does not have any valid data for this timeperiod\n",
      "\n",
      " GL_TS_MO_41013.nc\n",
      "POINT(-77.76399993896484 33.441001892089844)\n",
      "30  results found\n"
     ]
    },
    {
     "name": "stderr",
     "output_type": "stream",
     "text": [
      " 88%|████████▊ | 2180/2487 [3:22:25<15:48,  3.09s/it]"
     ]
    },
    {
     "name": "stdout",
     "output_type": "stream",
     "text": [
      "\n",
      " GL_TS_MO_4600181.nc\n",
      "GL_TS_MO_4600181.nc does not have any valid data for this timeperiod\n",
      "\n",
      " GL_TS_MO_56004.nc\n",
      "POINT(114.91999816894531 -30.299999237060547)\n"
     ]
    },
    {
     "name": "stderr",
     "output_type": "stream",
     "text": [
      " 88%|████████▊ | 2181/2487 [3:22:31<18:08,  3.56s/it]"
     ]
    },
    {
     "name": "stdout",
     "output_type": "stream",
     "text": [
      "28  results found\n",
      "\n",
      " GL_TS_MO_23006.nc\n"
     ]
    },
    {
     "name": "stderr",
     "output_type": "stream",
     "text": [
      " 88%|████████▊ | 2184/2487 [3:22:31<09:08,  1.81s/it]"
     ]
    },
    {
     "name": "stdout",
     "output_type": "stream",
     "text": [
      "GL_TS_MO_23006.nc does not have any valid data for this timeperiod\n",
      "\n",
      " GL_WS_MO_41018.nc\n",
      "GL_WS_MO_41018.nc does not have any of the variables ['VHM0', 'VAVH', 'WSPD']\n",
      "\n",
      " GL_TS_MO_62200.nc\n",
      "GL_TS_MO_62200.nc does not have any valid data for this timeperiod\n",
      "\n",
      " GL_TS_MO_45137.nc\n"
     ]
    },
    {
     "name": "stderr",
     "output_type": "stream",
     "text": [
      " 88%|████████▊ | 2188/2487 [3:22:31<03:56,  1.27it/s]"
     ]
    },
    {
     "name": "stdout",
     "output_type": "stream",
     "text": [
      "GL_TS_MO_45137.nc does not have any valid data for this timeperiod\n",
      "GL_TS_MO_45137.nc is too close to land\n",
      "\n",
      " GL_TS_MO_4101526.nc\n",
      "GL_TS_MO_4101526.nc does not have any of the variables ['VHM0', 'VAVH', 'WSPD']\n",
      "\n",
      " GL_TS_MO_46008.nc\n",
      "GL_TS_MO_46008.nc does not have any valid data for this timeperiod\n",
      "GL_TS_MO_46008.nc does not have any valid data for this timeperiod\n",
      "\n",
      " GL_TS_MO_MEDS018.nc\n",
      "GL_TS_MO_MEDS018.nc does not have any valid data for this timeperiod\n",
      "\n",
      " BO_TS_MO_Oskarsgrundet2.nc\n"
     ]
    },
    {
     "name": "stderr",
     "output_type": "stream",
     "text": [
      " 88%|████████▊ | 2190/2487 [3:22:31<02:46,  1.78it/s]"
     ]
    },
    {
     "name": "stdout",
     "output_type": "stream",
     "text": [
      "BO_TS_MO_Oskarsgrundet2.nc does not have any valid data for this timeperiod\n",
      "BO_TS_MO_Oskarsgrundet2.nc does not have any valid data for this timeperiod\n",
      "\n",
      " GL_WS_MO_46003.nc\n",
      "GL_WS_MO_46003.nc does not have any of the variables ['VHM0', 'VAVH', 'WSPD']\n",
      "\n",
      " GL_TS_MO_WEL278.nc\n",
      "GL_TS_MO_WEL278.nc does not have any valid data for this timeperiod\n",
      "GL_TS_MO_WEL278.nc does not have any valid data for this timeperiod\n",
      "\n",
      " AR_TS_MO_Mobergsvikjo-31-72.nc\n",
      "AR_TS_MO_Mobergsvikjo-31-72.nc does not have any of the variables ['VHM0', 'VAVH', 'WSPD']\n",
      "\n",
      " GL_TS_MO_T2S180W.nc\n",
      "POINT(180.0 -2.0)\n"
     ]
    },
    {
     "name": "stderr",
     "output_type": "stream",
     "text": [
      " 88%|████████▊ | 2193/2487 [3:22:40<07:16,  1.48s/it]"
     ]
    },
    {
     "name": "stdout",
     "output_type": "stream",
     "text": [
      "0  results found\n",
      "\n",
      " GL_TS_MO_42078.nc\n"
     ]
    },
    {
     "name": "stderr",
     "output_type": "stream",
     "text": [
      " 88%|████████▊ | 2195/2487 [3:22:40<05:25,  1.12s/it]"
     ]
    },
    {
     "name": "stdout",
     "output_type": "stream",
     "text": [
      "GL_TS_MO_42078.nc does not have any valid data for this timeperiod\n",
      "\n",
      " GL_TS_MO_28400.nc\n",
      "GL_TS_MO_28400.nc does not have any valid data for this timeperiod\n",
      "\n",
      " GL_TS_MO_44089.nc\n",
      "POINT(-75.32499694824219 37.75400161743164)\n",
      "30  results found\n"
     ]
    },
    {
     "name": "stderr",
     "output_type": "stream",
     "text": [
      " 88%|████████▊ | 2196/2487 [3:22:46<09:16,  1.91s/it]"
     ]
    },
    {
     "name": "stdout",
     "output_type": "stream",
     "text": [
      "\n",
      " GL_TS_MO_MEDS257.nc\n",
      "GL_TS_MO_MEDS257.nc does not have any valid data for this timeperiod\n",
      "\n",
      " GL_TS_MO_42021.nc\n"
     ]
    },
    {
     "name": "stderr",
     "output_type": "stream",
     "text": [
      " 88%|████████▊ | 2198/2487 [3:22:46<06:26,  1.34s/it]"
     ]
    },
    {
     "name": "stdout",
     "output_type": "stream",
     "text": [
      "GL_TS_MO_42021.nc does not have any valid data for this timeperiod\n",
      "\n",
      " GL_TS_MO_MEDS192.nc\n",
      "GL_TS_MO_MEDS192.nc does not have any valid data for this timeperiod\n",
      "\n",
      " BO_TS_MO_HuvudskarOstWR.nc\n",
      "BO_TS_MO_HuvudskarOstWR.nc does not have any valid data for this timeperiod\n",
      "\n",
      " AR_TS_MO_Surtseyjardufl.nc\n",
      "POINT(-20.344999313354492 63.285667419433594)\n",
      "343  results found\n"
     ]
    },
    {
     "name": "stderr",
     "output_type": "stream",
     "text": [
      " 89%|████████▊ | 2201/2487 [3:23:03<14:39,  3.08s/it]"
     ]
    },
    {
     "name": "stdout",
     "output_type": "stream",
     "text": [
      "\n",
      " GL_TS_MO_45012.nc\n"
     ]
    },
    {
     "name": "stderr",
     "output_type": "stream",
     "text": [
      " 89%|████████▊ | 2202/2487 [3:23:04<12:26,  2.62s/it]"
     ]
    },
    {
     "name": "stdout",
     "output_type": "stream",
     "text": [
      "GL_TS_MO_45012.nc is too close to land\n",
      "\n",
      " GL_WS_MO_46215.nc\n",
      "GL_WS_MO_46215.nc does not have any of the variables ['VHM0', 'VAVH', 'WSPD']\n",
      "\n",
      " GL_TS_MO_55058.nc\n",
      "POINT(148.5800018310547 -42.869998931884766)\n",
      "26  results found\n"
     ]
    },
    {
     "name": "stderr",
     "output_type": "stream",
     "text": [
      " 89%|████████▊ | 2204/2487 [3:23:10<13:38,  2.89s/it]"
     ]
    },
    {
     "name": "stdout",
     "output_type": "stream",
     "text": [
      "\n",
      " NO_TS_MO_Oosterschelde4.nc\n",
      "POINT(3.694387912750244 51.65644073486328)\n",
      "118  results found\n"
     ]
    },
    {
     "name": "stderr",
     "output_type": "stream",
     "text": [
      " 89%|████████▊ | 2205/2487 [3:23:23<21:42,  4.62s/it]"
     ]
    },
    {
     "name": "stdout",
     "output_type": "stream",
     "text": [
      "\n",
      " GL_WS_MO_4400050.nc\n",
      "GL_WS_MO_4400050.nc does not have any of the variables ['VHM0', 'VAVH', 'WSPD']\n",
      "\n",
      " NO_TS_MO_OostendNorth.nc\n",
      "POINT(2.882999897003174 51.35200119018555)\n",
      "233  results found\n"
     ]
    },
    {
     "name": "stderr",
     "output_type": "stream",
     "text": [
      " 89%|████████▉ | 2208/2487 [3:23:35<19:09,  4.12s/it]"
     ]
    },
    {
     "name": "stdout",
     "output_type": "stream",
     "text": [
      "\n",
      " GL_TS_MO_IF000619.nc\n",
      "GL_TS_MO_IF000619.nc does not have any of the variables ['VHM0', 'VAVH', 'WSPD']\n",
      "\n",
      " GL_WS_MO_fpsn7.nc\n"
     ]
    },
    {
     "name": "stderr",
     "output_type": "stream",
     "text": [
      " 89%|████████▉ | 2210/2487 [3:23:35<12:17,  2.66s/it]"
     ]
    },
    {
     "name": "stdout",
     "output_type": "stream",
     "text": [
      "GL_WS_MO_fpsn7.nc does not have any of the variables ['VHM0', 'VAVH', 'WSPD']\n",
      "\n",
      " GL_TS_MO_45196.nc\n",
      "GL_TS_MO_45196.nc is too close to land\n",
      "\n",
      " GL_TS_MO_MEDS052.nc\n",
      "GL_TS_MO_MEDS052.nc does not have any valid data for this timeperiod\n",
      "\n",
      " GL_TS_MO_MEDS123.nc\n"
     ]
    },
    {
     "name": "stderr",
     "output_type": "stream",
     "text": [
      " 89%|████████▉ | 2212/2487 [3:23:35<08:07,  1.77s/it]"
     ]
    },
    {
     "name": "stdout",
     "output_type": "stream",
     "text": [
      "GL_TS_MO_MEDS123.nc does not have any valid data for this timeperiod\n",
      "\n",
      " GL_TS_MO_46036.nc\n",
      "GL_TS_MO_46036.nc does not have any valid data for this timeperiod\n",
      "POINT(-133.93800354003906 48.35499954223633)\n",
      "0  results found\n",
      "\n",
      " GL_TS_MO_T0N110W.nc\n",
      "POINT(-110.0 0.0)\n"
     ]
    },
    {
     "name": "stderr",
     "output_type": "stream",
     "text": [
      " 89%|████████▉ | 2214/2487 [3:23:46<13:24,  2.95s/it]"
     ]
    },
    {
     "name": "stdout",
     "output_type": "stream",
     "text": [
      "0  results found\n",
      "\n",
      " GL_TS_MO_45176.nc\n"
     ]
    },
    {
     "name": "stderr",
     "output_type": "stream",
     "text": [
      " 89%|████████▉ | 2215/2487 [3:23:46<11:01,  2.43s/it]"
     ]
    },
    {
     "name": "stdout",
     "output_type": "stream",
     "text": [
      "GL_TS_MO_45176.nc is too close to land\n",
      "\n",
      " NO_TS_MO_Q1.nc\n",
      "POINT(4.150599956512451 52.92639923095703)\n",
      "177  results found\n"
     ]
    },
    {
     "name": "stderr",
     "output_type": "stream",
     "text": [
      " 89%|████████▉ | 2218/2487 [3:24:00<13:44,  3.06s/it]"
     ]
    },
    {
     "name": "stdout",
     "output_type": "stream",
     "text": [
      "\n",
      " GL_TS_MO_5102658.nc\n",
      "GL_TS_MO_5102658.nc does not have any of the variables ['VHM0', 'VAVH', 'WSPD']\n",
      "\n",
      " GL_WS_MO_41060.nc\n",
      "GL_WS_MO_41060.nc does not have any of the variables ['VHM0', 'VAVH', 'WSPD']\n",
      "\n",
      " GL_TS_MO_91377.nc\n",
      "GL_TS_MO_91377.nc does not have any valid data for this timeperiod\n",
      "\n",
      " GL_TS_MO_MEDS135.nc\n"
     ]
    },
    {
     "name": "stderr",
     "output_type": "stream",
     "text": [
      " 89%|████████▉ | 2220/2487 [3:24:00<08:56,  2.01s/it]"
     ]
    },
    {
     "name": "stdout",
     "output_type": "stream",
     "text": [
      "GL_TS_MO_MEDS135.nc does not have any valid data for this timeperiod\n",
      "\n",
      " GL_TS_MO_46181.nc\n",
      "GL_TS_MO_46181.nc does not have any valid data for this timeperiod\n",
      "POINT(-128.83200073242188 53.83300018310547)\n",
      "118  results found\n"
     ]
    },
    {
     "name": "stderr",
     "output_type": "stream",
     "text": [
      " 89%|████████▉ | 2222/2487 [3:24:09<12:24,  2.81s/it]"
     ]
    },
    {
     "name": "stdout",
     "output_type": "stream",
     "text": [
      "\n",
      " AR_TS_MO_Hornnes-Camping-10-24.nc\n",
      "AR_TS_MO_Hornnes-Camping-10-24.nc does not have any of the variables ['VHM0', 'VAVH', 'WSPD']\n",
      "\n",
      " GL_TS_MO_46241.nc\n",
      "GL_TS_MO_46241.nc does not have any valid data for this timeperiod\n",
      "\n",
      " GL_WS_MO_46029.nc\n"
     ]
    },
    {
     "name": "stderr",
     "output_type": "stream",
     "text": [
      " 89%|████████▉ | 2225/2487 [3:24:10<07:01,  1.61s/it]"
     ]
    },
    {
     "name": "stdout",
     "output_type": "stream",
     "text": [
      "GL_WS_MO_46029.nc does not have any of the variables ['VHM0', 'VAVH', 'WSPD']\n",
      "\n",
      " GL_TS_MO_44060.nc\n",
      "GL_TS_MO_44060.nc does not have any valid data for this timeperiod\n",
      "\n",
      " GL_WS_MO_41115.nc\n"
     ]
    },
    {
     "name": "stderr",
     "output_type": "stream",
     "text": [
      " 90%|████████▉ | 2228/2487 [3:24:10<03:55,  1.10it/s]"
     ]
    },
    {
     "name": "stdout",
     "output_type": "stream",
     "text": [
      "GL_WS_MO_41115.nc does not have any of the variables ['VHM0', 'VAVH', 'WSPD']\n",
      "\n",
      " GL_WS_MO_46146.nc\n",
      "GL_WS_MO_46146.nc does not have any of the variables ['VHM0', 'VAVH', 'WSPD']\n",
      "\n",
      " GL_TS_MO_Dawesville02.nc\n",
      "GL_TS_MO_Dawesville02.nc does not have any valid data for this timeperiod\n",
      "\n",
      " GL_TS_MO_23100.nc\n",
      "GL_TS_MO_23100.nc does not have any valid data for this timeperiod\n",
      "\n",
      " IR_WS_MO_6100196.nc\n"
     ]
    },
    {
     "name": "stderr",
     "output_type": "stream",
     "text": [
      " 90%|████████▉ | 2230/2487 [3:24:10<02:49,  1.51it/s]"
     ]
    },
    {
     "name": "stdout",
     "output_type": "stream",
     "text": [
      "IR_WS_MO_6100196.nc does not have any of the variables ['VHM0', 'VAVH', 'WSPD']\n",
      "\n",
      " GL_TS_MO_55028.nc\n",
      "POLYGON((145.7151641845703 -16.729999542236328,145.7151641845703 -17.219999313354492,146.1699981689453 -17.219999313354492,146.1699981689453 -16.729999542236328,145.7151641845703 -16.729999542236328))\n",
      "60  results found\n"
     ]
    },
    {
     "name": "stderr",
     "output_type": "stream",
     "text": [
      " 90%|████████▉ | 2231/2487 [3:24:48<30:54,  7.24s/it]"
     ]
    },
    {
     "name": "stdout",
     "output_type": "stream",
     "text": [
      "\n",
      " GL_TS_MO_SouthernOcean.nc\n",
      "GL_TS_MO_SouthernOcean.nc does not have any valid data for this timeperiod\n",
      "GL_TS_MO_SouthernOcean.nc does not have any valid data for this timeperiod\n",
      "\n",
      " GL_TS_MO_6200443.nc\n",
      "POINT(1.5677000284194946 50.740501403808594)\n",
      "174  results found\n"
     ]
    },
    {
     "name": "stderr",
     "output_type": "stream",
     "text": [
      " 90%|████████▉ | 2233/2487 [3:24:57<26:55,  6.36s/it]"
     ]
    },
    {
     "name": "stdout",
     "output_type": "stream",
     "text": [
      "\n",
      " GL_WS_MO_ljpc1.nc\n",
      "GL_WS_MO_ljpc1.nc does not have any of the variables ['VHM0', 'VAVH', 'WSPD']\n",
      "\n",
      " GL_TS_MO_42098.nc\n",
      "POINT(-82.93099975585938 27.59000015258789)\n",
      "28  results found\n"
     ]
    },
    {
     "name": "stderr",
     "output_type": "stream",
     "text": [
      " 90%|████████▉ | 2236/2487 [3:25:05<18:50,  4.50s/it]"
     ]
    },
    {
     "name": "stdout",
     "output_type": "stream",
     "text": [
      "\n",
      " GL_TS_MO_44021.nc\n",
      "GL_TS_MO_44021.nc does not have any valid data for this timeperiod\n",
      "GL_TS_MO_44021.nc does not have any valid data for this timeperiod\n",
      "\n",
      " GL_TS_MO_45020.nc\n"
     ]
    },
    {
     "name": "stderr",
     "output_type": "stream",
     "text": [
      " 90%|████████▉ | 2238/2487 [3:25:05<12:19,  2.97s/it]"
     ]
    },
    {
     "name": "stdout",
     "output_type": "stream",
     "text": [
      "GL_TS_MO_45020.nc does not have any valid data for this timeperiod\n",
      "GL_TS_MO_45020.nc does not have any valid data for this timeperiod\n",
      "\n",
      " GL_WS_MO_41043.nc\n",
      "GL_WS_MO_41043.nc does not have any of the variables ['VHM0', 'VAVH', 'WSPD']\n",
      "\n",
      " MO_TS_MO_MAZARA-61208.nc\n"
     ]
    },
    {
     "name": "stderr",
     "output_type": "stream",
     "text": [
      " 90%|█████████ | 2240/2487 [3:25:05<08:17,  2.01s/it]"
     ]
    },
    {
     "name": "stdout",
     "output_type": "stream",
     "text": [
      "MO_TS_MO_MAZARA-61208.nc does not have any valid data for this timeperiod\n",
      "\n",
      " GL_WS_MO_45003.nc\n",
      "GL_WS_MO_45003.nc does not have any of the variables ['VHM0', 'VAVH', 'WSPD']\n",
      "\n",
      " GL_TS_MO_MEDS043.nc\n",
      "GL_TS_MO_MEDS043.nc does not have any valid data for this timeperiod\n",
      "\n",
      " GL_WS_MO_41044.nc\n"
     ]
    },
    {
     "name": "stderr",
     "output_type": "stream",
     "text": [
      " 90%|█████████ | 2242/2487 [3:25:05<05:38,  1.38s/it]"
     ]
    },
    {
     "name": "stdout",
     "output_type": "stream",
     "text": [
      "GL_WS_MO_41044.nc does not have any of the variables ['VHM0', 'VAVH', 'WSPD']\n",
      "\n",
      " GL_TS_MO_46204.nc\n",
      "GL_TS_MO_46204.nc does not have any valid data for this timeperiod\n",
      "POINT(-128.76699829101562 51.382999420166016)\n",
      "117  results found\n"
     ]
    },
    {
     "name": "stderr",
     "output_type": "stream",
     "text": [
      " 90%|█████████ | 2244/2487 [3:25:14<09:18,  2.30s/it]"
     ]
    },
    {
     "name": "stdout",
     "output_type": "stream",
     "text": [
      "\n",
      " GL_TS_MO_42088.nc\n",
      "GL_TS_MO_42088.nc does not have any valid data for this timeperiod\n",
      "\n",
      " IR_TS_MO_AMETSBerthAWaveBuoy.nc\n",
      "POINT(-10.297369956970215 54.275299072265625)\n",
      "226  results found\n"
     ]
    },
    {
     "name": "stderr",
     "output_type": "stream",
     "text": [
      " 90%|█████████ | 2246/2487 [3:25:27<13:42,  3.41s/it]"
     ]
    },
    {
     "name": "stdout",
     "output_type": "stream",
     "text": [
      "\n",
      " GL_WS_MO_46014.nc\n",
      "GL_WS_MO_46014.nc does not have any of the variables ['VHM0', 'VAVH', 'WSPD']\n",
      "\n",
      " NO_TS_MO_Amelander22.nc\n"
     ]
    },
    {
     "name": "stderr",
     "output_type": "stream",
     "text": [
      " 90%|█████████ | 2247/2487 [3:25:27<10:40,  2.67s/it]"
     ]
    },
    {
     "name": "stdout",
     "output_type": "stream",
     "text": [
      "NO_TS_MO_Amelander22.nc does not have any valid data for this timeperiod\n",
      "NO_TS_MO_Amelander22.nc does not have any valid data for this timeperiod\n",
      "\n",
      " BO_TS_MO_SvenskaBjorn.nc\n",
      "BO_TS_MO_SvenskaBjorn.nc does not have any valid data for this timeperiod\n",
      "\n",
      " GL_WS_MO_46015.nc\n"
     ]
    },
    {
     "name": "stderr",
     "output_type": "stream",
     "text": [
      " 90%|█████████ | 2249/2487 [3:25:27<06:34,  1.66s/it]"
     ]
    },
    {
     "name": "stdout",
     "output_type": "stream",
     "text": [
      "GL_WS_MO_46015.nc does not have any of the variables ['VHM0', 'VAVH', 'WSPD']\n",
      "\n",
      " GL_TS_MO_MEDS294.nc\n",
      "GL_TS_MO_MEDS294.nc does not have any valid data for this timeperiod\n",
      "\n",
      " NO_TS_MO_ThorntonbankSouth.nc\n",
      "POINT(2.986999988555908 51.564998626708984)\n",
      "232  results found\n"
     ]
    },
    {
     "name": "stderr",
     "output_type": "stream",
     "text": [
      " 91%|█████████ | 2252/2487 [3:25:42<11:29,  2.93s/it]"
     ]
    },
    {
     "name": "stdout",
     "output_type": "stream",
     "text": [
      "\n",
      " GL_TS_MO_K276.nc\n",
      "GL_TS_MO_K276.nc does not have any of the variables ['VHM0', 'VAVH', 'WSPD']\n",
      "\n",
      " NO_TS_MO_ZeebruggePortBuoy.nc\n",
      "POINT(3.193000078201294 51.35599899291992)\n",
      "233  results found\n"
     ]
    },
    {
     "name": "stderr",
     "output_type": "stream",
     "text": [
      " 91%|█████████ | 2255/2487 [3:25:53<11:24,  2.95s/it]"
     ]
    },
    {
     "name": "stdout",
     "output_type": "stream",
     "text": [
      "\n",
      " MO_TS_MO_LASPEZIA-61219.nc\n",
      "MO_TS_MO_LASPEZIA-61219.nc does not have any valid data for this timeperiod\n",
      "\n",
      " NO_TS_MO_6200041.nc\n",
      "NO_TS_MO_6200041.nc does not have any valid data for this timeperiod\n",
      "\n",
      " NO_TS_MO_6200303.nc\n"
     ]
    },
    {
     "name": "stderr",
     "output_type": "stream",
     "text": [
      " 91%|█████████ | 2256/2487 [3:25:53<08:58,  2.33s/it]"
     ]
    },
    {
     "name": "stdout",
     "output_type": "stream",
     "text": [
      "NO_TS_MO_6200303.nc does not have any valid data for this timeperiod\n",
      "NO_TS_MO_6200303.nc does not have any valid data for this timeperiod\n",
      "\n",
      " NO_TS_MO_Raversijde2.nc\n",
      "POINT(2.8127779960632324 51.23666763305664)\n",
      "234  results found\n"
     ]
    },
    {
     "name": "stderr",
     "output_type": "stream",
     "text": [
      " 91%|█████████ | 2257/2487 [3:26:03<15:22,  4.01s/it]"
     ]
    },
    {
     "name": "stdout",
     "output_type": "stream",
     "text": [
      "\n",
      " MO_TS_MO_ANCONA-61218.nc\n",
      "MO_TS_MO_ANCONA-61218.nc does not have any valid data for this timeperiod\n",
      "\n",
      " GL_TS_MO_T2N140W.nc\n"
     ]
    },
    {
     "name": "stderr",
     "output_type": "stream",
     "text": [
      " 91%|█████████ | 2262/2487 [3:26:04<05:09,  1.38s/it]"
     ]
    },
    {
     "name": "stdout",
     "output_type": "stream",
     "text": [
      "GL_TS_MO_T2N140W.nc does not have any valid data for this timeperiod\n",
      "\n",
      " GL_TS_MO_MEDS114.nc\n",
      "GL_TS_MO_MEDS114.nc does not have any valid data for this timeperiod\n",
      "\n",
      " AR_TS_MO_Store-Stokkavannet-6-114.nc\n",
      "AR_TS_MO_Store-Stokkavannet-6-114.nc does not have any of the variables ['VHM0', 'VAVH', 'WSPD']\n",
      "\n",
      " GL_TS_MO_MEDS075.nc\n",
      "GL_TS_MO_MEDS075.nc does not have any valid data for this timeperiod\n",
      "\n",
      " GL_TS_MO_42004.nc\n",
      "GL_TS_MO_42004.nc does not have any valid data for this timeperiod\n",
      "\n",
      " GL_TS_MO_52082.nc\n"
     ]
    },
    {
     "name": "stderr",
     "output_type": "stream",
     "text": [
      " 91%|█████████ | 2265/2487 [3:26:04<03:06,  1.19it/s]"
     ]
    },
    {
     "name": "stdout",
     "output_type": "stream",
     "text": [
      "GL_TS_MO_52082.nc does not have any valid data for this timeperiod\n",
      "\n",
      " GL_TS_MO_42008.nc\n",
      "GL_TS_MO_42008.nc does not have any valid data for this timeperiod\n",
      "\n",
      " GL_TS_MO_46147.nc\n",
      "GL_TS_MO_46147.nc does not have any valid data for this timeperiod\n",
      "POINT(-131.22500610351562 51.827999114990234)\n",
      "118  results found\n"
     ]
    },
    {
     "name": "stderr",
     "output_type": "stream",
     "text": [
      " 91%|█████████ | 2266/2487 [3:26:13<08:54,  2.42s/it]"
     ]
    },
    {
     "name": "stdout",
     "output_type": "stream",
     "text": [
      "\n",
      " GL_TS_MO_MEDS155.nc\n",
      "GL_TS_MO_MEDS155.nc does not have any valid data for this timeperiod\n",
      "\n",
      " AR_TS_MO_Vinnesholmen-31-70.nc\n",
      "AR_TS_MO_Vinnesholmen-31-70.nc does not have any of the variables ['VHM0', 'VAVH', 'WSPD']\n",
      "\n",
      " NO_TS_MO_DomburgerRassen.nc\n",
      "POINT(3.3989999294281006 51.619998931884766)\n",
      "232  results found\n"
     ]
    },
    {
     "name": "stderr",
     "output_type": "stream",
     "text": [
      " 91%|█████████▏| 2270/2487 [3:26:30<11:58,  3.31s/it]"
     ]
    },
    {
     "name": "stdout",
     "output_type": "stream",
     "text": [
      "\n",
      " GL_TS_MO_62072.nc\n",
      "GL_TS_MO_62072.nc does not have any valid data for this timeperiod\n",
      "GL_TS_MO_62072.nc does not have any valid data for this timeperiod\n",
      "\n",
      " GL_TS_MO_42015.nc\n"
     ]
    },
    {
     "name": "stderr",
     "output_type": "stream",
     "text": [
      " 91%|█████████▏| 2273/2487 [3:26:30<06:42,  1.88s/it]"
     ]
    },
    {
     "name": "stdout",
     "output_type": "stream",
     "text": [
      "GL_TS_MO_42015.nc does not have any valid data for this timeperiod\n",
      "GL_TS_MO_42015.nc does not have any valid data for this timeperiod\n",
      "\n",
      " GL_TS_MO_MEDS140.nc\n",
      "GL_TS_MO_MEDS140.nc does not have any valid data for this timeperiod\n",
      "\n",
      " GL_TS_MO_55082.nc\n",
      "GL_TS_MO_55082.nc does not have any of the variables ['VHM0', 'VAVH', 'WSPD']\n",
      "\n",
      " GL_TS_MO_6100284.nc\n",
      "GL_TS_MO_6100284.nc does not have any valid data for this timeperiod\n",
      "POINT(4.866199970245361 43.31890106201172)\n",
      "233  results found\n",
      "\n",
      " IR_TS_MO_6100197.nc\n",
      "POLYGON((4.415299892425537 39.71390151977539,4.415299892425537 39.70650100708008,4.426300048828125 39.70650100708008,4.426300048828125 39.71390151977539,4.415299892425537 39.71390151977539))\n"
     ]
    },
    {
     "name": "stderr",
     "output_type": "stream",
     "text": [
      " 91%|█████████▏| 2273/2487 [3:26:48<06:42,  1.88s/it]"
     ]
    },
    {
     "name": "stdout",
     "output_type": "stream",
     "text": [
      "116  results found\n"
     ]
    },
    {
     "name": "stderr",
     "output_type": "stream",
     "text": [
      " 91%|█████████▏| 2275/2487 [3:28:13<58:07, 16.45s/it]"
     ]
    },
    {
     "name": "stdout",
     "output_type": "stream",
     "text": [
      "\n",
      " GL_TS_MO_MEDS501W.nc\n",
      "GL_TS_MO_MEDS501W.nc does not have any valid data for this timeperiod\n",
      "\n",
      " GL_TS_MO_52080.nc\n"
     ]
    },
    {
     "name": "stderr",
     "output_type": "stream",
     "text": [
      " 92%|█████████▏| 2278/2487 [3:28:14<33:30,  9.62s/it]"
     ]
    },
    {
     "name": "stdout",
     "output_type": "stream",
     "text": [
      "GL_TS_MO_52080.nc does not have any valid data for this timeperiod\n",
      "\n",
      " GL_TS_MO_45015.nc\n",
      "GL_TS_MO_45015.nc does not have any valid data for this timeperiod\n",
      "\n",
      " GL_TS_MO_13002.nc\n",
      "POINT(-23.0 21.0)\n",
      "115  results found\n"
     ]
    },
    {
     "name": "stderr",
     "output_type": "stream",
     "text": [
      " 92%|█████████▏| 2280/2487 [3:28:23<25:39,  7.44s/it]"
     ]
    },
    {
     "name": "stdout",
     "output_type": "stream",
     "text": [
      "\n",
      " AR_TS_MO_AmundsenGulf-WC.nc\n",
      "AR_TS_MO_AmundsenGulf-WC.nc does not have any of the variables ['VHM0', 'VAVH', 'WSPD']\n",
      "\n",
      " GL_TS_MO_46076.nc\n",
      "POINT(-148.00900268554688 59.47100067138672)\n",
      "48  results found\n"
     ]
    },
    {
     "name": "stderr",
     "output_type": "stream",
     "text": [
      " 92%|█████████▏| 2281/2487 [3:28:31<25:48,  7.52s/it]"
     ]
    },
    {
     "name": "stdout",
     "output_type": "stream",
     "text": [
      "\n",
      " BS_TS_MO_EUXRo01.nc\n",
      "POINT(30.77899932861328 44.70000076293945)\n",
      "177  results found\n"
     ]
    },
    {
     "name": "stderr",
     "output_type": "stream",
     "text": [
      " 92%|█████████▏| 2284/2487 [3:28:38<14:42,  4.35s/it]"
     ]
    },
    {
     "name": "stdout",
     "output_type": "stream",
     "text": [
      "\n",
      " GL_TS_MO_6101025.nc\n",
      "GL_TS_MO_6101025.nc does not have any of the variables ['VHM0', 'VAVH', 'WSPD']\n",
      "\n",
      " GL_TS_MO_44038.nc\n",
      "GL_TS_MO_44038.nc does not have any valid data for this timeperiod\n",
      "GL_TS_MO_44038.nc does not have any valid data for this timeperiod\n",
      "\n",
      " MO_TS_MO_PLAYA-DE-PALMA.nc\n"
     ]
    },
    {
     "name": "stderr",
     "output_type": "stream",
     "text": [
      " 92%|█████████▏| 2285/2487 [3:28:38<11:19,  3.36s/it]"
     ]
    },
    {
     "name": "stdout",
     "output_type": "stream",
     "text": [
      "MO_TS_MO_PLAYA-DE-PALMA.nc does not have any valid data for this timeperiod\n",
      "MO_TS_MO_PLAYA-DE-PALMA.nc does not have any valid data for this timeperiod\n",
      "MO_TS_MO_PLAYA-DE-PALMA.nc does not have any valid data for this timeperiod\n",
      "\n",
      " GL_TS_MO_44258.nc\n",
      "GL_TS_MO_44258.nc does not have any valid data for this timeperiod\n",
      "POINT(-63.40299987792969 44.50199890136719)\n",
      "120  results found\n"
     ]
    },
    {
     "name": "stderr",
     "output_type": "stream",
     "text": [
      " 92%|█████████▏| 2287/2487 [3:28:46<11:04,  3.32s/it]"
     ]
    },
    {
     "name": "stdout",
     "output_type": "stream",
     "text": [
      "\n",
      " GL_TS_MO_46003.nc\n",
      "GL_TS_MO_46003.nc does not have any valid data for this timeperiod\n",
      "GL_TS_MO_46003.nc does not have any valid data for this timeperiod\n",
      "\n",
      " IR_WS_MO_1300131.nc\n"
     ]
    },
    {
     "name": "stderr",
     "output_type": "stream",
     "text": [
      " 92%|█████████▏| 2290/2487 [3:28:46<04:37,  1.41s/it]"
     ]
    },
    {
     "name": "stdout",
     "output_type": "stream",
     "text": [
      "IR_WS_MO_1300131.nc does not have any of the variables ['VHM0', 'VAVH', 'WSPD']\n",
      "\n",
      " GL_TS_MO_46257.nc\n",
      "GL_TS_MO_46257.nc does not have any valid data for this timeperiod\n",
      "\n",
      " GL_TS_MO_MEDS200.nc\n",
      "GL_TS_MO_MEDS200.nc does not have any valid data for this timeperiod\n",
      "\n",
      " GL_WS_MO_46229.nc\n",
      "GL_WS_MO_46229.nc does not have any of the variables ['VHM0', 'VAVH', 'WSPD']\n",
      "\n",
      " NO_TS_MO_PasVanTerneuzenBoei.nc\n"
     ]
    },
    {
     "name": "stderr",
     "output_type": "stream",
     "text": [
      " 92%|█████████▏| 2292/2487 [3:28:47<02:57,  1.10it/s]"
     ]
    },
    {
     "name": "stdout",
     "output_type": "stream",
     "text": [
      "NO_TS_MO_PasVanTerneuzenBoei.nc is too close to land\n",
      "\n",
      " NO_TS_MO_6200121.nc\n",
      "POINT(2.700000047683716 53.5)\n",
      "230  results found\n"
     ]
    },
    {
     "name": "stderr",
     "output_type": "stream",
     "text": [
      " 92%|█████████▏| 2293/2487 [3:28:58<10:04,  3.11s/it]"
     ]
    },
    {
     "name": "stdout",
     "output_type": "stream",
     "text": [
      "\n",
      " NO_TS_MO_TWEms.nc\n",
      "POINT(6.349999904632568 54.16666793823242)\n",
      "237  results found\n"
     ]
    },
    {
     "name": "stderr",
     "output_type": "stream",
     "text": [
      " 92%|█████████▏| 2294/2487 [3:29:08<15:28,  4.81s/it]"
     ]
    },
    {
     "name": "stdout",
     "output_type": "stream",
     "text": [
      "\n",
      " GL_TS_MO_MEDS201.nc\n",
      "GL_TS_MO_MEDS201.nc does not have any valid data for this timeperiod\n",
      "\n",
      " GL_TS_MO_3201682.nc\n",
      "GL_TS_MO_3201682.nc does not have any of the variables ['VHM0', 'VAVH', 'WSPD']\n",
      "\n",
      " GL_TS_MO_51003.nc\n",
      "POINT(-160.63900756835938 19.195999145507812)\n",
      "111  results found\n"
     ]
    },
    {
     "name": "stderr",
     "output_type": "stream",
     "text": [
      " 92%|█████████▏| 2297/2487 [3:29:19<13:20,  4.22s/it]"
     ]
    },
    {
     "name": "stdout",
     "output_type": "stream",
     "text": [
      "\n",
      " GL_TS_MO_MEDS204.nc\n",
      "GL_TS_MO_MEDS204.nc does not have any valid data for this timeperiod\n",
      "\n",
      " GL_TS_MO_46266.nc\n"
     ]
    },
    {
     "name": "stderr",
     "output_type": "stream",
     "text": [
      " 92%|█████████▏| 2299/2487 [3:29:19<09:02,  2.88s/it]"
     ]
    },
    {
     "name": "stdout",
     "output_type": "stream",
     "text": [
      "GL_TS_MO_46266.nc is too close to land\n",
      "\n",
      " GL_TS_MO_46019.nc\n",
      "GL_TS_MO_46019.nc does not have any valid data for this timeperiod\n",
      "\n",
      " GL_TS_MO_4601822.nc\n",
      "GL_TS_MO_4601822.nc does not have any of the variables ['VHM0', 'VAVH', 'WSPD']\n",
      "\n",
      " GL_TS_MO_44017.nc\n",
      "POINT(-72.04900360107422 40.69300079345703)\n",
      "53  results found\n"
     ]
    },
    {
     "name": "stderr",
     "output_type": "stream",
     "text": [
      " 93%|█████████▎| 2304/2487 [3:29:28<06:21,  2.08s/it]"
     ]
    },
    {
     "name": "stdout",
     "output_type": "stream",
     "text": [
      "\n",
      " GL_TS_MO_MEDS160.nc\n",
      "GL_TS_MO_MEDS160.nc does not have any valid data for this timeperiod\n",
      "\n",
      " GL_TS_MO_42017.nc\n",
      "GL_TS_MO_42017.nc does not have any valid data for this timeperiod\n",
      "GL_TS_MO_42017.nc does not have any valid data for this timeperiod\n",
      "\n",
      " NO_TS_MO_Malzwin1.nc\n"
     ]
    },
    {
     "name": "stderr",
     "output_type": "stream",
     "text": [
      " 93%|█████████▎| 2306/2487 [3:29:28<04:32,  1.51s/it]"
     ]
    },
    {
     "name": "stdout",
     "output_type": "stream",
     "text": [
      "NO_TS_MO_Malzwin1.nc does not have any valid data for this timeperiod\n",
      "NO_TS_MO_Malzwin1.nc does not have any valid data for this timeperiod\n",
      "\n",
      " GL_TS_MO_23496.nc\n",
      "GL_TS_MO_23496.nc does not have any valid data for this timeperiod\n",
      "\n",
      " BO_TS_MO_Landsort.nc\n",
      "BO_TS_MO_Landsort.nc does not have any valid data for this timeperiod\n",
      "\n",
      " NO_TS_MO_6200150.nc\n",
      "POINT(0.699999988079071 53.599998474121094)\n",
      "215  results found\n"
     ]
    },
    {
     "name": "stderr",
     "output_type": "stream",
     "text": [
      " 93%|█████████▎| 2308/2487 [3:29:39<08:07,  2.72s/it]"
     ]
    },
    {
     "name": "stdout",
     "output_type": "stream",
     "text": [
      "\n",
      " GL_TS_MO_46184.nc\n",
      "GL_TS_MO_46184.nc does not have any valid data for this timeperiod\n",
      "POINT(-138.85000610351562 53.915000915527344)\n",
      "28  results found\n"
     ]
    },
    {
     "name": "stderr",
     "output_type": "stream",
     "text": [
      " 93%|█████████▎| 2309/2487 [3:29:46<10:10,  3.43s/it]"
     ]
    },
    {
     "name": "stdout",
     "output_type": "stream",
     "text": [
      "\n",
      " GL_TS_MO_2300497.nc\n",
      "POLYGON((72.27300262451172 10.58899974822998,72.27300262451172 10.619000434875488,72.30500030517578 10.619000434875488,72.30500030517578 10.58899974822998,72.27300262451172 10.58899974822998))\n"
     ]
    },
    {
     "name": "stderr",
     "output_type": "stream",
     "text": [
      " 93%|█████████▎| 2311/2487 [3:29:51<08:19,  2.84s/it]"
     ]
    },
    {
     "name": "stdout",
     "output_type": "stream",
     "text": [
      "0  results found\n",
      "\n",
      " GL_TS_MO_45183.nc\n",
      "GL_TS_MO_45183.nc is too close to land\n",
      "\n",
      " GL_TS_MO_T0N155W.nc\n",
      "POINT(-155.0 0.0)\n"
     ]
    },
    {
     "name": "stderr",
     "output_type": "stream",
     "text": [
      " 93%|█████████▎| 2312/2487 [3:29:57<10:45,  3.69s/it]"
     ]
    },
    {
     "name": "stdout",
     "output_type": "stream",
     "text": [
      "0  results found\n",
      "\n",
      " GL_TS_MO_6301001.nc\n"
     ]
    },
    {
     "name": "stderr",
     "output_type": "stream",
     "text": [
      " 93%|█████████▎| 2313/2487 [3:29:57<08:10,  2.82s/it]"
     ]
    },
    {
     "name": "stdout",
     "output_type": "stream",
     "text": [
      "GL_TS_MO_6301001.nc does not have any valid data for this timeperiod\n",
      "\n",
      " NO_TS_MO_Butendiek.nc\n",
      "POINT(7.783299922943115 55.016700744628906)\n",
      "230  results found\n"
     ]
    },
    {
     "name": "stderr",
     "output_type": "stream",
     "text": [
      " 93%|█████████▎| 2315/2487 [3:30:35<25:24,  8.86s/it]"
     ]
    },
    {
     "name": "stdout",
     "output_type": "stream",
     "text": [
      "\n",
      " GL_TS_MO_42037.nc\n",
      "GL_TS_MO_42037.nc does not have any valid data for this timeperiod\n",
      "GL_TS_MO_42037.nc does not have any valid data for this timeperiod\n",
      "\n",
      " GL_TS_MO_23011.nc\n"
     ]
    },
    {
     "name": "stderr",
     "output_type": "stream",
     "text": [
      " 93%|█████████▎| 2316/2487 [3:30:35<18:12,  6.39s/it]"
     ]
    },
    {
     "name": "stdout",
     "output_type": "stream",
     "text": [
      "GL_TS_MO_23011.nc does not have any valid data for this timeperiod\n",
      "\n",
      " GL_TS_MO_WEL440.nc\n",
      "GL_TS_MO_WEL440.nc does not have any valid data for this timeperiod\n",
      "\n",
      " GL_TS_MO_46218.nc\n",
      "POINT(-120.77999877929688 34.45199966430664)\n",
      "236  results found\n"
     ]
    },
    {
     "name": "stderr",
     "output_type": "stream",
     "text": [
      " 93%|█████████▎| 2318/2487 [3:30:48<17:38,  6.26s/it]"
     ]
    },
    {
     "name": "stdout",
     "output_type": "stream",
     "text": [
      "\n",
      " GL_TS_MO_45170.nc\n"
     ]
    },
    {
     "name": "stderr",
     "output_type": "stream",
     "text": [
      " 93%|█████████▎| 2322/2487 [3:30:48<06:36,  2.40s/it]"
     ]
    },
    {
     "name": "stdout",
     "output_type": "stream",
     "text": [
      "GL_TS_MO_45170.nc is too close to land\n",
      "\n",
      " GL_TS_MO_MEDS067.nc\n",
      "GL_TS_MO_MEDS067.nc does not have any valid data for this timeperiod\n",
      "\n",
      " GL_TS_MO_IF000258.nc\n",
      "GL_TS_MO_IF000258.nc does not have any of the variables ['VHM0', 'VAVH', 'WSPD']\n",
      "\n",
      " GL_TS_MO_WEL441.nc\n",
      "GL_TS_MO_WEL441.nc does not have any valid data for this timeperiod\n",
      "\n",
      " GL_WS_MO_44t14.nc\n",
      "GL_WS_MO_44t14.nc does not have any of the variables ['VHM0', 'VAVH', 'WSPD']\n",
      "\n",
      " GL_WS_MO_44100.nc\n",
      "GL_WS_MO_44100.nc does not have any of the variables ['VHM0', 'VAVH', 'WSPD']\n",
      "\n",
      " NO_TS_MO_6201046.nc\n"
     ]
    },
    {
     "name": "stderr",
     "output_type": "stream",
     "text": [
      " 94%|█████████▎| 2328/2487 [3:30:49<02:23,  1.11it/s]"
     ]
    },
    {
     "name": "stdout",
     "output_type": "stream",
     "text": [
      "NO_TS_MO_6201046.nc does not have any valid data for this timeperiod\n",
      "\n",
      " GL_WS_MO_46106.nc\n",
      "GL_WS_MO_46106.nc does not have any of the variables ['VHM0', 'VAVH', 'WSPD']\n",
      "\n",
      " GL_TS_MO_46275.nc\n",
      "GL_TS_MO_46275.nc does not have any valid data for this timeperiod\n",
      "\n",
      " GL_WS_MO_46076.nc\n",
      "GL_WS_MO_46076.nc does not have any of the variables ['VHM0', 'VAVH', 'WSPD']\n",
      "\n",
      " MO_TS_MO_SOLLER.nc\n"
     ]
    },
    {
     "name": "stderr",
     "output_type": "stream",
     "text": [
      " 94%|█████████▍| 2332/2487 [3:30:49<01:19,  1.95it/s]"
     ]
    },
    {
     "name": "stdout",
     "output_type": "stream",
     "text": [
      "MO_TS_MO_SOLLER.nc does not have any valid data for this timeperiod\n",
      "MO_TS_MO_SOLLER.nc does not have any valid data for this timeperiod\n",
      "\n",
      " GL_TS_MO_31008.nc\n",
      "GL_TS_MO_31008.nc does not have any of the variables ['VHM0', 'VAVH', 'WSPD']\n",
      "\n",
      " GL_TS_MO_MEDS063.nc\n",
      "GL_TS_MO_MEDS063.nc does not have any valid data for this timeperiod\n",
      "\n",
      " GL_WS_MO_46022.nc\n",
      "GL_WS_MO_46022.nc does not have any of the variables ['VHM0', 'VAVH', 'WSPD']\n",
      "\n",
      " GL_TS_MO_MEDS027.nc\n",
      "GL_TS_MO_MEDS027.nc does not have any valid data for this timeperiod\n",
      "\n",
      " GL_TS_MO_6200059.nc\n",
      "POINT(-1.6200000047683716 49.69499969482422)\n",
      "237  results found\n"
     ]
    },
    {
     "name": "stderr",
     "output_type": "stream",
     "text": [
      " 94%|█████████▍| 2336/2487 [3:31:06<04:54,  1.95s/it]"
     ]
    },
    {
     "name": "stdout",
     "output_type": "stream",
     "text": [
      "\n",
      " GL_TS_MO_55050.nc\n",
      "GL_TS_MO_55050.nc does not have any valid data for this timeperiod\n",
      "\n",
      " GL_TS_MO_23093.nc\n",
      "GL_TS_MO_23093.nc does not have any valid data for this timeperiod\n",
      "\n",
      " GL_TS_MO_5601012.nc\n",
      "GL_TS_MO_5601012.nc does not have any of the variables ['VHM0', 'VAVH', 'WSPD']\n",
      "\n",
      " BS_TS_MO_37099.nc\n",
      "BS_TS_MO_37099.nc does not have any valid data for this timeperiod\n",
      "\n",
      " NO_TS_MO_A122.nc\n",
      "POINT(3.816999912261963 55.417999267578125)\n",
      "223  results found\n"
     ]
    },
    {
     "name": "stderr",
     "output_type": "stream",
     "text": [
      " 94%|█████████▍| 2339/2487 [3:31:22<08:12,  3.32s/it]"
     ]
    },
    {
     "name": "stdout",
     "output_type": "stream",
     "text": [
      "\n",
      " GL_TS_MO_51002.nc\n",
      "POINT(-157.74200439453125 17.042999267578125)\n",
      "31  results found\n"
     ]
    },
    {
     "name": "stderr",
     "output_type": "stream",
     "text": [
      " 94%|█████████▍| 2340/2487 [3:31:30<09:49,  4.01s/it]"
     ]
    },
    {
     "name": "stdout",
     "output_type": "stream",
     "text": [
      "\n",
      " GL_TS_MO_MEDS103.nc\n",
      "GL_TS_MO_MEDS103.nc does not have any valid data for this timeperiod\n",
      "\n",
      " GL_TS_MO_MEDS172.nc\n"
     ]
    },
    {
     "name": "stderr",
     "output_type": "stream",
     "text": [
      " 94%|█████████▍| 2344/2487 [3:31:30<04:44,  1.99s/it]"
     ]
    },
    {
     "name": "stdout",
     "output_type": "stream",
     "text": [
      "GL_TS_MO_MEDS172.nc does not have any valid data for this timeperiod\n",
      "\n",
      " BO_TS_MO_MysingenWR.nc\n",
      "BO_TS_MO_MysingenWR.nc does not have any valid data for this timeperiod\n",
      "\n",
      " NO_TS_MO_NieuwpoortBuoy.nc\n",
      "NO_TS_MO_NieuwpoortBuoy.nc is too close to land\n",
      "\n",
      " GL_TS_MO_CIS-1.nc\n",
      "GL_TS_MO_CIS-1.nc does not have any of the variables ['VHM0', 'VAVH', 'WSPD']\n",
      "\n",
      " AR_TS_MO_Heistadstranda-7-79.nc\n",
      "AR_TS_MO_Heistadstranda-7-79.nc does not have any of the variables ['VHM0', 'VAVH', 'WSPD']\n",
      "\n",
      " GL_TS_MO_63005.nc\n"
     ]
    },
    {
     "name": "stderr",
     "output_type": "stream",
     "text": [
      " 94%|█████████▍| 2347/2487 [3:31:31<02:50,  1.22s/it]"
     ]
    },
    {
     "name": "stdout",
     "output_type": "stream",
     "text": [
      "GL_TS_MO_63005.nc does not have any of the variables ['VHM0', 'VAVH', 'WSPD']\n",
      "\n",
      " GL_TS_MO_55036.nc\n",
      "POLYGON((153.42999267578125 -28.600000381469727,153.42999267578125 -27.950000762939453,153.72999572753906 -27.950000762939453,153.72999572753906 -28.600000381469727,153.42999267578125 -28.600000381469727))\n",
      "82  results found\n"
     ]
    },
    {
     "name": "stderr",
     "output_type": "stream",
     "text": [
      " 94%|█████████▍| 2349/2487 [3:31:46<06:52,  2.99s/it]"
     ]
    },
    {
     "name": "stdout",
     "output_type": "stream",
     "text": [
      "\n",
      " GL_WS_MO_44056.nc\n",
      "GL_WS_MO_44056.nc does not have any of the variables ['VHM0', 'VAVH', 'WSPD']\n",
      "\n",
      " AR_TS_MO_Storvika-45-110.nc\n",
      "AR_TS_MO_Storvika-45-110.nc does not have any of the variables ['VHM0', 'VAVH', 'WSPD']\n",
      "\n",
      " GL_TS_MO_42084.nc\n",
      "POINT(-89.64900207519531 28.988000869750977)\n",
      "30  results found\n"
     ]
    },
    {
     "name": "stderr",
     "output_type": "stream",
     "text": [
      " 95%|█████████▍| 2353/2487 [3:31:52<04:49,  2.16s/it]"
     ]
    },
    {
     "name": "stdout",
     "output_type": "stream",
     "text": [
      "\n",
      " GL_TS_MO_31261.nc\n",
      "GL_TS_MO_31261.nc does not have any valid data for this timeperiod\n",
      "\n",
      " NO_TS_MO_Europlatform.nc\n",
      "NO_TS_MO_Europlatform.nc does not have any of the variables ['VHM0', 'VAVH', 'WSPD']\n",
      "\n",
      " GL_TS_MO_23015.nc\n"
     ]
    },
    {
     "name": "stderr",
     "output_type": "stream",
     "text": [
      " 95%|█████████▍| 2355/2487 [3:31:52<03:24,  1.55s/it]"
     ]
    },
    {
     "name": "stdout",
     "output_type": "stream",
     "text": [
      "GL_TS_MO_23015.nc does not have any valid data for this timeperiod\n",
      "\n",
      " GL_TS_MO_7401503.nc\n",
      "GL_TS_MO_7401503.nc does not have any of the variables ['VHM0', 'VAVH', 'WSPD']\n",
      "\n",
      " AR_TS_MO_BSO4.nc\n",
      "AR_TS_MO_BSO4.nc does not have any of the variables ['VHM0', 'VAVH', 'WSPD']\n",
      "\n",
      " GL_TS_MO_WEL420.nc\n"
     ]
    },
    {
     "name": "stderr",
     "output_type": "stream",
     "text": [
      " 95%|█████████▍| 2357/2487 [3:31:52<02:26,  1.13s/it]"
     ]
    },
    {
     "name": "stdout",
     "output_type": "stream",
     "text": [
      "GL_TS_MO_WEL420.nc does not have any valid data for this timeperiod\n",
      "\n",
      " NO_TS_MO_ZeebruggeDam.nc\n",
      "POINT(3.171999931335449 51.354000091552734)\n",
      "233  results found\n"
     ]
    },
    {
     "name": "stderr",
     "output_type": "stream",
     "text": [
      " 95%|█████████▍| 2359/2487 [3:32:06<05:53,  2.76s/it]"
     ]
    },
    {
     "name": "stdout",
     "output_type": "stream",
     "text": [
      "\n",
      " NO_TS_MO_Breezanddijkbuiten1.nc\n",
      "NO_TS_MO_Breezanddijkbuiten1.nc does not have any valid data for this timeperiod\n",
      "NO_TS_MO_Breezanddijkbuiten1.nc does not have any valid data for this timeperiod\n",
      "\n",
      " GL_TS_MO_46038.nc\n",
      "GL_TS_MO_46038.nc does not have any valid data for this timeperiod\n",
      "GL_TS_MO_46038.nc does not have any valid data for this timeperiod\n",
      "\n",
      " GL_TS_MO_Carnot.nc\n",
      "POINT(1.5677000284194946 50.740501403808594)\n",
      "174  results found\n"
     ]
    },
    {
     "name": "stderr",
     "output_type": "stream",
     "text": [
      " 95%|█████████▍| 2362/2487 [3:32:14<05:28,  2.63s/it]"
     ]
    },
    {
     "name": "stdout",
     "output_type": "stream",
     "text": [
      "\n",
      " GL_TS_MO_IF000584.nc\n",
      "GL_TS_MO_IF000584.nc does not have any of the variables ['VHM0', 'VAVH', 'WSPD']\n",
      "\n",
      " GL_TS_MO_MEDS029.nc\n",
      "GL_TS_MO_MEDS029.nc does not have any valid data for this timeperiod\n",
      "\n",
      " GL_TS_MO_4400150.nc\n"
     ]
    },
    {
     "name": "stderr",
     "output_type": "stream",
     "text": [
      " 95%|█████████▌| 2364/2487 [3:32:14<03:37,  1.77s/it]"
     ]
    },
    {
     "name": "stdout",
     "output_type": "stream",
     "text": [
      "GL_TS_MO_4400150.nc does not have any valid data for this timeperiod\n",
      "\n",
      " GL_TS_MO_62309.nc\n",
      "GL_TS_MO_62309.nc does not have any of the variables ['VHM0', 'VAVH', 'WSPD']\n",
      "\n",
      " GL_TS_MO_2200106.nc\n",
      "POINT(129.77999877929688 36.349998474121094)\n",
      "56  results found\n"
     ]
    },
    {
     "name": "stderr",
     "output_type": "stream",
     "text": [
      " 95%|█████████▌| 2368/2487 [3:32:22<03:14,  1.63s/it]"
     ]
    },
    {
     "name": "stdout",
     "output_type": "stream",
     "text": [
      "\n",
      " GL_WS_MO_41013.nc\n",
      "GL_WS_MO_41013.nc does not have any of the variables ['VHM0', 'VAVH', 'WSPD']\n",
      "\n",
      " GL_WS_MO_46235.nc\n",
      "GL_WS_MO_46235.nc does not have any of the variables ['VHM0', 'VAVH', 'WSPD']\n",
      "\n",
      " BS_TS_MO_WD3044B.nc\n"
     ]
    },
    {
     "name": "stderr",
     "output_type": "stream",
     "text": [
      " 95%|█████████▌| 2370/2487 [3:32:22<02:14,  1.15s/it]"
     ]
    },
    {
     "name": "stdout",
     "output_type": "stream",
     "text": [
      "BS_TS_MO_WD3044B.nc is too close to land\n",
      "\n",
      " GL_TS_MO_71238.nc\n",
      "GL_TS_MO_71238.nc does not have any of the variables ['VHM0', 'VAVH', 'WSPD']\n",
      "\n",
      " GL_TS_MO_5100838.nc\n",
      "GL_TS_MO_5100838.nc does not have any of the variables ['VHM0', 'VAVH', 'WSPD']\n",
      "\n",
      " GL_WS_MO_46071.nc\n"
     ]
    },
    {
     "name": "stderr",
     "output_type": "stream",
     "text": [
      " 95%|█████████▌| 2374/2487 [3:32:22<01:07,  1.68it/s]"
     ]
    },
    {
     "name": "stdout",
     "output_type": "stream",
     "text": [
      "GL_WS_MO_46071.nc does not have any of the variables ['VHM0', 'VAVH', 'WSPD']\n",
      "\n",
      " GL_TS_MO_46079.nc\n",
      "GL_TS_MO_46079.nc does not have any valid data for this timeperiod\n",
      "GL_TS_MO_46079.nc does not have any valid data for this timeperiod\n",
      "\n",
      " GL_WS_MO_45137.nc\n",
      "GL_WS_MO_45137.nc does not have any of the variables ['VHM0', 'VAVH', 'WSPD']\n",
      "\n",
      " GL_TS_MO_55045.nc\n",
      "POLYGON((153.14999389648438 -27.399999618530273,153.14999389648438 -26.829999923706055,153.25 -26.829999923706055,153.25 -27.399999618530273,153.14999389648438 -27.399999618530273))\n",
      "60  results found\n"
     ]
    },
    {
     "name": "stderr",
     "output_type": "stream",
     "text": [
      " 96%|█████████▌| 2376/2487 [3:32:33<03:59,  2.15s/it]"
     ]
    },
    {
     "name": "stdout",
     "output_type": "stream",
     "text": [
      "\n",
      " GL_TS_MO_45208.nc\n",
      "GL_TS_MO_45208.nc does not have any valid data for this timeperiod\n",
      "GL_TS_MO_45208.nc does not have any valid data for this timeperiod\n",
      "\n",
      " GL_TS_MO_46264.nc\n",
      "POINT(-151.69500732421875 57.479000091552734)\n",
      "53  results found\n"
     ]
    },
    {
     "name": "stderr",
     "output_type": "stream",
     "text": [
      " 96%|█████████▌| 2379/2487 [3:32:45<04:33,  2.53s/it]"
     ]
    },
    {
     "name": "stdout",
     "output_type": "stream",
     "text": [
      "\n",
      " GL_WS_MO_32012.nc\n",
      "GL_WS_MO_32012.nc does not have any of the variables ['VHM0', 'VAVH', 'WSPD']\n",
      "\n",
      " GL_TS_MO_WEL404.nc\n",
      "GL_TS_MO_WEL404.nc does not have any valid data for this timeperiod\n",
      "\n",
      " GL_WS_MO_46086.nc\n"
     ]
    },
    {
     "name": "stderr",
     "output_type": "stream",
     "text": [
      " 96%|█████████▌| 2381/2487 [3:32:45<03:04,  1.74s/it]"
     ]
    },
    {
     "name": "stdout",
     "output_type": "stream",
     "text": [
      "GL_WS_MO_46086.nc does not have any of the variables ['VHM0', 'VAVH', 'WSPD']\n",
      "\n",
      " GL_TS_MO_3100010.nc\n",
      "GL_TS_MO_3100010.nc does not have any valid data for this timeperiod\n",
      "\n",
      " GL_TS_MO_51028.nc\n"
     ]
    },
    {
     "name": "stderr",
     "output_type": "stream",
     "text": [
      " 96%|█████████▌| 2383/2487 [3:32:45<02:06,  1.22s/it]"
     ]
    },
    {
     "name": "stdout",
     "output_type": "stream",
     "text": [
      "GL_TS_MO_51028.nc does not have any valid data for this timeperiod\n",
      "GL_TS_MO_51028.nc does not have any valid data for this timeperiod\n",
      "\n",
      " GL_WS_MO_46268.nc\n",
      "GL_WS_MO_46268.nc does not have any of the variables ['VHM0', 'VAVH', 'WSPD']\n",
      "\n",
      " GL_TS_MO_EXIN0003.nc\n"
     ]
    },
    {
     "name": "stderr",
     "output_type": "stream",
     "text": [
      " 96%|█████████▌| 2385/2487 [3:32:46<01:30,  1.12it/s]"
     ]
    },
    {
     "name": "stdout",
     "output_type": "stream",
     "text": [
      "GL_TS_MO_EXIN0003.nc is too close to land\n",
      "\n",
      " GL_TS_MO_WEL430.nc\n",
      "GL_TS_MO_WEL430.nc does not have any valid data for this timeperiod\n",
      "\n",
      " NO_TS_MO_J61.nc\n",
      "POINT(2.950000047683716 53.81663131713867)\n",
      "216  results found\n"
     ]
    },
    {
     "name": "stderr",
     "output_type": "stream",
     "text": [
      " 96%|█████████▌| 2386/2487 [3:33:04<07:01,  4.17s/it]"
     ]
    },
    {
     "name": "stdout",
     "output_type": "stream",
     "text": [
      "\n",
      " GL_TS_MO_42022.nc\n",
      "POINT(-83.74099731445312 27.5049991607666)\n"
     ]
    },
    {
     "name": "stderr",
     "output_type": "stream",
     "text": [
      " 96%|█████████▌| 2387/2487 [3:33:12<07:59,  4.79s/it]"
     ]
    },
    {
     "name": "stdout",
     "output_type": "stream",
     "text": [
      "28  results found\n",
      "\n",
      " GL_WS_MO_51205.nc\n"
     ]
    },
    {
     "name": "stderr",
     "output_type": "stream",
     "text": [
      " 96%|█████████▌| 2389/2487 [3:33:12<04:58,  3.05s/it]"
     ]
    },
    {
     "name": "stdout",
     "output_type": "stream",
     "text": [
      "GL_WS_MO_51205.nc does not have any of the variables ['VHM0', 'VAVH', 'WSPD']\n",
      "\n",
      " GL_TS_MO_31374.nc\n",
      "GL_TS_MO_31374.nc does not have any valid data for this timeperiod\n",
      "\n",
      " NO_TS_MO_6200114.nc\n",
      "POINT(0.0 58.29999923706055)\n",
      "234  results found\n"
     ]
    },
    {
     "name": "stderr",
     "output_type": "stream",
     "text": [
      " 96%|█████████▌| 2392/2487 [3:33:27<05:37,  3.55s/it]"
     ]
    },
    {
     "name": "stdout",
     "output_type": "stream",
     "text": [
      "\n",
      " GL_TS_MO_46037.nc\n",
      "GL_TS_MO_46037.nc does not have any valid data for this timeperiod\n",
      "\n",
      " GL_WS_MO_46214.nc\n",
      "GL_WS_MO_46214.nc does not have any of the variables ['VHM0', 'VAVH', 'WSPD']\n",
      "\n",
      " GL_TS_MO_44024.nc\n",
      "POINT(-65.90899658203125 42.32500076293945)\n",
      "64  results found\n"
     ]
    },
    {
     "name": "stderr",
     "output_type": "stream",
     "text": [
      " 96%|█████████▋| 2394/2487 [3:33:34<05:23,  3.48s/it]"
     ]
    },
    {
     "name": "stdout",
     "output_type": "stream",
     "text": [
      "\n",
      " GL_TS_MO_44096.nc\n",
      "GL_TS_MO_44096.nc does not have any valid data for this timeperiod\n",
      "\n",
      " GL_WS_MO_44089.nc\n",
      "GL_WS_MO_44089.nc does not have any of the variables ['VHM0', 'VAVH', 'WSPD']\n",
      "\n",
      " NO_TS_MO_Amelander32.nc\n"
     ]
    },
    {
     "name": "stderr",
     "output_type": "stream",
     "text": [
      " 96%|█████████▋| 2396/2487 [3:33:34<03:33,  2.34s/it]"
     ]
    },
    {
     "name": "stdout",
     "output_type": "stream",
     "text": [
      "NO_TS_MO_Amelander32.nc does not have any valid data for this timeperiod\n",
      "NO_TS_MO_Amelander32.nc does not have any valid data for this timeperiod\n",
      "\n",
      " BO_TS_MO_KemionsaariKalvoren.nc\n",
      "BO_TS_MO_KemionsaariKalvoren.nc does not have any of the variables ['VHM0', 'VAVH', 'WSPD']\n",
      "\n",
      " IR_TS_MO_6200083.nc\n",
      "POLYGON((-9.207799911499023 43.5,-9.207799911499023 43.49319839477539,-9.213299751281738 43.49319839477539,-9.213299751281738 43.5,-9.207799911499023 43.5))\n",
      "232  results found\n"
     ]
    },
    {
     "name": "stderr",
     "output_type": "stream",
     "text": [
      " 97%|█████████▋| 2400/2487 [3:36:33<30:06, 20.77s/it]"
     ]
    },
    {
     "name": "stdout",
     "output_type": "stream",
     "text": [
      "\n",
      " IR_WS_MO_6100197.nc\n",
      "IR_WS_MO_6100197.nc does not have any of the variables ['VHM0', 'VAVH', 'WSPD']\n",
      "\n",
      " GL_TS_MO_MEDS184.nc\n",
      "GL_TS_MO_MEDS184.nc does not have any valid data for this timeperiod\n",
      "\n",
      " GL_TS_MO_IF000601.nc\n"
     ]
    },
    {
     "name": "stderr",
     "output_type": "stream",
     "text": [
      " 97%|█████████▋| 2402/2487 [3:36:33<20:19, 14.35s/it]"
     ]
    },
    {
     "name": "stdout",
     "output_type": "stream",
     "text": [
      "GL_TS_MO_IF000601.nc does not have any of the variables ['VHM0', 'VAVH', 'WSPD']\n",
      "\n",
      " BO_TS_MO_Utklippan.nc\n",
      "BO_TS_MO_Utklippan.nc does not have any valid data for this timeperiod\n",
      "\n",
      " GL_TS_MO_53960.nc\n",
      "GL_TS_MO_53960.nc does not have any of the variables ['VHM0', 'VAVH', 'WSPD']\n",
      "\n",
      " BO_TS_MO_KalajokiMaakalla.nc\n",
      "BO_TS_MO_KalajokiMaakalla.nc does not have any of the variables ['VHM0', 'VAVH', 'WSPD']\n",
      "\n",
      " GL_TS_MO_5601595.nc\n",
      "GL_TS_MO_5601595.nc does not have any of the variables ['VHM0', 'VAVH', 'WSPD']\n",
      "\n",
      " BS_TS_MO_VarnaBuoySURF.nc\n"
     ]
    },
    {
     "name": "stderr",
     "output_type": "stream",
     "text": [
      "/home/sarssw/miniconda3/envs/master/lib/python3.10/site-packages/xarray/core/indexes.py:205: FutureWarning: Value based partial slicing on non-monotonic DatetimeIndexes with non-existing keys is deprecated and will raise a KeyError in a future Version.\n",
      "  indexer = index.slice_indexer(\n",
      " 97%|█████████▋| 2406/2487 [3:36:33<10:17,  7.63s/it]"
     ]
    },
    {
     "name": "stdout",
     "output_type": "stream",
     "text": [
      "BS_TS_MO_VarnaBuoySURF.nc : data extraction failed with: \"cannot represent labeled-based slice indexer for coordinate 'TIME' with a slice over integer positions; the index is unsorted or non-unique\"\n",
      "BS_TS_MO_VarnaBuoySURF.nc : data extraction failed with: \"cannot represent labeled-based slice indexer for coordinate 'TIME' with a slice over integer positions; the index is unsorted or non-unique\"\n",
      "\n",
      " AR_TS_MO_Vik-23-87.nc\n",
      "AR_TS_MO_Vik-23-87.nc does not have any of the variables ['VHM0', 'VAVH', 'WSPD']\n",
      "\n",
      " BS_TS_MO_UGSB.nc\n",
      "POINT(41.599998474121094 41.63330078125)\n",
      "173  results found\n"
     ]
    },
    {
     "name": "stderr",
     "output_type": "stream",
     "text": [
      " 97%|█████████▋| 2408/2487 [3:36:43<09:15,  7.03s/it]"
     ]
    },
    {
     "name": "stdout",
     "output_type": "stream",
     "text": [
      "\n",
      " GL_WS_MO_45006.nc\n",
      "GL_WS_MO_45006.nc does not have any of the variables ['VHM0', 'VAVH', 'WSPD']\n",
      "\n",
      " GL_TS_MO_1500009.nc\n",
      "POLYGON((-2.6679999828338623 -0.01899999938905239,-2.6679999828338623 0.01600000075995922,-2.709019899368286 0.01600000075995922,-2.709019899368286 -0.01899999938905239,-2.6679999828338623 -0.01899999938905239))\n"
     ]
    },
    {
     "name": "stderr",
     "output_type": "stream",
     "text": [
      " 97%|█████████▋| 2410/2487 [3:36:48<07:23,  5.76s/it]"
     ]
    },
    {
     "name": "stdout",
     "output_type": "stream",
     "text": [
      "0  results found\n",
      "\n",
      " GL_TS_MO_44098.nc\n",
      "POINT(-70.1709976196289 42.79999923706055)\n",
      "57  results found\n"
     ]
    },
    {
     "name": "stderr",
     "output_type": "stream",
     "text": [
      " 97%|█████████▋| 2412/2487 [3:36:56<06:36,  5.28s/it]"
     ]
    },
    {
     "name": "stdout",
     "output_type": "stream",
     "text": [
      "\n",
      " GL_WS_MO_46114.nc\n",
      "GL_WS_MO_46114.nc does not have any of the variables ['VHM0', 'VAVH', 'WSPD']\n",
      "\n",
      " GL_TS_MO_42026.nc\n",
      "POINT(-83.4749984741211 25.17099952697754)\n"
     ]
    },
    {
     "name": "stderr",
     "output_type": "stream",
     "text": [
      " 97%|█████████▋| 2413/2487 [3:37:02<06:42,  5.43s/it]"
     ]
    },
    {
     "name": "stdout",
     "output_type": "stream",
     "text": [
      "28  results found\n",
      "\n",
      " GL_WS_MO_46088.nc\n"
     ]
    },
    {
     "name": "stderr",
     "output_type": "stream",
     "text": [
      " 97%|█████████▋| 2415/2487 [3:37:02<04:28,  3.73s/it]"
     ]
    },
    {
     "name": "stdout",
     "output_type": "stream",
     "text": [
      "GL_WS_MO_46088.nc does not have any of the variables ['VHM0', 'VAVH', 'WSPD']\n",
      "\n",
      " AR_TS_MO_BeringStrait-A4.nc\n",
      "AR_TS_MO_BeringStrait-A4.nc does not have any of the variables ['VHM0', 'VAVH', 'WSPD']\n",
      "\n",
      " BO_TS_MO_Kalkgrundet.nc\n",
      "BO_TS_MO_Kalkgrundet.nc does not have any valid data for this timeperiod\n",
      "\n",
      " GL_TS_MO_55017.nc\n",
      "POLYGON((153.47000122070312 -29.1200008392334,153.47000122070312 -28.8700008392334,153.6999969482422 -28.8700008392334,153.6999969482422 -29.1200008392334,153.47000122070312 -29.1200008392334))\n",
      "30  results found\n"
     ]
    },
    {
     "name": "stderr",
     "output_type": "stream",
     "text": [
      " 97%|█████████▋| 2417/2487 [3:37:16<05:31,  4.74s/it]"
     ]
    },
    {
     "name": "stdout",
     "output_type": "stream",
     "text": [
      "\n",
      " NO_TS_MO_6201584.nc\n",
      "NO_TS_MO_6201584.nc does not have any of the variables ['VHM0', 'VAVH', 'WSPD']\n",
      "\n",
      " GL_WS_MO_46027.nc\n"
     ]
    },
    {
     "name": "stderr",
     "output_type": "stream",
     "text": [
      " 97%|█████████▋| 2419/2487 [3:37:17<03:45,  3.31s/it]"
     ]
    },
    {
     "name": "stdout",
     "output_type": "stream",
     "text": [
      "GL_WS_MO_46027.nc does not have any of the variables ['VHM0', 'VAVH', 'WSPD']\n",
      "\n",
      " GL_TS_MO_42019.nc\n",
      "POINT(-95.34500122070312 27.90999984741211)\n",
      "30  results found\n"
     ]
    },
    {
     "name": "stderr",
     "output_type": "stream",
     "text": [
      " 97%|█████████▋| 2420/2487 [3:37:25<04:39,  4.18s/it]"
     ]
    },
    {
     "name": "stdout",
     "output_type": "stream",
     "text": [
      "\n",
      " MO_TS_MO_KOPER.nc\n",
      "MO_TS_MO_KOPER.nc does not have any valid data for this timeperiod\n",
      "\n",
      " GL_TS_MO_6202402.nc\n",
      "POINT(-25.721330642700195 37.72549819946289)\n",
      "241  results found\n"
     ]
    },
    {
     "name": "stderr",
     "output_type": "stream",
     "text": [
      " 97%|█████████▋| 2424/2487 [3:37:41<03:57,  3.77s/it]"
     ]
    },
    {
     "name": "stdout",
     "output_type": "stream",
     "text": [
      "\n",
      " AR_TS_MO_Osebakkenstranda-7-60.nc\n",
      "AR_TS_MO_Osebakkenstranda-7-60.nc does not have any of the variables ['VHM0', 'VAVH', 'WSPD']\n",
      "\n",
      " GL_TS_MO_LedgePoint.nc\n",
      "GL_TS_MO_LedgePoint.nc does not have any valid data for this timeperiod\n",
      "\n",
      " GL_TS_MO_IF000611.nc\n",
      "GL_TS_MO_IF000611.nc does not have any of the variables ['VHM0', 'VAVH', 'WSPD']\n",
      "\n",
      " GL_TS_MO_T5S95W.nc\n",
      "POINT(-95.0 -5.0)\n"
     ]
    },
    {
     "name": "stderr",
     "output_type": "stream",
     "text": [
      " 98%|█████████▊| 2426/2487 [3:37:50<04:04,  4.01s/it]"
     ]
    },
    {
     "name": "stdout",
     "output_type": "stream",
     "text": [
      "0  results found\n",
      "\n",
      " IR_TS_MO_Tarragona-coast-buoy.nc\n",
      "POLYGON((1.190000057220459 41.06999969482422,1.190000057220459 41.071998596191406,1.194100022315979 41.071998596191406,1.194100022315979 41.06999969482422,1.190000057220459 41.06999969482422))\n",
      "179  results found\n"
     ]
    },
    {
     "name": "stderr",
     "output_type": "stream",
     "text": [
      " 98%|█████████▊| 2427/2487 [3:40:14<29:53, 29.89s/it]"
     ]
    },
    {
     "name": "stdout",
     "output_type": "stream",
     "text": [
      "\n",
      " GL_TS_MO_MEDS317.nc\n",
      "GL_TS_MO_MEDS317.nc does not have any valid data for this timeperiod\n",
      "\n",
      " GL_TS_MO_52079.nc\n"
     ]
    },
    {
     "name": "stderr",
     "output_type": "stream",
     "text": [
      " 98%|█████████▊| 2429/2487 [3:40:14<18:56, 19.59s/it]"
     ]
    },
    {
     "name": "stdout",
     "output_type": "stream",
     "text": [
      "GL_TS_MO_52079.nc does not have any valid data for this timeperiod\n",
      "\n",
      " IR_TS_MO_6100430.nc\n",
      "POLYGON((2.0880000591278076 39.57619857788086,2.0880000591278076 39.55860137939453,2.0971999168395996 39.55860137939453,2.0971999168395996 39.57619857788086,2.0880000591278076 39.57619857788086))\n",
      "238  results found\n"
     ]
    },
    {
     "name": "stderr",
     "output_type": "stream",
     "text": [
      " 98%|█████████▊| 2432/2487 [3:42:42<26:23, 28.80s/it]"
     ]
    },
    {
     "name": "stdout",
     "output_type": "stream",
     "text": [
      "\n",
      " GL_TS_MO_Esperance02.nc\n",
      "GL_TS_MO_Esperance02.nc does not have any valid data for this timeperiod\n",
      "\n",
      " BO_TS_MO_L9BS.nc\n",
      "BO_TS_MO_L9BS.nc does not have any of the variables ['VHM0', 'VAVH', 'WSPD']\n",
      "\n",
      " NO_TS_MO_Breesem1.nc\n",
      "NO_TS_MO_Breesem1.nc does not have any valid data for this timeperiod\n",
      "NO_TS_MO_Breesem1.nc does not have any valid data for this timeperiod\n",
      "\n",
      " GL_TS_MO_MEDS185.nc\n",
      "GL_TS_MO_MEDS185.nc does not have any valid data for this timeperiod\n",
      "\n",
      " GL_TS_MO_46089.nc\n",
      "POLYGON((-125.81900024414062 45.9370002746582,-125.81900024414062 45.893001556396484,-125.78500366210938 45.893001556396484,-125.78500366210938 45.9370002746582,-125.81900024414062 45.9370002746582))\n",
      "116  results found\n"
     ]
    },
    {
     "name": "stderr",
     "output_type": "stream",
     "text": [
      " 98%|█████████▊| 2437/2487 [3:45:41<24:49, 29.80s/it]"
     ]
    },
    {
     "name": "stdout",
     "output_type": "stream",
     "text": [
      "\n",
      " BS_TS_MO_17390.nc\n",
      "BS_TS_MO_17390.nc does not have any valid data for this timeperiod\n",
      "\n",
      " GL_WS_MO_6200079.nc\n",
      "GL_WS_MO_6200079.nc does not have any of the variables ['VHM0', 'VAVH', 'WSPD']\n",
      "\n",
      " GL_TS_MO_45136.nc\n"
     ]
    },
    {
     "name": "stderr",
     "output_type": "stream",
     "text": [
      " 98%|█████████▊| 2438/2487 [3:45:41<20:09, 24.68s/it]"
     ]
    },
    {
     "name": "stdout",
     "output_type": "stream",
     "text": [
      "GL_TS_MO_45136.nc does not have any valid data for this timeperiod\n",
      "GL_TS_MO_45136.nc is too close to land\n",
      "\n",
      " GL_TS_MO_44054.nc\n",
      "GL_TS_MO_44054.nc does not have any valid data for this timeperiod\n",
      "\n",
      " GL_TS_MO_52201.nc\n",
      "POINT(171.39199829101562 7.083000183105469)\n"
     ]
    },
    {
     "name": "stderr",
     "output_type": "stream",
     "text": [
      " 98%|█████████▊| 2440/2487 [3:45:46<13:32, 17.29s/it]"
     ]
    },
    {
     "name": "stdout",
     "output_type": "stream",
     "text": [
      "0  results found\n",
      "\n",
      " MO_TS_MO_SALINES.nc\n",
      "MO_TS_MO_SALINES.nc does not have any valid data for this timeperiod\n",
      "\n",
      " NO_TS_MO_LTKielWR.nc\n",
      "POINT(10.266667366027832 54.5)\n",
      "231  results found\n"
     ]
    },
    {
     "name": "stderr",
     "output_type": "stream",
     "text": [
      " 98%|█████████▊| 2443/2487 [3:45:58<08:09, 11.12s/it]"
     ]
    },
    {
     "name": "stdout",
     "output_type": "stream",
     "text": [
      "\n",
      " GL_WS_MO_44013.nc\n",
      "GL_WS_MO_44013.nc does not have any of the variables ['VHM0', 'VAVH', 'WSPD']\n",
      "\n",
      " IR_WS_MO_6100281.nc\n",
      "IR_WS_MO_6100281.nc does not have any of the variables ['VHM0', 'VAVH', 'WSPD']\n",
      "\n",
      " NO_TS_MO_Bath.nc\n"
     ]
    },
    {
     "name": "stderr",
     "output_type": "stream",
     "text": [
      " 98%|█████████▊| 2445/2487 [3:45:58<05:06,  7.30s/it]"
     ]
    },
    {
     "name": "stdout",
     "output_type": "stream",
     "text": [
      "NO_TS_MO_Bath.nc is too close to land\n",
      "\n",
      " GL_TS_MO_42091.nc\n",
      "POINT(-92.50599670410156 29.086999893188477)\n",
      "59  results found\n"
     ]
    },
    {
     "name": "stderr",
     "output_type": "stream",
     "text": [
      " 98%|█████████▊| 2446/2487 [3:46:05<04:58,  7.28s/it]"
     ]
    },
    {
     "name": "stdout",
     "output_type": "stream",
     "text": [
      "\n",
      " IR_WS_MO_1300130.nc\n",
      "IR_WS_MO_1300130.nc does not have any of the variables ['VHM0', 'VAVH', 'WSPD']\n",
      "\n",
      " BS_TS_MO_WAVEB05.nc\n",
      "POINT(27.906700134277344 42.6963996887207)\n",
      "177  results found\n"
     ]
    },
    {
     "name": "stderr",
     "output_type": "stream",
     "text": [
      " 98%|█████████▊| 2448/2487 [3:46:18<04:28,  6.88s/it]"
     ]
    },
    {
     "name": "stdout",
     "output_type": "stream",
     "text": [
      "\n",
      " GL_WS_MO_46183.nc\n",
      "GL_WS_MO_46183.nc does not have any of the variables ['VHM0', 'VAVH', 'WSPD']\n",
      "\n",
      " IR_WS_MO_6100280.nc\n",
      "IR_WS_MO_6100280.nc does not have any of the variables ['VHM0', 'VAVH', 'WSPD']\n"
     ]
    },
    {
     "name": "stderr",
     "output_type": "stream",
     "text": [
      " 99%|█████████▊| 2452/2487 [3:46:18<01:48,  3.10s/it]"
     ]
    },
    {
     "name": "stdout",
     "output_type": "stream",
     "text": [
      "\n",
      " AR_TS_MO_Volsdalsberga-55-128.nc\n",
      "AR_TS_MO_Volsdalsberga-55-128.nc does not have any of the variables ['VHM0', 'VAVH', 'WSPD']\n",
      "\n",
      " GL_TS_MO_Dawesville03.nc\n",
      "GL_TS_MO_Dawesville03.nc does not have any valid data for this timeperiod\n",
      "\n",
      " GL_TS_MO_44035.nc\n"
     ]
    },
    {
     "name": "stderr",
     "output_type": "stream",
     "text": [
      " 99%|█████████▊| 2454/2487 [3:46:18<01:10,  2.14s/it]"
     ]
    },
    {
     "name": "stdout",
     "output_type": "stream",
     "text": [
      "GL_TS_MO_44035.nc does not have any valid data for this timeperiod\n",
      "GL_TS_MO_44035.nc does not have any valid data for this timeperiod\n",
      "\n",
      " GL_TS_MO_45205.nc\n",
      "GL_TS_MO_45205.nc does not have any valid data for this timeperiod\n",
      "GL_TS_MO_45205.nc does not have any valid data for this timeperiod\n",
      "\n",
      " GL_WS_MO_46205.nc\n",
      "GL_WS_MO_46205.nc does not have any of the variables ['VHM0', 'VAVH', 'WSPD']\n",
      "\n",
      " GL_TS_MO_MEDS159.nc\n",
      "GL_TS_MO_MEDS159.nc does not have any valid data for this timeperiod\n",
      "\n",
      " NO_TS_MO_BuoyBunkerHill1.nc\n"
     ]
    },
    {
     "name": "stderr",
     "output_type": "stream",
     "text": [
      " 99%|█████████▉| 2459/2487 [3:46:19<00:26,  1.06it/s]"
     ]
    },
    {
     "name": "stdout",
     "output_type": "stream",
     "text": [
      "NO_TS_MO_BuoyBunkerHill1.nc does not have any valid data for this timeperiod\n",
      "\n",
      " GL_TS_MO_42887.nc\n",
      "GL_TS_MO_42887.nc does not have any valid data for this timeperiod\n",
      "GL_TS_MO_42887.nc does not have any valid data for this timeperiod\n",
      "\n",
      " GL_TS_MO_6801030.nc\n",
      "GL_TS_MO_6801030.nc does not have any of the variables ['VHM0', 'VAVH', 'WSPD']\n",
      "\n",
      " GL_TS_MO_45008.nc\n",
      "GL_TS_MO_45008.nc is too close to land\n",
      "\n",
      " IR_TS_MO_LasPalmas-coast-buoy.nc\n",
      "POLYGON((-15.397500038146973 28.049999237060547,-15.397500038146973 28.0531005859375,-15.390000343322754 28.0531005859375,-15.390000343322754 28.049999237060547,-15.397500038146973 28.049999237060547))\n",
      "177  results found\n"
     ]
    },
    {
     "name": "stderr",
     "output_type": "stream",
     "text": [
      " 99%|█████████▉| 2463/2487 [3:48:22<05:10, 12.95s/it]"
     ]
    },
    {
     "name": "stdout",
     "output_type": "stream",
     "text": [
      "\n",
      " GL_TS_MO_23455.nc\n",
      "GL_TS_MO_23455.nc does not have any valid data for this timeperiod\n",
      "\n",
      " GL_WS_MO_42091.nc\n",
      "GL_WS_MO_42091.nc does not have any of the variables ['VHM0', 'VAVH', 'WSPD']\n",
      "\n",
      " GL_TS_MO_44068.nc\n",
      "GL_TS_MO_44068.nc does not have any valid data for this timeperiod\n",
      "\n",
      " NO_TS_MO_HelgolandRM.nc\n"
     ]
    },
    {
     "name": "stderr",
     "output_type": "stream",
     "text": [
      " 99%|█████████▉| 2467/2487 [3:48:22<02:09,  6.49s/it]"
     ]
    },
    {
     "name": "stdout",
     "output_type": "stream",
     "text": [
      "NO_TS_MO_HelgolandRM.nc does not have any of the variables ['VHM0', 'VAVH', 'WSPD']\n",
      "\n",
      " GL_TS_MO_4701716.nc\n",
      "GL_TS_MO_4701716.nc does not have any of the variables ['VHM0', 'VAVH', 'WSPD']\n",
      "\n",
      " GL_WS_MO_42019.nc\n",
      "GL_WS_MO_42019.nc does not have any of the variables ['VHM0', 'VAVH', 'WSPD']\n",
      "\n",
      " GL_TS_MO_52202.nc\n",
      "POINT(144.80599975585938 13.682000160217285)\n",
      "10  results found\n",
      "\n",
      " GL_TS_MO_2200297.nc\n",
      "POINT(125.20999908447266 34.029998779296875)\n"
     ]
    },
    {
     "name": "stderr",
     "output_type": "stream",
     "text": [
      " 99%|█████████▉| 2469/2487 [3:48:51<02:39,  8.86s/it]"
     ]
    },
    {
     "name": "stdout",
     "output_type": "stream",
     "text": [
      "1  results found\n",
      "\n",
      " GL_TS_MO_DYFAMED.nc\n"
     ]
    },
    {
     "name": "stderr",
     "output_type": "stream",
     "text": [
      " 99%|█████████▉| 2470/2487 [3:48:51<02:04,  7.34s/it]"
     ]
    },
    {
     "name": "stdout",
     "output_type": "stream",
     "text": [
      "GL_TS_MO_DYFAMED.nc does not have any valid data for this timeperiod\n",
      "\n",
      " NO_TS_MO_LichteilandGoeree1.nc\n",
      "POINT(3.669722080230713 51.92583465576172)\n",
      "176  results found\n"
     ]
    },
    {
     "name": "stderr",
     "output_type": "stream",
     "text": [
      " 99%|█████████▉| 2472/2487 [3:49:07<01:52,  7.49s/it]"
     ]
    },
    {
     "name": "stdout",
     "output_type": "stream",
     "text": [
      "\n",
      " MO_TS_MO_OOCS.nc\n",
      "MO_TS_MO_OOCS.nc does not have any valid data for this timeperiod\n",
      "\n",
      " GL_TS_MO_MEDS281.nc\n",
      "GL_TS_MO_MEDS281.nc does not have any valid data for this timeperiod\n",
      "\n",
      " NO_TS_MO_Amelander31.nc\n"
     ]
    },
    {
     "name": "stderr",
     "output_type": "stream",
     "text": [
      "100%|█████████▉| 2476/2487 [3:49:07<00:38,  3.52s/it]"
     ]
    },
    {
     "name": "stdout",
     "output_type": "stream",
     "text": [
      "NO_TS_MO_Amelander31.nc does not have any valid data for this timeperiod\n",
      "NO_TS_MO_Amelander31.nc does not have any valid data for this timeperiod\n",
      "\n",
      " GL_TS_MO_MEDS265.nc\n",
      "GL_TS_MO_MEDS265.nc does not have any valid data for this timeperiod\n",
      "\n",
      " GL_WS_MO_44018.nc\n",
      "GL_WS_MO_44018.nc does not have any of the variables ['VHM0', 'VAVH', 'WSPD']\n",
      "\n",
      " BO_TS_MO_HuvudskarOst.nc\n",
      "POLYGON((19.16670036315918 58.93330001831055,19.16670036315918 58.936100006103516,19.159099578857422 58.936100006103516,19.159099578857422 58.93330001831055,19.16670036315918 58.93330001831055))\n"
     ]
    },
    {
     "name": "stderr",
     "output_type": "stream",
     "text": [
      "100%|█████████▉| 2476/2487 [3:49:20<00:38,  3.52s/it]"
     ]
    },
    {
     "name": "stdout",
     "output_type": "stream",
     "text": [
      "264  results found\n"
     ]
    },
    {
     "name": "stderr",
     "output_type": "stream",
     "text": [
      "100%|█████████▉| 2477/2487 [3:50:33<03:06, 18.70s/it]"
     ]
    },
    {
     "name": "stdout",
     "output_type": "stream",
     "text": [
      "\n",
      " NO_TS_MO_Hansweert.nc\n"
     ]
    },
    {
     "name": "stderr",
     "output_type": "stream",
     "text": [
      "100%|█████████▉| 2478/2487 [3:50:33<02:13, 14.85s/it]"
     ]
    },
    {
     "name": "stdout",
     "output_type": "stream",
     "text": [
      "NO_TS_MO_Hansweert.nc is too close to land\n",
      "\n",
      " GL_TS_MO_Iroise.nc\n",
      "GL_TS_MO_Iroise.nc is too close to land\n",
      "\n",
      " GL_TS_MO_46224.nc\n",
      "POINT(-117.47200012207031 33.178001403808594)\n",
      "115  results found\n"
     ]
    },
    {
     "name": "stderr",
     "output_type": "stream",
     "text": [
      "100%|█████████▉| 2480/2487 [3:50:47<01:22, 11.81s/it]"
     ]
    },
    {
     "name": "stdout",
     "output_type": "stream",
     "text": [
      "\n",
      " GL_TS_MO_45204.nc\n",
      "GL_TS_MO_45204.nc does not have any valid data for this timeperiod\n",
      "GL_TS_MO_45204.nc does not have any valid data for this timeperiod\n",
      "\n",
      " GL_TS_MO_62077.nc\n"
     ]
    },
    {
     "name": "stderr",
     "output_type": "stream",
     "text": [
      "100%|█████████▉| 2482/2487 [3:50:47<00:38,  7.75s/it]"
     ]
    },
    {
     "name": "stdout",
     "output_type": "stream",
     "text": [
      "GL_TS_MO_62077.nc does not have any valid data for this timeperiod\n",
      "GL_TS_MO_62077.nc does not have any valid data for this timeperiod\n",
      "\n",
      " GL_TS_MO_52073.nc\n"
     ]
    },
    {
     "name": "stderr",
     "output_type": "stream",
     "text": [
      "100%|█████████▉| 2484/2487 [3:50:47<00:15,  5.22s/it]"
     ]
    },
    {
     "name": "stdout",
     "output_type": "stream",
     "text": [
      "GL_TS_MO_52073.nc does not have any valid data for this timeperiod\n",
      "\n",
      " GL_TS_MO_MEDS190.nc\n",
      "GL_TS_MO_MEDS190.nc does not have any valid data for this timeperiod\n",
      "\n",
      " GL_WS_MO_44097.nc\n",
      "GL_WS_MO_44097.nc does not have any of the variables ['VHM0', 'VAVH', 'WSPD']\n",
      "\n",
      " GL_TS_MO_45168.nc\n"
     ]
    },
    {
     "name": "stderr",
     "output_type": "stream",
     "text": [
      "100%|█████████▉| 2486/2487 [3:50:47<00:03,  3.58s/it]"
     ]
    },
    {
     "name": "stdout",
     "output_type": "stream",
     "text": [
      "GL_TS_MO_45168.nc is too close to land\n",
      "\n",
      " GL_TS_MO_41025.nc\n",
      "POLYGON((-75.4540023803711 35.025001525878906,-75.4540023803711 35.0099983215332,-75.36299896240234 35.0099983215332,-75.36299896240234 35.025001525878906,-75.4540023803711 35.025001525878906))\n",
      "57  results found\n"
     ]
    },
    {
     "name": "stderr",
     "output_type": "stream",
     "text": [
      "100%|██████████| 2487/2487 [3:52:31<00:00,  5.61s/it]\n"
     ]
    }
   ],
   "source": [
    "data_dir = '/data/exjobb/sarssw/bouy/INSITU_GLO_PHYBGCWAV_DISCRETE_MYNRT_013_030/MO'\n",
    "start_date = '2021-01-01'\n",
    "end_date = '2021-12-31'\n",
    "variables_deph = {'VHM0':0, 'VAVH':0, 'WSPD':(-30,0)}#['VHM0', 'VAVH', 'WSPD']\n",
    "max_time_diff_s = 60*60\n",
    "\n",
    "write_folder = './1h_survey'\n",
    "result_df_fn = 'result_df'\n",
    "kml_pinmap_fn = 'kml_pinmap'\n",
    "\n",
    "#Dataframe where the results is saved, automatically created in search_file\n",
    "result_df = None\n",
    "\n",
    "#Load and create land multipolygon, buffered (expanded) to limit distance to shore\n",
    "land_list = list(cartopy.feature.NaturalEarthFeature('physical', 'land', '50m').geometries())\n",
    "polygon_list = []\n",
    "for p  in land_list:\n",
    "    if type(p) == MultiPolygon:\n",
    "        polygon_list.extend(p.geoms)\n",
    "    else:\n",
    "        polygon_list.append(p)\n",
    "land_multipolygon = MultiPolygon([p.buffer(0.01) for p in polygon_list])\n",
    "\n",
    "# Create search_file function with only necessary parameters for the file loop below\n",
    "def search_file_fixed_params(file, result_df):\n",
    "    return search_file(file, data_dir, start_date, end_date, variables_deph, max_time_diff_s, land_multipolygon, result_df)\n",
    "\n",
    "files = set(os.listdir(data_dir))\n",
    "\n",
    "file_filter = [\n",
    "    'GL_TS_MO_41121.nc', #Flips longitude sign in the middle of the data, from 66 to -66???! resutlts in asf search with over 7000 matches.\n",
    "]\n",
    "files = set(files).difference(file_filter)\n",
    "\n",
    "for file in tqdm(list(files)):\n",
    "    print('\\n',file)\n",
    "    result_df = search_file_fixed_params(file, result_df)"
   ]
  },
  {
   "cell_type": "code",
   "execution_count": 7,
   "id": "3afb8bd7",
   "metadata": {
    "collapsed": true
   },
   "outputs": [
    {
     "data": {
      "text/html": [
       "<div>\n",
       "<style scoped>\n",
       "    .dataframe tbody tr th:only-of-type {\n",
       "        vertical-align: middle;\n",
       "    }\n",
       "\n",
       "    .dataframe tbody tr th {\n",
       "        vertical-align: top;\n",
       "    }\n",
       "\n",
       "    .dataframe thead th {\n",
       "        text-align: right;\n",
       "    }\n",
       "</style>\n",
       "<table border=\"1\" class=\"dataframe\">\n",
       "  <thead>\n",
       "    <tr style=\"text-align: right;\">\n",
       "      <th></th>\n",
       "      <th>bouy_file_name</th>\n",
       "      <th>bouy_longitude</th>\n",
       "      <th>bouy_latitude</th>\n",
       "      <th>bouy_time</th>\n",
       "      <th>bouy_depth_index</th>\n",
       "      <th>bouy_depth</th>\n",
       "      <th>bouy_variable_name</th>\n",
       "      <th>bouy_variable_value</th>\n",
       "      <th>sar_url</th>\n",
       "      <th>sar_mode</th>\n",
       "      <th>sar_polarization</th>\n",
       "      <th>sar_platform</th>\n",
       "      <th>sar_start_time</th>\n",
       "      <th>sar_stop_time</th>\n",
       "      <th>sar_coordinates</th>\n",
       "    </tr>\n",
       "  </thead>\n",
       "  <tbody>\n",
       "    <tr>\n",
       "      <th>0</th>\n",
       "      <td>GL_TS_MO_41159.nc</td>\n",
       "      <td>-76.948997</td>\n",
       "      <td>34.213001</td>\n",
       "      <td>2021-12-27 22:56:00</td>\n",
       "      <td>0</td>\n",
       "      <td>0.0</td>\n",
       "      <td>VHM0</td>\n",
       "      <td>1.109000</td>\n",
       "      <td>https://datapool.asf.alaska.edu/GRD_HD/SA/S1A_...</td>\n",
       "      <td>IW</td>\n",
       "      <td>[VV, VH]</td>\n",
       "      <td>Sentinel-1A</td>\n",
       "      <td>2021-12-27 23:05:44</td>\n",
       "      <td>2021-12-27 23:06:09</td>\n",
       "      <td>[[-77.787575, 34.208473], [-77.43821, 32.70319...</td>\n",
       "    </tr>\n",
       "    <tr>\n",
       "      <th>1</th>\n",
       "      <td>GL_TS_MO_41159.nc</td>\n",
       "      <td>-76.948997</td>\n",
       "      <td>34.213001</td>\n",
       "      <td>2021-12-15 22:56:00</td>\n",
       "      <td>0</td>\n",
       "      <td>0.0</td>\n",
       "      <td>VHM0</td>\n",
       "      <td>0.849000</td>\n",
       "      <td>https://datapool.asf.alaska.edu/GRD_HD/SA/S1A_...</td>\n",
       "      <td>IW</td>\n",
       "      <td>[VV, VH]</td>\n",
       "      <td>Sentinel-1A</td>\n",
       "      <td>2021-12-15 23:05:45</td>\n",
       "      <td>2021-12-15 23:06:10</td>\n",
       "      <td>[[-77.787628, 34.208488], [-77.438286, 32.7032...</td>\n",
       "    </tr>\n",
       "    <tr>\n",
       "      <th>2</th>\n",
       "      <td>GL_TS_MO_41159.nc</td>\n",
       "      <td>-76.948997</td>\n",
       "      <td>34.213001</td>\n",
       "      <td>2021-12-03 22:56:00</td>\n",
       "      <td>0</td>\n",
       "      <td>0.0</td>\n",
       "      <td>VHM0</td>\n",
       "      <td>0.809000</td>\n",
       "      <td>https://datapool.asf.alaska.edu/GRD_HD/SA/S1A_...</td>\n",
       "      <td>IW</td>\n",
       "      <td>[VV, VH]</td>\n",
       "      <td>Sentinel-1A</td>\n",
       "      <td>2021-12-03 23:05:46</td>\n",
       "      <td>2021-12-03 23:06:11</td>\n",
       "      <td>[[-77.787346, 34.208439], [-77.438026, 32.7031...</td>\n",
       "    </tr>\n",
       "    <tr>\n",
       "      <th>3</th>\n",
       "      <td>GL_TS_MO_41159.nc</td>\n",
       "      <td>-76.948997</td>\n",
       "      <td>34.213001</td>\n",
       "      <td>2021-11-21 22:56:00</td>\n",
       "      <td>0</td>\n",
       "      <td>0.0</td>\n",
       "      <td>VHM0</td>\n",
       "      <td>1.249000</td>\n",
       "      <td>https://datapool.asf.alaska.edu/GRD_HD/SA/S1A_...</td>\n",
       "      <td>IW</td>\n",
       "      <td>[VV, VH]</td>\n",
       "      <td>Sentinel-1A</td>\n",
       "      <td>2021-11-21 23:05:46</td>\n",
       "      <td>2021-11-21 23:06:11</td>\n",
       "      <td>[[-77.787842, 34.208469], [-77.438553, 32.7032...</td>\n",
       "    </tr>\n",
       "    <tr>\n",
       "      <th>4</th>\n",
       "      <td>GL_TS_MO_41159.nc</td>\n",
       "      <td>-76.948997</td>\n",
       "      <td>34.213001</td>\n",
       "      <td>2021-11-09 22:56:00</td>\n",
       "      <td>0</td>\n",
       "      <td>0.0</td>\n",
       "      <td>VHM0</td>\n",
       "      <td>1.199000</td>\n",
       "      <td>https://datapool.asf.alaska.edu/GRD_HD/SA/S1A_...</td>\n",
       "      <td>IW</td>\n",
       "      <td>[VV, VH]</td>\n",
       "      <td>Sentinel-1A</td>\n",
       "      <td>2021-11-09 23:05:46</td>\n",
       "      <td>2021-11-09 23:06:11</td>\n",
       "      <td>[[-77.7882, 34.208534], [-77.438843, 32.703255...</td>\n",
       "    </tr>\n",
       "    <tr>\n",
       "      <th>...</th>\n",
       "      <td>...</td>\n",
       "      <td>...</td>\n",
       "      <td>...</td>\n",
       "      <td>...</td>\n",
       "      <td>...</td>\n",
       "      <td>...</td>\n",
       "      <td>...</td>\n",
       "      <td>...</td>\n",
       "      <td>...</td>\n",
       "      <td>...</td>\n",
       "      <td>...</td>\n",
       "      <td>...</td>\n",
       "      <td>...</td>\n",
       "      <td>...</td>\n",
       "      <td>...</td>\n",
       "    </tr>\n",
       "    <tr>\n",
       "      <th>79879</th>\n",
       "      <td>GL_TS_MO_41025.nc</td>\n",
       "      <td>-75.362999</td>\n",
       "      <td>35.025002</td>\n",
       "      <td>2021-01-25 23:10:00</td>\n",
       "      <td>0</td>\n",
       "      <td>-4.1</td>\n",
       "      <td>WSPD</td>\n",
       "      <td>5.499000</td>\n",
       "      <td>https://datapool.asf.alaska.edu/GRD_HD/SA/S1A_...</td>\n",
       "      <td>IW</td>\n",
       "      <td>[VV, VH]</td>\n",
       "      <td>Sentinel-1A</td>\n",
       "      <td>2021-01-25 23:06:03</td>\n",
       "      <td>2021-01-25 23:06:28</td>\n",
       "      <td>[[-78.142181, 35.713089], [-77.787048, 34.2084...</td>\n",
       "    </tr>\n",
       "    <tr>\n",
       "      <th>79880</th>\n",
       "      <td>GL_TS_MO_41025.nc</td>\n",
       "      <td>-75.362999</td>\n",
       "      <td>35.025002</td>\n",
       "      <td>2021-01-20 23:00:00</td>\n",
       "      <td>0</td>\n",
       "      <td>-4.1</td>\n",
       "      <td>WSPD</td>\n",
       "      <td>7.999000</td>\n",
       "      <td>https://datapool.asf.alaska.edu/GRD_HD/SA/S1A_...</td>\n",
       "      <td>IW</td>\n",
       "      <td>[VV, VH]</td>\n",
       "      <td>Sentinel-1A</td>\n",
       "      <td>2021-01-20 22:57:57</td>\n",
       "      <td>2021-01-20 22:58:26</td>\n",
       "      <td>[[-76.225327, 36.428345], [-75.809944, 34.6814...</td>\n",
       "    </tr>\n",
       "    <tr>\n",
       "      <th>79881</th>\n",
       "      <td>GL_TS_MO_41025.nc</td>\n",
       "      <td>-75.362999</td>\n",
       "      <td>35.025002</td>\n",
       "      <td>2021-01-13 23:10:00</td>\n",
       "      <td>0</td>\n",
       "      <td>-4.1</td>\n",
       "      <td>WSPD</td>\n",
       "      <td>3.299000</td>\n",
       "      <td>https://datapool.asf.alaska.edu/GRD_HD/SA/S1A_...</td>\n",
       "      <td>IW</td>\n",
       "      <td>[VV, VH]</td>\n",
       "      <td>Sentinel-1A</td>\n",
       "      <td>2021-01-13 23:06:03</td>\n",
       "      <td>2021-01-13 23:06:28</td>\n",
       "      <td>[[-78.142395, 35.7131], [-77.78727, 34.208504]...</td>\n",
       "    </tr>\n",
       "    <tr>\n",
       "      <th>79882</th>\n",
       "      <td>GL_TS_MO_41025.nc</td>\n",
       "      <td>-75.362999</td>\n",
       "      <td>35.025002</td>\n",
       "      <td>2021-01-08 23:00:00</td>\n",
       "      <td>0</td>\n",
       "      <td>-4.1</td>\n",
       "      <td>WSPD</td>\n",
       "      <td>15.499001</td>\n",
       "      <td>https://datapool.asf.alaska.edu/GRD_HD/SA/S1A_...</td>\n",
       "      <td>IW</td>\n",
       "      <td>[VV, VH]</td>\n",
       "      <td>Sentinel-1A</td>\n",
       "      <td>2021-01-08 22:57:57</td>\n",
       "      <td>2021-01-08 22:58:26</td>\n",
       "      <td>[[-76.225426, 36.428337], [-75.810219, 34.6821...</td>\n",
       "    </tr>\n",
       "    <tr>\n",
       "      <th>79883</th>\n",
       "      <td>GL_TS_MO_41025.nc</td>\n",
       "      <td>-75.362999</td>\n",
       "      <td>35.025002</td>\n",
       "      <td>2021-01-01 23:10:00</td>\n",
       "      <td>0</td>\n",
       "      <td>-4.1</td>\n",
       "      <td>WSPD</td>\n",
       "      <td>5.599000</td>\n",
       "      <td>https://datapool.asf.alaska.edu/GRD_HD/SA/S1A_...</td>\n",
       "      <td>IW</td>\n",
       "      <td>[VV, VH]</td>\n",
       "      <td>Sentinel-1A</td>\n",
       "      <td>2021-01-01 23:06:04</td>\n",
       "      <td>2021-01-01 23:06:29</td>\n",
       "      <td>[[-78.142952, 35.713013], [-77.787827, 34.2085...</td>\n",
       "    </tr>\n",
       "  </tbody>\n",
       "</table>\n",
       "<p>79884 rows × 15 columns</p>\n",
       "</div>"
      ],
      "text/plain": [
       "          bouy_file_name  bouy_longitude  bouy_latitude           bouy_time  \\\n",
       "0      GL_TS_MO_41159.nc      -76.948997      34.213001 2021-12-27 22:56:00   \n",
       "1      GL_TS_MO_41159.nc      -76.948997      34.213001 2021-12-15 22:56:00   \n",
       "2      GL_TS_MO_41159.nc      -76.948997      34.213001 2021-12-03 22:56:00   \n",
       "3      GL_TS_MO_41159.nc      -76.948997      34.213001 2021-11-21 22:56:00   \n",
       "4      GL_TS_MO_41159.nc      -76.948997      34.213001 2021-11-09 22:56:00   \n",
       "...                  ...             ...            ...                 ...   \n",
       "79879  GL_TS_MO_41025.nc      -75.362999      35.025002 2021-01-25 23:10:00   \n",
       "79880  GL_TS_MO_41025.nc      -75.362999      35.025002 2021-01-20 23:00:00   \n",
       "79881  GL_TS_MO_41025.nc      -75.362999      35.025002 2021-01-13 23:10:00   \n",
       "79882  GL_TS_MO_41025.nc      -75.362999      35.025002 2021-01-08 23:00:00   \n",
       "79883  GL_TS_MO_41025.nc      -75.362999      35.025002 2021-01-01 23:10:00   \n",
       "\n",
       "       bouy_depth_index  bouy_depth bouy_variable_name  bouy_variable_value  \\\n",
       "0                     0         0.0               VHM0             1.109000   \n",
       "1                     0         0.0               VHM0             0.849000   \n",
       "2                     0         0.0               VHM0             0.809000   \n",
       "3                     0         0.0               VHM0             1.249000   \n",
       "4                     0         0.0               VHM0             1.199000   \n",
       "...                 ...         ...                ...                  ...   \n",
       "79879                 0        -4.1               WSPD             5.499000   \n",
       "79880                 0        -4.1               WSPD             7.999000   \n",
       "79881                 0        -4.1               WSPD             3.299000   \n",
       "79882                 0        -4.1               WSPD            15.499001   \n",
       "79883                 0        -4.1               WSPD             5.599000   \n",
       "\n",
       "                                                 sar_url sar_mode  \\\n",
       "0      https://datapool.asf.alaska.edu/GRD_HD/SA/S1A_...       IW   \n",
       "1      https://datapool.asf.alaska.edu/GRD_HD/SA/S1A_...       IW   \n",
       "2      https://datapool.asf.alaska.edu/GRD_HD/SA/S1A_...       IW   \n",
       "3      https://datapool.asf.alaska.edu/GRD_HD/SA/S1A_...       IW   \n",
       "4      https://datapool.asf.alaska.edu/GRD_HD/SA/S1A_...       IW   \n",
       "...                                                  ...      ...   \n",
       "79879  https://datapool.asf.alaska.edu/GRD_HD/SA/S1A_...       IW   \n",
       "79880  https://datapool.asf.alaska.edu/GRD_HD/SA/S1A_...       IW   \n",
       "79881  https://datapool.asf.alaska.edu/GRD_HD/SA/S1A_...       IW   \n",
       "79882  https://datapool.asf.alaska.edu/GRD_HD/SA/S1A_...       IW   \n",
       "79883  https://datapool.asf.alaska.edu/GRD_HD/SA/S1A_...       IW   \n",
       "\n",
       "      sar_polarization sar_platform      sar_start_time       sar_stop_time  \\\n",
       "0             [VV, VH]  Sentinel-1A 2021-12-27 23:05:44 2021-12-27 23:06:09   \n",
       "1             [VV, VH]  Sentinel-1A 2021-12-15 23:05:45 2021-12-15 23:06:10   \n",
       "2             [VV, VH]  Sentinel-1A 2021-12-03 23:05:46 2021-12-03 23:06:11   \n",
       "3             [VV, VH]  Sentinel-1A 2021-11-21 23:05:46 2021-11-21 23:06:11   \n",
       "4             [VV, VH]  Sentinel-1A 2021-11-09 23:05:46 2021-11-09 23:06:11   \n",
       "...                ...          ...                 ...                 ...   \n",
       "79879         [VV, VH]  Sentinel-1A 2021-01-25 23:06:03 2021-01-25 23:06:28   \n",
       "79880         [VV, VH]  Sentinel-1A 2021-01-20 22:57:57 2021-01-20 22:58:26   \n",
       "79881         [VV, VH]  Sentinel-1A 2021-01-13 23:06:03 2021-01-13 23:06:28   \n",
       "79882         [VV, VH]  Sentinel-1A 2021-01-08 22:57:57 2021-01-08 22:58:26   \n",
       "79883         [VV, VH]  Sentinel-1A 2021-01-01 23:06:04 2021-01-01 23:06:29   \n",
       "\n",
       "                                         sar_coordinates  \n",
       "0      [[-77.787575, 34.208473], [-77.43821, 32.70319...  \n",
       "1      [[-77.787628, 34.208488], [-77.438286, 32.7032...  \n",
       "2      [[-77.787346, 34.208439], [-77.438026, 32.7031...  \n",
       "3      [[-77.787842, 34.208469], [-77.438553, 32.7032...  \n",
       "4      [[-77.7882, 34.208534], [-77.438843, 32.703255...  \n",
       "...                                                  ...  \n",
       "79879  [[-78.142181, 35.713089], [-77.787048, 34.2084...  \n",
       "79880  [[-76.225327, 36.428345], [-75.809944, 34.6814...  \n",
       "79881  [[-78.142395, 35.7131], [-77.78727, 34.208504]...  \n",
       "79882  [[-76.225426, 36.428337], [-75.810219, 34.6821...  \n",
       "79883  [[-78.142952, 35.713013], [-77.787827, 34.2085...  \n",
       "\n",
       "[79884 rows x 15 columns]"
      ]
     },
     "execution_count": 7,
     "metadata": {},
     "output_type": "execute_result"
    }
   ],
   "source": [
    "result_df"
   ]
  },
  {
   "cell_type": "code",
   "execution_count": 8,
   "id": "2930f612",
   "metadata": {},
   "outputs": [
    {
     "data": {
      "text/html": [
       "<div>\n",
       "<style scoped>\n",
       "    .dataframe tbody tr th:only-of-type {\n",
       "        vertical-align: middle;\n",
       "    }\n",
       "\n",
       "    .dataframe tbody tr th {\n",
       "        vertical-align: top;\n",
       "    }\n",
       "\n",
       "    .dataframe thead tr th {\n",
       "        text-align: left;\n",
       "    }\n",
       "\n",
       "    .dataframe thead tr:last-of-type th {\n",
       "        text-align: right;\n",
       "    }\n",
       "</style>\n",
       "<table border=\"1\" class=\"dataframe\">\n",
       "  <thead>\n",
       "    <tr>\n",
       "      <th></th>\n",
       "      <th colspan=\"2\" halign=\"left\">bouy_variable_value</th>\n",
       "    </tr>\n",
       "    <tr>\n",
       "      <th></th>\n",
       "      <th>mean</th>\n",
       "      <th>count</th>\n",
       "    </tr>\n",
       "    <tr>\n",
       "      <th>bouy_depth</th>\n",
       "      <th></th>\n",
       "      <th></th>\n",
       "    </tr>\n",
       "  </thead>\n",
       "  <tbody>\n",
       "    <tr>\n",
       "      <th>-28.00</th>\n",
       "      <td>11.279556</td>\n",
       "      <td>72</td>\n",
       "    </tr>\n",
       "    <tr>\n",
       "      <th>-14.00</th>\n",
       "      <td>7.517844</td>\n",
       "      <td>461</td>\n",
       "    </tr>\n",
       "    <tr>\n",
       "      <th>-12.00</th>\n",
       "      <td>6.693656</td>\n",
       "      <td>221</td>\n",
       "    </tr>\n",
       "    <tr>\n",
       "      <th>-10.00</th>\n",
       "      <td>7.401830</td>\n",
       "      <td>2039</td>\n",
       "    </tr>\n",
       "    <tr>\n",
       "      <th>-9.00</th>\n",
       "      <td>8.879128</td>\n",
       "      <td>47</td>\n",
       "    </tr>\n",
       "    <tr>\n",
       "      <th>-5.70</th>\n",
       "      <td>7.614184</td>\n",
       "      <td>191</td>\n",
       "    </tr>\n",
       "    <tr>\n",
       "      <th>-5.00</th>\n",
       "      <td>5.851424</td>\n",
       "      <td>250</td>\n",
       "    </tr>\n",
       "    <tr>\n",
       "      <th>-4.90</th>\n",
       "      <td>6.276298</td>\n",
       "      <td>370</td>\n",
       "    </tr>\n",
       "    <tr>\n",
       "      <th>-4.70</th>\n",
       "      <td>6.742138</td>\n",
       "      <td>51</td>\n",
       "    </tr>\n",
       "    <tr>\n",
       "      <th>-4.60</th>\n",
       "      <td>7.503030</td>\n",
       "      <td>273</td>\n",
       "    </tr>\n",
       "    <tr>\n",
       "      <th>-4.50</th>\n",
       "      <td>5.656634</td>\n",
       "      <td>786</td>\n",
       "    </tr>\n",
       "    <tr>\n",
       "      <th>-4.10</th>\n",
       "      <td>6.128891</td>\n",
       "      <td>1954</td>\n",
       "    </tr>\n",
       "    <tr>\n",
       "      <th>-4.00</th>\n",
       "      <td>6.118517</td>\n",
       "      <td>1404</td>\n",
       "    </tr>\n",
       "    <tr>\n",
       "      <th>-3.80</th>\n",
       "      <td>6.429544</td>\n",
       "      <td>1601</td>\n",
       "    </tr>\n",
       "    <tr>\n",
       "      <th>-3.60</th>\n",
       "      <td>5.641857</td>\n",
       "      <td>7</td>\n",
       "    </tr>\n",
       "    <tr>\n",
       "      <th>-3.50</th>\n",
       "      <td>5.674610</td>\n",
       "      <td>41</td>\n",
       "    </tr>\n",
       "    <tr>\n",
       "      <th>-3.20</th>\n",
       "      <td>6.790097</td>\n",
       "      <td>1178</td>\n",
       "    </tr>\n",
       "    <tr>\n",
       "      <th>-3.10</th>\n",
       "      <td>5.386500</td>\n",
       "      <td>16</td>\n",
       "    </tr>\n",
       "    <tr>\n",
       "      <th>-3.00</th>\n",
       "      <td>5.397063</td>\n",
       "      <td>3386</td>\n",
       "    </tr>\n",
       "    <tr>\n",
       "      <th>-2.95</th>\n",
       "      <td>5.434000</td>\n",
       "      <td>40</td>\n",
       "    </tr>\n",
       "    <tr>\n",
       "      <th>-2.60</th>\n",
       "      <td>7.453546</td>\n",
       "      <td>11</td>\n",
       "    </tr>\n",
       "    <tr>\n",
       "      <th>-2.00</th>\n",
       "      <td>4.286976</td>\n",
       "      <td>608</td>\n",
       "    </tr>\n",
       "    <tr>\n",
       "      <th>0.00</th>\n",
       "      <td>6.926007</td>\n",
       "      <td>7130</td>\n",
       "    </tr>\n",
       "  </tbody>\n",
       "</table>\n",
       "</div>"
      ],
      "text/plain": [
       "           bouy_variable_value      \n",
       "                          mean count\n",
       "bouy_depth                          \n",
       "-28.00               11.279556    72\n",
       "-14.00                7.517844   461\n",
       "-12.00                6.693656   221\n",
       "-10.00                7.401830  2039\n",
       "-9.00                 8.879128    47\n",
       "-5.70                 7.614184   191\n",
       "-5.00                 5.851424   250\n",
       "-4.90                 6.276298   370\n",
       "-4.70                 6.742138    51\n",
       "-4.60                 7.503030   273\n",
       "-4.50                 5.656634   786\n",
       "-4.10                 6.128891  1954\n",
       "-4.00                 6.118517  1404\n",
       "-3.80                 6.429544  1601\n",
       "-3.60                 5.641857     7\n",
       "-3.50                 5.674610    41\n",
       "-3.20                 6.790097  1178\n",
       "-3.10                 5.386500    16\n",
       "-3.00                 5.397063  3386\n",
       "-2.95                 5.434000    40\n",
       "-2.60                 7.453546    11\n",
       "-2.00                 4.286976   608\n",
       " 0.00                 6.926007  7130"
      ]
     },
     "execution_count": 8,
     "metadata": {},
     "output_type": "execute_result"
    }
   ],
   "source": [
    "#Print the average wind speed and number of measurements grouped by depth \n",
    "result_df[result_df['bouy_variable_name'] == 'WSPD'][['bouy_depth', 'bouy_variable_value']].groupby('bouy_depth').agg(['mean', 'count'])"
   ]
  },
  {
   "cell_type": "code",
   "execution_count": 9,
   "id": "dc13c14d",
   "metadata": {},
   "outputs": [],
   "source": [
    "#Save resuld_df with pickle\n",
    "\n",
    "#Conditionally creates the folder for the result\n",
    "os.makedirs(write_folder, exist_ok=True)\n",
    "\n",
    "with open(os.path.join(write_folder, result_df_fn),'wb') as f_w:\n",
    "    pickle.dump(result_df,f_w)\n"
   ]
  },
  {
   "cell_type": "code",
   "execution_count": 10,
   "id": "34afc4fa",
   "metadata": {
    "collapsed": true
   },
   "outputs": [],
   "source": [
    "#Save KML pin maps, one for each variable\n",
    "\n",
    "#Total number of datapoints per variable type\n",
    "var_total = result_df['bouy_variable_name'].value_counts()\n",
    " \n",
    "#pandas series for count of unique variable name, file name pairs\n",
    "var_file_count = list(result_df.value_counts(subset=['bouy_variable_name', 'bouy_file_name']).items())\n",
    "\n",
    "#dataframe for coordinates of unique variable name, file name pairs\n",
    "var_file_coord = (result_df.groupby(['bouy_variable_name', 'bouy_file_name'])[['bouy_longitude', 'bouy_latitude']].first())\n",
    "\n",
    "\n",
    "#Create separate kml maps for each variable name\n",
    "KML_fldrs = {}\n",
    "for var_name in np.unique(result_df['bouy_variable_name']):\n",
    "    KML_fldrs[var_name] = KML.Folder(\n",
    "        KML.name(var_name + \" \" + write_folder[write_folder.find('/')+1:]),\n",
    "        KML.description('Total datapoints: ' + str(var_total[var_name])),\n",
    "    )\n",
    "\n",
    "#iterate over all unique variable name, file name pairs\n",
    "for ((var_name, file_name), count) in var_file_count:\n",
    "    #extract longitude and latitude\n",
    "    long, lat = var_file_coord.loc[(var_name, file_name)][['bouy_longitude', 'bouy_latitude']]\n",
    "    \n",
    "    #Create the pin\n",
    "    pin = KML.Placemark(\n",
    "        KML.name(str(count)),\n",
    "        KML.description(file_name),\n",
    "        KML.Point(\n",
    "            KML.coordinates(str(long) + \",\" + str(lat))\n",
    "        )\n",
    "    )\n",
    "    KML_fldrs[var_name].append(pin)\n",
    "    \n",
    "for var_name, KML_fld in KML_fldrs.items():\n",
    "    with open(os.path.join(write_folder, kml_pinmap_fn + '_' + var_name + '.kml'), 'w') as f_w:\n",
    "        f_w.write(lxml.etree.tostring(KML_fld, pretty_print=True).decode())"
   ]
  },
  {
   "cell_type": "code",
   "execution_count": null,
   "id": "5c2eb241",
   "metadata": {},
   "outputs": [],
   "source": [
    "#Save KML pin map if we have all the variables ['VHM0', 'VAVH', 'WSPD']\n",
    "if all([v in variables for v in ['VHM0', 'VAVH', 'WSPD']]):\n",
    "    #Number of  overlaps\n",
    "    mult_var = result_df.groupby(['sar_url', 'bouy_file_name', 'bouy_longitude', 'bouy_latitude'])[['bouy_variable_name']].aggregate(lambda tdf: tdf.unique().tolist())\n",
    "    mult_var['len'] = mult_var['bouy_variable_name'].apply(len)\n",
    "    mult_var['contains_wind'] = mult_var['bouy_variable_name'].apply(lambda x: 'WSPD' in x)\n",
    "    mult_var['also_VAVH'] = mult_var['bouy_variable_name'].apply(lambda x: 'VAVH' in x)\n",
    "    mult_var['also_VHM0'] = mult_var['bouy_variable_name'].apply(lambda x: 'VHM0' in x)\n",
    "    mult_var = mult_var[(mult_var['len'] > 1) & mult_var['contains_wind']].drop(labels='contains_wind', axis=1)\n",
    "\n",
    "    wind_and_VAVH = mult_var[mult_var['also_VAVH']].drop(labels=['also_VAVH', 'also_VHM0'], axis=1).groupby(['bouy_file_name', 'bouy_longitude', 'bouy_latitude'])['len'].count()\n",
    "    wind_and_VHM0 = mult_var[mult_var['also_VHM0']].drop(labels=['also_VAVH', 'also_VHM0'], axis=1).groupby(['bouy_file_name', 'bouy_longitude', 'bouy_latitude'])['len'].count()\n",
    "\n",
    "    #Save overlapping wind and wave info to KML maps\n",
    "    for kml_pinmap_fn, data_var in [('WSPD_and_VHM0', wind_and_VHM0), ('WSPD_and_VAVH', wind_and_VAVH)]:\n",
    "        KML_fldr = KML.Folder(\n",
    "            KML.name(kml_pinmap_fn + \" \" + write_folder[write_folder.find('/')+1:]),\n",
    "            KML.description('Total datapoints: ' + str(data_var.sum())),\n",
    "        )\n",
    "\n",
    "        #iterate over all unique variable name, file name pairs\n",
    "        for ((file_name, long, lat), count) in data_var.items():\n",
    "            #Create the pin\n",
    "            pin = KML.Placemark(\n",
    "                KML.name(str(count)),\n",
    "                KML.description(file_name),\n",
    "                KML.Point(\n",
    "                    KML.coordinates(str(long) + \",\" + str(lat))\n",
    "                )\n",
    "            )\n",
    "            KML_fldr.append(pin)\n",
    "\n",
    "        with open(os.path.join(write_folder, kml_pinmap_fn + '_' + var_name + '.kml'), 'w') as f_w:\n",
    "            f_w.write(lxml.etree.tostring(KML_fldr, pretty_print=True).decode())"
   ]
  }
 ],
 "metadata": {
  "kernelspec": {
   "display_name": "Python 3.10.9",
   "language": "python",
   "name": "python3"
  },
  "language_info": {
   "codemirror_mode": {
    "name": "ipython",
    "version": 3
   },
   "file_extension": ".py",
   "mimetype": "text/x-python",
   "name": "python",
   "nbconvert_exporter": "python",
   "pygments_lexer": "ipython3",
   "version": "3.10.9"
  },
  "vscode": {
   "interpreter": {
    "hash": "40bfc0d3c9c7ef61b829322f934671b287025ad156098ea4a38fed0ccd45344b"
   }
  }
 },
 "nbformat": 4,
 "nbformat_minor": 5
}
