{
 "cells": [
  {
   "cell_type": "markdown",
   "id": "3b0f4f5c",
   "metadata": {},
   "source": [
    "This file plots all the datapoints for a specific folder of data on a KML pinmap only including files with relevant data\n",
    "that is, filtered in time and variable names"
   ]
  },
  {
   "cell_type": "code",
   "execution_count": 11,
   "id": "019dd1c0",
   "metadata": {},
   "outputs": [],
   "source": [
    "import numpy as np\n",
    "import pandas as pd\n",
    "import xarray as xr\n",
    "import os\n",
    "import datetime\n",
    "import pickle\n",
    "from tqdm import tqdm\n",
    "import lxml\n",
    "from pykml.factory import KML_ElementMaker as KML\n",
    "from functools import reduce\n",
    "import operator"
   ]
  },
  {
   "cell_type": "code",
   "execution_count": 12,
   "id": "505e1a13",
   "metadata": {},
   "outputs": [],
   "source": [
    "#Extracts the data from the dataset ds that overlaps with the time filter and contains valid data\n",
    "def valid_data_extraction(ds, time_filter, colum_names, file_name):\n",
    "    #Make sure colum_names is a list\n",
    "    if type(colum_names) is str:\n",
    "        colum_names = [colum_names]\n",
    "\n",
    "    #None of the variables found, retrun immediately\n",
    "    if not any([c in ds.data_vars for c in colum_names]):\n",
    "        return None\n",
    "\n",
    "    #Add longitude, latidude and position_qc as variables indexed by time,depth as all other variables\n",
    "    TIME = ds['TIME'].values\n",
    "    DEPTH = ds['DEPTH'].values\n",
    "    n_DEPTHS = len(DEPTH)\n",
    "\n",
    "    dataset_columns = {\n",
    "        'LONG':ds['LONGITUDE'],\n",
    "        'LAT':ds['LATITUDE'],\n",
    "        'POS_QC':ds['POSITION_QC'],\n",
    "    }\n",
    "\n",
    "    ds_pos = xr.Dataset(\n",
    "        data_vars=\n",
    "        {k:(\n",
    "            [\"TIME\", 'DEPTH'],\n",
    "            np.repeat(np.reshape(v.values, (-1,1)), n_DEPTHS, axis=1),\n",
    "            v.attrs,\n",
    "        )for (k,v) in dataset_columns.items()},\n",
    "        coords=dict(\n",
    "            TIME=TIME,\n",
    "            DEPTH=DEPTH,\n",
    "        )\n",
    "    ).drop_vars('DEPTH')\n",
    "    ds = xr.merge([ds.drop_dims(['LATITUDE', 'LONGITUDE', 'POSITION']), ds_pos])\n",
    "\n",
    "    try:\n",
    "        #Filter for time of interest and depth 0\n",
    "        if type(time_filter) is tuple:\n",
    "            ds = ds.sel(TIME=slice(time_filter[0], time_filter[1]), DEPTH=0)\n",
    "        else:\n",
    "            ds = ds.sel(TIME=time_filter, DEPTH=0)\n",
    "    except Exception as e:\n",
    "        print('Failed to timeslice for ' + file_name)\n",
    "    \n",
    "    #Filter only avalible columns\n",
    "    colum_names = list(set(colum_names).intersection(list(ds.data_vars)))\n",
    "    colum_names_qc = [c + '_QC' for c in colum_names]\n",
    "    \n",
    "    #Add fixed columns\n",
    "    colum_names.extend(['LONG', 'LAT'])\n",
    "    colum_names_qc.extend(['TIME_QC', 'POS_QC'])\n",
    "\n",
    "    #Filter for columns of interest\n",
    "    ds = ds[colum_names + colum_names_qc]\n",
    "    \n",
    "    df = ds.to_dataframe()\n",
    "    QC_good = [1.0, 7.0]\n",
    "    \n",
    "    #Filter for good data only\n",
    "    filter_qc = [df[c_qc].isin(QC_good) for c_qc in colum_names_qc]\n",
    "    #Element-wise AND the qc filters\n",
    "    filter_qc = reduce(operator.and_, filter_qc)\n",
    "    df = df[filter_qc][colum_names]\n",
    "    \n",
    "    #Never return empty result, return none instead\n",
    "    if df.empty:\n",
    "        return None\n",
    "        \n",
    "    return df"
   ]
  },
  {
   "cell_type": "code",
   "execution_count": 13,
   "id": "43881f21",
   "metadata": {},
   "outputs": [
    {
     "name": "stderr",
     "output_type": "stream",
     "text": [
      "  0%|          | 11/2488 [00:01<04:22,  9.42it/s]"
     ]
    },
    {
     "name": "stdout",
     "output_type": "stream",
     "text": [
      "GL_TS_MO_23014.nc  Is moving too much\n"
     ]
    },
    {
     "name": "stderr",
     "output_type": "stream",
     "text": [
      "  1%|          | 15/2488 [00:01<03:19, 12.37it/s]"
     ]
    },
    {
     "name": "stdout",
     "output_type": "stream",
     "text": [
      "GL_TS_MO_13010.nc  Is moving too much\n"
     ]
    },
    {
     "name": "stderr",
     "output_type": "stream",
     "text": [
      "  1%|          | 21/2488 [00:02<04:38,  8.85it/s]"
     ]
    },
    {
     "name": "stdout",
     "output_type": "stream",
     "text": [
      "IR_TS_MO_Tenerife-coast-buoy.nc  Is moving too much\n"
     ]
    },
    {
     "name": "stderr",
     "output_type": "stream",
     "text": [
      "  2%|▏         | 46/2488 [00:03<02:38, 15.38it/s]"
     ]
    },
    {
     "name": "stdout",
     "output_type": "stream",
     "text": [
      "GL_TS_MO_23009.nc  Is moving too much\n"
     ]
    },
    {
     "name": "stderr",
     "output_type": "stream",
     "text": [
      "  3%|▎         | 66/2488 [00:05<02:32, 15.88it/s]/home/sarssw/miniconda3/envs/master/lib/python3.10/site-packages/xarray/core/indexes.py:205: FutureWarning: Value based partial slicing on non-monotonic DatetimeIndexes with non-existing keys is deprecated and will raise a KeyError in a future Version.\n",
      "  indexer = index.slice_indexer(\n"
     ]
    },
    {
     "name": "stdout",
     "output_type": "stream",
     "text": [
      "Failed to timeslice for MO_TS_MO_Molo-Bandiera.nc\n"
     ]
    },
    {
     "name": "stderr",
     "output_type": "stream",
     "text": [
      "  4%|▍         | 108/2488 [00:07<02:09, 18.37it/s]"
     ]
    },
    {
     "name": "stdout",
     "output_type": "stream",
     "text": [
      "IR_TS_MO_Malaga-coast-buoy.nc  Is moving too much\n"
     ]
    },
    {
     "name": "stderr",
     "output_type": "stream",
     "text": [
      "  6%|▌         | 142/2488 [00:11<04:54,  7.97it/s]"
     ]
    },
    {
     "name": "stdout",
     "output_type": "stream",
     "text": [
      "GL_TS_MO_55018.nc  Is moving too much\n"
     ]
    },
    {
     "name": "stderr",
     "output_type": "stream",
     "text": [
      " 14%|█▍        | 355/2488 [00:29<02:40, 13.29it/s]"
     ]
    },
    {
     "name": "stdout",
     "output_type": "stream",
     "text": [
      "GL_TS_MO_55036.nc  Is moving too much\n"
     ]
    },
    {
     "name": "stderr",
     "output_type": "stream",
     "text": [
      " 16%|█▋        | 407/2488 [00:34<03:11, 10.89it/s]"
     ]
    },
    {
     "name": "stdout",
     "output_type": "stream",
     "text": [
      "GL_TS_MO_1500008.nc  Is moving too much\n"
     ]
    },
    {
     "name": "stderr",
     "output_type": "stream",
     "text": [
      " 21%|██        | 511/2488 [00:41<02:09, 15.25it/s]"
     ]
    },
    {
     "name": "stdout",
     "output_type": "stream",
     "text": [
      "GL_TS_MO_4100300.nc  Is moving too much\n"
     ]
    },
    {
     "name": "stderr",
     "output_type": "stream",
     "text": [
      " 21%|██        | 522/2488 [00:42<02:58, 11.02it/s]"
     ]
    },
    {
     "name": "stdout",
     "output_type": "stream",
     "text": [
      "GL_TS_MO_55020.nc  Is moving too much\n"
     ]
    },
    {
     "name": "stderr",
     "output_type": "stream",
     "text": [
      " 22%|██▏       | 540/2488 [00:43<02:58, 10.92it/s]/home/sarssw/miniconda3/envs/master/lib/python3.10/site-packages/xarray/core/indexes.py:205: FutureWarning: Value based partial slicing on non-monotonic DatetimeIndexes with non-existing keys is deprecated and will raise a KeyError in a future Version.\n",
      "  indexer = index.slice_indexer(\n",
      " 22%|██▏       | 543/2488 [00:44<02:52, 11.29it/s]"
     ]
    },
    {
     "name": "stdout",
     "output_type": "stream",
     "text": [
      "Failed to timeslice for MO_TS_MO_NADR-S1.nc\n",
      "MO_TS_MO_NADR-S1.nc  Is moving too much\n"
     ]
    },
    {
     "name": "stderr",
     "output_type": "stream",
     "text": [
      " 23%|██▎       | 565/2488 [00:45<02:26, 13.10it/s]"
     ]
    },
    {
     "name": "stdout",
     "output_type": "stream",
     "text": [
      "GL_TS_MO_55032.nc  Is moving too much\n"
     ]
    },
    {
     "name": "stderr",
     "output_type": "stream",
     "text": [
      " 23%|██▎       | 580/2488 [00:46<01:40, 19.06it/s]"
     ]
    },
    {
     "name": "stdout",
     "output_type": "stream",
     "text": [
      "GL_TS_MO_55029.nc  Is moving too much\n"
     ]
    },
    {
     "name": "stderr",
     "output_type": "stream",
     "text": [
      " 23%|██▎       | 583/2488 [00:47<03:33,  8.93it/s]"
     ]
    },
    {
     "name": "stdout",
     "output_type": "stream",
     "text": [
      "BO_TS_MO_Norrbyn.nc  Is moving too much\n"
     ]
    },
    {
     "name": "stderr",
     "output_type": "stream",
     "text": [
      " 24%|██▍       | 599/2488 [00:48<02:52, 10.95it/s]"
     ]
    },
    {
     "name": "stdout",
     "output_type": "stream",
     "text": [
      "GL_TS_MO_55022.nc  Is moving too much\n"
     ]
    },
    {
     "name": "stderr",
     "output_type": "stream",
     "text": [
      " 29%|██▉       | 720/2488 [00:57<03:01,  9.73it/s]"
     ]
    },
    {
     "name": "stdout",
     "output_type": "stream",
     "text": [
      "GL_TS_MO_55033.nc  Is moving too much\n"
     ]
    },
    {
     "name": "stderr",
     "output_type": "stream",
     "text": [
      " 32%|███▏      | 788/2488 [01:02<02:15, 12.56it/s]"
     ]
    },
    {
     "name": "stdout",
     "output_type": "stream",
     "text": [
      "GL_TS_MO_55046.nc  Is moving too much\n"
     ]
    },
    {
     "name": "stderr",
     "output_type": "stream",
     "text": [
      " 32%|███▏      | 791/2488 [01:02<02:09, 13.15it/s]/home/sarssw/miniconda3/envs/master/lib/python3.10/site-packages/xarray/core/indexes.py:205: FutureWarning: Value based partial slicing on non-monotonic DatetimeIndexes with non-existing keys is deprecated and will raise a KeyError in a future Version.\n",
      "  indexer = index.slice_indexer(\n"
     ]
    },
    {
     "name": "stdout",
     "output_type": "stream",
     "text": [
      "Failed to timeslice for MO_TS_MO_VIDA.nc\n"
     ]
    },
    {
     "name": "stderr",
     "output_type": "stream",
     "text": [
      " 35%|███▍      | 859/2488 [01:08<01:20, 20.21it/s]"
     ]
    },
    {
     "name": "stdout",
     "output_type": "stream",
     "text": [
      "GL_TS_MO_55017.nc  Is moving too much\n"
     ]
    },
    {
     "name": "stderr",
     "output_type": "stream",
     "text": [
      " 35%|███▌      | 883/2488 [01:09<01:05, 24.59it/s]"
     ]
    },
    {
     "name": "stdout",
     "output_type": "stream",
     "text": [
      "GL_TS_MO_41121.nc  Is moving too much\n"
     ]
    },
    {
     "name": "stderr",
     "output_type": "stream",
     "text": [
      " 36%|███▌      | 894/2488 [01:09<01:06, 24.05it/s]"
     ]
    },
    {
     "name": "stdout",
     "output_type": "stream",
     "text": [
      "GL_TS_MO_31004.nc  Is moving too much\n"
     ]
    },
    {
     "name": "stderr",
     "output_type": "stream",
     "text": [
      " 36%|███▌      | 900/2488 [01:10<01:27, 18.17it/s]"
     ]
    },
    {
     "name": "stdout",
     "output_type": "stream",
     "text": [
      "GL_TS_MO_55027.nc  Is moving too much\n",
      "GL_TS_MO_55045.nc  Is moving too much\n"
     ]
    },
    {
     "name": "stderr",
     "output_type": "stream",
     "text": [
      " 38%|███▊      | 935/2488 [01:13<02:31, 10.25it/s]"
     ]
    },
    {
     "name": "stdout",
     "output_type": "stream",
     "text": [
      "GL_TS_MO_1500009.nc  Is moving too much\n"
     ]
    },
    {
     "name": "stderr",
     "output_type": "stream",
     "text": [
      " 39%|███▊      | 964/2488 [01:15<01:27, 17.40it/s]"
     ]
    },
    {
     "name": "stdout",
     "output_type": "stream",
     "text": [
      "GL_TS_MO_2300453.nc  Is moving too much\n"
     ]
    },
    {
     "name": "stderr",
     "output_type": "stream",
     "text": [
      " 39%|███▉      | 970/2488 [01:16<02:33,  9.91it/s]"
     ]
    },
    {
     "name": "stdout",
     "output_type": "stream",
     "text": [
      "GL_TS_MO_55028.nc  Is moving too much\n"
     ]
    },
    {
     "name": "stderr",
     "output_type": "stream",
     "text": [
      " 40%|███▉      | 985/2488 [01:17<02:10, 11.54it/s]"
     ]
    },
    {
     "name": "stdout",
     "output_type": "stream",
     "text": [
      "GL_TS_MO_55037.nc  Is moving too much\n"
     ]
    },
    {
     "name": "stderr",
     "output_type": "stream",
     "text": [
      " 45%|████▍     | 1110/2488 [01:26<01:27, 15.76it/s]"
     ]
    },
    {
     "name": "stdout",
     "output_type": "stream",
     "text": [
      "GL_TS_MO_55030.nc  Is moving too much\n"
     ]
    },
    {
     "name": "stderr",
     "output_type": "stream",
     "text": [
      " 50%|████▉     | 1243/2488 [01:35<01:44, 11.88it/s]"
     ]
    },
    {
     "name": "stdout",
     "output_type": "stream",
     "text": [
      "GL_TS_MO_23016.nc  Is moving too much\n"
     ]
    },
    {
     "name": "stderr",
     "output_type": "stream",
     "text": [
      " 52%|█████▏    | 1306/2488 [01:39<01:09, 17.05it/s]"
     ]
    },
    {
     "name": "stdout",
     "output_type": "stream",
     "text": [
      "GL_TS_MO_53040.nc  Is moving too much\n"
     ]
    },
    {
     "name": "stderr",
     "output_type": "stream",
     "text": [
      " 53%|█████▎    | 1324/2488 [01:41<01:17, 14.96it/s]"
     ]
    },
    {
     "name": "stdout",
     "output_type": "stream",
     "text": [
      "GL_TS_MO_14041.nc  Is moving too much\n",
      "GL_TS_MO_2300452.nc  Is moving too much\n"
     ]
    },
    {
     "name": "stderr",
     "output_type": "stream",
     "text": [
      " 55%|█████▌    | 1377/2488 [01:46<01:03, 17.49it/s]"
     ]
    },
    {
     "name": "stdout",
     "output_type": "stream",
     "text": [
      "GL_TS_MO_2300091.nc  Is moving too much\n"
     ]
    },
    {
     "name": "stderr",
     "output_type": "stream",
     "text": [
      " 59%|█████▉    | 1478/2488 [01:55<01:21, 12.37it/s]"
     ]
    },
    {
     "name": "stdout",
     "output_type": "stream",
     "text": [
      "GL_TS_MO_23013.nc  Is moving too much\n"
     ]
    },
    {
     "name": "stderr",
     "output_type": "stream",
     "text": [
      " 62%|██████▏   | 1540/2488 [02:00<01:03, 14.91it/s]"
     ]
    },
    {
     "name": "stdout",
     "output_type": "stream",
     "text": [
      "GL_TS_MO_55038.nc  Is moving too much\n"
     ]
    },
    {
     "name": "stderr",
     "output_type": "stream",
     "text": [
      " 63%|██████▎   | 1557/2488 [02:02<01:42,  9.10it/s]/home/sarssw/miniconda3/envs/master/lib/python3.10/site-packages/xarray/core/indexes.py:205: FutureWarning: Value based partial slicing on non-monotonic DatetimeIndexes with non-existing keys is deprecated and will raise a KeyError in a future Version.\n",
      "  indexer = index.slice_indexer(\n",
      " 63%|██████▎   | 1559/2488 [02:03<01:54,  8.13it/s]"
     ]
    },
    {
     "name": "stdout",
     "output_type": "stream",
     "text": [
      "Failed to timeslice for MO_TS_MO_ESTELLENCS.nc\n"
     ]
    },
    {
     "name": "stderr",
     "output_type": "stream",
     "text": [
      " 65%|██████▍   | 1605/2488 [02:05<00:44, 19.95it/s]"
     ]
    },
    {
     "name": "stdout",
     "output_type": "stream",
     "text": [
      "GL_TS_MO_2300454.nc  Is moving too much\n"
     ]
    },
    {
     "name": "stderr",
     "output_type": "stream",
     "text": [
      " 66%|██████▋   | 1651/2488 [02:09<01:00, 13.74it/s]"
     ]
    },
    {
     "name": "stdout",
     "output_type": "stream",
     "text": [
      "GL_TS_MO_56005.nc  Is moving too much\n"
     ]
    },
    {
     "name": "stderr",
     "output_type": "stream",
     "text": [
      " 69%|██████▉   | 1715/2488 [02:13<00:49, 15.73it/s]"
     ]
    },
    {
     "name": "stdout",
     "output_type": "stream",
     "text": [
      "GL_TS_MO_31003.nc  Is moving too much\n"
     ]
    },
    {
     "name": "stderr",
     "output_type": "stream",
     "text": [
      " 72%|███████▏  | 1794/2488 [02:19<00:44, 15.50it/s]"
     ]
    },
    {
     "name": "stdout",
     "output_type": "stream",
     "text": [
      "GL_TS_MO_4800400.nc  Is moving too much\n"
     ]
    },
    {
     "name": "stderr",
     "output_type": "stream",
     "text": [
      " 81%|████████  | 2010/2488 [02:35<00:27, 17.13it/s]"
     ]
    },
    {
     "name": "stdout",
     "output_type": "stream",
     "text": [
      "GL_TS_MO_52121.nc  Is moving too much\n"
     ]
    },
    {
     "name": "stderr",
     "output_type": "stream",
     "text": [
      " 85%|████████▍ | 2108/2488 [02:42<00:17, 21.96it/s]"
     ]
    },
    {
     "name": "stdout",
     "output_type": "stream",
     "text": [
      "GL_TS_MO_2300451.nc  Is moving too much\n"
     ]
    },
    {
     "name": "stderr",
     "output_type": "stream",
     "text": [
      " 88%|████████▊ | 2193/2488 [02:48<00:20, 14.55it/s]"
     ]
    },
    {
     "name": "stdout",
     "output_type": "stream",
     "text": [
      "GL_TS_MO_31005.nc  Is moving too much\n"
     ]
    },
    {
     "name": "stderr",
     "output_type": "stream",
     "text": [
      " 91%|█████████▏| 2271/2488 [02:53<00:17, 12.40it/s]"
     ]
    },
    {
     "name": "stdout",
     "output_type": "stream",
     "text": [
      "GL_TS_MO_52087.nc  Is moving too much\n"
     ]
    },
    {
     "name": "stderr",
     "output_type": "stream",
     "text": [
      " 92%|█████████▏| 2296/2488 [02:54<00:08, 23.21it/s]"
     ]
    },
    {
     "name": "stdout",
     "output_type": "stream",
     "text": [
      "GL_TS_MO_15002.nc  Is moving too much\n",
      "Failed to timeslice for BS_TS_MO_VarnaBuoySURF.nc\n"
     ]
    },
    {
     "name": "stderr",
     "output_type": "stream",
     "text": [
      "/home/sarssw/miniconda3/envs/master/lib/python3.10/site-packages/xarray/core/indexes.py:205: FutureWarning: Value based partial slicing on non-monotonic DatetimeIndexes with non-existing keys is deprecated and will raise a KeyError in a future Version.\n",
      "  indexer = index.slice_indexer(\n",
      " 95%|█████████▍| 2354/2488 [02:58<00:09, 14.55it/s]"
     ]
    },
    {
     "name": "stdout",
     "output_type": "stream",
     "text": [
      "GL_TS_MO_2300497.nc  Is moving too much\n"
     ]
    },
    {
     "name": "stderr",
     "output_type": "stream",
     "text": [
      " 95%|█████████▍| 2356/2488 [02:58<00:09, 13.69it/s]"
     ]
    },
    {
     "name": "stdout",
     "output_type": "stream",
     "text": [
      "GL_TS_MO_55024.nc  Is moving too much\n"
     ]
    },
    {
     "name": "stderr",
     "output_type": "stream",
     "text": [
      " 99%|█████████▉| 2457/2488 [03:06<00:01, 21.06it/s]/home/sarssw/miniconda3/envs/master/lib/python3.10/site-packages/xarray/core/indexes.py:205: FutureWarning: Value based partial slicing on non-monotonic DatetimeIndexes with non-existing keys is deprecated and will raise a KeyError in a future Version.\n",
      "  indexer = index.slice_indexer(\n",
      " 99%|█████████▉| 2460/2488 [03:06<00:01, 18.13it/s]"
     ]
    },
    {
     "name": "stdout",
     "output_type": "stream",
     "text": [
      "Failed to timeslice for BS_TS_MO_BurgasBuoySURF.nc\n"
     ]
    },
    {
     "name": "stderr",
     "output_type": "stream",
     "text": [
      "100%|██████████| 2488/2488 [03:09<00:00, 13.13it/s]\n"
     ]
    }
   ],
   "source": [
    "data_dir = '/data/exjobb/sarssw/bouy/INSITU_GLO_PHYBGCWAV_DISCRETE_MYNRT_013_030/MO'\n",
    "start_date = '2021-01-01'\n",
    "end_date = '2021-12-31'\n",
    "variables = ['VHM0', 'VAVH', 'WSPD']\n",
    "\n",
    "write_folder = './all_data_KML'\n",
    "save_var_fn = 'result' #to save data_dir, df_files tuple\n",
    "kml_pinmap_fn = 'kml_pinmap'\n",
    "\n",
    "files = os.listdir(data_dir)\n",
    "\n",
    "df_files = pd.DataFrame({\n",
    "    'file':pd.Series(dtype=object),\n",
    "    'LONG':pd.Series(dtype=float),\n",
    "    'LAT':pd.Series(dtype=float),\n",
    "    'VARS':object,\n",
    "    'LEN':int,\n",
    "    'MOVING':bool,\n",
    "}).rename_axis('file')\n",
    "\n",
    "for file in tqdm(files):\n",
    "    #print(file)\n",
    "    #Open dataset\n",
    "    ds = xr.open_dataset(os.path.join(data_dir, file))#, engine='scipy')\n",
    "\n",
    "    #Filter in time and for quality data\n",
    "    df_data = valid_data_extraction(ds, (start_date, end_date), variables, file)\n",
    "\n",
    "    if df_data is not None:\n",
    "        #Take only average location since some bouys are non-stationary\n",
    "        ave_long = df_data['LONG'].mean()\n",
    "        ave_lat = df_data['LAT'].mean()\n",
    "        data_vars = set(df_data.columns).intersection(variables)\n",
    "        data_len = df_data.shape[0]\n",
    "\n",
    "        #if it moves too much print warning and skip\n",
    "        min_long, max_long = df_data['LONG'].min(), df_data['LONG'].max()\n",
    "        long_diff = max_long - min_long\n",
    "        min_lat, max_lat = df_data['LAT'].min(), df_data['LAT'].max()\n",
    "        lat_diff = max_lat - min_lat\n",
    "\n",
    "        if max(long_diff, lat_diff) > 0.01: #TODO set better limit?\n",
    "            print(file, ' Is moving too much')\n",
    "            df_files.loc[len(df_files.index)] = [file, ave_long, ave_lat, data_vars, data_len, True]\n",
    "            continue\n",
    "\n",
    "        df_files.loc[len(df_files.index)] = [file, ave_long, ave_lat, data_vars, data_len, False]"
   ]
  },
  {
   "cell_type": "code",
   "execution_count": 14,
   "id": "7ee0e1f4",
   "metadata": {},
   "outputs": [],
   "source": [
    "#df_data"
   ]
  },
  {
   "cell_type": "code",
   "execution_count": 17,
   "id": "0c0ef0e1",
   "metadata": {},
   "outputs": [
    {
     "data": {
      "text/html": [
       "<div>\n",
       "<style scoped>\n",
       "    .dataframe tbody tr th:only-of-type {\n",
       "        vertical-align: middle;\n",
       "    }\n",
       "\n",
       "    .dataframe tbody tr th {\n",
       "        vertical-align: top;\n",
       "    }\n",
       "\n",
       "    .dataframe thead th {\n",
       "        text-align: right;\n",
       "    }\n",
       "</style>\n",
       "<table border=\"1\" class=\"dataframe\">\n",
       "  <thead>\n",
       "    <tr style=\"text-align: right;\">\n",
       "      <th></th>\n",
       "      <th>file</th>\n",
       "      <th>LONG</th>\n",
       "      <th>LAT</th>\n",
       "      <th>VARS</th>\n",
       "      <th>LEN</th>\n",
       "      <th>MOVING</th>\n",
       "    </tr>\n",
       "    <tr>\n",
       "      <th>file</th>\n",
       "      <th></th>\n",
       "      <th></th>\n",
       "      <th></th>\n",
       "      <th></th>\n",
       "      <th></th>\n",
       "      <th></th>\n",
       "    </tr>\n",
       "  </thead>\n",
       "  <tbody>\n",
       "    <tr>\n",
       "      <th>2</th>\n",
       "      <td>GL_TS_MO_23014.nc</td>\n",
       "      <td>64.956444</td>\n",
       "      <td>1.743718</td>\n",
       "      <td>{WSPD}</td>\n",
       "      <td>92</td>\n",
       "      <td>True</td>\n",
       "    </tr>\n",
       "    <tr>\n",
       "      <th>5</th>\n",
       "      <td>GL_TS_MO_13010.nc</td>\n",
       "      <td>0.012565</td>\n",
       "      <td>0.013804</td>\n",
       "      <td>{WSPD}</td>\n",
       "      <td>46</td>\n",
       "      <td>True</td>\n",
       "    </tr>\n",
       "    <tr>\n",
       "      <th>6</th>\n",
       "      <td>IR_TS_MO_Tenerife-coast-buoy.nc</td>\n",
       "      <td>-16.239906</td>\n",
       "      <td>28.459993</td>\n",
       "      <td>{VAVH, VHM0}</td>\n",
       "      <td>8529</td>\n",
       "      <td>True</td>\n",
       "    </tr>\n",
       "    <tr>\n",
       "      <th>10</th>\n",
       "      <td>GL_TS_MO_23009.nc</td>\n",
       "      <td>89.049072</td>\n",
       "      <td>15.038194</td>\n",
       "      <td>{WSPD}</td>\n",
       "      <td>150</td>\n",
       "      <td>True</td>\n",
       "    </tr>\n",
       "    <tr>\n",
       "      <th>19</th>\n",
       "      <td>IR_TS_MO_Malaga-coast-buoy.nc</td>\n",
       "      <td>-4.440383</td>\n",
       "      <td>36.659534</td>\n",
       "      <td>{VAVH, VHM0}</td>\n",
       "      <td>8765</td>\n",
       "      <td>True</td>\n",
       "    </tr>\n",
       "    <tr>\n",
       "      <th>26</th>\n",
       "      <td>GL_TS_MO_55018.nc</td>\n",
       "      <td>153.278244</td>\n",
       "      <td>-30.367559</td>\n",
       "      <td>{VAVH}</td>\n",
       "      <td>5695</td>\n",
       "      <td>True</td>\n",
       "    </tr>\n",
       "    <tr>\n",
       "      <th>63</th>\n",
       "      <td>GL_TS_MO_55036.nc</td>\n",
       "      <td>153.510361</td>\n",
       "      <td>-28.111446</td>\n",
       "      <td>{VAVH}</td>\n",
       "      <td>12118</td>\n",
       "      <td>True</td>\n",
       "    </tr>\n",
       "    <tr>\n",
       "      <th>73</th>\n",
       "      <td>GL_TS_MO_1500008.nc</td>\n",
       "      <td>-10.752615</td>\n",
       "      <td>-19.828106</td>\n",
       "      <td>{WSPD}</td>\n",
       "      <td>186</td>\n",
       "      <td>True</td>\n",
       "    </tr>\n",
       "    <tr>\n",
       "      <th>86</th>\n",
       "      <td>GL_TS_MO_4100300.nc</td>\n",
       "      <td>-57.478683</td>\n",
       "      <td>15.850313</td>\n",
       "      <td>{WSPD}</td>\n",
       "      <td>5473</td>\n",
       "      <td>True</td>\n",
       "    </tr>\n",
       "    <tr>\n",
       "      <th>88</th>\n",
       "      <td>GL_TS_MO_55020.nc</td>\n",
       "      <td>150.199234</td>\n",
       "      <td>-37.257584</td>\n",
       "      <td>{VAVH}</td>\n",
       "      <td>6574</td>\n",
       "      <td>True</td>\n",
       "    </tr>\n",
       "    <tr>\n",
       "      <th>90</th>\n",
       "      <td>MO_TS_MO_NADR-S1.nc</td>\n",
       "      <td>12.455674</td>\n",
       "      <td>44.740822</td>\n",
       "      <td>{WSPD}</td>\n",
       "      <td>98286</td>\n",
       "      <td>True</td>\n",
       "    </tr>\n",
       "    <tr>\n",
       "      <th>94</th>\n",
       "      <td>GL_TS_MO_55032.nc</td>\n",
       "      <td>149.362885</td>\n",
       "      <td>-21.313248</td>\n",
       "      <td>{VAVH}</td>\n",
       "      <td>12627</td>\n",
       "      <td>True</td>\n",
       "    </tr>\n",
       "    <tr>\n",
       "      <th>97</th>\n",
       "      <td>GL_TS_MO_55029.nc</td>\n",
       "      <td>147.084839</td>\n",
       "      <td>-19.203285</td>\n",
       "      <td>{VAVH}</td>\n",
       "      <td>11846</td>\n",
       "      <td>True</td>\n",
       "    </tr>\n",
       "    <tr>\n",
       "      <th>99</th>\n",
       "      <td>BO_TS_MO_Norrbyn.nc</td>\n",
       "      <td>19.808571</td>\n",
       "      <td>63.499989</td>\n",
       "      <td>{WSPD}</td>\n",
       "      <td>2369</td>\n",
       "      <td>True</td>\n",
       "    </tr>\n",
       "    <tr>\n",
       "      <th>102</th>\n",
       "      <td>GL_TS_MO_55022.nc</td>\n",
       "      <td>151.020142</td>\n",
       "      <td>-34.471401</td>\n",
       "      <td>{VAVH}</td>\n",
       "      <td>3034</td>\n",
       "      <td>True</td>\n",
       "    </tr>\n",
       "    <tr>\n",
       "      <th>120</th>\n",
       "      <td>GL_TS_MO_55033.nc</td>\n",
       "      <td>151.076233</td>\n",
       "      <td>-23.324911</td>\n",
       "      <td>{VAVH}</td>\n",
       "      <td>10844</td>\n",
       "      <td>True</td>\n",
       "    </tr>\n",
       "    <tr>\n",
       "      <th>132</th>\n",
       "      <td>GL_TS_MO_55046.nc</td>\n",
       "      <td>152.649506</td>\n",
       "      <td>-24.870893</td>\n",
       "      <td>{VAVH}</td>\n",
       "      <td>7329</td>\n",
       "      <td>True</td>\n",
       "    </tr>\n",
       "    <tr>\n",
       "      <th>148</th>\n",
       "      <td>GL_TS_MO_55017.nc</td>\n",
       "      <td>153.680038</td>\n",
       "      <td>-28.870298</td>\n",
       "      <td>{VAVH}</td>\n",
       "      <td>5932</td>\n",
       "      <td>True</td>\n",
       "    </tr>\n",
       "    <tr>\n",
       "      <th>150</th>\n",
       "      <td>GL_TS_MO_41121.nc</td>\n",
       "      <td>17.600512</td>\n",
       "      <td>18.490000</td>\n",
       "      <td>{VHM0}</td>\n",
       "      <td>8110</td>\n",
       "      <td>True</td>\n",
       "    </tr>\n",
       "    <tr>\n",
       "      <th>153</th>\n",
       "      <td>GL_TS_MO_31004.nc</td>\n",
       "      <td>-32.609989</td>\n",
       "      <td>-13.532374</td>\n",
       "      <td>{WSPD}</td>\n",
       "      <td>307</td>\n",
       "      <td>True</td>\n",
       "    </tr>\n",
       "    <tr>\n",
       "      <th>155</th>\n",
       "      <td>GL_TS_MO_55027.nc</td>\n",
       "      <td>153.323608</td>\n",
       "      <td>-27.034042</td>\n",
       "      <td>{VAVH}</td>\n",
       "      <td>12549</td>\n",
       "      <td>True</td>\n",
       "    </tr>\n",
       "    <tr>\n",
       "      <th>157</th>\n",
       "      <td>GL_TS_MO_55045.nc</td>\n",
       "      <td>153.171829</td>\n",
       "      <td>-26.953817</td>\n",
       "      <td>{VAVH}</td>\n",
       "      <td>11866</td>\n",
       "      <td>True</td>\n",
       "    </tr>\n",
       "    <tr>\n",
       "      <th>161</th>\n",
       "      <td>GL_TS_MO_1500009.nc</td>\n",
       "      <td>-2.687808</td>\n",
       "      <td>-0.003000</td>\n",
       "      <td>{WSPD}</td>\n",
       "      <td>198</td>\n",
       "      <td>True</td>\n",
       "    </tr>\n",
       "    <tr>\n",
       "      <th>169</th>\n",
       "      <td>GL_TS_MO_2300453.nc</td>\n",
       "      <td>73.240181</td>\n",
       "      <td>8.177101</td>\n",
       "      <td>{WSPD}</td>\n",
       "      <td>497</td>\n",
       "      <td>True</td>\n",
       "    </tr>\n",
       "    <tr>\n",
       "      <th>171</th>\n",
       "      <td>GL_TS_MO_55028.nc</td>\n",
       "      <td>145.820786</td>\n",
       "      <td>-16.842381</td>\n",
       "      <td>{VAVH}</td>\n",
       "      <td>12478</td>\n",
       "      <td>True</td>\n",
       "    </tr>\n",
       "    <tr>\n",
       "      <th>176</th>\n",
       "      <td>GL_TS_MO_55037.nc</td>\n",
       "      <td>153.686417</td>\n",
       "      <td>-28.208761</td>\n",
       "      <td>{VAVH}</td>\n",
       "      <td>9592</td>\n",
       "      <td>True</td>\n",
       "    </tr>\n",
       "    <tr>\n",
       "      <th>203</th>\n",
       "      <td>GL_TS_MO_55030.nc</td>\n",
       "      <td>153.208755</td>\n",
       "      <td>-26.652884</td>\n",
       "      <td>{VAVH}</td>\n",
       "      <td>12395</td>\n",
       "      <td>True</td>\n",
       "    </tr>\n",
       "    <tr>\n",
       "      <th>231</th>\n",
       "      <td>GL_TS_MO_23016.nc</td>\n",
       "      <td>66.816254</td>\n",
       "      <td>-1.602298</td>\n",
       "      <td>{WSPD}</td>\n",
       "      <td>225</td>\n",
       "      <td>True</td>\n",
       "    </tr>\n",
       "    <tr>\n",
       "      <th>240</th>\n",
       "      <td>GL_TS_MO_53040.nc</td>\n",
       "      <td>95.003418</td>\n",
       "      <td>-8.007356</td>\n",
       "      <td>{WSPD}</td>\n",
       "      <td>3070</td>\n",
       "      <td>True</td>\n",
       "    </tr>\n",
       "    <tr>\n",
       "      <th>246</th>\n",
       "      <td>GL_TS_MO_14041.nc</td>\n",
       "      <td>54.690205</td>\n",
       "      <td>-8.042657</td>\n",
       "      <td>{WSPD}</td>\n",
       "      <td>134</td>\n",
       "      <td>True</td>\n",
       "    </tr>\n",
       "    <tr>\n",
       "      <th>247</th>\n",
       "      <td>GL_TS_MO_2300452.nc</td>\n",
       "      <td>68.615616</td>\n",
       "      <td>12.067404</td>\n",
       "      <td>{WSPD}</td>\n",
       "      <td>1151</td>\n",
       "      <td>True</td>\n",
       "    </tr>\n",
       "    <tr>\n",
       "      <th>258</th>\n",
       "      <td>GL_TS_MO_2300091.nc</td>\n",
       "      <td>89.215782</td>\n",
       "      <td>17.816853</td>\n",
       "      <td>{WSPD}</td>\n",
       "      <td>950</td>\n",
       "      <td>True</td>\n",
       "    </tr>\n",
       "    <tr>\n",
       "      <th>276</th>\n",
       "      <td>GL_TS_MO_23013.nc</td>\n",
       "      <td>66.695229</td>\n",
       "      <td>4.226314</td>\n",
       "      <td>{WSPD}</td>\n",
       "      <td>242</td>\n",
       "      <td>True</td>\n",
       "    </tr>\n",
       "    <tr>\n",
       "      <th>282</th>\n",
       "      <td>GL_TS_MO_55038.nc</td>\n",
       "      <td>151.575302</td>\n",
       "      <td>-24.028364</td>\n",
       "      <td>{VAVH}</td>\n",
       "      <td>12424</td>\n",
       "      <td>True</td>\n",
       "    </tr>\n",
       "    <tr>\n",
       "      <th>289</th>\n",
       "      <td>GL_TS_MO_2300454.nc</td>\n",
       "      <td>72.593628</td>\n",
       "      <td>10.315340</td>\n",
       "      <td>{WSPD}</td>\n",
       "      <td>2095</td>\n",
       "      <td>True</td>\n",
       "    </tr>\n",
       "    <tr>\n",
       "      <th>301</th>\n",
       "      <td>GL_TS_MO_56005.nc</td>\n",
       "      <td>115.406555</td>\n",
       "      <td>-32.100002</td>\n",
       "      <td>{VAVH}</td>\n",
       "      <td>871</td>\n",
       "      <td>True</td>\n",
       "    </tr>\n",
       "    <tr>\n",
       "      <th>313</th>\n",
       "      <td>GL_TS_MO_31003.nc</td>\n",
       "      <td>-30.582623</td>\n",
       "      <td>-8.002038</td>\n",
       "      <td>{WSPD}</td>\n",
       "      <td>309</td>\n",
       "      <td>True</td>\n",
       "    </tr>\n",
       "    <tr>\n",
       "      <th>326</th>\n",
       "      <td>GL_TS_MO_4800400.nc</td>\n",
       "      <td>-144.830933</td>\n",
       "      <td>50.127655</td>\n",
       "      <td>{WSPD}</td>\n",
       "      <td>5544</td>\n",
       "      <td>True</td>\n",
       "    </tr>\n",
       "    <tr>\n",
       "      <th>365</th>\n",
       "      <td>GL_TS_MO_52121.nc</td>\n",
       "      <td>141.910568</td>\n",
       "      <td>-12.910590</td>\n",
       "      <td>{VAVH}</td>\n",
       "      <td>9619</td>\n",
       "      <td>True</td>\n",
       "    </tr>\n",
       "    <tr>\n",
       "      <th>384</th>\n",
       "      <td>GL_TS_MO_2300451.nc</td>\n",
       "      <td>68.989235</td>\n",
       "      <td>14.927629</td>\n",
       "      <td>{WSPD}</td>\n",
       "      <td>1233</td>\n",
       "      <td>True</td>\n",
       "    </tr>\n",
       "    <tr>\n",
       "      <th>398</th>\n",
       "      <td>GL_TS_MO_31005.nc</td>\n",
       "      <td>-34.652050</td>\n",
       "      <td>-18.856468</td>\n",
       "      <td>{WSPD}</td>\n",
       "      <td>186</td>\n",
       "      <td>True</td>\n",
       "    </tr>\n",
       "    <tr>\n",
       "      <th>413</th>\n",
       "      <td>GL_TS_MO_52087.nc</td>\n",
       "      <td>136.494965</td>\n",
       "      <td>7.873004</td>\n",
       "      <td>{WSPD}</td>\n",
       "      <td>1687</td>\n",
       "      <td>True</td>\n",
       "    </tr>\n",
       "    <tr>\n",
       "      <th>416</th>\n",
       "      <td>GL_TS_MO_15002.nc</td>\n",
       "      <td>-9.867017</td>\n",
       "      <td>0.010934</td>\n",
       "      <td>{WSPD}</td>\n",
       "      <td>271</td>\n",
       "      <td>True</td>\n",
       "    </tr>\n",
       "    <tr>\n",
       "      <th>424</th>\n",
       "      <td>GL_TS_MO_2300497.nc</td>\n",
       "      <td>72.290314</td>\n",
       "      <td>10.603866</td>\n",
       "      <td>{WSPD}</td>\n",
       "      <td>2356</td>\n",
       "      <td>True</td>\n",
       "    </tr>\n",
       "    <tr>\n",
       "      <th>426</th>\n",
       "      <td>GL_TS_MO_55024.nc</td>\n",
       "      <td>151.414307</td>\n",
       "      <td>-33.779213</td>\n",
       "      <td>{VAVH}</td>\n",
       "      <td>6997</td>\n",
       "      <td>True</td>\n",
       "    </tr>\n",
       "  </tbody>\n",
       "</table>\n",
       "</div>"
      ],
      "text/plain": [
       "                                 file        LONG        LAT          VARS  \\\n",
       "file                                                                         \n",
       "2                   GL_TS_MO_23014.nc   64.956444   1.743718        {WSPD}   \n",
       "5                   GL_TS_MO_13010.nc    0.012565   0.013804        {WSPD}   \n",
       "6     IR_TS_MO_Tenerife-coast-buoy.nc  -16.239906  28.459993  {VAVH, VHM0}   \n",
       "10                  GL_TS_MO_23009.nc   89.049072  15.038194        {WSPD}   \n",
       "19      IR_TS_MO_Malaga-coast-buoy.nc   -4.440383  36.659534  {VAVH, VHM0}   \n",
       "26                  GL_TS_MO_55018.nc  153.278244 -30.367559        {VAVH}   \n",
       "63                  GL_TS_MO_55036.nc  153.510361 -28.111446        {VAVH}   \n",
       "73                GL_TS_MO_1500008.nc  -10.752615 -19.828106        {WSPD}   \n",
       "86                GL_TS_MO_4100300.nc  -57.478683  15.850313        {WSPD}   \n",
       "88                  GL_TS_MO_55020.nc  150.199234 -37.257584        {VAVH}   \n",
       "90                MO_TS_MO_NADR-S1.nc   12.455674  44.740822        {WSPD}   \n",
       "94                  GL_TS_MO_55032.nc  149.362885 -21.313248        {VAVH}   \n",
       "97                  GL_TS_MO_55029.nc  147.084839 -19.203285        {VAVH}   \n",
       "99                BO_TS_MO_Norrbyn.nc   19.808571  63.499989        {WSPD}   \n",
       "102                 GL_TS_MO_55022.nc  151.020142 -34.471401        {VAVH}   \n",
       "120                 GL_TS_MO_55033.nc  151.076233 -23.324911        {VAVH}   \n",
       "132                 GL_TS_MO_55046.nc  152.649506 -24.870893        {VAVH}   \n",
       "148                 GL_TS_MO_55017.nc  153.680038 -28.870298        {VAVH}   \n",
       "150                 GL_TS_MO_41121.nc   17.600512  18.490000        {VHM0}   \n",
       "153                 GL_TS_MO_31004.nc  -32.609989 -13.532374        {WSPD}   \n",
       "155                 GL_TS_MO_55027.nc  153.323608 -27.034042        {VAVH}   \n",
       "157                 GL_TS_MO_55045.nc  153.171829 -26.953817        {VAVH}   \n",
       "161               GL_TS_MO_1500009.nc   -2.687808  -0.003000        {WSPD}   \n",
       "169               GL_TS_MO_2300453.nc   73.240181   8.177101        {WSPD}   \n",
       "171                 GL_TS_MO_55028.nc  145.820786 -16.842381        {VAVH}   \n",
       "176                 GL_TS_MO_55037.nc  153.686417 -28.208761        {VAVH}   \n",
       "203                 GL_TS_MO_55030.nc  153.208755 -26.652884        {VAVH}   \n",
       "231                 GL_TS_MO_23016.nc   66.816254  -1.602298        {WSPD}   \n",
       "240                 GL_TS_MO_53040.nc   95.003418  -8.007356        {WSPD}   \n",
       "246                 GL_TS_MO_14041.nc   54.690205  -8.042657        {WSPD}   \n",
       "247               GL_TS_MO_2300452.nc   68.615616  12.067404        {WSPD}   \n",
       "258               GL_TS_MO_2300091.nc   89.215782  17.816853        {WSPD}   \n",
       "276                 GL_TS_MO_23013.nc   66.695229   4.226314        {WSPD}   \n",
       "282                 GL_TS_MO_55038.nc  151.575302 -24.028364        {VAVH}   \n",
       "289               GL_TS_MO_2300454.nc   72.593628  10.315340        {WSPD}   \n",
       "301                 GL_TS_MO_56005.nc  115.406555 -32.100002        {VAVH}   \n",
       "313                 GL_TS_MO_31003.nc  -30.582623  -8.002038        {WSPD}   \n",
       "326               GL_TS_MO_4800400.nc -144.830933  50.127655        {WSPD}   \n",
       "365                 GL_TS_MO_52121.nc  141.910568 -12.910590        {VAVH}   \n",
       "384               GL_TS_MO_2300451.nc   68.989235  14.927629        {WSPD}   \n",
       "398                 GL_TS_MO_31005.nc  -34.652050 -18.856468        {WSPD}   \n",
       "413                 GL_TS_MO_52087.nc  136.494965   7.873004        {WSPD}   \n",
       "416                 GL_TS_MO_15002.nc   -9.867017   0.010934        {WSPD}   \n",
       "424               GL_TS_MO_2300497.nc   72.290314  10.603866        {WSPD}   \n",
       "426                 GL_TS_MO_55024.nc  151.414307 -33.779213        {VAVH}   \n",
       "\n",
       "        LEN  MOVING  \n",
       "file                 \n",
       "2        92    True  \n",
       "5        46    True  \n",
       "6      8529    True  \n",
       "10      150    True  \n",
       "19     8765    True  \n",
       "26     5695    True  \n",
       "63    12118    True  \n",
       "73      186    True  \n",
       "86     5473    True  \n",
       "88     6574    True  \n",
       "90    98286    True  \n",
       "94    12627    True  \n",
       "97    11846    True  \n",
       "99     2369    True  \n",
       "102    3034    True  \n",
       "120   10844    True  \n",
       "132    7329    True  \n",
       "148    5932    True  \n",
       "150    8110    True  \n",
       "153     307    True  \n",
       "155   12549    True  \n",
       "157   11866    True  \n",
       "161     198    True  \n",
       "169     497    True  \n",
       "171   12478    True  \n",
       "176    9592    True  \n",
       "203   12395    True  \n",
       "231     225    True  \n",
       "240    3070    True  \n",
       "246     134    True  \n",
       "247    1151    True  \n",
       "258     950    True  \n",
       "276     242    True  \n",
       "282   12424    True  \n",
       "289    2095    True  \n",
       "301     871    True  \n",
       "313     309    True  \n",
       "326    5544    True  \n",
       "365    9619    True  \n",
       "384    1233    True  \n",
       "398     186    True  \n",
       "413    1687    True  \n",
       "416     271    True  \n",
       "424    2356    True  \n",
       "426    6997    True  "
      ]
     },
     "execution_count": 17,
     "metadata": {},
     "output_type": "execute_result"
    }
   ],
   "source": [
    "df_files[df_files['MOVING']]"
   ]
  },
  {
   "cell_type": "code",
   "execution_count": 16,
   "id": "e04700d9",
   "metadata": {},
   "outputs": [],
   "source": [
    "#Conditionally creates the folder for the result\n",
    "os.makedirs(write_folder, exist_ok=True)\n",
    "\n",
    "#Save datadir and resulting dataframe\n",
    "with open(os.path.join(write_folder, save_var_fn),'wb') as f_w:\n",
    "    pickle.dump((data_dir, df_files), f_w)\n",
    "\n",
    "#Create kml map\n",
    "KML_fldr = KML.Folder(\n",
    "    KML.name(\"All files\"),\n",
    "    KML.description(\n",
    "        \"Timeinterval: \" + start_date + \" to \" + end_date + '\\n' + str(variables)\n",
    "    )\n",
    ")\n",
    "\n",
    "#iterate over all unique variable name, file name pairs\n",
    "for index,row in df_files.iterrows():\n",
    "    #extract longitude and latitude\n",
    "    long = row['LONG']\n",
    "    lat = row['LAT']\n",
    "    \n",
    "    #Create the pin\n",
    "    pin = KML.Placemark(\n",
    "        KML.name(row['LEN']),\n",
    "        KML.description(row['file'] + '\\n' + str(row['LEN']) + \" datapoints\"),\n",
    "        KML.Point(\n",
    "            KML.coordinates(str(long) + \",\" + str(lat))\n",
    "        )\n",
    "    )\n",
    "    KML_fldr.append(pin)\n",
    "    \n",
    "with open(os.path.join(write_folder, kml_pinmap_fn + '.kml'), 'w') as f_w:\n",
    "    f_w.write(lxml.etree.tostring(KML_fldr, pretty_print=True).decode())"
   ]
  }
 ],
 "metadata": {
  "kernelspec": {
   "display_name": "Python 3 (ipykernel)",
   "language": "python",
   "name": "python3"
  },
  "language_info": {
   "codemirror_mode": {
    "name": "ipython",
    "version": 3
   },
   "file_extension": ".py",
   "mimetype": "text/x-python",
   "name": "python",
   "nbconvert_exporter": "python",
   "pygments_lexer": "ipython3",
   "version": "3.10.9"
  },
  "vscode": {
   "interpreter": {
    "hash": "40bfc0d3c9c7ef61b829322f934671b287025ad156098ea4a38fed0ccd45344b"
   }
  }
 },
 "nbformat": 4,
 "nbformat_minor": 5
}
