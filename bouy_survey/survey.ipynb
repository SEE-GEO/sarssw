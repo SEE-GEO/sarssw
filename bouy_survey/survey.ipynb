{
 "cells": [
  {
   "cell_type": "code",
   "execution_count": 1,
   "id": "271d6b17",
   "metadata": {
    "collapsed": true
   },
   "outputs": [],
   "source": [
    "import numpy as np\n",
    "import pandas as pd\n",
    "import xarray as xr\n",
    "import os\n",
    "import asf_search as asf\n",
    "from collections import defaultdict\n",
    "import datetime\n",
    "import pickle\n",
    "from tqdm import tqdm\n",
    "from functools import reduce\n",
    "import itertools\n",
    "from shapely import Polygon, Point\n",
    "import operator\n",
    "import lxml\n",
    "from pykml.factory import KML_ElementMaker as KML"
   ]
  },
  {
   "cell_type": "code",
   "execution_count": 2,
   "id": "081820b4",
   "metadata": {
    "collapsed": true
   },
   "outputs": [
    {
     "data": {
      "text/html": [
       "<div><svg style=\"position: absolute; width: 0; height: 0; overflow: hidden\">\n",
       "<defs>\n",
       "<symbol id=\"icon-database\" viewBox=\"0 0 32 32\">\n",
       "<path d=\"M16 0c-8.837 0-16 2.239-16 5v4c0 2.761 7.163 5 16 5s16-2.239 16-5v-4c0-2.761-7.163-5-16-5z\"></path>\n",
       "<path d=\"M16 17c-8.837 0-16-2.239-16-5v6c0 2.761 7.163 5 16 5s16-2.239 16-5v-6c0 2.761-7.163 5-16 5z\"></path>\n",
       "<path d=\"M16 26c-8.837 0-16-2.239-16-5v6c0 2.761 7.163 5 16 5s16-2.239 16-5v-6c0 2.761-7.163 5-16 5z\"></path>\n",
       "</symbol>\n",
       "<symbol id=\"icon-file-text2\" viewBox=\"0 0 32 32\">\n",
       "<path d=\"M28.681 7.159c-0.694-0.947-1.662-2.053-2.724-3.116s-2.169-2.030-3.116-2.724c-1.612-1.182-2.393-1.319-2.841-1.319h-15.5c-1.378 0-2.5 1.121-2.5 2.5v27c0 1.378 1.122 2.5 2.5 2.5h23c1.378 0 2.5-1.122 2.5-2.5v-19.5c0-0.448-0.137-1.23-1.319-2.841zM24.543 5.457c0.959 0.959 1.712 1.825 2.268 2.543h-4.811v-4.811c0.718 0.556 1.584 1.309 2.543 2.268zM28 29.5c0 0.271-0.229 0.5-0.5 0.5h-23c-0.271 0-0.5-0.229-0.5-0.5v-27c0-0.271 0.229-0.5 0.5-0.5 0 0 15.499-0 15.5 0v7c0 0.552 0.448 1 1 1h7v19.5z\"></path>\n",
       "<path d=\"M23 26h-14c-0.552 0-1-0.448-1-1s0.448-1 1-1h14c0.552 0 1 0.448 1 1s-0.448 1-1 1z\"></path>\n",
       "<path d=\"M23 22h-14c-0.552 0-1-0.448-1-1s0.448-1 1-1h14c0.552 0 1 0.448 1 1s-0.448 1-1 1z\"></path>\n",
       "<path d=\"M23 18h-14c-0.552 0-1-0.448-1-1s0.448-1 1-1h14c0.552 0 1 0.448 1 1s-0.448 1-1 1z\"></path>\n",
       "</symbol>\n",
       "</defs>\n",
       "</svg>\n",
       "<style>/* CSS stylesheet for displaying xarray objects in jupyterlab.\n",
       " *\n",
       " */\n",
       "\n",
       ":root {\n",
       "  --xr-font-color0: var(--jp-content-font-color0, rgba(0, 0, 0, 1));\n",
       "  --xr-font-color2: var(--jp-content-font-color2, rgba(0, 0, 0, 0.54));\n",
       "  --xr-font-color3: var(--jp-content-font-color3, rgba(0, 0, 0, 0.38));\n",
       "  --xr-border-color: var(--jp-border-color2, #e0e0e0);\n",
       "  --xr-disabled-color: var(--jp-layout-color3, #bdbdbd);\n",
       "  --xr-background-color: var(--jp-layout-color0, white);\n",
       "  --xr-background-color-row-even: var(--jp-layout-color1, white);\n",
       "  --xr-background-color-row-odd: var(--jp-layout-color2, #eeeeee);\n",
       "}\n",
       "\n",
       "html[theme=dark],\n",
       "body[data-theme=dark],\n",
       "body.vscode-dark {\n",
       "  --xr-font-color0: rgba(255, 255, 255, 1);\n",
       "  --xr-font-color2: rgba(255, 255, 255, 0.54);\n",
       "  --xr-font-color3: rgba(255, 255, 255, 0.38);\n",
       "  --xr-border-color: #1F1F1F;\n",
       "  --xr-disabled-color: #515151;\n",
       "  --xr-background-color: #111111;\n",
       "  --xr-background-color-row-even: #111111;\n",
       "  --xr-background-color-row-odd: #313131;\n",
       "}\n",
       "\n",
       ".xr-wrap {\n",
       "  display: block !important;\n",
       "  min-width: 300px;\n",
       "  max-width: 700px;\n",
       "}\n",
       "\n",
       ".xr-text-repr-fallback {\n",
       "  /* fallback to plain text repr when CSS is not injected (untrusted notebook) */\n",
       "  display: none;\n",
       "}\n",
       "\n",
       ".xr-header {\n",
       "  padding-top: 6px;\n",
       "  padding-bottom: 6px;\n",
       "  margin-bottom: 4px;\n",
       "  border-bottom: solid 1px var(--xr-border-color);\n",
       "}\n",
       "\n",
       ".xr-header > div,\n",
       ".xr-header > ul {\n",
       "  display: inline;\n",
       "  margin-top: 0;\n",
       "  margin-bottom: 0;\n",
       "}\n",
       "\n",
       ".xr-obj-type,\n",
       ".xr-array-name {\n",
       "  margin-left: 2px;\n",
       "  margin-right: 10px;\n",
       "}\n",
       "\n",
       ".xr-obj-type {\n",
       "  color: var(--xr-font-color2);\n",
       "}\n",
       "\n",
       ".xr-sections {\n",
       "  padding-left: 0 !important;\n",
       "  display: grid;\n",
       "  grid-template-columns: 150px auto auto 1fr 20px 20px;\n",
       "}\n",
       "\n",
       ".xr-section-item {\n",
       "  display: contents;\n",
       "}\n",
       "\n",
       ".xr-section-item input {\n",
       "  display: none;\n",
       "}\n",
       "\n",
       ".xr-section-item input + label {\n",
       "  color: var(--xr-disabled-color);\n",
       "}\n",
       "\n",
       ".xr-section-item input:enabled + label {\n",
       "  cursor: pointer;\n",
       "  color: var(--xr-font-color2);\n",
       "}\n",
       "\n",
       ".xr-section-item input:enabled + label:hover {\n",
       "  color: var(--xr-font-color0);\n",
       "}\n",
       "\n",
       ".xr-section-summary {\n",
       "  grid-column: 1;\n",
       "  color: var(--xr-font-color2);\n",
       "  font-weight: 500;\n",
       "}\n",
       "\n",
       ".xr-section-summary > span {\n",
       "  display: inline-block;\n",
       "  padding-left: 0.5em;\n",
       "}\n",
       "\n",
       ".xr-section-summary-in:disabled + label {\n",
       "  color: var(--xr-font-color2);\n",
       "}\n",
       "\n",
       ".xr-section-summary-in + label:before {\n",
       "  display: inline-block;\n",
       "  content: '►';\n",
       "  font-size: 11px;\n",
       "  width: 15px;\n",
       "  text-align: center;\n",
       "}\n",
       "\n",
       ".xr-section-summary-in:disabled + label:before {\n",
       "  color: var(--xr-disabled-color);\n",
       "}\n",
       "\n",
       ".xr-section-summary-in:checked + label:before {\n",
       "  content: '▼';\n",
       "}\n",
       "\n",
       ".xr-section-summary-in:checked + label > span {\n",
       "  display: none;\n",
       "}\n",
       "\n",
       ".xr-section-summary,\n",
       ".xr-section-inline-details {\n",
       "  padding-top: 4px;\n",
       "  padding-bottom: 4px;\n",
       "}\n",
       "\n",
       ".xr-section-inline-details {\n",
       "  grid-column: 2 / -1;\n",
       "}\n",
       "\n",
       ".xr-section-details {\n",
       "  display: none;\n",
       "  grid-column: 1 / -1;\n",
       "  margin-bottom: 5px;\n",
       "}\n",
       "\n",
       ".xr-section-summary-in:checked ~ .xr-section-details {\n",
       "  display: contents;\n",
       "}\n",
       "\n",
       ".xr-array-wrap {\n",
       "  grid-column: 1 / -1;\n",
       "  display: grid;\n",
       "  grid-template-columns: 20px auto;\n",
       "}\n",
       "\n",
       ".xr-array-wrap > label {\n",
       "  grid-column: 1;\n",
       "  vertical-align: top;\n",
       "}\n",
       "\n",
       ".xr-preview {\n",
       "  color: var(--xr-font-color3);\n",
       "}\n",
       "\n",
       ".xr-array-preview,\n",
       ".xr-array-data {\n",
       "  padding: 0 5px !important;\n",
       "  grid-column: 2;\n",
       "}\n",
       "\n",
       ".xr-array-data,\n",
       ".xr-array-in:checked ~ .xr-array-preview {\n",
       "  display: none;\n",
       "}\n",
       "\n",
       ".xr-array-in:checked ~ .xr-array-data,\n",
       ".xr-array-preview {\n",
       "  display: inline-block;\n",
       "}\n",
       "\n",
       ".xr-dim-list {\n",
       "  display: inline-block !important;\n",
       "  list-style: none;\n",
       "  padding: 0 !important;\n",
       "  margin: 0;\n",
       "}\n",
       "\n",
       ".xr-dim-list li {\n",
       "  display: inline-block;\n",
       "  padding: 0;\n",
       "  margin: 0;\n",
       "}\n",
       "\n",
       ".xr-dim-list:before {\n",
       "  content: '(';\n",
       "}\n",
       "\n",
       ".xr-dim-list:after {\n",
       "  content: ')';\n",
       "}\n",
       "\n",
       ".xr-dim-list li:not(:last-child):after {\n",
       "  content: ',';\n",
       "  padding-right: 5px;\n",
       "}\n",
       "\n",
       ".xr-has-index {\n",
       "  font-weight: bold;\n",
       "}\n",
       "\n",
       ".xr-var-list,\n",
       ".xr-var-item {\n",
       "  display: contents;\n",
       "}\n",
       "\n",
       ".xr-var-item > div,\n",
       ".xr-var-item label,\n",
       ".xr-var-item > .xr-var-name span {\n",
       "  background-color: var(--xr-background-color-row-even);\n",
       "  margin-bottom: 0;\n",
       "}\n",
       "\n",
       ".xr-var-item > .xr-var-name:hover span {\n",
       "  padding-right: 5px;\n",
       "}\n",
       "\n",
       ".xr-var-list > li:nth-child(odd) > div,\n",
       ".xr-var-list > li:nth-child(odd) > label,\n",
       ".xr-var-list > li:nth-child(odd) > .xr-var-name span {\n",
       "  background-color: var(--xr-background-color-row-odd);\n",
       "}\n",
       "\n",
       ".xr-var-name {\n",
       "  grid-column: 1;\n",
       "}\n",
       "\n",
       ".xr-var-dims {\n",
       "  grid-column: 2;\n",
       "}\n",
       "\n",
       ".xr-var-dtype {\n",
       "  grid-column: 3;\n",
       "  text-align: right;\n",
       "  color: var(--xr-font-color2);\n",
       "}\n",
       "\n",
       ".xr-var-preview {\n",
       "  grid-column: 4;\n",
       "}\n",
       "\n",
       ".xr-index-preview {\n",
       "  grid-column: 2 / 5;\n",
       "  color: var(--xr-font-color2);\n",
       "}\n",
       "\n",
       ".xr-var-name,\n",
       ".xr-var-dims,\n",
       ".xr-var-dtype,\n",
       ".xr-preview,\n",
       ".xr-attrs dt {\n",
       "  white-space: nowrap;\n",
       "  overflow: hidden;\n",
       "  text-overflow: ellipsis;\n",
       "  padding-right: 10px;\n",
       "}\n",
       "\n",
       ".xr-var-name:hover,\n",
       ".xr-var-dims:hover,\n",
       ".xr-var-dtype:hover,\n",
       ".xr-attrs dt:hover {\n",
       "  overflow: visible;\n",
       "  width: auto;\n",
       "  z-index: 1;\n",
       "}\n",
       "\n",
       ".xr-var-attrs,\n",
       ".xr-var-data,\n",
       ".xr-index-data {\n",
       "  display: none;\n",
       "  background-color: var(--xr-background-color) !important;\n",
       "  padding-bottom: 5px !important;\n",
       "}\n",
       "\n",
       ".xr-var-attrs-in:checked ~ .xr-var-attrs,\n",
       ".xr-var-data-in:checked ~ .xr-var-data,\n",
       ".xr-index-data-in:checked ~ .xr-index-data {\n",
       "  display: block;\n",
       "}\n",
       "\n",
       ".xr-var-data > table {\n",
       "  float: right;\n",
       "}\n",
       "\n",
       ".xr-var-name span,\n",
       ".xr-var-data,\n",
       ".xr-index-name div,\n",
       ".xr-index-data,\n",
       ".xr-attrs {\n",
       "  padding-left: 25px !important;\n",
       "}\n",
       "\n",
       ".xr-attrs,\n",
       ".xr-var-attrs,\n",
       ".xr-var-data,\n",
       ".xr-index-data {\n",
       "  grid-column: 1 / -1;\n",
       "}\n",
       "\n",
       "dl.xr-attrs {\n",
       "  padding: 0;\n",
       "  margin: 0;\n",
       "  display: grid;\n",
       "  grid-template-columns: 125px auto;\n",
       "}\n",
       "\n",
       ".xr-attrs dt,\n",
       ".xr-attrs dd {\n",
       "  padding: 0;\n",
       "  margin: 0;\n",
       "  float: left;\n",
       "  padding-right: 10px;\n",
       "  width: auto;\n",
       "}\n",
       "\n",
       ".xr-attrs dt {\n",
       "  font-weight: normal;\n",
       "  grid-column: 1;\n",
       "}\n",
       "\n",
       ".xr-attrs dt:hover span {\n",
       "  display: inline-block;\n",
       "  background: var(--xr-background-color);\n",
       "  padding-right: 10px;\n",
       "}\n",
       "\n",
       ".xr-attrs dd {\n",
       "  grid-column: 2;\n",
       "  white-space: pre-wrap;\n",
       "  word-break: break-all;\n",
       "}\n",
       "\n",
       ".xr-icon-database,\n",
       ".xr-icon-file-text2,\n",
       ".xr-no-icon {\n",
       "  display: inline-block;\n",
       "  vertical-align: middle;\n",
       "  width: 1em;\n",
       "  height: 1.5em !important;\n",
       "  stroke-width: 0;\n",
       "  stroke: currentColor;\n",
       "  fill: currentColor;\n",
       "}\n",
       "</style><pre class='xr-text-repr-fallback'>&lt;xarray.Dataset&gt;\n",
       "Dimensions:      (TIME: 53169, DEPTH: 1, LATITUDE: 53169, POSITION: 53169,\n",
       "                  LONGITUDE: 53169)\n",
       "Coordinates:\n",
       "  * TIME         (TIME) datetime64[ns] 2014-06-20T10:00:00 ... 2022-10-25T18:...\n",
       "    DEPH         (TIME, DEPTH) float32 ...\n",
       "  * LATITUDE     (LATITUDE) float32 53.6 53.6 53.6 53.6 ... 53.6 53.6 53.6 53.6\n",
       "  * LONGITUDE    (LONGITUDE) float32 0.7 0.7 0.7 0.7 0.7 ... 0.7 0.7 0.7 0.7 0.7\n",
       "Dimensions without coordinates: DEPTH, POSITION\n",
       "Data variables: (12/19)\n",
       "    TIME_QC      (TIME) float32 ...\n",
       "    DEPH_QC      (TIME, DEPTH) float32 ...\n",
       "    DEWT         (TIME, DEPTH) float64 ...\n",
       "    DEWT_QC      (TIME, DEPTH) float32 ...\n",
       "    ATMS         (TIME, DEPTH) float64 ...\n",
       "    ATMS_QC      (TIME, DEPTH) float32 ...\n",
       "    ...           ...\n",
       "    VTZA_DM      (TIME, DEPTH) object ...\n",
       "    WSPD         (TIME, DEPTH) float64 ...\n",
       "    WSPD_QC      (TIME, DEPTH) float32 ...\n",
       "    WDIR         (TIME, DEPTH) float64 ...\n",
       "    WDIR_QC      (TIME, DEPTH) float32 ...\n",
       "    POSITION_QC  (POSITION) float32 ...\n",
       "Attributes: (12/46)\n",
       "    platform_code:                  6200150\n",
       "    platform_name:                  \n",
       "    data_mode:                      M\n",
       "    title:                          Atlantic-European North West Shelf-Ocean ...\n",
       "    summary:                        Oceanographic data collated by the North ...\n",
       "    naming_authority:               Copernicus Marine In Situ\n",
       "    ...                             ...\n",
       "    doi:                            \n",
       "    pi_name:                        \n",
       "    qc_manual:                      Recommendations for in-situ data Near Rea...\n",
       "    date_update:                    2023-01-01T07:07:23Z\n",
       "    history:                        2023-01-01T07:07:23Z : Creation\n",
       "    wmo_inst_type:                  </pre><div class='xr-wrap' style='display:none'><div class='xr-header'><div class='xr-obj-type'>xarray.Dataset</div></div><ul class='xr-sections'><li class='xr-section-item'><input id='section-9afd733a-5997-43b1-9f80-cb89e22e044e' class='xr-section-summary-in' type='checkbox' disabled ><label for='section-9afd733a-5997-43b1-9f80-cb89e22e044e' class='xr-section-summary'  title='Expand/collapse section'>Dimensions:</label><div class='xr-section-inline-details'><ul class='xr-dim-list'><li><span class='xr-has-index'>TIME</span>: 53169</li><li><span>DEPTH</span>: 1</li><li><span class='xr-has-index'>LATITUDE</span>: 53169</li><li><span>POSITION</span>: 53169</li><li><span class='xr-has-index'>LONGITUDE</span>: 53169</li></ul></div><div class='xr-section-details'></div></li><li class='xr-section-item'><input id='section-c57dc7e1-bdf3-4b8b-aac0-036dfc9750dd' class='xr-section-summary-in' type='checkbox'  checked><label for='section-c57dc7e1-bdf3-4b8b-aac0-036dfc9750dd' class='xr-section-summary' >Coordinates: <span>(4)</span></label><div class='xr-section-inline-details'></div><div class='xr-section-details'><ul class='xr-var-list'><li class='xr-var-item'><div class='xr-var-name'><span class='xr-has-index'>TIME</span></div><div class='xr-var-dims'>(TIME)</div><div class='xr-var-dtype'>datetime64[ns]</div><div class='xr-var-preview xr-preview'>2014-06-20T10:00:00 ... 2022-10-...</div><input id='attrs-380efa0a-e34c-44a9-887f-c20a0efb1475' class='xr-var-attrs-in' type='checkbox' ><label for='attrs-380efa0a-e34c-44a9-887f-c20a0efb1475' title='Show/Hide attributes'><svg class='icon xr-icon-file-text2'><use xlink:href='#icon-file-text2'></use></svg></label><input id='data-2553cb0b-1127-45f0-86ba-b0b1dbc09f14' class='xr-var-data-in' type='checkbox'><label for='data-2553cb0b-1127-45f0-86ba-b0b1dbc09f14' title='Show/Hide data repr'><svg class='icon xr-icon-database'><use xlink:href='#icon-database'></use></svg></label><div class='xr-var-attrs'><dl class='xr-attrs'><dt><span>long_name :</span></dt><dd>Time</dd><dt><span>standard_name :</span></dt><dd>time</dd><dt><span>valid_min :</span></dt><dd>-90000.0</dd><dt><span>valid_max :</span></dt><dd>90000.0</dd><dt><span>uncertainty :</span></dt><dd> </dd><dt><span>comment :</span></dt><dd> </dd><dt><span>axis :</span></dt><dd>T</dd><dt><span>ancillary_variables :</span></dt><dd>TIME_QC</dd></dl></div><div class='xr-var-data'><pre>array([&#x27;2014-06-20T10:00:00.000000000&#x27;, &#x27;2014-06-20T11:00:00.000000000&#x27;,\n",
       "       &#x27;2014-06-20T12:00:00.000000000&#x27;, ..., &#x27;2022-10-25T16:00:00.000000000&#x27;,\n",
       "       &#x27;2022-10-25T17:00:00.000000000&#x27;, &#x27;2022-10-25T18:00:00.000000000&#x27;],\n",
       "      dtype=&#x27;datetime64[ns]&#x27;)</pre></div></li><li class='xr-var-item'><div class='xr-var-name'><span>DEPH</span></div><div class='xr-var-dims'>(TIME, DEPTH)</div><div class='xr-var-dtype'>float32</div><div class='xr-var-preview xr-preview'>...</div><input id='attrs-a43537ba-80af-4923-87c0-c00e7ff5bd3e' class='xr-var-attrs-in' type='checkbox' ><label for='attrs-a43537ba-80af-4923-87c0-c00e7ff5bd3e' title='Show/Hide attributes'><svg class='icon xr-icon-file-text2'><use xlink:href='#icon-file-text2'></use></svg></label><input id='data-dcfdaebe-9d0f-4391-a140-022ed3e5ba3c' class='xr-var-data-in' type='checkbox'><label for='data-dcfdaebe-9d0f-4391-a140-022ed3e5ba3c' title='Show/Hide data repr'><svg class='icon xr-icon-database'><use xlink:href='#icon-database'></use></svg></label><div class='xr-var-attrs'><dl class='xr-attrs'><dt><span>long_name :</span></dt><dd>Depth</dd><dt><span>standard_name :</span></dt><dd>depth</dd><dt><span>units :</span></dt><dd>m</dd><dt><span>positive :</span></dt><dd>down</dd><dt><span>valid_min :</span></dt><dd>-12000.0</dd><dt><span>valid_max :</span></dt><dd>12000.0</dd><dt><span>uncertainty :</span></dt><dd></dd><dt><span>comment :</span></dt><dd></dd><dt><span>axis :</span></dt><dd>Z</dd><dt><span>reference :</span></dt><dd>sea_level</dd><dt><span>data_mode :</span></dt><dd>R</dd><dt><span>ancillary_variables :</span></dt><dd>DEPH_QC</dd></dl></div><div class='xr-var-data'><pre>[53169 values with dtype=float32]</pre></div></li><li class='xr-var-item'><div class='xr-var-name'><span class='xr-has-index'>LATITUDE</span></div><div class='xr-var-dims'>(LATITUDE)</div><div class='xr-var-dtype'>float32</div><div class='xr-var-preview xr-preview'>53.6 53.6 53.6 ... 53.6 53.6 53.6</div><input id='attrs-6a9b5016-5087-4836-ab31-1b86f45aab93' class='xr-var-attrs-in' type='checkbox' ><label for='attrs-6a9b5016-5087-4836-ab31-1b86f45aab93' title='Show/Hide attributes'><svg class='icon xr-icon-file-text2'><use xlink:href='#icon-file-text2'></use></svg></label><input id='data-ea59ea7b-67b4-486f-bc59-ecd964eec669' class='xr-var-data-in' type='checkbox'><label for='data-ea59ea7b-67b4-486f-bc59-ecd964eec669' title='Show/Hide data repr'><svg class='icon xr-icon-database'><use xlink:href='#icon-database'></use></svg></label><div class='xr-var-attrs'><dl class='xr-attrs'><dt><span>long_name :</span></dt><dd>Latitude of each location</dd><dt><span>standard_name :</span></dt><dd>latitude</dd><dt><span>units :</span></dt><dd>degree_north</dd><dt><span>valid_min :</span></dt><dd>-90.0</dd><dt><span>valid_max :</span></dt><dd>90.0</dd><dt><span>uncertainty :</span></dt><dd></dd><dt><span>comment :</span></dt><dd></dd><dt><span>axis :</span></dt><dd>Y</dd><dt><span>ancillary_variables :</span></dt><dd>POSITION_QC</dd></dl></div><div class='xr-var-data'><pre>array([53.6, 53.6, 53.6, ..., 53.6, 53.6, 53.6], dtype=float32)</pre></div></li><li class='xr-var-item'><div class='xr-var-name'><span class='xr-has-index'>LONGITUDE</span></div><div class='xr-var-dims'>(LONGITUDE)</div><div class='xr-var-dtype'>float32</div><div class='xr-var-preview xr-preview'>0.7 0.7 0.7 0.7 ... 0.7 0.7 0.7 0.7</div><input id='attrs-94133eac-e653-4b47-b3af-cee7d75f322f' class='xr-var-attrs-in' type='checkbox' ><label for='attrs-94133eac-e653-4b47-b3af-cee7d75f322f' title='Show/Hide attributes'><svg class='icon xr-icon-file-text2'><use xlink:href='#icon-file-text2'></use></svg></label><input id='data-260e4c25-6271-4a3c-b888-53734f97645c' class='xr-var-data-in' type='checkbox'><label for='data-260e4c25-6271-4a3c-b888-53734f97645c' title='Show/Hide data repr'><svg class='icon xr-icon-database'><use xlink:href='#icon-database'></use></svg></label><div class='xr-var-attrs'><dl class='xr-attrs'><dt><span>long_name :</span></dt><dd>Longitude of each location</dd><dt><span>standard_name :</span></dt><dd>longitude</dd><dt><span>units :</span></dt><dd>degree_east</dd><dt><span>valid_min :</span></dt><dd>-180.0</dd><dt><span>valid_max :</span></dt><dd>180.0</dd><dt><span>uncertainty :</span></dt><dd></dd><dt><span>comment :</span></dt><dd></dd><dt><span>axis :</span></dt><dd>X</dd><dt><span>ancillary_variables :</span></dt><dd>POSITION_QC</dd></dl></div><div class='xr-var-data'><pre>array([0.7, 0.7, 0.7, ..., 0.7, 0.7, 0.7], dtype=float32)</pre></div></li></ul></div></li><li class='xr-section-item'><input id='section-d49099b9-e34d-4a70-a07e-692e8c52be56' class='xr-section-summary-in' type='checkbox'  ><label for='section-d49099b9-e34d-4a70-a07e-692e8c52be56' class='xr-section-summary' >Data variables: <span>(19)</span></label><div class='xr-section-inline-details'></div><div class='xr-section-details'><ul class='xr-var-list'><li class='xr-var-item'><div class='xr-var-name'><span>TIME_QC</span></div><div class='xr-var-dims'>(TIME)</div><div class='xr-var-dtype'>float32</div><div class='xr-var-preview xr-preview'>...</div><input id='attrs-90eb0cd4-db0a-4eb9-a023-66dbe1384a1f' class='xr-var-attrs-in' type='checkbox' ><label for='attrs-90eb0cd4-db0a-4eb9-a023-66dbe1384a1f' title='Show/Hide attributes'><svg class='icon xr-icon-file-text2'><use xlink:href='#icon-file-text2'></use></svg></label><input id='data-58b32499-2860-43d8-ad7f-4584f5192980' class='xr-var-data-in' type='checkbox'><label for='data-58b32499-2860-43d8-ad7f-4584f5192980' title='Show/Hide data repr'><svg class='icon xr-icon-database'><use xlink:href='#icon-database'></use></svg></label><div class='xr-var-attrs'><dl class='xr-attrs'><dt><span>long_name :</span></dt><dd>Time quality flag</dd><dt><span>conventions :</span></dt><dd>Copernicus Marine In Situ reference table 2</dd><dt><span>valid_min :</span></dt><dd>0</dd><dt><span>valid_max :</span></dt><dd>9</dd><dt><span>flag_values :</span></dt><dd>[0 1 2 3 4 5 6 7 8 9]</dd><dt><span>flag_meanings :</span></dt><dd>no_qc_performed good_data probably_good_data bad_data_that_are_potentially_correctable bad_data value_changed value_below_detection nominal_value interpolated_value missing_value</dd></dl></div><div class='xr-var-data'><pre>[53169 values with dtype=float32]</pre></div></li><li class='xr-var-item'><div class='xr-var-name'><span>DEPH_QC</span></div><div class='xr-var-dims'>(TIME, DEPTH)</div><div class='xr-var-dtype'>float32</div><div class='xr-var-preview xr-preview'>...</div><input id='attrs-93c85126-2e74-4f65-8a40-b7adf27a3b6b' class='xr-var-attrs-in' type='checkbox' ><label for='attrs-93c85126-2e74-4f65-8a40-b7adf27a3b6b' title='Show/Hide attributes'><svg class='icon xr-icon-file-text2'><use xlink:href='#icon-file-text2'></use></svg></label><input id='data-3241006d-5fe2-4abc-af45-a0217a7fe694' class='xr-var-data-in' type='checkbox'><label for='data-3241006d-5fe2-4abc-af45-a0217a7fe694' title='Show/Hide data repr'><svg class='icon xr-icon-database'><use xlink:href='#icon-database'></use></svg></label><div class='xr-var-attrs'><dl class='xr-attrs'><dt><span>long_name :</span></dt><dd>Depth quality flag</dd><dt><span>conventions :</span></dt><dd>Copernicus Marine In Situ reference table 2</dd><dt><span>valid_min :</span></dt><dd>0</dd><dt><span>valid_max :</span></dt><dd>9</dd><dt><span>flag_values :</span></dt><dd>[0 1 2 3 4 5 6 7 8 9]</dd><dt><span>flag_meanings :</span></dt><dd>no_qc_performed good_data probably_good_data bad_data_that_are_potentially_correctable bad_data value_changed value_below_detection nominal_value interpolated_value missing_value</dd></dl></div><div class='xr-var-data'><pre>[53169 values with dtype=float32]</pre></div></li><li class='xr-var-item'><div class='xr-var-name'><span>DEWT</span></div><div class='xr-var-dims'>(TIME, DEPTH)</div><div class='xr-var-dtype'>float64</div><div class='xr-var-preview xr-preview'>...</div><input id='attrs-46e3f7dc-664c-45f2-b331-f43377cbac5e' class='xr-var-attrs-in' type='checkbox' ><label for='attrs-46e3f7dc-664c-45f2-b331-f43377cbac5e' title='Show/Hide attributes'><svg class='icon xr-icon-file-text2'><use xlink:href='#icon-file-text2'></use></svg></label><input id='data-7d4722ee-94cf-4ddb-862c-2425389ea5e0' class='xr-var-data-in' type='checkbox'><label for='data-7d4722ee-94cf-4ddb-862c-2425389ea5e0' title='Show/Hide data repr'><svg class='icon xr-icon-database'><use xlink:href='#icon-database'></use></svg></label><div class='xr-var-attrs'><dl class='xr-attrs'><dt><span>standard_name :</span></dt><dd>dew_point_temperature</dd><dt><span>units :</span></dt><dd>degrees_C</dd><dt><span>long_name :</span></dt><dd>Dew point temperature</dd><dt><span>valid_min :</span></dt><dd>-30000</dd><dt><span>valid_max :</span></dt><dd>30000</dd><dt><span>comment :</span></dt><dd> </dd><dt><span>uncertainty :</span></dt><dd> </dd><dt><span>accuracy :</span></dt><dd> </dd><dt><span>precision :</span></dt><dd> </dd><dt><span>resolution :</span></dt><dd> </dd><dt><span>cell_methods :</span></dt><dd> </dd><dt><span>sensor_depth :</span></dt><dd>0.0</dd><dt><span>sensor_mount :</span></dt><dd> </dd><dt><span>sensor_orientation :</span></dt><dd> </dd><dt><span>data_mode :</span></dt><dd>R</dd><dt><span>ancillary_variables :</span></dt><dd>DEWT_QC</dd></dl></div><div class='xr-var-data'><pre>[53169 values with dtype=float64]</pre></div></li><li class='xr-var-item'><div class='xr-var-name'><span>DEWT_QC</span></div><div class='xr-var-dims'>(TIME, DEPTH)</div><div class='xr-var-dtype'>float32</div><div class='xr-var-preview xr-preview'>...</div><input id='attrs-5cea8229-5c97-4ae8-b244-c6e41d5a25b4' class='xr-var-attrs-in' type='checkbox' ><label for='attrs-5cea8229-5c97-4ae8-b244-c6e41d5a25b4' title='Show/Hide attributes'><svg class='icon xr-icon-file-text2'><use xlink:href='#icon-file-text2'></use></svg></label><input id='data-a3ec648d-501d-4f2c-8c6b-a9fd5a61c15f' class='xr-var-data-in' type='checkbox'><label for='data-a3ec648d-501d-4f2c-8c6b-a9fd5a61c15f' title='Show/Hide data repr'><svg class='icon xr-icon-database'><use xlink:href='#icon-database'></use></svg></label><div class='xr-var-attrs'><dl class='xr-attrs'><dt><span>long_name :</span></dt><dd>Dew point temperature quality flag</dd><dt><span>conventions :</span></dt><dd>Copernicus Marine In Situ reference table 2</dd><dt><span>valid_min :</span></dt><dd>0</dd><dt><span>valid_max :</span></dt><dd>9</dd><dt><span>flag_values :</span></dt><dd>[0 1 2 3 4 5 6 7 8 9]</dd><dt><span>flag_meanings :</span></dt><dd>no_qc_performed good_data probably_good_data bad_data_that_are_potentially_correctable bad_data value_changed value_below_detection nominal_value interpolated_value missing_value</dd></dl></div><div class='xr-var-data'><pre>[53169 values with dtype=float32]</pre></div></li><li class='xr-var-item'><div class='xr-var-name'><span>ATMS</span></div><div class='xr-var-dims'>(TIME, DEPTH)</div><div class='xr-var-dtype'>float64</div><div class='xr-var-preview xr-preview'>...</div><input id='attrs-37cd15cc-095b-4398-97cd-b7aac50ac171' class='xr-var-attrs-in' type='checkbox' ><label for='attrs-37cd15cc-095b-4398-97cd-b7aac50ac171' title='Show/Hide attributes'><svg class='icon xr-icon-file-text2'><use xlink:href='#icon-file-text2'></use></svg></label><input id='data-e1669c08-1ea7-4ec9-8191-e65ba6309510' class='xr-var-data-in' type='checkbox'><label for='data-e1669c08-1ea7-4ec9-8191-e65ba6309510' title='Show/Hide data repr'><svg class='icon xr-icon-database'><use xlink:href='#icon-database'></use></svg></label><div class='xr-var-attrs'><dl class='xr-attrs'><dt><span>standard_name :</span></dt><dd>air_pressure_at_sea_level</dd><dt><span>units :</span></dt><dd>hPa</dd><dt><span>long_name :</span></dt><dd>Atmospheric pressure at sea level</dd><dt><span>valid_min :</span></dt><dd>960000</dd><dt><span>valid_max :</span></dt><dd>1100000</dd><dt><span>comment :</span></dt><dd> </dd><dt><span>uncertainty :</span></dt><dd> </dd><dt><span>accuracy :</span></dt><dd> </dd><dt><span>precision :</span></dt><dd> </dd><dt><span>resolution :</span></dt><dd> </dd><dt><span>cell_methods :</span></dt><dd> </dd><dt><span>sensor_depth :</span></dt><dd>0.0</dd><dt><span>sensor_mount :</span></dt><dd> </dd><dt><span>sensor_orientation :</span></dt><dd> </dd><dt><span>data_mode :</span></dt><dd>R</dd><dt><span>ancillary_variables :</span></dt><dd>ATMS_QC</dd></dl></div><div class='xr-var-data'><pre>[53169 values with dtype=float64]</pre></div></li><li class='xr-var-item'><div class='xr-var-name'><span>ATMS_QC</span></div><div class='xr-var-dims'>(TIME, DEPTH)</div><div class='xr-var-dtype'>float32</div><div class='xr-var-preview xr-preview'>...</div><input id='attrs-9577765f-e915-481f-9640-d072a4a506ad' class='xr-var-attrs-in' type='checkbox' ><label for='attrs-9577765f-e915-481f-9640-d072a4a506ad' title='Show/Hide attributes'><svg class='icon xr-icon-file-text2'><use xlink:href='#icon-file-text2'></use></svg></label><input id='data-562b9405-eacd-413e-bf30-31918b445a03' class='xr-var-data-in' type='checkbox'><label for='data-562b9405-eacd-413e-bf30-31918b445a03' title='Show/Hide data repr'><svg class='icon xr-icon-database'><use xlink:href='#icon-database'></use></svg></label><div class='xr-var-attrs'><dl class='xr-attrs'><dt><span>long_name :</span></dt><dd>Atmospheric pressure at sea level quality flag</dd><dt><span>conventions :</span></dt><dd>Copernicus Marine In Situ reference table 2</dd><dt><span>valid_min :</span></dt><dd>0</dd><dt><span>valid_max :</span></dt><dd>9</dd><dt><span>flag_values :</span></dt><dd>[0 1 2 3 4 5 6 7 8 9]</dd><dt><span>flag_meanings :</span></dt><dd>no_qc_performed good_data probably_good_data bad_data_that_are_potentially_correctable bad_data value_changed value_below_detection nominal_value interpolated_value missing_value</dd></dl></div><div class='xr-var-data'><pre>[53169 values with dtype=float32]</pre></div></li><li class='xr-var-item'><div class='xr-var-name'><span>DRYT</span></div><div class='xr-var-dims'>(TIME, DEPTH)</div><div class='xr-var-dtype'>float64</div><div class='xr-var-preview xr-preview'>...</div><input id='attrs-25b9e2ea-4164-4cd5-a48a-91ec08de3f4a' class='xr-var-attrs-in' type='checkbox' ><label for='attrs-25b9e2ea-4164-4cd5-a48a-91ec08de3f4a' title='Show/Hide attributes'><svg class='icon xr-icon-file-text2'><use xlink:href='#icon-file-text2'></use></svg></label><input id='data-3fcb2dac-9ae9-4d03-8ec6-66683c082840' class='xr-var-data-in' type='checkbox'><label for='data-3fcb2dac-9ae9-4d03-8ec6-66683c082840' title='Show/Hide data repr'><svg class='icon xr-icon-database'><use xlink:href='#icon-database'></use></svg></label><div class='xr-var-attrs'><dl class='xr-attrs'><dt><span>standard_name :</span></dt><dd>air_temperature</dd><dt><span>units :</span></dt><dd>degrees_C</dd><dt><span>long_name :</span></dt><dd>Air temperature in dry bulb</dd><dt><span>valid_min :</span></dt><dd>-30000</dd><dt><span>valid_max :</span></dt><dd>40000</dd><dt><span>comment :</span></dt><dd> </dd><dt><span>uncertainty :</span></dt><dd> </dd><dt><span>accuracy :</span></dt><dd> </dd><dt><span>precision :</span></dt><dd> </dd><dt><span>resolution :</span></dt><dd> </dd><dt><span>cell_methods :</span></dt><dd> </dd><dt><span>sensor_depth :</span></dt><dd>0.0</dd><dt><span>sensor_mount :</span></dt><dd> </dd><dt><span>sensor_orientation :</span></dt><dd> </dd><dt><span>data_mode :</span></dt><dd>R</dd><dt><span>ancillary_variables :</span></dt><dd>DRYT_QC</dd></dl></div><div class='xr-var-data'><pre>[53169 values with dtype=float64]</pre></div></li><li class='xr-var-item'><div class='xr-var-name'><span>DRYT_QC</span></div><div class='xr-var-dims'>(TIME, DEPTH)</div><div class='xr-var-dtype'>float32</div><div class='xr-var-preview xr-preview'>...</div><input id='attrs-5f15ad1e-145e-4580-b47f-3d88a1fe8327' class='xr-var-attrs-in' type='checkbox' ><label for='attrs-5f15ad1e-145e-4580-b47f-3d88a1fe8327' title='Show/Hide attributes'><svg class='icon xr-icon-file-text2'><use xlink:href='#icon-file-text2'></use></svg></label><input id='data-52840e07-f809-4762-9730-a506c58c8bb7' class='xr-var-data-in' type='checkbox'><label for='data-52840e07-f809-4762-9730-a506c58c8bb7' title='Show/Hide data repr'><svg class='icon xr-icon-database'><use xlink:href='#icon-database'></use></svg></label><div class='xr-var-attrs'><dl class='xr-attrs'><dt><span>long_name :</span></dt><dd>Air temperature in dry bulb quality flag</dd><dt><span>conventions :</span></dt><dd>Copernicus Marine In Situ reference table 2</dd><dt><span>valid_min :</span></dt><dd>0</dd><dt><span>valid_max :</span></dt><dd>9</dd><dt><span>flag_values :</span></dt><dd>[0 1 2 3 4 5 6 7 8 9]</dd><dt><span>flag_meanings :</span></dt><dd>no_qc_performed good_data probably_good_data bad_data_that_are_potentially_correctable bad_data value_changed value_below_detection nominal_value interpolated_value missing_value</dd></dl></div><div class='xr-var-data'><pre>[53169 values with dtype=float32]</pre></div></li><li class='xr-var-item'><div class='xr-var-name'><span>VAVH</span></div><div class='xr-var-dims'>(TIME, DEPTH)</div><div class='xr-var-dtype'>float64</div><div class='xr-var-preview xr-preview'>...</div><input id='attrs-2a152b0f-42b9-43d0-8a4e-ca6fd9819a19' class='xr-var-attrs-in' type='checkbox' ><label for='attrs-2a152b0f-42b9-43d0-8a4e-ca6fd9819a19' title='Show/Hide attributes'><svg class='icon xr-icon-file-text2'><use xlink:href='#icon-file-text2'></use></svg></label><input id='data-f993a0c0-d324-4b03-8eae-5e1a1d2f3d05' class='xr-var-data-in' type='checkbox'><label for='data-f993a0c0-d324-4b03-8eae-5e1a1d2f3d05' title='Show/Hide data repr'><svg class='icon xr-icon-database'><use xlink:href='#icon-database'></use></svg></label><div class='xr-var-attrs'><dl class='xr-attrs'><dt><span>standard_name :</span></dt><dd>sea_surface_wave_significant_height</dd><dt><span>units :</span></dt><dd>m</dd><dt><span>long_name :</span></dt><dd>Average height highest 1/3 wave (H1/3)</dd><dt><span>valid_min :</span></dt><dd>1</dd><dt><span>valid_max :</span></dt><dd>30000</dd><dt><span>comment :</span></dt><dd> </dd><dt><span>uncertainty :</span></dt><dd> </dd><dt><span>accuracy :</span></dt><dd> </dd><dt><span>precision :</span></dt><dd> </dd><dt><span>resolution :</span></dt><dd> </dd><dt><span>cell_methods :</span></dt><dd> </dd><dt><span>type_of_analysis :</span></dt><dd>zero crossing</dd><dt><span>sensor_depth :</span></dt><dd>0.0</dd><dt><span>sensor_mount :</span></dt><dd> </dd><dt><span>sensor_orientation :</span></dt><dd> </dd><dt><span>data_mode :</span></dt><dd>M</dd><dt><span>ancillary_variables :</span></dt><dd>VAVH_QC VAVH_DM</dd></dl></div><div class='xr-var-data'><pre>[53169 values with dtype=float64]</pre></div></li><li class='xr-var-item'><div class='xr-var-name'><span>VAVH_QC</span></div><div class='xr-var-dims'>(TIME, DEPTH)</div><div class='xr-var-dtype'>float32</div><div class='xr-var-preview xr-preview'>...</div><input id='attrs-86b830b7-0124-488e-b76f-162834809b7d' class='xr-var-attrs-in' type='checkbox' ><label for='attrs-86b830b7-0124-488e-b76f-162834809b7d' title='Show/Hide attributes'><svg class='icon xr-icon-file-text2'><use xlink:href='#icon-file-text2'></use></svg></label><input id='data-2a271367-3833-4dc1-96ab-882a62fccaec' class='xr-var-data-in' type='checkbox'><label for='data-2a271367-3833-4dc1-96ab-882a62fccaec' title='Show/Hide data repr'><svg class='icon xr-icon-database'><use xlink:href='#icon-database'></use></svg></label><div class='xr-var-attrs'><dl class='xr-attrs'><dt><span>long_name :</span></dt><dd>Average height highest 1/3 wave (H1/3) quality flag</dd><dt><span>conventions :</span></dt><dd>Copernicus Marine In Situ reference table 2</dd><dt><span>valid_min :</span></dt><dd>0</dd><dt><span>valid_max :</span></dt><dd>9</dd><dt><span>flag_values :</span></dt><dd>[0 1 2 3 4 5 6 7 8 9]</dd><dt><span>flag_meanings :</span></dt><dd>no_qc_performed good_data probably_good_data bad_data_that_are_potentially_correctable bad_data value_changed value_below_detection nominal_value interpolated_value missing_value</dd></dl></div><div class='xr-var-data'><pre>[53169 values with dtype=float32]</pre></div></li><li class='xr-var-item'><div class='xr-var-name'><span>VAVH_DM</span></div><div class='xr-var-dims'>(TIME, DEPTH)</div><div class='xr-var-dtype'>object</div><div class='xr-var-preview xr-preview'>...</div><input id='attrs-7b76702e-ed3f-4278-b4cb-da0c285f9601' class='xr-var-attrs-in' type='checkbox' ><label for='attrs-7b76702e-ed3f-4278-b4cb-da0c285f9601' title='Show/Hide attributes'><svg class='icon xr-icon-file-text2'><use xlink:href='#icon-file-text2'></use></svg></label><input id='data-f921f4b5-da03-4d60-8e3e-a01000b58450' class='xr-var-data-in' type='checkbox'><label for='data-f921f4b5-da03-4d60-8e3e-a01000b58450' title='Show/Hide data repr'><svg class='icon xr-icon-database'><use xlink:href='#icon-database'></use></svg></label><div class='xr-var-attrs'><dl class='xr-attrs'><dt><span>long_name :</span></dt><dd>Average height highest 1/3 wave (H1/3) method of data processing</dd><dt><span>conventions :</span></dt><dd>Copernicus Marine In Situ reference table 1</dd><dt><span>flag_values :</span></dt><dd>R, A, D</dd><dt><span>flag_meanings :</span></dt><dd>real-time adjusted-in-real-time delayed-mode</dd></dl></div><div class='xr-var-data'><pre>[53169 values with dtype=object]</pre></div></li><li class='xr-var-item'><div class='xr-var-name'><span>VTZA</span></div><div class='xr-var-dims'>(TIME, DEPTH)</div><div class='xr-var-dtype'>float64</div><div class='xr-var-preview xr-preview'>...</div><input id='attrs-c3ebb26d-44a0-4d2d-9ee6-b3e374d8ffcd' class='xr-var-attrs-in' type='checkbox' ><label for='attrs-c3ebb26d-44a0-4d2d-9ee6-b3e374d8ffcd' title='Show/Hide attributes'><svg class='icon xr-icon-file-text2'><use xlink:href='#icon-file-text2'></use></svg></label><input id='data-a7d20b7b-9ce6-477f-889c-073962acde0e' class='xr-var-data-in' type='checkbox'><label for='data-a7d20b7b-9ce6-477f-889c-073962acde0e' title='Show/Hide data repr'><svg class='icon xr-icon-database'><use xlink:href='#icon-database'></use></svg></label><div class='xr-var-attrs'><dl class='xr-attrs'><dt><span>standard_name :</span></dt><dd>sea_surface_wave_mean_period</dd><dt><span>units :</span></dt><dd>s</dd><dt><span>long_name :</span></dt><dd>Average zero crossing wave period (Tz)</dd><dt><span>valid_min :</span></dt><dd>2000</dd><dt><span>valid_max :</span></dt><dd>25000</dd><dt><span>comment :</span></dt><dd> </dd><dt><span>uncertainty :</span></dt><dd> </dd><dt><span>accuracy :</span></dt><dd> </dd><dt><span>precision :</span></dt><dd> </dd><dt><span>resolution :</span></dt><dd> </dd><dt><span>cell_methods :</span></dt><dd> </dd><dt><span>type_of_analysis :</span></dt><dd>zero crossing</dd><dt><span>sensor_depth :</span></dt><dd>0.0</dd><dt><span>sensor_mount :</span></dt><dd> </dd><dt><span>sensor_orientation :</span></dt><dd> </dd><dt><span>data_mode :</span></dt><dd>M</dd><dt><span>ancillary_variables :</span></dt><dd>VTZA_QC VTZA_DM</dd></dl></div><div class='xr-var-data'><pre>[53169 values with dtype=float64]</pre></div></li><li class='xr-var-item'><div class='xr-var-name'><span>VTZA_QC</span></div><div class='xr-var-dims'>(TIME, DEPTH)</div><div class='xr-var-dtype'>float32</div><div class='xr-var-preview xr-preview'>...</div><input id='attrs-cd9d18c4-7870-4c36-8e6d-076619f5a8d8' class='xr-var-attrs-in' type='checkbox' ><label for='attrs-cd9d18c4-7870-4c36-8e6d-076619f5a8d8' title='Show/Hide attributes'><svg class='icon xr-icon-file-text2'><use xlink:href='#icon-file-text2'></use></svg></label><input id='data-00213597-6467-4aac-bed4-11dd0ed72021' class='xr-var-data-in' type='checkbox'><label for='data-00213597-6467-4aac-bed4-11dd0ed72021' title='Show/Hide data repr'><svg class='icon xr-icon-database'><use xlink:href='#icon-database'></use></svg></label><div class='xr-var-attrs'><dl class='xr-attrs'><dt><span>long_name :</span></dt><dd>Average zero crossing wave period (Tz) quality flag</dd><dt><span>conventions :</span></dt><dd>Copernicus Marine In Situ reference table 2</dd><dt><span>valid_min :</span></dt><dd>0</dd><dt><span>valid_max :</span></dt><dd>9</dd><dt><span>flag_values :</span></dt><dd>[0 1 2 3 4 5 6 7 8 9]</dd><dt><span>flag_meanings :</span></dt><dd>no_qc_performed good_data probably_good_data bad_data_that_are_potentially_correctable bad_data value_changed value_below_detection nominal_value interpolated_value missing_value</dd></dl></div><div class='xr-var-data'><pre>[53169 values with dtype=float32]</pre></div></li><li class='xr-var-item'><div class='xr-var-name'><span>VTZA_DM</span></div><div class='xr-var-dims'>(TIME, DEPTH)</div><div class='xr-var-dtype'>object</div><div class='xr-var-preview xr-preview'>...</div><input id='attrs-86c04cc7-13d3-4430-b2cb-2e77cb10be25' class='xr-var-attrs-in' type='checkbox' ><label for='attrs-86c04cc7-13d3-4430-b2cb-2e77cb10be25' title='Show/Hide attributes'><svg class='icon xr-icon-file-text2'><use xlink:href='#icon-file-text2'></use></svg></label><input id='data-02563f77-a8bb-4ce8-9223-1e3a080d0d67' class='xr-var-data-in' type='checkbox'><label for='data-02563f77-a8bb-4ce8-9223-1e3a080d0d67' title='Show/Hide data repr'><svg class='icon xr-icon-database'><use xlink:href='#icon-database'></use></svg></label><div class='xr-var-attrs'><dl class='xr-attrs'><dt><span>long_name :</span></dt><dd>Average zero crossing wave period (Tz) method of data processing</dd><dt><span>conventions :</span></dt><dd>Copernicus Marine In Situ reference table 1</dd><dt><span>flag_values :</span></dt><dd>R, A, D</dd><dt><span>flag_meanings :</span></dt><dd>real-time adjusted-in-real-time delayed-mode</dd></dl></div><div class='xr-var-data'><pre>[53169 values with dtype=object]</pre></div></li><li class='xr-var-item'><div class='xr-var-name'><span>WSPD</span></div><div class='xr-var-dims'>(TIME, DEPTH)</div><div class='xr-var-dtype'>float64</div><div class='xr-var-preview xr-preview'>...</div><input id='attrs-d3ed2727-32e6-4d1e-94c2-b079434d3455' class='xr-var-attrs-in' type='checkbox' ><label for='attrs-d3ed2727-32e6-4d1e-94c2-b079434d3455' title='Show/Hide attributes'><svg class='icon xr-icon-file-text2'><use xlink:href='#icon-file-text2'></use></svg></label><input id='data-8d4c5043-86e0-4cf0-8514-739f8088fd19' class='xr-var-data-in' type='checkbox'><label for='data-8d4c5043-86e0-4cf0-8514-739f8088fd19' title='Show/Hide data repr'><svg class='icon xr-icon-database'><use xlink:href='#icon-database'></use></svg></label><div class='xr-var-attrs'><dl class='xr-attrs'><dt><span>standard_name :</span></dt><dd>wind_speed</dd><dt><span>units :</span></dt><dd>m s-1</dd><dt><span>long_name :</span></dt><dd>Horizontal wind speed</dd><dt><span>valid_min :</span></dt><dd>0</dd><dt><span>valid_max :</span></dt><dd>50000</dd><dt><span>comment :</span></dt><dd> </dd><dt><span>uncertainty :</span></dt><dd> </dd><dt><span>accuracy :</span></dt><dd> </dd><dt><span>precision :</span></dt><dd> </dd><dt><span>resolution :</span></dt><dd> </dd><dt><span>cell_methods :</span></dt><dd> </dd><dt><span>sensor_depth :</span></dt><dd>0.0</dd><dt><span>sensor_mount :</span></dt><dd> </dd><dt><span>sensor_orientation :</span></dt><dd> </dd><dt><span>data_mode :</span></dt><dd>R</dd><dt><span>ancillary_variables :</span></dt><dd>WSPD_QC</dd></dl></div><div class='xr-var-data'><pre>[53169 values with dtype=float64]</pre></div></li><li class='xr-var-item'><div class='xr-var-name'><span>WSPD_QC</span></div><div class='xr-var-dims'>(TIME, DEPTH)</div><div class='xr-var-dtype'>float32</div><div class='xr-var-preview xr-preview'>...</div><input id='attrs-8f7074bd-0daa-4850-809d-b9353bd49811' class='xr-var-attrs-in' type='checkbox' ><label for='attrs-8f7074bd-0daa-4850-809d-b9353bd49811' title='Show/Hide attributes'><svg class='icon xr-icon-file-text2'><use xlink:href='#icon-file-text2'></use></svg></label><input id='data-78459c0e-cfa1-4cb0-80b3-443c6293e6f1' class='xr-var-data-in' type='checkbox'><label for='data-78459c0e-cfa1-4cb0-80b3-443c6293e6f1' title='Show/Hide data repr'><svg class='icon xr-icon-database'><use xlink:href='#icon-database'></use></svg></label><div class='xr-var-attrs'><dl class='xr-attrs'><dt><span>long_name :</span></dt><dd>Horizontal wind speed quality flag</dd><dt><span>conventions :</span></dt><dd>Copernicus Marine In Situ reference table 2</dd><dt><span>valid_min :</span></dt><dd>0</dd><dt><span>valid_max :</span></dt><dd>9</dd><dt><span>flag_values :</span></dt><dd>[0 1 2 3 4 5 6 7 8 9]</dd><dt><span>flag_meanings :</span></dt><dd>no_qc_performed good_data probably_good_data bad_data_that_are_potentially_correctable bad_data value_changed value_below_detection nominal_value interpolated_value missing_value</dd></dl></div><div class='xr-var-data'><pre>[53169 values with dtype=float32]</pre></div></li><li class='xr-var-item'><div class='xr-var-name'><span>WDIR</span></div><div class='xr-var-dims'>(TIME, DEPTH)</div><div class='xr-var-dtype'>float64</div><div class='xr-var-preview xr-preview'>...</div><input id='attrs-c7c147b9-deac-4f2a-bb8a-c87afda4d5c6' class='xr-var-attrs-in' type='checkbox' ><label for='attrs-c7c147b9-deac-4f2a-bb8a-c87afda4d5c6' title='Show/Hide attributes'><svg class='icon xr-icon-file-text2'><use xlink:href='#icon-file-text2'></use></svg></label><input id='data-40a1810a-03ba-4c81-ad46-3b9d41304240' class='xr-var-data-in' type='checkbox'><label for='data-40a1810a-03ba-4c81-ad46-3b9d41304240' title='Show/Hide data repr'><svg class='icon xr-icon-database'><use xlink:href='#icon-database'></use></svg></label><div class='xr-var-attrs'><dl class='xr-attrs'><dt><span>standard_name :</span></dt><dd>wind_from_direction</dd><dt><span>units :</span></dt><dd>degree</dd><dt><span>long_name :</span></dt><dd>Wind from direction relative true north</dd><dt><span>valid_min :</span></dt><dd>0</dd><dt><span>valid_max :</span></dt><dd>360000</dd><dt><span>comment :</span></dt><dd> </dd><dt><span>uncertainty :</span></dt><dd> </dd><dt><span>accuracy :</span></dt><dd> </dd><dt><span>precision :</span></dt><dd> </dd><dt><span>resolution :</span></dt><dd> </dd><dt><span>cell_methods :</span></dt><dd> </dd><dt><span>sensor_depth :</span></dt><dd>0.0</dd><dt><span>sensor_mount :</span></dt><dd> </dd><dt><span>sensor_orientation :</span></dt><dd> </dd><dt><span>data_mode :</span></dt><dd>R</dd><dt><span>ancillary_variables :</span></dt><dd>WDIR_QC</dd></dl></div><div class='xr-var-data'><pre>[53169 values with dtype=float64]</pre></div></li><li class='xr-var-item'><div class='xr-var-name'><span>WDIR_QC</span></div><div class='xr-var-dims'>(TIME, DEPTH)</div><div class='xr-var-dtype'>float32</div><div class='xr-var-preview xr-preview'>...</div><input id='attrs-35673da9-4578-470d-ac58-13f498fc3ea2' class='xr-var-attrs-in' type='checkbox' ><label for='attrs-35673da9-4578-470d-ac58-13f498fc3ea2' title='Show/Hide attributes'><svg class='icon xr-icon-file-text2'><use xlink:href='#icon-file-text2'></use></svg></label><input id='data-f3c9eea5-2bd3-44e5-a71e-ee863fc7cd2d' class='xr-var-data-in' type='checkbox'><label for='data-f3c9eea5-2bd3-44e5-a71e-ee863fc7cd2d' title='Show/Hide data repr'><svg class='icon xr-icon-database'><use xlink:href='#icon-database'></use></svg></label><div class='xr-var-attrs'><dl class='xr-attrs'><dt><span>long_name :</span></dt><dd>Wind from direction relative true north quality flag</dd><dt><span>conventions :</span></dt><dd>Copernicus Marine In Situ reference table 2</dd><dt><span>valid_min :</span></dt><dd>0</dd><dt><span>valid_max :</span></dt><dd>9</dd><dt><span>flag_values :</span></dt><dd>[0 1 2 3 4 5 6 7 8 9]</dd><dt><span>flag_meanings :</span></dt><dd>no_qc_performed good_data probably_good_data bad_data_that_are_potentially_correctable bad_data value_changed value_below_detection nominal_value interpolated_value missing_value</dd></dl></div><div class='xr-var-data'><pre>[53169 values with dtype=float32]</pre></div></li><li class='xr-var-item'><div class='xr-var-name'><span>POSITION_QC</span></div><div class='xr-var-dims'>(POSITION)</div><div class='xr-var-dtype'>float32</div><div class='xr-var-preview xr-preview'>...</div><input id='attrs-10580045-f30f-476e-9dd6-d2776ca469a9' class='xr-var-attrs-in' type='checkbox' ><label for='attrs-10580045-f30f-476e-9dd6-d2776ca469a9' title='Show/Hide attributes'><svg class='icon xr-icon-file-text2'><use xlink:href='#icon-file-text2'></use></svg></label><input id='data-760dfa96-8843-4ea7-8b18-f5b39312b496' class='xr-var-data-in' type='checkbox'><label for='data-760dfa96-8843-4ea7-8b18-f5b39312b496' title='Show/Hide data repr'><svg class='icon xr-icon-database'><use xlink:href='#icon-database'></use></svg></label><div class='xr-var-attrs'><dl class='xr-attrs'><dt><span>long_name :</span></dt><dd>Position quality flag</dd><dt><span>conventions :</span></dt><dd>Copernicus Marine In Situ reference table 2</dd><dt><span>valid_min :</span></dt><dd>0</dd><dt><span>valid_max :</span></dt><dd>9</dd><dt><span>flag_values :</span></dt><dd>[0 1 2 3 4 5 6 7 8 9]</dd><dt><span>flag_meanings :</span></dt><dd>no_qc_performed good_data probably_good_data bad_data_that_are_potentially_correctable bad_data value_changed value_below_detection nominal_value interpolated_value missing_value</dd></dl></div><div class='xr-var-data'><pre>[53169 values with dtype=float32]</pre></div></li></ul></div></li><li class='xr-section-item'><input id='section-aac3caba-7697-4ffc-a2cf-ee1c050fec43' class='xr-section-summary-in' type='checkbox'  ><label for='section-aac3caba-7697-4ffc-a2cf-ee1c050fec43' class='xr-section-summary' >Indexes: <span>(3)</span></label><div class='xr-section-inline-details'></div><div class='xr-section-details'><ul class='xr-var-list'><li class='xr-var-item'><div class='xr-index-name'><div>TIME</div></div><div class='xr-index-preview'>PandasIndex</div><div></div><input id='index-bbde78db-45a3-433f-9031-6fa68fda7707' class='xr-index-data-in' type='checkbox'/><label for='index-bbde78db-45a3-433f-9031-6fa68fda7707' title='Show/Hide index repr'><svg class='icon xr-icon-database'><use xlink:href='#icon-database'></use></svg></label><div class='xr-index-data'><pre>PandasIndex(DatetimeIndex([&#x27;2014-06-20 10:00:00&#x27;, &#x27;2014-06-20 11:00:00&#x27;,\n",
       "               &#x27;2014-06-20 12:00:00&#x27;, &#x27;2014-06-20 13:00:00&#x27;,\n",
       "               &#x27;2014-06-20 14:00:00&#x27;, &#x27;2014-06-20 15:00:00&#x27;,\n",
       "               &#x27;2014-06-20 16:00:00&#x27;, &#x27;2014-06-20 17:00:00&#x27;,\n",
       "               &#x27;2014-06-20 18:00:00&#x27;, &#x27;2014-06-20 19:00:00&#x27;,\n",
       "               ...\n",
       "               &#x27;2022-10-25 09:00:00&#x27;, &#x27;2022-10-25 10:00:00&#x27;,\n",
       "               &#x27;2022-10-25 11:00:00&#x27;, &#x27;2022-10-25 12:00:00&#x27;,\n",
       "               &#x27;2022-10-25 13:00:00&#x27;, &#x27;2022-10-25 14:00:00&#x27;,\n",
       "               &#x27;2022-10-25 15:00:00&#x27;, &#x27;2022-10-25 16:00:00&#x27;,\n",
       "               &#x27;2022-10-25 17:00:00&#x27;, &#x27;2022-10-25 18:00:00&#x27;],\n",
       "              dtype=&#x27;datetime64[ns]&#x27;, name=&#x27;TIME&#x27;, length=53169, freq=None))</pre></div></li><li class='xr-var-item'><div class='xr-index-name'><div>LATITUDE</div></div><div class='xr-index-preview'>PandasIndex</div><div></div><input id='index-eb700edd-d013-476c-a163-77488b03b4bd' class='xr-index-data-in' type='checkbox'/><label for='index-eb700edd-d013-476c-a163-77488b03b4bd' title='Show/Hide index repr'><svg class='icon xr-icon-database'><use xlink:href='#icon-database'></use></svg></label><div class='xr-index-data'><pre>PandasIndex(Float64Index([53.599998474121094, 53.599998474121094, 53.599998474121094,\n",
       "              53.599998474121094, 53.599998474121094, 53.599998474121094,\n",
       "              53.599998474121094, 53.599998474121094, 53.599998474121094,\n",
       "              53.599998474121094,\n",
       "              ...\n",
       "              53.599998474121094, 53.599998474121094, 53.599998474121094,\n",
       "              53.599998474121094, 53.599998474121094, 53.599998474121094,\n",
       "              53.599998474121094, 53.599998474121094, 53.599998474121094,\n",
       "              53.599998474121094],\n",
       "             dtype=&#x27;float64&#x27;, name=&#x27;LATITUDE&#x27;, length=53169))</pre></div></li><li class='xr-var-item'><div class='xr-index-name'><div>LONGITUDE</div></div><div class='xr-index-preview'>PandasIndex</div><div></div><input id='index-e0e6954f-fb8f-48d6-a0b6-44725d3d922b' class='xr-index-data-in' type='checkbox'/><label for='index-e0e6954f-fb8f-48d6-a0b6-44725d3d922b' title='Show/Hide index repr'><svg class='icon xr-icon-database'><use xlink:href='#icon-database'></use></svg></label><div class='xr-index-data'><pre>PandasIndex(Float64Index([0.699999988079071, 0.699999988079071, 0.699999988079071,\n",
       "              0.699999988079071, 0.699999988079071, 0.699999988079071,\n",
       "              0.699999988079071, 0.699999988079071, 0.699999988079071,\n",
       "              0.699999988079071,\n",
       "              ...\n",
       "              0.699999988079071, 0.699999988079071, 0.699999988079071,\n",
       "              0.699999988079071, 0.699999988079071, 0.699999988079071,\n",
       "              0.699999988079071, 0.699999988079071, 0.699999988079071,\n",
       "              0.699999988079071],\n",
       "             dtype=&#x27;float64&#x27;, name=&#x27;LONGITUDE&#x27;, length=53169))</pre></div></li></ul></div></li><li class='xr-section-item'><input id='section-737ede01-0b9f-4887-87aa-21e31291f5c3' class='xr-section-summary-in' type='checkbox'  ><label for='section-737ede01-0b9f-4887-87aa-21e31291f5c3' class='xr-section-summary' >Attributes: <span>(46)</span></label><div class='xr-section-inline-details'></div><div class='xr-section-details'><dl class='xr-attrs'><dt><span>platform_code :</span></dt><dd>6200150</dd><dt><span>platform_name :</span></dt><dd></dd><dt><span>data_mode :</span></dt><dd>M</dd><dt><span>title :</span></dt><dd>Atlantic-European North West Shelf-Ocean In-Situ Near Real Time observations</dd><dt><span>summary :</span></dt><dd>Oceanographic data collated by the North West Shelf Production Unit</dd><dt><span>naming_authority :</span></dt><dd>Copernicus Marine In Situ</dd><dt><span>id :</span></dt><dd>NO_TS_MO_6200150</dd><dt><span>wmo_platform_code :</span></dt><dd>6200150</dd><dt><span>ices_platform_code :</span></dt><dd></dd><dt><span>source :</span></dt><dd>mooring</dd><dt><span>source_platform_category_code :</span></dt><dd>48</dd><dt><span>institution_edmo_code :</span></dt><dd>1051</dd><dt><span>institution :</span></dt><dd>Private Industry Oil Platform</dd><dt><span>institution_references :</span></dt><dd>UNKNOWN</dd><dt><span>site_code :</span></dt><dd></dd><dt><span>comment :</span></dt><dd></dd><dt><span>contact :</span></dt><dd>cmems-service@bsh.de</dd><dt><span>area :</span></dt><dd>North Atlantic Ocean</dd><dt><span>geospatial_lat_min :</span></dt><dd>53.6</dd><dt><span>geospatial_lat_max :</span></dt><dd>53.6</dd><dt><span>geospatial_lon_min :</span></dt><dd>0.7</dd><dt><span>geospatial_lon_max :</span></dt><dd>0.7</dd><dt><span>last_date_observation :</span></dt><dd>2022-10-25T18:00:00Z</dd><dt><span>last_latitude_observation :</span></dt><dd>53.6</dd><dt><span>last_longitude_observation :</span></dt><dd>0.7</dd><dt><span>geospatial_vertical_min :</span></dt><dd>0</dd><dt><span>geospatial_vertical_max :</span></dt><dd>0</dd><dt><span>time_coverage_start :</span></dt><dd>2014-06-20T10:00:00Z</dd><dt><span>time_coverage_end :</span></dt><dd>2022-10-25T18:00:00Z</dd><dt><span>cdm_data_type :</span></dt><dd>timeSeries</dd><dt><span>data_type :</span></dt><dd>OceanSITES time-series data</dd><dt><span>bottom_depth :</span></dt><dd></dd><dt><span>format_version :</span></dt><dd>1.4</dd><dt><span>Conventions :</span></dt><dd>CF-1.6 Copernicus-InSituTAC-FormatManual-1.42 Copernicus-InSituTAC-SRD-1.5 Copernicus-InSituTAC-ParametersList-3.2.1</dd><dt><span>netcdf_version :</span></dt><dd>netCDF-4 classic model</dd><dt><span>references :</span></dt><dd>http://marine.copernicus.eu http://www.marineinsitu.eu</dd><dt><span>data_assembly_center :</span></dt><dd>BSH</dd><dt><span>update_interval :</span></dt><dd>P1M</dd><dt><span>citation :</span></dt><dd>These data were collated within the Copernicus Marine Service (In Situ) and EMODnet collaboration framework. Data is made freely available by the Copernicus Marine Service and the programs that contribute to it</dd><dt><span>distribution_statement :</span></dt><dd>These data follow Copernicus standards; they are public and free of charge. User assumes all risk for use of data. User must display citation in any publication or product using data.</dd><dt><span>doi :</span></dt><dd></dd><dt><span>pi_name :</span></dt><dd></dd><dt><span>qc_manual :</span></dt><dd>Recommendations for in-situ data Near Real Time Quality Control https://doi.org/10.13155/36230</dd><dt><span>date_update :</span></dt><dd>2023-01-01T07:07:23Z</dd><dt><span>history :</span></dt><dd>2023-01-01T07:07:23Z : Creation</dd><dt><span>wmo_inst_type :</span></dt><dd></dd></dl></div></li></ul></div></div>"
      ],
      "text/plain": [
       "<xarray.Dataset>\n",
       "Dimensions:      (TIME: 53169, DEPTH: 1, LATITUDE: 53169, POSITION: 53169,\n",
       "                  LONGITUDE: 53169)\n",
       "Coordinates:\n",
       "  * TIME         (TIME) datetime64[ns] 2014-06-20T10:00:00 ... 2022-10-25T18:...\n",
       "    DEPH         (TIME, DEPTH) float32 ...\n",
       "  * LATITUDE     (LATITUDE) float32 53.6 53.6 53.6 53.6 ... 53.6 53.6 53.6 53.6\n",
       "  * LONGITUDE    (LONGITUDE) float32 0.7 0.7 0.7 0.7 0.7 ... 0.7 0.7 0.7 0.7 0.7\n",
       "Dimensions without coordinates: DEPTH, POSITION\n",
       "Data variables: (12/19)\n",
       "    TIME_QC      (TIME) float32 ...\n",
       "    DEPH_QC      (TIME, DEPTH) float32 ...\n",
       "    DEWT         (TIME, DEPTH) float64 ...\n",
       "    DEWT_QC      (TIME, DEPTH) float32 ...\n",
       "    ATMS         (TIME, DEPTH) float64 ...\n",
       "    ATMS_QC      (TIME, DEPTH) float32 ...\n",
       "    ...           ...\n",
       "    VTZA_DM      (TIME, DEPTH) object ...\n",
       "    WSPD         (TIME, DEPTH) float64 ...\n",
       "    WSPD_QC      (TIME, DEPTH) float32 ...\n",
       "    WDIR         (TIME, DEPTH) float64 ...\n",
       "    WDIR_QC      (TIME, DEPTH) float32 ...\n",
       "    POSITION_QC  (POSITION) float32 ...\n",
       "Attributes: (12/46)\n",
       "    platform_code:                  6200150\n",
       "    platform_name:                  \n",
       "    data_mode:                      M\n",
       "    title:                          Atlantic-European North West Shelf-Ocean ...\n",
       "    summary:                        Oceanographic data collated by the North ...\n",
       "    naming_authority:               Copernicus Marine In Situ\n",
       "    ...                             ...\n",
       "    doi:                            \n",
       "    pi_name:                        \n",
       "    qc_manual:                      Recommendations for in-situ data Near Rea...\n",
       "    date_update:                    2023-01-01T07:07:23Z\n",
       "    history:                        2023-01-01T07:07:23Z : Creation\n",
       "    wmo_inst_type:                  "
      ]
     },
     "execution_count": 2,
     "metadata": {},
     "output_type": "execute_result"
    }
   ],
   "source": [
    "f = xr.open_dataset('./data/NO_TS_MO_6200150.nc')\n",
    "\n",
    "#df = valid_data_extraction(f, ('2014-06-20', '2022-12-31'), ['WSPD'])#['WSPD', 'VAVH'])\n",
    "\n",
    "f"
   ]
  },
  {
   "cell_type": "markdown",
   "id": "d3f95da5",
   "metadata": {},
   "source": [
    "#these are the files with changing coordinates (moving bouys)\n",
    "\"\"\"files = [\n",
    "    'BO_TS_MO_Kristineberg2.nc',\n",
    "    'BO_TS_MO_Vaderoarna.nc',\n",
    "    'BO_TS_MO_L9BS.nc',\n",
    "    'BO_TS_MO_LysekilWR.nc',\n",
    "    'BO_TS_MO_Koster.nc',\n",
    "    'BO_TS_MO_Kristineberg1.nc',\n",
    "    'BO_TS_MO_Havstensfjord.nc',\n",
    "    'BO_TS_MO_DrogdenCU.nc',\n",
    "    'BO_TS_MO_Tangesund.nc',\n",
    "    'BO_TS_MO_BrofjordenWR.nc',\n",
    "    'BO_TS_MO_VaderoarnaWR.nc',\n",
    "    'BO_TS_MO_Kristineberg3.nc',\n",
    "    'BO_TS_MO_LasoOstWR.nc',\n",
    "    'BO_TS_MO_Dalbosjon.nc',\n",
    "    'BO_TS_MO_LasoOst.nc',\n",
    "    'BO_TS_MO_VengeanceCU.nc'\n",
    "]\"\"\""
   ]
  },
  {
   "cell_type": "code",
   "execution_count": 3,
   "id": "7f4163aa",
   "metadata": {
    "collapsed": true
   },
   "outputs": [],
   "source": [
    "def valid_data_extraction(ds, time_filter, colum_names):\n",
    "    #Make sure colum_names is a list\n",
    "    if type(colum_names) is str:\n",
    "        colum_names = [colum_names]\n",
    "        \n",
    "    #Add longitude, latidude and position_qc as variables indexed by time,depth as all other variables\n",
    "    TIME = ds['TIME'].values\n",
    "    DEPTH = ds['DEPTH'].values\n",
    "    n_DEPTHS = len(DEPTH)\n",
    "\n",
    "    dataset_columns = {\n",
    "        'LONG':ds['LONGITUDE'],\n",
    "        'LAT':ds['LATITUDE'],\n",
    "        'POS_QC':ds['POSITION_QC'],\n",
    "    }\n",
    "\n",
    "    ds_pos = xr.Dataset(\n",
    "        data_vars=\n",
    "        {k:(\n",
    "            [\"TIME\", 'DEPTH'],\n",
    "            np.repeat(np.reshape(v.values, (-1,1)), n_DEPTHS, axis=1),\n",
    "            v.attrs,\n",
    "        )for (k,v) in dataset_columns.items()},\n",
    "        coords=dict(\n",
    "            TIME=TIME,\n",
    "            DEPTH=DEPTH,\n",
    "        )\n",
    "    ).drop_vars('DEPTH')\n",
    "    ds = xr.merge([ds.drop_dims(['LATITUDE', 'LONGITUDE', 'POSITION']), ds_pos])\n",
    "    \n",
    "    #Filter for time of interest and depth 0\n",
    "    if type(time_filter) is tuple:\n",
    "        ds = ds.sel(TIME=slice(time_filter[0], time_filter[1]), DEPTH=0)\n",
    "    else:\n",
    "        ds = ds.sel(TIME=time_filter, DEPTH=0)\n",
    "        \n",
    "    \n",
    "    #Filter only avalible columns\n",
    "    colum_names = list(set(colum_names).intersection(list(ds.data_vars)))\n",
    "    colum_names_qc = [c + '_QC' for c in colum_names]\n",
    "    \n",
    "    #Add fixed columns\n",
    "    colum_names.extend(['LONG', 'LAT'])\n",
    "    colum_names_qc.extend(['TIME_QC', 'POS_QC'])\n",
    "    \n",
    "    #Filter for columns of interest\n",
    "    ds = ds[colum_names + colum_names_qc]\n",
    "    \n",
    "    df = ds.to_dataframe()\n",
    "    QC_good = [1.0, 7.0]\n",
    "    \n",
    "    #Filter for good data only\n",
    "    filter_qc = [df[c_qc].isin(QC_good) for c_qc in colum_names_qc]\n",
    "    #Element-wise AND the filters\n",
    "    filter_qc = reduce(operator.and_, filter_qc)\n",
    "    df = df[filter_qc][colum_names]\n",
    "    \n",
    "    \n",
    "    return df\n",
    "\n",
    "#Returns the (longitude,latitude) pair if all the cordinates are the same in respective dimension\n",
    "def get_long_lat(dataset):  \n",
    "    long_arr = dataset.coords['LONGITUDE'].values\n",
    "    long = long_arr[0]\n",
    "    if (not np.all(long_arr == long)):\n",
    "        raise ValueError(\"Not all Longitude coordinates are equal\")\n",
    "        \n",
    "    lat_arr = dataset.coords['LATITUDE'].values\n",
    "    lat = lat_arr[0]\n",
    "    if (not np.all(lat_arr == lat)):\n",
    "        raise ValueError(\"Not all Latitude coordinates are equal\")\n",
    "        \n",
    "    return long,lat"
   ]
  },
  {
   "cell_type": "code",
   "execution_count": 4,
   "id": "6008c844",
   "metadata": {
    "collapsed": true
   },
   "outputs": [],
   "source": [
    "def search_file(file, data_dir, start_date, end_date, variables, max_time_diff_s, result_df):\n",
    "    #Conditionally create the result dataframe\n",
    "    if result_df is None:\n",
    "        result_df = pd.DataFrame({c: pd.Series(dtype=t) for c, t in {\n",
    "            'bouy_file_name':str,\n",
    "            'bouy_longitude':float,\n",
    "            'bouy_latitude':float,\n",
    "            'bouy_time':np.dtype('<M8[ns]'), #np.datetime64\n",
    "            'bouy_variable_name':str,\n",
    "            'bouy_variable_value':float,\n",
    "            'sar_url':str,\n",
    "            'sar_mode':str,\n",
    "            'sar_polarization':str,\n",
    "            'sar_platform':str,\n",
    "            'sar_start_time':np.dtype('<M8[ns]'), #np.datetime64\n",
    "            'sar_stop_time':np.dtype('<M8[ns]'), #np.datetime64\n",
    "            'sar_coordinates':object, #List\n",
    "        }.items()})\n",
    "\n",
    "    #Load the data from the file\n",
    "    file_path = os.path.join(data_dir, file)\n",
    "    xar = xr.open_dataset(file_path)# , engine='scipy')\n",
    "    xar_vars = list(xar.data_vars)\n",
    "\n",
    "    #Clear any eventual prior asf search result\n",
    "    asf_results = None\n",
    "    \n",
    "    #Filter for variables that exist in the data\n",
    "    common_variables = set(variables).intersection(xar_vars)\n",
    "    \n",
    "    if len(common_variables) == 0:\n",
    "        print(file + \" does not have any of the variables \" + str(variables))\n",
    "        return result_df\n",
    "    \n",
    "    for var in common_variables:\n",
    "        #extract dataframe of the correct timeinterval and variable \n",
    "        df = valid_data_extraction(xar, (start_date, end_date), var)\n",
    "        \n",
    "        if df.empty:\n",
    "            print(file + \" does not have any valid data for this timeperiod\")\n",
    "            continue\n",
    "            \n",
    "        #Only search once (assume similar results in regards to min and max longitude and latitude for each variable)\n",
    "        if asf_results is None:\n",
    "            #extract long and latitude\n",
    "            long_min, lat_min = df[['LONG', 'LAT']].min()\n",
    "            long_max, lat_max = df[['LONG', 'LAT']].max()\n",
    "\n",
    "            #Create geographical search restriction\n",
    "            coord_points = list(itertools.product(set([long_min, long_max]), set([lat_min, lat_max])))\n",
    "\n",
    "            if len(coord_points) == 1:\n",
    "                geo_prefix = 'POINT('\n",
    "                geo_suffix = ')'\n",
    "            elif len(coord_points) == 2:\n",
    "                geo_prefix = 'LINESTRING('\n",
    "                geo_suffix = ')'\n",
    "            elif len(coord_points) == 4:\n",
    "                #Double parenthesis was given from asf website export search as python function\n",
    "                geo_prefix = 'POLYGON(('\n",
    "                geo_suffix = '))'\n",
    "                #Untangle the polygon itersection\n",
    "                coord_points[2:4]=reversed(coord_points[2:4])\n",
    "                #Form closed polygon by adding adding fist point as last\n",
    "                coord_points.append(coord_points[0])\n",
    "\n",
    "            geo_limit = ','.join([str(long) + ' ' + str(lat) for long,lat in coord_points])\n",
    "            geo_limit = geo_prefix + geo_limit + geo_suffix\n",
    "            \n",
    "            print(geo_limit)\n",
    "\n",
    "            #Search asf\n",
    "            options = {\n",
    "                'intersectsWith': geo_limit,\n",
    "                'platform': 'SENTINEL-1',\n",
    "                'instrument': 'C-SAR',\n",
    "                'start': start_date,\n",
    "                'end': end_date,\n",
    "                'processingLevel': [\n",
    "                    'GRD_HD',\n",
    "                    'GRD_MD',\n",
    "                    'GRD_MS',\n",
    "                    'GRD_HS'\n",
    "                ],\n",
    "                'beamSwath': [\n",
    "                    'IW',\n",
    "                    'EW'\n",
    "                ],\n",
    "            }\n",
    "\n",
    "            asf_results = asf.search(**options)\n",
    "            print(len(asf_results))\n",
    "        \n",
    "        for asf_result in asf_results:\n",
    "            #Find mean time of image generation\n",
    "            asf_result_start = datetime.datetime.fromisoformat(asf_result.properties['startTime'][:-5])\n",
    "            asf_result_stop = datetime.datetime.fromisoformat(asf_result.properties['stopTime'][:-5])\n",
    "            asf_result_mean_time = asf_result_start + (asf_result_stop-asf_result_start)/2\n",
    "        \n",
    "            #Check the shape type\n",
    "            if asf_result.geometry['type'] != 'Polygon':\n",
    "                raise ValueError('The shape of the search result is not Polygon but instead: ' + asf_result.geometry['type'])\n",
    "            \n",
    "            #Filter for points that lie within the image\n",
    "            if geo_prefix != 'POINT(':\n",
    "                polygon = Polygon(asf_result.geometry['coordinates'][0])\n",
    "                df_dist_filter =  df.apply(lambda row: Point([row['LONG'], row['LAT']]).distance(polygon), axis=1) <= 0.0001\n",
    "                df_close = df[df_dist_filter]\n",
    "                \n",
    "                #Skip is we have no overlaping points\n",
    "                if df_close.empty:\n",
    "                    #print(\"No geographical overlap\")\n",
    "                    continue\n",
    "                    \n",
    "            #No geographical overlap check needed (point search)\n",
    "            else:\n",
    "                df_close = df\n",
    "            \n",
    "            #Find closest entry in time\n",
    "            try :\n",
    "                closest_data_row = df_close.iloc[df_close.index.get_indexer([asf_result_mean_time], method='nearest')] #only one row of data\n",
    "            except Exception as e:\n",
    "                print(e)\n",
    "                print(df_close)\n",
    "                print(asf_result_mean_time)\n",
    "                print(closest_data_row)\n",
    "                raise Exception()\n",
    "\n",
    "            max_time_diff = datetime.timedelta(seconds=max_time_diff_s)\n",
    "            \n",
    "            #Check if it is close enough to be considered overlapping\n",
    "            if abs(closest_data_row.index[0] - asf_result_mean_time) <= max_time_diff:\n",
    "                #Save result in the dataframe\n",
    "                result_df.loc[len(result_df.index)] = [\n",
    "                    file, #'bouy_file_name':str,\n",
    "                    closest_data_row['LONG'][0], #'bouy_longitude':float,\n",
    "                    closest_data_row['LAT'][0], #'bouy_latitude':float,\n",
    "                    closest_data_row.index[0], #'bouy_time':np.dtype('<M8[ns]'), #np.datetime64\n",
    "                    var, #'bouy_variable_name':str,\n",
    "                    closest_data_row[var][0], #'bouy_variable_value':float,\n",
    "                    asf_result.properties['url'], #'sar_url':str,\n",
    "                    asf_result.properties['beamModeType'], #'sar_mode':str,\n",
    "                    asf_result.properties['polarization'].split('+'), #'sar_polarization':str,\n",
    "                    asf_result.properties['platform'], #'sar_platform':str,\n",
    "                    asf_result_start, #'sar_start_time':np.dtype('<M8[ns]'), #np.datetime64\n",
    "                    asf_result_stop, #'sar_stop_time':np.dtype('<M8[ns]'), #np.datetime64\n",
    "                    asf_result.geometry['coordinates'][0], #'sar_coordinates':list,\n",
    "                ]\n",
    "                \n",
    "            else:\n",
    "                #print('No time overlap')\n",
    "                pass\n",
    "            \n",
    "        \n",
    "    return result_df"
   ]
  },
  {
   "cell_type": "code",
   "execution_count": 5,
   "id": "eb9841e5",
   "metadata": {
    "collapsed": true
   },
   "outputs": [
    {
     "name": "stdout",
     "output_type": "stream",
     "text": [
      "['BO_TS_MO_Svinbadan.nc', 'NO_TS_MO_IJgeul5.nc', 'NO_TS_MO_OostendNorth.nc', 'NO_TS_MO_6300113.nc', 'NO_TS_MO_DarsserSCU.nc', 'NO_TS_MO_AWG.nc', 'NO_TS_MO_6200304.nc', 'BO_TS_MO_VengeanceTS.nc', 'BO_TS_MO_Oskarsgrundet2.nc', 'BO_TS_MO_Vaderoarna.nc', 'BO_TS_MO_L9BS.nc', 'NO_TS_MO_MeetboeiWEO1.nc', 'NO_TS_MO_6200150.nc', 'BO_TS_MO_LysekilWR.nc', 'NO_TS_MO_ElbeWR.nc', 'NO_TS_MO_6200050.nc', 'NO_TS_MO_6200029.nc', 'NO_TS_MO_Haringvliet10.nc', 'NO_TS_MO_6300105.nc', 'NO_TS_MO_Kwintebank.nc', 'NO_TS_MO_SchiermonnikoogWestgat.nc', 'NO_TS_MO_Fjaltring.nc', 'BO_TS_MO_Laso.nc', 'NO_TS_MO_Q1.nc', 'BO_TS_MO_DrogdenTS.nc', 'NO_TS_MO_6200027.nc', 'NO_TS_MO_6200081.nc', 'NO_TS_MO_LichteilandGoeree1.nc', 'NO_TS_MO_Sleipner-A.nc', 'NO_TS_MO_IJmuidenMunitiestort2.nc', 'NO_TS_MO_Gullfaks-C.nc', 'NO_TS_MO_6200114.nc', 'NO_TS_MO_6300117.nc', 'NO_TS_MO_Butendiek.nc', 'NO_TS_MO_6200165.nc', 'NO_TS_MO_ScheurWest.nc', 'NO_TS_MO_TWEms.nc', 'NO_TS_MO_K13a2.nc', 'NO_TS_MO_DomburgerRassen.nc', 'NO_TS_MO_FehmarnBelt.nc', 'NO_TS_MO_Sylt.nc', 'NO_TS_MO_6200301.nc', 'NO_TS_MO_Fanoebugt.nc', 'NO_TS_MO_6200305.nc', 'NO_TS_MO_6200130.nc', 'NO_TS_MO_J61.nc', 'NO_TS_MO_LTKielWR.nc', 'NO_TS_MO_6200127.nc', 'NO_TS_MO_Akkaert.nc', 'NO_TS_MO_ElbeUFS.nc', 'BO_TS_MO_Flinten7.nc', 'NO_TS_MO_K13a3.nc', 'BO_TS_MO_Vinga.nc', 'NO_TS_MO_Oosterschelde11.nc', 'NO_TS_MO_6200145.nc', 'NO_TS_MO_FINO3.nc', 'NO_TS_MO_HelgolandRM.nc', 'NO_TS_MO_ThorntonbankSouth.nc', 'NO_TS_MO_6201584.nc', 'NO_TS_MO_Europlatform2.nc', 'NO_TS_MO_6300112.nc', 'NO_TS_MO_EurogeulDWE.nc', 'NO_TS_MO_6200135.nc', 'NO_TS_MO_L91.nc', 'NO_TS_MO_Anasuria.nc', 'BO_TS_MO_DrogdenCU.nc', 'NO_TS_MO_K13a.nc', 'NO_TS_MO_D151.nc', 'NO_TS_MO_Schouwenbank2.nc', 'NO_TS_MO_UFSDeutscheBucht.nc', 'NO_TS_MO_Europlatform3.nc', 'NO_TS_MO_LTKielCU.nc', 'NO_TS_MO_K141.nc', 'NO_TS_MO_WaddenEierlandseGat.nc', 'BO_TS_MO_BrofjordenWR.nc', 'NO_TS_MO_6200121.nc', 'NO_TS_MO_6201571.nc', 'NO_TS_MO_ScheurWielingen.nc', 'BO_TS_MO_Fladen2.nc', 'BO_TS_MO_Vaderoarna2.nc', 'NO_TS_MO_NOO.nc', 'NO_TS_MO_DarsserSWR.nc', 'NO_TS_MO_Deurlo.nc', 'NO_TS_MO_Brouwershavensegat.nc', 'NO_TS_MO_Wandelaar.nc', 'NO_TS_MO_6201574.nc', 'NO_TS_MO_Westhinder.nc', 'NO_TS_MO_AlphaVentus.nc', 'NO_TS_MO_Nymindegab.nc', 'BO_TS_MO_Falsterborev.nc', 'BO_TS_MO_VaderoarnaWR.nc', 'NO_TS_MO_6200105.nc', 'NO_TS_MO_6201576.nc', 'NO_TS_MO_NO1.nc', 'NO_TS_MO_6200142.nc', 'NO_TS_MO_NsbIII.nc', 'NO_TS_MO_SchiermonnikoogNoord.nc', 'NO_TS_MO_OostendPoortens.nc', 'NO_TS_MO_6300110.nc', 'BO_TS_MO_Kalkgrundet.nc', 'BO_TS_MO_Kristineberg3.nc', 'NO_TS_MO_6200147.nc', 'NO_TS_MO_Amelander11.nc', 'BO_TS_MO_Grisbadarna.nc', 'NO_TS_MO_Amelander12.nc', 'NO_TS_MO_6200144.nc', 'NO_TS_MO_6200148.nc', 'NO_TS_MO_Amelander22.nc', 'NO_TS_MO_Amelander21.nc', 'NO_TS_MO_DarsserS.nc', 'NO_TS_MO_6200103.nc', 'BO_TS_MO_W26TS.nc', 'BO_TS_MO_LasoOstWR.nc', 'BO_TS_MO_Laholmsbukten.nc', 'NO_TS_MO_A121.nc', 'NO_TS_MO_FINO1.nc', 'NO_TS_MO_6201577.nc', 'NO_TS_MO_FINO3FerryBox.nc', 'BO_TS_MO_Dynekil.nc', 'NO_TS_MO_VlaktevdRaan.nc', 'NO_TS_MO_6400046.nc', 'NO_TS_MO_Helgoland-NorthWR.nc', 'NO_TS_MO_Troll-A.nc', 'NO_TS_MO_6200166.nc', 'NO_TS_MO_Q11.nc', 'NO_TS_MO_NsbII.nc', 'BO_TS_MO_Trubaduren.nc', 'NO_TS_MO_Helgoland-EastWR.nc', 'NO_TS_MO_LichteilandGoeree2.nc', 'NO_TS_MO_EurogeulE5.nc', 'NO_TS_MO_6200149.nc', 'BO_TS_MO_PaterNoster.nc', 'NO_TS_MO_Trapegeer.nc', 'BO_TS_MO_LasoOst.nc', 'NO_TS_MO_LTKiel.nc', 'NO_TS_MO_A122.nc', 'NO_TS_MO_6200170.nc', 'NO_TS_MO_6400045.nc', 'NO_TS_MO_Schouwenbank.nc', 'NO_TS_MO_F161.nc', 'NO_TS_MO_F3platform.nc', 'BO_TS_MO_Oskarsgrundet.nc', 'NO_TS_MO_IJmuidenMunitiestort.nc', 'NO_TS_MO_WaddenSchiermonnikoog.nc', 'NO_TS_MO_6200107.nc', 'NO_TS_MO_Oseberg-A.nc', 'NO_TS_MO_6200164.nc', 'NO_TS_MO_Europlatform.nc', 'NO_TS_MO_MeetboeiWEW1.nc', 'NO_TS_MO_Raversijde2.nc', 'BO_TS_MO_Fladen.nc', 'BO_TS_MO_Hattan.nc', 'NO_TS_MO_NOR.nc', 'NO_TS_MO_6200125.nc', 'NO_TS_MO_NorthCormorant.nc', 'NO_TS_MO_6200146.nc', 'NO_TS_MO_ScheurOost.nc', 'BO_TS_MO_VengeanceCU.nc', 'NO_TS_MO_6201572.nc', 'BO_TS_MO_W26CU.nc', 'NO_TS_MO_FINO1WR.nc', 'NO_TS_MO_WielingenNoord.nc', 'BO_TS_MO_Flinten7BS.nc', 'NO_TS_MO_Heimdal.nc', 'NO_TS_MO_EurogeulE13.nc']\n"
     ]
    },
    {
     "name": "stderr",
     "output_type": "stream",
     "text": [
      "  1%|██                                                                                                                                                                            | 2/165 [00:00<00:11, 13.82it/s]"
     ]
    },
    {
     "name": "stdout",
     "output_type": "stream",
     "text": [
      "BO_TS_MO_Svinbadan.nc does not have any valid data for this timeperiod\n",
      "NO_TS_MO_IJgeul5.nc does not have any valid data for this timeperiod\n",
      "NO_TS_MO_IJgeul5.nc does not have any valid data for this timeperiod\n",
      "POINT(2.882999897003174 51.35200119018555)\n"
     ]
    },
    {
     "name": "stderr",
     "output_type": "stream",
     "text": [
      "\r\n",
      "  1%|██                                                                                                                                                                            | 2/165 [00:19<00:11, 13.82it/s]"
     ]
    },
    {
     "name": "stdout",
     "output_type": "stream",
     "text": [
      "233\n"
     ]
    },
    {
     "name": "stderr",
     "output_type": "stream",
     "text": [
      "\r\n",
      "  2%|███▏                                                                                                                                                                        | 3/165 [00:59<1:07:18, 24.93s/it]"
     ]
    },
    {
     "name": "stdout",
     "output_type": "stream",
     "text": [
      "NO_TS_MO_6300113.nc does not have any valid data for this timeperiod\n",
      "NO_TS_MO_6300113.nc does not have any valid data for this timeperiod\n",
      "NO_TS_MO_DarsserSCU.nc does not have any of the variables ['VHM0', 'VAVH', 'WSPD']\n",
      "POINT(5.949999809265137 53.5)\n",
      "238\n"
     ]
    },
    {
     "name": "stderr",
     "output_type": "stream",
     "text": [
      "\r\n",
      "  4%|██████▎                                                                                                                                                                       | 6/165 [01:30<41:19, 15.59s/it]"
     ]
    },
    {
     "name": "stdout",
     "output_type": "stream",
     "text": [
      "POINT(1.7999999523162842 51.10300064086914)\n",
      "176\n"
     ]
    },
    {
     "name": "stderr",
     "output_type": "stream",
     "text": [
      "  6%|██████████▍                                                                                                                                                                  | 10/165 [01:59<23:58,  9.28s/it]"
     ]
    },
    {
     "name": "stdout",
     "output_type": "stream",
     "text": [
      "BO_TS_MO_VengeanceTS.nc does not have any of the variables ['VHM0', 'VAVH', 'WSPD']\n",
      "BO_TS_MO_Oskarsgrundet2.nc does not have any valid data for this timeperiod\n",
      "BO_TS_MO_Oskarsgrundet2.nc does not have any valid data for this timeperiod\n",
      "BO_TS_MO_Vaderoarna.nc does not have any valid data for this timeperiod\n",
      "BO_TS_MO_Vaderoarna.nc does not have any valid data for this timeperiod\n",
      "BO_TS_MO_L9BS.nc does not have any of the variables ['VHM0', 'VAVH', 'WSPD']\n",
      "POINT(6.518016815185547 53.61745071411133)\n"
     ]
    },
    {
     "name": "stderr",
     "output_type": "stream",
     "text": [
      "\r\n",
      "  6%|██████████▍                                                                                                                                                                  | 10/165 [02:10<23:58,  9.28s/it]"
     ]
    },
    {
     "name": "stdout",
     "output_type": "stream",
     "text": [
      "236\n"
     ]
    },
    {
     "name": "stderr",
     "output_type": "stream",
     "text": [
      "\r\n",
      "  7%|████████████▌                                                                                                                                                                | 12/165 [02:34<30:19, 11.89s/it]"
     ]
    },
    {
     "name": "stdout",
     "output_type": "stream",
     "text": [
      "POINT(0.699999988079071 53.599998474121094)\n",
      "215\n"
     ]
    },
    {
     "name": "stderr",
     "output_type": "stream",
     "text": [
      "\r\n",
      "  8%|█████████████▋                                                                                                                                                               | 13/165 [03:28<50:12, 19.82s/it]"
     ]
    },
    {
     "name": "stdout",
     "output_type": "stream",
     "text": [
      "BO_TS_MO_LysekilWR.nc does not have any valid data for this timeperiod\n",
      "POINT(8.113670349121094 53.996498107910156)\n",
      "232\n"
     ]
    },
    {
     "name": "stderr",
     "output_type": "stream",
     "text": [
      "\r\n",
      "  9%|███████████████▋                                                                                                                                                             | 15/165 [04:03<47:32, 19.02s/it]"
     ]
    },
    {
     "name": "stdout",
     "output_type": "stream",
     "text": [
      "NO_TS_MO_6200050.nc does not have any valid data for this timeperiod\n",
      "NO_TS_MO_6200050.nc does not have any valid data for this timeperiod\n",
      "POINT(-12.401000022888184 48.70100021362305)\n",
      "177\n"
     ]
    },
    {
     "name": "stderr",
     "output_type": "stream",
     "text": [
      "\r\n",
      " 10%|█████████████████▊                                                                                                                                                           | 17/165 [04:28<41:50, 16.96s/it]"
     ]
    },
    {
     "name": "stdout",
     "output_type": "stream",
     "text": [
      "NO_TS_MO_6200029.nc does not have any valid data for this timeperiod\n",
      "NO_TS_MO_Haringvliet10.nc does not have any of the variables ['VHM0', 'VAVH', 'WSPD']\n",
      "NO_TS_MO_6300105.nc does not have any valid data for this timeperiod\n",
      "NO_TS_MO_6300105.nc does not have any valid data for this timeperiod\n",
      "POINT(2.7060000896453857 51.3489990234375)\n",
      "233\n"
     ]
    },
    {
     "name": "stderr",
     "output_type": "stream",
     "text": [
      "\r\n",
      " 12%|████████████████████▉                                                                                                                                                        | 20/165 [04:54<32:34, 13.48s/it]"
     ]
    },
    {
     "name": "stdout",
     "output_type": "stream",
     "text": [
      "POINT(6.165131092071533 53.52854919433594)\n",
      "238\n"
     ]
    },
    {
     "name": "stderr",
     "output_type": "stream",
     "text": [
      "\r\n",
      " 13%|██████████████████████                                                                                                                                                       | 21/165 [05:20<37:26, 15.60s/it]"
     ]
    },
    {
     "name": "stdout",
     "output_type": "stream",
     "text": [
      "POINT(8.04800033569336 56.474998474121094)\n",
      "230\n"
     ]
    },
    {
     "name": "stderr",
     "output_type": "stream",
     "text": [
      "\r\n",
      " 13%|███████████████████████                                                                                                                                                      | 22/165 [05:48<42:31, 17.84s/it]"
     ]
    },
    {
     "name": "stdout",
     "output_type": "stream",
     "text": [
      "BO_TS_MO_Laso.nc does not have any valid data for this timeperiod\n",
      "POINT(4.150599956512451 52.92639923095703)\n",
      "177\n"
     ]
    },
    {
     "name": "stderr",
     "output_type": "stream",
     "text": [
      "\r\n",
      " 15%|█████████████████████████▏                                                                                                                                                   | 24/165 [06:12<36:58, 15.74s/it]"
     ]
    },
    {
     "name": "stdout",
     "output_type": "stream",
     "text": [
      "BO_TS_MO_DrogdenTS.nc does not have any of the variables ['VHM0', 'VAVH', 'WSPD']\n",
      "NO_TS_MO_6200027.nc does not have any valid data for this timeperiod\n",
      "NO_TS_MO_6200027.nc does not have any valid data for this timeperiod\n",
      "POINT(-13.300999641418457 51.0)\n",
      "152\n"
     ]
    },
    {
     "name": "stderr",
     "output_type": "stream",
     "text": [
      "\r\n",
      " 16%|████████████████████████████▎                                                                                                                                                | 27/165 [06:29<26:28, 11.51s/it]"
     ]
    },
    {
     "name": "stdout",
     "output_type": "stream",
     "text": [
      "NO_TS_MO_6200081.nc does not have any valid data for this timeperiod\n",
      "POINT(3.669722080230713 51.92583465576172)\n",
      "176\n"
     ]
    },
    {
     "name": "stderr",
     "output_type": "stream",
     "text": [
      "\r\n",
      " 17%|█████████████████████████████▎                                                                                                                                               | 28/165 [07:31<45:50, 20.08s/it]"
     ]
    },
    {
     "name": "stdout",
     "output_type": "stream",
     "text": [
      "POINT(1.90910005569458 58.37110137939453)\n",
      "293\n"
     ]
    },
    {
     "name": "stderr",
     "output_type": "stream",
     "text": [
      "\r\n",
      " 18%|██████████████████████████████▍                                                                                                                                              | 29/165 [07:54<46:31, 20.52s/it]"
     ]
    },
    {
     "name": "stdout",
     "output_type": "stream",
     "text": [
      "NO_TS_MO_Sleipner-A.nc does not have any valid data for this timeperiod\n",
      "POINT(4.058332920074463 52.54999923706055)\n",
      "177\n"
     ]
    },
    {
     "name": "stderr",
     "output_type": "stream",
     "text": [
      "\r\n",
      " 18%|███████████████████████████████▍                                                                                                                                             | 30/165 [08:11<44:26, 19.75s/it]"
     ]
    },
    {
     "name": "stdout",
     "output_type": "stream",
     "text": [
      "POINT(2.268699884414673 61.204200744628906)\n",
      "288\n"
     ]
    },
    {
     "name": "stderr",
     "output_type": "stream",
     "text": [
      "\r\n",
      " 19%|████████████████████████████████▌                                                                                                                                            | 31/165 [08:46<52:21, 23.44s/it]"
     ]
    },
    {
     "name": "stdout",
     "output_type": "stream",
     "text": [
      "NO_TS_MO_Gullfaks-C.nc does not have any valid data for this timeperiod\n",
      "POINT(0.0 58.29999923706055)\n",
      "234\n"
     ]
    },
    {
     "name": "stderr",
     "output_type": "stream",
     "text": [
      "\r\n",
      " 19%|█████████████████████████████████▌                                                                                                                                           | 32/165 [09:08<51:15, 23.12s/it]"
     ]
    },
    {
     "name": "stdout",
     "output_type": "stream",
     "text": [
      "POINT(1.100000023841858 61.400001525878906)\n",
      "293\n"
     ]
    },
    {
     "name": "stderr",
     "output_type": "stream",
     "text": [
      "\r\n",
      " 20%|██████████████████████████████████▌                                                                                                                                          | 33/165 [09:33<52:02, 23.65s/it]"
     ]
    },
    {
     "name": "stdout",
     "output_type": "stream",
     "text": [
      "POINT(7.783299922943115 55.016700744628906)\n",
      "230\n"
     ]
    },
    {
     "name": "stderr",
     "output_type": "stream",
     "text": [
      "\r\n",
      " 21%|███████████████████████████████████▋                                                                                                                                         | 34/165 [09:52<48:59, 22.44s/it]"
     ]
    },
    {
     "name": "stdout",
     "output_type": "stream",
     "text": [
      "POINT(1.100000023841858 54.0)\n",
      "215\n"
     ]
    },
    {
     "name": "stderr",
     "output_type": "stream",
     "text": [
      "\r\n",
      " 21%|████████████████████████████████████▋                                                                                                                                        | 35/165 [10:07<43:45, 20.19s/it]"
     ]
    },
    {
     "name": "stdout",
     "output_type": "stream",
     "text": [
      "NO_TS_MO_ScheurWest.nc does not have any valid data for this timeperiod\n",
      "NO_TS_MO_ScheurWest.nc does not have any valid data for this timeperiod\n",
      "POINT(6.349999904632568 54.16666793823242)\n",
      "237\n"
     ]
    },
    {
     "name": "stderr",
     "output_type": "stream",
     "text": [
      "\r\n",
      " 22%|██████████████████████████████████████▊                                                                                                                                      | 37/165 [10:19<29:27, 13.80s/it]"
     ]
    },
    {
     "name": "stdout",
     "output_type": "stream",
     "text": [
      "POINT(3.2200000286102295 53.217777252197266)\n",
      "216\n"
     ]
    },
    {
     "name": "stderr",
     "output_type": "stream",
     "text": [
      "\r\n",
      " 23%|███████████████████████████████████████▊                                                                                                                                     | 38/165 [10:44<34:59, 16.53s/it]"
     ]
    },
    {
     "name": "stdout",
     "output_type": "stream",
     "text": [
      "POINT(3.3989999294281006 51.619998931884766)\n",
      "232\n"
     ]
    },
    {
     "name": "stderr",
     "output_type": "stream",
     "text": [
      "\r\n",
      " 24%|████████████████████████████████████████▉                                                                                                                                    | 39/165 [10:56<32:18, 15.39s/it]"
     ]
    },
    {
     "name": "stdout",
     "output_type": "stream",
     "text": [
      "NO_TS_MO_FehmarnBelt.nc does not have any valid data for this timeperiod\n",
      "POINT(8.089300155639648 54.91889953613281)\n",
      "230\n"
     ]
    },
    {
     "name": "stderr",
     "output_type": "stream",
     "text": [
      "\r\n",
      " 25%|██████████████████████████████████████████▉                                                                                                                                  | 41/165 [11:16<27:13, 13.17s/it]"
     ]
    },
    {
     "name": "stdout",
     "output_type": "stream",
     "text": [
      "NO_TS_MO_6200301.nc does not have any valid data for this timeperiod\n",
      "NO_TS_MO_6200301.nc does not have any valid data for this timeperiod\n",
      "POINT(8.229999542236328 55.34600067138672)\n",
      "230\n"
     ]
    },
    {
     "name": "stderr",
     "output_type": "stream",
     "text": [
      "\r\n",
      " 26%|█████████████████████████████████████████████                                                                                                                                | 43/165 [11:31<22:15, 10.95s/it]"
     ]
    },
    {
     "name": "stdout",
     "output_type": "stream",
     "text": [
      "POINT(0.0 50.400001525878906)\n",
      "176\n"
     ]
    },
    {
     "name": "stderr",
     "output_type": "stream",
     "text": [
      "\r\n",
      " 27%|██████████████████████████████████████████████▏                                                                                                                              | 44/165 [11:48<24:42, 12.25s/it]"
     ]
    },
    {
     "name": "stdout",
     "output_type": "stream",
     "text": [
      "POINT(1.2999999523162842 58.70000076293945)\n",
      "282\n"
     ]
    },
    {
     "name": "stderr",
     "output_type": "stream",
     "text": [
      "\r\n",
      " 27%|███████████████████████████████████████████████▏                                                                                                                             | 45/165 [11:59<23:58, 11.99s/it]"
     ]
    },
    {
     "name": "stdout",
     "output_type": "stream",
     "text": [
      "POINT(2.950000047683716 53.81663131713867)\n",
      "216\n"
     ]
    },
    {
     "name": "stderr",
     "output_type": "stream",
     "text": [
      "\r\n",
      " 28%|████████████████████████████████████████████████▏                                                                                                                            | 46/165 [12:12<24:26, 12.33s/it]"
     ]
    },
    {
     "name": "stdout",
     "output_type": "stream",
     "text": [
      "POINT(10.266667366027832 54.5)\n",
      "231\n"
     ]
    },
    {
     "name": "stderr",
     "output_type": "stream",
     "text": [
      "\r\n",
      " 28%|█████████████████████████████████████████████████▎                                                                                                                           | 47/165 [12:22<23:10, 11.78s/it]"
     ]
    },
    {
     "name": "stdout",
     "output_type": "stream",
     "text": [
      "NO_TS_MO_6200127.nc does not have any valid data for this timeperiod\n",
      "POINT(0.699999988079071 54.0)\n",
      "215\n"
     ]
    },
    {
     "name": "stderr",
     "output_type": "stream",
     "text": [
      "\r\n",
      " 29%|██████████████████████████████████████████████████▎                                                                                                                          | 48/165 [12:37<24:31, 12.58s/it]"
     ]
    },
    {
     "name": "stdout",
     "output_type": "stream",
     "text": [
      "POINT(2.819000005722046 51.41600036621094)\n",
      "233\n"
     ]
    },
    {
     "name": "stderr",
     "output_type": "stream",
     "text": [
      "\r\n",
      " 30%|███████████████████████████████████████████████████▍                                                                                                                         | 49/165 [12:51<24:59, 12.93s/it]"
     ]
    },
    {
     "name": "stdout",
     "output_type": "stream",
     "text": [
      "NO_TS_MO_ElbeUFS.nc does not have any of the variables ['VHM0', 'VAVH', 'WSPD']\n",
      "BO_TS_MO_Flinten7.nc does not have any of the variables ['VHM0', 'VAVH', 'WSPD']\n",
      "POINT(3.2200000286102295 53.217777252197266)\n",
      "216\n"
     ]
    },
    {
     "name": "stderr",
     "output_type": "stream",
     "text": [
      "\r\n",
      " 32%|██████████████████████████████████████████████████████▌                                                                                                                      | 52/165 [13:05<16:02,  8.51s/it]"
     ]
    },
    {
     "name": "stdout",
     "output_type": "stream",
     "text": [
      "BO_TS_MO_Vinga.nc does not have any valid data for this timeperiod\n",
      "POINT(3.481215000152588 51.64379119873047)\n",
      "232\n"
     ]
    },
    {
     "name": "stderr",
     "output_type": "stream",
     "text": [
      "\r\n",
      " 33%|████████████████████████████████████████████████████████▌                                                                                                                    | 54/165 [13:18<14:26,  7.80s/it]"
     ]
    },
    {
     "name": "stdout",
     "output_type": "stream",
     "text": [
      "POINT(2.799999952316284 53.10200119018555)\n",
      "233\n"
     ]
    },
    {
     "name": "stderr",
     "output_type": "stream",
     "text": [
      "\r\n",
      " 33%|█████████████████████████████████████████████████████████▋                                                                                                                   | 55/165 [13:31<15:59,  8.72s/it]"
     ]
    },
    {
     "name": "stdout",
     "output_type": "stream",
     "text": [
      "POINT(7.158332824707031 55.19499969482422)\n",
      "230\n"
     ]
    },
    {
     "name": "stderr",
     "output_type": "stream",
     "text": [
      "\r\n",
      " 34%|██████████████████████████████████████████████████████████▋                                                                                                                  | 56/165 [13:43<17:02,  9.38s/it]"
     ]
    },
    {
     "name": "stdout",
     "output_type": "stream",
     "text": [
      "NO_TS_MO_HelgolandRM.nc does not have any of the variables ['VHM0', 'VAVH', 'WSPD']\n",
      "POINT(2.986999988555908 51.564998626708984)\n",
      "232\n"
     ]
    },
    {
     "name": "stderr",
     "output_type": "stream",
     "text": [
      "\r\n",
      " 35%|████████████████████████████████████████████████████████████▊                                                                                                                | 58/165 [13:55<14:39,  8.22s/it]"
     ]
    },
    {
     "name": "stdout",
     "output_type": "stream",
     "text": [
      "NO_TS_MO_6201584.nc does not have any of the variables ['VHM0', 'VAVH', 'WSPD']\n",
      "POINT(3.2763888835906982 51.99861145019531)\n",
      "232\n"
     ]
    },
    {
     "name": "stderr",
     "output_type": "stream",
     "text": [
      "\r\n",
      " 36%|██████████████████████████████████████████████████████████████▉                                                                                                              | 60/165 [14:10<13:44,  7.86s/it]"
     ]
    },
    {
     "name": "stdout",
     "output_type": "stream",
     "text": [
      "POINT(1.0 61.099998474121094)\n",
      "333\n"
     ]
    },
    {
     "name": "stderr",
     "output_type": "stream",
     "text": [
      "\r\n",
      " 37%|███████████████████████████████████████████████████████████████▉                                                                                                             | 61/165 [14:33<18:59, 10.95s/it]"
     ]
    },
    {
     "name": "stdout",
     "output_type": "stream",
     "text": [
      "POINT(3.0 51.948333740234375)\n",
      "232\n"
     ]
    },
    {
     "name": "stderr",
     "output_type": "stream",
     "text": [
      "\r\n",
      " 38%|█████████████████████████████████████████████████████████████████                                                                                                            | 62/165 [14:47<19:53, 11.59s/it]"
     ]
    },
    {
     "name": "stdout",
     "output_type": "stream",
     "text": [
      "NO_TS_MO_6200135.nc does not have any valid data for this timeperiod\n",
      "POINT(4.960700035095215 53.613800048828125)\n",
      "236\n"
     ]
    },
    {
     "name": "stderr",
     "output_type": "stream",
     "text": [
      "\r\n",
      " 39%|███████████████████████████████████████████████████████████████████                                                                                                          | 64/165 [15:02<17:01, 10.11s/it]"
     ]
    },
    {
     "name": "stdout",
     "output_type": "stream",
     "text": [
      "NO_TS_MO_Anasuria.nc does not have any valid data for this timeperiod\n",
      "BO_TS_MO_DrogdenCU.nc does not have any of the variables ['VHM0', 'VAVH', 'WSPD']\n",
      "POINT(3.2200000286102295 53.217777252197266)\n",
      "216\n"
     ]
    },
    {
     "name": "stderr",
     "output_type": "stream",
     "text": [
      "\r\n",
      " 41%|██████████████████████████████████████████████████████████████████████▏                                                                                                      | 67/165 [15:21<13:41,  8.38s/it]"
     ]
    },
    {
     "name": "stdout",
     "output_type": "stream",
     "text": [
      "NO_TS_MO_D151.nc does not have any valid data for this timeperiod\n",
      "NO_TS_MO_D151.nc does not have any valid data for this timeperiod\n",
      "POINT(3.306299924850464 51.74470138549805)\n",
      "232\n"
     ]
    },
    {
     "name": "stderr",
     "output_type": "stream",
     "text": [
      "\r\n",
      " 42%|████████████████████████████████████████████████████████████████████████▎                                                                                                    | 69/165 [15:35<12:40,  7.92s/it]"
     ]
    },
    {
     "name": "stdout",
     "output_type": "stream",
     "text": [
      "POINT(7.449999809265137 54.16666793823242)\n",
      "232\n"
     ]
    },
    {
     "name": "stderr",
     "output_type": "stream",
     "text": [
      "\r\n",
      " 42%|█████████████████████████████████████████████████████████████████████████▍                                                                                                   | 70/165 [15:48<14:02,  8.87s/it]"
     ]
    },
    {
     "name": "stdout",
     "output_type": "stream",
     "text": [
      "POINT(3.2763888835906982 51.99861145019531)\n",
      "232\n"
     ]
    },
    {
     "name": "stderr",
     "output_type": "stream",
     "text": [
      "\r\n",
      " 43%|██████████████████████████████████████████████████████████████████████████▍                                                                                                  | 71/165 [16:03<15:46, 10.06s/it]"
     ]
    },
    {
     "name": "stdout",
     "output_type": "stream",
     "text": [
      "NO_TS_MO_LTKielCU.nc does not have any of the variables ['VHM0', 'VAVH', 'WSPD']\n",
      "POINT(3.633268117904663 53.26670455932617)\n",
      "236\n"
     ]
    },
    {
     "name": "stderr",
     "output_type": "stream",
     "text": [
      "\r\n",
      " 44%|████████████████████████████████████████████████████████████████████████████▌                                                                                                | 73/165 [16:18<13:52,  9.05s/it]"
     ]
    },
    {
     "name": "stdout",
     "output_type": "stream",
     "text": [
      "POINT(4.6616668701171875 53.27694320678711)\n",
      "236\n"
     ]
    },
    {
     "name": "stderr",
     "output_type": "stream",
     "text": [
      "\r\n",
      " 45%|█████████████████████████████████████████████████████████████████████████████▌                                                                                               | 74/165 [16:31<15:02,  9.91s/it]"
     ]
    },
    {
     "name": "stdout",
     "output_type": "stream",
     "text": [
      "POLYGON((11.224499702453613 58.25,11.224499702453613 58.25299835205078,11.216699600219727 58.25299835205078,11.216699600219727 58.25,11.224499702453613 58.25))\n",
      "234\n"
     ]
    },
    {
     "name": "stderr",
     "output_type": "stream",
     "text": [
      "\r\n",
      " 45%|█████████████████████████████████████████████████████████████████████████████▋                                                                                             | 75/165 [20:20<1:30:11, 60.13s/it]"
     ]
    },
    {
     "name": "stdout",
     "output_type": "stream",
     "text": [
      "POINT(2.700000047683716 53.5)\n",
      "230\n"
     ]
    },
    {
     "name": "stderr",
     "output_type": "stream",
     "text": [
      "\r\n",
      " 46%|██████████████████████████████████████████████████████████████████████████████▊                                                                                            | 76/165 [20:32<1:11:26, 48.16s/it]"
     ]
    },
    {
     "name": "stdout",
     "output_type": "stream",
     "text": [
      "NO_TS_MO_6201571.nc does not have any of the variables ['VHM0', 'VAVH', 'WSPD']\n",
      "POINT(3.3022000789642334 51.40140151977539)\n",
      "233\n"
     ]
    },
    {
     "name": "stderr",
     "output_type": "stream",
     "text": [
      "\r\n",
      " 47%|█████████████████████████████████████████████████████████████████████████████████▊                                                                                           | 78/165 [20:42<44:11, 30.48s/it]"
     ]
    },
    {
     "name": "stdout",
     "output_type": "stream",
     "text": [
      "NO_TS_MO_ScheurWielingen.nc does not have any valid data for this timeperiod\n",
      "BO_TS_MO_Fladen2.nc does not have any valid data for this timeperiod\n",
      "BO_TS_MO_Fladen2.nc does not have any valid data for this timeperiod\n",
      "BO_TS_MO_Vaderoarna2.nc does not have any valid data for this timeperiod\n",
      "POINT(7.635000228881836 54.46833038330078)\n",
      "232\n"
     ]
    },
    {
     "name": "stderr",
     "output_type": "stream",
     "text": [
      "\r\n",
      " 49%|████████████████████████████████████████████████████████████████████████████████████▉                                                                                        | 81/165 [20:54<25:13, 18.01s/it]"
     ]
    },
    {
     "name": "stdout",
     "output_type": "stream",
     "text": [
      "NO_TS_MO_DarsserSWR.nc does not have any valid data for this timeperiod\n",
      "POINT(3.242086887359619 51.50422668457031)\n",
      "233\n"
     ]
    },
    {
     "name": "stderr",
     "output_type": "stream",
     "text": [
      "\r\n",
      " 50%|███████████████████████████████████████████████████████████████████████████████████████                                                                                      | 83/165 [21:09<20:04, 14.69s/it]"
     ]
    },
    {
     "name": "stdout",
     "output_type": "stream",
     "text": [
      "POINT(3.617302894592285 51.7685661315918)\n",
      "176\n"
     ]
    },
    {
     "name": "stderr",
     "output_type": "stream",
     "text": [
      "\r\n",
      " 51%|████████████████████████████████████████████████████████████████████████████████████████                                                                                     | 84/165 [21:27<20:40, 15.32s/it]"
     ]
    },
    {
     "name": "stdout",
     "output_type": "stream",
     "text": [
      "POINT(3.050600051879883 51.3922004699707)\n",
      "233\n"
     ]
    },
    {
     "name": "stderr",
     "output_type": "stream",
     "text": [
      "\r\n",
      " 52%|█████████████████████████████████████████████████████████████████████████████████████████                                                                                    | 85/165 [21:40<19:52, 14.91s/it]"
     ]
    },
    {
     "name": "stdout",
     "output_type": "stream",
     "text": [
      "NO_TS_MO_6201574.nc does not have any of the variables ['VHM0', 'VAVH', 'WSPD']\n",
      "POINT(2.435800075531006 51.381099700927734)\n"
     ]
    },
    {
     "name": "stderr",
     "output_type": "stream",
     "text": [
      "\r\n",
      " 53%|███████████████████████████████████████████████████████████████████████████████████████████▏                                                                                 | 87/165 [21:53<15:19, 11.79s/it]"
     ]
    },
    {
     "name": "stdout",
     "output_type": "stream",
     "text": [
      "233\n",
      "NO_TS_MO_Westhinder.nc does not have any valid data for this timeperiod\n",
      "NO_TS_MO_AlphaVentus.nc does not have any valid data for this timeperiod\n",
      "POINT(7.940999984741211 55.810001373291016)\n",
      "230\n"
     ]
    },
    {
     "name": "stderr",
     "output_type": "stream",
     "text": [
      "\r\n",
      " 54%|█████████████████████████████████████████████████████████████████████████████████████████████▎                                                                               | 89/165 [22:07<12:41, 10.02s/it]"
     ]
    },
    {
     "name": "stdout",
     "output_type": "stream",
     "text": [
      "BO_TS_MO_Falsterborev.nc does not have any valid data for this timeperiod\n",
      "POLYGON((10.92959976196289 58.483299255371094,10.92959976196289 58.49039840698242,10.934200286865234 58.49039840698242,10.934200286865234 58.483299255371094,10.92959976196289 58.483299255371094))\n",
      "234\n"
     ]
    },
    {
     "name": "stderr",
     "output_type": "stream",
     "text": [
      "\r\n",
      " 55%|███████████████████████████████████████████████████████████████████████████████████████████████▍                                                                             | 91/165 [25:48<53:25, 43.31s/it]"
     ]
    },
    {
     "name": "stdout",
     "output_type": "stream",
     "text": [
      "NO_TS_MO_6200105.nc does not have any valid data for this timeperiod\n",
      "NO_TS_MO_6200105.nc does not have any valid data for this timeperiod\n",
      "NO_TS_MO_6201576.nc does not have any of the variables ['VHM0', 'VAVH', 'WSPD']\n",
      "POINT(6.838500022888184 53.985198974609375)\n",
      "236\n"
     ]
    },
    {
     "name": "stderr",
     "output_type": "stream",
     "text": [
      "\r\n",
      " 57%|██████████████████████████████████████████████████████████████████████████████████████████████████▌                                                                          | 94/165 [26:04<32:35, 27.55s/it]"
     ]
    },
    {
     "name": "stdout",
     "output_type": "stream",
     "text": [
      "NO_TS_MO_6200142.nc does not have any valid data for this timeperiod\n",
      "NO_TS_MO_6200142.nc does not have any valid data for this timeperiod\n",
      "NO_TS_MO_NsbIII.nc does not have any valid data for this timeperiod\n",
      "POINT(6.783332824707031 54.68333435058594)\n",
      "236\n"
     ]
    },
    {
     "name": "stderr",
     "output_type": "stream",
     "text": [
      "\r\n",
      " 58%|████████████████████████████████████████████████████████████████████████████████████████████████████▋                                                                        | 96/165 [26:20<25:17, 22.00s/it]"
     ]
    },
    {
     "name": "stdout",
     "output_type": "stream",
     "text": [
      "POINT(6.1666998863220215 53.59550094604492)\n",
      "238\n"
     ]
    },
    {
     "name": "stderr",
     "output_type": "stream",
     "text": [
      "\r\n",
      " 59%|█████████████████████████████████████████████████████████████████████████████████████████████████████▋                                                                       | 97/165 [26:31<22:50, 20.16s/it]"
     ]
    },
    {
     "name": "stdout",
     "output_type": "stream",
     "text": [
      "POINT(2.86299991607666 51.28900146484375)\n",
      "234\n"
     ]
    },
    {
     "name": "stderr",
     "output_type": "stream",
     "text": [
      "\r\n",
      " 59%|██████████████████████████████████████████████████████████████████████████████████████████████████████▊                                                                      | 98/165 [26:51<22:34, 20.22s/it]"
     ]
    },
    {
     "name": "stdout",
     "output_type": "stream",
     "text": [
      "POINT(1.5 59.5)\n",
      "268\n"
     ]
    },
    {
     "name": "stderr",
     "output_type": "stream",
     "text": [
      " 62%|███████████████████████████████████████████████████████████████████████████████████████████████████████████▎                                                                | 103/165 [27:05<08:39,  8.38s/it]"
     ]
    },
    {
     "name": "stdout",
     "output_type": "stream",
     "text": [
      "BO_TS_MO_Kalkgrundet.nc does not have any valid data for this timeperiod\n",
      "BO_TS_MO_Kristineberg3.nc does not have any valid data for this timeperiod\n",
      "NO_TS_MO_6200147.nc does not have any of the variables ['VHM0', 'VAVH', 'WSPD']\n",
      "NO_TS_MO_Amelander11.nc does not have any valid data for this timeperiod\n",
      "NO_TS_MO_Amelander11.nc does not have any valid data for this timeperiod\n",
      "BO_TS_MO_Grisbadarna.nc does not have any valid data for this timeperiod\n",
      "NO_TS_MO_Amelander12.nc does not have any valid data for this timeperiod\n",
      "NO_TS_MO_Amelander12.nc does not have any valid data for this timeperiod\n",
      "POINT(1.7000000476837158 53.400001525878906)\n"
     ]
    },
    {
     "name": "stderr",
     "output_type": "stream",
     "text": [
      "\r\n",
      " 62%|███████████████████████████████████████████████████████████████████████████████████████████████████████████▎                                                                | 103/165 [27:20<08:39,  8.38s/it]"
     ]
    },
    {
     "name": "stdout",
     "output_type": "stream",
     "text": [
      "229\n"
     ]
    },
    {
     "name": "stderr",
     "output_type": "stream",
     "text": [
      "\r\n",
      " 64%|██████████████████████████████████████████████████████████████████████████████████████████████████████████████▍                                                             | 106/165 [27:29<08:04,  8.22s/it]"
     ]
    },
    {
     "name": "stdout",
     "output_type": "stream",
     "text": [
      "POINT(1.5 53.599998474121094)\n",
      "215\n"
     ]
    },
    {
     "name": "stderr",
     "output_type": "stream",
     "text": [
      " 66%|█████████████████████████████████████████████████████████████████████████████████████████████████████████████████▌                                                          | 109/165 [27:43<05:56,  6.36s/it]"
     ]
    },
    {
     "name": "stdout",
     "output_type": "stream",
     "text": [
      "NO_TS_MO_6200148.nc does not have any valid data for this timeperiod\n",
      "NO_TS_MO_Amelander22.nc does not have any valid data for this timeperiod\n",
      "NO_TS_MO_Amelander22.nc does not have any valid data for this timeperiod\n",
      "NO_TS_MO_Amelander21.nc does not have any valid data for this timeperiod\n",
      "NO_TS_MO_Amelander21.nc does not have any valid data for this timeperiod\n",
      "POINT(12.699999809265137 54.70000076293945)\n",
      "237\n",
      "POINT(-2.9000000953674316 49.900001525878906)\n"
     ]
    },
    {
     "name": "stderr",
     "output_type": "stream",
     "text": [
      "\r\n",
      " 66%|█████████████████████████████████████████████████████████████████████████████████████████████████████████████████▌                                                          | 109/165 [28:00<05:56,  6.36s/it]"
     ]
    },
    {
     "name": "stdout",
     "output_type": "stream",
     "text": [
      "179\n"
     ]
    },
    {
     "name": "stderr",
     "output_type": "stream",
     "text": [
      "\r\n",
      " 67%|███████████████████████████████████████████████████████████████████████████████████████████████████████████████████▋                                                        | 111/165 [28:11<07:48,  8.68s/it]"
     ]
    },
    {
     "name": "stdout",
     "output_type": "stream",
     "text": [
      "BO_TS_MO_W26TS.nc does not have any of the variables ['VHM0', 'VAVH', 'WSPD']\n",
      "BO_TS_MO_LasoOstWR.nc does not have any valid data for this timeperiod\n",
      "BO_TS_MO_Laholmsbukten.nc does not have any valid data for this timeperiod\n",
      "POINT(3.8166251182556152 55.41663360595703)\n",
      "223\n"
     ]
    },
    {
     "name": "stderr",
     "output_type": "stream",
     "text": [
      "\r\n",
      " 70%|███████████████████████████████████████████████████████████████████████████████████████████████████████████████████████▉                                                    | 115/165 [28:43<07:00,  8.41s/it]"
     ]
    },
    {
     "name": "stdout",
     "output_type": "stream",
     "text": [
      "POINT(6.5833330154418945 54.0)\n",
      "236\n"
     ]
    },
    {
     "name": "stderr",
     "output_type": "stream",
     "text": [
      " 72%|████████████████████████████████████████████████████████████████████████████████████████████████████████████████████████████                                                | 119/165 [29:05<04:54,  6.39s/it]"
     ]
    },
    {
     "name": "stdout",
     "output_type": "stream",
     "text": [
      "NO_TS_MO_6201577.nc does not have any of the variables ['VHM0', 'VAVH', 'WSPD']\n",
      "NO_TS_MO_FINO3FerryBox.nc does not have any of the variables ['VHM0', 'VAVH', 'WSPD']\n",
      "BO_TS_MO_Dynekil.nc does not have any valid data for this timeperiod\n",
      "NO_TS_MO_VlaktevdRaan.nc does not have any of the variables ['VHM0', 'VAVH', 'WSPD']\n",
      "POINT(-4.5 60.70100021362305)\n",
      "238\n",
      "POINT(7.818299770355225 54.21929931640625)\n"
     ]
    },
    {
     "name": "stderr",
     "output_type": "stream",
     "text": [
      "\r\n",
      " 72%|████████████████████████████████████████████████████████████████████████████████████████████████████████████████████████████                                                | 119/165 [29:20<04:54,  6.39s/it]"
     ]
    },
    {
     "name": "stdout",
     "output_type": "stream",
     "text": [
      "232\n"
     ]
    },
    {
     "name": "stderr",
     "output_type": "stream",
     "text": [
      "\r\n",
      " 74%|███████████████████████████████████████████████████████████████████████████████████████████████████████████████████████████████▏                                            | 122/165 [29:31<05:10,  7.23s/it]"
     ]
    },
    {
     "name": "stdout",
     "output_type": "stream",
     "text": [
      "POINT(3.7193000316619873 60.64350128173828)\n",
      "237\n"
     ]
    },
    {
     "name": "stderr",
     "output_type": "stream",
     "text": [
      "\r\n",
      " 75%|████████████████████████████████████████████████████████████████████████████████████████████████████████████████████████████████▏                                           | 123/165 [29:49<06:11,  8.84s/it]"
     ]
    },
    {
     "name": "stdout",
     "output_type": "stream",
     "text": [
      "NO_TS_MO_Troll-A.nc does not have any valid data for this timeperiod\n",
      "NO_TS_MO_6200166.nc does not have any of the variables ['VHM0', 'VAVH', 'WSPD']\n",
      "POINT(4.150000095367432 52.92535400390625)\n",
      "177\n"
     ]
    },
    {
     "name": "stderr",
     "output_type": "stream",
     "text": [
      "\r\n",
      " 76%|██████████████████████████████████████████████████████████████████████████████████████████████████████████████████████████████████▎                                         | 125/165 [30:09<06:02,  9.05s/it]"
     ]
    },
    {
     "name": "stdout",
     "output_type": "stream",
     "text": [
      "NO_TS_MO_NsbII.nc does not have any valid data for this timeperiod\n",
      "POINT(6.3333330154418945 55.0)\n",
      "237\n"
     ]
    },
    {
     "name": "stderr",
     "output_type": "stream",
     "text": [
      "\r\n",
      " 76%|███████████████████████████████████████████████████████████████████████████████████████████████████████████████████████████████████▎                                        | 126/165 [30:22<06:19,  9.72s/it]"
     ]
    },
    {
     "name": "stdout",
     "output_type": "stream",
     "text": [
      "BO_TS_MO_Trubaduren.nc does not have any valid data for this timeperiod\n",
      "BO_TS_MO_Trubaduren.nc does not have any valid data for this timeperiod\n",
      "POINT(8.100569725036621 54.2005500793457)\n",
      "232\n"
     ]
    },
    {
     "name": "stderr",
     "output_type": "stream",
     "text": [
      "\r\n",
      " 78%|█████████████████████████████████████████████████████████████████████████████████████████████████████████████████████████████████████▍                                      | 128/165 [30:36<05:30,  8.94s/it]"
     ]
    },
    {
     "name": "stdout",
     "output_type": "stream",
     "text": [
      "POINT(3.669722080230713 51.92583465576172)\n",
      "176\n"
     ]
    },
    {
     "name": "stderr",
     "output_type": "stream",
     "text": [
      "\r\n",
      " 78%|██████████████████████████████████████████████████████████████████████████████████████████████████████████████████████████████████████▍                                     | 129/165 [30:52<06:05, 10.15s/it]"
     ]
    },
    {
     "name": "stdout",
     "output_type": "stream",
     "text": [
      "NO_TS_MO_EurogeulE5.nc does not have any valid data for this timeperiod\n",
      "NO_TS_MO_EurogeulE5.nc does not have any valid data for this timeperiod\n",
      "POINT(1.100000023841858 53.70000076293945)\n",
      "157\n"
     ]
    },
    {
     "name": "stderr",
     "output_type": "stream",
     "text": [
      "\r\n",
      " 79%|████████████████████████████████████████████████████████████████████████████████████████████████████████████████████████████████████████▌                                   | 131/165 [31:08<05:20,  9.41s/it]"
     ]
    },
    {
     "name": "stdout",
     "output_type": "stream",
     "text": [
      "BO_TS_MO_PaterNoster.nc does not have any valid data for this timeperiod\n",
      "POINT(2.5829999446868896 51.13800048828125)\n",
      "234\n"
     ]
    },
    {
     "name": "stderr",
     "output_type": "stream",
     "text": [
      "\r\n",
      " 81%|██████████████████████████████████████████████████████████████████████████████████████████████████████████████████████████████████████████▋                                 | 133/165 [31:28<05:10,  9.69s/it]"
     ]
    },
    {
     "name": "stdout",
     "output_type": "stream",
     "text": [
      "BO_TS_MO_LasoOst.nc does not have any valid data for this timeperiod\n",
      "BO_TS_MO_LasoOst.nc does not have any valid data for this timeperiod\n",
      "POINT(10.266667366027832 54.5)\n",
      "231\n"
     ]
    },
    {
     "name": "stderr",
     "output_type": "stream",
     "text": [
      "\r\n",
      " 82%|████████████████████████████████████████████████████████████████████████████████████████████████████████████████████████████████████████████▋                               | 135/165 [31:42<04:24,  8.81s/it]"
     ]
    },
    {
     "name": "stdout",
     "output_type": "stream",
     "text": [
      "POINT(3.816999912261963 55.417999267578125)\n",
      "223\n"
     ]
    },
    {
     "name": "stderr",
     "output_type": "stream",
     "text": [
      "\r\n",
      " 82%|█████████████████████████████████████████████████████████████████████████████████████████████████████████████████████████████████████████████▊                              | 136/165 [31:56<04:41,  9.72s/it]"
     ]
    },
    {
     "name": "stdout",
     "output_type": "stream",
     "text": [
      "POINT(2.0 51.2400016784668)\n",
      "234\n"
     ]
    },
    {
     "name": "stderr",
     "output_type": "stream",
     "text": [
      "\r\n",
      " 83%|██████████████████████████████████████████████████████████████████████████████████████████████████████████████████████████████████████████████▊                             | 137/165 [32:13<05:14, 11.22s/it]"
     ]
    },
    {
     "name": "stdout",
     "output_type": "stream",
     "text": [
      "POINT(-11.401000022888184 59.099998474121094)\n",
      "162\n"
     ]
    },
    {
     "name": "stderr",
     "output_type": "stream",
     "text": [
      "\r\n",
      " 84%|███████████████████████████████████████████████████████████████████████████████████████████████████████████████████████████████████████████████▊                            | 138/165 [32:26<05:19, 11.85s/it]"
     ]
    },
    {
     "name": "stdout",
     "output_type": "stream",
     "text": [
      "POINT(3.311666965484619 51.74833297729492)\n",
      "232\n"
     ]
    },
    {
     "name": "stderr",
     "output_type": "stream",
     "text": [
      " 85%|█████████████████████████████████████████████████████████████████████████████████████████████████████████████████████████████████████████████████▉                          | 140/165 [32:41<03:51,  9.27s/it]"
     ]
    },
    {
     "name": "stdout",
     "output_type": "stream",
     "text": [
      "NO_TS_MO_F161.nc does not have any valid data for this timeperiod\n",
      "NO_TS_MO_F161.nc does not have any valid data for this timeperiod\n",
      "POINT(4.727499961853027 54.85388946533203)\n",
      "289\n"
     ]
    },
    {
     "name": "stderr",
     "output_type": "stream",
     "text": [
      "\r\n",
      " 86%|████████████████████████████████████████████████████████████████████████████████████████████████████████████████████████████████████████████████████                        | 142/165 [32:56<03:15,  8.50s/it]"
     ]
    },
    {
     "name": "stdout",
     "output_type": "stream",
     "text": [
      "BO_TS_MO_Oskarsgrundet.nc does not have any valid data for this timeperiod\n",
      "POINT(4.058332920074463 52.54999923706055)\n",
      "177\n"
     ]
    },
    {
     "name": "stderr",
     "output_type": "stream",
     "text": [
      "\r\n",
      " 87%|█████████████████████████████████████████████████████████████████████████████████████████████████████████████████████████████████████████████████████                       | 143/165 [33:16<04:07, 11.24s/it]"
     ]
    },
    {
     "name": "stdout",
     "output_type": "stream",
     "text": [
      "NO_TS_MO_WaddenSchiermonnikoog.nc does not have any valid data for this timeperiod\n",
      "NO_TS_MO_WaddenSchiermonnikoog.nc does not have any valid data for this timeperiod\n",
      "POINT(-6.099999904632568 50.10300064086914)\n",
      "178\n"
     ]
    },
    {
     "name": "stderr",
     "output_type": "stream",
     "text": [
      "\r\n",
      " 88%|███████████████████████████████████████████████████████████████████████████████████████████████████████████████████████████████████████████████████████▏                    | 145/165 [33:27<02:58,  8.94s/it]"
     ]
    },
    {
     "name": "stdout",
     "output_type": "stream",
     "text": [
      "POINT(2.825700044631958 60.49129867553711)\n",
      "354\n"
     ]
    },
    {
     "name": "stderr",
     "output_type": "stream",
     "text": [
      "\r\n",
      " 88%|████████████████████████████████████████████████████████████████████████████████████████████████████████████████████████████████████████████████████████▏                   | 146/165 [33:41<03:09,  9.95s/it]"
     ]
    },
    {
     "name": "stdout",
     "output_type": "stream",
     "text": [
      "NO_TS_MO_Oseberg-A.nc does not have any valid data for this timeperiod\n",
      "POINT(0.800000011920929 57.20000076293945)\n",
      "234\n"
     ]
    },
    {
     "name": "stderr",
     "output_type": "stream",
     "text": [
      "\r\n",
      " 89%|█████████████████████████████████████████████████████████████████████████████████████████████████████████████████████████████████████████████████████████▏                  | 147/165 [33:58<03:31, 11.74s/it]"
     ]
    },
    {
     "name": "stdout",
     "output_type": "stream",
     "text": [
      "NO_TS_MO_Europlatform.nc does not have any of the variables ['VHM0', 'VAVH', 'WSPD']\n",
      "POINT(6.3679327964782715 53.61953353881836)\n",
      "208\n"
     ]
    },
    {
     "name": "stderr",
     "output_type": "stream",
     "text": [
      "\r\n",
      " 90%|███████████████████████████████████████████████████████████████████████████████████████████████████████████████████████████████████████████████████████████▎                | 149/165 [34:16<02:49, 10.59s/it]"
     ]
    },
    {
     "name": "stdout",
     "output_type": "stream",
     "text": [
      "POINT(2.8127779960632324 51.23666763305664)\n",
      "234\n"
     ]
    },
    {
     "name": "stderr",
     "output_type": "stream",
     "text": [
      "\r\n",
      " 91%|████████████████████████████████████████████████████████████████████████████████████████████████████████████████████████████████████████████████████████████▎               | 150/165 [34:29<02:46, 11.07s/it]"
     ]
    },
    {
     "name": "stdout",
     "output_type": "stream",
     "text": [
      "BO_TS_MO_Fladen.nc does not have any valid data for this timeperiod\n",
      "BO_TS_MO_Hattan.nc does not have any valid data for this timeperiod\n",
      "POINT(8.168054580688477 53.834999084472656)\n",
      "232\n"
     ]
    },
    {
     "name": "stderr",
     "output_type": "stream",
     "text": [
      " 93%|████████████████████████████████████████████████████████████████████████████████████████████████████████████████████████████████████████████████████████████████▌           | 154/165 [35:04<01:41,  9.20s/it]"
     ]
    },
    {
     "name": "stdout",
     "output_type": "stream",
     "text": [
      "NO_TS_MO_6200125.nc does not have any valid data for this timeperiod\n",
      "NO_TS_MO_6200125.nc does not have any valid data for this timeperiod\n",
      "NO_TS_MO_NorthCormorant.nc does not have any valid data for this timeperiod\n",
      "NO_TS_MO_NorthCormorant.nc does not have any valid data for this timeperiod\n",
      "POINT(2.0999999046325684 57.20000076293945)\n"
     ]
    },
    {
     "name": "stderr",
     "output_type": "stream",
     "text": [
      "\r\n",
      " 93%|████████████████████████████████████████████████████████████████████████████████████████████████████████████████████████████████████████████████████████████████▌           | 154/165 [35:20<01:41,  9.20s/it]"
     ]
    },
    {
     "name": "stdout",
     "output_type": "stream",
     "text": [
      "292\n"
     ]
    },
    {
     "name": "stderr",
     "output_type": "stream",
     "text": [
      " 96%|████████████████████████████████████████████████████████████████████████████████████████████████████████████████████████████████████████████████████████████████████▋       | 158/165 [35:38<00:55,  7.97s/it]"
     ]
    },
    {
     "name": "stdout",
     "output_type": "stream",
     "text": [
      "NO_TS_MO_ScheurOost.nc does not have any valid data for this timeperiod\n",
      "NO_TS_MO_ScheurOost.nc does not have any valid data for this timeperiod\n",
      "BO_TS_MO_VengeanceCU.nc does not have any of the variables ['VHM0', 'VAVH', 'WSPD']\n",
      "NO_TS_MO_6201572.nc does not have any of the variables ['VHM0', 'VAVH', 'WSPD']\n",
      "BO_TS_MO_W26CU.nc does not have any of the variables ['VHM0', 'VAVH', 'WSPD']\n",
      "POINT(6.5833330154418945 54.0)\n"
     ]
    },
    {
     "name": "stderr",
     "output_type": "stream",
     "text": [
      "\r\n",
      " 96%|████████████████████████████████████████████████████████████████████████████████████████████████████████████████████████████████████████████████████████████████████▋       | 158/165 [35:50<00:55,  7.97s/it]"
     ]
    },
    {
     "name": "stdout",
     "output_type": "stream",
     "text": [
      "236\n"
     ]
    },
    {
     "name": "stderr",
     "output_type": "stream",
     "text": [
      "\r\n",
      " 98%|███████████████████████████████████████████████████████████████████████████████████████████████████████████████████████████████████████████████████████████████████████▊    | 161/165 [36:20<00:42, 10.58s/it]"
     ]
    },
    {
     "name": "stdout",
     "output_type": "stream",
     "text": [
      "POINT(3.4154999256134033 51.43339920043945)\n",
      "233\n"
     ]
    },
    {
     "name": "stderr",
     "output_type": "stream",
     "text": [
      "\r\n",
      " 98%|████████████████████████████████████████████████████████████████████████████████████████████████████████████████████████████████████████████████████████████████████████▊   | 162/165 [36:57<00:44, 14.93s/it]"
     ]
    },
    {
     "name": "stdout",
     "output_type": "stream",
     "text": [
      "BO_TS_MO_Flinten7BS.nc does not have any of the variables ['VHM0', 'VAVH', 'WSPD']\n",
      "POINT(2.227299928665161 59.57419967651367)\n",
      "294\n"
     ]
    },
    {
     "name": "stderr",
     "output_type": "stream",
     "text": [
      "\r\n",
      " 99%|██████████████████████████████████████████████████████████████████████████████████████████████████████████████████████████████████████████████████████████████████████████▉ | 164/165 [37:18<00:13, 13.54s/it]"
     ]
    },
    {
     "name": "stdout",
     "output_type": "stream",
     "text": [
      "NO_TS_MO_Heimdal.nc does not have any valid data for this timeperiod\n",
      "POINT(3.7369439601898193 52.0099983215332)\n",
      "176\n"
     ]
    },
    {
     "name": "stderr",
     "output_type": "stream",
     "text": [
      "100%|████████████████████████████████████████████████████████████████████████████████████████████████████████████████████████████████████████████████████████████████████████████| 165/165 [37:34<00:00, 13.67s/it]\n"
     ]
    }
   ],
   "source": [
    "data_dir = './data/'\n",
    "file_prefixes = ['NO_TS_MO', 'BO_TS_MO']\n",
    "start_date = '2021-01-01'\n",
    "end_date = '2021-12-31'\n",
    "variables = ['VHM0', 'VAVH', 'WSPD']#['VHM0', 'VAVH', 'WSPD']\n",
    "max_time_diff_s = 15*60\n",
    "\n",
    "write_folder = './15min'\n",
    "result_df_fn = 'result_df'\n",
    "kml_pinmap_fn = 'kml_pinmap'\n",
    "\n",
    "#Filtered bouy to not include, manually filtered, removing all bouys rougly < 3km to shore\n",
    "file_filter = [\n",
    "    'BO_TS_MO_Dalbosjon.nc',\n",
    "    'BO_TS_MO_Koster.nc',\n",
    "    'BO_TS_MO_Vaderobod.nc',\n",
    "    'BO_TS_MO_Vaderoarna1.nc',\n",
    "    'BO_TS_MO_Borno.nc',\n",
    "    'BO_TS_MO_Havstensfjord.nc',\n",
    "    'BO_TS_MO_HavstensfjordBS.nc',\n",
    "    'BO_TS_MO_Kristineberg1.nc',\n",
    "    'BO_TS_MO_Kristineberg2.nc',\n",
    "    'BO_TS_MO_Tangesund.nc',\n",
    "    'NO_TS_MO_BuoyHoernumTief1.nc',\n",
    "    'NO_TS_MO_Hoernum.nc',\n",
    "    'NO_TS_MO_HelgolandWR.nc',\n",
    "    'NO_TS_MO_CuxhavenFerryBox.nc',\n",
    "    'NO_TS_MO_PileSpiekeroog.nc',\n",
    "    'NO_TS_MO_MeetboeiRZGN1.nc',\n",
    "    'NO_TS_MO_Borkum.nc',\n",
    "    'NO_TS_MO_MeetboeiUHW1.nc',\n",
    "    'NO_TS_MO_Uithuizerwad2.nc',\n",
    "    'NO_TS_MO_Uithuizerwad3.nc',\n",
    "    'NO_TS_MO_SchiermonnikoogWaggen.nc',\n",
    "    'NO_TS_MO_Wierumerwad3.nc',\n",
    "    'NO_TS_MO_Wierumerwad2.nc',\n",
    "    'NO_TS_MO_Amelander31.nc',\n",
    "    'NO_TS_MO_Amelander32.nc',\n",
    "    'NO_TS_MO_Amelander41.nc',\n",
    "    'NO_TS_MO_Amelander42.nc',\n",
    "    'NO_TS_MO_Amelander51.nc',\n",
    "    'NO_TS_MO_Amelander52.nc',\n",
    "    'NO_TS_MO_Amelander61.nc',\n",
    "    'NO_TS_MO_Amelander62.nc',\n",
    "    'NO_TS_MO_StortemelkOost.nc',\n",
    "    'NO_TS_MO_StortemelkBoei.nc',\n",
    "    'NO_TS_MO_Pannengat1.nc',\n",
    "    'NO_TS_MO_Breesem1.nc',\n",
    "    'NO_TS_MO_KornwerderzandBuiten.nc',\n",
    "    'NO_TS_MO_Breezanddijkbuiten1.nc',\n",
    "    'NO_TS_MO_Malzwin1.nc',\n",
    "    'NO_TS_MO_MeetboeiPBW1.nc',\n",
    "    'NO_TS_MO_DenHelder.nc',\n",
    "    'NO_TS_MO_Ijmuiden.nc',\n",
    "    'NO_TS_MO_IJmondstroompaal.nc',\n",
    "    'NO_TS_MO_IJgeulstroompaal1.nc',\n",
    "    'NO_TS_MO_IJmondstroompaal2.nc',\n",
    "    'NO_TS_MO_MaeslantkeringZeezijdeNoordMeetpaal.nc',\n",
    "    'NO_TS_MO_MaeslantkeringZeezijdeZuidMeetpaal.nc',\n",
    "    'NO_TS_MO_HoekVanHolland.nc',\n",
    "    'NO_TS_MO_HoekVanHollandNAP.nc',\n",
    "    'NO_TS_MO_zdv8-2d-MMND.nc',\n",
    "    'NO_TS_MO_Brouwershavensegat8.nc',\n",
    "    'NO_TS_MO_Oosterschelde4.nc',\n",
    "    'NO_TS_MO_Roompotsluis.nc',\n",
    "    'NO_TS_MO_KeetenBoei.nc',\n",
    "    'NO_TS_MO_MarollegatMeetpaal.nc',\n",
    "    'NO_TS_MO_Hansweert.nc',\n",
    "    'NO_TS_MO_HansweertPunt2.nc',\n",
    "    'NO_TS_MO_Bath.nc',\n",
    "    'NO_TS_MO_OverloopVanValkenisse.nc',\n",
    "    'NO_TS_MO_PasVanTerneuzenBoei.nc',\n",
    "    'NO_TS_MO_Hoofdplaat.nc',\n",
    "    'NO_TS_MO_HoofdplaatMeetpaal2.nc',\n",
    "    'NO_TS_MO_HonteSloehaven.nc',\n",
    "    'NO_TS_MO_ZwinBuoy.nc',\n",
    "    'NO_TS_MO_ZeebruggeDam.nc',\n",
    "    'NO_TS_MO_ZeebruggePortBuoy.nc',\n",
    "    'NO_TS_MO_ZeebruggeWeatherStation.nc',\n",
    "    'NO_TS_MO_Blankenberge.nc',\n",
    "    'NO_TS_MO_OostendEasternPalisade.nc',\n",
    "    'NO_TS_MO_OostendBuoy.nc',\n",
    "    'NO_TS_MO_OostendWeather.nc',\n",
    "    'NO_TS_MO_Raversijde.nc',\n",
    "    'NO_TS_MO_NieuwpoortWind.nc',\n",
    "    'NO_TS_MO_Roscoff.nc',\n",
    "    'NO_TS_MO_Neustadt.nc',\n",
    "    'NO_TS_MO_Kuehlungsborn.nc',\n",
    "    'NO_TS_MO_BuoyHoernumTief1.nc',\n",
    "    'NO_TS_MO_BuoyBunkerHill1.nc',\n",
    "    'NO_TS_MO_HirtshalsWR.nc',\n",
    "    'NO_TS_MO_HanstholmWR.nc',\n",
    "    'NO_TS_MO_BuoyBunkerHill1.nc',\n",
    "    'NO_TS_MO_BuoyHoernumTief1.nc',\n",
    "    'NO_TS_MO_CadzandBoei.nc',\n",
    "    'NO_TS_MO_BolVanHeist.nc',\n",
    "    'NO_TS_MO_A2.nc',\n",
    "    'NO_TS_MO_NieuwpoortBuoy.nc',\n",
    "    'NO_TS_MO_6200303.nc',\n",
    "    'BO_TS_MO_Varberg.nc',\n",
    "    'BO_TS_MO_Svinbadan,nc',\n",
    "    'BO_TS_MO_GreatBeltBridgeEastCU.nc',\n",
    "]\n",
    "\n",
    "#Variables where the results is saved, automatically created in search_file\n",
    "result_df = None\n",
    "\n",
    "def search_file_fixed_params(file, result_df):\n",
    "    return search_file(file, data_dir, start_date, end_date, variables, max_time_diff_s, result_df)\n",
    "\n",
    "files = [f for f in os.listdir(data_dir) if any([f.startswith(fp) for fp in file_prefixes if f not in file_filter])]\n",
    "\n",
    "print(files)\n",
    "\n",
    "for file in tqdm(files):\n",
    "    result_df = search_file_fixed_params(file, result_df)\n",
    "\n",
    "#Conditionally creates the folder for the result\n",
    "os.makedirs(write_folder, exist_ok=True)\n",
    "\n",
    "with open(os.path.join(write_folder, result_df_fn),'wb') as f_w:\n",
    "    pickle.dump(result_df,f_w)\n"
   ]
  },
  {
   "cell_type": "code",
   "execution_count": 6,
   "id": "3afb8bd7",
   "metadata": {
    "collapsed": true
   },
   "outputs": [
    {
     "data": {
      "text/html": [
       "<div>\n",
       "<style scoped>\n",
       "    .dataframe tbody tr th:only-of-type {\n",
       "        vertical-align: middle;\n",
       "    }\n",
       "\n",
       "    .dataframe tbody tr th {\n",
       "        vertical-align: top;\n",
       "    }\n",
       "\n",
       "    .dataframe thead th {\n",
       "        text-align: right;\n",
       "    }\n",
       "</style>\n",
       "<table border=\"1\" class=\"dataframe\">\n",
       "  <thead>\n",
       "    <tr style=\"text-align: right;\">\n",
       "      <th></th>\n",
       "      <th>bouy_file_name</th>\n",
       "      <th>bouy_longitude</th>\n",
       "      <th>bouy_latitude</th>\n",
       "      <th>bouy_time</th>\n",
       "      <th>bouy_variable_name</th>\n",
       "      <th>bouy_variable_value</th>\n",
       "      <th>sar_url</th>\n",
       "      <th>sar_mode</th>\n",
       "      <th>sar_polarization</th>\n",
       "      <th>sar_platform</th>\n",
       "      <th>sar_start_time</th>\n",
       "      <th>sar_stop_time</th>\n",
       "      <th>sar_coordinates</th>\n",
       "    </tr>\n",
       "  </thead>\n",
       "  <tbody>\n",
       "    <tr>\n",
       "      <th>0</th>\n",
       "      <td>NO_TS_MO_OostendNorth.nc</td>\n",
       "      <td>2.883000</td>\n",
       "      <td>51.352001</td>\n",
       "      <td>2021-12-28 06:00:00</td>\n",
       "      <td>VHM0</td>\n",
       "      <td>0.61</td>\n",
       "      <td>https://datapool.asf.alaska.edu/GRD_HD/SA/S1A_...</td>\n",
       "      <td>IW</td>\n",
       "      <td>[VV, VH]</td>\n",
       "      <td>Sentinel-1A</td>\n",
       "      <td>2021-12-28 06:06:47</td>\n",
       "      <td>2021-12-28 06:07:12</td>\n",
       "      <td>[[3.499949, 51.225842], [4.00008, 52.718201], ...</td>\n",
       "    </tr>\n",
       "    <tr>\n",
       "      <th>1</th>\n",
       "      <td>NO_TS_MO_OostendNorth.nc</td>\n",
       "      <td>2.883000</td>\n",
       "      <td>51.352001</td>\n",
       "      <td>2021-12-26 17:30:00</td>\n",
       "      <td>VHM0</td>\n",
       "      <td>0.60</td>\n",
       "      <td>https://datapool.asf.alaska.edu/GRD_HD/SA/S1A_...</td>\n",
       "      <td>IW</td>\n",
       "      <td>[VV, VH]</td>\n",
       "      <td>Sentinel-1A</td>\n",
       "      <td>2021-12-26 17:33:26</td>\n",
       "      <td>2021-12-26 17:33:51</td>\n",
       "      <td>[[1.552611, 52.441559], [2.048772, 50.948856],...</td>\n",
       "    </tr>\n",
       "    <tr>\n",
       "      <th>2</th>\n",
       "      <td>NO_TS_MO_OostendNorth.nc</td>\n",
       "      <td>2.883000</td>\n",
       "      <td>51.352001</td>\n",
       "      <td>2021-12-23 06:00:00</td>\n",
       "      <td>VHM0</td>\n",
       "      <td>0.74</td>\n",
       "      <td>https://datapool.asf.alaska.edu/GRD_HD/SA/S1A_...</td>\n",
       "      <td>IW</td>\n",
       "      <td>[VV, VH]</td>\n",
       "      <td>Sentinel-1A</td>\n",
       "      <td>2021-12-23 05:58:37</td>\n",
       "      <td>2021-12-23 05:59:02</td>\n",
       "      <td>[[5.474199, 51.003326], [5.971075, 52.49585], ...</td>\n",
       "    </tr>\n",
       "    <tr>\n",
       "      <th>3</th>\n",
       "      <td>NO_TS_MO_OostendNorth.nc</td>\n",
       "      <td>2.883000</td>\n",
       "      <td>51.352001</td>\n",
       "      <td>2021-12-22 06:00:00</td>\n",
       "      <td>VHM0</td>\n",
       "      <td>0.34</td>\n",
       "      <td>https://datapool.asf.alaska.edu/GRD_HD/SB/S1B_...</td>\n",
       "      <td>IW</td>\n",
       "      <td>[VV, VH]</td>\n",
       "      <td>Sentinel-1B</td>\n",
       "      <td>2021-12-22 06:06:25</td>\n",
       "      <td>2021-12-22 06:06:50</td>\n",
       "      <td>[[3.138019, 50.070847], [3.624137, 51.564003],...</td>\n",
       "    </tr>\n",
       "    <tr>\n",
       "      <th>4</th>\n",
       "      <td>NO_TS_MO_OostendNorth.nc</td>\n",
       "      <td>2.883000</td>\n",
       "      <td>51.352001</td>\n",
       "      <td>2021-12-20 17:30:00</td>\n",
       "      <td>VHM0</td>\n",
       "      <td>0.72</td>\n",
       "      <td>https://datapool.asf.alaska.edu/GRD_HD/SB/S1B_...</td>\n",
       "      <td>IW</td>\n",
       "      <td>[VV, VH]</td>\n",
       "      <td>Sentinel-1B</td>\n",
       "      <td>2021-12-20 17:32:36</td>\n",
       "      <td>2021-12-20 17:33:01</td>\n",
       "      <td>[[1.748823, 51.907574], [2.237964, 50.414551],...</td>\n",
       "    </tr>\n",
       "    <tr>\n",
       "      <th>...</th>\n",
       "      <td>...</td>\n",
       "      <td>...</td>\n",
       "      <td>...</td>\n",
       "      <td>...</td>\n",
       "      <td>...</td>\n",
       "      <td>...</td>\n",
       "      <td>...</td>\n",
       "      <td>...</td>\n",
       "      <td>...</td>\n",
       "      <td>...</td>\n",
       "      <td>...</td>\n",
       "      <td>...</td>\n",
       "      <td>...</td>\n",
       "    </tr>\n",
       "    <tr>\n",
       "      <th>20742</th>\n",
       "      <td>NO_TS_MO_EurogeulE13.nc</td>\n",
       "      <td>3.736944</td>\n",
       "      <td>52.009998</td>\n",
       "      <td>2021-01-09 06:10:00</td>\n",
       "      <td>VAVH</td>\n",
       "      <td>0.88</td>\n",
       "      <td>https://datapool.asf.alaska.edu/GRD_HD/SA/S1A_...</td>\n",
       "      <td>IW</td>\n",
       "      <td>[VV, VH]</td>\n",
       "      <td>Sentinel-1A</td>\n",
       "      <td>2021-01-09 05:58:31</td>\n",
       "      <td>2021-01-09 05:58:56</td>\n",
       "      <td>[[5.474749, 51.003311], [5.97163, 52.495819], ...</td>\n",
       "    </tr>\n",
       "    <tr>\n",
       "      <th>20743</th>\n",
       "      <td>NO_TS_MO_EurogeulE13.nc</td>\n",
       "      <td>3.736944</td>\n",
       "      <td>52.009998</td>\n",
       "      <td>2021-01-08 06:10:00</td>\n",
       "      <td>VAVH</td>\n",
       "      <td>1.39</td>\n",
       "      <td>https://datapool.asf.alaska.edu/GRD_HD/SB/S1B_...</td>\n",
       "      <td>IW</td>\n",
       "      <td>[VV, VH]</td>\n",
       "      <td>Sentinel-1B</td>\n",
       "      <td>2021-01-08 06:05:54</td>\n",
       "      <td>2021-01-08 06:06:19</td>\n",
       "      <td>[[3.625535, 51.564022], [4.13135, 53.056099], ...</td>\n",
       "    </tr>\n",
       "    <tr>\n",
       "      <th>20744</th>\n",
       "      <td>NO_TS_MO_EurogeulE13.nc</td>\n",
       "      <td>3.736944</td>\n",
       "      <td>52.009998</td>\n",
       "      <td>2021-01-06 17:30:00</td>\n",
       "      <td>VAVH</td>\n",
       "      <td>0.97</td>\n",
       "      <td>https://datapool.asf.alaska.edu/GRD_HD/SB/S1B_...</td>\n",
       "      <td>IW</td>\n",
       "      <td>[VV, VH]</td>\n",
       "      <td>Sentinel-1B</td>\n",
       "      <td>2021-01-06 17:32:29</td>\n",
       "      <td>2021-01-06 17:32:54</td>\n",
       "      <td>[[1.747713, 51.907463], [2.236964, 50.414387],...</td>\n",
       "    </tr>\n",
       "    <tr>\n",
       "      <th>20745</th>\n",
       "      <td>NO_TS_MO_EurogeulE13.nc</td>\n",
       "      <td>3.736944</td>\n",
       "      <td>52.009998</td>\n",
       "      <td>2021-01-03 06:00:00</td>\n",
       "      <td>VAVH</td>\n",
       "      <td>0.74</td>\n",
       "      <td>https://datapool.asf.alaska.edu/GRD_HD/SB/S1B_...</td>\n",
       "      <td>IW</td>\n",
       "      <td>[VV, VH]</td>\n",
       "      <td>Sentinel-1B</td>\n",
       "      <td>2021-01-03 05:58:01</td>\n",
       "      <td>2021-01-03 05:58:26</td>\n",
       "      <td>[[5.282145, 50.341362], [5.773809, 51.834118],...</td>\n",
       "    </tr>\n",
       "    <tr>\n",
       "      <th>20746</th>\n",
       "      <td>NO_TS_MO_EurogeulE13.nc</td>\n",
       "      <td>3.736944</td>\n",
       "      <td>52.009998</td>\n",
       "      <td>2021-01-02 06:10:00</td>\n",
       "      <td>VAVH</td>\n",
       "      <td>0.80</td>\n",
       "      <td>https://datapool.asf.alaska.edu/GRD_HD/SA/S1A_...</td>\n",
       "      <td>IW</td>\n",
       "      <td>[VV, VH]</td>\n",
       "      <td>Sentinel-1A</td>\n",
       "      <td>2021-01-02 06:06:41</td>\n",
       "      <td>2021-01-02 06:07:06</td>\n",
       "      <td>[[3.497958, 51.225922], [3.998028, 52.718288],...</td>\n",
       "    </tr>\n",
       "  </tbody>\n",
       "</table>\n",
       "<p>20747 rows × 13 columns</p>\n",
       "</div>"
      ],
      "text/plain": [
       "                 bouy_file_name  bouy_longitude  bouy_latitude  \\\n",
       "0      NO_TS_MO_OostendNorth.nc        2.883000      51.352001   \n",
       "1      NO_TS_MO_OostendNorth.nc        2.883000      51.352001   \n",
       "2      NO_TS_MO_OostendNorth.nc        2.883000      51.352001   \n",
       "3      NO_TS_MO_OostendNorth.nc        2.883000      51.352001   \n",
       "4      NO_TS_MO_OostendNorth.nc        2.883000      51.352001   \n",
       "...                         ...             ...            ...   \n",
       "20742   NO_TS_MO_EurogeulE13.nc        3.736944      52.009998   \n",
       "20743   NO_TS_MO_EurogeulE13.nc        3.736944      52.009998   \n",
       "20744   NO_TS_MO_EurogeulE13.nc        3.736944      52.009998   \n",
       "20745   NO_TS_MO_EurogeulE13.nc        3.736944      52.009998   \n",
       "20746   NO_TS_MO_EurogeulE13.nc        3.736944      52.009998   \n",
       "\n",
       "                bouy_time bouy_variable_name  bouy_variable_value  \\\n",
       "0     2021-12-28 06:00:00               VHM0                 0.61   \n",
       "1     2021-12-26 17:30:00               VHM0                 0.60   \n",
       "2     2021-12-23 06:00:00               VHM0                 0.74   \n",
       "3     2021-12-22 06:00:00               VHM0                 0.34   \n",
       "4     2021-12-20 17:30:00               VHM0                 0.72   \n",
       "...                   ...                ...                  ...   \n",
       "20742 2021-01-09 06:10:00               VAVH                 0.88   \n",
       "20743 2021-01-08 06:10:00               VAVH                 1.39   \n",
       "20744 2021-01-06 17:30:00               VAVH                 0.97   \n",
       "20745 2021-01-03 06:00:00               VAVH                 0.74   \n",
       "20746 2021-01-02 06:10:00               VAVH                 0.80   \n",
       "\n",
       "                                                 sar_url sar_mode  \\\n",
       "0      https://datapool.asf.alaska.edu/GRD_HD/SA/S1A_...       IW   \n",
       "1      https://datapool.asf.alaska.edu/GRD_HD/SA/S1A_...       IW   \n",
       "2      https://datapool.asf.alaska.edu/GRD_HD/SA/S1A_...       IW   \n",
       "3      https://datapool.asf.alaska.edu/GRD_HD/SB/S1B_...       IW   \n",
       "4      https://datapool.asf.alaska.edu/GRD_HD/SB/S1B_...       IW   \n",
       "...                                                  ...      ...   \n",
       "20742  https://datapool.asf.alaska.edu/GRD_HD/SA/S1A_...       IW   \n",
       "20743  https://datapool.asf.alaska.edu/GRD_HD/SB/S1B_...       IW   \n",
       "20744  https://datapool.asf.alaska.edu/GRD_HD/SB/S1B_...       IW   \n",
       "20745  https://datapool.asf.alaska.edu/GRD_HD/SB/S1B_...       IW   \n",
       "20746  https://datapool.asf.alaska.edu/GRD_HD/SA/S1A_...       IW   \n",
       "\n",
       "      sar_polarization sar_platform      sar_start_time       sar_stop_time  \\\n",
       "0             [VV, VH]  Sentinel-1A 2021-12-28 06:06:47 2021-12-28 06:07:12   \n",
       "1             [VV, VH]  Sentinel-1A 2021-12-26 17:33:26 2021-12-26 17:33:51   \n",
       "2             [VV, VH]  Sentinel-1A 2021-12-23 05:58:37 2021-12-23 05:59:02   \n",
       "3             [VV, VH]  Sentinel-1B 2021-12-22 06:06:25 2021-12-22 06:06:50   \n",
       "4             [VV, VH]  Sentinel-1B 2021-12-20 17:32:36 2021-12-20 17:33:01   \n",
       "...                ...          ...                 ...                 ...   \n",
       "20742         [VV, VH]  Sentinel-1A 2021-01-09 05:58:31 2021-01-09 05:58:56   \n",
       "20743         [VV, VH]  Sentinel-1B 2021-01-08 06:05:54 2021-01-08 06:06:19   \n",
       "20744         [VV, VH]  Sentinel-1B 2021-01-06 17:32:29 2021-01-06 17:32:54   \n",
       "20745         [VV, VH]  Sentinel-1B 2021-01-03 05:58:01 2021-01-03 05:58:26   \n",
       "20746         [VV, VH]  Sentinel-1A 2021-01-02 06:06:41 2021-01-02 06:07:06   \n",
       "\n",
       "                                         sar_coordinates  \n",
       "0      [[3.499949, 51.225842], [4.00008, 52.718201], ...  \n",
       "1      [[1.552611, 52.441559], [2.048772, 50.948856],...  \n",
       "2      [[5.474199, 51.003326], [5.971075, 52.49585], ...  \n",
       "3      [[3.138019, 50.070847], [3.624137, 51.564003],...  \n",
       "4      [[1.748823, 51.907574], [2.237964, 50.414551],...  \n",
       "...                                                  ...  \n",
       "20742  [[5.474749, 51.003311], [5.97163, 52.495819], ...  \n",
       "20743  [[3.625535, 51.564022], [4.13135, 53.056099], ...  \n",
       "20744  [[1.747713, 51.907463], [2.236964, 50.414387],...  \n",
       "20745  [[5.282145, 50.341362], [5.773809, 51.834118],...  \n",
       "20746  [[3.497958, 51.225922], [3.998028, 52.718288],...  \n",
       "\n",
       "[20747 rows x 13 columns]"
      ]
     },
     "execution_count": 6,
     "metadata": {},
     "output_type": "execute_result"
    }
   ],
   "source": [
    "result_df"
   ]
  },
  {
   "cell_type": "code",
   "execution_count": 9,
   "id": "34afc4fa",
   "metadata": {
    "collapsed": true
   },
   "outputs": [],
   "source": [
    "#Save KML pin maps, one for each variable\n",
    "\n",
    "#Total number of datapoints per variable type\n",
    "var_total = result_df['bouy_variable_name'].value_counts()\n",
    " \n",
    "#pandas series for count of unique variable name, file name pairs\n",
    "var_file_count = list(result_df.value_counts(subset=['bouy_variable_name', 'bouy_file_name']).items())\n",
    "\n",
    "#dataframe for coordinates of unique variable name, file name pairs\n",
    "var_file_coord = (result_df.groupby(['bouy_variable_name', 'bouy_file_name'])[['bouy_longitude', 'bouy_latitude']].first())\n",
    "\n",
    "\n",
    "#Create separate kml maps for each variable name\n",
    "KML_fldrs = {}\n",
    "for var_name in np.unique(result_df['bouy_variable_name']):\n",
    "    KML_fldrs[var_name] = KML.Folder(\n",
    "        KML.name(var_name + \" \" + write_folder[write_folder.find('/')+1:]),\n",
    "        KML.description('Total datapoints: ' + str(var_total[var_name])),\n",
    "    )\n",
    "\n",
    "#iterate over all unique variable name, file name pairs\n",
    "for ((var_name, file_name), count) in var_file_count:\n",
    "    #extract longitude and latitude\n",
    "    long, lat = var_file_coord.loc[(var_name, file_name)][['bouy_longitude', 'bouy_latitude']]\n",
    "    \n",
    "    #Create the pin\n",
    "    pin = KML.Placemark(\n",
    "        KML.name(str(count)),\n",
    "        KML.description(file_name),\n",
    "        KML.Point(\n",
    "            KML.coordinates(str(long) + \",\" + str(lat))\n",
    "        )\n",
    "    )\n",
    "    KML_fldrs[var_name].append(pin)\n",
    "    \n",
    "for var_name, KML_fld in KML_fldrs.items():\n",
    "    with open(os.path.join(write_folder, kml_pinmap_fn + '_' + var_name + '.kml'), 'w') as f_w:\n",
    "        f_w.write(lxml.etree.tostring(KML_fld, pretty_print=True).decode())"
   ]
  },
  {
   "cell_type": "code",
   "execution_count": 20,
   "id": "5c2eb241",
   "metadata": {},
   "outputs": [],
   "source": [
    "#Save KML pin map if we have all the variables ['VHM0', 'VAVH', 'WSPD']\n",
    "if all([v in variables for v in ['VHM0', 'VAVH', 'WSPD']]):\n",
    "    #Number of  overlaps\n",
    "    mult_var = result_df.groupby(['sar_url', 'bouy_file_name', 'bouy_longitude', 'bouy_latitude'])[['bouy_variable_name']].aggregate(lambda tdf: tdf.unique().tolist())\n",
    "    mult_var['len'] = mult_var['bouy_variable_name'].apply(len)\n",
    "    mult_var['contains_wind'] = mult_var['bouy_variable_name'].apply(lambda x: 'WSPD' in x)\n",
    "    mult_var['also_VAVH'] = mult_var['bouy_variable_name'].apply(lambda x: 'VAVH' in x)\n",
    "    mult_var['also_VHM0'] = mult_var['bouy_variable_name'].apply(lambda x: 'VHM0' in x)\n",
    "    mult_var = mult_var[(mult_var['len'] > 1) & mult_var['contains_wind']].drop(labels='contains_wind', axis=1)\n",
    "\n",
    "    wind_and_VAVH = mult_var[mult_var['also_VAVH']].drop(labels=['also_VAVH', 'also_VHM0'], axis=1).groupby(['bouy_file_name', 'bouy_longitude', 'bouy_latitude'])['len'].count()\n",
    "    wind_and_VHM0 = mult_var[mult_var['also_VHM0']].drop(labels=['also_VAVH', 'also_VHM0'], axis=1).groupby(['bouy_file_name', 'bouy_longitude', 'bouy_latitude'])['len'].count()\n",
    "\n",
    "    #Save overlapping wind and wave info to KML maps\n",
    "    for kml_pinmap_fn, data_var in [('WSPD_and_VHM0', wind_and_VHM0), ('WSPD_and_VAVH', wind_and_VAVH)]:\n",
    "        KML_fldr = KML.Folder(\n",
    "            KML.name(kml_pinmap_fn + \" \" + write_folder[write_folder.find('/')+1:]),\n",
    "            KML.description('Total datapoints: ' + str(data_var.sum())),\n",
    "        )\n",
    "\n",
    "        #iterate over all unique variable name, file name pairs\n",
    "        for ((file_name, long, lat), count) in data_var.items():\n",
    "            #Create the pin\n",
    "            pin = KML.Placemark(\n",
    "                KML.name(str(count)),\n",
    "                KML.description(file_name),\n",
    "                KML.Point(\n",
    "                    KML.coordinates(str(long) + \",\" + str(lat))\n",
    "                )\n",
    "            )\n",
    "            KML_fldr.append(pin)\n",
    "\n",
    "        with open(os.path.join(write_folder, kml_pinmap_fn + '_' + var_name + '.kml'), 'w') as f_w:\n",
    "            f_w.write(lxml.etree.tostring(KML_fldr, pretty_print=True).decode())"
   ]
  }
 ],
 "metadata": {
  "kernelspec": {
   "display_name": "Python 3.7.5 64-bit",
   "language": "python",
   "name": "python3"
  },
  "language_info": {
   "codemirror_mode": {
    "name": "ipython",
    "version": 3
   },
   "file_extension": ".py",
   "mimetype": "text/x-python",
   "name": "python",
   "nbconvert_exporter": "python",
   "pygments_lexer": "ipython3",
   "version": "3.7.5"
  },
  "vscode": {
   "interpreter": {
    "hash": "fd69f43f58546b570e94fd7eba7b65e6bcc7a5bbc4eab0408017d18902915d69"
   }
  }
 },
 "nbformat": 4,
 "nbformat_minor": 5
}
