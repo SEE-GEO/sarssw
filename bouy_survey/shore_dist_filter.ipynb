{
 "cells": [
  {
   "cell_type": "markdown",
   "metadata": {},
   "source": [
    "This file is used to develop a filter for bouys in regards to minimum distance to shore\n",
    "\n",
    "This method uses shapelys buffer function and euqlidian distance functions and is only a rough approximation.\n",
    "\n",
    "A better method would be to use geodesic or great-circle distance."
   ]
  },
  {
   "cell_type": "code",
   "execution_count": 10,
   "metadata": {},
   "outputs": [],
   "source": [
    "import cartopy\n",
    "import shapely\n",
    "from shapely.geometry import MultiPolygon, Polygon, Point\n",
    "import geopy\n",
    "import numpy as np\n",
    "import os\n",
    "import pickle\n",
    "from pykml.factory import KML_ElementMaker as KML\n",
    "import lxml"
   ]
  },
  {
   "cell_type": "code",
   "execution_count": 11,
   "metadata": {},
   "outputs": [],
   "source": [
    "land_list = list(cartopy.feature.NaturalEarthFeature('physical', 'land', '50m').geometries())\n",
    "polygon_list = []\n",
    "\n",
    "for p  in land_list:\n",
    "    if type(p) == MultiPolygon:\n",
    "        polygon_list.extend(p.geoms)\n",
    "\n",
    "    else:\n",
    "        polygon_list.append(p)\n",
    "\n",
    "land_multipolygon = MultiPolygon([p.buffer(0.01) for p in polygon_list])\n"
   ]
  },
  {
   "cell_type": "code",
   "execution_count": 12,
   "metadata": {},
   "outputs": [],
   "source": [
    "#directory and filename where the pinmap filtering program saved its result\n",
    "read_folder = './all_data_KML'\n",
    "var_fn = 'result'\n",
    "\n",
    "#Load datadir and dataframe\n",
    "with open(os.path.join(read_folder, var_fn),'rb') as f_r:\n",
    "    data_dir, df_files = pickle.load(f_r)"
   ]
  },
  {
   "cell_type": "code",
   "execution_count": 13,
   "metadata": {},
   "outputs": [
    {
     "ename": "GEOSException",
     "evalue": "TopologyException: side location conflict at -73.865824551427664 45.57942689305461. This can occur if the input geometry is invalid.",
     "output_type": "error",
     "traceback": [
      "\u001b[0;31m---------------------------------------------------------------------------\u001b[0m",
      "\u001b[0;31mGEOSException\u001b[0m                             Traceback (most recent call last)",
      "Cell \u001b[0;32mIn[13], line 1\u001b[0m\n\u001b[0;32m----> 1\u001b[0m remove_index \u001b[39m=\u001b[39m df_files\u001b[39m.\u001b[39;49mapply(\u001b[39mlambda\u001b[39;49;00m x: land_multipolygon\u001b[39m.\u001b[39;49mcontains(Point(x[\u001b[39m'\u001b[39;49m\u001b[39mLONG\u001b[39;49m\u001b[39m'\u001b[39;49m],x[\u001b[39m'\u001b[39;49m\u001b[39mLAT\u001b[39;49m\u001b[39m'\u001b[39;49m])), axis\u001b[39m=\u001b[39;49m\u001b[39m1\u001b[39;49m)\n",
      "File \u001b[0;32m~/miniconda3/envs/master/lib/python3.10/site-packages/pandas/core/frame.py:9565\u001b[0m, in \u001b[0;36mDataFrame.apply\u001b[0;34m(self, func, axis, raw, result_type, args, **kwargs)\u001b[0m\n\u001b[1;32m   9554\u001b[0m \u001b[39mfrom\u001b[39;00m \u001b[39mpandas\u001b[39;00m\u001b[39m.\u001b[39;00m\u001b[39mcore\u001b[39;00m\u001b[39m.\u001b[39;00m\u001b[39mapply\u001b[39;00m \u001b[39mimport\u001b[39;00m frame_apply\n\u001b[1;32m   9556\u001b[0m op \u001b[39m=\u001b[39m frame_apply(\n\u001b[1;32m   9557\u001b[0m     \u001b[39mself\u001b[39m,\n\u001b[1;32m   9558\u001b[0m     func\u001b[39m=\u001b[39mfunc,\n\u001b[0;32m   (...)\u001b[0m\n\u001b[1;32m   9563\u001b[0m     kwargs\u001b[39m=\u001b[39mkwargs,\n\u001b[1;32m   9564\u001b[0m )\n\u001b[0;32m-> 9565\u001b[0m \u001b[39mreturn\u001b[39;00m op\u001b[39m.\u001b[39;49mapply()\u001b[39m.\u001b[39m__finalize__(\u001b[39mself\u001b[39m, method\u001b[39m=\u001b[39m\u001b[39m\"\u001b[39m\u001b[39mapply\u001b[39m\u001b[39m\"\u001b[39m)\n",
      "File \u001b[0;32m~/miniconda3/envs/master/lib/python3.10/site-packages/pandas/core/apply.py:746\u001b[0m, in \u001b[0;36mFrameApply.apply\u001b[0;34m(self)\u001b[0m\n\u001b[1;32m    743\u001b[0m \u001b[39melif\u001b[39;00m \u001b[39mself\u001b[39m\u001b[39m.\u001b[39mraw:\n\u001b[1;32m    744\u001b[0m     \u001b[39mreturn\u001b[39;00m \u001b[39mself\u001b[39m\u001b[39m.\u001b[39mapply_raw()\n\u001b[0;32m--> 746\u001b[0m \u001b[39mreturn\u001b[39;00m \u001b[39mself\u001b[39;49m\u001b[39m.\u001b[39;49mapply_standard()\n",
      "File \u001b[0;32m~/miniconda3/envs/master/lib/python3.10/site-packages/pandas/core/apply.py:873\u001b[0m, in \u001b[0;36mFrameApply.apply_standard\u001b[0;34m(self)\u001b[0m\n\u001b[1;32m    872\u001b[0m \u001b[39mdef\u001b[39;00m \u001b[39mapply_standard\u001b[39m(\u001b[39mself\u001b[39m):\n\u001b[0;32m--> 873\u001b[0m     results, res_index \u001b[39m=\u001b[39m \u001b[39mself\u001b[39;49m\u001b[39m.\u001b[39;49mapply_series_generator()\n\u001b[1;32m    875\u001b[0m     \u001b[39m# wrap results\u001b[39;00m\n\u001b[1;32m    876\u001b[0m     \u001b[39mreturn\u001b[39;00m \u001b[39mself\u001b[39m\u001b[39m.\u001b[39mwrap_results(results, res_index)\n",
      "File \u001b[0;32m~/miniconda3/envs/master/lib/python3.10/site-packages/pandas/core/apply.py:889\u001b[0m, in \u001b[0;36mFrameApply.apply_series_generator\u001b[0;34m(self)\u001b[0m\n\u001b[1;32m    886\u001b[0m \u001b[39mwith\u001b[39;00m option_context(\u001b[39m\"\u001b[39m\u001b[39mmode.chained_assignment\u001b[39m\u001b[39m\"\u001b[39m, \u001b[39mNone\u001b[39;00m):\n\u001b[1;32m    887\u001b[0m     \u001b[39mfor\u001b[39;00m i, v \u001b[39min\u001b[39;00m \u001b[39menumerate\u001b[39m(series_gen):\n\u001b[1;32m    888\u001b[0m         \u001b[39m# ignore SettingWithCopy here in case the user mutates\u001b[39;00m\n\u001b[0;32m--> 889\u001b[0m         results[i] \u001b[39m=\u001b[39m \u001b[39mself\u001b[39;49m\u001b[39m.\u001b[39;49mf(v)\n\u001b[1;32m    890\u001b[0m         \u001b[39mif\u001b[39;00m \u001b[39misinstance\u001b[39m(results[i], ABCSeries):\n\u001b[1;32m    891\u001b[0m             \u001b[39m# If we have a view on v, we need to make a copy because\u001b[39;00m\n\u001b[1;32m    892\u001b[0m             \u001b[39m#  series_generator will swap out the underlying data\u001b[39;00m\n\u001b[1;32m    893\u001b[0m             results[i] \u001b[39m=\u001b[39m results[i]\u001b[39m.\u001b[39mcopy(deep\u001b[39m=\u001b[39m\u001b[39mFalse\u001b[39;00m)\n",
      "Cell \u001b[0;32mIn[13], line 1\u001b[0m, in \u001b[0;36m<lambda>\u001b[0;34m(x)\u001b[0m\n\u001b[0;32m----> 1\u001b[0m remove_index \u001b[39m=\u001b[39m df_files\u001b[39m.\u001b[39mapply(\u001b[39mlambda\u001b[39;00m x: land_multipolygon\u001b[39m.\u001b[39;49mcontains(Point(x[\u001b[39m'\u001b[39;49m\u001b[39mLONG\u001b[39;49m\u001b[39m'\u001b[39;49m],x[\u001b[39m'\u001b[39;49m\u001b[39mLAT\u001b[39;49m\u001b[39m'\u001b[39;49m])), axis\u001b[39m=\u001b[39m\u001b[39m1\u001b[39m)\n",
      "File \u001b[0;32m~/miniconda3/envs/master/lib/python3.10/site-packages/shapely/geometry/base.py:658\u001b[0m, in \u001b[0;36mBaseGeometry.contains\u001b[0;34m(self, other)\u001b[0m\n\u001b[1;32m    656\u001b[0m \u001b[39mdef\u001b[39;00m \u001b[39mcontains\u001b[39m(\u001b[39mself\u001b[39m, other):\n\u001b[1;32m    657\u001b[0m     \u001b[39m\"\"\"Returns True if the geometry contains the other, else False\"\"\"\u001b[39;00m\n\u001b[0;32m--> 658\u001b[0m     \u001b[39mreturn\u001b[39;00m _maybe_unpack(shapely\u001b[39m.\u001b[39;49mcontains(\u001b[39mself\u001b[39;49m, other))\n",
      "File \u001b[0;32m~/miniconda3/envs/master/lib/python3.10/site-packages/shapely/decorators.py:77\u001b[0m, in \u001b[0;36mmultithreading_enabled.<locals>.wrapped\u001b[0;34m(*args, **kwargs)\u001b[0m\n\u001b[1;32m     75\u001b[0m     \u001b[39mfor\u001b[39;00m arr \u001b[39min\u001b[39;00m array_args:\n\u001b[1;32m     76\u001b[0m         arr\u001b[39m.\u001b[39mflags\u001b[39m.\u001b[39mwriteable \u001b[39m=\u001b[39m \u001b[39mFalse\u001b[39;00m\n\u001b[0;32m---> 77\u001b[0m     \u001b[39mreturn\u001b[39;00m func(\u001b[39m*\u001b[39;49margs, \u001b[39m*\u001b[39;49m\u001b[39m*\u001b[39;49mkwargs)\n\u001b[1;32m     78\u001b[0m \u001b[39mfinally\u001b[39;00m:\n\u001b[1;32m     79\u001b[0m     \u001b[39mfor\u001b[39;00m arr, old_flag \u001b[39min\u001b[39;00m \u001b[39mzip\u001b[39m(array_args, old_flags):\n",
      "File \u001b[0;32m~/miniconda3/envs/master/lib/python3.10/site-packages/shapely/predicates.py:540\u001b[0m, in \u001b[0;36mcontains\u001b[0;34m(a, b, **kwargs)\u001b[0m\n\u001b[1;32m    485\u001b[0m \u001b[39m@multithreading_enabled\u001b[39m\n\u001b[1;32m    486\u001b[0m \u001b[39mdef\u001b[39;00m \u001b[39mcontains\u001b[39m(a, b, \u001b[39m*\u001b[39m\u001b[39m*\u001b[39mkwargs):\n\u001b[1;32m    487\u001b[0m     \u001b[39m\"\"\"Returns True if geometry B is completely inside geometry A.\u001b[39;00m\n\u001b[1;32m    488\u001b[0m \n\u001b[1;32m    489\u001b[0m \u001b[39m    A contains B if no points of B lie in the exterior of A and at least one\u001b[39;00m\n\u001b[0;32m   (...)\u001b[0m\n\u001b[1;32m    538\u001b[0m \u001b[39m    False\u001b[39;00m\n\u001b[1;32m    539\u001b[0m \u001b[39m    \"\"\"\u001b[39;00m\n\u001b[0;32m--> 540\u001b[0m     \u001b[39mreturn\u001b[39;00m lib\u001b[39m.\u001b[39;49mcontains(a, b, \u001b[39m*\u001b[39;49m\u001b[39m*\u001b[39;49mkwargs)\n",
      "\u001b[0;31mGEOSException\u001b[0m: TopologyException: side location conflict at -73.865824551427664 45.57942689305461. This can occur if the input geometry is invalid."
     ]
    }
   ],
   "source": [
    "remove_index = df_files.apply(lambda x: land_multipolygon.contains(Point(x['LONG'],x['LAT'])), axis=1)"
   ]
  },
  {
   "cell_type": "code",
   "execution_count": null,
   "metadata": {},
   "outputs": [],
   "source": [
    "df_files_keep = df_files[~remove_index]\n",
    "df_files_removed = df_files[remove_index]"
   ]
  },
  {
   "cell_type": "code",
   "execution_count": null,
   "metadata": {},
   "outputs": [],
   "source": [
    "write_folder = './all_data_filtered_KML'\n",
    "save_var_fn = 'result' #to save data_dir, df_files tuple\n",
    "kml_pinmap_fn = 'kml_pinmap'"
   ]
  },
  {
   "cell_type": "code",
   "execution_count": null,
   "metadata": {},
   "outputs": [],
   "source": [
    "#Conditionally creates the folder for the result\n",
    "os.makedirs(write_folder, exist_ok=True)\n",
    "\n",
    "#Save datadir and resulting dataframe\n",
    "with open(os.path.join(write_folder, save_var_fn),'wb') as f_w:\n",
    "    pickle.dump((data_dir, df_files_keep, df_files_removed), f_w)\n",
    "\n",
    "for df_files, name in [(df_files_keep, 'kept'),(df_files_removed, 'removed')]:\n",
    "    #Create kml map\n",
    "    KML_fldr = KML.Folder(\n",
    "        KML.name('All bouys ' + name),\n",
    "        KML.description(\"Filtered by distance to shore\"),\n",
    "    )\n",
    "\n",
    "    #iterate over all unique variable name, file name pairs\n",
    "    for index,row in df_files.iterrows():\n",
    "        #extract longitude and latitude\n",
    "        long = row['LONG']\n",
    "        lat = row['LAT']\n",
    "        \n",
    "        #Create the pin\n",
    "        pin = KML.Placemark(\n",
    "            KML.name(row['LEN']),\n",
    "            KML.description(row['file'] + '\\n' + str(row['LEN']) + \" datapoints\"),\n",
    "            KML.Point(\n",
    "                KML.coordinates(str(long) + \",\" + str(lat))\n",
    "            )\n",
    "        )\n",
    "        KML_fldr.append(pin)\n",
    "        \n",
    "    with open(os.path.join(write_folder, kml_pinmap_fn + '_' + name + '.kml'), 'w') as f_w:\n",
    "        f_w.write(lxml.etree.tostring(KML_fldr, pretty_print=True).decode())"
   ]
  }
 ],
 "metadata": {
  "kernelspec": {
   "display_name": "Python 3 (ipykernel)",
   "language": "python",
   "name": "python3"
  },
  "language_info": {
   "codemirror_mode": {
    "name": "ipython",
    "version": 3
   },
   "file_extension": ".py",
   "mimetype": "text/x-python",
   "name": "python",
   "nbconvert_exporter": "python",
   "pygments_lexer": "ipython3",
   "version": "3.10.9"
  },
  "orig_nbformat": 4,
  "vscode": {
   "interpreter": {
    "hash": "40bfc0d3c9c7ef61b829322f934671b287025ad156098ea4a38fed0ccd45344b"
   }
  }
 },
 "nbformat": 4,
 "nbformat_minor": 2
}
