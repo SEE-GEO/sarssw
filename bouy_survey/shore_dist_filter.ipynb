{
 "cells": [
  {
   "cell_type": "markdown",
   "metadata": {},
   "source": [
    "This file is used to develop a filter for bouys in regards to minimum distance to shore\n",
    "\n",
    "This method uses shapelys buffer function and euqlidian distance functions and is only a rough approximation.\n",
    "\n",
    "A better method would be to use geodesic or great-circle distance."
   ]
  },
  {
   "cell_type": "code",
   "execution_count": 6,
   "metadata": {},
   "outputs": [],
   "source": [
    "import cartopy\n",
    "import shapely\n",
    "from shapely.geometry import MultiPolygon, Polygon, Point\n",
    "import geopy\n",
    "import numpy as np\n",
    "import os\n",
    "import pickle\n",
    "from pykml.factory import KML_ElementMaker as KML\n",
    "import lxml"
   ]
  },
  {
   "cell_type": "code",
   "execution_count": 7,
   "metadata": {},
   "outputs": [],
   "source": [
    "land_list = list(cartopy.feature.NaturalEarthFeature('physical', 'land', '50m').geometries())\n",
    "polygon_list = []\n",
    "\n",
    "for p  in land_list:\n",
    "    if type(p) == MultiPolygon:\n",
    "        polygon_list.extend(p.geoms)\n",
    "\n",
    "    else:\n",
    "        polygon_list.append(p)\n",
    "\n",
    "land_multipolygon = MultiPolygon([p.buffer(0.01) for p in polygon_list])\n"
   ]
  },
  {
   "cell_type": "code",
   "execution_count": 8,
   "metadata": {},
   "outputs": [],
   "source": [
    "#directory and filename where the pinmap filtering program saved its result\n",
    "read_folder = './all_data_KML'\n",
    "var_fn = 'result'\n",
    "\n",
    "#Load datadir and dataframe\n",
    "with open(os.path.join(read_folder, var_fn),'rb') as f_r:\n",
    "    data_dir, df_files = pickle.load(f_r)"
   ]
  },
  {
   "cell_type": "code",
   "execution_count": 9,
   "metadata": {},
   "outputs": [],
   "source": [
    "remove_index = df_files.apply(lambda row: Point([row['LONG'], row['LAT']]).distance(land_multipolygon), axis=1) <= 0.00001"
   ]
  },
  {
   "cell_type": "code",
   "execution_count": 10,
   "metadata": {},
   "outputs": [],
   "source": [
    "df_files_keep = df_files[~remove_index]\n",
    "df_files_removed = df_files[remove_index]"
   ]
  },
  {
   "cell_type": "code",
   "execution_count": 11,
   "metadata": {},
   "outputs": [],
   "source": [
    "write_folder = './all_data_filtered_KML'\n",
    "save_var_fn = 'result' #to save data_dir, df_files tuple\n",
    "kml_pinmap_fn = 'kml_pinmap'"
   ]
  },
  {
   "cell_type": "code",
   "execution_count": 12,
   "metadata": {},
   "outputs": [],
   "source": [
    "#Conditionally creates the folder for the result\n",
    "os.makedirs(write_folder, exist_ok=True)\n",
    "\n",
    "#Save datadir and resulting dataframe\n",
    "with open(os.path.join(write_folder, save_var_fn),'wb') as f_w:\n",
    "    pickle.dump((data_dir, df_files_keep, df_files_removed), f_w)\n",
    "\n",
    "for df_files, name in [(df_files_keep, 'kept'),(df_files_removed, 'removed')]:\n",
    "    #Create kml map\n",
    "    KML_fldr = KML.Folder(\n",
    "        KML.name('All bouys ' + name),\n",
    "        KML.description(\"Filtered by distance to shore\"),\n",
    "    )\n",
    "\n",
    "    #iterate over all unique variable name, file name pairs\n",
    "    for index,row in df_files.iterrows():\n",
    "        #extract longitude and latitude\n",
    "        long = row['LONG']\n",
    "        lat = row['LAT']\n",
    "        \n",
    "        #Create the pin\n",
    "        pin = KML.Placemark(\n",
    "            KML.name(row['LEN']),\n",
    "            KML.description(row['file'] + '\\n' + str(row['LEN']) + \" datapoints\"),\n",
    "            KML.Point(\n",
    "                KML.coordinates(str(long) + \",\" + str(lat))\n",
    "            )\n",
    "        )\n",
    "        KML_fldr.append(pin)\n",
    "        \n",
    "    with open(os.path.join(write_folder, kml_pinmap_fn + '_' + name + '.kml'), 'w') as f_w:\n",
    "        f_w.write(lxml.etree.tostring(KML_fldr, pretty_print=True).decode())"
   ]
  }
 ],
 "metadata": {
  "kernelspec": {
   "display_name": "Python 3 (ipykernel)",
   "language": "python",
   "name": "python3"
  },
  "language_info": {
   "codemirror_mode": {
    "name": "ipython",
    "version": 3
   },
   "file_extension": ".py",
   "mimetype": "text/x-python",
   "name": "python",
   "nbconvert_exporter": "python",
   "pygments_lexer": "ipython3",
   "version": "3.10.9"
  },
  "orig_nbformat": 4,
  "vscode": {
   "interpreter": {
    "hash": "40bfc0d3c9c7ef61b829322f934671b287025ad156098ea4a38fed0ccd45344b"
   }
  }
 },
 "nbformat": 4,
 "nbformat_minor": 2
}
