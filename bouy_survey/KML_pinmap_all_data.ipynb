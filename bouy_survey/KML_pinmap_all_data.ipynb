{
 "cells": [
  {
   "cell_type": "markdown",
   "id": "3b0f4f5c",
   "metadata": {},
   "source": [
    "This file plots all the datapoints for a specific folder of data on a KML pinmap only including files with relevant data\n",
    "that is, filtered in time and variable names"
   ]
  },
  {
   "cell_type": "code",
   "execution_count": 88,
   "id": "019dd1c0",
   "metadata": {},
   "outputs": [],
   "source": [
    "import numpy as np\n",
    "import pandas as pd\n",
    "import xarray as xr\n",
    "import os\n",
    "import datetime\n",
    "import pickle\n",
    "from tqdm import tqdm\n",
    "import lxml\n",
    "from pykml.factory import KML_ElementMaker as KML\n",
    "from functools import reduce\n",
    "import operator"
   ]
  },
  {
   "cell_type": "code",
   "execution_count": 89,
   "id": "505e1a13",
   "metadata": {},
   "outputs": [],
   "source": [
    "#Extracts the data from the dataset ds that overlaps with the time filter and contains valid data\n",
    "def valid_data_extraction(ds, time_filter, colum_names, file_name):\n",
    "    #Make sure colum_names is a list\n",
    "    if type(colum_names) is str:\n",
    "        colum_names = [colum_names]\n",
    "\n",
    "    #None of the variables found, retrun immediately\n",
    "    if not any([c in ds.data_vars for c in colum_names]):\n",
    "        return None\n",
    "\n",
    "    #Add longitude, latidude and position_qc as variables indexed by time,depth as all other variables\n",
    "    TIME = ds['TIME'].values\n",
    "    DEPTH = ds['DEPTH'].values\n",
    "    n_DEPTHS = len(DEPTH)\n",
    "\n",
    "    dataset_columns = {\n",
    "        'LONG':ds['LONGITUDE'],\n",
    "        'LAT':ds['LATITUDE'],\n",
    "        'POS_QC':ds['POSITION_QC'],\n",
    "    }\n",
    "\n",
    "    ds_pos = xr.Dataset(\n",
    "        data_vars=\n",
    "        {k:(\n",
    "            [\"TIME\", 'DEPTH'],\n",
    "            np.repeat(np.reshape(v.values, (-1,1)), n_DEPTHS, axis=1),\n",
    "            v.attrs,\n",
    "        )for (k,v) in dataset_columns.items()},\n",
    "        coords=dict(\n",
    "            TIME=TIME,\n",
    "            DEPTH=DEPTH,\n",
    "        )\n",
    "    ).drop_vars('DEPTH')\n",
    "    ds = xr.merge([ds.drop_dims(['LATITUDE', 'LONGITUDE', 'POSITION']), ds_pos])\n",
    "\n",
    "    try:\n",
    "        #Filter for time of interest and depth 0\n",
    "        if type(time_filter) is tuple:\n",
    "            ds = ds.sel(TIME=slice(time_filter[0], time_filter[1]), DEPTH=0)\n",
    "        else:\n",
    "            ds = ds.sel(TIME=time_filter, DEPTH=0)\n",
    "    except Exception as e:\n",
    "        print('Failed to timeslice for ' + file_name)\n",
    "    \n",
    "    #Filter only avalible columns\n",
    "    colum_names = list(set(colum_names).intersection(list(ds.data_vars)))\n",
    "    colum_names_qc = [c + '_QC' for c in colum_names]\n",
    "    \n",
    "    #Add fixed columns\n",
    "    colum_names.extend(['LONG', 'LAT'])\n",
    "    colum_names_qc.extend(['TIME_QC', 'POS_QC'])\n",
    "\n",
    "    #Filter for columns of interest\n",
    "    ds = ds[colum_names + colum_names_qc]\n",
    "    \n",
    "    df = ds.to_dataframe()\n",
    "    QC_good = [1.0, 7.0]\n",
    "    \n",
    "    #Filter for good data only\n",
    "    filter_qc = [df[c_qc].isin(QC_good) for c_qc in colum_names_qc]\n",
    "    #Element-wise AND the qc filters\n",
    "    filter_qc = reduce(operator.and_, filter_qc)\n",
    "    df = df[filter_qc][colum_names]\n",
    "    \n",
    "    #Never return empty result, return none instead\n",
    "    if df.empty:\n",
    "        return None\n",
    "        \n",
    "    return df"
   ]
  },
  {
   "cell_type": "code",
   "execution_count": 90,
   "id": "43881f21",
   "metadata": {},
   "outputs": [
    {
     "name": "stderr",
     "output_type": "stream",
     "text": [
      "  0%|          | 11/2488 [00:01<03:35, 11.50it/s]"
     ]
    },
    {
     "name": "stdout",
     "output_type": "stream",
     "text": [
      "GL_TS_MO_23014.nc  Is moving too much\n"
     ]
    },
    {
     "name": "stderr",
     "output_type": "stream",
     "text": [
      "  1%|          | 14/2488 [00:01<02:51, 14.41it/s]"
     ]
    },
    {
     "name": "stdout",
     "output_type": "stream",
     "text": [
      "GL_TS_MO_13010.nc  Is moving too much\n"
     ]
    },
    {
     "name": "stderr",
     "output_type": "stream",
     "text": [
      "  1%|          | 21/2488 [00:02<03:40, 11.17it/s]"
     ]
    },
    {
     "name": "stdout",
     "output_type": "stream",
     "text": [
      "IR_TS_MO_Tenerife-coast-buoy.nc  Is moving too much\n"
     ]
    },
    {
     "name": "stderr",
     "output_type": "stream",
     "text": [
      "  2%|▏         | 49/2488 [00:03<01:48, 22.40it/s]"
     ]
    },
    {
     "name": "stdout",
     "output_type": "stream",
     "text": [
      "GL_TS_MO_23009.nc  Is moving too much\n"
     ]
    },
    {
     "name": "stderr",
     "output_type": "stream",
     "text": [
      "  3%|▎         | 66/2488 [00:04<02:59, 13.46it/s]/home/sarssw/miniconda3/envs/master/lib/python3.10/site-packages/xarray/core/indexes.py:205: FutureWarning: Value based partial slicing on non-monotonic DatetimeIndexes with non-existing keys is deprecated and will raise a KeyError in a future Version.\n",
      "  indexer = index.slice_indexer(\n"
     ]
    },
    {
     "name": "stdout",
     "output_type": "stream",
     "text": [
      "Failed to timeslice for MO_TS_MO_Molo-Bandiera.nc\n"
     ]
    },
    {
     "name": "stderr",
     "output_type": "stream",
     "text": [
      "  4%|▍         | 108/2488 [00:07<02:24, 16.52it/s]"
     ]
    },
    {
     "name": "stdout",
     "output_type": "stream",
     "text": [
      "IR_TS_MO_Malaga-coast-buoy.nc  Is moving too much\n"
     ]
    },
    {
     "name": "stderr",
     "output_type": "stream",
     "text": [
      "  6%|▌         | 142/2488 [00:11<05:08,  7.62it/s]"
     ]
    },
    {
     "name": "stdout",
     "output_type": "stream",
     "text": [
      "GL_TS_MO_55018.nc  Is moving too much\n"
     ]
    },
    {
     "name": "stderr",
     "output_type": "stream",
     "text": [
      " 14%|█▍        | 355/2488 [00:28<02:36, 13.66it/s]"
     ]
    },
    {
     "name": "stdout",
     "output_type": "stream",
     "text": [
      "GL_TS_MO_55036.nc  Is moving too much\n"
     ]
    },
    {
     "name": "stderr",
     "output_type": "stream",
     "text": [
      " 16%|█▋        | 407/2488 [00:34<02:54, 11.90it/s]"
     ]
    },
    {
     "name": "stdout",
     "output_type": "stream",
     "text": [
      "GL_TS_MO_1500008.nc  Is moving too much\n"
     ]
    },
    {
     "name": "stderr",
     "output_type": "stream",
     "text": [
      " 21%|██        | 512/2488 [00:41<02:22, 13.89it/s]"
     ]
    },
    {
     "name": "stdout",
     "output_type": "stream",
     "text": [
      "GL_TS_MO_4100300.nc  Is moving too much\n"
     ]
    },
    {
     "name": "stderr",
     "output_type": "stream",
     "text": [
      " 21%|██        | 522/2488 [00:42<03:26,  9.53it/s]"
     ]
    },
    {
     "name": "stdout",
     "output_type": "stream",
     "text": [
      "GL_TS_MO_55020.nc  Is moving too much\n"
     ]
    },
    {
     "name": "stderr",
     "output_type": "stream",
     "text": [
      " 22%|██▏       | 541/2488 [00:43<02:15, 14.39it/s]/home/sarssw/miniconda3/envs/master/lib/python3.10/site-packages/xarray/core/indexes.py:205: FutureWarning: Value based partial slicing on non-monotonic DatetimeIndexes with non-existing keys is deprecated and will raise a KeyError in a future Version.\n",
      "  indexer = index.slice_indexer(\n",
      " 22%|██▏       | 543/2488 [00:43<02:22, 13.60it/s]"
     ]
    },
    {
     "name": "stdout",
     "output_type": "stream",
     "text": [
      "Failed to timeslice for MO_TS_MO_NADR-S1.nc\n",
      "MO_TS_MO_NADR-S1.nc  Is moving too much\n"
     ]
    },
    {
     "name": "stderr",
     "output_type": "stream",
     "text": [
      " 23%|██▎       | 566/2488 [00:45<01:50, 17.44it/s]"
     ]
    },
    {
     "name": "stdout",
     "output_type": "stream",
     "text": [
      "GL_TS_MO_55032.nc  Is moving too much\n"
     ]
    },
    {
     "name": "stderr",
     "output_type": "stream",
     "text": [
      " 23%|██▎       | 581/2488 [00:46<02:05, 15.20it/s]"
     ]
    },
    {
     "name": "stdout",
     "output_type": "stream",
     "text": [
      "GL_TS_MO_55029.nc  Is moving too much\n"
     ]
    },
    {
     "name": "stderr",
     "output_type": "stream",
     "text": [
      " 23%|██▎       | 583/2488 [00:46<04:00,  7.92it/s]"
     ]
    },
    {
     "name": "stdout",
     "output_type": "stream",
     "text": [
      "BO_TS_MO_Norrbyn.nc  Is moving too much\n"
     ]
    },
    {
     "name": "stderr",
     "output_type": "stream",
     "text": [
      " 24%|██▍       | 599/2488 [00:48<02:51, 11.00it/s]"
     ]
    },
    {
     "name": "stdout",
     "output_type": "stream",
     "text": [
      "GL_TS_MO_55022.nc  Is moving too much\n"
     ]
    },
    {
     "name": "stderr",
     "output_type": "stream",
     "text": [
      " 29%|██▉       | 719/2488 [00:57<02:38, 11.15it/s]"
     ]
    },
    {
     "name": "stdout",
     "output_type": "stream",
     "text": [
      "GL_TS_MO_55033.nc  Is moving too much\n"
     ]
    },
    {
     "name": "stderr",
     "output_type": "stream",
     "text": [
      " 32%|███▏      | 791/2488 [01:02<02:27, 11.49it/s]"
     ]
    },
    {
     "name": "stdout",
     "output_type": "stream",
     "text": [
      "GL_TS_MO_55046.nc  Is moving too much\n"
     ]
    },
    {
     "name": "stderr",
     "output_type": "stream",
     "text": [
      "/home/sarssw/miniconda3/envs/master/lib/python3.10/site-packages/xarray/core/indexes.py:205: FutureWarning: Value based partial slicing on non-monotonic DatetimeIndexes with non-existing keys is deprecated and will raise a KeyError in a future Version.\n",
      "  indexer = index.slice_indexer(\n"
     ]
    },
    {
     "name": "stdout",
     "output_type": "stream",
     "text": [
      "Failed to timeslice for MO_TS_MO_VIDA.nc\n"
     ]
    },
    {
     "name": "stderr",
     "output_type": "stream",
     "text": [
      " 34%|███▍      | 858/2488 [01:08<01:32, 17.66it/s]"
     ]
    },
    {
     "name": "stdout",
     "output_type": "stream",
     "text": [
      "GL_TS_MO_55017.nc  Is moving too much\n"
     ]
    },
    {
     "name": "stderr",
     "output_type": "stream",
     "text": [
      " 35%|███▌      | 882/2488 [01:10<01:05, 24.41it/s]"
     ]
    },
    {
     "name": "stdout",
     "output_type": "stream",
     "text": [
      "GL_TS_MO_41121.nc  Is moving too much\n"
     ]
    },
    {
     "name": "stderr",
     "output_type": "stream",
     "text": [
      " 36%|███▌      | 894/2488 [01:10<01:15, 21.06it/s]"
     ]
    },
    {
     "name": "stdout",
     "output_type": "stream",
     "text": [
      "GL_TS_MO_31004.nc  Is moving too much\n"
     ]
    },
    {
     "name": "stderr",
     "output_type": "stream",
     "text": [
      " 36%|███▌      | 900/2488 [01:11<01:47, 14.73it/s]"
     ]
    },
    {
     "name": "stdout",
     "output_type": "stream",
     "text": [
      "GL_TS_MO_55027.nc  Is moving too much\n"
     ]
    },
    {
     "name": "stderr",
     "output_type": "stream",
     "text": [
      " 36%|███▋      | 904/2488 [01:11<01:50, 14.33it/s]"
     ]
    },
    {
     "name": "stdout",
     "output_type": "stream",
     "text": [
      "GL_TS_MO_55045.nc  Is moving too much\n"
     ]
    },
    {
     "name": "stderr",
     "output_type": "stream",
     "text": [
      " 38%|███▊      | 934/2488 [01:14<02:51,  9.05it/s]"
     ]
    },
    {
     "name": "stdout",
     "output_type": "stream",
     "text": [
      "GL_TS_MO_1500009.nc  Is moving too much\n"
     ]
    },
    {
     "name": "stderr",
     "output_type": "stream",
     "text": [
      " 39%|███▉      | 965/2488 [01:16<01:24, 18.03it/s]"
     ]
    },
    {
     "name": "stdout",
     "output_type": "stream",
     "text": [
      "GL_TS_MO_2300453.nc  Is moving too much\n"
     ]
    },
    {
     "name": "stderr",
     "output_type": "stream",
     "text": [
      " 39%|███▉      | 969/2488 [01:17<02:11, 11.59it/s]"
     ]
    },
    {
     "name": "stdout",
     "output_type": "stream",
     "text": [
      "GL_TS_MO_55028.nc  Is moving too much\n"
     ]
    },
    {
     "name": "stderr",
     "output_type": "stream",
     "text": [
      " 39%|███▉      | 982/2488 [01:18<02:38,  9.52it/s]"
     ]
    },
    {
     "name": "stdout",
     "output_type": "stream",
     "text": [
      "GL_TS_MO_55037.nc  Is moving too much\n"
     ]
    },
    {
     "name": "stderr",
     "output_type": "stream",
     "text": [
      " 45%|████▍     | 1110/2488 [01:26<01:36, 14.34it/s]"
     ]
    },
    {
     "name": "stdout",
     "output_type": "stream",
     "text": [
      "GL_TS_MO_55030.nc  Is moving too much\n"
     ]
    },
    {
     "name": "stderr",
     "output_type": "stream",
     "text": [
      " 50%|████▉     | 1243/2488 [01:36<01:54, 10.90it/s]"
     ]
    },
    {
     "name": "stdout",
     "output_type": "stream",
     "text": [
      "GL_TS_MO_23016.nc  Is moving too much\n"
     ]
    },
    {
     "name": "stderr",
     "output_type": "stream",
     "text": [
      " 52%|█████▏    | 1306/2488 [01:41<01:03, 18.50it/s]"
     ]
    },
    {
     "name": "stdout",
     "output_type": "stream",
     "text": [
      "GL_TS_MO_53040.nc  Is moving too much\n"
     ]
    },
    {
     "name": "stderr",
     "output_type": "stream",
     "text": [
      " 53%|█████▎    | 1325/2488 [01:42<01:05, 17.89it/s]"
     ]
    },
    {
     "name": "stdout",
     "output_type": "stream",
     "text": [
      "GL_TS_MO_14041.nc  Is moving too much\n",
      "GL_TS_MO_2300452.nc  Is moving too much\n"
     ]
    },
    {
     "name": "stderr",
     "output_type": "stream",
     "text": [
      " 56%|█████▌    | 1382/2488 [01:46<00:59, 18.62it/s]"
     ]
    },
    {
     "name": "stdout",
     "output_type": "stream",
     "text": [
      "GL_TS_MO_2300091.nc  Is moving too much\n"
     ]
    },
    {
     "name": "stderr",
     "output_type": "stream",
     "text": [
      " 59%|█████▉    | 1477/2488 [01:55<01:17, 13.11it/s]"
     ]
    },
    {
     "name": "stdout",
     "output_type": "stream",
     "text": [
      "GL_TS_MO_23013.nc  Is moving too much\n"
     ]
    },
    {
     "name": "stderr",
     "output_type": "stream",
     "text": [
      " 62%|██████▏   | 1540/2488 [02:00<01:02, 15.14it/s]"
     ]
    },
    {
     "name": "stdout",
     "output_type": "stream",
     "text": [
      "GL_TS_MO_55038.nc  Is moving too much\n"
     ]
    },
    {
     "name": "stderr",
     "output_type": "stream",
     "text": [
      " 63%|██████▎   | 1558/2488 [02:03<01:37,  9.52it/s]/home/sarssw/miniconda3/envs/master/lib/python3.10/site-packages/xarray/core/indexes.py:205: FutureWarning: Value based partial slicing on non-monotonic DatetimeIndexes with non-existing keys is deprecated and will raise a KeyError in a future Version.\n",
      "  indexer = index.slice_indexer(\n",
      " 63%|██████▎   | 1560/2488 [02:03<01:45,  8.78it/s]"
     ]
    },
    {
     "name": "stdout",
     "output_type": "stream",
     "text": [
      "Failed to timeslice for MO_TS_MO_ESTELLENCS.nc\n"
     ]
    },
    {
     "name": "stderr",
     "output_type": "stream",
     "text": [
      " 65%|██████▍   | 1605/2488 [02:05<00:42, 20.98it/s]"
     ]
    },
    {
     "name": "stdout",
     "output_type": "stream",
     "text": [
      "GL_TS_MO_2300454.nc  Is moving too much\n"
     ]
    },
    {
     "name": "stderr",
     "output_type": "stream",
     "text": [
      " 66%|██████▋   | 1652/2488 [02:09<00:53, 15.50it/s]"
     ]
    },
    {
     "name": "stdout",
     "output_type": "stream",
     "text": [
      "GL_TS_MO_56005.nc  Is moving too much\n"
     ]
    },
    {
     "name": "stderr",
     "output_type": "stream",
     "text": [
      " 69%|██████▉   | 1718/2488 [02:14<00:46, 16.73it/s]"
     ]
    },
    {
     "name": "stdout",
     "output_type": "stream",
     "text": [
      "GL_TS_MO_31003.nc  Is moving too much\n"
     ]
    },
    {
     "name": "stderr",
     "output_type": "stream",
     "text": [
      " 72%|███████▏  | 1793/2488 [02:19<00:47, 14.71it/s]"
     ]
    },
    {
     "name": "stdout",
     "output_type": "stream",
     "text": [
      "GL_TS_MO_4800400.nc  Is moving too much\n"
     ]
    },
    {
     "name": "stderr",
     "output_type": "stream",
     "text": [
      " 81%|████████  | 2010/2488 [02:35<00:28, 16.58it/s]"
     ]
    },
    {
     "name": "stdout",
     "output_type": "stream",
     "text": [
      "GL_TS_MO_52121.nc  Is moving too much\n"
     ]
    },
    {
     "name": "stderr",
     "output_type": "stream",
     "text": [
      " 85%|████████▍ | 2108/2488 [02:41<00:18, 20.24it/s]"
     ]
    },
    {
     "name": "stdout",
     "output_type": "stream",
     "text": [
      "GL_TS_MO_2300451.nc  Is moving too much\n"
     ]
    },
    {
     "name": "stderr",
     "output_type": "stream",
     "text": [
      " 88%|████████▊ | 2193/2488 [02:47<00:17, 16.41it/s]"
     ]
    },
    {
     "name": "stdout",
     "output_type": "stream",
     "text": [
      "GL_TS_MO_31005.nc  Is moving too much\n"
     ]
    },
    {
     "name": "stderr",
     "output_type": "stream",
     "text": [
      " 91%|█████████▏| 2272/2488 [02:53<00:13, 15.93it/s]"
     ]
    },
    {
     "name": "stdout",
     "output_type": "stream",
     "text": [
      "GL_TS_MO_52087.nc  Is moving too much\n"
     ]
    },
    {
     "name": "stderr",
     "output_type": "stream",
     "text": [
      " 92%|█████████▏| 2297/2488 [02:54<00:10, 18.95it/s]"
     ]
    },
    {
     "name": "stdout",
     "output_type": "stream",
     "text": [
      "GL_TS_MO_15002.nc  Is moving too much\n",
      "Failed to timeslice for BS_TS_MO_VarnaBuoySURF.nc\n"
     ]
    },
    {
     "name": "stderr",
     "output_type": "stream",
     "text": [
      "/home/sarssw/miniconda3/envs/master/lib/python3.10/site-packages/xarray/core/indexes.py:205: FutureWarning: Value based partial slicing on non-monotonic DatetimeIndexes with non-existing keys is deprecated and will raise a KeyError in a future Version.\n",
      "  indexer = index.slice_indexer(\n",
      " 95%|█████████▍| 2353/2488 [02:57<00:08, 16.70it/s]"
     ]
    },
    {
     "name": "stdout",
     "output_type": "stream",
     "text": [
      "GL_TS_MO_2300497.nc  Is moving too much\n"
     ]
    },
    {
     "name": "stderr",
     "output_type": "stream",
     "text": [
      " 95%|█████████▍| 2355/2488 [02:58<00:09, 14.77it/s]"
     ]
    },
    {
     "name": "stdout",
     "output_type": "stream",
     "text": [
      "GL_TS_MO_55024.nc  Is moving too much\n"
     ]
    },
    {
     "name": "stderr",
     "output_type": "stream",
     "text": [
      " 99%|█████████▉| 2458/2488 [03:06<00:01, 20.07it/s]/home/sarssw/miniconda3/envs/master/lib/python3.10/site-packages/xarray/core/indexes.py:205: FutureWarning: Value based partial slicing on non-monotonic DatetimeIndexes with non-existing keys is deprecated and will raise a KeyError in a future Version.\n",
      "  indexer = index.slice_indexer(\n"
     ]
    },
    {
     "name": "stdout",
     "output_type": "stream",
     "text": [
      "Failed to timeslice for BS_TS_MO_BurgasBuoySURF.nc\n"
     ]
    },
    {
     "name": "stderr",
     "output_type": "stream",
     "text": [
      "100%|██████████| 2488/2488 [03:08<00:00, 13.17it/s]\n"
     ]
    }
   ],
   "source": [
    "data_dir = '/data/exjobb/sarssw/bouy/INSITU_GLO_PHYBGCWAV_DISCRETE_MYNRT_013_030/MO'\n",
    "start_date = '2021-01-01'\n",
    "end_date = '2021-12-31'\n",
    "variables = ['VHM0', 'VAVH', 'WSPD']\n",
    "\n",
    "write_folder = './all_data_KML'\n",
    "save_var_fn = 'result' #to save data_dir, df_files tuple\n",
    "kml_pinmap_fn = 'kml_pinmap'\n",
    "\n",
    "files = os.listdir(data_dir)\n",
    "\n",
    "df_files = pd.DataFrame({\n",
    "    'file':pd.Series(dtype=object),\n",
    "    'LONG':pd.Series(dtype=float),\n",
    "    'LAT':pd.Series(dtype=float),\n",
    "    'VARS':object,\n",
    "    'LEN':int,\n",
    "}).rename_axis('file')\n",
    "\n",
    "for file in tqdm(files):\n",
    "    #print(file)\n",
    "    #Open dataset\n",
    "    ds = xr.open_dataset(os.path.join(data_dir, file))#, engine='scipy')\n",
    "\n",
    "    #Filter in time and for quality data\n",
    "    df_data = valid_data_extraction(ds, (start_date, end_date), variables, file)\n",
    "\n",
    "    if df_data is not None:\n",
    "        #if it moves too much print warning and skip\n",
    "        min_long, max_long = df_data['LONG'].min(), df_data['LONG'].max()\n",
    "        long_diff = max_long - min_long\n",
    "        min_lat, max_lat = df_data['LAT'].min(), df_data['LAT'].max()\n",
    "        lat_diff = max_lat - min_lat\n",
    "\n",
    "        if max(long_diff, lat_diff) > 0.01: #TODO set better limit?\n",
    "            print(file, ' Is moving too much')\n",
    "            continue\n",
    "\n",
    "        #Take only average location since some bouys are non-stationary\n",
    "        ave_long = df_data['LONG'].mean()\n",
    "        ave_lat = df_data['LAT'].mean()\n",
    "        data_vars = set(df_data.columns).intersection(variables)\n",
    "        data_len = df_data.shape[0]\n",
    "\n",
    "        df_files.loc[len(df_files.index)] = [file, ave_long, ave_lat,data_vars,data_len]"
   ]
  },
  {
   "cell_type": "code",
   "execution_count": 91,
   "id": "7ee0e1f4",
   "metadata": {},
   "outputs": [],
   "source": [
    "#df_data"
   ]
  },
  {
   "cell_type": "code",
   "execution_count": 94,
   "id": "0c0ef0e1",
   "metadata": {},
   "outputs": [
    {
     "data": {
      "text/html": [
       "<div>\n",
       "<style scoped>\n",
       "    .dataframe tbody tr th:only-of-type {\n",
       "        vertical-align: middle;\n",
       "    }\n",
       "\n",
       "    .dataframe tbody tr th {\n",
       "        vertical-align: top;\n",
       "    }\n",
       "\n",
       "    .dataframe thead th {\n",
       "        text-align: right;\n",
       "    }\n",
       "</style>\n",
       "<table border=\"1\" class=\"dataframe\">\n",
       "  <thead>\n",
       "    <tr style=\"text-align: right;\">\n",
       "      <th></th>\n",
       "      <th>file</th>\n",
       "      <th>LONG</th>\n",
       "      <th>LAT</th>\n",
       "      <th>VARS</th>\n",
       "      <th>LEN</th>\n",
       "    </tr>\n",
       "    <tr>\n",
       "      <th>file</th>\n",
       "      <th></th>\n",
       "      <th></th>\n",
       "      <th></th>\n",
       "      <th></th>\n",
       "      <th></th>\n",
       "    </tr>\n",
       "  </thead>\n",
       "  <tbody>\n",
       "    <tr>\n",
       "      <th>0</th>\n",
       "      <td>NO_TS_MO_FINO1.nc</td>\n",
       "      <td>6.583334</td>\n",
       "      <td>54.000000</td>\n",
       "      <td>{VHM0}</td>\n",
       "      <td>17468</td>\n",
       "    </tr>\n",
       "    <tr>\n",
       "      <th>1</th>\n",
       "      <td>GL_TS_MO_T8N170W.nc</td>\n",
       "      <td>-170.000000</td>\n",
       "      <td>8.000000</td>\n",
       "      <td>{WSPD}</td>\n",
       "      <td>20472</td>\n",
       "    </tr>\n",
       "    <tr>\n",
       "      <th>2</th>\n",
       "      <td>GL_TS_MO_41110.nc</td>\n",
       "      <td>-77.714981</td>\n",
       "      <td>34.141998</td>\n",
       "      <td>{VHM0}</td>\n",
       "      <td>15453</td>\n",
       "    </tr>\n",
       "    <tr>\n",
       "      <th>3</th>\n",
       "      <td>GL_TS_MO_6200080.nc</td>\n",
       "      <td>-1.833600</td>\n",
       "      <td>45.916302</td>\n",
       "      <td>{VAVH, VHM0}</td>\n",
       "      <td>11775</td>\n",
       "    </tr>\n",
       "    <tr>\n",
       "      <th>4</th>\n",
       "      <td>GL_TS_MO_46218.nc</td>\n",
       "      <td>-120.780014</td>\n",
       "      <td>34.451996</td>\n",
       "      <td>{VHM0}</td>\n",
       "      <td>15593</td>\n",
       "    </tr>\n",
       "    <tr>\n",
       "      <th>...</th>\n",
       "      <td>...</td>\n",
       "      <td>...</td>\n",
       "      <td>...</td>\n",
       "      <td>...</td>\n",
       "      <td>...</td>\n",
       "    </tr>\n",
       "    <tr>\n",
       "      <th>398</th>\n",
       "      <td>GL_TS_MO_15006.nc</td>\n",
       "      <td>-10.000000</td>\n",
       "      <td>-6.000000</td>\n",
       "      <td>{WSPD}</td>\n",
       "      <td>8655</td>\n",
       "    </tr>\n",
       "    <tr>\n",
       "      <th>399</th>\n",
       "      <td>NO_TS_MO_AWG.nc</td>\n",
       "      <td>5.950000</td>\n",
       "      <td>53.500000</td>\n",
       "      <td>{VAVH, VHM0}</td>\n",
       "      <td>49626</td>\n",
       "    </tr>\n",
       "    <tr>\n",
       "      <th>400</th>\n",
       "      <td>GL_TS_MO_T0N180W.nc</td>\n",
       "      <td>180.000000</td>\n",
       "      <td>0.000000</td>\n",
       "      <td>{WSPD}</td>\n",
       "      <td>20436</td>\n",
       "    </tr>\n",
       "    <tr>\n",
       "      <th>401</th>\n",
       "      <td>GL_TS_MO_T5S110W.nc</td>\n",
       "      <td>-110.000000</td>\n",
       "      <td>-5.000000</td>\n",
       "      <td>{WSPD}</td>\n",
       "      <td>51018</td>\n",
       "    </tr>\n",
       "    <tr>\n",
       "      <th>402</th>\n",
       "      <td>GL_TS_MO_44090.nc</td>\n",
       "      <td>-70.328995</td>\n",
       "      <td>41.840000</td>\n",
       "      <td>{VHM0}</td>\n",
       "      <td>13318</td>\n",
       "    </tr>\n",
       "  </tbody>\n",
       "</table>\n",
       "<p>403 rows × 5 columns</p>\n",
       "</div>"
      ],
      "text/plain": [
       "                     file        LONG        LAT          VARS    LEN\n",
       "file                                                                 \n",
       "0       NO_TS_MO_FINO1.nc    6.583334  54.000000        {VHM0}  17468\n",
       "1     GL_TS_MO_T8N170W.nc -170.000000   8.000000        {WSPD}  20472\n",
       "2       GL_TS_MO_41110.nc  -77.714981  34.141998        {VHM0}  15453\n",
       "3     GL_TS_MO_6200080.nc   -1.833600  45.916302  {VAVH, VHM0}  11775\n",
       "4       GL_TS_MO_46218.nc -120.780014  34.451996        {VHM0}  15593\n",
       "...                   ...         ...        ...           ...    ...\n",
       "398     GL_TS_MO_15006.nc  -10.000000  -6.000000        {WSPD}   8655\n",
       "399       NO_TS_MO_AWG.nc    5.950000  53.500000  {VAVH, VHM0}  49626\n",
       "400   GL_TS_MO_T0N180W.nc  180.000000   0.000000        {WSPD}  20436\n",
       "401   GL_TS_MO_T5S110W.nc -110.000000  -5.000000        {WSPD}  51018\n",
       "402     GL_TS_MO_44090.nc  -70.328995  41.840000        {VHM0}  13318\n",
       "\n",
       "[403 rows x 5 columns]"
      ]
     },
     "execution_count": 94,
     "metadata": {},
     "output_type": "execute_result"
    }
   ],
   "source": [
    "df_files"
   ]
  },
  {
   "cell_type": "code",
   "execution_count": 97,
   "id": "e04700d9",
   "metadata": {},
   "outputs": [],
   "source": [
    "#Conditionally creates the folder for the result\n",
    "os.makedirs(write_folder, exist_ok=True)\n",
    "\n",
    "#Save datadir and resulting dataframe\n",
    "with open(os.path.join(write_folder, save_var_fn),'wb') as f_w:\n",
    "    pickle.dump((data_dir, df_files), f_w)\n",
    "\n",
    "#Create kml map\n",
    "KML_fldr = KML.Folder(\n",
    "    KML.name(\"All files\"),\n",
    "    KML.description(\n",
    "        \"Timeinterval: \" + start_date + \" to \" + end_date + '\\n' + str(variables)\n",
    "    )\n",
    ")\n",
    "\n",
    "#iterate over all unique variable name, file name pairs\n",
    "for index,row in df_files.iterrows():\n",
    "    #extract longitude and latitude\n",
    "    long = row['LONG']\n",
    "    lat = row['LAT']\n",
    "    \n",
    "    #Create the pin\n",
    "    pin = KML.Placemark(\n",
    "        KML.name(row['LEN']),\n",
    "        KML.description(row['file'] + '\\n' + str(row['LEN']) + \" datapoints\"),\n",
    "        KML.Point(\n",
    "            KML.coordinates(str(long) + \",\" + str(lat))\n",
    "        )\n",
    "    )\n",
    "    KML_fldr.append(pin)\n",
    "    \n",
    "with open(os.path.join(write_folder, kml_pinmap_fn + '.kml'), 'w') as f_w:\n",
    "    f_w.write(lxml.etree.tostring(KML_fldr, pretty_print=True).decode())"
   ]
  }
 ],
 "metadata": {
  "kernelspec": {
   "display_name": "Python 3 (ipykernel)",
   "language": "python",
   "name": "python3"
  },
  "language_info": {
   "codemirror_mode": {
    "name": "ipython",
    "version": 3
   },
   "file_extension": ".py",
   "mimetype": "text/x-python",
   "name": "python",
   "nbconvert_exporter": "python",
   "pygments_lexer": "ipython3",
   "version": "3.10.9"
  },
  "vscode": {
   "interpreter": {
    "hash": "40bfc0d3c9c7ef61b829322f934671b287025ad156098ea4a38fed0ccd45344b"
   }
  }
 },
 "nbformat": 4,
 "nbformat_minor": 5
}
