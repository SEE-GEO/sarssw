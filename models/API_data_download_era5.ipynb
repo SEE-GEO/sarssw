{
 "cells": [
  {
   "cell_type": "code",
   "execution_count": 11,
   "metadata": {},
   "outputs": [
    {
     "name": "stdout",
     "output_type": "stream",
     "text": [
      "/home/sarssw/filip/sarssw/models\n",
      "API_data_download.ipynb  model_bouy_comparison.ipynb  model_test.ipynb\trestats\n"
     ]
    }
   ],
   "source": [
    "#This is wher ethe download will be located\n",
    "!pwd\n",
    "!ls"
   ]
  },
  {
   "attachments": {},
   "cell_type": "markdown",
   "metadata": {},
   "source": [
    "This notebook is used to download era5 data"
   ]
  },
  {
   "cell_type": "code",
   "execution_count": 13,
   "metadata": {},
   "outputs": [
    {
     "name": "stderr",
     "output_type": "stream",
     "text": [
      "2023-02-22 15:29:20,883 INFO Welcome to the CDS\n",
      "2023-02-22 15:29:20,885 INFO Sending request to https://cds.climate.copernicus.eu/api/v2/resources/reanalysis-era5-single-levels\n",
      "2023-02-22 15:29:21,220 INFO Request is queued\n",
      "2023-02-22 15:37:40,379 INFO Request is running\n",
      "2023-02-22 15:41:41,035 INFO Request is completed\n",
      "2023-02-22 15:41:41,047 INFO Downloading https://download-0012-clone.copernicus-climate.eu/cache-compute-0012/cache/data6/adaptor.mars.internal-1677076666.1036172-14584-1-0e01d36f-16eb-4d3f-98cb-c9f0fd635ee2.nc to /data/exjobb/sarssw/model/2021_nov_dec_wind_world_wide.nc (5.7G)\n",
      "2023-02-22 15:47:37,618 INFO Download rate 16.3M/s   \n"
     ]
    },
    {
     "data": {
      "text/plain": [
       "Result(content_length=6079949276,content_type=application/x-netcdf,location=https://download-0012-clone.copernicus-climate.eu/cache-compute-0012/cache/data6/adaptor.mars.internal-1677076666.1036172-14584-1-0e01d36f-16eb-4d3f-98cb-c9f0fd635ee2.nc)"
      ]
     },
     "execution_count": 13,
     "metadata": {},
     "output_type": "execute_result"
    }
   ],
   "source": [
    "import cdsapi\n",
    "\n",
    "c = cdsapi.Client()\n",
    "\n",
    "c.retrieve(\n",
    "    'reanalysis-era5-single-levels',\n",
    "    {\n",
    "        'product_type': 'reanalysis',\n",
    "        'variable': [\n",
    "            '10m_u_component_of_wind', '10m_v_component_of_wind',\n",
    "        ],\n",
    "        'year': '2021',\n",
    "        'month': [\n",
    "            #'01', '02',\n",
    "            #'03', '04',\n",
    "            #'05', '06',\n",
    "            #'07', '08',\n",
    "            #'09', '10',\n",
    "            '11', '12',\n",
    "        ],\n",
    "        'day': [\n",
    "            '01', '02', '03',\n",
    "            '04', '05', '06',\n",
    "            '07', '08', '09',\n",
    "            '10', '11', '12',\n",
    "            '13', '14', '15',\n",
    "            '16', '17', '18',\n",
    "            '19', '20', '21',\n",
    "            '22', '23', '24',\n",
    "            '25', '26', '27',\n",
    "            '28', '29', '30',\n",
    "            '31',\n",
    "        ],\n",
    "        'time': [\n",
    "            '00:00', '01:00', '02:00',\n",
    "            '03:00', '04:00', '05:00',\n",
    "            '06:00', '07:00', '08:00',\n",
    "            '09:00', '10:00', '11:00',\n",
    "            '12:00', '13:00', '14:00',\n",
    "            '15:00', '16:00', '17:00',\n",
    "            '18:00', '19:00', '20:00',\n",
    "            '21:00', '22:00', '23:00',\n",
    "        ],\n",
    "        #'area': [\n",
    "        #    63, -16, 46,\n",
    "        #    13,\n",
    "        #],\n",
    "        'format': 'netcdf',\n",
    "    },\n",
    "    '/data/exjobb/sarssw/model/2021_nov_dec_wind_world_wide.nc')"
   ]
  }
 ],
 "metadata": {
  "kernelspec": {
   "display_name": "Python 3",
   "language": "python",
   "name": "python3"
  },
  "language_info": {
   "codemirror_mode": {
    "name": "ipython",
    "version": 3
   },
   "file_extension": ".py",
   "mimetype": "text/x-python",
   "name": "python",
   "nbconvert_exporter": "python",
   "pygments_lexer": "ipython3",
   "version": "3.7.5"
  },
  "orig_nbformat": 4,
  "vscode": {
   "interpreter": {
    "hash": "fd69f43f58546b570e94fd7eba7b65e6bcc7a5bbc4eab0408017d18902915d69"
   }
  }
 },
 "nbformat": 4,
 "nbformat_minor": 2
}
