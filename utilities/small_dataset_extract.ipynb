{
 "cells": [
  {
   "attachments": {},
   "cell_type": "markdown",
   "id": "03954c9c",
   "metadata": {},
   "source": [
    "This file is for extracting a small dataset and getting the corresponding features,\n",
    "then it zips the files so that you can download them"
   ]
  },
  {
   "cell_type": "code",
   "execution_count": 11,
   "id": "decbd390",
   "metadata": {},
   "outputs": [],
   "source": [
    "import os\n",
    "from itertools import islice\n",
    "import shutil\n",
    "from tqdm import tqdm\n",
    "import pickle"
   ]
  },
  {
   "cell_type": "code",
   "execution_count": 51,
   "id": "421bc973",
   "metadata": {},
   "outputs": [
    {
     "name": "stderr",
     "output_type": "stream",
     "text": [
      "100%|██████████| 100/100 [00:00<00:00, 91718.87it/s]\n"
     ]
    }
   ],
   "source": [
    "sar_dataset_dir = '/data/exjobb/sarssw/sar_dataset/'\n",
    "dst_dir = '/data/exjobb/sarssw/sar_dataset_100/'\n",
    "\n",
    "n_files = 100\n",
    "file_filter = lambda fn: fn.is_file() and fn.name.endswith('.nc')\n",
    "sar_dataset_files = filter(file_filter, os.scandir(sar_dataset_dir))\n",
    "\n",
    "for file_name in tqdm(islice(sar_dataset_files, n_files), total=n_files):\n",
    "    src_path = os.path.join(sar_dataset_dir, file_name.name)\n",
    "    shutil.copy(src_path, dst_dir)"
   ]
  },
  {
   "cell_type": "code",
   "execution_count": 16,
   "id": "fcf156fa",
   "metadata": {},
   "outputs": [],
   "source": [
    "features_labels_dir = '/data/exjobb/sarssw/sar_dataset_features_labels/sar_dataset.pickle'\n",
    "\n",
    "with open(features_labels_dir, 'rb') as f: fl_df = pickle.load(f)"
   ]
  },
  {
   "cell_type": "code",
   "execution_count": 56,
   "id": "4f52ab79",
   "metadata": {},
   "outputs": [],
   "source": [
    "out_files = {fn.name for fn in os.scandir(dst_dir) if file_filter(fn)}\n",
    "out_fl_df = fl_df[fl_df.file_name.isin(out_files)]\n",
    "out_fl_path = os.path.join(dst_dir, 'fl_df.pickle')\n",
    "\n",
    "with open(out_fl_path, 'wb') as f: pickle.dump(out_fl_df, f)"
   ]
  },
  {
   "cell_type": "code",
   "execution_count": 58,
   "id": "fef481f7",
   "metadata": {},
   "outputs": [
    {
     "data": {
      "text/plain": [
       "'/home/sarssw/axel/sarssw/sar_survey/sar_dataset_100.zip'"
      ]
     },
     "execution_count": 58,
     "metadata": {},
     "output_type": "execute_result"
    }
   ],
   "source": [
    "shutil.make_archive('sar_dataset_100', 'zip', dst_dir)"
   ]
  }
 ],
 "metadata": {
  "kernelspec": {
   "display_name": "Python 3",
   "language": "python",
   "name": "python3"
  },
  "language_info": {
   "codemirror_mode": {
    "name": "ipython",
    "version": 3
   },
   "file_extension": ".py",
   "mimetype": "text/x-python",
   "name": "python",
   "nbconvert_exporter": "python",
   "pygments_lexer": "ipython3",
   "version": "3.11.0"
  },
  "vscode": {
   "interpreter": {
    "hash": "d97605cdff5be60f33e2e1d1b8c5dd03c29c2ec24716dc3a425b0a7699630cd8"
   }
  }
 },
 "nbformat": 4,
 "nbformat_minor": 5
}
