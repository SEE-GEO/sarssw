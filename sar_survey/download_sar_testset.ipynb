{
 "cells": [
  {
   "cell_type": "code",
   "execution_count": 8,
   "id": "c1b69c08",
   "metadata": {},
   "outputs": [
    {
     "name": "stdout",
     "output_type": "stream",
     "text": [
      "bouy  data_old\tmodel  sar\r\n"
     ]
    }
   ],
   "source": [
    "!ls /data/exjobb/sarssw/"
   ]
  },
  {
   "cell_type": "code",
   "execution_count": 11,
   "id": "f5e8e7c8",
   "metadata": {},
   "outputs": [],
   "source": [
    "import cdsapi\n",
    "import asf_search as asf\n",
    "\n",
    "import numpy as np\n",
    "import pandas as pd\n",
    "import matplotlib.pyplot as plt\n",
    "import matplotlib as mpl\n",
    "\n",
    "from collections import defaultdict\n",
    "\n",
    "import pickle\n",
    "from tqdm import tqdm\n",
    "from zipfile import ZipFile\n",
    "import os\n",
    "import getpass\n",
    "\n",
    "import itertools\n",
    "\n",
    "import shutil"
   ]
  },
  {
   "cell_type": "code",
   "execution_count": 7,
   "id": "3f8b431c",
   "metadata": {},
   "outputs": [],
   "source": [
    "download_dir = '/data/exjobb/sarssw/sar/'"
   ]
  },
  {
   "cell_type": "code",
   "execution_count": 8,
   "id": "1ac90167",
   "metadata": {},
   "outputs": [],
   "source": [
    "write_folder = '../bouy_survey/1h_survey'\n",
    "result_df_fn = 'result_df'\n",
    "\n",
    "with open(os.path.join(write_folder, result_df_fn),'rb') as f_r:\n",
    "    shore_survey_df = pickle.load(f_r)"
   ]
  },
  {
   "cell_type": "code",
   "execution_count": 17,
   "id": "77f4c39a",
   "metadata": {},
   "outputs": [
    {
     "name": "stdout",
     "output_type": "stream",
     "text": [
      "Username:brobeck\n",
      "Password:········\n"
     ]
    }
   ],
   "source": [
    "username = input('Username:')\n",
    "password = getpass.getpass('Password:')\n",
    "session = asf.ASFSession().auth_with_creds(username=username, password=password)"
   ]
  },
  {
   "cell_type": "code",
   "execution_count": 22,
   "id": "504f0de7",
   "metadata": {},
   "outputs": [],
   "source": [
    "unique_urls = shore_survey_df.sar_url.unique()"
   ]
  },
  {
   "cell_type": "code",
   "execution_count": 23,
   "id": "d34503c1",
   "metadata": {},
   "outputs": [
    {
     "name": "stderr",
     "output_type": "stream",
     "text": [
      "100%|███████████████████████████████████████████| 20/20 [13:48<00:00, 41.41s/it]\n"
     ]
    }
   ],
   "source": [
    "n_images = 100\n",
    "n_processes = 5\n",
    "\n",
    "urls = unique_urls[:n_images]\n",
    "\n",
    "for url_chunk in tqdm(zip(*([iter(urls)] * n_processes)), total=n_images//n_processes):\n",
    "    asf.download_urls(\n",
    "        urls=url_chunk,\n",
    "        path=download_dir,\n",
    "        session=session,\n",
    "        processes=n_processes\n",
    "    )"
   ]
  },
  {
   "cell_type": "code",
   "execution_count": 24,
   "id": "304a562a",
   "metadata": {},
   "outputs": [
    {
     "name": "stderr",
     "output_type": "stream",
     "text": [
      "  1%|▍                                          | 1/100 [00:12<21:24, 12.97s/it]"
     ]
    },
    {
     "name": "stdout",
     "output_type": "stream",
     "text": [
      "Removing: /data/exjobb/sarssw/sar/S1A_IW_GRDH_1SDV_20211227T230544_20211227T230609_041201_04E566_660B.zip\n"
     ]
    },
    {
     "name": "stderr",
     "output_type": "stream",
     "text": [
      "\r",
      "  2%|▊                                          | 2/100 [00:23<18:43, 11.46s/it]"
     ]
    },
    {
     "name": "stdout",
     "output_type": "stream",
     "text": [
      "Removing: /data/exjobb/sarssw/sar/S1A_IW_GRDH_1SDV_20210922T230546_20210922T230611_039801_04B528_22F9.zip\n"
     ]
    },
    {
     "name": "stderr",
     "output_type": "stream",
     "text": [
      "\r",
      "  3%|█▎                                         | 3/100 [00:26<12:21,  7.65s/it]"
     ]
    },
    {
     "name": "stdout",
     "output_type": "stream",
     "text": [
      "Removing: /data/exjobb/sarssw/sar/S1B_EW_GRDM_1SDH_20211211T050546_20211211T050646_029973_039404_72F9.zip\n"
     ]
    },
    {
     "name": "stderr",
     "output_type": "stream",
     "text": [
      "\r",
      "  4%|█▋                                         | 4/100 [00:38<14:54,  9.32s/it]"
     ]
    },
    {
     "name": "stdout",
     "output_type": "stream",
     "text": [
      "Removing: /data/exjobb/sarssw/sar/S1A_IW_GRDH_1SDV_20211121T230546_20211121T230611_040676_04D389_68AF.zip\n"
     ]
    },
    {
     "name": "stderr",
     "output_type": "stream",
     "text": [
      "\r",
      "  5%|██▏                                        | 5/100 [00:51<16:53, 10.67s/it]"
     ]
    },
    {
     "name": "stdout",
     "output_type": "stream",
     "text": [
      "Removing: /data/exjobb/sarssw/sar/S1A_IW_GRDH_1SDV_20211111T162114_20211111T162139_040526_04CE64_2A17.zip\n"
     ]
    },
    {
     "name": "stderr",
     "output_type": "stream",
     "text": [
      "\r",
      "  6%|██▌                                        | 6/100 [01:03<17:35, 11.22s/it]"
     ]
    },
    {
     "name": "stdout",
     "output_type": "stream",
     "text": [
      "Removing: /data/exjobb/sarssw/sar/S1B_IW_GRDH_1SDV_20211002T045005_20211002T045030_028952_037466_F377.zip\n"
     ]
    },
    {
     "name": "stderr",
     "output_type": "stream",
     "text": [
      "\r",
      "  7%|███                                        | 7/100 [01:14<17:05, 11.02s/it]"
     ]
    },
    {
     "name": "stdout",
     "output_type": "stream",
     "text": [
      "Removing: /data/exjobb/sarssw/sar/S1A_IW_GRDH_1SDV_20210805T230544_20210805T230609_039101_049D2E_3D7D.zip\n"
     ]
    },
    {
     "name": "stderr",
     "output_type": "stream",
     "text": [
      "\r",
      "  8%|███▍                                       | 8/100 [01:25<17:05, 11.15s/it]"
     ]
    },
    {
     "name": "stdout",
     "output_type": "stream",
     "text": [
      "Removing: /data/exjobb/sarssw/sar/S1A_IW_GRDH_1SDV_20211030T162115_20211030T162140_040351_04C84D_6496.zip\n"
     ]
    },
    {
     "name": "stderr",
     "output_type": "stream",
     "text": [
      "\r",
      "  9%|███▊                                       | 9/100 [01:36<16:57, 11.18s/it]"
     ]
    },
    {
     "name": "stdout",
     "output_type": "stream",
     "text": [
      "Removing: /data/exjobb/sarssw/sar/S1A_IW_GRDH_1SDV_20210924T162114_20210924T162139_039826_04B60A_EC12.zip\n"
     ]
    },
    {
     "name": "stderr",
     "output_type": "stream",
     "text": [
      "\r",
      " 10%|████▏                                     | 10/100 [01:46<16:13, 10.81s/it]"
     ]
    },
    {
     "name": "stdout",
     "output_type": "stream",
     "text": [
      "Removing: /data/exjobb/sarssw/sar/S1A_IW_GRDH_1SDV_20210618T230541_20210618T230606_038401_048812_6F1D.zip\n"
     ]
    },
    {
     "name": "stderr",
     "output_type": "stream",
     "text": [
      "\r",
      " 11%|████▌                                     | 11/100 [01:58<16:24, 11.06s/it]"
     ]
    },
    {
     "name": "stdout",
     "output_type": "stream",
     "text": [
      "Removing: /data/exjobb/sarssw/sar/S1B_IW_GRDH_1SDV_20211026T045005_20211026T045030_029302_037F35_EBCC.zip\n"
     ]
    },
    {
     "name": "stderr",
     "output_type": "stream",
     "text": [
      "\r",
      " 12%|█████                                     | 12/100 [02:11<16:49, 11.47s/it]"
     ]
    },
    {
     "name": "stdout",
     "output_type": "stream",
     "text": [
      "Removing: /data/exjobb/sarssw/sar/S1A_IW_GRDH_1SDV_20211018T162115_20211018T162140_040176_04C23C_607F.zip\n"
     ]
    },
    {
     "name": "stderr",
     "output_type": "stream",
     "text": [
      "\r",
      " 13%|█████▍                                    | 13/100 [02:26<18:20, 12.65s/it]"
     ]
    },
    {
     "name": "stdout",
     "output_type": "stream",
     "text": [
      "Removing: /data/exjobb/sarssw/sar/S1A_IW_GRDH_1SDV_20210326T230537_20210326T230602_037176_0460AC_C637.zip\n"
     ]
    },
    {
     "name": "stderr",
     "output_type": "stream",
     "text": [
      "\r",
      " 14%|█████▉                                    | 14/100 [02:36<17:05, 11.92s/it]"
     ]
    },
    {
     "name": "stdout",
     "output_type": "stream",
     "text": [
      "Removing: /data/exjobb/sarssw/sar/S1A_IW_GRDH_1SDV_20210101T230539_20210101T230604_035951_04360B_CA34.zip\n"
     ]
    },
    {
     "name": "stderr",
     "output_type": "stream",
     "text": [
      "\r",
      " 15%|██████▎                                   | 15/100 [02:47<16:38, 11.75s/it]"
     ]
    },
    {
     "name": "stdout",
     "output_type": "stream",
     "text": [
      "Removing: /data/exjobb/sarssw/sar/S1B_IW_GRDH_1SDV_20211007T161246_20211007T161311_029032_0376DA_F454.zip\n"
     ]
    },
    {
     "name": "stderr",
     "output_type": "stream",
     "text": [
      "\r",
      " 16%|██████▋                                   | 16/100 [02:51<12:53,  9.21s/it]"
     ]
    },
    {
     "name": "stdout",
     "output_type": "stream",
     "text": [
      "Removing: /data/exjobb/sarssw/sar/S1B_EW_GRDM_1SDH_20211119T160349_20211119T160453_029659_038A29_7321.zip\n"
     ]
    },
    {
     "name": "stderr",
     "output_type": "stream",
     "text": [
      "\r",
      " 17%|███████▏                                  | 17/100 [03:02<13:26,  9.72s/it]"
     ]
    },
    {
     "name": "stdout",
     "output_type": "stream",
     "text": [
      "Removing: /data/exjobb/sarssw/sar/S1A_IW_GRDH_1SDV_20210206T230537_20210206T230602_036476_044854_CB2E.zip\n"
     ]
    },
    {
     "name": "stderr",
     "output_type": "stream",
     "text": [
      "\r",
      " 18%|███████▌                                  | 18/100 [03:12<13:40, 10.01s/it]"
     ]
    },
    {
     "name": "stdout",
     "output_type": "stream",
     "text": [
      "Removing: /data/exjobb/sarssw/sar/S1A_IW_GRDH_1SDV_20211229T162112_20211229T162137_041226_04E64E_B774.zip\n"
     ]
    },
    {
     "name": "stderr",
     "output_type": "stream",
     "text": [
      "\r",
      " 19%|███████▉                                  | 19/100 [03:25<14:26, 10.69s/it]"
     ]
    },
    {
     "name": "stdout",
     "output_type": "stream",
     "text": [
      "Removing: /data/exjobb/sarssw/sar/S1A_IW_GRDH_1SDV_20211020T045101_20211020T045126_040198_04C2E7_1985.zip\n"
     ]
    },
    {
     "name": "stderr",
     "output_type": "stream",
     "text": [
      "\r",
      " 20%|████████▍                                 | 20/100 [03:31<12:22,  9.28s/it]"
     ]
    },
    {
     "name": "stdout",
     "output_type": "stream",
     "text": [
      "Removing: /data/exjobb/sarssw/sar/S1B_EW_GRDM_1SDH_20211117T162012_20211117T162116_029630_038941_152E.zip\n"
     ]
    },
    {
     "name": "stderr",
     "output_type": "stream",
     "text": [
      "\r",
      " 21%|████████▊                                 | 21/100 [03:44<13:45, 10.45s/it]"
     ]
    },
    {
     "name": "stdout",
     "output_type": "stream",
     "text": [
      "Removing: /data/exjobb/sarssw/sar/S1A_IW_GRDH_1SDV_20210926T045100_20210926T045125_039848_04B6BE_ABAF.zip\n"
     ]
    },
    {
     "name": "stderr",
     "output_type": "stream",
     "text": [
      "\r",
      " 22%|█████████▏                                | 22/100 [03:56<14:18, 11.00s/it]"
     ]
    },
    {
     "name": "stdout",
     "output_type": "stream",
     "text": [
      "Removing: /data/exjobb/sarssw/sar/S1B_IW_GRDH_1SDV_20211024T162056_20211024T162121_029280_037E86_1B42.zip\n"
     ]
    },
    {
     "name": "stderr",
     "output_type": "stream",
     "text": [
      "\r",
      " 23%|█████████▋                                | 23/100 [04:10<15:05, 11.76s/it]"
     ]
    },
    {
     "name": "stdout",
     "output_type": "stream",
     "text": [
      "Removing: /data/exjobb/sarssw/sar/S1B_IW_GRDH_1SDV_20210930T162056_20210930T162121_028930_0373B6_CD23.zip\n"
     ]
    },
    {
     "name": "stderr",
     "output_type": "stream",
     "text": [
      "\r",
      " 24%|██████████                                | 24/100 [04:22<15:10, 11.98s/it]"
     ]
    },
    {
     "name": "stdout",
     "output_type": "stream",
     "text": [
      "Removing: /data/exjobb/sarssw/sar/S1A_IW_GRDH_1SDV_20210910T230546_20210910T230611_039626_04AF44_DF6F.zip\n"
     ]
    },
    {
     "name": "stderr",
     "output_type": "stream",
     "text": [
      "\r",
      " 25%|██████████▌                               | 25/100 [04:33<14:42, 11.77s/it]"
     ]
    },
    {
     "name": "stdout",
     "output_type": "stream",
     "text": [
      "Removing: /data/exjobb/sarssw/sar/S1A_IW_GRDH_1SDV_20210919T045912_20210919T045937_039746_04B359_E411.zip\n"
     ]
    },
    {
     "name": "stderr",
     "output_type": "stream",
     "text": [
      "\r",
      " 26%|██████████▉                               | 26/100 [04:37<11:21,  9.21s/it]"
     ]
    },
    {
     "name": "stdout",
     "output_type": "stream",
     "text": [
      "Removing: /data/exjobb/sarssw/sar/S1B_EW_GRDM_1SDH_20211206T161144_20211206T161249_029907_0391F7_72E9.zip\n"
     ]
    },
    {
     "name": "stderr",
     "output_type": "stream",
     "text": [
      "\r",
      " 27%|███████████▎                              | 27/100 [04:48<11:59,  9.85s/it]"
     ]
    },
    {
     "name": "stdout",
     "output_type": "stream",
     "text": [
      "Removing: /data/exjobb/sarssw/sar/S1A_IW_GRDH_1SDV_20211025T161305_20211025T161330_040278_04C5C4_9556.zip\n"
     ]
    },
    {
     "name": "stderr",
     "output_type": "stream",
     "text": [
      "\r",
      " 28%|███████████▊                              | 28/100 [04:51<09:24,  7.83s/it]"
     ]
    },
    {
     "name": "stdout",
     "output_type": "stream",
     "text": [
      "Removing: /data/exjobb/sarssw/sar/S1B_EW_GRDM_1SDH_20211124T045735_20211124T045835_029725_038C3E_7AE6.zip\n"
     ]
    },
    {
     "name": "stderr",
     "output_type": "stream",
     "text": [
      "\r",
      " 29%|████████████▏                             | 29/100 [05:02<10:16,  8.69s/it]"
     ]
    },
    {
     "name": "stdout",
     "output_type": "stream",
     "text": [
      "Removing: /data/exjobb/sarssw/sar/S1A_IW_GRDH_1SDV_20211013T045912_20211013T045937_040096_04BF71_BF7E.zip\n"
     ]
    },
    {
     "name": "stderr",
     "output_type": "stream",
     "text": [
      "\r",
      " 30%|████████████▌                             | 30/100 [05:13<11:00,  9.43s/it]"
     ]
    },
    {
     "name": "stdout",
     "output_type": "stream",
     "text": [
      "Removing: /data/exjobb/sarssw/sar/S1B_IW_GRDH_1SDV_20211107T045005_20211107T045030_029477_038489_D701.zip\n"
     ]
    },
    {
     "name": "stderr",
     "output_type": "stream",
     "text": [
      "\r",
      " 31%|█████████████                             | 31/100 [05:23<11:11,  9.74s/it]"
     ]
    },
    {
     "name": "stdout",
     "output_type": "stream",
     "text": [
      "Removing: /data/exjobb/sarssw/sar/S1A_IW_GRDH_1SDV_20211006T162115_20211006T162140_040001_04BC24_8402.zip\n"
     ]
    },
    {
     "name": "stderr",
     "output_type": "stream",
     "text": [
      "\r",
      " 32%|█████████████▍                            | 32/100 [05:27<09:02,  7.97s/it]"
     ]
    },
    {
     "name": "stdout",
     "output_type": "stream",
     "text": [
      "Removing: /data/exjobb/sarssw/sar/S1B_EW_GRDM_1SDH_20211129T050547_20211129T050647_029798_038E81_22EA.zip\n"
     ]
    },
    {
     "name": "stderr",
     "output_type": "stream",
     "text": [
      "\r",
      " 33%|█████████████▊                            | 33/100 [05:43<11:19, 10.15s/it]"
     ]
    },
    {
     "name": "stdout",
     "output_type": "stream",
     "text": [
      "Removing: /data/exjobb/sarssw/sar/S1A_IW_GRDH_1SDV_20211212T045911_20211212T045936_040971_04DDD1_D253.zip\n"
     ]
    },
    {
     "name": "stderr",
     "output_type": "stream",
     "text": [
      "\r",
      " 34%|██████████████▎                           | 34/100 [05:57<12:28, 11.34s/it]"
     ]
    },
    {
     "name": "stdout",
     "output_type": "stream",
     "text": [
      "Removing: /data/exjobb/sarssw/sar/S1A_IW_GRDH_1SDV_20211106T161305_20211106T161330_040453_04CBE1_1860.zip\n"
     ]
    },
    {
     "name": "stderr",
     "output_type": "stream",
     "text": [
      "\r",
      " 35%|██████████████▋                           | 35/100 [06:03<10:31,  9.72s/it]"
     ]
    },
    {
     "name": "stdout",
     "output_type": "stream",
     "text": [
      "Removing: /data/exjobb/sarssw/sar/S1B_EW_GRDM_1SDH_20211201T160348_20211201T160453_029834_038FB3_DBD1.zip\n"
     ]
    },
    {
     "name": "stderr",
     "output_type": "stream",
     "text": [
      "\r",
      " 36%|███████████████                           | 36/100 [06:20<12:42, 11.91s/it]"
     ]
    },
    {
     "name": "stdout",
     "output_type": "stream",
     "text": [
      "Removing: /data/exjobb/sarssw/sar/S1A_IW_GRDH_1SDV_20211219T045059_20211219T045124_041073_04E11E_246F.zip\n"
     ]
    },
    {
     "name": "stderr",
     "output_type": "stream",
     "text": [
      "\r",
      " 37%|███████████████▌                          | 37/100 [06:31<12:22, 11.79s/it]"
     ]
    },
    {
     "name": "stdout",
     "output_type": "stream",
     "text": [
      "Removing: /data/exjobb/sarssw/sar/S1A_IW_GRDH_1SDV_20211106T045912_20211106T045937_040446_04CBA3_3E26.zip\n"
     ]
    },
    {
     "name": "stderr",
     "output_type": "stream",
     "text": [
      "\r",
      " 38%|███████████████▉                          | 38/100 [06:35<09:46,  9.46s/it]"
     ]
    },
    {
     "name": "stdout",
     "output_type": "stream",
     "text": [
      "Removing: /data/exjobb/sarssw/sar/S1B_EW_GRDM_1SDH_20211129T162011_20211129T162116_029805_038EC3_FA50.zip\n"
     ]
    },
    {
     "name": "stderr",
     "output_type": "stream",
     "text": [
      "\r",
      " 39%|████████████████▍                         | 39/100 [06:49<10:55, 10.74s/it]"
     ]
    },
    {
     "name": "stdout",
     "output_type": "stream",
     "text": [
      "Removing: /data/exjobb/sarssw/sar/S1A_IW_GRDH_1SDV_20211217T162113_20211217T162138_041051_04E07D_1F99.zip\n"
     ]
    },
    {
     "name": "stderr",
     "output_type": "stream",
     "text": [
      "\r",
      " 40%|████████████████▊                         | 40/100 [07:01<11:00, 11.02s/it]"
     ]
    },
    {
     "name": "stdout",
     "output_type": "stream",
     "text": [
      "Removing: /data/exjobb/sarssw/sar/S1A_IW_GRDH_1SDV_20210113T230538_20210113T230603_036126_043C40_8020.zip\n"
     ]
    },
    {
     "name": "stderr",
     "output_type": "stream",
     "text": [
      "\r",
      " 41%|█████████████████▏                        | 41/100 [07:15<11:50, 12.04s/it]"
     ]
    },
    {
     "name": "stdout",
     "output_type": "stream",
     "text": [
      "Removing: /data/exjobb/sarssw/sar/S1B_IW_GRDH_1SDV_20211112T161246_20211112T161311_029557_038705_F7C7.zip\n"
     ]
    },
    {
     "name": "stderr",
     "output_type": "stream",
     "text": [
      "\r",
      " 42%|█████████████████▋                        | 42/100 [07:28<11:53, 12.30s/it]"
     ]
    },
    {
     "name": "stdout",
     "output_type": "stream",
     "text": [
      "Removing: /data/exjobb/sarssw/sar/S1A_IW_GRDH_1SDV_20211215T230545_20211215T230610_041026_04DFA1_AE49.zip\n"
     ]
    },
    {
     "name": "stderr",
     "output_type": "stream",
     "text": [
      "\r",
      " 43%|██████████████████                        | 43/100 [07:41<12:00, 12.64s/it]"
     ]
    },
    {
     "name": "stdout",
     "output_type": "stream",
     "text": [
      "Removing: /data/exjobb/sarssw/sar/S1A_IW_GRDH_1SDV_20211008T045101_20211008T045126_040023_04BCCC_8D96.zip\n"
     ]
    },
    {
     "name": "stderr",
     "output_type": "stream",
     "text": [
      "\r",
      " 44%|██████████████████▍                       | 44/100 [07:55<11:57, 12.82s/it]"
     ]
    },
    {
     "name": "stdout",
     "output_type": "stream",
     "text": [
      "Removing: /data/exjobb/sarssw/sar/S1A_IW_GRDH_1SDV_20210829T230545_20210829T230610_039451_04A92E_8C98.zip\n"
     ]
    },
    {
     "name": "stderr",
     "output_type": "stream",
     "text": [
      "\r",
      " 45%|██████████████████▉                       | 45/100 [08:07<11:41, 12.76s/it]"
     ]
    },
    {
     "name": "stdout",
     "output_type": "stream",
     "text": [
      "Removing: /data/exjobb/sarssw/sar/S1A_IW_GRDH_1SDV_20211001T045912_20211001T045937_039921_04B95F_51A8.zip\n"
     ]
    },
    {
     "name": "stderr",
     "output_type": "stream",
     "text": [
      "\r",
      " 46%|███████████████████▎                      | 46/100 [08:23<12:14, 13.60s/it]"
     ]
    },
    {
     "name": "stdout",
     "output_type": "stream",
     "text": [
      "Removing: /data/exjobb/sarssw/sar/S1A_IW_GRDH_1SDV_20211224T161303_20211224T161328_041153_04E3D0_3FF1.zip\n"
     ]
    },
    {
     "name": "stderr",
     "output_type": "stream",
     "text": [
      "\r",
      " 47%|███████████████████▋                      | 47/100 [08:36<11:58, 13.56s/it]"
     ]
    },
    {
     "name": "stdout",
     "output_type": "stream",
     "text": [
      "Removing: /data/exjobb/sarssw/sar/S1B_IW_GRDH_1SDV_20211014T045005_20211014T045030_029127_0379C5_C751.zip\n"
     ]
    },
    {
     "name": "stderr",
     "output_type": "stream",
     "text": [
      "\r",
      " 48%|████████████████████▏                     | 48/100 [08:49<11:30, 13.29s/it]"
     ]
    },
    {
     "name": "stdout",
     "output_type": "stream",
     "text": [
      "Removing: /data/exjobb/sarssw/sar/S1A_IW_GRDH_1SDV_20210125T230538_20210125T230603_036301_04424B_142F.zip\n"
     ]
    },
    {
     "name": "stderr",
     "output_type": "stream",
     "text": [
      "\r",
      " 49%|████████████████████▌                     | 49/100 [08:52<08:48, 10.37s/it]"
     ]
    },
    {
     "name": "stdout",
     "output_type": "stream",
     "text": [
      "Removing: /data/exjobb/sarssw/sar/S1B_EW_GRDM_1SDH_20211119T044924_20211119T045024_029652_0389ED_29DB.zip\n"
     ]
    },
    {
     "name": "stderr",
     "output_type": "stream",
     "text": [
      "\r",
      " 50%|█████████████████████                     | 50/100 [09:07<09:40, 11.61s/it]"
     ]
    },
    {
     "name": "stdout",
     "output_type": "stream",
     "text": [
      "Removing: /data/exjobb/sarssw/sar/S1B_IW_GRDH_1SDV_20210918T162056_20210918T162121_028755_036E7C_2B1B.zip\n"
     ]
    },
    {
     "name": "stderr",
     "output_type": "stream",
     "text": [
      "\r",
      " 51%|█████████████████████▍                    | 51/100 [09:21<10:01, 12.28s/it]"
     ]
    },
    {
     "name": "stdout",
     "output_type": "stream",
     "text": [
      "Removing: /data/exjobb/sarssw/sar/S1A_IW_GRDH_1SDV_20211101T045101_20211101T045126_040373_04C8F4_44B5.zip\n"
     ]
    },
    {
     "name": "stderr",
     "output_type": "stream",
     "text": [
      "\r",
      " 52%|█████████████████████▊                    | 52/100 [09:33<09:53, 12.36s/it]"
     ]
    },
    {
     "name": "stdout",
     "output_type": "stream",
     "text": [
      "Removing: /data/exjobb/sarssw/sar/S1A_IW_GRDH_1SDV_20210712T230543_20210712T230608_038751_049299_7DDA.zip\n"
     ]
    },
    {
     "name": "stderr",
     "output_type": "stream",
     "text": [
      "\r",
      " 53%|██████████████████████▎                   | 53/100 [09:48<10:16, 13.11s/it]"
     ]
    },
    {
     "name": "stdout",
     "output_type": "stream",
     "text": [
      "Removing: /data/exjobb/sarssw/sar/S1A_IW_GRDH_1SDV_20211013T161305_20211013T161330_040103_04BFAF_2603.zip\n"
     ]
    },
    {
     "name": "stderr",
     "output_type": "stream",
     "text": [
      "\r",
      " 54%|██████████████████████▋                   | 54/100 [09:52<07:52, 10.28s/it]"
     ]
    },
    {
     "name": "stdout",
     "output_type": "stream",
     "text": [
      "Removing: /data/exjobb/sarssw/sar/S1B_EW_GRDM_1SDH_20211213T160348_20211213T160452_030009_03952D_8AB6.zip\n"
     ]
    },
    {
     "name": "stderr",
     "output_type": "stream",
     "text": [
      "\r",
      " 55%|███████████████████████                   | 55/100 [09:57<06:27,  8.62s/it]"
     ]
    },
    {
     "name": "stdout",
     "output_type": "stream",
     "text": [
      "Removing: /data/exjobb/sarssw/sar/S1B_EW_GRDM_1SDH_20211218T045734_20211218T045834_030075_03974B_EEDD.zip\n"
     ]
    },
    {
     "name": "stderr",
     "output_type": "stream",
     "text": [
      "\r",
      " 56%|███████████████████████▌                  | 56/100 [10:10<07:26, 10.15s/it]"
     ]
    },
    {
     "name": "stdout",
     "output_type": "stream",
     "text": [
      "Removing: /data/exjobb/sarssw/sar/S1B_IW_GRDH_1SDV_20211007T045817_20211007T045842_029025_0376A3_E185.zip\n"
     ]
    },
    {
     "name": "stderr",
     "output_type": "stream",
     "text": [
      "\r",
      " 57%|███████████████████████▉                  | 57/100 [10:23<07:44, 10.81s/it]"
     ]
    },
    {
     "name": "stdout",
     "output_type": "stream",
     "text": [
      "Removing: /data/exjobb/sarssw/sar/S1A_IW_GRDH_1SDV_20210501T230538_20210501T230603_037701_0472DA_1887.zip\n"
     ]
    },
    {
     "name": "stderr",
     "output_type": "stream",
     "text": [
      "\r",
      " 58%|████████████████████████▎                 | 58/100 [10:26<05:58,  8.55s/it]"
     ]
    },
    {
     "name": "stdout",
     "output_type": "stream",
     "text": [
      "Removing: /data/exjobb/sarssw/sar/S1B_EW_GRDM_1SDH_20211206T045735_20211206T045835_029900_0391BF_7B9A.zip\n"
     ]
    },
    {
     "name": "stderr",
     "output_type": "stream",
     "text": [
      "\r",
      " 59%|████████████████████████▊                 | 59/100 [10:41<07:09, 10.47s/it]"
     ]
    },
    {
     "name": "stdout",
     "output_type": "stream",
     "text": [
      "Removing: /data/exjobb/sarssw/sar/S1A_IW_GRDH_1SDV_20211130T161304_20211130T161329_040803_04D7FE_67B0.zip\n"
     ]
    },
    {
     "name": "stderr",
     "output_type": "stream",
     "text": [
      "\r",
      " 60%|█████████████████████████▏                | 60/100 [10:55<07:43, 11.58s/it]"
     ]
    },
    {
     "name": "stdout",
     "output_type": "stream",
     "text": [
      "Removing: /data/exjobb/sarssw/sar/S1B_IW_GRDH_1SDV_20210913T161245_20210913T161310_028682_036C46_5EEB.zip\n"
     ]
    },
    {
     "name": "stderr",
     "output_type": "stream",
     "text": [
      "\r",
      " 61%|█████████████████████████▌                | 61/100 [11:10<08:14, 12.67s/it]"
     ]
    },
    {
     "name": "stdout",
     "output_type": "stream",
     "text": [
      "Removing: /data/exjobb/sarssw/sar/S1B_IW_GRDH_1SDV_20211019T161246_20211019T161311_029207_037C4F_506F.zip\n"
     ]
    },
    {
     "name": "stderr",
     "output_type": "stream",
     "text": [
      "\r",
      " 62%|██████████████████████████                | 62/100 [11:23<08:01, 12.67s/it]"
     ]
    },
    {
     "name": "stdout",
     "output_type": "stream",
     "text": [
      "Removing: /data/exjobb/sarssw/sar/S1A_IW_GRDH_1SDV_20210525T230540_20210525T230605_038051_047DAA_5AA5.zip\n"
     ]
    },
    {
     "name": "stderr",
     "output_type": "stream",
     "text": [
      "\r",
      " 63%|██████████████████████████▍               | 63/100 [11:36<07:55, 12.84s/it]"
     ]
    },
    {
     "name": "stdout",
     "output_type": "stream",
     "text": [
      "Removing: /data/exjobb/sarssw/sar/S1A_IW_GRDH_1SDV_20211113T045100_20211113T045125_040548_04CF12_AE44.zip\n"
     ]
    },
    {
     "name": "stderr",
     "output_type": "stream",
     "text": [
      "\r",
      " 64%|██████████████████████████▉               | 64/100 [11:49<07:46, 12.95s/it]"
     ]
    },
    {
     "name": "stdout",
     "output_type": "stream",
     "text": [
      "Removing: /data/exjobb/sarssw/sar/S1A_IW_GRDH_1SDV_20211205T162113_20211205T162138_040876_04DA8C_5604.zip\n"
     ]
    },
    {
     "name": "stderr",
     "output_type": "stream",
     "text": [
      "\r",
      " 65%|███████████████████████████▎              | 65/100 [11:54<06:01, 10.33s/it]"
     ]
    },
    {
     "name": "stdout",
     "output_type": "stream",
     "text": [
      "Removing: /data/exjobb/sarssw/sar/S1B_EW_GRDM_1SDH_20211211T162011_20211211T162115_029980_039445_22AD.zip\n"
     ]
    },
    {
     "name": "stderr",
     "output_type": "stream",
     "text": [
      "\r",
      " 66%|███████████████████████████▋              | 66/100 [12:07<06:27, 11.40s/it]"
     ]
    },
    {
     "name": "stdout",
     "output_type": "stream",
     "text": [
      "Removing: /data/exjobb/sarssw/sar/S1A_IW_GRDH_1SDV_20211207T045059_20211207T045124_040898_04DB35_AE1E.zip\n"
     ]
    },
    {
     "name": "stderr",
     "output_type": "stream",
     "text": [
      "\r",
      " 67%|████████████████████████████▏             | 67/100 [12:20<06:29, 11.81s/it]"
     ]
    },
    {
     "name": "stdout",
     "output_type": "stream",
     "text": [
      "Removing: /data/exjobb/sarssw/sar/S1B_IW_GRDH_1SDV_20210925T045816_20210925T045841_028850_037161_DD27.zip\n"
     ]
    },
    {
     "name": "stderr",
     "output_type": "stream",
     "text": [
      "\r",
      " 68%|████████████████████████████▌             | 68/100 [12:35<06:50, 12.82s/it]"
     ]
    },
    {
     "name": "stdout",
     "output_type": "stream",
     "text": [
      "Removing: /data/exjobb/sarssw/sar/S1B_IW_GRDH_1SDV_20211112T045816_20211112T045841_029550_0386CE_9CFF.zip\n"
     ]
    },
    {
     "name": "stderr",
     "output_type": "stream",
     "text": [
      "\r",
      " 69%|████████████████████████████▉             | 69/100 [12:50<06:58, 13.48s/it]"
     ]
    },
    {
     "name": "stdout",
     "output_type": "stream",
     "text": [
      "Removing: /data/exjobb/sarssw/sar/S1B_IW_GRDH_1SDV_20210925T161246_20210925T161311_028857_03719B_9D25.zip\n"
     ]
    },
    {
     "name": "stderr",
     "output_type": "stream",
     "text": [
      "\r",
      " 70%|█████████████████████████████▍            | 70/100 [13:04<06:42, 13.40s/it]"
     ]
    },
    {
     "name": "stdout",
     "output_type": "stream",
     "text": [
      "Removing: /data/exjobb/sarssw/sar/S1A_IW_GRDH_1SDV_20210419T230538_20210419T230603_037526_046CC6_6806.zip\n"
     ]
    },
    {
     "name": "stderr",
     "output_type": "stream",
     "text": [
      "\r",
      " 71%|█████████████████████████████▊            | 71/100 [13:16<06:22, 13.20s/it]"
     ]
    },
    {
     "name": "stdout",
     "output_type": "stream",
     "text": [
      "Removing: /data/exjobb/sarssw/sar/S1A_IW_GRDH_1SDV_20210218T230537_20210218T230602_036651_044E73_8EA0.zip\n"
     ]
    },
    {
     "name": "stderr",
     "output_type": "stream",
     "text": [
      "\r",
      " 72%|██████████████████████████████▏           | 72/100 [13:31<06:23, 13.70s/it]"
     ]
    },
    {
     "name": "stdout",
     "output_type": "stream",
     "text": [
      "Removing: /data/exjobb/sarssw/sar/S1B_IW_GRDH_1SDV_20211031T045817_20211031T045842_029375_038173_2DBE.zip\n"
     ]
    },
    {
     "name": "stderr",
     "output_type": "stream",
     "text": [
      "\r",
      " 73%|██████████████████████████████▋           | 73/100 [13:35<04:48, 10.67s/it]"
     ]
    },
    {
     "name": "stdout",
     "output_type": "stream",
     "text": [
      "Removing: /data/exjobb/sarssw/sar/S1B_EW_GRDM_1SDH_20211117T050547_20211117T050647_029623_038901_0105.zip\n"
     ]
    },
    {
     "name": "stderr",
     "output_type": "stream",
     "text": [
      "\r",
      " 74%|███████████████████████████████           | 74/100 [13:48<04:55, 11.37s/it]"
     ]
    },
    {
     "name": "stdout",
     "output_type": "stream",
     "text": [
      "Removing: /data/exjobb/sarssw/sar/S1A_IW_GRDH_1SDV_20211109T230546_20211109T230611_040501_04CD85_4514.zip\n"
     ]
    },
    {
     "name": "stderr",
     "output_type": "stream",
     "text": [
      "\r",
      " 75%|███████████████████████████████▌          | 75/100 [14:02<05:02, 12.08s/it]"
     ]
    },
    {
     "name": "stdout",
     "output_type": "stream",
     "text": [
      "Removing: /data/exjobb/sarssw/sar/S1A_IW_GRDH_1SDV_20211123T162114_20211123T162139_040701_04D46F_1FEA.zip\n"
     ]
    },
    {
     "name": "stderr",
     "output_type": "stream",
     "text": [
      "\r",
      " 76%|███████████████████████████████▉          | 76/100 [14:17<05:10, 12.94s/it]"
     ]
    },
    {
     "name": "stdout",
     "output_type": "stream",
     "text": [
      "Removing: /data/exjobb/sarssw/sar/S1A_IW_GRDH_1SDV_20211025T045912_20211025T045937_040271_04C586_9D48.zip\n"
     ]
    },
    {
     "name": "stderr",
     "output_type": "stream",
     "text": [
      "\r",
      " 77%|████████████████████████████████▎         | 77/100 [14:32<05:16, 13.76s/it]"
     ]
    },
    {
     "name": "stdout",
     "output_type": "stream",
     "text": [
      "Removing: /data/exjobb/sarssw/sar/S1A_IW_GRDH_1SDV_20210302T230537_20210302T230602_036826_045482_41AF.zip\n"
     ]
    },
    {
     "name": "stderr",
     "output_type": "stream",
     "text": [
      "\r",
      " 78%|████████████████████████████████▊         | 78/100 [14:47<05:12, 14.19s/it]"
     ]
    },
    {
     "name": "stdout",
     "output_type": "stream",
     "text": [
      "Removing: /data/exjobb/sarssw/sar/S1A_IW_GRDH_1SDV_20210919T161305_20210919T161330_039753_04B395_F751.zip\n"
     ]
    },
    {
     "name": "stderr",
     "output_type": "stream",
     "text": [
      "\r",
      " 79%|█████████████████████████████████▏        | 79/100 [15:02<05:01, 14.37s/it]"
     ]
    },
    {
     "name": "stdout",
     "output_type": "stream",
     "text": [
      "Removing: /data/exjobb/sarssw/sar/S1A_IW_GRDH_1SDV_20210914T045100_20210914T045125_039673_04B0D9_0ED3.zip\n"
     ]
    },
    {
     "name": "stderr",
     "output_type": "stream",
     "text": [
      "\r",
      " 80%|█████████████████████████████████▌        | 80/100 [15:07<03:48, 11.44s/it]"
     ]
    },
    {
     "name": "stdout",
     "output_type": "stream",
     "text": [
      "Removing: /data/exjobb/sarssw/sar/S1B_EW_GRDM_1SDH_20211218T161144_20211218T161248_030082_039785_0FEF.zip\n"
     ]
    },
    {
     "name": "stderr",
     "output_type": "stream",
     "text": [
      "\r",
      " 81%|██████████████████████████████████        | 81/100 [15:20<03:48, 12.05s/it]"
     ]
    },
    {
     "name": "stdout",
     "output_type": "stream",
     "text": [
      "Removing: /data/exjobb/sarssw/sar/S1B_IW_GRDH_1SDV_20211031T161246_20211031T161311_029382_0381AA_FDFC.zip\n"
     ]
    },
    {
     "name": "stderr",
     "output_type": "stream",
     "text": [
      "\r",
      " 82%|██████████████████████████████████▍       | 82/100 [15:33<03:42, 12.38s/it]"
     ]
    },
    {
     "name": "stdout",
     "output_type": "stream",
     "text": [
      "Removing: /data/exjobb/sarssw/sar/S1A_IW_GRDH_1SDV_20210817T230545_20210817T230610_039276_04A33E_07FB.zip\n"
     ]
    },
    {
     "name": "stderr",
     "output_type": "stream",
     "text": [
      "\r",
      " 83%|██████████████████████████████████▊       | 83/100 [15:46<03:33, 12.54s/it]"
     ]
    },
    {
     "name": "stdout",
     "output_type": "stream",
     "text": [
      "Removing: /data/exjobb/sarssw/sar/S1A_IW_GRDH_1SDV_20210606T230541_20210606T230606_038226_0482DE_1C20.zip\n"
     ]
    },
    {
     "name": "stderr",
     "output_type": "stream",
     "text": [
      "\r",
      " 84%|███████████████████████████████████▎      | 84/100 [16:01<03:28, 13.04s/it]"
     ]
    },
    {
     "name": "stdout",
     "output_type": "stream",
     "text": [
      "Removing: /data/exjobb/sarssw/sar/S1A_IW_GRDH_1SDV_20211212T161304_20211212T161329_040978_04DE0E_BFDE.zip\n"
     ]
    },
    {
     "name": "stderr",
     "output_type": "stream",
     "text": [
      "\r",
      " 85%|███████████████████████████████████▋      | 85/100 [16:14<03:18, 13.27s/it]"
     ]
    },
    {
     "name": "stdout",
     "output_type": "stream",
     "text": [
      "Removing: /data/exjobb/sarssw/sar/S1A_IW_GRDH_1SDV_20211130T045912_20211130T045936_040796_04D7C1_BDA2.zip\n"
     ]
    },
    {
     "name": "stderr",
     "output_type": "stream",
     "text": [
      "\r",
      " 86%|████████████████████████████████████      | 86/100 [16:29<03:09, 13.57s/it]"
     ]
    },
    {
     "name": "stdout",
     "output_type": "stream",
     "text": [
      "Removing: /data/exjobb/sarssw/sar/S1B_IW_GRDH_1SDV_20211012T162056_20211012T162121_029105_037918_A802.zip\n"
     ]
    },
    {
     "name": "stderr",
     "output_type": "stream",
     "text": [
      "\r",
      " 87%|████████████████████████████████████▌     | 87/100 [16:44<03:04, 14.22s/it]"
     ]
    },
    {
     "name": "stdout",
     "output_type": "stream",
     "text": [
      "Removing: /data/exjobb/sarssw/sar/S1A_IW_GRDH_1SDV_20211118T161305_20211118T161330_040628_04D1E5_9F70.zip\n"
     ]
    },
    {
     "name": "stderr",
     "output_type": "stream",
     "text": [
      "\r",
      " 88%|████████████████████████████████████▉     | 88/100 [17:00<02:55, 14.64s/it]"
     ]
    },
    {
     "name": "stdout",
     "output_type": "stream",
     "text": [
      "Removing: /data/exjobb/sarssw/sar/S1B_IW_GRDH_1SDV_20211105T162056_20211105T162121_029455_0383E1_A6B1.zip\n"
     ]
    },
    {
     "name": "stderr",
     "output_type": "stream",
     "text": [
      "\r",
      " 89%|█████████████████████████████████████▍    | 89/100 [17:14<02:38, 14.39s/it]"
     ]
    },
    {
     "name": "stdout",
     "output_type": "stream",
     "text": [
      "Removing: /data/exjobb/sarssw/sar/S1B_IW_GRDH_1SDV_20210913T045816_20210913T045841_028675_036C0D_F61B.zip\n"
     ]
    },
    {
     "name": "stderr",
     "output_type": "stream",
     "text": [
      "\r",
      " 90%|█████████████████████████████████████▊    | 90/100 [17:29<02:27, 14.75s/it]"
     ]
    },
    {
     "name": "stdout",
     "output_type": "stream",
     "text": [
      "Removing: /data/exjobb/sarssw/sar/S1B_IW_GRDH_1SDV_20210920T045005_20210920T045030_028777_036F28_38F0.zip\n"
     ]
    },
    {
     "name": "stderr",
     "output_type": "stream",
     "text": [
      "\r",
      " 91%|██████████████████████████████████████▏   | 91/100 [17:42<02:07, 14.22s/it]"
     ]
    },
    {
     "name": "stdout",
     "output_type": "stream",
     "text": [
      "Removing: /data/exjobb/sarssw/sar/S1A_IW_GRDH_1SDV_20211203T230546_20211203T230611_040851_04D9A5_8B1C.zip\n"
     ]
    },
    {
     "name": "stderr",
     "output_type": "stream",
     "text": [
      "\r",
      " 92%|██████████████████████████████████████▋   | 92/100 [17:46<01:28, 11.07s/it]"
     ]
    },
    {
     "name": "stdout",
     "output_type": "stream",
     "text": [
      "Removing: /data/exjobb/sarssw/sar/S1B_EW_GRDM_1SDH_20211223T050545_20211223T050645_030148_039992_FE7F.zip\n"
     ]
    },
    {
     "name": "stderr",
     "output_type": "stream",
     "text": [
      "\r",
      " 93%|███████████████████████████████████████   | 93/100 [17:51<01:04,  9.25s/it]"
     ]
    },
    {
     "name": "stdout",
     "output_type": "stream",
     "text": [
      "Removing: /data/exjobb/sarssw/sar/S1B_EW_GRDM_1SDH_20211213T044923_20211213T045023_030002_0394F2_1949.zip\n"
     ]
    },
    {
     "name": "stderr",
     "output_type": "stream",
     "text": [
      "\r",
      " 94%|███████████████████████████████████████▍  | 94/100 [17:55<00:46,  7.73s/it]"
     ]
    },
    {
     "name": "stdout",
     "output_type": "stream",
     "text": [
      "Removing: /data/exjobb/sarssw/sar/S1B_EW_GRDM_1SDH_20211204T051358_20211204T051458_029871_0390DA_280B.zip\n"
     ]
    },
    {
     "name": "stderr",
     "output_type": "stream",
     "text": [
      "\r",
      " 95%|███████████████████████████████████████▉  | 95/100 [17:59<00:32,  6.59s/it]"
     ]
    },
    {
     "name": "stdout",
     "output_type": "stream",
     "text": [
      "Removing: /data/exjobb/sarssw/sar/S1B_EW_GRDM_1SDH_20211122T051358_20211122T051458_029696_038B5B_6059.zip\n"
     ]
    },
    {
     "name": "stderr",
     "output_type": "stream",
     "text": [
      "\r",
      " 96%|████████████████████████████████████████▎ | 96/100 [18:12<00:34,  8.61s/it]"
     ]
    },
    {
     "name": "stdout",
     "output_type": "stream",
     "text": [
      "Removing: /data/exjobb/sarssw/sar/S1B_IW_GRDH_1SDV_20211019T045817_20211019T045842_029200_037C18_D08C.zip\n"
     ]
    },
    {
     "name": "stderr",
     "output_type": "stream",
     "text": [
      "\r",
      " 97%|████████████████████████████████████████▋ | 97/100 [18:16<00:21,  7.21s/it]"
     ]
    },
    {
     "name": "stdout",
     "output_type": "stream",
     "text": [
      "Removing: /data/exjobb/sarssw/sar/S1B_EW_GRDM_1SDH_20211201T044924_20211201T045024_029827_038F77_E992.zip\n"
     ]
    },
    {
     "name": "stderr",
     "output_type": "stream",
     "text": [
      "\r",
      " 98%|█████████████████████████████████████████▏| 98/100 [18:31<00:18,  9.36s/it]"
     ]
    },
    {
     "name": "stdout",
     "output_type": "stream",
     "text": [
      "Removing: /data/exjobb/sarssw/sar/S1A_IW_GRDH_1SDV_20211118T045912_20211118T045937_040621_04D1A9_9271.zip\n"
     ]
    },
    {
     "name": "stderr",
     "output_type": "stream",
     "text": [
      "\r",
      " 99%|█████████████████████████████████████████▌| 99/100 [18:34<00:07,  7.57s/it]"
     ]
    },
    {
     "name": "stdout",
     "output_type": "stream",
     "text": [
      "Removing: /data/exjobb/sarssw/sar/S1B_EW_GRDM_1SDH_20211216T051357_20211216T051457_030046_039663_58B6.zip\n"
     ]
    },
    {
     "name": "stderr",
     "output_type": "stream",
     "text": [
      "100%|█████████████████████████████████████████| 100/100 [18:41<00:00, 11.21s/it]"
     ]
    },
    {
     "name": "stdout",
     "output_type": "stream",
     "text": [
      "Removing: /data/exjobb/sarssw/sar/S1B_EW_GRDM_1SDH_20211124T161145_20211124T161249_029732_038C78_3FB9.zip\n"
     ]
    },
    {
     "name": "stderr",
     "output_type": "stream",
     "text": [
      "\n"
     ]
    }
   ],
   "source": [
    "# Unzip\n",
    "for file_name in tqdm(os.listdir(download_dir)):\n",
    "     if file_name.endswith('.zip'):\n",
    "        full_name = download_dir + file_name\n",
    "            \n",
    "        with ZipFile(full_name) as zf:\n",
    "            zf.extractall(download_dir)\n",
    "        \n",
    "        print('Removing:', full_name)\n",
    "        os.remove(full_name)"
   ]
  }
 ],
 "metadata": {
  "kernelspec": {
   "display_name": "Python 3 (ipykernel)",
   "language": "python",
   "name": "python3"
  },
  "language_info": {
   "codemirror_mode": {
    "name": "ipython",
    "version": 3
   },
   "file_extension": ".py",
   "mimetype": "text/x-python",
   "name": "python",
   "nbconvert_exporter": "python",
   "pygments_lexer": "ipython3",
   "version": "3.10.9"
  }
 },
 "nbformat": 4,
 "nbformat_minor": 5
}
